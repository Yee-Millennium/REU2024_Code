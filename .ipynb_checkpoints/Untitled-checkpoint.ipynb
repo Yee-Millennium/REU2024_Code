{
 "cells": [
  {
   "cell_type": "code",
   "execution_count": 1,
   "id": "1453d92c-a331-4b99-9565-fd9d5beabea8",
   "metadata": {},
   "outputs": [],
   "source": [
    "import helper"
   ]
  },
  {
   "cell_type": "code",
   "execution_count": 6,
   "id": "35987ca4-bf83-4f0c-8fc5-e33d78978eea",
   "metadata": {},
   "outputs": [
    {
     "name": "stdout",
     "output_type": "stream",
     "text": [
      "num of subgraphs induced on k-paths: 500\n",
      "num of subgraphs induced on k-paths: 500\n",
      "X_list: (225, 1000)\n",
      "2\n",
      "(1, 500)\n",
      "(1, 500)\n",
      "label_vec: (1, 1000)\n",
      "num of subgraphs induced on k-paths: 500\n",
      "num of subgraphs induced on k-paths: 821\n",
      "X_list: (225, 1321)\n",
      "2\n",
      "(1, 500)\n",
      "(1, 821)\n",
      "label_vec: (1, 1321)\n",
      "initial loading beta [[-0.13696072 -0.30300472  0.5418138  -0.61671521  0.29850875  0.95070772\n",
      "   0.91173367  0.04558074 -0.65837838 -0.06350352  0.39787677  0.25461636\n",
      "  -0.82663976  0.12759593 -0.32110683 -0.97722796  0.96278426]]\n"
     ]
    },
    {
     "name": "stderr",
     "output_type": "stream",
     "text": [
      "  0%|                                                                                                                                  | 0/250 [00:00<?, ?it/s]"
     ]
    },
    {
     "name": "stdout",
     "output_type": "stream",
     "text": [
      "--- Training --- [threshold, AUC] =  [np.float64(0.685), np.float64(0.964)]\n",
      "--- Iteration 0: Training loss --- [Data, Label, Total] = [29094.330263.3, 342.776980.3, 145814.428293.3]\n"
     ]
    },
    {
     "name": "stderr",
     "output_type": "stream",
     "text": [
      "  2%|█▉                                                                                                                        | 4/250 [00:00<00:06, 35.79it/s]"
     ]
    },
    {
     "name": "stdout",
     "output_type": "stream",
     "text": [
      "--- Training --- [threshold, AUC] =  [np.float64(0.633), np.float64(0.969)]\n",
      "--- Iteration 10: Training loss --- [Data, Label, Total] = [17302.022183.3, 310.023354.3, 86820.134267.3]\n",
      "!!! pred_type filter\n"
     ]
    },
    {
     "name": "stderr",
     "output_type": "stream",
     "text": [
      "  8%|█████████▋                                                                                                               | 20/250 [00:00<00:08, 26.08it/s]"
     ]
    },
    {
     "name": "stdout",
     "output_type": "stream",
     "text": [
      "--- Validation --- [threshold, AUC, Accuracy, F score] =  [np.float64(0.633), np.float64(0.969), np.float64(0.916), np.float64(0.932)]\n",
      "--- Training --- [threshold, AUC] =  [np.float64(0.645), np.float64(0.971)]\n",
      "--- Iteration 20: Training loss --- [Data, Label, Total] = [15431.992237.3, 303.481535.3, 77463.442720.3]\n",
      "!!! pred_type filter\n"
     ]
    },
    {
     "name": "stderr",
     "output_type": "stream",
     "text": [
      " 10%|████████████▌                                                                                                            | 26/250 [00:01<00:12, 18.04it/s]"
     ]
    },
    {
     "name": "stdout",
     "output_type": "stream",
     "text": [
      "--- Validation --- [threshold, AUC, Accuracy, F score] =  [np.float64(0.645), np.float64(0.971), np.float64(0.92), np.float64(0.935)]\n",
      "--- Training --- [threshold, AUC] =  [np.float64(0.705), np.float64(0.972)]\n",
      "--- Iteration 30: Training loss --- [Data, Label, Total] = [14513.296163.3, 301.188429.3, 72867.669246.3]\n",
      "!!! pred_type filter\n"
     ]
    },
    {
     "name": "stderr",
     "output_type": "stream",
     "text": [
      " 12%|███████████████                                                                                                          | 31/250 [00:01<00:14, 14.91it/s]"
     ]
    },
    {
     "name": "stdout",
     "output_type": "stream",
     "text": [
      "--- Validation --- [threshold, AUC, Accuracy, F score] =  [np.float64(0.705), np.float64(0.972), np.float64(0.912), np.float64(0.927)]\n",
      "--- Training --- [threshold, AUC] =  [np.float64(0.715), np.float64(0.972)]\n",
      "--- Iteration 40: Training loss --- [Data, Label, Total] = [13901.921234.3, 300.481906.3, 69810.088076.3]\n",
      "!!! pred_type filter\n"
     ]
    },
    {
     "name": "stderr",
     "output_type": "stream",
     "text": [
      " 16%|███████████████████▊                                                                                                     | 41/250 [00:02<00:12, 17.01it/s]"
     ]
    },
    {
     "name": "stdout",
     "output_type": "stream",
     "text": [
      "--- Validation --- [threshold, AUC, Accuracy, F score] =  [np.float64(0.715), np.float64(0.972), np.float64(0.912), np.float64(0.927)]\n",
      "--- Training --- [threshold, AUC] =  [np.float64(0.689), np.float64(0.972)]\n",
      "--- Iteration 50: Training loss --- [Data, Label, Total] = [13474.122648.3, 299.907973.3, 67670.521213.3]\n",
      "!!! pred_type filter\n"
     ]
    },
    {
     "name": "stderr",
     "output_type": "stream",
     "text": [
      " 20%|████████████████████████▋                                                                                                | 51/250 [00:02<00:10, 18.90it/s]"
     ]
    },
    {
     "name": "stdout",
     "output_type": "stream",
     "text": [
      "--- Validation --- [threshold, AUC, Accuracy, F score] =  [np.float64(0.689), np.float64(0.972), np.float64(0.916), np.float64(0.931)]\n",
      "--- Training --- [threshold, AUC] =  [np.float64(0.687), np.float64(0.972)]\n",
      "--- Iteration 60: Training loss --- [Data, Label, Total] = [13160.455215.3, 300.515883.3, 66102.791957.3]\n",
      "!!! pred_type filter\n"
     ]
    },
    {
     "name": "stderr",
     "output_type": "stream",
     "text": [
      " 24%|█████████████████████████████▌                                                                                           | 61/250 [00:03<00:09, 20.31it/s]"
     ]
    },
    {
     "name": "stdout",
     "output_type": "stream",
     "text": [
      "--- Validation --- [threshold, AUC, Accuracy, F score] =  [np.float64(0.687), np.float64(0.972), np.float64(0.917), np.float64(0.932)]\n",
      "--- Training --- [threshold, AUC] =  [np.float64(0.683), np.float64(0.972)]\n",
      "--- Iteration 70: Training loss --- [Data, Label, Total] = [12946.668007.3, 301.538138.3, 65034.878171.3]\n",
      "!!! pred_type filter\n"
     ]
    },
    {
     "name": "stderr",
     "output_type": "stream",
     "text": [
      " 28%|██████████████████████████████████▎                                                                                      | 71/250 [00:03<00:08, 21.40it/s]"
     ]
    },
    {
     "name": "stdout",
     "output_type": "stream",
     "text": [
      "--- Validation --- [threshold, AUC, Accuracy, F score] =  [np.float64(0.683), np.float64(0.972), np.float64(0.917), np.float64(0.931)]\n",
      "--- Training --- [threshold, AUC] =  [np.float64(0.674), np.float64(0.972)]\n",
      "--- Iteration 80: Training loss --- [Data, Label, Total] = [12798.966521.3, 302.239091.3, 64297.071695.3]\n",
      "!!! pred_type filter\n"
     ]
    },
    {
     "name": "stderr",
     "output_type": "stream",
     "text": [
      " 35%|██████████████████████████████████████████                                                                               | 87/250 [00:04<00:06, 24.97it/s]"
     ]
    },
    {
     "name": "stdout",
     "output_type": "stream",
     "text": [
      "--- Validation --- [threshold, AUC, Accuracy, F score] =  [np.float64(0.674), np.float64(0.972), np.float64(0.917), np.float64(0.932)]\n",
      "--- Training --- [threshold, AUC] =  [np.float64(0.674), np.float64(0.972)]\n",
      "--- Iteration 90: Training loss --- [Data, Label, Total] = [12686.609338.3, 302.823077.3, 63735.869766.3]\n",
      "!!! pred_type filter\n"
     ]
    },
    {
     "name": "stderr",
     "output_type": "stream",
     "text": [
      " 36%|████████████████████████████████████████████                                                                             | 91/250 [00:04<00:08, 19.12it/s]"
     ]
    },
    {
     "name": "stdout",
     "output_type": "stream",
     "text": [
      "--- Validation --- [threshold, AUC, Accuracy, F score] =  [np.float64(0.674), np.float64(0.972), np.float64(0.917), np.float64(0.932)]\n",
      "--- Training --- [threshold, AUC] =  [np.float64(0.677), np.float64(0.972)]\n",
      "--- Iteration 100: Training loss --- [Data, Label, Total] = [12594.403338.3, 303.061835.3, 63275.078523.3]\n",
      "!!! pred_type filter\n"
     ]
    },
    {
     "name": "stderr",
     "output_type": "stream",
     "text": [
      " 44%|████████████████████████████████████████████████████▊                                                                   | 110/250 [00:05<00:05, 27.25it/s]"
     ]
    },
    {
     "name": "stdout",
     "output_type": "stream",
     "text": [
      "--- Validation --- [threshold, AUC, Accuracy, F score] =  [np.float64(0.677), np.float64(0.972), np.float64(0.917), np.float64(0.932)]\n",
      "--- Training --- [threshold, AUC] =  [np.float64(0.675), np.float64(0.972)]\n",
      "--- Iteration 110: Training loss --- [Data, Label, Total] = [12517.176039.3, 302.748689.3, 62888.628884.3]\n",
      "!!! pred_type filter\n"
     ]
    },
    {
     "name": "stderr",
     "output_type": "stream",
     "text": [
      " 46%|███████████████████████████████████████████████████████▏                                                                | 115/250 [00:05<00:06, 22.13it/s]"
     ]
    },
    {
     "name": "stdout",
     "output_type": "stream",
     "text": [
      "--- Validation --- [threshold, AUC, Accuracy, F score] =  [np.float64(0.675), np.float64(0.972), np.float64(0.919), np.float64(0.934)]\n",
      "--- Training --- [threshold, AUC] =  [np.float64(0.677), np.float64(0.973)]\n",
      "--- Iteration 120: Training loss --- [Data, Label, Total] = [12455.489218.3, 302.381908.3, 62579.827999.3]\n",
      "!!! pred_type filter\n"
     ]
    },
    {
     "name": "stderr",
     "output_type": "stream",
     "text": [
      " 52%|█████████████████████████████████████████████████████████████▉                                                          | 129/250 [00:06<00:04, 26.42it/s]"
     ]
    },
    {
     "name": "stdout",
     "output_type": "stream",
     "text": [
      "--- Validation --- [threshold, AUC, Accuracy, F score] =  [np.float64(0.677), np.float64(0.973), np.float64(0.919), np.float64(0.934)]\n",
      "--- Training --- [threshold, AUC] =  [np.float64(0.683), np.float64(0.973)]\n",
      "--- Iteration 130: Training loss --- [Data, Label, Total] = [12409.561287.3, 301.733648.3, 62349.540083.3]\n",
      "!!! pred_type filter\n"
     ]
    },
    {
     "name": "stderr",
     "output_type": "stream",
     "text": [
      " 54%|████████████████████████████████████████████████████████████████▎                                                       | 134/250 [00:06<00:05, 21.07it/s]"
     ]
    },
    {
     "name": "stdout",
     "output_type": "stream",
     "text": [
      "--- Validation --- [threshold, AUC, Accuracy, F score] =  [np.float64(0.683), np.float64(0.973), np.float64(0.917), np.float64(0.932)]\n",
      "--- Training --- [threshold, AUC] =  [np.float64(0.69), np.float64(0.973)]\n",
      "--- Iteration 140: Training loss --- [Data, Label, Total] = [12377.260366.3, 301.428588.3, 62187.730421.3]\n",
      "!!! pred_type filter\n"
     ]
    },
    {
     "name": "stderr",
     "output_type": "stream",
     "text": [
      " 60%|████████████████████████████████████████████████████████████████████████                                                | 150/250 [00:06<00:03, 27.41it/s]"
     ]
    },
    {
     "name": "stdout",
     "output_type": "stream",
     "text": [
      "--- Validation --- [threshold, AUC, Accuracy, F score] =  [np.float64(0.69), np.float64(0.973), np.float64(0.917), np.float64(0.932)]\n",
      "--- Training --- [threshold, AUC] =  [np.float64(0.688), np.float64(0.973)]\n",
      "--- Iteration 150: Training loss --- [Data, Label, Total] = [12354.659024.3, 301.139560.3, 62074.434681.3]\n",
      "!!! pred_type filter\n"
     ]
    },
    {
     "name": "stderr",
     "output_type": "stream",
     "text": [
      " 62%|██████████████████████████████████████████████████████████████████████████▍                                             | 155/250 [00:07<00:04, 21.54it/s]"
     ]
    },
    {
     "name": "stdout",
     "output_type": "stream",
     "text": [
      "--- Validation --- [threshold, AUC, Accuracy, F score] =  [np.float64(0.688), np.float64(0.973), np.float64(0.917), np.float64(0.931)]\n",
      "--- Training --- [threshold, AUC] =  [np.float64(0.694), np.float64(0.973)]\n",
      "--- Iteration 160: Training loss --- [Data, Label, Total] = [12338.616953.3, 300.942045.3, 61994.026810.3]\n",
      "!!! pred_type filter\n"
     ]
    },
    {
     "name": "stderr",
     "output_type": "stream",
     "text": [
      " 68%|█████████████████████████████████████████████████████████████████████████████████▌                                      | 170/250 [00:07<00:03, 26.63it/s]"
     ]
    },
    {
     "name": "stdout",
     "output_type": "stream",
     "text": [
      "--- Validation --- [threshold, AUC, Accuracy, F score] =  [np.float64(0.694), np.float64(0.973), np.float64(0.916), np.float64(0.931)]\n",
      "--- Training --- [threshold, AUC] =  [np.float64(0.693), np.float64(0.973)]\n",
      "--- Iteration 170: Training loss --- [Data, Label, Total] = [12327.162820.3, 300.710352.3, 61936.524451.3]\n",
      "!!! pred_type filter\n"
     ]
    },
    {
     "name": "stderr",
     "output_type": "stream",
     "text": [
      " 70%|████████████████████████████████████████████████████████████████████████████████████                                    | 175/250 [00:08<00:04, 17.60it/s]"
     ]
    },
    {
     "name": "stdout",
     "output_type": "stream",
     "text": [
      "--- Validation --- [threshold, AUC, Accuracy, F score] =  [np.float64(0.693), np.float64(0.973), np.float64(0.916), np.float64(0.931)]\n",
      "--- Training --- [threshold, AUC] =  [np.float64(0.695), np.float64(0.973)]\n",
      "--- Iteration 180: Training loss --- [Data, Label, Total] = [12318.696637.3, 300.570586.3, 61894.053771.3]\n",
      "!!! pred_type filter\n"
     ]
    },
    {
     "name": "stderr",
     "output_type": "stream",
     "text": [
      " 76%|██████████████████████████████████████████████████████████████████████████████████████████▋                             | 189/250 [00:09<00:02, 22.59it/s]"
     ]
    },
    {
     "name": "stdout",
     "output_type": "stream",
     "text": [
      "--- Validation --- [threshold, AUC, Accuracy, F score] =  [np.float64(0.695), np.float64(0.973), np.float64(0.915), np.float64(0.93)]\n",
      "--- Training --- [threshold, AUC] =  [np.float64(0.683), np.float64(0.973)]\n",
      "--- Iteration 190: Training loss --- [Data, Label, Total] = [12312.308059.3, 300.326934.3, 61861.867231.3]\n",
      "!!! pred_type filter\n"
     ]
    },
    {
     "name": "stderr",
     "output_type": "stream",
     "text": [
      " 79%|███████████████████████████████████████████████████████████████████████████████████████████████                         | 198/250 [00:09<00:02, 19.26it/s]"
     ]
    },
    {
     "name": "stdout",
     "output_type": "stream",
     "text": [
      "--- Validation --- [threshold, AUC, Accuracy, F score] =  [np.float64(0.683), np.float64(0.973), np.float64(0.916), np.float64(0.931)]\n",
      "--- Training --- [threshold, AUC] =  [np.float64(0.684), np.float64(0.973)]\n",
      "--- Iteration 200: Training loss --- [Data, Label, Total] = [12307.438250.3, 299.943023.3, 61837.134275.3]\n",
      "!!! pred_type filter\n"
     ]
    },
    {
     "name": "stderr",
     "output_type": "stream",
     "text": [
      " 81%|████████████████████████████████████████████████████████████████████████████████████████████████▉                       | 202/250 [00:10<00:03, 15.51it/s]"
     ]
    },
    {
     "name": "stdout",
     "output_type": "stream",
     "text": [
      "--- Validation --- [threshold, AUC, Accuracy, F score] =  [np.float64(0.684), np.float64(0.973), np.float64(0.916), np.float64(0.931)]\n",
      "--- Training --- [threshold, AUC] =  [np.float64(0.683), np.float64(0.973)]\n",
      "--- Iteration 210: Training loss --- [Data, Label, Total] = [12303.616888.3, 299.882988.3, 61817.967430.3]\n",
      "!!! pred_type filter\n"
     ]
    },
    {
     "name": "stderr",
     "output_type": "stream",
     "text": [
      " 88%|█████████████████████████████████████████████████████████████████████████████████████████████████████████▌              | 220/250 [00:10<00:01, 24.78it/s]"
     ]
    },
    {
     "name": "stdout",
     "output_type": "stream",
     "text": [
      "--- Validation --- [threshold, AUC, Accuracy, F score] =  [np.float64(0.683), np.float64(0.973), np.float64(0.916), np.float64(0.931)]\n",
      "--- Training --- [threshold, AUC] =  [np.float64(0.685), np.float64(0.973)]\n",
      "--- Iteration 220: Training loss --- [Data, Label, Total] = [12300.529251.3, 299.492491.3, 61802.138746.3]\n",
      "!!! pred_type filter\n"
     ]
    },
    {
     "name": "stderr",
     "output_type": "stream",
     "text": [
      " 90%|████████████████████████████████████████████████████████████████████████████████████████████████████████████            | 225/250 [00:11<00:01, 20.14it/s]"
     ]
    },
    {
     "name": "stdout",
     "output_type": "stream",
     "text": [
      "--- Validation --- [threshold, AUC, Accuracy, F score] =  [np.float64(0.685), np.float64(0.973), np.float64(0.916), np.float64(0.931)]\n",
      "--- Training --- [threshold, AUC] =  [np.float64(0.685), np.float64(0.973)]\n",
      "--- Iteration 230: Training loss --- [Data, Label, Total] = [12297.981347.3, 299.236500.3, 61789.143234.3]\n",
      "!!! pred_type filter\n"
     ]
    },
    {
     "name": "stderr",
     "output_type": "stream",
     "text": [
      " 96%|███████████████████████████████████████████████████████████████████████████████████████████████████████████████████▏    | 240/250 [00:11<00:00, 25.42it/s]"
     ]
    },
    {
     "name": "stdout",
     "output_type": "stream",
     "text": [
      "--- Validation --- [threshold, AUC, Accuracy, F score] =  [np.float64(0.685), np.float64(0.973), np.float64(0.916), np.float64(0.931)]\n",
      "--- Training --- [threshold, AUC] =  [np.float64(0.683), np.float64(0.973)]\n",
      "--- Iteration 240: Training loss --- [Data, Label, Total] = [12295.841250.3, 298.997917.3, 61778.204167.3]\n",
      "!!! pred_type filter\n"
     ]
    },
    {
     "name": "stderr",
     "output_type": "stream",
     "text": [
      "100%|████████████████████████████████████████████████████████████████████████████████████████████████████████████████████████| 250/250 [00:12<00:00, 20.79it/s]"
     ]
    },
    {
     "name": "stdout",
     "output_type": "stream",
     "text": [
      "--- Validation --- [threshold, AUC, Accuracy, F score] =  [np.float64(0.683), np.float64(0.973), np.float64(0.916), np.float64(0.931)]\n",
      "!!! pred_type filter\n"
     ]
    },
    {
     "name": "stderr",
     "output_type": "stream",
     "text": [
      "\n"
     ]
    },
    {
     "name": "stdout",
     "output_type": "stream",
     "text": [
      "num of subgraphs induced on k-paths: 500\n",
      "num of subgraphs induced on k-paths: 500\n",
      "X_list: (225, 1000)\n",
      "2\n",
      "(1, 500)\n",
      "(1, 500)\n",
      "label_vec: (1, 1000)\n",
      "('Caltech36', 'UCLA26') predicting Caltech36 0.182593973808839\n",
      "\n",
      "15: 0.182593973808839\n",
      "\n",
      "num of subgraphs induced on k-paths: 500\n",
      "num of subgraphs induced on k-paths: 500\n",
      "X_list: (400, 1000)\n",
      "2\n",
      "(1, 500)\n",
      "(1, 500)\n",
      "label_vec: (1, 1000)\n",
      "num of subgraphs induced on k-paths: 500\n",
      "num of subgraphs induced on k-paths: 960\n",
      "X_list: (400, 1460)\n",
      "2\n",
      "(1, 500)\n",
      "(1, 960)\n",
      "label_vec: (1, 1460)\n",
      "initial loading beta [[ 0.32748337 -0.93698589 -0.63595753 -0.69750893 -0.17394064 -0.30017353\n",
      "  -0.02192871  0.68895503  0.73238956 -0.88914563  0.48987798 -0.66737827\n",
      "   0.40899474 -0.31337239  0.46012042 -0.24172188 -0.5789993 ]]\n"
     ]
    },
    {
     "name": "stderr",
     "output_type": "stream",
     "text": [
      "  0%|                                                                                                                                  | 0/250 [00:00<?, ?it/s]"
     ]
    },
    {
     "name": "stdout",
     "output_type": "stream",
     "text": [
      "--- Training --- [threshold, AUC] =  [np.float64(0.704), np.float64(0.985)]\n",
      "--- Iteration 0: Training loss --- [Data, Label, Total] = [53087.058525.3, 229.105982.3, 265664.398608.3]\n"
     ]
    },
    {
     "name": "stderr",
     "output_type": "stream",
     "text": [
      "  2%|██▍                                                                                                                       | 5/250 [00:00<00:05, 44.81it/s]"
     ]
    },
    {
     "name": "stdout",
     "output_type": "stream",
     "text": [
      "--- Training --- [threshold, AUC] =  [np.float64(0.637), np.float64(0.986)]\n",
      "--- Iteration 10: Training loss --- [Data, Label, Total] = [34336.796352.3, 217.061616.3, 171901.043377.3]\n",
      "!!! pred_type filter\n"
     ]
    },
    {
     "name": "stderr",
     "output_type": "stream",
     "text": [
      "  7%|████████▋                                                                                                                | 18/250 [00:00<00:10, 22.39it/s]"
     ]
    },
    {
     "name": "stdout",
     "output_type": "stream",
     "text": [
      "--- Validation --- [threshold, AUC, Accuracy, F score] =  [np.float64(0.637), np.float64(0.986), np.float64(0.958), np.float64(0.967)]\n",
      "--- Training --- [threshold, AUC] =  [np.float64(0.609), np.float64(0.987)]\n",
      "--- Iteration 20: Training loss --- [Data, Label, Total] = [32094.149193.3, 213.641829.3, 160684.387794.3]\n",
      "!!! pred_type filter\n"
     ]
    },
    {
     "name": "stderr",
     "output_type": "stream",
     "text": [
      " 12%|██████████████                                                                                                           | 29/250 [00:01<00:10, 20.25it/s]"
     ]
    },
    {
     "name": "stdout",
     "output_type": "stream",
     "text": [
      "--- Validation --- [threshold, AUC, Accuracy, F score] =  [np.float64(0.609), np.float64(0.987), np.float64(0.958), np.float64(0.968)]\n",
      "--- Training --- [threshold, AUC] =  [np.float64(0.685), np.float64(0.987)]\n",
      "--- Iteration 30: Training loss --- [Data, Label, Total] = [30982.252354.3, 212.607911.3, 155123.869681.3]\n",
      "!!! pred_type filter\n"
     ]
    },
    {
     "name": "stderr",
     "output_type": "stream",
     "text": [
      " 15%|██████████████████▍                                                                                                      | 38/250 [00:02<00:13, 15.56it/s]"
     ]
    },
    {
     "name": "stdout",
     "output_type": "stream",
     "text": [
      "--- Validation --- [threshold, AUC, Accuracy, F score] =  [np.float64(0.685), np.float64(0.987), np.float64(0.954), np.float64(0.965)]\n",
      "--- Training --- [threshold, AUC] =  [np.float64(0.663), np.float64(0.987)]\n",
      "--- Iteration 40: Training loss --- [Data, Label, Total] = [30184.420414.3, 212.373740.3, 151134.475809.3]\n",
      "!!! pred_type filter\n"
     ]
    },
    {
     "name": "stderr",
     "output_type": "stream",
     "text": [
      " 19%|███████████████████████▏                                                                                                 | 48/250 [00:02<00:11, 16.99it/s]"
     ]
    },
    {
     "name": "stdout",
     "output_type": "stream",
     "text": [
      "--- Validation --- [threshold, AUC, Accuracy, F score] =  [np.float64(0.663), np.float64(0.987), np.float64(0.956), np.float64(0.966)]\n",
      "--- Training --- [threshold, AUC] =  [np.float64(0.667), np.float64(0.987)]\n",
      "--- Iteration 50: Training loss --- [Data, Label, Total] = [29655.657321.3, 212.171255.3, 148490.457858.3]\n",
      "!!! pred_type filter\n"
     ]
    },
    {
     "name": "stderr",
     "output_type": "stream",
     "text": [
      " 23%|████████████████████████████                                                                                             | 58/250 [00:03<00:11, 17.33it/s]"
     ]
    },
    {
     "name": "stdout",
     "output_type": "stream",
     "text": [
      "--- Validation --- [threshold, AUC, Accuracy, F score] =  [np.float64(0.667), np.float64(0.987), np.float64(0.955), np.float64(0.966)]\n",
      "--- Training --- [threshold, AUC] =  [np.float64(0.625), np.float64(0.988)]\n",
      "--- Iteration 60: Training loss --- [Data, Label, Total] = [29283.726518.3, 212.243496.3, 146630.876087.3]\n",
      "!!! pred_type filter\n"
     ]
    },
    {
     "name": "stderr",
     "output_type": "stream",
     "text": [
      " 28%|█████████████████████████████████▍                                                                                       | 69/250 [00:04<00:09, 18.76it/s]"
     ]
    },
    {
     "name": "stdout",
     "output_type": "stream",
     "text": [
      "--- Validation --- [threshold, AUC, Accuracy, F score] =  [np.float64(0.625), np.float64(0.988), np.float64(0.957), np.float64(0.967)]\n",
      "--- Training --- [threshold, AUC] =  [np.float64(0.632), np.float64(0.988)]\n",
      "--- Iteration 70: Training loss --- [Data, Label, Total] = [29002.271788.3, 212.399125.3, 145223.758067.3]\n",
      "!!! pred_type filter\n"
     ]
    },
    {
     "name": "stderr",
     "output_type": "stream",
     "text": [
      " 32%|██████████████████████████████████████▏                                                                                  | 79/250 [00:04<00:08, 19.08it/s]"
     ]
    },
    {
     "name": "stdout",
     "output_type": "stream",
     "text": [
      "--- Validation --- [threshold, AUC, Accuracy, F score] =  [np.float64(0.632), np.float64(0.988), np.float64(0.957), np.float64(0.967)]\n",
      "--- Training --- [threshold, AUC] =  [np.float64(0.619), np.float64(0.988)]\n",
      "--- Iteration 80: Training loss --- [Data, Label, Total] = [28781.215617.3, 212.821887.3, 144118.899971.3]\n",
      "!!! pred_type filter\n"
     ]
    },
    {
     "name": "stderr",
     "output_type": "stream",
     "text": [
      " 36%|███████████████████████████████████████████▌                                                                             | 90/250 [00:05<00:07, 20.21it/s]"
     ]
    },
    {
     "name": "stdout",
     "output_type": "stream",
     "text": [
      "--- Validation --- [threshold, AUC, Accuracy, F score] =  [np.float64(0.619), np.float64(0.988), np.float64(0.958), np.float64(0.967)]\n",
      "--- Training --- [threshold, AUC] =  [np.float64(0.748), np.float64(0.988)]\n",
      "--- Iteration 90: Training loss --- [Data, Label, Total] = [28603.209232.3, 213.694071.3, 143229.740232.3]\n",
      "!!! pred_type filter\n"
     ]
    },
    {
     "name": "stderr",
     "output_type": "stream",
     "text": [
      " 40%|████████████████████████████████████████████████                                                                        | 100/250 [00:06<00:07, 20.05it/s]"
     ]
    },
    {
     "name": "stdout",
     "output_type": "stream",
     "text": [
      "--- Validation --- [threshold, AUC, Accuracy, F score] =  [np.float64(0.748), np.float64(0.988), np.float64(0.95), np.float64(0.961)]\n",
      "--- Training --- [threshold, AUC] =  [np.float64(0.742), np.float64(0.988)]\n",
      "--- Iteration 100: Training loss --- [Data, Label, Total] = [28460.923232.3, 214.236887.3, 142518.853047.3]\n",
      "!!! pred_type filter\n"
     ]
    },
    {
     "name": "stderr",
     "output_type": "stream",
     "text": [
      " 44%|████████████████████████████████████████████████████▊                                                                   | 110/250 [00:06<00:07, 19.79it/s]"
     ]
    },
    {
     "name": "stdout",
     "output_type": "stream",
     "text": [
      "--- Validation --- [threshold, AUC, Accuracy, F score] =  [np.float64(0.742), np.float64(0.988), np.float64(0.951), np.float64(0.962)]\n",
      "--- Training --- [threshold, AUC] =  [np.float64(0.656), np.float64(0.987)]\n",
      "--- Iteration 110: Training loss --- [Data, Label, Total] = [28349.243898.3, 214.905074.3, 141961.124563.3]\n",
      "!!! pred_type filter\n"
     ]
    },
    {
     "name": "stderr",
     "output_type": "stream",
     "text": [
      " 48%|█████████████████████████████████████████████████████████▌                                                              | 120/250 [00:07<00:06, 20.01it/s]"
     ]
    },
    {
     "name": "stdout",
     "output_type": "stream",
     "text": [
      "--- Validation --- [threshold, AUC, Accuracy, F score] =  [np.float64(0.656), np.float64(0.987), np.float64(0.955), np.float64(0.965)]\n",
      "--- Training --- [threshold, AUC] =  [np.float64(0.653), np.float64(0.987)]\n",
      "--- Iteration 120: Training loss --- [Data, Label, Total] = [28263.346841.3, 215.380605.3, 141532.114812.3]\n",
      "!!! pred_type filter\n"
     ]
    },
    {
     "name": "stderr",
     "output_type": "stream",
     "text": [
      " 52%|██████████████████████████████████████████████████████████████▍                                                         | 130/250 [00:07<00:06, 19.84it/s]"
     ]
    },
    {
     "name": "stdout",
     "output_type": "stream",
     "text": [
      "--- Validation --- [threshold, AUC, Accuracy, F score] =  [np.float64(0.653), np.float64(0.987), np.float64(0.955), np.float64(0.965)]\n",
      "--- Training --- [threshold, AUC] =  [np.float64(0.658), np.float64(0.987)]\n",
      "--- Iteration 130: Training loss --- [Data, Label, Total] = [28198.262019.3, 216.017164.3, 141207.327257.3]\n",
      "!!! pred_type filter\n"
     ]
    },
    {
     "name": "stderr",
     "output_type": "stream",
     "text": [
      " 56%|███████████████████████████████████████████████████████████████████▏                                                    | 140/250 [00:08<00:05, 19.26it/s]"
     ]
    },
    {
     "name": "stdout",
     "output_type": "stream",
     "text": [
      "--- Validation --- [threshold, AUC, Accuracy, F score] =  [np.float64(0.658), np.float64(0.987), np.float64(0.955), np.float64(0.965)]\n",
      "--- Training --- [threshold, AUC] =  [np.float64(0.658), np.float64(0.987)]\n",
      "--- Iteration 140: Training loss --- [Data, Label, Total] = [28148.469371.3, 216.220203.3, 140958.567061.3]\n",
      "!!! pred_type filter\n"
     ]
    },
    {
     "name": "stderr",
     "output_type": "stream",
     "text": [
      " 58%|█████████████████████████████████████████████████████████████████████                                                   | 144/250 [00:08<00:07, 14.62it/s]"
     ]
    },
    {
     "name": "stdout",
     "output_type": "stream",
     "text": [
      "--- Validation --- [threshold, AUC, Accuracy, F score] =  [np.float64(0.658), np.float64(0.987), np.float64(0.955), np.float64(0.965)]\n",
      "--- Training --- [threshold, AUC] =  [np.float64(0.713), np.float64(0.987)]\n",
      "--- Iteration 150: Training loss --- [Data, Label, Total] = [28110.430464.3, 216.422474.3, 140768.574792.3]\n",
      "!!! pred_type filter\n"
     ]
    },
    {
     "name": "stderr",
     "output_type": "stream",
     "text": [
      " 63%|███████████████████████████████████████████████████████████████████████████▎                                            | 157/250 [00:09<00:04, 18.78it/s]"
     ]
    },
    {
     "name": "stdout",
     "output_type": "stream",
     "text": [
      "--- Validation --- [threshold, AUC, Accuracy, F score] =  [np.float64(0.713), np.float64(0.987), np.float64(0.953), np.float64(0.963)]\n",
      "--- Training --- [threshold, AUC] =  [np.float64(0.748), np.float64(0.987)]\n",
      "--- Iteration 160: Training loss --- [Data, Label, Total] = [28081.008301.3, 216.563927.3, 140621.605432.3]\n",
      "!!! pred_type filter\n"
     ]
    },
    {
     "name": "stderr",
     "output_type": "stream",
     "text": [
      " 67%|████████████████████████████████████████████████████████████████████████████████▏                                       | 167/250 [00:10<00:04, 19.34it/s]"
     ]
    },
    {
     "name": "stdout",
     "output_type": "stream",
     "text": [
      "--- Validation --- [threshold, AUC, Accuracy, F score] =  [np.float64(0.748), np.float64(0.987), np.float64(0.949), np.float64(0.96)]\n",
      "--- Training --- [threshold, AUC] =  [np.float64(0.7), np.float64(0.987)]\n",
      "--- Iteration 170: Training loss --- [Data, Label, Total] = [28057.473103.3, 216.705011.3, 140504.070526.3]\n",
      "!!! pred_type filter\n"
     ]
    },
    {
     "name": "stderr",
     "output_type": "stream",
     "text": [
      " 71%|████████████████████████████████████████████████████████████████████████████████████▉                                   | 177/250 [00:10<00:03, 19.88it/s]"
     ]
    },
    {
     "name": "stdout",
     "output_type": "stream",
     "text": [
      "--- Validation --- [threshold, AUC, Accuracy, F score] =  [np.float64(0.7), np.float64(0.987), np.float64(0.953), np.float64(0.964)]\n",
      "--- Training --- [threshold, AUC] =  [np.float64(0.698), np.float64(0.987)]\n",
      "--- Iteration 180: Training loss --- [Data, Label, Total] = [28038.180630.3, 216.020525.3, 140406.923674.3]\n",
      "!!! pred_type filter\n"
     ]
    },
    {
     "name": "stderr",
     "output_type": "stream",
     "text": [
      " 75%|██████████████████████████████████████████████████████████████████████████████████████████▏                             | 188/250 [00:11<00:02, 20.96it/s]"
     ]
    },
    {
     "name": "stdout",
     "output_type": "stream",
     "text": [
      "--- Validation --- [threshold, AUC, Accuracy, F score] =  [np.float64(0.698), np.float64(0.987), np.float64(0.954), np.float64(0.965)]\n",
      "--- Training --- [threshold, AUC] =  [np.float64(0.695), np.float64(0.987)]\n",
      "--- Iteration 190: Training loss --- [Data, Label, Total] = [28022.184102.3, 215.637859.3, 140326.558371.3]\n",
      "!!! pred_type filter\n"
     ]
    },
    {
     "name": "stderr",
     "output_type": "stream",
     "text": [
      " 79%|███████████████████████████████████████████████████████████████████████████████████████████████                         | 198/250 [00:11<00:02, 20.58it/s]"
     ]
    },
    {
     "name": "stdout",
     "output_type": "stream",
     "text": [
      "--- Validation --- [threshold, AUC, Accuracy, F score] =  [np.float64(0.695), np.float64(0.987), np.float64(0.954), np.float64(0.965)]\n",
      "--- Training --- [threshold, AUC] =  [np.float64(0.683), np.float64(0.988)]\n",
      "--- Iteration 200: Training loss --- [Data, Label, Total] = [28008.784119.3, 215.287354.3, 140259.207948.3]\n",
      "!!! pred_type filter\n"
     ]
    },
    {
     "name": "stderr",
     "output_type": "stream",
     "text": [
      " 83%|███████████████████████████████████████████████████████████████████████████████████████████████████▎                    | 207/250 [00:12<00:02, 18.47it/s]"
     ]
    },
    {
     "name": "stdout",
     "output_type": "stream",
     "text": [
      "--- Validation --- [threshold, AUC, Accuracy, F score] =  [np.float64(0.683), np.float64(0.988), np.float64(0.955), np.float64(0.965)]\n",
      "--- Training --- [threshold, AUC] =  [np.float64(0.697), np.float64(0.988)]\n",
      "--- Iteration 210: Training loss --- [Data, Label, Total] = [27997.456988.3, 214.907522.3, 140202.192462.3]\n",
      "!!! pred_type filter\n"
     ]
    },
    {
     "name": "stderr",
     "output_type": "stream",
     "text": [
      " 87%|████████████████████████████████████████████████████████████████████████████████████████████████████████▏               | 217/250 [00:13<00:01, 18.92it/s]"
     ]
    },
    {
     "name": "stdout",
     "output_type": "stream",
     "text": [
      "--- Validation --- [threshold, AUC, Accuracy, F score] =  [np.float64(0.697), np.float64(0.988), np.float64(0.954), np.float64(0.965)]\n",
      "--- Training --- [threshold, AUC] =  [np.float64(0.697), np.float64(0.988)]\n",
      "--- Iteration 220: Training loss --- [Data, Label, Total] = [27987.789949.3, 214.457796.3, 140153.407539.3]\n",
      "!!! pred_type filter\n"
     ]
    },
    {
     "name": "stderr",
     "output_type": "stream",
     "text": [
      " 91%|█████████████████████████████████████████████████████████████████████████████████████████████████████████████▍          | 228/250 [00:13<00:01, 20.03it/s]"
     ]
    },
    {
     "name": "stdout",
     "output_type": "stream",
     "text": [
      "--- Validation --- [threshold, AUC, Accuracy, F score] =  [np.float64(0.697), np.float64(0.988), np.float64(0.954), np.float64(0.965)]\n",
      "--- Training --- [threshold, AUC] =  [np.float64(0.714), np.float64(0.988)]\n",
      "--- Iteration 230: Training loss --- [Data, Label, Total] = [27979.538174.3, 214.011939.3, 140111.702810.3]\n",
      "!!! pred_type filter\n"
     ]
    },
    {
     "name": "stderr",
     "output_type": "stream",
     "text": [
      " 96%|██████████████████████████████████████████████████████████████████████████████████████████████████████████████████▋     | 239/250 [00:14<00:00, 21.14it/s]"
     ]
    },
    {
     "name": "stdout",
     "output_type": "stream",
     "text": [
      "--- Validation --- [threshold, AUC, Accuracy, F score] =  [np.float64(0.714), np.float64(0.988), np.float64(0.953), np.float64(0.964)]\n",
      "--- Training --- [threshold, AUC] =  [np.float64(0.711), np.float64(0.988)]\n",
      "--- Iteration 240: Training loss --- [Data, Label, Total] = [27972.449600.3, 213.478435.3, 140075.726435.3]\n",
      "!!! pred_type filter\n"
     ]
    },
    {
     "name": "stderr",
     "output_type": "stream",
     "text": [
      "100%|████████████████████████████████████████████████████████████████████████████████████████████████████████████████████████| 250/250 [00:14<00:00, 16.76it/s]"
     ]
    },
    {
     "name": "stdout",
     "output_type": "stream",
     "text": [
      "--- Validation --- [threshold, AUC, Accuracy, F score] =  [np.float64(0.711), np.float64(0.988), np.float64(0.953), np.float64(0.964)]\n",
      "!!! pred_type filter\n"
     ]
    },
    {
     "name": "stderr",
     "output_type": "stream",
     "text": [
      "\n"
     ]
    },
    {
     "name": "stdout",
     "output_type": "stream",
     "text": [
      "num of subgraphs induced on k-paths: 500\n",
      "num of subgraphs induced on k-paths: 500\n",
      "X_list: (400, 1000)\n",
      "2\n",
      "(1, 500)\n",
      "(1, 500)\n",
      "label_vec: (1, 1000)\n",
      "('Caltech36', 'UCLA26') predicting Caltech36 0.13712829891546358\n",
      "\n",
      "15: 0.182593973808839\n",
      "20: 0.13712829891546358\n",
      "\n",
      "num of subgraphs induced on k-paths: 500\n",
      "num of subgraphs induced on k-paths: 500\n",
      "X_list: (625, 1000)\n",
      "2\n",
      "(1, 500)\n",
      "(1, 500)\n",
      "label_vec: (1, 1000)\n",
      "num of subgraphs induced on k-paths: 500\n",
      "num of subgraphs induced on k-paths: 1047\n",
      "X_list: (625, 1547)\n",
      "2\n",
      "(1, 500)\n",
      "(1, 1047)\n",
      "label_vec: (1, 1547)\n",
      "initial loading beta [[ 0.93627996 -0.94423542 -0.95027744 -0.43924543 -0.26128387  0.59454035\n",
      "   0.38217743 -0.6634374  -0.7955038  -0.87909751  0.33347008  0.9929358\n",
      "   0.11880756  0.2903934   0.96419801  0.86408995  0.09415523]]\n"
     ]
    },
    {
     "name": "stderr",
     "output_type": "stream",
     "text": [
      "  0%|                                                                                                                                  | 0/250 [00:00<?, ?it/s]"
     ]
    },
    {
     "name": "stdout",
     "output_type": "stream",
     "text": [
      "--- Training --- [threshold, AUC] =  [np.float64(0.716), np.float64(0.998)]\n",
      "--- Iteration 0: Training loss --- [Data, Label, Total] = [84649.667964.3, 110.886477.3, 423359.226295.3]\n"
     ]
    },
    {
     "name": "stderr",
     "output_type": "stream",
     "text": [
      "  3%|███▍                                                                                                                      | 7/250 [00:00<00:07, 30.76it/s]"
     ]
    },
    {
     "name": "stdout",
     "output_type": "stream",
     "text": [
      "--- Training --- [threshold, AUC] =  [np.float64(0.656), np.float64(0.998)]\n",
      "--- Iteration 10: Training loss --- [Data, Label, Total] = [55272.635954.3, 94.475531.3, 276457.655298.3]\n",
      "!!! pred_type filter\n"
     ]
    },
    {
     "name": "stderr",
     "output_type": "stream",
     "text": [
      "  6%|███████▎                                                                                                                 | 15/250 [00:01<00:17, 13.30it/s]"
     ]
    },
    {
     "name": "stdout",
     "output_type": "stream",
     "text": [
      "--- Validation --- [threshold, AUC, Accuracy, F score] =  [np.float64(0.656), np.float64(0.998), np.float64(0.979), np.float64(0.984)]\n"
     ]
    },
    {
     "name": "stderr",
     "output_type": "stream",
     "text": [
      "  8%|█████████▏                                                                                                               | 19/250 [00:01<00:13, 17.23it/s]"
     ]
    },
    {
     "name": "stdout",
     "output_type": "stream",
     "text": [
      "--- Training --- [threshold, AUC] =  [np.float64(0.623), np.float64(0.998)]\n",
      "--- Iteration 20: Training loss --- [Data, Label, Total] = [52626.871840.3, 89.718267.3, 263224.077466.3]\n",
      "!!! pred_type filter\n"
     ]
    },
    {
     "name": "stderr",
     "output_type": "stream",
     "text": [
      " 10%|████████████▌                                                                                                            | 26/250 [00:01<00:17, 12.87it/s]"
     ]
    },
    {
     "name": "stdout",
     "output_type": "stream",
     "text": [
      "--- Validation --- [threshold, AUC, Accuracy, F score] =  [np.float64(0.623), np.float64(0.998), np.float64(0.983), np.float64(0.987)]\n"
     ]
    },
    {
     "name": "stderr",
     "output_type": "stream",
     "text": [
      " 12%|██████████████▌                                                                                                          | 30/250 [00:02<00:13, 16.27it/s]"
     ]
    },
    {
     "name": "stdout",
     "output_type": "stream",
     "text": [
      "--- Training --- [threshold, AUC] =  [np.float64(0.697), np.float64(0.998)]\n",
      "--- Iteration 30: Training loss --- [Data, Label, Total] = [51109.296772.3, 88.853117.3, 255635.336975.3]\n",
      "!!! pred_type filter\n",
      "--- Validation --- [threshold, AUC, Accuracy, F score] =  [np.float64(0.697), np.float64(0.998), np.float64(0.981), np.float64(0.986)]\n"
     ]
    },
    {
     "name": "stderr",
     "output_type": "stream",
     "text": [
      " 15%|██████████████████▍                                                                                                      | 38/250 [00:03<00:21,  9.95it/s]"
     ]
    },
    {
     "name": "stdout",
     "output_type": "stream",
     "text": [
      "--- Training --- [threshold, AUC] =  [np.float64(0.702), np.float64(0.999)]\n",
      "--- Iteration 40: Training loss --- [Data, Label, Total] = [50236.493762.3, 89.003193.3, 251271.472002.3]\n",
      "!!! pred_type filter\n"
     ]
    },
    {
     "name": "stderr",
     "output_type": "stream",
     "text": [
      " 18%|█████████████████████▎                                                                                                   | 44/250 [00:04<00:24,  8.42it/s]"
     ]
    },
    {
     "name": "stdout",
     "output_type": "stream",
     "text": [
      "--- Validation --- [threshold, AUC, Accuracy, F score] =  [np.float64(0.702), np.float64(0.999), np.float64(0.981), np.float64(0.986)]\n"
     ]
    },
    {
     "name": "stderr",
     "output_type": "stream",
     "text": [
      " 20%|████████████████████████▏                                                                                                | 50/250 [00:04<00:16, 12.50it/s]"
     ]
    },
    {
     "name": "stdout",
     "output_type": "stream",
     "text": [
      "--- Training --- [threshold, AUC] =  [np.float64(0.725), np.float64(0.999)]\n",
      "--- Iteration 50: Training loss --- [Data, Label, Total] = [49650.378658.3, 89.272499.3, 248341.165787.3]\n",
      "!!! pred_type filter\n"
     ]
    },
    {
     "name": "stderr",
     "output_type": "stream",
     "text": [
      " 23%|███████████████████████████▌                                                                                             | 57/250 [00:05<00:16, 11.62it/s]"
     ]
    },
    {
     "name": "stdout",
     "output_type": "stream",
     "text": [
      "--- Validation --- [threshold, AUC, Accuracy, F score] =  [np.float64(0.725), np.float64(0.999), np.float64(0.98), np.float64(0.985)]\n"
     ]
    },
    {
     "name": "stderr",
     "output_type": "stream",
     "text": [
      " 24%|█████████████████████████████                                                                                            | 60/250 [00:05<00:13, 13.96it/s]"
     ]
    },
    {
     "name": "stdout",
     "output_type": "stream",
     "text": [
      "--- Training --- [threshold, AUC] =  [np.float64(0.667), np.float64(0.999)]\n",
      "--- Iteration 60: Training loss --- [Data, Label, Total] = [49238.088243.3, 90.058574.3, 246280.499790.3]\n",
      "!!! pred_type filter\n"
     ]
    },
    {
     "name": "stderr",
     "output_type": "stream",
     "text": [
      " 27%|████████████████████████████████▍                                                                                        | 67/250 [00:06<00:17, 10.26it/s]"
     ]
    },
    {
     "name": "stdout",
     "output_type": "stream",
     "text": [
      "--- Validation --- [threshold, AUC, Accuracy, F score] =  [np.float64(0.667), np.float64(0.999), np.float64(0.984), np.float64(0.988)]\n",
      "--- Training --- [threshold, AUC] =  [np.float64(0.685), np.float64(0.999)]\n",
      "--- Iteration 70: Training loss --- [Data, Label, Total] = [48940.452705.3, 90.610901.3, 244792.874427.3]\n",
      "!!! pred_type filter\n"
     ]
    },
    {
     "name": "stderr",
     "output_type": "stream",
     "text": [
      " 30%|████████████████████████████████████▎                                                                                    | 75/250 [00:07<00:15, 11.21it/s]"
     ]
    },
    {
     "name": "stdout",
     "output_type": "stream",
     "text": [
      "--- Validation --- [threshold, AUC, Accuracy, F score] =  [np.float64(0.685), np.float64(0.999), np.float64(0.983), np.float64(0.988)]\n"
     ]
    },
    {
     "name": "stderr",
     "output_type": "stream",
     "text": [
      " 32%|██████████████████████████████████████▋                                                                                  | 80/250 [00:07<00:16, 10.14it/s]"
     ]
    },
    {
     "name": "stdout",
     "output_type": "stream",
     "text": [
      "--- Training --- [threshold, AUC] =  [np.float64(0.687), np.float64(0.999)]\n",
      "--- Iteration 80: Training loss --- [Data, Label, Total] = [48720.847534.3, 91.148040.3, 243695.385709.3]\n",
      "!!! pred_type filter\n"
     ]
    },
    {
     "name": "stderr",
     "output_type": "stream",
     "text": [
      " 34%|█████████████████████████████████████████▏                                                                               | 85/250 [00:08<00:22,  7.26it/s]"
     ]
    },
    {
     "name": "stdout",
     "output_type": "stream",
     "text": [
      "--- Validation --- [threshold, AUC, Accuracy, F score] =  [np.float64(0.687), np.float64(0.999), np.float64(0.983), np.float64(0.988)]\n"
     ]
    },
    {
     "name": "stderr",
     "output_type": "stream",
     "text": [
      " 35%|██████████████████████████████████████████▌                                                                              | 88/250 [00:09<00:17,  9.49it/s]"
     ]
    },
    {
     "name": "stdout",
     "output_type": "stream",
     "text": [
      "--- Training --- [threshold, AUC] =  [np.float64(0.687), np.float64(0.999)]\n",
      "--- Iteration 90: Training loss --- [Data, Label, Total] = [48552.837858.3, 91.515759.3, 242855.705050.3]\n",
      "!!! pred_type filter\n"
     ]
    },
    {
     "name": "stderr",
     "output_type": "stream",
     "text": [
      " 38%|█████████████████████████████████████████████▍                                                                           | 94/250 [00:09<00:16,  9.19it/s]"
     ]
    },
    {
     "name": "stdout",
     "output_type": "stream",
     "text": [
      "--- Validation --- [threshold, AUC, Accuracy, F score] =  [np.float64(0.687), np.float64(0.999), np.float64(0.983), np.float64(0.987)]\n"
     ]
    },
    {
     "name": "stderr",
     "output_type": "stream",
     "text": [
      " 40%|████████████████████████████████████████████████                                                                        | 100/250 [00:09<00:10, 14.25it/s]"
     ]
    },
    {
     "name": "stdout",
     "output_type": "stream",
     "text": [
      "--- Training --- [threshold, AUC] =  [np.float64(0.669), np.float64(0.999)]\n",
      "--- Iteration 100: Training loss --- [Data, Label, Total] = [48419.384809.3, 91.712601.3, 242188.636647.3]\n",
      "!!! pred_type filter\n"
     ]
    },
    {
     "name": "stderr",
     "output_type": "stream",
     "text": [
      " 42%|██████████████████████████████████████████████████▉                                                                     | 106/250 [00:10<00:12, 11.40it/s]"
     ]
    },
    {
     "name": "stdout",
     "output_type": "stream",
     "text": [
      "--- Validation --- [threshold, AUC, Accuracy, F score] =  [np.float64(0.669), np.float64(0.999), np.float64(0.983), np.float64(0.988)]\n"
     ]
    },
    {
     "name": "stderr",
     "output_type": "stream",
     "text": [
      " 44%|████████████████████████████████████████████████████▎                                                                   | 109/250 [00:10<00:10, 13.66it/s]"
     ]
    },
    {
     "name": "stdout",
     "output_type": "stream",
     "text": [
      "--- Training --- [threshold, AUC] =  [np.float64(0.687), np.float64(0.999)]\n",
      "--- Iteration 110: Training loss --- [Data, Label, Total] = [48310.446897.3, 92.037389.3, 241644.271875.3]\n",
      "!!! pred_type filter\n"
     ]
    },
    {
     "name": "stderr",
     "output_type": "stream",
     "text": [
      " 46%|███████████████████████████████████████████████████████▏                                                                | 115/250 [00:11<00:13, 10.37it/s]"
     ]
    },
    {
     "name": "stdout",
     "output_type": "stream",
     "text": [
      "--- Validation --- [threshold, AUC, Accuracy, F score] =  [np.float64(0.687), np.float64(0.999), np.float64(0.983), np.float64(0.987)]\n"
     ]
    },
    {
     "name": "stderr",
     "output_type": "stream",
     "text": [
      " 47%|████████████████████████████████████████████████████████▋                                                               | 118/250 [00:11<00:11, 11.72it/s]"
     ]
    },
    {
     "name": "stdout",
     "output_type": "stream",
     "text": [
      "--- Training --- [threshold, AUC] =  [np.float64(0.722), np.float64(0.999)]\n",
      "--- Iteration 120: Training loss --- [Data, Label, Total] = [48219.587337.3, 92.186973.3, 241190.123658.3]\n",
      "!!! pred_type filter\n"
     ]
    },
    {
     "name": "stderr",
     "output_type": "stream",
     "text": [
      " 50%|███████████████████████████████████████████████████████████▌                                                            | 124/250 [00:12<00:12, 10.16it/s]"
     ]
    },
    {
     "name": "stdout",
     "output_type": "stream",
     "text": [
      "--- Validation --- [threshold, AUC, Accuracy, F score] =  [np.float64(0.722), np.float64(0.999), np.float64(0.981), np.float64(0.986)]\n"
     ]
    },
    {
     "name": "stderr",
     "output_type": "stream",
     "text": [
      " 52%|██████████████████████████████████████████████████████████████▍                                                         | 130/250 [00:12<00:08, 14.52it/s]"
     ]
    },
    {
     "name": "stdout",
     "output_type": "stream",
     "text": [
      "--- Training --- [threshold, AUC] =  [np.float64(0.733), np.float64(0.999)]\n",
      "--- Iteration 130: Training loss --- [Data, Label, Total] = [48143.650922.3, 92.370529.3, 240810.625141.3]\n",
      "!!! pred_type filter\n"
     ]
    },
    {
     "name": "stderr",
     "output_type": "stream",
     "text": [
      " 53%|███████████████████████████████████████████████████████████████▊                                                        | 133/250 [00:13<00:15,  7.56it/s]"
     ]
    },
    {
     "name": "stdout",
     "output_type": "stream",
     "text": [
      "--- Validation --- [threshold, AUC, Accuracy, F score] =  [np.float64(0.733), np.float64(0.999), np.float64(0.98), np.float64(0.985)]\n"
     ]
    },
    {
     "name": "stderr",
     "output_type": "stream",
     "text": [
      " 56%|██████████████████████████████████████████████████████████████████▋                                                     | 139/250 [00:13<00:09, 11.52it/s]"
     ]
    },
    {
     "name": "stdout",
     "output_type": "stream",
     "text": [
      "--- Training --- [threshold, AUC] =  [np.float64(0.73), np.float64(0.999)]\n",
      "--- Iteration 140: Training loss --- [Data, Label, Total] = [48080.834920.3, 92.523458.3, 240496.698056.3]\n",
      "!!! pred_type filter\n"
     ]
    },
    {
     "name": "stderr",
     "output_type": "stream",
     "text": [
      " 58%|█████████████████████████████████████████████████████████████████████                                                   | 144/250 [00:14<00:12,  8.38it/s]"
     ]
    },
    {
     "name": "stdout",
     "output_type": "stream",
     "text": [
      "--- Validation --- [threshold, AUC, Accuracy, F score] =  [np.float64(0.73), np.float64(0.999), np.float64(0.98), np.float64(0.985)]\n"
     ]
    },
    {
     "name": "stderr",
     "output_type": "stream",
     "text": [
      " 60%|████████████████████████████████████████████████████████████████████████                                                | 150/250 [00:15<00:07, 13.10it/s]"
     ]
    },
    {
     "name": "stdout",
     "output_type": "stream",
     "text": [
      "--- Training --- [threshold, AUC] =  [np.float64(0.725), np.float64(0.999)]\n",
      "--- Iteration 150: Training loss --- [Data, Label, Total] = [48029.190921.3, 92.776290.3, 240238.730893.3]\n",
      "!!! pred_type filter\n"
     ]
    },
    {
     "name": "stderr",
     "output_type": "stream",
     "text": [
      " 62%|██████████████████████████████████████████████████████████████████████████▉                                             | 156/250 [00:15<00:08, 11.03it/s]"
     ]
    },
    {
     "name": "stdout",
     "output_type": "stream",
     "text": [
      "--- Validation --- [threshold, AUC, Accuracy, F score] =  [np.float64(0.725), np.float64(0.999), np.float64(0.98), np.float64(0.985)]\n"
     ]
    },
    {
     "name": "stderr",
     "output_type": "stream",
     "text": [
      " 64%|████████████████████████████████████████████████████████████████████████████▊                                           | 160/250 [00:15<00:06, 13.51it/s]"
     ]
    },
    {
     "name": "stdout",
     "output_type": "stream",
     "text": [
      "--- Training --- [threshold, AUC] =  [np.float64(0.722), np.float64(0.999)]\n",
      "--- Iteration 160: Training loss --- [Data, Label, Total] = [47986.836421.3, 92.400146.3, 240026.582250.3]\n",
      "!!! pred_type filter\n"
     ]
    },
    {
     "name": "stderr",
     "output_type": "stream",
     "text": [
      " 66%|███████████████████████████████████████████████████████████████████████████████▋                                        | 166/250 [00:16<00:07, 11.08it/s]"
     ]
    },
    {
     "name": "stdout",
     "output_type": "stream",
     "text": [
      "--- Validation --- [threshold, AUC, Accuracy, F score] =  [np.float64(0.722), np.float64(0.999), np.float64(0.98), np.float64(0.985)]\n"
     ]
    },
    {
     "name": "stderr",
     "output_type": "stream",
     "text": [
      " 68%|█████████████████████████████████████████████████████████████████████████████████▌                                      | 170/250 [00:16<00:05, 14.90it/s]"
     ]
    },
    {
     "name": "stdout",
     "output_type": "stream",
     "text": [
      "--- Training --- [threshold, AUC] =  [np.float64(0.708), np.float64(0.999)]\n",
      "--- Iteration 170: Training loss --- [Data, Label, Total] = [47952.117865.3, 92.473669.3, 239853.062994.3]\n",
      "!!! pred_type filter\n"
     ]
    },
    {
     "name": "stderr",
     "output_type": "stream",
     "text": [
      " 70%|████████████████████████████████████████████████████████████████████████████████████▍                                   | 176/250 [00:17<00:06, 12.15it/s]"
     ]
    },
    {
     "name": "stdout",
     "output_type": "stream",
     "text": [
      "--- Validation --- [threshold, AUC, Accuracy, F score] =  [np.float64(0.708), np.float64(0.999), np.float64(0.981), np.float64(0.986)]\n"
     ]
    },
    {
     "name": "stderr",
     "output_type": "stream",
     "text": [
      " 72%|█████████████████████████████████████████████████████████████████████████████████████▉                                  | 179/250 [00:17<00:04, 14.29it/s]"
     ]
    },
    {
     "name": "stdout",
     "output_type": "stream",
     "text": [
      "--- Training --- [threshold, AUC] =  [np.float64(0.704), np.float64(0.999)]\n",
      "--- Iteration 180: Training loss --- [Data, Label, Total] = [47924.078197.3, 92.669494.3, 239713.060481.3]\n",
      "!!! pred_type filter\n"
     ]
    },
    {
     "name": "stderr",
     "output_type": "stream",
     "text": [
      " 74%|████████████████████████████████████████████████████████████████████████████████████████▊                               | 185/250 [00:18<00:05, 11.72it/s]"
     ]
    },
    {
     "name": "stdout",
     "output_type": "stream",
     "text": [
      "--- Validation --- [threshold, AUC, Accuracy, F score] =  [np.float64(0.704), np.float64(0.999), np.float64(0.981), np.float64(0.986)]\n"
     ]
    },
    {
     "name": "stderr",
     "output_type": "stream",
     "text": [
      " 75%|██████████████████████████████████████████████████████████████████████████████████████████▏                             | 188/250 [00:18<00:04, 14.15it/s]"
     ]
    },
    {
     "name": "stdout",
     "output_type": "stream",
     "text": [
      "--- Training --- [threshold, AUC] =  [np.float64(0.709), np.float64(0.999)]\n",
      "--- Iteration 190: Training loss --- [Data, Label, Total] = [47901.128751.3, 92.338424.3, 239597.982179.3]\n",
      "!!! pred_type filter\n"
     ]
    },
    {
     "name": "stderr",
     "output_type": "stream",
     "text": [
      " 78%|█████████████████████████████████████████████████████████████████████████████████████████████▌                          | 195/250 [00:19<00:04, 12.60it/s]"
     ]
    },
    {
     "name": "stdout",
     "output_type": "stream",
     "text": [
      "--- Validation --- [threshold, AUC, Accuracy, F score] =  [np.float64(0.709), np.float64(0.999), np.float64(0.981), np.float64(0.986)]\n"
     ]
    },
    {
     "name": "stderr",
     "output_type": "stream",
     "text": [
      " 80%|███████████████████████████████████████████████████████████████████████████████████████████████▌                        | 199/250 [00:19<00:03, 16.08it/s]"
     ]
    },
    {
     "name": "stdout",
     "output_type": "stream",
     "text": [
      "--- Training --- [threshold, AUC] =  [np.float64(0.707), np.float64(0.999)]\n",
      "--- Iteration 200: Training loss --- [Data, Label, Total] = [47881.889201.3, 92.376343.3, 239501.822348.3]\n",
      "!!! pred_type filter\n"
     ]
    },
    {
     "name": "stderr",
     "output_type": "stream",
     "text": [
      " 82%|██████████████████████████████████████████████████████████████████████████████████████████████████▍                     | 205/250 [00:20<00:03, 11.66it/s]"
     ]
    },
    {
     "name": "stdout",
     "output_type": "stream",
     "text": [
      "--- Validation --- [threshold, AUC, Accuracy, F score] =  [np.float64(0.707), np.float64(0.999), np.float64(0.981), np.float64(0.986)]\n"
     ]
    },
    {
     "name": "stderr",
     "output_type": "stream",
     "text": [
      " 83%|███████████████████████████████████████████████████████████████████████████████████████████████████▊                    | 208/250 [00:20<00:03, 13.83it/s]"
     ]
    },
    {
     "name": "stdout",
     "output_type": "stream",
     "text": [
      "--- Training --- [threshold, AUC] =  [np.float64(0.653), np.float64(0.999)]\n",
      "--- Iteration 210: Training loss --- [Data, Label, Total] = [47865.563874.3, 92.352708.3, 239420.172078.3]\n",
      "!!! pred_type filter\n"
     ]
    },
    {
     "name": "stderr",
     "output_type": "stream",
     "text": [
      " 85%|██████████████████████████████████████████████████████████████████████████████████████████████████████▏                 | 213/250 [00:20<00:03,  9.95it/s]"
     ]
    },
    {
     "name": "stdout",
     "output_type": "stream",
     "text": [
      "--- Validation --- [threshold, AUC, Accuracy, F score] =  [np.float64(0.653), np.float64(0.999), np.float64(0.983), np.float64(0.988)]\n"
     ]
    },
    {
     "name": "stderr",
     "output_type": "stream",
     "text": [
      " 88%|█████████████████████████████████████████████████████████████████████████████████████████████████████████▌              | 220/250 [00:21<00:03,  7.73it/s]"
     ]
    },
    {
     "name": "stdout",
     "output_type": "stream",
     "text": [
      "--- Training --- [threshold, AUC] =  [np.float64(0.657), np.float64(0.999)]\n",
      "--- Iteration 220: Training loss --- [Data, Label, Total] = [47851.358915.3, 92.254526.3, 239349.049102.3]\n",
      "!!! pred_type filter\n"
     ]
    },
    {
     "name": "stderr",
     "output_type": "stream",
     "text": [
      " 90%|████████████████████████████████████████████████████████████████████████████████████████████████████████████▍           | 226/250 [00:22<00:02,  8.59it/s]"
     ]
    },
    {
     "name": "stdout",
     "output_type": "stream",
     "text": [
      "--- Validation --- [threshold, AUC, Accuracy, F score] =  [np.float64(0.657), np.float64(0.999), np.float64(0.983), np.float64(0.988)]\n"
     ]
    },
    {
     "name": "stderr",
     "output_type": "stream",
     "text": [
      " 92%|██████████████████████████████████████████████████████████████████████████████████████████████████████████████▍         | 230/250 [00:22<00:01, 11.90it/s]"
     ]
    },
    {
     "name": "stdout",
     "output_type": "stream",
     "text": [
      "--- Training --- [threshold, AUC] =  [np.float64(0.709), np.float64(0.999)]\n",
      "--- Iteration 230: Training loss --- [Data, Label, Total] = [47838.660323.3, 92.352406.3, 239285.654020.3]\n",
      "!!! pred_type filter\n"
     ]
    },
    {
     "name": "stderr",
     "output_type": "stream",
     "text": [
      " 95%|█████████████████████████████████████████████████████████████████████████████████████████████████████████████████▊      | 237/250 [00:23<00:01, 12.34it/s]"
     ]
    },
    {
     "name": "stdout",
     "output_type": "stream",
     "text": [
      "--- Validation --- [threshold, AUC, Accuracy, F score] =  [np.float64(0.709), np.float64(0.999), np.float64(0.981), np.float64(0.986)]\n",
      "--- Training --- [threshold, AUC] =  [np.float64(0.657), np.float64(0.999)]\n",
      "--- Iteration 240: Training loss --- [Data, Label, Total] = [47827.052527.3, 92.089031.3, 239227.351665.3]\n",
      "!!! pred_type filter\n"
     ]
    },
    {
     "name": "stderr",
     "output_type": "stream",
     "text": [
      " 98%|█████████████████████████████████████████████████████████████████████████████████████████████████████████████████████▌  | 245/250 [00:23<00:00, 12.64it/s]"
     ]
    },
    {
     "name": "stdout",
     "output_type": "stream",
     "text": [
      "--- Validation --- [threshold, AUC, Accuracy, F score] =  [np.float64(0.657), np.float64(0.999), np.float64(0.983), np.float64(0.988)]\n"
     ]
    },
    {
     "name": "stderr",
     "output_type": "stream",
     "text": [
      "100%|████████████████████████████████████████████████████████████████████████████████████████████████████████████████████████| 250/250 [00:24<00:00, 10.37it/s]\n"
     ]
    },
    {
     "name": "stdout",
     "output_type": "stream",
     "text": [
      "!!! pred_type filter\n",
      "num of subgraphs induced on k-paths: 500\n",
      "num of subgraphs induced on k-paths: 500\n",
      "X_list: (625, 1000)\n",
      "2\n",
      "(1, 500)\n",
      "(1, 500)\n",
      "label_vec: (1, 1000)\n",
      "('Caltech36', 'UCLA26') predicting Caltech36 0.05913141378654992\n",
      "\n",
      "15: 0.182593973808839\n",
      "20: 0.13712829891546358\n",
      "25: 0.05913141378654992\n",
      "\n",
      "num of subgraphs induced on k-paths: 500\n",
      "num of subgraphs induced on k-paths: 500\n",
      "X_list: (900, 1000)\n",
      "2\n",
      "(1, 500)\n",
      "(1, 500)\n",
      "label_vec: (1, 1000)\n",
      "num of subgraphs induced on k-paths: 500\n",
      "num of subgraphs induced on k-paths: 1173\n",
      "X_list: (900, 1673)\n",
      "2\n",
      "(1, 500)\n",
      "(1, 1173)\n",
      "label_vec: (1, 1673)\n",
      "initial loading beta [[-0.72399463 -0.74400129  0.42911182  0.79150345 -0.79952266 -0.94450236\n",
      "   0.20267226 -0.42078307 -0.69922092  0.52414234  0.17654469  0.43406501\n",
      "  -0.48838209  0.4987383  -0.49945456  0.07538808  0.18267229]]\n"
     ]
    },
    {
     "name": "stderr",
     "output_type": "stream",
     "text": [
      "  2%|██▍                                                                                                                       | 5/250 [00:00<00:12, 19.46it/s]"
     ]
    },
    {
     "name": "stdout",
     "output_type": "stream",
     "text": [
      "--- Training --- [threshold, AUC] =  [np.float64(0.786), np.float64(0.999)]\n",
      "--- Iteration 0: Training loss --- [Data, Label, Total] = [123633.054672.3, 76.710878.3, 618241.984240.3]\n"
     ]
    },
    {
     "name": "stderr",
     "output_type": "stream",
     "text": [
      "  3%|███▉                                                                                                                      | 8/250 [00:00<00:11, 20.52it/s]"
     ]
    },
    {
     "name": "stdout",
     "output_type": "stream",
     "text": [
      "--- Training --- [threshold, AUC] =  [np.float64(0.803), np.float64(0.999)]\n",
      "--- Iteration 10: Training loss --- [Data, Label, Total] = [82561.004204.3, 67.458374.3, 412872.479392.3]\n",
      "!!! pred_type filter\n"
     ]
    },
    {
     "name": "stderr",
     "output_type": "stream",
     "text": [
      "  5%|██████▎                                                                                                                  | 13/250 [00:01<00:29,  8.14it/s]"
     ]
    },
    {
     "name": "stdout",
     "output_type": "stream",
     "text": [
      "--- Validation --- [threshold, AUC, Accuracy, F score] =  [np.float64(0.803), np.float64(0.999), np.float64(0.989), np.float64(0.992)]\n"
     ]
    },
    {
     "name": "stderr",
     "output_type": "stream",
     "text": [
      "  8%|█████████▋                                                                                                               | 20/250 [00:01<00:16, 13.79it/s]"
     ]
    },
    {
     "name": "stdout",
     "output_type": "stream",
     "text": [
      "--- Training --- [threshold, AUC] =  [np.float64(0.8), np.float64(0.999)]\n",
      "--- Iteration 20: Training loss --- [Data, Label, Total] = [79325.397312.3, 64.945239.3, 396691.931800.3]\n",
      "!!! pred_type filter\n"
     ]
    },
    {
     "name": "stderr",
     "output_type": "stream",
     "text": [
      " 10%|████████████                                                                                                             | 25/250 [00:02<00:25,  8.96it/s]"
     ]
    },
    {
     "name": "stdout",
     "output_type": "stream",
     "text": [
      "--- Validation --- [threshold, AUC, Accuracy, F score] =  [np.float64(0.8), np.float64(0.999), np.float64(0.99), np.float64(0.993)]\n"
     ]
    },
    {
     "name": "stderr",
     "output_type": "stream",
     "text": [
      " 11%|█████████████▌                                                                                                           | 28/250 [00:02<00:19, 11.15it/s]"
     ]
    },
    {
     "name": "stdout",
     "output_type": "stream",
     "text": [
      "--- Training --- [threshold, AUC] =  [np.float64(0.798), np.float64(0.999)]\n",
      "--- Iteration 30: Training loss --- [Data, Label, Total] = [77487.923085.3, 65.012196.3, 387504.627620.3]\n",
      "!!! pred_type filter\n"
     ]
    },
    {
     "name": "stderr",
     "output_type": "stream",
     "text": [
      " 14%|████████████████▍                                                                                                        | 34/250 [00:03<00:23,  9.05it/s]"
     ]
    },
    {
     "name": "stdout",
     "output_type": "stream",
     "text": [
      "--- Validation --- [threshold, AUC, Accuracy, F score] =  [np.float64(0.798), np.float64(0.999), np.float64(0.99), np.float64(0.993)]\n"
     ]
    },
    {
     "name": "stderr",
     "output_type": "stream",
     "text": [
      " 16%|██████████████████▉                                                                                                      | 39/250 [00:03<00:17, 12.31it/s]"
     ]
    },
    {
     "name": "stdout",
     "output_type": "stream",
     "text": [
      "--- Training --- [threshold, AUC] =  [np.float64(0.798), np.float64(0.999)]\n",
      "--- Iteration 40: Training loss --- [Data, Label, Total] = [76549.518649.3, 64.733762.3, 382812.327007.3]\n",
      "!!! pred_type filter\n"
     ]
    },
    {
     "name": "stderr",
     "output_type": "stream",
     "text": [
      " 18%|█████████████████████▎                                                                                                   | 44/250 [00:04<00:24,  8.29it/s]"
     ]
    },
    {
     "name": "stdout",
     "output_type": "stream",
     "text": [
      "--- Validation --- [threshold, AUC, Accuracy, F score] =  [np.float64(0.798), np.float64(0.999), np.float64(0.99), np.float64(0.993)]\n"
     ]
    },
    {
     "name": "stderr",
     "output_type": "stream",
     "text": [
      " 20%|███████████████████████▋                                                                                                 | 49/250 [00:05<00:17, 11.61it/s]"
     ]
    },
    {
     "name": "stdout",
     "output_type": "stream",
     "text": [
      "--- Training --- [threshold, AUC] =  [np.float64(0.742), np.float64(0.999)]\n",
      "--- Iteration 50: Training loss --- [Data, Label, Total] = [75998.051382.3, 64.722111.3, 380054.979021.3]\n",
      "!!! pred_type filter\n"
     ]
    },
    {
     "name": "stderr",
     "output_type": "stream",
     "text": [
      " 20%|████████████████████████▏                                                                                                | 50/250 [00:05<00:23,  8.69it/s]"
     ]
    },
    {
     "name": "stdout",
     "output_type": "stream",
     "text": [
      "--- Validation --- [threshold, AUC, Accuracy, F score] =  [np.float64(0.742), np.float64(0.999), np.float64(0.99), np.float64(0.993)]\n",
      "!!! --- Validation (Stopped) --- [threshold, ACC] =  [np.float64(0.742), np.float64(0.99)]\n",
      "!!! pred_type filter\n"
     ]
    },
    {
     "name": "stderr",
     "output_type": "stream",
     "text": [
      "\n"
     ]
    },
    {
     "name": "stdout",
     "output_type": "stream",
     "text": [
      "num of subgraphs induced on k-paths: 500\n",
      "num of subgraphs induced on k-paths: 500\n",
      "X_list: (900, 1000)\n",
      "2\n",
      "(1, 500)\n",
      "(1, 500)\n",
      "label_vec: (1, 1000)\n",
      "('Caltech36', 'UCLA26') predicting Caltech36 0.05438245885441879\n",
      "\n",
      "15: 0.182593973808839\n",
      "20: 0.13712829891546358\n",
      "25: 0.05913141378654992\n",
      "30: 0.05438245885441879\n",
      "\n",
      "num of subgraphs induced on k-paths: 500\n",
      "num of subgraphs induced on k-paths: 500\n",
      "X_list: (1225, 1000)\n",
      "2\n",
      "(1, 500)\n",
      "(1, 500)\n",
      "label_vec: (1, 1000)\n",
      "num of subgraphs induced on k-paths: 500\n",
      "num of subgraphs induced on k-paths: 1253\n",
      "X_list: (1225, 1753)\n",
      "2\n",
      "(1, 500)\n",
      "(1, 1253)\n",
      "label_vec: (1, 1753)\n",
      "initial loading beta [[ 0.74703742  0.75515652  0.03598586 -0.30480081  0.17429966  0.9044138\n",
      "   0.84494165  0.95406849  0.6107054   0.81036543  0.37484184  0.33998165\n",
      "   0.71625489 -0.88744963  0.38168873  0.19038229 -0.32419901]]\n"
     ]
    },
    {
     "name": "stderr",
     "output_type": "stream",
     "text": [
      "  1%|█▍                                                                                                                        | 3/250 [00:00<00:18, 13.11it/s]"
     ]
    },
    {
     "name": "stdout",
     "output_type": "stream",
     "text": [
      "--- Training --- [threshold, AUC] =  [np.float64(0.661), np.float64(1.0)]\n",
      "--- Iteration 0: Training loss --- [Data, Label, Total] = [166700.842420.3, 41.129687.3, 833545.341786.3]\n"
     ]
    },
    {
     "name": "stderr",
     "output_type": "stream",
     "text": [
      "  4%|████▍                                                                                                                     | 9/250 [00:00<00:15, 15.41it/s]"
     ]
    },
    {
     "name": "stdout",
     "output_type": "stream",
     "text": [
      "--- Training --- [threshold, AUC] =  [np.float64(0.664), np.float64(1.0)]\n",
      "--- Iteration 10: Training loss --- [Data, Label, Total] = [113303.956292.3, 30.007770.3, 566549.789232.3]\n",
      "!!! pred_type filter\n"
     ]
    },
    {
     "name": "stderr",
     "output_type": "stream",
     "text": [
      "  4%|████▊                                                                                                                    | 10/250 [00:01<00:34,  6.87it/s]"
     ]
    },
    {
     "name": "stdout",
     "output_type": "stream",
     "text": [
      "--- Validation --- [threshold, AUC, Accuracy, F score] =  [np.float64(0.664), np.float64(1.0), np.float64(0.996), np.float64(0.997)]\n",
      "!!! --- Validation (Stopped) --- [threshold, ACC] =  [np.float64(0.664), np.float64(0.996)]\n",
      "!!! pred_type filter\n"
     ]
    },
    {
     "name": "stderr",
     "output_type": "stream",
     "text": [
      "\n"
     ]
    },
    {
     "name": "stdout",
     "output_type": "stream",
     "text": [
      "num of subgraphs induced on k-paths: 500\n",
      "num of subgraphs induced on k-paths: 500\n",
      "X_list: (1225, 1000)\n",
      "2\n",
      "(1, 500)\n",
      "(1, 500)\n",
      "label_vec: (1, 1000)\n"
     ]
    },
    {
     "ename": "IndexError",
     "evalue": "index 1000 is out of bounds for axis 1 with size 1000",
     "output_type": "error",
     "traceback": [
      "\u001b[0;31m---------------------------------------------------------------------------\u001b[0m",
      "\u001b[0;31mIndexError\u001b[0m                                Traceback (most recent call last)",
      "Cell \u001b[0;32mIn[6], line 5\u001b[0m\n\u001b[1;32m      3\u001b[0m messages \u001b[38;5;241m=\u001b[39m \u001b[38;5;124m\"\u001b[39m\u001b[38;5;124m\"\u001b[39m\n\u001b[1;32m      4\u001b[0m \u001b[38;5;28;01mfor\u001b[39;00m k \u001b[38;5;129;01min\u001b[39;00m \u001b[38;5;28mrange\u001b[39m(\u001b[38;5;241m15\u001b[39m, \u001b[38;5;241m45\u001b[39m, \u001b[38;5;241m5\u001b[39m):\n\u001b[0;32m----> 5\u001b[0m     messages \u001b[38;5;241m+\u001b[39m\u001b[38;5;241m=\u001b[39m \u001b[38;5;124mf\u001b[39m\u001b[38;5;124m\"\u001b[39m\u001b[38;5;132;01m{\u001b[39;00mk\u001b[38;5;132;01m}\u001b[39;00m\u001b[38;5;124m: \u001b[39m\u001b[38;5;132;01m{\u001b[39;00m\u001b[43mhelper\u001b[49m\u001b[38;5;241;43m.\u001b[39;49m\u001b[43msimilarity\u001b[49m\u001b[43m(\u001b[49m\u001b[43mnetwork1\u001b[49m\u001b[43m,\u001b[49m\u001b[38;5;250;43m \u001b[39;49m\u001b[43mnetwork2\u001b[49m\u001b[43m,\u001b[49m\u001b[38;5;250;43m \u001b[39;49m\u001b[38;5;124;43m\"\u001b[39;49m\u001b[38;5;124;43mCaltech36\u001b[39;49m\u001b[38;5;124;43m\"\u001b[39;49m\u001b[43m,\u001b[49m\u001b[38;5;250;43m \u001b[39;49m\u001b[43mk\u001b[49m\u001b[38;5;250;43m \u001b[39;49m\u001b[38;5;241;43m=\u001b[39;49m\u001b[38;5;250;43m \u001b[39;49m\u001b[43mk\u001b[49m\u001b[43m)\u001b[49m\u001b[38;5;132;01m}\u001b[39;00m\u001b[38;5;130;01m\\n\u001b[39;00m\u001b[38;5;124m\"\u001b[39m\n\u001b[1;32m      6\u001b[0m     \u001b[38;5;28mprint\u001b[39m(messages)\n",
      "File \u001b[0;32m~/cs/Class/lyu/helper.py:22\u001b[0m, in \u001b[0;36msimilarity\u001b[0;34m(network1, network2, network3, k, xi, n_components)\u001b[0m\n\u001b[1;32m     20\u001b[0m accu \u001b[38;5;241m=\u001b[39m []\n\u001b[1;32m     21\u001b[0m \u001b[38;5;28;01mfor\u001b[39;00m j \u001b[38;5;129;01min\u001b[39;00m \u001b[38;5;28mrange\u001b[39m(prediction\u001b[38;5;241m.\u001b[39mshape[\u001b[38;5;241m0\u001b[39m]):\n\u001b[0;32m---> 22\u001b[0m     a \u001b[38;5;241m=\u001b[39m beta[:,\u001b[38;5;241m1\u001b[39m:] \u001b[38;5;241m@\u001b[39m W\u001b[38;5;241m.\u001b[39mT \u001b[38;5;241m@\u001b[39m \u001b[43mprediction\u001b[49m\u001b[43m[\u001b[49m\u001b[43m:\u001b[49m\u001b[43m,\u001b[49m\u001b[43mj\u001b[49m\u001b[43m]\u001b[49m \u001b[38;5;241m+\u001b[39m beta[:,\u001b[38;5;241m0\u001b[39m]\n\u001b[1;32m     23\u001b[0m     accu\u001b[38;5;241m.\u001b[39mappend(\u001b[38;5;241m1\u001b[39m\u001b[38;5;241m/\u001b[39m(\u001b[38;5;241m1\u001b[39m\u001b[38;5;241m+\u001b[39mnp\u001b[38;5;241m.\u001b[39mexp(\u001b[38;5;241m-\u001b[39ma)[\u001b[38;5;241m0\u001b[39m]))\n\u001b[1;32m     24\u001b[0m message \u001b[38;5;241m=\u001b[39m (\u001b[38;5;124mf\u001b[39m\u001b[38;5;124m\"\u001b[39m\u001b[38;5;132;01m{\u001b[39;00mnetwork1,\u001b[38;5;250m \u001b[39mnetwork2\u001b[38;5;132;01m}\u001b[39;00m\u001b[38;5;124m predicting \u001b[39m\u001b[38;5;132;01m{\u001b[39;00mnetwork3\u001b[38;5;132;01m}\u001b[39;00m\u001b[38;5;124m \u001b[39m\u001b[38;5;132;01m{\u001b[39;00m\u001b[38;5;28msum\u001b[39m(accu)\u001b[38;5;241m/\u001b[39mprediction\u001b[38;5;241m.\u001b[39mshape[\u001b[38;5;241m0\u001b[39m]\u001b[38;5;132;01m}\u001b[39;00m\u001b[38;5;130;01m\\n\u001b[39;00m\u001b[38;5;124m\"\u001b[39m)\n",
      "\u001b[0;31mIndexError\u001b[0m: index 1000 is out of bounds for axis 1 with size 1000"
     ]
    }
   ],
   "source": [
    "network1 = \"Caltech36\"\n",
    "network2 = \"UCLA26\"\n",
    "messages = \"\"\n",
    "for k in range(15, 45, 5):\n",
    "    messages += f\"{k}: {helper.similarity(network1, network2, \"Caltech36\", k = k)}\\n\"\n",
    "    print(messages)"
   ]
  },
  {
   "cell_type": "code",
   "execution_count": 4,
   "id": "e0857101-3e78-4ba0-8b05-036dd993aa15",
   "metadata": {},
   "outputs": [
    {
     "ename": "NameError",
     "evalue": "name 'messages' is not defined",
     "output_type": "error",
     "traceback": [
      "\u001b[0;31m---------------------------------------------------------------------------\u001b[0m",
      "\u001b[0;31mNameError\u001b[0m                                 Traceback (most recent call last)",
      "Cell \u001b[0;32mIn[4], line 1\u001b[0m\n\u001b[0;32m----> 1\u001b[0m \u001b[38;5;28mprint\u001b[39m(\u001b[43mmessages\u001b[49m)\n",
      "\u001b[0;31mNameError\u001b[0m: name 'messages' is not defined"
     ]
    }
   ],
   "source": [
    "print(messages)"
   ]
  },
  {
   "cell_type": "code",
   "execution_count": 2,
   "id": "92c6a9f9-9905-4075-abff-d8892e77f2b4",
   "metadata": {},
   "outputs": [
    {
     "name": "stdout",
     "output_type": "stream",
     "text": [
      "num of subgraphs induced on k-paths: 500\n",
      "num of subgraphs induced on k-paths: 500\n",
      "X_list: (225, 1000)\n",
      "2\n",
      "(1, 500)\n",
      "(1, 500)\n",
      "label_vec: (1, 1000)\n",
      "num of subgraphs induced on k-paths: 500\n",
      "num of subgraphs induced on k-paths: 870\n",
      "X_list: (225, 1370)\n",
      "2\n",
      "(1, 500)\n",
      "(1, 870)\n",
      "label_vec: (1, 1370)\n",
      "initial loading beta [[-0.77921723 -0.8827848   0.70439334 -0.28336002 -0.47638677 -0.88015753\n",
      "   0.67440395 -0.33713284  0.87138153 -0.92347596 -0.59986021 -0.55715031\n",
      "   0.62432108 -0.30213652 -0.55098779  0.09361788  0.34862216]]\n"
     ]
    },
    {
     "name": "stderr",
     "output_type": "stream",
     "text": [
      "  0%|                                                                                                                                  | 0/250 [00:00<?, ?it/s]"
     ]
    },
    {
     "name": "stdout",
     "output_type": "stream",
     "text": [
      "--- Training --- [threshold, AUC] =  [np.float64(0.692), np.float64(0.96)]\n",
      "--- Iteration 0: Training loss --- [Data, Label, Total] = [25337.488052.3, 383.969388.3, 211529.703152.3]\n"
     ]
    },
    {
     "name": "stderr",
     "output_type": "stream",
     "text": [
      "  2%|██▍                                                                                                                       | 5/250 [00:00<00:05, 44.87it/s]"
     ]
    },
    {
     "name": "stdout",
     "output_type": "stream",
     "text": [
      "--- Training --- [threshold, AUC] =  [np.float64(0.61), np.float64(0.974)]\n",
      "--- Iteration 10: Training loss --- [Data, Label, Total] = [18729.785892.3, 300.086930.3, 156381.636033.3]\n",
      "!!! pred_type filter\n"
     ]
    },
    {
     "name": "stderr",
     "output_type": "stream",
     "text": [
      "  7%|████████▋                                                                                                                | 18/250 [00:00<00:11, 20.81it/s]"
     ]
    },
    {
     "name": "stdout",
     "output_type": "stream",
     "text": [
      "--- Validation --- [threshold, AUC, Accuracy, F score] =  [np.float64(0.61), np.float64(0.974), np.float64(0.928), np.float64(0.943)]\n",
      "--- Training --- [threshold, AUC] =  [np.float64(0.585), np.float64(0.974)]\n",
      "--- Iteration 20: Training loss --- [Data, Label, Total] = [15997.718906.3, 297.702051.3, 133612.026271.3]\n",
      "!!! pred_type filter\n"
     ]
    },
    {
     "name": "stderr",
     "output_type": "stream",
     "text": [
      "  9%|███████████▏                                                                                                             | 23/250 [00:02<00:36,  6.27it/s]"
     ]
    },
    {
     "name": "stdout",
     "output_type": "stream",
     "text": [
      "--- Validation --- [threshold, AUC, Accuracy, F score] =  [np.float64(0.585), np.float64(0.974), np.float64(0.932), np.float64(0.946)]\n",
      "--- Training --- [threshold, AUC] =  [np.float64(0.58), np.float64(0.975)]\n",
      "--- Iteration 30: Training loss --- [Data, Label, Total] = [15090.827049.3, 298.397194.3, 126055.289266.3]\n",
      "!!! pred_type filter\n"
     ]
    },
    {
     "name": "stderr",
     "output_type": "stream",
     "text": [
      " 16%|██████████████████▉                                                                                                      | 39/250 [00:03<00:18, 11.28it/s]"
     ]
    },
    {
     "name": "stdout",
     "output_type": "stream",
     "text": [
      "--- Validation --- [threshold, AUC, Accuracy, F score] =  [np.float64(0.58), np.float64(0.975), np.float64(0.934), np.float64(0.948)]\n",
      "--- Training --- [threshold, AUC] =  [np.float64(0.594), np.float64(0.975)]\n",
      "--- Iteration 40: Training loss --- [Data, Label, Total] = [14612.013209.3, 297.281893.3, 122064.058637.3]\n",
      "!!! pred_type filter\n"
     ]
    },
    {
     "name": "stderr",
     "output_type": "stream",
     "text": [
      " 20%|████████████████████████▏                                                                                                | 50/250 [00:04<00:14, 13.92it/s]"
     ]
    },
    {
     "name": "stdout",
     "output_type": "stream",
     "text": [
      "--- Validation --- [threshold, AUC, Accuracy, F score] =  [np.float64(0.594), np.float64(0.975), np.float64(0.933), np.float64(0.947)]\n",
      "--- Training --- [threshold, AUC] =  [np.float64(0.608), np.float64(0.975)]\n",
      "--- Iteration 50: Training loss --- [Data, Label, Total] = [14291.233540.3, 296.773042.3, 119390.385874.3]\n",
      "!!! pred_type filter\n"
     ]
    },
    {
     "name": "stderr",
     "output_type": "stream",
     "text": [
      " 22%|██████████████████████████▌                                                                                              | 55/250 [00:05<00:17, 11.32it/s]"
     ]
    },
    {
     "name": "stdout",
     "output_type": "stream",
     "text": [
      "--- Validation --- [threshold, AUC, Accuracy, F score] =  [np.float64(0.608), np.float64(0.975), np.float64(0.933), np.float64(0.947)]\n",
      "--- Training --- [threshold, AUC] =  [np.float64(0.697), np.float64(0.976)]\n",
      "--- Iteration 60: Training loss --- [Data, Label, Total] = [14045.201576.3, 296.540593.3, 117339.887058.3]\n",
      "!!! pred_type filter\n"
     ]
    },
    {
     "name": "stderr",
     "output_type": "stream",
     "text": [
      " 27%|████████████████████████████████▉                                                                                        | 68/250 [00:06<00:13, 13.02it/s]"
     ]
    },
    {
     "name": "stdout",
     "output_type": "stream",
     "text": [
      "--- Validation --- [threshold, AUC, Accuracy, F score] =  [np.float64(0.697), np.float64(0.976), np.float64(0.926), np.float64(0.941)]\n",
      "--- Training --- [threshold, AUC] =  [np.float64(0.695), np.float64(0.976)]\n",
      "--- Iteration 70: Training loss --- [Data, Label, Total] = [13839.660294.3, 295.992152.3, 115626.494599.3]\n",
      "!!! pred_type filter\n"
     ]
    },
    {
     "name": "stderr",
     "output_type": "stream",
     "text": [
      " 32%|██████████████████████████████████████▋                                                                                  | 80/250 [00:06<00:10, 15.74it/s]"
     ]
    },
    {
     "name": "stdout",
     "output_type": "stream",
     "text": [
      "--- Validation --- [threshold, AUC, Accuracy, F score] =  [np.float64(0.695), np.float64(0.976), np.float64(0.924), np.float64(0.939)]\n",
      "--- Training --- [threshold, AUC] =  [np.float64(0.57), np.float64(0.976)]\n",
      "--- Iteration 80: Training loss --- [Data, Label, Total] = [13663.045763.3, 295.577092.3, 114154.291784.3]\n",
      "!!! pred_type filter\n",
      "--- Validation --- [threshold, AUC, Accuracy, F score] =  [np.float64(0.57), np.float64(0.976), np.float64(0.936), np.float64(0.95)]\n"
     ]
    },
    {
     "name": "stderr",
     "output_type": "stream",
     "text": [
      " 36%|███████████████████████████████████████████                                                                              | 89/250 [00:08<00:13, 11.66it/s]"
     ]
    },
    {
     "name": "stdout",
     "output_type": "stream",
     "text": [
      "--- Training --- [threshold, AUC] =  [np.float64(0.573), np.float64(0.977)]\n",
      "--- Iteration 90: Training loss --- [Data, Label, Total] = [13516.375911.3, 294.895203.3, 112931.361126.3]\n",
      "!!! pred_type filter\n"
     ]
    },
    {
     "name": "stderr",
     "output_type": "stream",
     "text": [
      " 40%|████████████████████████████████████████████████                                                                        | 100/250 [00:09<00:12, 12.48it/s]"
     ]
    },
    {
     "name": "stdout",
     "output_type": "stream",
     "text": [
      "--- Validation --- [threshold, AUC, Accuracy, F score] =  [np.float64(0.573), np.float64(0.977), np.float64(0.936), np.float64(0.95)]\n",
      "--- Training --- [threshold, AUC] =  [np.float64(0.629), np.float64(0.977)]\n",
      "--- Iteration 100: Training loss --- [Data, Label, Total] = [13398.949679.3, 294.319597.3, 111952.233592.3]\n",
      "!!! pred_type filter\n"
     ]
    },
    {
     "name": "stderr",
     "output_type": "stream",
     "text": [
      " 44%|████████████████████████████████████████████████████▊                                                                   | 110/250 [00:09<00:10, 13.91it/s]"
     ]
    },
    {
     "name": "stdout",
     "output_type": "stream",
     "text": [
      "--- Validation --- [threshold, AUC, Accuracy, F score] =  [np.float64(0.629), np.float64(0.977), np.float64(0.932), np.float64(0.946)]\n",
      "--- Training --- [threshold, AUC] =  [np.float64(0.63), np.float64(0.977)]\n",
      "--- Iteration 110: Training loss --- [Data, Label, Total] = [13306.736494.3, 293.865092.3, 111183.335871.3]\n",
      "!!! pred_type filter\n"
     ]
    },
    {
     "name": "stderr",
     "output_type": "stream",
     "text": [
      " 46%|██████████████████████████████████████████████████████▋                                                                 | 114/250 [00:11<00:16,  8.09it/s]"
     ]
    },
    {
     "name": "stdout",
     "output_type": "stream",
     "text": [
      "--- Validation --- [threshold, AUC, Accuracy, F score] =  [np.float64(0.63), np.float64(0.977), np.float64(0.933), np.float64(0.947)]\n"
     ]
    },
    {
     "name": "stderr",
     "output_type": "stream",
     "text": [
      " 48%|█████████████████████████████████████████████████████████                                                               | 119/250 [00:11<00:12, 10.69it/s]"
     ]
    },
    {
     "name": "stdout",
     "output_type": "stream",
     "text": [
      "--- Training --- [threshold, AUC] =  [np.float64(0.61), np.float64(0.977)]\n",
      "--- Iteration 120: Training loss --- [Data, Label, Total] = [13233.307601.3, 293.545301.3, 110571.108640.3]\n",
      "!!! pred_type filter\n"
     ]
    },
    {
     "name": "stderr",
     "output_type": "stream",
     "text": [
      " 49%|███████████████████████████████████████████████████████████                                                             | 123/250 [00:11<00:14,  8.89it/s]"
     ]
    },
    {
     "name": "stdout",
     "output_type": "stream",
     "text": [
      "--- Validation --- [threshold, AUC, Accuracy, F score] =  [np.float64(0.61), np.float64(0.977), np.float64(0.937), np.float64(0.951)]\n",
      "--- Training --- [threshold, AUC] =  [np.float64(0.609), np.float64(0.977)]\n",
      "--- Iteration 130: Training loss --- [Data, Label, Total] = [13173.219520.3, 293.307066.3, 110070.136399.3]\n",
      "!!! pred_type filter\n"
     ]
    },
    {
     "name": "stderr",
     "output_type": "stream",
     "text": [
      " 55%|██████████████████████████████████████████████████████████████████▏                                                     | 138/250 [00:12<00:08, 13.04it/s]"
     ]
    },
    {
     "name": "stdout",
     "output_type": "stream",
     "text": [
      "--- Validation --- [threshold, AUC, Accuracy, F score] =  [np.float64(0.609), np.float64(0.977), np.float64(0.937), np.float64(0.951)]\n",
      "--- Training --- [threshold, AUC] =  [np.float64(0.607), np.float64(0.977)]\n",
      "--- Iteration 140: Training loss --- [Data, Label, Total] = [13122.902822.3, 293.101503.3, 109650.625019.3]\n",
      "!!! pred_type filter\n"
     ]
    },
    {
     "name": "stderr",
     "output_type": "stream",
     "text": [
      " 60%|████████████████████████████████████████████████████████████████████████                                                | 150/250 [00:13<00:06, 15.88it/s]"
     ]
    },
    {
     "name": "stdout",
     "output_type": "stream",
     "text": [
      "--- Validation --- [threshold, AUC, Accuracy, F score] =  [np.float64(0.607), np.float64(0.977), np.float64(0.937), np.float64(0.951)]\n",
      "--- Training --- [threshold, AUC] =  [np.float64(0.624), np.float64(0.977)]\n",
      "--- Iteration 150: Training loss --- [Data, Label, Total] = [13080.983146.3, 293.172278.3, 109301.365163.3]\n",
      "!!! pred_type filter\n"
     ]
    },
    {
     "name": "stderr",
     "output_type": "stream",
     "text": [
      " 62%|█████████████████████████████████████████████████████████████████████████▉                                              | 154/250 [00:14<00:07, 12.15it/s]"
     ]
    },
    {
     "name": "stdout",
     "output_type": "stream",
     "text": [
      "--- Validation --- [threshold, AUC, Accuracy, F score] =  [np.float64(0.624), np.float64(0.977), np.float64(0.938), np.float64(0.951)]\n",
      "--- Training --- [threshold, AUC] =  [np.float64(0.627), np.float64(0.978)]\n",
      "--- Iteration 160: Training loss --- [Data, Label, Total] = [13046.405840.3, 293.054814.3, 109013.103484.3]\n",
      "!!! pred_type filter\n"
     ]
    },
    {
     "name": "stderr",
     "output_type": "stream",
     "text": [
      " 68%|█████████████████████████████████████████████████████████████████████████████████                                       | 169/250 [00:14<00:04, 16.46it/s]"
     ]
    },
    {
     "name": "stdout",
     "output_type": "stream",
     "text": [
      "--- Validation --- [threshold, AUC, Accuracy, F score] =  [np.float64(0.627), np.float64(0.978), np.float64(0.939), np.float64(0.952)]\n",
      "--- Training --- [threshold, AUC] =  [np.float64(0.628), np.float64(0.978)]\n",
      "--- Iteration 170: Training loss --- [Data, Label, Total] = [13018.154541.3, 292.869903.3, 108777.491075.3]\n",
      "!!! pred_type filter\n"
     ]
    },
    {
     "name": "stderr",
     "output_type": "stream",
     "text": [
      " 69%|███████████████████████████████████████████████████████████████████████████████████                                     | 173/250 [00:15<00:06, 12.83it/s]"
     ]
    },
    {
     "name": "stdout",
     "output_type": "stream",
     "text": [
      "--- Validation --- [threshold, AUC, Accuracy, F score] =  [np.float64(0.628), np.float64(0.978), np.float64(0.939), np.float64(0.952)]\n",
      "--- Training --- [threshold, AUC] =  [np.float64(0.631), np.float64(0.978)]\n",
      "--- Iteration 180: Training loss --- [Data, Label, Total] = [12995.216800.3, 292.771911.3, 108586.245240.3]\n",
      "!!! pred_type filter\n"
     ]
    },
    {
     "name": "stderr",
     "output_type": "stream",
     "text": [
      " 76%|██████████████████████████████████████████████████████████████████████████████████████████▋                             | 189/250 [00:16<00:03, 17.71it/s]"
     ]
    },
    {
     "name": "stdout",
     "output_type": "stream",
     "text": [
      "--- Validation --- [threshold, AUC, Accuracy, F score] =  [np.float64(0.631), np.float64(0.978), np.float64(0.939), np.float64(0.952)]\n",
      "--- Training --- [threshold, AUC] =  [np.float64(0.63), np.float64(0.978)]\n",
      "--- Iteration 190: Training loss --- [Data, Label, Total] = [12976.663265.3, 292.401827.3, 108431.262367.3]\n",
      "!!! pred_type filter\n"
     ]
    },
    {
     "name": "stderr",
     "output_type": "stream",
     "text": [
      " 77%|████████████████████████████████████████████████████████████████████████████████████████████▋                           | 193/250 [00:16<00:04, 13.24it/s]"
     ]
    },
    {
     "name": "stdout",
     "output_type": "stream",
     "text": [
      "--- Validation --- [threshold, AUC, Accuracy, F score] =  [np.float64(0.63), np.float64(0.978), np.float64(0.939), np.float64(0.952)]\n",
      "--- Training --- [threshold, AUC] =  [np.float64(0.632), np.float64(0.978)]\n",
      "--- Iteration 200: Training loss --- [Data, Label, Total] = [12961.616810.3, 292.438386.3, 108305.911802.3]\n",
      "!!! pred_type filter\n"
     ]
    },
    {
     "name": "stderr",
     "output_type": "stream",
     "text": [
      " 83%|███████████████████████████████████████████████████████████████████████████████████████████████████▊                    | 208/250 [00:17<00:02, 17.15it/s]"
     ]
    },
    {
     "name": "stdout",
     "output_type": "stream",
     "text": [
      "--- Validation --- [threshold, AUC, Accuracy, F score] =  [np.float64(0.632), np.float64(0.978), np.float64(0.939), np.float64(0.952)]\n",
      "--- Training --- [threshold, AUC] =  [np.float64(0.633), np.float64(0.978)]\n",
      "--- Iteration 210: Training loss --- [Data, Label, Total] = [12949.349394.3, 292.431209.3, 108203.676157.3]\n",
      "!!! pred_type filter\n"
     ]
    },
    {
     "name": "stderr",
     "output_type": "stream",
     "text": [
      " 88%|█████████████████████████████████████████████████████████████████████████████████████████████████████████▌              | 220/250 [00:18<00:01, 18.53it/s]"
     ]
    },
    {
     "name": "stdout",
     "output_type": "stream",
     "text": [
      "--- Validation --- [threshold, AUC, Accuracy, F score] =  [np.float64(0.633), np.float64(0.978), np.float64(0.939), np.float64(0.952)]\n",
      "--- Training --- [threshold, AUC] =  [np.float64(0.631), np.float64(0.978)]\n",
      "--- Iteration 220: Training loss --- [Data, Label, Total] = [12939.274343.3, 292.342516.3, 108119.628707.3]\n",
      "!!! pred_type filter\n"
     ]
    },
    {
     "name": "stderr",
     "output_type": "stream",
     "text": [
      " 90%|████████████████████████████████████████████████████████████████████████████████████████████████████████████            | 225/250 [00:18<00:01, 14.07it/s]"
     ]
    },
    {
     "name": "stdout",
     "output_type": "stream",
     "text": [
      "--- Validation --- [threshold, AUC, Accuracy, F score] =  [np.float64(0.631), np.float64(0.978), np.float64(0.939), np.float64(0.952)]\n",
      "--- Training --- [threshold, AUC] =  [np.float64(0.63), np.float64(0.978)]\n",
      "--- Iteration 230: Training loss --- [Data, Label, Total] = [12931.008872.3, 292.116593.3, 108050.523858.3]\n",
      "!!! pred_type filter\n"
     ]
    },
    {
     "name": "stderr",
     "output_type": "stream",
     "text": [
      " 96%|██████████████████████████████████████████████████████████████████████████████████████████████████████████████████▋     | 239/250 [00:19<00:00, 17.79it/s]"
     ]
    },
    {
     "name": "stdout",
     "output_type": "stream",
     "text": [
      "--- Validation --- [threshold, AUC, Accuracy, F score] =  [np.float64(0.63), np.float64(0.978), np.float64(0.939), np.float64(0.952)]\n",
      "--- Training --- [threshold, AUC] =  [np.float64(0.629), np.float64(0.978)]\n",
      "--- Iteration 240: Training loss --- [Data, Label, Total] = [12924.059356.3, 291.998991.3, 107992.493625.3]\n",
      "!!! pred_type filter\n"
     ]
    },
    {
     "name": "stderr",
     "output_type": "stream",
     "text": [
      "100%|████████████████████████████████████████████████████████████████████████████████████████████████████████████████████████| 250/250 [00:20<00:00, 12.28it/s]"
     ]
    },
    {
     "name": "stdout",
     "output_type": "stream",
     "text": [
      "--- Validation --- [threshold, AUC, Accuracy, F score] =  [np.float64(0.629), np.float64(0.978), np.float64(0.939), np.float64(0.952)]\n",
      "!!! pred_type filter\n"
     ]
    },
    {
     "name": "stderr",
     "output_type": "stream",
     "text": [
      "\n"
     ]
    },
    {
     "name": "stdout",
     "output_type": "stream",
     "text": [
      "num of subgraphs induced on k-paths: 500\n",
      "num of subgraphs induced on k-paths: 500\n",
      "X_list: (225, 1000)\n",
      "2\n",
      "(1, 500)\n",
      "(1, 500)\n",
      "label_vec: (1, 1000)\n",
      "('Caltech36', 'UCLA26') predicting Harvard1 0.8492129231812474\n",
      "\n",
      "8.333333333333334: 0.8492129231812474\n",
      "\n",
      "num of subgraphs induced on k-paths: 500\n",
      "num of subgraphs induced on k-paths: 500\n",
      "X_list: (225, 1000)\n",
      "2\n",
      "(1, 500)\n",
      "(1, 500)\n",
      "label_vec: (1, 1000)\n",
      "num of subgraphs induced on k-paths: 500\n",
      "num of subgraphs induced on k-paths: 866\n",
      "X_list: (225, 1366)\n",
      "2\n",
      "(1, 500)\n",
      "(1, 866)\n",
      "label_vec: (1, 1366)\n",
      "initial loading beta [[-0.49216866  0.24672625  0.88159274  0.82170158 -0.10902263  0.44340364\n",
      "   0.44384377  0.39605775 -0.74309582 -0.08377781 -0.70405823 -0.83370063\n",
      "  -0.22889773  0.76634582 -0.59311108  0.88311851  0.58359798]]\n"
     ]
    },
    {
     "name": "stderr",
     "output_type": "stream",
     "text": [
      "  3%|███▍                                                                                                                      | 7/250 [00:00<00:06, 36.95it/s]"
     ]
    },
    {
     "name": "stdout",
     "output_type": "stream",
     "text": [
      "--- Training --- [threshold, AUC] =  [np.float64(0.625), np.float64(0.954)]\n",
      "--- Iteration 0: Training loss --- [Data, Label, Total] = [25466.552237.3, 384.353216.3, 221094.472608.3]\n",
      "--- Training --- [threshold, AUC] =  [np.float64(0.757), np.float64(0.962)]\n",
      "--- Iteration 10: Training loss --- [Data, Label, Total] = [20438.082700.3, 347.081693.3, 177477.131756.3]\n",
      "!!! pred_type filter\n"
     ]
    },
    {
     "name": "stderr",
     "output_type": "stream",
     "text": [
      "  8%|█████████▏                                                                                                               | 19/250 [00:01<00:11, 20.57it/s]"
     ]
    },
    {
     "name": "stdout",
     "output_type": "stream",
     "text": [
      "--- Validation --- [threshold, AUC, Accuracy, F score] =  [np.float64(0.757), np.float64(0.962), np.float64(0.895), np.float64(0.913)]\n",
      "--- Training --- [threshold, AUC] =  [np.float64(0.748), np.float64(0.966)]\n",
      "--- Iteration 20: Training loss --- [Data, Label, Total] = [16808.780047.3, 332.348015.3, 146008.441759.3]\n",
      "!!! pred_type filter\n"
     ]
    },
    {
     "name": "stderr",
     "output_type": "stream",
     "text": [
      " 10%|███████████▌                                                                                                             | 24/250 [00:01<00:18, 12.37it/s]"
     ]
    },
    {
     "name": "stdout",
     "output_type": "stream",
     "text": [
      "--- Validation --- [threshold, AUC, Accuracy, F score] =  [np.float64(0.748), np.float64(0.966), np.float64(0.899), np.float64(0.916)]\n",
      "--- Training --- [threshold, AUC] =  [np.float64(0.692), np.float64(0.967)]\n",
      "--- Iteration 30: Training loss --- [Data, Label, Total] = [15782.518520.3, 328.722794.3, 137110.549965.3]\n",
      "!!! pred_type filter\n"
     ]
    },
    {
     "name": "stderr",
     "output_type": "stream",
     "text": [
      " 16%|███████████████████▎                                                                                                     | 40/250 [00:02<00:12, 17.19it/s]"
     ]
    },
    {
     "name": "stdout",
     "output_type": "stream",
     "text": [
      "--- Validation --- [threshold, AUC, Accuracy, F score] =  [np.float64(0.692), np.float64(0.967), np.float64(0.908), np.float64(0.925)]\n",
      "--- Training --- [threshold, AUC] =  [np.float64(0.713), np.float64(0.968)]\n",
      "--- Iteration 40: Training loss --- [Data, Label, Total] = [15272.815887.3, 327.990179.3, 132692.394532.3]\n",
      "!!! pred_type filter\n"
     ]
    },
    {
     "name": "stderr",
     "output_type": "stream",
     "text": [
      " 18%|█████████████████████▊                                                                                                   | 45/250 [00:03<00:16, 12.46it/s]"
     ]
    },
    {
     "name": "stdout",
     "output_type": "stream",
     "text": [
      "--- Validation --- [threshold, AUC, Accuracy, F score] =  [np.float64(0.713), np.float64(0.968), np.float64(0.907), np.float64(0.924)]\n",
      "--- Training --- [threshold, AUC] =  [np.float64(0.728), np.float64(0.968)]\n",
      "--- Iteration 50: Training loss --- [Data, Label, Total] = [14992.702727.3, 328.156493.3, 130264.913463.3]\n",
      "!!! pred_type filter\n"
     ]
    },
    {
     "name": "stderr",
     "output_type": "stream",
     "text": [
      " 24%|█████████████████████████████                                                                                            | 60/250 [00:04<00:11, 16.41it/s]"
     ]
    },
    {
     "name": "stdout",
     "output_type": "stream",
     "text": [
      "--- Validation --- [threshold, AUC, Accuracy, F score] =  [np.float64(0.728), np.float64(0.968), np.float64(0.903), np.float64(0.92)]\n",
      "--- Training --- [threshold, AUC] =  [np.float64(0.723), np.float64(0.968)]\n",
      "--- Iteration 60: Training loss --- [Data, Label, Total] = [14817.876339.3, 329.035842.3, 128750.630778.3]\n",
      "!!! pred_type filter\n"
     ]
    },
    {
     "name": "stderr",
     "output_type": "stream",
     "text": [
      " 26%|███████████████████████████████▍                                                                                         | 65/250 [00:04<00:15, 12.25it/s]"
     ]
    },
    {
     "name": "stdout",
     "output_type": "stream",
     "text": [
      "--- Validation --- [threshold, AUC, Accuracy, F score] =  [np.float64(0.723), np.float64(0.968), np.float64(0.903), np.float64(0.92)]\n",
      "--- Training --- [threshold, AUC] =  [np.float64(0.731), np.float64(0.968)]\n",
      "--- Iteration 70: Training loss --- [Data, Label, Total] = [14655.491569.3, 329.752221.3, 127344.012484.3]\n",
      "!!! pred_type filter\n"
     ]
    },
    {
     "name": "stderr",
     "output_type": "stream",
     "text": [
      " 32%|██████████████████████████████████████▋                                                                                  | 80/250 [00:05<00:10, 15.99it/s]"
     ]
    },
    {
     "name": "stdout",
     "output_type": "stream",
     "text": [
      "--- Validation --- [threshold, AUC, Accuracy, F score] =  [np.float64(0.731), np.float64(0.968), np.float64(0.903), np.float64(0.92)]\n",
      "--- Training --- [threshold, AUC] =  [np.float64(0.665), np.float64(0.968)]\n",
      "--- Iteration 80: Training loss --- [Data, Label, Total] = [14488.321289.3, 330.705960.3, 125896.157136.3]\n",
      "!!! pred_type filter\n"
     ]
    },
    {
     "name": "stderr",
     "output_type": "stream",
     "text": [
      " 34%|█████████████████████████████████████████▏                                                                               | 85/250 [00:06<00:13, 12.31it/s]"
     ]
    },
    {
     "name": "stdout",
     "output_type": "stream",
     "text": [
      "--- Validation --- [threshold, AUC, Accuracy, F score] =  [np.float64(0.665), np.float64(0.968), np.float64(0.907), np.float64(0.925)]\n",
      "--- Training --- [threshold, AUC] =  [np.float64(0.635), np.float64(0.967)]\n",
      "--- Iteration 90: Training loss --- [Data, Label, Total] = [14354.012088.3, 331.276228.3, 124732.714324.3]\n",
      "!!! pred_type filter\n"
     ]
    },
    {
     "name": "stderr",
     "output_type": "stream",
     "text": [
      " 40%|███████████████████████████████████████████████▉                                                                         | 99/250 [00:07<00:09, 15.40it/s]"
     ]
    },
    {
     "name": "stdout",
     "output_type": "stream",
     "text": [
      "--- Validation --- [threshold, AUC, Accuracy, F score] =  [np.float64(0.635), np.float64(0.967), np.float64(0.909), np.float64(0.927)]\n",
      "--- Training --- [threshold, AUC] =  [np.float64(0.638), np.float64(0.967)]\n",
      "--- Iteration 100: Training loss --- [Data, Label, Total] = [14250.559922.3, 331.623544.3, 123836.476205.3]\n",
      "!!! pred_type filter\n"
     ]
    },
    {
     "name": "stderr",
     "output_type": "stream",
     "text": [
      " 41%|█████████████████████████████████████████████████▍                                                                      | 103/250 [00:08<00:12, 11.43it/s]"
     ]
    },
    {
     "name": "stdout",
     "output_type": "stream",
     "text": [
      "--- Validation --- [threshold, AUC, Accuracy, F score] =  [np.float64(0.638), np.float64(0.967), np.float64(0.909), np.float64(0.927)]\n",
      "--- Training --- [threshold, AUC] =  [np.float64(0.642), np.float64(0.967)]\n",
      "--- Iteration 110: Training loss --- [Data, Label, Total] = [14152.952160.3, 331.736663.3, 122990.655379.3]\n",
      "!!! pred_type filter\n"
     ]
    },
    {
     "name": "stderr",
     "output_type": "stream",
     "text": [
      " 48%|█████████████████████████████████████████████████████████                                                               | 119/250 [00:08<00:08, 15.96it/s]"
     ]
    },
    {
     "name": "stdout",
     "output_type": "stream",
     "text": [
      "--- Validation --- [threshold, AUC, Accuracy, F score] =  [np.float64(0.642), np.float64(0.967), np.float64(0.91), np.float64(0.927)]\n",
      "--- Training --- [threshold, AUC] =  [np.float64(0.72), np.float64(0.967)]\n",
      "--- Iteration 120: Training loss --- [Data, Label, Total] = [14060.066403.3, 331.476653.3, 122185.385479.3]\n",
      "!!! pred_type filter\n"
     ]
    },
    {
     "name": "stderr",
     "output_type": "stream",
     "text": [
      " 50%|███████████████████████████████████████████████████████████▌                                                            | 124/250 [00:09<00:09, 12.70it/s]"
     ]
    },
    {
     "name": "stdout",
     "output_type": "stream",
     "text": [
      "--- Validation --- [threshold, AUC, Accuracy, F score] =  [np.float64(0.72), np.float64(0.967), np.float64(0.904), np.float64(0.921)]\n",
      "--- Training --- [threshold, AUC] =  [np.float64(0.724), np.float64(0.968)]\n",
      "--- Iteration 130: Training loss --- [Data, Label, Total] = [13973.587257.3, 331.369984.3, 121435.792882.3]\n",
      "!!! pred_type filter\n"
     ]
    },
    {
     "name": "stderr",
     "output_type": "stream",
     "text": [
      " 56%|██████████████████████████████████████████████████████████████████▋                                                     | 139/250 [00:10<00:06, 16.38it/s]"
     ]
    },
    {
     "name": "stdout",
     "output_type": "stream",
     "text": [
      "--- Validation --- [threshold, AUC, Accuracy, F score] =  [np.float64(0.724), np.float64(0.968), np.float64(0.904), np.float64(0.921)]\n",
      "--- Training --- [threshold, AUC] =  [np.float64(0.728), np.float64(0.968)]\n",
      "--- Iteration 140: Training loss --- [Data, Label, Total] = [13880.405285.3, 331.189082.3, 120628.034888.3]\n",
      "!!! pred_type filter\n"
     ]
    },
    {
     "name": "stderr",
     "output_type": "stream",
     "text": [
      " 58%|█████████████████████████████████████████████████████████████████████                                                   | 144/250 [00:11<00:08, 12.03it/s]"
     ]
    },
    {
     "name": "stdout",
     "output_type": "stream",
     "text": [
      "--- Validation --- [threshold, AUC, Accuracy, F score] =  [np.float64(0.728), np.float64(0.968), np.float64(0.903), np.float64(0.92)]\n",
      "--- Training --- [threshold, AUC] =  [np.float64(0.732), np.float64(0.968)]\n",
      "--- Iteration 150: Training loss --- [Data, Label, Total] = [13772.553302.3, 330.933809.3, 119693.062423.3]\n",
      "!!! pred_type filter\n"
     ]
    },
    {
     "name": "stderr",
     "output_type": "stream",
     "text": [
      " 64%|████████████████████████████████████████████████████████████████████████████▊                                           | 160/250 [00:11<00:05, 16.61it/s]"
     ]
    },
    {
     "name": "stdout",
     "output_type": "stream",
     "text": [
      "--- Validation --- [threshold, AUC, Accuracy, F score] =  [np.float64(0.732), np.float64(0.968), np.float64(0.903), np.float64(0.92)]\n",
      "--- Training --- [threshold, AUC] =  [np.float64(0.734), np.float64(0.968)]\n",
      "--- Iteration 160: Training loss --- [Data, Label, Total] = [13673.068515.3, 331.006119.3, 118830.933251.3]\n",
      "!!! pred_type filter\n"
     ]
    },
    {
     "name": "stderr",
     "output_type": "stream",
     "text": [
      " 66%|███████████████████████████████████████████████████████████████████████████████▏                                        | 165/250 [00:12<00:06, 13.12it/s]"
     ]
    },
    {
     "name": "stdout",
     "output_type": "stream",
     "text": [
      "--- Validation --- [threshold, AUC, Accuracy, F score] =  [np.float64(0.734), np.float64(0.968), np.float64(0.904), np.float64(0.921)]\n",
      "--- Training --- [threshold, AUC] =  [np.float64(0.735), np.float64(0.968)]\n",
      "--- Iteration 170: Training loss --- [Data, Label, Total] = [13595.138382.3, 331.060887.3, 118155.593532.3]\n",
      "!!! pred_type filter\n"
     ]
    },
    {
     "name": "stderr",
     "output_type": "stream",
     "text": [
      " 72%|██████████████████████████████████████████████████████████████████████████████████████▍                                 | 180/250 [00:13<00:04, 17.16it/s]"
     ]
    },
    {
     "name": "stdout",
     "output_type": "stream",
     "text": [
      "--- Validation --- [threshold, AUC, Accuracy, F score] =  [np.float64(0.735), np.float64(0.968), np.float64(0.904), np.float64(0.921)]\n",
      "--- Training --- [threshold, AUC] =  [np.float64(0.736), np.float64(0.968)]\n",
      "--- Iteration 180: Training loss --- [Data, Label, Total] = [13543.372037.3, 331.036602.3, 117706.927590.3]\n",
      "!!! pred_type filter\n"
     ]
    },
    {
     "name": "stderr",
     "output_type": "stream",
     "text": [
      " 74%|████████████████████████████████████████████████████████████████████████████████████████▊                               | 185/250 [00:13<00:04, 13.45it/s]"
     ]
    },
    {
     "name": "stdout",
     "output_type": "stream",
     "text": [
      "--- Validation --- [threshold, AUC, Accuracy, F score] =  [np.float64(0.736), np.float64(0.968), np.float64(0.904), np.float64(0.921)]\n",
      "--- Training --- [threshold, AUC] =  [np.float64(0.735), np.float64(0.968)]\n",
      "--- Iteration 190: Training loss --- [Data, Label, Total] = [13513.189962.3, 331.030191.3, 117445.343193.3]\n",
      "!!! pred_type filter\n"
     ]
    },
    {
     "name": "stderr",
     "output_type": "stream",
     "text": [
      " 80%|███████████████████████████████████████████████████████████████████████████████████████████████▌                        | 199/250 [00:14<00:03, 16.77it/s]"
     ]
    },
    {
     "name": "stdout",
     "output_type": "stream",
     "text": [
      "--- Validation --- [threshold, AUC, Accuracy, F score] =  [np.float64(0.735), np.float64(0.968), np.float64(0.904), np.float64(0.921)]\n",
      "--- Training --- [threshold, AUC] =  [np.float64(0.735), np.float64(0.968)]\n",
      "--- Iteration 200: Training loss --- [Data, Label, Total] = [13494.786457.3, 330.993517.3, 117285.809474.3]\n",
      "!!! pred_type filter\n"
     ]
    },
    {
     "name": "stderr",
     "output_type": "stream",
     "text": [
      " 81%|█████████████████████████████████████████████████████████████████████████████████████████████████▍                      | 203/250 [00:15<00:03, 12.71it/s]"
     ]
    },
    {
     "name": "stdout",
     "output_type": "stream",
     "text": [
      "--- Validation --- [threshold, AUC, Accuracy, F score] =  [np.float64(0.735), np.float64(0.968), np.float64(0.905), np.float64(0.921)]\n",
      "--- Training --- [threshold, AUC] =  [np.float64(0.734), np.float64(0.968)]\n",
      "--- Iteration 210: Training loss --- [Data, Label, Total] = [13480.926666.3, 330.840653.3, 117165.538422.3]\n",
      "!!! pred_type filter\n"
     ]
    },
    {
     "name": "stderr",
     "output_type": "stream",
     "text": [
      " 87%|████████████████████████████████████████████████████████████████████████████████████████████████████████▏               | 217/250 [00:16<00:02, 14.96it/s]"
     ]
    },
    {
     "name": "stdout",
     "output_type": "stream",
     "text": [
      "--- Validation --- [threshold, AUC, Accuracy, F score] =  [np.float64(0.734), np.float64(0.968), np.float64(0.905), np.float64(0.921)]\n",
      "--- Training --- [threshold, AUC] =  [np.float64(0.738), np.float64(0.968)]\n",
      "--- Iteration 220: Training loss --- [Data, Label, Total] = [13467.173388.3, 330.872023.3, 117046.374720.3]\n",
      "!!! pred_type filter\n"
     ]
    },
    {
     "name": "stderr",
     "output_type": "stream",
     "text": [
      " 90%|████████████████████████████████████████████████████████████████████████████████████████████████████████████▍           | 226/250 [00:17<00:01, 12.11it/s]"
     ]
    },
    {
     "name": "stdout",
     "output_type": "stream",
     "text": [
      "--- Validation --- [threshold, AUC, Accuracy, F score] =  [np.float64(0.738), np.float64(0.968), np.float64(0.905), np.float64(0.921)]\n"
     ]
    },
    {
     "name": "stderr",
     "output_type": "stream",
     "text": [
      " 92%|██████████████████████████████████████████████████████████████████████████████████████████████████████████████▍         | 230/250 [00:17<00:01, 10.26it/s]"
     ]
    },
    {
     "name": "stdout",
     "output_type": "stream",
     "text": [
      "--- Training --- [threshold, AUC] =  [np.float64(0.69), np.float64(0.968)]\n",
      "--- Iteration 230: Training loss --- [Data, Label, Total] = [13450.694858.3, 330.741111.3, 116903.429882.3]\n",
      "!!! pred_type filter\n"
     ]
    },
    {
     "name": "stderr",
     "output_type": "stream",
     "text": [
      " 93%|███████████████████████████████████████████████████████████████████████████████████████████████████████████████▊        | 233/250 [00:18<00:02,  6.94it/s]"
     ]
    },
    {
     "name": "stdout",
     "output_type": "stream",
     "text": [
      "--- Validation --- [threshold, AUC, Accuracy, F score] =  [np.float64(0.69), np.float64(0.968), np.float64(0.908), np.float64(0.925)]\n",
      "--- Training --- [threshold, AUC] =  [np.float64(0.691), np.float64(0.968)]\n",
      "--- Iteration 240: Training loss --- [Data, Label, Total] = [13428.877209.3, 330.840441.3, 116714.442919.3]\n",
      "!!! pred_type filter\n"
     ]
    },
    {
     "name": "stderr",
     "output_type": "stream",
     "text": [
      " 98%|█████████████████████████████████████████████████████████████████████████████████████████████████████████████████████▌  | 245/250 [00:19<00:00,  9.89it/s]"
     ]
    },
    {
     "name": "stdout",
     "output_type": "stream",
     "text": [
      "--- Validation --- [threshold, AUC, Accuracy, F score] =  [np.float64(0.691), np.float64(0.968), np.float64(0.908), np.float64(0.925)]\n"
     ]
    },
    {
     "name": "stderr",
     "output_type": "stream",
     "text": [
      "100%|████████████████████████████████████████████████████████████████████████████████████████████████████████████████████████| 250/250 [00:19<00:00, 12.51it/s]\n"
     ]
    },
    {
     "name": "stdout",
     "output_type": "stream",
     "text": [
      "!!! pred_type filter\n",
      "num of subgraphs induced on k-paths: 500\n",
      "num of subgraphs induced on k-paths: 500\n",
      "X_list: (225, 1000)\n",
      "2\n",
      "(1, 500)\n",
      "(1, 500)\n",
      "label_vec: (1, 1000)\n",
      "('Caltech36', 'UCLA26') predicting Harvard1 0.8514758550039455\n",
      "\n",
      "8.333333333333334: 0.8492129231812474\n",
      "8.666666666666666: 0.8514758550039455\n",
      "\n",
      "num of subgraphs induced on k-paths: 500\n",
      "num of subgraphs induced on k-paths: 500\n",
      "X_list: (225, 1000)\n",
      "2\n",
      "(1, 500)\n",
      "(1, 500)\n",
      "label_vec: (1, 1000)\n",
      "num of subgraphs induced on k-paths: 500\n",
      "num of subgraphs induced on k-paths: 871\n",
      "X_list: (225, 1371)\n",
      "2\n",
      "(1, 500)\n",
      "(1, 871)\n",
      "label_vec: (1, 1371)\n",
      "initial loading beta [[-0.38070442  0.71991124  0.38189    -0.0407862   0.06032791 -0.68148438\n",
      "  -0.39752638  0.86353333 -0.65853146  0.65353077 -0.43650738 -0.99617762\n",
      "   0.92805997 -0.90619179 -0.89350074  0.57789919  0.63997919]]\n"
     ]
    },
    {
     "name": "stderr",
     "output_type": "stream",
     "text": [
      "  0%|                                                                                                                                  | 0/250 [00:00<?, ?it/s]"
     ]
    },
    {
     "name": "stdout",
     "output_type": "stream",
     "text": [
      "--- Training --- [threshold, AUC] =  [np.float64(0.665), np.float64(0.966)]\n",
      "--- Iteration 0: Training loss --- [Data, Label, Total] = [26603.655036.3, 354.229478.3, 239787.124805.3]\n"
     ]
    },
    {
     "name": "stderr",
     "output_type": "stream",
     "text": [
      "  2%|██▍                                                                                                                       | 5/250 [00:00<00:05, 46.02it/s]"
     ]
    },
    {
     "name": "stdout",
     "output_type": "stream",
     "text": [
      "--- Training --- [threshold, AUC] =  [np.float64(0.744), np.float64(0.969)]\n",
      "--- Iteration 10: Training loss --- [Data, Label, Total] = [21598.605606.3, 325.615035.3, 194713.065492.3]\n",
      "!!! pred_type filter\n"
     ]
    },
    {
     "name": "stderr",
     "output_type": "stream",
     "text": [
      "  7%|████████▏                                                                                                                | 17/250 [00:00<00:12, 18.60it/s]"
     ]
    },
    {
     "name": "stdout",
     "output_type": "stream",
     "text": [
      "--- Validation --- [threshold, AUC, Accuracy, F score] =  [np.float64(0.744), np.float64(0.969), np.float64(0.902), np.float64(0.919)]\n",
      "--- Training --- [threshold, AUC] =  [np.float64(0.705), np.float64(0.97)]\n",
      "--- Iteration 20: Training loss --- [Data, Label, Total] = [16363.762058.3, 322.965913.3, 147596.824438.3]\n",
      "!!! pred_type filter\n"
     ]
    },
    {
     "name": "stderr",
     "output_type": "stream",
     "text": [
      " 12%|██████████████                                                                                                           | 29/250 [00:01<00:12, 17.60it/s]"
     ]
    },
    {
     "name": "stdout",
     "output_type": "stream",
     "text": [
      "--- Validation --- [threshold, AUC, Accuracy, F score] =  [np.float64(0.705), np.float64(0.97), np.float64(0.915), np.float64(0.931)]\n",
      "--- Training --- [threshold, AUC] =  [np.float64(0.704), np.float64(0.971)]\n",
      "--- Iteration 30: Training loss --- [Data, Label, Total] = [15136.430860.3, 321.746721.3, 136549.624459.3]\n",
      "!!! pred_type filter\n"
     ]
    },
    {
     "name": "stderr",
     "output_type": "stream",
     "text": [
      " 14%|████████████████▍                                                                                                        | 34/250 [00:02<00:16, 12.72it/s]"
     ]
    },
    {
     "name": "stdout",
     "output_type": "stream",
     "text": [
      "--- Validation --- [threshold, AUC, Accuracy, F score] =  [np.float64(0.704), np.float64(0.971), np.float64(0.916), np.float64(0.932)]\n",
      "--- Training --- [threshold, AUC] =  [np.float64(0.678), np.float64(0.972)]\n",
      "--- Iteration 40: Training loss --- [Data, Label, Total] = [14524.035187.3, 320.051328.3, 131036.368013.3]\n",
      "!!! pred_type filter\n"
     ]
    },
    {
     "name": "stderr",
     "output_type": "stream",
     "text": [
      " 19%|██████████████████████▋                                                                                                  | 47/250 [00:03<00:16, 12.55it/s]"
     ]
    },
    {
     "name": "stdout",
     "output_type": "stream",
     "text": [
      "--- Validation --- [threshold, AUC, Accuracy, F score] =  [np.float64(0.678), np.float64(0.972), np.float64(0.918), np.float64(0.934)]\n",
      "--- Training --- [threshold, AUC] =  [np.float64(0.681), np.float64(0.973)]\n",
      "--- Iteration 50: Training loss --- [Data, Label, Total] = [14226.147991.3, 318.728019.3, 128354.059933.3]\n",
      "!!! pred_type filter\n"
     ]
    },
    {
     "name": "stderr",
     "output_type": "stream",
     "text": [
      " 24%|████████████████████████████▌                                                                                            | 59/250 [00:04<00:14, 13.05it/s]"
     ]
    },
    {
     "name": "stdout",
     "output_type": "stream",
     "text": [
      "--- Validation --- [threshold, AUC, Accuracy, F score] =  [np.float64(0.681), np.float64(0.973), np.float64(0.918), np.float64(0.934)]\n",
      "--- Training --- [threshold, AUC] =  [np.float64(0.692), np.float64(0.973)]\n",
      "--- Iteration 60: Training loss --- [Data, Label, Total] = [14060.605728.3, 318.073384.3, 126863.524934.3]\n",
      "!!! pred_type filter\n"
     ]
    },
    {
     "name": "stderr",
     "output_type": "stream",
     "text": [
      " 26%|██████████████████████████████▉                                                                                          | 64/250 [00:05<00:17, 10.65it/s]"
     ]
    },
    {
     "name": "stdout",
     "output_type": "stream",
     "text": [
      "--- Validation --- [threshold, AUC, Accuracy, F score] =  [np.float64(0.692), np.float64(0.973), np.float64(0.916), np.float64(0.932)]\n",
      "--- Training --- [threshold, AUC] =  [np.float64(0.689), np.float64(0.973)]\n",
      "--- Iteration 70: Training loss --- [Data, Label, Total] = [13926.259290.3, 317.133401.3, 125653.467010.3]\n",
      "!!! pred_type filter\n"
     ]
    },
    {
     "name": "stderr",
     "output_type": "stream",
     "text": [
      " 32%|██████████████████████████████████████▋                                                                                  | 80/250 [00:06<00:10, 15.57it/s]"
     ]
    },
    {
     "name": "stdout",
     "output_type": "stream",
     "text": [
      "--- Validation --- [threshold, AUC, Accuracy, F score] =  [np.float64(0.689), np.float64(0.973), np.float64(0.916), np.float64(0.932)]\n",
      "--- Training --- [threshold, AUC] =  [np.float64(0.769), np.float64(0.973)]\n",
      "--- Iteration 80: Training loss --- [Data, Label, Total] = [13804.328655.3, 316.831619.3, 124555.789513.3]\n",
      "!!! pred_type filter\n"
     ]
    },
    {
     "name": "stderr",
     "output_type": "stream",
     "text": [
      " 34%|█████████████████████████████████████████▏                                                                               | 85/250 [00:07<00:13, 12.11it/s]"
     ]
    },
    {
     "name": "stdout",
     "output_type": "stream",
     "text": [
      "--- Validation --- [threshold, AUC, Accuracy, F score] =  [np.float64(0.769), np.float64(0.973), np.float64(0.908), np.float64(0.923)]\n",
      "--- Training --- [threshold, AUC] =  [np.float64(0.756), np.float64(0.973)]\n",
      "--- Iteration 90: Training loss --- [Data, Label, Total] = [13713.840804.3, 317.000877.3, 123741.568111.3]\n",
      "!!! pred_type filter\n"
     ]
    },
    {
     "name": "stderr",
     "output_type": "stream",
     "text": [
      " 40%|████████████████████████████████████████████████                                                                        | 100/250 [00:07<00:09, 16.19it/s]"
     ]
    },
    {
     "name": "stdout",
     "output_type": "stream",
     "text": [
      "--- Validation --- [threshold, AUC, Accuracy, F score] =  [np.float64(0.756), np.float64(0.973), np.float64(0.91), np.float64(0.926)]\n",
      "--- Training --- [threshold, AUC] =  [np.float64(0.753), np.float64(0.973)]\n",
      "--- Iteration 100: Training loss --- [Data, Label, Total] = [13657.557159.3, 317.066032.3, 123235.080459.3]\n",
      "!!! pred_type filter\n"
     ]
    },
    {
     "name": "stderr",
     "output_type": "stream",
     "text": [
      " 42%|██████████████████████████████████████████████████▍                                                                     | 105/250 [00:08<00:11, 12.49it/s]"
     ]
    },
    {
     "name": "stdout",
     "output_type": "stream",
     "text": [
      "--- Validation --- [threshold, AUC, Accuracy, F score] =  [np.float64(0.753), np.float64(0.973), np.float64(0.912), np.float64(0.927)]\n",
      "--- Training --- [threshold, AUC] =  [np.float64(0.752), np.float64(0.973)]\n",
      "--- Iteration 110: Training loss --- [Data, Label, Total] = [13623.544664.3, 317.618209.3, 122929.520183.3]\n",
      "!!! pred_type filter\n"
     ]
    },
    {
     "name": "stderr",
     "output_type": "stream",
     "text": [
      " 48%|█████████████████████████████████████████████████████████                                                               | 119/250 [00:09<00:09, 14.16it/s]"
     ]
    },
    {
     "name": "stdout",
     "output_type": "stream",
     "text": [
      "--- Validation --- [threshold, AUC, Accuracy, F score] =  [np.float64(0.752), np.float64(0.973), np.float64(0.912), np.float64(0.927)]\n",
      "--- Training --- [threshold, AUC] =  [np.float64(0.752), np.float64(0.973)]\n",
      "--- Iteration 120: Training loss --- [Data, Label, Total] = [13601.538015.3, 317.648965.3, 122731.491101.3]\n",
      "!!! pred_type filter\n"
     ]
    },
    {
     "name": "stderr",
     "output_type": "stream",
     "text": [
      " 50%|███████████████████████████████████████████████████████████▌                                                            | 124/250 [00:10<00:10, 11.48it/s]"
     ]
    },
    {
     "name": "stdout",
     "output_type": "stream",
     "text": [
      "--- Validation --- [threshold, AUC, Accuracy, F score] =  [np.float64(0.752), np.float64(0.973), np.float64(0.912), np.float64(0.927)]\n",
      "--- Training --- [threshold, AUC] =  [np.float64(0.741), np.float64(0.973)]\n",
      "--- Iteration 130: Training loss --- [Data, Label, Total] = [13585.769603.3, 317.661281.3, 122589.587705.3]\n",
      "!!! pred_type filter\n"
     ]
    },
    {
     "name": "stderr",
     "output_type": "stream",
     "text": [
      " 56%|███████████████████████████████████████████████████████████████████▏                                                    | 140/250 [00:11<00:06, 16.26it/s]"
     ]
    },
    {
     "name": "stdout",
     "output_type": "stream",
     "text": [
      "--- Validation --- [threshold, AUC, Accuracy, F score] =  [np.float64(0.741), np.float64(0.973), np.float64(0.912), np.float64(0.928)]\n",
      "--- Training --- [threshold, AUC] =  [np.float64(0.737), np.float64(0.973)]\n",
      "--- Iteration 140: Training loss --- [Data, Label, Total] = [13572.729126.3, 317.635611.3, 122472.197741.3]\n",
      "!!! pred_type filter\n"
     ]
    },
    {
     "name": "stderr",
     "output_type": "stream",
     "text": [
      " 58%|█████████████████████████████████████████████████████████████████████▌                                                  | 145/250 [00:11<00:08, 12.74it/s]"
     ]
    },
    {
     "name": "stdout",
     "output_type": "stream",
     "text": [
      "--- Validation --- [threshold, AUC, Accuracy, F score] =  [np.float64(0.737), np.float64(0.973), np.float64(0.913), np.float64(0.929)]\n",
      "--- Training --- [threshold, AUC] =  [np.float64(0.737), np.float64(0.973)]\n",
      "--- Iteration 150: Training loss --- [Data, Label, Total] = [13559.629797.3, 317.624371.3, 122354.292543.3]\n",
      "!!! pred_type filter\n"
     ]
    },
    {
     "name": "stderr",
     "output_type": "stream",
     "text": [
      " 64%|████████████████████████████████████████████████████████████████████████████▊                                           | 160/250 [00:12<00:05, 16.69it/s]"
     ]
    },
    {
     "name": "stdout",
     "output_type": "stream",
     "text": [
      "--- Validation --- [threshold, AUC, Accuracy, F score] =  [np.float64(0.737), np.float64(0.973), np.float64(0.913), np.float64(0.929)]\n",
      "--- Training --- [threshold, AUC] =  [np.float64(0.739), np.float64(0.973)]\n",
      "--- Iteration 160: Training loss --- [Data, Label, Total] = [13544.341276.3, 317.684469.3, 122216.755958.3]\n",
      "!!! pred_type filter\n"
     ]
    },
    {
     "name": "stderr",
     "output_type": "stream",
     "text": [
      " 66%|███████████████████████████████████████████████████████████████████████████████▏                                        | 165/250 [00:13<00:06, 13.05it/s]"
     ]
    },
    {
     "name": "stdout",
     "output_type": "stream",
     "text": [
      "--- Validation --- [threshold, AUC, Accuracy, F score] =  [np.float64(0.739), np.float64(0.973), np.float64(0.913), np.float64(0.929)]\n",
      "--- Training --- [threshold, AUC] =  [np.float64(0.74), np.float64(0.973)]\n",
      "--- Iteration 170: Training loss --- [Data, Label, Total] = [13524.372066.3, 317.655519.3, 122037.004114.3]\n",
      "!!! pred_type filter\n"
     ]
    },
    {
     "name": "stderr",
     "output_type": "stream",
     "text": [
      " 71%|█████████████████████████████████████████████████████████████████████████████████████▍                                  | 178/250 [00:14<00:04, 15.66it/s]"
     ]
    },
    {
     "name": "stdout",
     "output_type": "stream",
     "text": [
      "--- Validation --- [threshold, AUC, Accuracy, F score] =  [np.float64(0.74), np.float64(0.973), np.float64(0.913), np.float64(0.929)]\n",
      "--- Training --- [threshold, AUC] =  [np.float64(0.739), np.float64(0.973)]\n",
      "--- Iteration 180: Training loss --- [Data, Label, Total] = [13496.973967.3, 317.554915.3, 121790.320615.3]\n",
      "!!! pred_type filter\n"
     ]
    },
    {
     "name": "stderr",
     "output_type": "stream",
     "text": [
      " 73%|███████████████████████████████████████████████████████████████████████████████████████▎                                | 182/250 [00:14<00:05, 11.40it/s]"
     ]
    },
    {
     "name": "stdout",
     "output_type": "stream",
     "text": [
      "--- Validation --- [threshold, AUC, Accuracy, F score] =  [np.float64(0.739), np.float64(0.973), np.float64(0.913), np.float64(0.929)]\n",
      "--- Training --- [threshold, AUC] =  [np.float64(0.736), np.float64(0.973)]\n",
      "--- Iteration 190: Training loss --- [Data, Label, Total] = [13458.508521.3, 317.460401.3, 121444.037088.3]\n",
      "!!! pred_type filter\n"
     ]
    },
    {
     "name": "stderr",
     "output_type": "stream",
     "text": [
      " 80%|████████████████████████████████████████████████████████████████████████████████████████████████                        | 200/250 [00:15<00:02, 17.26it/s]"
     ]
    },
    {
     "name": "stdout",
     "output_type": "stream",
     "text": [
      "--- Validation --- [threshold, AUC, Accuracy, F score] =  [np.float64(0.736), np.float64(0.973), np.float64(0.913), np.float64(0.929)]\n",
      "--- Training --- [threshold, AUC] =  [np.float64(0.663), np.float64(0.973)]\n",
      "--- Iteration 200: Training loss --- [Data, Label, Total] = [13406.465438.3, 317.235413.3, 120975.424357.3]\n",
      "!!! pred_type filter\n"
     ]
    },
    {
     "name": "stderr",
     "output_type": "stream",
     "text": [
      " 82%|██████████████████████████████████████████████████████████████████████████████████████████████████▍                     | 205/250 [00:16<00:03, 13.44it/s]"
     ]
    },
    {
     "name": "stdout",
     "output_type": "stream",
     "text": [
      "--- Validation --- [threshold, AUC, Accuracy, F score] =  [np.float64(0.663), np.float64(0.973), np.float64(0.92), np.float64(0.936)]\n",
      "--- Training --- [threshold, AUC] =  [np.float64(0.662), np.float64(0.973)]\n",
      "--- Iteration 210: Training loss --- [Data, Label, Total] = [13339.750158.3, 317.452932.3, 120375.204356.3]\n",
      "!!! pred_type filter\n"
     ]
    },
    {
     "name": "stderr",
     "output_type": "stream",
     "text": [
      " 86%|███████████████████████████████████████████████████████████████████████████████████████████████████████▋                | 216/250 [00:17<00:02, 14.16it/s]"
     ]
    },
    {
     "name": "stdout",
     "output_type": "stream",
     "text": [
      "--- Validation --- [threshold, AUC, Accuracy, F score] =  [np.float64(0.662), np.float64(0.973), np.float64(0.92), np.float64(0.936)]\n",
      "--- Training --- [threshold, AUC] =  [np.float64(0.654), np.float64(0.973)]\n",
      "--- Iteration 220: Training loss --- [Data, Label, Total] = [13267.147371.3, 317.178116.3, 119721.504453.3]\n",
      "!!! pred_type filter\n"
     ]
    },
    {
     "name": "stderr",
     "output_type": "stream",
     "text": [
      " 92%|██████████████████████████████████████████████████████████████████████████████████████████████████████████████▍         | 230/250 [00:18<00:01, 14.71it/s]"
     ]
    },
    {
     "name": "stdout",
     "output_type": "stream",
     "text": [
      "--- Validation --- [threshold, AUC, Accuracy, F score] =  [np.float64(0.654), np.float64(0.973), np.float64(0.921), np.float64(0.937)]\n",
      "--- Training --- [threshold, AUC] =  [np.float64(0.653), np.float64(0.973)]\n",
      "--- Iteration 230: Training loss --- [Data, Label, Total] = [13195.777767.3, 316.979756.3, 119078.979659.3]\n",
      "!!! pred_type filter\n"
     ]
    },
    {
     "name": "stderr",
     "output_type": "stream",
     "text": [
      " 94%|████████████████████████████████████████████████████████████████████████████████████████████████████████████████▊       | 235/250 [00:19<00:01,  9.59it/s]"
     ]
    },
    {
     "name": "stdout",
     "output_type": "stream",
     "text": [
      "--- Validation --- [threshold, AUC, Accuracy, F score] =  [np.float64(0.653), np.float64(0.973), np.float64(0.922), np.float64(0.937)]\n"
     ]
    },
    {
     "name": "stderr",
     "output_type": "stream",
     "text": [
      " 96%|███████████████████████████████████████████████████████████████████████████████████████████████████████████████████▏    | 240/250 [00:19<00:00, 11.92it/s]"
     ]
    },
    {
     "name": "stdout",
     "output_type": "stream",
     "text": [
      "--- Training --- [threshold, AUC] =  [np.float64(0.658), np.float64(0.973)]\n",
      "--- Iteration 240: Training loss --- [Data, Label, Total] = [13128.034093.3, 317.103515.3, 118469.410349.3]\n",
      "!!! pred_type filter\n"
     ]
    },
    {
     "name": "stderr",
     "output_type": "stream",
     "text": [
      "100%|████████████████████████████████████████████████████████████████████████████████████████████████████████████████████████| 250/250 [00:20<00:00, 12.15it/s]"
     ]
    },
    {
     "name": "stdout",
     "output_type": "stream",
     "text": [
      "--- Validation --- [threshold, AUC, Accuracy, F score] =  [np.float64(0.658), np.float64(0.973), np.float64(0.922), np.float64(0.937)]\n",
      "!!! pred_type filter\n"
     ]
    },
    {
     "name": "stderr",
     "output_type": "stream",
     "text": [
      "\n"
     ]
    },
    {
     "name": "stdout",
     "output_type": "stream",
     "text": [
      "num of subgraphs induced on k-paths: 500\n",
      "num of subgraphs induced on k-paths: 500\n",
      "X_list: (225, 1000)\n",
      "2\n",
      "(1, 500)\n",
      "(1, 500)\n",
      "label_vec: (1, 1000)\n",
      "('Caltech36', 'UCLA26') predicting Harvard1 0.8389586410372941\n",
      "\n",
      "8.333333333333334: 0.8492129231812474\n",
      "8.666666666666666: 0.8514758550039455\n",
      "9.0: 0.8389586410372941\n",
      "\n",
      "num of subgraphs induced on k-paths: 500\n",
      "num of subgraphs induced on k-paths: 500\n",
      "X_list: (225, 1000)\n",
      "2\n",
      "(1, 500)\n",
      "(1, 500)\n",
      "label_vec: (1, 1000)\n",
      "num of subgraphs induced on k-paths: 500\n",
      "num of subgraphs induced on k-paths: 861\n",
      "X_list: (225, 1361)\n",
      "2\n",
      "(1, 500)\n",
      "(1, 861)\n",
      "label_vec: (1, 1361)\n",
      "initial loading beta [[-0.91716539 -0.10017159 -0.24554338  0.01327281  0.62130411 -0.75283838\n",
      "  -0.0243629   0.48562533  0.52517563  0.1670676  -0.23575084 -0.45314085\n",
      "  -0.30345618 -0.92924321  0.23241376 -0.29264995  0.05278482]]\n"
     ]
    },
    {
     "name": "stderr",
     "output_type": "stream",
     "text": [
      "  3%|███▉                                                                                                                      | 8/250 [00:00<00:03, 72.30it/s]"
     ]
    },
    {
     "name": "stdout",
     "output_type": "stream",
     "text": [
      "--- Training --- [threshold, AUC] =  [np.float64(0.702), np.float64(0.946)]\n",
      "--- Iteration 0: Training loss --- [Data, Label, Total] = [35415.548984.3, 457.190535.3, 331002.314390.3]\n",
      "--- Training --- [threshold, AUC] =  [np.float64(0.734), np.float64(0.962)]\n",
      "--- Iteration 10: Training loss --- [Data, Label, Total] = [24127.241631.3, 353.585744.3, 225541.174303.3]\n",
      "!!! pred_type filter\n"
     ]
    },
    {
     "name": "stderr",
     "output_type": "stream",
     "text": [
      "  6%|███████▋                                                                                                                 | 16/250 [00:00<00:11, 20.66it/s]"
     ]
    },
    {
     "name": "stdout",
     "output_type": "stream",
     "text": [
      "--- Validation --- [threshold, AUC, Accuracy, F score] =  [np.float64(0.734), np.float64(0.962), np.float64(0.906), np.float64(0.923)]\n",
      "--- Training --- [threshold, AUC] =  [np.float64(0.691), np.float64(0.963)]\n",
      "--- Iteration 20: Training loss --- [Data, Label, Total] = [17462.386663.3, 349.799743.3, 163332.075262.3]\n",
      "!!! pred_type filter\n"
     ]
    },
    {
     "name": "stderr",
     "output_type": "stream",
     "text": [
      " 12%|██████████████                                                                                                           | 29/250 [00:01<00:10, 20.43it/s]"
     ]
    },
    {
     "name": "stdout",
     "output_type": "stream",
     "text": [
      "--- Validation --- [threshold, AUC, Accuracy, F score] =  [np.float64(0.691), np.float64(0.963), np.float64(0.91), np.float64(0.927)]\n",
      "--- Training --- [threshold, AUC] =  [np.float64(0.721), np.float64(0.962)]\n",
      "--- Iteration 30: Training loss --- [Data, Label, Total] = [15869.920945.3, 353.335969.3, 148472.598119.3]\n",
      "!!! pred_type filter\n"
     ]
    },
    {
     "name": "stderr",
     "output_type": "stream",
     "text": [
      " 14%|████████████████▍                                                                                                        | 34/250 [00:02<00:16, 12.77it/s]"
     ]
    },
    {
     "name": "stdout",
     "output_type": "stream",
     "text": [
      "--- Validation --- [threshold, AUC, Accuracy, F score] =  [np.float64(0.721), np.float64(0.962), np.float64(0.908), np.float64(0.925)]\n",
      "--- Training --- [threshold, AUC] =  [np.float64(0.722), np.float64(0.962)]\n",
      "--- Iteration 40: Training loss --- [Data, Label, Total] = [15098.494432.3, 354.084839.3, 141273.366205.3]\n",
      "!!! pred_type filter\n"
     ]
    },
    {
     "name": "stderr",
     "output_type": "stream",
     "text": [
      " 20%|███████████████████████▋                                                                                                 | 49/250 [00:03<00:12, 15.99it/s]"
     ]
    },
    {
     "name": "stdout",
     "output_type": "stream",
     "text": [
      "--- Validation --- [threshold, AUC, Accuracy, F score] =  [np.float64(0.722), np.float64(0.962), np.float64(0.907), np.float64(0.924)]\n",
      "--- Training --- [threshold, AUC] =  [np.float64(0.74), np.float64(0.962)]\n",
      "--- Iteration 50: Training loss --- [Data, Label, Total] = [14638.050992.3, 355.353372.3, 136977.162626.3]\n",
      "!!! pred_type filter\n"
     ]
    },
    {
     "name": "stderr",
     "output_type": "stream",
     "text": [
      " 22%|██████████████████████████▏                                                                                              | 54/250 [00:03<00:15, 12.38it/s]"
     ]
    },
    {
     "name": "stdout",
     "output_type": "stream",
     "text": [
      "--- Validation --- [threshold, AUC, Accuracy, F score] =  [np.float64(0.74), np.float64(0.962), np.float64(0.906), np.float64(0.923)]\n",
      "--- Training --- [threshold, AUC] =  [np.float64(0.698), np.float64(0.962)]\n",
      "--- Iteration 60: Training loss --- [Data, Label, Total] = [14368.067495.3, 356.046799.3, 134458.010089.3]\n",
      "!!! pred_type filter\n"
     ]
    },
    {
     "name": "stderr",
     "output_type": "stream",
     "text": [
      " 28%|█████████████████████████████████▉                                                                                       | 70/250 [00:04<00:10, 17.16it/s]"
     ]
    },
    {
     "name": "stdout",
     "output_type": "stream",
     "text": [
      "--- Validation --- [threshold, AUC, Accuracy, F score] =  [np.float64(0.698), np.float64(0.962), np.float64(0.908), np.float64(0.925)]\n",
      "--- Training --- [threshold, AUC] =  [np.float64(0.705), np.float64(0.962)]\n",
      "--- Iteration 70: Training loss --- [Data, Label, Total] = [14158.909041.3, 355.587734.3, 132505.405453.3]\n",
      "!!! pred_type filter\n"
     ]
    },
    {
     "name": "stderr",
     "output_type": "stream",
     "text": [
      " 30%|████████████████████████████████████▎                                                                                    | 75/250 [00:05<00:13, 12.96it/s]"
     ]
    },
    {
     "name": "stdout",
     "output_type": "stream",
     "text": [
      "--- Validation --- [threshold, AUC, Accuracy, F score] =  [np.float64(0.705), np.float64(0.962), np.float64(0.907), np.float64(0.924)]\n",
      "--- Training --- [threshold, AUC] =  [np.float64(0.669), np.float64(0.963)]\n",
      "--- Iteration 80: Training loss --- [Data, Label, Total] = [13971.113995.3, 353.270195.3, 130750.334144.3]\n",
      "!!! pred_type filter\n"
     ]
    },
    {
     "name": "stderr",
     "output_type": "stream",
     "text": [
      " 36%|███████████████████████████████████████████                                                                              | 89/250 [00:06<00:10, 15.94it/s]"
     ]
    },
    {
     "name": "stdout",
     "output_type": "stream",
     "text": [
      "--- Validation --- [threshold, AUC, Accuracy, F score] =  [np.float64(0.669), np.float64(0.963), np.float64(0.913), np.float64(0.929)]\n",
      "--- Training --- [threshold, AUC] =  [np.float64(0.653), np.float64(0.964)]\n",
      "--- Iteration 90: Training loss --- [Data, Label, Total] = [13795.638341.3, 349.563617.3, 129108.854804.3]\n",
      "!!! pred_type filter\n"
     ]
    },
    {
     "name": "stderr",
     "output_type": "stream",
     "text": [
      " 37%|█████████████████████████████████████████████                                                                            | 93/250 [00:06<00:13, 11.93it/s]"
     ]
    },
    {
     "name": "stdout",
     "output_type": "stream",
     "text": [
      "--- Validation --- [threshold, AUC, Accuracy, F score] =  [np.float64(0.653), np.float64(0.964), np.float64(0.915), np.float64(0.931)]\n",
      "--- Training --- [threshold, AUC] =  [np.float64(0.711), np.float64(0.964)]\n",
      "--- Iteration 100: Training loss --- [Data, Label, Total] = [13641.877198.3, 346.161339.3, 127670.348517.3]\n",
      "!!! pred_type filter\n"
     ]
    },
    {
     "name": "stderr",
     "output_type": "stream",
     "text": [
      " 43%|███████████████████████████████████████████████████▎                                                                    | 107/250 [00:07<00:09, 14.58it/s]"
     ]
    },
    {
     "name": "stdout",
     "output_type": "stream",
     "text": [
      "--- Validation --- [threshold, AUC, Accuracy, F score] =  [np.float64(0.711), np.float64(0.964), np.float64(0.913), np.float64(0.929)]\n",
      "--- Training --- [threshold, AUC] =  [np.float64(0.712), np.float64(0.965)]\n",
      "--- Iteration 110: Training loss --- [Data, Label, Total] = [13515.361121.3, 343.414127.3, 126486.784594.3]\n",
      "!!! pred_type filter\n"
     ]
    },
    {
     "name": "stderr",
     "output_type": "stream",
     "text": [
      " 46%|██████████████████████████████████████████████████████▋                                                                 | 114/250 [00:09<00:16,  8.45it/s]"
     ]
    },
    {
     "name": "stdout",
     "output_type": "stream",
     "text": [
      "--- Validation --- [threshold, AUC, Accuracy, F score] =  [np.float64(0.712), np.float64(0.965), np.float64(0.914), np.float64(0.93)]\n"
     ]
    },
    {
     "name": "stderr",
     "output_type": "stream",
     "text": [
      " 47%|████████████████████████████████████████████████████████▋                                                               | 118/250 [00:09<00:12, 10.61it/s]"
     ]
    },
    {
     "name": "stdout",
     "output_type": "stream",
     "text": [
      "--- Training --- [threshold, AUC] =  [np.float64(0.699), np.float64(0.965)]\n",
      "--- Iteration 120: Training loss --- [Data, Label, Total] = [13413.898002.3, 341.376068.3, 125537.757424.3]\n",
      "!!! pred_type filter\n"
     ]
    },
    {
     "name": "stderr",
     "output_type": "stream",
     "text": [
      " 50%|███████████████████████████████████████████████████████████▌                                                            | 124/250 [00:11<00:19,  6.48it/s]"
     ]
    },
    {
     "name": "stdout",
     "output_type": "stream",
     "text": [
      "--- Validation --- [threshold, AUC, Accuracy, F score] =  [np.float64(0.699), np.float64(0.965), np.float64(0.916), np.float64(0.931)]\n"
     ]
    },
    {
     "name": "stderr",
     "output_type": "stream",
     "text": [
      " 52%|██████████████████████████████████████████████████████████████▍                                                         | 130/250 [00:11<00:12,  9.98it/s]"
     ]
    },
    {
     "name": "stdout",
     "output_type": "stream",
     "text": [
      "--- Training --- [threshold, AUC] =  [np.float64(0.698), np.float64(0.966)]\n",
      "--- Iteration 130: Training loss --- [Data, Label, Total] = [13331.332812.3, 340.435919.3, 124766.208835.3]\n",
      "!!! pred_type filter\n"
     ]
    },
    {
     "name": "stderr",
     "output_type": "stream",
     "text": [
      " 53%|███████████████████████████████████████████████████████████████▊                                                        | 133/250 [00:14<00:38,  3.02it/s]"
     ]
    },
    {
     "name": "stdout",
     "output_type": "stream",
     "text": [
      "--- Validation --- [threshold, AUC, Accuracy, F score] =  [np.float64(0.698), np.float64(0.966), np.float64(0.916), np.float64(0.932)]\n"
     ]
    },
    {
     "name": "stderr",
     "output_type": "stream",
     "text": [
      " 56%|██████████████████████████████████████████████████████████████████▋                                                     | 139/250 [00:14<00:21,  5.21it/s]"
     ]
    },
    {
     "name": "stdout",
     "output_type": "stream",
     "text": [
      "--- Training --- [threshold, AUC] =  [np.float64(0.686), np.float64(0.966)]\n",
      "--- Iteration 140: Training loss --- [Data, Label, Total] = [13263.575434.3, 339.741859.3, 124133.112580.3]\n",
      "!!! pred_type filter\n"
     ]
    },
    {
     "name": "stderr",
     "output_type": "stream",
     "text": [
      " 57%|████████████████████████████████████████████████████████████████████▋                                                   | 143/250 [00:17<00:41,  2.59it/s]"
     ]
    },
    {
     "name": "stdout",
     "output_type": "stream",
     "text": [
      "--- Validation --- [threshold, AUC, Accuracy, F score] =  [np.float64(0.686), np.float64(0.966), np.float64(0.918), np.float64(0.933)]\n"
     ]
    },
    {
     "name": "stderr",
     "output_type": "stream",
     "text": [
      " 60%|████████████████████████████████████████████████████████████████████████                                                | 150/250 [00:18<00:18,  5.34it/s]"
     ]
    },
    {
     "name": "stdout",
     "output_type": "stream",
     "text": [
      "--- Training --- [threshold, AUC] =  [np.float64(0.683), np.float64(0.966)]\n",
      "--- Iteration 150: Training loss --- [Data, Label, Total] = [13205.206471.3, 339.402469.3, 123587.996202.3]\n",
      "!!! pred_type filter\n"
     ]
    },
    {
     "name": "stderr",
     "output_type": "stream",
     "text": [
      " 64%|████████████████████████████████████████████████████████████████████████████▊                                           | 160/250 [00:19<00:11,  7.83it/s]"
     ]
    },
    {
     "name": "stdout",
     "output_type": "stream",
     "text": [
      "--- Validation --- [threshold, AUC, Accuracy, F score] =  [np.float64(0.683), np.float64(0.966), np.float64(0.918), np.float64(0.934)]\n",
      "--- Training --- [threshold, AUC] =  [np.float64(0.693), np.float64(0.966)]\n",
      "--- Iteration 160: Training loss --- [Data, Label, Total] = [13151.926480.3, 339.192133.3, 123090.505950.3]\n",
      "!!! pred_type filter\n"
     ]
    },
    {
     "name": "stderr",
     "output_type": "stream",
     "text": [
      " 68%|█████████████████████████████████████████████████████████████████████████████████▌                                      | 170/250 [00:20<00:07, 10.81it/s]"
     ]
    },
    {
     "name": "stdout",
     "output_type": "stream",
     "text": [
      "--- Validation --- [threshold, AUC, Accuracy, F score] =  [np.float64(0.693), np.float64(0.966), np.float64(0.917), np.float64(0.933)]\n",
      "--- Training --- [threshold, AUC] =  [np.float64(0.697), np.float64(0.966)]\n",
      "--- Iteration 170: Training loss --- [Data, Label, Total] = [13097.943821.3, 339.162342.3, 122586.638009.3]\n",
      "!!! pred_type filter\n"
     ]
    },
    {
     "name": "stderr",
     "output_type": "stream",
     "text": [
      " 72%|██████████████████████████████████████████████████████████████████████████████████████▍                                 | 180/250 [00:21<00:06, 10.58it/s]"
     ]
    },
    {
     "name": "stdout",
     "output_type": "stream",
     "text": [
      "--- Validation --- [threshold, AUC, Accuracy, F score] =  [np.float64(0.697), np.float64(0.966), np.float64(0.916), np.float64(0.932)]\n",
      "--- Training --- [threshold, AUC] =  [np.float64(0.696), np.float64(0.966)]\n",
      "--- Iteration 180: Training loss --- [Data, Label, Total] = [13041.058048.3, 339.089086.3, 122055.630868.3]\n",
      "!!! pred_type filter\n"
     ]
    },
    {
     "name": "stderr",
     "output_type": "stream",
     "text": [
      " 76%|███████████████████████████████████████████████████████████████████████████████████████████▏                            | 190/250 [00:23<00:07,  8.46it/s]"
     ]
    },
    {
     "name": "stdout",
     "output_type": "stream",
     "text": [
      "--- Validation --- [threshold, AUC, Accuracy, F score] =  [np.float64(0.696), np.float64(0.966), np.float64(0.916), np.float64(0.931)]\n",
      "--- Training --- [threshold, AUC] =  [np.float64(0.7), np.float64(0.966)]\n",
      "--- Iteration 190: Training loss --- [Data, Label, Total] = [12983.929226.3, 339.060125.3, 121522.399568.3]\n",
      "!!! pred_type filter\n"
     ]
    },
    {
     "name": "stderr",
     "output_type": "stream",
     "text": [
      " 78%|█████████████████████████████████████████████████████████████████████████████████████████████                           | 194/250 [00:24<00:07,  7.02it/s]"
     ]
    },
    {
     "name": "stdout",
     "output_type": "stream",
     "text": [
      "--- Validation --- [threshold, AUC, Accuracy, F score] =  [np.float64(0.7), np.float64(0.966), np.float64(0.915), np.float64(0.931)]\n",
      "--- Training --- [threshold, AUC] =  [np.float64(0.697), np.float64(0.966)]\n",
      "--- Iteration 200: Training loss --- [Data, Label, Total] = [12933.153804.3, 339.106213.3, 121048.541717.3]\n",
      "!!! pred_type filter\n"
     ]
    },
    {
     "name": "stderr",
     "output_type": "stream",
     "text": [
      " 83%|███████████████████████████████████████████████████████████████████████████████████████████████████▊                    | 208/250 [00:25<00:03, 10.99it/s]"
     ]
    },
    {
     "name": "stdout",
     "output_type": "stream",
     "text": [
      "--- Validation --- [threshold, AUC, Accuracy, F score] =  [np.float64(0.697), np.float64(0.966), np.float64(0.914), np.float64(0.93)]\n",
      "--- Training --- [threshold, AUC] =  [np.float64(0.691), np.float64(0.966)]\n",
      "--- Iteration 210: Training loss --- [Data, Label, Total] = [12891.847837.3, 339.096238.3, 120663.009386.3]\n",
      "!!! pred_type filter\n"
     ]
    },
    {
     "name": "stderr",
     "output_type": "stream",
     "text": [
      " 85%|█████████████████████████████████████████████████████████████████████████████████████████████████████▊                  | 212/250 [00:25<00:04,  9.45it/s]"
     ]
    },
    {
     "name": "stdout",
     "output_type": "stream",
     "text": [
      "--- Validation --- [threshold, AUC, Accuracy, F score] =  [np.float64(0.691), np.float64(0.966), np.float64(0.913), np.float64(0.93)]\n",
      "--- Training --- [threshold, AUC] =  [np.float64(0.695), np.float64(0.966)]\n",
      "--- Iteration 220: Training loss --- [Data, Label, Total] = [12862.023686.3, 338.949644.3, 120384.504045.3]\n",
      "!!! pred_type filter\n"
     ]
    },
    {
     "name": "stderr",
     "output_type": "stream",
     "text": [
      " 92%|█████████████████████████████████████████████████████████████████████████████████████████████████████████████▉          | 229/250 [00:26<00:01, 15.50it/s]"
     ]
    },
    {
     "name": "stdout",
     "output_type": "stream",
     "text": [
      "--- Validation --- [threshold, AUC, Accuracy, F score] =  [np.float64(0.695), np.float64(0.966), np.float64(0.913), np.float64(0.93)]\n",
      "--- Training --- [threshold, AUC] =  [np.float64(0.676), np.float64(0.966)]\n",
      "--- Iteration 230: Training loss --- [Data, Label, Total] = [12842.505872.3, 338.626634.3, 120202.014771.3]\n",
      "!!! pred_type filter\n"
     ]
    },
    {
     "name": "stderr",
     "output_type": "stream",
     "text": [
      " 96%|██████████████████████████████████████████████████████████████████████████████████████████████████████████████████▋     | 239/250 [00:27<00:00, 15.82it/s]"
     ]
    },
    {
     "name": "stdout",
     "output_type": "stream",
     "text": [
      "--- Validation --- [threshold, AUC, Accuracy, F score] =  [np.float64(0.676), np.float64(0.966), np.float64(0.914), np.float64(0.931)]\n",
      "--- Training --- [threshold, AUC] =  [np.float64(0.715), np.float64(0.966)]\n",
      "--- Iteration 240: Training loss --- [Data, Label, Total] = [12829.999340.3, 338.461426.3, 120085.121933.3]\n",
      "!!! pred_type filter\n"
     ]
    },
    {
     "name": "stderr",
     "output_type": "stream",
     "text": [
      "100%|████████████████████████████████████████████████████████████████████████████████████████████████████████████████████████| 250/250 [00:28<00:00,  8.72it/s]"
     ]
    },
    {
     "name": "stdout",
     "output_type": "stream",
     "text": [
      "--- Validation --- [threshold, AUC, Accuracy, F score] =  [np.float64(0.715), np.float64(0.966), np.float64(0.908), np.float64(0.925)]\n"
     ]
    },
    {
     "name": "stderr",
     "output_type": "stream",
     "text": [
      "\n"
     ]
    },
    {
     "name": "stdout",
     "output_type": "stream",
     "text": [
      "!!! pred_type filter\n",
      "num of subgraphs induced on k-paths: 500\n",
      "num of subgraphs induced on k-paths: 500\n",
      "X_list: (225, 1000)\n",
      "2\n",
      "(1, 500)\n",
      "(1, 500)\n",
      "label_vec: (1, 1000)\n",
      "('Caltech36', 'UCLA26') predicting Harvard1 0.8266891986001406\n",
      "\n",
      "8.333333333333334: 0.8492129231812474\n",
      "8.666666666666666: 0.8514758550039455\n",
      "9.0: 0.8389586410372941\n",
      "9.333333333333334: 0.8266891986001406\n",
      "\n",
      "num of subgraphs induced on k-paths: 500\n",
      "num of subgraphs induced on k-paths: 500\n",
      "X_list: (225, 1000)\n",
      "2\n",
      "(1, 500)\n",
      "(1, 500)\n",
      "label_vec: (1, 1000)\n",
      "num of subgraphs induced on k-paths: 500\n",
      "num of subgraphs induced on k-paths: 857\n",
      "X_list: (225, 1357)\n",
      "2\n",
      "(1, 500)\n",
      "(1, 857)\n",
      "label_vec: (1, 1357)\n",
      "initial loading beta [[ 0.57565797  0.6293463  -0.70314554 -0.60281029  0.67812303 -0.88500201\n",
      "  -0.51753786 -0.66277258  0.41472794 -0.91568948 -0.23853361 -0.1676588\n",
      "  -0.38443695  0.62601791  0.72508545  0.33630584 -0.65862862]]\n"
     ]
    },
    {
     "name": "stderr",
     "output_type": "stream",
     "text": [
      "  0%|                                                                                                                                  | 0/250 [00:00<?, ?it/s]"
     ]
    },
    {
     "name": "stdout",
     "output_type": "stream",
     "text": [
      "--- Training --- [threshold, AUC] =  [np.float64(0.691), np.float64(0.947)]\n",
      "--- Iteration 0: Training loss --- [Data, Label, Total] = [47394.431813.3, 562.076536.3, 458708.250731.3]\n"
     ]
    },
    {
     "name": "stderr",
     "output_type": "stream",
     "text": [
      "  3%|███▉                                                                                                                      | 8/250 [00:00<00:03, 73.14it/s]"
     ]
    },
    {
     "name": "stdout",
     "output_type": "stream",
     "text": [
      "--- Training --- [threshold, AUC] =  [np.float64(0.759), np.float64(0.967)]\n",
      "--- Iteration 10: Training loss --- [Data, Label, Total] = [21162.360175.3, 321.191181.3, 204890.672870.3]\n",
      "!!! pred_type filter\n"
     ]
    },
    {
     "name": "stderr",
     "output_type": "stream",
     "text": [
      "  6%|███████▋                                                                                                                 | 16/250 [00:00<00:11, 20.70it/s]"
     ]
    },
    {
     "name": "stdout",
     "output_type": "stream",
     "text": [
      "--- Validation --- [threshold, AUC, Accuracy, F score] =  [np.float64(0.759), np.float64(0.967), np.float64(0.906), np.float64(0.922)]\n",
      "--- Training --- [threshold, AUC] =  [np.float64(0.713), np.float64(0.964)]\n",
      "--- Iteration 20: Training loss --- [Data, Label, Total] = [18135.231617.3, 331.349869.3, 175638.588836.3]\n",
      "!!! pred_type filter\n"
     ]
    },
    {
     "name": "stderr",
     "output_type": "stream",
     "text": [
      " 12%|██████████████▌                                                                                                          | 30/250 [00:01<00:10, 21.81it/s]"
     ]
    },
    {
     "name": "stdout",
     "output_type": "stream",
     "text": [
      "--- Validation --- [threshold, AUC, Accuracy, F score] =  [np.float64(0.713), np.float64(0.964), np.float64(0.91), np.float64(0.926)]\n",
      "--- Training --- [threshold, AUC] =  [np.float64(0.694), np.float64(0.966)]\n",
      "--- Iteration 30: Training loss --- [Data, Label, Total] = [16234.082714.3, 328.848834.3, 157258.315073.3]\n",
      "!!! pred_type filter\n"
     ]
    },
    {
     "name": "stderr",
     "output_type": "stream",
     "text": [
      " 14%|████████████████▉                                                                                                        | 35/250 [00:02<00:15, 13.62it/s]"
     ]
    },
    {
     "name": "stdout",
     "output_type": "stream",
     "text": [
      "--- Validation --- [threshold, AUC, Accuracy, F score] =  [np.float64(0.694), np.float64(0.966), np.float64(0.914), np.float64(0.929)]\n",
      "--- Training --- [threshold, AUC] =  [np.float64(0.726), np.float64(0.967)]\n",
      "--- Iteration 40: Training loss --- [Data, Label, Total] = [15339.391580.3, 328.565870.3, 148609.351147.3]\n",
      "!!! pred_type filter\n"
     ]
    },
    {
     "name": "stderr",
     "output_type": "stream",
     "text": [
      " 20%|███████████████████████▋                                                                                                 | 49/250 [00:03<00:12, 16.09it/s]"
     ]
    },
    {
     "name": "stdout",
     "output_type": "stream",
     "text": [
      "--- Validation --- [threshold, AUC, Accuracy, F score] =  [np.float64(0.726), np.float64(0.967), np.float64(0.911), np.float64(0.926)]\n",
      "--- Training --- [threshold, AUC] =  [np.float64(0.688), np.float64(0.967)]\n",
      "--- Iteration 50: Training loss --- [Data, Label, Total] = [14778.439161.3, 329.055386.3, 143187.300613.3]\n",
      "!!! pred_type filter\n"
     ]
    },
    {
     "name": "stderr",
     "output_type": "stream",
     "text": [
      " 23%|████████████████████████████                                                                                             | 58/250 [00:03<00:13, 14.15it/s]"
     ]
    },
    {
     "name": "stdout",
     "output_type": "stream",
     "text": [
      "--- Validation --- [threshold, AUC, Accuracy, F score] =  [np.float64(0.688), np.float64(0.967), np.float64(0.912), np.float64(0.928)]\n",
      "--- Training --- [threshold, AUC] =  [np.float64(0.669), np.float64(0.967)]\n",
      "--- Iteration 60: Training loss --- [Data, Label, Total] = [14501.395012.3, 328.062316.3, 140508.214095.3]\n",
      "!!! pred_type filter\n"
     ]
    },
    {
     "name": "stderr",
     "output_type": "stream",
     "text": [
      " 28%|█████████████████████████████████▉                                                                                       | 70/250 [00:05<00:15, 11.87it/s]"
     ]
    },
    {
     "name": "stdout",
     "output_type": "stream",
     "text": [
      "--- Validation --- [threshold, AUC, Accuracy, F score] =  [np.float64(0.669), np.float64(0.967), np.float64(0.915), np.float64(0.931)]\n",
      "--- Training --- [threshold, AUC] =  [np.float64(0.686), np.float64(0.968)]\n",
      "--- Iteration 70: Training loss --- [Data, Label, Total] = [14333.678577.3, 326.887560.3, 138885.780467.3]\n",
      "!!! pred_type filter\n"
     ]
    },
    {
     "name": "stderr",
     "output_type": "stream",
     "text": [
      " 30%|███████████████████████████████████▊                                                                                     | 74/250 [00:05<00:17,  9.94it/s]"
     ]
    },
    {
     "name": "stdout",
     "output_type": "stream",
     "text": [
      "--- Validation --- [threshold, AUC, Accuracy, F score] =  [np.float64(0.686), np.float64(0.968), np.float64(0.912), np.float64(0.929)]\n",
      "--- Training --- [threshold, AUC] =  [np.float64(0.691), np.float64(0.968)]\n",
      "--- Iteration 80: Training loss --- [Data, Label, Total] = [14201.092786.3, 326.482083.3, 137603.712345.3]\n",
      "!!! pred_type filter\n"
     ]
    },
    {
     "name": "stderr",
     "output_type": "stream",
     "text": [
      " 36%|███████████████████████████████████████████▌                                                                             | 90/250 [00:06<00:10, 15.61it/s]"
     ]
    },
    {
     "name": "stdout",
     "output_type": "stream",
     "text": [
      "--- Validation --- [threshold, AUC, Accuracy, F score] =  [np.float64(0.691), np.float64(0.968), np.float64(0.912), np.float64(0.929)]\n",
      "--- Training --- [threshold, AUC] =  [np.float64(0.617), np.float64(0.968)]\n",
      "--- Iteration 90: Training loss --- [Data, Label, Total] = [14074.648264.3, 326.213113.3, 136381.146328.3]\n",
      "!!! pred_type filter\n"
     ]
    },
    {
     "name": "stderr",
     "output_type": "stream",
     "text": [
      " 38%|█████████████████████████████████████████████▉                                                                           | 95/250 [00:07<00:12, 12.49it/s]"
     ]
    },
    {
     "name": "stdout",
     "output_type": "stream",
     "text": [
      "--- Validation --- [threshold, AUC, Accuracy, F score] =  [np.float64(0.617), np.float64(0.968), np.float64(0.917), np.float64(0.934)]\n",
      "--- Training --- [threshold, AUC] =  [np.float64(0.65), np.float64(0.968)]\n",
      "--- Iteration 100: Training loss --- [Data, Label, Total] = [13951.530304.3, 326.106943.3, 135190.899878.3]\n",
      "!!! pred_type filter\n"
     ]
    },
    {
     "name": "stderr",
     "output_type": "stream",
     "text": [
      " 44%|████████████████████████████████████████████████████▊                                                                   | 110/250 [00:08<00:08, 16.52it/s]"
     ]
    },
    {
     "name": "stdout",
     "output_type": "stream",
     "text": [
      "--- Validation --- [threshold, AUC, Accuracy, F score] =  [np.float64(0.65), np.float64(0.968), np.float64(0.915), np.float64(0.932)]\n",
      "--- Training --- [threshold, AUC] =  [np.float64(0.647), np.float64(0.968)]\n",
      "--- Iteration 110: Training loss --- [Data, Label, Total] = [13842.665910.3, 325.898876.3, 134138.336005.3]\n",
      "!!! pred_type filter\n"
     ]
    },
    {
     "name": "stderr",
     "output_type": "stream",
     "text": [
      " 46%|███████████████████████████████████████████████████████▏                                                                | 115/250 [00:08<00:10, 12.88it/s]"
     ]
    },
    {
     "name": "stdout",
     "output_type": "stream",
     "text": [
      "--- Validation --- [threshold, AUC, Accuracy, F score] =  [np.float64(0.647), np.float64(0.968), np.float64(0.917), np.float64(0.933)]\n",
      "--- Training --- [threshold, AUC] =  [np.float64(0.663), np.float64(0.968)]\n",
      "--- Iteration 120: Training loss --- [Data, Label, Total] = [13753.323938.3, 325.562773.3, 133274.360835.3]\n",
      "!!! pred_type filter\n"
     ]
    },
    {
     "name": "stderr",
     "output_type": "stream",
     "text": [
      " 51%|█████████████████████████████████████████████████████████████▍                                                          | 128/250 [00:09<00:07, 15.54it/s]"
     ]
    },
    {
     "name": "stdout",
     "output_type": "stream",
     "text": [
      "--- Validation --- [threshold, AUC, Accuracy, F score] =  [np.float64(0.663), np.float64(0.968), np.float64(0.916), np.float64(0.932)]\n",
      "--- Training --- [threshold, AUC] =  [np.float64(0.657), np.float64(0.968)]\n",
      "--- Iteration 130: Training loss --- [Data, Label, Total] = [13679.376147.3, 325.317702.3, 132559.287120.3]\n",
      "!!! pred_type filter\n"
     ]
    },
    {
     "name": "stderr",
     "output_type": "stream",
     "text": [
      " 53%|███████████████████████████████████████████████████████████████▎                                                        | 132/250 [00:10<00:10, 11.09it/s]"
     ]
    },
    {
     "name": "stdout",
     "output_type": "stream",
     "text": [
      "--- Validation --- [threshold, AUC, Accuracy, F score] =  [np.float64(0.657), np.float64(0.968), np.float64(0.917), np.float64(0.933)]\n",
      "--- Training --- [threshold, AUC] =  [np.float64(0.646), np.float64(0.969)]\n",
      "--- Iteration 140: Training loss --- [Data, Label, Total] = [13617.495932.3, 324.552792.3, 131960.346802.3]\n",
      "!!! pred_type filter\n"
     ]
    },
    {
     "name": "stderr",
     "output_type": "stream",
     "text": [
      " 60%|████████████████████████████████████████████████████████████████████████                                                | 150/250 [00:11<00:05, 17.36it/s]"
     ]
    },
    {
     "name": "stdout",
     "output_type": "stream",
     "text": [
      "--- Validation --- [threshold, AUC, Accuracy, F score] =  [np.float64(0.646), np.float64(0.969), np.float64(0.918), np.float64(0.934)]\n",
      "--- Training --- [threshold, AUC] =  [np.float64(0.639), np.float64(0.969)]\n",
      "--- Iteration 150: Training loss --- [Data, Label, Total] = [13566.647994.3, 323.827075.3, 131468.091020.3]\n",
      "!!! pred_type filter\n"
     ]
    },
    {
     "name": "stderr",
     "output_type": "stream",
     "text": [
      " 62%|██████████████████████████████████████████████████████████████████████████▍                                             | 155/250 [00:11<00:06, 13.74it/s]"
     ]
    },
    {
     "name": "stdout",
     "output_type": "stream",
     "text": [
      "--- Validation --- [threshold, AUC, Accuracy, F score] =  [np.float64(0.639), np.float64(0.969), np.float64(0.92), np.float64(0.936)]\n",
      "--- Training --- [threshold, AUC] =  [np.float64(0.642), np.float64(0.969)]\n",
      "--- Iteration 160: Training loss --- [Data, Label, Total] = [13526.348347.3, 323.203906.3, 131077.904591.3]\n",
      "!!! pred_type filter\n"
     ]
    },
    {
     "name": "stderr",
     "output_type": "stream",
     "text": [
      " 68%|█████████████████████████████████████████████████████████████████████████████████▌                                      | 170/250 [00:12<00:04, 17.61it/s]"
     ]
    },
    {
     "name": "stdout",
     "output_type": "stream",
     "text": [
      "--- Validation --- [threshold, AUC, Accuracy, F score] =  [np.float64(0.642), np.float64(0.969), np.float64(0.92), np.float64(0.936)]\n",
      "--- Training --- [threshold, AUC] =  [np.float64(0.641), np.float64(0.969)]\n",
      "--- Iteration 170: Training loss --- [Data, Label, Total] = [13491.308570.3, 322.279805.3, 130738.262647.3]\n",
      "!!! pred_type filter\n"
     ]
    },
    {
     "name": "stderr",
     "output_type": "stream",
     "text": [
      " 70%|████████████████████████████████████████████████████████████████████████████████████                                    | 175/250 [00:13<00:06, 11.56it/s]"
     ]
    },
    {
     "name": "stdout",
     "output_type": "stream",
     "text": [
      "--- Validation --- [threshold, AUC, Accuracy, F score] =  [np.float64(0.641), np.float64(0.969), np.float64(0.92), np.float64(0.936)]\n"
     ]
    },
    {
     "name": "stderr",
     "output_type": "stream",
     "text": [
      " 72%|██████████████████████████████████████████████████████████████████████████████████████▍                                 | 180/250 [00:13<00:04, 14.13it/s]"
     ]
    },
    {
     "name": "stdout",
     "output_type": "stream",
     "text": [
      "--- Training --- [threshold, AUC] =  [np.float64(0.644), np.float64(0.969)]\n",
      "--- Iteration 180: Training loss --- [Data, Label, Total] = [13451.915287.3, 321.874873.3, 130357.055978.3]\n",
      "!!! pred_type filter\n"
     ]
    },
    {
     "name": "stderr",
     "output_type": "stream",
     "text": [
      " 74%|████████████████████████████████████████████████████████████████████████████████████████▎                               | 184/250 [00:14<00:05, 11.11it/s]"
     ]
    },
    {
     "name": "stdout",
     "output_type": "stream",
     "text": [
      "--- Validation --- [threshold, AUC, Accuracy, F score] =  [np.float64(0.644), np.float64(0.969), np.float64(0.919), np.float64(0.935)]\n",
      "--- Training --- [threshold, AUC] =  [np.float64(0.657), np.float64(0.969)]\n",
      "--- Iteration 190: Training loss --- [Data, Label, Total] = [13399.382725.3, 321.199983.3, 129848.566325.3]\n",
      "!!! pred_type filter\n"
     ]
    },
    {
     "name": "stderr",
     "output_type": "stream",
     "text": [
      " 80%|████████████████████████████████████████████████████████████████████████████████████████████████                        | 200/250 [00:15<00:03, 16.30it/s]"
     ]
    },
    {
     "name": "stdout",
     "output_type": "stream",
     "text": [
      "--- Validation --- [threshold, AUC, Accuracy, F score] =  [np.float64(0.657), np.float64(0.969), np.float64(0.919), np.float64(0.935)]\n",
      "--- Training --- [threshold, AUC] =  [np.float64(0.652), np.float64(0.969)]\n",
      "--- Iteration 200: Training loss --- [Data, Label, Total] = [13333.473634.3, 321.238711.3, 129211.483844.3]\n",
      "!!! pred_type filter\n"
     ]
    },
    {
     "name": "stderr",
     "output_type": "stream",
     "text": [
      " 82%|█████████████████████████████████████████████████████████████████████████████████████████████████▉                      | 204/250 [00:15<00:03, 12.11it/s]"
     ]
    },
    {
     "name": "stdout",
     "output_type": "stream",
     "text": [
      "--- Validation --- [threshold, AUC, Accuracy, F score] =  [np.float64(0.652), np.float64(0.969), np.float64(0.919), np.float64(0.935)]\n",
      "--- Training --- [threshold, AUC] =  [np.float64(0.65), np.float64(0.969)]\n",
      "--- Iteration 210: Training loss --- [Data, Label, Total] = [13267.188314.3, 321.282410.3, 128570.769444.3]\n",
      "!!! pred_type filter\n"
     ]
    },
    {
     "name": "stderr",
     "output_type": "stream",
     "text": [
      " 88%|█████████████████████████████████████████████████████████████████████████████████████████████████████████▌              | 220/250 [00:16<00:01, 17.03it/s]"
     ]
    },
    {
     "name": "stdout",
     "output_type": "stream",
     "text": [
      "--- Validation --- [threshold, AUC, Accuracy, F score] =  [np.float64(0.65), np.float64(0.969), np.float64(0.919), np.float64(0.935)]\n",
      "--- Training --- [threshold, AUC] =  [np.float64(0.647), np.float64(0.97)]\n",
      "--- Iteration 220: Training loss --- [Data, Label, Total] = [13204.804644.3, 321.150638.3, 127967.595534.3]\n",
      "!!! pred_type filter\n"
     ]
    },
    {
     "name": "stderr",
     "output_type": "stream",
     "text": [
      " 90%|████████████████████████████████████████████████████████████████████████████████████████████████████████████            | 225/250 [00:17<00:01, 13.79it/s]"
     ]
    },
    {
     "name": "stdout",
     "output_type": "stream",
     "text": [
      "--- Validation --- [threshold, AUC, Accuracy, F score] =  [np.float64(0.647), np.float64(0.97), np.float64(0.92), np.float64(0.935)]\n",
      "--- Training --- [threshold, AUC] =  [np.float64(0.647), np.float64(0.97)]\n",
      "--- Iteration 230: Training loss --- [Data, Label, Total] = [13148.944691.3, 321.136813.3, 127427.602157.3]\n",
      "!!! pred_type filter\n"
     ]
    },
    {
     "name": "stderr",
     "output_type": "stream",
     "text": [
      " 96%|███████████████████████████████████████████████████████████████████████████████████████████████████████████████████▏    | 240/250 [00:17<00:00, 18.30it/s]"
     ]
    },
    {
     "name": "stdout",
     "output_type": "stream",
     "text": [
      "--- Validation --- [threshold, AUC, Accuracy, F score] =  [np.float64(0.647), np.float64(0.97), np.float64(0.92), np.float64(0.935)]\n",
      "--- Training --- [threshold, AUC] =  [np.float64(0.643), np.float64(0.97)]\n",
      "--- Iteration 240: Training loss --- [Data, Label, Total] = [13100.995742.3, 321.025534.3, 126963.984376.3]\n",
      "!!! pred_type filter\n"
     ]
    },
    {
     "name": "stderr",
     "output_type": "stream",
     "text": [
      "100%|████████████████████████████████████████████████████████████████████████████████████████████████████████████████████████| 250/250 [00:18<00:00, 13.51it/s]"
     ]
    },
    {
     "name": "stdout",
     "output_type": "stream",
     "text": [
      "--- Validation --- [threshold, AUC, Accuracy, F score] =  [np.float64(0.643), np.float64(0.97), np.float64(0.92), np.float64(0.936)]\n",
      "!!! pred_type filter\n"
     ]
    },
    {
     "name": "stderr",
     "output_type": "stream",
     "text": [
      "\n"
     ]
    },
    {
     "name": "stdout",
     "output_type": "stream",
     "text": [
      "num of subgraphs induced on k-paths: 500\n",
      "num of subgraphs induced on k-paths: 500\n",
      "X_list: (225, 1000)\n",
      "2\n",
      "(1, 500)\n",
      "(1, 500)\n",
      "label_vec: (1, 1000)\n",
      "('Caltech36', 'UCLA26') predicting Harvard1 0.8209550829453535\n",
      "\n",
      "8.333333333333334: 0.8492129231812474\n",
      "8.666666666666666: 0.8514758550039455\n",
      "9.0: 0.8389586410372941\n",
      "9.333333333333334: 0.8266891986001406\n",
      "9.666666666666666: 0.8209550829453535\n",
      "\n"
     ]
    }
   ],
   "source": [
    "network1 = \"Caltech36\"\n",
    "network2 = \"UCLA26\"\n",
    "messages_xi = \"\"\n",
    "for xi in range(25, 30):\n",
    "    xi2 = xi/3\n",
    "    messages_xi += f\"{xi2}: {helper.similarity(network1, network2, \"Harvard1\", k = 15, xi = xi2)}\\n\"\n",
    "    print(messages_xi)"
   ]
  },
  {
   "cell_type": "code",
   "execution_count": 2,
   "id": "46f52310-9aa1-4004-b3a5-81ade9f1bc19",
   "metadata": {},
   "outputs": [
    {
     "name": "stdout",
     "output_type": "stream",
     "text": [
      "num of subgraphs induced on k-paths: 500\n",
      "num of subgraphs induced on k-paths: 500\n",
      "X_list: (225, 1000)\n",
      "2\n",
      "(1, 500)\n",
      "(1, 500)\n",
      "label_vec: (1, 1000)\n",
      "num of subgraphs induced on k-paths: 500\n",
      "num of subgraphs induced on k-paths: 841\n",
      "X_list: (225, 1341)\n",
      "2\n",
      "(1, 500)\n",
      "(1, 841)\n",
      "label_vec: (1, 1341)\n",
      "initial loading beta [[0.72826526 0.8703434  0.5179953  0.9596687 ]]\n"
     ]
    },
    {
     "name": "stderr",
     "output_type": "stream",
     "text": [
      "  3%|███▍                                                                                                                      | 7/250 [00:00<00:03, 66.66it/s]"
     ]
    },
    {
     "name": "stdout",
     "output_type": "stream",
     "text": [
      "--- Training --- [threshold, AUC] =  [np.float64(0.686), np.float64(0.947)]\n",
      "--- Iteration 0: Training loss --- [Data, Label, Total] = [23822.699106.3, 402.910411.3, 119516.405942.3]\n",
      "--- Training --- [threshold, AUC] =  [np.float64(0.698), np.float64(0.957)]\n",
      "--- Iteration 10: Training loss --- [Data, Label, Total] = [20429.280877.3, 360.802810.3, 102507.207196.3]\n",
      "!!! pred_type filter\n"
     ]
    },
    {
     "name": "stderr",
     "output_type": "stream",
     "text": [
      "  6%|██████▊                                                                                                                  | 14/250 [00:00<00:07, 30.68it/s]"
     ]
    },
    {
     "name": "stdout",
     "output_type": "stream",
     "text": [
      "--- Validation --- [threshold, AUC, Accuracy, F score] =  [np.float64(0.698), np.float64(0.957), np.float64(0.901), np.float64(0.918)]\n",
      "--- Training --- [threshold, AUC] =  [np.float64(0.73), np.float64(0.962)]\n",
      "--- Iteration 20: Training loss --- [Data, Label, Total] = [20167.400651.3, 342.941227.3, 101179.944482.3]\n",
      "!!! pred_type filter\n"
     ]
    },
    {
     "name": "stderr",
     "output_type": "stream",
     "text": [
      " 12%|██████████████▌                                                                                                          | 30/250 [00:00<00:05, 39.58it/s]"
     ]
    },
    {
     "name": "stdout",
     "output_type": "stream",
     "text": [
      "--- Validation --- [threshold, AUC, Accuracy, F score] =  [np.float64(0.73), np.float64(0.962), np.float64(0.902), np.float64(0.918)]\n",
      "--- Training --- [threshold, AUC] =  [np.float64(0.722), np.float64(0.964)]\n",
      "--- Iteration 30: Training loss --- [Data, Label, Total] = [20033.062730.3, 337.701319.3, 100503.014970.3]\n",
      "!!! pred_type filter\n"
     ]
    },
    {
     "name": "stderr",
     "output_type": "stream",
     "text": [
      " 14%|█████████████████▍                                                                                                       | 36/250 [00:01<00:06, 31.45it/s]"
     ]
    },
    {
     "name": "stdout",
     "output_type": "stream",
     "text": [
      "--- Validation --- [threshold, AUC, Accuracy, F score] =  [np.float64(0.722), np.float64(0.964), np.float64(0.902), np.float64(0.919)]\n",
      "--- Training --- [threshold, AUC] =  [np.float64(0.731), np.float64(0.964)]\n",
      "--- Iteration 40: Training loss --- [Data, Label, Total] = [19967.045726.3, 336.305520.3, 100171.534149.3]\n",
      "!!! pred_type filter\n"
     ]
    },
    {
     "name": "stderr",
     "output_type": "stream",
     "text": [
      " 20%|████████████████████████▏                                                                                                | 50/250 [00:01<00:05, 36.55it/s]"
     ]
    },
    {
     "name": "stdout",
     "output_type": "stream",
     "text": [
      "--- Validation --- [threshold, AUC, Accuracy, F score] =  [np.float64(0.731), np.float64(0.964), np.float64(0.902), np.float64(0.918)]\n",
      "--- Training --- [threshold, AUC] =  [np.float64(0.726), np.float64(0.964)]\n",
      "--- Iteration 50: Training loss --- [Data, Label, Total] = [19930.700160.3, 335.954845.3, 99989.455644.3]\n",
      "!!! pred_type filter\n"
     ]
    },
    {
     "name": "stderr",
     "output_type": "stream",
     "text": [
      " 22%|███████████████████████████                                                                                              | 56/250 [00:01<00:06, 30.86it/s]"
     ]
    },
    {
     "name": "stdout",
     "output_type": "stream",
     "text": [
      "--- Validation --- [threshold, AUC, Accuracy, F score] =  [np.float64(0.726), np.float64(0.964), np.float64(0.902), np.float64(0.919)]\n",
      "--- Training --- [threshold, AUC] =  [np.float64(0.725), np.float64(0.964)]\n",
      "--- Iteration 60: Training loss --- [Data, Label, Total] = [19906.305810.3, 335.911488.3, 99867.440538.3]\n",
      "!!! pred_type filter\n"
     ]
    },
    {
     "name": "stderr",
     "output_type": "stream",
     "text": [
      " 28%|█████████████████████████████████▉                                                                                       | 70/250 [00:02<00:04, 36.45it/s]"
     ]
    },
    {
     "name": "stdout",
     "output_type": "stream",
     "text": [
      "--- Validation --- [threshold, AUC, Accuracy, F score] =  [np.float64(0.725), np.float64(0.964), np.float64(0.902), np.float64(0.919)]\n",
      "--- Training --- [threshold, AUC] =  [np.float64(0.749), np.float64(0.964)]\n",
      "--- Iteration 70: Training loss --- [Data, Label, Total] = [19885.869838.3, 336.061210.3, 99765.410400.3]\n",
      "!!! pred_type filter\n"
     ]
    },
    {
     "name": "stderr",
     "output_type": "stream",
     "text": [
      " 30%|████████████████████████████████████▊                                                                                    | 76/250 [00:02<00:05, 30.78it/s]"
     ]
    },
    {
     "name": "stdout",
     "output_type": "stream",
     "text": [
      "--- Validation --- [threshold, AUC, Accuracy, F score] =  [np.float64(0.749), np.float64(0.964), np.float64(0.899), np.float64(0.916)]\n",
      "--- Training --- [threshold, AUC] =  [np.float64(0.747), np.float64(0.964)]\n",
      "--- Iteration 80: Training loss --- [Data, Label, Total] = [19866.933810.3, 336.292915.3, 99670.961965.3]\n",
      "!!! pred_type filter\n"
     ]
    },
    {
     "name": "stderr",
     "output_type": "stream",
     "text": [
      " 36%|███████████████████████████████████████████▌                                                                             | 90/250 [00:02<00:04, 36.50it/s]"
     ]
    },
    {
     "name": "stdout",
     "output_type": "stream",
     "text": [
      "--- Validation --- [threshold, AUC, Accuracy, F score] =  [np.float64(0.747), np.float64(0.964), np.float64(0.9), np.float64(0.916)]\n",
      "--- Training --- [threshold, AUC] =  [np.float64(0.749), np.float64(0.964)]\n",
      "--- Iteration 90: Training loss --- [Data, Label, Total] = [19848.297387.3, 336.776173.3, 99578.263107.3]\n",
      "!!! pred_type filter\n"
     ]
    },
    {
     "name": "stderr",
     "output_type": "stream",
     "text": [
      " 38%|█████████████████████████████████████████████▉                                                                           | 95/250 [00:03<00:05, 28.50it/s]"
     ]
    },
    {
     "name": "stdout",
     "output_type": "stream",
     "text": [
      "--- Validation --- [threshold, AUC, Accuracy, F score] =  [np.float64(0.749), np.float64(0.964), np.float64(0.9), np.float64(0.916)]\n",
      "--- Training --- [threshold, AUC] =  [np.float64(0.748), np.float64(0.964)]\n",
      "--- Iteration 100: Training loss --- [Data, Label, Total] = [19830.009740.3, 337.292833.3, 99487.341532.3]\n",
      "!!! pred_type filter\n"
     ]
    },
    {
     "name": "stderr",
     "output_type": "stream",
     "text": [
      " 44%|████████████████████████████████████████████████████▊                                                                   | 110/250 [00:03<00:03, 35.14it/s]"
     ]
    },
    {
     "name": "stdout",
     "output_type": "stream",
     "text": [
      "--- Validation --- [threshold, AUC, Accuracy, F score] =  [np.float64(0.748), np.float64(0.964), np.float64(0.902), np.float64(0.918)]\n",
      "--- Training --- [threshold, AUC] =  [np.float64(0.743), np.float64(0.964)]\n",
      "--- Iteration 110: Training loss --- [Data, Label, Total] = [19812.476584.3, 337.974005.3, 99400.356927.3]\n",
      "!!! pred_type filter\n"
     ]
    },
    {
     "name": "stderr",
     "output_type": "stream",
     "text": [
      " 46%|███████████████████████████████████████████████████████▏                                                                | 115/250 [00:03<00:04, 29.53it/s]"
     ]
    },
    {
     "name": "stdout",
     "output_type": "stream",
     "text": [
      "--- Validation --- [threshold, AUC, Accuracy, F score] =  [np.float64(0.743), np.float64(0.964), np.float64(0.902), np.float64(0.918)]\n",
      "--- Training --- [threshold, AUC] =  [np.float64(0.747), np.float64(0.963)]\n",
      "--- Iteration 120: Training loss --- [Data, Label, Total] = [19795.834563.3, 338.638892.3, 99317.811705.3]\n",
      "!!! pred_type filter\n"
     ]
    },
    {
     "name": "stderr",
     "output_type": "stream",
     "text": [
      " 52%|██████████████████████████████████████████████████████████████▍                                                         | 130/250 [00:04<00:03, 36.80it/s]"
     ]
    },
    {
     "name": "stdout",
     "output_type": "stream",
     "text": [
      "--- Validation --- [threshold, AUC, Accuracy, F score] =  [np.float64(0.747), np.float64(0.963), np.float64(0.899), np.float64(0.915)]\n",
      "--- Training --- [threshold, AUC] =  [np.float64(0.773), np.float64(0.963)]\n",
      "--- Iteration 130: Training loss --- [Data, Label, Total] = [19779.977124.3, 339.337246.3, 99239.222866.3]\n",
      "!!! pred_type filter\n"
     ]
    },
    {
     "name": "stderr",
     "output_type": "stream",
     "text": [
      " 54%|█████████████████████████████████████████████████████████████████▎                                                      | 136/250 [00:04<00:03, 30.06it/s]"
     ]
    },
    {
     "name": "stdout",
     "output_type": "stream",
     "text": [
      "--- Validation --- [threshold, AUC, Accuracy, F score] =  [np.float64(0.773), np.float64(0.963), np.float64(0.896), np.float64(0.912)]\n",
      "--- Training --- [threshold, AUC] =  [np.float64(0.765), np.float64(0.963)]\n",
      "--- Iteration 140: Training loss --- [Data, Label, Total] = [19765.146688.3, 339.927498.3, 99165.660938.3]\n",
      "!!! pred_type filter\n"
     ]
    },
    {
     "name": "stderr",
     "output_type": "stream",
     "text": [
      " 58%|██████████████████████████████████████████████████████████████████████                                                  | 146/250 [00:05<00:04, 22.97it/s]"
     ]
    },
    {
     "name": "stdout",
     "output_type": "stream",
     "text": [
      "--- Validation --- [threshold, AUC, Accuracy, F score] =  [np.float64(0.765), np.float64(0.963), np.float64(0.896), np.float64(0.913)]\n",
      "--- Training --- [threshold, AUC] =  [np.float64(0.762), np.float64(0.963)]\n",
      "--- Iteration 150: Training loss --- [Data, Label, Total] = [19752.074708.3, 340.395527.3, 99100.769067.3]\n",
      "!!! pred_type filter\n"
     ]
    },
    {
     "name": "stderr",
     "output_type": "stream",
     "text": [
      " 64%|████████████████████████████████████████████████████████████████████████████▊                                           | 160/250 [00:05<00:03, 28.39it/s]"
     ]
    },
    {
     "name": "stdout",
     "output_type": "stream",
     "text": [
      "--- Validation --- [threshold, AUC, Accuracy, F score] =  [np.float64(0.762), np.float64(0.963), np.float64(0.896), np.float64(0.913)]\n",
      "--- Training --- [threshold, AUC] =  [np.float64(0.766), np.float64(0.963)]\n",
      "--- Iteration 160: Training loss --- [Data, Label, Total] = [19740.977704.3, 340.876848.3, 99045.765370.3]\n",
      "!!! pred_type filter\n"
     ]
    },
    {
     "name": "stderr",
     "output_type": "stream",
     "text": [
      " 66%|███████████████████████████████████████████████████████████████████████████████▏                                        | 165/250 [00:05<00:03, 25.65it/s]"
     ]
    },
    {
     "name": "stdout",
     "output_type": "stream",
     "text": [
      "--- Validation --- [threshold, AUC, Accuracy, F score] =  [np.float64(0.766), np.float64(0.963), np.float64(0.896), np.float64(0.913)]\n",
      "--- Training --- [threshold, AUC] =  [np.float64(0.766), np.float64(0.963)]\n",
      "--- Iteration 170: Training loss --- [Data, Label, Total] = [19731.614963.3, 341.406862.3, 98999.481678.3]\n",
      "!!! pred_type filter\n"
     ]
    },
    {
     "name": "stderr",
     "output_type": "stream",
     "text": [
      " 68%|██████████████████████████████████████████████████████████████████████████████████                                      | 171/250 [00:06<00:03, 24.97it/s]"
     ]
    },
    {
     "name": "stdout",
     "output_type": "stream",
     "text": [
      "--- Validation --- [threshold, AUC, Accuracy, F score] =  [np.float64(0.766), np.float64(0.963), np.float64(0.896), np.float64(0.913)]\n",
      "--- Training --- [threshold, AUC] =  [np.float64(0.725), np.float64(0.963)]\n",
      "--- Iteration 180: Training loss --- [Data, Label, Total] = [19723.847637.3, 341.941126.3, 98961.179314.3]\n",
      "!!! pred_type filter\n"
     ]
    },
    {
     "name": "stderr",
     "output_type": "stream",
     "text": [
      " 76%|███████████████████████████████████████████████████████████████████████████████████████████▏                            | 190/250 [00:06<00:01, 36.68it/s]"
     ]
    },
    {
     "name": "stdout",
     "output_type": "stream",
     "text": [
      "--- Validation --- [threshold, AUC, Accuracy, F score] =  [np.float64(0.725), np.float64(0.963), np.float64(0.902), np.float64(0.918)]\n",
      "--- Training --- [threshold, AUC] =  [np.float64(0.721), np.float64(0.962)]\n",
      "--- Iteration 190: Training loss --- [Data, Label, Total] = [19717.529768.3, 342.433928.3, 98930.082770.3]\n",
      "!!! pred_type filter\n"
     ]
    },
    {
     "name": "stderr",
     "output_type": "stream",
     "text": [
      " 78%|██████████████████████████████████████████████████████████████████████████████████████████████                          | 196/250 [00:06<00:01, 32.10it/s]"
     ]
    },
    {
     "name": "stdout",
     "output_type": "stream",
     "text": [
      "--- Validation --- [threshold, AUC, Accuracy, F score] =  [np.float64(0.721), np.float64(0.962), np.float64(0.903), np.float64(0.92)]\n",
      "--- Training --- [threshold, AUC] =  [np.float64(0.723), np.float64(0.962)]\n",
      "--- Iteration 200: Training loss --- [Data, Label, Total] = [19712.431084.3, 342.873464.3, 98905.028886.3]\n",
      "!!! pred_type filter\n"
     ]
    },
    {
     "name": "stderr",
     "output_type": "stream",
     "text": [
      " 84%|████████████████████████████████████████████████████████████████████████████████████████████████████▊                   | 210/250 [00:07<00:01, 37.80it/s]"
     ]
    },
    {
     "name": "stdout",
     "output_type": "stream",
     "text": [
      "--- Validation --- [threshold, AUC, Accuracy, F score] =  [np.float64(0.723), np.float64(0.962), np.float64(0.902), np.float64(0.918)]\n",
      "--- Training --- [threshold, AUC] =  [np.float64(0.715), np.float64(0.962)]\n",
      "--- Iteration 210: Training loss --- [Data, Label, Total] = [19708.390214.3, 343.315885.3, 98885.266957.3]\n",
      "!!! pred_type filter\n"
     ]
    },
    {
     "name": "stderr",
     "output_type": "stream",
     "text": [
      " 86%|███████████████████████████████████████████████████████████████████████████████████████████████████████▋                | 216/250 [00:07<00:01, 32.14it/s]"
     ]
    },
    {
     "name": "stdout",
     "output_type": "stream",
     "text": [
      "--- Validation --- [threshold, AUC, Accuracy, F score] =  [np.float64(0.715), np.float64(0.962), np.float64(0.902), np.float64(0.919)]\n",
      "--- Training --- [threshold, AUC] =  [np.float64(0.711), np.float64(0.962)]\n",
      "--- Iteration 220: Training loss --- [Data, Label, Total] = [19705.230399.3, 343.730428.3, 98869.882421.3]\n",
      "!!! pred_type filter\n"
     ]
    },
    {
     "name": "stderr",
     "output_type": "stream",
     "text": [
      " 88%|██████████████████████████████████████████████████████████████████████████████████████████████████████████              | 221/250 [00:07<00:01, 28.20it/s]"
     ]
    },
    {
     "name": "stdout",
     "output_type": "stream",
     "text": [
      "--- Validation --- [threshold, AUC, Accuracy, F score] =  [np.float64(0.711), np.float64(0.962), np.float64(0.902), np.float64(0.919)]\n",
      "--- Training --- [threshold, AUC] =  [np.float64(0.709), np.float64(0.962)]\n",
      "--- Iteration 230: Training loss --- [Data, Label, Total] = [19702.898481.3, 344.069370.3, 98858.561774.3]\n",
      "!!! pred_type filter\n"
     ]
    },
    {
     "name": "stderr",
     "output_type": "stream",
     "text": [
      " 92%|██████████████████████████████████████████████████████████████████████████████████████████████████████████████▉         | 231/250 [00:07<00:00, 30.34it/s]"
     ]
    },
    {
     "name": "stdout",
     "output_type": "stream",
     "text": [
      "--- Validation --- [threshold, AUC, Accuracy, F score] =  [np.float64(0.709), np.float64(0.962), np.float64(0.902), np.float64(0.919)]\n",
      "--- Training --- [threshold, AUC] =  [np.float64(0.706), np.float64(0.962)]\n",
      "--- Iteration 240: Training loss --- [Data, Label, Total] = [19701.073813.3, 344.391690.3, 98849.760755.3]\n",
      "!!! pred_type filter\n"
     ]
    },
    {
     "name": "stderr",
     "output_type": "stream",
     "text": [
      "100%|████████████████████████████████████████████████████████████████████████████████████████████████████████████████████████| 250/250 [00:08<00:00, 30.43it/s]"
     ]
    },
    {
     "name": "stdout",
     "output_type": "stream",
     "text": [
      "--- Validation --- [threshold, AUC, Accuracy, F score] =  [np.float64(0.706), np.float64(0.962), np.float64(0.902), np.float64(0.919)]\n",
      "!!! pred_type filter\n"
     ]
    },
    {
     "name": "stderr",
     "output_type": "stream",
     "text": [
      "\n"
     ]
    },
    {
     "name": "stdout",
     "output_type": "stream",
     "text": [
      "num of subgraphs induced on k-paths: 500\n",
      "num of subgraphs induced on k-paths: 500\n",
      "X_list: (225, 1000)\n",
      "2\n",
      "(1, 500)\n",
      "(1, 500)\n",
      "label_vec: (1, 1000)\n",
      "('Caltech36', 'UCLA26') predicting Harvard1 0.8778558372677772\n",
      "\n",
      "3: 0.8778558372677772\n",
      "\n",
      "num of subgraphs induced on k-paths: 500\n",
      "num of subgraphs induced on k-paths: 500\n",
      "X_list: (225, 1000)\n",
      "2\n",
      "(1, 500)\n",
      "(1, 500)\n",
      "label_vec: (1, 1000)\n",
      "num of subgraphs induced on k-paths: 500\n",
      "num of subgraphs induced on k-paths: 872\n",
      "X_list: (225, 1372)\n",
      "2\n",
      "(1, 500)\n",
      "(1, 872)\n",
      "label_vec: (1, 1372)\n",
      "initial loading beta [[-0.7845275   0.20158299 -0.71001513 -0.85763347  0.45575774]]\n"
     ]
    },
    {
     "name": "stderr",
     "output_type": "stream",
     "text": [
      "  4%|████▍                                                                                                                     | 9/250 [00:00<00:02, 85.45it/s]"
     ]
    },
    {
     "name": "stdout",
     "output_type": "stream",
     "text": [
      "--- Training --- [threshold, AUC] =  [np.float64(0.691), np.float64(0.94)]\n",
      "--- Iteration 0: Training loss --- [Data, Label, Total] = [23351.105549.3, 438.274789.3, 117193.802533.3]\n",
      "--- Training --- [threshold, AUC] =  [np.float64(0.686), np.float64(0.96)]\n",
      "--- Iteration 10: Training loss --- [Data, Label, Total] = [19217.077162.3, 355.559731.3, 96440.945541.3]\n",
      "!!! pred_type filter\n"
     ]
    },
    {
     "name": "stderr",
     "output_type": "stream",
     "text": [
      "  7%|████████▋                                                                                                                | 18/250 [00:00<00:06, 35.55it/s]"
     ]
    },
    {
     "name": "stdout",
     "output_type": "stream",
     "text": [
      "--- Validation --- [threshold, AUC, Accuracy, F score] =  [np.float64(0.686), np.float64(0.96), np.float64(0.9), np.float64(0.919)]\n",
      "--- Training --- [threshold, AUC] =  [np.float64(0.68), np.float64(0.961)]\n",
      "--- Iteration 20: Training loss --- [Data, Label, Total] = [18947.693190.3, 351.144422.3, 95089.610370.3]\n",
      "!!! pred_type filter\n"
     ]
    },
    {
     "name": "stderr",
     "output_type": "stream",
     "text": [
      " 10%|███████████▌                                                                                                             | 24/250 [00:00<00:08, 27.58it/s]"
     ]
    },
    {
     "name": "stdout",
     "output_type": "stream",
     "text": [
      "--- Validation --- [threshold, AUC, Accuracy, F score] =  [np.float64(0.68), np.float64(0.961), np.float64(0.907), np.float64(0.925)]\n",
      "--- Training --- [threshold, AUC] =  [np.float64(0.702), np.float64(0.961)]\n",
      "--- Iteration 30: Training loss --- [Data, Label, Total] = [18790.658230.3, 353.791456.3, 94307.082606.3]\n",
      "!!! pred_type filter\n"
     ]
    },
    {
     "name": "stderr",
     "output_type": "stream",
     "text": [
      " 12%|███████████████                                                                                                          | 31/250 [00:01<00:08, 25.30it/s]"
     ]
    },
    {
     "name": "stdout",
     "output_type": "stream",
     "text": [
      "--- Validation --- [threshold, AUC, Accuracy, F score] =  [np.float64(0.702), np.float64(0.961), np.float64(0.902), np.float64(0.921)]\n",
      "--- Training --- [threshold, AUC] =  [np.float64(0.713), np.float64(0.96)]\n",
      "--- Iteration 40: Training loss --- [Data, Label, Total] = [18692.024651.3, 358.251209.3, 93818.374466.3]\n",
      "!!! pred_type filter\n"
     ]
    },
    {
     "name": "stderr",
     "output_type": "stream",
     "text": [
      " 20%|████████████████████████▏                                                                                                | 50/250 [00:01<00:05, 34.26it/s]"
     ]
    },
    {
     "name": "stdout",
     "output_type": "stream",
     "text": [
      "--- Validation --- [threshold, AUC, Accuracy, F score] =  [np.float64(0.713), np.float64(0.96), np.float64(0.899), np.float64(0.917)]\n",
      "--- Training --- [threshold, AUC] =  [np.float64(0.717), np.float64(0.958)]\n",
      "--- Iteration 50: Training loss --- [Data, Label, Total] = [18627.592258.3, 363.771074.3, 93501.732364.3]\n",
      "!!! pred_type filter\n"
     ]
    },
    {
     "name": "stderr",
     "output_type": "stream",
     "text": [
      " 22%|██████████████████████████▌                                                                                              | 55/250 [00:01<00:07, 26.99it/s]"
     ]
    },
    {
     "name": "stdout",
     "output_type": "stream",
     "text": [
      "--- Validation --- [threshold, AUC, Accuracy, F score] =  [np.float64(0.717), np.float64(0.958), np.float64(0.895), np.float64(0.914)]\n",
      "--- Training --- [threshold, AUC] =  [np.float64(0.65), np.float64(0.957)]\n",
      "--- Iteration 60: Training loss --- [Data, Label, Total] = [18580.500686.3, 369.410351.3, 93271.913780.3]\n",
      "!!! pred_type filter\n"
     ]
    },
    {
     "name": "stderr",
     "output_type": "stream",
     "text": [
      " 27%|████████████████████████████████▉                                                                                        | 68/250 [00:02<00:06, 26.58it/s]"
     ]
    },
    {
     "name": "stdout",
     "output_type": "stream",
     "text": [
      "--- Validation --- [threshold, AUC, Accuracy, F score] =  [np.float64(0.65), np.float64(0.957), np.float64(0.899), np.float64(0.919)]\n",
      "--- Training --- [threshold, AUC] =  [np.float64(0.652), np.float64(0.956)]\n",
      "--- Iteration 70: Training loss --- [Data, Label, Total] = [18542.705956.3, 374.865098.3, 93088.394879.3]\n",
      "!!! pred_type filter\n"
     ]
    },
    {
     "name": "stderr",
     "output_type": "stream",
     "text": [
      " 29%|██████████████████████████████████▊                                                                                      | 72/250 [00:02<00:08, 21.03it/s]"
     ]
    },
    {
     "name": "stdout",
     "output_type": "stream",
     "text": [
      "--- Validation --- [threshold, AUC, Accuracy, F score] =  [np.float64(0.652), np.float64(0.956), np.float64(0.897), np.float64(0.917)]\n",
      "--- Training --- [threshold, AUC] =  [np.float64(0.728), np.float64(0.954)]\n",
      "--- Iteration 80: Training loss --- [Data, Label, Total] = [18509.481405.3, 379.529874.3, 92926.936901.3]\n",
      "!!! pred_type filter\n"
     ]
    },
    {
     "name": "stderr",
     "output_type": "stream",
     "text": [
      " 32%|███████████████████████████████████████▏                                                                                 | 81/250 [00:03<00:07, 22.30it/s]"
     ]
    },
    {
     "name": "stdout",
     "output_type": "stream",
     "text": [
      "--- Validation --- [threshold, AUC, Accuracy, F score] =  [np.float64(0.728), np.float64(0.954), np.float64(0.884), np.float64(0.904)]\n",
      "--- Training --- [threshold, AUC] =  [np.float64(0.713), np.float64(0.954)]\n",
      "--- Iteration 90: Training loss --- [Data, Label, Total] = [18479.346341.3, 383.409601.3, 92780.141305.3]\n",
      "!!! pred_type filter\n"
     ]
    },
    {
     "name": "stderr",
     "output_type": "stream",
     "text": [
      " 36%|████████████████████████████████████████████                                                                             | 91/250 [00:03<00:06, 24.07it/s]"
     ]
    },
    {
     "name": "stdout",
     "output_type": "stream",
     "text": [
      "--- Validation --- [threshold, AUC, Accuracy, F score] =  [np.float64(0.713), np.float64(0.954), np.float64(0.884), np.float64(0.905)]\n",
      "--- Training --- [threshold, AUC] =  [np.float64(0.705), np.float64(0.953)]\n",
      "--- Iteration 100: Training loss --- [Data, Label, Total] = [18451.557552.3, 386.854687.3, 92644.642446.3]\n",
      "!!! pred_type filter\n"
     ]
    },
    {
     "name": "stderr",
     "output_type": "stream",
     "text": [
      " 40%|████████████████████████████████████████████████▍                                                                       | 101/250 [00:03<00:05, 25.20it/s]"
     ]
    },
    {
     "name": "stdout",
     "output_type": "stream",
     "text": [
      "--- Validation --- [threshold, AUC, Accuracy, F score] =  [np.float64(0.705), np.float64(0.953), np.float64(0.883), np.float64(0.904)]\n",
      "--- Training --- [threshold, AUC] =  [np.float64(0.707), np.float64(0.952)]\n",
      "--- Iteration 110: Training loss --- [Data, Label, Total] = [18426.247047.3, 389.765118.3, 92521.000354.3]\n",
      "!!! pred_type filter\n"
     ]
    },
    {
     "name": "stderr",
     "output_type": "stream",
     "text": [
      " 44%|█████████████████████████████████████████████████████▎                                                                  | 111/250 [00:04<00:05, 26.18it/s]"
     ]
    },
    {
     "name": "stdout",
     "output_type": "stream",
     "text": [
      "--- Validation --- [threshold, AUC, Accuracy, F score] =  [np.float64(0.707), np.float64(0.952), np.float64(0.881), np.float64(0.902)]\n",
      "--- Training --- [threshold, AUC] =  [np.float64(0.763), np.float64(0.951)]\n",
      "--- Iteration 120: Training loss --- [Data, Label, Total] = [18403.523732.3, 392.341384.3, 92409.960042.3]\n",
      "!!! pred_type filter\n"
     ]
    },
    {
     "name": "stderr",
     "output_type": "stream",
     "text": [
      " 48%|██████████████████████████████████████████████████████████                                                              | 121/250 [00:04<00:04, 26.81it/s]"
     ]
    },
    {
     "name": "stdout",
     "output_type": "stream",
     "text": [
      "--- Validation --- [threshold, AUC, Accuracy, F score] =  [np.float64(0.763), np.float64(0.951), np.float64(0.875), np.float64(0.895)]\n",
      "--- Training --- [threshold, AUC] =  [np.float64(0.707), np.float64(0.951)]\n",
      "--- Iteration 130: Training loss --- [Data, Label, Total] = [18384.260039.3, 394.335813.3, 92315.636009.3]\n",
      "!!! pred_type filter\n"
     ]
    },
    {
     "name": "stderr",
     "output_type": "stream",
     "text": [
      " 52%|██████████████████████████████████████████████████████████████▉                                                         | 131/250 [00:04<00:04, 27.30it/s]"
     ]
    },
    {
     "name": "stdout",
     "output_type": "stream",
     "text": [
      "--- Validation --- [threshold, AUC, Accuracy, F score] =  [np.float64(0.707), np.float64(0.951), np.float64(0.88), np.float64(0.901)]\n",
      "--- Training --- [threshold, AUC] =  [np.float64(0.704), np.float64(0.95)]\n",
      "--- Iteration 140: Training loss --- [Data, Label, Total] = [18368.257493.3, 395.950491.3, 92237.237958.3]\n",
      "!!! pred_type filter\n"
     ]
    },
    {
     "name": "stderr",
     "output_type": "stream",
     "text": [
      " 60%|████████████████████████████████████████████████████████████████████████                                                | 150/250 [00:05<00:02, 34.47it/s]"
     ]
    },
    {
     "name": "stdout",
     "output_type": "stream",
     "text": [
      "--- Validation --- [threshold, AUC, Accuracy, F score] =  [np.float64(0.704), np.float64(0.95), np.float64(0.88), np.float64(0.901)]\n",
      "--- Training --- [threshold, AUC] =  [np.float64(0.711), np.float64(0.95)]\n",
      "--- Iteration 150: Training loss --- [Data, Label, Total] = [18355.014746.3, 397.346654.3, 92172.420382.3]\n",
      "!!! pred_type filter\n"
     ]
    },
    {
     "name": "stderr",
     "output_type": "stream",
     "text": [
      " 62%|██████████████████████████████████████████████████████████████████████████▍                                             | 155/250 [00:05<00:03, 28.87it/s]"
     ]
    },
    {
     "name": "stdout",
     "output_type": "stream",
     "text": [
      "--- Validation --- [threshold, AUC, Accuracy, F score] =  [np.float64(0.711), np.float64(0.95), np.float64(0.878), np.float64(0.899)]\n",
      "--- Training --- [threshold, AUC] =  [np.float64(0.713), np.float64(0.95)]\n",
      "--- Iteration 160: Training loss --- [Data, Label, Total] = [18344.345402.3, 398.445221.3, 92120.172229.3]\n",
      "!!! pred_type filter\n"
     ]
    },
    {
     "name": "stderr",
     "output_type": "stream",
     "text": [
      " 64%|█████████████████████████████████████████████████████████████████████████████▎                                          | 161/250 [00:06<00:03, 25.91it/s]"
     ]
    },
    {
     "name": "stdout",
     "output_type": "stream",
     "text": [
      "--- Validation --- [threshold, AUC, Accuracy, F score] =  [np.float64(0.713), np.float64(0.95), np.float64(0.878), np.float64(0.899)]\n",
      "--- Training --- [threshold, AUC] =  [np.float64(0.678), np.float64(0.95)]\n",
      "--- Iteration 170: Training loss --- [Data, Label, Total] = [18335.844574.3, 399.206803.3, 92078.429672.3]\n",
      "!!! pred_type filter\n"
     ]
    },
    {
     "name": "stderr",
     "output_type": "stream",
     "text": [
      " 72%|██████████████████████████████████████████████████████████████████████████████████████▍                                 | 180/250 [00:06<00:02, 34.44it/s]"
     ]
    },
    {
     "name": "stdout",
     "output_type": "stream",
     "text": [
      "--- Validation --- [threshold, AUC, Accuracy, F score] =  [np.float64(0.678), np.float64(0.95), np.float64(0.883), np.float64(0.904)]\n",
      "--- Training --- [threshold, AUC] =  [np.float64(0.676), np.float64(0.949)]\n",
      "--- Iteration 180: Training loss --- [Data, Label, Total] = [18329.153377.3, 399.905845.3, 92045.672728.3]\n",
      "!!! pred_type filter\n"
     ]
    },
    {
     "name": "stderr",
     "output_type": "stream",
     "text": [
      " 74%|████████████████████████████████████████████████████████████████████████████████████████▊                               | 185/250 [00:06<00:02, 28.48it/s]"
     ]
    },
    {
     "name": "stdout",
     "output_type": "stream",
     "text": [
      "--- Validation --- [threshold, AUC, Accuracy, F score] =  [np.float64(0.676), np.float64(0.949), np.float64(0.883), np.float64(0.905)]\n",
      "--- Training --- [threshold, AUC] =  [np.float64(0.678), np.float64(0.949)]\n",
      "--- Iteration 190: Training loss --- [Data, Label, Total] = [18324.016941.3, 400.379145.3, 92020.463852.3]\n",
      "!!! pred_type filter\n"
     ]
    },
    {
     "name": "stderr",
     "output_type": "stream",
     "text": [
      " 76%|███████████████████████████████████████████████████████████████████████████████████████████▋                            | 191/250 [00:07<00:02, 25.41it/s]"
     ]
    },
    {
     "name": "stdout",
     "output_type": "stream",
     "text": [
      "--- Validation --- [threshold, AUC, Accuracy, F score] =  [np.float64(0.678), np.float64(0.949), np.float64(0.883), np.float64(0.905)]\n",
      "--- Training --- [threshold, AUC] =  [np.float64(0.679), np.float64(0.949)]\n",
      "--- Iteration 200: Training loss --- [Data, Label, Total] = [18320.105454.3, 400.750274.3, 92001.277542.3]\n",
      "!!! pred_type filter\n"
     ]
    },
    {
     "name": "stderr",
     "output_type": "stream",
     "text": [
      " 83%|███████████████████████████████████████████████████████████████████████████████████████████████████▊                    | 208/250 [00:07<00:01, 31.96it/s]"
     ]
    },
    {
     "name": "stdout",
     "output_type": "stream",
     "text": [
      "--- Validation --- [threshold, AUC, Accuracy, F score] =  [np.float64(0.679), np.float64(0.949), np.float64(0.883), np.float64(0.905)]\n",
      "--- Training --- [threshold, AUC] =  [np.float64(0.665), np.float64(0.949)]\n",
      "--- Iteration 210: Training loss --- [Data, Label, Total] = [18317.194681.3, 401.047390.3, 91987.020796.3]\n",
      "!!! pred_type filter\n"
     ]
    },
    {
     "name": "stderr",
     "output_type": "stream",
     "text": [
      " 85%|██████████████████████████████████████████████████████████████████████████████████████████████████████▏                 | 213/250 [00:07<00:01, 25.71it/s]"
     ]
    },
    {
     "name": "stdout",
     "output_type": "stream",
     "text": [
      "--- Validation --- [threshold, AUC, Accuracy, F score] =  [np.float64(0.665), np.float64(0.949), np.float64(0.883), np.float64(0.905)]\n",
      "--- Training --- [threshold, AUC] =  [np.float64(0.68), np.float64(0.949)]\n",
      "--- Iteration 220: Training loss --- [Data, Label, Total] = [18314.994050.3, 401.348087.3, 91976.318336.3]\n",
      "!!! pred_type filter\n"
     ]
    },
    {
     "name": "stderr",
     "output_type": "stream",
     "text": [
      " 92%|██████████████████████████████████████████████████████████████████████████████████████████████████████████████▍         | 230/250 [00:08<00:00, 28.80it/s]"
     ]
    },
    {
     "name": "stdout",
     "output_type": "stream",
     "text": [
      "--- Validation --- [threshold, AUC, Accuracy, F score] =  [np.float64(0.68), np.float64(0.949), np.float64(0.882), np.float64(0.903)]\n",
      "--- Training --- [threshold, AUC] =  [np.float64(0.68), np.float64(0.949)]\n",
      "--- Iteration 230: Training loss --- [Data, Label, Total] = [18313.308294.3, 401.495365.3, 91968.036833.3]\n",
      "!!! pred_type filter\n"
     ]
    },
    {
     "name": "stderr",
     "output_type": "stream",
     "text": [
      " 94%|████████████████████████████████████████████████████████████████████████████████████████████████████████████████▊       | 235/250 [00:08<00:00, 24.51it/s]"
     ]
    },
    {
     "name": "stdout",
     "output_type": "stream",
     "text": [
      "--- Validation --- [threshold, AUC, Accuracy, F score] =  [np.float64(0.68), np.float64(0.949), np.float64(0.882), np.float64(0.903)]\n",
      "--- Training --- [threshold, AUC] =  [np.float64(0.681), np.float64(0.949)]\n",
      "--- Iteration 240: Training loss --- [Data, Label, Total] = [18312.014620.3, 401.604626.3, 91961.677724.3]\n",
      "!!! pred_type filter\n"
     ]
    },
    {
     "name": "stderr",
     "output_type": "stream",
     "text": [
      "100%|████████████████████████████████████████████████████████████████████████████████████████████████████████████████████████| 250/250 [00:09<00:00, 27.28it/s]"
     ]
    },
    {
     "name": "stdout",
     "output_type": "stream",
     "text": [
      "--- Validation --- [threshold, AUC, Accuracy, F score] =  [np.float64(0.681), np.float64(0.949), np.float64(0.882), np.float64(0.903)]\n",
      "!!! pred_type filter\n"
     ]
    },
    {
     "name": "stderr",
     "output_type": "stream",
     "text": [
      "\n"
     ]
    },
    {
     "name": "stdout",
     "output_type": "stream",
     "text": [
      "num of subgraphs induced on k-paths: 500\n",
      "num of subgraphs induced on k-paths: 500\n",
      "X_list: (225, 1000)\n",
      "2\n",
      "(1, 500)\n",
      "(1, 500)\n",
      "label_vec: (1, 1000)\n",
      "('Caltech36', 'UCLA26') predicting Harvard1 0.8449298516548318\n",
      "\n",
      "3: 0.8778558372677772\n",
      "4: 0.8449298516548318\n",
      "\n",
      "num of subgraphs induced on k-paths: 500\n",
      "num of subgraphs induced on k-paths: 500\n",
      "X_list: (225, 1000)\n",
      "2\n",
      "(1, 500)\n",
      "(1, 500)\n",
      "label_vec: (1, 1000)\n",
      "num of subgraphs induced on k-paths: 500\n",
      "num of subgraphs induced on k-paths: 849\n",
      "X_list: (225, 1349)\n",
      "2\n",
      "(1, 500)\n",
      "(1, 849)\n",
      "label_vec: (1, 1349)\n",
      "initial loading beta [[-0.17179584  0.83724558  0.91731443  0.4617521  -0.78531028  0.9460835 ]]\n"
     ]
    },
    {
     "name": "stderr",
     "output_type": "stream",
     "text": [
      "  3%|███▉                                                                                                                      | 8/250 [00:00<00:03, 76.92it/s]"
     ]
    },
    {
     "name": "stdout",
     "output_type": "stream",
     "text": [
      "--- Training --- [threshold, AUC] =  [np.float64(0.725), np.float64(0.957)]\n",
      "--- Iteration 0: Training loss --- [Data, Label, Total] = [24528.758770.3, 363.603929.3, 123007.397777.3]\n",
      "--- Training --- [threshold, AUC] =  [np.float64(0.769), np.float64(0.965)]\n",
      "--- Iteration 10: Training loss --- [Data, Label, Total] = [20022.526866.3, 326.661001.3, 100439.295331.3]\n",
      "!!! pred_type filter\n"
     ]
    },
    {
     "name": "stderr",
     "output_type": "stream",
     "text": [
      "  6%|███████▋                                                                                                                 | 16/250 [00:00<00:08, 28.03it/s]"
     ]
    },
    {
     "name": "stdout",
     "output_type": "stream",
     "text": [
      "--- Validation --- [threshold, AUC, Accuracy, F score] =  [np.float64(0.769), np.float64(0.965), np.float64(0.899), np.float64(0.915)]\n",
      "--- Training --- [threshold, AUC] =  [np.float64(0.745), np.float64(0.968)]\n",
      "--- Iteration 20: Training loss --- [Data, Label, Total] = [19334.120123.3, 311.990158.3, 96982.590773.3]\n",
      "!!! pred_type filter\n"
     ]
    },
    {
     "name": "stderr",
     "output_type": "stream",
     "text": [
      " 12%|██████████████                                                                                                           | 29/250 [00:00<00:07, 30.55it/s]"
     ]
    },
    {
     "name": "stdout",
     "output_type": "stream",
     "text": [
      "--- Validation --- [threshold, AUC, Accuracy, F score] =  [np.float64(0.745), np.float64(0.968), np.float64(0.912), np.float64(0.927)]\n",
      "--- Training --- [threshold, AUC] =  [np.float64(0.754), np.float64(0.969)]\n",
      "--- Iteration 30: Training loss --- [Data, Label, Total] = [19008.277274.3, 306.232987.3, 95347.619355.3]\n",
      "!!! pred_type filter\n"
     ]
    },
    {
     "name": "stderr",
     "output_type": "stream",
     "text": [
      " 14%|████████████████▍                                                                                                        | 34/250 [00:01<00:09, 22.80it/s]"
     ]
    },
    {
     "name": "stdout",
     "output_type": "stream",
     "text": [
      "--- Validation --- [threshold, AUC, Accuracy, F score] =  [np.float64(0.754), np.float64(0.969), np.float64(0.909), np.float64(0.924)]\n",
      "--- Training --- [threshold, AUC] =  [np.float64(0.731), np.float64(0.97)]\n",
      "--- Iteration 40: Training loss --- [Data, Label, Total] = [18825.702456.3, 303.694940.3, 94432.207222.3]\n",
      "!!! pred_type filter\n"
     ]
    },
    {
     "name": "stderr",
     "output_type": "stream",
     "text": [
      " 20%|███████████████████████▋                                                                                                 | 49/250 [00:01<00:07, 28.64it/s]"
     ]
    },
    {
     "name": "stdout",
     "output_type": "stream",
     "text": [
      "--- Validation --- [threshold, AUC, Accuracy, F score] =  [np.float64(0.731), np.float64(0.97), np.float64(0.909), np.float64(0.925)]\n",
      "--- Training --- [threshold, AUC] =  [np.float64(0.677), np.float64(0.97)]\n",
      "--- Iteration 50: Training loss --- [Data, Label, Total] = [18710.213663.3, 302.164830.3, 93853.233146.3]\n",
      "!!! pred_type filter\n"
     ]
    },
    {
     "name": "stderr",
     "output_type": "stream",
     "text": [
      " 22%|██████████████████████████▏                                                                                              | 54/250 [00:02<00:08, 23.13it/s]"
     ]
    },
    {
     "name": "stdout",
     "output_type": "stream",
     "text": [
      "--- Validation --- [threshold, AUC, Accuracy, F score] =  [np.float64(0.677), np.float64(0.97), np.float64(0.915), np.float64(0.931)]\n",
      "--- Training --- [threshold, AUC] =  [np.float64(0.658), np.float64(0.97)]\n",
      "--- Iteration 60: Training loss --- [Data, Label, Total] = [18631.855759.3, 300.865966.3, 93460.144761.3]\n",
      "!!! pred_type filter\n"
     ]
    },
    {
     "name": "stderr",
     "output_type": "stream",
     "text": [
      " 28%|█████████████████████████████████▉                                                                                       | 70/250 [00:02<00:05, 30.17it/s]"
     ]
    },
    {
     "name": "stdout",
     "output_type": "stream",
     "text": [
      "--- Validation --- [threshold, AUC, Accuracy, F score] =  [np.float64(0.658), np.float64(0.97), np.float64(0.919), np.float64(0.935)]\n",
      "--- Training --- [threshold, AUC] =  [np.float64(0.654), np.float64(0.971)]\n",
      "--- Iteration 70: Training loss --- [Data, Label, Total] = [18570.709200.3, 299.576361.3, 93153.122363.3]\n",
      "!!! pred_type filter\n"
     ]
    },
    {
     "name": "stderr",
     "output_type": "stream",
     "text": [
      " 30%|████████████████████████████████████▎                                                                                    | 75/250 [00:02<00:07, 24.41it/s]"
     ]
    },
    {
     "name": "stdout",
     "output_type": "stream",
     "text": [
      "--- Validation --- [threshold, AUC, Accuracy, F score] =  [np.float64(0.654), np.float64(0.971), np.float64(0.92), np.float64(0.935)]\n",
      "--- Training --- [threshold, AUC] =  [np.float64(0.662), np.float64(0.971)]\n",
      "--- Iteration 80: Training loss --- [Data, Label, Total] = [18517.151718.3, 299.249716.3, 92885.008306.3]\n",
      "!!! pred_type filter\n"
     ]
    },
    {
     "name": "stderr",
     "output_type": "stream",
     "text": [
      " 36%|███████████████████████████████████████████▌                                                                             | 90/250 [00:03<00:05, 30.63it/s]"
     ]
    },
    {
     "name": "stdout",
     "output_type": "stream",
     "text": [
      "--- Validation --- [threshold, AUC, Accuracy, F score] =  [np.float64(0.662), np.float64(0.971), np.float64(0.919), np.float64(0.935)]\n",
      "--- Training --- [threshold, AUC] =  [np.float64(0.669), np.float64(0.971)]\n",
      "--- Iteration 90: Training loss --- [Data, Label, Total] = [18473.917097.3, 299.535365.3, 92669.120852.3]\n",
      "!!! pred_type filter\n"
     ]
    },
    {
     "name": "stderr",
     "output_type": "stream",
     "text": [
      " 38%|█████████████████████████████████████████████▉                                                                           | 95/250 [00:03<00:06, 24.74it/s]"
     ]
    },
    {
     "name": "stdout",
     "output_type": "stream",
     "text": [
      "--- Validation --- [threshold, AUC, Accuracy, F score] =  [np.float64(0.669), np.float64(0.971), np.float64(0.918), np.float64(0.933)]\n",
      "--- Training --- [threshold, AUC] =  [np.float64(0.684), np.float64(0.97)]\n",
      "--- Iteration 100: Training loss --- [Data, Label, Total] = [18444.898226.3, 300.208745.3, 92524.699876.3]\n",
      "!!! pred_type filter\n"
     ]
    },
    {
     "name": "stderr",
     "output_type": "stream",
     "text": [
      " 44%|████████████████████████████████████████████████████▊                                                                   | 110/250 [00:04<00:04, 30.26it/s]"
     ]
    },
    {
     "name": "stdout",
     "output_type": "stream",
     "text": [
      "--- Validation --- [threshold, AUC, Accuracy, F score] =  [np.float64(0.684), np.float64(0.97), np.float64(0.915), np.float64(0.931)]\n",
      "--- Training --- [threshold, AUC] =  [np.float64(0.735), np.float64(0.97)]\n",
      "--- Iteration 110: Training loss --- [Data, Label, Total] = [18428.018937.3, 300.824732.3, 92440.919416.3]\n",
      "!!! pred_type filter\n"
     ]
    },
    {
     "name": "stderr",
     "output_type": "stream",
     "text": [
      " 46%|███████████████████████████████████████████████████████▏                                                                | 115/250 [00:04<00:05, 24.73it/s]"
     ]
    },
    {
     "name": "stdout",
     "output_type": "stream",
     "text": [
      "--- Validation --- [threshold, AUC, Accuracy, F score] =  [np.float64(0.735), np.float64(0.97), np.float64(0.911), np.float64(0.926)]\n",
      "--- Training --- [threshold, AUC] =  [np.float64(0.732), np.float64(0.97)]\n",
      "--- Iteration 120: Training loss --- [Data, Label, Total] = [18416.774992.3, 301.286954.3, 92385.161916.3]\n",
      "!!! pred_type filter\n"
     ]
    },
    {
     "name": "stderr",
     "output_type": "stream",
     "text": [
      " 48%|██████████████████████████████████████████████████████████                                                              | 121/250 [00:04<00:05, 22.34it/s]"
     ]
    },
    {
     "name": "stdout",
     "output_type": "stream",
     "text": [
      "--- Validation --- [threshold, AUC, Accuracy, F score] =  [np.float64(0.732), np.float64(0.97), np.float64(0.913), np.float64(0.928)]\n",
      "--- Training --- [threshold, AUC] =  [np.float64(0.728), np.float64(0.97)]\n",
      "--- Iteration 130: Training loss --- [Data, Label, Total] = [18407.330946.3, 301.587815.3, 92338.242545.3]\n",
      "!!! pred_type filter\n"
     ]
    },
    {
     "name": "stderr",
     "output_type": "stream",
     "text": [
      " 56%|███████████████████████████████████████████████████████████████████▏                                                    | 140/250 [00:05<00:03, 31.55it/s]"
     ]
    },
    {
     "name": "stdout",
     "output_type": "stream",
     "text": [
      "--- Validation --- [threshold, AUC, Accuracy, F score] =  [np.float64(0.728), np.float64(0.97), np.float64(0.913), np.float64(0.928)]\n",
      "--- Training --- [threshold, AUC] =  [np.float64(0.738), np.float64(0.97)]\n",
      "--- Iteration 140: Training loss --- [Data, Label, Total] = [18398.750036.3, 301.893890.3, 92295.644071.3]\n",
      "!!! pred_type filter\n"
     ]
    },
    {
     "name": "stderr",
     "output_type": "stream",
     "text": [
      " 58%|█████████████████████████████████████████████████████████████████████▌                                                  | 145/250 [00:05<00:04, 25.73it/s]"
     ]
    },
    {
     "name": "stdout",
     "output_type": "stream",
     "text": [
      "--- Validation --- [threshold, AUC, Accuracy, F score] =  [np.float64(0.738), np.float64(0.97), np.float64(0.91), np.float64(0.925)]\n",
      "--- Training --- [threshold, AUC] =  [np.float64(0.738), np.float64(0.97)]\n",
      "--- Iteration 150: Training loss --- [Data, Label, Total] = [18390.655796.3, 302.108035.3, 92255.387014.3]\n",
      "!!! pred_type filter\n"
     ]
    },
    {
     "name": "stderr",
     "output_type": "stream",
     "text": [
      " 60%|████████████████████████████████████████████████████████████████████████▍                                               | 151/250 [00:06<00:04, 23.05it/s]"
     ]
    },
    {
     "name": "stdout",
     "output_type": "stream",
     "text": [
      "--- Validation --- [threshold, AUC, Accuracy, F score] =  [np.float64(0.738), np.float64(0.97), np.float64(0.909), np.float64(0.924)]\n",
      "--- Training --- [threshold, AUC] =  [np.float64(0.703), np.float64(0.97)]\n",
      "--- Iteration 160: Training loss --- [Data, Label, Total] = [18383.474505.3, 302.349158.3, 92219.721681.3]\n",
      "!!! pred_type filter\n"
     ]
    },
    {
     "name": "stderr",
     "output_type": "stream",
     "text": [
      " 64%|█████████████████████████████████████████████████████████████████████████████▎                                          | 161/250 [00:06<00:03, 24.31it/s]"
     ]
    },
    {
     "name": "stdout",
     "output_type": "stream",
     "text": [
      "--- Validation --- [threshold, AUC, Accuracy, F score] =  [np.float64(0.703), np.float64(0.97), np.float64(0.915), np.float64(0.931)]\n",
      "--- Training --- [threshold, AUC] =  [np.float64(0.701), np.float64(0.97)]\n",
      "--- Iteration 170: Training loss --- [Data, Label, Total] = [18377.606376.3, 302.589032.3, 92190.620913.3]\n",
      "!!! pred_type filter\n"
     ]
    },
    {
     "name": "stderr",
     "output_type": "stream",
     "text": [
      " 72%|██████████████████████████████████████████████████████████████████████████████████████▍                                 | 180/250 [00:06<00:02, 32.40it/s]"
     ]
    },
    {
     "name": "stdout",
     "output_type": "stream",
     "text": [
      "--- Validation --- [threshold, AUC, Accuracy, F score] =  [np.float64(0.701), np.float64(0.97), np.float64(0.914), np.float64(0.93)]\n",
      "--- Training --- [threshold, AUC] =  [np.float64(0.7), np.float64(0.97)]\n",
      "--- Iteration 180: Training loss --- [Data, Label, Total] = [18372.725964.3, 302.683096.3, 92166.312916.3]\n",
      "!!! pred_type filter\n"
     ]
    },
    {
     "name": "stderr",
     "output_type": "stream",
     "text": [
      " 74%|████████████████████████████████████████████████████████████████████████████████████████▊                               | 185/250 [00:07<00:02, 26.66it/s]"
     ]
    },
    {
     "name": "stdout",
     "output_type": "stream",
     "text": [
      "--- Validation --- [threshold, AUC, Accuracy, F score] =  [np.float64(0.7), np.float64(0.97), np.float64(0.914), np.float64(0.93)]\n",
      "--- Training --- [threshold, AUC] =  [np.float64(0.691), np.float64(0.97)]\n",
      "--- Iteration 190: Training loss --- [Data, Label, Total] = [18368.558876.3, 302.851786.3, 92145.646168.3]\n",
      "!!! pred_type filter\n"
     ]
    },
    {
     "name": "stderr",
     "output_type": "stream",
     "text": [
      " 80%|████████████████████████████████████████████████████████████████████████████████████████████████                        | 200/250 [00:07<00:01, 32.00it/s]"
     ]
    },
    {
     "name": "stdout",
     "output_type": "stream",
     "text": [
      "--- Validation --- [threshold, AUC, Accuracy, F score] =  [np.float64(0.691), np.float64(0.97), np.float64(0.915), np.float64(0.931)]\n",
      "--- Training --- [threshold, AUC] =  [np.float64(0.678), np.float64(0.97)]\n",
      "--- Iteration 200: Training loss --- [Data, Label, Total] = [18364.968966.3, 302.840746.3, 92127.685576.3]\n",
      "!!! pred_type filter\n"
     ]
    },
    {
     "name": "stderr",
     "output_type": "stream",
     "text": [
      " 82%|██████████████████████████████████████████████████████████████████████████████████████████████████▍                     | 205/250 [00:07<00:01, 25.89it/s]"
     ]
    },
    {
     "name": "stdout",
     "output_type": "stream",
     "text": [
      "--- Validation --- [threshold, AUC, Accuracy, F score] =  [np.float64(0.678), np.float64(0.97), np.float64(0.917), np.float64(0.933)]\n",
      "--- Training --- [threshold, AUC] =  [np.float64(0.678), np.float64(0.97)]\n",
      "--- Iteration 210: Training loss --- [Data, Label, Total] = [18361.811201.3, 302.955536.3, 92112.011542.3]\n",
      "!!! pred_type filter\n"
     ]
    },
    {
     "name": "stderr",
     "output_type": "stream",
     "text": [
      " 84%|█████████████████████████████████████████████████████████████████████████████████████████████████████▎                  | 211/250 [00:08<00:01, 22.95it/s]"
     ]
    },
    {
     "name": "stdout",
     "output_type": "stream",
     "text": [
      "--- Validation --- [threshold, AUC, Accuracy, F score] =  [np.float64(0.678), np.float64(0.97), np.float64(0.917), np.float64(0.933)]\n",
      "--- Training --- [threshold, AUC] =  [np.float64(0.679), np.float64(0.97)]\n",
      "--- Iteration 220: Training loss --- [Data, Label, Total] = [18358.991139.3, 302.969959.3, 92097.925654.3]\n",
      "!!! pred_type filter\n"
     ]
    },
    {
     "name": "stderr",
     "output_type": "stream",
     "text": [
      " 92%|██████████████████████████████████████████████████████████████████████████████████████████████████████████████▍         | 230/250 [00:08<00:00, 31.99it/s]"
     ]
    },
    {
     "name": "stdout",
     "output_type": "stream",
     "text": [
      "--- Validation --- [threshold, AUC, Accuracy, F score] =  [np.float64(0.679), np.float64(0.97), np.float64(0.917), np.float64(0.933)]\n",
      "--- Training --- [threshold, AUC] =  [np.float64(0.706), np.float64(0.97)]\n",
      "--- Iteration 230: Training loss --- [Data, Label, Total] = [18356.466765.3, 302.997453.3, 92085.331277.3]\n",
      "!!! pred_type filter\n"
     ]
    },
    {
     "name": "stderr",
     "output_type": "stream",
     "text": [
      " 94%|████████████████████████████████████████████████████████████████████████████████████████████████████████████████▊       | 235/250 [00:09<00:00, 25.27it/s]"
     ]
    },
    {
     "name": "stdout",
     "output_type": "stream",
     "text": [
      "--- Validation --- [threshold, AUC, Accuracy, F score] =  [np.float64(0.706), np.float64(0.97), np.float64(0.914), np.float64(0.93)]\n",
      "--- Training --- [threshold, AUC] =  [np.float64(0.705), np.float64(0.97)]\n",
      "--- Iteration 240: Training loss --- [Data, Label, Total] = [18354.206010.3, 303.117150.3, 92074.147200.3]\n",
      "!!! pred_type filter\n"
     ]
    },
    {
     "name": "stderr",
     "output_type": "stream",
     "text": [
      "100%|████████████████████████████████████████████████████████████████████████████████████████████████████████████████████████| 250/250 [00:09<00:00, 26.13it/s]"
     ]
    },
    {
     "name": "stdout",
     "output_type": "stream",
     "text": [
      "--- Validation --- [threshold, AUC, Accuracy, F score] =  [np.float64(0.705), np.float64(0.97), np.float64(0.914), np.float64(0.93)]\n",
      "!!! pred_type filter\n"
     ]
    },
    {
     "name": "stderr",
     "output_type": "stream",
     "text": [
      "\n"
     ]
    },
    {
     "name": "stdout",
     "output_type": "stream",
     "text": [
      "num of subgraphs induced on k-paths: 500\n",
      "num of subgraphs induced on k-paths: 500\n",
      "X_list: (225, 1000)\n",
      "2\n",
      "(1, 500)\n",
      "(1, 500)\n",
      "label_vec: (1, 1000)\n",
      "('Caltech36', 'UCLA26') predicting Harvard1 0.8328589202034812\n",
      "\n",
      "3: 0.8778558372677772\n",
      "4: 0.8449298516548318\n",
      "5: 0.8328589202034812\n",
      "\n",
      "num of subgraphs induced on k-paths: 500\n",
      "num of subgraphs induced on k-paths: 500\n",
      "X_list: (225, 1000)\n",
      "2\n",
      "(1, 500)\n",
      "(1, 500)\n",
      "label_vec: (1, 1000)\n",
      "num of subgraphs induced on k-paths: 500\n",
      "num of subgraphs induced on k-paths: 852\n",
      "X_list: (225, 1352)\n",
      "2\n",
      "(1, 500)\n",
      "(1, 852)\n",
      "label_vec: (1, 1352)\n",
      "initial loading beta [[ 0.86486929  0.11666792 -0.46980799 -0.62988806  0.10699048 -0.4043002\n",
      "  -0.87326056]]\n"
     ]
    },
    {
     "name": "stderr",
     "output_type": "stream",
     "text": [
      "  3%|███▉                                                                                                                      | 8/250 [00:00<00:03, 77.49it/s]"
     ]
    },
    {
     "name": "stdout",
     "output_type": "stream",
     "text": [
      "--- Training --- [threshold, AUC] =  [np.float64(0.648), np.float64(0.961)]\n",
      "--- Iteration 0: Training loss --- [Data, Label, Total] = [24240.675107.3, 353.983681.3, 121557.359218.3]\n",
      "--- Training --- [threshold, AUC] =  [np.float64(0.735), np.float64(0.969)]\n",
      "--- Iteration 10: Training loss --- [Data, Label, Total] = [18805.006892.3, 311.019306.3, 94336.053763.3]\n",
      "!!! pred_type filter\n"
     ]
    },
    {
     "name": "stderr",
     "output_type": "stream",
     "text": [
      "  6%|███████▋                                                                                                                 | 16/250 [00:00<00:08, 27.00it/s]"
     ]
    },
    {
     "name": "stdout",
     "output_type": "stream",
     "text": [
      "--- Validation --- [threshold, AUC, Accuracy, F score] =  [np.float64(0.735), np.float64(0.969), np.float64(0.899), np.float64(0.917)]\n",
      "--- Training --- [threshold, AUC] =  [np.float64(0.671), np.float64(0.969)]\n",
      "--- Iteration 20: Training loss --- [Data, Label, Total] = [18035.248969.3, 311.693418.3, 90487.938262.3]\n",
      "!!! pred_type filter\n"
     ]
    },
    {
     "name": "stderr",
     "output_type": "stream",
     "text": [
      " 12%|██████████████▌                                                                                                          | 30/250 [00:01<00:07, 31.08it/s]"
     ]
    },
    {
     "name": "stdout",
     "output_type": "stream",
     "text": [
      "--- Validation --- [threshold, AUC, Accuracy, F score] =  [np.float64(0.671), np.float64(0.969), np.float64(0.908), np.float64(0.926)]\n",
      "--- Training --- [threshold, AUC] =  [np.float64(0.68), np.float64(0.969)]\n",
      "--- Iteration 30: Training loss --- [Data, Label, Total] = [17692.964790.3, 310.350789.3, 88775.174739.3]\n",
      "!!! pred_type filter\n"
     ]
    },
    {
     "name": "stderr",
     "output_type": "stream",
     "text": [
      " 14%|█████████████████▍                                                                                                       | 36/250 [00:01<00:08, 23.79it/s]"
     ]
    },
    {
     "name": "stdout",
     "output_type": "stream",
     "text": [
      "--- Validation --- [threshold, AUC, Accuracy, F score] =  [np.float64(0.68), np.float64(0.969), np.float64(0.908), np.float64(0.925)]\n",
      "--- Training --- [threshold, AUC] =  [np.float64(0.681), np.float64(0.97)]\n",
      "--- Iteration 40: Training loss --- [Data, Label, Total] = [17500.606332.3, 310.089791.3, 87813.121453.3]\n",
      "!!! pred_type filter\n"
     ]
    },
    {
     "name": "stderr",
     "output_type": "stream",
     "text": [
      " 19%|███████████████████████▏                                                                                                 | 48/250 [00:01<00:07, 26.04it/s]"
     ]
    },
    {
     "name": "stdout",
     "output_type": "stream",
     "text": [
      "--- Validation --- [threshold, AUC, Accuracy, F score] =  [np.float64(0.681), np.float64(0.97), np.float64(0.905), np.float64(0.922)]\n",
      "--- Training --- [threshold, AUC] =  [np.float64(0.676), np.float64(0.97)]\n",
      "--- Iteration 50: Training loss --- [Data, Label, Total] = [17393.122455.3, 309.845976.3, 87275.458250.3]\n",
      "!!! pred_type filter\n"
     ]
    },
    {
     "name": "stderr",
     "output_type": "stream",
     "text": [
      " 21%|█████████████████████████▋                                                                                               | 53/250 [00:02<00:09, 20.89it/s]"
     ]
    },
    {
     "name": "stdout",
     "output_type": "stream",
     "text": [
      "--- Validation --- [threshold, AUC, Accuracy, F score] =  [np.float64(0.676), np.float64(0.97), np.float64(0.907), np.float64(0.924)]\n",
      "--- Training --- [threshold, AUC] =  [np.float64(0.664), np.float64(0.97)]\n",
      "--- Iteration 60: Training loss --- [Data, Label, Total] = [17330.108244.3, 310.184117.3, 86960.725339.3]\n",
      "!!! pred_type filter\n"
     ]
    },
    {
     "name": "stderr",
     "output_type": "stream",
     "text": [
      " 24%|█████████████████████████████▌                                                                                           | 61/250 [00:02<00:09, 20.56it/s]"
     ]
    },
    {
     "name": "stdout",
     "output_type": "stream",
     "text": [
      "--- Validation --- [threshold, AUC, Accuracy, F score] =  [np.float64(0.664), np.float64(0.97), np.float64(0.908), np.float64(0.926)]\n",
      "--- Training --- [threshold, AUC] =  [np.float64(0.665), np.float64(0.97)]\n",
      "--- Iteration 70: Training loss --- [Data, Label, Total] = [17285.879631.3, 310.412236.3, 86739.810393.3]\n",
      "!!! pred_type filter\n"
     ]
    },
    {
     "name": "stderr",
     "output_type": "stream",
     "text": [
      " 28%|██████████████████████████████████▎                                                                                      | 71/250 [00:03<00:08, 21.89it/s]"
     ]
    },
    {
     "name": "stdout",
     "output_type": "stream",
     "text": [
      "--- Validation --- [threshold, AUC, Accuracy, F score] =  [np.float64(0.665), np.float64(0.97), np.float64(0.91), np.float64(0.927)]\n",
      "--- Training --- [threshold, AUC] =  [np.float64(0.668), np.float64(0.97)]\n",
      "--- Iteration 80: Training loss --- [Data, Label, Total] = [17249.886800.3, 310.377438.3, 86559.811440.3]\n",
      "!!! pred_type filter\n"
     ]
    },
    {
     "name": "stderr",
     "output_type": "stream",
     "text": [
      " 36%|███████████████████████████████████████████                                                                              | 89/250 [00:03<00:05, 28.58it/s]"
     ]
    },
    {
     "name": "stdout",
     "output_type": "stream",
     "text": [
      "--- Validation --- [threshold, AUC, Accuracy, F score] =  [np.float64(0.668), np.float64(0.97), np.float64(0.91), np.float64(0.927)]\n",
      "--- Training --- [threshold, AUC] =  [np.float64(0.671), np.float64(0.97)]\n",
      "--- Iteration 90: Training loss --- [Data, Label, Total] = [17220.220260.3, 309.966324.3, 86411.067626.3]\n",
      "!!! pred_type filter\n"
     ]
    },
    {
     "name": "stderr",
     "output_type": "stream",
     "text": [
      " 38%|█████████████████████████████████████████████▍                                                                           | 94/250 [00:03<00:06, 22.94it/s]"
     ]
    },
    {
     "name": "stdout",
     "output_type": "stream",
     "text": [
      "--- Validation --- [threshold, AUC, Accuracy, F score] =  [np.float64(0.671), np.float64(0.97), np.float64(0.909), np.float64(0.926)]\n",
      "--- Training --- [threshold, AUC] =  [np.float64(0.7), np.float64(0.97)]\n",
      "--- Iteration 100: Training loss --- [Data, Label, Total] = [17199.067828.3, 309.258291.3, 86304.597432.3]\n",
      "!!! pred_type filter\n"
     ]
    },
    {
     "name": "stderr",
     "output_type": "stream",
     "text": [
      " 44%|████████████████████████████████████████████████████▊                                                                   | 110/250 [00:04<00:04, 29.16it/s]"
     ]
    },
    {
     "name": "stdout",
     "output_type": "stream",
     "text": [
      "--- Validation --- [threshold, AUC, Accuracy, F score] =  [np.float64(0.7), np.float64(0.97), np.float64(0.905), np.float64(0.923)]\n",
      "--- Training --- [threshold, AUC] =  [np.float64(0.7), np.float64(0.97)]\n",
      "--- Iteration 110: Training loss --- [Data, Label, Total] = [17186.106758.3, 308.305622.3, 86238.839414.3]\n",
      "!!! pred_type filter\n"
     ]
    },
    {
     "name": "stderr",
     "output_type": "stream",
     "text": [
      " 46%|███████████████████████████████████████████████████████▏                                                                | 115/250 [00:04<00:05, 23.34it/s]"
     ]
    },
    {
     "name": "stdout",
     "output_type": "stream",
     "text": [
      "--- Validation --- [threshold, AUC, Accuracy, F score] =  [np.float64(0.7), np.float64(0.97), np.float64(0.907), np.float64(0.924)]\n",
      "--- Training --- [threshold, AUC] =  [np.float64(0.7), np.float64(0.97)]\n",
      "--- Iteration 120: Training loss --- [Data, Label, Total] = [17179.086573.3, 307.306232.3, 86202.739096.3]\n",
      "!!! pred_type filter\n"
     ]
    },
    {
     "name": "stderr",
     "output_type": "stream",
     "text": [
      " 52%|██████████████████████████████████████████████████████████████▍                                                         | 130/250 [00:05<00:04, 29.09it/s]"
     ]
    },
    {
     "name": "stdout",
     "output_type": "stream",
     "text": [
      "--- Validation --- [threshold, AUC, Accuracy, F score] =  [np.float64(0.7), np.float64(0.97), np.float64(0.906), np.float64(0.923)]\n",
      "--- Training --- [threshold, AUC] =  [np.float64(0.623), np.float64(0.971)]\n",
      "--- Iteration 130: Training loss --- [Data, Label, Total] = [17175.544101.3, 306.125657.3, 86183.846163.3]\n",
      "!!! pred_type filter\n"
     ]
    },
    {
     "name": "stderr",
     "output_type": "stream",
     "text": [
      " 54%|████████████████████████████████████████████████████████████████▊                                                       | 135/250 [00:05<00:04, 23.46it/s]"
     ]
    },
    {
     "name": "stdout",
     "output_type": "stream",
     "text": [
      "--- Validation --- [threshold, AUC, Accuracy, F score] =  [np.float64(0.623), np.float64(0.971), np.float64(0.913), np.float64(0.931)]\n",
      "--- Training --- [threshold, AUC] =  [np.float64(0.636), np.float64(0.971)]\n",
      "--- Iteration 140: Training loss --- [Data, Label, Total] = [17173.380653.3, 305.048178.3, 86171.951445.3]\n",
      "!!! pred_type filter\n"
     ]
    },
    {
     "name": "stderr",
     "output_type": "stream",
     "text": [
      " 56%|███████████████████████████████████████████████████████████████████▋                                                    | 141/250 [00:05<00:05, 21.17it/s]"
     ]
    },
    {
     "name": "stdout",
     "output_type": "stream",
     "text": [
      "--- Validation --- [threshold, AUC, Accuracy, F score] =  [np.float64(0.636), np.float64(0.971), np.float64(0.914), np.float64(0.931)]\n",
      "--- Training --- [threshold, AUC] =  [np.float64(0.673), np.float64(0.971)]\n",
      "--- Iteration 150: Training loss --- [Data, Label, Total] = [17171.597591.3, 304.033214.3, 86162.021166.3]\n",
      "!!! pred_type filter\n"
     ]
    },
    {
     "name": "stderr",
     "output_type": "stream",
     "text": [
      " 64%|████████████████████████████████████████████████████████████████████████████▊                                           | 160/250 [00:06<00:03, 29.81it/s]"
     ]
    },
    {
     "name": "stdout",
     "output_type": "stream",
     "text": [
      "--- Validation --- [threshold, AUC, Accuracy, F score] =  [np.float64(0.673), np.float64(0.971), np.float64(0.911), np.float64(0.928)]\n",
      "--- Training --- [threshold, AUC] =  [np.float64(0.661), np.float64(0.971)]\n",
      "--- Iteration 160: Training loss --- [Data, Label, Total] = [17170.038262.3, 303.045297.3, 86153.236609.3]\n",
      "!!! pred_type filter\n"
     ]
    },
    {
     "name": "stderr",
     "output_type": "stream",
     "text": [
      " 66%|███████████████████████████████████████████████████████████████████████████████▏                                        | 165/250 [00:06<00:03, 24.11it/s]"
     ]
    },
    {
     "name": "stdout",
     "output_type": "stream",
     "text": [
      "--- Validation --- [threshold, AUC, Accuracy, F score] =  [np.float64(0.661), np.float64(0.971), np.float64(0.913), np.float64(0.93)]\n",
      "--- Training --- [threshold, AUC] =  [np.float64(0.66), np.float64(0.972)]\n",
      "--- Iteration 170: Training loss --- [Data, Label, Total] = [17168.648672.3, 301.879687.3, 86145.123048.3]\n",
      "!!! pred_type filter\n"
     ]
    },
    {
     "name": "stderr",
     "output_type": "stream",
     "text": [
      " 68%|██████████████████████████████████████████████████████████████████████████████████                                      | 171/250 [00:07<00:03, 21.39it/s]"
     ]
    },
    {
     "name": "stdout",
     "output_type": "stream",
     "text": [
      "--- Validation --- [threshold, AUC, Accuracy, F score] =  [np.float64(0.66), np.float64(0.972), np.float64(0.913), np.float64(0.93)]\n",
      "--- Training --- [threshold, AUC] =  [np.float64(0.649), np.float64(0.972)]\n",
      "--- Iteration 180: Training loss --- [Data, Label, Total] = [17167.366359.3, 301.140587.3, 86137.972381.3]\n",
      "!!! pred_type filter\n"
     ]
    },
    {
     "name": "stderr",
     "output_type": "stream",
     "text": [
      " 72%|██████████████████████████████████████████████████████████████████████████████████████▉                                 | 181/250 [00:07<00:03, 22.53it/s]"
     ]
    },
    {
     "name": "stdout",
     "output_type": "stream",
     "text": [
      "--- Validation --- [threshold, AUC, Accuracy, F score] =  [np.float64(0.649), np.float64(0.972), np.float64(0.913), np.float64(0.931)]\n",
      "--- Training --- [threshold, AUC] =  [np.float64(0.777), np.float64(0.972)]\n",
      "--- Iteration 190: Training loss --- [Data, Label, Total] = [17166.153503.3, 300.233230.3, 86131.000743.3]\n",
      "!!! pred_type filter\n"
     ]
    },
    {
     "name": "stderr",
     "output_type": "stream",
     "text": [
      " 76%|███████████████████████████████████████████████████████████████████████████████████████████▋                            | 191/250 [00:08<00:02, 23.17it/s]"
     ]
    },
    {
     "name": "stdout",
     "output_type": "stream",
     "text": [
      "--- Validation --- [threshold, AUC, Accuracy, F score] =  [np.float64(0.777), np.float64(0.972), np.float64(0.899), np.float64(0.915)]\n",
      "--- Training --- [threshold, AUC] =  [np.float64(0.64), np.float64(0.972)]\n",
      "--- Iteration 200: Training loss --- [Data, Label, Total] = [17164.991538.3, 299.272071.3, 86124.229760.3]\n",
      "!!! pred_type filter\n"
     ]
    },
    {
     "name": "stderr",
     "output_type": "stream",
     "text": [
      " 84%|████████████████████████████████████████████████████████████████████████████████████████████████████▊                   | 210/250 [00:08<00:01, 30.30it/s]"
     ]
    },
    {
     "name": "stdout",
     "output_type": "stream",
     "text": [
      "--- Validation --- [threshold, AUC, Accuracy, F score] =  [np.float64(0.64), np.float64(0.972), np.float64(0.914), np.float64(0.931)]\n",
      "--- Training --- [threshold, AUC] =  [np.float64(0.776), np.float64(0.972)]\n",
      "--- Iteration 210: Training loss --- [Data, Label, Total] = [17163.859390.3, 298.346368.3, 86117.643317.3]\n",
      "!!! pred_type filter\n"
     ]
    },
    {
     "name": "stderr",
     "output_type": "stream",
     "text": [
      " 86%|███████████████████████████████████████████████████████████████████████████████████████████████████████▏                | 215/250 [00:08<00:01, 24.36it/s]"
     ]
    },
    {
     "name": "stdout",
     "output_type": "stream",
     "text": [
      "--- Validation --- [threshold, AUC, Accuracy, F score] =  [np.float64(0.776), np.float64(0.972), np.float64(0.901), np.float64(0.917)]\n",
      "--- Training --- [threshold, AUC] =  [np.float64(0.778), np.float64(0.973)]\n",
      "--- Iteration 220: Training loss --- [Data, Label, Total] = [17162.732113.3, 297.401769.3, 86111.062334.3]\n",
      "!!! pred_type filter\n"
     ]
    },
    {
     "name": "stderr",
     "output_type": "stream",
     "text": [
      " 88%|██████████████████████████████████████████████████████████████████████████████████████████████████████████              | 221/250 [00:09<00:01, 21.66it/s]"
     ]
    },
    {
     "name": "stdout",
     "output_type": "stream",
     "text": [
      "--- Validation --- [threshold, AUC, Accuracy, F score] =  [np.float64(0.778), np.float64(0.973), np.float64(0.902), np.float64(0.917)]\n",
      "--- Training --- [threshold, AUC] =  [np.float64(0.777), np.float64(0.973)]\n",
      "--- Iteration 230: Training loss --- [Data, Label, Total] = [17161.581642.3, 296.482824.3, 86104.391032.3]\n",
      "!!! pred_type filter\n"
     ]
    },
    {
     "name": "stderr",
     "output_type": "stream",
     "text": [
      " 92%|██████████████████████████████████████████████████████████████████████████████████████████████████████████████▉         | 231/250 [00:09<00:00, 22.59it/s]"
     ]
    },
    {
     "name": "stdout",
     "output_type": "stream",
     "text": [
      "--- Validation --- [threshold, AUC, Accuracy, F score] =  [np.float64(0.777), np.float64(0.973), np.float64(0.902), np.float64(0.917)]\n",
      "--- Training --- [threshold, AUC] =  [np.float64(0.775), np.float64(0.973)]\n",
      "--- Iteration 240: Training loss --- [Data, Label, Total] = [17160.392304.3, 295.447097.3, 86097.408617.3]\n",
      "!!! pred_type filter\n"
     ]
    },
    {
     "name": "stderr",
     "output_type": "stream",
     "text": [
      "100%|████████████████████████████████████████████████████████████████████████████████████████████████████████████████████████| 250/250 [00:10<00:00, 24.39it/s]"
     ]
    },
    {
     "name": "stdout",
     "output_type": "stream",
     "text": [
      "--- Validation --- [threshold, AUC, Accuracy, F score] =  [np.float64(0.775), np.float64(0.973), np.float64(0.904), np.float64(0.919)]\n",
      "!!! pred_type filter\n"
     ]
    },
    {
     "name": "stderr",
     "output_type": "stream",
     "text": [
      "\n"
     ]
    },
    {
     "name": "stdout",
     "output_type": "stream",
     "text": [
      "num of subgraphs induced on k-paths: 500\n",
      "num of subgraphs induced on k-paths: 500\n",
      "X_list: (225, 1000)\n",
      "2\n",
      "(1, 500)\n",
      "(1, 500)\n",
      "label_vec: (1, 1000)\n",
      "('Caltech36', 'UCLA26') predicting Harvard1 0.8810722135926942\n",
      "\n",
      "3: 0.8778558372677772\n",
      "4: 0.8449298516548318\n",
      "5: 0.8328589202034812\n",
      "6: 0.8810722135926942\n",
      "\n",
      "num of subgraphs induced on k-paths: 500\n",
      "num of subgraphs induced on k-paths: 500\n",
      "X_list: (225, 1000)\n",
      "2\n",
      "(1, 500)\n",
      "(1, 500)\n",
      "label_vec: (1, 1000)\n",
      "num of subgraphs induced on k-paths: 500\n",
      "num of subgraphs induced on k-paths: 853\n",
      "X_list: (225, 1353)\n",
      "2\n",
      "(1, 500)\n",
      "(1, 853)\n",
      "label_vec: (1, 1353)\n",
      "initial loading beta [[-0.43618128  0.81967156 -0.48557339 -0.51573212  0.48215622  0.9836928\n",
      "  -0.21124317 -0.13323711]]\n"
     ]
    },
    {
     "name": "stderr",
     "output_type": "stream",
     "text": [
      "  0%|                                                                                                                                  | 0/250 [00:00<?, ?it/s]"
     ]
    },
    {
     "name": "stdout",
     "output_type": "stream",
     "text": [
      "--- Training --- [threshold, AUC] =  [np.float64(0.697), np.float64(0.958)]\n",
      "--- Iteration 0: Training loss --- [Data, Label, Total] = [24367.353127.3, 378.917196.3, 122215.682828.3]\n"
     ]
    },
    {
     "name": "stderr",
     "output_type": "stream",
     "text": [
      "  2%|██▉                                                                                                                       | 6/250 [00:00<00:05, 45.22it/s]"
     ]
    },
    {
     "name": "stdout",
     "output_type": "stream",
     "text": [
      "--- Training --- [threshold, AUC] =  [np.float64(0.735), np.float64(0.965)]\n",
      "--- Iteration 10: Training loss --- [Data, Label, Total] = [18828.817422.3, 339.883995.3, 94483.971105.3]\n",
      "!!! pred_type filter\n"
     ]
    },
    {
     "name": "stderr",
     "output_type": "stream",
     "text": [
      "  7%|████████▋                                                                                                                | 18/250 [00:01<00:15, 15.14it/s]"
     ]
    },
    {
     "name": "stdout",
     "output_type": "stream",
     "text": [
      "--- Validation --- [threshold, AUC, Accuracy, F score] =  [np.float64(0.735), np.float64(0.965), np.float64(0.9), np.float64(0.917)]\n",
      "--- Training --- [threshold, AUC] =  [np.float64(0.747), np.float64(0.967)]\n",
      "--- Iteration 20: Training loss --- [Data, Label, Total] = [17863.341658.3, 330.506668.3, 89647.214960.3]\n",
      "!!! pred_type filter\n"
     ]
    },
    {
     "name": "stderr",
     "output_type": "stream",
     "text": [
      " 12%|██████████████▌                                                                                                          | 30/250 [00:01<00:11, 18.76it/s]"
     ]
    },
    {
     "name": "stdout",
     "output_type": "stream",
     "text": [
      "--- Validation --- [threshold, AUC, Accuracy, F score] =  [np.float64(0.747), np.float64(0.967), np.float64(0.905), np.float64(0.921)]\n",
      "--- Training --- [threshold, AUC] =  [np.float64(0.75), np.float64(0.967)]\n",
      "--- Iteration 30: Training loss --- [Data, Label, Total] = [17451.418992.3, 327.867355.3, 87584.962313.3]\n",
      "!!! pred_type filter\n"
     ]
    },
    {
     "name": "stderr",
     "output_type": "stream",
     "text": [
      " 16%|███████████████████▎                                                                                                     | 40/250 [00:02<00:11, 18.23it/s]"
     ]
    },
    {
     "name": "stdout",
     "output_type": "stream",
     "text": [
      "--- Validation --- [threshold, AUC, Accuracy, F score] =  [np.float64(0.75), np.float64(0.967), np.float64(0.905), np.float64(0.921)]\n",
      "--- Training --- [threshold, AUC] =  [np.float64(0.688), np.float64(0.968)]\n",
      "--- Iteration 40: Training loss --- [Data, Label, Total] = [17282.577121.3, 326.960029.3, 86739.845634.3]\n",
      "!!! pred_type filter\n"
     ]
    },
    {
     "name": "stderr",
     "output_type": "stream",
     "text": [
      " 18%|█████████████████████▎                                                                                                   | 44/250 [00:03<00:18, 10.92it/s]"
     ]
    },
    {
     "name": "stdout",
     "output_type": "stream",
     "text": [
      "--- Validation --- [threshold, AUC, Accuracy, F score] =  [np.float64(0.688), np.float64(0.968), np.float64(0.912), np.float64(0.929)]\n",
      "--- Training --- [threshold, AUC] =  [np.float64(0.662), np.float64(0.968)]\n",
      "--- Iteration 50: Training loss --- [Data, Label, Total] = [17192.714410.3, 326.753410.3, 86290.325458.3]\n",
      "!!! pred_type filter\n"
     ]
    },
    {
     "name": "stderr",
     "output_type": "stream",
     "text": [
      " 22%|███████████████████████████                                                                                              | 56/250 [00:04<00:13, 14.43it/s]"
     ]
    },
    {
     "name": "stdout",
     "output_type": "stream",
     "text": [
      "--- Validation --- [threshold, AUC, Accuracy, F score] =  [np.float64(0.662), np.float64(0.968), np.float64(0.914), np.float64(0.931)]\n",
      "--- Training --- [threshold, AUC] =  [np.float64(0.671), np.float64(0.967)]\n",
      "--- Iteration 60: Training loss --- [Data, Label, Total] = [17130.701752.3, 327.565277.3, 85981.074036.3]\n",
      "!!! pred_type filter\n"
     ]
    },
    {
     "name": "stderr",
     "output_type": "stream",
     "text": [
      " 27%|████████████████████████████████▉                                                                                        | 68/250 [00:04<00:11, 16.39it/s]"
     ]
    },
    {
     "name": "stdout",
     "output_type": "stream",
     "text": [
      "--- Validation --- [threshold, AUC, Accuracy, F score] =  [np.float64(0.671), np.float64(0.967), np.float64(0.914), np.float64(0.931)]\n",
      "--- Training --- [threshold, AUC] =  [np.float64(0.687), np.float64(0.967)]\n",
      "--- Iteration 70: Training loss --- [Data, Label, Total] = [17079.253651.3, 329.070007.3, 85725.338262.3]\n",
      "!!! pred_type filter\n"
     ]
    },
    {
     "name": "stderr",
     "output_type": "stream",
     "text": [
      " 32%|██████████████████████████████████████▏                                                                                  | 79/250 [00:05<00:09, 18.68it/s]"
     ]
    },
    {
     "name": "stdout",
     "output_type": "stream",
     "text": [
      "--- Validation --- [threshold, AUC, Accuracy, F score] =  [np.float64(0.687), np.float64(0.967), np.float64(0.913), np.float64(0.929)]\n",
      "--- Training --- [threshold, AUC] =  [np.float64(0.694), np.float64(0.967)]\n",
      "--- Iteration 80: Training loss --- [Data, Label, Total] = [17030.150145.3, 331.236823.3, 85481.987549.3]\n",
      "!!! pred_type filter\n"
     ]
    },
    {
     "name": "stderr",
     "output_type": "stream",
     "text": [
      " 36%|███████████████████████████████████████████▌                                                                             | 90/250 [00:05<00:07, 20.65it/s]"
     ]
    },
    {
     "name": "stdout",
     "output_type": "stream",
     "text": [
      "--- Validation --- [threshold, AUC, Accuracy, F score] =  [np.float64(0.694), np.float64(0.967), np.float64(0.912), np.float64(0.929)]\n",
      "--- Training --- [threshold, AUC] =  [np.float64(0.705), np.float64(0.966)]\n",
      "--- Iteration 90: Training loss --- [Data, Label, Total] = [16982.650305.3, 333.749583.3, 85247.001109.3]\n",
      "!!! pred_type filter\n"
     ]
    },
    {
     "name": "stderr",
     "output_type": "stream",
     "text": [
      " 38%|█████████████████████████████████████████████▉                                                                           | 95/250 [00:06<00:10, 15.47it/s]"
     ]
    },
    {
     "name": "stdout",
     "output_type": "stream",
     "text": [
      "--- Validation --- [threshold, AUC, Accuracy, F score] =  [np.float64(0.705), np.float64(0.966), np.float64(0.91), np.float64(0.927)]\n",
      "--- Training --- [threshold, AUC] =  [np.float64(0.751), np.float64(0.966)]\n",
      "--- Iteration 100: Training loss --- [Data, Label, Total] = [16937.969507.3, 336.363055.3, 85026.210592.3]\n",
      "!!! pred_type filter\n"
     ]
    },
    {
     "name": "stderr",
     "output_type": "stream",
     "text": [
      " 44%|████████████████████████████████████████████████████▊                                                                   | 110/250 [00:07<00:06, 20.83it/s]"
     ]
    },
    {
     "name": "stdout",
     "output_type": "stream",
     "text": [
      "--- Validation --- [threshold, AUC, Accuracy, F score] =  [np.float64(0.751), np.float64(0.966), np.float64(0.903), np.float64(0.92)]\n",
      "--- Training --- [threshold, AUC] =  [np.float64(0.74), np.float64(0.965)]\n",
      "--- Iteration 110: Training loss --- [Data, Label, Total] = [16896.228768.3, 338.552482.3, 84819.696319.3]\n",
      "!!! pred_type filter\n"
     ]
    },
    {
     "name": "stderr",
     "output_type": "stream",
     "text": [
      " 48%|█████████████████████████████████████████████████████████▌                                                              | 120/250 [00:08<00:07, 16.94it/s]"
     ]
    },
    {
     "name": "stdout",
     "output_type": "stream",
     "text": [
      "--- Validation --- [threshold, AUC, Accuracy, F score] =  [np.float64(0.74), np.float64(0.965), np.float64(0.903), np.float64(0.92)]\n",
      "--- Training --- [threshold, AUC] =  [np.float64(0.742), np.float64(0.965)]\n",
      "--- Iteration 120: Training loss --- [Data, Label, Total] = [16858.476353.3, 340.238286.3, 84632.620050.3]\n",
      "!!! pred_type filter\n"
     ]
    },
    {
     "name": "stderr",
     "output_type": "stream",
     "text": [
      " 50%|███████████████████████████████████████████████████████████▌                                                            | 124/250 [00:08<00:10, 12.57it/s]"
     ]
    },
    {
     "name": "stdout",
     "output_type": "stream",
     "text": [
      "--- Validation --- [threshold, AUC, Accuracy, F score] =  [np.float64(0.742), np.float64(0.965), np.float64(0.903), np.float64(0.92)]\n",
      "--- Training --- [threshold, AUC] =  [np.float64(0.742), np.float64(0.964)]\n",
      "--- Iteration 130: Training loss --- [Data, Label, Total] = [16825.285185.3, 341.979094.3, 84468.405019.3]\n",
      "!!! pred_type filter\n"
     ]
    },
    {
     "name": "stderr",
     "output_type": "stream",
     "text": [
      " 56%|██████████████████████████████████████████████████████████████████▋                                                     | 139/250 [00:09<00:05, 19.77it/s]"
     ]
    },
    {
     "name": "stdout",
     "output_type": "stream",
     "text": [
      "--- Validation --- [threshold, AUC, Accuracy, F score] =  [np.float64(0.742), np.float64(0.964), np.float64(0.902), np.float64(0.919)]\n",
      "--- Training --- [threshold, AUC] =  [np.float64(0.747), np.float64(0.964)]\n",
      "--- Iteration 140: Training loss --- [Data, Label, Total] = [16797.393663.3, 343.331686.3, 84330.299999.3]\n",
      "!!! pred_type filter\n"
     ]
    },
    {
     "name": "stderr",
     "output_type": "stream",
     "text": [
      " 58%|█████████████████████████████████████████████████████████████████████                                                   | 144/250 [00:09<00:06, 17.23it/s]"
     ]
    },
    {
     "name": "stdout",
     "output_type": "stream",
     "text": [
      "--- Validation --- [threshold, AUC, Accuracy, F score] =  [np.float64(0.747), np.float64(0.964), np.float64(0.897), np.float64(0.915)]\n",
      "--- Training --- [threshold, AUC] =  [np.float64(0.749), np.float64(0.964)]\n",
      "--- Iteration 150: Training loss --- [Data, Label, Total] = [16775.176003.3, 344.482409.3, 84220.362423.3]\n",
      "!!! pred_type filter\n"
     ]
    },
    {
     "name": "stderr",
     "output_type": "stream",
     "text": [
      " 64%|████████████████████████████████████████████████████████████████████████████▊                                           | 160/250 [00:10<00:03, 24.49it/s]"
     ]
    },
    {
     "name": "stdout",
     "output_type": "stream",
     "text": [
      "--- Validation --- [threshold, AUC, Accuracy, F score] =  [np.float64(0.749), np.float64(0.964), np.float64(0.896), np.float64(0.913)]\n",
      "--- Training --- [threshold, AUC] =  [np.float64(0.752), np.float64(0.963)]\n",
      "--- Iteration 160: Training loss --- [Data, Label, Total] = [16758.199898.3, 345.442783.3, 84136.442274.3]\n",
      "!!! pred_type filter\n"
     ]
    },
    {
     "name": "stderr",
     "output_type": "stream",
     "text": [
      " 66%|███████████████████████████████████████████████████████████████████████████████▏                                        | 165/250 [00:10<00:04, 19.87it/s]"
     ]
    },
    {
     "name": "stdout",
     "output_type": "stream",
     "text": [
      "--- Validation --- [threshold, AUC, Accuracy, F score] =  [np.float64(0.752), np.float64(0.963), np.float64(0.896), np.float64(0.913)]\n",
      "--- Training --- [threshold, AUC] =  [np.float64(0.756), np.float64(0.963)]\n",
      "--- Iteration 170: Training loss --- [Data, Label, Total] = [16745.436697.3, 346.269435.3, 84073.452919.3]\n",
      "!!! pred_type filter\n"
     ]
    },
    {
     "name": "stderr",
     "output_type": "stream",
     "text": [
      " 72%|██████████████████████████████████████████████████████████████████████████████████████▍                                 | 180/250 [00:10<00:02, 25.50it/s]"
     ]
    },
    {
     "name": "stdout",
     "output_type": "stream",
     "text": [
      "--- Validation --- [threshold, AUC, Accuracy, F score] =  [np.float64(0.756), np.float64(0.963), np.float64(0.894), np.float64(0.912)]\n",
      "--- Training --- [threshold, AUC] =  [np.float64(0.756), np.float64(0.963)]\n",
      "--- Iteration 180: Training loss --- [Data, Label, Total] = [16735.824298.3, 347.009491.3, 84026.130983.3]\n",
      "!!! pred_type filter\n"
     ]
    },
    {
     "name": "stderr",
     "output_type": "stream",
     "text": [
      " 74%|████████████████████████████████████████████████████████████████████████████████████████▊                               | 185/250 [00:11<00:03, 20.66it/s]"
     ]
    },
    {
     "name": "stdout",
     "output_type": "stream",
     "text": [
      "--- Validation --- [threshold, AUC, Accuracy, F score] =  [np.float64(0.756), np.float64(0.963), np.float64(0.894), np.float64(0.911)]\n",
      "--- Training --- [threshold, AUC] =  [np.float64(0.63), np.float64(0.963)]\n",
      "--- Iteration 190: Training loss --- [Data, Label, Total] = [16728.447355.3, 347.542594.3, 83989.779371.3]\n",
      "!!! pred_type filter\n"
     ]
    },
    {
     "name": "stderr",
     "output_type": "stream",
     "text": [
      " 80%|████████████████████████████████████████████████████████████████████████████████████████████████                        | 200/250 [00:11<00:01, 26.46it/s]"
     ]
    },
    {
     "name": "stdout",
     "output_type": "stream",
     "text": [
      "--- Validation --- [threshold, AUC, Accuracy, F score] =  [np.float64(0.63), np.float64(0.963), np.float64(0.908), np.float64(0.926)]\n",
      "--- Training --- [threshold, AUC] =  [np.float64(0.629), np.float64(0.963)]\n",
      "--- Iteration 200: Training loss --- [Data, Label, Total] = [16722.604477.3, 348.097896.3, 83961.120282.3]\n",
      "!!! pred_type filter\n"
     ]
    },
    {
     "name": "stderr",
     "output_type": "stream",
     "text": [
      " 82%|██████████████████████████████████████████████████████████████████████████████████████████████████▍                     | 205/250 [00:12<00:02, 21.10it/s]"
     ]
    },
    {
     "name": "stdout",
     "output_type": "stream",
     "text": [
      "--- Validation --- [threshold, AUC, Accuracy, F score] =  [np.float64(0.629), np.float64(0.963), np.float64(0.908), np.float64(0.927)]\n",
      "--- Training --- [threshold, AUC] =  [np.float64(0.63), np.float64(0.963)]\n",
      "--- Iteration 210: Training loss --- [Data, Label, Total] = [16717.936856.3, 348.544063.3, 83938.228344.3]\n",
      "!!! pred_type filter\n"
     ]
    },
    {
     "name": "stderr",
     "output_type": "stream",
     "text": [
      " 87%|████████████████████████████████████████████████████████████████████████████████████████████████████████▏               | 217/250 [00:12<00:01, 22.72it/s]"
     ]
    },
    {
     "name": "stdout",
     "output_type": "stream",
     "text": [
      "--- Validation --- [threshold, AUC, Accuracy, F score] =  [np.float64(0.63), np.float64(0.963), np.float64(0.908), np.float64(0.927)]\n",
      "--- Training --- [threshold, AUC] =  [np.float64(0.63), np.float64(0.963)]\n",
      "--- Iteration 220: Training loss --- [Data, Label, Total] = [16714.055984.3, 348.871764.3, 83919.151682.3]\n",
      "!!! pred_type filter\n"
     ]
    },
    {
     "name": "stderr",
     "output_type": "stream",
     "text": [
      " 92%|██████████████████████████████████████████████████████████████████████████████████████████████████████████████▍         | 230/250 [00:13<00:00, 23.19it/s]"
     ]
    },
    {
     "name": "stdout",
     "output_type": "stream",
     "text": [
      "--- Validation --- [threshold, AUC, Accuracy, F score] =  [np.float64(0.63), np.float64(0.963), np.float64(0.908), np.float64(0.927)]\n",
      "--- Training --- [threshold, AUC] =  [np.float64(0.636), np.float64(0.963)]\n",
      "--- Iteration 230: Training loss --- [Data, Label, Total] = [16710.661869.3, 349.209852.3, 83902.519196.3]\n",
      "!!! pred_type filter\n"
     ]
    },
    {
     "name": "stderr",
     "output_type": "stream",
     "text": [
      " 94%|████████████████████████████████████████████████████████████████████████████████████████████████████████████████▊       | 235/250 [00:13<00:00, 19.18it/s]"
     ]
    },
    {
     "name": "stdout",
     "output_type": "stream",
     "text": [
      "--- Validation --- [threshold, AUC, Accuracy, F score] =  [np.float64(0.636), np.float64(0.963), np.float64(0.908), np.float64(0.926)]\n",
      "--- Training --- [threshold, AUC] =  [np.float64(0.63), np.float64(0.963)]\n",
      "--- Iteration 240: Training loss --- [Data, Label, Total] = [16707.637374.3, 349.393137.3, 83887.580007.3]\n",
      "!!! pred_type filter\n"
     ]
    },
    {
     "name": "stderr",
     "output_type": "stream",
     "text": [
      "100%|████████████████████████████████████████████████████████████████████████████████████████████████████████████████████████| 250/250 [00:14<00:00, 17.35it/s]"
     ]
    },
    {
     "name": "stdout",
     "output_type": "stream",
     "text": [
      "--- Validation --- [threshold, AUC, Accuracy, F score] =  [np.float64(0.63), np.float64(0.963), np.float64(0.908), np.float64(0.927)]\n",
      "!!! pred_type filter\n"
     ]
    },
    {
     "name": "stderr",
     "output_type": "stream",
     "text": [
      "\n"
     ]
    },
    {
     "name": "stdout",
     "output_type": "stream",
     "text": [
      "num of subgraphs induced on k-paths: 500\n",
      "num of subgraphs induced on k-paths: 500\n",
      "X_list: (225, 1000)\n",
      "2\n",
      "(1, 500)\n",
      "(1, 500)\n",
      "label_vec: (1, 1000)\n",
      "('Caltech36', 'UCLA26') predicting Harvard1 0.8300352574962108\n",
      "\n",
      "3: 0.8778558372677772\n",
      "4: 0.8449298516548318\n",
      "5: 0.8328589202034812\n",
      "6: 0.8810722135926942\n",
      "7: 0.8300352574962108\n",
      "\n",
      "num of subgraphs induced on k-paths: 500\n",
      "num of subgraphs induced on k-paths: 500\n",
      "X_list: (225, 1000)\n",
      "2\n",
      "(1, 500)\n",
      "(1, 500)\n",
      "label_vec: (1, 1000)\n",
      "num of subgraphs induced on k-paths: 500\n",
      "num of subgraphs induced on k-paths: 862\n",
      "X_list: (225, 1362)\n",
      "2\n",
      "(1, 500)\n",
      "(1, 862)\n",
      "label_vec: (1, 1362)\n",
      "initial loading beta [[ 0.38059391 -0.99073137 -0.31974082 -0.82092767  0.32366894 -0.44257075\n",
      "   0.2702557  -0.68233524 -0.11577984]]\n"
     ]
    },
    {
     "name": "stderr",
     "output_type": "stream",
     "text": [
      "  0%|                                                                                                                                  | 0/250 [00:00<?, ?it/s]"
     ]
    },
    {
     "name": "stdout",
     "output_type": "stream",
     "text": [
      "--- Training --- [threshold, AUC] =  [np.float64(0.678), np.float64(0.955)]\n",
      "--- Iteration 0: Training loss --- [Data, Label, Total] = [24986.222432.3, 389.989179.3, 125321.101341.3]\n"
     ]
    },
    {
     "name": "stderr",
     "output_type": "stream",
     "text": [
      "  4%|████▊                                                                                                                    | 10/250 [00:00<00:10, 22.57it/s]"
     ]
    },
    {
     "name": "stdout",
     "output_type": "stream",
     "text": [
      "--- Training --- [threshold, AUC] =  [np.float64(0.678), np.float64(0.959)]\n",
      "--- Iteration 10: Training loss --- [Data, Label, Total] = [18205.197270.3, 365.618196.3, 91391.604545.3]\n",
      "!!! pred_type filter\n"
     ]
    },
    {
     "name": "stderr",
     "output_type": "stream",
     "text": [
      "  8%|█████████▋                                                                                                               | 20/250 [00:01<00:16, 13.71it/s]"
     ]
    },
    {
     "name": "stdout",
     "output_type": "stream",
     "text": [
      "--- Validation --- [threshold, AUC, Accuracy, F score] =  [np.float64(0.678), np.float64(0.959), np.float64(0.903), np.float64(0.921)]\n",
      "--- Training --- [threshold, AUC] =  [np.float64(0.717), np.float64(0.961)]\n",
      "--- Iteration 20: Training loss --- [Data, Label, Total] = [17225.893913.3, 359.145467.3, 86488.615034.3]\n",
      "!!! pred_type filter\n"
     ]
    },
    {
     "name": "stderr",
     "output_type": "stream",
     "text": [
      " 10%|███████████▌                                                                                                             | 24/250 [00:01<00:19, 11.76it/s]"
     ]
    },
    {
     "name": "stdout",
     "output_type": "stream",
     "text": [
      "--- Validation --- [threshold, AUC, Accuracy, F score] =  [np.float64(0.717), np.float64(0.961), np.float64(0.905), np.float64(0.922)]\n",
      "--- Training --- [threshold, AUC] =  [np.float64(0.716), np.float64(0.962)]\n",
      "--- Iteration 30: Training loss --- [Data, Label, Total] = [16890.177433.3, 356.388055.3, 84807.275221.3]\n",
      "!!! pred_type filter\n"
     ]
    },
    {
     "name": "stderr",
     "output_type": "stream",
     "text": [
      " 16%|███████████████████▎                                                                                                     | 40/250 [00:02<00:10, 20.52it/s]"
     ]
    },
    {
     "name": "stdout",
     "output_type": "stream",
     "text": [
      "--- Validation --- [threshold, AUC, Accuracy, F score] =  [np.float64(0.716), np.float64(0.962), np.float64(0.907), np.float64(0.924)]\n",
      "--- Training --- [threshold, AUC] =  [np.float64(0.724), np.float64(0.962)]\n",
      "--- Iteration 40: Training loss --- [Data, Label, Total] = [16713.535727.3, 354.779311.3, 83922.457946.3]\n",
      "!!! pred_type filter\n"
     ]
    },
    {
     "name": "stderr",
     "output_type": "stream",
     "text": [
      " 18%|█████████████████████▊                                                                                                   | 45/250 [00:03<00:12, 16.23it/s]"
     ]
    },
    {
     "name": "stdout",
     "output_type": "stream",
     "text": [
      "--- Validation --- [threshold, AUC, Accuracy, F score] =  [np.float64(0.724), np.float64(0.962), np.float64(0.907), np.float64(0.924)]\n",
      "--- Training --- [threshold, AUC] =  [np.float64(0.73), np.float64(0.963)]\n",
      "--- Iteration 50: Training loss --- [Data, Label, Total] = [16621.768280.3, 353.745968.3, 83462.587370.3]\n",
      "!!! pred_type filter\n"
     ]
    },
    {
     "name": "stderr",
     "output_type": "stream",
     "text": [
      " 24%|█████████████████████████████                                                                                            | 60/250 [00:03<00:08, 21.71it/s]"
     ]
    },
    {
     "name": "stdout",
     "output_type": "stream",
     "text": [
      "--- Validation --- [threshold, AUC, Accuracy, F score] =  [np.float64(0.73), np.float64(0.963), np.float64(0.907), np.float64(0.924)]\n",
      "--- Training --- [threshold, AUC] =  [np.float64(0.73), np.float64(0.963)]\n",
      "--- Iteration 60: Training loss --- [Data, Label, Total] = [16567.043165.3, 353.048937.3, 83188.264759.3]\n",
      "!!! pred_type filter\n"
     ]
    },
    {
     "name": "stderr",
     "output_type": "stream",
     "text": [
      " 26%|███████████████████████████████▍                                                                                         | 65/250 [00:04<00:10, 17.94it/s]"
     ]
    },
    {
     "name": "stdout",
     "output_type": "stream",
     "text": [
      "--- Validation --- [threshold, AUC, Accuracy, F score] =  [np.float64(0.73), np.float64(0.963), np.float64(0.908), np.float64(0.924)]\n",
      "--- Training --- [threshold, AUC] =  [np.float64(0.73), np.float64(0.963)]\n",
      "--- Iteration 70: Training loss --- [Data, Label, Total] = [16526.767294.3, 352.501459.3, 82986.337930.3]\n",
      "!!! pred_type filter\n"
     ]
    },
    {
     "name": "stderr",
     "output_type": "stream",
     "text": [
      " 32%|██████████████████████████████████████▋                                                                                  | 80/250 [00:04<00:07, 23.77it/s]"
     ]
    },
    {
     "name": "stdout",
     "output_type": "stream",
     "text": [
      "--- Validation --- [threshold, AUC, Accuracy, F score] =  [np.float64(0.73), np.float64(0.963), np.float64(0.907), np.float64(0.924)]\n",
      "--- Training --- [threshold, AUC] =  [np.float64(0.696), np.float64(0.963)]\n",
      "--- Iteration 80: Training loss --- [Data, Label, Total] = [16491.758067.3, 352.000251.3, 82810.790585.3]\n",
      "!!! pred_type filter\n"
     ]
    },
    {
     "name": "stderr",
     "output_type": "stream",
     "text": [
      " 34%|█████████████████████████████████████████▏                                                                               | 85/250 [00:05<00:08, 18.98it/s]"
     ]
    },
    {
     "name": "stdout",
     "output_type": "stream",
     "text": [
      "--- Validation --- [threshold, AUC, Accuracy, F score] =  [np.float64(0.696), np.float64(0.963), np.float64(0.911), np.float64(0.928)]\n",
      "--- Training --- [threshold, AUC] =  [np.float64(0.715), np.float64(0.963)]\n",
      "--- Iteration 90: Training loss --- [Data, Label, Total] = [16460.371628.3, 351.582614.3, 82653.440753.3]\n",
      "!!! pred_type filter\n"
     ]
    },
    {
     "name": "stderr",
     "output_type": "stream",
     "text": [
      " 38%|█████████████████████████████████████████████▍                                                                           | 94/250 [00:05<00:10, 14.46it/s]"
     ]
    },
    {
     "name": "stdout",
     "output_type": "stream",
     "text": [
      "--- Validation --- [threshold, AUC, Accuracy, F score] =  [np.float64(0.715), np.float64(0.963), np.float64(0.91), np.float64(0.926)]\n"
     ]
    },
    {
     "name": "stderr",
     "output_type": "stream",
     "text": [
      " 40%|████████████████████████████████████████████████                                                                        | 100/250 [00:06<00:08, 16.85it/s]"
     ]
    },
    {
     "name": "stdout",
     "output_type": "stream",
     "text": [
      "--- Training --- [threshold, AUC] =  [np.float64(0.707), np.float64(0.963)]\n",
      "--- Iteration 100: Training loss --- [Data, Label, Total] = [16433.833608.3, 351.127288.3, 82520.295329.3]\n",
      "!!! pred_type filter\n"
     ]
    },
    {
     "name": "stderr",
     "output_type": "stream",
     "text": [
      " 44%|████████████████████████████████████████████████████▊                                                                   | 110/250 [00:07<00:08, 15.81it/s]"
     ]
    },
    {
     "name": "stdout",
     "output_type": "stream",
     "text": [
      "--- Validation --- [threshold, AUC, Accuracy, F score] =  [np.float64(0.707), np.float64(0.963), np.float64(0.912), np.float64(0.928)]\n",
      "--- Training --- [threshold, AUC] =  [np.float64(0.708), np.float64(0.964)]\n",
      "--- Iteration 110: Training loss --- [Data, Label, Total] = [16412.977478.3, 350.581004.3, 82415.468396.3]\n",
      "!!! pred_type filter\n"
     ]
    },
    {
     "name": "stderr",
     "output_type": "stream",
     "text": [
      " 47%|████████████████████████████████████████████████████████▋                                                               | 118/250 [00:07<00:09, 14.62it/s]"
     ]
    },
    {
     "name": "stdout",
     "output_type": "stream",
     "text": [
      "--- Validation --- [threshold, AUC, Accuracy, F score] =  [np.float64(0.708), np.float64(0.964), np.float64(0.911), np.float64(0.927)]\n",
      "--- Training --- [threshold, AUC] =  [np.float64(0.723), np.float64(0.964)]\n",
      "--- Iteration 120: Training loss --- [Data, Label, Total] = [16397.559147.3, 349.895759.3, 82337.691492.3]\n",
      "!!! pred_type filter\n"
     ]
    },
    {
     "name": "stderr",
     "output_type": "stream",
     "text": [
      " 52%|██████████████████████████████████████████████████████████████▍                                                         | 130/250 [00:08<00:06, 18.25it/s]"
     ]
    },
    {
     "name": "stdout",
     "output_type": "stream",
     "text": [
      "--- Validation --- [threshold, AUC, Accuracy, F score] =  [np.float64(0.723), np.float64(0.964), np.float64(0.908), np.float64(0.924)]\n",
      "--- Training --- [threshold, AUC] =  [np.float64(0.714), np.float64(0.964)]\n",
      "--- Iteration 130: Training loss --- [Data, Label, Total] = [16386.046825.3, 348.938140.3, 82279.172264.3]\n",
      "!!! pred_type filter\n"
     ]
    },
    {
     "name": "stderr",
     "output_type": "stream",
     "text": [
      " 54%|████████████████████████████████████████████████████████████████▊                                                       | 135/250 [00:08<00:07, 15.78it/s]"
     ]
    },
    {
     "name": "stdout",
     "output_type": "stream",
     "text": [
      "--- Validation --- [threshold, AUC, Accuracy, F score] =  [np.float64(0.714), np.float64(0.964), np.float64(0.911), np.float64(0.927)]\n",
      "--- Training --- [threshold, AUC] =  [np.float64(0.708), np.float64(0.964)]\n",
      "--- Iteration 140: Training loss --- [Data, Label, Total] = [16377.238204.3, 348.071389.3, 82234.262411.3]\n",
      "!!! pred_type filter\n"
     ]
    },
    {
     "name": "stderr",
     "output_type": "stream",
     "text": [
      " 59%|███████████████████████████████████████████████████████████████████████                                                 | 148/250 [00:09<00:04, 20.62it/s]"
     ]
    },
    {
     "name": "stdout",
     "output_type": "stream",
     "text": [
      "--- Validation --- [threshold, AUC, Accuracy, F score] =  [np.float64(0.708), np.float64(0.964), np.float64(0.913), np.float64(0.929)]\n",
      "--- Training --- [threshold, AUC] =  [np.float64(0.708), np.float64(0.965)]\n",
      "--- Iteration 150: Training loss --- [Data, Label, Total] = [16370.070336.3, 347.155482.3, 82197.507162.3]\n",
      "!!! pred_type filter\n"
     ]
    },
    {
     "name": "stderr",
     "output_type": "stream",
     "text": [
      " 64%|████████████████████████████████████████████████████████████████████████████▊                                           | 160/250 [00:09<00:04, 22.28it/s]"
     ]
    },
    {
     "name": "stdout",
     "output_type": "stream",
     "text": [
      "--- Validation --- [threshold, AUC, Accuracy, F score] =  [np.float64(0.708), np.float64(0.965), np.float64(0.913), np.float64(0.929)]\n",
      "--- Training --- [threshold, AUC] =  [np.float64(0.703), np.float64(0.965)]\n",
      "--- Iteration 160: Training loss --- [Data, Label, Total] = [16363.795039.3, 346.189681.3, 82165.164876.3]\n",
      "!!! pred_type filter\n"
     ]
    },
    {
     "name": "stderr",
     "output_type": "stream",
     "text": [
      " 66%|███████████████████████████████████████████████████████████████████████████████▏                                        | 165/250 [00:10<00:05, 15.43it/s]"
     ]
    },
    {
     "name": "stdout",
     "output_type": "stream",
     "text": [
      "--- Validation --- [threshold, AUC, Accuracy, F score] =  [np.float64(0.703), np.float64(0.965), np.float64(0.913), np.float64(0.929)]\n",
      "--- Training --- [threshold, AUC] =  [np.float64(0.699), np.float64(0.965)]\n",
      "--- Iteration 170: Training loss --- [Data, Label, Total] = [16358.029582.3, 345.350743.3, 82135.498654.3]\n",
      "!!! pred_type filter\n"
     ]
    },
    {
     "name": "stderr",
     "output_type": "stream",
     "text": [
      " 72%|██████████████████████████████████████████████████████████████████████████████████████▍                                 | 180/250 [00:11<00:03, 19.04it/s]"
     ]
    },
    {
     "name": "stdout",
     "output_type": "stream",
     "text": [
      "--- Validation --- [threshold, AUC, Accuracy, F score] =  [np.float64(0.699), np.float64(0.965), np.float64(0.913), np.float64(0.929)]\n",
      "--- Training --- [threshold, AUC] =  [np.float64(0.689), np.float64(0.965)]\n",
      "--- Iteration 180: Training loss --- [Data, Label, Total] = [16352.605659.3, 344.545816.3, 82107.574109.3]\n",
      "!!! pred_type filter\n"
     ]
    },
    {
     "name": "stderr",
     "output_type": "stream",
     "text": [
      " 74%|████████████████████████████████████████████████████████████████████████████████████████▊                               | 185/250 [00:11<00:03, 16.56it/s]"
     ]
    },
    {
     "name": "stdout",
     "output_type": "stream",
     "text": [
      "--- Validation --- [threshold, AUC, Accuracy, F score] =  [np.float64(0.689), np.float64(0.965), np.float64(0.913), np.float64(0.93)]\n",
      "--- Training --- [threshold, AUC] =  [np.float64(0.684), np.float64(0.965)]\n",
      "--- Iteration 190: Training loss --- [Data, Label, Total] = [16347.308612.3, 343.802896.3, 82080.345957.3]\n",
      "!!! pred_type filter\n"
     ]
    },
    {
     "name": "stderr",
     "output_type": "stream",
     "text": [
      " 80%|████████████████████████████████████████████████████████████████████████████████████████████████                        | 200/250 [00:12<00:02, 22.78it/s]"
     ]
    },
    {
     "name": "stdout",
     "output_type": "stream",
     "text": [
      "--- Validation --- [threshold, AUC, Accuracy, F score] =  [np.float64(0.684), np.float64(0.965), np.float64(0.914), np.float64(0.93)]\n",
      "--- Training --- [threshold, AUC] =  [np.float64(0.651), np.float64(0.965)]\n",
      "--- Iteration 200: Training loss --- [Data, Label, Total] = [16342.292004.3, 343.195542.3, 82054.655564.3]\n",
      "!!! pred_type filter\n"
     ]
    },
    {
     "name": "stderr",
     "output_type": "stream",
     "text": [
      " 82%|██████████████████████████████████████████████████████████████████████████████████████████████████▍                     | 205/250 [00:12<00:02, 18.86it/s]"
     ]
    },
    {
     "name": "stdout",
     "output_type": "stream",
     "text": [
      "--- Validation --- [threshold, AUC, Accuracy, F score] =  [np.float64(0.651), np.float64(0.965), np.float64(0.918), np.float64(0.934)]\n",
      "--- Training --- [threshold, AUC] =  [np.float64(0.642), np.float64(0.966)]\n",
      "--- Iteration 210: Training loss --- [Data, Label, Total] = [16337.512463.3, 342.512306.3, 82030.074622.3]\n",
      "!!! pred_type filter\n"
     ]
    },
    {
     "name": "stderr",
     "output_type": "stream",
     "text": [
      " 88%|█████████████████████████████████████████████████████████████████████████████████████████████████████████▌              | 220/250 [00:13<00:01, 24.55it/s]"
     ]
    },
    {
     "name": "stdout",
     "output_type": "stream",
     "text": [
      "--- Validation --- [threshold, AUC, Accuracy, F score] =  [np.float64(0.642), np.float64(0.966), np.float64(0.918), np.float64(0.934)]\n",
      "--- Training --- [threshold, AUC] =  [np.float64(0.638), np.float64(0.966)]\n",
      "--- Iteration 220: Training loss --- [Data, Label, Total] = [16333.007981.3, 341.904896.3, 82006.944802.3]\n",
      "!!! pred_type filter\n"
     ]
    },
    {
     "name": "stderr",
     "output_type": "stream",
     "text": [
      " 90%|████████████████████████████████████████████████████████████████████████████████████████████████████████████            | 225/250 [00:13<00:01, 19.66it/s]"
     ]
    },
    {
     "name": "stdout",
     "output_type": "stream",
     "text": [
      "--- Validation --- [threshold, AUC, Accuracy, F score] =  [np.float64(0.638), np.float64(0.966), np.float64(0.919), np.float64(0.935)]\n",
      "--- Training --- [threshold, AUC] =  [np.float64(0.664), np.float64(0.966)]\n",
      "--- Iteration 230: Training loss --- [Data, Label, Total] = [16328.776062.3, 341.337246.3, 81985.217558.3]\n",
      "!!! pred_type filter\n"
     ]
    },
    {
     "name": "stderr",
     "output_type": "stream",
     "text": [
      " 96%|███████████████████████████████████████████████████████████████████████████████████████████████████████████████████▏    | 240/250 [00:14<00:00, 25.22it/s]"
     ]
    },
    {
     "name": "stdout",
     "output_type": "stream",
     "text": [
      "--- Validation --- [threshold, AUC, Accuracy, F score] =  [np.float64(0.664), np.float64(0.966), np.float64(0.917), np.float64(0.933)]\n",
      "--- Training --- [threshold, AUC] =  [np.float64(0.669), np.float64(0.966)]\n",
      "--- Iteration 240: Training loss --- [Data, Label, Total] = [16324.884772.3, 340.834083.3, 81965.257945.3]\n",
      "!!! pred_type filter\n"
     ]
    },
    {
     "name": "stderr",
     "output_type": "stream",
     "text": [
      "100%|████████████████████████████████████████████████████████████████████████████████████████████████████████████████████████| 250/250 [00:14<00:00, 17.01it/s]"
     ]
    },
    {
     "name": "stdout",
     "output_type": "stream",
     "text": [
      "--- Validation --- [threshold, AUC, Accuracy, F score] =  [np.float64(0.669), np.float64(0.966), np.float64(0.917), np.float64(0.933)]\n",
      "!!! pred_type filter\n"
     ]
    },
    {
     "name": "stderr",
     "output_type": "stream",
     "text": [
      "\n"
     ]
    },
    {
     "name": "stdout",
     "output_type": "stream",
     "text": [
      "num of subgraphs induced on k-paths: 500\n",
      "num of subgraphs induced on k-paths: 500\n",
      "X_list: (225, 1000)\n",
      "2\n",
      "(1, 500)\n",
      "(1, 500)\n",
      "label_vec: (1, 1000)\n",
      "('Caltech36', 'UCLA26') predicting Harvard1 0.8341847021951587\n",
      "\n",
      "3: 0.8778558372677772\n",
      "4: 0.8449298516548318\n",
      "5: 0.8328589202034812\n",
      "6: 0.8810722135926942\n",
      "7: 0.8300352574962108\n",
      "8: 0.8341847021951587\n",
      "\n",
      "num of subgraphs induced on k-paths: 500\n",
      "num of subgraphs induced on k-paths: 500\n",
      "X_list: (225, 1000)\n",
      "2\n",
      "(1, 500)\n",
      "(1, 500)\n",
      "label_vec: (1, 1000)\n",
      "num of subgraphs induced on k-paths: 500\n",
      "num of subgraphs induced on k-paths: 848\n",
      "X_list: (225, 1348)\n",
      "2\n",
      "(1, 500)\n",
      "(1, 848)\n",
      "label_vec: (1, 1348)\n",
      "initial loading beta [[-0.05403036  0.32578412 -0.34751821  0.11827184 -0.45816723 -0.90980719\n",
      "  -0.22174214  0.31420289 -0.66350117 -0.01783617]]\n"
     ]
    },
    {
     "name": "stderr",
     "output_type": "stream",
     "text": [
      "  0%|                                                                                                                                  | 0/250 [00:00<?, ?it/s]"
     ]
    },
    {
     "name": "stdout",
     "output_type": "stream",
     "text": [
      "--- Training --- [threshold, AUC] =  [np.float64(0.709), np.float64(0.966)]\n",
      "--- Iteration 0: Training loss --- [Data, Label, Total] = [25216.170418.3, 336.849875.3, 126417.701965.3]\n"
     ]
    },
    {
     "name": "stderr",
     "output_type": "stream",
     "text": [
      "  2%|██▉                                                                                                                       | 6/250 [00:00<00:04, 54.69it/s]"
     ]
    },
    {
     "name": "stdout",
     "output_type": "stream",
     "text": [
      "--- Training --- [threshold, AUC] =  [np.float64(0.744), np.float64(0.973)]\n",
      "--- Iteration 10: Training loss --- [Data, Label, Total] = [18366.777497.3, 294.379402.3, 92128.266889.3]\n",
      "!!! pred_type filter\n"
     ]
    },
    {
     "name": "stderr",
     "output_type": "stream",
     "text": [
      "  8%|█████████▋                                                                                                               | 20/250 [00:00<00:09, 25.43it/s]"
     ]
    },
    {
     "name": "stdout",
     "output_type": "stream",
     "text": [
      "--- Validation --- [threshold, AUC, Accuracy, F score] =  [np.float64(0.744), np.float64(0.973), np.float64(0.918), np.float64(0.933)]\n",
      "--- Training --- [threshold, AUC] =  [np.float64(0.752), np.float64(0.975)]\n",
      "--- Iteration 20: Training loss --- [Data, Label, Total] = [17400.184582.3, 287.937485.3, 87288.860393.3]\n",
      "!!! pred_type filter\n"
     ]
    },
    {
     "name": "stderr",
     "output_type": "stream",
     "text": [
      " 10%|████████████▌                                                                                                            | 26/250 [00:01<00:12, 17.97it/s]"
     ]
    },
    {
     "name": "stdout",
     "output_type": "stream",
     "text": [
      "--- Validation --- [threshold, AUC, Accuracy, F score] =  [np.float64(0.752), np.float64(0.975), np.float64(0.921), np.float64(0.935)]\n",
      "--- Training --- [threshold, AUC] =  [np.float64(0.69), np.float64(0.975)]\n",
      "--- Iteration 30: Training loss --- [Data, Label, Total] = [16943.229725.3, 285.794600.3, 85001.943225.3]\n",
      "!!! pred_type filter\n"
     ]
    },
    {
     "name": "stderr",
     "output_type": "stream",
     "text": [
      " 16%|██████████████████▉                                                                                                      | 39/250 [00:01<00:09, 21.30it/s]"
     ]
    },
    {
     "name": "stdout",
     "output_type": "stream",
     "text": [
      "--- Validation --- [threshold, AUC, Accuracy, F score] =  [np.float64(0.69), np.float64(0.975), np.float64(0.927), np.float64(0.94)]\n",
      "--- Training --- [threshold, AUC] =  [np.float64(0.704), np.float64(0.975)]\n",
      "--- Iteration 40: Training loss --- [Data, Label, Total] = [16646.301093.3, 285.688096.3, 83517.193561.3]\n",
      "!!! pred_type filter\n"
     ]
    },
    {
     "name": "stderr",
     "output_type": "stream",
     "text": [
      " 18%|█████████████████████▎                                                                                                   | 44/250 [00:02<00:12, 16.79it/s]"
     ]
    },
    {
     "name": "stdout",
     "output_type": "stream",
     "text": [
      "--- Validation --- [threshold, AUC, Accuracy, F score] =  [np.float64(0.704), np.float64(0.975), np.float64(0.927), np.float64(0.94)]\n",
      "--- Training --- [threshold, AUC] =  [np.float64(0.712), np.float64(0.976)]\n",
      "--- Iteration 50: Training loss --- [Data, Label, Total] = [16428.373327.3, 286.088416.3, 82427.955053.3]\n",
      "!!! pred_type filter\n"
     ]
    },
    {
     "name": "stderr",
     "output_type": "stream",
     "text": [
      " 24%|█████████████████████████████                                                                                            | 60/250 [00:03<00:08, 23.17it/s]"
     ]
    },
    {
     "name": "stdout",
     "output_type": "stream",
     "text": [
      "--- Validation --- [threshold, AUC, Accuracy, F score] =  [np.float64(0.712), np.float64(0.976), np.float64(0.927), np.float64(0.941)]\n",
      "--- Training --- [threshold, AUC] =  [np.float64(0.735), np.float64(0.976)]\n",
      "--- Iteration 60: Training loss --- [Data, Label, Total] = [16265.249102.3, 286.640586.3, 81612.886096.3]\n",
      "!!! pred_type filter\n"
     ]
    },
    {
     "name": "stderr",
     "output_type": "stream",
     "text": [
      " 26%|███████████████████████████████▍                                                                                         | 65/250 [00:03<00:10, 18.09it/s]"
     ]
    },
    {
     "name": "stdout",
     "output_type": "stream",
     "text": [
      "--- Validation --- [threshold, AUC, Accuracy, F score] =  [np.float64(0.735), np.float64(0.976), np.float64(0.925), np.float64(0.938)]\n",
      "--- Training --- [threshold, AUC] =  [np.float64(0.731), np.float64(0.976)]\n",
      "--- Iteration 70: Training loss --- [Data, Label, Total] = [16150.786049.3, 286.857039.3, 81040.787284.3]\n",
      "!!! pred_type filter\n"
     ]
    },
    {
     "name": "stderr",
     "output_type": "stream",
     "text": [
      " 32%|██████████████████████████████████████▋                                                                                  | 80/250 [00:04<00:07, 23.37it/s]"
     ]
    },
    {
     "name": "stdout",
     "output_type": "stream",
     "text": [
      "--- Validation --- [threshold, AUC, Accuracy, F score] =  [np.float64(0.731), np.float64(0.976), np.float64(0.927), np.float64(0.94)]\n",
      "--- Training --- [threshold, AUC] =  [np.float64(0.712), np.float64(0.976)]\n",
      "--- Iteration 80: Training loss --- [Data, Label, Total] = [16073.745463.3, 287.435218.3, 80656.162534.3]\n",
      "!!! pred_type filter\n"
     ]
    },
    {
     "name": "stderr",
     "output_type": "stream",
     "text": [
      " 34%|█████████████████████████████████████████▏                                                                               | 85/250 [00:04<00:09, 18.09it/s]"
     ]
    },
    {
     "name": "stdout",
     "output_type": "stream",
     "text": [
      "--- Validation --- [threshold, AUC, Accuracy, F score] =  [np.float64(0.712), np.float64(0.976), np.float64(0.928), np.float64(0.941)]\n",
      "--- Training --- [threshold, AUC] =  [np.float64(0.723), np.float64(0.975)]\n",
      "--- Iteration 90: Training loss --- [Data, Label, Total] = [16021.895854.3, 288.242658.3, 80397.721928.3]\n",
      "!!! pred_type filter\n"
     ]
    },
    {
     "name": "stderr",
     "output_type": "stream",
     "text": [
      " 40%|███████████████████████████████████████████████▉                                                                         | 99/250 [00:05<00:06, 21.63it/s]"
     ]
    },
    {
     "name": "stdout",
     "output_type": "stream",
     "text": [
      "--- Validation --- [threshold, AUC, Accuracy, F score] =  [np.float64(0.723), np.float64(0.975), np.float64(0.927), np.float64(0.94)]\n",
      "--- Training --- [threshold, AUC] =  [np.float64(0.723), np.float64(0.975)]\n",
      "--- Iteration 100: Training loss --- [Data, Label, Total] = [15985.891417.3, 288.834585.3, 80218.291669.3]\n",
      "!!! pred_type filter\n"
     ]
    },
    {
     "name": "stderr",
     "output_type": "stream",
     "text": [
      " 42%|█████████████████████████████████████████████████▉                                                                      | 104/250 [00:05<00:08, 17.50it/s]"
     ]
    },
    {
     "name": "stdout",
     "output_type": "stream",
     "text": [
      "--- Validation --- [threshold, AUC, Accuracy, F score] =  [np.float64(0.723), np.float64(0.975), np.float64(0.927), np.float64(0.94)]\n",
      "--- Training --- [threshold, AUC] =  [np.float64(0.733), np.float64(0.975)]\n",
      "--- Iteration 110: Training loss --- [Data, Label, Total] = [15959.410804.3, 289.480162.3, 80086.534182.3]\n",
      "!!! pred_type filter\n"
     ]
    },
    {
     "name": "stderr",
     "output_type": "stream",
     "text": [
      " 48%|█████████████████████████████████████████████████████████▌                                                              | 120/250 [00:06<00:05, 23.33it/s]"
     ]
    },
    {
     "name": "stdout",
     "output_type": "stream",
     "text": [
      "--- Validation --- [threshold, AUC, Accuracy, F score] =  [np.float64(0.733), np.float64(0.975), np.float64(0.927), np.float64(0.94)]\n",
      "--- Training --- [threshold, AUC] =  [np.float64(0.735), np.float64(0.975)]\n",
      "--- Iteration 120: Training loss --- [Data, Label, Total] = [15938.566070.3, 290.072087.3, 79982.902438.3]\n",
      "!!! pred_type filter\n"
     ]
    },
    {
     "name": "stderr",
     "output_type": "stream",
     "text": [
      " 50%|████████████████████████████████████████████████████████████                                                            | 125/250 [00:06<00:06, 18.49it/s]"
     ]
    },
    {
     "name": "stdout",
     "output_type": "stream",
     "text": [
      "--- Validation --- [threshold, AUC, Accuracy, F score] =  [np.float64(0.735), np.float64(0.975), np.float64(0.927), np.float64(0.94)]\n",
      "--- Training --- [threshold, AUC] =  [np.float64(0.735), np.float64(0.975)]\n",
      "--- Iteration 130: Training loss --- [Data, Label, Total] = [15921.475733.3, 290.398458.3, 79897.777122.3]\n",
      "!!! pred_type filter\n"
     ]
    },
    {
     "name": "stderr",
     "output_type": "stream",
     "text": [
      " 56%|███████████████████████████████████████████████████████████████████▏                                                    | 140/250 [00:07<00:04, 23.96it/s]"
     ]
    },
    {
     "name": "stdout",
     "output_type": "stream",
     "text": [
      "--- Validation --- [threshold, AUC, Accuracy, F score] =  [np.float64(0.735), np.float64(0.975), np.float64(0.926), np.float64(0.939)]\n",
      "--- Training --- [threshold, AUC] =  [np.float64(0.736), np.float64(0.975)]\n",
      "--- Iteration 140: Training loss --- [Data, Label, Total] = [15907.053057.3, 290.794452.3, 79826.059736.3]\n",
      "!!! pred_type filter\n"
     ]
    },
    {
     "name": "stderr",
     "output_type": "stream",
     "text": [
      " 58%|█████████████████████████████████████████████████████████████████████▌                                                  | 145/250 [00:07<00:05, 18.84it/s]"
     ]
    },
    {
     "name": "stdout",
     "output_type": "stream",
     "text": [
      "--- Validation --- [threshold, AUC, Accuracy, F score] =  [np.float64(0.736), np.float64(0.975), np.float64(0.925), np.float64(0.939)]\n",
      "--- Training --- [threshold, AUC] =  [np.float64(0.734), np.float64(0.975)]\n",
      "--- Iteration 150: Training loss --- [Data, Label, Total] = [15894.834958.3, 291.134909.3, 79765.309700.3]\n",
      "!!! pred_type filter\n"
     ]
    },
    {
     "name": "stderr",
     "output_type": "stream",
     "text": [
      " 64%|████████████████████████████████████████████████████████████████████████████▊                                           | 160/250 [00:08<00:03, 24.03it/s]"
     ]
    },
    {
     "name": "stdout",
     "output_type": "stream",
     "text": [
      "--- Validation --- [threshold, AUC, Accuracy, F score] =  [np.float64(0.734), np.float64(0.975), np.float64(0.925), np.float64(0.939)]\n",
      "--- Training --- [threshold, AUC] =  [np.float64(0.722), np.float64(0.975)]\n",
      "--- Iteration 160: Training loss --- [Data, Label, Total] = [15884.395471.3, 291.292921.3, 79713.270275.3]\n",
      "!!! pred_type filter\n"
     ]
    },
    {
     "name": "stderr",
     "output_type": "stream",
     "text": [
      " 66%|███████████████████████████████████████████████████████████████████████████████▏                                        | 165/250 [00:08<00:04, 18.87it/s]"
     ]
    },
    {
     "name": "stdout",
     "output_type": "stream",
     "text": [
      "--- Validation --- [threshold, AUC, Accuracy, F score] =  [np.float64(0.722), np.float64(0.975), np.float64(0.926), np.float64(0.939)]\n",
      "--- Training --- [threshold, AUC] =  [np.float64(0.721), np.float64(0.975)]\n",
      "--- Iteration 170: Training loss --- [Data, Label, Total] = [15875.382264.3, 291.479552.3, 79668.390871.3]\n",
      "!!! pred_type filter\n"
     ]
    },
    {
     "name": "stderr",
     "output_type": "stream",
     "text": [
      " 72%|█████████████████████████████████████████████████████████████████████████████████████▉                                  | 179/250 [00:09<00:03, 23.02it/s]"
     ]
    },
    {
     "name": "stdout",
     "output_type": "stream",
     "text": [
      "--- Validation --- [threshold, AUC, Accuracy, F score] =  [np.float64(0.721), np.float64(0.975), np.float64(0.926), np.float64(0.939)]\n",
      "--- Training --- [threshold, AUC] =  [np.float64(0.723), np.float64(0.975)]\n",
      "--- Iteration 180: Training loss --- [Data, Label, Total] = [15867.448007.3, 291.703382.3, 79628.943416.3]\n",
      "!!! pred_type filter\n"
     ]
    },
    {
     "name": "stderr",
     "output_type": "stream",
     "text": [
      " 74%|████████████████████████████████████████████████████████████████████████████████████████▎                               | 184/250 [00:09<00:03, 18.06it/s]"
     ]
    },
    {
     "name": "stdout",
     "output_type": "stream",
     "text": [
      "--- Validation --- [threshold, AUC, Accuracy, F score] =  [np.float64(0.723), np.float64(0.975), np.float64(0.925), np.float64(0.939)]\n",
      "--- Training --- [threshold, AUC] =  [np.float64(0.725), np.float64(0.975)]\n",
      "--- Iteration 190: Training loss --- [Data, Label, Total] = [15860.451757.3, 291.732482.3, 79593.991265.3]\n",
      "!!! pred_type filter\n"
     ]
    },
    {
     "name": "stderr",
     "output_type": "stream",
     "text": [
      " 80%|███████████████████████████████████████████████████████████████████████████████████████████████▌                        | 199/250 [00:10<00:02, 21.16it/s]"
     ]
    },
    {
     "name": "stdout",
     "output_type": "stream",
     "text": [
      "--- Validation --- [threshold, AUC, Accuracy, F score] =  [np.float64(0.725), np.float64(0.975), np.float64(0.924), np.float64(0.938)]\n",
      "--- Training --- [threshold, AUC] =  [np.float64(0.726), np.float64(0.975)]\n",
      "--- Iteration 200: Training loss --- [Data, Label, Total] = [15854.303517.3, 291.841146.3, 79563.358729.3]\n",
      "!!! pred_type filter\n"
     ]
    },
    {
     "name": "stderr",
     "output_type": "stream",
     "text": [
      " 84%|████████████████████████████████████████████████████████████████████████████████████████████████████▊                   | 210/250 [00:11<00:01, 21.64it/s]"
     ]
    },
    {
     "name": "stdout",
     "output_type": "stream",
     "text": [
      "--- Validation --- [threshold, AUC, Accuracy, F score] =  [np.float64(0.726), np.float64(0.975), np.float64(0.924), np.float64(0.937)]\n",
      "--- Training --- [threshold, AUC] =  [np.float64(0.722), np.float64(0.975)]\n",
      "--- Iteration 210: Training loss --- [Data, Label, Total] = [15848.911832.3, 291.892427.3, 79536.451585.3]\n",
      "!!! pred_type filter\n"
     ]
    },
    {
     "name": "stderr",
     "output_type": "stream",
     "text": [
      " 86%|██████████████████████████████████████████████████████████████████████████████████████████████████████▋                 | 214/250 [00:11<00:02, 16.56it/s]"
     ]
    },
    {
     "name": "stdout",
     "output_type": "stream",
     "text": [
      "--- Validation --- [threshold, AUC, Accuracy, F score] =  [np.float64(0.722), np.float64(0.975), np.float64(0.924), np.float64(0.937)]\n",
      "--- Training --- [threshold, AUC] =  [np.float64(0.731), np.float64(0.975)]\n",
      "--- Iteration 220: Training loss --- [Data, Label, Total] = [15844.237125.3, 291.977077.3, 79513.162704.3]\n",
      "!!! pred_type filter\n"
     ]
    },
    {
     "name": "stderr",
     "output_type": "stream",
     "text": [
      " 92%|█████████████████████████████████████████████████████████████████████████████████████████████████████████████▉          | 229/250 [00:12<00:00, 22.18it/s]"
     ]
    },
    {
     "name": "stdout",
     "output_type": "stream",
     "text": [
      "--- Validation --- [threshold, AUC, Accuracy, F score] =  [np.float64(0.731), np.float64(0.975), np.float64(0.923), np.float64(0.937)]\n",
      "--- Training --- [threshold, AUC] =  [np.float64(0.729), np.float64(0.975)]\n",
      "--- Iteration 230: Training loss --- [Data, Label, Total] = [15840.357336.3, 292.015983.3, 79493.802661.3]\n",
      "!!! pred_type filter\n"
     ]
    },
    {
     "name": "stderr",
     "output_type": "stream",
     "text": [
      " 94%|████████████████████████████████████████████████████████████████████████████████████████████████████████████████▎       | 234/250 [00:12<00:00, 18.03it/s]"
     ]
    },
    {
     "name": "stdout",
     "output_type": "stream",
     "text": [
      "--- Validation --- [threshold, AUC, Accuracy, F score] =  [np.float64(0.729), np.float64(0.975), np.float64(0.923), np.float64(0.937)]\n",
      "--- Training --- [threshold, AUC] =  [np.float64(0.728), np.float64(0.975)]\n",
      "--- Iteration 240: Training loss --- [Data, Label, Total] = [15837.145514.3, 292.037837.3, 79477.765407.3]\n",
      "!!! pred_type filter\n"
     ]
    },
    {
     "name": "stderr",
     "output_type": "stream",
     "text": [
      "100%|████████████████████████████████████████████████████████████████████████████████████████████████████████████████████████| 250/250 [00:13<00:00, 19.00it/s]"
     ]
    },
    {
     "name": "stdout",
     "output_type": "stream",
     "text": [
      "--- Validation --- [threshold, AUC, Accuracy, F score] =  [np.float64(0.728), np.float64(0.975), np.float64(0.923), np.float64(0.937)]\n",
      "!!! pred_type filter\n"
     ]
    },
    {
     "name": "stderr",
     "output_type": "stream",
     "text": [
      "\n"
     ]
    },
    {
     "name": "stdout",
     "output_type": "stream",
     "text": [
      "num of subgraphs induced on k-paths: 500\n",
      "num of subgraphs induced on k-paths: 500\n",
      "X_list: (225, 1000)\n",
      "2\n",
      "(1, 500)\n",
      "(1, 500)\n",
      "label_vec: (1, 1000)\n",
      "('Caltech36', 'UCLA26') predicting Harvard1 0.8194475467039469\n",
      "\n",
      "3: 0.8778558372677772\n",
      "4: 0.8449298516548318\n",
      "5: 0.8328589202034812\n",
      "6: 0.8810722135926942\n",
      "7: 0.8300352574962108\n",
      "8: 0.8341847021951587\n",
      "9: 0.8194475467039469\n",
      "\n",
      "num of subgraphs induced on k-paths: 500\n",
      "num of subgraphs induced on k-paths: 500\n",
      "X_list: (225, 1000)\n",
      "2\n",
      "(1, 500)\n",
      "(1, 500)\n",
      "label_vec: (1, 1000)\n",
      "num of subgraphs induced on k-paths: 500\n",
      "num of subgraphs induced on k-paths: 856\n",
      "X_list: (225, 1356)\n",
      "2\n",
      "(1, 500)\n",
      "(1, 856)\n",
      "label_vec: (1, 1356)\n",
      "initial loading beta [[ 0.87739592  0.30665187 -0.11575918 -0.97689008  0.01354777  0.7940028\n",
      "  -0.72810177 -0.20764945 -0.19913502 -0.15033748 -0.40154316]]\n"
     ]
    },
    {
     "name": "stderr",
     "output_type": "stream",
     "text": [
      "  0%|                                                                                                                                  | 0/250 [00:00<?, ?it/s]"
     ]
    },
    {
     "name": "stdout",
     "output_type": "stream",
     "text": [
      "--- Training --- [threshold, AUC] =  [np.float64(0.707), np.float64(0.962)]\n",
      "--- Iteration 0: Training loss --- [Data, Label, Total] = [26192.227342.3, 351.897608.3, 131313.034316.3]\n"
     ]
    },
    {
     "name": "stderr",
     "output_type": "stream",
     "text": [
      "  3%|███▍                                                                                                                      | 7/250 [00:00<00:03, 65.86it/s]"
     ]
    },
    {
     "name": "stdout",
     "output_type": "stream",
     "text": [
      "--- Training --- [threshold, AUC] =  [np.float64(0.633), np.float64(0.969)]\n",
      "--- Iteration 10: Training loss --- [Data, Label, Total] = [18556.879345.3, 311.259925.3, 93095.656649.3]\n",
      "!!! pred_type filter\n"
     ]
    },
    {
     "name": "stderr",
     "output_type": "stream",
     "text": [
      "  6%|██████▊                                                                                                                  | 14/250 [00:00<00:13, 17.52it/s]"
     ]
    },
    {
     "name": "stdout",
     "output_type": "stream",
     "text": [
      "--- Validation --- [threshold, AUC, Accuracy, F score] =  [np.float64(0.633), np.float64(0.969), np.float64(0.914), np.float64(0.932)]\n",
      "--- Training --- [threshold, AUC] =  [np.float64(0.663), np.float64(0.971)]\n",
      "--- Iteration 20: Training loss --- [Data, Label, Total] = [17460.881447.3, 304.490448.3, 87608.897685.3]\n",
      "!!! pred_type filter\n"
     ]
    },
    {
     "name": "stderr",
     "output_type": "stream",
     "text": [
      " 12%|██████████████                                                                                                           | 29/250 [00:01<00:10, 22.06it/s]"
     ]
    },
    {
     "name": "stdout",
     "output_type": "stream",
     "text": [
      "--- Validation --- [threshold, AUC, Accuracy, F score] =  [np.float64(0.663), np.float64(0.971), np.float64(0.915), np.float64(0.932)]\n",
      "--- Training --- [threshold, AUC] =  [np.float64(0.63), np.float64(0.971)]\n",
      "--- Iteration 30: Training loss --- [Data, Label, Total] = [17163.171139.3, 304.129846.3, 86119.985542.3]\n",
      "!!! pred_type filter\n"
     ]
    },
    {
     "name": "stderr",
     "output_type": "stream",
     "text": [
      " 14%|████████████████▍                                                                                                        | 34/250 [00:01<00:13, 15.45it/s]"
     ]
    },
    {
     "name": "stdout",
     "output_type": "stream",
     "text": [
      "--- Validation --- [threshold, AUC, Accuracy, F score] =  [np.float64(0.63), np.float64(0.971), np.float64(0.917), np.float64(0.934)]\n",
      "--- Training --- [threshold, AUC] =  [np.float64(0.597), np.float64(0.971)]\n",
      "--- Iteration 40: Training loss --- [Data, Label, Total] = [16989.511569.3, 303.531170.3, 85251.089014.3]\n",
      "!!! pred_type filter\n"
     ]
    },
    {
     "name": "stderr",
     "output_type": "stream",
     "text": [
      " 20%|███████████████████████▋                                                                                                 | 49/250 [00:02<00:10, 18.39it/s]"
     ]
    },
    {
     "name": "stdout",
     "output_type": "stream",
     "text": [
      "--- Validation --- [threshold, AUC, Accuracy, F score] =  [np.float64(0.597), np.float64(0.971), np.float64(0.92), np.float64(0.937)]\n",
      "--- Training --- [threshold, AUC] =  [np.float64(0.598), np.float64(0.971)]\n",
      "--- Iteration 50: Training loss --- [Data, Label, Total] = [16845.871427.3, 302.464881.3, 84531.822015.3]\n",
      "!!! pred_type filter\n"
     ]
    },
    {
     "name": "stderr",
     "output_type": "stream",
     "text": [
      " 22%|██████████████████████████▏                                                                                              | 54/250 [00:03<00:13, 14.93it/s]"
     ]
    },
    {
     "name": "stdout",
     "output_type": "stream",
     "text": [
      "--- Validation --- [threshold, AUC, Accuracy, F score] =  [np.float64(0.598), np.float64(0.971), np.float64(0.922), np.float64(0.938)]\n",
      "--- Training --- [threshold, AUC] =  [np.float64(0.629), np.float64(0.971)]\n",
      "--- Iteration 60: Training loss --- [Data, Label, Total] = [16704.337517.3, 301.718505.3, 83823.406090.3]\n",
      "!!! pred_type filter\n"
     ]
    },
    {
     "name": "stderr",
     "output_type": "stream",
     "text": [
      " 26%|███████████████████████████████▍                                                                                         | 65/250 [00:04<00:12, 15.33it/s]"
     ]
    },
    {
     "name": "stdout",
     "output_type": "stream",
     "text": [
      "--- Validation --- [threshold, AUC, Accuracy, F score] =  [np.float64(0.629), np.float64(0.971), np.float64(0.922), np.float64(0.938)]\n"
     ]
    },
    {
     "name": "stderr",
     "output_type": "stream",
     "text": [
      " 28%|█████████████████████████████████▍                                                                                       | 69/250 [00:04<00:10, 17.48it/s]"
     ]
    },
    {
     "name": "stdout",
     "output_type": "stream",
     "text": [
      "--- Training --- [threshold, AUC] =  [np.float64(0.642), np.float64(0.972)]\n",
      "--- Iteration 70: Training loss --- [Data, Label, Total] = [16566.747567.3, 300.891818.3, 83134.629653.3]\n",
      "!!! pred_type filter\n"
     ]
    },
    {
     "name": "stderr",
     "output_type": "stream",
     "text": [
      " 29%|███████████████████████████████████▎                                                                                     | 73/250 [00:04<00:15, 11.67it/s]"
     ]
    },
    {
     "name": "stdout",
     "output_type": "stream",
     "text": [
      "--- Validation --- [threshold, AUC, Accuracy, F score] =  [np.float64(0.642), np.float64(0.972), np.float64(0.921), np.float64(0.937)]\n",
      "--- Training --- [threshold, AUC] =  [np.float64(0.647), np.float64(0.972)]\n",
      "--- Iteration 80: Training loss --- [Data, Label, Total] = [16445.052358.3, 300.435282.3, 82525.697074.3]\n",
      "!!! pred_type filter\n"
     ]
    },
    {
     "name": "stderr",
     "output_type": "stream",
     "text": [
      " 35%|██████████████████████████████████████████▌                                                                              | 88/250 [00:05<00:09, 17.34it/s]"
     ]
    },
    {
     "name": "stdout",
     "output_type": "stream",
     "text": [
      "--- Validation --- [threshold, AUC, Accuracy, F score] =  [np.float64(0.647), np.float64(0.972), np.float64(0.92), np.float64(0.936)]\n",
      "--- Training --- [threshold, AUC] =  [np.float64(0.645), np.float64(0.972)]\n",
      "--- Iteration 90: Training loss --- [Data, Label, Total] = [16345.034148.3, 300.220197.3, 82025.390938.3]\n",
      "!!! pred_type filter\n"
     ]
    },
    {
     "name": "stderr",
     "output_type": "stream",
     "text": [
      " 40%|████████████████████████████████████████████████                                                                        | 100/250 [00:06<00:07, 20.12it/s]"
     ]
    },
    {
     "name": "stdout",
     "output_type": "stream",
     "text": [
      "--- Validation --- [threshold, AUC, Accuracy, F score] =  [np.float64(0.645), np.float64(0.972), np.float64(0.92), np.float64(0.936)]\n",
      "--- Training --- [threshold, AUC] =  [np.float64(0.657), np.float64(0.972)]\n",
      "--- Iteration 100: Training loss --- [Data, Label, Total] = [16264.552487.3, 299.957076.3, 81622.719511.3]\n",
      "!!! pred_type filter\n"
     ]
    },
    {
     "name": "stderr",
     "output_type": "stream",
     "text": [
      " 42%|██████████████████████████████████████████████████▍                                                                     | 105/250 [00:06<00:09, 15.77it/s]"
     ]
    },
    {
     "name": "stdout",
     "output_type": "stream",
     "text": [
      "--- Validation --- [threshold, AUC, Accuracy, F score] =  [np.float64(0.657), np.float64(0.972), np.float64(0.919), np.float64(0.935)]\n",
      "--- Training --- [threshold, AUC] =  [np.float64(0.661), np.float64(0.972)]\n",
      "--- Iteration 110: Training loss --- [Data, Label, Total] = [16187.779352.3, 299.798013.3, 81238.694775.3]\n",
      "!!! pred_type filter\n"
     ]
    },
    {
     "name": "stderr",
     "output_type": "stream",
     "text": [
      " 48%|█████████████████████████████████████████████████████████                                                               | 119/250 [00:07<00:06, 20.09it/s]"
     ]
    },
    {
     "name": "stdout",
     "output_type": "stream",
     "text": [
      "--- Validation --- [threshold, AUC, Accuracy, F score] =  [np.float64(0.661), np.float64(0.972), np.float64(0.917), np.float64(0.934)]\n",
      "--- Training --- [threshold, AUC] =  [np.float64(0.665), np.float64(0.972)]\n",
      "--- Iteration 120: Training loss --- [Data, Label, Total] = [16110.361206.3, 299.839105.3, 80851.645134.3]\n",
      "!!! pred_type filter\n"
     ]
    },
    {
     "name": "stderr",
     "output_type": "stream",
     "text": [
      " 49%|███████████████████████████████████████████████████████████                                                             | 123/250 [00:07<00:08, 14.87it/s]"
     ]
    },
    {
     "name": "stdout",
     "output_type": "stream",
     "text": [
      "--- Validation --- [threshold, AUC, Accuracy, F score] =  [np.float64(0.665), np.float64(0.972), np.float64(0.917), np.float64(0.933)]\n",
      "--- Training --- [threshold, AUC] =  [np.float64(0.665), np.float64(0.972)]\n",
      "--- Iteration 130: Training loss --- [Data, Label, Total] = [16032.034870.3, 300.040487.3, 80460.214839.3]\n",
      "!!! pred_type filter\n"
     ]
    },
    {
     "name": "stderr",
     "output_type": "stream",
     "text": [
      " 55%|██████████████████████████████████████████████████████████████████▏                                                     | 138/250 [00:08<00:05, 19.60it/s]"
     ]
    },
    {
     "name": "stdout",
     "output_type": "stream",
     "text": [
      "--- Validation --- [threshold, AUC, Accuracy, F score] =  [np.float64(0.665), np.float64(0.972), np.float64(0.917), np.float64(0.933)]\n",
      "--- Training --- [threshold, AUC] =  [np.float64(0.665), np.float64(0.972)]\n",
      "--- Iteration 140: Training loss --- [Data, Label, Total] = [15957.792268.3, 299.936558.3, 80088.897897.3]\n",
      "!!! pred_type filter\n"
     ]
    },
    {
     "name": "stderr",
     "output_type": "stream",
     "text": [
      " 58%|██████████████████████████████████████████████████████████████████████                                                  | 146/250 [00:09<00:07, 14.85it/s]"
     ]
    },
    {
     "name": "stdout",
     "output_type": "stream",
     "text": [
      "--- Validation --- [threshold, AUC, Accuracy, F score] =  [np.float64(0.665), np.float64(0.972), np.float64(0.917), np.float64(0.933)]\n",
      "--- Training --- [threshold, AUC] =  [np.float64(0.66), np.float64(0.972)]\n",
      "--- Iteration 150: Training loss --- [Data, Label, Total] = [15892.191025.3, 299.855855.3, 79760.810980.3]\n",
      "!!! pred_type filter\n"
     ]
    },
    {
     "name": "stderr",
     "output_type": "stream",
     "text": [
      " 64%|████████████████████████████████████████████████████████████████████████████▎                                           | 159/250 [00:10<00:04, 18.30it/s]"
     ]
    },
    {
     "name": "stdout",
     "output_type": "stream",
     "text": [
      "--- Validation --- [threshold, AUC, Accuracy, F score] =  [np.float64(0.66), np.float64(0.972), np.float64(0.917), np.float64(0.934)]\n",
      "--- Training --- [threshold, AUC] =  [np.float64(0.662), np.float64(0.972)]\n",
      "--- Iteration 160: Training loss --- [Data, Label, Total] = [15838.539078.3, 299.581300.3, 79492.276690.3]\n",
      "!!! pred_type filter\n"
     ]
    },
    {
     "name": "stderr",
     "output_type": "stream",
     "text": [
      " 65%|██████████████████████████████████████████████████████████████████████████████▏                                         | 163/250 [00:10<00:06, 14.41it/s]"
     ]
    },
    {
     "name": "stdout",
     "output_type": "stream",
     "text": [
      "--- Validation --- [threshold, AUC, Accuracy, F score] =  [np.float64(0.662), np.float64(0.972), np.float64(0.917), np.float64(0.934)]\n",
      "--- Training --- [threshold, AUC] =  [np.float64(0.643), np.float64(0.972)]\n",
      "--- Iteration 170: Training loss --- [Data, Label, Total] = [15797.055606.3, 299.104628.3, 79284.382660.3]\n",
      "!!! pred_type filter\n"
     ]
    },
    {
     "name": "stderr",
     "output_type": "stream",
     "text": [
      " 72%|██████████████████████████████████████████████████████████████████████████████████████▍                                 | 180/250 [00:11<00:03, 21.63it/s]"
     ]
    },
    {
     "name": "stdout",
     "output_type": "stream",
     "text": [
      "--- Validation --- [threshold, AUC, Accuracy, F score] =  [np.float64(0.643), np.float64(0.972), np.float64(0.918), np.float64(0.934)]\n",
      "--- Training --- [threshold, AUC] =  [np.float64(0.657), np.float64(0.973)]\n",
      "--- Iteration 180: Training loss --- [Data, Label, Total] = [15765.667358.3, 298.447045.3, 79126.783834.3]\n",
      "!!! pred_type filter\n"
     ]
    },
    {
     "name": "stderr",
     "output_type": "stream",
     "text": [
      " 74%|████████████████████████████████████████████████████████████████████████████████████████▊                               | 185/250 [00:11<00:03, 17.12it/s]"
     ]
    },
    {
     "name": "stdout",
     "output_type": "stream",
     "text": [
      "--- Validation --- [threshold, AUC, Accuracy, F score] =  [np.float64(0.657), np.float64(0.973), np.float64(0.917), np.float64(0.934)]\n",
      "--- Training --- [threshold, AUC] =  [np.float64(0.656), np.float64(0.973)]\n",
      "--- Iteration 190: Training loss --- [Data, Label, Total] = [15741.726818.3, 297.898448.3, 79006.532537.3]\n",
      "!!! pred_type filter\n"
     ]
    },
    {
     "name": "stderr",
     "output_type": "stream",
     "text": [
      " 78%|█████████████████████████████████████████████████████████████████████████████████████████████▌                          | 195/250 [00:12<00:04, 13.54it/s]"
     ]
    },
    {
     "name": "stdout",
     "output_type": "stream",
     "text": [
      "--- Validation --- [threshold, AUC, Accuracy, F score] =  [np.float64(0.656), np.float64(0.973), np.float64(0.917), np.float64(0.934)]\n",
      "--- Training --- [threshold, AUC] =  [np.float64(0.654), np.float64(0.973)]\n",
      "--- Iteration 200: Training loss --- [Data, Label, Total] = [15722.811093.3, 296.923475.3, 78910.978940.3]\n",
      "!!! pred_type filter\n"
     ]
    },
    {
     "name": "stderr",
     "output_type": "stream",
     "text": [
      " 82%|██████████████████████████████████████████████████████████████████████████████████████████████████▉                     | 206/250 [00:13<00:03, 11.54it/s]"
     ]
    },
    {
     "name": "stdout",
     "output_type": "stream",
     "text": [
      "--- Validation --- [threshold, AUC, Accuracy, F score] =  [np.float64(0.654), np.float64(0.973), np.float64(0.918), np.float64(0.934)]\n"
     ]
    },
    {
     "name": "stderr",
     "output_type": "stream",
     "text": [
      " 84%|████████████████████████████████████████████████████████████████████████████████████████████████████▊                   | 210/250 [00:14<00:02, 13.77it/s]"
     ]
    },
    {
     "name": "stdout",
     "output_type": "stream",
     "text": [
      "--- Training --- [threshold, AUC] =  [np.float64(0.649), np.float64(0.973)]\n",
      "--- Iteration 210: Training loss --- [Data, Label, Total] = [15707.025060.3, 296.185283.3, 78831.310585.3]\n",
      "!!! pred_type filter\n"
     ]
    },
    {
     "name": "stderr",
     "output_type": "stream",
     "text": [
      " 86%|██████████████████████████████████████████████████████████████████████████████████████████████████████▋                 | 214/250 [00:15<00:05,  7.16it/s]"
     ]
    },
    {
     "name": "stdout",
     "output_type": "stream",
     "text": [
      "--- Validation --- [threshold, AUC, Accuracy, F score] =  [np.float64(0.649), np.float64(0.973), np.float64(0.918), np.float64(0.934)]\n",
      "--- Training --- [threshold, AUC] =  [np.float64(0.632), np.float64(0.973)]\n",
      "--- Iteration 220: Training loss --- [Data, Label, Total] = [15693.757794.3, 295.456020.3, 78764.244989.3]\n",
      "!!! pred_type filter\n"
     ]
    },
    {
     "name": "stderr",
     "output_type": "stream",
     "text": [
      " 92%|█████████████████████████████████████████████████████████████████████████████████████████████████████████████▉          | 229/250 [00:16<00:01, 12.91it/s]"
     ]
    },
    {
     "name": "stdout",
     "output_type": "stream",
     "text": [
      "--- Validation --- [threshold, AUC, Accuracy, F score] =  [np.float64(0.632), np.float64(0.973), np.float64(0.92), np.float64(0.936)]\n",
      "--- Training --- [threshold, AUC] =  [np.float64(0.633), np.float64(0.973)]\n",
      "--- Iteration 230: Training loss --- [Data, Label, Total] = [15682.603902.3, 294.747718.3, 78707.767230.3]\n",
      "!!! pred_type filter\n"
     ]
    },
    {
     "name": "stderr",
     "output_type": "stream",
     "text": [
      " 93%|███████████████████████████████████████████████████████████████████████████████████████████████████████████████▊        | 233/250 [00:16<00:01, 11.13it/s]"
     ]
    },
    {
     "name": "stdout",
     "output_type": "stream",
     "text": [
      "--- Validation --- [threshold, AUC, Accuracy, F score] =  [np.float64(0.633), np.float64(0.973), np.float64(0.922), np.float64(0.938)]\n",
      "--- Training --- [threshold, AUC] =  [np.float64(0.644), np.float64(0.973)]\n",
      "--- Iteration 240: Training loss --- [Data, Label, Total] = [15672.936598.3, 294.172836.3, 78658.855828.3]\n",
      "!!! pred_type filter\n"
     ]
    },
    {
     "name": "stderr",
     "output_type": "stream",
     "text": [
      "100%|████████████████████████████████████████████████████████████████████████████████████████████████████████████████████████| 250/250 [00:17<00:00, 14.45it/s]"
     ]
    },
    {
     "name": "stdout",
     "output_type": "stream",
     "text": [
      "--- Validation --- [threshold, AUC, Accuracy, F score] =  [np.float64(0.644), np.float64(0.973), np.float64(0.922), np.float64(0.938)]\n",
      "!!! pred_type filter\n"
     ]
    },
    {
     "name": "stderr",
     "output_type": "stream",
     "text": [
      "\n"
     ]
    },
    {
     "name": "stdout",
     "output_type": "stream",
     "text": [
      "num of subgraphs induced on k-paths: 500\n",
      "num of subgraphs induced on k-paths: 500\n",
      "X_list: (225, 1000)\n",
      "2\n",
      "(1, 500)\n",
      "(1, 500)\n",
      "label_vec: (1, 1000)\n",
      "('Caltech36', 'UCLA26') predicting Harvard1 0.8129617372639039\n",
      "\n",
      "3: 0.8778558372677772\n",
      "4: 0.8449298516548318\n",
      "5: 0.8328589202034812\n",
      "6: 0.8810722135926942\n",
      "7: 0.8300352574962108\n",
      "8: 0.8341847021951587\n",
      "9: 0.8194475467039469\n",
      "10: 0.8129617372639039\n",
      "\n",
      "num of subgraphs induced on k-paths: 500\n",
      "num of subgraphs induced on k-paths: 500\n",
      "X_list: (225, 1000)\n",
      "2\n",
      "(1, 500)\n",
      "(1, 500)\n",
      "label_vec: (1, 1000)\n",
      "num of subgraphs induced on k-paths: 500\n",
      "num of subgraphs induced on k-paths: 876\n",
      "X_list: (225, 1376)\n",
      "2\n",
      "(1, 500)\n",
      "(1, 876)\n",
      "label_vec: (1, 1376)\n",
      "initial loading beta [[ 0.00238457  0.08782735 -0.38188527 -0.69100088 -0.11638126  0.59800923\n",
      "  -0.89312186  0.38636448 -0.53528934  0.40452852 -0.52559964 -0.81474573]]\n"
     ]
    },
    {
     "name": "stderr",
     "output_type": "stream",
     "text": [
      "  0%|                                                                                                                                  | 0/250 [00:00<?, ?it/s]"
     ]
    },
    {
     "name": "stdout",
     "output_type": "stream",
     "text": [
      "--- Training --- [threshold, AUC] =  [np.float64(0.633), np.float64(0.965)]\n",
      "--- Iteration 0: Training loss --- [Data, Label, Total] = [25974.660938.3, 337.719765.3, 130211.024456.3]\n"
     ]
    },
    {
     "name": "stderr",
     "output_type": "stream",
     "text": [
      "  3%|███▉                                                                                                                      | 8/250 [00:00<00:03, 76.71it/s]"
     ]
    },
    {
     "name": "stdout",
     "output_type": "stream",
     "text": [
      "--- Training --- [threshold, AUC] =  [np.float64(0.727), np.float64(0.971)]\n",
      "--- Iteration 10: Training loss --- [Data, Label, Total] = [17913.069488.3, 302.000196.3, 89867.347635.3]\n",
      "!!! pred_type filter\n"
     ]
    },
    {
     "name": "stderr",
     "output_type": "stream",
     "text": [
      "  6%|███████▋                                                                                                                 | 16/250 [00:00<00:12, 19.38it/s]"
     ]
    },
    {
     "name": "stdout",
     "output_type": "stream",
     "text": [
      "--- Validation --- [threshold, AUC, Accuracy, F score] =  [np.float64(0.727), np.float64(0.971), np.float64(0.911), np.float64(0.928)]\n",
      "--- Training --- [threshold, AUC] =  [np.float64(0.733), np.float64(0.971)]\n",
      "--- Iteration 20: Training loss --- [Data, Label, Total] = [16411.263812.3, 301.114006.3, 82357.433067.3]\n",
      "!!! pred_type filter\n"
     ]
    },
    {
     "name": "stderr",
     "output_type": "stream",
     "text": [
      " 12%|██████████████▌                                                                                                          | 30/250 [00:01<00:10, 21.95it/s]"
     ]
    },
    {
     "name": "stdout",
     "output_type": "stream",
     "text": [
      "--- Validation --- [threshold, AUC, Accuracy, F score] =  [np.float64(0.733), np.float64(0.971), np.float64(0.909), np.float64(0.926)]\n",
      "--- Training --- [threshold, AUC] =  [np.float64(0.723), np.float64(0.971)]\n",
      "--- Iteration 30: Training loss --- [Data, Label, Total] = [15737.620688.3, 302.553543.3, 78990.656981.3]\n",
      "!!! pred_type filter\n"
     ]
    },
    {
     "name": "stderr",
     "output_type": "stream",
     "text": [
      " 14%|████████████████▉                                                                                                        | 35/250 [00:02<00:13, 15.67it/s]"
     ]
    },
    {
     "name": "stdout",
     "output_type": "stream",
     "text": [
      "--- Validation --- [threshold, AUC, Accuracy, F score] =  [np.float64(0.723), np.float64(0.971), np.float64(0.91), np.float64(0.927)]\n",
      "--- Training --- [threshold, AUC] =  [np.float64(0.672), np.float64(0.971)]\n",
      "--- Iteration 40: Training loss --- [Data, Label, Total] = [15395.798950.3, 303.654518.3, 77282.649268.3]\n",
      "!!! pred_type filter\n"
     ]
    },
    {
     "name": "stderr",
     "output_type": "stream",
     "text": [
      " 20%|████████████████████████▏                                                                                                | 50/250 [00:02<00:09, 20.34it/s]"
     ]
    },
    {
     "name": "stdout",
     "output_type": "stream",
     "text": [
      "--- Validation --- [threshold, AUC, Accuracy, F score] =  [np.float64(0.672), np.float64(0.971), np.float64(0.915), np.float64(0.932)]\n",
      "--- Training --- [threshold, AUC] =  [np.float64(0.664), np.float64(0.971)]\n",
      "--- Iteration 50: Training loss --- [Data, Label, Total] = [15192.542632.3, 304.032942.3, 76266.746103.3]\n",
      "!!! pred_type filter\n"
     ]
    },
    {
     "name": "stderr",
     "output_type": "stream",
     "text": [
      " 22%|██████████████████████████▌                                                                                              | 55/250 [00:03<00:12, 15.82it/s]"
     ]
    },
    {
     "name": "stdout",
     "output_type": "stream",
     "text": [
      "--- Validation --- [threshold, AUC, Accuracy, F score] =  [np.float64(0.664), np.float64(0.971), np.float64(0.914), np.float64(0.931)]\n",
      "--- Training --- [threshold, AUC] =  [np.float64(0.712), np.float64(0.971)]\n",
      "--- Iteration 60: Training loss --- [Data, Label, Total] = [15052.249494.3, 304.188030.3, 75565.435498.3]\n",
      "!!! pred_type filter\n"
     ]
    },
    {
     "name": "stderr",
     "output_type": "stream",
     "text": [
      " 28%|█████████████████████████████████▉                                                                                       | 70/250 [00:03<00:08, 20.79it/s]"
     ]
    },
    {
     "name": "stdout",
     "output_type": "stream",
     "text": [
      "--- Validation --- [threshold, AUC, Accuracy, F score] =  [np.float64(0.712), np.float64(0.971), np.float64(0.911), np.float64(0.928)]\n",
      "--- Training --- [threshold, AUC] =  [np.float64(0.709), np.float64(0.971)]\n",
      "--- Iteration 70: Training loss --- [Data, Label, Total] = [14950.421485.3, 304.404733.3, 75056.512159.3]\n",
      "!!! pred_type filter\n"
     ]
    },
    {
     "name": "stderr",
     "output_type": "stream",
     "text": [
      " 30%|████████████████████████████████████▎                                                                                    | 75/250 [00:04<00:14, 12.02it/s]"
     ]
    },
    {
     "name": "stdout",
     "output_type": "stream",
     "text": [
      "--- Validation --- [threshold, AUC, Accuracy, F score] =  [np.float64(0.709), np.float64(0.971), np.float64(0.911), np.float64(0.928)]\n",
      "--- Training --- [threshold, AUC] =  [np.float64(0.706), np.float64(0.971)]\n",
      "--- Iteration 80: Training loss --- [Data, Label, Total] = [14876.339875.3, 304.702888.3, 74686.402265.3]\n",
      "!!! pred_type filter\n"
     ]
    },
    {
     "name": "stderr",
     "output_type": "stream",
     "text": [
      " 35%|██████████████████████████████████████████▌                                                                              | 88/250 [00:05<00:10, 15.51it/s]"
     ]
    },
    {
     "name": "stdout",
     "output_type": "stream",
     "text": [
      "--- Validation --- [threshold, AUC, Accuracy, F score] =  [np.float64(0.706), np.float64(0.971), np.float64(0.911), np.float64(0.928)]\n",
      "--- Training --- [threshold, AUC] =  [np.float64(0.698), np.float64(0.971)]\n",
      "--- Iteration 90: Training loss --- [Data, Label, Total] = [14823.322970.3, 304.976176.3, 74421.591025.3]\n",
      "!!! pred_type filter\n"
     ]
    },
    {
     "name": "stderr",
     "output_type": "stream",
     "text": [
      " 40%|████████████████████████████████████████████████                                                                        | 100/250 [00:06<00:09, 15.09it/s]"
     ]
    },
    {
     "name": "stdout",
     "output_type": "stream",
     "text": [
      "--- Validation --- [threshold, AUC, Accuracy, F score] =  [np.float64(0.698), np.float64(0.971), np.float64(0.911), np.float64(0.928)]\n",
      "--- Training --- [threshold, AUC] =  [np.float64(0.702), np.float64(0.971)]\n",
      "--- Iteration 100: Training loss --- [Data, Label, Total] = [14786.875045.3, 305.019943.3, 74239.395169.3]\n",
      "!!! pred_type filter\n"
     ]
    },
    {
     "name": "stderr",
     "output_type": "stream",
     "text": [
      " 42%|██████████████████████████████████████████████████▍                                                                     | 105/250 [00:07<00:11, 13.16it/s]"
     ]
    },
    {
     "name": "stdout",
     "output_type": "stream",
     "text": [
      "--- Validation --- [threshold, AUC, Accuracy, F score] =  [np.float64(0.702), np.float64(0.971), np.float64(0.911), np.float64(0.928)]\n",
      "--- Training --- [threshold, AUC] =  [np.float64(0.707), np.float64(0.971)]\n",
      "--- Iteration 110: Training loss --- [Data, Label, Total] = [14762.872309.3, 304.755186.3, 74119.116732.3]\n",
      "!!! pred_type filter\n"
     ]
    },
    {
     "name": "stderr",
     "output_type": "stream",
     "text": [
      " 48%|█████████████████████████████████████████████████████████▌                                                              | 120/250 [00:07<00:06, 18.97it/s]"
     ]
    },
    {
     "name": "stdout",
     "output_type": "stream",
     "text": [
      "--- Validation --- [threshold, AUC, Accuracy, F score] =  [np.float64(0.707), np.float64(0.971), np.float64(0.911), np.float64(0.928)]\n",
      "--- Training --- [threshold, AUC] =  [np.float64(0.709), np.float64(0.971)]\n",
      "--- Iteration 120: Training loss --- [Data, Label, Total] = [14746.678759.3, 304.356374.3, 74037.750170.3]\n",
      "!!! pred_type filter\n"
     ]
    },
    {
     "name": "stderr",
     "output_type": "stream",
     "text": [
      " 50%|████████████████████████████████████████████████████████████                                                            | 125/250 [00:08<00:08, 15.51it/s]"
     ]
    },
    {
     "name": "stdout",
     "output_type": "stream",
     "text": [
      "--- Validation --- [threshold, AUC, Accuracy, F score] =  [np.float64(0.709), np.float64(0.971), np.float64(0.909), np.float64(0.926)]\n",
      "--- Training --- [threshold, AUC] =  [np.float64(0.789), np.float64(0.971)]\n",
      "--- Iteration 130: Training loss --- [Data, Label, Total] = [14735.541818.3, 303.857726.3, 73981.566818.3]\n",
      "!!! pred_type filter\n"
     ]
    },
    {
     "name": "stderr",
     "output_type": "stream",
     "text": [
      " 56%|██████████████████████████████████████████████████████████████████▋                                                     | 139/250 [00:08<00:05, 18.85it/s]"
     ]
    },
    {
     "name": "stdout",
     "output_type": "stream",
     "text": [
      "--- Validation --- [threshold, AUC, Accuracy, F score] =  [np.float64(0.789), np.float64(0.971), np.float64(0.899), np.float64(0.915)]\n",
      "--- Training --- [threshold, AUC] =  [np.float64(0.787), np.float64(0.971)]\n",
      "--- Iteration 140: Training loss --- [Data, Label, Total] = [14727.734176.3, 303.308804.3, 73941.979684.3]\n",
      "!!! pred_type filter\n"
     ]
    },
    {
     "name": "stderr",
     "output_type": "stream",
     "text": [
      " 60%|████████████████████████████████████████████████████████████████████████                                                | 150/250 [00:09<00:05, 18.09it/s]"
     ]
    },
    {
     "name": "stdout",
     "output_type": "stream",
     "text": [
      "--- Validation --- [threshold, AUC, Accuracy, F score] =  [np.float64(0.787), np.float64(0.971), np.float64(0.898), np.float64(0.915)]\n",
      "--- Training --- [threshold, AUC] =  [np.float64(0.682), np.float64(0.972)]\n",
      "--- Iteration 150: Training loss --- [Data, Label, Total] = [14722.154205.3, 302.712126.3, 73913.483150.3]\n",
      "!!! pred_type filter\n"
     ]
    },
    {
     "name": "stderr",
     "output_type": "stream",
     "text": [
      " 62%|█████████████████████████████████████████████████████████████████████████▉                                              | 154/250 [00:10<00:07, 13.69it/s]"
     ]
    },
    {
     "name": "stdout",
     "output_type": "stream",
     "text": [
      "--- Validation --- [threshold, AUC, Accuracy, F score] =  [np.float64(0.682), np.float64(0.972), np.float64(0.912), np.float64(0.929)]\n",
      "--- Training --- [threshold, AUC] =  [np.float64(0.762), np.float64(0.972)]\n",
      "--- Iteration 160: Training loss --- [Data, Label, Total] = [14718.028291.3, 302.080711.3, 73892.222166.3]\n",
      "!!! pred_type filter\n"
     ]
    },
    {
     "name": "stderr",
     "output_type": "stream",
     "text": [
      " 66%|███████████████████████████████████████████████████████████████████████████████▋                                        | 166/250 [00:11<00:05, 14.44it/s]"
     ]
    },
    {
     "name": "stdout",
     "output_type": "stream",
     "text": [
      "--- Validation --- [threshold, AUC, Accuracy, F score] =  [np.float64(0.762), np.float64(0.972), np.float64(0.903), np.float64(0.92)]\n",
      "--- Training --- [threshold, AUC] =  [np.float64(0.675), np.float64(0.972)]\n",
      "--- Iteration 170: Training loss --- [Data, Label, Total] = [14714.881232.3, 301.431258.3, 73875.837416.3]\n",
      "!!! pred_type filter\n"
     ]
    },
    {
     "name": "stderr",
     "output_type": "stream",
     "text": [
      " 72%|█████████████████████████████████████████████████████████████████████████████████████▉                                  | 179/250 [00:11<00:03, 18.54it/s]"
     ]
    },
    {
     "name": "stdout",
     "output_type": "stream",
     "text": [
      "--- Validation --- [threshold, AUC, Accuracy, F score] =  [np.float64(0.675), np.float64(0.972), np.float64(0.914), np.float64(0.931)]\n",
      "--- Training --- [threshold, AUC] =  [np.float64(0.76), np.float64(0.972)]\n",
      "--- Iteration 180: Training loss --- [Data, Label, Total] = [14712.426605.3, 300.793297.3, 73862.926322.3]\n",
      "!!! pred_type filter\n"
     ]
    },
    {
     "name": "stderr",
     "output_type": "stream",
     "text": [
      " 76%|███████████████████████████████████████████████████████████████████████████████████████████▏                            | 190/250 [00:12<00:03, 19.86it/s]"
     ]
    },
    {
     "name": "stdout",
     "output_type": "stream",
     "text": [
      "--- Validation --- [threshold, AUC, Accuracy, F score] =  [np.float64(0.76), np.float64(0.972), np.float64(0.904), np.float64(0.921)]\n",
      "--- Training --- [threshold, AUC] =  [np.float64(0.761), np.float64(0.972)]\n",
      "--- Iteration 190: Training loss --- [Data, Label, Total] = [14710.498708.3, 300.182456.3, 73852.675995.3]\n",
      "!!! pred_type filter\n"
     ]
    },
    {
     "name": "stderr",
     "output_type": "stream",
     "text": [
      " 78%|█████████████████████████████████████████████████████████████████████████████████████████████▌                          | 195/250 [00:12<00:03, 15.45it/s]"
     ]
    },
    {
     "name": "stdout",
     "output_type": "stream",
     "text": [
      "--- Validation --- [threshold, AUC, Accuracy, F score] =  [np.float64(0.761), np.float64(0.972), np.float64(0.904), np.float64(0.921)]\n",
      "--- Training --- [threshold, AUC] =  [np.float64(0.758), np.float64(0.972)]\n",
      "--- Iteration 200: Training loss --- [Data, Label, Total] = [14708.966270.3, 299.589382.3, 73844.420732.3]\n",
      "!!! pred_type filter\n"
     ]
    },
    {
     "name": "stderr",
     "output_type": "stream",
     "text": [
      " 84%|████████████████████████████████████████████████████████████████████████████████████████████████████▊                   | 210/250 [00:13<00:01, 21.35it/s]"
     ]
    },
    {
     "name": "stdout",
     "output_type": "stream",
     "text": [
      "--- Validation --- [threshold, AUC, Accuracy, F score] =  [np.float64(0.758), np.float64(0.972), np.float64(0.904), np.float64(0.921)]\n",
      "--- Training --- [threshold, AUC] =  [np.float64(0.691), np.float64(0.972)]\n",
      "--- Iteration 210: Training loss --- [Data, Label, Total] = [14707.740249.3, 299.003612.3, 73837.704858.3]\n",
      "!!! pred_type filter\n"
     ]
    },
    {
     "name": "stderr",
     "output_type": "stream",
     "text": [
      " 86%|███████████████████████████████████████████████████████████████████████████████████████████████████████▏                | 215/250 [00:13<00:02, 16.83it/s]"
     ]
    },
    {
     "name": "stdout",
     "output_type": "stream",
     "text": [
      "--- Validation --- [threshold, AUC, Accuracy, F score] =  [np.float64(0.691), np.float64(0.972), np.float64(0.913), np.float64(0.93)]\n",
      "--- Training --- [threshold, AUC] =  [np.float64(0.693), np.float64(0.972)]\n",
      "--- Iteration 220: Training loss --- [Data, Label, Total] = [14706.748687.3, 298.434590.3, 73832.178026.3]\n",
      "!!! pred_type filter\n"
     ]
    },
    {
     "name": "stderr",
     "output_type": "stream",
     "text": [
      " 92%|██████████████████████████████████████████████████████████████████████████████████████████████████████████████▍         | 230/250 [00:14<00:00, 22.09it/s]"
     ]
    },
    {
     "name": "stdout",
     "output_type": "stream",
     "text": [
      "--- Validation --- [threshold, AUC, Accuracy, F score] =  [np.float64(0.693), np.float64(0.972), np.float64(0.913), np.float64(0.93)]\n",
      "--- Training --- [threshold, AUC] =  [np.float64(0.743), np.float64(0.973)]\n",
      "--- Iteration 230: Training loss --- [Data, Label, Total] = [14705.933158.3, 297.892184.3, 73827.557976.3]\n",
      "!!! pred_type filter\n"
     ]
    },
    {
     "name": "stderr",
     "output_type": "stream",
     "text": [
      " 94%|████████████████████████████████████████████████████████████████████████████████████████████████████████████████▊       | 235/250 [00:15<00:00, 17.44it/s]"
     ]
    },
    {
     "name": "stdout",
     "output_type": "stream",
     "text": [
      "--- Validation --- [threshold, AUC, Accuracy, F score] =  [np.float64(0.743), np.float64(0.973), np.float64(0.908), np.float64(0.924)]\n",
      "--- Training --- [threshold, AUC] =  [np.float64(0.738), np.float64(0.973)]\n",
      "--- Iteration 240: Training loss --- [Data, Label, Total] = [14705.257106.3, 297.376456.3, 73823.661986.3]\n",
      "!!! pred_type filter\n"
     ]
    },
    {
     "name": "stderr",
     "output_type": "stream",
     "text": [
      "100%|████████████████████████████████████████████████████████████████████████████████████████████████████████████████████████| 250/250 [00:15<00:00, 15.92it/s]"
     ]
    },
    {
     "name": "stdout",
     "output_type": "stream",
     "text": [
      "--- Validation --- [threshold, AUC, Accuracy, F score] =  [np.float64(0.738), np.float64(0.973), np.float64(0.908), np.float64(0.925)]\n",
      "!!! pred_type filter\n"
     ]
    },
    {
     "name": "stderr",
     "output_type": "stream",
     "text": [
      "\n"
     ]
    },
    {
     "name": "stdout",
     "output_type": "stream",
     "text": [
      "num of subgraphs induced on k-paths: 500\n",
      "num of subgraphs induced on k-paths: 500\n",
      "X_list: (225, 1000)\n",
      "2\n",
      "(1, 500)\n",
      "(1, 500)\n",
      "label_vec: (1, 1000)\n",
      "('Caltech36', 'UCLA26') predicting Harvard1 0.845638803372221\n",
      "\n",
      "3: 0.8778558372677772\n",
      "4: 0.8449298516548318\n",
      "5: 0.8328589202034812\n",
      "6: 0.8810722135926942\n",
      "7: 0.8300352574962108\n",
      "8: 0.8341847021951587\n",
      "9: 0.8194475467039469\n",
      "10: 0.8129617372639039\n",
      "11: 0.845638803372221\n",
      "\n",
      "num of subgraphs induced on k-paths: 500\n",
      "num of subgraphs induced on k-paths: 500\n",
      "X_list: (225, 1000)\n",
      "2\n",
      "(1, 500)\n",
      "(1, 500)\n",
      "label_vec: (1, 1000)\n",
      "num of subgraphs induced on k-paths: 500\n",
      "num of subgraphs induced on k-paths: 888\n",
      "X_list: (225, 1388)\n",
      "2\n",
      "(1, 500)\n",
      "(1, 888)\n",
      "label_vec: (1, 1388)\n",
      "initial loading beta [[ 0.67954941 -0.44855556 -0.1092318   0.37653128 -0.2454409   0.94265894\n",
      "  -0.42674251  0.14888287  0.87339152 -0.40951849 -0.58174396 -0.5515532\n",
      "  -0.06920794]]\n"
     ]
    },
    {
     "name": "stderr",
     "output_type": "stream",
     "text": [
      "  0%|                                                                                                                                  | 0/250 [00:00<?, ?it/s]"
     ]
    },
    {
     "name": "stdout",
     "output_type": "stream",
     "text": [
      "--- Training --- [threshold, AUC] =  [np.float64(0.71), np.float64(0.954)]\n",
      "--- Iteration 0: Training loss --- [Data, Label, Total] = [27833.229001.3, 394.948997.3, 139561.094001.3]\n"
     ]
    },
    {
     "name": "stderr",
     "output_type": "stream",
     "text": [
      "  4%|████▊                                                                                                                    | 10/250 [00:00<00:05, 46.13it/s]"
     ]
    },
    {
     "name": "stdout",
     "output_type": "stream",
     "text": [
      "--- Training --- [threshold, AUC] =  [np.float64(0.773), np.float64(0.958)]\n",
      "--- Iteration 10: Training loss --- [Data, Label, Total] = [18767.252422.3, 374.332435.3, 94210.594547.3]\n",
      "!!! pred_type filter\n"
     ]
    },
    {
     "name": "stderr",
     "output_type": "stream",
     "text": [
      "  6%|███████▎                                                                                                                 | 15/250 [00:01<00:27,  8.59it/s]"
     ]
    },
    {
     "name": "stdout",
     "output_type": "stream",
     "text": [
      "--- Validation --- [threshold, AUC, Accuracy, F score] =  [np.float64(0.773), np.float64(0.958), np.float64(0.885), np.float64(0.904)]\n",
      "--- Training --- [threshold, AUC] =  [np.float64(0.736), np.float64(0.962)]\n",
      "--- Iteration 20: Training loss --- [Data, Label, Total] = [17074.152265.3, 360.116979.3, 85730.878301.3]\n",
      "!!! pred_type filter\n"
     ]
    },
    {
     "name": "stderr",
     "output_type": "stream",
     "text": [
      " 12%|██████████████                                                                                                           | 29/250 [00:02<00:21, 10.11it/s]"
     ]
    },
    {
     "name": "stdout",
     "output_type": "stream",
     "text": [
      "--- Validation --- [threshold, AUC, Accuracy, F score] =  [np.float64(0.736), np.float64(0.962), np.float64(0.894), np.float64(0.913)]\n",
      "--- Training --- [threshold, AUC] =  [np.float64(0.71), np.float64(0.962)]\n",
      "--- Iteration 30: Training loss --- [Data, Label, Total] = [16255.134563.3, 360.119681.3, 81635.792496.3]\n",
      "!!! pred_type filter\n"
     ]
    },
    {
     "name": "stderr",
     "output_type": "stream",
     "text": [
      " 13%|███████████████▉                                                                                                         | 33/250 [00:03<00:23,  9.13it/s]"
     ]
    },
    {
     "name": "stdout",
     "output_type": "stream",
     "text": [
      "--- Validation --- [threshold, AUC, Accuracy, F score] =  [np.float64(0.71), np.float64(0.962), np.float64(0.897), np.float64(0.917)]\n",
      "--- Training --- [threshold, AUC] =  [np.float64(0.714), np.float64(0.96)]\n",
      "--- Iteration 40: Training loss --- [Data, Label, Total] = [15864.881000.3, 364.708408.3, 79689.113408.3]\n",
      "!!! pred_type filter\n"
     ]
    },
    {
     "name": "stderr",
     "output_type": "stream",
     "text": [
      " 19%|███████████████████████▏                                                                                                 | 48/250 [00:04<00:14, 14.23it/s]"
     ]
    },
    {
     "name": "stdout",
     "output_type": "stream",
     "text": [
      "--- Validation --- [threshold, AUC, Accuracy, F score] =  [np.float64(0.714), np.float64(0.96), np.float64(0.898), np.float64(0.918)]\n",
      "--- Training --- [threshold, AUC] =  [np.float64(0.714), np.float64(0.959)]\n",
      "--- Iteration 50: Training loss --- [Data, Label, Total] = [15654.827268.3, 370.033294.3, 78644.169636.3]\n",
      "!!! pred_type filter\n"
     ]
    },
    {
     "name": "stderr",
     "output_type": "stream",
     "text": [
      " 24%|████████████████████████████▌                                                                                            | 59/250 [00:04<00:11, 16.11it/s]"
     ]
    },
    {
     "name": "stdout",
     "output_type": "stream",
     "text": [
      "--- Validation --- [threshold, AUC, Accuracy, F score] =  [np.float64(0.714), np.float64(0.959), np.float64(0.896), np.float64(0.916)]\n",
      "--- Training --- [threshold, AUC] =  [np.float64(0.687), np.float64(0.958)]\n",
      "--- Iteration 60: Training loss --- [Data, Label, Total] = [15504.012925.3, 374.408340.3, 77894.472967.3]\n",
      "!!! pred_type filter\n"
     ]
    },
    {
     "name": "stderr",
     "output_type": "stream",
     "text": [
      " 25%|██████████████████████████████▍                                                                                          | 63/250 [00:05<00:14, 12.66it/s]"
     ]
    },
    {
     "name": "stdout",
     "output_type": "stream",
     "text": [
      "--- Validation --- [threshold, AUC, Accuracy, F score] =  [np.float64(0.687), np.float64(0.958), np.float64(0.898), np.float64(0.918)]\n",
      "--- Training --- [threshold, AUC] =  [np.float64(0.7), np.float64(0.957)]\n",
      "--- Iteration 70: Training loss --- [Data, Label, Total] = [15366.822636.3, 377.380376.3, 77211.493558.3]\n",
      "!!! pred_type filter\n"
     ]
    },
    {
     "name": "stderr",
     "output_type": "stream",
     "text": [
      " 32%|██████████████████████████████████████▏                                                                                  | 79/250 [00:06<00:09, 18.27it/s]"
     ]
    },
    {
     "name": "stdout",
     "output_type": "stream",
     "text": [
      "--- Validation --- [threshold, AUC, Accuracy, F score] =  [np.float64(0.7), np.float64(0.957), np.float64(0.897), np.float64(0.917)]\n",
      "--- Training --- [threshold, AUC] =  [np.float64(0.709), np.float64(0.957)]\n",
      "--- Iteration 80: Training loss --- [Data, Label, Total] = [15219.281340.3, 379.177914.3, 76475.584615.3]\n",
      "!!! pred_type filter\n"
     ]
    },
    {
     "name": "stderr",
     "output_type": "stream",
     "text": [
      " 33%|████████████████████████████████████████▏                                                                                | 83/250 [00:06<00:11, 14.02it/s]"
     ]
    },
    {
     "name": "stdout",
     "output_type": "stream",
     "text": [
      "--- Validation --- [threshold, AUC, Accuracy, F score] =  [np.float64(0.709), np.float64(0.957), np.float64(0.897), np.float64(0.916)]\n",
      "--- Training --- [threshold, AUC] =  [np.float64(0.712), np.float64(0.957)]\n",
      "--- Iteration 90: Training loss --- [Data, Label, Total] = [15071.008524.3, 380.358111.3, 75735.400733.3]\n",
      "!!! pred_type filter\n"
     ]
    },
    {
     "name": "stderr",
     "output_type": "stream",
     "text": [
      " 39%|███████████████████████████████████████████████▍                                                                         | 98/250 [00:07<00:08, 18.32it/s]"
     ]
    },
    {
     "name": "stdout",
     "output_type": "stream",
     "text": [
      "--- Validation --- [threshold, AUC, Accuracy, F score] =  [np.float64(0.712), np.float64(0.957), np.float64(0.895), np.float64(0.914)]\n",
      "--- Training --- [threshold, AUC] =  [np.float64(0.697), np.float64(0.957)]\n",
      "--- Iteration 100: Training loss --- [Data, Label, Total] = [14954.826030.3, 381.225607.3, 75155.355756.3]\n",
      "!!! pred_type filter\n"
     ]
    },
    {
     "name": "stderr",
     "output_type": "stream",
     "text": [
      " 44%|████████████████████████████████████████████████████▎                                                                   | 109/250 [00:08<00:08, 17.09it/s]"
     ]
    },
    {
     "name": "stdout",
     "output_type": "stream",
     "text": [
      "--- Validation --- [threshold, AUC, Accuracy, F score] =  [np.float64(0.697), np.float64(0.957), np.float64(0.896), np.float64(0.916)]\n",
      "--- Training --- [threshold, AUC] =  [np.float64(0.68), np.float64(0.957)]\n",
      "--- Iteration 110: Training loss --- [Data, Label, Total] = [14881.698169.3, 381.390806.3, 74789.881654.3]\n",
      "!!! pred_type filter\n"
     ]
    },
    {
     "name": "stderr",
     "output_type": "stream",
     "text": [
      " 47%|████████████████████████████████████████████████████████▋                                                               | 118/250 [00:09<00:08, 15.84it/s]"
     ]
    },
    {
     "name": "stdout",
     "output_type": "stream",
     "text": [
      "--- Validation --- [threshold, AUC, Accuracy, F score] =  [np.float64(0.68), np.float64(0.957), np.float64(0.898), np.float64(0.917)]\n",
      "--- Training --- [threshold, AUC] =  [np.float64(0.722), np.float64(0.957)]\n",
      "--- Iteration 120: Training loss --- [Data, Label, Total] = [14839.062392.3, 380.919739.3, 74576.231697.3]\n",
      "!!! pred_type filter\n"
     ]
    },
    {
     "name": "stderr",
     "output_type": "stream",
     "text": [
      " 52%|█████████████████████████████████████████████████████████████▉                                                          | 129/250 [00:09<00:08, 14.66it/s]"
     ]
    },
    {
     "name": "stdout",
     "output_type": "stream",
     "text": [
      "--- Validation --- [threshold, AUC, Accuracy, F score] =  [np.float64(0.722), np.float64(0.957), np.float64(0.893), np.float64(0.913)]\n",
      "--- Training --- [threshold, AUC] =  [np.float64(0.76), np.float64(0.958)]\n",
      "--- Iteration 130: Training loss --- [Data, Label, Total] = [14811.035588.3, 379.463146.3, 74434.641088.3]\n",
      "!!! pred_type filter\n"
     ]
    },
    {
     "name": "stderr",
     "output_type": "stream",
     "text": [
      " 53%|███████████████████████████████████████████████████████████████▊                                                        | 133/250 [00:10<00:09, 12.24it/s]"
     ]
    },
    {
     "name": "stdout",
     "output_type": "stream",
     "text": [
      "--- Validation --- [threshold, AUC, Accuracy, F score] =  [np.float64(0.76), np.float64(0.958), np.float64(0.888), np.float64(0.908)]\n",
      "--- Training --- [threshold, AUC] =  [np.float64(0.747), np.float64(0.959)]\n",
      "--- Iteration 140: Training loss --- [Data, Label, Total] = [14789.841336.3, 377.164319.3, 74326.370997.3]\n",
      "!!! pred_type filter\n"
     ]
    },
    {
     "name": "stderr",
     "output_type": "stream",
     "text": [
      " 60%|███████████████████████████████████████████████████████████████████████▌                                                | 149/250 [00:11<00:05, 18.19it/s]"
     ]
    },
    {
     "name": "stdout",
     "output_type": "stream",
     "text": [
      "--- Validation --- [threshold, AUC, Accuracy, F score] =  [np.float64(0.747), np.float64(0.959), np.float64(0.891), np.float64(0.91)]\n",
      "--- Training --- [threshold, AUC] =  [np.float64(0.753), np.float64(0.96)]\n",
      "--- Iteration 150: Training loss --- [Data, Label, Total] = [14771.744413.3, 374.374110.3, 74233.096174.3]\n",
      "!!! pred_type filter\n"
     ]
    },
    {
     "name": "stderr",
     "output_type": "stream",
     "text": [
      " 61%|█████████████████████████████████████████████████████████████████████████▍                                              | 153/250 [00:11<00:06, 14.15it/s]"
     ]
    },
    {
     "name": "stdout",
     "output_type": "stream",
     "text": [
      "--- Validation --- [threshold, AUC, Accuracy, F score] =  [np.float64(0.753), np.float64(0.96), np.float64(0.89), np.float64(0.91)]\n",
      "--- Training --- [threshold, AUC] =  [np.float64(0.767), np.float64(0.961)]\n",
      "--- Iteration 160: Training loss --- [Data, Label, Total] = [14755.399894.3, 370.817063.3, 74147.816536.3]\n",
      "!!! pred_type filter\n"
     ]
    },
    {
     "name": "stderr",
     "output_type": "stream",
     "text": [
      " 68%|█████████████████████████████████████████████████████████████████████████████████                                       | 169/250 [00:12<00:04, 19.75it/s]"
     ]
    },
    {
     "name": "stdout",
     "output_type": "stream",
     "text": [
      "--- Validation --- [threshold, AUC, Accuracy, F score] =  [np.float64(0.767), np.float64(0.961), np.float64(0.891), np.float64(0.91)]\n",
      "--- Training --- [threshold, AUC] =  [np.float64(0.767), np.float64(0.962)]\n",
      "--- Iteration 170: Training loss --- [Data, Label, Total] = [14740.200239.3, 367.168449.3, 74068.169646.3]\n",
      "!!! pred_type filter\n"
     ]
    },
    {
     "name": "stderr",
     "output_type": "stream",
     "text": [
      " 70%|███████████████████████████████████████████████████████████████████████████████████▌                                    | 174/250 [00:12<00:04, 15.77it/s]"
     ]
    },
    {
     "name": "stdout",
     "output_type": "stream",
     "text": [
      "--- Validation --- [threshold, AUC, Accuracy, F score] =  [np.float64(0.767), np.float64(0.962), np.float64(0.892), np.float64(0.911)]\n",
      "--- Training --- [threshold, AUC] =  [np.float64(0.677), np.float64(0.963)]\n",
      "--- Iteration 180: Training loss --- [Data, Label, Total] = [14726.076382.3, 363.600182.3, 73993.982092.3]\n",
      "!!! pred_type filter\n"
     ]
    },
    {
     "name": "stderr",
     "output_type": "stream",
     "text": [
      " 76%|██████████████████████████████████████████████████████████████████████████████████████████▋                             | 189/250 [00:13<00:03, 20.19it/s]"
     ]
    },
    {
     "name": "stdout",
     "output_type": "stream",
     "text": [
      "--- Validation --- [threshold, AUC, Accuracy, F score] =  [np.float64(0.677), np.float64(0.963), np.float64(0.904), np.float64(0.923)]\n",
      "--- Training --- [threshold, AUC] =  [np.float64(0.673), np.float64(0.964)]\n",
      "--- Iteration 190: Training loss --- [Data, Label, Total] = [14713.272475.3, 360.301521.3, 73926.663895.3]\n",
      "!!! pred_type filter\n"
     ]
    },
    {
     "name": "stderr",
     "output_type": "stream",
     "text": [
      " 80%|████████████████████████████████████████████████████████████████████████████████████████████████                        | 200/250 [00:14<00:02, 19.69it/s]"
     ]
    },
    {
     "name": "stdout",
     "output_type": "stream",
     "text": [
      "--- Validation --- [threshold, AUC, Accuracy, F score] =  [np.float64(0.673), np.float64(0.964), np.float64(0.907), np.float64(0.926)]\n",
      "--- Training --- [threshold, AUC] =  [np.float64(0.679), np.float64(0.965)]\n",
      "--- Iteration 200: Training loss --- [Data, Label, Total] = [14701.992042.3, 357.348942.3, 73867.309155.3]\n",
      "!!! pred_type filter\n"
     ]
    },
    {
     "name": "stderr",
     "output_type": "stream",
     "text": [
      " 82%|█████████████████████████████████████████████████████████████████████████████████████████████████▉                      | 204/250 [00:15<00:03, 11.71it/s]"
     ]
    },
    {
     "name": "stdout",
     "output_type": "stream",
     "text": [
      "--- Validation --- [threshold, AUC, Accuracy, F score] =  [np.float64(0.679), np.float64(0.965), np.float64(0.908), np.float64(0.926)]\n",
      "--- Training --- [threshold, AUC] =  [np.float64(0.664), np.float64(0.965)]\n",
      "--- Iteration 210: Training loss --- [Data, Label, Total] = [14692.153874.3, 354.754487.3, 73815.523855.3]\n",
      "!!! pred_type filter\n"
     ]
    },
    {
     "name": "stderr",
     "output_type": "stream",
     "text": [
      " 88%|█████████████████████████████████████████████████████████████████████████████████████████████████████████               | 219/250 [00:15<00:01, 17.27it/s]"
     ]
    },
    {
     "name": "stdout",
     "output_type": "stream",
     "text": [
      "--- Validation --- [threshold, AUC, Accuracy, F score] =  [np.float64(0.664), np.float64(0.965), np.float64(0.911), np.float64(0.929)]\n",
      "--- Training --- [threshold, AUC] =  [np.float64(0.716), np.float64(0.966)]\n",
      "--- Iteration 220: Training loss --- [Data, Label, Total] = [14683.607314.3, 352.579186.3, 73770.615755.3]\n",
      "!!! pred_type filter\n"
     ]
    },
    {
     "name": "stderr",
     "output_type": "stream",
     "text": [
      " 89%|███████████████████████████████████████████████████████████████████████████████████████████████████████████             | 223/250 [00:16<00:01, 13.66it/s]"
     ]
    },
    {
     "name": "stdout",
     "output_type": "stream",
     "text": [
      "--- Validation --- [threshold, AUC, Accuracy, F score] =  [np.float64(0.716), np.float64(0.966), np.float64(0.906), np.float64(0.924)]\n",
      "--- Training --- [threshold, AUC] =  [np.float64(0.679), np.float64(0.966)]\n",
      "--- Iteration 230: Training loss --- [Data, Label, Total] = [14676.181161.3, 350.789780.3, 73731.695587.3]\n",
      "!!! pred_type filter\n"
     ]
    },
    {
     "name": "stderr",
     "output_type": "stream",
     "text": [
      " 95%|██████████████████████████████████████████████████████████████████████████████████████████████████████████████████▏     | 238/250 [00:17<00:00, 15.24it/s]"
     ]
    },
    {
     "name": "stdout",
     "output_type": "stream",
     "text": [
      "--- Validation --- [threshold, AUC, Accuracy, F score] =  [np.float64(0.679), np.float64(0.966), np.float64(0.911), np.float64(0.929)]\n",
      "--- Training --- [threshold, AUC] =  [np.float64(0.68), np.float64(0.967)]\n",
      "--- Iteration 240: Training loss --- [Data, Label, Total] = [14669.679330.3, 349.246332.3, 73697.642981.3]\n",
      "!!! pred_type filter\n"
     ]
    },
    {
     "name": "stderr",
     "output_type": "stream",
     "text": [
      "100%|████████████████████████████████████████████████████████████████████████████████████████████████████████████████████████| 250/250 [00:17<00:00, 13.94it/s]"
     ]
    },
    {
     "name": "stdout",
     "output_type": "stream",
     "text": [
      "--- Validation --- [threshold, AUC, Accuracy, F score] =  [np.float64(0.68), np.float64(0.967), np.float64(0.911), np.float64(0.929)]\n",
      "!!! pred_type filter\n"
     ]
    },
    {
     "name": "stderr",
     "output_type": "stream",
     "text": [
      "\n"
     ]
    },
    {
     "name": "stdout",
     "output_type": "stream",
     "text": [
      "num of subgraphs induced on k-paths: 500\n",
      "num of subgraphs induced on k-paths: 500\n",
      "X_list: (225, 1000)\n",
      "2\n",
      "(1, 500)\n",
      "(1, 500)\n",
      "label_vec: (1, 1000)\n",
      "('Caltech36', 'UCLA26') predicting Harvard1 0.8369670343428398\n",
      "\n",
      "3: 0.8778558372677772\n",
      "4: 0.8449298516548318\n",
      "5: 0.8328589202034812\n",
      "6: 0.8810722135926942\n",
      "7: 0.8300352574962108\n",
      "8: 0.8341847021951587\n",
      "9: 0.8194475467039469\n",
      "10: 0.8129617372639039\n",
      "11: 0.845638803372221\n",
      "12: 0.8369670343428398\n",
      "\n",
      "num of subgraphs induced on k-paths: 500\n",
      "num of subgraphs induced on k-paths: 500\n",
      "X_list: (225, 1000)\n",
      "2\n",
      "(1, 500)\n",
      "(1, 500)\n",
      "label_vec: (1, 1000)\n",
      "num of subgraphs induced on k-paths: 500\n",
      "num of subgraphs induced on k-paths: 850\n",
      "X_list: (225, 1350)\n",
      "2\n",
      "(1, 500)\n",
      "(1, 850)\n",
      "label_vec: (1, 1350)\n",
      "initial loading beta [[ 5.33945176e-01 -4.44288421e-01 -7.53603535e-01  2.68811163e-02\n",
      "  -7.77882338e-04  1.85321244e-01 -5.63940756e-01  6.19056389e-01\n",
      "   7.33369046e-01  2.01649265e-01  4.60810868e-01 -9.97617620e-01\n",
      "  -8.60132863e-01 -9.50073641e-01]]\n"
     ]
    },
    {
     "name": "stderr",
     "output_type": "stream",
     "text": [
      "  3%|███▍                                                                                                                      | 7/250 [00:00<00:03, 68.88it/s]"
     ]
    },
    {
     "name": "stdout",
     "output_type": "stream",
     "text": [
      "--- Training --- [threshold, AUC] =  [np.float64(0.651), np.float64(0.957)]\n",
      "--- Iteration 0: Training loss --- [Data, Label, Total] = [27543.876206.3, 379.857366.3, 138099.238398.3]\n",
      "--- Training --- [threshold, AUC] =  [np.float64(0.75), np.float64(0.964)]\n",
      "--- Iteration 10: Training loss --- [Data, Label, Total] = [18211.779511.3, 343.642572.3, 91402.540128.3]\n",
      "!!! pred_type filter\n"
     ]
    },
    {
     "name": "stderr",
     "output_type": "stream",
     "text": [
      "  6%|██████▊                                                                                                                  | 14/250 [00:00<00:15, 15.71it/s]"
     ]
    },
    {
     "name": "stdout",
     "output_type": "stream",
     "text": [
      "--- Validation --- [threshold, AUC, Accuracy, F score] =  [np.float64(0.75), np.float64(0.964), np.float64(0.897), np.float64(0.914)]\n",
      "--- Training --- [threshold, AUC] =  [np.float64(0.644), np.float64(0.965)]\n",
      "--- Iteration 20: Training loss --- [Data, Label, Total] = [16478.511361.3, 340.647953.3, 82733.204757.3]\n",
      "!!! pred_type filter\n"
     ]
    },
    {
     "name": "stderr",
     "output_type": "stream",
     "text": [
      " 11%|█████████████▌                                                                                                           | 28/250 [00:01<00:12, 18.39it/s]"
     ]
    },
    {
     "name": "stdout",
     "output_type": "stream",
     "text": [
      "--- Validation --- [threshold, AUC, Accuracy, F score] =  [np.float64(0.644), np.float64(0.965), np.float64(0.911), np.float64(0.928)]\n",
      "--- Training --- [threshold, AUC] =  [np.float64(0.732), np.float64(0.965)]\n",
      "--- Iteration 30: Training loss --- [Data, Label, Total] = [15669.744070.3, 341.697922.3, 78690.418273.3]\n",
      "!!! pred_type filter\n"
     ]
    },
    {
     "name": "stderr",
     "output_type": "stream",
     "text": [
      " 16%|███████████████████▎                                                                                                     | 40/250 [00:02<00:11, 18.55it/s]"
     ]
    },
    {
     "name": "stdout",
     "output_type": "stream",
     "text": [
      "--- Validation --- [threshold, AUC, Accuracy, F score] =  [np.float64(0.732), np.float64(0.965), np.float64(0.902), np.float64(0.919)]\n",
      "--- Training --- [threshold, AUC] =  [np.float64(0.67), np.float64(0.964)]\n",
      "--- Iteration 40: Training loss --- [Data, Label, Total] = [15296.891296.3, 343.927916.3, 76828.384394.3]\n",
      "!!! pred_type filter\n"
     ]
    },
    {
     "name": "stderr",
     "output_type": "stream",
     "text": [
      " 18%|█████████████████████▊                                                                                                   | 45/250 [00:03<00:15, 13.09it/s]"
     ]
    },
    {
     "name": "stdout",
     "output_type": "stream",
     "text": [
      "--- Validation --- [threshold, AUC, Accuracy, F score] =  [np.float64(0.67), np.float64(0.964), np.float64(0.907), np.float64(0.924)]\n",
      "--- Training --- [threshold, AUC] =  [np.float64(0.656), np.float64(0.964)]\n",
      "--- Iteration 50: Training loss --- [Data, Label, Total] = [15086.914596.3, 346.374465.3, 75780.947444.3]\n",
      "!!! pred_type filter\n"
     ]
    },
    {
     "name": "stderr",
     "output_type": "stream",
     "text": [
      " 24%|█████████████████████████████                                                                                            | 60/250 [00:03<00:10, 17.33it/s]"
     ]
    },
    {
     "name": "stdout",
     "output_type": "stream",
     "text": [
      "--- Validation --- [threshold, AUC, Accuracy, F score] =  [np.float64(0.656), np.float64(0.964), np.float64(0.908), np.float64(0.926)]\n",
      "--- Training --- [threshold, AUC] =  [np.float64(0.659), np.float64(0.964)]\n",
      "--- Iteration 60: Training loss --- [Data, Label, Total] = [14941.421902.3, 348.575811.3, 75055.685323.3]\n",
      "!!! pred_type filter\n"
     ]
    },
    {
     "name": "stderr",
     "output_type": "stream",
     "text": [
      " 26%|███████████████████████████████▍                                                                                         | 65/250 [00:04<00:13, 13.38it/s]"
     ]
    },
    {
     "name": "stdout",
     "output_type": "stream",
     "text": [
      "--- Validation --- [threshold, AUC, Accuracy, F score] =  [np.float64(0.659), np.float64(0.964), np.float64(0.907), np.float64(0.924)]\n",
      "--- Training --- [threshold, AUC] =  [np.float64(0.668), np.float64(0.963)]\n",
      "--- Iteration 70: Training loss --- [Data, Label, Total] = [14821.953746.3, 350.064700.3, 74459.833431.3]\n",
      "!!! pred_type filter\n"
     ]
    },
    {
     "name": "stderr",
     "output_type": "stream",
     "text": [
      " 32%|██████████████████████████████████████▏                                                                                  | 79/250 [00:05<00:10, 16.67it/s]"
     ]
    },
    {
     "name": "stdout",
     "output_type": "stream",
     "text": [
      "--- Validation --- [threshold, AUC, Accuracy, F score] =  [np.float64(0.668), np.float64(0.963), np.float64(0.907), np.float64(0.924)]\n",
      "--- Training --- [threshold, AUC] =  [np.float64(0.671), np.float64(0.963)]\n",
      "--- Iteration 80: Training loss --- [Data, Label, Total] = [14711.140057.3, 350.594520.3, 73906.294804.3]\n",
      "!!! pred_type filter\n"
     ]
    },
    {
     "name": "stderr",
     "output_type": "stream",
     "text": [
      " 33%|████████████████████████████████████████▏                                                                                | 83/250 [00:05<00:13, 12.23it/s]"
     ]
    },
    {
     "name": "stdout",
     "output_type": "stream",
     "text": [
      "--- Validation --- [threshold, AUC, Accuracy, F score] =  [np.float64(0.671), np.float64(0.963), np.float64(0.907), np.float64(0.925)]\n",
      "--- Training --- [threshold, AUC] =  [np.float64(0.654), np.float64(0.964)]\n",
      "--- Iteration 90: Training loss --- [Data, Label, Total] = [14604.953731.3, 351.073461.3, 73375.842116.3]\n",
      "!!! pred_type filter\n"
     ]
    },
    {
     "name": "stderr",
     "output_type": "stream",
     "text": [
      " 39%|███████████████████████████████████████████████▍                                                                         | 98/250 [00:06<00:09, 16.52it/s]"
     ]
    },
    {
     "name": "stdout",
     "output_type": "stream",
     "text": [
      "--- Validation --- [threshold, AUC, Accuracy, F score] =  [np.float64(0.654), np.float64(0.964), np.float64(0.91), np.float64(0.928)]\n",
      "--- Training --- [threshold, AUC] =  [np.float64(0.689), np.float64(0.964)]\n",
      "--- Iteration 100: Training loss --- [Data, Label, Total] = [14501.035580.3, 350.931246.3, 72856.109145.3]\n",
      "!!! pred_type filter\n"
     ]
    },
    {
     "name": "stderr",
     "output_type": "stream",
     "text": [
      " 44%|████████████████████████████████████████████████████▎                                                                   | 109/250 [00:07<00:07, 17.92it/s]"
     ]
    },
    {
     "name": "stdout",
     "output_type": "stream",
     "text": [
      "--- Validation --- [threshold, AUC, Accuracy, F score] =  [np.float64(0.689), np.float64(0.964), np.float64(0.907), np.float64(0.923)]\n",
      "--- Training --- [threshold, AUC] =  [np.float64(0.681), np.float64(0.964)]\n",
      "--- Iteration 110: Training loss --- [Data, Label, Total] = [14401.497461.3, 350.473858.3, 72357.961165.3]\n",
      "!!! pred_type filter\n"
     ]
    },
    {
     "name": "stderr",
     "output_type": "stream",
     "text": [
      " 46%|██████████████████████████████████████████████████████▋                                                                 | 114/250 [00:07<00:09, 14.00it/s]"
     ]
    },
    {
     "name": "stdout",
     "output_type": "stream",
     "text": [
      "--- Validation --- [threshold, AUC, Accuracy, F score] =  [np.float64(0.681), np.float64(0.964), np.float64(0.91), np.float64(0.927)]\n",
      "--- Training --- [threshold, AUC] =  [np.float64(0.678), np.float64(0.964)]\n",
      "--- Iteration 120: Training loss --- [Data, Label, Total] = [14310.652970.3, 349.907044.3, 71903.171894.3]\n",
      "!!! pred_type filter\n"
     ]
    },
    {
     "name": "stderr",
     "output_type": "stream",
     "text": [
      " 52%|█████████████████████████████████████████████████████████████▉                                                          | 129/250 [00:08<00:06, 18.65it/s]"
     ]
    },
    {
     "name": "stdout",
     "output_type": "stream",
     "text": [
      "--- Validation --- [threshold, AUC, Accuracy, F score] =  [np.float64(0.678), np.float64(0.964), np.float64(0.913), np.float64(0.929)]\n",
      "--- Training --- [threshold, AUC] =  [np.float64(0.68), np.float64(0.964)]\n",
      "--- Iteration 130: Training loss --- [Data, Label, Total] = [14232.097706.3, 349.313806.3, 71509.802335.3]\n",
      "!!! pred_type filter\n"
     ]
    },
    {
     "name": "stderr",
     "output_type": "stream",
     "text": [
      " 53%|███████████████████████████████████████████████████████████████▊                                                        | 133/250 [00:09<00:08, 14.16it/s]"
     ]
    },
    {
     "name": "stdout",
     "output_type": "stream",
     "text": [
      "--- Validation --- [threshold, AUC, Accuracy, F score] =  [np.float64(0.68), np.float64(0.964), np.float64(0.913), np.float64(0.929)]\n",
      "--- Training --- [threshold, AUC] =  [np.float64(0.688), np.float64(0.965)]\n",
      "--- Iteration 140: Training loss --- [Data, Label, Total] = [14166.717975.3, 348.573392.3, 71182.163267.3]\n",
      "!!! pred_type filter\n"
     ]
    },
    {
     "name": "stderr",
     "output_type": "stream",
     "text": [
      " 60%|███████████████████████████████████████████████████████████████████████▌                                                | 149/250 [00:09<00:05, 19.26it/s]"
     ]
    },
    {
     "name": "stdout",
     "output_type": "stream",
     "text": [
      "--- Validation --- [threshold, AUC, Accuracy, F score] =  [np.float64(0.688), np.float64(0.965), np.float64(0.911), np.float64(0.927)]\n",
      "--- Training --- [threshold, AUC] =  [np.float64(0.687), np.float64(0.965)]\n",
      "--- Iteration 150: Training loss --- [Data, Label, Total] = [14115.077053.3, 347.879512.3, 70923.264776.3]\n",
      "!!! pred_type filter\n"
     ]
    },
    {
     "name": "stderr",
     "output_type": "stream",
     "text": [
      " 61%|█████████████████████████████████████████████████████████████████████████▍                                              | 153/250 [00:10<00:06, 14.29it/s]"
     ]
    },
    {
     "name": "stdout",
     "output_type": "stream",
     "text": [
      "--- Validation --- [threshold, AUC, Accuracy, F score] =  [np.float64(0.687), np.float64(0.965), np.float64(0.913), np.float64(0.929)]\n",
      "--- Training --- [threshold, AUC] =  [np.float64(0.685), np.float64(0.965)]\n",
      "--- Iteration 160: Training loss --- [Data, Label, Total] = [14079.063289.3, 347.122828.3, 70742.439273.3]\n",
      "!!! pred_type filter\n"
     ]
    },
    {
     "name": "stderr",
     "output_type": "stream",
     "text": [
      " 68%|█████████████████████████████████████████████████████████████████████████████████                                       | 169/250 [00:11<00:04, 19.31it/s]"
     ]
    },
    {
     "name": "stdout",
     "output_type": "stream",
     "text": [
      "--- Validation --- [threshold, AUC, Accuracy, F score] =  [np.float64(0.685), np.float64(0.965), np.float64(0.915), np.float64(0.93)]\n",
      "--- Training --- [threshold, AUC] =  [np.float64(0.686), np.float64(0.965)]\n",
      "--- Iteration 170: Training loss --- [Data, Label, Total] = [14053.150092.3, 346.147057.3, 70611.897516.3]\n",
      "!!! pred_type filter\n"
     ]
    },
    {
     "name": "stderr",
     "output_type": "stream",
     "text": [
      " 72%|██████████████████████████████████████████████████████████████████████████████████████▍                                 | 180/250 [00:11<00:03, 18.86it/s]"
     ]
    },
    {
     "name": "stdout",
     "output_type": "stream",
     "text": [
      "--- Validation --- [threshold, AUC, Accuracy, F score] =  [np.float64(0.686), np.float64(0.965), np.float64(0.915), np.float64(0.93)]\n",
      "--- Training --- [threshold, AUC] =  [np.float64(0.688), np.float64(0.966)]\n",
      "--- Iteration 180: Training loss --- [Data, Label, Total] = [14033.687035.3, 345.035415.3, 70513.470590.3]\n",
      "!!! pred_type filter\n"
     ]
    },
    {
     "name": "stderr",
     "output_type": "stream",
     "text": [
      " 74%|████████████████████████████████████████████████████████████████████████████████████████▎                               | 184/250 [00:12<00:04, 13.28it/s]"
     ]
    },
    {
     "name": "stdout",
     "output_type": "stream",
     "text": [
      "--- Validation --- [threshold, AUC, Accuracy, F score] =  [np.float64(0.688), np.float64(0.966), np.float64(0.915), np.float64(0.93)]\n",
      "--- Training --- [threshold, AUC] =  [np.float64(0.684), np.float64(0.966)]\n",
      "--- Iteration 190: Training loss --- [Data, Label, Total] = [14019.000644.3, 343.956535.3, 70438.959754.3]\n",
      "!!! pred_type filter\n"
     ]
    },
    {
     "name": "stderr",
     "output_type": "stream",
     "text": [
      " 80%|████████████████████████████████████████████████████████████████████████████████████████████████                        | 200/250 [00:13<00:02, 19.24it/s]"
     ]
    },
    {
     "name": "stdout",
     "output_type": "stream",
     "text": [
      "--- Validation --- [threshold, AUC, Accuracy, F score] =  [np.float64(0.684), np.float64(0.966), np.float64(0.915), np.float64(0.93)]\n",
      "--- Training --- [threshold, AUC] =  [np.float64(0.676), np.float64(0.966)]\n",
      "--- Iteration 200: Training loss --- [Data, Label, Total] = [14007.850278.3, 343.165756.3, 70382.417148.3]\n",
      "!!! pred_type filter\n"
     ]
    },
    {
     "name": "stderr",
     "output_type": "stream",
     "text": [
      " 82%|██████████████████████████████████████████████████████████████████████████████████████████████████▍                     | 205/250 [00:13<00:02, 15.24it/s]"
     ]
    },
    {
     "name": "stdout",
     "output_type": "stream",
     "text": [
      "--- Validation --- [threshold, AUC, Accuracy, F score] =  [np.float64(0.676), np.float64(0.966), np.float64(0.916), np.float64(0.932)]\n",
      "--- Training --- [threshold, AUC] =  [np.float64(0.681), np.float64(0.966)]\n",
      "--- Iteration 210: Training loss --- [Data, Label, Total] = [13999.368006.3, 342.283374.3, 70339.123402.3]\n",
      "!!! pred_type filter\n"
     ]
    },
    {
     "name": "stderr",
     "output_type": "stream",
     "text": [
      " 88%|█████████████████████████████████████████████████████████████████████████████████████████████████████████               | 219/250 [00:14<00:01, 19.19it/s]"
     ]
    },
    {
     "name": "stdout",
     "output_type": "stream",
     "text": [
      "--- Validation --- [threshold, AUC, Accuracy, F score] =  [np.float64(0.681), np.float64(0.966), np.float64(0.916), np.float64(0.931)]\n",
      "--- Training --- [threshold, AUC] =  [np.float64(0.688), np.float64(0.966)]\n",
      "--- Iteration 220: Training loss --- [Data, Label, Total] = [13992.910345.3, 341.228080.3, 70305.779806.3]\n",
      "!!! pred_type filter\n"
     ]
    },
    {
     "name": "stderr",
     "output_type": "stream",
     "text": [
      " 89%|███████████████████████████████████████████████████████████████████████████████████████████████████████████             | 223/250 [00:14<00:01, 14.74it/s]"
     ]
    },
    {
     "name": "stdout",
     "output_type": "stream",
     "text": [
      "--- Validation --- [threshold, AUC, Accuracy, F score] =  [np.float64(0.688), np.float64(0.966), np.float64(0.914), np.float64(0.93)]\n",
      "--- Training --- [threshold, AUC] =  [np.float64(0.697), np.float64(0.967)]\n",
      "--- Iteration 230: Training loss --- [Data, Label, Total] = [13987.988422.3, 340.556752.3, 70280.498863.3]\n",
      "!!! pred_type filter\n"
     ]
    },
    {
     "name": "stderr",
     "output_type": "stream",
     "text": [
      " 96%|██████████████████████████████████████████████████████████████████████████████████████████████████████████████████▋     | 239/250 [00:15<00:00, 19.88it/s]"
     ]
    },
    {
     "name": "stdout",
     "output_type": "stream",
     "text": [
      "--- Validation --- [threshold, AUC, Accuracy, F score] =  [np.float64(0.697), np.float64(0.967), np.float64(0.913), np.float64(0.928)]\n",
      "--- Training --- [threshold, AUC] =  [np.float64(0.697), np.float64(0.967)]\n",
      "--- Iteration 240: Training loss --- [Data, Label, Total] = [13984.214630.3, 339.837860.3, 70260.911013.3]\n",
      "!!! pred_type filter\n"
     ]
    },
    {
     "name": "stderr",
     "output_type": "stream",
     "text": [
      "100%|████████████████████████████████████████████████████████████████████████████████████████████████████████████████████████| 250/250 [00:16<00:00, 15.43it/s]"
     ]
    },
    {
     "name": "stdout",
     "output_type": "stream",
     "text": [
      "--- Validation --- [threshold, AUC, Accuracy, F score] =  [np.float64(0.697), np.float64(0.967), np.float64(0.913), np.float64(0.928)]\n",
      "!!! pred_type filter\n"
     ]
    },
    {
     "name": "stderr",
     "output_type": "stream",
     "text": [
      "\n"
     ]
    },
    {
     "name": "stdout",
     "output_type": "stream",
     "text": [
      "num of subgraphs induced on k-paths: 500\n",
      "num of subgraphs induced on k-paths: 500\n",
      "X_list: (225, 1000)\n",
      "2\n",
      "(1, 500)\n",
      "(1, 500)\n",
      "label_vec: (1, 1000)\n",
      "('Caltech36', 'UCLA26') predicting Harvard1 0.8623456412356946\n",
      "\n",
      "3: 0.8778558372677772\n",
      "4: 0.8449298516548318\n",
      "5: 0.8328589202034812\n",
      "6: 0.8810722135926942\n",
      "7: 0.8300352574962108\n",
      "8: 0.8341847021951587\n",
      "9: 0.8194475467039469\n",
      "10: 0.8129617372639039\n",
      "11: 0.845638803372221\n",
      "12: 0.8369670343428398\n",
      "13: 0.8623456412356946\n",
      "\n",
      "num of subgraphs induced on k-paths: 500\n",
      "num of subgraphs induced on k-paths: 500\n",
      "X_list: (225, 1000)\n",
      "2\n",
      "(1, 500)\n",
      "(1, 500)\n",
      "label_vec: (1, 1000)\n",
      "num of subgraphs induced on k-paths: 500\n",
      "num of subgraphs induced on k-paths: 866\n",
      "X_list: (225, 1366)\n",
      "2\n",
      "(1, 500)\n",
      "(1, 866)\n",
      "label_vec: (1, 1366)\n",
      "initial loading beta [[-0.37069786  0.34776383  0.21973113  0.89695217  0.70034755  0.48816155\n",
      "  -0.93597965  0.84685997  0.54624617  0.66486933  0.79470701  0.54755924\n",
      "  -0.36966009 -0.63186581  0.63956531]]\n"
     ]
    },
    {
     "name": "stderr",
     "output_type": "stream",
     "text": [
      "  3%|███▍                                                                                                                      | 7/250 [00:00<00:03, 67.21it/s]"
     ]
    },
    {
     "name": "stdout",
     "output_type": "stream",
     "text": [
      "--- Training --- [threshold, AUC] =  [np.float64(0.761), np.float64(0.96)]\n",
      "--- Iteration 0: Training loss --- [Data, Label, Total] = [28561.798384.3, 362.084291.3, 143171.076210.3]\n",
      "--- Training --- [threshold, AUC] =  [np.float64(0.72), np.float64(0.965)]\n",
      "--- Iteration 10: Training loss --- [Data, Label, Total] = [18057.358292.3, 335.257825.3, 90622.049286.3]\n",
      "!!! pred_type filter\n"
     ]
    },
    {
     "name": "stderr",
     "output_type": "stream",
     "text": [
      "  6%|██████▊                                                                                                                  | 14/250 [00:00<00:15, 15.61it/s]"
     ]
    },
    {
     "name": "stdout",
     "output_type": "stream",
     "text": [
      "--- Validation --- [threshold, AUC, Accuracy, F score] =  [np.float64(0.72), np.float64(0.965), np.float64(0.902), np.float64(0.919)]\n",
      "--- Training --- [threshold, AUC] =  [np.float64(0.65), np.float64(0.967)]\n",
      "--- Iteration 20: Training loss --- [Data, Label, Total] = [15997.047524.3, 325.476307.3, 80310.713926.3]\n",
      "!!! pred_type filter\n"
     ]
    },
    {
     "name": "stderr",
     "output_type": "stream",
     "text": [
      " 12%|██████████████                                                                                                           | 29/250 [00:01<00:10, 20.33it/s]"
     ]
    },
    {
     "name": "stdout",
     "output_type": "stream",
     "text": [
      "--- Validation --- [threshold, AUC, Accuracy, F score] =  [np.float64(0.65), np.float64(0.967), np.float64(0.917), np.float64(0.934)]\n",
      "--- Training --- [threshold, AUC] =  [np.float64(0.675), np.float64(0.967)]\n",
      "--- Iteration 30: Training loss --- [Data, Label, Total] = [14730.375530.3, 325.745347.3, 73977.622998.3]\n",
      "!!! pred_type filter\n"
     ]
    },
    {
     "name": "stderr",
     "output_type": "stream",
     "text": [
      " 14%|████████████████▍                                                                                                        | 34/250 [00:02<00:14, 14.91it/s]"
     ]
    },
    {
     "name": "stdout",
     "output_type": "stream",
     "text": [
      "--- Validation --- [threshold, AUC, Accuracy, F score] =  [np.float64(0.675), np.float64(0.967), np.float64(0.915), np.float64(0.931)]\n",
      "--- Training --- [threshold, AUC] =  [np.float64(0.679), np.float64(0.967)]\n",
      "--- Iteration 40: Training loss --- [Data, Label, Total] = [14200.109267.3, 327.523014.3, 71328.069349.3]\n",
      "!!! pred_type filter\n"
     ]
    },
    {
     "name": "stderr",
     "output_type": "stream",
     "text": [
      " 20%|███████████████████████▋                                                                                                 | 49/250 [00:02<00:10, 19.28it/s]"
     ]
    },
    {
     "name": "stdout",
     "output_type": "stream",
     "text": [
      "--- Validation --- [threshold, AUC, Accuracy, F score] =  [np.float64(0.679), np.float64(0.967), np.float64(0.914), np.float64(0.93)]\n",
      "--- Training --- [threshold, AUC] =  [np.float64(0.678), np.float64(0.966)]\n",
      "--- Iteration 50: Training loss --- [Data, Label, Total] = [13986.619442.3, 330.218826.3, 70263.316035.3]\n",
      "!!! pred_type filter\n"
     ]
    },
    {
     "name": "stderr",
     "output_type": "stream",
     "text": [
      " 21%|█████████████████████████▋                                                                                               | 53/250 [00:03<00:13, 14.09it/s]"
     ]
    },
    {
     "name": "stdout",
     "output_type": "stream",
     "text": [
      "--- Validation --- [threshold, AUC, Accuracy, F score] =  [np.float64(0.678), np.float64(0.966), np.float64(0.914), np.float64(0.93)]\n",
      "--- Training --- [threshold, AUC] =  [np.float64(0.688), np.float64(0.966)]\n",
      "--- Iteration 60: Training loss --- [Data, Label, Total] = [13891.905742.3, 333.256898.3, 69792.785609.3]\n",
      "!!! pred_type filter\n"
     ]
    },
    {
     "name": "stderr",
     "output_type": "stream",
     "text": [
      " 28%|█████████████████████████████████▍                                                                                       | 69/250 [00:04<00:09, 18.98it/s]"
     ]
    },
    {
     "name": "stdout",
     "output_type": "stream",
     "text": [
      "--- Validation --- [threshold, AUC, Accuracy, F score] =  [np.float64(0.688), np.float64(0.966), np.float64(0.908), np.float64(0.925)]\n",
      "--- Training --- [threshold, AUC] =  [np.float64(0.645), np.float64(0.965)]\n",
      "--- Iteration 70: Training loss --- [Data, Label, Total] = [13844.069160.3, 336.531273.3, 69556.877072.3]\n",
      "!!! pred_type filter\n"
     ]
    },
    {
     "name": "stderr",
     "output_type": "stream",
     "text": [
      " 32%|██████████████████████████████████████▋                                                                                  | 80/250 [00:04<00:09, 18.73it/s]"
     ]
    },
    {
     "name": "stdout",
     "output_type": "stream",
     "text": [
      "--- Validation --- [threshold, AUC, Accuracy, F score] =  [np.float64(0.645), np.float64(0.965), np.float64(0.911), np.float64(0.928)]\n",
      "--- Training --- [threshold, AUC] =  [np.float64(0.736), np.float64(0.964)]\n",
      "--- Iteration 80: Training loss --- [Data, Label, Total] = [13817.425137.3, 339.739754.3, 69426.865437.3]\n",
      "!!! pred_type filter\n"
     ]
    },
    {
     "name": "stderr",
     "output_type": "stream",
     "text": [
      " 34%|████████████████████████████████████████▋                                                                                | 84/250 [00:05<00:12, 13.72it/s]"
     ]
    },
    {
     "name": "stdout",
     "output_type": "stream",
     "text": [
      "--- Validation --- [threshold, AUC, Accuracy, F score] =  [np.float64(0.736), np.float64(0.964), np.float64(0.901), np.float64(0.918)]\n",
      "--- Training --- [threshold, AUC] =  [np.float64(0.61), np.float64(0.963)]\n",
      "--- Iteration 90: Training loss --- [Data, Label, Total] = [13800.970789.3, 342.999725.3, 69347.853669.3]\n",
      "!!! pred_type filter\n"
     ]
    },
    {
     "name": "stderr",
     "output_type": "stream",
     "text": [
      " 39%|███████████████████████████████████████████████▍                                                                         | 98/250 [00:06<00:08, 17.41it/s]"
     ]
    },
    {
     "name": "stdout",
     "output_type": "stream",
     "text": [
      "--- Validation --- [threshold, AUC, Accuracy, F score] =  [np.float64(0.61), np.float64(0.963), np.float64(0.911), np.float64(0.929)]\n",
      "--- Training --- [threshold, AUC] =  [np.float64(0.625), np.float64(0.962)]\n",
      "--- Iteration 100: Training loss --- [Data, Label, Total] = [13787.818095.3, 345.894091.3, 69284.984566.3]\n",
      "!!! pred_type filter\n"
     ]
    },
    {
     "name": "stderr",
     "output_type": "stream",
     "text": [
      " 44%|████████████████████████████████████████████████████▊                                                                   | 110/250 [00:06<00:07, 18.18it/s]"
     ]
    },
    {
     "name": "stdout",
     "output_type": "stream",
     "text": [
      "--- Validation --- [threshold, AUC, Accuracy, F score] =  [np.float64(0.625), np.float64(0.962), np.float64(0.91), np.float64(0.928)]\n",
      "--- Training --- [threshold, AUC] =  [np.float64(0.732), np.float64(0.962)]\n",
      "--- Iteration 110: Training loss --- [Data, Label, Total] = [13775.330461.3, 348.729278.3, 69225.381581.3]\n",
      "!!! pred_type filter\n"
     ]
    },
    {
     "name": "stderr",
     "output_type": "stream",
     "text": [
      " 46%|███████████████████████████████████████████████████████▏                                                                | 115/250 [00:07<00:09, 14.27it/s]"
     ]
    },
    {
     "name": "stdout",
     "output_type": "stream",
     "text": [
      "--- Validation --- [threshold, AUC, Accuracy, F score] =  [np.float64(0.732), np.float64(0.962), np.float64(0.896), np.float64(0.914)]\n",
      "--- Training --- [threshold, AUC] =  [np.float64(0.747), np.float64(0.961)]\n",
      "--- Iteration 120: Training loss --- [Data, Label, Total] = [13762.111131.3, 351.385143.3, 69161.940797.3]\n",
      "!!! pred_type filter\n"
     ]
    },
    {
     "name": "stderr",
     "output_type": "stream",
     "text": [
      " 51%|█████████████████████████████████████████████████████████████▍                                                          | 128/250 [00:08<00:06, 17.46it/s]"
     ]
    },
    {
     "name": "stdout",
     "output_type": "stream",
     "text": [
      "--- Validation --- [threshold, AUC, Accuracy, F score] =  [np.float64(0.747), np.float64(0.961), np.float64(0.895), np.float64(0.912)]\n",
      "--- Training --- [threshold, AUC] =  [np.float64(0.743), np.float64(0.96)]\n",
      "--- Iteration 130: Training loss --- [Data, Label, Total] = [13747.297908.3, 353.972988.3, 69090.462529.3]\n",
      "!!! pred_type filter\n"
     ]
    },
    {
     "name": "stderr",
     "output_type": "stream",
     "text": [
      " 56%|███████████████████████████████████████████████████████████████████▏                                                    | 140/250 [00:08<00:05, 19.27it/s]"
     ]
    },
    {
     "name": "stdout",
     "output_type": "stream",
     "text": [
      "--- Validation --- [threshold, AUC, Accuracy, F score] =  [np.float64(0.743), np.float64(0.96), np.float64(0.894), np.float64(0.912)]\n",
      "--- Training --- [threshold, AUC] =  [np.float64(0.73), np.float64(0.96)]\n",
      "--- Iteration 140: Training loss --- [Data, Label, Total] = [13730.586453.3, 356.280240.3, 69009.212504.3]\n",
      "!!! pred_type filter\n"
     ]
    },
    {
     "name": "stderr",
     "output_type": "stream",
     "text": [
      " 58%|█████████████████████████████████████████████████████████████████████▌                                                  | 145/250 [00:09<00:07, 14.24it/s]"
     ]
    },
    {
     "name": "stdout",
     "output_type": "stream",
     "text": [
      "--- Validation --- [threshold, AUC, Accuracy, F score] =  [np.float64(0.73), np.float64(0.96), np.float64(0.894), np.float64(0.912)]\n",
      "--- Training --- [threshold, AUC] =  [np.float64(0.731), np.float64(0.96)]\n",
      "--- Iteration 150: Training loss --- [Data, Label, Total] = [13711.731571.3, 358.324523.3, 68916.982376.3]\n",
      "!!! pred_type filter\n"
     ]
    },
    {
     "name": "stderr",
     "output_type": "stream",
     "text": [
      " 64%|████████████████████████████████████████████████████████████████████████████▎                                           | 159/250 [00:10<00:05, 17.93it/s]"
     ]
    },
    {
     "name": "stdout",
     "output_type": "stream",
     "text": [
      "--- Validation --- [threshold, AUC, Accuracy, F score] =  [np.float64(0.731), np.float64(0.96), np.float64(0.893), np.float64(0.911)]\n",
      "--- Training --- [threshold, AUC] =  [np.float64(0.724), np.float64(0.959)]\n",
      "--- Iteration 160: Training loss --- [Data, Label, Total] = [13691.021067.3, 360.084612.3, 68815.189948.3]\n",
      "!!! pred_type filter\n"
     ]
    },
    {
     "name": "stderr",
     "output_type": "stream",
     "text": [
      " 66%|██████████████████████████████████████████████████████████████████████████████▋                                         | 164/250 [00:10<00:06, 13.06it/s]"
     ]
    },
    {
     "name": "stdout",
     "output_type": "stream",
     "text": [
      "--- Validation --- [threshold, AUC, Accuracy, F score] =  [np.float64(0.724), np.float64(0.959), np.float64(0.893), np.float64(0.912)]\n"
     ]
    },
    {
     "name": "stderr",
     "output_type": "stream",
     "text": [
      " 67%|████████████████████████████████████████████████████████████████████████████████▋                                       | 168/250 [00:11<00:05, 14.75it/s]"
     ]
    },
    {
     "name": "stdout",
     "output_type": "stream",
     "text": [
      "--- Training --- [threshold, AUC] =  [np.float64(0.716), np.float64(0.959)]\n",
      "--- Iteration 170: Training loss --- [Data, Label, Total] = [13669.397495.3, 361.389791.3, 68708.377265.3]\n",
      "!!! pred_type filter\n"
     ]
    },
    {
     "name": "stderr",
     "output_type": "stream",
     "text": [
      " 71%|████████████████████████████████████████████████████████████████████████████████████▉                                   | 177/250 [00:12<00:06, 11.95it/s]"
     ]
    },
    {
     "name": "stdout",
     "output_type": "stream",
     "text": [
      "--- Validation --- [threshold, AUC, Accuracy, F score] =  [np.float64(0.716), np.float64(0.959), np.float64(0.894), np.float64(0.913)]\n",
      "--- Training --- [threshold, AUC] =  [np.float64(0.716), np.float64(0.959)]\n",
      "--- Iteration 180: Training loss --- [Data, Label, Total] = [13647.911320.3, 362.229540.3, 68601.786142.3]\n",
      "!!! pred_type filter\n"
     ]
    },
    {
     "name": "stderr",
     "output_type": "stream",
     "text": [
      " 76%|██████████████████████████████████████████████████████████████████████████████████████████▋                             | 189/250 [00:12<00:03, 15.80it/s]"
     ]
    },
    {
     "name": "stdout",
     "output_type": "stream",
     "text": [
      "--- Validation --- [threshold, AUC, Accuracy, F score] =  [np.float64(0.716), np.float64(0.959), np.float64(0.893), np.float64(0.912)]\n",
      "--- Training --- [threshold, AUC] =  [np.float64(0.715), np.float64(0.959)]\n",
      "--- Iteration 190: Training loss --- [Data, Label, Total] = [13627.898315.3, 362.451130.3, 68501.942706.3]\n",
      "!!! pred_type filter\n"
     ]
    },
    {
     "name": "stderr",
     "output_type": "stream",
     "text": [
      " 77%|████████████████████████████████████████████████████████████████████████████████████████████▋                           | 193/250 [00:13<00:04, 12.33it/s]"
     ]
    },
    {
     "name": "stdout",
     "output_type": "stream",
     "text": [
      "--- Validation --- [threshold, AUC, Accuracy, F score] =  [np.float64(0.715), np.float64(0.959), np.float64(0.892), np.float64(0.911)]\n",
      "--- Training --- [threshold, AUC] =  [np.float64(0.713), np.float64(0.959)]\n",
      "--- Iteration 200: Training loss --- [Data, Label, Total] = [13609.899662.3, 362.236424.3, 68411.734733.3]\n",
      "!!! pred_type filter\n"
     ]
    },
    {
     "name": "stderr",
     "output_type": "stream",
     "text": [
      " 84%|████████████████████████████████████████████████████████████████████████████████████████████████████▎                   | 209/250 [00:14<00:02, 18.41it/s]"
     ]
    },
    {
     "name": "stdout",
     "output_type": "stream",
     "text": [
      "--- Validation --- [threshold, AUC, Accuracy, F score] =  [np.float64(0.713), np.float64(0.959), np.float64(0.892), np.float64(0.911)]\n",
      "--- Training --- [threshold, AUC] =  [np.float64(0.709), np.float64(0.959)]\n",
      "--- Iteration 210: Training loss --- [Data, Label, Total] = [13594.320018.3, 361.694123.3, 68333.294214.3]\n",
      "!!! pred_type filter\n"
     ]
    },
    {
     "name": "stderr",
     "output_type": "stream",
     "text": [
      " 86%|██████████████████████████████████████████████████████████████████████████████████████████████████████▋                 | 214/250 [00:14<00:02, 14.49it/s]"
     ]
    },
    {
     "name": "stdout",
     "output_type": "stream",
     "text": [
      "--- Validation --- [threshold, AUC, Accuracy, F score] =  [np.float64(0.709), np.float64(0.959), np.float64(0.893), np.float64(0.912)]\n",
      "--- Training --- [threshold, AUC] =  [np.float64(0.71), np.float64(0.959)]\n",
      "--- Iteration 220: Training loss --- [Data, Label, Total] = [13581.217961.3, 360.953743.3, 68267.043549.3]\n",
      "!!! pred_type filter\n"
     ]
    },
    {
     "name": "stderr",
     "output_type": "stream",
     "text": [
      " 92%|█████████████████████████████████████████████████████████████████████████████████████████████████████████████▉          | 229/250 [00:15<00:01, 19.13it/s]"
     ]
    },
    {
     "name": "stdout",
     "output_type": "stream",
     "text": [
      "--- Validation --- [threshold, AUC, Accuracy, F score] =  [np.float64(0.71), np.float64(0.959), np.float64(0.892), np.float64(0.912)]\n",
      "--- Training --- [threshold, AUC] =  [np.float64(0.71), np.float64(0.959)]\n",
      "--- Iteration 230: Training loss --- [Data, Label, Total] = [13570.777245.3, 360.132498.3, 68214.018724.3]\n",
      "!!! pred_type filter\n"
     ]
    },
    {
     "name": "stderr",
     "output_type": "stream",
     "text": [
      " 96%|███████████████████████████████████████████████████████████████████████████████████████████████████████████████████▏    | 240/250 [00:15<00:00, 19.21it/s]"
     ]
    },
    {
     "name": "stdout",
     "output_type": "stream",
     "text": [
      "--- Validation --- [threshold, AUC, Accuracy, F score] =  [np.float64(0.71), np.float64(0.959), np.float64(0.891), np.float64(0.91)]\n",
      "--- Training --- [threshold, AUC] =  [np.float64(0.716), np.float64(0.96)]\n",
      "--- Iteration 240: Training loss --- [Data, Label, Total] = [13562.206144.3, 359.206843.3, 68170.237562.3]\n",
      "!!! pred_type filter\n"
     ]
    },
    {
     "name": "stderr",
     "output_type": "stream",
     "text": [
      "100%|████████████████████████████████████████████████████████████████████████████████████████████████████████████████████████| 250/250 [00:16<00:00, 15.04it/s]"
     ]
    },
    {
     "name": "stdout",
     "output_type": "stream",
     "text": [
      "--- Validation --- [threshold, AUC, Accuracy, F score] =  [np.float64(0.716), np.float64(0.96), np.float64(0.891), np.float64(0.91)]\n",
      "!!! pred_type filter\n"
     ]
    },
    {
     "name": "stderr",
     "output_type": "stream",
     "text": [
      "\n"
     ]
    },
    {
     "name": "stdout",
     "output_type": "stream",
     "text": [
      "num of subgraphs induced on k-paths: 500\n",
      "num of subgraphs induced on k-paths: 500\n",
      "X_list: (225, 1000)\n",
      "2\n",
      "(1, 500)\n",
      "(1, 500)\n",
      "label_vec: (1, 1000)\n",
      "('Caltech36', 'UCLA26') predicting Harvard1 0.831572887805297\n",
      "\n",
      "3: 0.8778558372677772\n",
      "4: 0.8449298516548318\n",
      "5: 0.8328589202034812\n",
      "6: 0.8810722135926942\n",
      "7: 0.8300352574962108\n",
      "8: 0.8341847021951587\n",
      "9: 0.8194475467039469\n",
      "10: 0.8129617372639039\n",
      "11: 0.845638803372221\n",
      "12: 0.8369670343428398\n",
      "13: 0.8623456412356946\n",
      "14: 0.831572887805297\n",
      "\n",
      "num of subgraphs induced on k-paths: 500\n",
      "num of subgraphs induced on k-paths: 500\n",
      "X_list: (225, 1000)\n",
      "2\n",
      "(1, 500)\n",
      "(1, 500)\n",
      "label_vec: (1, 1000)\n",
      "num of subgraphs induced on k-paths: 500\n",
      "num of subgraphs induced on k-paths: 858\n",
      "X_list: (225, 1358)\n",
      "2\n",
      "(1, 500)\n",
      "(1, 858)\n",
      "label_vec: (1, 1358)\n",
      "initial loading beta [[-0.15758836 -0.74890371  0.07373398  0.63892546  0.12826392 -0.02371077\n",
      "  -0.91243189  0.65685748  0.97701665 -0.8992942  -0.00793315 -0.51289514\n",
      "   0.40159212  0.13079805  0.34272448 -0.20946276]]\n"
     ]
    },
    {
     "name": "stderr",
     "output_type": "stream",
     "text": [
      "  3%|███▍                                                                                                                      | 7/250 [00:00<00:03, 64.47it/s]"
     ]
    },
    {
     "name": "stdout",
     "output_type": "stream",
     "text": [
      "--- Training --- [threshold, AUC] =  [np.float64(0.668), np.float64(0.969)]\n",
      "--- Iteration 0: Training loss --- [Data, Label, Total] = [29889.105586.3, 321.027939.3, 149766.555870.3]\n",
      "--- Training --- [threshold, AUC] =  [np.float64(0.669), np.float64(0.971)]\n",
      "--- Iteration 10: Training loss --- [Data, Label, Total] = [18259.353633.3, 304.347628.3, 91601.115792.3]\n",
      "!!! pred_type filter\n"
     ]
    },
    {
     "name": "stderr",
     "output_type": "stream",
     "text": [
      "  6%|██████▊                                                                                                                  | 14/250 [00:00<00:17, 13.32it/s]"
     ]
    },
    {
     "name": "stdout",
     "output_type": "stream",
     "text": [
      "--- Validation --- [threshold, AUC, Accuracy, F score] =  [np.float64(0.669), np.float64(0.971), np.float64(0.923), np.float64(0.938)]\n",
      "--- Training --- [threshold, AUC] =  [np.float64(0.644), np.float64(0.973)]\n",
      "--- Iteration 20: Training loss --- [Data, Label, Total] = [16183.740744.3, 297.670345.3, 81216.374064.3]\n",
      "!!! pred_type filter\n"
     ]
    },
    {
     "name": "stderr",
     "output_type": "stream",
     "text": [
      " 12%|██████████████                                                                                                           | 29/250 [00:01<00:12, 17.07it/s]"
     ]
    },
    {
     "name": "stdout",
     "output_type": "stream",
     "text": [
      "--- Validation --- [threshold, AUC, Accuracy, F score] =  [np.float64(0.644), np.float64(0.973), np.float64(0.929), np.float64(0.944)]\n",
      "--- Training --- [threshold, AUC] =  [np.float64(0.684), np.float64(0.974)]\n",
      "--- Iteration 30: Training loss --- [Data, Label, Total] = [15341.884590.3, 294.879711.3, 77004.302660.3]\n",
      "!!! pred_type filter\n"
     ]
    },
    {
     "name": "stderr",
     "output_type": "stream",
     "text": [
      " 14%|████████████████▍                                                                                                        | 34/250 [00:02<00:17, 12.11it/s]"
     ]
    },
    {
     "name": "stdout",
     "output_type": "stream",
     "text": [
      "--- Validation --- [threshold, AUC, Accuracy, F score] =  [np.float64(0.684), np.float64(0.974), np.float64(0.927), np.float64(0.941)]\n",
      "--- Training --- [threshold, AUC] =  [np.float64(0.691), np.float64(0.975)]\n",
      "--- Iteration 40: Training loss --- [Data, Label, Total] = [14978.267499.3, 291.496464.3, 75182.833959.3]\n",
      "!!! pred_type filter\n"
     ]
    },
    {
     "name": "stderr",
     "output_type": "stream",
     "text": [
      " 20%|███████████████████████▋                                                                                                 | 49/250 [00:03<00:12, 16.16it/s]"
     ]
    },
    {
     "name": "stdout",
     "output_type": "stream",
     "text": [
      "--- Validation --- [threshold, AUC, Accuracy, F score] =  [np.float64(0.691), np.float64(0.975), np.float64(0.926), np.float64(0.94)]\n",
      "--- Training --- [threshold, AUC] =  [np.float64(0.702), np.float64(0.976)]\n",
      "--- Iteration 50: Training loss --- [Data, Label, Total] = [14786.875217.3, 288.285618.3, 74222.661702.3]\n",
      "!!! pred_type filter\n",
      "--- Validation --- [threshold, AUC, Accuracy, F score] =  [np.float64(0.702), np.float64(0.976), np.float64(0.926), np.float64(0.94)]\n"
     ]
    },
    {
     "name": "stderr",
     "output_type": "stream",
     "text": [
      " 23%|████████████████████████████                                                                                             | 58/250 [00:04<00:16, 11.75it/s]"
     ]
    },
    {
     "name": "stdout",
     "output_type": "stream",
     "text": [
      "--- Training --- [threshold, AUC] =  [np.float64(0.676), np.float64(0.976)]\n",
      "--- Iteration 60: Training loss --- [Data, Label, Total] = [14666.491428.3, 285.090866.3, 73617.548006.3]\n",
      "!!! pred_type filter\n"
     ]
    },
    {
     "name": "stderr",
     "output_type": "stream",
     "text": [
      " 28%|█████████████████████████████████▉                                                                                       | 70/250 [00:05<00:12, 14.67it/s]"
     ]
    },
    {
     "name": "stdout",
     "output_type": "stream",
     "text": [
      "--- Validation --- [threshold, AUC, Accuracy, F score] =  [np.float64(0.676), np.float64(0.976), np.float64(0.93), np.float64(0.944)]\n",
      "--- Training --- [threshold, AUC] =  [np.float64(0.68), np.float64(0.977)]\n",
      "--- Iteration 70: Training loss --- [Data, Label, Total] = [14579.242482.3, 281.898974.3, 73178.111383.3]\n",
      "!!! pred_type filter\n"
     ]
    },
    {
     "name": "stderr",
     "output_type": "stream",
     "text": [
      " 30%|███████████████████████████████████▊                                                                                     | 74/250 [00:06<00:15, 11.20it/s]"
     ]
    },
    {
     "name": "stdout",
     "output_type": "stream",
     "text": [
      "--- Validation --- [threshold, AUC, Accuracy, F score] =  [np.float64(0.68), np.float64(0.977), np.float64(0.934), np.float64(0.946)]\n",
      "--- Training --- [threshold, AUC] =  [np.float64(0.676), np.float64(0.977)]\n",
      "--- Iteration 80: Training loss --- [Data, Label, Total] = [14515.176150.3, 279.607280.3, 72855.488028.3]\n",
      "!!! pred_type filter\n"
     ]
    },
    {
     "name": "stderr",
     "output_type": "stream",
     "text": [
      " 36%|███████████████████████████████████████████                                                                              | 89/250 [00:06<00:10, 15.74it/s]"
     ]
    },
    {
     "name": "stdout",
     "output_type": "stream",
     "text": [
      "--- Validation --- [threshold, AUC, Accuracy, F score] =  [np.float64(0.676), np.float64(0.977), np.float64(0.934), np.float64(0.947)]\n",
      "--- Training --- [threshold, AUC] =  [np.float64(0.651), np.float64(0.978)]\n",
      "--- Iteration 90: Training loss --- [Data, Label, Total] = [14467.836898.3, 278.055151.3, 72617.239639.3]\n",
      "!!! pred_type filter\n"
     ]
    },
    {
     "name": "stderr",
     "output_type": "stream",
     "text": [
      " 37%|█████████████████████████████████████████████                                                                            | 93/250 [00:07<00:13, 11.87it/s]"
     ]
    },
    {
     "name": "stdout",
     "output_type": "stream",
     "text": [
      "--- Validation --- [threshold, AUC, Accuracy, F score] =  [np.float64(0.651), np.float64(0.978), np.float64(0.936), np.float64(0.949)]\n",
      "--- Training --- [threshold, AUC] =  [np.float64(0.647), np.float64(0.978)]\n",
      "--- Iteration 100: Training loss --- [Data, Label, Total] = [14429.561230.3, 276.872139.3, 72424.678287.3]\n",
      "!!! pred_type filter\n"
     ]
    },
    {
     "name": "stderr",
     "output_type": "stream",
     "text": [
      " 44%|████████████████████████████████████████████████████▎                                                                   | 109/250 [00:08<00:08, 16.39it/s]"
     ]
    },
    {
     "name": "stdout",
     "output_type": "stream",
     "text": [
      "--- Validation --- [threshold, AUC, Accuracy, F score] =  [np.float64(0.647), np.float64(0.978), np.float64(0.937), np.float64(0.949)]\n",
      "--- Training --- [threshold, AUC] =  [np.float64(0.646), np.float64(0.978)]\n",
      "--- Iteration 110: Training loss --- [Data, Label, Total] = [14391.760839.3, 276.215869.3, 72235.020063.3]\n",
      "!!! pred_type filter\n"
     ]
    },
    {
     "name": "stderr",
     "output_type": "stream",
     "text": [
      " 48%|█████████████████████████████████████████████████████████▌                                                              | 120/250 [00:09<00:07, 16.85it/s]"
     ]
    },
    {
     "name": "stdout",
     "output_type": "stream",
     "text": [
      "--- Validation --- [threshold, AUC, Accuracy, F score] =  [np.float64(0.646), np.float64(0.978), np.float64(0.936), np.float64(0.949)]\n",
      "--- Training --- [threshold, AUC] =  [np.float64(0.648), np.float64(0.978)]\n",
      "--- Iteration 120: Training loss --- [Data, Label, Total] = [14345.235721.3, 275.637229.3, 72001.815836.3]\n",
      "!!! pred_type filter\n"
     ]
    },
    {
     "name": "stderr",
     "output_type": "stream",
     "text": [
      " 50%|████████████████████████████████████████████████████████████                                                            | 125/250 [00:09<00:09, 13.00it/s]"
     ]
    },
    {
     "name": "stdout",
     "output_type": "stream",
     "text": [
      "--- Validation --- [threshold, AUC, Accuracy, F score] =  [np.float64(0.648), np.float64(0.978), np.float64(0.936), np.float64(0.949)]\n",
      "--- Training --- [threshold, AUC] =  [np.float64(0.636), np.float64(0.978)]\n",
      "--- Iteration 130: Training loss --- [Data, Label, Total] = [14280.000256.3, 275.518657.3, 71675.519939.3]\n",
      "!!! pred_type filter\n"
     ]
    },
    {
     "name": "stderr",
     "output_type": "stream",
     "text": [
      " 55%|██████████████████████████████████████████████████████████████████▏                                                     | 138/250 [00:10<00:06, 16.03it/s]"
     ]
    },
    {
     "name": "stdout",
     "output_type": "stream",
     "text": [
      "--- Validation --- [threshold, AUC, Accuracy, F score] =  [np.float64(0.636), np.float64(0.978), np.float64(0.937), np.float64(0.95)]\n",
      "--- Training --- [threshold, AUC] =  [np.float64(0.686), np.float64(0.978)]\n",
      "--- Iteration 140: Training loss --- [Data, Label, Total] = [14189.244976.3, 275.493477.3, 71221.718358.3]\n",
      "!!! pred_type filter\n"
     ]
    },
    {
     "name": "stderr",
     "output_type": "stream",
     "text": [
      " 60%|███████████████████████████████████████████████████████████████████████▌                                                | 149/250 [00:11<00:05, 16.86it/s]"
     ]
    },
    {
     "name": "stdout",
     "output_type": "stream",
     "text": [
      "--- Validation --- [threshold, AUC, Accuracy, F score] =  [np.float64(0.686), np.float64(0.978), np.float64(0.934), np.float64(0.947)]\n",
      "--- Training --- [threshold, AUC] =  [np.float64(0.648), np.float64(0.978)]\n",
      "--- Iteration 150: Training loss --- [Data, Label, Total] = [14076.708190.3, 275.512532.3, 70659.053480.3]\n",
      "!!! pred_type filter\n"
     ]
    },
    {
     "name": "stderr",
     "output_type": "stream",
     "text": [
      " 64%|████████████████████████████████████████████████████████████████████████████▊                                           | 160/250 [00:11<00:05, 17.36it/s]"
     ]
    },
    {
     "name": "stdout",
     "output_type": "stream",
     "text": [
      "--- Validation --- [threshold, AUC, Accuracy, F score] =  [np.float64(0.648), np.float64(0.978), np.float64(0.937), np.float64(0.95)]\n",
      "--- Training --- [threshold, AUC] =  [np.float64(0.652), np.float64(0.978)]\n",
      "--- Iteration 160: Training loss --- [Data, Label, Total] = [13954.832098.3, 275.558940.3, 70049.719431.3]\n",
      "!!! pred_type filter\n"
     ]
    },
    {
     "name": "stderr",
     "output_type": "stream",
     "text": [
      " 66%|███████████████████████████████████████████████████████████████████████████████▏                                        | 165/250 [00:12<00:06, 13.29it/s]"
     ]
    },
    {
     "name": "stdout",
     "output_type": "stream",
     "text": [
      "--- Validation --- [threshold, AUC, Accuracy, F score] =  [np.float64(0.652), np.float64(0.978), np.float64(0.938), np.float64(0.95)]\n",
      "--- Training --- [threshold, AUC] =  [np.float64(0.651), np.float64(0.978)]\n",
      "--- Iteration 170: Training loss --- [Data, Label, Total] = [13837.410511.3, 275.719968.3, 69462.772525.3]\n",
      "!!! pred_type filter\n"
     ]
    },
    {
     "name": "stderr",
     "output_type": "stream",
     "text": [
      " 72%|█████████████████████████████████████████████████████████████████████████████████████▉                                  | 179/250 [00:13<00:04, 17.31it/s]"
     ]
    },
    {
     "name": "stdout",
     "output_type": "stream",
     "text": [
      "--- Validation --- [threshold, AUC, Accuracy, F score] =  [np.float64(0.651), np.float64(0.978), np.float64(0.937), np.float64(0.95)]\n",
      "--- Training --- [threshold, AUC] =  [np.float64(0.691), np.float64(0.978)]\n",
      "--- Iteration 180: Training loss --- [Data, Label, Total] = [13736.563350.3, 275.922288.3, 68958.739038.3]\n",
      "!!! pred_type filter\n"
     ]
    },
    {
     "name": "stderr",
     "output_type": "stream",
     "text": [
      " 76%|██████████████████████████████████████████████████████████████████████████████████████████▋                             | 189/250 [00:14<00:03, 16.65it/s]"
     ]
    },
    {
     "name": "stdout",
     "output_type": "stream",
     "text": [
      "--- Validation --- [threshold, AUC, Accuracy, F score] =  [np.float64(0.691), np.float64(0.978), np.float64(0.934), np.float64(0.947)]\n",
      "--- Training --- [threshold, AUC] =  [np.float64(0.693), np.float64(0.979)]\n",
      "--- Iteration 190: Training loss --- [Data, Label, Total] = [13658.034455.3, 276.029033.3, 68566.201307.3]\n",
      "!!! pred_type filter\n"
     ]
    },
    {
     "name": "stderr",
     "output_type": "stream",
     "text": [
      " 77%|████████████████████████████████████████████████████████████████████████████████████████████▋                           | 193/250 [00:14<00:05, 11.19it/s]"
     ]
    },
    {
     "name": "stdout",
     "output_type": "stream",
     "text": [
      "--- Validation --- [threshold, AUC, Accuracy, F score] =  [np.float64(0.693), np.float64(0.979), np.float64(0.934), np.float64(0.947)]\n",
      "--- Training --- [threshold, AUC] =  [np.float64(0.701), np.float64(0.979)]\n",
      "--- Iteration 200: Training loss --- [Data, Label, Total] = [13601.457608.3, 276.100620.3, 68283.388661.3]\n",
      "!!! pred_type filter\n"
     ]
    },
    {
     "name": "stderr",
     "output_type": "stream",
     "text": [
      " 83%|███████████████████████████████████████████████████████████████████████████████████████████████████▊                    | 208/250 [00:15<00:02, 15.98it/s]"
     ]
    },
    {
     "name": "stdout",
     "output_type": "stream",
     "text": [
      "--- Validation --- [threshold, AUC, Accuracy, F score] =  [np.float64(0.701), np.float64(0.979), np.float64(0.935), np.float64(0.948)]\n",
      "--- Training --- [threshold, AUC] =  [np.float64(0.708), np.float64(0.979)]\n",
      "--- Iteration 210: Training loss --- [Data, Label, Total] = [13562.894426.3, 276.124848.3, 68090.596977.3]\n",
      "!!! pred_type filter\n"
     ]
    },
    {
     "name": "stderr",
     "output_type": "stream",
     "text": [
      " 88%|█████████████████████████████████████████████████████████████████████████████████████████████████████████▌              | 220/250 [00:16<00:01, 18.39it/s]"
     ]
    },
    {
     "name": "stdout",
     "output_type": "stream",
     "text": [
      "--- Validation --- [threshold, AUC, Accuracy, F score] =  [np.float64(0.708), np.float64(0.979), np.float64(0.934), np.float64(0.947)]\n",
      "--- Training --- [threshold, AUC] =  [np.float64(0.709), np.float64(0.979)]\n",
      "--- Iteration 220: Training loss --- [Data, Label, Total] = [13537.338840.3, 275.980063.3, 67962.674264.3]\n",
      "!!! pred_type filter\n"
     ]
    },
    {
     "name": "stderr",
     "output_type": "stream",
     "text": [
      " 90%|████████████████████████████████████████████████████████████████████████████████████████████████████████████            | 225/250 [00:16<00:01, 14.22it/s]"
     ]
    },
    {
     "name": "stdout",
     "output_type": "stream",
     "text": [
      "--- Validation --- [threshold, AUC, Accuracy, F score] =  [np.float64(0.709), np.float64(0.979), np.float64(0.934), np.float64(0.947)]\n",
      "--- Training --- [threshold, AUC] =  [np.float64(0.708), np.float64(0.979)]\n",
      "--- Iteration 230: Training loss --- [Data, Label, Total] = [13520.595671.3, 275.842532.3, 67878.820888.3]\n",
      "!!! pred_type filter\n"
     ]
    },
    {
     "name": "stderr",
     "output_type": "stream",
     "text": [
      " 95%|██████████████████████████████████████████████████████████████████████████████████████████████████████████████████▏     | 238/250 [00:17<00:00, 17.45it/s]"
     ]
    },
    {
     "name": "stdout",
     "output_type": "stream",
     "text": [
      "--- Validation --- [threshold, AUC, Accuracy, F score] =  [np.float64(0.708), np.float64(0.979), np.float64(0.934), np.float64(0.947)]\n",
      "--- Training --- [threshold, AUC] =  [np.float64(0.706), np.float64(0.979)]\n",
      "--- Iteration 240: Training loss --- [Data, Label, Total] = [13509.367848.3, 275.593560.3, 67822.432797.3]\n",
      "!!! pred_type filter\n"
     ]
    },
    {
     "name": "stderr",
     "output_type": "stream",
     "text": [
      "100%|████████████████████████████████████████████████████████████████████████████████████████████████████████████████████████| 250/250 [00:18<00:00, 13.74it/s]"
     ]
    },
    {
     "name": "stdout",
     "output_type": "stream",
     "text": [
      "--- Validation --- [threshold, AUC, Accuracy, F score] =  [np.float64(0.706), np.float64(0.979), np.float64(0.934), np.float64(0.947)]\n",
      "!!! pred_type filter\n"
     ]
    },
    {
     "name": "stderr",
     "output_type": "stream",
     "text": [
      "\n"
     ]
    },
    {
     "name": "stdout",
     "output_type": "stream",
     "text": [
      "num of subgraphs induced on k-paths: 500\n",
      "num of subgraphs induced on k-paths: 500\n",
      "X_list: (225, 1000)\n",
      "2\n",
      "(1, 500)\n",
      "(1, 500)\n",
      "label_vec: (1, 1000)\n",
      "('Caltech36', 'UCLA26') predicting Harvard1 0.8408084132367011\n",
      "\n",
      "3: 0.8778558372677772\n",
      "4: 0.8449298516548318\n",
      "5: 0.8328589202034812\n",
      "6: 0.8810722135926942\n",
      "7: 0.8300352574962108\n",
      "8: 0.8341847021951587\n",
      "9: 0.8194475467039469\n",
      "10: 0.8129617372639039\n",
      "11: 0.845638803372221\n",
      "12: 0.8369670343428398\n",
      "13: 0.8623456412356946\n",
      "14: 0.831572887805297\n",
      "15: 0.8408084132367011\n",
      "\n",
      "num of subgraphs induced on k-paths: 500\n",
      "num of subgraphs induced on k-paths: 500\n",
      "X_list: (225, 1000)\n",
      "2\n",
      "(1, 500)\n",
      "(1, 500)\n",
      "label_vec: (1, 1000)\n",
      "num of subgraphs induced on k-paths: 500\n",
      "num of subgraphs induced on k-paths: 859\n",
      "X_list: (225, 1359)\n",
      "2\n",
      "(1, 500)\n",
      "(1, 859)\n",
      "label_vec: (1, 1359)\n",
      "initial loading beta [[ 0.88776398 -0.1656986   0.75671486  0.65303793 -0.85694743  0.8997813\n",
      "   0.20933345 -0.88653749  0.11805421 -0.71275144  0.48813876 -0.24332666\n",
      "   0.2497647   0.74761341  0.60006812 -0.22937206 -0.53736742]]\n"
     ]
    },
    {
     "name": "stderr",
     "output_type": "stream",
     "text": [
      "  0%|                                                                                                                                  | 0/250 [00:00<?, ?it/s]"
     ]
    },
    {
     "name": "stdout",
     "output_type": "stream",
     "text": [
      "--- Training --- [threshold, AUC] =  [np.float64(0.657), np.float64(0.967)]\n",
      "--- Iteration 0: Training loss --- [Data, Label, Total] = [30082.376862.3, 335.396799.3, 150747.281111.3]\n"
     ]
    },
    {
     "name": "stderr",
     "output_type": "stream",
     "text": [
      "  2%|██▉                                                                                                                       | 6/250 [00:00<00:04, 52.12it/s]"
     ]
    },
    {
     "name": "stdout",
     "output_type": "stream",
     "text": [
      "--- Training --- [threshold, AUC] =  [np.float64(0.658), np.float64(0.968)]\n",
      "--- Iteration 10: Training loss --- [Data, Label, Total] = [17916.217211.3, 321.914643.3, 89903.000696.3]\n",
      "!!! pred_type filter\n"
     ]
    },
    {
     "name": "stderr",
     "output_type": "stream",
     "text": [
      "  5%|█████▊                                                                                                                   | 12/250 [00:01<00:23, 10.02it/s]"
     ]
    },
    {
     "name": "stdout",
     "output_type": "stream",
     "text": [
      "--- Validation --- [threshold, AUC, Accuracy, F score] =  [np.float64(0.658), np.float64(0.968), np.float64(0.917), np.float64(0.933)]\n",
      "--- Training --- [threshold, AUC] =  [np.float64(0.684), np.float64(0.969)]\n",
      "--- Iteration 20: Training loss --- [Data, Label, Total] = [16274.027271.3, 318.319300.3, 81688.455657.3]\n",
      "!!! pred_type filter\n"
     ]
    },
    {
     "name": "stderr",
     "output_type": "stream",
     "text": [
      " 12%|██████████████                                                                                                           | 29/250 [00:01<00:13, 16.22it/s]"
     ]
    },
    {
     "name": "stdout",
     "output_type": "stream",
     "text": [
      "--- Validation --- [threshold, AUC, Accuracy, F score] =  [np.float64(0.684), np.float64(0.969), np.float64(0.912), np.float64(0.929)]\n",
      "--- Training --- [threshold, AUC] =  [np.float64(0.683), np.float64(0.97)]\n",
      "--- Iteration 30: Training loss --- [Data, Label, Total] = [15322.105932.3, 318.107359.3, 76928.637020.3]\n",
      "!!! pred_type filter\n"
     ]
    },
    {
     "name": "stderr",
     "output_type": "stream",
     "text": [
      " 14%|████████████████▍                                                                                                        | 34/250 [00:02<00:19, 11.35it/s]"
     ]
    },
    {
     "name": "stdout",
     "output_type": "stream",
     "text": [
      "--- Validation --- [threshold, AUC, Accuracy, F score] =  [np.float64(0.683), np.float64(0.97), np.float64(0.912), np.float64(0.929)]\n",
      "--- Training --- [threshold, AUC] =  [np.float64(0.667), np.float64(0.971)]\n",
      "--- Iteration 40: Training loss --- [Data, Label, Total] = [14582.135025.3, 315.833983.3, 73226.509107.3]\n",
      "!!! pred_type filter\n"
     ]
    },
    {
     "name": "stderr",
     "output_type": "stream",
     "text": [
      " 19%|███████████████████████▏                                                                                                 | 48/250 [00:03<00:13, 14.58it/s]"
     ]
    },
    {
     "name": "stdout",
     "output_type": "stream",
     "text": [
      "--- Validation --- [threshold, AUC, Accuracy, F score] =  [np.float64(0.667), np.float64(0.971), np.float64(0.919), np.float64(0.935)]\n",
      "--- Training --- [threshold, AUC] =  [np.float64(0.662), np.float64(0.972)]\n",
      "--- Iteration 50: Training loss --- [Data, Label, Total] = [14072.801191.3, 312.135538.3, 70676.141492.3]\n",
      "!!! pred_type filter\n"
     ]
    },
    {
     "name": "stderr",
     "output_type": "stream",
     "text": [
      " 24%|█████████████████████████████                                                                                            | 60/250 [00:04<00:12, 15.49it/s]"
     ]
    },
    {
     "name": "stdout",
     "output_type": "stream",
     "text": [
      "--- Validation --- [threshold, AUC, Accuracy, F score] =  [np.float64(0.662), np.float64(0.972), np.float64(0.923), np.float64(0.938)]\n",
      "--- Training --- [threshold, AUC] =  [np.float64(0.711), np.float64(0.973)]\n",
      "--- Iteration 60: Training loss --- [Data, Label, Total] = [13742.353254.3, 309.505847.3, 69021.272117.3]\n",
      "!!! pred_type filter\n"
     ]
    },
    {
     "name": "stderr",
     "output_type": "stream",
     "text": [
      " 26%|███████████████████████████████▍                                                                                         | 65/250 [00:05<00:16, 11.55it/s]"
     ]
    },
    {
     "name": "stdout",
     "output_type": "stream",
     "text": [
      "--- Validation --- [threshold, AUC, Accuracy, F score] =  [np.float64(0.711), np.float64(0.973), np.float64(0.922), np.float64(0.936)]\n",
      "--- Training --- [threshold, AUC] =  [np.float64(0.684), np.float64(0.973)]\n",
      "--- Iteration 70: Training loss --- [Data, Label, Total] = [13526.432206.3, 309.048708.3, 67941.209738.3]\n",
      "!!! pred_type filter\n"
     ]
    },
    {
     "name": "stderr",
     "output_type": "stream",
     "text": [
      " 32%|██████████████████████████████████████▏                                                                                  | 79/250 [00:06<00:11, 14.69it/s]"
     ]
    },
    {
     "name": "stdout",
     "output_type": "stream",
     "text": [
      "--- Validation --- [threshold, AUC, Accuracy, F score] =  [np.float64(0.684), np.float64(0.973), np.float64(0.926), np.float64(0.94)]\n",
      "--- Training --- [threshold, AUC] =  [np.float64(0.707), np.float64(0.974)]\n",
      "--- Iteration 80: Training loss --- [Data, Label, Total] = [13385.558873.3, 309.141235.3, 67236.935602.3]\n",
      "!!! pred_type filter\n"
     ]
    },
    {
     "name": "stderr",
     "output_type": "stream",
     "text": [
      " 36%|███████████████████████████████████████████▌                                                                             | 90/250 [00:07<00:10, 15.17it/s]"
     ]
    },
    {
     "name": "stdout",
     "output_type": "stream",
     "text": [
      "--- Validation --- [threshold, AUC, Accuracy, F score] =  [np.float64(0.707), np.float64(0.974), np.float64(0.924), np.float64(0.938)]\n",
      "--- Training --- [threshold, AUC] =  [np.float64(0.708), np.float64(0.974)]\n",
      "--- Iteration 90: Training loss --- [Data, Label, Total] = [13286.977924.3, 309.178448.3, 66744.068066.3]\n",
      "!!! pred_type filter\n"
     ]
    },
    {
     "name": "stderr",
     "output_type": "stream",
     "text": [
      " 38%|█████████████████████████████████████████████▉                                                                           | 95/250 [00:07<00:13, 11.40it/s]"
     ]
    },
    {
     "name": "stdout",
     "output_type": "stream",
     "text": [
      "--- Validation --- [threshold, AUC, Accuracy, F score] =  [np.float64(0.708), np.float64(0.974), np.float64(0.925), np.float64(0.939)]\n",
      "--- Training --- [threshold, AUC] =  [np.float64(0.706), np.float64(0.974)]\n",
      "--- Iteration 100: Training loss --- [Data, Label, Total] = [13213.470554.3, 309.173631.3, 66376.526403.3]\n",
      "!!! pred_type filter\n"
     ]
    },
    {
     "name": "stderr",
     "output_type": "stream",
     "text": [
      " 44%|████████████████████████████████████████████████████▎                                                                   | 109/250 [00:08<00:09, 14.83it/s]"
     ]
    },
    {
     "name": "stdout",
     "output_type": "stream",
     "text": [
      "--- Validation --- [threshold, AUC, Accuracy, F score] =  [np.float64(0.706), np.float64(0.974), np.float64(0.925), np.float64(0.939)]\n",
      "--- Training --- [threshold, AUC] =  [np.float64(0.701), np.float64(0.974)]\n",
      "--- Iteration 110: Training loss --- [Data, Label, Total] = [13155.738690.3, 309.306450.3, 66087.999899.3]\n",
      "!!! pred_type filter\n"
     ]
    },
    {
     "name": "stderr",
     "output_type": "stream",
     "text": [
      " 45%|██████████████████████████████████████████████████████▏                                                                 | 113/250 [00:09<00:12, 11.09it/s]"
     ]
    },
    {
     "name": "stdout",
     "output_type": "stream",
     "text": [
      "--- Validation --- [threshold, AUC, Accuracy, F score] =  [np.float64(0.701), np.float64(0.974), np.float64(0.925), np.float64(0.939)]\n",
      "--- Training --- [threshold, AUC] =  [np.float64(0.719), np.float64(0.974)]\n",
      "--- Iteration 120: Training loss --- [Data, Label, Total] = [13109.451228.3, 309.365934.3, 65856.622076.3]\n",
      "!!! pred_type filter\n"
     ]
    },
    {
     "name": "stderr",
     "output_type": "stream",
     "text": [
      " 50%|████████████████████████████████████████████████████████████▍                                                           | 126/250 [00:10<00:09, 12.74it/s]"
     ]
    },
    {
     "name": "stdout",
     "output_type": "stream",
     "text": [
      "--- Validation --- [threshold, AUC, Accuracy, F score] =  [np.float64(0.719), np.float64(0.974), np.float64(0.924), np.float64(0.938)]\n"
     ]
    },
    {
     "name": "stderr",
     "output_type": "stream",
     "text": [
      " 52%|█████████████████████████████████████████████████████████████▉                                                          | 129/250 [00:10<00:09, 13.40it/s]"
     ]
    },
    {
     "name": "stdout",
     "output_type": "stream",
     "text": [
      "--- Training --- [threshold, AUC] =  [np.float64(0.716), np.float64(0.974)]\n",
      "--- Iteration 130: Training loss --- [Data, Label, Total] = [13072.066015.3, 309.557352.3, 65669.887427.3]\n",
      "!!! pred_type filter\n"
     ]
    },
    {
     "name": "stderr",
     "output_type": "stream",
     "text": [
      " 56%|███████████████████████████████████████████████████████████████████▏                                                    | 140/250 [00:11<00:07, 14.19it/s]"
     ]
    },
    {
     "name": "stdout",
     "output_type": "stream",
     "text": [
      "--- Validation --- [threshold, AUC, Accuracy, F score] =  [np.float64(0.716), np.float64(0.974), np.float64(0.925), np.float64(0.939)]\n",
      "--- Training --- [threshold, AUC] =  [np.float64(0.715), np.float64(0.974)]\n",
      "--- Iteration 140: Training loss --- [Data, Label, Total] = [13041.766266.3, 309.612214.3, 65518.443542.3]\n",
      "!!! pred_type filter\n"
     ]
    },
    {
     "name": "stderr",
     "output_type": "stream",
     "text": [
      " 58%|█████████████████████████████████████████████████████████████████████                                                   | 144/250 [00:12<00:10, 10.31it/s]"
     ]
    },
    {
     "name": "stdout",
     "output_type": "stream",
     "text": [
      "--- Validation --- [threshold, AUC, Accuracy, F score] =  [np.float64(0.715), np.float64(0.974), np.float64(0.925), np.float64(0.939)]\n",
      "--- Training --- [threshold, AUC] =  [np.float64(0.711), np.float64(0.974)]\n",
      "--- Iteration 150: Training loss --- [Data, Label, Total] = [13016.611247.3, 309.578872.3, 65392.635109.3]\n",
      "!!! pred_type filter\n"
     ]
    },
    {
     "name": "stderr",
     "output_type": "stream",
     "text": [
      " 64%|████████████████████████████████████████████████████████████████████████████▎                                           | 159/250 [00:13<00:06, 14.04it/s]"
     ]
    },
    {
     "name": "stdout",
     "output_type": "stream",
     "text": [
      "--- Validation --- [threshold, AUC, Accuracy, F score] =  [np.float64(0.711), np.float64(0.974), np.float64(0.925), np.float64(0.939)]\n",
      "--- Training --- [threshold, AUC] =  [np.float64(0.713), np.float64(0.974)]\n",
      "--- Iteration 160: Training loss --- [Data, Label, Total] = [12995.469307.3, 309.542218.3, 65286.888752.3]\n",
      "!!! pred_type filter\n"
     ]
    },
    {
     "name": "stderr",
     "output_type": "stream",
     "text": [
      " 65%|██████████████████████████████████████████████████████████████████████████████▏                                         | 163/250 [00:13<00:08, 10.78it/s]"
     ]
    },
    {
     "name": "stdout",
     "output_type": "stream",
     "text": [
      "--- Validation --- [threshold, AUC, Accuracy, F score] =  [np.float64(0.713), np.float64(0.974), np.float64(0.925), np.float64(0.939)]\n",
      "--- Training --- [threshold, AUC] =  [np.float64(0.704), np.float64(0.974)]\n",
      "--- Iteration 170: Training loss --- [Data, Label, Total] = [12977.606156.3, 309.360040.3, 65197.390822.3]\n",
      "!!! pred_type filter\n"
     ]
    },
    {
     "name": "stderr",
     "output_type": "stream",
     "text": [
      " 72%|█████████████████████████████████████████████████████████████████████████████████████▉                                  | 179/250 [00:14<00:04, 15.40it/s]"
     ]
    },
    {
     "name": "stdout",
     "output_type": "stream",
     "text": [
      "--- Validation --- [threshold, AUC, Accuracy, F score] =  [np.float64(0.704), np.float64(0.974), np.float64(0.927), np.float64(0.941)]\n",
      "--- Training --- [threshold, AUC] =  [np.float64(0.702), np.float64(0.974)]\n",
      "--- Iteration 180: Training loss --- [Data, Label, Total] = [12962.919690.3, 309.223420.3, 65123.821869.3]\n",
      "!!! pred_type filter\n"
     ]
    },
    {
     "name": "stderr",
     "output_type": "stream",
     "text": [
      " 73%|███████████████████████████████████████████████████████████████████████████████████████▊                                | 183/250 [00:15<00:05, 11.61it/s]"
     ]
    },
    {
     "name": "stdout",
     "output_type": "stream",
     "text": [
      "--- Validation --- [threshold, AUC, Accuracy, F score] =  [np.float64(0.702), np.float64(0.974), np.float64(0.927), np.float64(0.941)]\n",
      "--- Training --- [threshold, AUC] =  [np.float64(0.698), np.float64(0.974)]\n",
      "--- Iteration 190: Training loss --- [Data, Label, Total] = [12950.932204.3, 309.059291.3, 65063.720313.3]\n",
      "!!! pred_type filter\n"
     ]
    },
    {
     "name": "stderr",
     "output_type": "stream",
     "text": [
      " 80%|███████████████████████████████████████████████████████████████████████████████████████████████▌                        | 199/250 [00:16<00:03, 15.98it/s]"
     ]
    },
    {
     "name": "stdout",
     "output_type": "stream",
     "text": [
      "--- Validation --- [threshold, AUC, Accuracy, F score] =  [np.float64(0.698), np.float64(0.974), np.float64(0.927), np.float64(0.941)]\n",
      "--- Training --- [threshold, AUC] =  [np.float64(0.661), np.float64(0.974)]\n",
      "--- Iteration 200: Training loss --- [Data, Label, Total] = [12940.612616.3, 308.786719.3, 65011.849798.3]\n",
      "!!! pred_type filter\n"
     ]
    },
    {
     "name": "stderr",
     "output_type": "stream",
     "text": [
      " 81%|█████████████████████████████████████████████████████████████████████████████████████████████████▍                      | 203/250 [00:16<00:03, 12.18it/s]"
     ]
    },
    {
     "name": "stdout",
     "output_type": "stream",
     "text": [
      "--- Validation --- [threshold, AUC, Accuracy, F score] =  [np.float64(0.661), np.float64(0.974), np.float64(0.93), np.float64(0.944)]\n",
      "--- Training --- [threshold, AUC] =  [np.float64(0.659), np.float64(0.974)]\n",
      "--- Iteration 210: Training loss --- [Data, Label, Total] = [12931.564477.3, 308.567705.3, 64966.390090.3]\n",
      "!!! pred_type filter\n"
     ]
    },
    {
     "name": "stderr",
     "output_type": "stream",
     "text": [
      " 88%|█████████████████████████████████████████████████████████████████████████████████████████████████████████               | 219/250 [00:17<00:01, 16.54it/s]"
     ]
    },
    {
     "name": "stdout",
     "output_type": "stream",
     "text": [
      "--- Validation --- [threshold, AUC, Accuracy, F score] =  [np.float64(0.659), np.float64(0.974), np.float64(0.93), np.float64(0.944)]\n",
      "--- Training --- [threshold, AUC] =  [np.float64(0.66), np.float64(0.974)]\n",
      "--- Iteration 220: Training loss --- [Data, Label, Total] = [12923.602191.3, 308.411491.3, 64926.422446.3]\n",
      "!!! pred_type filter\n"
     ]
    },
    {
     "name": "stderr",
     "output_type": "stream",
     "text": [
      " 90%|███████████████████████████████████████████████████████████████████████████████████████████████████████████▌            | 224/250 [00:18<00:02, 12.27it/s]"
     ]
    },
    {
     "name": "stdout",
     "output_type": "stream",
     "text": [
      "--- Validation --- [threshold, AUC, Accuracy, F score] =  [np.float64(0.66), np.float64(0.974), np.float64(0.931), np.float64(0.944)]\n",
      "--- Training --- [threshold, AUC] =  [np.float64(0.66), np.float64(0.974)]\n",
      "--- Iteration 230: Training loss --- [Data, Label, Total] = [12916.355599.3, 308.210634.3, 64889.988628.3]\n",
      "!!! pred_type filter\n"
     ]
    },
    {
     "name": "stderr",
     "output_type": "stream",
     "text": [
      " 95%|██████████████████████████████████████████████████████████████████████████████████████████████████████████████████▏     | 238/250 [00:19<00:00, 14.87it/s]"
     ]
    },
    {
     "name": "stdout",
     "output_type": "stream",
     "text": [
      "--- Validation --- [threshold, AUC, Accuracy, F score] =  [np.float64(0.66), np.float64(0.974), np.float64(0.931), np.float64(0.944)]\n",
      "--- Training --- [threshold, AUC] =  [np.float64(0.655), np.float64(0.974)]\n",
      "--- Iteration 240: Training loss --- [Data, Label, Total] = [12909.642265.3, 308.009109.3, 64856.220433.3]\n",
      "!!! pred_type filter\n"
     ]
    },
    {
     "name": "stderr",
     "output_type": "stream",
     "text": [
      "100%|████████████████████████████████████████████████████████████████████████████████████████████████████████████████████████| 250/250 [00:20<00:00, 12.46it/s]"
     ]
    },
    {
     "name": "stdout",
     "output_type": "stream",
     "text": [
      "--- Validation --- [threshold, AUC, Accuracy, F score] =  [np.float64(0.655), np.float64(0.974), np.float64(0.932), np.float64(0.945)]\n",
      "!!! pred_type filter\n"
     ]
    },
    {
     "name": "stderr",
     "output_type": "stream",
     "text": [
      "\n"
     ]
    },
    {
     "name": "stdout",
     "output_type": "stream",
     "text": [
      "num of subgraphs induced on k-paths: 500\n",
      "num of subgraphs induced on k-paths: 500\n",
      "X_list: (225, 1000)\n",
      "2\n",
      "(1, 500)\n",
      "(1, 500)\n",
      "label_vec: (1, 1000)\n",
      "('Caltech36', 'UCLA26') predicting Harvard1 0.8064638447237019\n",
      "\n",
      "3: 0.8778558372677772\n",
      "4: 0.8449298516548318\n",
      "5: 0.8328589202034812\n",
      "6: 0.8810722135926942\n",
      "7: 0.8300352574962108\n",
      "8: 0.8341847021951587\n",
      "9: 0.8194475467039469\n",
      "10: 0.8129617372639039\n",
      "11: 0.845638803372221\n",
      "12: 0.8369670343428398\n",
      "13: 0.8623456412356946\n",
      "14: 0.831572887805297\n",
      "15: 0.8408084132367011\n",
      "16: 0.8064638447237019\n",
      "\n",
      "num of subgraphs induced on k-paths: 500\n",
      "num of subgraphs induced on k-paths: 500\n",
      "X_list: (225, 1000)\n",
      "2\n",
      "(1, 500)\n",
      "(1, 500)\n",
      "label_vec: (1, 1000)\n",
      "num of subgraphs induced on k-paths: 500\n",
      "num of subgraphs induced on k-paths: 846\n",
      "X_list: (225, 1346)\n",
      "2\n",
      "(1, 500)\n",
      "(1, 846)\n",
      "label_vec: (1, 1346)\n",
      "initial loading beta [[-0.66476974 -0.76441707 -0.29925292  0.78854767 -0.74366348 -0.63942442\n",
      "  -0.13654882  0.01817856 -0.88214025 -0.77692065 -0.87486535  0.3094516\n",
      "   0.67168245 -0.56412114 -0.36848056 -0.21713606 -0.77031657  0.23925815]]\n"
     ]
    },
    {
     "name": "stderr",
     "output_type": "stream",
     "text": [
      "  2%|██▉                                                                                                                       | 6/250 [00:00<00:04, 58.10it/s]"
     ]
    },
    {
     "name": "stdout",
     "output_type": "stream",
     "text": [
      "--- Training --- [threshold, AUC] =  [np.float64(0.755), np.float64(0.963)]\n",
      "--- Iteration 0: Training loss --- [Data, Label, Total] = [30439.988951.3, 352.857110.3, 152552.801864.3]\n",
      "--- Training --- [threshold, AUC] =  [np.float64(0.703), np.float64(0.966)]\n",
      "--- Iteration 10: Training loss --- [Data, Label, Total] = [18151.680786.3, 332.734581.3, 91091.138512.3]\n",
      "!!! pred_type filter\n"
     ]
    },
    {
     "name": "stderr",
     "output_type": "stream",
     "text": [
      "  8%|█████████▏                                                                                                               | 19/250 [00:00<00:11, 20.70it/s]"
     ]
    },
    {
     "name": "stdout",
     "output_type": "stream",
     "text": [
      "--- Validation --- [threshold, AUC, Accuracy, F score] =  [np.float64(0.703), np.float64(0.966), np.float64(0.903), np.float64(0.921)]\n",
      "--- Training --- [threshold, AUC] =  [np.float64(0.692), np.float64(0.968)]\n",
      "--- Iteration 20: Training loss --- [Data, Label, Total] = [15925.962116.3, 325.610006.3, 79955.420584.3]\n",
      "!!! pred_type filter\n"
     ]
    },
    {
     "name": "stderr",
     "output_type": "stream",
     "text": [
      " 10%|███████████▌                                                                                                             | 24/250 [00:01<00:18, 12.37it/s]"
     ]
    },
    {
     "name": "stdout",
     "output_type": "stream",
     "text": [
      "--- Validation --- [threshold, AUC, Accuracy, F score] =  [np.float64(0.692), np.float64(0.968), np.float64(0.91), np.float64(0.927)]\n",
      "--- Training --- [threshold, AUC] =  [np.float64(0.679), np.float64(0.969)]\n",
      "--- Iteration 30: Training loss --- [Data, Label, Total] = [14711.347771.3, 323.490419.3, 73880.229275.3]\n",
      "!!! pred_type filter\n"
     ]
    },
    {
     "name": "stderr",
     "output_type": "stream",
     "text": [
      " 16%|██████████████████▉                                                                                                      | 39/250 [00:02<00:12, 16.99it/s]"
     ]
    },
    {
     "name": "stdout",
     "output_type": "stream",
     "text": [
      "--- Validation --- [threshold, AUC, Accuracy, F score] =  [np.float64(0.679), np.float64(0.969), np.float64(0.916), np.float64(0.932)]\n",
      "--- Training --- [threshold, AUC] =  [np.float64(0.667), np.float64(0.97)]\n",
      "--- Iteration 40: Training loss --- [Data, Label, Total] = [14013.219288.3, 321.996892.3, 70388.093330.3]\n",
      "!!! pred_type filter\n"
     ]
    },
    {
     "name": "stderr",
     "output_type": "stream",
     "text": [
      " 18%|█████████████████████▎                                                                                                   | 44/250 [00:03<00:16, 12.70it/s]"
     ]
    },
    {
     "name": "stdout",
     "output_type": "stream",
     "text": [
      "--- Validation --- [threshold, AUC, Accuracy, F score] =  [np.float64(0.667), np.float64(0.97), np.float64(0.918), np.float64(0.933)]\n",
      "--- Training --- [threshold, AUC] =  [np.float64(0.673), np.float64(0.97)]\n",
      "--- Iteration 50: Training loss --- [Data, Label, Total] = [13661.292466.3, 321.323327.3, 68627.785656.3]\n",
      "!!! pred_type filter\n"
     ]
    },
    {
     "name": "stderr",
     "output_type": "stream",
     "text": [
      " 24%|████████████████████████████▌                                                                                            | 59/250 [00:03<00:11, 16.67it/s]"
     ]
    },
    {
     "name": "stdout",
     "output_type": "stream",
     "text": [
      "--- Validation --- [threshold, AUC, Accuracy, F score] =  [np.float64(0.673), np.float64(0.97), np.float64(0.917), np.float64(0.933)]\n",
      "--- Training --- [threshold, AUC] =  [np.float64(0.667), np.float64(0.97)]\n",
      "--- Iteration 60: Training loss --- [Data, Label, Total] = [13481.495987.3, 321.153808.3, 67728.633743.3]\n",
      "!!! pred_type filter\n"
     ]
    },
    {
     "name": "stderr",
     "output_type": "stream",
     "text": [
      " 25%|██████████████████████████████▍                                                                                          | 63/250 [00:04<00:15, 12.32it/s]"
     ]
    },
    {
     "name": "stdout",
     "output_type": "stream",
     "text": [
      "--- Validation --- [threshold, AUC, Accuracy, F score] =  [np.float64(0.667), np.float64(0.97), np.float64(0.918), np.float64(0.933)]\n",
      "--- Training --- [threshold, AUC] =  [np.float64(0.699), np.float64(0.97)]\n",
      "--- Iteration 70: Training loss --- [Data, Label, Total] = [13380.329709.3, 321.125946.3, 67222.774493.3]\n",
      "!!! pred_type filter\n"
     ]
    },
    {
     "name": "stderr",
     "output_type": "stream",
     "text": [
      " 32%|██████████████████████████████████████▏                                                                                  | 79/250 [00:05<00:10, 16.98it/s]"
     ]
    },
    {
     "name": "stdout",
     "output_type": "stream",
     "text": [
      "--- Validation --- [threshold, AUC, Accuracy, F score] =  [np.float64(0.699), np.float64(0.97), np.float64(0.915), np.float64(0.931)]\n",
      "--- Training --- [threshold, AUC] =  [np.float64(0.695), np.float64(0.97)]\n",
      "--- Iteration 80: Training loss --- [Data, Label, Total] = [13315.382739.3, 321.310106.3, 66898.223799.3]\n",
      "!!! pred_type filter\n"
     ]
    },
    {
     "name": "stderr",
     "output_type": "stream",
     "text": [
      " 33%|████████████████████████████████████████▏                                                                                | 83/250 [00:06<00:13, 12.64it/s]"
     ]
    },
    {
     "name": "stdout",
     "output_type": "stream",
     "text": [
      "--- Validation --- [threshold, AUC, Accuracy, F score] =  [np.float64(0.695), np.float64(0.97), np.float64(0.915), np.float64(0.931)]\n",
      "--- Training --- [threshold, AUC] =  [np.float64(0.689), np.float64(0.97)]\n",
      "--- Iteration 90: Training loss --- [Data, Label, Total] = [13269.587996.3, 321.523465.3, 66669.463445.3]\n",
      "!!! pred_type filter\n"
     ]
    },
    {
     "name": "stderr",
     "output_type": "stream",
     "text": [
      " 40%|███████████████████████████████████████████████▉                                                                         | 99/250 [00:06<00:08, 17.13it/s]"
     ]
    },
    {
     "name": "stdout",
     "output_type": "stream",
     "text": [
      "--- Validation --- [threshold, AUC, Accuracy, F score] =  [np.float64(0.689), np.float64(0.97), np.float64(0.915), np.float64(0.931)]\n",
      "--- Training --- [threshold, AUC] =  [np.float64(0.685), np.float64(0.97)]\n",
      "--- Iteration 100: Training loss --- [Data, Label, Total] = [13230.713415.3, 321.637965.3, 66475.205039.3]\n",
      "!!! pred_type filter\n"
     ]
    },
    {
     "name": "stderr",
     "output_type": "stream",
     "text": [
      " 41%|█████████████████████████████████████████████████▍                                                                      | 103/250 [00:07<00:11, 12.84it/s]"
     ]
    },
    {
     "name": "stdout",
     "output_type": "stream",
     "text": [
      "--- Validation --- [threshold, AUC, Accuracy, F score] =  [np.float64(0.685), np.float64(0.97), np.float64(0.915), np.float64(0.931)]\n",
      "--- Training --- [threshold, AUC] =  [np.float64(0.68), np.float64(0.97)]\n",
      "--- Iteration 110: Training loss --- [Data, Label, Total] = [13189.310741.3, 321.429839.3, 66267.983545.3]\n",
      "!!! pred_type filter\n"
     ]
    },
    {
     "name": "stderr",
     "output_type": "stream",
     "text": [
      " 47%|████████████████████████████████████████████████████████▏                                                               | 117/250 [00:08<00:08, 15.96it/s]"
     ]
    },
    {
     "name": "stdout",
     "output_type": "stream",
     "text": [
      "--- Validation --- [threshold, AUC, Accuracy, F score] =  [np.float64(0.68), np.float64(0.97), np.float64(0.915), np.float64(0.931)]\n",
      "--- Training --- [threshold, AUC] =  [np.float64(0.677), np.float64(0.97)]\n",
      "--- Iteration 120: Training loss --- [Data, Label, Total] = [13138.048317.3, 321.344584.3, 66011.586169.3]\n",
      "!!! pred_type filter\n"
     ]
    },
    {
     "name": "stderr",
     "output_type": "stream",
     "text": [
      " 52%|█████████████████████████████████████████████████████████████▉                                                          | 129/250 [00:09<00:07, 16.89it/s]"
     ]
    },
    {
     "name": "stdout",
     "output_type": "stream",
     "text": [
      "--- Validation --- [threshold, AUC, Accuracy, F score] =  [np.float64(0.677), np.float64(0.97), np.float64(0.916), np.float64(0.932)]\n",
      "--- Training --- [threshold, AUC] =  [np.float64(0.689), np.float64(0.97)]\n",
      "--- Iteration 130: Training loss --- [Data, Label, Total] = [13073.953957.3, 320.996753.3, 65690.766539.3]\n",
      "!!! pred_type filter\n"
     ]
    },
    {
     "name": "stderr",
     "output_type": "stream",
     "text": [
      " 54%|████████████████████████████████████████████████████████████████▎                                                       | 134/250 [00:09<00:08, 13.11it/s]"
     ]
    },
    {
     "name": "stdout",
     "output_type": "stream",
     "text": [
      "--- Validation --- [threshold, AUC, Accuracy, F score] =  [np.float64(0.689), np.float64(0.97), np.float64(0.915), np.float64(0.931)]\n",
      "--- Training --- [threshold, AUC] =  [np.float64(0.69), np.float64(0.97)]\n",
      "--- Iteration 140: Training loss --- [Data, Label, Total] = [13002.250489.3, 320.807133.3, 65332.059578.3]\n",
      "!!! pred_type filter\n"
     ]
    },
    {
     "name": "stderr",
     "output_type": "stream",
     "text": [
      " 60%|███████████████████████████████████████████████████████████████████████▌                                                | 149/250 [00:10<00:05, 17.18it/s]"
     ]
    },
    {
     "name": "stdout",
     "output_type": "stream",
     "text": [
      "--- Validation --- [threshold, AUC, Accuracy, F score] =  [np.float64(0.69), np.float64(0.97), np.float64(0.915), np.float64(0.931)]\n",
      "--- Training --- [threshold, AUC] =  [np.float64(0.69), np.float64(0.97)]\n",
      "--- Iteration 150: Training loss --- [Data, Label, Total] = [12933.150847.3, 320.646493.3, 64986.400727.3]\n",
      "!!! pred_type filter\n"
     ]
    },
    {
     "name": "stderr",
     "output_type": "stream",
     "text": [
      " 61%|█████████████████████████████████████████████████████████████████████████▍                                              | 153/250 [00:11<00:07, 13.05it/s]"
     ]
    },
    {
     "name": "stdout",
     "output_type": "stream",
     "text": [
      "--- Validation --- [threshold, AUC, Accuracy, F score] =  [np.float64(0.69), np.float64(0.97), np.float64(0.915), np.float64(0.931)]\n",
      "--- Training --- [threshold, AUC] =  [np.float64(0.696), np.float64(0.97)]\n",
      "--- Iteration 160: Training loss --- [Data, Label, Total] = [12873.580558.3, 320.538995.3, 64688.441786.3]\n",
      "!!! pred_type filter\n"
     ]
    },
    {
     "name": "stderr",
     "output_type": "stream",
     "text": [
      " 68%|█████████████████████████████████████████████████████████████████████████████████                                       | 169/250 [00:11<00:04, 17.50it/s]"
     ]
    },
    {
     "name": "stdout",
     "output_type": "stream",
     "text": [
      "--- Validation --- [threshold, AUC, Accuracy, F score] =  [np.float64(0.696), np.float64(0.97), np.float64(0.915), np.float64(0.93)]\n",
      "--- Training --- [threshold, AUC] =  [np.float64(0.693), np.float64(0.97)]\n",
      "--- Iteration 170: Training loss --- [Data, Label, Total] = [12825.455207.3, 320.422325.3, 64447.698359.3]\n",
      "!!! pred_type filter\n"
     ]
    },
    {
     "name": "stderr",
     "output_type": "stream",
     "text": [
      " 69%|███████████████████████████████████████████████████████████████████████████████████                                     | 173/250 [00:12<00:05, 13.11it/s]"
     ]
    },
    {
     "name": "stdout",
     "output_type": "stream",
     "text": [
      "--- Validation --- [threshold, AUC, Accuracy, F score] =  [np.float64(0.693), np.float64(0.97), np.float64(0.916), np.float64(0.931)]\n",
      "--- Training --- [threshold, AUC] =  [np.float64(0.693), np.float64(0.971)]\n",
      "--- Iteration 180: Training loss --- [Data, Label, Total] = [12787.951266.3, 320.298588.3, 64260.054917.3]\n",
      "!!! pred_type filter\n"
     ]
    },
    {
     "name": "stderr",
     "output_type": "stream",
     "text": [
      " 75%|██████████████████████████████████████████████████████████████████████████████████████████▏                             | 188/250 [00:13<00:03, 16.94it/s]"
     ]
    },
    {
     "name": "stdout",
     "output_type": "stream",
     "text": [
      "--- Validation --- [threshold, AUC, Accuracy, F score] =  [np.float64(0.693), np.float64(0.971), np.float64(0.917), np.float64(0.932)]\n",
      "--- Training --- [threshold, AUC] =  [np.float64(0.693), np.float64(0.971)]\n",
      "--- Iteration 190: Training loss --- [Data, Label, Total] = [12759.540692.3, 320.199420.3, 64117.902881.3]\n",
      "!!! pred_type filter\n"
     ]
    },
    {
     "name": "stderr",
     "output_type": "stream",
     "text": [
      " 80%|████████████████████████████████████████████████████████████████████████████████████████████████                        | 200/250 [00:14<00:02, 18.34it/s]"
     ]
    },
    {
     "name": "stdout",
     "output_type": "stream",
     "text": [
      "--- Validation --- [threshold, AUC, Accuracy, F score] =  [np.float64(0.693), np.float64(0.971), np.float64(0.917), np.float64(0.932)]\n",
      "--- Training --- [threshold, AUC] =  [np.float64(0.685), np.float64(0.971)]\n",
      "--- Iteration 200: Training loss --- [Data, Label, Total] = [12738.156096.3, 320.112888.3, 64010.893367.3]\n",
      "!!! pred_type filter\n"
     ]
    },
    {
     "name": "stderr",
     "output_type": "stream",
     "text": [
      " 82%|██████████████████████████████████████████████████████████████████████████████████████████████████▍                     | 205/250 [00:14<00:03, 13.43it/s]"
     ]
    },
    {
     "name": "stdout",
     "output_type": "stream",
     "text": [
      "--- Validation --- [threshold, AUC, Accuracy, F score] =  [np.float64(0.685), np.float64(0.971), np.float64(0.918), np.float64(0.933)]\n"
     ]
    },
    {
     "name": "stderr",
     "output_type": "stream",
     "text": [
      " 84%|████████████████████████████████████████████████████████████████████████████████████████████████████▊                   | 210/250 [00:14<00:02, 16.15it/s]"
     ]
    },
    {
     "name": "stdout",
     "output_type": "stream",
     "text": [
      "--- Training --- [threshold, AUC] =  [np.float64(0.695), np.float64(0.971)]\n",
      "--- Iteration 210: Training loss --- [Data, Label, Total] = [12721.830032.3, 320.022514.3, 63929.172673.3]\n",
      "!!! pred_type filter\n"
     ]
    },
    {
     "name": "stderr",
     "output_type": "stream",
     "text": [
      " 86%|██████████████████████████████████████████████████████████████████████████████████████████████████████▋                 | 214/250 [00:15<00:03, 10.29it/s]"
     ]
    },
    {
     "name": "stdout",
     "output_type": "stream",
     "text": [
      "--- Validation --- [threshold, AUC, Accuracy, F score] =  [np.float64(0.695), np.float64(0.971), np.float64(0.917), np.float64(0.932)]\n",
      "--- Training --- [threshold, AUC] =  [np.float64(0.675), np.float64(0.971)]\n",
      "--- Iteration 220: Training loss --- [Data, Label, Total] = [12709.046114.3, 319.975508.3, 63865.206077.3]\n",
      "!!! pred_type filter\n"
     ]
    },
    {
     "name": "stderr",
     "output_type": "stream",
     "text": [
      " 92%|█████████████████████████████████████████████████████████████████████████████████████████████████████████████▉          | 229/250 [00:16<00:01, 15.54it/s]"
     ]
    },
    {
     "name": "stdout",
     "output_type": "stream",
     "text": [
      "--- Validation --- [threshold, AUC, Accuracy, F score] =  [np.float64(0.675), np.float64(0.971), np.float64(0.921), np.float64(0.936)]\n",
      "--- Training --- [threshold, AUC] =  [np.float64(0.697), np.float64(0.971)]\n",
      "--- Iteration 230: Training loss --- [Data, Label, Total] = [12698.572451.3, 319.835362.3, 63812.697615.3]\n",
      "!!! pred_type filter\n"
     ]
    },
    {
     "name": "stderr",
     "output_type": "stream",
     "text": [
      " 93%|███████████████████████████████████████████████████████████████████████████████████████████████████████████████▊        | 233/250 [00:17<00:01, 12.01it/s]"
     ]
    },
    {
     "name": "stdout",
     "output_type": "stream",
     "text": [
      "--- Validation --- [threshold, AUC, Accuracy, F score] =  [np.float64(0.697), np.float64(0.971), np.float64(0.918), np.float64(0.933)]\n",
      "--- Training --- [threshold, AUC] =  [np.float64(0.698), np.float64(0.971)]\n",
      "--- Iteration 240: Training loss --- [Data, Label, Total] = [12689.513371.3, 319.786275.3, 63767.353128.3]\n",
      "!!! pred_type filter\n"
     ]
    },
    {
     "name": "stderr",
     "output_type": "stream",
     "text": [
      "100%|████████████████████████████████████████████████████████████████████████████████████████████████████████████████████████| 250/250 [00:17<00:00, 14.01it/s]"
     ]
    },
    {
     "name": "stdout",
     "output_type": "stream",
     "text": [
      "--- Validation --- [threshold, AUC, Accuracy, F score] =  [np.float64(0.698), np.float64(0.971), np.float64(0.918), np.float64(0.933)]\n",
      "!!! pred_type filter\n"
     ]
    },
    {
     "name": "stderr",
     "output_type": "stream",
     "text": [
      "\n"
     ]
    },
    {
     "name": "stdout",
     "output_type": "stream",
     "text": [
      "num of subgraphs induced on k-paths: 500\n",
      "num of subgraphs induced on k-paths: 500\n",
      "X_list: (225, 1000)\n",
      "2\n",
      "(1, 500)\n",
      "(1, 500)\n",
      "label_vec: (1, 1000)\n",
      "('Caltech36', 'UCLA26') predicting Harvard1 0.8287998330500281\n",
      "\n",
      "3: 0.8778558372677772\n",
      "4: 0.8449298516548318\n",
      "5: 0.8328589202034812\n",
      "6: 0.8810722135926942\n",
      "7: 0.8300352574962108\n",
      "8: 0.8341847021951587\n",
      "9: 0.8194475467039469\n",
      "10: 0.8129617372639039\n",
      "11: 0.845638803372221\n",
      "12: 0.8369670343428398\n",
      "13: 0.8623456412356946\n",
      "14: 0.831572887805297\n",
      "15: 0.8408084132367011\n",
      "16: 0.8064638447237019\n",
      "17: 0.8287998330500281\n",
      "\n",
      "num of subgraphs induced on k-paths: 500\n",
      "num of subgraphs induced on k-paths: 500\n",
      "X_list: (225, 1000)\n",
      "2\n",
      "(1, 500)\n",
      "(1, 500)\n",
      "label_vec: (1, 1000)\n",
      "num of subgraphs induced on k-paths: 500\n",
      "num of subgraphs induced on k-paths: 876\n",
      "X_list: (225, 1376)\n",
      "2\n",
      "(1, 500)\n",
      "(1, 876)\n",
      "label_vec: (1, 1376)\n",
      "initial loading beta [[-0.55495993 -0.00423115  0.25832772  0.68124815 -0.04967991 -0.18528958\n",
      "  -0.39355418 -0.85529992 -0.82741503 -0.42590313  0.5815486  -0.11687251\n",
      "  -0.45892019  0.35700042  0.04606282 -0.0192158  -0.82326375 -0.48465653\n",
      "   0.26847972]]\n"
     ]
    },
    {
     "name": "stderr",
     "output_type": "stream",
     "text": [
      "  0%|                                                                                                                                  | 0/250 [00:00<?, ?it/s]"
     ]
    },
    {
     "name": "stdout",
     "output_type": "stream",
     "text": [
      "--- Training --- [threshold, AUC] =  [np.float64(0.669), np.float64(0.964)]\n",
      "--- Iteration 0: Training loss --- [Data, Label, Total] = [31013.588178.3, 350.263208.3, 155418.204098.3]\n"
     ]
    },
    {
     "name": "stderr",
     "output_type": "stream",
     "text": [
      "  4%|████▊                                                                                                                    | 10/250 [00:00<00:05, 41.99it/s]"
     ]
    },
    {
     "name": "stdout",
     "output_type": "stream",
     "text": [
      "--- Training --- [threshold, AUC] =  [np.float64(0.734), np.float64(0.966)]\n",
      "--- Iteration 10: Training loss --- [Data, Label, Total] = [17950.000942.3, 337.980620.3, 90087.985331.3]\n",
      "!!! pred_type filter\n"
     ]
    },
    {
     "name": "stderr",
     "output_type": "stream",
     "text": [
      "  6%|███████▎                                                                                                                 | 15/250 [00:01<00:35,  6.54it/s]"
     ]
    },
    {
     "name": "stdout",
     "output_type": "stream",
     "text": [
      "--- Validation --- [threshold, AUC, Accuracy, F score] =  [np.float64(0.734), np.float64(0.966), np.float64(0.897), np.float64(0.916)]\n"
     ]
    },
    {
     "name": "stderr",
     "output_type": "stream",
     "text": [
      "  8%|█████████▏                                                                                                               | 19/250 [00:01<00:25,  9.14it/s]"
     ]
    },
    {
     "name": "stdout",
     "output_type": "stream",
     "text": [
      "--- Training --- [threshold, AUC] =  [np.float64(0.647), np.float64(0.966)]\n",
      "--- Iteration 20: Training loss --- [Data, Label, Total] = [15667.758940.3, 338.502209.3, 78677.296908.3]\n",
      "!!! pred_type filter\n"
     ]
    },
    {
     "name": "stderr",
     "output_type": "stream",
     "text": [
      "  9%|███████████▏                                                                                                             | 23/250 [00:02<00:34,  6.66it/s]"
     ]
    },
    {
     "name": "stdout",
     "output_type": "stream",
     "text": [
      "--- Validation --- [threshold, AUC, Accuracy, F score] =  [np.float64(0.647), np.float64(0.966), np.float64(0.906), np.float64(0.925)]\n",
      "--- Training --- [threshold, AUC] =  [np.float64(0.687), np.float64(0.966)]\n",
      "--- Iteration 30: Training loss --- [Data, Label, Total] = [14732.583853.3, 338.194267.3, 74001.113531.3]\n",
      "!!! pred_type filter\n"
     ]
    },
    {
     "name": "stderr",
     "output_type": "stream",
     "text": [
      " 16%|██████████████████▉                                                                                                      | 39/250 [00:03<00:17, 12.34it/s]"
     ]
    },
    {
     "name": "stdout",
     "output_type": "stream",
     "text": [
      "--- Validation --- [threshold, AUC, Accuracy, F score] =  [np.float64(0.687), np.float64(0.966), np.float64(0.903), np.float64(0.922)]\n",
      "--- Training --- [threshold, AUC] =  [np.float64(0.679), np.float64(0.966)]\n",
      "--- Iteration 40: Training loss --- [Data, Label, Total] = [14255.581621.3, 336.296377.3, 71614.204482.3]\n",
      "!!! pred_type filter\n"
     ]
    },
    {
     "name": "stderr",
     "output_type": "stream",
     "text": [
      " 17%|████████████████████▊                                                                                                    | 43/250 [00:04<00:21,  9.64it/s]"
     ]
    },
    {
     "name": "stdout",
     "output_type": "stream",
     "text": [
      "--- Validation --- [threshold, AUC, Accuracy, F score] =  [np.float64(0.679), np.float64(0.966), np.float64(0.905), np.float64(0.924)]\n",
      "--- Training --- [threshold, AUC] =  [np.float64(0.702), np.float64(0.967)]\n",
      "--- Iteration 50: Training loss --- [Data, Label, Total] = [13952.539910.3, 335.283313.3, 70097.982863.3]\n",
      "!!! pred_type filter\n"
     ]
    },
    {
     "name": "stderr",
     "output_type": "stream",
     "text": [
      " 23%|████████████████████████████                                                                                             | 58/250 [00:05<00:13, 13.87it/s]"
     ]
    },
    {
     "name": "stdout",
     "output_type": "stream",
     "text": [
      "--- Validation --- [threshold, AUC, Accuracy, F score] =  [np.float64(0.702), np.float64(0.967), np.float64(0.903), np.float64(0.921)]\n",
      "--- Training --- [threshold, AUC] =  [np.float64(0.716), np.float64(0.967)]\n",
      "--- Iteration 60: Training loss --- [Data, Label, Total] = [13708.799875.3, 334.886859.3, 68878.886232.3]\n",
      "!!! pred_type filter\n"
     ]
    },
    {
     "name": "stderr",
     "output_type": "stream",
     "text": [
      " 26%|███████████████████████████████▍                                                                                         | 65/250 [00:06<00:21,  8.73it/s]"
     ]
    },
    {
     "name": "stdout",
     "output_type": "stream",
     "text": [
      "--- Validation --- [threshold, AUC, Accuracy, F score] =  [np.float64(0.716), np.float64(0.967), np.float64(0.901), np.float64(0.92)]\n"
     ]
    },
    {
     "name": "stderr",
     "output_type": "stream",
     "text": [
      " 28%|█████████████████████████████████▍                                                                                       | 69/250 [00:07<00:17, 10.09it/s]"
     ]
    },
    {
     "name": "stdout",
     "output_type": "stream",
     "text": [
      "--- Training --- [threshold, AUC] =  [np.float64(0.719), np.float64(0.967)]\n",
      "--- Iteration 70: Training loss --- [Data, Label, Total] = [13507.301213.3, 334.462667.3, 67870.968730.3]\n",
      "!!! pred_type filter\n"
     ]
    },
    {
     "name": "stderr",
     "output_type": "stream",
     "text": [
      " 32%|██████████████████████████████████████▋                                                                                  | 80/250 [00:08<00:15, 11.06it/s]"
     ]
    },
    {
     "name": "stdout",
     "output_type": "stream",
     "text": [
      "--- Validation --- [threshold, AUC, Accuracy, F score] =  [np.float64(0.719), np.float64(0.967), np.float64(0.901), np.float64(0.92)]\n",
      "--- Training --- [threshold, AUC] =  [np.float64(0.72), np.float64(0.967)]\n",
      "--- Iteration 80: Training loss --- [Data, Label, Total] = [13360.320187.3, 333.950614.3, 67135.551551.3]\n",
      "!!! pred_type filter\n"
     ]
    },
    {
     "name": "stderr",
     "output_type": "stream",
     "text": [
      " 34%|████████████████████████████████████████▋                                                                                | 84/250 [00:08<00:18,  8.90it/s]"
     ]
    },
    {
     "name": "stdout",
     "output_type": "stream",
     "text": [
      "--- Validation --- [threshold, AUC, Accuracy, F score] =  [np.float64(0.72), np.float64(0.967), np.float64(0.903), np.float64(0.921)]\n",
      "--- Training --- [threshold, AUC] =  [np.float64(0.722), np.float64(0.967)]\n",
      "--- Iteration 90: Training loss --- [Data, Label, Total] = [13261.710067.3, 333.280313.3, 66641.830646.3]\n",
      "!!! pred_type filter\n"
     ]
    },
    {
     "name": "stderr",
     "output_type": "stream",
     "text": [
      " 39%|███████████████████████████████████████████████▍                                                                         | 98/250 [00:09<00:11, 12.77it/s]"
     ]
    },
    {
     "name": "stdout",
     "output_type": "stream",
     "text": [
      "--- Validation --- [threshold, AUC, Accuracy, F score] =  [np.float64(0.722), np.float64(0.967), np.float64(0.903), np.float64(0.921)]\n",
      "--- Training --- [threshold, AUC] =  [np.float64(0.729), np.float64(0.967)]\n",
      "--- Iteration 100: Training loss --- [Data, Label, Total] = [13195.275011.3, 332.793042.3, 66309.168099.3]\n",
      "!!! pred_type filter\n"
     ]
    },
    {
     "name": "stderr",
     "output_type": "stream",
     "text": [
      " 44%|████████████████████████████████████████████████████▊                                                                   | 110/250 [00:10<00:09, 14.77it/s]"
     ]
    },
    {
     "name": "stdout",
     "output_type": "stream",
     "text": [
      "--- Validation --- [threshold, AUC, Accuracy, F score] =  [np.float64(0.729), np.float64(0.967), np.float64(0.901), np.float64(0.919)]\n",
      "--- Training --- [threshold, AUC] =  [np.float64(0.71), np.float64(0.967)]\n",
      "--- Iteration 110: Training loss --- [Data, Label, Total] = [13149.052738.3, 332.036604.3, 66077.300297.3]\n",
      "!!! pred_type filter\n"
     ]
    },
    {
     "name": "stderr",
     "output_type": "stream",
     "text": [
      " 48%|█████████████████████████████████████████████████████████▌                                                              | 120/250 [00:11<00:09, 14.44it/s]"
     ]
    },
    {
     "name": "stdout",
     "output_type": "stream",
     "text": [
      "--- Validation --- [threshold, AUC, Accuracy, F score] =  [np.float64(0.71), np.float64(0.967), np.float64(0.903), np.float64(0.922)]\n",
      "--- Training --- [threshold, AUC] =  [np.float64(0.709), np.float64(0.968)]\n",
      "--- Iteration 120: Training loss --- [Data, Label, Total] = [13115.387293.3, 331.484080.3, 65908.420545.3]\n",
      "!!! pred_type filter\n"
     ]
    },
    {
     "name": "stderr",
     "output_type": "stream",
     "text": [
      " 50%|███████████████████████████████████████████████████████████▌                                                            | 124/250 [00:12<00:12, 10.12it/s]"
     ]
    },
    {
     "name": "stdout",
     "output_type": "stream",
     "text": [
      "--- Validation --- [threshold, AUC, Accuracy, F score] =  [np.float64(0.709), np.float64(0.968), np.float64(0.904), np.float64(0.922)]\n",
      "--- Training --- [threshold, AUC] =  [np.float64(0.703), np.float64(0.968)]\n",
      "--- Iteration 130: Training loss --- [Data, Label, Total] = [13089.016205.3, 330.782565.3, 65775.863590.3]\n",
      "!!! pred_type filter\n"
     ]
    },
    {
     "name": "stderr",
     "output_type": "stream",
     "text": [
      " 55%|██████████████████████████████████████████████████████████████████▏                                                     | 138/250 [00:13<00:08, 13.67it/s]"
     ]
    },
    {
     "name": "stdout",
     "output_type": "stream",
     "text": [
      "--- Validation --- [threshold, AUC, Accuracy, F score] =  [np.float64(0.703), np.float64(0.968), np.float64(0.904), np.float64(0.922)]\n",
      "--- Training --- [threshold, AUC] =  [np.float64(0.696), np.float64(0.968)]\n",
      "--- Iteration 140: Training loss --- [Data, Label, Total] = [13067.052931.3, 330.363768.3, 65665.628421.3]\n",
      "!!! pred_type filter\n"
     ]
    },
    {
     "name": "stderr",
     "output_type": "stream",
     "text": [
      " 60%|███████████████████████████████████████████████████████████████████████▌                                                | 149/250 [00:14<00:06, 14.53it/s]"
     ]
    },
    {
     "name": "stdout",
     "output_type": "stream",
     "text": [
      "--- Validation --- [threshold, AUC, Accuracy, F score] =  [np.float64(0.696), np.float64(0.968), np.float64(0.905), np.float64(0.923)]\n",
      "--- Training --- [threshold, AUC] =  [np.float64(0.722), np.float64(0.968)]\n",
      "--- Iteration 150: Training loss --- [Data, Label, Total] = [13047.768777.3, 330.013511.3, 65568.857396.3]\n",
      "!!! pred_type filter\n"
     ]
    },
    {
     "name": "stderr",
     "output_type": "stream",
     "text": [
      " 64%|████████████████████████████████████████████████████████████████████████████▎                                           | 159/250 [00:14<00:06, 13.95it/s]"
     ]
    },
    {
     "name": "stdout",
     "output_type": "stream",
     "text": [
      "--- Validation --- [threshold, AUC, Accuracy, F score] =  [np.float64(0.722), np.float64(0.968), np.float64(0.903), np.float64(0.921)]\n",
      "--- Training --- [threshold, AUC] =  [np.float64(0.718), np.float64(0.968)]\n",
      "--- Iteration 160: Training loss --- [Data, Label, Total] = [13029.977671.3, 329.853803.3, 65479.742157.3]\n",
      "!!! pred_type filter\n"
     ]
    },
    {
     "name": "stderr",
     "output_type": "stream",
     "text": [
      " 65%|██████████████████████████████████████████████████████████████████████████████▏                                         | 163/250 [00:15<00:08, 10.02it/s]"
     ]
    },
    {
     "name": "stdout",
     "output_type": "stream",
     "text": [
      "--- Validation --- [threshold, AUC, Accuracy, F score] =  [np.float64(0.718), np.float64(0.968), np.float64(0.903), np.float64(0.921)]\n",
      "--- Training --- [threshold, AUC] =  [np.float64(0.731), np.float64(0.968)]\n",
      "--- Iteration 170: Training loss --- [Data, Label, Total] = [13013.267213.3, 329.422751.3, 65395.758816.3]\n",
      "!!! pred_type filter\n"
     ]
    },
    {
     "name": "stderr",
     "output_type": "stream",
     "text": [
      " 71%|█████████████████████████████████████████████████████████████████████████████████████▍                                  | 178/250 [00:16<00:05, 13.89it/s]"
     ]
    },
    {
     "name": "stdout",
     "output_type": "stream",
     "text": [
      "--- Validation --- [threshold, AUC, Accuracy, F score] =  [np.float64(0.731), np.float64(0.968), np.float64(0.902), np.float64(0.92)]\n",
      "--- Training --- [threshold, AUC] =  [np.float64(0.73), np.float64(0.968)]\n",
      "--- Iteration 180: Training loss --- [Data, Label, Total] = [12997.533990.3, 329.151854.3, 65316.821803.3]\n",
      "!!! pred_type filter\n"
     ]
    },
    {
     "name": "stderr",
     "output_type": "stream",
     "text": [
      " 76%|██████████████████████████████████████████████████████████████████████████████████████████▋                             | 189/250 [00:17<00:04, 14.69it/s]"
     ]
    },
    {
     "name": "stdout",
     "output_type": "stream",
     "text": [
      "--- Validation --- [threshold, AUC, Accuracy, F score] =  [np.float64(0.73), np.float64(0.968), np.float64(0.902), np.float64(0.92)]\n",
      "--- Training --- [threshold, AUC] =  [np.float64(0.727), np.float64(0.968)]\n",
      "--- Iteration 190: Training loss --- [Data, Label, Total] = [12982.373261.3, 328.781377.3, 65240.647680.3]\n",
      "!!! pred_type filter\n"
     ]
    },
    {
     "name": "stderr",
     "output_type": "stream",
     "text": [
      " 80%|████████████████████████████████████████████████████████████████████████████████████████████████                        | 200/250 [00:18<00:03, 15.06it/s]"
     ]
    },
    {
     "name": "stdout",
     "output_type": "stream",
     "text": [
      "--- Validation --- [threshold, AUC, Accuracy, F score] =  [np.float64(0.727), np.float64(0.968), np.float64(0.903), np.float64(0.921)]\n",
      "--- Training --- [threshold, AUC] =  [np.float64(0.727), np.float64(0.968)]\n",
      "--- Iteration 200: Training loss --- [Data, Label, Total] = [12967.220988.3, 328.584176.3, 65164.689116.3]\n",
      "!!! pred_type filter\n"
     ]
    },
    {
     "name": "stderr",
     "output_type": "stream",
     "text": [
      " 82%|█████████████████████████████████████████████████████████████████████████████████████████████████▉                      | 204/250 [00:19<00:04, 10.72it/s]"
     ]
    },
    {
     "name": "stdout",
     "output_type": "stream",
     "text": [
      "--- Validation --- [threshold, AUC, Accuracy, F score] =  [np.float64(0.727), np.float64(0.968), np.float64(0.903), np.float64(0.921)]\n",
      "--- Training --- [threshold, AUC] =  [np.float64(0.725), np.float64(0.968)]\n",
      "--- Iteration 210: Training loss --- [Data, Label, Total] = [12950.805598.3, 328.466241.3, 65082.494230.3]\n",
      "!!! pred_type filter\n"
     ]
    },
    {
     "name": "stderr",
     "output_type": "stream",
     "text": [
      " 87%|████████████████████████████████████████████████████████████████████████████████████████████████████████▋               | 218/250 [00:20<00:02, 13.95it/s]"
     ]
    },
    {
     "name": "stdout",
     "output_type": "stream",
     "text": [
      "--- Validation --- [threshold, AUC, Accuracy, F score] =  [np.float64(0.725), np.float64(0.968), np.float64(0.903), np.float64(0.921)]\n",
      "--- Training --- [threshold, AUC] =  [np.float64(0.725), np.float64(0.968)]\n",
      "--- Iteration 220: Training loss --- [Data, Label, Total] = [12931.788695.3, 328.042577.3, 64986.986052.3]\n",
      "!!! pred_type filter\n"
     ]
    },
    {
     "name": "stderr",
     "output_type": "stream",
     "text": [
      " 92%|█████████████████████████████████████████████████████████████████████████████████████████████████████████████▉          | 229/250 [00:20<00:01, 14.78it/s]"
     ]
    },
    {
     "name": "stdout",
     "output_type": "stream",
     "text": [
      "--- Validation --- [threshold, AUC, Accuracy, F score] =  [np.float64(0.725), np.float64(0.968), np.float64(0.903), np.float64(0.921)]\n",
      "--- Training --- [threshold, AUC] =  [np.float64(0.724), np.float64(0.968)]\n",
      "--- Iteration 230: Training loss --- [Data, Label, Total] = [12908.769451.3, 327.780429.3, 64871.627686.3]\n",
      "!!! pred_type filter\n"
     ]
    },
    {
     "name": "stderr",
     "output_type": "stream",
     "text": [
      " 96%|██████████████████████████████████████████████████████████████████████████████████████████████████████████████████▋     | 239/250 [00:21<00:00, 13.87it/s]"
     ]
    },
    {
     "name": "stdout",
     "output_type": "stream",
     "text": [
      "--- Validation --- [threshold, AUC, Accuracy, F score] =  [np.float64(0.724), np.float64(0.968), np.float64(0.903), np.float64(0.921)]\n",
      "--- Training --- [threshold, AUC] =  [np.float64(0.724), np.float64(0.968)]\n",
      "--- Iteration 240: Training loss --- [Data, Label, Total] = [12880.786903.3, 327.592087.3, 64731.526601.3]\n",
      "!!! pred_type filter\n"
     ]
    },
    {
     "name": "stderr",
     "output_type": "stream",
     "text": [
      "100%|████████████████████████████████████████████████████████████████████████████████████████████████████████████████████████| 250/250 [00:22<00:00, 11.03it/s]"
     ]
    },
    {
     "name": "stdout",
     "output_type": "stream",
     "text": [
      "--- Validation --- [threshold, AUC, Accuracy, F score] =  [np.float64(0.724), np.float64(0.968), np.float64(0.903), np.float64(0.921)]\n",
      "!!! pred_type filter\n"
     ]
    },
    {
     "name": "stderr",
     "output_type": "stream",
     "text": [
      "\n"
     ]
    },
    {
     "name": "stdout",
     "output_type": "stream",
     "text": [
      "num of subgraphs induced on k-paths: 500\n",
      "num of subgraphs induced on k-paths: 500\n",
      "X_list: (225, 1000)\n",
      "2\n",
      "(1, 500)\n",
      "(1, 500)\n",
      "label_vec: (1, 1000)\n",
      "('Caltech36', 'UCLA26') predicting Harvard1 0.8373152203303609\n",
      "\n",
      "3: 0.8778558372677772\n",
      "4: 0.8449298516548318\n",
      "5: 0.8328589202034812\n",
      "6: 0.8810722135926942\n",
      "7: 0.8300352574962108\n",
      "8: 0.8341847021951587\n",
      "9: 0.8194475467039469\n",
      "10: 0.8129617372639039\n",
      "11: 0.845638803372221\n",
      "12: 0.8369670343428398\n",
      "13: 0.8623456412356946\n",
      "14: 0.831572887805297\n",
      "15: 0.8408084132367011\n",
      "16: 0.8064638447237019\n",
      "17: 0.8287998330500281\n",
      "18: 0.8373152203303609\n",
      "\n",
      "num of subgraphs induced on k-paths: 500\n",
      "num of subgraphs induced on k-paths: 500\n",
      "X_list: (225, 1000)\n",
      "2\n",
      "(1, 500)\n",
      "(1, 500)\n",
      "label_vec: (1, 1000)\n",
      "num of subgraphs induced on k-paths: 500\n",
      "num of subgraphs induced on k-paths: 873\n",
      "X_list: (225, 1373)\n",
      "2\n",
      "(1, 500)\n",
      "(1, 873)\n",
      "label_vec: (1, 1373)\n",
      "initial loading beta [[-0.68070332  0.15049742  0.61241877  0.88479032 -0.83379595 -0.08555659\n",
      "   0.52164139 -0.45348396  0.95752962  0.38923447  0.49852184 -0.46240806\n",
      "  -0.75919763 -0.66353008  0.54614291  0.70492143 -0.26485876 -0.78486448\n",
      "   0.35619783  0.48264943]]\n"
     ]
    },
    {
     "name": "stderr",
     "output_type": "stream",
     "text": [
      "  2%|██▉                                                                                                                       | 6/250 [00:00<00:04, 53.04it/s]"
     ]
    },
    {
     "name": "stdout",
     "output_type": "stream",
     "text": [
      "--- Training --- [threshold, AUC] =  [np.float64(0.696), np.float64(0.955)]\n",
      "--- Iteration 0: Training loss --- [Data, Label, Total] = [31755.604301.3, 386.949650.3, 159164.971155.3]\n",
      "--- Training --- [threshold, AUC] =  [np.float64(0.697), np.float64(0.961)]\n",
      "--- Iteration 10: Training loss --- [Data, Label, Total] = [17427.704011.3, 363.284225.3, 87501.804281.3]\n",
      "!!! pred_type filter\n"
     ]
    },
    {
     "name": "stderr",
     "output_type": "stream",
     "text": [
      "  8%|█████████▏                                                                                                               | 19/250 [00:01<00:13, 17.61it/s]"
     ]
    },
    {
     "name": "stdout",
     "output_type": "stream",
     "text": [
      "--- Validation --- [threshold, AUC, Accuracy, F score] =  [np.float64(0.697), np.float64(0.961), np.float64(0.904), np.float64(0.922)]\n",
      "--- Training --- [threshold, AUC] =  [np.float64(0.711), np.float64(0.964)]\n",
      "--- Iteration 20: Training loss --- [Data, Label, Total] = [15306.310587.3, 350.079904.3, 76881.632840.3]\n",
      "!!! pred_type filter\n"
     ]
    },
    {
     "name": "stderr",
     "output_type": "stream",
     "text": [
      " 10%|███████████▌                                                                                                             | 24/250 [00:02<00:22, 10.25it/s]"
     ]
    },
    {
     "name": "stdout",
     "output_type": "stream",
     "text": [
      "--- Validation --- [threshold, AUC, Accuracy, F score] =  [np.float64(0.711), np.float64(0.964), np.float64(0.904), np.float64(0.921)]\n",
      "--- Training --- [threshold, AUC] =  [np.float64(0.674), np.float64(0.964)]\n",
      "--- Iteration 30: Training loss --- [Data, Label, Total] = [14345.878296.3, 348.183421.3, 72077.574899.3]\n",
      "!!! pred_type filter\n"
     ]
    },
    {
     "name": "stderr",
     "output_type": "stream",
     "text": [
      " 15%|█████████████████▉                                                                                                       | 37/250 [00:03<00:17, 12.16it/s]"
     ]
    },
    {
     "name": "stdout",
     "output_type": "stream",
     "text": [
      "--- Validation --- [threshold, AUC, Accuracy, F score] =  [np.float64(0.674), np.float64(0.964), np.float64(0.91), np.float64(0.927)]\n",
      "--- Training --- [threshold, AUC] =  [np.float64(0.727), np.float64(0.964)]\n",
      "--- Iteration 40: Training loss --- [Data, Label, Total] = [13761.682846.3, 348.595351.3, 69157.009583.3]\n",
      "!!! pred_type filter\n"
     ]
    },
    {
     "name": "stderr",
     "output_type": "stream",
     "text": [
      " 19%|███████████████████████▏                                                                                                 | 48/250 [00:04<00:15, 12.98it/s]"
     ]
    },
    {
     "name": "stdout",
     "output_type": "stream",
     "text": [
      "--- Validation --- [threshold, AUC, Accuracy, F score] =  [np.float64(0.727), np.float64(0.964), np.float64(0.907), np.float64(0.923)]\n",
      "--- Training --- [threshold, AUC] =  [np.float64(0.734), np.float64(0.964)]\n",
      "--- Iteration 50: Training loss --- [Data, Label, Total] = [13325.895275.3, 348.713788.3, 66978.190161.3]\n",
      "!!! pred_type filter\n"
     ]
    },
    {
     "name": "stderr",
     "output_type": "stream",
     "text": [
      " 24%|████████████████████████████▌                                                                                            | 59/250 [00:04<00:13, 14.08it/s]"
     ]
    },
    {
     "name": "stdout",
     "output_type": "stream",
     "text": [
      "--- Validation --- [threshold, AUC, Accuracy, F score] =  [np.float64(0.734), np.float64(0.964), np.float64(0.908), np.float64(0.924)]\n",
      "--- Training --- [threshold, AUC] =  [np.float64(0.748), np.float64(0.965)]\n",
      "--- Iteration 60: Training loss --- [Data, Label, Total] = [12982.939223.3, 349.127035.3, 65263.823149.3]\n",
      "!!! pred_type filter\n"
     ]
    },
    {
     "name": "stderr",
     "output_type": "stream",
     "text": [
      " 28%|█████████████████████████████████▉                                                                                       | 70/250 [00:05<00:12, 14.42it/s]"
     ]
    },
    {
     "name": "stdout",
     "output_type": "stream",
     "text": [
      "--- Validation --- [threshold, AUC, Accuracy, F score] =  [np.float64(0.748), np.float64(0.965), np.float64(0.907), np.float64(0.923)]\n",
      "--- Training --- [threshold, AUC] =  [np.float64(0.741), np.float64(0.965)]\n",
      "--- Iteration 70: Training loss --- [Data, Label, Total] = [12741.708351.3, 349.145460.3, 64057.687214.3]\n",
      "!!! pred_type filter\n"
     ]
    },
    {
     "name": "stderr",
     "output_type": "stream",
     "text": [
      " 30%|███████████████████████████████████▊                                                                                     | 74/250 [00:06<00:17, 10.21it/s]"
     ]
    },
    {
     "name": "stdout",
     "output_type": "stream",
     "text": [
      "--- Validation --- [threshold, AUC, Accuracy, F score] =  [np.float64(0.741), np.float64(0.965), np.float64(0.908), np.float64(0.925)]\n",
      "--- Training --- [threshold, AUC] =  [np.float64(0.747), np.float64(0.965)]\n",
      "--- Iteration 80: Training loss --- [Data, Label, Total] = [12583.758315.3, 349.783440.3, 63268.575014.3]\n",
      "!!! pred_type filter\n"
     ]
    },
    {
     "name": "stderr",
     "output_type": "stream",
     "text": [
      " 35%|██████████████████████████████████████████                                                                               | 87/250 [00:07<00:12, 12.96it/s]"
     ]
    },
    {
     "name": "stdout",
     "output_type": "stream",
     "text": [
      "--- Validation --- [threshold, AUC, Accuracy, F score] =  [np.float64(0.747), np.float64(0.965), np.float64(0.908), np.float64(0.924)]\n",
      "--- Training --- [threshold, AUC] =  [np.float64(0.745), np.float64(0.965)]\n",
      "--- Iteration 90: Training loss --- [Data, Label, Total] = [12476.805914.3, 350.149414.3, 62734.178987.3]\n",
      "!!! pred_type filter\n"
     ]
    },
    {
     "name": "stderr",
     "output_type": "stream",
     "text": [
      " 39%|███████████████████████████████████████████████▍                                                                         | 98/250 [00:08<00:10, 13.93it/s]"
     ]
    },
    {
     "name": "stdout",
     "output_type": "stream",
     "text": [
      "--- Validation --- [threshold, AUC, Accuracy, F score] =  [np.float64(0.745), np.float64(0.965), np.float64(0.908), np.float64(0.924)]\n",
      "--- Training --- [threshold, AUC] =  [np.float64(0.742), np.float64(0.965)]\n",
      "--- Iteration 100: Training loss --- [Data, Label, Total] = [12405.992952.3, 350.527447.3, 62380.492208.3]\n",
      "!!! pred_type filter\n"
     ]
    },
    {
     "name": "stderr",
     "output_type": "stream",
     "text": [
      " 44%|████████████████████████████████████████████████████▎                                                                   | 109/250 [00:09<00:09, 14.48it/s]"
     ]
    },
    {
     "name": "stdout",
     "output_type": "stream",
     "text": [
      "--- Validation --- [threshold, AUC, Accuracy, F score] =  [np.float64(0.742), np.float64(0.965), np.float64(0.908), np.float64(0.924)]\n",
      "--- Training --- [threshold, AUC] =  [np.float64(0.75), np.float64(0.965)]\n",
      "--- Iteration 110: Training loss --- [Data, Label, Total] = [12359.000220.3, 350.846567.3, 62145.847666.3]\n",
      "!!! pred_type filter\n"
     ]
    },
    {
     "name": "stderr",
     "output_type": "stream",
     "text": [
      " 48%|█████████████████████████████████████████████████████████▌                                                              | 120/250 [00:10<00:08, 14.76it/s]"
     ]
    },
    {
     "name": "stdout",
     "output_type": "stream",
     "text": [
      "--- Validation --- [threshold, AUC, Accuracy, F score] =  [np.float64(0.75), np.float64(0.965), np.float64(0.907), np.float64(0.923)]\n",
      "--- Training --- [threshold, AUC] =  [np.float64(0.743), np.float64(0.965)]\n",
      "--- Iteration 120: Training loss --- [Data, Label, Total] = [12325.645084.3, 351.192358.3, 61979.417779.3]\n",
      "!!! pred_type filter\n"
     ]
    },
    {
     "name": "stderr",
     "output_type": "stream",
     "text": [
      " 50%|███████████████████████████████████████████████████████████▌                                                            | 124/250 [00:10<00:12, 10.33it/s]"
     ]
    },
    {
     "name": "stdout",
     "output_type": "stream",
     "text": [
      "--- Validation --- [threshold, AUC, Accuracy, F score] =  [np.float64(0.743), np.float64(0.965), np.float64(0.907), np.float64(0.923)]\n",
      "--- Training --- [threshold, AUC] =  [np.float64(0.75), np.float64(0.965)]\n",
      "--- Iteration 130: Training loss --- [Data, Label, Total] = [12299.149732.3, 351.293353.3, 61847.042013.3]\n",
      "!!! pred_type filter\n"
     ]
    },
    {
     "name": "stderr",
     "output_type": "stream",
     "text": [
      " 55%|██████████████████████████████████████████████████████████████████▏                                                     | 138/250 [00:11<00:08, 13.60it/s]"
     ]
    },
    {
     "name": "stdout",
     "output_type": "stream",
     "text": [
      "--- Validation --- [threshold, AUC, Accuracy, F score] =  [np.float64(0.75), np.float64(0.965), np.float64(0.905), np.float64(0.921)]\n",
      "--- Training --- [threshold, AUC] =  [np.float64(0.743), np.float64(0.965)]\n",
      "--- Iteration 140: Training loss --- [Data, Label, Total] = [12275.258315.3, 351.671099.3, 61727.962677.3]\n",
      "!!! pred_type filter\n"
     ]
    },
    {
     "name": "stderr",
     "output_type": "stream",
     "text": [
      " 59%|███████████████████████████████████████████████████████████████████████                                                 | 148/250 [00:12<00:07, 13.44it/s]"
     ]
    },
    {
     "name": "stdout",
     "output_type": "stream",
     "text": [
      "--- Validation --- [threshold, AUC, Accuracy, F score] =  [np.float64(0.743), np.float64(0.965), np.float64(0.905), np.float64(0.922)]\n",
      "--- Training --- [threshold, AUC] =  [np.float64(0.741), np.float64(0.965)]\n",
      "--- Iteration 150: Training loss --- [Data, Label, Total] = [12251.462928.3, 351.798184.3, 61609.112827.3]\n",
      "!!! pred_type filter\n"
     ]
    },
    {
     "name": "stderr",
     "output_type": "stream",
     "text": [
      " 64%|████████████████████████████████████████████████████████████████████████████▎                                           | 159/250 [00:13<00:06, 13.43it/s]"
     ]
    },
    {
     "name": "stdout",
     "output_type": "stream",
     "text": [
      "--- Validation --- [threshold, AUC, Accuracy, F score] =  [np.float64(0.741), np.float64(0.965), np.float64(0.905), np.float64(0.922)]\n",
      "--- Training --- [threshold, AUC] =  [np.float64(0.757), np.float64(0.965)]\n",
      "--- Iteration 160: Training loss --- [Data, Label, Total] = [12226.548254.3, 352.199934.3, 61484.941207.3]\n",
      "!!! pred_type filter\n"
     ]
    },
    {
     "name": "stderr",
     "output_type": "stream",
     "text": [
      " 68%|█████████████████████████████████████████████████████████████████████████████████▌                                      | 170/250 [00:14<00:05, 14.44it/s]"
     ]
    },
    {
     "name": "stdout",
     "output_type": "stream",
     "text": [
      "--- Validation --- [threshold, AUC, Accuracy, F score] =  [np.float64(0.757), np.float64(0.965), np.float64(0.902), np.float64(0.919)]\n",
      "--- Training --- [threshold, AUC] =  [np.float64(0.758), np.float64(0.965)]\n",
      "--- Iteration 170: Training loss --- [Data, Label, Total] = [12199.901559.3, 352.490299.3, 61351.998095.3]\n",
      "!!! pred_type filter\n"
     ]
    },
    {
     "name": "stderr",
     "output_type": "stream",
     "text": [
      " 70%|███████████████████████████████████████████████████████████████████████████████████▌                                    | 174/250 [00:15<00:07, 10.63it/s]"
     ]
    },
    {
     "name": "stdout",
     "output_type": "stream",
     "text": [
      "--- Validation --- [threshold, AUC, Accuracy, F score] =  [np.float64(0.758), np.float64(0.965), np.float64(0.902), np.float64(0.919)]\n",
      "--- Training --- [threshold, AUC] =  [np.float64(0.759), np.float64(0.964)]\n",
      "--- Iteration 180: Training loss --- [Data, Label, Total] = [12171.311263.3, 352.883100.3, 61209.439416.3]\n",
      "!!! pred_type filter\n"
     ]
    },
    {
     "name": "stderr",
     "output_type": "stream",
     "text": [
      " 75%|██████████████████████████████████████████████████████████████████████████████████████████▏                             | 188/250 [00:16<00:04, 14.23it/s]"
     ]
    },
    {
     "name": "stdout",
     "output_type": "stream",
     "text": [
      "--- Validation --- [threshold, AUC, Accuracy, F score] =  [np.float64(0.759), np.float64(0.964), np.float64(0.902), np.float64(0.918)]\n",
      "--- Training --- [threshold, AUC] =  [np.float64(0.758), np.float64(0.964)]\n",
      "--- Iteration 190: Training loss --- [Data, Label, Total] = [12141.283416.3, 353.253283.3, 61059.670364.3]\n",
      "!!! pred_type filter\n"
     ]
    },
    {
     "name": "stderr",
     "output_type": "stream",
     "text": [
      " 80%|███████████████████████████████████████████████████████████████████████████████████████████████▌                        | 199/250 [00:16<00:03, 15.44it/s]"
     ]
    },
    {
     "name": "stdout",
     "output_type": "stream",
     "text": [
      "--- Validation --- [threshold, AUC, Accuracy, F score] =  [np.float64(0.758), np.float64(0.964), np.float64(0.902), np.float64(0.919)]\n",
      "--- Training --- [threshold, AUC] =  [np.float64(0.755), np.float64(0.964)]\n",
      "--- Iteration 200: Training loss --- [Data, Label, Total] = [12110.843886.3, 353.645370.3, 60907.864799.3]\n",
      "!!! pred_type filter\n"
     ]
    },
    {
     "name": "stderr",
     "output_type": "stream",
     "text": [
      " 84%|████████████████████████████████████████████████████████████████████████████████████████████████████▎                   | 209/250 [00:17<00:02, 14.77it/s]"
     ]
    },
    {
     "name": "stdout",
     "output_type": "stream",
     "text": [
      "--- Validation --- [threshold, AUC, Accuracy, F score] =  [np.float64(0.755), np.float64(0.964), np.float64(0.902), np.float64(0.918)]\n",
      "--- Training --- [threshold, AUC] =  [np.float64(0.757), np.float64(0.964)]\n",
      "--- Iteration 210: Training loss --- [Data, Label, Total] = [12080.633727.3, 353.904101.3, 60757.072735.3]\n",
      "!!! pred_type filter\n"
     ]
    },
    {
     "name": "stderr",
     "output_type": "stream",
     "text": [
      " 88%|█████████████████████████████████████████████████████████████████████████████████████████████████████████▌              | 220/250 [00:18<00:02, 14.03it/s]"
     ]
    },
    {
     "name": "stdout",
     "output_type": "stream",
     "text": [
      "--- Validation --- [threshold, AUC, Accuracy, F score] =  [np.float64(0.757), np.float64(0.964), np.float64(0.902), np.float64(0.918)]\n",
      "--- Training --- [threshold, AUC] =  [np.float64(0.736), np.float64(0.964)]\n",
      "--- Iteration 220: Training loss --- [Data, Label, Total] = [12050.799246.3, 354.358858.3, 60608.355090.3]\n",
      "!!! pred_type filter\n"
     ]
    },
    {
     "name": "stderr",
     "output_type": "stream",
     "text": [
      " 90%|███████████████████████████████████████████████████████████████████████████████████████████████████████████▌            | 224/250 [00:19<00:02, 10.25it/s]"
     ]
    },
    {
     "name": "stdout",
     "output_type": "stream",
     "text": [
      "--- Validation --- [threshold, AUC, Accuracy, F score] =  [np.float64(0.736), np.float64(0.964), np.float64(0.905), np.float64(0.922)]\n",
      "--- Training --- [threshold, AUC] =  [np.float64(0.735), np.float64(0.964)]\n",
      "--- Iteration 230: Training loss --- [Data, Label, Total] = [12021.719272.3, 354.616604.3, 60463.212966.3]\n",
      "!!! pred_type filter\n"
     ]
    },
    {
     "name": "stderr",
     "output_type": "stream",
     "text": [
      " 95%|██████████████████████████████████████████████████████████████████████████████████████████████████████████████████▏     | 238/250 [00:20<00:00, 13.84it/s]"
     ]
    },
    {
     "name": "stdout",
     "output_type": "stream",
     "text": [
      "--- Validation --- [threshold, AUC, Accuracy, F score] =  [np.float64(0.735), np.float64(0.964), np.float64(0.905), np.float64(0.922)]\n",
      "--- Training --- [threshold, AUC] =  [np.float64(0.734), np.float64(0.964)]\n",
      "--- Iteration 240: Training loss --- [Data, Label, Total] = [11993.208277.3, 354.812337.3, 60320.853725.3]\n",
      "!!! pred_type filter\n"
     ]
    },
    {
     "name": "stderr",
     "output_type": "stream",
     "text": [
      "100%|████████████████████████████████████████████████████████████████████████████████████████████████████████████████████████| 250/250 [00:21<00:00, 11.75it/s]"
     ]
    },
    {
     "name": "stdout",
     "output_type": "stream",
     "text": [
      "--- Validation --- [threshold, AUC, Accuracy, F score] =  [np.float64(0.734), np.float64(0.964), np.float64(0.905), np.float64(0.922)]\n",
      "!!! pred_type filter\n"
     ]
    },
    {
     "name": "stderr",
     "output_type": "stream",
     "text": [
      "\n"
     ]
    },
    {
     "name": "stdout",
     "output_type": "stream",
     "text": [
      "num of subgraphs induced on k-paths: 500\n",
      "num of subgraphs induced on k-paths: 500\n",
      "X_list: (225, 1000)\n",
      "2\n",
      "(1, 500)\n",
      "(1, 500)\n",
      "label_vec: (1, 1000)\n",
      "('Caltech36', 'UCLA26') predicting Harvard1 0.8276952327992096\n",
      "\n",
      "3: 0.8778558372677772\n",
      "4: 0.8449298516548318\n",
      "5: 0.8328589202034812\n",
      "6: 0.8810722135926942\n",
      "7: 0.8300352574962108\n",
      "8: 0.8341847021951587\n",
      "9: 0.8194475467039469\n",
      "10: 0.8129617372639039\n",
      "11: 0.845638803372221\n",
      "12: 0.8369670343428398\n",
      "13: 0.8623456412356946\n",
      "14: 0.831572887805297\n",
      "15: 0.8408084132367011\n",
      "16: 0.8064638447237019\n",
      "17: 0.8287998330500281\n",
      "18: 0.8373152203303609\n",
      "19: 0.8276952327992096\n",
      "\n",
      "num of subgraphs induced on k-paths: 500\n",
      "num of subgraphs induced on k-paths: 500\n",
      "X_list: (225, 1000)\n",
      "2\n",
      "(1, 500)\n",
      "(1, 500)\n",
      "label_vec: (1, 1000)\n",
      "num of subgraphs induced on k-paths: 500\n",
      "num of subgraphs induced on k-paths: 846\n",
      "X_list: (225, 1346)\n",
      "2\n",
      "(1, 500)\n",
      "(1, 846)\n",
      "label_vec: (1, 1346)\n",
      "initial loading beta [[ 0.12845562 -0.76930307 -0.38460631  0.04039805 -0.76612624  0.80152292\n",
      "   0.60532715 -0.71730673  0.43429714 -0.79880574  0.60709583 -0.50267009\n",
      "   0.61307156 -0.46590813  0.59113957  0.56818205  0.017308    0.69611372\n",
      "  -0.18108813 -0.50208294 -0.06019548]]\n"
     ]
    },
    {
     "name": "stderr",
     "output_type": "stream",
     "text": [
      "  2%|██▉                                                                                                                       | 6/250 [00:00<00:04, 51.36it/s]"
     ]
    },
    {
     "name": "stdout",
     "output_type": "stream",
     "text": [
      "--- Training --- [threshold, AUC] =  [np.float64(0.62), np.float64(0.971)]\n",
      "--- Iteration 0: Training loss --- [Data, Label, Total] = [32445.568563.3, 309.631518.3, 162537.474335.3]\n",
      "--- Training --- [threshold, AUC] =  [np.float64(0.666), np.float64(0.973)]\n",
      "--- Iteration 10: Training loss --- [Data, Label, Total] = [17763.042895.3, 291.277155.3, 89106.491629.3]\n",
      "!!! pred_type filter\n"
     ]
    },
    {
     "name": "stderr",
     "output_type": "stream",
     "text": [
      "  8%|█████████▏                                                                                                               | 19/250 [00:01<00:13, 16.97it/s]"
     ]
    },
    {
     "name": "stdout",
     "output_type": "stream",
     "text": [
      "--- Validation --- [threshold, AUC, Accuracy, F score] =  [np.float64(0.666), np.float64(0.973), np.float64(0.918), np.float64(0.933)]\n",
      "--- Training --- [threshold, AUC] =  [np.float64(0.655), np.float64(0.971)]\n",
      "--- Iteration 20: Training loss --- [Data, Label, Total] = [15412.223973.3, 302.538959.3, 77363.658823.3]\n",
      "!!! pred_type filter\n"
     ]
    },
    {
     "name": "stderr",
     "output_type": "stream",
     "text": [
      " 10%|███████████▌                                                                                                             | 24/250 [00:02<00:21, 10.36it/s]"
     ]
    },
    {
     "name": "stdout",
     "output_type": "stream",
     "text": [
      "--- Validation --- [threshold, AUC, Accuracy, F score] =  [np.float64(0.655), np.float64(0.971), np.float64(0.912), np.float64(0.928)]\n",
      "--- Training --- [threshold, AUC] =  [np.float64(0.694), np.float64(0.971)]\n",
      "--- Iteration 30: Training loss --- [Data, Label, Total] = [14189.128226.3, 307.081970.3, 71252.723103.3]\n",
      "!!! pred_type filter\n"
     ]
    },
    {
     "name": "stderr",
     "output_type": "stream",
     "text": [
      " 14%|████████████████▉                                                                                                        | 35/250 [00:02<00:18, 11.79it/s]"
     ]
    },
    {
     "name": "stdout",
     "output_type": "stream",
     "text": [
      "--- Validation --- [threshold, AUC, Accuracy, F score] =  [np.float64(0.694), np.float64(0.971), np.float64(0.906), np.float64(0.923)]\n",
      "--- Training --- [threshold, AUC] =  [np.float64(0.711), np.float64(0.971)]\n",
      "--- Iteration 40: Training loss --- [Data, Label, Total] = [13593.352876.3, 305.551386.3, 68272.315767.3]\n",
      "!!! pred_type filter\n"
     ]
    },
    {
     "name": "stderr",
     "output_type": "stream",
     "text": [
      " 20%|███████████████████████▋                                                                                                 | 49/250 [00:03<00:13, 15.10it/s]"
     ]
    },
    {
     "name": "stdout",
     "output_type": "stream",
     "text": [
      "--- Validation --- [threshold, AUC, Accuracy, F score] =  [np.float64(0.711), np.float64(0.971), np.float64(0.908), np.float64(0.924)]\n",
      "--- Training --- [threshold, AUC] =  [np.float64(0.736), np.float64(0.972)]\n",
      "--- Iteration 50: Training loss --- [Data, Label, Total] = [13239.502393.3, 302.920230.3, 66500.432196.3]\n",
      "!!! pred_type filter\n"
     ]
    },
    {
     "name": "stderr",
     "output_type": "stream",
     "text": [
      " 24%|████████████████████████████▌                                                                                            | 59/250 [00:04<00:13, 14.48it/s]"
     ]
    },
    {
     "name": "stdout",
     "output_type": "stream",
     "text": [
      "--- Validation --- [threshold, AUC, Accuracy, F score] =  [np.float64(0.736), np.float64(0.972), np.float64(0.906), np.float64(0.921)]\n",
      "--- Training --- [threshold, AUC] =  [np.float64(0.736), np.float64(0.973)]\n",
      "--- Iteration 60: Training loss --- [Data, Label, Total] = [12980.739248.3, 300.333363.3, 65204.029605.3]\n",
      "!!! pred_type filter\n"
     ]
    },
    {
     "name": "stderr",
     "output_type": "stream",
     "text": [
      " 28%|█████████████████████████████████▉                                                                                       | 70/250 [00:05<00:12, 14.61it/s]"
     ]
    },
    {
     "name": "stdout",
     "output_type": "stream",
     "text": [
      "--- Validation --- [threshold, AUC, Accuracy, F score] =  [np.float64(0.736), np.float64(0.973), np.float64(0.906), np.float64(0.922)]\n",
      "--- Training --- [threshold, AUC] =  [np.float64(0.738), np.float64(0.973)]\n",
      "--- Iteration 70: Training loss --- [Data, Label, Total] = [12782.380491.3, 298.519183.3, 64210.421638.3]\n",
      "!!! pred_type filter\n"
     ]
    },
    {
     "name": "stderr",
     "output_type": "stream",
     "text": [
      " 32%|██████████████████████████████████████▏                                                                                  | 79/250 [00:06<00:13, 13.06it/s]"
     ]
    },
    {
     "name": "stdout",
     "output_type": "stream",
     "text": [
      "--- Validation --- [threshold, AUC, Accuracy, F score] =  [np.float64(0.738), np.float64(0.973), np.float64(0.906), np.float64(0.922)]\n",
      "--- Training --- [threshold, AUC] =  [np.float64(0.745), np.float64(0.974)]\n",
      "--- Iteration 80: Training loss --- [Data, Label, Total] = [12634.409691.3, 297.143131.3, 63469.191585.3]\n",
      "!!! pred_type filter\n"
     ]
    },
    {
     "name": "stderr",
     "output_type": "stream",
     "text": [
      " 36%|███████████████████████████████████████████▌                                                                             | 90/250 [00:07<00:11, 13.47it/s]"
     ]
    },
    {
     "name": "stdout",
     "output_type": "stream",
     "text": [
      "--- Validation --- [threshold, AUC, Accuracy, F score] =  [np.float64(0.745), np.float64(0.974), np.float64(0.906), np.float64(0.921)]\n",
      "--- Training --- [threshold, AUC] =  [np.float64(0.741), np.float64(0.974)]\n",
      "--- Iteration 90: Training loss --- [Data, Label, Total] = [12524.892484.3, 295.732322.3, 62920.194740.3]\n",
      "!!! pred_type filter\n"
     ]
    },
    {
     "name": "stderr",
     "output_type": "stream",
     "text": [
      " 38%|█████████████████████████████████████████████▍                                                                           | 94/250 [00:08<00:16,  9.64it/s]"
     ]
    },
    {
     "name": "stdout",
     "output_type": "stream",
     "text": [
      "--- Validation --- [threshold, AUC, Accuracy, F score] =  [np.float64(0.741), np.float64(0.974), np.float64(0.907), np.float64(0.922)]\n",
      "--- Training --- [threshold, AUC] =  [np.float64(0.667), np.float64(0.975)]\n",
      "--- Iteration 100: Training loss --- [Data, Label, Total] = [12443.001839.3, 293.791420.3, 62508.800615.3]\n",
      "!!! pred_type filter\n"
     ]
    },
    {
     "name": "stderr",
     "output_type": "stream",
     "text": [
      " 43%|███████████████████████████████████████████████████▊                                                                    | 108/250 [00:09<00:10, 13.20it/s]"
     ]
    },
    {
     "name": "stdout",
     "output_type": "stream",
     "text": [
      "--- Validation --- [threshold, AUC, Accuracy, F score] =  [np.float64(0.667), np.float64(0.975), np.float64(0.916), np.float64(0.931)]\n",
      "--- Training --- [threshold, AUC] =  [np.float64(0.761), np.float64(0.975)]\n",
      "--- Iteration 110: Training loss --- [Data, Label, Total] = [12378.595057.3, 291.529246.3, 62184.504534.3]\n",
      "!!! pred_type filter\n"
     ]
    },
    {
     "name": "stderr",
     "output_type": "stream",
     "text": [
      " 48%|█████████████████████████████████████████████████████████                                                               | 119/250 [00:10<00:09, 13.15it/s]"
     ]
    },
    {
     "name": "stdout",
     "output_type": "stream",
     "text": [
      "--- Validation --- [threshold, AUC, Accuracy, F score] =  [np.float64(0.761), np.float64(0.975), np.float64(0.907), np.float64(0.922)]\n",
      "--- Training --- [threshold, AUC] =  [np.float64(0.595), np.float64(0.976)]\n",
      "--- Iteration 120: Training loss --- [Data, Label, Total] = [12324.011059.3, 289.359609.3, 61909.414902.3]\n",
      "!!! pred_type filter\n"
     ]
    },
    {
     "name": "stderr",
     "output_type": "stream",
     "text": [
      " 52%|██████████████████████████████████████████████████████████████▍                                                         | 130/250 [00:11<00:08, 14.03it/s]"
     ]
    },
    {
     "name": "stdout",
     "output_type": "stream",
     "text": [
      "--- Validation --- [threshold, AUC, Accuracy, F score] =  [np.float64(0.595), np.float64(0.976), np.float64(0.925), np.float64(0.94)]\n",
      "--- Training --- [threshold, AUC] =  [np.float64(0.621), np.float64(0.976)]\n",
      "--- Iteration 130: Training loss --- [Data, Label, Total] = [12274.698813.3, 287.492858.3, 61660.986923.3]\n",
      "!!! pred_type filter\n"
     ]
    },
    {
     "name": "stderr",
     "output_type": "stream",
     "text": [
      " 54%|████████████████████████████████████████████████████████████████▎                                                       | 134/250 [00:11<00:11, 10.16it/s]"
     ]
    },
    {
     "name": "stdout",
     "output_type": "stream",
     "text": [
      "--- Validation --- [threshold, AUC, Accuracy, F score] =  [np.float64(0.621), np.float64(0.976), np.float64(0.925), np.float64(0.939)]\n",
      "--- Training --- [threshold, AUC] =  [np.float64(0.707), np.float64(0.977)]\n",
      "--- Iteration 140: Training loss --- [Data, Label, Total] = [12229.612575.3, 286.153288.3, 61434.216165.3]\n",
      "!!! pred_type filter\n"
     ]
    },
    {
     "name": "stderr",
     "output_type": "stream",
     "text": [
      " 59%|███████████████████████████████████████████████████████████████████████                                                 | 148/250 [00:12<00:07, 13.73it/s]"
     ]
    },
    {
     "name": "stdout",
     "output_type": "stream",
     "text": [
      "--- Validation --- [threshold, AUC, Accuracy, F score] =  [np.float64(0.707), np.float64(0.977), np.float64(0.921), np.float64(0.935)]\n",
      "--- Training --- [threshold, AUC] =  [np.float64(0.705), np.float64(0.977)]\n",
      "--- Iteration 150: Training loss --- [Data, Label, Total] = [12188.767210.3, 285.118004.3, 61228.954054.3]\n",
      "!!! pred_type filter\n"
     ]
    },
    {
     "name": "stderr",
     "output_type": "stream",
     "text": [
      " 64%|████████████████████████████████████████████████████████████████████████████▎                                           | 159/250 [00:13<00:06, 14.51it/s]"
     ]
    },
    {
     "name": "stdout",
     "output_type": "stream",
     "text": [
      "--- Validation --- [threshold, AUC, Accuracy, F score] =  [np.float64(0.705), np.float64(0.977), np.float64(0.921), np.float64(0.935)]\n",
      "--- Training --- [threshold, AUC] =  [np.float64(0.701), np.float64(0.977)]\n",
      "--- Iteration 160: Training loss --- [Data, Label, Total] = [12152.156091.3, 284.417667.3, 61045.198121.3]\n",
      "!!! pred_type filter\n"
     ]
    },
    {
     "name": "stderr",
     "output_type": "stream",
     "text": [
      " 67%|████████████████████████████████████████████████████████████████████████████████▋                                       | 168/250 [00:14<00:06, 13.56it/s]"
     ]
    },
    {
     "name": "stdout",
     "output_type": "stream",
     "text": [
      "--- Validation --- [threshold, AUC, Accuracy, F score] =  [np.float64(0.701), np.float64(0.977), np.float64(0.922), np.float64(0.936)]\n",
      "--- Training --- [threshold, AUC] =  [np.float64(0.697), np.float64(0.977)]\n",
      "--- Iteration 170: Training loss --- [Data, Label, Total] = [12119.492002.3, 283.899252.3, 60881.359261.3]\n",
      "!!! pred_type filter\n"
     ]
    },
    {
     "name": "stderr",
     "output_type": "stream",
     "text": [
      " 72%|█████████████████████████████████████████████████████████████████████████████████████▉                                  | 179/250 [00:15<00:05, 13.03it/s]"
     ]
    },
    {
     "name": "stdout",
     "output_type": "stream",
     "text": [
      "--- Validation --- [threshold, AUC, Accuracy, F score] =  [np.float64(0.697), np.float64(0.977), np.float64(0.923), np.float64(0.937)]\n",
      "--- Training --- [threshold, AUC] =  [np.float64(0.703), np.float64(0.977)]\n",
      "--- Iteration 180: Training loss --- [Data, Label, Total] = [12089.791786.3, 283.582157.3, 60732.541089.3]\n",
      "!!! pred_type filter\n"
     ]
    },
    {
     "name": "stderr",
     "output_type": "stream",
     "text": [
      " 76%|███████████████████████████████████████████████████████████████████████████████████████████▏                            | 190/250 [00:16<00:04, 14.35it/s]"
     ]
    },
    {
     "name": "stdout",
     "output_type": "stream",
     "text": [
      "--- Validation --- [threshold, AUC, Accuracy, F score] =  [np.float64(0.703), np.float64(0.977), np.float64(0.924), np.float64(0.938)]\n",
      "--- Training --- [threshold, AUC] =  [np.float64(0.7), np.float64(0.977)]\n",
      "--- Iteration 190: Training loss --- [Data, Label, Total] = [12062.394340.3, 283.304762.3, 60595.276461.3]\n",
      "!!! pred_type filter\n"
     ]
    },
    {
     "name": "stderr",
     "output_type": "stream",
     "text": [
      " 78%|█████████████████████████████████████████████████████████████████████████████████████████████                           | 194/250 [00:17<00:05, 10.73it/s]"
     ]
    },
    {
     "name": "stdout",
     "output_type": "stream",
     "text": [
      "--- Validation --- [threshold, AUC, Accuracy, F score] =  [np.float64(0.7), np.float64(0.977), np.float64(0.923), np.float64(0.937)]\n",
      "--- Training --- [threshold, AUC] =  [np.float64(0.695), np.float64(0.977)]\n",
      "--- Iteration 200: Training loss --- [Data, Label, Total] = [12037.002953.3, 283.218915.3, 60468.233678.3]\n",
      "!!! pred_type filter\n"
     ]
    },
    {
     "name": "stderr",
     "output_type": "stream",
     "text": [
      " 83%|███████████████████████████████████████████████████████████████████████████████████████████████████▊                    | 208/250 [00:17<00:02, 14.65it/s]"
     ]
    },
    {
     "name": "stdout",
     "output_type": "stream",
     "text": [
      "--- Validation --- [threshold, AUC, Accuracy, F score] =  [np.float64(0.695), np.float64(0.977), np.float64(0.924), np.float64(0.938)]\n",
      "--- Training --- [threshold, AUC] =  [np.float64(0.713), np.float64(0.977)]\n",
      "--- Iteration 210: Training loss --- [Data, Label, Total] = [12012.997920.3, 283.017348.3, 60348.006950.3]\n",
      "!!! pred_type filter\n"
     ]
    },
    {
     "name": "stderr",
     "output_type": "stream",
     "text": [
      " 88%|█████████████████████████████████████████████████████████████████████████████████████████████████████████               | 219/250 [00:18<00:02, 15.48it/s]"
     ]
    },
    {
     "name": "stdout",
     "output_type": "stream",
     "text": [
      "--- Validation --- [threshold, AUC, Accuracy, F score] =  [np.float64(0.713), np.float64(0.977), np.float64(0.923), np.float64(0.936)]\n",
      "--- Training --- [threshold, AUC] =  [np.float64(0.717), np.float64(0.977)]\n",
      "--- Iteration 220: Training loss --- [Data, Label, Total] = [11989.760855.3, 282.759821.3, 60231.564095.3]\n",
      "!!! pred_type filter\n"
     ]
    },
    {
     "name": "stderr",
     "output_type": "stream",
     "text": [
      " 92%|█████████████████████████████████████████████████████████████████████████████████████████████████████████████▉          | 229/250 [00:19<00:01, 15.26it/s]"
     ]
    },
    {
     "name": "stdout",
     "output_type": "stream",
     "text": [
      "--- Validation --- [threshold, AUC, Accuracy, F score] =  [np.float64(0.717), np.float64(0.977), np.float64(0.923), np.float64(0.936)]\n",
      "--- Training --- [threshold, AUC] =  [np.float64(0.717), np.float64(0.977)]\n",
      "--- Iteration 230: Training loss --- [Data, Label, Total] = [11966.753880.3, 282.463189.3, 60116.232591.3]\n",
      "!!! pred_type filter\n"
     ]
    },
    {
     "name": "stderr",
     "output_type": "stream",
     "text": [
      " 96%|███████████████████████████████████████████████████████████████████████████████████████████████████████████████████▏    | 240/250 [00:20<00:00, 15.79it/s]"
     ]
    },
    {
     "name": "stdout",
     "output_type": "stream",
     "text": [
      "--- Validation --- [threshold, AUC, Accuracy, F score] =  [np.float64(0.717), np.float64(0.977), np.float64(0.923), np.float64(0.936)]\n",
      "--- Training --- [threshold, AUC] =  [np.float64(0.716), np.float64(0.977)]\n",
      "--- Iteration 240: Training loss --- [Data, Label, Total] = [11943.427761.3, 282.234886.3, 59999.373689.3]\n",
      "!!! pred_type filter\n"
     ]
    },
    {
     "name": "stderr",
     "output_type": "stream",
     "text": [
      "100%|████████████████████████████████████████████████████████████████████████████████████████████████████████████████████████| 250/250 [00:21<00:00, 11.86it/s]"
     ]
    },
    {
     "name": "stdout",
     "output_type": "stream",
     "text": [
      "--- Validation --- [threshold, AUC, Accuracy, F score] =  [np.float64(0.716), np.float64(0.977), np.float64(0.923), np.float64(0.937)]\n",
      "!!! pred_type filter\n"
     ]
    },
    {
     "name": "stderr",
     "output_type": "stream",
     "text": [
      "\n"
     ]
    },
    {
     "name": "stdout",
     "output_type": "stream",
     "text": [
      "num of subgraphs induced on k-paths: 500\n",
      "num of subgraphs induced on k-paths: 500\n",
      "X_list: (225, 1000)\n",
      "2\n",
      "(1, 500)\n",
      "(1, 500)\n",
      "label_vec: (1, 1000)\n",
      "('Caltech36', 'UCLA26') predicting Harvard1 0.8418126002700697\n",
      "\n",
      "3: 0.8778558372677772\n",
      "4: 0.8449298516548318\n",
      "5: 0.8328589202034812\n",
      "6: 0.8810722135926942\n",
      "7: 0.8300352574962108\n",
      "8: 0.8341847021951587\n",
      "9: 0.8194475467039469\n",
      "10: 0.8129617372639039\n",
      "11: 0.845638803372221\n",
      "12: 0.8369670343428398\n",
      "13: 0.8623456412356946\n",
      "14: 0.831572887805297\n",
      "15: 0.8408084132367011\n",
      "16: 0.8064638447237019\n",
      "17: 0.8287998330500281\n",
      "18: 0.8373152203303609\n",
      "19: 0.8276952327992096\n",
      "20: 0.8418126002700697\n",
      "\n",
      "num of subgraphs induced on k-paths: 500\n",
      "num of subgraphs induced on k-paths: 500\n",
      "X_list: (225, 1000)\n",
      "2\n",
      "(1, 500)\n",
      "(1, 500)\n",
      "label_vec: (1, 1000)\n",
      "num of subgraphs induced on k-paths: 500\n",
      "num of subgraphs induced on k-paths: 839\n",
      "X_list: (225, 1339)\n",
      "2\n",
      "(1, 500)\n",
      "(1, 839)\n",
      "label_vec: (1, 1339)\n",
      "initial loading beta [[ 0.08324778  0.65447096  0.66298587 -0.56714953  0.31339862 -0.98483849\n",
      "   0.70176795 -0.51210549  0.64844914 -0.15614169  0.75231556  0.36546613\n",
      "  -0.89875977  0.77117501 -0.42751995  0.06400448 -0.71872956 -0.26584629\n",
      "   0.09371857  0.26882055 -0.46417739 -0.85795887]]\n"
     ]
    },
    {
     "name": "stderr",
     "output_type": "stream",
     "text": [
      "  2%|██▉                                                                                                                       | 6/250 [00:00<00:04, 51.24it/s]"
     ]
    },
    {
     "name": "stdout",
     "output_type": "stream",
     "text": [
      "--- Training --- [threshold, AUC] =  [np.float64(0.686), np.float64(0.974)]\n",
      "--- Iteration 0: Training loss --- [Data, Label, Total] = [32975.827424.3, 292.732496.3, 165171.869615.3]\n",
      "--- Training --- [threshold, AUC] =  [np.float64(0.717), np.float64(0.977)]\n",
      "--- Iteration 10: Training loss --- [Data, Label, Total] = [17065.207034.3, 271.900825.3, 85597.935993.3]\n",
      "!!! pred_type filter\n"
     ]
    },
    {
     "name": "stderr",
     "output_type": "stream",
     "text": [
      "  7%|████████▋                                                                                                                | 18/250 [00:01<00:15, 15.16it/s]"
     ]
    },
    {
     "name": "stdout",
     "output_type": "stream",
     "text": [
      "--- Validation --- [threshold, AUC, Accuracy, F score] =  [np.float64(0.717), np.float64(0.977), np.float64(0.916), np.float64(0.931)]\n",
      "--- Training --- [threshold, AUC] =  [np.float64(0.66), np.float64(0.977)]\n",
      "--- Iteration 20: Training loss --- [Data, Label, Total] = [14805.341151.3, 272.331971.3, 74299.037727.3]\n",
      "!!! pred_type filter\n"
     ]
    },
    {
     "name": "stderr",
     "output_type": "stream",
     "text": [
      " 12%|██████████████                                                                                                           | 29/250 [00:02<00:15, 14.72it/s]"
     ]
    },
    {
     "name": "stdout",
     "output_type": "stream",
     "text": [
      "--- Validation --- [threshold, AUC, Accuracy, F score] =  [np.float64(0.66), np.float64(0.977), np.float64(0.925), np.float64(0.939)]\n",
      "--- Training --- [threshold, AUC] =  [np.float64(0.601), np.float64(0.976)]\n",
      "--- Iteration 30: Training loss --- [Data, Label, Total] = [13429.567770.3, 276.605816.3, 67424.444667.3]\n",
      "!!! pred_type filter\n"
     ]
    },
    {
     "name": "stderr",
     "output_type": "stream",
     "text": [
      " 16%|███████████████████▎                                                                                                     | 40/250 [00:03<00:14, 14.58it/s]"
     ]
    },
    {
     "name": "stdout",
     "output_type": "stream",
     "text": [
      "--- Validation --- [threshold, AUC, Accuracy, F score] =  [np.float64(0.601), np.float64(0.976), np.float64(0.928), np.float64(0.942)]\n",
      "--- Training --- [threshold, AUC] =  [np.float64(0.626), np.float64(0.976)]\n",
      "--- Iteration 40: Training loss --- [Data, Label, Total] = [12521.198259.3, 279.917808.3, 62885.909105.3]\n",
      "!!! pred_type filter\n"
     ]
    },
    {
     "name": "stderr",
     "output_type": "stream",
     "text": [
      " 18%|█████████████████████▊                                                                                                   | 45/250 [00:03<00:19, 10.64it/s]"
     ]
    },
    {
     "name": "stdout",
     "output_type": "stream",
     "text": [
      "--- Validation --- [threshold, AUC, Accuracy, F score] =  [np.float64(0.626), np.float64(0.976), np.float64(0.924), np.float64(0.939)]\n",
      "--- Training --- [threshold, AUC] =  [np.float64(0.605), np.float64(0.976)]\n",
      "--- Iteration 50: Training loss --- [Data, Label, Total] = [12008.261388.3, 280.992592.3, 60322.299534.3]\n",
      "!!! pred_type filter\n"
     ]
    },
    {
     "name": "stderr",
     "output_type": "stream",
     "text": [
      " 23%|████████████████████████████                                                                                             | 58/250 [00:04<00:14, 13.42it/s]"
     ]
    },
    {
     "name": "stdout",
     "output_type": "stream",
     "text": [
      "--- Validation --- [threshold, AUC, Accuracy, F score] =  [np.float64(0.605), np.float64(0.976), np.float64(0.927), np.float64(0.942)]\n",
      "--- Training --- [threshold, AUC] =  [np.float64(0.599), np.float64(0.976)]\n",
      "--- Iteration 60: Training loss --- [Data, Label, Total] = [11751.408099.3, 281.490598.3, 59038.531091.3]\n",
      "!!! pred_type filter\n"
     ]
    },
    {
     "name": "stderr",
     "output_type": "stream",
     "text": [
      " 28%|█████████████████████████████████▍                                                                                       | 69/250 [00:05<00:12, 14.24it/s]"
     ]
    },
    {
     "name": "stdout",
     "output_type": "stream",
     "text": [
      "--- Validation --- [threshold, AUC, Accuracy, F score] =  [np.float64(0.599), np.float64(0.976), np.float64(0.928), np.float64(0.943)]\n",
      "--- Training --- [threshold, AUC] =  [np.float64(0.684), np.float64(0.976)]\n",
      "--- Iteration 70: Training loss --- [Data, Label, Total] = [11625.982198.3, 281.595861.3, 58411.506852.3]\n",
      "!!! pred_type filter\n"
     ]
    },
    {
     "name": "stderr",
     "output_type": "stream",
     "text": [
      " 32%|██████████████████████████████████████▏                                                                                  | 79/250 [00:06<00:12, 13.98it/s]"
     ]
    },
    {
     "name": "stdout",
     "output_type": "stream",
     "text": [
      "--- Validation --- [threshold, AUC, Accuracy, F score] =  [np.float64(0.684), np.float64(0.976), np.float64(0.92), np.float64(0.935)]\n",
      "--- Training --- [threshold, AUC] =  [np.float64(0.694), np.float64(0.976)]\n",
      "--- Iteration 80: Training loss --- [Data, Label, Total] = [11562.412232.3, 281.271188.3, 58093.332349.3]\n",
      "!!! pred_type filter\n"
     ]
    },
    {
     "name": "stderr",
     "output_type": "stream",
     "text": [
      " 35%|██████████████████████████████████████████▌                                                                              | 88/250 [00:07<00:12, 13.01it/s]"
     ]
    },
    {
     "name": "stdout",
     "output_type": "stream",
     "text": [
      "--- Validation --- [threshold, AUC, Accuracy, F score] =  [np.float64(0.694), np.float64(0.976), np.float64(0.92), np.float64(0.934)]\n",
      "--- Training --- [threshold, AUC] =  [np.float64(0.69), np.float64(0.976)]\n",
      "--- Iteration 90: Training loss --- [Data, Label, Total] = [11527.110797.3, 280.942166.3, 57916.496149.3]\n",
      "!!! pred_type filter\n"
     ]
    },
    {
     "name": "stderr",
     "output_type": "stream",
     "text": [
      " 40%|███████████████████████████████████████████████▉                                                                         | 99/250 [00:08<00:11, 13.24it/s]"
     ]
    },
    {
     "name": "stdout",
     "output_type": "stream",
     "text": [
      "--- Validation --- [threshold, AUC, Accuracy, F score] =  [np.float64(0.69), np.float64(0.976), np.float64(0.922), np.float64(0.936)]\n",
      "--- Training --- [threshold, AUC] =  [np.float64(0.697), np.float64(0.976)]\n",
      "--- Iteration 100: Training loss --- [Data, Label, Total] = [11504.394368.3, 280.361789.3, 57802.333630.3]\n",
      "!!! pred_type filter\n"
     ]
    },
    {
     "name": "stderr",
     "output_type": "stream",
     "text": [
      " 44%|████████████████████████████████████████████████████▎                                                                   | 109/250 [00:09<00:10, 13.45it/s]"
     ]
    },
    {
     "name": "stdout",
     "output_type": "stream",
     "text": [
      "--- Validation --- [threshold, AUC, Accuracy, F score] =  [np.float64(0.697), np.float64(0.976), np.float64(0.921), np.float64(0.935)]\n",
      "--- Training --- [threshold, AUC] =  [np.float64(0.693), np.float64(0.977)]\n",
      "--- Iteration 110: Training loss --- [Data, Label, Total] = [11487.581221.3, 279.811735.3, 57717.717839.3]\n",
      "!!! pred_type filter\n"
     ]
    },
    {
     "name": "stderr",
     "output_type": "stream",
     "text": [
      " 48%|█████████████████████████████████████████████████████████▌                                                              | 120/250 [00:10<00:08, 14.58it/s]"
     ]
    },
    {
     "name": "stdout",
     "output_type": "stream",
     "text": [
      "--- Validation --- [threshold, AUC, Accuracy, F score] =  [np.float64(0.693), np.float64(0.977), np.float64(0.922), np.float64(0.936)]\n",
      "--- Training --- [threshold, AUC] =  [np.float64(0.695), np.float64(0.977)]\n",
      "--- Iteration 120: Training loss --- [Data, Label, Total] = [11473.527219.3, 278.959778.3, 57646.595873.3]\n",
      "!!! pred_type filter\n"
     ]
    },
    {
     "name": "stderr",
     "output_type": "stream",
     "text": [
      " 50%|███████████████████████████████████████████████████████████▌                                                            | 124/250 [00:10<00:12, 10.36it/s]"
     ]
    },
    {
     "name": "stdout",
     "output_type": "stream",
     "text": [
      "--- Validation --- [threshold, AUC, Accuracy, F score] =  [np.float64(0.695), np.float64(0.977), np.float64(0.924), np.float64(0.938)]\n",
      "--- Training --- [threshold, AUC] =  [np.float64(0.697), np.float64(0.977)]\n",
      "--- Iteration 130: Training loss --- [Data, Label, Total] = [11460.619957.3, 278.048375.3, 57581.148159.3]\n",
      "!!! pred_type filter\n"
     ]
    },
    {
     "name": "stderr",
     "output_type": "stream",
     "text": [
      " 55%|█████████████████████████████████████████████████████████████████▊                                                      | 137/250 [00:11<00:08, 13.08it/s]"
     ]
    },
    {
     "name": "stdout",
     "output_type": "stream",
     "text": [
      "--- Validation --- [threshold, AUC, Accuracy, F score] =  [np.float64(0.697), np.float64(0.977), np.float64(0.923), np.float64(0.937)]\n",
      "--- Training --- [threshold, AUC] =  [np.float64(0.673), np.float64(0.977)]\n",
      "--- Iteration 140: Training loss --- [Data, Label, Total] = [11447.786539.3, 277.147507.3, 57516.080204.3]\n",
      "!!! pred_type filter\n"
     ]
    },
    {
     "name": "stderr",
     "output_type": "stream",
     "text": [
      " 59%|██████████████████████████████████████████████████████████████████████▌                                                 | 147/250 [00:12<00:07, 13.34it/s]"
     ]
    },
    {
     "name": "stdout",
     "output_type": "stream",
     "text": [
      "--- Validation --- [threshold, AUC, Accuracy, F score] =  [np.float64(0.673), np.float64(0.977), np.float64(0.927), np.float64(0.94)]\n",
      "--- Training --- [threshold, AUC] =  [np.float64(0.667), np.float64(0.978)]\n",
      "--- Iteration 150: Training loss --- [Data, Label, Total] = [11434.589499.3, 275.930254.3, 57448.877747.3]\n",
      "!!! pred_type filter\n"
     ]
    },
    {
     "name": "stderr",
     "output_type": "stream",
     "text": [
      " 63%|███████████████████████████████████████████████████████████████████████████▎                                            | 157/250 [00:13<00:06, 13.51it/s]"
     ]
    },
    {
     "name": "stdout",
     "output_type": "stream",
     "text": [
      "--- Validation --- [threshold, AUC, Accuracy, F score] =  [np.float64(0.667), np.float64(0.978), np.float64(0.929), np.float64(0.942)]\n",
      "--- Training --- [threshold, AUC] =  [np.float64(0.677), np.float64(0.978)]\n",
      "--- Iteration 160: Training loss --- [Data, Label, Total] = [11421.023781.3, 274.773942.3, 57379.892846.3]\n",
      "!!! pred_type filter\n"
     ]
    },
    {
     "name": "stderr",
     "output_type": "stream",
     "text": [
      " 67%|████████████████████████████████████████████████████████████████████████████████▋                                       | 168/250 [00:14<00:05, 14.27it/s]"
     ]
    },
    {
     "name": "stdout",
     "output_type": "stream",
     "text": [
      "--- Validation --- [threshold, AUC, Accuracy, F score] =  [np.float64(0.677), np.float64(0.978), np.float64(0.929), np.float64(0.942)]\n",
      "--- Training --- [threshold, AUC] =  [np.float64(0.677), np.float64(0.978)]\n",
      "--- Iteration 170: Training loss --- [Data, Label, Total] = [11407.483205.3, 273.811696.3, 57311.227724.3]\n",
      "!!! pred_type filter\n"
     ]
    },
    {
     "name": "stderr",
     "output_type": "stream",
     "text": [
      " 71%|█████████████████████████████████████████████████████████████████████████████████████▍                                  | 178/250 [00:15<00:05, 13.85it/s]"
     ]
    },
    {
     "name": "stdout",
     "output_type": "stream",
     "text": [
      "--- Validation --- [threshold, AUC, Accuracy, F score] =  [np.float64(0.677), np.float64(0.978), np.float64(0.929), np.float64(0.942)]\n",
      "--- Training --- [threshold, AUC] =  [np.float64(0.671), np.float64(0.978)]\n",
      "--- Iteration 180: Training loss --- [Data, Label, Total] = [11394.538120.3, 272.522260.3, 57245.212861.3]\n",
      "!!! pred_type filter\n"
     ]
    },
    {
     "name": "stderr",
     "output_type": "stream",
     "text": [
      " 76%|██████████████████████████████████████████████████████████████████████████████████████████▋                             | 189/250 [00:16<00:04, 14.32it/s]"
     ]
    },
    {
     "name": "stdout",
     "output_type": "stream",
     "text": [
      "--- Validation --- [threshold, AUC, Accuracy, F score] =  [np.float64(0.671), np.float64(0.978), np.float64(0.929), np.float64(0.942)]\n",
      "--- Training --- [threshold, AUC] =  [np.float64(0.712), np.float64(0.979)]\n",
      "--- Iteration 190: Training loss --- [Data, Label, Total] = [11382.581781.3, 271.358875.3, 57184.267781.3]\n",
      "!!! pred_type filter\n"
     ]
    },
    {
     "name": "stderr",
     "output_type": "stream",
     "text": [
      " 80%|███████████████████████████████████████████████████████████████████████████████████████████████▌                        | 199/250 [00:17<00:03, 13.93it/s]"
     ]
    },
    {
     "name": "stdout",
     "output_type": "stream",
     "text": [
      "--- Validation --- [threshold, AUC, Accuracy, F score] =  [np.float64(0.712), np.float64(0.979), np.float64(0.927), np.float64(0.94)]\n",
      "--- Training --- [threshold, AUC] =  [np.float64(0.715), np.float64(0.979)]\n",
      "--- Iteration 200: Training loss --- [Data, Label, Total] = [11371.909866.3, 270.695283.3, 57130.244612.3]\n",
      "!!! pred_type filter\n"
     ]
    },
    {
     "name": "stderr",
     "output_type": "stream",
     "text": [
      " 84%|████████████████████████████████████████████████████████████████████████████████████████████████████▊                   | 210/250 [00:17<00:02, 14.33it/s]"
     ]
    },
    {
     "name": "stdout",
     "output_type": "stream",
     "text": [
      "--- Validation --- [threshold, AUC, Accuracy, F score] =  [np.float64(0.715), np.float64(0.979), np.float64(0.928), np.float64(0.941)]\n",
      "--- Training --- [threshold, AUC] =  [np.float64(0.717), np.float64(0.979)]\n",
      "--- Iteration 210: Training loss --- [Data, Label, Total] = [11362.739791.3, 269.842814.3, 57083.541767.3]\n",
      "!!! pred_type filter\n"
     ]
    },
    {
     "name": "stderr",
     "output_type": "stream",
     "text": [
      " 87%|████████████████████████████████████████████████████████████████████████████████████████████████████████▋               | 218/250 [00:18<00:02, 12.49it/s]"
     ]
    },
    {
     "name": "stdout",
     "output_type": "stream",
     "text": [
      "--- Validation --- [threshold, AUC, Accuracy, F score] =  [np.float64(0.717), np.float64(0.979), np.float64(0.928), np.float64(0.941)]\n",
      "--- Training --- [threshold, AUC] =  [np.float64(0.708), np.float64(0.979)]\n",
      "--- Iteration 220: Training loss --- [Data, Label, Total] = [11354.990184.3, 269.386091.3, 57044.337009.3]\n",
      "!!! pred_type filter\n"
     ]
    },
    {
     "name": "stderr",
     "output_type": "stream",
     "text": [
      " 92%|█████████████████████████████████████████████████████████████████████████████████████████████████████████████▉          | 229/250 [00:19<00:01, 13.53it/s]"
     ]
    },
    {
     "name": "stdout",
     "output_type": "stream",
     "text": [
      "--- Validation --- [threshold, AUC, Accuracy, F score] =  [np.float64(0.708), np.float64(0.979), np.float64(0.929), np.float64(0.942)]\n",
      "--- Training --- [threshold, AUC] =  [np.float64(0.718), np.float64(0.979)]\n",
      "--- Iteration 230: Training loss --- [Data, Label, Total] = [11348.517445.3, 268.584824.3, 57011.172049.3]\n",
      "!!! pred_type filter\n"
     ]
    },
    {
     "name": "stderr",
     "output_type": "stream",
     "text": [
      " 96%|███████████████████████████████████████████████████████████████████████████████████████████████████████████████████▏    | 240/250 [00:20<00:00, 14.27it/s]"
     ]
    },
    {
     "name": "stdout",
     "output_type": "stream",
     "text": [
      "--- Validation --- [threshold, AUC, Accuracy, F score] =  [np.float64(0.718), np.float64(0.979), np.float64(0.928), np.float64(0.941)]\n",
      "--- Training --- [threshold, AUC] =  [np.float64(0.717), np.float64(0.979)]\n",
      "--- Iteration 240: Training loss --- [Data, Label, Total] = [11343.092146.3, 268.511601.3, 56983.972331.3]\n",
      "!!! pred_type filter\n"
     ]
    },
    {
     "name": "stderr",
     "output_type": "stream",
     "text": [
      "100%|████████████████████████████████████████████████████████████████████████████████████████████████████████████████████████| 250/250 [00:21<00:00, 11.61it/s]"
     ]
    },
    {
     "name": "stdout",
     "output_type": "stream",
     "text": [
      "--- Validation --- [threshold, AUC, Accuracy, F score] =  [np.float64(0.717), np.float64(0.979), np.float64(0.928), np.float64(0.941)]\n",
      "!!! pred_type filter\n"
     ]
    },
    {
     "name": "stderr",
     "output_type": "stream",
     "text": [
      "\n"
     ]
    },
    {
     "name": "stdout",
     "output_type": "stream",
     "text": [
      "num of subgraphs induced on k-paths: 500\n",
      "num of subgraphs induced on k-paths: 500\n",
      "X_list: (225, 1000)\n",
      "2\n",
      "(1, 500)\n",
      "(1, 500)\n",
      "label_vec: (1, 1000)\n",
      "('Caltech36', 'UCLA26') predicting Harvard1 0.8454592943223044\n",
      "\n",
      "3: 0.8778558372677772\n",
      "4: 0.8449298516548318\n",
      "5: 0.8328589202034812\n",
      "6: 0.8810722135926942\n",
      "7: 0.8300352574962108\n",
      "8: 0.8341847021951587\n",
      "9: 0.8194475467039469\n",
      "10: 0.8129617372639039\n",
      "11: 0.845638803372221\n",
      "12: 0.8369670343428398\n",
      "13: 0.8623456412356946\n",
      "14: 0.831572887805297\n",
      "15: 0.8408084132367011\n",
      "16: 0.8064638447237019\n",
      "17: 0.8287998330500281\n",
      "18: 0.8373152203303609\n",
      "19: 0.8276952327992096\n",
      "20: 0.8418126002700697\n",
      "21: 0.8454592943223044\n",
      "\n",
      "num of subgraphs induced on k-paths: 500\n",
      "num of subgraphs induced on k-paths: 500\n",
      "X_list: (225, 1000)\n",
      "2\n",
      "(1, 500)\n",
      "(1, 500)\n",
      "label_vec: (1, 1000)\n",
      "num of subgraphs induced on k-paths: 500\n",
      "num of subgraphs induced on k-paths: 856\n",
      "X_list: (225, 1356)\n",
      "2\n",
      "(1, 500)\n",
      "(1, 856)\n",
      "label_vec: (1, 1356)\n",
      "initial loading beta [[-0.74403761 -0.55685165 -0.95355057 -0.51191802  0.29670801  0.26543118\n",
      "  -0.96083115 -0.38677294 -0.03948698  0.17622585 -0.96623645 -0.6206944\n",
      "  -0.82485502  0.06263024 -0.39701899 -0.48295567 -0.34443535 -0.45630242\n",
      "   0.2805397   0.88278817 -0.17794182 -0.27866464 -0.5754346 ]]\n"
     ]
    },
    {
     "name": "stderr",
     "output_type": "stream",
     "text": [
      "  0%|                                                                                                                                  | 0/250 [00:00<?, ?it/s]"
     ]
    },
    {
     "name": "stdout",
     "output_type": "stream",
     "text": [
      "--- Training --- [threshold, AUC] =  [np.float64(0.723), np.float64(0.96)]\n",
      "--- Iteration 0: Training loss --- [Data, Label, Total] = [33216.297396.3, 366.157408.3, 166447.644387.3]\n"
     ]
    },
    {
     "name": "stderr",
     "output_type": "stream",
     "text": [
      "  2%|██▍                                                                                                                       | 5/250 [00:00<00:05, 46.88it/s]"
     ]
    },
    {
     "name": "stdout",
     "output_type": "stream",
     "text": [
      "--- Training --- [threshold, AUC] =  [np.float64(0.714), np.float64(0.959)]\n",
      "--- Iteration 10: Training loss --- [Data, Label, Total] = [17682.463668.3, 368.860318.3, 88781.178655.3]\n",
      "!!! pred_type filter\n"
     ]
    },
    {
     "name": "stderr",
     "output_type": "stream",
     "text": [
      "  6%|███████▎                                                                                                                 | 15/250 [00:01<00:19, 12.07it/s]"
     ]
    },
    {
     "name": "stdout",
     "output_type": "stream",
     "text": [
      "--- Validation --- [threshold, AUC, Accuracy, F score] =  [np.float64(0.714), np.float64(0.959), np.float64(0.896), np.float64(0.914)]\n"
     ]
    },
    {
     "name": "stderr",
     "output_type": "stream",
     "text": [
      "  7%|████████▋                                                                                                                | 18/250 [00:01<00:17, 13.49it/s]"
     ]
    },
    {
     "name": "stdout",
     "output_type": "stream",
     "text": [
      "--- Training --- [threshold, AUC] =  [np.float64(0.71), np.float64(0.96)]\n",
      "--- Iteration 20: Training loss --- [Data, Label, Total] = [15130.335555.3, 364.014376.3, 76015.692154.3]\n",
      "!!! pred_type filter\n"
     ]
    },
    {
     "name": "stderr",
     "output_type": "stream",
     "text": [
      " 10%|████████████▌                                                                                                            | 26/250 [00:02<00:23,  9.46it/s]"
     ]
    },
    {
     "name": "stdout",
     "output_type": "stream",
     "text": [
      "--- Validation --- [threshold, AUC, Accuracy, F score] =  [np.float64(0.71), np.float64(0.96), np.float64(0.897), np.float64(0.916)]\n",
      "--- Training --- [threshold, AUC] =  [np.float64(0.714), np.float64(0.961)]\n",
      "--- Iteration 30: Training loss --- [Data, Label, Total] = [13929.905349.3, 362.417220.3, 70011.943964.3]\n",
      "!!! pred_type filter\n"
     ]
    },
    {
     "name": "stderr",
     "output_type": "stream",
     "text": [
      " 15%|█████████████████▉                                                                                                       | 37/250 [00:03<00:20, 10.43it/s]"
     ]
    },
    {
     "name": "stdout",
     "output_type": "stream",
     "text": [
      "--- Validation --- [threshold, AUC, Accuracy, F score] =  [np.float64(0.714), np.float64(0.961), np.float64(0.9), np.float64(0.918)]\n",
      "--- Training --- [threshold, AUC] =  [np.float64(0.729), np.float64(0.961)]\n",
      "--- Iteration 40: Training loss --- [Data, Label, Total] = [13310.952419.3, 362.252708.3, 66917.014804.3]\n",
      "!!! pred_type filter\n"
     ]
    },
    {
     "name": "stderr",
     "output_type": "stream",
     "text": [
      " 19%|██████████████████████▋                                                                                                  | 47/250 [00:04<00:17, 11.67it/s]"
     ]
    },
    {
     "name": "stdout",
     "output_type": "stream",
     "text": [
      "--- Validation --- [threshold, AUC, Accuracy, F score] =  [np.float64(0.729), np.float64(0.961), np.float64(0.898), np.float64(0.916)]\n",
      "--- Training --- [threshold, AUC] =  [np.float64(0.717), np.float64(0.961)]\n",
      "--- Iteration 50: Training loss --- [Data, Label, Total] = [12917.287081.3, 362.310839.3, 64948.746242.3]\n",
      "!!! pred_type filter\n"
     ]
    },
    {
     "name": "stderr",
     "output_type": "stream",
     "text": [
      " 23%|███████████████████████████▌                                                                                             | 57/250 [00:05<00:15, 12.74it/s]"
     ]
    },
    {
     "name": "stdout",
     "output_type": "stream",
     "text": [
      "--- Validation --- [threshold, AUC, Accuracy, F score] =  [np.float64(0.717), np.float64(0.961), np.float64(0.9), np.float64(0.918)]\n",
      "--- Training --- [threshold, AUC] =  [np.float64(0.669), np.float64(0.961)]\n",
      "--- Iteration 60: Training loss --- [Data, Label, Total] = [12608.644904.3, 362.710062.3, 63405.934585.3]\n",
      "!!! pred_type filter\n"
     ]
    },
    {
     "name": "stderr",
     "output_type": "stream",
     "text": [
      " 27%|████████████████████████████████▍                                                                                        | 67/250 [00:06<00:13, 13.33it/s]"
     ]
    },
    {
     "name": "stdout",
     "output_type": "stream",
     "text": [
      "--- Validation --- [threshold, AUC, Accuracy, F score] =  [np.float64(0.669), np.float64(0.961), np.float64(0.903), np.float64(0.922)]\n",
      "--- Training --- [threshold, AUC] =  [np.float64(0.674), np.float64(0.961)]\n",
      "--- Iteration 70: Training loss --- [Data, Label, Total] = [12351.165992.3, 362.874678.3, 62118.704639.3]\n",
      "!!! pred_type filter\n"
     ]
    },
    {
     "name": "stderr",
     "output_type": "stream",
     "text": [
      " 31%|█████████████████████████████████████▎                                                                                   | 77/250 [00:07<00:12, 13.42it/s]"
     ]
    },
    {
     "name": "stdout",
     "output_type": "stream",
     "text": [
      "--- Validation --- [threshold, AUC, Accuracy, F score] =  [np.float64(0.674), np.float64(0.961), np.float64(0.904), np.float64(0.922)]\n",
      "--- Training --- [threshold, AUC] =  [np.float64(0.705), np.float64(0.961)]\n",
      "--- Iteration 80: Training loss --- [Data, Label, Total] = [12136.269385.3, 362.931744.3, 61044.278670.3]\n",
      "!!! pred_type filter\n"
     ]
    },
    {
     "name": "stderr",
     "output_type": "stream",
     "text": [
      " 35%|██████████████████████████████████████████                                                                               | 87/250 [00:08<00:11, 13.60it/s]"
     ]
    },
    {
     "name": "stdout",
     "output_type": "stream",
     "text": [
      "--- Validation --- [threshold, AUC, Accuracy, F score] =  [np.float64(0.705), np.float64(0.961), np.float64(0.901), np.float64(0.919)]\n",
      "--- Training --- [threshold, AUC] =  [np.float64(0.703), np.float64(0.961)]\n",
      "--- Iteration 90: Training loss --- [Data, Label, Total] = [11957.932769.3, 362.584058.3, 60152.247904.3]\n",
      "!!! pred_type filter\n"
     ]
    },
    {
     "name": "stderr",
     "output_type": "stream",
     "text": [
      " 39%|██████████████████████████████████████████████▉                                                                          | 97/250 [00:09<00:11, 13.76it/s]"
     ]
    },
    {
     "name": "stdout",
     "output_type": "stream",
     "text": [
      "--- Validation --- [threshold, AUC, Accuracy, F score] =  [np.float64(0.703), np.float64(0.961), np.float64(0.901), np.float64(0.919)]\n",
      "--- Training --- [threshold, AUC] =  [np.float64(0.703), np.float64(0.962)]\n",
      "--- Iteration 100: Training loss --- [Data, Label, Total] = [11812.325265.3, 362.006692.3, 59423.633016.3]\n",
      "!!! pred_type filter\n"
     ]
    },
    {
     "name": "stderr",
     "output_type": "stream",
     "text": [
      " 43%|███████████████████████████████████████████████████▎                                                                    | 107/250 [00:09<00:10, 13.79it/s]"
     ]
    },
    {
     "name": "stdout",
     "output_type": "stream",
     "text": [
      "--- Validation --- [threshold, AUC, Accuracy, F score] =  [np.float64(0.703), np.float64(0.962), np.float64(0.902), np.float64(0.92)]\n",
      "--- Training --- [threshold, AUC] =  [np.float64(0.689), np.float64(0.962)]\n",
      "--- Iteration 110: Training loss --- [Data, Label, Total] = [11696.392052.3, 361.789520.3, 58843.749779.3]\n",
      "!!! pred_type filter\n"
     ]
    },
    {
     "name": "stderr",
     "output_type": "stream",
     "text": [
      " 47%|████████████████████████████████████████████████████████▏                                                               | 117/250 [00:10<00:09, 13.77it/s]"
     ]
    },
    {
     "name": "stdout",
     "output_type": "stream",
     "text": [
      "--- Validation --- [threshold, AUC, Accuracy, F score] =  [np.float64(0.689), np.float64(0.962), np.float64(0.903), np.float64(0.921)]\n",
      "--- Training --- [threshold, AUC] =  [np.float64(0.695), np.float64(0.962)]\n",
      "--- Iteration 120: Training loss --- [Data, Label, Total] = [11606.412932.3, 361.404355.3, 58393.469013.3]\n",
      "!!! pred_type filter\n"
     ]
    },
    {
     "name": "stderr",
     "output_type": "stream",
     "text": [
      " 50%|████████████████████████████████████████████████████████████▍                                                           | 126/250 [00:11<00:09, 12.67it/s]"
     ]
    },
    {
     "name": "stdout",
     "output_type": "stream",
     "text": [
      "--- Validation --- [threshold, AUC, Accuracy, F score] =  [np.float64(0.695), np.float64(0.962), np.float64(0.903), np.float64(0.921)]\n",
      "--- Training --- [threshold, AUC] =  [np.float64(0.683), np.float64(0.962)]\n",
      "--- Iteration 130: Training loss --- [Data, Label, Total] = [11536.408666.3, 361.169752.3, 58043.213083.3]\n",
      "!!! pred_type filter\n"
     ]
    },
    {
     "name": "stderr",
     "output_type": "stream",
     "text": [
      " 55%|█████████████████████████████████████████████████████████████████▊                                                      | 137/250 [00:12<00:08, 13.64it/s]"
     ]
    },
    {
     "name": "stdout",
     "output_type": "stream",
     "text": [
      "--- Validation --- [threshold, AUC, Accuracy, F score] =  [np.float64(0.683), np.float64(0.962), np.float64(0.905), np.float64(0.923)]\n",
      "--- Training --- [threshold, AUC] =  [np.float64(0.708), np.float64(0.962)]\n",
      "--- Iteration 140: Training loss --- [Data, Label, Total] = [11481.547434.3, 360.650475.3, 57768.387643.3]\n",
      "!!! pred_type filter\n"
     ]
    },
    {
     "name": "stderr",
     "output_type": "stream",
     "text": [
      " 59%|██████████████████████████████████████████████████████████████████████▌                                                 | 147/250 [00:13<00:07, 13.53it/s]"
     ]
    },
    {
     "name": "stdout",
     "output_type": "stream",
     "text": [
      "--- Validation --- [threshold, AUC, Accuracy, F score] =  [np.float64(0.708), np.float64(0.962), np.float64(0.903), np.float64(0.921)]\n",
      "--- Training --- [threshold, AUC] =  [np.float64(0.71), np.float64(0.963)]\n",
      "--- Iteration 150: Training loss --- [Data, Label, Total] = [11437.877083.3, 360.588048.3, 57549.973463.3]\n",
      "!!! pred_type filter\n"
     ]
    },
    {
     "name": "stderr",
     "output_type": "stream",
     "text": [
      " 63%|███████████████████████████████████████████████████████████████████████████▎                                            | 157/250 [00:14<00:06, 13.95it/s]"
     ]
    },
    {
     "name": "stdout",
     "output_type": "stream",
     "text": [
      "--- Validation --- [threshold, AUC, Accuracy, F score] =  [np.float64(0.71), np.float64(0.963), np.float64(0.903), np.float64(0.92)]\n",
      "--- Training --- [threshold, AUC] =  [np.float64(0.723), np.float64(0.963)]\n",
      "--- Iteration 160: Training loss --- [Data, Label, Total] = [11402.608415.3, 360.220374.3, 57373.262447.3]\n",
      "!!! pred_type filter\n"
     ]
    },
    {
     "name": "stderr",
     "output_type": "stream",
     "text": [
      " 67%|████████████████████████████████████████████████████████████████████████████████▏                                       | 167/250 [00:15<00:05, 13.98it/s]"
     ]
    },
    {
     "name": "stdout",
     "output_type": "stream",
     "text": [
      "--- Validation --- [threshold, AUC, Accuracy, F score] =  [np.float64(0.723), np.float64(0.963), np.float64(0.902), np.float64(0.919)]\n",
      "--- Training --- [threshold, AUC] =  [np.float64(0.724), np.float64(0.963)]\n",
      "--- Iteration 170: Training loss --- [Data, Label, Total] = [11374.113943.3, 360.102962.3, 57230.672675.3]\n",
      "!!! pred_type filter\n"
     ]
    },
    {
     "name": "stderr",
     "output_type": "stream",
     "text": [
      " 71%|████████████████████████████████████████████████████████████████████████████████████▉                                   | 177/250 [00:16<00:05, 14.12it/s]"
     ]
    },
    {
     "name": "stdout",
     "output_type": "stream",
     "text": [
      "--- Validation --- [threshold, AUC, Accuracy, F score] =  [np.float64(0.724), np.float64(0.963), np.float64(0.903), np.float64(0.92)]\n",
      "--- Training --- [threshold, AUC] =  [np.float64(0.723), np.float64(0.963)]\n",
      "--- Iteration 180: Training loss --- [Data, Label, Total] = [11351.224062.3, 360.252451.3, 57116.372762.3]\n",
      "!!! pred_type filter\n"
     ]
    },
    {
     "name": "stderr",
     "output_type": "stream",
     "text": [
      " 75%|█████████████████████████████████████████████████████████████████████████████████████████▊                              | 187/250 [00:16<00:04, 14.03it/s]"
     ]
    },
    {
     "name": "stdout",
     "output_type": "stream",
     "text": [
      "--- Validation --- [threshold, AUC, Accuracy, F score] =  [np.float64(0.723), np.float64(0.963), np.float64(0.903), np.float64(0.92)]\n",
      "--- Training --- [threshold, AUC] =  [np.float64(0.723), np.float64(0.963)]\n",
      "--- Iteration 190: Training loss --- [Data, Label, Total] = [11332.569646.3, 360.019628.3, 57022.867860.3]\n",
      "!!! pred_type filter\n"
     ]
    },
    {
     "name": "stderr",
     "output_type": "stream",
     "text": [
      " 79%|███████████████████████████████████████████████████████████████████████████████████████████████                         | 198/250 [00:17<00:03, 14.57it/s]"
     ]
    },
    {
     "name": "stdout",
     "output_type": "stream",
     "text": [
      "--- Validation --- [threshold, AUC, Accuracy, F score] =  [np.float64(0.723), np.float64(0.963), np.float64(0.903), np.float64(0.92)]\n",
      "--- Training --- [threshold, AUC] =  [np.float64(0.726), np.float64(0.963)]\n",
      "--- Iteration 200: Training loss --- [Data, Label, Total] = [11317.151790.3, 360.158993.3, 56945.917945.3]\n",
      "!!! pred_type filter\n"
     ]
    },
    {
     "name": "stderr",
     "output_type": "stream",
     "text": [
      " 83%|███████████████████████████████████████████████████████████████████████████████████████████████████▊                    | 208/250 [00:18<00:02, 14.31it/s]"
     ]
    },
    {
     "name": "stdout",
     "output_type": "stream",
     "text": [
      "--- Validation --- [threshold, AUC, Accuracy, F score] =  [np.float64(0.726), np.float64(0.963), np.float64(0.903), np.float64(0.92)]\n",
      "--- Training --- [threshold, AUC] =  [np.float64(0.726), np.float64(0.963)]\n",
      "--- Iteration 210: Training loss --- [Data, Label, Total] = [11304.391349.3, 360.361951.3, 56882.318698.3]\n",
      "!!! pred_type filter\n"
     ]
    },
    {
     "name": "stderr",
     "output_type": "stream",
     "text": [
      " 88%|█████████████████████████████████████████████████████████████████████████████████████████████████████████               | 219/250 [00:19<00:02, 14.60it/s]"
     ]
    },
    {
     "name": "stdout",
     "output_type": "stream",
     "text": [
      "--- Validation --- [threshold, AUC, Accuracy, F score] =  [np.float64(0.726), np.float64(0.963), np.float64(0.903), np.float64(0.92)]\n",
      "--- Training --- [threshold, AUC] =  [np.float64(0.726), np.float64(0.963)]\n",
      "--- Iteration 220: Training loss --- [Data, Label, Total] = [11294.147626.3, 360.181617.3, 56830.919744.3]\n",
      "!!! pred_type filter\n"
     ]
    },
    {
     "name": "stderr",
     "output_type": "stream",
     "text": [
      " 92%|█████████████████████████████████████████████████████████████████████████████████████████████████████████████▉          | 229/250 [00:20<00:01, 13.97it/s]"
     ]
    },
    {
     "name": "stdout",
     "output_type": "stream",
     "text": [
      "--- Validation --- [threshold, AUC, Accuracy, F score] =  [np.float64(0.726), np.float64(0.963), np.float64(0.903), np.float64(0.92)]\n",
      "--- Training --- [threshold, AUC] =  [np.float64(0.726), np.float64(0.963)]\n",
      "--- Iteration 230: Training loss --- [Data, Label, Total] = [11286.192597.3, 360.383939.3, 56791.346924.3]\n",
      "!!! pred_type filter\n"
     ]
    },
    {
     "name": "stderr",
     "output_type": "stream",
     "text": [
      " 96%|██████████████████████████████████████████████████████████████████████████████████████████████████████████████████▋     | 239/250 [00:21<00:00, 13.44it/s]"
     ]
    },
    {
     "name": "stdout",
     "output_type": "stream",
     "text": [
      "--- Validation --- [threshold, AUC, Accuracy, F score] =  [np.float64(0.726), np.float64(0.963), np.float64(0.903), np.float64(0.92)]\n",
      "--- Training --- [threshold, AUC] =  [np.float64(0.726), np.float64(0.963)]\n",
      "--- Iteration 240: Training loss --- [Data, Label, Total] = [11279.160242.3, 360.284490.3, 56756.085698.3]\n",
      "!!! pred_type filter\n"
     ]
    },
    {
     "name": "stderr",
     "output_type": "stream",
     "text": [
      "100%|████████████████████████████████████████████████████████████████████████████████████████████████████████████████████████| 250/250 [00:22<00:00, 11.24it/s]"
     ]
    },
    {
     "name": "stdout",
     "output_type": "stream",
     "text": [
      "--- Validation --- [threshold, AUC, Accuracy, F score] =  [np.float64(0.726), np.float64(0.963), np.float64(0.903), np.float64(0.92)]\n",
      "!!! pred_type filter\n"
     ]
    },
    {
     "name": "stderr",
     "output_type": "stream",
     "text": [
      "\n"
     ]
    },
    {
     "name": "stdout",
     "output_type": "stream",
     "text": [
      "num of subgraphs induced on k-paths: 500\n",
      "num of subgraphs induced on k-paths: 500\n",
      "X_list: (225, 1000)\n",
      "2\n",
      "(1, 500)\n",
      "(1, 500)\n",
      "label_vec: (1, 1000)\n",
      "('Caltech36', 'UCLA26') predicting Harvard1 0.844181117391187\n",
      "\n",
      "3: 0.8778558372677772\n",
      "4: 0.8449298516548318\n",
      "5: 0.8328589202034812\n",
      "6: 0.8810722135926942\n",
      "7: 0.8300352574962108\n",
      "8: 0.8341847021951587\n",
      "9: 0.8194475467039469\n",
      "10: 0.8129617372639039\n",
      "11: 0.845638803372221\n",
      "12: 0.8369670343428398\n",
      "13: 0.8623456412356946\n",
      "14: 0.831572887805297\n",
      "15: 0.8408084132367011\n",
      "16: 0.8064638447237019\n",
      "17: 0.8287998330500281\n",
      "18: 0.8373152203303609\n",
      "19: 0.8276952327992096\n",
      "20: 0.8418126002700697\n",
      "21: 0.8454592943223044\n",
      "22: 0.844181117391187\n",
      "\n",
      "num of subgraphs induced on k-paths: 500\n",
      "num of subgraphs induced on k-paths: 500\n",
      "X_list: (225, 1000)\n",
      "2\n",
      "(1, 500)\n",
      "(1, 500)\n",
      "label_vec: (1, 1000)\n",
      "num of subgraphs induced on k-paths: 500\n",
      "num of subgraphs induced on k-paths: 849\n",
      "X_list: (225, 1349)\n",
      "2\n",
      "(1, 500)\n",
      "(1, 849)\n",
      "label_vec: (1, 1349)\n",
      "initial loading beta [[ 0.69468782  0.76725677  0.02220664  0.1343779  -0.4672123  -0.15150495\n",
      "   0.59213666 -0.06603601 -0.27809829 -0.98742644 -0.6055821  -0.59633386\n",
      "   0.85389465 -0.55825337  0.418544   -0.94795407 -0.25411257 -0.94845161\n",
      "  -0.97803695 -0.13382067 -0.55224948  0.35436633 -0.72038171 -0.23694892]]\n"
     ]
    },
    {
     "name": "stderr",
     "output_type": "stream",
     "text": [
      "  2%|██▍                                                                                                                       | 5/250 [00:00<00:05, 45.04it/s]"
     ]
    },
    {
     "name": "stdout",
     "output_type": "stream",
     "text": [
      "--- Training --- [threshold, AUC] =  [np.float64(0.643), np.float64(0.964)]\n",
      "--- Iteration 0: Training loss --- [Data, Label, Total] = [32283.643515.3, 343.317949.3, 161761.535526.3]\n",
      "--- Training --- [threshold, AUC] =  [np.float64(0.67), np.float64(0.966)]\n",
      "--- Iteration 10: Training loss --- [Data, Label, Total] = [16933.956153.3, 330.048450.3, 84999.829215.3]\n",
      "!!! pred_type filter\n"
     ]
    },
    {
     "name": "stderr",
     "output_type": "stream",
     "text": [
      "  7%|████████▋                                                                                                                | 18/250 [00:01<00:13, 16.88it/s]"
     ]
    },
    {
     "name": "stdout",
     "output_type": "stream",
     "text": [
      "--- Validation --- [threshold, AUC, Accuracy, F score] =  [np.float64(0.67), np.float64(0.966), np.float64(0.914), np.float64(0.93)]\n",
      "--- Training --- [threshold, AUC] =  [np.float64(0.699), np.float64(0.967)]\n",
      "--- Iteration 20: Training loss --- [Data, Label, Total] = [14590.434499.3, 328.528044.3, 73280.700541.3]\n",
      "!!! pred_type filter\n"
     ]
    },
    {
     "name": "stderr",
     "output_type": "stream",
     "text": [
      " 12%|██████████████                                                                                                           | 29/250 [00:02<00:14, 15.01it/s]"
     ]
    },
    {
     "name": "stdout",
     "output_type": "stream",
     "text": [
      "--- Validation --- [threshold, AUC, Accuracy, F score] =  [np.float64(0.699), np.float64(0.967), np.float64(0.914), np.float64(0.93)]\n",
      "--- Training --- [threshold, AUC] =  [np.float64(0.703), np.float64(0.967)]\n",
      "--- Iteration 30: Training loss --- [Data, Label, Total] = [13323.811129.3, 328.275015.3, 66947.330661.3]\n",
      "!!! pred_type filter\n"
     ]
    },
    {
     "name": "stderr",
     "output_type": "stream",
     "text": [
      " 13%|███████████████▉                                                                                                         | 33/250 [00:03<00:24,  8.81it/s]"
     ]
    },
    {
     "name": "stdout",
     "output_type": "stream",
     "text": [
      "--- Validation --- [threshold, AUC, Accuracy, F score] =  [np.float64(0.703), np.float64(0.967), np.float64(0.914), np.float64(0.93)]\n"
     ]
    },
    {
     "name": "stderr",
     "output_type": "stream",
     "text": [
      " 16%|██████████████████▉                                                                                                      | 39/250 [00:03<00:19, 10.93it/s]"
     ]
    },
    {
     "name": "stdout",
     "output_type": "stream",
     "text": [
      "--- Training --- [threshold, AUC] =  [np.float64(0.708), np.float64(0.967)]\n",
      "--- Iteration 40: Training loss --- [Data, Label, Total] = [12649.813364.3, 329.687201.3, 63578.754023.3]\n",
      "!!! pred_type filter\n"
     ]
    },
    {
     "name": "stderr",
     "output_type": "stream",
     "text": [
      " 20%|███████████████████████▋                                                                                                 | 49/250 [00:04<00:17, 11.59it/s]"
     ]
    },
    {
     "name": "stdout",
     "output_type": "stream",
     "text": [
      "--- Validation --- [threshold, AUC, Accuracy, F score] =  [np.float64(0.708), np.float64(0.967), np.float64(0.913), np.float64(0.929)]\n",
      "--- Training --- [threshold, AUC] =  [np.float64(0.706), np.float64(0.967)]\n",
      "--- Iteration 50: Training loss --- [Data, Label, Total] = [12245.453355.3, 330.803239.3, 61558.070014.3]\n",
      "!!! pred_type filter\n"
     ]
    },
    {
     "name": "stderr",
     "output_type": "stream",
     "text": [
      " 24%|█████████████████████████████                                                                                            | 60/250 [00:05<00:14, 13.14it/s]"
     ]
    },
    {
     "name": "stdout",
     "output_type": "stream",
     "text": [
      "--- Validation --- [threshold, AUC, Accuracy, F score] =  [np.float64(0.706), np.float64(0.967), np.float64(0.913), np.float64(0.928)]\n",
      "--- Training --- [threshold, AUC] =  [np.float64(0.737), np.float64(0.967)]\n",
      "--- Iteration 60: Training loss --- [Data, Label, Total] = [11971.729520.3, 331.483011.3, 60190.130609.3]\n",
      "!!! pred_type filter\n"
     ]
    },
    {
     "name": "stderr",
     "output_type": "stream",
     "text": [
      " 28%|█████████████████████████████████▉                                                                                       | 70/250 [00:06<00:13, 13.23it/s]"
     ]
    },
    {
     "name": "stdout",
     "output_type": "stream",
     "text": [
      "--- Validation --- [threshold, AUC, Accuracy, F score] =  [np.float64(0.737), np.float64(0.967), np.float64(0.906), np.float64(0.922)]\n",
      "--- Training --- [threshold, AUC] =  [np.float64(0.719), np.float64(0.967)]\n",
      "--- Iteration 70: Training loss --- [Data, Label, Total] = [11773.300227.3, 331.672580.3, 59198.173716.3]\n",
      "!!! pred_type filter\n"
     ]
    },
    {
     "name": "stderr",
     "output_type": "stream",
     "text": [
      " 30%|███████████████████████████████████▊                                                                                     | 74/250 [00:07<00:18,  9.36it/s]"
     ]
    },
    {
     "name": "stdout",
     "output_type": "stream",
     "text": [
      "--- Validation --- [threshold, AUC, Accuracy, F score] =  [np.float64(0.719), np.float64(0.967), np.float64(0.91), np.float64(0.926)]\n",
      "--- Training --- [threshold, AUC] =  [np.float64(0.722), np.float64(0.967)]\n",
      "--- Iteration 80: Training loss --- [Data, Label, Total] = [11626.415812.3, 331.684342.3, 58463.763402.3]\n",
      "!!! pred_type filter\n"
     ]
    },
    {
     "name": "stderr",
     "output_type": "stream",
     "text": [
      " 35%|██████████████████████████████████████████                                                                               | 87/250 [00:08<00:13, 12.01it/s]"
     ]
    },
    {
     "name": "stdout",
     "output_type": "stream",
     "text": [
      "--- Validation --- [threshold, AUC, Accuracy, F score] =  [np.float64(0.722), np.float64(0.967), np.float64(0.908), np.float64(0.924)]\n",
      "--- Training --- [threshold, AUC] =  [np.float64(0.652), np.float64(0.967)]\n",
      "--- Iteration 90: Training loss --- [Data, Label, Total] = [11512.042290.3, 331.385708.3, 57891.597156.3]\n",
      "!!! pred_type filter\n"
     ]
    },
    {
     "name": "stderr",
     "output_type": "stream",
     "text": [
      " 39%|███████████████████████████████████████████████▍                                                                         | 98/250 [00:08<00:11, 13.15it/s]"
     ]
    },
    {
     "name": "stdout",
     "output_type": "stream",
     "text": [
      "--- Validation --- [threshold, AUC, Accuracy, F score] =  [np.float64(0.652), np.float64(0.967), np.float64(0.914), np.float64(0.931)]\n",
      "--- Training --- [threshold, AUC] =  [np.float64(0.664), np.float64(0.967)]\n",
      "--- Iteration 100: Training loss --- [Data, Label, Total] = [11415.065313.3, 331.124370.3, 57406.450935.3]\n",
      "!!! pred_type filter\n"
     ]
    },
    {
     "name": "stderr",
     "output_type": "stream",
     "text": [
      " 44%|████████████████████████████████████████████████████▎                                                                   | 109/250 [00:09<00:10, 13.90it/s]"
     ]
    },
    {
     "name": "stdout",
     "output_type": "stream",
     "text": [
      "--- Validation --- [threshold, AUC, Accuracy, F score] =  [np.float64(0.664), np.float64(0.967), np.float64(0.914), np.float64(0.931)]\n",
      "--- Training --- [threshold, AUC] =  [np.float64(0.66), np.float64(0.968)]\n",
      "--- Iteration 110: Training loss --- [Data, Label, Total] = [11327.449648.3, 330.484411.3, 56967.732652.3]\n",
      "!!! pred_type filter\n"
     ]
    },
    {
     "name": "stderr",
     "output_type": "stream",
     "text": [
      " 48%|█████████████████████████████████████████████████████████                                                               | 119/250 [00:10<00:09, 13.65it/s]"
     ]
    },
    {
     "name": "stdout",
     "output_type": "stream",
     "text": [
      "--- Validation --- [threshold, AUC, Accuracy, F score] =  [np.float64(0.66), np.float64(0.968), np.float64(0.915), np.float64(0.932)]\n",
      "--- Training --- [threshold, AUC] =  [np.float64(0.663), np.float64(0.968)]\n",
      "--- Iteration 120: Training loss --- [Data, Label, Total] = [11246.042952.3, 330.046541.3, 56560.261299.3]\n",
      "!!! pred_type filter\n"
     ]
    },
    {
     "name": "stderr",
     "output_type": "stream",
     "text": [
      " 52%|█████████████████████████████████████████████████████████████▉                                                          | 129/250 [00:11<00:08, 14.03it/s]"
     ]
    },
    {
     "name": "stdout",
     "output_type": "stream",
     "text": [
      "--- Validation --- [threshold, AUC, Accuracy, F score] =  [np.float64(0.663), np.float64(0.968), np.float64(0.915), np.float64(0.931)]\n",
      "--- Training --- [threshold, AUC] =  [np.float64(0.661), np.float64(0.968)]\n",
      "--- Iteration 130: Training loss --- [Data, Label, Total] = [11169.754027.3, 329.438009.3, 56178.208142.3]\n",
      "!!! pred_type filter\n"
     ]
    },
    {
     "name": "stderr",
     "output_type": "stream",
     "text": [
      " 56%|██████████████████████████████████████████████████████████████████▋                                                     | 139/250 [00:12<00:07, 14.08it/s]"
     ]
    },
    {
     "name": "stdout",
     "output_type": "stream",
     "text": [
      "--- Validation --- [threshold, AUC, Accuracy, F score] =  [np.float64(0.661), np.float64(0.968), np.float64(0.914), np.float64(0.93)]\n",
      "--- Training --- [threshold, AUC] =  [np.float64(0.659), np.float64(0.968)]\n",
      "--- Iteration 140: Training loss --- [Data, Label, Total] = [11097.745593.3, 329.085126.3, 55817.813093.3]\n",
      "!!! pred_type filter\n"
     ]
    },
    {
     "name": "stderr",
     "output_type": "stream",
     "text": [
      " 60%|███████████████████████████████████████████████████████████████████████▌                                                | 149/250 [00:13<00:07, 14.07it/s]"
     ]
    },
    {
     "name": "stdout",
     "output_type": "stream",
     "text": [
      "--- Validation --- [threshold, AUC, Accuracy, F score] =  [np.float64(0.659), np.float64(0.968), np.float64(0.915), np.float64(0.931)]\n",
      "--- Training --- [threshold, AUC] =  [np.float64(0.653), np.float64(0.968)]\n",
      "--- Iteration 150: Training loss --- [Data, Label, Total] = [11030.493099.3, 328.819527.3, 55481.285020.3]\n",
      "!!! pred_type filter\n"
     ]
    },
    {
     "name": "stderr",
     "output_type": "stream",
     "text": [
      " 63%|███████████████████████████████████████████████████████████████████████████▊                                            | 158/250 [00:14<00:07, 12.23it/s]"
     ]
    },
    {
     "name": "stdout",
     "output_type": "stream",
     "text": [
      "--- Validation --- [threshold, AUC, Accuracy, F score] =  [np.float64(0.653), np.float64(0.968), np.float64(0.917), np.float64(0.933)]\n",
      "--- Training --- [threshold, AUC] =  [np.float64(0.65), np.float64(0.968)]\n",
      "--- Iteration 160: Training loss --- [Data, Label, Total] = [10969.926664.3, 328.510168.3, 55178.143486.3]\n",
      "!!! pred_type filter\n"
     ]
    },
    {
     "name": "stderr",
     "output_type": "stream",
     "text": [
      " 68%|█████████████████████████████████████████████████████████████████████████████████                                       | 169/250 [00:15<00:05, 13.94it/s]"
     ]
    },
    {
     "name": "stdout",
     "output_type": "stream",
     "text": [
      "--- Validation --- [threshold, AUC, Accuracy, F score] =  [np.float64(0.65), np.float64(0.968), np.float64(0.917), np.float64(0.933)]\n",
      "--- Training --- [threshold, AUC] =  [np.float64(0.646), np.float64(0.968)]\n",
      "--- Iteration 170: Training loss --- [Data, Label, Total] = [10917.315550.3, 328.616580.3, 54915.194328.3]\n",
      "!!! pred_type filter\n"
     ]
    },
    {
     "name": "stderr",
     "output_type": "stream",
     "text": [
      " 72%|█████████████████████████████████████████████████████████████████████████████████████▉                                  | 179/250 [00:15<00:04, 14.33it/s]"
     ]
    },
    {
     "name": "stdout",
     "output_type": "stream",
     "text": [
      "--- Validation --- [threshold, AUC, Accuracy, F score] =  [np.float64(0.646), np.float64(0.968), np.float64(0.916), np.float64(0.933)]\n",
      "--- Training --- [threshold, AUC] =  [np.float64(0.681), np.float64(0.968)]\n",
      "--- Iteration 180: Training loss --- [Data, Label, Total] = [10871.884567.3, 328.656637.3, 54688.079474.3]\n",
      "!!! pred_type filter\n"
     ]
    },
    {
     "name": "stderr",
     "output_type": "stream",
     "text": [
      " 76%|███████████████████████████████████████████████████████████████████████████████████████████▏                            | 190/250 [00:16<00:03, 15.27it/s]"
     ]
    },
    {
     "name": "stdout",
     "output_type": "stream",
     "text": [
      "--- Validation --- [threshold, AUC, Accuracy, F score] =  [np.float64(0.681), np.float64(0.968), np.float64(0.913), np.float64(0.929)]\n",
      "--- Training --- [threshold, AUC] =  [np.float64(0.68), np.float64(0.968)]\n",
      "--- Iteration 190: Training loss --- [Data, Label, Total] = [10832.618933.3, 328.715231.3, 54491.809895.3]\n",
      "!!! pred_type filter\n"
     ]
    },
    {
     "name": "stderr",
     "output_type": "stream",
     "text": [
      " 79%|███████████████████████████████████████████████████████████████████████████████████████████████                         | 198/250 [00:17<00:03, 13.29it/s]"
     ]
    },
    {
     "name": "stdout",
     "output_type": "stream",
     "text": [
      "--- Validation --- [threshold, AUC, Accuracy, F score] =  [np.float64(0.68), np.float64(0.968), np.float64(0.913), np.float64(0.929)]\n",
      "--- Training --- [threshold, AUC] =  [np.float64(0.677), np.float64(0.968)]\n",
      "--- Iteration 200: Training loss --- [Data, Label, Total] = [10798.188921.3, 328.707183.3, 54319.651790.3]\n",
      "!!! pred_type filter\n"
     ]
    },
    {
     "name": "stderr",
     "output_type": "stream",
     "text": [
      " 84%|████████████████████████████████████████████████████████████████████████████████████████████████████▎                   | 209/250 [00:18<00:02, 14.66it/s]"
     ]
    },
    {
     "name": "stdout",
     "output_type": "stream",
     "text": [
      "--- Validation --- [threshold, AUC, Accuracy, F score] =  [np.float64(0.677), np.float64(0.968), np.float64(0.914), np.float64(0.93)]\n",
      "--- Training --- [threshold, AUC] =  [np.float64(0.689), np.float64(0.968)]\n",
      "--- Iteration 210: Training loss --- [Data, Label, Total] = [10767.262107.3, 328.777416.3, 54165.087952.3]\n",
      "!!! pred_type filter\n"
     ]
    },
    {
     "name": "stderr",
     "output_type": "stream",
     "text": [
      " 88%|█████████████████████████████████████████████████████████████████████████████████████████████████████████▌              | 220/250 [00:19<00:01, 15.63it/s]"
     ]
    },
    {
     "name": "stdout",
     "output_type": "stream",
     "text": [
      "--- Validation --- [threshold, AUC, Accuracy, F score] =  [np.float64(0.689), np.float64(0.968), np.float64(0.913), np.float64(0.929)]\n",
      "--- Training --- [threshold, AUC] =  [np.float64(0.673), np.float64(0.968)]\n",
      "--- Iteration 220: Training loss --- [Data, Label, Total] = [10738.899267.3, 328.939054.3, 54023.435392.3]\n",
      "!!! pred_type filter\n"
     ]
    },
    {
     "name": "stderr",
     "output_type": "stream",
     "text": [
      " 92%|██████████████████████████████████████████████████████████████████████████████████████████████████████████████▍         | 230/250 [00:19<00:01, 15.31it/s]"
     ]
    },
    {
     "name": "stdout",
     "output_type": "stream",
     "text": [
      "--- Validation --- [threshold, AUC, Accuracy, F score] =  [np.float64(0.673), np.float64(0.968), np.float64(0.915), np.float64(0.931)]\n",
      "--- Training --- [threshold, AUC] =  [np.float64(0.679), np.float64(0.968)]\n",
      "--- Iteration 230: Training loss --- [Data, Label, Total] = [10711.932910.3, 328.866642.3, 53888.531192.3]\n",
      "!!! pred_type filter\n"
     ]
    },
    {
     "name": "stderr",
     "output_type": "stream",
     "text": [
      " 94%|████████████████████████████████████████████████████████████████████████████████████████████████████████████████▎       | 234/250 [00:20<00:01, 10.89it/s]"
     ]
    },
    {
     "name": "stdout",
     "output_type": "stream",
     "text": [
      "--- Validation --- [threshold, AUC, Accuracy, F score] =  [np.float64(0.679), np.float64(0.968), np.float64(0.914), np.float64(0.93)]\n",
      "--- Training --- [threshold, AUC] =  [np.float64(0.684), np.float64(0.968)]\n",
      "--- Iteration 240: Training loss --- [Data, Label, Total] = [10685.361493.3, 328.908259.3, 53755.715722.3]\n",
      "!!! pred_type filter\n"
     ]
    },
    {
     "name": "stderr",
     "output_type": "stream",
     "text": [
      "100%|████████████████████████████████████████████████████████████████████████████████████████████████████████████████████████| 250/250 [00:21<00:00, 11.58it/s]"
     ]
    },
    {
     "name": "stdout",
     "output_type": "stream",
     "text": [
      "--- Validation --- [threshold, AUC, Accuracy, F score] =  [np.float64(0.684), np.float64(0.968), np.float64(0.913), np.float64(0.929)]\n",
      "!!! pred_type filter\n"
     ]
    },
    {
     "name": "stderr",
     "output_type": "stream",
     "text": [
      "\n"
     ]
    },
    {
     "name": "stdout",
     "output_type": "stream",
     "text": [
      "num of subgraphs induced on k-paths: 500\n",
      "num of subgraphs induced on k-paths: 500\n",
      "X_list: (225, 1000)\n",
      "2\n",
      "(1, 500)\n",
      "(1, 500)\n",
      "label_vec: (1, 1000)\n",
      "('Caltech36', 'UCLA26') predicting Harvard1 0.8419497556991397\n",
      "\n",
      "3: 0.8778558372677772\n",
      "4: 0.8449298516548318\n",
      "5: 0.8328589202034812\n",
      "6: 0.8810722135926942\n",
      "7: 0.8300352574962108\n",
      "8: 0.8341847021951587\n",
      "9: 0.8194475467039469\n",
      "10: 0.8129617372639039\n",
      "11: 0.845638803372221\n",
      "12: 0.8369670343428398\n",
      "13: 0.8623456412356946\n",
      "14: 0.831572887805297\n",
      "15: 0.8408084132367011\n",
      "16: 0.8064638447237019\n",
      "17: 0.8287998330500281\n",
      "18: 0.8373152203303609\n",
      "19: 0.8276952327992096\n",
      "20: 0.8418126002700697\n",
      "21: 0.8454592943223044\n",
      "22: 0.844181117391187\n",
      "23: 0.8419497556991397\n",
      "\n",
      "num of subgraphs induced on k-paths: 500\n",
      "num of subgraphs induced on k-paths: 500\n",
      "X_list: (225, 1000)\n",
      "2\n",
      "(1, 500)\n",
      "(1, 500)\n",
      "label_vec: (1, 1000)\n",
      "num of subgraphs induced on k-paths: 500\n",
      "num of subgraphs induced on k-paths: 860\n",
      "X_list: (225, 1360)\n",
      "2\n",
      "(1, 500)\n",
      "(1, 860)\n",
      "label_vec: (1, 1360)\n",
      "initial loading beta [[ 0.37866235  0.92183698  0.02708276 -0.24957067  0.19782111 -0.76530756\n",
      "   0.83943772  0.22807476 -0.62155582 -0.74522864 -0.22985913  0.21686555\n",
      "   0.52479349 -0.68519245 -0.89710552  0.62801387  0.22006727 -0.9614835\n",
      "   0.88663106  0.66256958  0.80597511  0.08554946  0.57166398  0.4653787\n",
      "   0.51894483]]\n"
     ]
    },
    {
     "name": "stderr",
     "output_type": "stream",
     "text": [
      "  0%|                                                                                                                                  | 0/250 [00:00<?, ?it/s]"
     ]
    },
    {
     "name": "stdout",
     "output_type": "stream",
     "text": [
      "--- Training --- [threshold, AUC] =  [np.float64(0.688), np.float64(0.966)]\n",
      "--- Iteration 0: Training loss --- [Data, Label, Total] = [34204.717837.3, 346.242926.3, 171369.832113.3]\n"
     ]
    },
    {
     "name": "stderr",
     "output_type": "stream",
     "text": [
      "  2%|██▍                                                                                                                       | 5/250 [00:00<00:05, 43.17it/s]"
     ]
    },
    {
     "name": "stdout",
     "output_type": "stream",
     "text": [
      "--- Training --- [threshold, AUC] =  [np.float64(0.663), np.float64(0.97)]\n",
      "--- Iteration 10: Training loss --- [Data, Label, Total] = [17348.097600.3, 327.880802.3, 87068.368804.3]\n",
      "!!! pred_type filter\n"
     ]
    },
    {
     "name": "stderr",
     "output_type": "stream",
     "text": [
      "  7%|████████▏                                                                                                                | 17/250 [00:01<00:15, 14.78it/s]"
     ]
    },
    {
     "name": "stdout",
     "output_type": "stream",
     "text": [
      "--- Validation --- [threshold, AUC, Accuracy, F score] =  [np.float64(0.663), np.float64(0.97), np.float64(0.916), np.float64(0.932)]\n",
      "--- Training --- [threshold, AUC] =  [np.float64(0.685), np.float64(0.972)]\n",
      "--- Iteration 20: Training loss --- [Data, Label, Total] = [14889.320691.3, 323.607330.3, 74770.210786.3]\n",
      "!!! pred_type filter\n"
     ]
    },
    {
     "name": "stderr",
     "output_type": "stream",
     "text": [
      " 11%|█████████████                                                                                                            | 27/250 [00:02<00:16, 13.18it/s]"
     ]
    },
    {
     "name": "stdout",
     "output_type": "stream",
     "text": [
      "--- Validation --- [threshold, AUC, Accuracy, F score] =  [np.float64(0.685), np.float64(0.972), np.float64(0.916), np.float64(0.932)]\n",
      "--- Training --- [threshold, AUC] =  [np.float64(0.706), np.float64(0.972)]\n",
      "--- Iteration 30: Training loss --- [Data, Label, Total] = [13355.653015.3, 325.265081.3, 67103.530158.3]\n",
      "!!! pred_type filter\n"
     ]
    },
    {
     "name": "stderr",
     "output_type": "stream",
     "text": [
      " 15%|█████████████████▉                                                                                                       | 37/250 [00:03<00:16, 13.04it/s]"
     ]
    },
    {
     "name": "stdout",
     "output_type": "stream",
     "text": [
      "--- Validation --- [threshold, AUC, Accuracy, F score] =  [np.float64(0.706), np.float64(0.972), np.float64(0.911), np.float64(0.927)]\n",
      "--- Training --- [threshold, AUC] =  [np.float64(0.681), np.float64(0.971)]\n",
      "--- Iteration 40: Training loss --- [Data, Label, Total] = [12355.496313.3, 327.761321.3, 62105.242884.3]\n",
      "!!! pred_type filter\n"
     ]
    },
    {
     "name": "stderr",
     "output_type": "stream",
     "text": [
      " 18%|██████████████████████▎                                                                                                  | 46/250 [00:04<00:16, 12.31it/s]"
     ]
    },
    {
     "name": "stdout",
     "output_type": "stream",
     "text": [
      "--- Validation --- [threshold, AUC, Accuracy, F score] =  [np.float64(0.681), np.float64(0.971), np.float64(0.913), np.float64(0.93)]\n"
     ]
    },
    {
     "name": "stderr",
     "output_type": "stream",
     "text": [
      " 20%|████████████████████████▏                                                                                                | 50/250 [00:04<00:13, 15.09it/s]"
     ]
    },
    {
     "name": "stdout",
     "output_type": "stream",
     "text": [
      "--- Training --- [threshold, AUC] =  [np.float64(0.671), np.float64(0.971)]\n",
      "--- Iteration 50: Training loss --- [Data, Label, Total] = [11737.733153.3, 329.397827.3, 59018.063592.3]\n",
      "!!! pred_type filter\n"
     ]
    },
    {
     "name": "stderr",
     "output_type": "stream",
     "text": [
      " 22%|██████████████████████████▏                                                                                              | 54/250 [00:05<00:25,  7.64it/s]"
     ]
    },
    {
     "name": "stdout",
     "output_type": "stream",
     "text": [
      "--- Validation --- [threshold, AUC, Accuracy, F score] =  [np.float64(0.671), np.float64(0.971), np.float64(0.917), np.float64(0.933)]\n",
      "--- Training --- [threshold, AUC] =  [np.float64(0.67), np.float64(0.971)]\n",
      "--- Iteration 60: Training loss --- [Data, Label, Total] = [11360.830320.3, 330.422315.3, 57134.573915.3]\n",
      "!!! pred_type filter\n"
     ]
    },
    {
     "name": "stderr",
     "output_type": "stream",
     "text": [
      " 27%|████████████████████████████████▍                                                                                        | 67/250 [00:06<00:16, 11.41it/s]"
     ]
    },
    {
     "name": "stdout",
     "output_type": "stream",
     "text": [
      "--- Validation --- [threshold, AUC, Accuracy, F score] =  [np.float64(0.67), np.float64(0.971), np.float64(0.918), np.float64(0.934)]\n",
      "--- Training --- [threshold, AUC] =  [np.float64(0.657), np.float64(0.972)]\n",
      "--- Iteration 70: Training loss --- [Data, Label, Total] = [11128.357600.3, 330.915386.3, 55972.703385.3]\n",
      "!!! pred_type filter\n"
     ]
    },
    {
     "name": "stderr",
     "output_type": "stream",
     "text": [
      " 31%|█████████████████████████████████████▎                                                                                   | 77/250 [00:07<00:13, 12.69it/s]"
     ]
    },
    {
     "name": "stdout",
     "output_type": "stream",
     "text": [
      "--- Validation --- [threshold, AUC, Accuracy, F score] =  [np.float64(0.657), np.float64(0.972), np.float64(0.918), np.float64(0.935)]\n",
      "--- Training --- [threshold, AUC] =  [np.float64(0.663), np.float64(0.972)]\n",
      "--- Iteration 80: Training loss --- [Data, Label, Total] = [10976.090869.3, 331.169426.3, 55211.623769.3]\n",
      "!!! pred_type filter\n"
     ]
    },
    {
     "name": "stderr",
     "output_type": "stream",
     "text": [
      " 35%|██████████████████████████████████████████                                                                               | 87/250 [00:07<00:12, 13.06it/s]"
     ]
    },
    {
     "name": "stdout",
     "output_type": "stream",
     "text": [
      "--- Validation --- [threshold, AUC, Accuracy, F score] =  [np.float64(0.663), np.float64(0.972), np.float64(0.918), np.float64(0.935)]\n",
      "--- Training --- [threshold, AUC] =  [np.float64(0.694), np.float64(0.972)]\n",
      "--- Iteration 90: Training loss --- [Data, Label, Total] = [10867.954207.3, 330.712512.3, 54670.483549.3]\n",
      "!!! pred_type filter\n"
     ]
    },
    {
     "name": "stderr",
     "output_type": "stream",
     "text": [
      " 39%|██████████████████████████████████████████████▉                                                                          | 97/250 [00:08<00:11, 13.29it/s]"
     ]
    },
    {
     "name": "stdout",
     "output_type": "stream",
     "text": [
      "--- Validation --- [threshold, AUC, Accuracy, F score] =  [np.float64(0.694), np.float64(0.972), np.float64(0.915), np.float64(0.931)]\n",
      "--- Training --- [threshold, AUC] =  [np.float64(0.728), np.float64(0.972)]\n",
      "--- Iteration 100: Training loss --- [Data, Label, Total] = [10785.892637.3, 330.151059.3, 54259.614244.3]\n",
      "!!! pred_type filter\n"
     ]
    },
    {
     "name": "stderr",
     "output_type": "stream",
     "text": [
      " 43%|███████████████████████████████████████████████████▎                                                                    | 107/250 [00:10<00:12, 11.09it/s]"
     ]
    },
    {
     "name": "stdout",
     "output_type": "stream",
     "text": [
      "--- Validation --- [threshold, AUC, Accuracy, F score] =  [np.float64(0.728), np.float64(0.972), np.float64(0.912), np.float64(0.928)]\n",
      "--- Training --- [threshold, AUC] =  [np.float64(0.731), np.float64(0.972)]\n",
      "--- Iteration 110: Training loss --- [Data, Label, Total] = [10718.384050.3, 329.352020.3, 53921.272269.3]\n",
      "!!! pred_type filter\n"
     ]
    },
    {
     "name": "stderr",
     "output_type": "stream",
     "text": [
      " 47%|████████████████████████████████████████████████████████▏                                                               | 117/250 [00:10<00:10, 12.38it/s]"
     ]
    },
    {
     "name": "stdout",
     "output_type": "stream",
     "text": [
      "--- Validation --- [threshold, AUC, Accuracy, F score] =  [np.float64(0.731), np.float64(0.972), np.float64(0.914), np.float64(0.929)]\n",
      "--- Training --- [threshold, AUC] =  [np.float64(0.673), np.float64(0.972)]\n",
      "--- Iteration 120: Training loss --- [Data, Label, Total] = [10659.342380.3, 328.903659.3, 53625.615562.3]\n",
      "!!! pred_type filter\n"
     ]
    },
    {
     "name": "stderr",
     "output_type": "stream",
     "text": [
      " 51%|████████████████████████████████████████████████████████████▉                                                           | 127/250 [00:11<00:09, 13.15it/s]"
     ]
    },
    {
     "name": "stdout",
     "output_type": "stream",
     "text": [
      "--- Validation --- [threshold, AUC, Accuracy, F score] =  [np.float64(0.673), np.float64(0.972), np.float64(0.92), np.float64(0.935)]\n",
      "--- Training --- [threshold, AUC] =  [np.float64(0.738), np.float64(0.972)]\n",
      "--- Iteration 130: Training loss --- [Data, Label, Total] = [10607.623015.3, 328.527543.3, 53366.642618.3]\n",
      "!!! pred_type filter\n"
     ]
    },
    {
     "name": "stderr",
     "output_type": "stream",
     "text": [
      " 55%|█████████████████████████████████████████████████████████████████▊                                                      | 137/250 [00:12<00:08, 13.62it/s]"
     ]
    },
    {
     "name": "stdout",
     "output_type": "stream",
     "text": [
      "--- Validation --- [threshold, AUC, Accuracy, F score] =  [np.float64(0.738), np.float64(0.972), np.float64(0.913), np.float64(0.929)]\n",
      "--- Training --- [threshold, AUC] =  [np.float64(0.644), np.float64(0.973)]\n",
      "--- Iteration 140: Training loss --- [Data, Label, Total] = [10565.305415.3, 328.577166.3, 53155.104241.3]\n",
      "!!! pred_type filter\n"
     ]
    },
    {
     "name": "stderr",
     "output_type": "stream",
     "text": [
      " 59%|██████████████████████████████████████████████████████████████████████▌                                                 | 147/250 [00:13<00:07, 13.85it/s]"
     ]
    },
    {
     "name": "stdout",
     "output_type": "stream",
     "text": [
      "--- Validation --- [threshold, AUC, Accuracy, F score] =  [np.float64(0.644), np.float64(0.973), np.float64(0.923), np.float64(0.938)]\n",
      "--- Training --- [threshold, AUC] =  [np.float64(0.654), np.float64(0.973)]\n",
      "--- Iteration 150: Training loss --- [Data, Label, Total] = [10533.439990.3, 328.563603.3, 52995.763553.3]\n",
      "!!! pred_type filter\n"
     ]
    },
    {
     "name": "stderr",
     "output_type": "stream",
     "text": [
      " 62%|██████████████████████████████████████████████████████████████████████████▍                                             | 155/250 [00:14<00:07, 12.03it/s]"
     ]
    },
    {
     "name": "stdout",
     "output_type": "stream",
     "text": [
      "--- Validation --- [threshold, AUC, Accuracy, F score] =  [np.float64(0.654), np.float64(0.973), np.float64(0.922), np.float64(0.937)]\n"
     ]
    },
    {
     "name": "stderr",
     "output_type": "stream",
     "text": [
      " 64%|████████████████████████████████████████████████████████████████████████████▎                                           | 159/250 [00:14<00:06, 13.80it/s]"
     ]
    },
    {
     "name": "stdout",
     "output_type": "stream",
     "text": [
      "--- Training --- [threshold, AUC] =  [np.float64(0.637), np.float64(0.972)]\n",
      "--- Iteration 160: Training loss --- [Data, Label, Total] = [10510.984772.3, 328.555401.3, 52883.479262.3]\n",
      "!!! pred_type filter\n"
     ]
    },
    {
     "name": "stderr",
     "output_type": "stream",
     "text": [
      " 67%|████████████████████████████████████████████████████████████████████████████████▋                                       | 168/250 [00:15<00:06, 12.62it/s]"
     ]
    },
    {
     "name": "stdout",
     "output_type": "stream",
     "text": [
      "--- Validation --- [threshold, AUC, Accuracy, F score] =  [np.float64(0.637), np.float64(0.972), np.float64(0.925), np.float64(0.94)]\n",
      "--- Training --- [threshold, AUC] =  [np.float64(0.641), np.float64(0.972)]\n",
      "--- Iteration 170: Training loss --- [Data, Label, Total] = [10496.227575.3, 328.745856.3, 52809.883733.3]\n",
      "!!! pred_type filter\n"
     ]
    },
    {
     "name": "stderr",
     "output_type": "stream",
     "text": [
      " 72%|█████████████████████████████████████████████████████████████████████████████████████▉                                  | 179/250 [00:16<00:05, 14.07it/s]"
     ]
    },
    {
     "name": "stdout",
     "output_type": "stream",
     "text": [
      "--- Validation --- [threshold, AUC, Accuracy, F score] =  [np.float64(0.641), np.float64(0.972), np.float64(0.924), np.float64(0.94)]\n",
      "--- Training --- [threshold, AUC] =  [np.float64(0.638), np.float64(0.972)]\n",
      "--- Iteration 180: Training loss --- [Data, Label, Total] = [10486.201765.3, 328.800436.3, 52759.809261.3]\n",
      "!!! pred_type filter\n"
     ]
    },
    {
     "name": "stderr",
     "output_type": "stream",
     "text": [
      " 76%|██████████████████████████████████████████████████████████████████████████████████████████▋                             | 189/250 [00:17<00:04, 13.94it/s]"
     ]
    },
    {
     "name": "stdout",
     "output_type": "stream",
     "text": [
      "--- Validation --- [threshold, AUC, Accuracy, F score] =  [np.float64(0.638), np.float64(0.972), np.float64(0.924), np.float64(0.94)]\n",
      "--- Training --- [threshold, AUC] =  [np.float64(0.641), np.float64(0.972)]\n",
      "--- Iteration 190: Training loss --- [Data, Label, Total] = [10478.840220.3, 329.070677.3, 52723.271776.3]\n",
      "!!! pred_type filter\n"
     ]
    },
    {
     "name": "stderr",
     "output_type": "stream",
     "text": [
      " 80%|███████████████████████████████████████████████████████████████████████████████████████████████▌                        | 199/250 [00:18<00:03, 13.42it/s]"
     ]
    },
    {
     "name": "stdout",
     "output_type": "stream",
     "text": [
      "--- Validation --- [threshold, AUC, Accuracy, F score] =  [np.float64(0.641), np.float64(0.972), np.float64(0.924), np.float64(0.94)]\n",
      "--- Training --- [threshold, AUC] =  [np.float64(0.638), np.float64(0.972)]\n",
      "--- Iteration 200: Training loss --- [Data, Label, Total] = [10473.017168.3, 328.967722.3, 52694.053563.3]\n",
      "!!! pred_type filter\n"
     ]
    },
    {
     "name": "stderr",
     "output_type": "stream",
     "text": [
      " 83%|███████████████████████████████████████████████████████████████████████████████████████████████████▊                    | 208/250 [00:19<00:03, 12.63it/s]"
     ]
    },
    {
     "name": "stdout",
     "output_type": "stream",
     "text": [
      "--- Validation --- [threshold, AUC, Accuracy, F score] =  [np.float64(0.638), np.float64(0.972), np.float64(0.924), np.float64(0.94)]\n",
      "--- Training --- [threshold, AUC] =  [np.float64(0.628), np.float64(0.972)]\n",
      "--- Iteration 210: Training loss --- [Data, Label, Total] = [10468.133013.3, 328.944892.3, 52669.609957.3]\n",
      "!!! pred_type filter\n"
     ]
    },
    {
     "name": "stderr",
     "output_type": "stream",
     "text": [
      " 87%|████████████████████████████████████████████████████████████████████████████████████████████████████████▋               | 218/250 [00:20<00:02, 11.02it/s]"
     ]
    },
    {
     "name": "stdout",
     "output_type": "stream",
     "text": [
      "--- Validation --- [threshold, AUC, Accuracy, F score] =  [np.float64(0.628), np.float64(0.972), np.float64(0.925), np.float64(0.94)]\n",
      "--- Training --- [threshold, AUC] =  [np.float64(0.632), np.float64(0.972)]\n",
      "--- Iteration 220: Training loss --- [Data, Label, Total] = [10463.838878.3, 329.046218.3, 52648.240610.3]\n",
      "!!! pred_type filter\n"
     ]
    },
    {
     "name": "stderr",
     "output_type": "stream",
     "text": [
      " 91%|█████████████████████████████████████████████████████████████████████████████████████████████████████████████▍          | 228/250 [00:21<00:01, 12.23it/s]"
     ]
    },
    {
     "name": "stdout",
     "output_type": "stream",
     "text": [
      "--- Validation --- [threshold, AUC, Accuracy, F score] =  [np.float64(0.632), np.float64(0.972), np.float64(0.924), np.float64(0.94)]\n",
      "--- Training --- [threshold, AUC] =  [np.float64(0.634), np.float64(0.972)]\n",
      "--- Iteration 230: Training loss --- [Data, Label, Total] = [10459.952083.3, 328.908137.3, 52628.668552.3]\n",
      "!!! pred_type filter\n"
     ]
    },
    {
     "name": "stderr",
     "output_type": "stream",
     "text": [
      " 95%|██████████████████████████████████████████████████████████████████████████████████████████████████████████████████▏     | 238/250 [00:21<00:00, 13.02it/s]"
     ]
    },
    {
     "name": "stdout",
     "output_type": "stream",
     "text": [
      "--- Validation --- [threshold, AUC, Accuracy, F score] =  [np.float64(0.634), np.float64(0.972), np.float64(0.924), np.float64(0.94)]\n",
      "--- Training --- [threshold, AUC] =  [np.float64(0.621), np.float64(0.972)]\n",
      "--- Iteration 240: Training loss --- [Data, Label, Total] = [10456.415415.3, 329.083717.3, 52611.160790.3]\n",
      "!!! pred_type filter\n"
     ]
    },
    {
     "name": "stderr",
     "output_type": "stream",
     "text": [
      "100%|████████████████████████████████████████████████████████████████████████████████████████████████████████████████████████| 250/250 [00:22<00:00, 10.92it/s]"
     ]
    },
    {
     "name": "stdout",
     "output_type": "stream",
     "text": [
      "--- Validation --- [threshold, AUC, Accuracy, F score] =  [np.float64(0.621), np.float64(0.972), np.float64(0.925), np.float64(0.94)]\n",
      "!!! pred_type filter\n"
     ]
    },
    {
     "name": "stderr",
     "output_type": "stream",
     "text": [
      "\n"
     ]
    },
    {
     "name": "stdout",
     "output_type": "stream",
     "text": [
      "num of subgraphs induced on k-paths: 500\n",
      "num of subgraphs induced on k-paths: 500\n",
      "X_list: (225, 1000)\n",
      "2\n",
      "(1, 500)\n",
      "(1, 500)\n",
      "label_vec: (1, 1000)\n",
      "('Caltech36', 'UCLA26') predicting Harvard1 0.8333939205936771\n",
      "\n",
      "3: 0.8778558372677772\n",
      "4: 0.8449298516548318\n",
      "5: 0.8328589202034812\n",
      "6: 0.8810722135926942\n",
      "7: 0.8300352574962108\n",
      "8: 0.8341847021951587\n",
      "9: 0.8194475467039469\n",
      "10: 0.8129617372639039\n",
      "11: 0.845638803372221\n",
      "12: 0.8369670343428398\n",
      "13: 0.8623456412356946\n",
      "14: 0.831572887805297\n",
      "15: 0.8408084132367011\n",
      "16: 0.8064638447237019\n",
      "17: 0.8287998330500281\n",
      "18: 0.8373152203303609\n",
      "19: 0.8276952327992096\n",
      "20: 0.8418126002700697\n",
      "21: 0.8454592943223044\n",
      "22: 0.844181117391187\n",
      "23: 0.8419497556991397\n",
      "24: 0.8333939205936771\n",
      "\n",
      "num of subgraphs induced on k-paths: 500\n",
      "num of subgraphs induced on k-paths: 500\n",
      "X_list: (225, 1000)\n",
      "2\n",
      "(1, 500)\n",
      "(1, 500)\n",
      "label_vec: (1, 1000)\n",
      "num of subgraphs induced on k-paths: 500\n",
      "num of subgraphs induced on k-paths: 867\n",
      "X_list: (225, 1367)\n",
      "2\n",
      "(1, 500)\n",
      "(1, 867)\n",
      "label_vec: (1, 1367)\n",
      "initial loading beta [[ 0.48851743 -0.03765885 -0.53542271  0.82907677 -0.08529944  0.56277068\n",
      "   0.13989116  0.81189565  0.4468856  -0.92262761 -0.54689055  0.02345587\n",
      "  -0.67157873 -0.69840229 -0.6685938   0.90084933 -0.14200425  0.0191032\n",
      "   0.88447583 -0.93815019  0.31442199  0.68299792 -0.07993913 -0.95256117\n",
      "   0.60306665  0.32047581]]\n"
     ]
    },
    {
     "name": "stderr",
     "output_type": "stream",
     "text": [
      "  0%|                                                                                                                                  | 0/250 [00:00<?, ?it/s]"
     ]
    },
    {
     "name": "stdout",
     "output_type": "stream",
     "text": [
      "--- Training --- [threshold, AUC] =  [np.float64(0.654), np.float64(0.971)]\n",
      "--- Iteration 0: Training loss --- [Data, Label, Total] = [35031.104169.3, 312.771478.3, 175468.292323.3]\n"
     ]
    },
    {
     "name": "stderr",
     "output_type": "stream",
     "text": [
      "  3%|███▉                                                                                                                      | 8/250 [00:00<00:06, 38.14it/s]"
     ]
    },
    {
     "name": "stdout",
     "output_type": "stream",
     "text": [
      "--- Training --- [threshold, AUC] =  [np.float64(0.663), np.float64(0.971)]\n",
      "--- Iteration 10: Training loss --- [Data, Label, Total] = [17553.426258.3, 304.338132.3, 88071.469422.3]\n",
      "!!! pred_type filter\n"
     ]
    },
    {
     "name": "stderr",
     "output_type": "stream",
     "text": [
      "  7%|████████▋                                                                                                                | 18/250 [00:01<00:20, 11.40it/s]"
     ]
    },
    {
     "name": "stdout",
     "output_type": "stream",
     "text": [
      "--- Validation --- [threshold, AUC, Accuracy, F score] =  [np.float64(0.663), np.float64(0.971), np.float64(0.918), np.float64(0.934)]\n",
      "--- Training --- [threshold, AUC] =  [np.float64(0.74), np.float64(0.973)]\n",
      "--- Iteration 20: Training loss --- [Data, Label, Total] = [15401.833284.3, 294.815268.3, 77303.981689.3]\n",
      "!!! pred_type filter\n"
     ]
    },
    {
     "name": "stderr",
     "output_type": "stream",
     "text": [
      " 11%|█████████████▌                                                                                                           | 28/250 [00:02<00:20, 11.08it/s]"
     ]
    },
    {
     "name": "stdout",
     "output_type": "stream",
     "text": [
      "--- Validation --- [threshold, AUC, Accuracy, F score] =  [np.float64(0.74), np.float64(0.973), np.float64(0.917), np.float64(0.932)]\n",
      "--- Training --- [threshold, AUC] =  [np.float64(0.725), np.float64(0.975)]\n",
      "--- Iteration 30: Training loss --- [Data, Label, Total] = [14013.994013.3, 291.250538.3, 70361.220605.3]\n",
      "!!! pred_type filter\n"
     ]
    },
    {
     "name": "stderr",
     "output_type": "stream",
     "text": [
      " 15%|██████████████████▍                                                                                                      | 38/250 [00:03<00:18, 11.18it/s]"
     ]
    },
    {
     "name": "stdout",
     "output_type": "stream",
     "text": [
      "--- Validation --- [threshold, AUC, Accuracy, F score] =  [np.float64(0.725), np.float64(0.975), np.float64(0.921), np.float64(0.935)]\n",
      "--- Training --- [threshold, AUC] =  [np.float64(0.739), np.float64(0.975)]\n",
      "--- Iteration 40: Training loss --- [Data, Label, Total] = [13073.582928.3, 289.968246.3, 65657.882887.3]\n",
      "!!! pred_type filter\n"
     ]
    },
    {
     "name": "stderr",
     "output_type": "stream",
     "text": [
      " 19%|███████████████████████▏                                                                                                 | 48/250 [00:04<00:17, 11.29it/s]"
     ]
    },
    {
     "name": "stdout",
     "output_type": "stream",
     "text": [
      "--- Validation --- [threshold, AUC, Accuracy, F score] =  [np.float64(0.739), np.float64(0.975), np.float64(0.921), np.float64(0.935)]\n",
      "--- Training --- [threshold, AUC] =  [np.float64(0.75), np.float64(0.976)]\n",
      "--- Iteration 50: Training loss --- [Data, Label, Total] = [12505.479877.3, 289.660271.3, 62817.059654.3]\n",
      "!!! pred_type filter\n"
     ]
    },
    {
     "name": "stderr",
     "output_type": "stream",
     "text": [
      " 23%|████████████████████████████                                                                                             | 58/250 [00:06<00:19,  9.90it/s]"
     ]
    },
    {
     "name": "stdout",
     "output_type": "stream",
     "text": [
      "--- Validation --- [threshold, AUC, Accuracy, F score] =  [np.float64(0.75), np.float64(0.976), np.float64(0.92), np.float64(0.934)]\n",
      "--- Training --- [threshold, AUC] =  [np.float64(0.733), np.float64(0.976)]\n",
      "--- Iteration 60: Training loss --- [Data, Label, Total] = [12125.491639.3, 290.155050.3, 60917.613246.3]\n",
      "!!! pred_type filter\n"
     ]
    },
    {
     "name": "stderr",
     "output_type": "stream",
     "text": [
      " 27%|████████████████████████████████▉                                                                                        | 68/250 [00:07<00:16, 10.80it/s]"
     ]
    },
    {
     "name": "stdout",
     "output_type": "stream",
     "text": [
      "--- Validation --- [threshold, AUC, Accuracy, F score] =  [np.float64(0.733), np.float64(0.976), np.float64(0.92), np.float64(0.934)]\n",
      "--- Training --- [threshold, AUC] =  [np.float64(0.705), np.float64(0.976)]\n",
      "--- Iteration 70: Training loss --- [Data, Label, Total] = [11845.576641.3, 290.497355.3, 59518.380560.3]\n",
      "!!! pred_type filter\n"
     ]
    },
    {
     "name": "stderr",
     "output_type": "stream",
     "text": [
      " 31%|█████████████████████████████████████▊                                                                                   | 78/250 [00:08<00:15, 11.37it/s]"
     ]
    },
    {
     "name": "stdout",
     "output_type": "stream",
     "text": [
      "--- Validation --- [threshold, AUC, Accuracy, F score] =  [np.float64(0.705), np.float64(0.976), np.float64(0.92), np.float64(0.934)]\n",
      "--- Training --- [threshold, AUC] =  [np.float64(0.702), np.float64(0.976)]\n",
      "--- Iteration 80: Training loss --- [Data, Label, Total] = [11627.700047.3, 291.019155.3, 58429.519391.3]\n",
      "!!! pred_type filter\n"
     ]
    },
    {
     "name": "stderr",
     "output_type": "stream",
     "text": [
      " 35%|██████████████████████████████████████████▌                                                                              | 88/250 [00:09<00:13, 11.82it/s]"
     ]
    },
    {
     "name": "stdout",
     "output_type": "stream",
     "text": [
      "--- Validation --- [threshold, AUC, Accuracy, F score] =  [np.float64(0.702), np.float64(0.976), np.float64(0.92), np.float64(0.935)]\n",
      "--- Training --- [threshold, AUC] =  [np.float64(0.662), np.float64(0.976)]\n",
      "--- Iteration 90: Training loss --- [Data, Label, Total] = [11455.405205.3, 291.954294.3, 57568.980320.3]\n",
      "!!! pred_type filter\n"
     ]
    },
    {
     "name": "stderr",
     "output_type": "stream",
     "text": [
      " 38%|█████████████████████████████████████████████▉                                                                           | 95/250 [00:10<00:16,  9.49it/s]"
     ]
    },
    {
     "name": "stdout",
     "output_type": "stream",
     "text": [
      "--- Validation --- [threshold, AUC, Accuracy, F score] =  [np.float64(0.662), np.float64(0.976), np.float64(0.926), np.float64(0.941)]\n"
     ]
    },
    {
     "name": "stderr",
     "output_type": "stream",
     "text": [
      " 39%|███████████████████████████████████████████████▍                                                                         | 98/250 [00:10<00:17,  8.70it/s]"
     ]
    },
    {
     "name": "stdout",
     "output_type": "stream",
     "text": [
      "--- Training --- [threshold, AUC] =  [np.float64(0.662), np.float64(0.976)]\n",
      "--- Iteration 100: Training loss --- [Data, Label, Total] = [11325.960965.3, 293.260430.3, 56923.065255.3]\n",
      "!!! pred_type filter\n"
     ]
    },
    {
     "name": "stderr",
     "output_type": "stream",
     "text": [
      " 43%|███████████████████████████████████████████████████▎                                                                    | 107/250 [00:11<00:14,  9.73it/s]"
     ]
    },
    {
     "name": "stdout",
     "output_type": "stream",
     "text": [
      "--- Validation --- [threshold, AUC, Accuracy, F score] =  [np.float64(0.662), np.float64(0.976), np.float64(0.926), np.float64(0.941)]\n",
      "--- Training --- [threshold, AUC] =  [np.float64(0.659), np.float64(0.976)]\n",
      "--- Iteration 110: Training loss --- [Data, Label, Total] = [11229.978431.3, 294.426673.3, 56444.318828.3]\n",
      "!!! pred_type filter\n"
     ]
    },
    {
     "name": "stderr",
     "output_type": "stream",
     "text": [
      " 47%|████████████████████████████████████████████████████████▏                                                               | 117/250 [00:12<00:11, 11.40it/s]"
     ]
    },
    {
     "name": "stdout",
     "output_type": "stream",
     "text": [
      "--- Validation --- [threshold, AUC, Accuracy, F score] =  [np.float64(0.659), np.float64(0.976), np.float64(0.927), np.float64(0.941)]\n",
      "--- Training --- [threshold, AUC] =  [np.float64(0.659), np.float64(0.976)]\n",
      "--- Iteration 120: Training loss --- [Data, Label, Total] = [11155.203503.3, 295.372547.3, 56071.390063.3]\n",
      "!!! pred_type filter\n"
     ]
    },
    {
     "name": "stderr",
     "output_type": "stream",
     "text": [
      " 51%|████████████████████████████████████████████████████████████▉                                                           | 127/250 [00:13<00:09, 12.31it/s]"
     ]
    },
    {
     "name": "stdout",
     "output_type": "stream",
     "text": [
      "--- Validation --- [threshold, AUC, Accuracy, F score] =  [np.float64(0.659), np.float64(0.976), np.float64(0.926), np.float64(0.941)]\n",
      "--- Training --- [threshold, AUC] =  [np.float64(0.679), np.float64(0.975)]\n",
      "--- Iteration 130: Training loss --- [Data, Label, Total] = [11092.374549.3, 296.003235.3, 55757.875981.3]\n",
      "!!! pred_type filter\n"
     ]
    },
    {
     "name": "stderr",
     "output_type": "stream",
     "text": [
      " 55%|█████████████████████████████████████████████████████████████████▊                                                      | 137/250 [00:14<00:08, 12.83it/s]"
     ]
    },
    {
     "name": "stdout",
     "output_type": "stream",
     "text": [
      "--- Validation --- [threshold, AUC, Accuracy, F score] =  [np.float64(0.679), np.float64(0.975), np.float64(0.923), np.float64(0.938)]\n",
      "--- Training --- [threshold, AUC] =  [np.float64(0.678), np.float64(0.975)]\n",
      "--- Iteration 140: Training loss --- [Data, Label, Total] = [11037.562879.3, 296.527625.3, 55484.342022.3]\n",
      "!!! pred_type filter\n"
     ]
    },
    {
     "name": "stderr",
     "output_type": "stream",
     "text": [
      " 59%|██████████████████████████████████████████████████████████████████████▌                                                 | 147/250 [00:15<00:07, 13.12it/s]"
     ]
    },
    {
     "name": "stdout",
     "output_type": "stream",
     "text": [
      "--- Validation --- [threshold, AUC, Accuracy, F score] =  [np.float64(0.678), np.float64(0.975), np.float64(0.923), np.float64(0.938)]\n",
      "--- Training --- [threshold, AUC] =  [np.float64(0.666), np.float64(0.975)]\n",
      "--- Iteration 150: Training loss --- [Data, Label, Total] = [10989.857539.3, 296.848230.3, 55246.135926.3]\n",
      "!!! pred_type filter\n"
     ]
    },
    {
     "name": "stderr",
     "output_type": "stream",
     "text": [
      " 63%|███████████████████████████████████████████████████████████████████████████▎                                            | 157/250 [00:16<00:06, 13.49it/s]"
     ]
    },
    {
     "name": "stdout",
     "output_type": "stream",
     "text": [
      "--- Validation --- [threshold, AUC, Accuracy, F score] =  [np.float64(0.666), np.float64(0.975), np.float64(0.924), np.float64(0.939)]\n",
      "--- Training --- [threshold, AUC] =  [np.float64(0.664), np.float64(0.975)]\n",
      "--- Iteration 160: Training loss --- [Data, Label, Total] = [10948.129765.3, 297.028638.3, 55037.677464.3]\n",
      "!!! pred_type filter\n"
     ]
    },
    {
     "name": "stderr",
     "output_type": "stream",
     "text": [
      " 67%|████████████████████████████████████████████████████████████████████████████████▏                                       | 167/250 [00:17<00:06, 13.75it/s]"
     ]
    },
    {
     "name": "stdout",
     "output_type": "stream",
     "text": [
      "--- Validation --- [threshold, AUC, Accuracy, F score] =  [np.float64(0.664), np.float64(0.975), np.float64(0.924), np.float64(0.939)]\n",
      "--- Training --- [threshold, AUC] =  [np.float64(0.773), np.float64(0.975)]\n",
      "--- Iteration 170: Training loss --- [Data, Label, Total] = [10910.680466.3, 297.083714.3, 54850.486045.3]\n",
      "!!! pred_type filter\n"
     ]
    },
    {
     "name": "stderr",
     "output_type": "stream",
     "text": [
      " 71%|████████████████████████████████████████████████████████████████████████████████████▉                                   | 177/250 [00:17<00:05, 13.90it/s]"
     ]
    },
    {
     "name": "stdout",
     "output_type": "stream",
     "text": [
      "--- Validation --- [threshold, AUC, Accuracy, F score] =  [np.float64(0.773), np.float64(0.975), np.float64(0.912), np.float64(0.927)]\n",
      "--- Training --- [threshold, AUC] =  [np.float64(0.773), np.float64(0.975)]\n",
      "--- Iteration 180: Training loss --- [Data, Label, Total] = [10876.049976.3, 297.132268.3, 54677.382148.3]\n",
      "!!! pred_type filter\n"
     ]
    },
    {
     "name": "stderr",
     "output_type": "stream",
     "text": [
      " 75%|█████████████████████████████████████████████████████████████████████████████████████████▊                              | 187/250 [00:18<00:04, 13.81it/s]"
     ]
    },
    {
     "name": "stdout",
     "output_type": "stream",
     "text": [
      "--- Validation --- [threshold, AUC, Accuracy, F score] =  [np.float64(0.773), np.float64(0.975), np.float64(0.913), np.float64(0.928)]\n",
      "--- Training --- [threshold, AUC] =  [np.float64(0.77), np.float64(0.975)]\n",
      "--- Iteration 190: Training loss --- [Data, Label, Total] = [10843.079493.3, 296.989899.3, 54512.387365.3]\n",
      "!!! pred_type filter\n"
     ]
    },
    {
     "name": "stderr",
     "output_type": "stream",
     "text": [
      " 79%|██████████████████████████████████████████████████████████████████████████████████████████████▌                         | 197/250 [00:19<00:03, 13.81it/s]"
     ]
    },
    {
     "name": "stdout",
     "output_type": "stream",
     "text": [
      "--- Validation --- [threshold, AUC, Accuracy, F score] =  [np.float64(0.77), np.float64(0.975), np.float64(0.914), np.float64(0.928)]\n",
      "--- Training --- [threshold, AUC] =  [np.float64(0.769), np.float64(0.975)]\n",
      "--- Iteration 200: Training loss --- [Data, Label, Total] = [10811.188943.3, 296.719631.3, 54352.664344.3]\n",
      "!!! pred_type filter\n"
     ]
    },
    {
     "name": "stderr",
     "output_type": "stream",
     "text": [
      " 83%|███████████████████████████████████████████████████████████████████████████████████████████████████▎                    | 207/250 [00:20<00:03, 13.47it/s]"
     ]
    },
    {
     "name": "stdout",
     "output_type": "stream",
     "text": [
      "--- Validation --- [threshold, AUC, Accuracy, F score] =  [np.float64(0.769), np.float64(0.975), np.float64(0.914), np.float64(0.929)]\n",
      "--- Training --- [threshold, AUC] =  [np.float64(0.768), np.float64(0.976)]\n",
      "--- Iteration 210: Training loss --- [Data, Label, Total] = [10780.014932.3, 296.353534.3, 54196.428193.3]\n",
      "!!! pred_type filter\n"
     ]
    },
    {
     "name": "stderr",
     "output_type": "stream",
     "text": [
      " 87%|████████████████████████████████████████████████████████████████████████████████████████████████████████▏               | 217/250 [00:21<00:02, 13.47it/s]"
     ]
    },
    {
     "name": "stdout",
     "output_type": "stream",
     "text": [
      "--- Validation --- [threshold, AUC, Accuracy, F score] =  [np.float64(0.768), np.float64(0.976), np.float64(0.914), np.float64(0.929)]\n",
      "--- Training --- [threshold, AUC] =  [np.float64(0.664), np.float64(0.976)]\n",
      "--- Iteration 220: Training loss --- [Data, Label, Total] = [10749.747381.3, 296.007523.3, 54044.744426.3]\n",
      "!!! pred_type filter\n"
     ]
    },
    {
     "name": "stderr",
     "output_type": "stream",
     "text": [
      " 91%|████████████████████████████████████████████████████████████████████████████████████████████████████████████▉           | 227/250 [00:22<00:01, 13.67it/s]"
     ]
    },
    {
     "name": "stdout",
     "output_type": "stream",
     "text": [
      "--- Validation --- [threshold, AUC, Accuracy, F score] =  [np.float64(0.664), np.float64(0.976), np.float64(0.925), np.float64(0.94)]\n",
      "--- Training --- [threshold, AUC] =  [np.float64(0.769), np.float64(0.976)]\n",
      "--- Iteration 230: Training loss --- [Data, Label, Total] = [10721.201161.3, 295.302333.3, 53901.308140.3]\n",
      "!!! pred_type filter\n"
     ]
    },
    {
     "name": "stderr",
     "output_type": "stream",
     "text": [
      " 95%|█████████████████████████████████████████████████████████████████████████████████████████████████████████████████▊      | 237/250 [00:23<00:00, 13.82it/s]"
     ]
    },
    {
     "name": "stdout",
     "output_type": "stream",
     "text": [
      "--- Validation --- [threshold, AUC, Accuracy, F score] =  [np.float64(0.769), np.float64(0.976), np.float64(0.914), np.float64(0.929)]\n",
      "--- Training --- [threshold, AUC] =  [np.float64(0.671), np.float64(0.976)]\n",
      "--- Iteration 240: Training loss --- [Data, Label, Total] = [10695.393788.3, 294.349775.3, 53771.318716.3]\n",
      "!!! pred_type filter\n"
     ]
    },
    {
     "name": "stderr",
     "output_type": "stream",
     "text": [
      "100%|████████████████████████████████████████████████████████████████████████████████████████████████████████████████████████| 250/250 [00:24<00:00, 10.40it/s]"
     ]
    },
    {
     "name": "stdout",
     "output_type": "stream",
     "text": [
      "--- Validation --- [threshold, AUC, Accuracy, F score] =  [np.float64(0.671), np.float64(0.976), np.float64(0.924), np.float64(0.939)]\n",
      "!!! pred_type filter\n"
     ]
    },
    {
     "name": "stderr",
     "output_type": "stream",
     "text": [
      "\n"
     ]
    },
    {
     "name": "stdout",
     "output_type": "stream",
     "text": [
      "num of subgraphs induced on k-paths: 500\n",
      "num of subgraphs induced on k-paths: 500\n",
      "X_list: (225, 1000)\n",
      "2\n",
      "(1, 500)\n",
      "(1, 500)\n",
      "label_vec: (1, 1000)\n",
      "('Caltech36', 'UCLA26') predicting Harvard1 0.819992628909854\n",
      "\n",
      "3: 0.8778558372677772\n",
      "4: 0.8449298516548318\n",
      "5: 0.8328589202034812\n",
      "6: 0.8810722135926942\n",
      "7: 0.8300352574962108\n",
      "8: 0.8341847021951587\n",
      "9: 0.8194475467039469\n",
      "10: 0.8129617372639039\n",
      "11: 0.845638803372221\n",
      "12: 0.8369670343428398\n",
      "13: 0.8623456412356946\n",
      "14: 0.831572887805297\n",
      "15: 0.8408084132367011\n",
      "16: 0.8064638447237019\n",
      "17: 0.8287998330500281\n",
      "18: 0.8373152203303609\n",
      "19: 0.8276952327992096\n",
      "20: 0.8418126002700697\n",
      "21: 0.8454592943223044\n",
      "22: 0.844181117391187\n",
      "23: 0.8419497556991397\n",
      "24: 0.8333939205936771\n",
      "25: 0.819992628909854\n",
      "\n",
      "num of subgraphs induced on k-paths: 500\n",
      "num of subgraphs induced on k-paths: 500\n",
      "X_list: (225, 1000)\n",
      "2\n",
      "(1, 500)\n",
      "(1, 500)\n",
      "label_vec: (1, 1000)\n",
      "num of subgraphs induced on k-paths: 500\n",
      "num of subgraphs induced on k-paths: 855\n",
      "X_list: (225, 1355)\n",
      "2\n",
      "(1, 500)\n",
      "(1, 855)\n",
      "label_vec: (1, 1355)\n",
      "initial loading beta [[-0.05693376 -0.66751093 -0.35504461  0.64243377 -0.70970089 -0.48023137\n",
      "  -0.94845286  0.23639265  0.97696001 -0.28532995  0.1427901   0.96983549\n",
      "   0.28730459 -0.54988058  0.33583363 -0.1213104  -0.7017777   0.35148384\n",
      "   0.01061115  0.30333602  0.57116791 -0.62766858  0.92787234  0.77452034\n",
      "   0.52666227 -0.3220659  -0.75561028]]\n"
     ]
    },
    {
     "name": "stderr",
     "output_type": "stream",
     "text": [
      "  2%|██▍                                                                                                                       | 5/250 [00:00<00:05, 48.31it/s]"
     ]
    },
    {
     "name": "stdout",
     "output_type": "stream",
     "text": [
      "--- Training --- [threshold, AUC] =  [np.float64(0.65), np.float64(0.968)]\n",
      "--- Iteration 0: Training loss --- [Data, Label, Total] = [34932.598467.3, 328.482575.3, 174991.474908.3]\n",
      "--- Training --- [threshold, AUC] =  [np.float64(0.736), np.float64(0.97)]\n",
      "--- Iteration 10: Training loss --- [Data, Label, Total] = [17600.766114.3, 317.824659.3, 88321.655231.3]\n",
      "!!! pred_type filter\n"
     ]
    },
    {
     "name": "stderr",
     "output_type": "stream",
     "text": [
      "  7%|████████▏                                                                                                                | 17/250 [00:01<00:16, 13.83it/s]"
     ]
    },
    {
     "name": "stdout",
     "output_type": "stream",
     "text": [
      "--- Validation --- [threshold, AUC, Accuracy, F score] =  [np.float64(0.736), np.float64(0.97), np.float64(0.91), np.float64(0.926)]\n",
      "--- Training --- [threshold, AUC] =  [np.float64(0.677), np.float64(0.97)]\n",
      "--- Iteration 20: Training loss --- [Data, Label, Total] = [15316.036152.3, 315.437077.3, 76895.617838.3]\n",
      "!!! pred_type filter\n"
     ]
    },
    {
     "name": "stderr",
     "output_type": "stream",
     "text": [
      " 11%|█████████████▌                                                                                                           | 28/250 [00:02<00:17, 13.04it/s]"
     ]
    },
    {
     "name": "stdout",
     "output_type": "stream",
     "text": [
      "--- Validation --- [threshold, AUC, Accuracy, F score] =  [np.float64(0.677), np.float64(0.97), np.float64(0.917), np.float64(0.932)]\n",
      "--- Training --- [threshold, AUC] =  [np.float64(0.751), np.float64(0.971)]\n",
      "--- Iteration 30: Training loss --- [Data, Label, Total] = [14020.228354.3, 316.077490.3, 70417.219258.3]\n",
      "!!! pred_type filter\n"
     ]
    },
    {
     "name": "stderr",
     "output_type": "stream",
     "text": [
      " 16%|██████████████████▉                                                                                                      | 39/250 [00:03<00:16, 12.98it/s]"
     ]
    },
    {
     "name": "stdout",
     "output_type": "stream",
     "text": [
      "--- Validation --- [threshold, AUC, Accuracy, F score] =  [np.float64(0.751), np.float64(0.971), np.float64(0.911), np.float64(0.927)]\n",
      "--- Training --- [threshold, AUC] =  [np.float64(0.742), np.float64(0.971)]\n",
      "--- Iteration 40: Training loss --- [Data, Label, Total] = [13105.579281.3, 316.383657.3, 65844.280063.3]\n",
      "!!! pred_type filter\n"
     ]
    },
    {
     "name": "stderr",
     "output_type": "stream",
     "text": [
      " 20%|████████████████████████▏                                                                                                | 50/250 [00:04<00:15, 13.03it/s]"
     ]
    },
    {
     "name": "stdout",
     "output_type": "stream",
     "text": [
      "--- Validation --- [threshold, AUC, Accuracy, F score] =  [np.float64(0.742), np.float64(0.971), np.float64(0.911), np.float64(0.926)]\n",
      "--- Training --- [threshold, AUC] =  [np.float64(0.745), np.float64(0.971)]\n",
      "--- Iteration 50: Training loss --- [Data, Label, Total] = [12440.349863.3, 316.945540.3, 62518.694857.3]\n",
      "!!! pred_type filter\n"
     ]
    },
    {
     "name": "stderr",
     "output_type": "stream",
     "text": [
      " 22%|██████████████████████████▏                                                                                              | 54/250 [00:05<00:21,  8.92it/s]"
     ]
    },
    {
     "name": "stdout",
     "output_type": "stream",
     "text": [
      "--- Validation --- [threshold, AUC, Accuracy, F score] =  [np.float64(0.745), np.float64(0.971), np.float64(0.911), np.float64(0.927)]\n",
      "--- Training --- [threshold, AUC] =  [np.float64(0.739), np.float64(0.971)]\n",
      "--- Iteration 60: Training loss --- [Data, Label, Total] = [11962.111293.3, 317.493215.3, 60128.049682.3]\n",
      "!!! pred_type filter\n"
     ]
    },
    {
     "name": "stderr",
     "output_type": "stream",
     "text": [
      " 27%|████████████████████████████████▍                                                                                        | 67/250 [00:06<00:16, 11.38it/s]"
     ]
    },
    {
     "name": "stdout",
     "output_type": "stream",
     "text": [
      "--- Validation --- [threshold, AUC, Accuracy, F score] =  [np.float64(0.739), np.float64(0.971), np.float64(0.914), np.float64(0.929)]\n",
      "--- Training --- [threshold, AUC] =  [np.float64(0.742), np.float64(0.972)]\n",
      "--- Iteration 70: Training loss --- [Data, Label, Total] = [11610.963245.3, 318.134535.3, 58372.950760.3]\n",
      "!!! pred_type filter\n"
     ]
    },
    {
     "name": "stderr",
     "output_type": "stream",
     "text": [
      " 31%|█████████████████████████████████████▎                                                                                   | 77/250 [00:07<00:14, 11.69it/s]"
     ]
    },
    {
     "name": "stdout",
     "output_type": "stream",
     "text": [
      "--- Validation --- [threshold, AUC, Accuracy, F score] =  [np.float64(0.742), np.float64(0.972), np.float64(0.914), np.float64(0.929)]\n",
      "--- Training --- [threshold, AUC] =  [np.float64(0.748), np.float64(0.972)]\n",
      "--- Iteration 80: Training loss --- [Data, Label, Total] = [11352.551143.3, 318.900382.3, 57081.656097.3]\n",
      "!!! pred_type filter\n"
     ]
    },
    {
     "name": "stderr",
     "output_type": "stream",
     "text": [
      " 35%|██████████████████████████████████████████                                                                               | 87/250 [00:08<00:14, 11.31it/s]"
     ]
    },
    {
     "name": "stdout",
     "output_type": "stream",
     "text": [
      "--- Validation --- [threshold, AUC, Accuracy, F score] =  [np.float64(0.748), np.float64(0.972), np.float64(0.914), np.float64(0.929)]\n",
      "--- Training --- [threshold, AUC] =  [np.float64(0.74), np.float64(0.972)]\n",
      "--- Iteration 90: Training loss --- [Data, Label, Total] = [11156.713643.3, 319.399412.3, 56102.967626.3]\n",
      "!!! pred_type filter\n"
     ]
    },
    {
     "name": "stderr",
     "output_type": "stream",
     "text": [
      " 39%|██████████████████████████████████████████████▉                                                                          | 97/250 [00:09<00:12, 11.91it/s]"
     ]
    },
    {
     "name": "stdout",
     "output_type": "stream",
     "text": [
      "--- Validation --- [threshold, AUC, Accuracy, F score] =  [np.float64(0.74), np.float64(0.972), np.float64(0.914), np.float64(0.929)]\n",
      "--- Training --- [threshold, AUC] =  [np.float64(0.739), np.float64(0.972)]\n",
      "--- Iteration 100: Training loss --- [Data, Label, Total] = [11002.392179.3, 320.024905.3, 55331.985798.3]\n",
      "!!! pred_type filter\n"
     ]
    },
    {
     "name": "stderr",
     "output_type": "stream",
     "text": [
      " 43%|███████████████████████████████████████████████████▎                                                                    | 107/250 [00:10<00:11, 12.26it/s]"
     ]
    },
    {
     "name": "stdout",
     "output_type": "stream",
     "text": [
      "--- Validation --- [threshold, AUC, Accuracy, F score] =  [np.float64(0.739), np.float64(0.972), np.float64(0.914), np.float64(0.929)]\n",
      "--- Training --- [threshold, AUC] =  [np.float64(0.708), np.float64(0.972)]\n",
      "--- Iteration 110: Training loss --- [Data, Label, Total] = [10880.271905.3, 320.441152.3, 54721.800676.3]\n",
      "!!! pred_type filter\n"
     ]
    },
    {
     "name": "stderr",
     "output_type": "stream",
     "text": [
      " 47%|████████████████████████████████████████████████████████▏                                                               | 117/250 [00:11<00:10, 12.51it/s]"
     ]
    },
    {
     "name": "stdout",
     "output_type": "stream",
     "text": [
      "--- Validation --- [threshold, AUC, Accuracy, F score] =  [np.float64(0.708), np.float64(0.972), np.float64(0.918), np.float64(0.933)]\n",
      "--- Training --- [threshold, AUC] =  [np.float64(0.735), np.float64(0.972)]\n",
      "--- Iteration 120: Training loss --- [Data, Label, Total] = [10784.790973.3, 321.150445.3, 54245.105311.3]\n",
      "!!! pred_type filter\n"
     ]
    },
    {
     "name": "stderr",
     "output_type": "stream",
     "text": [
      " 51%|████████████████████████████████████████████████████████████▉                                                           | 127/250 [00:12<00:09, 12.70it/s]"
     ]
    },
    {
     "name": "stdout",
     "output_type": "stream",
     "text": [
      "--- Validation --- [threshold, AUC, Accuracy, F score] =  [np.float64(0.735), np.float64(0.972), np.float64(0.916), np.float64(0.931)]\n",
      "--- Training --- [threshold, AUC] =  [np.float64(0.734), np.float64(0.972)]\n",
      "--- Iteration 130: Training loss --- [Data, Label, Total] = [10713.566645.3, 320.997298.3, 53888.830522.3]\n",
      "!!! pred_type filter\n"
     ]
    },
    {
     "name": "stderr",
     "output_type": "stream",
     "text": [
      " 55%|█████████████████████████████████████████████████████████████████▊                                                      | 137/250 [00:13<00:08, 12.93it/s]"
     ]
    },
    {
     "name": "stdout",
     "output_type": "stream",
     "text": [
      "--- Validation --- [threshold, AUC, Accuracy, F score] =  [np.float64(0.734), np.float64(0.972), np.float64(0.916), np.float64(0.931)]\n",
      "--- Training --- [threshold, AUC] =  [np.float64(0.732), np.float64(0.972)]\n",
      "--- Iteration 140: Training loss --- [Data, Label, Total] = [10663.050800.3, 320.860106.3, 53636.114108.3]\n",
      "!!! pred_type filter\n"
     ]
    },
    {
     "name": "stderr",
     "output_type": "stream",
     "text": [
      " 59%|██████████████████████████████████████████████████████████████████████▌                                                 | 147/250 [00:14<00:07, 12.88it/s]"
     ]
    },
    {
     "name": "stdout",
     "output_type": "stream",
     "text": [
      "--- Validation --- [threshold, AUC, Accuracy, F score] =  [np.float64(0.732), np.float64(0.972), np.float64(0.917), np.float64(0.931)]\n",
      "--- Training --- [threshold, AUC] =  [np.float64(0.734), np.float64(0.972)]\n",
      "--- Iteration 150: Training loss --- [Data, Label, Total] = [10627.955058.3, 320.830899.3, 53460.606187.3]\n",
      "!!! pred_type filter\n"
     ]
    },
    {
     "name": "stderr",
     "output_type": "stream",
     "text": [
      " 63%|███████████████████████████████████████████████████████████████████████████▊                                            | 158/250 [00:14<00:06, 13.57it/s]"
     ]
    },
    {
     "name": "stdout",
     "output_type": "stream",
     "text": [
      "--- Validation --- [threshold, AUC, Accuracy, F score] =  [np.float64(0.734), np.float64(0.972), np.float64(0.916), np.float64(0.931)]\n",
      "--- Training --- [threshold, AUC] =  [np.float64(0.695), np.float64(0.972)]\n",
      "--- Iteration 160: Training loss --- [Data, Label, Total] = [10603.504752.3, 320.767278.3, 53338.291039.3]\n",
      "!!! pred_type filter\n"
     ]
    },
    {
     "name": "stderr",
     "output_type": "stream",
     "text": [
      " 67%|████████████████████████████████████████████████████████████████████████████████▋                                       | 168/250 [00:15<00:06, 13.43it/s]"
     ]
    },
    {
     "name": "stdout",
     "output_type": "stream",
     "text": [
      "--- Validation --- [threshold, AUC, Accuracy, F score] =  [np.float64(0.695), np.float64(0.972), np.float64(0.919), np.float64(0.934)]\n",
      "--- Training --- [threshold, AUC] =  [np.float64(0.728), np.float64(0.972)]\n",
      "--- Iteration 170: Training loss --- [Data, Label, Total] = [10585.995768.3, 320.719969.3, 53250.698809.3]\n",
      "!!! pred_type filter\n"
     ]
    },
    {
     "name": "stderr",
     "output_type": "stream",
     "text": [
      " 71%|█████████████████████████████████████████████████████████████████████████████████████▍                                  | 178/250 [00:16<00:05, 13.34it/s]"
     ]
    },
    {
     "name": "stdout",
     "output_type": "stream",
     "text": [
      "--- Validation --- [threshold, AUC, Accuracy, F score] =  [np.float64(0.728), np.float64(0.972), np.float64(0.917), np.float64(0.932)]\n",
      "--- Training --- [threshold, AUC] =  [np.float64(0.695), np.float64(0.972)]\n",
      "--- Iteration 180: Training loss --- [Data, Label, Total] = [10572.675993.3, 320.709694.3, 53184.089660.3]\n",
      "!!! pred_type filter\n"
     ]
    },
    {
     "name": "stderr",
     "output_type": "stream",
     "text": [
      " 75%|██████████████████████████████████████████████████████████████████████████████████████████▏                             | 188/250 [00:17<00:04, 13.34it/s]"
     ]
    },
    {
     "name": "stdout",
     "output_type": "stream",
     "text": [
      "--- Validation --- [threshold, AUC, Accuracy, F score] =  [np.float64(0.695), np.float64(0.972), np.float64(0.919), np.float64(0.934)]\n",
      "--- Training --- [threshold, AUC] =  [np.float64(0.7), np.float64(0.972)]\n",
      "--- Iteration 190: Training loss --- [Data, Label, Total] = [10562.110296.3, 320.715037.3, 53131.266516.3]\n",
      "!!! pred_type filter\n"
     ]
    },
    {
     "name": "stderr",
     "output_type": "stream",
     "text": [
      " 80%|███████████████████████████████████████████████████████████████████████████████████████████████▌                        | 199/250 [00:18<00:03, 14.02it/s]"
     ]
    },
    {
     "name": "stdout",
     "output_type": "stream",
     "text": [
      "--- Validation --- [threshold, AUC, Accuracy, F score] =  [np.float64(0.7), np.float64(0.972), np.float64(0.919), np.float64(0.934)]\n",
      "--- Training --- [threshold, AUC] =  [np.float64(0.715), np.float64(0.972)]\n",
      "--- Iteration 200: Training loss --- [Data, Label, Total] = [10553.105589.3, 320.743183.3, 53086.271128.3]\n",
      "!!! pred_type filter\n"
     ]
    },
    {
     "name": "stderr",
     "output_type": "stream",
     "text": [
      " 82%|██████████████████████████████████████████████████████████████████████████████████████████████████▉                     | 206/250 [00:19<00:04, 10.79it/s]"
     ]
    },
    {
     "name": "stdout",
     "output_type": "stream",
     "text": [
      "--- Validation --- [threshold, AUC, Accuracy, F score] =  [np.float64(0.715), np.float64(0.972), np.float64(0.917), np.float64(0.932)]\n"
     ]
    },
    {
     "name": "stderr",
     "output_type": "stream",
     "text": [
      " 84%|████████████████████████████████████████████████████████████████████████████████████████████████████▎                   | 209/250 [00:20<00:04,  9.30it/s]"
     ]
    },
    {
     "name": "stdout",
     "output_type": "stream",
     "text": [
      "--- Training --- [threshold, AUC] =  [np.float64(0.717), np.float64(0.972)]\n",
      "--- Iteration 210: Training loss --- [Data, Label, Total] = [10544.887770.3, 320.768620.3, 53045.207469.3]\n",
      "!!! pred_type filter\n"
     ]
    },
    {
     "name": "stderr",
     "output_type": "stream",
     "text": [
      " 86%|███████████████████████████████████████████████████████████████████████████████████████████████████████▏                | 215/250 [00:21<00:05,  6.63it/s]"
     ]
    },
    {
     "name": "stdout",
     "output_type": "stream",
     "text": [
      "--- Validation --- [threshold, AUC, Accuracy, F score] =  [np.float64(0.717), np.float64(0.972), np.float64(0.917), np.float64(0.932)]\n"
     ]
    },
    {
     "name": "stderr",
     "output_type": "stream",
     "text": [
      " 88%|█████████████████████████████████████████████████████████████████████████████████████████████████████████               | 219/250 [00:21<00:03,  8.99it/s]"
     ]
    },
    {
     "name": "stdout",
     "output_type": "stream",
     "text": [
      "--- Training --- [threshold, AUC] =  [np.float64(0.702), np.float64(0.972)]\n",
      "--- Iteration 220: Training loss --- [Data, Label, Total] = [10536.988994.3, 320.771651.3, 53005.716620.3]\n",
      "!!! pred_type filter\n"
     ]
    },
    {
     "name": "stderr",
     "output_type": "stream",
     "text": [
      " 91%|████████████████████████████████████████████████████████████████████████████████████████████████████████████▉           | 227/250 [00:22<00:02,  8.78it/s]"
     ]
    },
    {
     "name": "stdout",
     "output_type": "stream",
     "text": [
      "--- Validation --- [threshold, AUC, Accuracy, F score] =  [np.float64(0.702), np.float64(0.972), np.float64(0.919), np.float64(0.934)]\n",
      "--- Training --- [threshold, AUC] =  [np.float64(0.701), np.float64(0.972)]\n",
      "--- Iteration 230: Training loss --- [Data, Label, Total] = [10529.190778.3, 320.772666.3, 52966.726558.3]\n",
      "!!! pred_type filter\n"
     ]
    },
    {
     "name": "stderr",
     "output_type": "stream",
     "text": [
      " 95%|█████████████████████████████████████████████████████████████████████████████████████████████████████████████████▊      | 237/250 [00:23<00:01, 10.51it/s]"
     ]
    },
    {
     "name": "stdout",
     "output_type": "stream",
     "text": [
      "--- Validation --- [threshold, AUC, Accuracy, F score] =  [np.float64(0.701), np.float64(0.972), np.float64(0.919), np.float64(0.934)]\n",
      "--- Training --- [threshold, AUC] =  [np.float64(0.7), np.float64(0.972)]\n",
      "--- Iteration 240: Training loss --- [Data, Label, Total] = [10521.295106.3, 320.737020.3, 52927.212549.3]\n",
      "!!! pred_type filter\n"
     ]
    },
    {
     "name": "stderr",
     "output_type": "stream",
     "text": [
      "100%|████████████████████████████████████████████████████████████████████████████████████████████████████████████████████████| 250/250 [00:25<00:00,  9.84it/s]"
     ]
    },
    {
     "name": "stdout",
     "output_type": "stream",
     "text": [
      "--- Validation --- [threshold, AUC, Accuracy, F score] =  [np.float64(0.7), np.float64(0.972), np.float64(0.919), np.float64(0.934)]\n"
     ]
    },
    {
     "name": "stderr",
     "output_type": "stream",
     "text": [
      "\n"
     ]
    },
    {
     "name": "stdout",
     "output_type": "stream",
     "text": [
      "!!! pred_type filter\n",
      "num of subgraphs induced on k-paths: 500\n",
      "num of subgraphs induced on k-paths: 500\n",
      "X_list: (225, 1000)\n",
      "2\n",
      "(1, 500)\n",
      "(1, 500)\n",
      "label_vec: (1, 1000)\n",
      "('Caltech36', 'UCLA26') predicting Harvard1 0.8129853174398964\n",
      "\n",
      "3: 0.8778558372677772\n",
      "4: 0.8449298516548318\n",
      "5: 0.8328589202034812\n",
      "6: 0.8810722135926942\n",
      "7: 0.8300352574962108\n",
      "8: 0.8341847021951587\n",
      "9: 0.8194475467039469\n",
      "10: 0.8129617372639039\n",
      "11: 0.845638803372221\n",
      "12: 0.8369670343428398\n",
      "13: 0.8623456412356946\n",
      "14: 0.831572887805297\n",
      "15: 0.8408084132367011\n",
      "16: 0.8064638447237019\n",
      "17: 0.8287998330500281\n",
      "18: 0.8373152203303609\n",
      "19: 0.8276952327992096\n",
      "20: 0.8418126002700697\n",
      "21: 0.8454592943223044\n",
      "22: 0.844181117391187\n",
      "23: 0.8419497556991397\n",
      "24: 0.8333939205936771\n",
      "25: 0.819992628909854\n",
      "26: 0.8129853174398964\n",
      "\n",
      "num of subgraphs induced on k-paths: 500\n",
      "num of subgraphs induced on k-paths: 500\n",
      "X_list: (225, 1000)\n",
      "2\n",
      "(1, 500)\n",
      "(1, 500)\n",
      "label_vec: (1, 1000)\n",
      "num of subgraphs induced on k-paths: 500\n",
      "num of subgraphs induced on k-paths: 852\n",
      "X_list: (225, 1352)\n",
      "2\n",
      "(1, 500)\n",
      "(1, 852)\n",
      "label_vec: (1, 1352)\n",
      "initial loading beta [[-0.80169344 -0.39803819 -0.42928553  0.77712673 -0.93645877  0.5887635\n",
      "  -0.07018846  0.77029453  0.28489597  0.72780647  0.76159288 -0.64594084\n",
      "  -0.29651443 -0.87954963  0.55788184 -0.41834811 -0.65644736  0.45534608\n",
      "   0.38587097  0.99090104  0.12324037  0.14915983  0.54590214 -0.05203876\n",
      "   0.58871283  0.80575047  0.34961329  0.38609864]]\n"
     ]
    },
    {
     "name": "stderr",
     "output_type": "stream",
     "text": [
      "  2%|██▍                                                                                                                       | 5/250 [00:00<00:05, 48.12it/s]"
     ]
    },
    {
     "name": "stdout",
     "output_type": "stream",
     "text": [
      "--- Training --- [threshold, AUC] =  [np.float64(0.686), np.float64(0.965)]\n",
      "--- Iteration 0: Training loss --- [Data, Label, Total] = [35268.214675.3, 345.156395.3, 176686.229769.3]\n"
     ]
    },
    {
     "name": "stderr",
     "output_type": "stream",
     "text": [
      "  4%|████▊                                                                                                                    | 10/250 [00:00<00:05, 47.57it/s]"
     ]
    },
    {
     "name": "stdout",
     "output_type": "stream",
     "text": [
      "--- Training --- [threshold, AUC] =  [np.float64(0.702), np.float64(0.967)]\n",
      "--- Iteration 10: Training loss --- [Data, Label, Total] = [16822.161940.3, 335.203029.3, 84446.012729.3]\n",
      "!!! pred_type filter\n"
     ]
    },
    {
     "name": "stderr",
     "output_type": "stream",
     "text": [
      "  6%|███████▎                                                                                                                 | 15/250 [00:01<00:29,  7.92it/s]"
     ]
    },
    {
     "name": "stdout",
     "output_type": "stream",
     "text": [
      "--- Validation --- [threshold, AUC, Accuracy, F score] =  [np.float64(0.702), np.float64(0.967), np.float64(0.917), np.float64(0.932)]\n"
     ]
    },
    {
     "name": "stderr",
     "output_type": "stream",
     "text": [
      "  8%|█████████▏                                                                                                               | 19/250 [00:01<00:21, 10.80it/s]"
     ]
    },
    {
     "name": "stdout",
     "output_type": "stream",
     "text": [
      "--- Training --- [threshold, AUC] =  [np.float64(0.686), np.float64(0.968)]\n",
      "--- Iteration 20: Training loss --- [Data, Label, Total] = [14347.139791.3, 330.190635.3, 72065.889590.3]\n",
      "!!! pred_type filter\n"
     ]
    },
    {
     "name": "stderr",
     "output_type": "stream",
     "text": [
      " 12%|██████████████                                                                                                           | 29/250 [00:02<00:21, 10.48it/s]"
     ]
    },
    {
     "name": "stdout",
     "output_type": "stream",
     "text": [
      "--- Validation --- [threshold, AUC, Accuracy, F score] =  [np.float64(0.686), np.float64(0.968), np.float64(0.919), np.float64(0.934)]\n",
      "--- Training --- [threshold, AUC] =  [np.float64(0.71), np.float64(0.969)]\n",
      "--- Iteration 30: Training loss --- [Data, Label, Total] = [13181.145967.3, 326.022130.3, 66231.751965.3]\n",
      "!!! pred_type filter\n"
     ]
    },
    {
     "name": "stderr",
     "output_type": "stream",
     "text": [
      " 16%|██████████████████▉                                                                                                      | 39/250 [00:03<00:19, 10.62it/s]"
     ]
    },
    {
     "name": "stdout",
     "output_type": "stream",
     "text": [
      "--- Validation --- [threshold, AUC, Accuracy, F score] =  [np.float64(0.71), np.float64(0.969), np.float64(0.917), np.float64(0.932)]\n",
      "--- Training --- [threshold, AUC] =  [np.float64(0.706), np.float64(0.971)]\n",
      "--- Iteration 40: Training loss --- [Data, Label, Total] = [12402.984344.3, 321.884799.3, 62336.806517.3]\n",
      "!!! pred_type filter\n"
     ]
    },
    {
     "name": "stderr",
     "output_type": "stream",
     "text": [
      " 20%|███████████████████████▋                                                                                                 | 49/250 [00:04<00:17, 11.27it/s]"
     ]
    },
    {
     "name": "stdout",
     "output_type": "stream",
     "text": [
      "--- Validation --- [threshold, AUC, Accuracy, F score] =  [np.float64(0.706), np.float64(0.971), np.float64(0.921), np.float64(0.935)]\n",
      "--- Training --- [threshold, AUC] =  [np.float64(0.712), np.float64(0.971)]\n",
      "--- Iteration 50: Training loss --- [Data, Label, Total] = [11811.278789.3, 320.006983.3, 59376.400927.3]\n",
      "!!! pred_type filter\n"
     ]
    },
    {
     "name": "stderr",
     "output_type": "stream",
     "text": [
      " 23%|████████████████████████████                                                                                             | 58/250 [00:05<00:17, 10.98it/s]"
     ]
    },
    {
     "name": "stdout",
     "output_type": "stream",
     "text": [
      "--- Validation --- [threshold, AUC, Accuracy, F score] =  [np.float64(0.712), np.float64(0.971), np.float64(0.921), np.float64(0.935)]\n",
      "--- Training --- [threshold, AUC] =  [np.float64(0.715), np.float64(0.972)]\n",
      "--- Iteration 60: Training loss --- [Data, Label, Total] = [11369.544432.3, 319.545629.3, 57167.267790.3]\n",
      "!!! pred_type filter\n"
     ]
    },
    {
     "name": "stderr",
     "output_type": "stream",
     "text": [
      " 27%|████████████████████████████████▍                                                                                        | 67/250 [00:07<00:20,  9.08it/s]"
     ]
    },
    {
     "name": "stdout",
     "output_type": "stream",
     "text": [
      "--- Validation --- [threshold, AUC, Accuracy, F score] =  [np.float64(0.715), np.float64(0.972), np.float64(0.921), np.float64(0.935)]\n",
      "--- Training --- [threshold, AUC] =  [np.float64(0.705), np.float64(0.972)]\n",
      "--- Iteration 70: Training loss --- [Data, Label, Total] = [11052.230879.3, 319.361913.3, 55580.516306.3]\n",
      "!!! pred_type filter\n"
     ]
    },
    {
     "name": "stderr",
     "output_type": "stream",
     "text": [
      " 30%|███████████████████████████████████▊                                                                                     | 74/250 [00:08<00:20,  8.49it/s]"
     ]
    },
    {
     "name": "stdout",
     "output_type": "stream",
     "text": [
      "--- Validation --- [threshold, AUC, Accuracy, F score] =  [np.float64(0.705), np.float64(0.972), np.float64(0.922), np.float64(0.936)]\n"
     ]
    },
    {
     "name": "stderr",
     "output_type": "stream",
     "text": [
      " 32%|██████████████████████████████████████▋                                                                                  | 80/250 [00:08<00:13, 12.63it/s]"
     ]
    },
    {
     "name": "stdout",
     "output_type": "stream",
     "text": [
      "--- Training --- [threshold, AUC] =  [np.float64(0.701), np.float64(0.972)]\n",
      "--- Iteration 80: Training loss --- [Data, Label, Total] = [10832.754666.3, 319.414036.3, 54483.187368.3]\n",
      "!!! pred_type filter\n"
     ]
    },
    {
     "name": "stderr",
     "output_type": "stream",
     "text": [
      " 36%|███████████████████████████████████████████▌                                                                             | 90/250 [00:09<00:12, 12.33it/s]"
     ]
    },
    {
     "name": "stdout",
     "output_type": "stream",
     "text": [
      "--- Validation --- [threshold, AUC, Accuracy, F score] =  [np.float64(0.701), np.float64(0.972), np.float64(0.922), np.float64(0.936)]\n",
      "--- Training --- [threshold, AUC] =  [np.float64(0.693), np.float64(0.972)]\n",
      "--- Iteration 90: Training loss --- [Data, Label, Total] = [10682.273241.3, 319.187814.3, 53730.554020.3]\n",
      "!!! pred_type filter\n"
     ]
    },
    {
     "name": "stderr",
     "output_type": "stream",
     "text": [
      " 40%|████████████████████████████████████████████████                                                                        | 100/250 [00:10<00:12, 12.36it/s]"
     ]
    },
    {
     "name": "stdout",
     "output_type": "stream",
     "text": [
      "--- Validation --- [threshold, AUC, Accuracy, F score] =  [np.float64(0.693), np.float64(0.972), np.float64(0.922), np.float64(0.936)]\n",
      "--- Training --- [threshold, AUC] =  [np.float64(0.7), np.float64(0.972)]\n",
      "--- Iteration 100: Training loss --- [Data, Label, Total] = [10575.325240.3, 318.775371.3, 53195.401568.3]\n",
      "!!! pred_type filter\n"
     ]
    },
    {
     "name": "stderr",
     "output_type": "stream",
     "text": [
      " 43%|███████████████████████████████████████████████████▊                                                                    | 108/250 [00:11<00:13, 10.62it/s]"
     ]
    },
    {
     "name": "stdout",
     "output_type": "stream",
     "text": [
      "--- Validation --- [threshold, AUC, Accuracy, F score] =  [np.float64(0.7), np.float64(0.972), np.float64(0.922), np.float64(0.936)]\n",
      "--- Training --- [threshold, AUC] =  [np.float64(0.702), np.float64(0.973)]\n",
      "--- Iteration 110: Training loss --- [Data, Label, Total] = [10494.437738.3, 318.719774.3, 52790.908462.3]\n",
      "!!! pred_type filter\n"
     ]
    },
    {
     "name": "stderr",
     "output_type": "stream",
     "text": [
      " 47%|████████████████████████████████████████████████████████▏                                                               | 117/250 [00:12<00:12, 10.56it/s]"
     ]
    },
    {
     "name": "stdout",
     "output_type": "stream",
     "text": [
      "--- Validation --- [threshold, AUC, Accuracy, F score] =  [np.float64(0.702), np.float64(0.973), np.float64(0.921), np.float64(0.935)]\n",
      "--- Training --- [threshold, AUC] =  [np.float64(0.709), np.float64(0.973)]\n",
      "--- Iteration 120: Training loss --- [Data, Label, Total] = [10429.917380.3, 319.018399.3, 52468.605300.3]\n",
      "!!! pred_type filter\n"
     ]
    },
    {
     "name": "stderr",
     "output_type": "stream",
     "text": [
      " 51%|████████████████████████████████████████████████████████████▉                                                           | 127/250 [00:13<00:10, 11.43it/s]"
     ]
    },
    {
     "name": "stdout",
     "output_type": "stream",
     "text": [
      "--- Validation --- [threshold, AUC, Accuracy, F score] =  [np.float64(0.709), np.float64(0.973), np.float64(0.92), np.float64(0.934)]\n",
      "--- Training --- [threshold, AUC] =  [np.float64(0.709), np.float64(0.973)]\n",
      "--- Iteration 130: Training loss --- [Data, Label, Total] = [10377.016980.3, 318.747447.3, 52203.832347.3]\n",
      "!!! pred_type filter\n"
     ]
    },
    {
     "name": "stderr",
     "output_type": "stream",
     "text": [
      " 55%|█████████████████████████████████████████████████████████████████▊                                                      | 137/250 [00:14<00:09, 11.71it/s]"
     ]
    },
    {
     "name": "stdout",
     "output_type": "stream",
     "text": [
      "--- Validation --- [threshold, AUC, Accuracy, F score] =  [np.float64(0.709), np.float64(0.973), np.float64(0.92), np.float64(0.934)]\n",
      "--- Training --- [threshold, AUC] =  [np.float64(0.719), np.float64(0.973)]\n",
      "--- Iteration 140: Training loss --- [Data, Label, Total] = [10332.681512.3, 318.708999.3, 51982.116558.3]\n",
      "!!! pred_type filter\n"
     ]
    },
    {
     "name": "stderr",
     "output_type": "stream",
     "text": [
      " 59%|██████████████████████████████████████████████████████████████████████▌                                                 | 147/250 [00:15<00:08, 11.94it/s]"
     ]
    },
    {
     "name": "stdout",
     "output_type": "stream",
     "text": [
      "--- Validation --- [threshold, AUC, Accuracy, F score] =  [np.float64(0.719), np.float64(0.973), np.float64(0.919), np.float64(0.934)]\n",
      "--- Training --- [threshold, AUC] =  [np.float64(0.721), np.float64(0.973)]\n",
      "--- Iteration 150: Training loss --- [Data, Label, Total] = [10294.529492.3, 318.760075.3, 51791.407535.3]\n",
      "!!! pred_type filter\n"
     ]
    },
    {
     "name": "stderr",
     "output_type": "stream",
     "text": [
      " 62%|██████████████████████████████████████████████████████████████████████████▍                                             | 155/250 [00:16<00:09, 10.43it/s]"
     ]
    },
    {
     "name": "stdout",
     "output_type": "stream",
     "text": [
      "--- Validation --- [threshold, AUC, Accuracy, F score] =  [np.float64(0.721), np.float64(0.973), np.float64(0.92), np.float64(0.934)]\n"
     ]
    },
    {
     "name": "stderr",
     "output_type": "stream",
     "text": [
      " 64%|████████████████████████████████████████████████████████████████████████████▎                                           | 159/250 [00:16<00:07, 12.89it/s]"
     ]
    },
    {
     "name": "stdout",
     "output_type": "stream",
     "text": [
      "--- Training --- [threshold, AUC] =  [np.float64(0.719), np.float64(0.973)]\n",
      "--- Iteration 160: Training loss --- [Data, Label, Total] = [10260.598603.3, 318.765384.3, 51621.758401.3]\n",
      "!!! pred_type filter\n"
     ]
    },
    {
     "name": "stderr",
     "output_type": "stream",
     "text": [
      " 67%|████████████████████████████████████████████████████████████████████████████████▋                                       | 168/250 [00:17<00:07, 11.66it/s]"
     ]
    },
    {
     "name": "stdout",
     "output_type": "stream",
     "text": [
      "--- Validation --- [threshold, AUC, Accuracy, F score] =  [np.float64(0.719), np.float64(0.973), np.float64(0.92), np.float64(0.934)]\n",
      "--- Training --- [threshold, AUC] =  [np.float64(0.72), np.float64(0.973)]\n",
      "--- Iteration 170: Training loss --- [Data, Label, Total] = [10229.299200.3, 319.107320.3, 51465.603318.3]\n",
      "!!! pred_type filter\n"
     ]
    },
    {
     "name": "stderr",
     "output_type": "stream",
     "text": [
      " 71%|████████████████████████████████████████████████████████████████████████████████████▉                                   | 177/250 [00:18<00:06, 11.12it/s]"
     ]
    },
    {
     "name": "stdout",
     "output_type": "stream",
     "text": [
      "--- Validation --- [threshold, AUC, Accuracy, F score] =  [np.float64(0.72), np.float64(0.973), np.float64(0.919), np.float64(0.933)]\n",
      "--- Training --- [threshold, AUC] =  [np.float64(0.719), np.float64(0.973)]\n",
      "--- Iteration 180: Training loss --- [Data, Label, Total] = [10200.072233.3, 319.049771.3, 51319.410934.3]\n",
      "!!! pred_type filter\n"
     ]
    },
    {
     "name": "stderr",
     "output_type": "stream",
     "text": [
      " 75%|█████████████████████████████████████████████████████████████████████████████████████████▊                              | 187/250 [00:19<00:05, 11.44it/s]"
     ]
    },
    {
     "name": "stdout",
     "output_type": "stream",
     "text": [
      "--- Validation --- [threshold, AUC, Accuracy, F score] =  [np.float64(0.719), np.float64(0.973), np.float64(0.919), np.float64(0.933)]\n",
      "--- Training --- [threshold, AUC] =  [np.float64(0.719), np.float64(0.973)]\n",
      "--- Iteration 190: Training loss --- [Data, Label, Total] = [10172.149543.3, 318.480723.3, 51179.228436.3]\n",
      "!!! pred_type filter\n"
     ]
    },
    {
     "name": "stderr",
     "output_type": "stream",
     "text": [
      " 79%|██████████████████████████████████████████████████████████████████████████████████████████████▌                         | 197/250 [00:20<00:04, 11.84it/s]"
     ]
    },
    {
     "name": "stdout",
     "output_type": "stream",
     "text": [
      "--- Validation --- [threshold, AUC, Accuracy, F score] =  [np.float64(0.719), np.float64(0.973), np.float64(0.921), np.float64(0.935)]\n",
      "--- Training --- [threshold, AUC] =  [np.float64(0.72), np.float64(0.973)]\n",
      "--- Iteration 200: Training loss --- [Data, Label, Total] = [10144.573137.3, 319.044441.3, 51041.910124.3]\n",
      "!!! pred_type filter\n"
     ]
    },
    {
     "name": "stderr",
     "output_type": "stream",
     "text": [
      " 82%|██████████████████████████████████████████████████████████████████████████████████████████████████▉                     | 206/250 [00:21<00:04,  9.48it/s]"
     ]
    },
    {
     "name": "stdout",
     "output_type": "stream",
     "text": [
      "--- Validation --- [threshold, AUC, Accuracy, F score] =  [np.float64(0.72), np.float64(0.973), np.float64(0.92), np.float64(0.934)]\n",
      "--- Training --- [threshold, AUC] =  [np.float64(0.72), np.float64(0.973)]\n",
      "--- Iteration 210: Training loss --- [Data, Label, Total] = [10116.972260.3, 319.248489.3, 50904.109788.3]\n",
      "!!! pred_type filter\n"
     ]
    },
    {
     "name": "stderr",
     "output_type": "stream",
     "text": [
      " 86%|███████████████████████████████████████████████████████████████████████████████████████████████████████▏                | 215/250 [00:23<00:03,  8.81it/s]"
     ]
    },
    {
     "name": "stdout",
     "output_type": "stream",
     "text": [
      "--- Validation --- [threshold, AUC, Accuracy, F score] =  [np.float64(0.72), np.float64(0.973), np.float64(0.92), np.float64(0.934)]\n"
     ]
    },
    {
     "name": "stderr",
     "output_type": "stream",
     "text": [
      " 88%|█████████████████████████████████████████████████████████████████████████████████████████████████████████               | 219/250 [00:23<00:02, 11.05it/s]"
     ]
    },
    {
     "name": "stdout",
     "output_type": "stream",
     "text": [
      "--- Training --- [threshold, AUC] =  [np.float64(0.721), np.float64(0.973)]\n",
      "--- Iteration 220: Training loss --- [Data, Label, Total] = [10089.120636.3, 319.218794.3, 50764.821973.3]\n",
      "!!! pred_type filter\n"
     ]
    },
    {
     "name": "stderr",
     "output_type": "stream",
     "text": [
      " 91%|████████████████████████████████████████████████████████████████████████████████████████████████████████████▉           | 227/250 [00:24<00:02,  9.00it/s]"
     ]
    },
    {
     "name": "stdout",
     "output_type": "stream",
     "text": [
      "--- Validation --- [threshold, AUC, Accuracy, F score] =  [np.float64(0.721), np.float64(0.973), np.float64(0.919), np.float64(0.933)]\n",
      "--- Training --- [threshold, AUC] =  [np.float64(0.716), np.float64(0.973)]\n",
      "--- Iteration 230: Training loss --- [Data, Label, Total] = [10061.577350.3, 318.767602.3, 50626.654350.3]\n",
      "!!! pred_type filter\n"
     ]
    },
    {
     "name": "stderr",
     "output_type": "stream",
     "text": [
      " 94%|████████████████████████████████████████████████████████████████████████████████████████████████████████████████▊       | 235/250 [00:25<00:01,  8.10it/s]"
     ]
    },
    {
     "name": "stdout",
     "output_type": "stream",
     "text": [
      "--- Validation --- [threshold, AUC, Accuracy, F score] =  [np.float64(0.716), np.float64(0.973), np.float64(0.92), np.float64(0.934)]\n"
     ]
    },
    {
     "name": "stderr",
     "output_type": "stream",
     "text": [
      " 95%|██████████████████████████████████████████████████████████████████████████████████████████████████████████████████▏     | 238/250 [00:26<00:01,  9.79it/s]"
     ]
    },
    {
     "name": "stdout",
     "output_type": "stream",
     "text": [
      "--- Training --- [threshold, AUC] =  [np.float64(0.717), np.float64(0.973)]\n",
      "--- Iteration 240: Training loss --- [Data, Label, Total] = [10035.903307.3, 318.860193.3, 50498.376726.3]\n",
      "!!! pred_type filter\n"
     ]
    },
    {
     "name": "stderr",
     "output_type": "stream",
     "text": [
      "100%|████████████████████████████████████████████████████████████████████████████████████████████████████████████████████████| 250/250 [00:27<00:00,  9.05it/s]"
     ]
    },
    {
     "name": "stdout",
     "output_type": "stream",
     "text": [
      "--- Validation --- [threshold, AUC, Accuracy, F score] =  [np.float64(0.717), np.float64(0.973), np.float64(0.919), np.float64(0.933)]\n",
      "!!! pred_type filter\n"
     ]
    },
    {
     "name": "stderr",
     "output_type": "stream",
     "text": [
      "\n"
     ]
    },
    {
     "name": "stdout",
     "output_type": "stream",
     "text": [
      "num of subgraphs induced on k-paths: 500\n",
      "num of subgraphs induced on k-paths: 500\n",
      "X_list: (225, 1000)\n",
      "2\n",
      "(1, 500)\n",
      "(1, 500)\n",
      "label_vec: (1, 1000)\n",
      "('Caltech36', 'UCLA26') predicting Harvard1 0.8291130598632306\n",
      "\n",
      "3: 0.8778558372677772\n",
      "4: 0.8449298516548318\n",
      "5: 0.8328589202034812\n",
      "6: 0.8810722135926942\n",
      "7: 0.8300352574962108\n",
      "8: 0.8341847021951587\n",
      "9: 0.8194475467039469\n",
      "10: 0.8129617372639039\n",
      "11: 0.845638803372221\n",
      "12: 0.8369670343428398\n",
      "13: 0.8623456412356946\n",
      "14: 0.831572887805297\n",
      "15: 0.8408084132367011\n",
      "16: 0.8064638447237019\n",
      "17: 0.8287998330500281\n",
      "18: 0.8373152203303609\n",
      "19: 0.8276952327992096\n",
      "20: 0.8418126002700697\n",
      "21: 0.8454592943223044\n",
      "22: 0.844181117391187\n",
      "23: 0.8419497556991397\n",
      "24: 0.8333939205936771\n",
      "25: 0.819992628909854\n",
      "26: 0.8129853174398964\n",
      "27: 0.8291130598632306\n",
      "\n",
      "num of subgraphs induced on k-paths: 500\n",
      "num of subgraphs induced on k-paths: 500\n",
      "X_list: (225, 1000)\n",
      "2\n",
      "(1, 500)\n",
      "(1, 500)\n",
      "label_vec: (1, 1000)\n",
      "num of subgraphs induced on k-paths: 500\n",
      "num of subgraphs induced on k-paths: 870\n",
      "X_list: (225, 1370)\n",
      "2\n",
      "(1, 500)\n",
      "(1, 870)\n",
      "label_vec: (1, 1370)\n",
      "initial loading beta [[-0.10528487 -0.97620573 -0.74352131  0.27740668 -0.80663251 -0.69465522\n",
      "  -0.33888554  0.24293023 -0.76267228 -0.30834328  0.37145128  0.98217568\n",
      "  -0.13170671 -0.55130216 -0.67904245 -0.31536674 -0.61640636  0.45773198\n",
      "  -0.24041431  0.71366758  0.8369592  -0.91010008  0.29374884  0.88869632\n",
      "  -0.1718459  -0.86332592 -0.8798748  -0.52505869 -0.02692967]]\n"
     ]
    },
    {
     "name": "stderr",
     "output_type": "stream",
     "text": [
      "  1%|▉                                                                                                                         | 2/250 [00:00<00:14, 16.61it/s]"
     ]
    },
    {
     "name": "stdout",
     "output_type": "stream",
     "text": [
      "--- Training --- [threshold, AUC] =  [np.float64(0.696), np.float64(0.962)]\n",
      "--- Iteration 0: Training loss --- [Data, Label, Total] = [34903.644401.3, 348.924905.3, 174867.146909.3]\n"
     ]
    },
    {
     "name": "stderr",
     "output_type": "stream",
     "text": [
      "  4%|████▊                                                                                                                    | 10/250 [00:00<00:20, 11.91it/s]"
     ]
    },
    {
     "name": "stdout",
     "output_type": "stream",
     "text": [
      "--- Training --- [threshold, AUC] =  [np.float64(0.726), np.float64(0.965)]\n",
      "--- Iteration 10: Training loss --- [Data, Label, Total] = [17044.151768.3, 334.419932.3, 85555.178774.3]\n",
      "!!! pred_type filter\n"
     ]
    },
    {
     "name": "stderr",
     "output_type": "stream",
     "text": [
      "  6%|███████▋                                                                                                                 | 16/250 [00:02<00:49,  4.75it/s]"
     ]
    },
    {
     "name": "stdout",
     "output_type": "stream",
     "text": [
      "--- Validation --- [threshold, AUC, Accuracy, F score] =  [np.float64(0.726), np.float64(0.965), np.float64(0.91), np.float64(0.927)]\n",
      "--- Training --- [threshold, AUC] =  [np.float64(0.682), np.float64(0.967)]\n",
      "--- Iteration 20: Training loss --- [Data, Label, Total] = [14366.305346.3, 326.014321.3, 72157.541051.3]\n",
      "!!! pred_type filter\n"
     ]
    },
    {
     "name": "stderr",
     "output_type": "stream",
     "text": [
      "  9%|███████████▏                                                                                                             | 23/250 [00:04<00:49,  4.58it/s]"
     ]
    },
    {
     "name": "stdout",
     "output_type": "stream",
     "text": [
      "--- Validation --- [threshold, AUC, Accuracy, F score] =  [np.float64(0.682), np.float64(0.967), np.float64(0.92), np.float64(0.936)]\n"
     ]
    },
    {
     "name": "stderr",
     "output_type": "stream",
     "text": [
      " 12%|██████████████▌                                                                                                          | 30/250 [00:05<00:26,  8.23it/s]"
     ]
    },
    {
     "name": "stdout",
     "output_type": "stream",
     "text": [
      "--- Training --- [threshold, AUC] =  [np.float64(0.715), np.float64(0.968)]\n",
      "--- Iteration 30: Training loss --- [Data, Label, Total] = [12804.799470.3, 326.099403.3, 64350.096750.3]\n",
      "!!! pred_type filter\n"
     ]
    },
    {
     "name": "stderr",
     "output_type": "stream",
     "text": [
      " 14%|█████████████████▍                                                                                                       | 36/250 [00:06<00:32,  6.57it/s]"
     ]
    },
    {
     "name": "stdout",
     "output_type": "stream",
     "text": [
      "--- Validation --- [threshold, AUC, Accuracy, F score] =  [np.float64(0.715), np.float64(0.968), np.float64(0.918), np.float64(0.933)]\n"
     ]
    },
    {
     "name": "stderr",
     "output_type": "stream",
     "text": [
      " 16%|███████████████████▎                                                                                                     | 40/250 [00:06<00:22,  9.51it/s]"
     ]
    },
    {
     "name": "stdout",
     "output_type": "stream",
     "text": [
      "--- Training --- [threshold, AUC] =  [np.float64(0.699), np.float64(0.968)]\n",
      "--- Iteration 40: Training loss --- [Data, Label, Total] = [11839.007230.3, 327.245127.3, 59522.281278.3]\n",
      "!!! pred_type filter\n"
     ]
    },
    {
     "name": "stderr",
     "output_type": "stream",
     "text": [
      " 19%|██████████████████████▋                                                                                                  | 47/250 [00:07<00:28,  7.14it/s]"
     ]
    },
    {
     "name": "stdout",
     "output_type": "stream",
     "text": [
      "--- Validation --- [threshold, AUC, Accuracy, F score] =  [np.float64(0.699), np.float64(0.968), np.float64(0.92), np.float64(0.935)]\n",
      "--- Training --- [threshold, AUC] =  [np.float64(0.689), np.float64(0.968)]\n",
      "--- Iteration 50: Training loss --- [Data, Label, Total] = [11287.188032.3, 328.442481.3, 56764.382641.3]\n",
      "!!! pred_type filter\n"
     ]
    },
    {
     "name": "stderr",
     "output_type": "stream",
     "text": [
      " 22%|██████████████████████████▌                                                                                              | 55/250 [00:09<00:31,  6.25it/s]"
     ]
    },
    {
     "name": "stdout",
     "output_type": "stream",
     "text": [
      "--- Validation --- [threshold, AUC, Accuracy, F score] =  [np.float64(0.689), np.float64(0.968), np.float64(0.922), np.float64(0.937)]\n"
     ]
    },
    {
     "name": "stderr",
     "output_type": "stream",
     "text": [
      " 24%|████████████████████████████▌                                                                                            | 59/250 [00:09<00:22,  8.44it/s]"
     ]
    },
    {
     "name": "stdout",
     "output_type": "stream",
     "text": [
      "--- Training --- [threshold, AUC] =  [np.float64(0.684), np.float64(0.968)]\n",
      "--- Iteration 60: Training loss --- [Data, Label, Total] = [10978.360780.3, 328.632735.3, 55220.436635.3]\n",
      "!!! pred_type filter\n"
     ]
    },
    {
     "name": "stderr",
     "output_type": "stream",
     "text": [
      " 26%|███████████████████████████████▉                                                                                         | 66/250 [00:11<00:33,  5.48it/s]"
     ]
    },
    {
     "name": "stdout",
     "output_type": "stream",
     "text": [
      "--- Validation --- [threshold, AUC, Accuracy, F score] =  [np.float64(0.684), np.float64(0.968), np.float64(0.926), np.float64(0.94)]\n"
     ]
    },
    {
     "name": "stderr",
     "output_type": "stream",
     "text": [
      " 28%|█████████████████████████████████▍                                                                                       | 69/250 [00:11<00:26,  6.83it/s]"
     ]
    },
    {
     "name": "stdout",
     "output_type": "stream",
     "text": [
      "--- Training --- [threshold, AUC] =  [np.float64(0.679), np.float64(0.969)]\n",
      "--- Iteration 70: Training loss --- [Data, Label, Total] = [10794.321024.3, 328.026388.3, 54299.631509.3]\n",
      "!!! pred_type filter\n"
     ]
    },
    {
     "name": "stderr",
     "output_type": "stream",
     "text": [
      " 29%|██████████████████████████████████▊                                                                                      | 72/250 [00:13<00:46,  3.80it/s]"
     ]
    },
    {
     "name": "stdout",
     "output_type": "stream",
     "text": [
      "--- Validation --- [threshold, AUC, Accuracy, F score] =  [np.float64(0.679), np.float64(0.969), np.float64(0.926), np.float64(0.941)]\n"
     ]
    },
    {
     "name": "stderr",
     "output_type": "stream",
     "text": [
      " 32%|██████████████████████████████████████▋                                                                                  | 80/250 [00:14<00:23,  7.31it/s]"
     ]
    },
    {
     "name": "stdout",
     "output_type": "stream",
     "text": [
      "--- Training --- [threshold, AUC] =  [np.float64(0.675), np.float64(0.969)]\n",
      "--- Iteration 80: Training loss --- [Data, Label, Total] = [10674.755291.3, 327.286301.3, 53701.062755.3]\n",
      "!!! pred_type filter\n"
     ]
    },
    {
     "name": "stderr",
     "output_type": "stream",
     "text": [
      " 35%|██████████████████████████████████████████                                                                               | 87/250 [00:15<00:23,  6.91it/s]"
     ]
    },
    {
     "name": "stdout",
     "output_type": "stream",
     "text": [
      "--- Validation --- [threshold, AUC, Accuracy, F score] =  [np.float64(0.675), np.float64(0.969), np.float64(0.927), np.float64(0.942)]\n",
      "--- Training --- [threshold, AUC] =  [np.float64(0.698), np.float64(0.969)]\n",
      "--- Iteration 90: Training loss --- [Data, Label, Total] = [10588.855483.3, 326.337796.3, 53270.615213.3]\n",
      "!!! pred_type filter\n"
     ]
    },
    {
     "name": "stderr",
     "output_type": "stream",
     "text": [
      " 38%|██████████████████████████████████████████████▍                                                                          | 96/250 [00:16<00:19,  8.08it/s]"
     ]
    },
    {
     "name": "stdout",
     "output_type": "stream",
     "text": [
      "--- Validation --- [threshold, AUC, Accuracy, F score] =  [np.float64(0.698), np.float64(0.969), np.float64(0.922), np.float64(0.937)]\n",
      "--- Training --- [threshold, AUC] =  [np.float64(0.696), np.float64(0.97)]\n",
      "--- Iteration 100: Training loss --- [Data, Label, Total] = [10519.842291.3, 325.684217.3, 52924.895673.3]\n",
      "!!! pred_type filter\n"
     ]
    },
    {
     "name": "stderr",
     "output_type": "stream",
     "text": [
      " 42%|██████████████████████████████████████████████████▉                                                                     | 106/250 [00:17<00:15,  9.33it/s]"
     ]
    },
    {
     "name": "stdout",
     "output_type": "stream",
     "text": [
      "--- Validation --- [threshold, AUC, Accuracy, F score] =  [np.float64(0.696), np.float64(0.97), np.float64(0.923), np.float64(0.938)]\n"
     ]
    },
    {
     "name": "stderr",
     "output_type": "stream",
     "text": [
      " 44%|████████████████████████████████████████████████████▎                                                                   | 109/250 [00:18<00:12, 11.04it/s]"
     ]
    },
    {
     "name": "stdout",
     "output_type": "stream",
     "text": [
      "--- Training --- [threshold, AUC] =  [np.float64(0.693), np.float64(0.97)]\n",
      "--- Iteration 110: Training loss --- [Data, Label, Total] = [10458.672215.3, 325.242330.3, 52618.603403.3]\n",
      "!!! pred_type filter\n"
     ]
    },
    {
     "name": "stderr",
     "output_type": "stream",
     "text": [
      " 47%|████████████████████████████████████████████████████████▋                                                               | 118/250 [00:19<00:12, 10.75it/s]"
     ]
    },
    {
     "name": "stdout",
     "output_type": "stream",
     "text": [
      "--- Validation --- [threshold, AUC, Accuracy, F score] =  [np.float64(0.693), np.float64(0.97), np.float64(0.923), np.float64(0.938)]\n",
      "--- Training --- [threshold, AUC] =  [np.float64(0.688), np.float64(0.97)]\n",
      "--- Iteration 120: Training loss --- [Data, Label, Total] = [10401.120684.3, 324.393089.3, 52329.996509.3]\n",
      "!!! pred_type filter\n"
     ]
    },
    {
     "name": "stderr",
     "output_type": "stream",
     "text": [
      " 49%|██████████████████████████████████████████████████████████▌                                                             | 122/250 [00:20<00:21,  5.99it/s]"
     ]
    },
    {
     "name": "stdout",
     "output_type": "stream",
     "text": [
      "--- Validation --- [threshold, AUC, Accuracy, F score] =  [np.float64(0.688), np.float64(0.97), np.float64(0.923), np.float64(0.939)]\n"
     ]
    },
    {
     "name": "stderr",
     "output_type": "stream",
     "text": [
      " 51%|█████████████████████████████████████████████████████████████▍                                                          | 128/250 [00:20<00:14,  8.53it/s]"
     ]
    },
    {
     "name": "stdout",
     "output_type": "stream",
     "text": [
      "--- Training --- [threshold, AUC] =  [np.float64(0.69), np.float64(0.97)]\n",
      "--- Iteration 130: Training loss --- [Data, Label, Total] = [10345.386360.3, 324.009570.3, 52050.941368.3]\n",
      "!!! pred_type filter\n"
     ]
    },
    {
     "name": "stderr",
     "output_type": "stream",
     "text": [
      " 54%|█████████████████████████████████████████████████████████████████▎                                                      | 136/250 [00:22<00:15,  7.52it/s]"
     ]
    },
    {
     "name": "stdout",
     "output_type": "stream",
     "text": [
      "--- Validation --- [threshold, AUC, Accuracy, F score] =  [np.float64(0.69), np.float64(0.97), np.float64(0.923), np.float64(0.938)]\n",
      "--- Training --- [threshold, AUC] =  [np.float64(0.691), np.float64(0.97)]\n",
      "--- Iteration 140: Training loss --- [Data, Label, Total] = [10291.275610.3, 323.825253.3, 51780.203303.3]\n",
      "!!! pred_type filter\n"
     ]
    },
    {
     "name": "stderr",
     "output_type": "stream",
     "text": [
      " 57%|████████████████████████████████████████████████████████████████████▋                                                   | 143/250 [00:23<00:15,  6.71it/s]"
     ]
    },
    {
     "name": "stdout",
     "output_type": "stream",
     "text": [
      "--- Validation --- [threshold, AUC, Accuracy, F score] =  [np.float64(0.691), np.float64(0.97), np.float64(0.923), np.float64(0.938)]\n"
     ]
    },
    {
     "name": "stderr",
     "output_type": "stream",
     "text": [
      " 60%|███████████████████████████████████████████████████████████████████████▌                                                | 149/250 [00:23<00:10,  9.61it/s]"
     ]
    },
    {
     "name": "stdout",
     "output_type": "stream",
     "text": [
      "--- Training --- [threshold, AUC] =  [np.float64(0.669), np.float64(0.971)]\n",
      "--- Iteration 150: Training loss --- [Data, Label, Total] = [10239.375968.3, 323.640397.3, 51520.520237.3]\n",
      "!!! pred_type filter\n"
     ]
    },
    {
     "name": "stderr",
     "output_type": "stream",
     "text": [
      " 62%|██████████████████████████████████████████████████████████████████████████▉                                             | 156/250 [00:25<00:14,  6.59it/s]"
     ]
    },
    {
     "name": "stdout",
     "output_type": "stream",
     "text": [
      "--- Validation --- [threshold, AUC, Accuracy, F score] =  [np.float64(0.669), np.float64(0.971), np.float64(0.925), np.float64(0.94)]\n"
     ]
    },
    {
     "name": "stderr",
     "output_type": "stream",
     "text": [
      " 64%|████████████████████████████████████████████████████████████████████████████▊                                           | 160/250 [00:25<00:09,  9.24it/s]"
     ]
    },
    {
     "name": "stdout",
     "output_type": "stream",
     "text": [
      "--- Training --- [threshold, AUC] =  [np.float64(0.672), np.float64(0.971)]\n",
      "--- Iteration 160: Training loss --- [Data, Label, Total] = [10191.613453.3, 323.349883.3, 51281.417148.3]\n",
      "!!! pred_type filter\n"
     ]
    },
    {
     "name": "stderr",
     "output_type": "stream",
     "text": [
      " 67%|████████████████████████████████████████████████████████████████████████████████▋                                       | 168/250 [00:26<00:09,  9.04it/s]"
     ]
    },
    {
     "name": "stdout",
     "output_type": "stream",
     "text": [
      "--- Validation --- [threshold, AUC, Accuracy, F score] =  [np.float64(0.672), np.float64(0.971), np.float64(0.925), np.float64(0.94)]\n",
      "--- Training --- [threshold, AUC] =  [np.float64(0.67), np.float64(0.971)]\n",
      "--- Iteration 170: Training loss --- [Data, Label, Total] = [10149.548705.3, 323.662788.3, 51071.406312.3]\n",
      "!!! pred_type filter\n"
     ]
    },
    {
     "name": "stderr",
     "output_type": "stream",
     "text": [
      " 68%|██████████████████████████████████████████████████████████████████████████████████                                      | 171/250 [00:28<00:17,  4.41it/s]"
     ]
    },
    {
     "name": "stdout",
     "output_type": "stream",
     "text": [
      "--- Validation --- [threshold, AUC, Accuracy, F score] =  [np.float64(0.67), np.float64(0.971), np.float64(0.924), np.float64(0.939)]\n"
     ]
    },
    {
     "name": "stderr",
     "output_type": "stream",
     "text": [
      " 72%|█████████████████████████████████████████████████████████████████████████████████████▉                                  | 179/250 [00:30<00:14,  4.85it/s]"
     ]
    },
    {
     "name": "stdout",
     "output_type": "stream",
     "text": [
      "--- Training --- [threshold, AUC] =  [np.float64(0.647), np.float64(0.971)]\n",
      "--- Iteration 180: Training loss --- [Data, Label, Total] = [10114.091810.3, 323.369787.3, 50893.828834.3]\n",
      "!!! pred_type filter\n"
     ]
    },
    {
     "name": "stderr",
     "output_type": "stream",
     "text": [
      " 74%|████████████████████████████████████████████████████████████████████████████████████████▊                               | 185/250 [00:32<00:15,  4.07it/s]"
     ]
    },
    {
     "name": "stdout",
     "output_type": "stream",
     "text": [
      "--- Validation --- [threshold, AUC, Accuracy, F score] =  [np.float64(0.647), np.float64(0.971), np.float64(0.927), np.float64(0.942)]\n"
     ]
    },
    {
     "name": "stderr",
     "output_type": "stream",
     "text": [
      " 76%|██████████████████████████████████████████████████████████████████████████████████████████▋                             | 189/250 [00:32<00:09,  6.15it/s]"
     ]
    },
    {
     "name": "stdout",
     "output_type": "stream",
     "text": [
      "--- Training --- [threshold, AUC] =  [np.float64(0.684), np.float64(0.971)]\n",
      "--- Iteration 190: Training loss --- [Data, Label, Total] = [10084.770508.3, 323.326572.3, 50747.179110.3]\n",
      "!!! pred_type filter\n"
     ]
    },
    {
     "name": "stderr",
     "output_type": "stream",
     "text": [
      " 77%|████████████████████████████████████████████████████████████████████████████████████████████▏                           | 192/250 [00:34<00:17,  3.36it/s]"
     ]
    },
    {
     "name": "stdout",
     "output_type": "stream",
     "text": [
      "--- Validation --- [threshold, AUC, Accuracy, F score] =  [np.float64(0.684), np.float64(0.971), np.float64(0.923), np.float64(0.938)]\n"
     ]
    },
    {
     "name": "stderr",
     "output_type": "stream",
     "text": [
      " 80%|████████████████████████████████████████████████████████████████████████████████████████████████                        | 200/250 [00:34<00:06,  7.22it/s]"
     ]
    },
    {
     "name": "stdout",
     "output_type": "stream",
     "text": [
      "--- Training --- [threshold, AUC] =  [np.float64(0.69), np.float64(0.971)]\n",
      "--- Iteration 200: Training loss --- [Data, Label, Total] = [10060.459659.3, 323.246427.3, 50625.544724.3]\n",
      "!!! pred_type filter\n"
     ]
    },
    {
     "name": "stderr",
     "output_type": "stream",
     "text": [
      " 83%|███████████████████████████████████████████████████████████████████████████████████████████████████▊                    | 208/250 [00:35<00:04,  8.81it/s]"
     ]
    },
    {
     "name": "stdout",
     "output_type": "stream",
     "text": [
      "--- Validation --- [threshold, AUC, Accuracy, F score] =  [np.float64(0.69), np.float64(0.971), np.float64(0.923), np.float64(0.938)]\n",
      "--- Training --- [threshold, AUC] =  [np.float64(0.69), np.float64(0.971)]\n",
      "--- Iteration 210: Training loss --- [Data, Label, Total] = [10039.827952.3, 323.134448.3, 50522.274208.3]\n",
      "!!! pred_type filter\n"
     ]
    },
    {
     "name": "stderr",
     "output_type": "stream",
     "text": [
      " 87%|████████████████████████████████████████████████████████████████████████████████████████████████████████▏               | 217/250 [00:36<00:03,  9.38it/s]"
     ]
    },
    {
     "name": "stdout",
     "output_type": "stream",
     "text": [
      "--- Validation --- [threshold, AUC, Accuracy, F score] =  [np.float64(0.69), np.float64(0.971), np.float64(0.923), np.float64(0.938)]\n",
      "--- Training --- [threshold, AUC] =  [np.float64(0.692), np.float64(0.971)]\n",
      "--- Iteration 220: Training loss --- [Data, Label, Total] = [10021.681740.3, 323.448254.3, 50431.856953.3]\n",
      "!!! pred_type filter\n"
     ]
    },
    {
     "name": "stderr",
     "output_type": "stream",
     "text": [
      " 91%|████████████████████████████████████████████████████████████████████████████████████████████████████████████▉           | 227/250 [00:37<00:02, 10.72it/s]"
     ]
    },
    {
     "name": "stdout",
     "output_type": "stream",
     "text": [
      "--- Validation --- [threshold, AUC, Accuracy, F score] =  [np.float64(0.692), np.float64(0.971), np.float64(0.923), np.float64(0.938)]\n",
      "--- Training --- [threshold, AUC] =  [np.float64(0.689), np.float64(0.971)]\n",
      "--- Iteration 230: Training loss --- [Data, Label, Total] = [10005.003895.3, 323.797773.3, 50348.817246.3]\n",
      "!!! pred_type filter\n"
     ]
    },
    {
     "name": "stderr",
     "output_type": "stream",
     "text": [
      " 94%|█████████████████████████████████████████████████████████████████████████████████████████████████████████████████▎      | 236/250 [00:39<00:01,  9.18it/s]"
     ]
    },
    {
     "name": "stdout",
     "output_type": "stream",
     "text": [
      "--- Validation --- [threshold, AUC, Accuracy, F score] =  [np.float64(0.689), np.float64(0.971), np.float64(0.923), np.float64(0.938)]\n",
      "--- Training --- [threshold, AUC] =  [np.float64(0.689), np.float64(0.971)]\n",
      "--- Iteration 240: Training loss --- [Data, Label, Total] = [9989.043364.3, 323.575836.3, 50268.792656.3]\n",
      "!!! pred_type filter\n"
     ]
    },
    {
     "name": "stderr",
     "output_type": "stream",
     "text": [
      "100%|████████████████████████████████████████████████████████████████████████████████████████████████████████████████████████| 250/250 [00:40<00:00,  6.19it/s]"
     ]
    },
    {
     "name": "stdout",
     "output_type": "stream",
     "text": [
      "--- Validation --- [threshold, AUC, Accuracy, F score] =  [np.float64(0.689), np.float64(0.971), np.float64(0.923), np.float64(0.938)]\n",
      "!!! pred_type filter\n"
     ]
    },
    {
     "name": "stderr",
     "output_type": "stream",
     "text": [
      "\n"
     ]
    },
    {
     "name": "stdout",
     "output_type": "stream",
     "text": [
      "num of subgraphs induced on k-paths: 500\n",
      "num of subgraphs induced on k-paths: 500\n",
      "X_list: (225, 1000)\n",
      "2\n",
      "(1, 500)\n",
      "(1, 500)\n",
      "label_vec: (1, 1000)\n",
      "('Caltech36', 'UCLA26') predicting Harvard1 0.8279831681480128\n",
      "\n",
      "3: 0.8778558372677772\n",
      "4: 0.8449298516548318\n",
      "5: 0.8328589202034812\n",
      "6: 0.8810722135926942\n",
      "7: 0.8300352574962108\n",
      "8: 0.8341847021951587\n",
      "9: 0.8194475467039469\n",
      "10: 0.8129617372639039\n",
      "11: 0.845638803372221\n",
      "12: 0.8369670343428398\n",
      "13: 0.8623456412356946\n",
      "14: 0.831572887805297\n",
      "15: 0.8408084132367011\n",
      "16: 0.8064638447237019\n",
      "17: 0.8287998330500281\n",
      "18: 0.8373152203303609\n",
      "19: 0.8276952327992096\n",
      "20: 0.8418126002700697\n",
      "21: 0.8454592943223044\n",
      "22: 0.844181117391187\n",
      "23: 0.8419497556991397\n",
      "24: 0.8333939205936771\n",
      "25: 0.819992628909854\n",
      "26: 0.8129853174398964\n",
      "27: 0.8291130598632306\n",
      "28: 0.8279831681480128\n",
      "\n",
      "num of subgraphs induced on k-paths: 500\n",
      "num of subgraphs induced on k-paths: 500\n",
      "X_list: (225, 1000)\n",
      "2\n",
      "(1, 500)\n",
      "(1, 500)\n",
      "label_vec: (1, 1000)\n",
      "num of subgraphs induced on k-paths: 500\n",
      "num of subgraphs induced on k-paths: 877\n",
      "X_list: (225, 1377)\n",
      "2\n",
      "(1, 500)\n",
      "(1, 877)\n",
      "label_vec: (1, 1377)\n",
      "initial loading beta [[ 0.10497581  0.42696996 -0.57228344 -0.06944666  0.38068526 -0.89547225\n",
      "  -0.3543008   0.84070694 -0.65280799 -0.9122113   0.16579958  0.86480361\n",
      "  -0.03163847  0.03313249  0.88854633 -0.67983268  0.78633972 -0.74253418\n",
      "   0.49821616 -0.65050548  0.88428087 -0.07744865  0.27408336 -0.71848722\n",
      "   0.1101679  -0.05873913 -0.00492634  0.29204039  0.19510664  0.70247146]]\n"
     ]
    },
    {
     "name": "stderr",
     "output_type": "stream",
     "text": [
      "  2%|██▍                                                                                                                       | 5/250 [00:00<00:05, 45.87it/s]"
     ]
    },
    {
     "name": "stdout",
     "output_type": "stream",
     "text": [
      "--- Training --- [threshold, AUC] =  [np.float64(0.689), np.float64(0.968)]\n",
      "--- Iteration 0: Training loss --- [Data, Label, Total] = [36366.657789.3, 329.895562.3, 182163.184508.3]\n"
     ]
    },
    {
     "name": "stderr",
     "output_type": "stream",
     "text": [
      "  4%|████▊                                                                                                                    | 10/250 [00:00<00:05, 45.38it/s]"
     ]
    },
    {
     "name": "stdout",
     "output_type": "stream",
     "text": [
      "--- Training --- [threshold, AUC] =  [np.float64(0.702), np.float64(0.969)]\n",
      "--- Iteration 10: Training loss --- [Data, Label, Total] = [17354.633657.3, 321.146240.3, 87094.314526.3]\n",
      "!!! pred_type filter\n"
     ]
    },
    {
     "name": "stderr",
     "output_type": "stream",
     "text": [
      "  6%|███████▎                                                                                                                 | 15/250 [00:01<00:29,  8.00it/s]"
     ]
    },
    {
     "name": "stdout",
     "output_type": "stream",
     "text": [
      "--- Validation --- [threshold, AUC, Accuracy, F score] =  [np.float64(0.702), np.float64(0.969), np.float64(0.914), np.float64(0.93)]\n"
     ]
    },
    {
     "name": "stderr",
     "output_type": "stream",
     "text": [
      "  7%|████████▋                                                                                                                | 18/250 [00:01<00:25,  9.24it/s]"
     ]
    },
    {
     "name": "stdout",
     "output_type": "stream",
     "text": [
      "--- Training --- [threshold, AUC] =  [np.float64(0.742), np.float64(0.97)]\n",
      "--- Iteration 20: Training loss --- [Data, Label, Total] = [14805.326370.3, 316.979149.3, 74343.610998.3]\n",
      "!!! pred_type filter\n"
     ]
    },
    {
     "name": "stderr",
     "output_type": "stream",
     "text": [
      " 11%|█████████████                                                                                                            | 27/250 [00:03<00:27,  8.22it/s]"
     ]
    },
    {
     "name": "stdout",
     "output_type": "stream",
     "text": [
      "--- Validation --- [threshold, AUC, Accuracy, F score] =  [np.float64(0.742), np.float64(0.97), np.float64(0.908), np.float64(0.925)]\n",
      "--- Training --- [threshold, AUC] =  [np.float64(0.638), np.float64(0.971)]\n",
      "--- Iteration 30: Training loss --- [Data, Label, Total] = [13429.793787.3, 317.674033.3, 67466.642967.3]\n",
      "!!! pred_type filter\n"
     ]
    },
    {
     "name": "stderr",
     "output_type": "stream",
     "text": [
      " 15%|█████████████████▉                                                                                                       | 37/250 [00:04<00:22,  9.57it/s]"
     ]
    },
    {
     "name": "stdout",
     "output_type": "stream",
     "text": [
      "--- Validation --- [threshold, AUC, Accuracy, F score] =  [np.float64(0.638), np.float64(0.971), np.float64(0.919), np.float64(0.935)]\n",
      "--- Training --- [threshold, AUC] =  [np.float64(0.665), np.float64(0.971)]\n",
      "--- Iteration 40: Training loss --- [Data, Label, Total] = [12519.902240.3, 317.431212.3, 62916.942412.3]\n",
      "!!! pred_type filter\n"
     ]
    },
    {
     "name": "stderr",
     "output_type": "stream",
     "text": [
      " 18%|██████████████████████▎                                                                                                  | 46/250 [00:05<00:25,  7.91it/s]"
     ]
    },
    {
     "name": "stdout",
     "output_type": "stream",
     "text": [
      "--- Validation --- [threshold, AUC, Accuracy, F score] =  [np.float64(0.665), np.float64(0.971), np.float64(0.918), np.float64(0.934)]\n",
      "--- Training --- [threshold, AUC] =  [np.float64(0.674), np.float64(0.972)]\n",
      "--- Iteration 50: Training loss --- [Data, Label, Total] = [11879.376860.3, 317.503773.3, 59714.388073.3]\n",
      "!!! pred_type filter\n"
     ]
    },
    {
     "name": "stderr",
     "output_type": "stream",
     "text": [
      " 23%|███████████████████████████▌                                                                                             | 57/250 [00:07<00:24,  7.84it/s]"
     ]
    },
    {
     "name": "stdout",
     "output_type": "stream",
     "text": [
      "--- Validation --- [threshold, AUC, Accuracy, F score] =  [np.float64(0.674), np.float64(0.972), np.float64(0.919), np.float64(0.935)]\n",
      "--- Training --- [threshold, AUC] =  [np.float64(0.636), np.float64(0.972)]\n",
      "--- Iteration 60: Training loss --- [Data, Label, Total] = [11456.130931.3, 317.458968.3, 57598.113621.3]\n",
      "!!! pred_type filter\n"
     ]
    },
    {
     "name": "stderr",
     "output_type": "stream",
     "text": [
      " 27%|████████████████████████████████▍                                                                                        | 67/250 [00:08<00:19,  9.16it/s]"
     ]
    },
    {
     "name": "stdout",
     "output_type": "stream",
     "text": [
      "--- Validation --- [threshold, AUC, Accuracy, F score] =  [np.float64(0.636), np.float64(0.972), np.float64(0.922), np.float64(0.938)]\n",
      "--- Training --- [threshold, AUC] =  [np.float64(0.647), np.float64(0.972)]\n",
      "--- Iteration 70: Training loss --- [Data, Label, Total] = [11175.341684.3, 317.575797.3, 56194.284216.3]\n",
      "!!! pred_type filter\n"
     ]
    },
    {
     "name": "stderr",
     "output_type": "stream",
     "text": [
      " 31%|█████████████████████████████████████▎                                                                                   | 77/250 [00:09<00:17,  9.97it/s]"
     ]
    },
    {
     "name": "stdout",
     "output_type": "stream",
     "text": [
      "--- Validation --- [threshold, AUC, Accuracy, F score] =  [np.float64(0.647), np.float64(0.972), np.float64(0.922), np.float64(0.938)]\n",
      "--- Training --- [threshold, AUC] =  [np.float64(0.665), np.float64(0.972)]\n",
      "--- Iteration 80: Training loss --- [Data, Label, Total] = [10978.672834.3, 317.424506.3, 55210.788677.3]\n",
      "!!! pred_type filter\n"
     ]
    },
    {
     "name": "stderr",
     "output_type": "stream",
     "text": [
      " 35%|██████████████████████████████████████████                                                                               | 87/250 [00:10<00:15, 10.53it/s]"
     ]
    },
    {
     "name": "stdout",
     "output_type": "stream",
     "text": [
      "--- Validation --- [threshold, AUC, Accuracy, F score] =  [np.float64(0.665), np.float64(0.972), np.float64(0.92), np.float64(0.936)]\n",
      "--- Training --- [threshold, AUC] =  [np.float64(0.683), np.float64(0.973)]\n",
      "--- Iteration 90: Training loss --- [Data, Label, Total] = [10830.520733.3, 317.506305.3, 54470.109971.3]\n",
      "!!! pred_type filter\n"
     ]
    },
    {
     "name": "stderr",
     "output_type": "stream",
     "text": [
      " 38%|██████████████████████████████████████████████▍                                                                          | 96/250 [00:11<00:15, 10.23it/s]"
     ]
    },
    {
     "name": "stdout",
     "output_type": "stream",
     "text": [
      "--- Validation --- [threshold, AUC, Accuracy, F score] =  [np.float64(0.683), np.float64(0.973), np.float64(0.918), np.float64(0.934)]\n",
      "--- Training --- [threshold, AUC] =  [np.float64(0.647), np.float64(0.973)]\n",
      "--- Iteration 100: Training loss --- [Data, Label, Total] = [10712.237612.3, 317.395569.3, 53878.583627.3]\n",
      "!!! pred_type filter\n"
     ]
    },
    {
     "name": "stderr",
     "output_type": "stream",
     "text": [
      " 43%|███████████████████████████████████████████████████▎                                                                    | 107/250 [00:13<00:13, 10.91it/s]"
     ]
    },
    {
     "name": "stdout",
     "output_type": "stream",
     "text": [
      "--- Validation --- [threshold, AUC, Accuracy, F score] =  [np.float64(0.647), np.float64(0.973), np.float64(0.923), np.float64(0.939)]\n",
      "--- Training --- [threshold, AUC] =  [np.float64(0.669), np.float64(0.973)]\n",
      "--- Iteration 110: Training loss --- [Data, Label, Total] = [10616.628667.3, 317.252291.3, 53400.395624.3]\n",
      "!!! pred_type filter\n"
     ]
    },
    {
     "name": "stderr",
     "output_type": "stream",
     "text": [
      " 47%|████████████████████████████████████████████████████████▏                                                               | 117/250 [00:14<00:11, 11.12it/s]"
     ]
    },
    {
     "name": "stdout",
     "output_type": "stream",
     "text": [
      "--- Validation --- [threshold, AUC, Accuracy, F score] =  [np.float64(0.669), np.float64(0.973), np.float64(0.922), np.float64(0.937)]\n",
      "--- Training --- [threshold, AUC] =  [np.float64(0.669), np.float64(0.973)]\n",
      "--- Iteration 120: Training loss --- [Data, Label, Total] = [10538.318457.3, 317.023429.3, 53008.615714.3]\n",
      "!!! pred_type filter\n"
     ]
    },
    {
     "name": "stderr",
     "output_type": "stream",
     "text": [
      " 51%|████████████████████████████████████████████████████████████▉                                                           | 127/250 [00:15<00:11, 10.52it/s]"
     ]
    },
    {
     "name": "stdout",
     "output_type": "stream",
     "text": [
      "--- Validation --- [threshold, AUC, Accuracy, F score] =  [np.float64(0.669), np.float64(0.973), np.float64(0.922), np.float64(0.938)]\n",
      "--- Training --- [threshold, AUC] =  [np.float64(0.673), np.float64(0.973)]\n",
      "--- Iteration 130: Training loss --- [Data, Label, Total] = [10471.713931.3, 317.073734.3, 52675.643387.3]\n",
      "!!! pred_type filter\n"
     ]
    },
    {
     "name": "stderr",
     "output_type": "stream",
     "text": [
      " 55%|█████████████████████████████████████████████████████████████████▊                                                      | 137/250 [00:16<00:10, 10.65it/s]"
     ]
    },
    {
     "name": "stdout",
     "output_type": "stream",
     "text": [
      "--- Validation --- [threshold, AUC, Accuracy, F score] =  [np.float64(0.673), np.float64(0.973), np.float64(0.923), np.float64(0.938)]\n",
      "--- Training --- [threshold, AUC] =  [np.float64(0.674), np.float64(0.973)]\n",
      "--- Iteration 140: Training loss --- [Data, Label, Total] = [10412.429978.3, 316.728702.3, 52378.878591.3]\n",
      "!!! pred_type filter\n"
     ]
    },
    {
     "name": "stderr",
     "output_type": "stream",
     "text": [
      " 59%|██████████████████████████████████████████████████████████████████████▌                                                 | 147/250 [00:17<00:09, 10.89it/s]"
     ]
    },
    {
     "name": "stdout",
     "output_type": "stream",
     "text": [
      "--- Validation --- [threshold, AUC, Accuracy, F score] =  [np.float64(0.674), np.float64(0.973), np.float64(0.922), np.float64(0.938)]\n",
      "--- Training --- [threshold, AUC] =  [np.float64(0.673), np.float64(0.973)]\n",
      "--- Iteration 150: Training loss --- [Data, Label, Total] = [10358.562563.3, 316.451182.3, 52109.263997.3]\n",
      "!!! pred_type filter\n"
     ]
    },
    {
     "name": "stderr",
     "output_type": "stream",
     "text": [
      " 63%|███████████████████████████████████████████████████████████████████████████▎                                            | 157/250 [00:18<00:08, 11.02it/s]"
     ]
    },
    {
     "name": "stdout",
     "output_type": "stream",
     "text": [
      "--- Validation --- [threshold, AUC, Accuracy, F score] =  [np.float64(0.673), np.float64(0.973), np.float64(0.922), np.float64(0.938)]\n",
      "--- Training --- [threshold, AUC] =  [np.float64(0.687), np.float64(0.973)]\n",
      "--- Iteration 160: Training loss --- [Data, Label, Total] = [10310.538896.3, 316.434664.3, 51869.129143.3]\n",
      "!!! pred_type filter\n"
     ]
    },
    {
     "name": "stderr",
     "output_type": "stream",
     "text": [
      " 67%|████████████████████████████████████████████████████████████████████████████████▏                                       | 167/250 [00:19<00:07, 11.10it/s]"
     ]
    },
    {
     "name": "stdout",
     "output_type": "stream",
     "text": [
      "--- Validation --- [threshold, AUC, Accuracy, F score] =  [np.float64(0.687), np.float64(0.973), np.float64(0.922), np.float64(0.937)]\n",
      "--- Training --- [threshold, AUC] =  [np.float64(0.684), np.float64(0.973)]\n",
      "--- Iteration 170: Training loss --- [Data, Label, Total] = [10269.224753.3, 316.406247.3, 51662.530013.3]\n",
      "!!! pred_type filter\n"
     ]
    },
    {
     "name": "stderr",
     "output_type": "stream",
     "text": [
      " 71%|████████████████████████████████████████████████████████████████████████████████████▉                                   | 177/250 [00:20<00:06, 11.20it/s]"
     ]
    },
    {
     "name": "stdout",
     "output_type": "stream",
     "text": [
      "--- Validation --- [threshold, AUC, Accuracy, F score] =  [np.float64(0.684), np.float64(0.973), np.float64(0.922), np.float64(0.938)]\n",
      "--- Training --- [threshold, AUC] =  [np.float64(0.683), np.float64(0.973)]\n",
      "--- Iteration 180: Training loss --- [Data, Label, Total] = [10234.999695.3, 316.124495.3, 51491.122969.3]\n",
      "!!! pred_type filter\n"
     ]
    },
    {
     "name": "stderr",
     "output_type": "stream",
     "text": [
      " 74%|█████████████████████████████████████████████████████████████████████████████████████████▎                              | 186/250 [00:21<00:06, 10.56it/s]"
     ]
    },
    {
     "name": "stdout",
     "output_type": "stream",
     "text": [
      "--- Validation --- [threshold, AUC, Accuracy, F score] =  [np.float64(0.683), np.float64(0.973), np.float64(0.922), np.float64(0.938)]\n",
      "--- Training --- [threshold, AUC] =  [np.float64(0.692), np.float64(0.973)]\n",
      "--- Iteration 190: Training loss --- [Data, Label, Total] = [10207.410254.3, 315.699465.3, 51352.750735.3]\n",
      "!!! pred_type filter\n"
     ]
    },
    {
     "name": "stderr",
     "output_type": "stream",
     "text": [
      " 79%|██████████████████████████████████████████████████████████████████████████████████████████████▌                         | 197/250 [00:22<00:04, 11.14it/s]"
     ]
    },
    {
     "name": "stdout",
     "output_type": "stream",
     "text": [
      "--- Validation --- [threshold, AUC, Accuracy, F score] =  [np.float64(0.692), np.float64(0.973), np.float64(0.922), np.float64(0.937)]\n",
      "--- Training --- [threshold, AUC] =  [np.float64(0.692), np.float64(0.973)]\n",
      "--- Iteration 200: Training loss --- [Data, Label, Total] = [10185.392630.3, 315.428132.3, 51242.391282.3]\n",
      "!!! pred_type filter\n"
     ]
    },
    {
     "name": "stderr",
     "output_type": "stream",
     "text": [
      " 83%|███████████████████████████████████████████████████████████████████████████████████████████████████▎                    | 207/250 [00:24<00:03, 11.10it/s]"
     ]
    },
    {
     "name": "stdout",
     "output_type": "stream",
     "text": [
      "--- Validation --- [threshold, AUC, Accuracy, F score] =  [np.float64(0.692), np.float64(0.973), np.float64(0.922), np.float64(0.937)]\n",
      "--- Training --- [threshold, AUC] =  [np.float64(0.69), np.float64(0.974)]\n",
      "--- Iteration 210: Training loss --- [Data, Label, Total] = [10167.775670.3, 315.528105.3, 51154.406455.3]\n",
      "!!! pred_type filter\n"
     ]
    },
    {
     "name": "stderr",
     "output_type": "stream",
     "text": [
      " 87%|████████████████████████████████████████████████████████████████████████████████████████████████████████▏               | 217/250 [00:25<00:02, 11.06it/s]"
     ]
    },
    {
     "name": "stdout",
     "output_type": "stream",
     "text": [
      "--- Validation --- [threshold, AUC, Accuracy, F score] =  [np.float64(0.69), np.float64(0.974), np.float64(0.921), np.float64(0.936)]\n",
      "--- Training --- [threshold, AUC] =  [np.float64(0.688), np.float64(0.974)]\n",
      "--- Iteration 220: Training loss --- [Data, Label, Total] = [10153.866834.3, 314.936492.3, 51084.270664.3]\n",
      "!!! pred_type filter\n"
     ]
    },
    {
     "name": "stderr",
     "output_type": "stream",
     "text": [
      " 90%|████████████████████████████████████████████████████████████████████████████████████████████████████████████▍           | 226/250 [00:26<00:02, 10.45it/s]"
     ]
    },
    {
     "name": "stdout",
     "output_type": "stream",
     "text": [
      "--- Validation --- [threshold, AUC, Accuracy, F score] =  [np.float64(0.688), np.float64(0.974), np.float64(0.921), np.float64(0.936)]\n",
      "--- Training --- [threshold, AUC] =  [np.float64(0.716), np.float64(0.974)]\n",
      "--- Iteration 230: Training loss --- [Data, Label, Total] = [10142.725593.3, 314.706584.3, 51028.334550.3]\n",
      "!!! pred_type filter\n"
     ]
    },
    {
     "name": "stderr",
     "output_type": "stream",
     "text": [
      " 95%|█████████████████████████████████████████████████████████████████████████████████████████████████████████████████▊      | 237/250 [00:27<00:01, 11.05it/s]"
     ]
    },
    {
     "name": "stdout",
     "output_type": "stream",
     "text": [
      "--- Validation --- [threshold, AUC, Accuracy, F score] =  [np.float64(0.716), np.float64(0.974), np.float64(0.918), np.float64(0.934)]\n",
      "--- Training --- [threshold, AUC] =  [np.float64(0.709), np.float64(0.974)]\n",
      "--- Iteration 240: Training loss --- [Data, Label, Total] = [10133.603809.3, 314.258994.3, 50982.278036.3]\n",
      "!!! pred_type filter\n"
     ]
    },
    {
     "name": "stderr",
     "output_type": "stream",
     "text": [
      "100%|████████████████████████████████████████████████████████████████████████████████████████████████████████████████████████| 250/250 [00:28<00:00,  8.79it/s]"
     ]
    },
    {
     "name": "stdout",
     "output_type": "stream",
     "text": [
      "--- Validation --- [threshold, AUC, Accuracy, F score] =  [np.float64(0.709), np.float64(0.974), np.float64(0.919), np.float64(0.934)]\n",
      "!!! pred_type filter\n"
     ]
    },
    {
     "name": "stderr",
     "output_type": "stream",
     "text": [
      "\n"
     ]
    },
    {
     "name": "stdout",
     "output_type": "stream",
     "text": [
      "num of subgraphs induced on k-paths: 500\n",
      "num of subgraphs induced on k-paths: 500\n",
      "X_list: (225, 1000)\n",
      "2\n",
      "(1, 500)\n",
      "(1, 500)\n",
      "label_vec: (1, 1000)\n",
      "('Caltech36', 'UCLA26') predicting Harvard1 0.7997691799989031\n",
      "\n",
      "3: 0.8778558372677772\n",
      "4: 0.8449298516548318\n",
      "5: 0.8328589202034812\n",
      "6: 0.8810722135926942\n",
      "7: 0.8300352574962108\n",
      "8: 0.8341847021951587\n",
      "9: 0.8194475467039469\n",
      "10: 0.8129617372639039\n",
      "11: 0.845638803372221\n",
      "12: 0.8369670343428398\n",
      "13: 0.8623456412356946\n",
      "14: 0.831572887805297\n",
      "15: 0.8408084132367011\n",
      "16: 0.8064638447237019\n",
      "17: 0.8287998330500281\n",
      "18: 0.8373152203303609\n",
      "19: 0.8276952327992096\n",
      "20: 0.8418126002700697\n",
      "21: 0.8454592943223044\n",
      "22: 0.844181117391187\n",
      "23: 0.8419497556991397\n",
      "24: 0.8333939205936771\n",
      "25: 0.819992628909854\n",
      "26: 0.8129853174398964\n",
      "27: 0.8291130598632306\n",
      "28: 0.8279831681480128\n",
      "29: 0.7997691799989031\n",
      "\n",
      "num of subgraphs induced on k-paths: 500\n",
      "num of subgraphs induced on k-paths: 500\n",
      "X_list: (225, 1000)\n",
      "2\n",
      "(1, 500)\n",
      "(1, 500)\n",
      "label_vec: (1, 1000)\n",
      "num of subgraphs induced on k-paths: 500\n",
      "num of subgraphs induced on k-paths: 878\n",
      "X_list: (225, 1378)\n",
      "2\n",
      "(1, 500)\n",
      "(1, 878)\n",
      "label_vec: (1, 1378)\n",
      "initial loading beta [[ 0.17738971 -0.70862453 -0.12575075  0.91631424 -0.92682574 -0.5717689\n",
      "   0.84753742  0.46192516  0.59067437  0.2747389  -0.49652396  0.46721915\n",
      "  -0.68501431  0.5449406  -0.37869266 -0.75799241  0.71816794  0.1021555\n",
      "  -0.89294204 -0.34237455 -0.59695038 -0.61504014 -0.15749261  0.74509567\n",
      "  -0.0209119   0.12780912  0.33183552  0.72058907 -0.42247841 -0.51730289\n",
      "  -0.13858378]]\n"
     ]
    },
    {
     "name": "stderr",
     "output_type": "stream",
     "text": [
      "  0%|                                                                                                                                  | 0/250 [00:00<?, ?it/s]"
     ]
    },
    {
     "name": "stdout",
     "output_type": "stream",
     "text": [
      "--- Training --- [threshold, AUC] =  [np.float64(0.642), np.float64(0.97)]\n",
      "--- Iteration 0: Training loss --- [Data, Label, Total] = [36999.618827.3, 325.631660.3, 185323.725792.3]\n"
     ]
    },
    {
     "name": "stderr",
     "output_type": "stream",
     "text": [
      "  4%|████▊                                                                                                                    | 10/250 [00:00<00:05, 45.80it/s]"
     ]
    },
    {
     "name": "stdout",
     "output_type": "stream",
     "text": [
      "--- Training --- [threshold, AUC] =  [np.float64(0.654), np.float64(0.971)]\n",
      "--- Iteration 10: Training loss --- [Data, Label, Total] = [17419.270680.3, 314.596667.3, 87410.950067.3]\n",
      "!!! pred_type filter\n"
     ]
    },
    {
     "name": "stderr",
     "output_type": "stream",
     "text": [
      "  6%|███████▎                                                                                                                 | 15/250 [00:01<00:28,  8.27it/s]"
     ]
    },
    {
     "name": "stdout",
     "output_type": "stream",
     "text": [
      "--- Validation --- [threshold, AUC, Accuracy, F score] =  [np.float64(0.654), np.float64(0.971), np.float64(0.914), np.float64(0.931)]\n",
      "--- Training --- [threshold, AUC] =  [np.float64(0.697), np.float64(0.972)]\n",
      "--- Iteration 20: Training loss --- [Data, Label, Total] = [14614.425748.3, 312.952147.3, 73385.080889.3]\n",
      "!!! pred_type filter\n"
     ]
    },
    {
     "name": "stderr",
     "output_type": "stream",
     "text": [
      " 11%|█████████████                                                                                                            | 27/250 [00:02<00:22, 10.05it/s]"
     ]
    },
    {
     "name": "stdout",
     "output_type": "stream",
     "text": [
      "--- Validation --- [threshold, AUC, Accuracy, F score] =  [np.float64(0.697), np.float64(0.972), np.float64(0.911), np.float64(0.928)]\n",
      "--- Training --- [threshold, AUC] =  [np.float64(0.73), np.float64(0.973)]\n",
      "--- Iteration 30: Training loss --- [Data, Label, Total] = [13025.765457.3, 314.400317.3, 65443.227604.3]\n",
      "!!! pred_type filter\n"
     ]
    },
    {
     "name": "stderr",
     "output_type": "stream",
     "text": [
      " 15%|█████████████████▉                                                                                                       | 37/250 [00:03<00:20, 10.24it/s]"
     ]
    },
    {
     "name": "stdout",
     "output_type": "stream",
     "text": [
      "--- Validation --- [threshold, AUC, Accuracy, F score] =  [np.float64(0.73), np.float64(0.973), np.float64(0.907), np.float64(0.924)]\n",
      "--- Training --- [threshold, AUC] =  [np.float64(0.704), np.float64(0.973)]\n",
      "--- Iteration 40: Training loss --- [Data, Label, Total] = [11995.113128.3, 317.379466.3, 60292.945107.3]\n",
      "!!! pred_type filter\n"
     ]
    },
    {
     "name": "stderr",
     "output_type": "stream",
     "text": [
      " 19%|██████████████████████▋                                                                                                  | 47/250 [00:04<00:19, 10.36it/s]"
     ]
    },
    {
     "name": "stdout",
     "output_type": "stream",
     "text": [
      "--- Validation --- [threshold, AUC, Accuracy, F score] =  [np.float64(0.704), np.float64(0.973), np.float64(0.912), np.float64(0.929)]\n",
      "--- Training --- [threshold, AUC] =  [np.float64(0.71), np.float64(0.973)]\n",
      "--- Iteration 50: Training loss --- [Data, Label, Total] = [11325.861206.3, 319.802893.3, 56949.108921.3]\n",
      "!!! pred_type filter\n"
     ]
    },
    {
     "name": "stderr",
     "output_type": "stream",
     "text": [
      " 23%|███████████████████████████▌                                                                                             | 57/250 [00:06<00:18, 10.19it/s]"
     ]
    },
    {
     "name": "stdout",
     "output_type": "stream",
     "text": [
      "--- Validation --- [threshold, AUC, Accuracy, F score] =  [np.float64(0.71), np.float64(0.973), np.float64(0.911), np.float64(0.928)]\n",
      "--- Training --- [threshold, AUC] =  [np.float64(0.712), np.float64(0.973)]\n",
      "--- Iteration 60: Training loss --- [Data, Label, Total] = [10890.648705.3, 321.457414.3, 54774.700938.3]\n",
      "!!! pred_type filter\n"
     ]
    },
    {
     "name": "stderr",
     "output_type": "stream",
     "text": [
      " 26%|███████████████████████████████▉                                                                                         | 66/250 [00:07<00:18,  9.90it/s]"
     ]
    },
    {
     "name": "stdout",
     "output_type": "stream",
     "text": [
      "--- Validation --- [threshold, AUC, Accuracy, F score] =  [np.float64(0.712), np.float64(0.973), np.float64(0.911), np.float64(0.927)]\n",
      "--- Training --- [threshold, AUC] =  [np.float64(0.697), np.float64(0.973)]\n",
      "--- Iteration 70: Training loss --- [Data, Label, Total] = [10598.710092.3, 322.187959.3, 53315.738417.3]\n",
      "!!! pred_type filter\n"
     ]
    },
    {
     "name": "stderr",
     "output_type": "stream",
     "text": [
      " 31%|█████████████████████████████████████▎                                                                                   | 77/250 [00:08<00:16, 10.77it/s]"
     ]
    },
    {
     "name": "stdout",
     "output_type": "stream",
     "text": [
      "--- Validation --- [threshold, AUC, Accuracy, F score] =  [np.float64(0.697), np.float64(0.973), np.float64(0.913), np.float64(0.929)]\n",
      "--- Training --- [threshold, AUC] =  [np.float64(0.692), np.float64(0.973)]\n",
      "--- Iteration 80: Training loss --- [Data, Label, Total] = [10387.726032.3, 322.169137.3, 52260.799299.3]\n",
      "!!! pred_type filter\n"
     ]
    },
    {
     "name": "stderr",
     "output_type": "stream",
     "text": [
      " 35%|██████████████████████████████████████████                                                                               | 87/250 [00:09<00:15, 10.84it/s]"
     ]
    },
    {
     "name": "stdout",
     "output_type": "stream",
     "text": [
      "--- Validation --- [threshold, AUC, Accuracy, F score] =  [np.float64(0.692), np.float64(0.973), np.float64(0.914), np.float64(0.93)]\n",
      "--- Training --- [threshold, AUC] =  [np.float64(0.704), np.float64(0.973)]\n",
      "--- Iteration 90: Training loss --- [Data, Label, Total] = [10222.412607.3, 321.818331.3, 51433.881368.3]\n",
      "!!! pred_type filter\n"
     ]
    },
    {
     "name": "stderr",
     "output_type": "stream",
     "text": [
      " 38%|██████████████████████████████████████████████▍                                                                          | 96/250 [00:10<00:14, 10.28it/s]"
     ]
    },
    {
     "name": "stdout",
     "output_type": "stream",
     "text": [
      "--- Validation --- [threshold, AUC, Accuracy, F score] =  [np.float64(0.704), np.float64(0.973), np.float64(0.914), np.float64(0.93)]\n",
      "--- Training --- [threshold, AUC] =  [np.float64(0.706), np.float64(0.973)]\n",
      "--- Iteration 100: Training loss --- [Data, Label, Total] = [10084.988069.3, 321.291892.3, 50746.232238.3]\n",
      "!!! pred_type filter\n"
     ]
    },
    {
     "name": "stderr",
     "output_type": "stream",
     "text": [
      " 42%|██████████████████████████████████████████████████▉                                                                     | 106/250 [00:11<00:13, 10.47it/s]"
     ]
    },
    {
     "name": "stdout",
     "output_type": "stream",
     "text": [
      "--- Validation --- [threshold, AUC, Accuracy, F score] =  [np.float64(0.706), np.float64(0.973), np.float64(0.914), np.float64(0.93)]\n",
      "--- Training --- [threshold, AUC] =  [np.float64(0.778), np.float64(0.974)]\n",
      "--- Iteration 110: Training loss --- [Data, Label, Total] = [9966.699288.3, 320.977410.3, 50154.473849.3]\n",
      "!!! pred_type filter\n"
     ]
    },
    {
     "name": "stderr",
     "output_type": "stream",
     "text": [
      " 47%|████████████████████████████████████████████████████████▏                                                               | 117/250 [00:12<00:11, 11.38it/s]"
     ]
    },
    {
     "name": "stdout",
     "output_type": "stream",
     "text": [
      "--- Validation --- [threshold, AUC, Accuracy, F score] =  [np.float64(0.778), np.float64(0.974), np.float64(0.903), np.float64(0.918)]\n",
      "--- Training --- [threshold, AUC] =  [np.float64(0.706), np.float64(0.974)]\n",
      "--- Iteration 120: Training loss --- [Data, Label, Total] = [9864.007928.3, 320.525347.3, 49640.564987.3]\n",
      "!!! pred_type filter\n"
     ]
    },
    {
     "name": "stderr",
     "output_type": "stream",
     "text": [
      " 50%|████████████████████████████████████████████████████████████▍                                                           | 126/250 [00:13<00:11, 10.86it/s]"
     ]
    },
    {
     "name": "stdout",
     "output_type": "stream",
     "text": [
      "--- Validation --- [threshold, AUC, Accuracy, F score] =  [np.float64(0.706), np.float64(0.974), np.float64(0.914), np.float64(0.93)]\n",
      "--- Training --- [threshold, AUC] =  [np.float64(0.707), np.float64(0.974)]\n",
      "--- Iteration 130: Training loss --- [Data, Label, Total] = [9774.391303.3, 320.534555.3, 49192.491072.3]\n",
      "!!! pred_type filter\n"
     ]
    },
    {
     "name": "stderr",
     "output_type": "stream",
     "text": [
      " 54%|█████████████████████████████████████████████████████████████████▎                                                      | 136/250 [00:14<00:10, 11.14it/s]"
     ]
    },
    {
     "name": "stdout",
     "output_type": "stream",
     "text": [
      "--- Validation --- [threshold, AUC, Accuracy, F score] =  [np.float64(0.707), np.float64(0.974), np.float64(0.914), np.float64(0.93)]\n",
      "--- Training --- [threshold, AUC] =  [np.float64(0.707), np.float64(0.974)]\n",
      "--- Iteration 140: Training loss --- [Data, Label, Total] = [9697.096039.3, 320.303495.3, 48805.783688.3]\n",
      "!!! pred_type filter\n"
     ]
    },
    {
     "name": "stderr",
     "output_type": "stream",
     "text": [
      " 58%|██████████████████████████████████████████████████████████████████████                                                  | 146/250 [00:15<00:09, 11.10it/s]"
     ]
    },
    {
     "name": "stdout",
     "output_type": "stream",
     "text": [
      "--- Validation --- [threshold, AUC, Accuracy, F score] =  [np.float64(0.707), np.float64(0.974), np.float64(0.914), np.float64(0.93)]\n",
      "--- Training --- [threshold, AUC] =  [np.float64(0.706), np.float64(0.974)]\n",
      "--- Iteration 150: Training loss --- [Data, Label, Total] = [9631.299536.3, 320.616766.3, 48477.114445.3]\n",
      "!!! pred_type filter\n"
     ]
    },
    {
     "name": "stderr",
     "output_type": "stream",
     "text": [
      " 62%|██████████████████████████████████████████████████████████████████████████▉                                             | 156/250 [00:16<00:08, 11.14it/s]"
     ]
    },
    {
     "name": "stdout",
     "output_type": "stream",
     "text": [
      "--- Validation --- [threshold, AUC, Accuracy, F score] =  [np.float64(0.706), np.float64(0.974), np.float64(0.914), np.float64(0.93)]\n",
      "--- Training --- [threshold, AUC] =  [np.float64(0.706), np.float64(0.974)]\n",
      "--- Iteration 160: Training loss --- [Data, Label, Total] = [9575.178727.3, 320.434903.3, 48196.328539.3]\n",
      "!!! pred_type filter\n"
     ]
    },
    {
     "name": "stderr",
     "output_type": "stream",
     "text": [
      " 66%|██████████████████████████████████████████████████████████████████████████████▋                                         | 164/250 [00:17<00:08,  9.76it/s]"
     ]
    },
    {
     "name": "stdout",
     "output_type": "stream",
     "text": [
      "--- Validation --- [threshold, AUC, Accuracy, F score] =  [np.float64(0.706), np.float64(0.974), np.float64(0.914), np.float64(0.93)]\n"
     ]
    },
    {
     "name": "stderr",
     "output_type": "stream",
     "text": [
      " 68%|█████████████████████████████████████████████████████████████████████████████████                                       | 169/250 [00:18<00:06, 13.20it/s]"
     ]
    },
    {
     "name": "stdout",
     "output_type": "stream",
     "text": [
      "--- Training --- [threshold, AUC] =  [np.float64(0.706), np.float64(0.974)]\n",
      "--- Iteration 170: Training loss --- [Data, Label, Total] = [9527.254833.3, 320.373891.3, 47956.648053.3]\n",
      "!!! pred_type filter\n"
     ]
    },
    {
     "name": "stderr",
     "output_type": "stream",
     "text": [
      " 72%|█████████████████████████████████████████████████████████████████████████████████████▉                                  | 179/250 [00:19<00:05, 12.31it/s]"
     ]
    },
    {
     "name": "stdout",
     "output_type": "stream",
     "text": [
      "--- Validation --- [threshold, AUC, Accuracy, F score] =  [np.float64(0.706), np.float64(0.974), np.float64(0.914), np.float64(0.93)]\n",
      "--- Training --- [threshold, AUC] =  [np.float64(0.694), np.float64(0.974)]\n",
      "--- Iteration 180: Training loss --- [Data, Label, Total] = [9486.137065.3, 320.544241.3, 47751.229566.3]\n",
      "!!! pred_type filter\n"
     ]
    },
    {
     "name": "stderr",
     "output_type": "stream",
     "text": [
      " 76%|██████████████████████████████████████████████████████████████████████████████████████████▋                             | 189/250 [00:20<00:05, 11.88it/s]"
     ]
    },
    {
     "name": "stdout",
     "output_type": "stream",
     "text": [
      "--- Validation --- [threshold, AUC, Accuracy, F score] =  [np.float64(0.694), np.float64(0.974), np.float64(0.915), np.float64(0.931)]\n",
      "--- Training --- [threshold, AUC] =  [np.float64(0.771), np.float64(0.974)]\n",
      "--- Iteration 190: Training loss --- [Data, Label, Total] = [9450.456188.3, 320.766885.3, 47573.047827.3]\n",
      "!!! pred_type filter\n"
     ]
    },
    {
     "name": "stderr",
     "output_type": "stream",
     "text": [
      " 79%|███████████████████████████████████████████████████████████████████████████████████████████████                         | 198/250 [00:21<00:05,  9.06it/s]"
     ]
    },
    {
     "name": "stdout",
     "output_type": "stream",
     "text": [
      "--- Validation --- [threshold, AUC, Accuracy, F score] =  [np.float64(0.771), np.float64(0.974), np.float64(0.906), np.float64(0.921)]\n",
      "--- Training --- [threshold, AUC] =  [np.float64(0.773), np.float64(0.974)]\n",
      "--- Iteration 200: Training loss --- [Data, Label, Total] = [9418.803162.3, 321.084389.3, 47415.100201.3]\n",
      "!!! pred_type filter\n"
     ]
    },
    {
     "name": "stderr",
     "output_type": "stream",
     "text": [
      " 82%|██████████████████████████████████████████████████████████████████████████████████████████████████▉                     | 206/250 [00:22<00:04,  8.94it/s]"
     ]
    },
    {
     "name": "stdout",
     "output_type": "stream",
     "text": [
      "--- Validation --- [threshold, AUC, Accuracy, F score] =  [np.float64(0.773), np.float64(0.974), np.float64(0.905), np.float64(0.92)]\n",
      "--- Training --- [threshold, AUC] =  [np.float64(0.718), np.float64(0.974)]\n",
      "--- Iteration 210: Training loss --- [Data, Label, Total] = [9390.143768.3, 321.150698.3, 47271.869538.3]\n",
      "!!! pred_type filter\n"
     ]
    },
    {
     "name": "stderr",
     "output_type": "stream",
     "text": [
      " 86%|███████████████████████████████████████████████████████████████████████████████████████████████████████▋                | 216/250 [00:23<00:03, 10.10it/s]"
     ]
    },
    {
     "name": "stdout",
     "output_type": "stream",
     "text": [
      "--- Validation --- [threshold, AUC, Accuracy, F score] =  [np.float64(0.718), np.float64(0.974), np.float64(0.912), np.float64(0.928)]\n",
      "--- Training --- [threshold, AUC] =  [np.float64(0.732), np.float64(0.974)]\n",
      "--- Iteration 220: Training loss --- [Data, Label, Total] = [9363.562258.3, 321.475191.3, 47139.286482.3]\n",
      "!!! pred_type filter\n"
     ]
    },
    {
     "name": "stderr",
     "output_type": "stream",
     "text": [
      " 90%|████████████████████████████████████████████████████████████████████████████████████████████████████████████▍           | 226/250 [00:24<00:02, 10.62it/s]"
     ]
    },
    {
     "name": "stdout",
     "output_type": "stream",
     "text": [
      "--- Validation --- [threshold, AUC, Accuracy, F score] =  [np.float64(0.732), np.float64(0.974), np.float64(0.909), np.float64(0.925)]\n",
      "--- Training --- [threshold, AUC] =  [np.float64(0.718), np.float64(0.974)]\n",
      "--- Iteration 230: Training loss --- [Data, Label, Total] = [9338.287143.3, 321.937564.3, 47013.373278.3]\n",
      "!!! pred_type filter\n"
     ]
    },
    {
     "name": "stderr",
     "output_type": "stream",
     "text": [
      " 94%|████████████████████████████████████████████████████████████████████████████████████████████████████████████████▊       | 235/250 [00:26<00:01,  9.18it/s]"
     ]
    },
    {
     "name": "stdout",
     "output_type": "stream",
     "text": [
      "--- Validation --- [threshold, AUC, Accuracy, F score] =  [np.float64(0.718), np.float64(0.974), np.float64(0.912), np.float64(0.928)]\n"
     ]
    },
    {
     "name": "stderr",
     "output_type": "stream",
     "text": [
      " 96%|██████████████████████████████████████████████████████████████████████████████████████████████████████████████████▋     | 239/250 [00:26<00:00, 11.42it/s]"
     ]
    },
    {
     "name": "stdout",
     "output_type": "stream",
     "text": [
      "--- Training --- [threshold, AUC] =  [np.float64(0.722), np.float64(0.974)]\n",
      "--- Iteration 240: Training loss --- [Data, Label, Total] = [9313.916725.3, 322.236838.3, 46891.820460.3]\n",
      "!!! pred_type filter\n"
     ]
    },
    {
     "name": "stderr",
     "output_type": "stream",
     "text": [
      "100%|████████████████████████████████████████████████████████████████████████████████████████████████████████████████████████| 250/250 [00:27<00:00,  9.15it/s]"
     ]
    },
    {
     "name": "stdout",
     "output_type": "stream",
     "text": [
      "--- Validation --- [threshold, AUC, Accuracy, F score] =  [np.float64(0.722), np.float64(0.974), np.float64(0.912), np.float64(0.928)]\n",
      "!!! pred_type filter\n"
     ]
    },
    {
     "name": "stderr",
     "output_type": "stream",
     "text": [
      "\n"
     ]
    },
    {
     "name": "stdout",
     "output_type": "stream",
     "text": [
      "num of subgraphs induced on k-paths: 500\n",
      "num of subgraphs induced on k-paths: 500\n",
      "X_list: (225, 1000)\n",
      "2\n",
      "(1, 500)\n",
      "(1, 500)\n",
      "label_vec: (1, 1000)\n",
      "('Caltech36', 'UCLA26') predicting Harvard1 0.8155019772056755\n",
      "\n",
      "3: 0.8778558372677772\n",
      "4: 0.8449298516548318\n",
      "5: 0.8328589202034812\n",
      "6: 0.8810722135926942\n",
      "7: 0.8300352574962108\n",
      "8: 0.8341847021951587\n",
      "9: 0.8194475467039469\n",
      "10: 0.8129617372639039\n",
      "11: 0.845638803372221\n",
      "12: 0.8369670343428398\n",
      "13: 0.8623456412356946\n",
      "14: 0.831572887805297\n",
      "15: 0.8408084132367011\n",
      "16: 0.8064638447237019\n",
      "17: 0.8287998330500281\n",
      "18: 0.8373152203303609\n",
      "19: 0.8276952327992096\n",
      "20: 0.8418126002700697\n",
      "21: 0.8454592943223044\n",
      "22: 0.844181117391187\n",
      "23: 0.8419497556991397\n",
      "24: 0.8333939205936771\n",
      "25: 0.819992628909854\n",
      "26: 0.8129853174398964\n",
      "27: 0.8291130598632306\n",
      "28: 0.8279831681480128\n",
      "29: 0.7997691799989031\n",
      "30: 0.8155019772056755\n",
      "\n",
      "num of subgraphs induced on k-paths: 500\n",
      "num of subgraphs induced on k-paths: 500\n",
      "X_list: (225, 1000)\n",
      "2\n",
      "(1, 500)\n",
      "(1, 500)\n",
      "label_vec: (1, 1000)\n",
      "num of subgraphs induced on k-paths: 500\n",
      "num of subgraphs induced on k-paths: 850\n",
      "X_list: (225, 1350)\n",
      "2\n",
      "(1, 500)\n",
      "(1, 850)\n",
      "label_vec: (1, 1350)\n",
      "initial loading beta [[ 0.83826868  0.96882055 -0.61496786 -0.23860746 -0.25972895  0.05570006\n",
      "  -0.37382584 -0.18213244  0.64989907  0.00980769 -0.98436238 -0.88607835\n",
      "  -0.3937266  -0.37206236 -0.19259511 -0.44626648  0.83545803 -0.73193587\n",
      "   0.15126916 -0.64623546  0.7000854  -0.2336462   0.34343986  0.7653976\n",
      "  -0.50234825  0.86552815  0.71134767  0.27913597  0.82908798  0.83636987\n",
      "  -0.7512292   0.42779637]]\n"
     ]
    },
    {
     "name": "stderr",
     "output_type": "stream",
     "text": [
      "  0%|                                                                                                                                  | 0/250 [00:00<?, ?it/s]"
     ]
    },
    {
     "name": "stdout",
     "output_type": "stream",
     "text": [
      "--- Training --- [threshold, AUC] =  [np.float64(0.734), np.float64(0.967)]\n",
      "--- Iteration 0: Training loss --- [Data, Label, Total] = [37207.542533.3, 326.927923.3, 186364.640586.3]\n"
     ]
    },
    {
     "name": "stderr",
     "output_type": "stream",
     "text": [
      "  4%|████▊                                                                                                                    | 10/250 [00:00<00:06, 38.43it/s]"
     ]
    },
    {
     "name": "stdout",
     "output_type": "stream",
     "text": [
      "--- Training --- [threshold, AUC] =  [np.float64(0.744), np.float64(0.965)]\n",
      "--- Iteration 10: Training loss --- [Data, Label, Total] = [17428.304854.3, 332.804508.3, 87474.328778.3]\n",
      "!!! pred_type filter\n"
     ]
    },
    {
     "name": "stderr",
     "output_type": "stream",
     "text": [
      "  8%|█████████▋                                                                                                               | 20/250 [00:01<00:17, 12.85it/s]"
     ]
    },
    {
     "name": "stdout",
     "output_type": "stream",
     "text": [
      "--- Validation --- [threshold, AUC, Accuracy, F score] =  [np.float64(0.744), np.float64(0.965), np.float64(0.901), np.float64(0.918)]\n",
      "--- Training --- [threshold, AUC] =  [np.float64(0.712), np.float64(0.967)]\n",
      "--- Iteration 20: Training loss --- [Data, Label, Total] = [14745.425677.3, 325.560286.3, 74052.688671.3]\n",
      "!!! pred_type filter\n"
     ]
    },
    {
     "name": "stderr",
     "output_type": "stream",
     "text": [
      " 12%|██████████████▌                                                                                                          | 30/250 [00:02<00:20, 10.60it/s]"
     ]
    },
    {
     "name": "stdout",
     "output_type": "stream",
     "text": [
      "--- Validation --- [threshold, AUC, Accuracy, F score] =  [np.float64(0.712), np.float64(0.967), np.float64(0.907), np.float64(0.923)]\n",
      "--- Training --- [threshold, AUC] =  [np.float64(0.717), np.float64(0.968)]\n",
      "--- Iteration 30: Training loss --- [Data, Label, Total] = [13296.676456.3, 323.395826.3, 66806.778104.3]\n",
      "!!! pred_type filter\n"
     ]
    },
    {
     "name": "stderr",
     "output_type": "stream",
     "text": [
      " 16%|███████████████████▎                                                                                                     | 40/250 [00:03<00:19, 10.57it/s]"
     ]
    },
    {
     "name": "stdout",
     "output_type": "stream",
     "text": [
      "--- Validation --- [threshold, AUC, Accuracy, F score] =  [np.float64(0.717), np.float64(0.968), np.float64(0.909), np.float64(0.925)]\n",
      "--- Training --- [threshold, AUC] =  [np.float64(0.738), np.float64(0.968)]\n",
      "--- Iteration 40: Training loss --- [Data, Label, Total] = [12435.537340.3, 321.453087.3, 62499.139790.3]\n",
      "!!! pred_type filter\n"
     ]
    },
    {
     "name": "stderr",
     "output_type": "stream",
     "text": [
      " 20%|███████████████████████▋                                                                                                 | 49/250 [00:05<00:20,  9.89it/s]"
     ]
    },
    {
     "name": "stdout",
     "output_type": "stream",
     "text": [
      "--- Validation --- [threshold, AUC, Accuracy, F score] =  [np.float64(0.738), np.float64(0.968), np.float64(0.909), np.float64(0.925)]\n",
      "--- Training --- [threshold, AUC] =  [np.float64(0.747), np.float64(0.969)]\n",
      "--- Iteration 50: Training loss --- [Data, Label, Total] = [11834.752895.3, 319.483960.3, 59493.248436.3]\n",
      "!!! pred_type filter\n"
     ]
    },
    {
     "name": "stderr",
     "output_type": "stream",
     "text": [
      " 24%|████████████████████████████▌                                                                                            | 59/250 [00:06<00:18, 10.35it/s]"
     ]
    },
    {
     "name": "stdout",
     "output_type": "stream",
     "text": [
      "--- Validation --- [threshold, AUC, Accuracy, F score] =  [np.float64(0.747), np.float64(0.969), np.float64(0.91), np.float64(0.925)]\n",
      "--- Training --- [threshold, AUC] =  [np.float64(0.724), np.float64(0.97)]\n",
      "--- Iteration 60: Training loss --- [Data, Label, Total] = [11378.925266.3, 318.429946.3, 57213.056276.3]\n",
      "!!! pred_type filter\n"
     ]
    },
    {
     "name": "stderr",
     "output_type": "stream",
     "text": [
      " 27%|████████████████████████████████▉                                                                                        | 68/250 [00:07<00:18,  9.97it/s]"
     ]
    },
    {
     "name": "stdout",
     "output_type": "stream",
     "text": [
      "--- Validation --- [threshold, AUC, Accuracy, F score] =  [np.float64(0.724), np.float64(0.97), np.float64(0.913), np.float64(0.928)]\n",
      "--- Training --- [threshold, AUC] =  [np.float64(0.714), np.float64(0.97)]\n",
      "--- Iteration 70: Training loss --- [Data, Label, Total] = [11022.091465.3, 318.547565.3, 55429.004890.3]\n",
      "!!! pred_type filter\n"
     ]
    },
    {
     "name": "stderr",
     "output_type": "stream",
     "text": [
      " 31%|█████████████████████████████████████▎                                                                                   | 77/250 [00:08<00:17,  9.95it/s]"
     ]
    },
    {
     "name": "stdout",
     "output_type": "stream",
     "text": [
      "--- Validation --- [threshold, AUC, Accuracy, F score] =  [np.float64(0.714), np.float64(0.97), np.float64(0.916), np.float64(0.931)]\n",
      "--- Training --- [threshold, AUC] =  [np.float64(0.716), np.float64(0.97)]\n",
      "--- Iteration 80: Training loss --- [Data, Label, Total] = [10734.306769.3, 318.759039.3, 53990.292885.3]\n",
      "!!! pred_type filter\n"
     ]
    },
    {
     "name": "stderr",
     "output_type": "stream",
     "text": [
      " 34%|█████████████████████████████████████████▌                                                                               | 86/250 [00:09<00:16,  9.91it/s]"
     ]
    },
    {
     "name": "stdout",
     "output_type": "stream",
     "text": [
      "--- Validation --- [threshold, AUC, Accuracy, F score] =  [np.float64(0.716), np.float64(0.97), np.float64(0.914), np.float64(0.929)]\n",
      "--- Training --- [threshold, AUC] =  [np.float64(0.692), np.float64(0.97)]\n",
      "--- Iteration 90: Training loss --- [Data, Label, Total] = [10492.198912.3, 318.910931.3, 52779.905490.3]\n",
      "!!! pred_type filter\n"
     ]
    },
    {
     "name": "stderr",
     "output_type": "stream",
     "text": [
      " 38%|█████████████████████████████████████████████▉                                                                           | 95/250 [00:10<00:16,  9.67it/s]"
     ]
    },
    {
     "name": "stdout",
     "output_type": "stream",
     "text": [
      "--- Validation --- [threshold, AUC, Accuracy, F score] =  [np.float64(0.692), np.float64(0.97), np.float64(0.918), np.float64(0.933)]\n"
     ]
    },
    {
     "name": "stderr",
     "output_type": "stream",
     "text": [
      " 39%|███████████████████████████████████████████████▍                                                                         | 98/250 [00:10<00:14, 10.41it/s]"
     ]
    },
    {
     "name": "stdout",
     "output_type": "stream",
     "text": [
      "--- Training --- [threshold, AUC] =  [np.float64(0.69), np.float64(0.971)]\n",
      "--- Iteration 100: Training loss --- [Data, Label, Total] = [10289.012328.3, 319.273171.3, 51764.334812.3]\n",
      "!!! pred_type filter\n"
     ]
    },
    {
     "name": "stderr",
     "output_type": "stream",
     "text": [
      " 42%|██████████████████████████████████████████████████▉                                                                     | 106/250 [00:11<00:14,  9.65it/s]"
     ]
    },
    {
     "name": "stdout",
     "output_type": "stream",
     "text": [
      "--- Validation --- [threshold, AUC, Accuracy, F score] =  [np.float64(0.69), np.float64(0.971), np.float64(0.919), np.float64(0.934)]\n"
     ]
    },
    {
     "name": "stderr",
     "output_type": "stream",
     "text": [
      " 44%|████████████████████████████████████████████████████▊                                                                   | 110/250 [00:11<00:11, 12.40it/s]"
     ]
    },
    {
     "name": "stdout",
     "output_type": "stream",
     "text": [
      "--- Training --- [threshold, AUC] =  [np.float64(0.693), np.float64(0.971)]\n",
      "--- Iteration 110: Training loss --- [Data, Label, Total] = [10124.441969.3, 319.719562.3, 50941.929406.3]\n",
      "!!! pred_type filter\n"
     ]
    },
    {
     "name": "stderr",
     "output_type": "stream",
     "text": [
      " 47%|████████████████████████████████████████████████████████▋                                                               | 118/250 [00:13<00:12, 10.42it/s]"
     ]
    },
    {
     "name": "stdout",
     "output_type": "stream",
     "text": [
      "--- Validation --- [threshold, AUC, Accuracy, F score] =  [np.float64(0.693), np.float64(0.971), np.float64(0.917), np.float64(0.932)]\n",
      "--- Training --- [threshold, AUC] =  [np.float64(0.714), np.float64(0.971)]\n",
      "--- Iteration 120: Training loss --- [Data, Label, Total] = [9997.941538.3, 319.705746.3, 50309.413436.3]\n",
      "!!! pred_type filter\n"
     ]
    },
    {
     "name": "stderr",
     "output_type": "stream",
     "text": [
      " 50%|████████████████████████████████████████████████████████████▍                                                           | 126/250 [00:14<00:12,  9.73it/s]"
     ]
    },
    {
     "name": "stdout",
     "output_type": "stream",
     "text": [
      "--- Validation --- [threshold, AUC, Accuracy, F score] =  [np.float64(0.714), np.float64(0.971), np.float64(0.914), np.float64(0.929)]\n",
      "--- Training --- [threshold, AUC] =  [np.float64(0.693), np.float64(0.971)]\n",
      "--- Iteration 130: Training loss --- [Data, Label, Total] = [9904.963658.3, 320.281171.3, 49845.099461.3]\n",
      "!!! pred_type filter\n"
     ]
    },
    {
     "name": "stderr",
     "output_type": "stream",
     "text": [
      " 54%|█████████████████████████████████████████████████████████████████▎                                                      | 136/250 [00:15<00:11, 10.25it/s]"
     ]
    },
    {
     "name": "stdout",
     "output_type": "stream",
     "text": [
      "--- Validation --- [threshold, AUC, Accuracy, F score] =  [np.float64(0.693), np.float64(0.971), np.float64(0.917), np.float64(0.933)]\n",
      "--- Training --- [threshold, AUC] =  [np.float64(0.721), np.float64(0.971)]\n",
      "--- Iteration 140: Training loss --- [Data, Label, Total] = [9837.496107.3, 321.037393.3, 49508.517926.3]\n",
      "!!! pred_type filter\n"
     ]
    },
    {
     "name": "stderr",
     "output_type": "stream",
     "text": [
      " 58%|██████████████████████████████████████████████████████████████████████                                                  | 146/250 [00:16<00:09, 10.47it/s]"
     ]
    },
    {
     "name": "stdout",
     "output_type": "stream",
     "text": [
      "--- Validation --- [threshold, AUC, Accuracy, F score] =  [np.float64(0.721), np.float64(0.971), np.float64(0.913), np.float64(0.928)]\n",
      "--- Training --- [threshold, AUC] =  [np.float64(0.72), np.float64(0.971)]\n",
      "--- Iteration 150: Training loss --- [Data, Label, Total] = [9788.478549.3, 321.220069.3, 49263.612811.3]\n",
      "!!! pred_type filter\n"
     ]
    },
    {
     "name": "stderr",
     "output_type": "stream",
     "text": [
      " 62%|██████████████████████████████████████████████████████████████████████████▉                                             | 156/250 [00:17<00:09, 10.43it/s]"
     ]
    },
    {
     "name": "stdout",
     "output_type": "stream",
     "text": [
      "--- Validation --- [threshold, AUC, Accuracy, F score] =  [np.float64(0.72), np.float64(0.971), np.float64(0.912), np.float64(0.927)]\n",
      "--- Training --- [threshold, AUC] =  [np.float64(0.716), np.float64(0.971)]\n",
      "--- Iteration 160: Training loss --- [Data, Label, Total] = [9751.707335.3, 321.374790.3, 49079.911466.3]\n",
      "!!! pred_type filter\n"
     ]
    },
    {
     "name": "stderr",
     "output_type": "stream",
     "text": [
      " 66%|███████████████████████████████████████████████████████████████████████████████▋                                        | 166/250 [00:18<00:07, 10.61it/s]"
     ]
    },
    {
     "name": "stdout",
     "output_type": "stream",
     "text": [
      "--- Validation --- [threshold, AUC, Accuracy, F score] =  [np.float64(0.716), np.float64(0.971), np.float64(0.913), np.float64(0.928)]\n",
      "--- Training --- [threshold, AUC] =  [np.float64(0.695), np.float64(0.971)]\n",
      "--- Iteration 170: Training loss --- [Data, Label, Total] = [9723.169805.3, 321.407182.3, 48937.256206.3]\n",
      "!!! pred_type filter\n"
     ]
    },
    {
     "name": "stderr",
     "output_type": "stream",
     "text": [
      " 70%|████████████████████████████████████████████████████████████████████████████████████▍                                   | 176/250 [00:19<00:07, 10.47it/s]"
     ]
    },
    {
     "name": "stdout",
     "output_type": "stream",
     "text": [
      "--- Validation --- [threshold, AUC, Accuracy, F score] =  [np.float64(0.695), np.float64(0.971), np.float64(0.919), np.float64(0.934)]\n",
      "--- Training --- [threshold, AUC] =  [np.float64(0.697), np.float64(0.971)]\n",
      "--- Iteration 180: Training loss --- [Data, Label, Total] = [9700.202649.3, 321.215393.3, 48822.228640.3]\n",
      "!!! pred_type filter\n"
     ]
    },
    {
     "name": "stderr",
     "output_type": "stream",
     "text": [
      " 75%|█████████████████████████████████████████████████████████████████████████████████████████▊                              | 187/250 [00:20<00:05, 11.28it/s]"
     ]
    },
    {
     "name": "stdout",
     "output_type": "stream",
     "text": [
      "--- Validation --- [threshold, AUC, Accuracy, F score] =  [np.float64(0.697), np.float64(0.971), np.float64(0.918), np.float64(0.933)]\n",
      "--- Training --- [threshold, AUC] =  [np.float64(0.7), np.float64(0.971)]\n",
      "--- Iteration 190: Training loss --- [Data, Label, Total] = [9681.026032.3, 321.032784.3, 48726.162944.3]\n",
      "!!! pred_type filter\n"
     ]
    },
    {
     "name": "stderr",
     "output_type": "stream",
     "text": [
      " 78%|█████████████████████████████████████████████████████████████████████████████████████████████▌                          | 195/250 [00:21<00:05, 10.10it/s]"
     ]
    },
    {
     "name": "stdout",
     "output_type": "stream",
     "text": [
      "--- Validation --- [threshold, AUC, Accuracy, F score] =  [np.float64(0.7), np.float64(0.971), np.float64(0.917), np.float64(0.932)]\n"
     ]
    },
    {
     "name": "stderr",
     "output_type": "stream",
     "text": [
      " 80%|████████████████████████████████████████████████████████████████████████████████████████████████                        | 200/250 [00:21<00:03, 13.22it/s]"
     ]
    },
    {
     "name": "stdout",
     "output_type": "stream",
     "text": [
      "--- Training --- [threshold, AUC] =  [np.float64(0.7), np.float64(0.971)]\n",
      "--- Iteration 200: Training loss --- [Data, Label, Total] = [9664.442216.3, 320.775425.3, 48642.986505.3]\n",
      "!!! pred_type filter\n"
     ]
    },
    {
     "name": "stderr",
     "output_type": "stream",
     "text": [
      " 84%|████████████████████████████████████████████████████████████████████████████████████████████████████▎                   | 209/250 [00:23<00:03, 10.37it/s]"
     ]
    },
    {
     "name": "stdout",
     "output_type": "stream",
     "text": [
      "--- Validation --- [threshold, AUC, Accuracy, F score] =  [np.float64(0.7), np.float64(0.971), np.float64(0.917), np.float64(0.932)]\n",
      "--- Training --- [threshold, AUC] =  [np.float64(0.702), np.float64(0.971)]\n",
      "--- Iteration 210: Training loss --- [Data, Label, Total] = [9649.760192.3, 320.499971.3, 48569.300931.3]\n",
      "!!! pred_type filter\n"
     ]
    },
    {
     "name": "stderr",
     "output_type": "stream",
     "text": [
      " 87%|████████████████████████████████████████████████████████████████████████████████████████████████████████▏               | 217/250 [00:24<00:03,  9.91it/s]"
     ]
    },
    {
     "name": "stdout",
     "output_type": "stream",
     "text": [
      "--- Validation --- [threshold, AUC, Accuracy, F score] =  [np.float64(0.702), np.float64(0.971), np.float64(0.917), np.float64(0.932)]\n",
      "--- Training --- [threshold, AUC] =  [np.float64(0.737), np.float64(0.971)]\n",
      "--- Iteration 220: Training loss --- [Data, Label, Total] = [9636.431315.3, 320.099028.3, 48502.255603.3]\n",
      "!!! pred_type filter\n"
     ]
    },
    {
     "name": "stderr",
     "output_type": "stream",
     "text": [
      " 90%|████████████████████████████████████████████████████████████████████████████████████████████████████████████▍           | 226/250 [00:25<00:02, 10.00it/s]"
     ]
    },
    {
     "name": "stdout",
     "output_type": "stream",
     "text": [
      "--- Validation --- [threshold, AUC, Accuracy, F score] =  [np.float64(0.737), np.float64(0.971), np.float64(0.912), np.float64(0.927)]\n",
      "--- Training --- [threshold, AUC] =  [np.float64(0.744), np.float64(0.971)]\n",
      "--- Iteration 230: Training loss --- [Data, Label, Total] = [9623.746985.3, 319.808701.3, 48438.543627.3]\n",
      "!!! pred_type filter\n"
     ]
    },
    {
     "name": "stderr",
     "output_type": "stream",
     "text": [
      " 94%|█████████████████████████████████████████████████████████████████████████████████████████████████████████████████▎      | 236/250 [00:26<00:01, 10.43it/s]"
     ]
    },
    {
     "name": "stdout",
     "output_type": "stream",
     "text": [
      "--- Validation --- [threshold, AUC, Accuracy, F score] =  [np.float64(0.744), np.float64(0.971), np.float64(0.911), np.float64(0.926)]\n",
      "--- Training --- [threshold, AUC] =  [np.float64(0.711), np.float64(0.971)]\n",
      "--- Iteration 240: Training loss --- [Data, Label, Total] = [9611.287410.3, 319.871880.3, 48376.308929.3]\n",
      "!!! pred_type filter\n"
     ]
    },
    {
     "name": "stderr",
     "output_type": "stream",
     "text": [
      "100%|████████████████████████████████████████████████████████████████████████████████████████████████████████████████████████| 250/250 [00:27<00:00,  9.00it/s]"
     ]
    },
    {
     "name": "stdout",
     "output_type": "stream",
     "text": [
      "--- Validation --- [threshold, AUC, Accuracy, F score] =  [np.float64(0.711), np.float64(0.971), np.float64(0.916), np.float64(0.931)]\n",
      "!!! pred_type filter\n"
     ]
    },
    {
     "name": "stderr",
     "output_type": "stream",
     "text": [
      "\n"
     ]
    },
    {
     "name": "stdout",
     "output_type": "stream",
     "text": [
      "num of subgraphs induced on k-paths: 500\n",
      "num of subgraphs induced on k-paths: 500\n",
      "X_list: (225, 1000)\n",
      "2\n",
      "(1, 500)\n",
      "(1, 500)\n",
      "label_vec: (1, 1000)\n",
      "('Caltech36', 'UCLA26') predicting Harvard1 0.8481143949409209\n",
      "\n",
      "3: 0.8778558372677772\n",
      "4: 0.8449298516548318\n",
      "5: 0.8328589202034812\n",
      "6: 0.8810722135926942\n",
      "7: 0.8300352574962108\n",
      "8: 0.8341847021951587\n",
      "9: 0.8194475467039469\n",
      "10: 0.8129617372639039\n",
      "11: 0.845638803372221\n",
      "12: 0.8369670343428398\n",
      "13: 0.8623456412356946\n",
      "14: 0.831572887805297\n",
      "15: 0.8408084132367011\n",
      "16: 0.8064638447237019\n",
      "17: 0.8287998330500281\n",
      "18: 0.8373152203303609\n",
      "19: 0.8276952327992096\n",
      "20: 0.8418126002700697\n",
      "21: 0.8454592943223044\n",
      "22: 0.844181117391187\n",
      "23: 0.8419497556991397\n",
      "24: 0.8333939205936771\n",
      "25: 0.819992628909854\n",
      "26: 0.8129853174398964\n",
      "27: 0.8291130598632306\n",
      "28: 0.8279831681480128\n",
      "29: 0.7997691799989031\n",
      "30: 0.8155019772056755\n",
      "31: 0.8481143949409209\n",
      "\n",
      "num of subgraphs induced on k-paths: 500\n",
      "num of subgraphs induced on k-paths: 500\n",
      "X_list: (225, 1000)\n",
      "2\n",
      "(1, 500)\n",
      "(1, 500)\n",
      "label_vec: (1, 1000)\n",
      "num of subgraphs induced on k-paths: 500\n",
      "num of subgraphs induced on k-paths: 840\n",
      "X_list: (225, 1340)\n",
      "2\n",
      "(1, 500)\n",
      "(1, 840)\n",
      "label_vec: (1, 1340)\n",
      "initial loading beta [[-0.45051178  0.00753933 -0.4439354   0.33465265 -0.74396758 -0.43311839\n",
      "  -0.22680729  0.6207195  -0.8834284  -0.36860353  0.91545538  0.68821359\n",
      "  -0.78439348  0.20430915  0.61729267 -0.33250417 -0.93712289 -0.25307519\n",
      "  -0.73794495  0.48511831 -0.05038198 -0.6713205   0.06451639 -0.4430797\n",
      "   0.58946809 -0.28948494 -0.0879005   0.61661078  0.33791599 -0.27470095\n",
      "   0.54149356  0.0414641   0.45709355]]\n"
     ]
    },
    {
     "name": "stderr",
     "output_type": "stream",
     "text": [
      "  0%|                                                                                                                                  | 0/250 [00:00<?, ?it/s]"
     ]
    },
    {
     "name": "stdout",
     "output_type": "stream",
     "text": [
      "--- Training --- [threshold, AUC] =  [np.float64(0.712), np.float64(0.97)]\n",
      "--- Iteration 0: Training loss --- [Data, Label, Total] = [36746.371810.3, 305.576117.3, 184037.435168.3]\n"
     ]
    },
    {
     "name": "stderr",
     "output_type": "stream",
     "text": [
      "  3%|███▉                                                                                                                      | 8/250 [00:00<00:06, 36.16it/s]"
     ]
    },
    {
     "name": "stdout",
     "output_type": "stream",
     "text": [
      "--- Training --- [threshold, AUC] =  [np.float64(0.739), np.float64(0.97)]\n",
      "--- Iteration 10: Training loss --- [Data, Label, Total] = [17135.685164.3, 304.988861.3, 85983.414682.3]\n",
      "!!! pred_type filter\n"
     ]
    },
    {
     "name": "stderr",
     "output_type": "stream",
     "text": [
      "  6%|███████▋                                                                                                                 | 16/250 [00:01<00:23,  9.83it/s]"
     ]
    },
    {
     "name": "stdout",
     "output_type": "stream",
     "text": [
      "--- Validation --- [threshold, AUC, Accuracy, F score] =  [np.float64(0.739), np.float64(0.97), np.float64(0.908), np.float64(0.924)]\n",
      "--- Training --- [threshold, AUC] =  [np.float64(0.705), np.float64(0.971)]\n",
      "--- Iteration 20: Training loss --- [Data, Label, Total] = [14800.207938.3, 301.490243.3, 74302.529932.3]\n",
      "!!! pred_type filter\n"
     ]
    },
    {
     "name": "stderr",
     "output_type": "stream",
     "text": [
      " 11%|█████████████                                                                                                            | 27/250 [00:02<00:22, 10.06it/s]"
     ]
    },
    {
     "name": "stdout",
     "output_type": "stream",
     "text": [
      "--- Validation --- [threshold, AUC, Accuracy, F score] =  [np.float64(0.705), np.float64(0.971), np.float64(0.912), np.float64(0.927)]\n",
      "--- Training --- [threshold, AUC] =  [np.float64(0.68), np.float64(0.971)]\n",
      "--- Iteration 30: Training loss --- [Data, Label, Total] = [13577.213848.3, 302.662259.3, 68188.731498.3]\n",
      "!!! pred_type filter\n"
     ]
    },
    {
     "name": "stderr",
     "output_type": "stream",
     "text": [
      " 14%|█████████████████▍                                                                                                       | 36/250 [00:03<00:22,  9.67it/s]"
     ]
    },
    {
     "name": "stdout",
     "output_type": "stream",
     "text": [
      "--- Validation --- [threshold, AUC, Accuracy, F score] =  [np.float64(0.68), np.float64(0.971), np.float64(0.913), np.float64(0.929)]\n",
      "--- Training --- [threshold, AUC] =  [np.float64(0.653), np.float64(0.971)]\n",
      "--- Iteration 40: Training loss --- [Data, Label, Total] = [12772.432745.3, 303.979921.3, 64166.143648.3]\n",
      "!!! pred_type filter\n"
     ]
    },
    {
     "name": "stderr",
     "output_type": "stream",
     "text": [
      " 19%|██████████████████████▋                                                                                                  | 47/250 [00:05<00:19, 10.39it/s]"
     ]
    },
    {
     "name": "stdout",
     "output_type": "stream",
     "text": [
      "--- Validation --- [threshold, AUC, Accuracy, F score] =  [np.float64(0.653), np.float64(0.971), np.float64(0.916), np.float64(0.932)]\n",
      "--- Training --- [threshold, AUC] =  [np.float64(0.642), np.float64(0.971)]\n",
      "--- Iteration 50: Training loss --- [Data, Label, Total] = [12134.304143.3, 305.296393.3, 60976.817108.3]\n",
      "!!! pred_type filter\n"
     ]
    },
    {
     "name": "stderr",
     "output_type": "stream",
     "text": [
      " 22%|██████████████████████████▏                                                                                              | 54/250 [00:06<00:23,  8.45it/s]"
     ]
    },
    {
     "name": "stdout",
     "output_type": "stream",
     "text": [
      "--- Validation --- [threshold, AUC, Accuracy, F score] =  [np.float64(0.642), np.float64(0.971), np.float64(0.919), np.float64(0.934)]\n"
     ]
    },
    {
     "name": "stderr",
     "output_type": "stream",
     "text": [
      " 24%|█████████████████████████████                                                                                            | 60/250 [00:06<00:15, 12.35it/s]"
     ]
    },
    {
     "name": "stdout",
     "output_type": "stream",
     "text": [
      "--- Training --- [threshold, AUC] =  [np.float64(0.65), np.float64(0.971)]\n",
      "--- Iteration 60: Training loss --- [Data, Label, Total] = [11614.461154.3, 306.220700.3, 58378.526472.3]\n",
      "!!! pred_type filter\n"
     ]
    },
    {
     "name": "stderr",
     "output_type": "stream",
     "text": [
      " 28%|█████████████████████████████████▉                                                                                       | 70/250 [00:07<00:16, 11.13it/s]"
     ]
    },
    {
     "name": "stdout",
     "output_type": "stream",
     "text": [
      "--- Validation --- [threshold, AUC, Accuracy, F score] =  [np.float64(0.65), np.float64(0.971), np.float64(0.918), np.float64(0.933)]\n",
      "--- Training --- [threshold, AUC] =  [np.float64(0.68), np.float64(0.971)]\n",
      "--- Iteration 70: Training loss --- [Data, Label, Total] = [11201.978754.3, 306.758462.3, 56316.652232.3]\n",
      "!!! pred_type filter\n"
     ]
    },
    {
     "name": "stderr",
     "output_type": "stream",
     "text": [
      " 32%|██████████████████████████████████████▋                                                                                  | 80/250 [00:08<00:15, 10.92it/s]"
     ]
    },
    {
     "name": "stdout",
     "output_type": "stream",
     "text": [
      "--- Validation --- [threshold, AUC, Accuracy, F score] =  [np.float64(0.68), np.float64(0.971), np.float64(0.916), np.float64(0.931)]\n",
      "--- Training --- [threshold, AUC] =  [np.float64(0.705), np.float64(0.971)]\n",
      "--- Iteration 80: Training loss --- [Data, Label, Total] = [10882.587583.3, 306.785056.3, 54719.722973.3]\n",
      "!!! pred_type filter\n"
     ]
    },
    {
     "name": "stderr",
     "output_type": "stream",
     "text": [
      " 36%|███████████████████████████████████████████▌                                                                             | 90/250 [00:09<00:14, 10.79it/s]"
     ]
    },
    {
     "name": "stdout",
     "output_type": "stream",
     "text": [
      "--- Validation --- [threshold, AUC, Accuracy, F score] =  [np.float64(0.705), np.float64(0.971), np.float64(0.914), np.float64(0.929)]\n",
      "--- Training --- [threshold, AUC] =  [np.float64(0.687), np.float64(0.972)]\n",
      "--- Iteration 90: Training loss --- [Data, Label, Total] = [10642.732207.3, 306.753275.3, 53520.414308.3]\n",
      "!!! pred_type filter\n"
     ]
    },
    {
     "name": "stderr",
     "output_type": "stream",
     "text": [
      " 40%|███████████████████████████████████████████████▉                                                                         | 99/250 [00:11<00:15,  9.99it/s]"
     ]
    },
    {
     "name": "stdout",
     "output_type": "stream",
     "text": [
      "--- Validation --- [threshold, AUC, Accuracy, F score] =  [np.float64(0.687), np.float64(0.972), np.float64(0.916), np.float64(0.931)]\n",
      "--- Training --- [threshold, AUC] =  [np.float64(0.714), np.float64(0.972)]\n",
      "--- Iteration 100: Training loss --- [Data, Label, Total] = [10461.891632.3, 306.372142.3, 52615.830300.3]\n",
      "!!! pred_type filter\n"
     ]
    },
    {
     "name": "stderr",
     "output_type": "stream",
     "text": [
      " 44%|████████████████████████████████████████████████████▎                                                                   | 109/250 [00:12<00:13, 10.09it/s]"
     ]
    },
    {
     "name": "stdout",
     "output_type": "stream",
     "text": [
      "--- Validation --- [threshold, AUC, Accuracy, F score] =  [np.float64(0.714), np.float64(0.972), np.float64(0.914), np.float64(0.929)]\n",
      "--- Training --- [threshold, AUC] =  [np.float64(0.648), np.float64(0.972)]\n",
      "--- Iteration 110: Training loss --- [Data, Label, Total] = [10318.005402.3, 306.352690.3, 51896.379699.3]\n",
      "!!! pred_type filter\n"
     ]
    },
    {
     "name": "stderr",
     "output_type": "stream",
     "text": [
      " 48%|█████████████████████████████████████████████████████████                                                               | 119/250 [00:13<00:12, 10.32it/s]"
     ]
    },
    {
     "name": "stdout",
     "output_type": "stream",
     "text": [
      "--- Validation --- [threshold, AUC, Accuracy, F score] =  [np.float64(0.648), np.float64(0.972), np.float64(0.922), np.float64(0.937)]\n",
      "--- Training --- [threshold, AUC] =  [np.float64(0.652), np.float64(0.973)]\n",
      "--- Iteration 120: Training loss --- [Data, Label, Total] = [10198.454005.3, 305.850903.3, 51298.120929.3]\n",
      "!!! pred_type filter\n"
     ]
    },
    {
     "name": "stderr",
     "output_type": "stream",
     "text": [
      " 51%|█████████████████████████████████████████████████████████████▍                                                          | 128/250 [00:14<00:12,  9.90it/s]"
     ]
    },
    {
     "name": "stdout",
     "output_type": "stream",
     "text": [
      "--- Validation --- [threshold, AUC, Accuracy, F score] =  [np.float64(0.652), np.float64(0.973), np.float64(0.922), np.float64(0.937)]\n",
      "--- Training --- [threshold, AUC] =  [np.float64(0.645), np.float64(0.973)]\n",
      "--- Iteration 130: Training loss --- [Data, Label, Total] = [10098.037140.3, 305.154701.3, 50795.340399.3]\n",
      "!!! pred_type filter\n"
     ]
    },
    {
     "name": "stderr",
     "output_type": "stream",
     "text": [
      " 55%|██████████████████████████████████████████████████████████████████▏                                                     | 138/250 [00:15<00:10, 10.29it/s]"
     ]
    },
    {
     "name": "stdout",
     "output_type": "stream",
     "text": [
      "--- Validation --- [threshold, AUC, Accuracy, F score] =  [np.float64(0.645), np.float64(0.973), np.float64(0.923), np.float64(0.938)]\n",
      "--- Training --- [threshold, AUC] =  [np.float64(0.644), np.float64(0.973)]\n",
      "--- Iteration 140: Training loss --- [Data, Label, Total] = [10015.523112.3, 304.813060.3, 50382.428618.3]\n",
      "!!! pred_type filter\n"
     ]
    },
    {
     "name": "stderr",
     "output_type": "stream",
     "text": [
      " 58%|██████████████████████████████████████████████████████████████████████                                                  | 146/250 [00:16<00:11,  9.00it/s]"
     ]
    },
    {
     "name": "stdout",
     "output_type": "stream",
     "text": [
      "--- Validation --- [threshold, AUC, Accuracy, F score] =  [np.float64(0.644), np.float64(0.973), np.float64(0.923), np.float64(0.938)]\n"
     ]
    },
    {
     "name": "stderr",
     "output_type": "stream",
     "text": [
      " 60%|███████████████████████████████████████████████████████████████████████▌                                                | 149/250 [00:16<00:09, 10.44it/s]"
     ]
    },
    {
     "name": "stdout",
     "output_type": "stream",
     "text": [
      "--- Training --- [threshold, AUC] =  [np.float64(0.67), np.float64(0.973)]\n",
      "--- Iteration 150: Training loss --- [Data, Label, Total] = [9949.687399.3, 304.338446.3, 50052.775443.3]\n",
      "!!! pred_type filter\n"
     ]
    },
    {
     "name": "stderr",
     "output_type": "stream",
     "text": [
      " 63%|███████████████████████████████████████████████████████████████████████████▎                                            | 157/250 [00:18<00:10,  9.00it/s]"
     ]
    },
    {
     "name": "stdout",
     "output_type": "stream",
     "text": [
      "--- Validation --- [threshold, AUC, Accuracy, F score] =  [np.float64(0.67), np.float64(0.973), np.float64(0.921), np.float64(0.935)]\n",
      "--- Training --- [threshold, AUC] =  [np.float64(0.661), np.float64(0.973)]\n",
      "--- Iteration 160: Training loss --- [Data, Label, Total] = [9897.196784.3, 304.047494.3, 49790.031416.3]\n",
      "!!! pred_type filter\n"
     ]
    },
    {
     "name": "stderr",
     "output_type": "stream",
     "text": [
      " 66%|███████████████████████████████████████████████████████████████████████████████▋                                        | 166/250 [00:19<00:09,  9.27it/s]"
     ]
    },
    {
     "name": "stdout",
     "output_type": "stream",
     "text": [
      "--- Validation --- [threshold, AUC, Accuracy, F score] =  [np.float64(0.661), np.float64(0.973), np.float64(0.922), np.float64(0.937)]\n",
      "--- Training --- [threshold, AUC] =  [np.float64(0.664), np.float64(0.974)]\n",
      "--- Iteration 170: Training loss --- [Data, Label, Total] = [9854.438526.3, 303.438187.3, 49575.630816.3]\n",
      "!!! pred_type filter\n"
     ]
    },
    {
     "name": "stderr",
     "output_type": "stream",
     "text": [
      " 71%|████████████████████████████████████████████████████████████████████████████████████▉                                   | 177/250 [00:20<00:07, 10.29it/s]"
     ]
    },
    {
     "name": "stdout",
     "output_type": "stream",
     "text": [
      "--- Validation --- [threshold, AUC, Accuracy, F score] =  [np.float64(0.664), np.float64(0.974), np.float64(0.923), np.float64(0.937)]\n",
      "--- Training --- [threshold, AUC] =  [np.float64(0.668), np.float64(0.974)]\n",
      "--- Iteration 180: Training loss --- [Data, Label, Total] = [9817.949390.3, 303.428726.3, 49393.175677.3]\n",
      "!!! pred_type filter\n"
     ]
    },
    {
     "name": "stderr",
     "output_type": "stream",
     "text": [
      " 74%|████████████████████████████████████████████████████████████████████████████████████████▎                               | 184/250 [00:21<00:08,  8.20it/s]"
     ]
    },
    {
     "name": "stdout",
     "output_type": "stream",
     "text": [
      "--- Validation --- [threshold, AUC, Accuracy, F score] =  [np.float64(0.668), np.float64(0.974), np.float64(0.922), np.float64(0.937)]\n"
     ]
    },
    {
     "name": "stderr",
     "output_type": "stream",
     "text": [
      " 75%|██████████████████████████████████████████████████████████████████████████████████████████▏                             | 188/250 [00:21<00:05, 10.57it/s]"
     ]
    },
    {
     "name": "stdout",
     "output_type": "stream",
     "text": [
      "--- Training --- [threshold, AUC] =  [np.float64(0.655), np.float64(0.974)]\n",
      "--- Iteration 190: Training loss --- [Data, Label, Total] = [9785.636754.3, 303.009635.3, 49231.193405.3]\n",
      "!!! pred_type filter\n"
     ]
    },
    {
     "name": "stderr",
     "output_type": "stream",
     "text": [
      " 78%|██████████████████████████████████████████████████████████████████████████████████████████████                          | 196/250 [00:22<00:05,  9.38it/s]"
     ]
    },
    {
     "name": "stdout",
     "output_type": "stream",
     "text": [
      "--- Validation --- [threshold, AUC, Accuracy, F score] =  [np.float64(0.655), np.float64(0.974), np.float64(0.923), np.float64(0.938)]\n",
      "--- Training --- [threshold, AUC] =  [np.float64(0.677), np.float64(0.974)]\n",
      "--- Iteration 200: Training loss --- [Data, Label, Total] = [9757.082639.3, 302.602462.3, 49088.015657.3]\n",
      "!!! pred_type filter\n"
     ]
    },
    {
     "name": "stderr",
     "output_type": "stream",
     "text": [
      " 82%|██████████████████████████████████████████████████████████████████████████████████████████████████▉                     | 206/250 [00:24<00:04,  9.78it/s]"
     ]
    },
    {
     "name": "stdout",
     "output_type": "stream",
     "text": [
      "--- Validation --- [threshold, AUC, Accuracy, F score] =  [np.float64(0.677), np.float64(0.974), np.float64(0.922), np.float64(0.936)]\n"
     ]
    },
    {
     "name": "stderr",
     "output_type": "stream",
     "text": [
      " 84%|████████████████████████████████████████████████████████████████████████████████████████████████████▊                   | 210/250 [00:24<00:03, 12.18it/s]"
     ]
    },
    {
     "name": "stdout",
     "output_type": "stream",
     "text": [
      "--- Training --- [threshold, AUC] =  [np.float64(0.676), np.float64(0.974)]\n",
      "--- Iteration 210: Training loss --- [Data, Label, Total] = [9731.805069.3, 302.204466.3, 48961.229810.3]\n",
      "!!! pred_type filter\n"
     ]
    },
    {
     "name": "stderr",
     "output_type": "stream",
     "text": [
      " 88%|█████████████████████████████████████████████████████████████████████████████████████████████████████████▌              | 220/250 [00:25<00:02, 11.20it/s]"
     ]
    },
    {
     "name": "stdout",
     "output_type": "stream",
     "text": [
      "--- Validation --- [threshold, AUC, Accuracy, F score] =  [np.float64(0.676), np.float64(0.974), np.float64(0.922), np.float64(0.937)]\n",
      "--- Training --- [threshold, AUC] =  [np.float64(0.673), np.float64(0.974)]\n",
      "--- Iteration 220: Training loss --- [Data, Label, Total] = [9709.741129.3, 301.977083.3, 48850.682730.3]\n",
      "!!! pred_type filter\n"
     ]
    },
    {
     "name": "stderr",
     "output_type": "stream",
     "text": [
      " 92%|█████████████████████████████████████████████████████████████████████████████████████████████████████████████▉          | 229/250 [00:26<00:02, 10.19it/s]"
     ]
    },
    {
     "name": "stdout",
     "output_type": "stream",
     "text": [
      "--- Validation --- [threshold, AUC, Accuracy, F score] =  [np.float64(0.673), np.float64(0.974), np.float64(0.922), np.float64(0.936)]\n",
      "--- Training --- [threshold, AUC] =  [np.float64(0.657), np.float64(0.974)]\n",
      "--- Iteration 230: Training loss --- [Data, Label, Total] = [9690.842419.3, 301.790209.3, 48756.002306.3]\n",
      "!!! pred_type filter\n"
     ]
    },
    {
     "name": "stderr",
     "output_type": "stream",
     "text": [
      " 95%|██████████████████████████████████████████████████████████████████████████████████████████████████████████████████▏     | 238/250 [00:27<00:01,  9.10it/s]"
     ]
    },
    {
     "name": "stdout",
     "output_type": "stream",
     "text": [
      "--- Validation --- [threshold, AUC, Accuracy, F score] =  [np.float64(0.657), np.float64(0.974), np.float64(0.922), np.float64(0.937)]\n",
      "--- Training --- [threshold, AUC] =  [np.float64(0.67), np.float64(0.974)]\n",
      "--- Iteration 240: Training loss --- [Data, Label, Total] = [9674.605780.3, 301.573171.3, 48674.602070.3]\n",
      "!!! pred_type filter\n"
     ]
    },
    {
     "name": "stderr",
     "output_type": "stream",
     "text": [
      "100%|████████████████████████████████████████████████████████████████████████████████████████████████████████████████████████| 250/250 [00:29<00:00,  8.61it/s]"
     ]
    },
    {
     "name": "stdout",
     "output_type": "stream",
     "text": [
      "--- Validation --- [threshold, AUC, Accuracy, F score] =  [np.float64(0.67), np.float64(0.974), np.float64(0.921), np.float64(0.936)]\n",
      "!!! pred_type filter\n"
     ]
    },
    {
     "name": "stderr",
     "output_type": "stream",
     "text": [
      "\n"
     ]
    },
    {
     "name": "stdout",
     "output_type": "stream",
     "text": [
      "num of subgraphs induced on k-paths: 500\n",
      "num of subgraphs induced on k-paths: 500\n",
      "X_list: (225, 1000)\n",
      "2\n",
      "(1, 500)\n",
      "(1, 500)\n",
      "label_vec: (1, 1000)\n",
      "('Caltech36', 'UCLA26') predicting Harvard1 0.8332093764725429\n",
      "\n",
      "3: 0.8778558372677772\n",
      "4: 0.8449298516548318\n",
      "5: 0.8328589202034812\n",
      "6: 0.8810722135926942\n",
      "7: 0.8300352574962108\n",
      "8: 0.8341847021951587\n",
      "9: 0.8194475467039469\n",
      "10: 0.8129617372639039\n",
      "11: 0.845638803372221\n",
      "12: 0.8369670343428398\n",
      "13: 0.8623456412356946\n",
      "14: 0.831572887805297\n",
      "15: 0.8408084132367011\n",
      "16: 0.8064638447237019\n",
      "17: 0.8287998330500281\n",
      "18: 0.8373152203303609\n",
      "19: 0.8276952327992096\n",
      "20: 0.8418126002700697\n",
      "21: 0.8454592943223044\n",
      "22: 0.844181117391187\n",
      "23: 0.8419497556991397\n",
      "24: 0.8333939205936771\n",
      "25: 0.819992628909854\n",
      "26: 0.8129853174398964\n",
      "27: 0.8291130598632306\n",
      "28: 0.8279831681480128\n",
      "29: 0.7997691799989031\n",
      "30: 0.8155019772056755\n",
      "31: 0.8481143949409209\n",
      "32: 0.8332093764725429\n",
      "\n",
      "num of subgraphs induced on k-paths: 500\n",
      "num of subgraphs induced on k-paths: 500\n",
      "X_list: (225, 1000)\n",
      "2\n",
      "(1, 500)\n",
      "(1, 500)\n",
      "label_vec: (1, 1000)\n",
      "num of subgraphs induced on k-paths: 500\n",
      "num of subgraphs induced on k-paths: 872\n",
      "X_list: (225, 1372)\n",
      "2\n",
      "(1, 500)\n",
      "(1, 872)\n",
      "label_vec: (1, 1372)\n",
      "initial loading beta [[-0.4281737  -0.8067389   0.92865821 -0.94592209 -0.49591114  0.20558407\n",
      "   0.21362007  0.78747145  0.809069    0.58324656  0.55026089 -0.73263389\n",
      "   0.6358475  -0.62345579  0.56388937  0.7628701  -0.42889364 -0.18814166\n",
      "  -0.88649847  0.00560388 -0.64946672 -0.62935511 -0.00779061  0.27611592\n",
      "  -0.77777589  0.25633259 -0.57895167 -0.51817749 -0.16145494 -0.41951889\n",
      "  -0.04325238  0.01155978  0.21060304 -0.87468297]]\n"
     ]
    },
    {
     "name": "stderr",
     "output_type": "stream",
     "text": [
      "  2%|█▉                                                                                                                        | 4/250 [00:00<00:06, 36.85it/s]"
     ]
    },
    {
     "name": "stdout",
     "output_type": "stream",
     "text": [
      "--- Training --- [threshold, AUC] =  [np.float64(0.67), np.float64(0.967)]\n",
      "--- Iteration 0: Training loss --- [Data, Label, Total] = [37995.016994.3, 331.690373.3, 190306.775341.3]\n"
     ]
    },
    {
     "name": "stderr",
     "output_type": "stream",
     "text": [
      "  3%|███▉                                                                                                                      | 8/250 [00:00<00:06, 35.91it/s]"
     ]
    },
    {
     "name": "stdout",
     "output_type": "stream",
     "text": [
      "--- Training --- [threshold, AUC] =  [np.float64(0.71), np.float64(0.968)]\n",
      "--- Iteration 10: Training loss --- [Data, Label, Total] = [17444.348816.3, 323.198890.3, 87544.942968.3]\n",
      "!!! pred_type filter\n"
     ]
    },
    {
     "name": "stderr",
     "output_type": "stream",
     "text": [
      "  7%|████████▏                                                                                                                | 17/250 [00:01<00:23, 10.12it/s]"
     ]
    },
    {
     "name": "stdout",
     "output_type": "stream",
     "text": [
      "--- Validation --- [threshold, AUC, Accuracy, F score] =  [np.float64(0.71), np.float64(0.968), np.float64(0.914), np.float64(0.931)]\n",
      "--- Training --- [threshold, AUC] =  [np.float64(0.75), np.float64(0.97)]\n",
      "--- Iteration 20: Training loss --- [Data, Label, Total] = [14550.059701.3, 316.987327.3, 73067.285830.3]\n",
      "!!! pred_type filter\n"
     ]
    },
    {
     "name": "stderr",
     "output_type": "stream",
     "text": [
      " 10%|████████████▌                                                                                                            | 26/250 [00:02<00:23,  9.41it/s]"
     ]
    },
    {
     "name": "stdout",
     "output_type": "stream",
     "text": [
      "--- Validation --- [threshold, AUC, Accuracy, F score] =  [np.float64(0.75), np.float64(0.97), np.float64(0.91), np.float64(0.927)]\n",
      "--- Training --- [threshold, AUC] =  [np.float64(0.694), np.float64(0.971)]\n",
      "--- Iteration 30: Training loss --- [Data, Label, Total] = [12909.992600.3, 315.536514.3, 64865.499513.3]\n",
      "!!! pred_type filter\n"
     ]
    },
    {
     "name": "stderr",
     "output_type": "stream",
     "text": [
      " 14%|█████████████████▍                                                                                                       | 36/250 [00:03<00:22,  9.63it/s]"
     ]
    },
    {
     "name": "stdout",
     "output_type": "stream",
     "text": [
      "--- Validation --- [threshold, AUC, Accuracy, F score] =  [np.float64(0.694), np.float64(0.971), np.float64(0.918), np.float64(0.934)]\n",
      "--- Training --- [threshold, AUC] =  [np.float64(0.658), np.float64(0.971)]\n",
      "--- Iteration 40: Training loss --- [Data, Label, Total] = [11941.907433.3, 316.318726.3, 60025.855889.3]\n",
      "!!! pred_type filter\n"
     ]
    },
    {
     "name": "stderr",
     "output_type": "stream",
     "text": [
      " 18%|█████████████████████▊                                                                                                   | 45/250 [00:05<00:22,  9.19it/s]"
     ]
    },
    {
     "name": "stdout",
     "output_type": "stream",
     "text": [
      "--- Validation --- [threshold, AUC, Accuracy, F score] =  [np.float64(0.658), np.float64(0.971), np.float64(0.921), np.float64(0.937)]\n"
     ]
    },
    {
     "name": "stderr",
     "output_type": "stream",
     "text": [
      " 20%|███████████████████████▋                                                                                                 | 49/250 [00:05<00:17, 11.57it/s]"
     ]
    },
    {
     "name": "stdout",
     "output_type": "stream",
     "text": [
      "--- Training --- [threshold, AUC] =  [np.float64(0.649), np.float64(0.972)]\n",
      "--- Iteration 50: Training loss --- [Data, Label, Total] = [11367.529985.3, 317.531077.3, 57155.181000.3]\n",
      "!!! pred_type filter\n"
     ]
    },
    {
     "name": "stderr",
     "output_type": "stream",
     "text": [
      " 23%|███████████████████████████▌                                                                                             | 57/250 [00:06<00:21,  8.99it/s]"
     ]
    },
    {
     "name": "stdout",
     "output_type": "stream",
     "text": [
      "--- Validation --- [threshold, AUC, Accuracy, F score] =  [np.float64(0.649), np.float64(0.972), np.float64(0.923), np.float64(0.939)]\n",
      "--- Training --- [threshold, AUC] =  [np.float64(0.662), np.float64(0.972)]\n",
      "--- Iteration 60: Training loss --- [Data, Label, Total] = [11000.926773.3, 318.394392.3, 55323.028258.3]\n",
      "!!! pred_type filter\n"
     ]
    },
    {
     "name": "stderr",
     "output_type": "stream",
     "text": [
      " 26%|███████████████████████████████▉                                                                                         | 66/250 [00:07<00:20,  9.08it/s]"
     ]
    },
    {
     "name": "stdout",
     "output_type": "stream",
     "text": [
      "--- Validation --- [threshold, AUC, Accuracy, F score] =  [np.float64(0.662), np.float64(0.972), np.float64(0.923), np.float64(0.939)]\n",
      "--- Training --- [threshold, AUC] =  [np.float64(0.662), np.float64(0.972)]\n",
      "--- Iteration 70: Training loss --- [Data, Label, Total] = [10752.148095.3, 319.216042.3, 54079.956518.3]\n",
      "!!! pred_type filter\n"
     ]
    },
    {
     "name": "stderr",
     "output_type": "stream",
     "text": [
      " 30%|████████████████████████████████████▊                                                                                    | 76/250 [00:08<00:18,  9.54it/s]"
     ]
    },
    {
     "name": "stdout",
     "output_type": "stream",
     "text": [
      "--- Validation --- [threshold, AUC, Accuracy, F score] =  [np.float64(0.662), np.float64(0.972), np.float64(0.922), np.float64(0.938)]\n"
     ]
    },
    {
     "name": "stderr",
     "output_type": "stream",
     "text": [
      " 32%|██████████████████████████████████████▏                                                                                  | 79/250 [00:09<00:15, 11.02it/s]"
     ]
    },
    {
     "name": "stdout",
     "output_type": "stream",
     "text": [
      "--- Training --- [threshold, AUC] =  [np.float64(0.71), np.float64(0.972)]\n",
      "--- Iteration 80: Training loss --- [Data, Label, Total] = [10564.650908.3, 319.803110.3, 53143.057650.3]\n",
      "!!! pred_type filter\n"
     ]
    },
    {
     "name": "stderr",
     "output_type": "stream",
     "text": [
      " 34%|█████████████████████████████████████████▌                                                                               | 86/250 [00:10<00:18,  8.94it/s]"
     ]
    },
    {
     "name": "stdout",
     "output_type": "stream",
     "text": [
      "--- Validation --- [threshold, AUC, Accuracy, F score] =  [np.float64(0.71), np.float64(0.972), np.float64(0.918), np.float64(0.934)]\n"
     ]
    },
    {
     "name": "stderr",
     "output_type": "stream",
     "text": [
      " 36%|███████████████████████████████████████████▌                                                                             | 90/250 [00:10<00:13, 11.55it/s]"
     ]
    },
    {
     "name": "stdout",
     "output_type": "stream",
     "text": [
      "--- Training --- [threshold, AUC] =  [np.float64(0.706), np.float64(0.972)]\n",
      "--- Iteration 90: Training loss --- [Data, Label, Total] = [10407.468154.3, 320.654513.3, 52357.995284.3]\n",
      "!!! pred_type filter\n"
     ]
    },
    {
     "name": "stderr",
     "output_type": "stream",
     "text": [
      " 39%|███████████████████████████████████████████████▍                                                                         | 98/250 [00:11<00:16,  9.22it/s]"
     ]
    },
    {
     "name": "stdout",
     "output_type": "stream",
     "text": [
      "--- Validation --- [threshold, AUC, Accuracy, F score] =  [np.float64(0.706), np.float64(0.972), np.float64(0.919), np.float64(0.935)]\n",
      "--- Training --- [threshold, AUC] =  [np.float64(0.711), np.float64(0.972)]\n",
      "--- Iteration 100: Training loss --- [Data, Label, Total] = [10269.281422.3, 320.761101.3, 51667.168211.3]\n",
      "!!! pred_type filter\n"
     ]
    },
    {
     "name": "stderr",
     "output_type": "stream",
     "text": [
      " 42%|██████████████████████████████████████████████████▉                                                                     | 106/250 [00:12<00:16,  8.83it/s]"
     ]
    },
    {
     "name": "stdout",
     "output_type": "stream",
     "text": [
      "--- Validation --- [threshold, AUC, Accuracy, F score] =  [np.float64(0.711), np.float64(0.972), np.float64(0.918), np.float64(0.934)]\n",
      "--- Training --- [threshold, AUC] =  [np.float64(0.714), np.float64(0.972)]\n",
      "--- Iteration 110: Training loss --- [Data, Label, Total] = [10148.129750.3, 320.730611.3, 51061.379360.3]\n",
      "!!! pred_type filter\n"
     ]
    },
    {
     "name": "stderr",
     "output_type": "stream",
     "text": [
      " 46%|███████████████████████████████████████████████████████▋                                                                | 116/250 [00:13<00:14,  9.44it/s]"
     ]
    },
    {
     "name": "stdout",
     "output_type": "stream",
     "text": [
      "--- Validation --- [threshold, AUC, Accuracy, F score] =  [np.float64(0.714), np.float64(0.972), np.float64(0.92), np.float64(0.935)]\n",
      "--- Training --- [threshold, AUC] =  [np.float64(0.716), np.float64(0.972)]\n",
      "--- Iteration 120: Training loss --- [Data, Label, Total] = [10044.692605.3, 321.102158.3, 50544.565184.3]\n",
      "!!! pred_type filter\n"
     ]
    },
    {
     "name": "stderr",
     "output_type": "stream",
     "text": [
      " 50%|████████████████████████████████████████████████████████████▍                                                           | 126/250 [00:15<00:12,  9.77it/s]"
     ]
    },
    {
     "name": "stdout",
     "output_type": "stream",
     "text": [
      "--- Validation --- [threshold, AUC, Accuracy, F score] =  [np.float64(0.716), np.float64(0.972), np.float64(0.92), np.float64(0.935)]\n",
      "--- Training --- [threshold, AUC] =  [np.float64(0.717), np.float64(0.972)]\n",
      "--- Iteration 130: Training loss --- [Data, Label, Total] = [9959.578181.3, 320.503646.3, 50118.394553.3]\n",
      "!!! pred_type filter\n"
     ]
    },
    {
     "name": "stderr",
     "output_type": "stream",
     "text": [
      " 54%|████████████████████████████████████████████████████████████████▊                                                       | 135/250 [00:16<00:13,  8.42it/s]"
     ]
    },
    {
     "name": "stdout",
     "output_type": "stream",
     "text": [
      "--- Validation --- [threshold, AUC, Accuracy, F score] =  [np.float64(0.717), np.float64(0.972), np.float64(0.921), np.float64(0.936)]\n"
     ]
    },
    {
     "name": "stderr",
     "output_type": "stream",
     "text": [
      " 56%|███████████████████████████████████████████████████████████████████▏                                                    | 140/250 [00:16<00:09, 11.26it/s]"
     ]
    },
    {
     "name": "stdout",
     "output_type": "stream",
     "text": [
      "--- Training --- [threshold, AUC] =  [np.float64(0.717), np.float64(0.972)]\n",
      "--- Iteration 140: Training loss --- [Data, Label, Total] = [9891.190916.3, 320.389110.3, 49776.343692.3]\n",
      "!!! pred_type filter\n"
     ]
    },
    {
     "name": "stderr",
     "output_type": "stream",
     "text": [
      " 59%|███████████████████████████████████████████████████████████████████████                                                 | 148/250 [00:17<00:11,  9.22it/s]"
     ]
    },
    {
     "name": "stdout",
     "output_type": "stream",
     "text": [
      "--- Validation --- [threshold, AUC, Accuracy, F score] =  [np.float64(0.717), np.float64(0.972), np.float64(0.919), np.float64(0.935)]\n",
      "--- Training --- [threshold, AUC] =  [np.float64(0.708), np.float64(0.972)]\n",
      "--- Iteration 150: Training loss --- [Data, Label, Total] = [9835.513331.3, 320.655222.3, 49498.221875.3]\n",
      "!!! pred_type filter\n"
     ]
    },
    {
     "name": "stderr",
     "output_type": "stream",
     "text": [
      " 62%|█████████████████████████████████████████████████████████████████████████▉                                              | 154/250 [00:19<00:14,  6.72it/s]"
     ]
    },
    {
     "name": "stdout",
     "output_type": "stream",
     "text": [
      "--- Validation --- [threshold, AUC, Accuracy, F score] =  [np.float64(0.708), np.float64(0.972), np.float64(0.921), np.float64(0.936)]\n"
     ]
    },
    {
     "name": "stderr",
     "output_type": "stream",
     "text": [
      " 63%|███████████████████████████████████████████████████████████████████████████▎                                            | 157/250 [00:19<00:11,  8.40it/s]"
     ]
    },
    {
     "name": "stdout",
     "output_type": "stream",
     "text": [
      "--- Training --- [threshold, AUC] =  [np.float64(0.691), np.float64(0.972)]\n",
      "--- Iteration 160: Training loss --- [Data, Label, Total] = [9788.644652.3, 320.238462.3, 49263.461720.3]\n",
      "!!! pred_type filter\n"
     ]
    },
    {
     "name": "stderr",
     "output_type": "stream",
     "text": [
      " 66%|██████████████████████████████████████████████████████████████████████████████▋                                         | 164/250 [00:20<00:13,  6.55it/s]"
     ]
    },
    {
     "name": "stdout",
     "output_type": "stream",
     "text": [
      "--- Validation --- [threshold, AUC, Accuracy, F score] =  [np.float64(0.691), np.float64(0.972), np.float64(0.923), np.float64(0.939)]\n"
     ]
    },
    {
     "name": "stderr",
     "output_type": "stream",
     "text": [
      " 68%|█████████████████████████████████████████████████████████████████████████████████▌                                      | 170/250 [00:21<00:07, 10.17it/s]"
     ]
    },
    {
     "name": "stdout",
     "output_type": "stream",
     "text": [
      "--- Training --- [threshold, AUC] =  [np.float64(0.708), np.float64(0.972)]\n",
      "--- Iteration 170: Training loss --- [Data, Label, Total] = [9747.835416.3, 319.977116.3, 49059.154195.3]\n",
      "!!! pred_type filter\n"
     ]
    },
    {
     "name": "stderr",
     "output_type": "stream",
     "text": [
      " 71%|█████████████████████████████████████████████████████████████████████████████████████▍                                  | 178/250 [00:22<00:08,  8.32it/s]"
     ]
    },
    {
     "name": "stdout",
     "output_type": "stream",
     "text": [
      "--- Validation --- [threshold, AUC, Accuracy, F score] =  [np.float64(0.708), np.float64(0.972), np.float64(0.921), np.float64(0.937)]\n",
      "--- Training --- [threshold, AUC] =  [np.float64(0.684), np.float64(0.972)]\n",
      "--- Iteration 180: Training loss --- [Data, Label, Total] = [9710.238928.3, 320.164715.3, 48871.359356.3]\n",
      "!!! pred_type filter\n"
     ]
    },
    {
     "name": "stderr",
     "output_type": "stream",
     "text": [
      " 74%|█████████████████████████████████████████████████████████████████████████████████████████▎                              | 186/250 [00:23<00:07,  8.05it/s]"
     ]
    },
    {
     "name": "stdout",
     "output_type": "stream",
     "text": [
      "--- Validation --- [threshold, AUC, Accuracy, F score] =  [np.float64(0.684), np.float64(0.972), np.float64(0.924), np.float64(0.939)]\n",
      "--- Training --- [threshold, AUC] =  [np.float64(0.705), np.float64(0.973)]\n",
      "--- Iteration 190: Training loss --- [Data, Label, Total] = [9673.406362.3, 319.855016.3, 48686.886824.3]\n",
      "!!! pred_type filter\n"
     ]
    },
    {
     "name": "stderr",
     "output_type": "stream",
     "text": [
      " 78%|██████████████████████████████████████████████████████████████████████████████████████████████                          | 196/250 [00:24<00:06,  8.51it/s]"
     ]
    },
    {
     "name": "stdout",
     "output_type": "stream",
     "text": [
      "--- Validation --- [threshold, AUC, Accuracy, F score] =  [np.float64(0.705), np.float64(0.973), np.float64(0.923), np.float64(0.938)]\n",
      "--- Training --- [threshold, AUC] =  [np.float64(0.707), np.float64(0.973)]\n",
      "--- Iteration 200: Training loss --- [Data, Label, Total] = [9635.543464.3, 319.983667.3, 48497.700988.3]\n",
      "!!! pred_type filter\n"
     ]
    },
    {
     "name": "stderr",
     "output_type": "stream",
     "text": [
      " 82%|█████████████████████████████████████████████████████████████████████████████████████████████████▉                      | 204/250 [00:26<00:06,  7.43it/s]"
     ]
    },
    {
     "name": "stdout",
     "output_type": "stream",
     "text": [
      "--- Validation --- [threshold, AUC, Accuracy, F score] =  [np.float64(0.707), np.float64(0.973), np.float64(0.921), np.float64(0.937)]\n"
     ]
    },
    {
     "name": "stderr",
     "output_type": "stream",
     "text": [
      " 84%|████████████████████████████████████████████████████████████████████████████████████████████████████▎                   | 209/250 [00:26<00:03, 10.40it/s]"
     ]
    },
    {
     "name": "stdout",
     "output_type": "stream",
     "text": [
      "--- Training --- [threshold, AUC] =  [np.float64(0.708), np.float64(0.973)]\n",
      "--- Iteration 210: Training loss --- [Data, Label, Total] = [9595.385457.3, 320.013754.3, 48296.941039.3]\n",
      "!!! pred_type filter\n"
     ]
    },
    {
     "name": "stderr",
     "output_type": "stream",
     "text": [
      " 87%|████████████████████████████████████████████████████████████████████████████████████████████████████████▏               | 217/250 [00:27<00:03,  9.35it/s]"
     ]
    },
    {
     "name": "stdout",
     "output_type": "stream",
     "text": [
      "--- Validation --- [threshold, AUC, Accuracy, F score] =  [np.float64(0.708), np.float64(0.973), np.float64(0.922), np.float64(0.937)]\n",
      "--- Training --- [threshold, AUC] =  [np.float64(0.709), np.float64(0.973)]\n",
      "--- Iteration 220: Training loss --- [Data, Label, Total] = [9552.240629.3, 319.881218.3, 48081.084363.3]\n",
      "!!! pred_type filter\n"
     ]
    },
    {
     "name": "stderr",
     "output_type": "stream",
     "text": [
      " 90%|████████████████████████████████████████████████████████████████████████████████████████████████████████████▍           | 226/250 [00:28<00:02,  9.15it/s]"
     ]
    },
    {
     "name": "stdout",
     "output_type": "stream",
     "text": [
      "--- Validation --- [threshold, AUC, Accuracy, F score] =  [np.float64(0.709), np.float64(0.973), np.float64(0.921), np.float64(0.937)]\n",
      "--- Training --- [threshold, AUC] =  [np.float64(0.658), np.float64(0.973)]\n",
      "--- Iteration 230: Training loss --- [Data, Label, Total] = [9507.673528.3, 319.924559.3, 47858.292197.3]\n",
      "!!! pred_type filter\n"
     ]
    },
    {
     "name": "stderr",
     "output_type": "stream",
     "text": [
      " 94%|█████████████████████████████████████████████████████████████████████████████████████████████████████████████████▎      | 236/250 [00:29<00:01,  9.49it/s]"
     ]
    },
    {
     "name": "stdout",
     "output_type": "stream",
     "text": [
      "--- Validation --- [threshold, AUC, Accuracy, F score] =  [np.float64(0.658), np.float64(0.973), np.float64(0.926), np.float64(0.942)]\n",
      "--- Training --- [threshold, AUC] =  [np.float64(0.675), np.float64(0.973)]\n",
      "--- Iteration 240: Training loss --- [Data, Label, Total] = [9464.499357.3, 320.151577.3, 47642.648362.3]\n",
      "!!! pred_type filter\n"
     ]
    },
    {
     "name": "stderr",
     "output_type": "stream",
     "text": [
      " 98%|█████████████████████████████████████████████████████████████████████████████████████████████████████████████████████▌  | 245/250 [00:31<00:00,  8.99it/s]"
     ]
    },
    {
     "name": "stdout",
     "output_type": "stream",
     "text": [
      "--- Validation --- [threshold, AUC, Accuracy, F score] =  [np.float64(0.675), np.float64(0.973), np.float64(0.924), np.float64(0.94)]\n"
     ]
    },
    {
     "name": "stderr",
     "output_type": "stream",
     "text": [
      "100%|████████████████████████████████████████████████████████████████████████████████████████████████████████████████████████| 250/250 [00:31<00:00,  7.99it/s]\n"
     ]
    },
    {
     "name": "stdout",
     "output_type": "stream",
     "text": [
      "!!! pred_type filter\n",
      "num of subgraphs induced on k-paths: 500\n",
      "num of subgraphs induced on k-paths: 500\n",
      "X_list: (225, 1000)\n",
      "2\n",
      "(1, 500)\n",
      "(1, 500)\n",
      "label_vec: (1, 1000)\n",
      "('Caltech36', 'UCLA26') predicting Harvard1 0.8464090068350896\n",
      "\n",
      "3: 0.8778558372677772\n",
      "4: 0.8449298516548318\n",
      "5: 0.8328589202034812\n",
      "6: 0.8810722135926942\n",
      "7: 0.8300352574962108\n",
      "8: 0.8341847021951587\n",
      "9: 0.8194475467039469\n",
      "10: 0.8129617372639039\n",
      "11: 0.845638803372221\n",
      "12: 0.8369670343428398\n",
      "13: 0.8623456412356946\n",
      "14: 0.831572887805297\n",
      "15: 0.8408084132367011\n",
      "16: 0.8064638447237019\n",
      "17: 0.8287998330500281\n",
      "18: 0.8373152203303609\n",
      "19: 0.8276952327992096\n",
      "20: 0.8418126002700697\n",
      "21: 0.8454592943223044\n",
      "22: 0.844181117391187\n",
      "23: 0.8419497556991397\n",
      "24: 0.8333939205936771\n",
      "25: 0.819992628909854\n",
      "26: 0.8129853174398964\n",
      "27: 0.8291130598632306\n",
      "28: 0.8279831681480128\n",
      "29: 0.7997691799989031\n",
      "30: 0.8155019772056755\n",
      "31: 0.8481143949409209\n",
      "32: 0.8332093764725429\n",
      "33: 0.8464090068350896\n",
      "\n",
      "num of subgraphs induced on k-paths: 500\n",
      "num of subgraphs induced on k-paths: 500\n",
      "X_list: (225, 1000)\n",
      "2\n",
      "(1, 500)\n",
      "(1, 500)\n",
      "label_vec: (1, 1000)\n",
      "num of subgraphs induced on k-paths: 500\n",
      "num of subgraphs induced on k-paths: 862\n",
      "X_list: (225, 1362)\n",
      "2\n",
      "(1, 500)\n",
      "(1, 862)\n",
      "label_vec: (1, 1362)\n",
      "initial loading beta [[-0.67351628 -0.36242215 -0.34371618  0.66642397 -0.4049314   0.69416704\n",
      "  -0.1155683  -0.80232613 -0.43264218 -0.87297655 -0.90640677  0.30689612\n",
      "  -0.39113622 -0.114867   -0.79651696 -0.1048466   0.73819342 -0.05262874\n",
      "  -0.45601351 -0.45644999 -0.17771242  0.22339753 -0.96686598  0.15793988\n",
      "  -0.36257965  0.54395321 -0.78469764 -0.86873703  0.87089864 -0.99469999\n",
      "   0.03938432  0.18122499  0.90517103  0.71915801  0.18484346]]\n"
     ]
    },
    {
     "name": "stderr",
     "output_type": "stream",
     "text": [
      "  2%|█▉                                                                                                                        | 4/250 [00:00<00:06, 39.56it/s]"
     ]
    },
    {
     "name": "stdout",
     "output_type": "stream",
     "text": [
      "--- Training --- [threshold, AUC] =  [np.float64(0.665), np.float64(0.971)]\n",
      "--- Iteration 0: Training loss --- [Data, Label, Total] = [37860.544431.3, 316.956583.3, 189619.678739.3]\n"
     ]
    },
    {
     "name": "stderr",
     "output_type": "stream",
     "text": [
      "  4%|████▍                                                                                                                     | 9/250 [00:00<00:05, 40.44it/s]"
     ]
    },
    {
     "name": "stdout",
     "output_type": "stream",
     "text": [
      "--- Training --- [threshold, AUC] =  [np.float64(0.579), np.float64(0.971)]\n",
      "--- Iteration 10: Training loss --- [Data, Label, Total] = [17648.595313.3, 316.387039.3, 88559.363605.3]\n",
      "!!! pred_type filter\n"
     ]
    },
    {
     "name": "stderr",
     "output_type": "stream",
     "text": [
      "  8%|█████████▏                                                                                                               | 19/250 [00:01<00:18, 12.20it/s]"
     ]
    },
    {
     "name": "stdout",
     "output_type": "stream",
     "text": [
      "--- Validation --- [threshold, AUC, Accuracy, F score] =  [np.float64(0.579), np.float64(0.971), np.float64(0.93), np.float64(0.945)]\n",
      "--- Training --- [threshold, AUC] =  [np.float64(0.575), np.float64(0.972)]\n",
      "--- Iteration 20: Training loss --- [Data, Label, Total] = [14827.744712.3, 311.132172.3, 74449.855732.3]\n",
      "!!! pred_type filter\n"
     ]
    },
    {
     "name": "stderr",
     "output_type": "stream",
     "text": [
      " 11%|█████████████                                                                                                            | 27/250 [00:02<00:24,  9.01it/s]"
     ]
    },
    {
     "name": "stdout",
     "output_type": "stream",
     "text": [
      "--- Validation --- [threshold, AUC, Accuracy, F score] =  [np.float64(0.575), np.float64(0.972), np.float64(0.933), np.float64(0.947)]\n",
      "--- Training --- [threshold, AUC] =  [np.float64(0.579), np.float64(0.973)]\n",
      "--- Iteration 30: Training loss --- [Data, Label, Total] = [13297.733528.3, 309.517827.3, 66798.185469.3]\n",
      "!!! pred_type filter\n"
     ]
    },
    {
     "name": "stderr",
     "output_type": "stream",
     "text": [
      " 14%|█████████████████▍                                                                                                       | 36/250 [00:03<00:23,  9.08it/s]"
     ]
    },
    {
     "name": "stdout",
     "output_type": "stream",
     "text": [
      "--- Validation --- [threshold, AUC, Accuracy, F score] =  [np.float64(0.579), np.float64(0.973), np.float64(0.934), np.float64(0.948)]\n",
      "--- Training --- [threshold, AUC] =  [np.float64(0.588), np.float64(0.973)]\n",
      "--- Iteration 40: Training loss --- [Data, Label, Total] = [12366.860717.3, 309.064363.3, 62143.367950.3]\n",
      "!!! pred_type filter\n"
     ]
    },
    {
     "name": "stderr",
     "output_type": "stream",
     "text": [
      " 18%|██████████████████████▎                                                                                                  | 46/250 [00:05<00:21,  9.54it/s]"
     ]
    },
    {
     "name": "stdout",
     "output_type": "stream",
     "text": [
      "--- Validation --- [threshold, AUC, Accuracy, F score] =  [np.float64(0.588), np.float64(0.973), np.float64(0.934), np.float64(0.948)]\n",
      "--- Training --- [threshold, AUC] =  [np.float64(0.597), np.float64(0.973)]\n",
      "--- Iteration 50: Training loss --- [Data, Label, Total] = [11734.848070.3, 309.050681.3, 58983.291034.3]\n",
      "!!! pred_type filter\n"
     ]
    },
    {
     "name": "stderr",
     "output_type": "stream",
     "text": [
      " 22%|███████████████████████████                                                                                              | 56/250 [00:06<00:20,  9.69it/s]"
     ]
    },
    {
     "name": "stdout",
     "output_type": "stream",
     "text": [
      "--- Validation --- [threshold, AUC, Accuracy, F score] =  [np.float64(0.597), np.float64(0.973), np.float64(0.934), np.float64(0.948)]\n",
      "--- Training --- [threshold, AUC] =  [np.float64(0.587), np.float64(0.973)]\n",
      "--- Iteration 60: Training loss --- [Data, Label, Total] = [11286.515506.3, 308.999992.3, 56741.577523.3]\n",
      "!!! pred_type filter\n"
     ]
    },
    {
     "name": "stderr",
     "output_type": "stream",
     "text": [
      " 26%|███████████████████████████████▍                                                                                         | 65/250 [00:07<00:20,  9.19it/s]"
     ]
    },
    {
     "name": "stdout",
     "output_type": "stream",
     "text": [
      "--- Validation --- [threshold, AUC, Accuracy, F score] =  [np.float64(0.587), np.float64(0.973), np.float64(0.935), np.float64(0.948)]\n"
     ]
    },
    {
     "name": "stderr",
     "output_type": "stream",
     "text": [
      " 28%|█████████████████████████████████▉                                                                                       | 70/250 [00:07<00:14, 12.10it/s]"
     ]
    },
    {
     "name": "stdout",
     "output_type": "stream",
     "text": [
      "--- Training --- [threshold, AUC] =  [np.float64(0.576), np.float64(0.974)]\n",
      "--- Iteration 70: Training loss --- [Data, Label, Total] = [10961.464764.3, 308.933145.3, 55116.256967.3]\n",
      "!!! pred_type filter\n"
     ]
    },
    {
     "name": "stderr",
     "output_type": "stream",
     "text": [
      " 32%|██████████████████████████████████████▏                                                                                  | 79/250 [00:08<00:16, 10.30it/s]"
     ]
    },
    {
     "name": "stdout",
     "output_type": "stream",
     "text": [
      "--- Validation --- [threshold, AUC, Accuracy, F score] =  [np.float64(0.576), np.float64(0.974), np.float64(0.936), np.float64(0.95)]\n",
      "--- Training --- [threshold, AUC] =  [np.float64(0.576), np.float64(0.974)]\n",
      "--- Iteration 80: Training loss --- [Data, Label, Total] = [10721.884968.3, 308.753347.3, 53918.178185.3]\n",
      "!!! pred_type filter\n"
     ]
    },
    {
     "name": "stderr",
     "output_type": "stream",
     "text": [
      " 35%|██████████████████████████████████████████                                                                               | 87/250 [00:09<00:17,  9.38it/s]"
     ]
    },
    {
     "name": "stdout",
     "output_type": "stream",
     "text": [
      "--- Validation --- [threshold, AUC, Accuracy, F score] =  [np.float64(0.576), np.float64(0.974), np.float64(0.936), np.float64(0.95)]\n",
      "--- Training --- [threshold, AUC] =  [np.float64(0.578), np.float64(0.974)]\n",
      "--- Iteration 90: Training loss --- [Data, Label, Total] = [10536.003481.3, 308.386904.3, 52988.404309.3]\n",
      "!!! pred_type filter\n"
     ]
    },
    {
     "name": "stderr",
     "output_type": "stream",
     "text": [
      " 38%|██████████████████████████████████████████████▍                                                                          | 96/250 [00:11<00:16,  9.31it/s]"
     ]
    },
    {
     "name": "stdout",
     "output_type": "stream",
     "text": [
      "--- Validation --- [threshold, AUC, Accuracy, F score] =  [np.float64(0.578), np.float64(0.974), np.float64(0.935), np.float64(0.949)]\n",
      "--- Training --- [threshold, AUC] =  [np.float64(0.588), np.float64(0.974)]\n",
      "--- Iteration 100: Training loss --- [Data, Label, Total] = [10383.886501.3, 307.953786.3, 52227.386290.3]\n",
      "!!! pred_type filter\n"
     ]
    },
    {
     "name": "stderr",
     "output_type": "stream",
     "text": [
      " 42%|██████████████████████████████████████████████████▉                                                                     | 106/250 [00:12<00:15,  9.56it/s]"
     ]
    },
    {
     "name": "stdout",
     "output_type": "stream",
     "text": [
      "--- Validation --- [threshold, AUC, Accuracy, F score] =  [np.float64(0.588), np.float64(0.974), np.float64(0.935), np.float64(0.948)]\n",
      "--- Training --- [threshold, AUC] =  [np.float64(0.606), np.float64(0.974)]\n",
      "--- Iteration 110: Training loss --- [Data, Label, Total] = [10255.556296.3, 307.293034.3, 51585.074513.3]\n",
      "!!! pred_type filter\n"
     ]
    },
    {
     "name": "stderr",
     "output_type": "stream",
     "text": [
      " 46%|███████████████████████████████████████████████████████▋                                                                | 116/250 [00:13<00:13,  9.79it/s]"
     ]
    },
    {
     "name": "stdout",
     "output_type": "stream",
     "text": [
      "--- Validation --- [threshold, AUC, Accuracy, F score] =  [np.float64(0.606), np.float64(0.974), np.float64(0.933), np.float64(0.947)]\n",
      "--- Training --- [threshold, AUC] =  [np.float64(0.609), np.float64(0.975)]\n",
      "--- Iteration 120: Training loss --- [Data, Label, Total] = [10145.326754.3, 306.848635.3, 51033.482404.3]\n",
      "!!! pred_type filter\n"
     ]
    },
    {
     "name": "stderr",
     "output_type": "stream",
     "text": [
      " 50%|████████████████████████████████████████████████████████████▍                                                           | 126/250 [00:14<00:12, 10.04it/s]"
     ]
    },
    {
     "name": "stdout",
     "output_type": "stream",
     "text": [
      "--- Validation --- [threshold, AUC, Accuracy, F score] =  [np.float64(0.609), np.float64(0.975), np.float64(0.933), np.float64(0.947)]\n",
      "--- Training --- [threshold, AUC] =  [np.float64(0.648), np.float64(0.975)]\n",
      "--- Iteration 130: Training loss --- [Data, Label, Total] = [10048.873938.3, 306.229169.3, 50550.598862.3]\n",
      "!!! pred_type filter\n"
     ]
    },
    {
     "name": "stderr",
     "output_type": "stream",
     "text": [
      " 54%|█████████████████████████████████████████████████████████████████▎                                                      | 136/250 [00:15<00:11, 10.08it/s]"
     ]
    },
    {
     "name": "stdout",
     "output_type": "stream",
     "text": [
      "--- Validation --- [threshold, AUC, Accuracy, F score] =  [np.float64(0.648), np.float64(0.975), np.float64(0.93), np.float64(0.944)]\n",
      "--- Training --- [threshold, AUC] =  [np.float64(0.608), np.float64(0.975)]\n",
      "--- Iteration 140: Training loss --- [Data, Label, Total] = [9959.783662.3, 305.680794.3, 50104.599103.3]\n",
      "!!! pred_type filter\n"
     ]
    },
    {
     "name": "stderr",
     "output_type": "stream",
     "text": [
      " 58%|██████████████████████████████████████████████████████████████████████                                                  | 146/250 [00:16<00:10,  9.69it/s]"
     ]
    },
    {
     "name": "stdout",
     "output_type": "stream",
     "text": [
      "--- Validation --- [threshold, AUC, Accuracy, F score] =  [np.float64(0.608), np.float64(0.975), np.float64(0.934), np.float64(0.948)]\n"
     ]
    },
    {
     "name": "stderr",
     "output_type": "stream",
     "text": [
      " 60%|████████████████████████████████████████████████████████████████████████                                                | 150/250 [00:17<00:08, 11.99it/s]"
     ]
    },
    {
     "name": "stdout",
     "output_type": "stream",
     "text": [
      "--- Training --- [threshold, AUC] =  [np.float64(0.635), np.float64(0.975)]\n",
      "--- Iteration 150: Training loss --- [Data, Label, Total] = [9871.712012.3, 305.488445.3, 49664.048504.3]\n",
      "!!! pred_type filter\n"
     ]
    },
    {
     "name": "stderr",
     "output_type": "stream",
     "text": [
      " 64%|████████████████████████████████████████████████████████████████████████████▎                                           | 159/250 [00:18<00:08, 10.52it/s]"
     ]
    },
    {
     "name": "stdout",
     "output_type": "stream",
     "text": [
      "--- Validation --- [threshold, AUC, Accuracy, F score] =  [np.float64(0.635), np.float64(0.975), np.float64(0.931), np.float64(0.945)]\n",
      "--- Training --- [threshold, AUC] =  [np.float64(0.642), np.float64(0.975)]\n",
      "--- Iteration 160: Training loss --- [Data, Label, Total] = [9776.919476.3, 305.486560.3, 49190.083941.3]\n",
      "!!! pred_type filter\n"
     ]
    },
    {
     "name": "stderr",
     "output_type": "stream",
     "text": [
      " 67%|████████████████████████████████████████████████████████████████████████████████▏                                       | 167/250 [00:19<00:08,  9.67it/s]"
     ]
    },
    {
     "name": "stdout",
     "output_type": "stream",
     "text": [
      "--- Validation --- [threshold, AUC, Accuracy, F score] =  [np.float64(0.642), np.float64(0.975), np.float64(0.931), np.float64(0.945)]\n",
      "--- Training --- [threshold, AUC] =  [np.float64(0.676), np.float64(0.975)]\n",
      "--- Iteration 170: Training loss --- [Data, Label, Total] = [9670.622501.3, 305.256778.3, 48658.369285.3]\n",
      "!!! pred_type filter\n"
     ]
    },
    {
     "name": "stderr",
     "output_type": "stream",
     "text": [
      " 70%|████████████████████████████████████████████████████████████████████████████████████▍                                   | 176/250 [00:20<00:07,  9.56it/s]"
     ]
    },
    {
     "name": "stdout",
     "output_type": "stream",
     "text": [
      "--- Validation --- [threshold, AUC, Accuracy, F score] =  [np.float64(0.676), np.float64(0.975), np.float64(0.928), np.float64(0.942)]\n",
      "--- Training --- [threshold, AUC] =  [np.float64(0.674), np.float64(0.976)]\n",
      "--- Iteration 180: Training loss --- [Data, Label, Total] = [9553.788596.3, 304.616863.3, 48073.559844.3]\n",
      "!!! pred_type filter\n"
     ]
    },
    {
     "name": "stderr",
     "output_type": "stream",
     "text": [
      " 74%|████████████████████████████████████████████████████████████████████████████████████████▊                               | 185/250 [00:21<00:06,  9.41it/s]"
     ]
    },
    {
     "name": "stdout",
     "output_type": "stream",
     "text": [
      "--- Validation --- [threshold, AUC, Accuracy, F score] =  [np.float64(0.674), np.float64(0.976), np.float64(0.93), np.float64(0.943)]\n"
     ]
    },
    {
     "name": "stderr",
     "output_type": "stream",
     "text": [
      " 76%|██████████████████████████████████████████████████████████████████████████████████████████▋                             | 189/250 [00:21<00:05, 11.89it/s]"
     ]
    },
    {
     "name": "stdout",
     "output_type": "stream",
     "text": [
      "--- Training --- [threshold, AUC] =  [np.float64(0.672), np.float64(0.976)]\n",
      "--- Iteration 190: Training loss --- [Data, Label, Total] = [9435.912336.3, 305.238347.3, 47484.800028.3]\n",
      "!!! pred_type filter\n"
     ]
    },
    {
     "name": "stderr",
     "output_type": "stream",
     "text": [
      " 79%|██████████████████████████████████████████████████████████████████████████████████████████████▌                         | 197/250 [00:22<00:05,  9.50it/s]"
     ]
    },
    {
     "name": "stdout",
     "output_type": "stream",
     "text": [
      "--- Validation --- [threshold, AUC, Accuracy, F score] =  [np.float64(0.672), np.float64(0.976), np.float64(0.93), np.float64(0.943)]\n"
     ]
    },
    {
     "name": "stderr",
     "output_type": "stream",
     "text": [
      " 80%|████████████████████████████████████████████████████████████████████████████████████████████████                        | 200/250 [00:23<00:04, 11.25it/s]"
     ]
    },
    {
     "name": "stdout",
     "output_type": "stream",
     "text": [
      "--- Training --- [threshold, AUC] =  [np.float64(0.672), np.float64(0.976)]\n",
      "--- Iteration 200: Training loss --- [Data, Label, Total] = [9329.496401.3, 304.983404.3, 46952.465409.3]\n",
      "!!! pred_type filter\n"
     ]
    },
    {
     "name": "stderr",
     "output_type": "stream",
     "text": [
      " 83%|███████████████████████████████████████████████████████████████████████████████████████████████████▊                    | 208/250 [00:24<00:04,  9.33it/s]"
     ]
    },
    {
     "name": "stdout",
     "output_type": "stream",
     "text": [
      "--- Validation --- [threshold, AUC, Accuracy, F score] =  [np.float64(0.672), np.float64(0.976), np.float64(0.93), np.float64(0.944)]\n",
      "--- Training --- [threshold, AUC] =  [np.float64(0.677), np.float64(0.976)]\n",
      "--- Iteration 210: Training loss --- [Data, Label, Total] = [9242.352965.3, 305.213210.3, 46516.978036.3]\n",
      "!!! pred_type filter\n"
     ]
    },
    {
     "name": "stderr",
     "output_type": "stream",
     "text": [
      " 86%|███████████████████████████████████████████████████████████████████████████████████████████████████████▋                | 216/250 [00:25<00:03,  9.36it/s]"
     ]
    },
    {
     "name": "stdout",
     "output_type": "stream",
     "text": [
      "--- Validation --- [threshold, AUC, Accuracy, F score] =  [np.float64(0.677), np.float64(0.976), np.float64(0.929), np.float64(0.943)]\n",
      "--- Training --- [threshold, AUC] =  [np.float64(0.676), np.float64(0.976)]\n",
      "--- Iteration 220: Training loss --- [Data, Label, Total] = [9175.272673.3, 305.128103.3, 46181.491468.3]\n",
      "!!! pred_type filter\n"
     ]
    },
    {
     "name": "stderr",
     "output_type": "stream",
     "text": [
      " 90%|████████████████████████████████████████████████████████████████████████████████████████████████████████████▍           | 226/250 [00:26<00:02,  9.66it/s]"
     ]
    },
    {
     "name": "stdout",
     "output_type": "stream",
     "text": [
      "--- Validation --- [threshold, AUC, Accuracy, F score] =  [np.float64(0.676), np.float64(0.976), np.float64(0.929), np.float64(0.943)]\n"
     ]
    },
    {
     "name": "stderr",
     "output_type": "stream",
     "text": [
      " 92%|██████████████████████████████████████████████████████████████████████████████████████████████████████████████▍         | 230/250 [00:26<00:01, 11.99it/s]"
     ]
    },
    {
     "name": "stdout",
     "output_type": "stream",
     "text": [
      "--- Training --- [threshold, AUC] =  [np.float64(0.631), np.float64(0.976)]\n",
      "--- Iteration 230: Training loss --- [Data, Label, Total] = [9125.259444.3, 304.977761.3, 45931.274980.3]\n",
      "!!! pred_type filter\n"
     ]
    },
    {
     "name": "stderr",
     "output_type": "stream",
     "text": [
      " 95%|█████████████████████████████████████████████████████████████████████████████████████████████████████████████████▊      | 237/250 [00:28<00:01,  7.95it/s]"
     ]
    },
    {
     "name": "stdout",
     "output_type": "stream",
     "text": [
      "--- Validation --- [threshold, AUC, Accuracy, F score] =  [np.float64(0.631), np.float64(0.976), np.float64(0.933), np.float64(0.947)]\n",
      "--- Training --- [threshold, AUC] =  [np.float64(0.665), np.float64(0.976)]\n",
      "--- Iteration 240: Training loss --- [Data, Label, Total] = [9088.262961.3, 304.730699.3, 45746.045506.3]\n",
      "!!! pred_type filter\n"
     ]
    },
    {
     "name": "stderr",
     "output_type": "stream",
     "text": [
      " 97%|████████████████████████████████████████████████████████████████████████████████████████████████████████████████████▋   | 243/250 [00:30<00:01,  4.94it/s]"
     ]
    },
    {
     "name": "stdout",
     "output_type": "stream",
     "text": [
      "--- Validation --- [threshold, AUC, Accuracy, F score] =  [np.float64(0.665), np.float64(0.976), np.float64(0.931), np.float64(0.945)]\n"
     ]
    },
    {
     "name": "stderr",
     "output_type": "stream",
     "text": [
      "100%|████████████████████████████████████████████████████████████████████████████████████████████████████████████████████████| 250/250 [00:31<00:00,  8.04it/s]\n"
     ]
    },
    {
     "name": "stdout",
     "output_type": "stream",
     "text": [
      "!!! pred_type filter\n",
      "num of subgraphs induced on k-paths: 500\n",
      "num of subgraphs induced on k-paths: 500\n",
      "X_list: (225, 1000)\n",
      "2\n",
      "(1, 500)\n",
      "(1, 500)\n",
      "label_vec: (1, 1000)\n",
      "('Caltech36', 'UCLA26') predicting Harvard1 0.8140382348836269\n",
      "\n",
      "3: 0.8778558372677772\n",
      "4: 0.8449298516548318\n",
      "5: 0.8328589202034812\n",
      "6: 0.8810722135926942\n",
      "7: 0.8300352574962108\n",
      "8: 0.8341847021951587\n",
      "9: 0.8194475467039469\n",
      "10: 0.8129617372639039\n",
      "11: 0.845638803372221\n",
      "12: 0.8369670343428398\n",
      "13: 0.8623456412356946\n",
      "14: 0.831572887805297\n",
      "15: 0.8408084132367011\n",
      "16: 0.8064638447237019\n",
      "17: 0.8287998330500281\n",
      "18: 0.8373152203303609\n",
      "19: 0.8276952327992096\n",
      "20: 0.8418126002700697\n",
      "21: 0.8454592943223044\n",
      "22: 0.844181117391187\n",
      "23: 0.8419497556991397\n",
      "24: 0.8333939205936771\n",
      "25: 0.819992628909854\n",
      "26: 0.8129853174398964\n",
      "27: 0.8291130598632306\n",
      "28: 0.8279831681480128\n",
      "29: 0.7997691799989031\n",
      "30: 0.8155019772056755\n",
      "31: 0.8481143949409209\n",
      "32: 0.8332093764725429\n",
      "33: 0.8464090068350896\n",
      "34: 0.8140382348836269\n",
      "\n",
      "num of subgraphs induced on k-paths: 500\n",
      "num of subgraphs induced on k-paths: 500\n",
      "X_list: (225, 1000)\n",
      "2\n",
      "(1, 500)\n",
      "(1, 500)\n",
      "label_vec: (1, 1000)\n",
      "num of subgraphs induced on k-paths: 500\n",
      "num of subgraphs induced on k-paths: 861\n",
      "X_list: (225, 1361)\n",
      "2\n",
      "(1, 500)\n",
      "(1, 861)\n",
      "label_vec: (1, 1361)\n",
      "initial loading beta [[ 0.50596769 -0.81667215  0.09793112  0.21746054  0.36635607 -0.87369527\n",
      "   0.54981285  0.61081081  0.38531371 -0.57767769  0.39581161 -0.01853449\n",
      "   0.14479632  0.37245379  0.90607791 -0.29077624  0.39167691  0.03744619\n",
      "   0.36962131  0.38195484 -0.54776304  0.45419193  0.10239416 -0.63423811\n",
      "   0.76565027 -0.96558332  0.89314157  0.89020894  0.44795205  0.81447266\n",
      "  -0.02685117  0.21999936 -0.33158558 -0.04308364 -0.81598264  0.08993387]]\n"
     ]
    },
    {
     "name": "stderr",
     "output_type": "stream",
     "text": [
      "  2%|█▉                                                                                                                        | 4/250 [00:00<00:06, 38.93it/s]"
     ]
    },
    {
     "name": "stdout",
     "output_type": "stream",
     "text": [
      "--- Training --- [threshold, AUC] =  [np.float64(0.678), np.float64(0.968)]\n",
      "--- Iteration 0: Training loss --- [Data, Label, Total] = [38463.006627.3, 328.488080.3, 192643.521213.3]\n"
     ]
    },
    {
     "name": "stderr",
     "output_type": "stream",
     "text": [
      "  4%|████▍                                                                                                                     | 9/250 [00:00<00:05, 40.39it/s]"
     ]
    },
    {
     "name": "stdout",
     "output_type": "stream",
     "text": [
      "--- Training --- [threshold, AUC] =  [np.float64(0.692), np.float64(0.968)]\n",
      "--- Iteration 10: Training loss --- [Data, Label, Total] = [17749.537357.3, 324.330394.3, 89072.017180.3]\n",
      "!!! pred_type filter\n"
     ]
    },
    {
     "name": "stderr",
     "output_type": "stream",
     "text": [
      "  8%|█████████▏                                                                                                               | 19/250 [00:01<00:20, 11.04it/s]"
     ]
    },
    {
     "name": "stdout",
     "output_type": "stream",
     "text": [
      "--- Validation --- [threshold, AUC, Accuracy, F score] =  [np.float64(0.692), np.float64(0.968), np.float64(0.916), np.float64(0.931)]\n",
      "--- Training --- [threshold, AUC] =  [np.float64(0.682), np.float64(0.97)]\n",
      "--- Iteration 20: Training loss --- [Data, Label, Total] = [14994.938264.3, 316.129208.3, 75290.820529.3]\n",
      "!!! pred_type filter\n"
     ]
    },
    {
     "name": "stderr",
     "output_type": "stream",
     "text": [
      " 11%|█████████████▌                                                                                                           | 28/250 [00:02<00:23,  9.44it/s]"
     ]
    },
    {
     "name": "stdout",
     "output_type": "stream",
     "text": [
      "--- Validation --- [threshold, AUC, Accuracy, F score] =  [np.float64(0.682), np.float64(0.97), np.float64(0.921), np.float64(0.936)]\n",
      "--- Training --- [threshold, AUC] =  [np.float64(0.675), np.float64(0.97)]\n",
      "--- Iteration 30: Training loss --- [Data, Label, Total] = [13636.822129.3, 314.465264.3, 68498.575910.3]\n",
      "!!! pred_type filter\n"
     ]
    },
    {
     "name": "stderr",
     "output_type": "stream",
     "text": [
      " 14%|████████████████▉                                                                                                        | 35/250 [00:04<00:27,  7.82it/s]"
     ]
    },
    {
     "name": "stdout",
     "output_type": "stream",
     "text": [
      "--- Validation --- [threshold, AUC, Accuracy, F score] =  [np.float64(0.675), np.float64(0.97), np.float64(0.921), np.float64(0.936)]\n"
     ]
    },
    {
     "name": "stderr",
     "output_type": "stream",
     "text": [
      " 16%|███████████████████▎                                                                                                     | 40/250 [00:04<00:18, 11.14it/s]"
     ]
    },
    {
     "name": "stdout",
     "output_type": "stream",
     "text": [
      "--- Training --- [threshold, AUC] =  [np.float64(0.694), np.float64(0.971)]\n",
      "--- Iteration 40: Training loss --- [Data, Label, Total] = [12696.770944.3, 313.843935.3, 63797.698656.3]\n",
      "!!! pred_type filter\n"
     ]
    },
    {
     "name": "stderr",
     "output_type": "stream",
     "text": [
      " 19%|███████████████████████▏                                                                                                 | 48/250 [00:05<00:21,  9.45it/s]"
     ]
    },
    {
     "name": "stdout",
     "output_type": "stream",
     "text": [
      "--- Validation --- [threshold, AUC, Accuracy, F score] =  [np.float64(0.694), np.float64(0.971), np.float64(0.921), np.float64(0.935)]\n",
      "--- Training --- [threshold, AUC] =  [np.float64(0.697), np.float64(0.971)]\n",
      "--- Iteration 50: Training loss --- [Data, Label, Total] = [11945.571294.3, 314.840432.3, 60042.696904.3]\n",
      "!!! pred_type filter\n"
     ]
    },
    {
     "name": "stderr",
     "output_type": "stream",
     "text": [
      " 22%|██████████████████████████▌                                                                                              | 55/250 [00:06<00:23,  8.18it/s]"
     ]
    },
    {
     "name": "stdout",
     "output_type": "stream",
     "text": [
      "--- Validation --- [threshold, AUC, Accuracy, F score] =  [np.float64(0.697), np.float64(0.971), np.float64(0.921), np.float64(0.936)]\n"
     ]
    },
    {
     "name": "stderr",
     "output_type": "stream",
     "text": [
      " 24%|█████████████████████████████                                                                                            | 60/250 [00:06<00:16, 11.40it/s]"
     ]
    },
    {
     "name": "stdout",
     "output_type": "stream",
     "text": [
      "--- Training --- [threshold, AUC] =  [np.float64(0.689), np.float64(0.971)]\n",
      "--- Iteration 60: Training loss --- [Data, Label, Total] = [11366.327137.3, 315.598709.3, 57147.234394.3]\n",
      "!!! pred_type filter\n"
     ]
    },
    {
     "name": "stderr",
     "output_type": "stream",
     "text": [
      " 27%|████████████████████████████████▉                                                                                        | 68/250 [00:07<00:18,  9.60it/s]"
     ]
    },
    {
     "name": "stdout",
     "output_type": "stream",
     "text": [
      "--- Validation --- [threshold, AUC, Accuracy, F score] =  [np.float64(0.689), np.float64(0.971), np.float64(0.923), np.float64(0.937)]\n",
      "--- Training --- [threshold, AUC] =  [np.float64(0.695), np.float64(0.972)]\n",
      "--- Iteration 70: Training loss --- [Data, Label, Total] = [10921.019673.3, 316.063327.3, 54921.161691.3]\n",
      "!!! pred_type filter\n"
     ]
    },
    {
     "name": "stderr",
     "output_type": "stream",
     "text": [
      " 30%|████████████████████████████████████▊                                                                                    | 76/250 [00:09<00:19,  9.07it/s]"
     ]
    },
    {
     "name": "stdout",
     "output_type": "stream",
     "text": [
      "--- Validation --- [threshold, AUC, Accuracy, F score] =  [np.float64(0.695), np.float64(0.972), np.float64(0.921), np.float64(0.936)]\n",
      "--- Training --- [threshold, AUC] =  [np.float64(0.689), np.float64(0.972)]\n",
      "--- Iteration 80: Training loss --- [Data, Label, Total] = [10572.233088.3, 316.502237.3, 53177.667676.3]\n",
      "!!! pred_type filter\n"
     ]
    },
    {
     "name": "stderr",
     "output_type": "stream",
     "text": [
      " 34%|█████████████████████████████████████████▌                                                                               | 86/250 [00:10<00:17,  9.57it/s]"
     ]
    },
    {
     "name": "stdout",
     "output_type": "stream",
     "text": [
      "--- Validation --- [threshold, AUC, Accuracy, F score] =  [np.float64(0.689), np.float64(0.972), np.float64(0.922), np.float64(0.937)]\n",
      "--- Training --- [threshold, AUC] =  [np.float64(0.657), np.float64(0.972)]\n",
      "--- Iteration 90: Training loss --- [Data, Label, Total] = [10306.742536.3, 317.251413.3, 51850.964093.3]\n",
      "!!! pred_type filter\n"
     ]
    },
    {
     "name": "stderr",
     "output_type": "stream",
     "text": [
      " 38%|██████████████████████████████████████████████▍                                                                          | 96/250 [00:11<00:15,  9.77it/s]"
     ]
    },
    {
     "name": "stdout",
     "output_type": "stream",
     "text": [
      "--- Validation --- [threshold, AUC, Accuracy, F score] =  [np.float64(0.657), np.float64(0.972), np.float64(0.925), np.float64(0.94)]\n",
      "--- Training --- [threshold, AUC] =  [np.float64(0.659), np.float64(0.972)]\n",
      "--- Iteration 100: Training loss --- [Data, Label, Total] = [10104.719887.3, 318.048832.3, 50841.648265.3]\n",
      "!!! pred_type filter\n"
     ]
    },
    {
     "name": "stderr",
     "output_type": "stream",
     "text": [
      " 42%|██████████████████████████████████████████████████▉                                                                     | 106/250 [00:12<00:14,  9.88it/s]"
     ]
    },
    {
     "name": "stdout",
     "output_type": "stream",
     "text": [
      "--- Validation --- [threshold, AUC, Accuracy, F score] =  [np.float64(0.659), np.float64(0.972), np.float64(0.925), np.float64(0.94)]\n",
      "--- Training --- [threshold, AUC] =  [np.float64(0.657), np.float64(0.972)]\n",
      "--- Iteration 110: Training loss --- [Data, Label, Total] = [9946.219831.3, 318.908159.3, 50050.007315.3]\n",
      "!!! pred_type filter\n"
     ]
    },
    {
     "name": "stderr",
     "output_type": "stream",
     "text": [
      " 46%|███████████████████████████████████████████████████████▋                                                                | 116/250 [00:13<00:13,  9.99it/s]"
     ]
    },
    {
     "name": "stdout",
     "output_type": "stream",
     "text": [
      "--- Validation --- [threshold, AUC, Accuracy, F score] =  [np.float64(0.657), np.float64(0.972), np.float64(0.925), np.float64(0.94)]\n",
      "--- Training --- [threshold, AUC] =  [np.float64(0.691), np.float64(0.972)]\n",
      "--- Iteration 120: Training loss --- [Data, Label, Total] = [9817.753202.3, 319.279471.3, 49408.045479.3]\n",
      "!!! pred_type filter\n"
     ]
    },
    {
     "name": "stderr",
     "output_type": "stream",
     "text": [
      " 50%|███████████████████████████████████████████████████████████▌                                                            | 124/250 [00:14<00:14,  8.63it/s]"
     ]
    },
    {
     "name": "stdout",
     "output_type": "stream",
     "text": [
      "--- Validation --- [threshold, AUC, Accuracy, F score] =  [np.float64(0.691), np.float64(0.972), np.float64(0.921), np.float64(0.935)]\n"
     ]
    },
    {
     "name": "stderr",
     "output_type": "stream",
     "text": [
      " 51%|█████████████████████████████████████████████████████████████▍                                                          | 128/250 [00:14<00:11, 10.96it/s]"
     ]
    },
    {
     "name": "stdout",
     "output_type": "stream",
     "text": [
      "--- Training --- [threshold, AUC] =  [np.float64(0.705), np.float64(0.972)]\n",
      "--- Iteration 130: Training loss --- [Data, Label, Total] = [9708.792021.3, 319.881423.3, 48863.841529.3]\n",
      "!!! pred_type filter\n"
     ]
    },
    {
     "name": "stderr",
     "output_type": "stream",
     "text": [
      " 54%|█████████████████████████████████████████████████████████████████▎                                                      | 136/250 [00:16<00:11,  9.65it/s]"
     ]
    },
    {
     "name": "stdout",
     "output_type": "stream",
     "text": [
      "--- Validation --- [threshold, AUC, Accuracy, F score] =  [np.float64(0.705), np.float64(0.972), np.float64(0.921), np.float64(0.935)]\n",
      "--- Training --- [threshold, AUC] =  [np.float64(0.701), np.float64(0.972)]\n",
      "--- Iteration 140: Training loss --- [Data, Label, Total] = [9612.542145.3, 320.932392.3, 48383.643119.3]\n",
      "!!! pred_type filter\n"
     ]
    },
    {
     "name": "stderr",
     "output_type": "stream",
     "text": [
      " 58%|██████████████████████████████████████████████████████████████████████                                                  | 146/250 [00:17<00:10, 10.04it/s]"
     ]
    },
    {
     "name": "stdout",
     "output_type": "stream",
     "text": [
      "--- Validation --- [threshold, AUC, Accuracy, F score] =  [np.float64(0.701), np.float64(0.972), np.float64(0.921), np.float64(0.936)]\n",
      "--- Training --- [threshold, AUC] =  [np.float64(0.7), np.float64(0.972)]\n",
      "--- Iteration 150: Training loss --- [Data, Label, Total] = [9524.759313.3, 321.429096.3, 47945.225661.3]\n",
      "!!! pred_type filter\n"
     ]
    },
    {
     "name": "stderr",
     "output_type": "stream",
     "text": [
      " 62%|██████████████████████████████████████████████████████████████████████████▉                                             | 156/250 [00:18<00:09, 10.05it/s]"
     ]
    },
    {
     "name": "stdout",
     "output_type": "stream",
     "text": [
      "--- Validation --- [threshold, AUC, Accuracy, F score] =  [np.float64(0.7), np.float64(0.972), np.float64(0.922), np.float64(0.937)]\n",
      "--- Training --- [threshold, AUC] =  [np.float64(0.669), np.float64(0.972)]\n",
      "--- Iteration 160: Training loss --- [Data, Label, Total] = [9442.163596.3, 321.941163.3, 47532.759145.3]\n",
      "!!! pred_type filter\n"
     ]
    },
    {
     "name": "stderr",
     "output_type": "stream",
     "text": [
      " 66%|██████████████████████████████████████████████████████████████████████████████▋                                         | 164/250 [00:19<00:09,  8.95it/s]"
     ]
    },
    {
     "name": "stdout",
     "output_type": "stream",
     "text": [
      "--- Validation --- [threshold, AUC, Accuracy, F score] =  [np.float64(0.669), np.float64(0.972), np.float64(0.924), np.float64(0.939)]\n"
     ]
    },
    {
     "name": "stderr",
     "output_type": "stream",
     "text": [
      " 68%|█████████████████████████████████████████████████████████████████████████████████                                       | 169/250 [00:19<00:06, 12.18it/s]"
     ]
    },
    {
     "name": "stdout",
     "output_type": "stream",
     "text": [
      "--- Training --- [threshold, AUC] =  [np.float64(0.673), np.float64(0.972)]\n",
      "--- Iteration 170: Training loss --- [Data, Label, Total] = [9362.154025.3, 322.245522.3, 47133.015646.3]\n",
      "!!! pred_type filter\n"
     ]
    },
    {
     "name": "stderr",
     "output_type": "stream",
     "text": [
      " 71%|████████████████████████████████████████████████████████████████████████████████████▉                                   | 177/250 [00:20<00:07, 10.32it/s]"
     ]
    },
    {
     "name": "stdout",
     "output_type": "stream",
     "text": [
      "--- Validation --- [threshold, AUC, Accuracy, F score] =  [np.float64(0.673), np.float64(0.972), np.float64(0.924), np.float64(0.939)]\n",
      "--- Training --- [threshold, AUC] =  [np.float64(0.671), np.float64(0.972)]\n",
      "--- Iteration 180: Training loss --- [Data, Label, Total] = [9283.158853.3, 322.364596.3, 46738.158859.3]\n",
      "!!! pred_type filter\n"
     ]
    },
    {
     "name": "stderr",
     "output_type": "stream",
     "text": [
      " 74%|█████████████████████████████████████████████████████████████████████████████████████████▎                              | 186/250 [00:21<00:06,  9.96it/s]"
     ]
    },
    {
     "name": "stdout",
     "output_type": "stream",
     "text": [
      "--- Validation --- [threshold, AUC, Accuracy, F score] =  [np.float64(0.671), np.float64(0.972), np.float64(0.924), np.float64(0.939)]\n",
      "--- Training --- [threshold, AUC] =  [np.float64(0.692), np.float64(0.972)]\n",
      "--- Iteration 190: Training loss --- [Data, Label, Total] = [9207.370484.3, 322.361249.3, 46359.213667.3]\n",
      "!!! pred_type filter\n"
     ]
    },
    {
     "name": "stderr",
     "output_type": "stream",
     "text": [
      " 78%|██████████████████████████████████████████████████████████████████████████████████████████████                          | 196/250 [00:22<00:05, 10.20it/s]"
     ]
    },
    {
     "name": "stdout",
     "output_type": "stream",
     "text": [
      "--- Validation --- [threshold, AUC, Accuracy, F score] =  [np.float64(0.692), np.float64(0.972), np.float64(0.924), np.float64(0.938)]\n",
      "--- Training --- [threshold, AUC] =  [np.float64(0.687), np.float64(0.972)]\n",
      "--- Iteration 200: Training loss --- [Data, Label, Total] = [9138.332277.3, 322.228330.3, 46013.889713.3]\n",
      "!!! pred_type filter\n"
     ]
    },
    {
     "name": "stderr",
     "output_type": "stream",
     "text": [
      " 82%|██████████████████████████████████████████████████████████████████████████████████████████████████▉                     | 206/250 [00:24<00:04, 10.31it/s]"
     ]
    },
    {
     "name": "stdout",
     "output_type": "stream",
     "text": [
      "--- Validation --- [threshold, AUC, Accuracy, F score] =  [np.float64(0.687), np.float64(0.972), np.float64(0.924), np.float64(0.938)]\n",
      "--- Training --- [threshold, AUC] =  [np.float64(0.667), np.float64(0.972)]\n",
      "--- Iteration 210: Training loss --- [Data, Label, Total] = [9079.802354.3, 322.087119.3, 45721.098886.3]\n",
      "!!! pred_type filter\n"
     ]
    },
    {
     "name": "stderr",
     "output_type": "stream",
     "text": [
      " 86%|███████████████████████████████████████████████████████████████████████████████████████████████████████▋                | 216/250 [00:25<00:03, 10.43it/s]"
     ]
    },
    {
     "name": "stdout",
     "output_type": "stream",
     "text": [
      "--- Validation --- [threshold, AUC, Accuracy, F score] =  [np.float64(0.667), np.float64(0.972), np.float64(0.927), np.float64(0.94)]\n",
      "--- Training --- [threshold, AUC] =  [np.float64(0.671), np.float64(0.972)]\n",
      "--- Iteration 220: Training loss --- [Data, Label, Total] = [9032.887583.3, 321.678706.3, 45486.116623.3]\n",
      "!!! pred_type filter\n"
     ]
    },
    {
     "name": "stderr",
     "output_type": "stream",
     "text": [
      " 90%|████████████████████████████████████████████████████████████████████████████████████████████████████████████▍           | 226/250 [00:26<00:02, 10.42it/s]"
     ]
    },
    {
     "name": "stdout",
     "output_type": "stream",
     "text": [
      "--- Validation --- [threshold, AUC, Accuracy, F score] =  [np.float64(0.671), np.float64(0.972), np.float64(0.926), np.float64(0.94)]\n",
      "--- Training --- [threshold, AUC] =  [np.float64(0.682), np.float64(0.972)]\n",
      "--- Iteration 230: Training loss --- [Data, Label, Total] = [8995.907597.3, 322.226085.3, 45301.764070.3]\n",
      "!!! pred_type filter\n"
     ]
    },
    {
     "name": "stderr",
     "output_type": "stream",
     "text": [
      " 94%|█████████████████████████████████████████████████████████████████████████████████████████████████████████████████▎      | 236/250 [00:27<00:01, 10.49it/s]"
     ]
    },
    {
     "name": "stdout",
     "output_type": "stream",
     "text": [
      "--- Validation --- [threshold, AUC, Accuracy, F score] =  [np.float64(0.682), np.float64(0.972), np.float64(0.925), np.float64(0.939)]\n",
      "--- Training --- [threshold, AUC] =  [np.float64(0.695), np.float64(0.973)]\n",
      "--- Iteration 240: Training loss --- [Data, Label, Total] = [8965.669541.3, 320.962044.3, 45149.309748.3]\n",
      "!!! pred_type filter\n"
     ]
    },
    {
     "name": "stderr",
     "output_type": "stream",
     "text": [
      " 98%|██████████████████████████████████████████████████████████████████████████████████████████████████████████████████████  | 246/250 [00:28<00:00, 10.47it/s]"
     ]
    },
    {
     "name": "stdout",
     "output_type": "stream",
     "text": [
      "--- Validation --- [threshold, AUC, Accuracy, F score] =  [np.float64(0.695), np.float64(0.973), np.float64(0.924), np.float64(0.938)]\n"
     ]
    },
    {
     "name": "stderr",
     "output_type": "stream",
     "text": [
      "100%|████████████████████████████████████████████████████████████████████████████████████████████████████████████████████████| 250/250 [00:28<00:00,  8.75it/s]\n"
     ]
    },
    {
     "name": "stdout",
     "output_type": "stream",
     "text": [
      "!!! pred_type filter\n",
      "num of subgraphs induced on k-paths: 500\n",
      "num of subgraphs induced on k-paths: 500\n",
      "X_list: (225, 1000)\n",
      "2\n",
      "(1, 500)\n",
      "(1, 500)\n",
      "label_vec: (1, 1000)\n",
      "('Caltech36', 'UCLA26') predicting Harvard1 0.8003759641336035\n",
      "\n",
      "3: 0.8778558372677772\n",
      "4: 0.8449298516548318\n",
      "5: 0.8328589202034812\n",
      "6: 0.8810722135926942\n",
      "7: 0.8300352574962108\n",
      "8: 0.8341847021951587\n",
      "9: 0.8194475467039469\n",
      "10: 0.8129617372639039\n",
      "11: 0.845638803372221\n",
      "12: 0.8369670343428398\n",
      "13: 0.8623456412356946\n",
      "14: 0.831572887805297\n",
      "15: 0.8408084132367011\n",
      "16: 0.8064638447237019\n",
      "17: 0.8287998330500281\n",
      "18: 0.8373152203303609\n",
      "19: 0.8276952327992096\n",
      "20: 0.8418126002700697\n",
      "21: 0.8454592943223044\n",
      "22: 0.844181117391187\n",
      "23: 0.8419497556991397\n",
      "24: 0.8333939205936771\n",
      "25: 0.819992628909854\n",
      "26: 0.8129853174398964\n",
      "27: 0.8291130598632306\n",
      "28: 0.8279831681480128\n",
      "29: 0.7997691799989031\n",
      "30: 0.8155019772056755\n",
      "31: 0.8481143949409209\n",
      "32: 0.8332093764725429\n",
      "33: 0.8464090068350896\n",
      "34: 0.8140382348836269\n",
      "35: 0.8003759641336035\n",
      "\n",
      "num of subgraphs induced on k-paths: 500\n",
      "num of subgraphs induced on k-paths: 500\n",
      "X_list: (225, 1000)\n",
      "2\n",
      "(1, 500)\n",
      "(1, 500)\n",
      "label_vec: (1, 1000)\n",
      "num of subgraphs induced on k-paths: 500\n",
      "num of subgraphs induced on k-paths: 857\n",
      "X_list: (225, 1357)\n",
      "2\n",
      "(1, 500)\n",
      "(1, 857)\n",
      "label_vec: (1, 1357)\n",
      "initial loading beta [[-0.02626549  0.85341577 -0.27736033  0.00642235  0.5270149  -0.28214076\n",
      "  -0.63427006 -0.42727105 -0.65994145 -0.89823754 -0.7624989   0.51905022\n",
      "  -0.47483062  0.51007598 -0.3022406   0.80868496 -0.9217718  -0.88107246\n",
      "  -0.48584978 -0.21669777  0.27050218 -0.28274956 -0.53863443  0.39680172\n",
      "  -0.05853327  0.55391588 -0.21390822 -0.40257684 -0.82413053 -0.62605198\n",
      "  -0.9579943  -0.83591596 -0.43781399 -0.09585855 -0.18519566 -0.19996335\n",
      "   0.62079184]]\n"
     ]
    },
    {
     "name": "stderr",
     "output_type": "stream",
     "text": [
      "  2%|█▉                                                                                                                        | 4/250 [00:00<00:06, 37.55it/s]"
     ]
    },
    {
     "name": "stdout",
     "output_type": "stream",
     "text": [
      "--- Training --- [threshold, AUC] =  [np.float64(0.726), np.float64(0.964)]\n",
      "--- Iteration 0: Training loss --- [Data, Label, Total] = [37889.343045.3, 349.076337.3, 189795.791560.3]\n"
     ]
    },
    {
     "name": "stderr",
     "output_type": "stream",
     "text": [
      "  3%|███▉                                                                                                                      | 8/250 [00:00<00:06, 37.65it/s]"
     ]
    },
    {
     "name": "stdout",
     "output_type": "stream",
     "text": [
      "--- Training --- [threshold, AUC] =  [np.float64(0.661), np.float64(0.967)]\n",
      "--- Iteration 10: Training loss --- [Data, Label, Total] = [16718.818644.3, 335.554319.3, 83929.647538.3]\n",
      "!!! pred_type filter\n"
     ]
    },
    {
     "name": "stderr",
     "output_type": "stream",
     "text": [
      "  6%|███████▋                                                                                                                 | 16/250 [00:01<00:22, 10.35it/s]"
     ]
    },
    {
     "name": "stdout",
     "output_type": "stream",
     "text": [
      "--- Validation --- [threshold, AUC, Accuracy, F score] =  [np.float64(0.661), np.float64(0.967), np.float64(0.911), np.float64(0.928)]\n"
     ]
    },
    {
     "name": "stderr",
     "output_type": "stream",
     "text": [
      "  8%|█████████▏                                                                                                               | 19/250 [00:01<00:18, 12.33it/s]"
     ]
    },
    {
     "name": "stdout",
     "output_type": "stream",
     "text": [
      "--- Training --- [threshold, AUC] =  [np.float64(0.639), np.float64(0.968)]\n",
      "--- Iteration 20: Training loss --- [Data, Label, Total] = [14042.082645.3, 333.692353.3, 70544.105579.3]\n",
      "!!! pred_type filter\n"
     ]
    },
    {
     "name": "stderr",
     "output_type": "stream",
     "text": [
      " 11%|█████████████                                                                                                            | 27/250 [00:02<00:24,  9.22it/s]"
     ]
    },
    {
     "name": "stdout",
     "output_type": "stream",
     "text": [
      "--- Validation --- [threshold, AUC, Accuracy, F score] =  [np.float64(0.639), np.float64(0.968), np.float64(0.911), np.float64(0.929)]\n",
      "--- Training --- [threshold, AUC] =  [np.float64(0.707), np.float64(0.968)]\n",
      "--- Iteration 30: Training loss --- [Data, Label, Total] = [12731.214636.3, 334.481050.3, 63990.554230.3]\n",
      "!!! pred_type filter\n"
     ]
    },
    {
     "name": "stderr",
     "output_type": "stream",
     "text": [
      " 14%|█████████████████▍                                                                                                       | 36/250 [00:04<00:24,  8.68it/s]"
     ]
    },
    {
     "name": "stdout",
     "output_type": "stream",
     "text": [
      "--- Validation --- [threshold, AUC, Accuracy, F score] =  [np.float64(0.707), np.float64(0.968), np.float64(0.905), np.float64(0.922)]\n",
      "--- Training --- [threshold, AUC] =  [np.float64(0.678), np.float64(0.968)]\n",
      "--- Iteration 40: Training loss --- [Data, Label, Total] = [11913.145724.3, 335.801599.3, 59901.530218.3]\n",
      "!!! pred_type filter\n"
     ]
    },
    {
     "name": "stderr",
     "output_type": "stream",
     "text": [
      " 18%|██████████████████████▎                                                                                                  | 46/250 [00:05<00:22,  8.88it/s]"
     ]
    },
    {
     "name": "stdout",
     "output_type": "stream",
     "text": [
      "--- Validation --- [threshold, AUC, Accuracy, F score] =  [np.float64(0.678), np.float64(0.968), np.float64(0.909), np.float64(0.926)]\n",
      "--- Training --- [threshold, AUC] =  [np.float64(0.668), np.float64(0.968)]\n",
      "--- Iteration 50: Training loss --- [Data, Label, Total] = [11380.937355.3, 336.095850.3, 57240.782625.3]\n",
      "!!! pred_type filter\n"
     ]
    },
    {
     "name": "stderr",
     "output_type": "stream",
     "text": [
      " 22%|███████████████████████████                                                                                              | 56/250 [00:06<00:21,  8.99it/s]"
     ]
    },
    {
     "name": "stdout",
     "output_type": "stream",
     "text": [
      "--- Validation --- [threshold, AUC, Accuracy, F score] =  [np.float64(0.668), np.float64(0.968), np.float64(0.912), np.float64(0.929)]\n",
      "--- Training --- [threshold, AUC] =  [np.float64(0.747), np.float64(0.969)]\n",
      "--- Iteration 60: Training loss --- [Data, Label, Total] = [10990.945164.3, 335.859958.3, 55290.585778.3]\n",
      "!!! pred_type filter\n"
     ]
    },
    {
     "name": "stderr",
     "output_type": "stream",
     "text": [
      " 26%|███████████████████████████████▍                                                                                         | 65/250 [00:07<00:21,  8.51it/s]"
     ]
    },
    {
     "name": "stdout",
     "output_type": "stream",
     "text": [
      "--- Validation --- [threshold, AUC, Accuracy, F score] =  [np.float64(0.747), np.float64(0.969), np.float64(0.903), np.float64(0.919)]\n"
     ]
    },
    {
     "name": "stderr",
     "output_type": "stream",
     "text": [
      " 28%|█████████████████████████████████▉                                                                                       | 70/250 [00:08<00:15, 11.43it/s]"
     ]
    },
    {
     "name": "stdout",
     "output_type": "stream",
     "text": [
      "--- Training --- [threshold, AUC] =  [np.float64(0.746), np.float64(0.969)]\n",
      "--- Iteration 70: Training loss --- [Data, Label, Total] = [10686.824570.3, 335.646789.3, 53769.769640.3]\n",
      "!!! pred_type filter\n"
     ]
    },
    {
     "name": "stderr",
     "output_type": "stream",
     "text": [
      " 32%|██████████████████████████████████████▏                                                                                  | 79/250 [00:09<00:17,  9.65it/s]"
     ]
    },
    {
     "name": "stdout",
     "output_type": "stream",
     "text": [
      "--- Validation --- [threshold, AUC, Accuracy, F score] =  [np.float64(0.746), np.float64(0.969), np.float64(0.903), np.float64(0.92)]\n",
      "--- Training --- [threshold, AUC] =  [np.float64(0.74), np.float64(0.969)]\n",
      "--- Iteration 80: Training loss --- [Data, Label, Total] = [10451.575570.3, 335.473469.3, 52593.351319.3]\n",
      "!!! pred_type filter\n"
     ]
    },
    {
     "name": "stderr",
     "output_type": "stream",
     "text": [
      " 35%|██████████████████████████████████████████                                                                               | 87/250 [00:10<00:18,  8.64it/s]"
     ]
    },
    {
     "name": "stdout",
     "output_type": "stream",
     "text": [
      "--- Validation --- [threshold, AUC, Accuracy, F score] =  [np.float64(0.74), np.float64(0.969), np.float64(0.906), np.float64(0.922)]\n",
      "--- Training --- [threshold, AUC] =  [np.float64(0.742), np.float64(0.969)]\n",
      "--- Iteration 90: Training loss --- [Data, Label, Total] = [10268.219264.3, 335.503702.3, 51676.600024.3]\n",
      "!!! pred_type filter\n"
     ]
    },
    {
     "name": "stderr",
     "output_type": "stream",
     "text": [
      " 38%|██████████████████████████████████████████████▍                                                                          | 96/250 [00:11<00:18,  8.44it/s]"
     ]
    },
    {
     "name": "stdout",
     "output_type": "stream",
     "text": [
      "--- Validation --- [threshold, AUC, Accuracy, F score] =  [np.float64(0.742), np.float64(0.969), np.float64(0.905), np.float64(0.921)]\n",
      "--- Training --- [threshold, AUC] =  [np.float64(0.74), np.float64(0.969)]\n",
      "--- Iteration 100: Training loss --- [Data, Label, Total] = [10123.605188.3, 335.546298.3, 50953.572240.3]\n",
      "!!! pred_type filter\n"
     ]
    },
    {
     "name": "stderr",
     "output_type": "stream",
     "text": [
      " 42%|██████████████████████████████████████████████████▉                                                                     | 106/250 [00:13<00:16,  8.71it/s]"
     ]
    },
    {
     "name": "stdout",
     "output_type": "stream",
     "text": [
      "--- Validation --- [threshold, AUC, Accuracy, F score] =  [np.float64(0.74), np.float64(0.969), np.float64(0.905), np.float64(0.921)]\n",
      "--- Training --- [threshold, AUC] =  [np.float64(0.74), np.float64(0.969)]\n",
      "--- Iteration 110: Training loss --- [Data, Label, Total] = [10003.734763.3, 335.961222.3, 50354.635035.3]\n",
      "!!! pred_type filter\n"
     ]
    },
    {
     "name": "stderr",
     "output_type": "stream",
     "text": [
      " 46%|███████████████████████████████████████████████████████▋                                                                | 116/250 [00:14<00:15,  8.78it/s]"
     ]
    },
    {
     "name": "stdout",
     "output_type": "stream",
     "text": [
      "--- Validation --- [threshold, AUC, Accuracy, F score] =  [np.float64(0.74), np.float64(0.969), np.float64(0.904), np.float64(0.921)]\n",
      "--- Training --- [threshold, AUC] =  [np.float64(0.739), np.float64(0.969)]\n",
      "--- Iteration 120: Training loss --- [Data, Label, Total] = [9897.969141.3, 336.232222.3, 49826.077926.3]\n",
      "!!! pred_type filter\n"
     ]
    },
    {
     "name": "stderr",
     "output_type": "stream",
     "text": [
      " 50%|████████████████████████████████████████████████████████████▍                                                           | 126/250 [00:15<00:13,  8.90it/s]"
     ]
    },
    {
     "name": "stdout",
     "output_type": "stream",
     "text": [
      "--- Validation --- [threshold, AUC, Accuracy, F score] =  [np.float64(0.739), np.float64(0.969), np.float64(0.904), np.float64(0.921)]\n"
     ]
    },
    {
     "name": "stderr",
     "output_type": "stream",
     "text": [
      " 52%|█████████████████████████████████████████████████████████████▉                                                          | 129/250 [00:15<00:11, 10.21it/s]"
     ]
    },
    {
     "name": "stdout",
     "output_type": "stream",
     "text": [
      "--- Training --- [threshold, AUC] =  [np.float64(0.733), np.float64(0.969)]\n",
      "--- Iteration 130: Training loss --- [Data, Label, Total] = [9795.095195.3, 336.847007.3, 49312.322984.3]\n",
      "!!! pred_type filter\n"
     ]
    },
    {
     "name": "stderr",
     "output_type": "stream",
     "text": [
      " 55%|█████████████████████████████████████████████████████████████████▊                                                      | 137/250 [00:17<00:12,  8.70it/s]"
     ]
    },
    {
     "name": "stdout",
     "output_type": "stream",
     "text": [
      "--- Validation --- [threshold, AUC, Accuracy, F score] =  [np.float64(0.733), np.float64(0.969), np.float64(0.905), np.float64(0.921)]\n",
      "--- Training --- [threshold, AUC] =  [np.float64(0.724), np.float64(0.969)]\n",
      "--- Iteration 140: Training loss --- [Data, Label, Total] = [9688.861794.3, 337.484274.3, 48781.793245.3]\n",
      "!!! pred_type filter\n"
     ]
    },
    {
     "name": "stderr",
     "output_type": "stream",
     "text": [
      " 58%|██████████████████████████████████████████████████████████████████████                                                  | 146/250 [00:18<00:12,  8.16it/s]"
     ]
    },
    {
     "name": "stdout",
     "output_type": "stream",
     "text": [
      "--- Validation --- [threshold, AUC, Accuracy, F score] =  [np.float64(0.724), np.float64(0.969), np.float64(0.906), np.float64(0.923)]\n",
      "--- Training --- [threshold, AUC] =  [np.float64(0.722), np.float64(0.969)]\n",
      "--- Iteration 150: Training loss --- [Data, Label, Total] = [9575.313754.3, 338.018959.3, 48214.587731.3]\n",
      "!!! pred_type filter\n"
     ]
    },
    {
     "name": "stderr",
     "output_type": "stream",
     "text": [
      " 62%|██████████████████████████████████████████████████████████████████████████▉                                             | 156/250 [00:19<00:10,  8.61it/s]"
     ]
    },
    {
     "name": "stdout",
     "output_type": "stream",
     "text": [
      "--- Validation --- [threshold, AUC, Accuracy, F score] =  [np.float64(0.722), np.float64(0.969), np.float64(0.907), np.float64(0.924)]\n",
      "--- Training --- [threshold, AUC] =  [np.float64(0.721), np.float64(0.969)]\n",
      "--- Iteration 160: Training loss --- [Data, Label, Total] = [9452.926246.3, 338.922825.3, 47603.554055.3]\n",
      "!!! pred_type filter\n"
     ]
    },
    {
     "name": "stderr",
     "output_type": "stream",
     "text": [
      " 66%|███████████████████████████████████████████████████████████████████████████████▋                                        | 166/250 [00:21<00:09,  8.98it/s]"
     ]
    },
    {
     "name": "stdout",
     "output_type": "stream",
     "text": [
      "--- Validation --- [threshold, AUC, Accuracy, F score] =  [np.float64(0.721), np.float64(0.969), np.float64(0.908), np.float64(0.924)]\n",
      "--- Training --- [threshold, AUC] =  [np.float64(0.72), np.float64(0.969)]\n",
      "--- Iteration 170: Training loss --- [Data, Label, Total] = [9325.448132.3, 339.649182.3, 46966.889843.3]\n",
      "!!! pred_type filter\n"
     ]
    },
    {
     "name": "stderr",
     "output_type": "stream",
     "text": [
      " 70%|████████████████████████████████████████████████████████████████████████████████████▍                                   | 176/250 [00:22<00:08,  9.04it/s]"
     ]
    },
    {
     "name": "stdout",
     "output_type": "stream",
     "text": [
      "--- Validation --- [threshold, AUC, Accuracy, F score] =  [np.float64(0.72), np.float64(0.969), np.float64(0.908), np.float64(0.924)]\n",
      "--- Training --- [threshold, AUC] =  [np.float64(0.707), np.float64(0.969)]\n",
      "--- Iteration 180: Training loss --- [Data, Label, Total] = [9202.933378.3, 340.045888.3, 46354.712778.3]\n",
      "!!! pred_type filter\n"
     ]
    },
    {
     "name": "stderr",
     "output_type": "stream",
     "text": [
      " 74%|█████████████████████████████████████████████████████████████████████████████████████████▎                              | 186/250 [00:23<00:06,  9.29it/s]"
     ]
    },
    {
     "name": "stdout",
     "output_type": "stream",
     "text": [
      "--- Validation --- [threshold, AUC, Accuracy, F score] =  [np.float64(0.707), np.float64(0.969), np.float64(0.909), np.float64(0.926)]\n",
      "--- Training --- [threshold, AUC] =  [np.float64(0.708), np.float64(0.969)]\n",
      "--- Iteration 190: Training loss --- [Data, Label, Total] = [9096.362731.3, 340.421813.3, 45822.235467.3]\n",
      "!!! pred_type filter\n"
     ]
    },
    {
     "name": "stderr",
     "output_type": "stream",
     "text": [
      " 78%|██████████████████████████████████████████████████████████████████████████████████████████████                          | 196/250 [00:24<00:05,  9.39it/s]"
     ]
    },
    {
     "name": "stdout",
     "output_type": "stream",
     "text": [
      "--- Validation --- [threshold, AUC, Accuracy, F score] =  [np.float64(0.708), np.float64(0.969), np.float64(0.909), np.float64(0.926)]\n",
      "--- Training --- [threshold, AUC] =  [np.float64(0.709), np.float64(0.969)]\n",
      "--- Iteration 200: Training loss --- [Data, Label, Total] = [9010.628415.3, 340.789105.3, 45393.931178.3]\n",
      "!!! pred_type filter\n"
     ]
    },
    {
     "name": "stderr",
     "output_type": "stream",
     "text": [
      " 82%|██████████████████████████████████████████████████████████████████████████████████████████████████▉                     | 206/250 [00:26<00:04,  9.47it/s]"
     ]
    },
    {
     "name": "stdout",
     "output_type": "stream",
     "text": [
      "--- Validation --- [threshold, AUC, Accuracy, F score] =  [np.float64(0.709), np.float64(0.969), np.float64(0.909), np.float64(0.926)]\n",
      "--- Training --- [threshold, AUC] =  [np.float64(0.708), np.float64(0.969)]\n",
      "--- Iteration 210: Training loss --- [Data, Label, Total] = [8944.610383.3, 341.348051.3, 45064.399967.3]\n",
      "!!! pred_type filter\n"
     ]
    },
    {
     "name": "stderr",
     "output_type": "stream",
     "text": [
      " 86%|███████████████████████████████████████████████████████████████████████████████████████████████████████▋                | 216/250 [00:27<00:03,  9.53it/s]"
     ]
    },
    {
     "name": "stdout",
     "output_type": "stream",
     "text": [
      "--- Validation --- [threshold, AUC, Accuracy, F score] =  [np.float64(0.708), np.float64(0.969), np.float64(0.909), np.float64(0.925)]\n",
      "--- Training --- [threshold, AUC] =  [np.float64(0.65), np.float64(0.969)]\n",
      "--- Iteration 220: Training loss --- [Data, Label, Total] = [8893.831643.3, 341.427184.3, 44810.585398.3]\n",
      "!!! pred_type filter\n"
     ]
    },
    {
     "name": "stderr",
     "output_type": "stream",
     "text": [
      " 90%|████████████████████████████████████████████████████████████████████████████████████████████████████████████▍           | 226/250 [00:28<00:02,  9.48it/s]"
     ]
    },
    {
     "name": "stdout",
     "output_type": "stream",
     "text": [
      "--- Validation --- [threshold, AUC, Accuracy, F score] =  [np.float64(0.65), np.float64(0.969), np.float64(0.916), np.float64(0.933)]\n",
      "--- Training --- [threshold, AUC] =  [np.float64(0.649), np.float64(0.97)]\n",
      "--- Iteration 230: Training loss --- [Data, Label, Total] = [8853.693328.3, 341.329140.3, 44609.795780.3]\n",
      "!!! pred_type filter\n"
     ]
    },
    {
     "name": "stderr",
     "output_type": "stream",
     "text": [
      " 94%|█████████████████████████████████████████████████████████████████████████████████████████████████████████████████▎      | 236/250 [00:29<00:01,  9.56it/s]"
     ]
    },
    {
     "name": "stdout",
     "output_type": "stream",
     "text": [
      "--- Validation --- [threshold, AUC, Accuracy, F score] =  [np.float64(0.649), np.float64(0.97), np.float64(0.917), np.float64(0.933)]\n",
      "--- Training --- [threshold, AUC] =  [np.float64(0.655), np.float64(0.97)]\n",
      "--- Iteration 240: Training loss --- [Data, Label, Total] = [8820.896940.3, 341.685985.3, 44446.170686.3]\n",
      "!!! pred_type filter\n"
     ]
    },
    {
     "name": "stderr",
     "output_type": "stream",
     "text": [
      " 98%|██████████████████████████████████████████████████████████████████████████████████████████████████████████████████████  | 246/250 [00:31<00:00,  9.56it/s]"
     ]
    },
    {
     "name": "stdout",
     "output_type": "stream",
     "text": [
      "--- Validation --- [threshold, AUC, Accuracy, F score] =  [np.float64(0.655), np.float64(0.97), np.float64(0.917), np.float64(0.933)]\n"
     ]
    },
    {
     "name": "stderr",
     "output_type": "stream",
     "text": [
      "100%|████████████████████████████████████████████████████████████████████████████████████████████████████████████████████████| 250/250 [00:31<00:00,  8.02it/s]\n"
     ]
    },
    {
     "name": "stdout",
     "output_type": "stream",
     "text": [
      "!!! pred_type filter\n",
      "num of subgraphs induced on k-paths: 500\n",
      "num of subgraphs induced on k-paths: 500\n",
      "X_list: (225, 1000)\n",
      "2\n",
      "(1, 500)\n",
      "(1, 500)\n",
      "label_vec: (1, 1000)\n",
      "('Caltech36', 'UCLA26') predicting Harvard1 0.8309834827510887\n",
      "\n",
      "3: 0.8778558372677772\n",
      "4: 0.8449298516548318\n",
      "5: 0.8328589202034812\n",
      "6: 0.8810722135926942\n",
      "7: 0.8300352574962108\n",
      "8: 0.8341847021951587\n",
      "9: 0.8194475467039469\n",
      "10: 0.8129617372639039\n",
      "11: 0.845638803372221\n",
      "12: 0.8369670343428398\n",
      "13: 0.8623456412356946\n",
      "14: 0.831572887805297\n",
      "15: 0.8408084132367011\n",
      "16: 0.8064638447237019\n",
      "17: 0.8287998330500281\n",
      "18: 0.8373152203303609\n",
      "19: 0.8276952327992096\n",
      "20: 0.8418126002700697\n",
      "21: 0.8454592943223044\n",
      "22: 0.844181117391187\n",
      "23: 0.8419497556991397\n",
      "24: 0.8333939205936771\n",
      "25: 0.819992628909854\n",
      "26: 0.8129853174398964\n",
      "27: 0.8291130598632306\n",
      "28: 0.8279831681480128\n",
      "29: 0.7997691799989031\n",
      "30: 0.8155019772056755\n",
      "31: 0.8481143949409209\n",
      "32: 0.8332093764725429\n",
      "33: 0.8464090068350896\n",
      "34: 0.8140382348836269\n",
      "35: 0.8003759641336035\n",
      "36: 0.8309834827510887\n",
      "\n",
      "num of subgraphs induced on k-paths: 500\n",
      "num of subgraphs induced on k-paths: 500\n",
      "X_list: (225, 1000)\n",
      "2\n",
      "(1, 500)\n",
      "(1, 500)\n",
      "label_vec: (1, 1000)\n",
      "num of subgraphs induced on k-paths: 500\n",
      "num of subgraphs induced on k-paths: 867\n",
      "X_list: (225, 1367)\n",
      "2\n",
      "(1, 500)\n",
      "(1, 867)\n",
      "label_vec: (1, 1367)\n",
      "initial loading beta [[-0.60036548  0.11143073 -0.35232187 -0.33493543 -0.03052255 -0.39269367\n",
      "   0.10483199 -0.91104716  0.02894455  0.63505003 -0.84028563  0.16029177\n",
      "   0.8516837   0.23891151  0.45573654  0.31004321 -0.58225315  0.94116038\n",
      "  -0.05574388  0.86221112 -0.80970279 -0.6281363   0.78672504 -0.16344633\n",
      "   0.64525099 -0.03385042 -0.95832074  0.79199495  0.34496022  0.15399562\n",
      "   0.17845503 -0.02136045 -0.77878308 -0.42394558  0.51926858  0.65213261\n",
      "   0.31157038 -0.05856498]]\n"
     ]
    },
    {
     "name": "stderr",
     "output_type": "stream",
     "text": [
      "  0%|                                                                                                                                  | 0/250 [00:00<?, ?it/s]"
     ]
    },
    {
     "name": "stdout",
     "output_type": "stream",
     "text": [
      "--- Training --- [threshold, AUC] =  [np.float64(0.665), np.float64(0.968)]\n",
      "--- Iteration 0: Training loss --- [Data, Label, Total] = [39213.762283.3, 315.473929.3, 196384.285346.3]\n"
     ]
    },
    {
     "name": "stderr",
     "output_type": "stream",
     "text": [
      "  3%|███▉                                                                                                                      | 8/250 [00:00<00:06, 35.92it/s]"
     ]
    },
    {
     "name": "stdout",
     "output_type": "stream",
     "text": [
      "--- Training --- [threshold, AUC] =  [np.float64(0.694), np.float64(0.969)]\n",
      "--- Iteration 10: Training loss --- [Data, Label, Total] = [17883.341511.3, 309.940580.3, 89726.648133.3]\n",
      "!!! pred_type filter\n"
     ]
    },
    {
     "name": "stderr",
     "output_type": "stream",
     "text": [
      "  6%|███████▋                                                                                                                 | 16/250 [00:01<00:24,  9.70it/s]"
     ]
    },
    {
     "name": "stdout",
     "output_type": "stream",
     "text": [
      "--- Validation --- [threshold, AUC, Accuracy, F score] =  [np.float64(0.694), np.float64(0.969), np.float64(0.918), np.float64(0.934)]\n",
      "--- Training --- [threshold, AUC] =  [np.float64(0.702), np.float64(0.97)]\n",
      "--- Iteration 20: Training loss --- [Data, Label, Total] = [15007.942653.3, 306.936443.3, 75346.649706.3]\n",
      "!!! pred_type filter\n"
     ]
    },
    {
     "name": "stderr",
     "output_type": "stream",
     "text": [
      " 10%|████████████▌                                                                                                            | 26/250 [00:02<00:23,  9.41it/s]"
     ]
    },
    {
     "name": "stdout",
     "output_type": "stream",
     "text": [
      "--- Validation --- [threshold, AUC, Accuracy, F score] =  [np.float64(0.702), np.float64(0.97), np.float64(0.917), np.float64(0.933)]\n",
      "--- Training --- [threshold, AUC] =  [np.float64(0.701), np.float64(0.971)]\n",
      "--- Iteration 30: Training loss --- [Data, Label, Total] = [13208.442241.3, 306.358249.3, 66348.569454.3]\n",
      "!!! pred_type filter\n"
     ]
    },
    {
     "name": "stderr",
     "output_type": "stream",
     "text": [
      " 14%|█████████████████▍                                                                                                       | 36/250 [00:04<00:22,  9.38it/s]"
     ]
    },
    {
     "name": "stdout",
     "output_type": "stream",
     "text": [
      "--- Validation --- [threshold, AUC, Accuracy, F score] =  [np.float64(0.701), np.float64(0.971), np.float64(0.918), np.float64(0.934)]\n",
      "--- Training --- [threshold, AUC] =  [np.float64(0.679), np.float64(0.971)]\n",
      "--- Iteration 40: Training loss --- [Data, Label, Total] = [12032.790200.3, 306.923798.3, 60470.874798.3]\n",
      "!!! pred_type filter\n"
     ]
    },
    {
     "name": "stderr",
     "output_type": "stream",
     "text": [
      " 18%|██████████████████████▎                                                                                                  | 46/250 [00:05<00:21,  9.43it/s]"
     ]
    },
    {
     "name": "stdout",
     "output_type": "stream",
     "text": [
      "--- Validation --- [threshold, AUC, Accuracy, F score] =  [np.float64(0.679), np.float64(0.971), np.float64(0.921), np.float64(0.936)]\n",
      "--- Training --- [threshold, AUC] =  [np.float64(0.662), np.float64(0.971)]\n",
      "--- Iteration 50: Training loss --- [Data, Label, Total] = [11213.445159.3, 308.053259.3, 56375.279053.3]\n",
      "!!! pred_type filter\n"
     ]
    },
    {
     "name": "stderr",
     "output_type": "stream",
     "text": [
      " 22%|██████████████████████████▌                                                                                              | 55/250 [00:06<00:21,  8.99it/s]"
     ]
    },
    {
     "name": "stdout",
     "output_type": "stream",
     "text": [
      "--- Validation --- [threshold, AUC, Accuracy, F score] =  [np.float64(0.662), np.float64(0.971), np.float64(0.925), np.float64(0.94)]\n"
     ]
    },
    {
     "name": "stderr",
     "output_type": "stream",
     "text": [
      " 24%|█████████████████████████████                                                                                            | 60/250 [00:06<00:15, 11.97it/s]"
     ]
    },
    {
     "name": "stdout",
     "output_type": "stream",
     "text": [
      "--- Training --- [threshold, AUC] =  [np.float64(0.662), np.float64(0.971)]\n",
      "--- Iteration 60: Training loss --- [Data, Label, Total] = [10585.147867.3, 309.128444.3, 53234.867777.3]\n",
      "!!! pred_type filter\n"
     ]
    },
    {
     "name": "stderr",
     "output_type": "stream",
     "text": [
      " 28%|█████████████████████████████████▍                                                                                       | 69/250 [00:07<00:17, 10.39it/s]"
     ]
    },
    {
     "name": "stdout",
     "output_type": "stream",
     "text": [
      "--- Validation --- [threshold, AUC, Accuracy, F score] =  [np.float64(0.662), np.float64(0.971), np.float64(0.925), np.float64(0.94)]\n",
      "--- Training --- [threshold, AUC] =  [np.float64(0.649), np.float64(0.972)]\n",
      "--- Iteration 70: Training loss --- [Data, Label, Total] = [10102.039169.3, 310.280438.3, 50820.476285.3]\n",
      "!!! pred_type filter\n"
     ]
    },
    {
     "name": "stderr",
     "output_type": "stream",
     "text": [
      " 31%|█████████████████████████████████████▎                                                                                   | 77/250 [00:08<00:18,  9.42it/s]"
     ]
    },
    {
     "name": "stdout",
     "output_type": "stream",
     "text": [
      "--- Validation --- [threshold, AUC, Accuracy, F score] =  [np.float64(0.649), np.float64(0.972), np.float64(0.926), np.float64(0.941)]\n",
      "--- Training --- [threshold, AUC] =  [np.float64(0.679), np.float64(0.972)]\n",
      "--- Iteration 80: Training loss --- [Data, Label, Total] = [9745.272295.3, 311.093541.3, 49037.455016.3]\n",
      "!!! pred_type filter\n"
     ]
    },
    {
     "name": "stderr",
     "output_type": "stream",
     "text": [
      " 34%|█████████████████████████████████████████▏                                                                               | 85/250 [00:10<00:19,  8.28it/s]"
     ]
    },
    {
     "name": "stdout",
     "output_type": "stream",
     "text": [
      "--- Validation --- [threshold, AUC, Accuracy, F score] =  [np.float64(0.679), np.float64(0.972), np.float64(0.925), np.float64(0.94)]\n"
     ]
    },
    {
     "name": "stderr",
     "output_type": "stream",
     "text": [
      " 36%|███████████████████████████████████████████                                                                              | 89/250 [00:10<00:14, 10.74it/s]"
     ]
    },
    {
     "name": "stdout",
     "output_type": "stream",
     "text": [
      "--- Training --- [threshold, AUC] =  [np.float64(0.679), np.float64(0.972)]\n",
      "--- Iteration 90: Training loss --- [Data, Label, Total] = [9484.513991.3, 312.066848.3, 47734.636805.3]\n",
      "!!! pred_type filter\n"
     ]
    },
    {
     "name": "stderr",
     "output_type": "stream",
     "text": [
      " 39%|██████████████████████████████████████████████▉                                                                          | 97/250 [00:11<00:16,  9.52it/s]"
     ]
    },
    {
     "name": "stdout",
     "output_type": "stream",
     "text": [
      "--- Validation --- [threshold, AUC, Accuracy, F score] =  [np.float64(0.679), np.float64(0.972), np.float64(0.925), np.float64(0.94)]\n",
      "--- Training --- [threshold, AUC] =  [np.float64(0.679), np.float64(0.972)]\n",
      "--- Iteration 100: Training loss --- [Data, Label, Total] = [9285.780671.3, 313.283360.3, 46742.186715.3]\n",
      "!!! pred_type filter\n"
     ]
    },
    {
     "name": "stderr",
     "output_type": "stream",
     "text": [
      " 42%|██████████████████████████████████████████████████▍                                                                     | 105/250 [00:12<00:16,  8.72it/s]"
     ]
    },
    {
     "name": "stdout",
     "output_type": "stream",
     "text": [
      "--- Validation --- [threshold, AUC, Accuracy, F score] =  [np.float64(0.679), np.float64(0.972), np.float64(0.925), np.float64(0.94)]\n"
     ]
    },
    {
     "name": "stderr",
     "output_type": "stream",
     "text": [
      " 44%|████████████████████████████████████████████████████▊                                                                   | 110/250 [00:12<00:11, 11.96it/s]"
     ]
    },
    {
     "name": "stdout",
     "output_type": "stream",
     "text": [
      "--- Training --- [threshold, AUC] =  [np.float64(0.681), np.float64(0.972)]\n",
      "--- Iteration 110: Training loss --- [Data, Label, Total] = [9127.714606.3, 313.240703.3, 45951.813733.3]\n",
      "!!! pred_type filter\n"
     ]
    },
    {
     "name": "stderr",
     "output_type": "stream",
     "text": [
      " 47%|████████████████████████████████████████████████████████▏                                                               | 117/250 [00:13<00:14,  9.20it/s]"
     ]
    },
    {
     "name": "stdout",
     "output_type": "stream",
     "text": [
      "--- Validation --- [threshold, AUC, Accuracy, F score] =  [np.float64(0.681), np.float64(0.972), np.float64(0.926), np.float64(0.941)]\n",
      "--- Training --- [threshold, AUC] =  [np.float64(0.683), np.float64(0.972)]\n",
      "--- Iteration 120: Training loss --- [Data, Label, Total] = [8999.434751.3, 314.065022.3, 45311.238778.3]\n",
      "!!! pred_type filter\n"
     ]
    },
    {
     "name": "stderr",
     "output_type": "stream",
     "text": [
      " 50%|████████████████████████████████████████████████████████████▍                                                           | 126/250 [00:14<00:13,  9.39it/s]"
     ]
    },
    {
     "name": "stdout",
     "output_type": "stream",
     "text": [
      "--- Validation --- [threshold, AUC, Accuracy, F score] =  [np.float64(0.683), np.float64(0.972), np.float64(0.925), np.float64(0.94)]\n",
      "--- Training --- [threshold, AUC] =  [np.float64(0.682), np.float64(0.972)]\n",
      "--- Iteration 130: Training loss --- [Data, Label, Total] = [8893.111366.3, 314.707780.3, 44780.264609.3]\n",
      "!!! pred_type filter\n"
     ]
    },
    {
     "name": "stderr",
     "output_type": "stream",
     "text": [
      " 54%|████████████████████████████████████████████████████████████████▊                                                       | 135/250 [00:16<00:12,  9.31it/s]"
     ]
    },
    {
     "name": "stdout",
     "output_type": "stream",
     "text": [
      "--- Validation --- [threshold, AUC, Accuracy, F score] =  [np.float64(0.682), np.float64(0.972), np.float64(0.926), np.float64(0.941)]\n"
     ]
    },
    {
     "name": "stderr",
     "output_type": "stream",
     "text": [
      " 56%|███████████████████████████████████████████████████████████████████▏                                                    | 140/250 [00:16<00:08, 12.48it/s]"
     ]
    },
    {
     "name": "stdout",
     "output_type": "stream",
     "text": [
      "--- Training --- [threshold, AUC] =  [np.float64(0.681), np.float64(0.972)]\n",
      "--- Iteration 140: Training loss --- [Data, Label, Total] = [8802.839110.3, 314.917253.3, 44329.112801.3]\n",
      "!!! pred_type filter\n"
     ]
    },
    {
     "name": "stderr",
     "output_type": "stream",
     "text": [
      " 59%|███████████████████████████████████████████████████████████████████████                                                 | 148/250 [00:17<00:09, 10.51it/s]"
     ]
    },
    {
     "name": "stdout",
     "output_type": "stream",
     "text": [
      "--- Validation --- [threshold, AUC, Accuracy, F score] =  [np.float64(0.681), np.float64(0.972), np.float64(0.927), np.float64(0.941)]\n",
      "--- Training --- [threshold, AUC] =  [np.float64(0.682), np.float64(0.972)]\n",
      "--- Iteration 150: Training loss --- [Data, Label, Total] = [8723.335942.3, 315.386602.3, 43932.066311.3]\n",
      "!!! pred_type filter\n"
     ]
    },
    {
     "name": "stderr",
     "output_type": "stream",
     "text": [
      " 62%|██████████████████████████████████████████████████████████████████████████▉                                             | 156/250 [00:18<00:09,  9.70it/s]"
     ]
    },
    {
     "name": "stdout",
     "output_type": "stream",
     "text": [
      "--- Validation --- [threshold, AUC, Accuracy, F score] =  [np.float64(0.682), np.float64(0.972), np.float64(0.926), np.float64(0.941)]\n"
     ]
    },
    {
     "name": "stderr",
     "output_type": "stream",
     "text": [
      " 64%|████████████████████████████████████████████████████████████████████████████▊                                           | 160/250 [00:18<00:07, 12.25it/s]"
     ]
    },
    {
     "name": "stdout",
     "output_type": "stream",
     "text": [
      "--- Training --- [threshold, AUC] =  [np.float64(0.675), np.float64(0.972)]\n",
      "--- Iteration 160: Training loss --- [Data, Label, Total] = [8651.537173.3, 315.598806.3, 43573.284672.3]\n",
      "!!! pred_type filter\n"
     ]
    },
    {
     "name": "stderr",
     "output_type": "stream",
     "text": [
      " 67%|████████████████████████████████████████████████████████████████████████████████▋                                       | 168/250 [00:19<00:08, 10.24it/s]"
     ]
    },
    {
     "name": "stdout",
     "output_type": "stream",
     "text": [
      "--- Validation --- [threshold, AUC, Accuracy, F score] =  [np.float64(0.675), np.float64(0.972), np.float64(0.927), np.float64(0.941)]\n",
      "--- Training --- [threshold, AUC] =  [np.float64(0.674), np.float64(0.972)]\n",
      "--- Iteration 170: Training loss --- [Data, Label, Total] = [8587.399437.3, 315.784092.3, 43252.781277.3]\n",
      "!!! pred_type filter\n"
     ]
    },
    {
     "name": "stderr",
     "output_type": "stream",
     "text": [
      " 70%|████████████████████████████████████████████████████████████████████████████████████▍                                   | 176/250 [00:20<00:07,  9.54it/s]"
     ]
    },
    {
     "name": "stdout",
     "output_type": "stream",
     "text": [
      "--- Validation --- [threshold, AUC, Accuracy, F score] =  [np.float64(0.674), np.float64(0.972), np.float64(0.927), np.float64(0.941)]\n",
      "--- Training --- [threshold, AUC] =  [np.float64(0.677), np.float64(0.972)]\n",
      "--- Iteration 180: Training loss --- [Data, Label, Total] = [8532.703557.3, 315.947512.3, 42979.465298.3]\n",
      "!!! pred_type filter\n"
     ]
    },
    {
     "name": "stderr",
     "output_type": "stream",
     "text": [
      " 74%|█████████████████████████████████████████████████████████████████████████████████████████▎                              | 186/250 [00:21<00:06,  9.88it/s]"
     ]
    },
    {
     "name": "stdout",
     "output_type": "stream",
     "text": [
      "--- Validation --- [threshold, AUC, Accuracy, F score] =  [np.float64(0.677), np.float64(0.972), np.float64(0.927), np.float64(0.941)]\n",
      "--- Training --- [threshold, AUC] =  [np.float64(0.671), np.float64(0.972)]\n",
      "--- Iteration 190: Training loss --- [Data, Label, Total] = [8488.549824.3, 315.971024.3, 42758.720144.3]\n",
      "!!! pred_type filter\n"
     ]
    },
    {
     "name": "stderr",
     "output_type": "stream",
     "text": [
      " 78%|██████████████████████████████████████████████████████████████████████████████████████████████                          | 196/250 [00:22<00:05, 10.12it/s]"
     ]
    },
    {
     "name": "stdout",
     "output_type": "stream",
     "text": [
      "--- Validation --- [threshold, AUC, Accuracy, F score] =  [np.float64(0.671), np.float64(0.972), np.float64(0.928), np.float64(0.942)]\n",
      "--- Training --- [threshold, AUC] =  [np.float64(0.68), np.float64(0.972)]\n",
      "--- Iteration 200: Training loss --- [Data, Label, Total] = [8454.152585.3, 316.109790.3, 42586.872714.3]\n",
      "!!! pred_type filter\n"
     ]
    },
    {
     "name": "stderr",
     "output_type": "stream",
     "text": [
      " 82%|██████████████████████████████████████████████████████████████████████████████████████████████████▉                     | 206/250 [00:23<00:04, 10.21it/s]"
     ]
    },
    {
     "name": "stdout",
     "output_type": "stream",
     "text": [
      "--- Validation --- [threshold, AUC, Accuracy, F score] =  [np.float64(0.68), np.float64(0.972), np.float64(0.927), np.float64(0.941)]\n",
      "--- Training --- [threshold, AUC] =  [np.float64(0.681), np.float64(0.973)]\n",
      "--- Iteration 210: Training loss --- [Data, Label, Total] = [8427.510773.3, 316.213538.3, 42453.767402.3]\n",
      "!!! pred_type filter\n"
     ]
    },
    {
     "name": "stderr",
     "output_type": "stream",
     "text": [
      " 86%|███████████████████████████████████████████████████████████████████████████████████████████████████████▋                | 216/250 [00:25<00:03, 10.27it/s]"
     ]
    },
    {
     "name": "stdout",
     "output_type": "stream",
     "text": [
      "--- Validation --- [threshold, AUC, Accuracy, F score] =  [np.float64(0.681), np.float64(0.973), np.float64(0.927), np.float64(0.941)]\n",
      "--- Training --- [threshold, AUC] =  [np.float64(0.681), np.float64(0.973)]\n",
      "--- Iteration 220: Training loss --- [Data, Label, Total] = [8406.582583.3, 316.009586.3, 42348.922503.3]\n",
      "!!! pred_type filter\n"
     ]
    },
    {
     "name": "stderr",
     "output_type": "stream",
     "text": [
      " 90%|████████████████████████████████████████████████████████████████████████████████████████████████████████████▍           | 226/250 [00:26<00:02, 10.19it/s]"
     ]
    },
    {
     "name": "stdout",
     "output_type": "stream",
     "text": [
      "--- Validation --- [threshold, AUC, Accuracy, F score] =  [np.float64(0.681), np.float64(0.973), np.float64(0.927), np.float64(0.941)]\n",
      "--- Training --- [threshold, AUC] =  [np.float64(0.676), np.float64(0.973)]\n",
      "--- Iteration 230: Training loss --- [Data, Label, Total] = [8389.874538.3, 315.965029.3, 42265.337719.3]\n",
      "!!! pred_type filter\n"
     ]
    },
    {
     "name": "stderr",
     "output_type": "stream",
     "text": [
      " 94%|████████████████████████████████████████████████████████████████████████████████████████████████████████████████▊       | 235/250 [00:27<00:01,  9.60it/s]"
     ]
    },
    {
     "name": "stdout",
     "output_type": "stream",
     "text": [
      "--- Validation --- [threshold, AUC, Accuracy, F score] =  [np.float64(0.676), np.float64(0.973), np.float64(0.928), np.float64(0.942)]\n"
     ]
    },
    {
     "name": "stderr",
     "output_type": "stream",
     "text": [
      " 96%|██████████████████████████████████████████████████████████████████████████████████████████████████████████████████▋     | 239/250 [00:27<00:00, 12.03it/s]"
     ]
    },
    {
     "name": "stdout",
     "output_type": "stream",
     "text": [
      "--- Training --- [threshold, AUC] =  [np.float64(0.678), np.float64(0.973)]\n",
      "--- Iteration 240: Training loss --- [Data, Label, Total] = [8376.290682.3, 316.140042.3, 42197.593453.3]\n",
      "!!! pred_type filter\n"
     ]
    },
    {
     "name": "stderr",
     "output_type": "stream",
     "text": [
      " 99%|██████████████████████████████████████████████████████████████████████████████████████████████████████████████████████▌ | 247/250 [00:28<00:00, 10.03it/s]"
     ]
    },
    {
     "name": "stdout",
     "output_type": "stream",
     "text": [
      "--- Validation --- [threshold, AUC, Accuracy, F score] =  [np.float64(0.678), np.float64(0.973), np.float64(0.928), np.float64(0.942)]\n"
     ]
    },
    {
     "name": "stderr",
     "output_type": "stream",
     "text": [
      "100%|████████████████████████████████████████████████████████████████████████████████████████████████████████████████████████| 250/250 [00:28<00:00,  8.71it/s]\n"
     ]
    },
    {
     "name": "stdout",
     "output_type": "stream",
     "text": [
      "!!! pred_type filter\n",
      "num of subgraphs induced on k-paths: 500\n",
      "num of subgraphs induced on k-paths: 500\n",
      "X_list: (225, 1000)\n",
      "2\n",
      "(1, 500)\n",
      "(1, 500)\n",
      "label_vec: (1, 1000)\n",
      "('Caltech36', 'UCLA26') predicting Harvard1 0.8388856851528265\n",
      "\n",
      "3: 0.8778558372677772\n",
      "4: 0.8449298516548318\n",
      "5: 0.8328589202034812\n",
      "6: 0.8810722135926942\n",
      "7: 0.8300352574962108\n",
      "8: 0.8341847021951587\n",
      "9: 0.8194475467039469\n",
      "10: 0.8129617372639039\n",
      "11: 0.845638803372221\n",
      "12: 0.8369670343428398\n",
      "13: 0.8623456412356946\n",
      "14: 0.831572887805297\n",
      "15: 0.8408084132367011\n",
      "16: 0.8064638447237019\n",
      "17: 0.8287998330500281\n",
      "18: 0.8373152203303609\n",
      "19: 0.8276952327992096\n",
      "20: 0.8418126002700697\n",
      "21: 0.8454592943223044\n",
      "22: 0.844181117391187\n",
      "23: 0.8419497556991397\n",
      "24: 0.8333939205936771\n",
      "25: 0.819992628909854\n",
      "26: 0.8129853174398964\n",
      "27: 0.8291130598632306\n",
      "28: 0.8279831681480128\n",
      "29: 0.7997691799989031\n",
      "30: 0.8155019772056755\n",
      "31: 0.8481143949409209\n",
      "32: 0.8332093764725429\n",
      "33: 0.8464090068350896\n",
      "34: 0.8140382348836269\n",
      "35: 0.8003759641336035\n",
      "36: 0.8309834827510887\n",
      "37: 0.8388856851528265\n",
      "\n",
      "num of subgraphs induced on k-paths: 500\n",
      "num of subgraphs induced on k-paths: 500\n",
      "X_list: (225, 1000)\n",
      "2\n",
      "(1, 500)\n",
      "(1, 500)\n",
      "label_vec: (1, 1000)\n",
      "num of subgraphs induced on k-paths: 500\n",
      "num of subgraphs induced on k-paths: 844\n",
      "X_list: (225, 1344)\n",
      "2\n",
      "(1, 500)\n",
      "(1, 844)\n",
      "label_vec: (1, 1344)\n",
      "initial loading beta [[ 0.81130674  0.07765549 -0.53266652 -0.47266363 -0.03092964 -0.64243421\n",
      "   0.71729633  0.63266924 -0.55295864  0.45951306 -0.62039053  0.38320772\n",
      "   0.26685648 -0.78636743  0.46298296  0.95188243  0.19049588  0.28592739\n",
      "   0.67821306  0.90985519  0.44825497 -0.94198137  0.61147361  0.41823193\n",
      "  -0.72241401  0.50879802  0.02269277  0.23670846 -0.13246679 -0.78963871\n",
      "   0.93450083 -0.4682825  -0.70968018  0.85865484 -0.61605552 -0.96963464\n",
      "   0.18371549  0.93707643 -0.35526277]]\n"
     ]
    },
    {
     "name": "stderr",
     "output_type": "stream",
     "text": [
      "  2%|█▉                                                                                                                        | 4/250 [00:00<00:06, 36.52it/s]"
     ]
    },
    {
     "name": "stdout",
     "output_type": "stream",
     "text": [
      "--- Training --- [threshold, AUC] =  [np.float64(0.614), np.float64(0.968)]\n",
      "--- Iteration 0: Training loss --- [Data, Label, Total] = [38660.054131.3, 336.659733.3, 193636.930386.3]\n"
     ]
    },
    {
     "name": "stderr",
     "output_type": "stream",
     "text": [
      "  3%|███▉                                                                                                                      | 8/250 [00:00<00:06, 38.31it/s]"
     ]
    },
    {
     "name": "stdout",
     "output_type": "stream",
     "text": [
      "--- Training --- [threshold, AUC] =  [np.float64(0.753), np.float64(0.968)]\n",
      "--- Iteration 10: Training loss --- [Data, Label, Total] = [17236.783772.3, 333.798050.3, 86517.716911.3]\n",
      "!!! pred_type filter\n"
     ]
    },
    {
     "name": "stderr",
     "output_type": "stream",
     "text": [
      "  6%|███████▋                                                                                                                 | 16/250 [00:01<00:26,  8.72it/s]"
     ]
    },
    {
     "name": "stdout",
     "output_type": "stream",
     "text": [
      "--- Validation --- [threshold, AUC, Accuracy, F score] =  [np.float64(0.753), np.float64(0.968), np.float64(0.905), np.float64(0.92)]\n"
     ]
    },
    {
     "name": "stderr",
     "output_type": "stream",
     "text": [
      "  8%|█████████▋                                                                                                               | 20/250 [00:01<00:19, 11.98it/s]"
     ]
    },
    {
     "name": "stdout",
     "output_type": "stream",
     "text": [
      "--- Training --- [threshold, AUC] =  [np.float64(0.727), np.float64(0.968)]\n",
      "--- Iteration 20: Training loss --- [Data, Label, Total] = [14356.424159.3, 334.151678.3, 72116.272473.3]\n",
      "!!! pred_type filter\n"
     ]
    },
    {
     "name": "stderr",
     "output_type": "stream",
     "text": [
      " 12%|██████████████                                                                                                           | 29/250 [00:03<00:23,  9.30it/s]"
     ]
    },
    {
     "name": "stdout",
     "output_type": "stream",
     "text": [
      "--- Validation --- [threshold, AUC, Accuracy, F score] =  [np.float64(0.727), np.float64(0.968), np.float64(0.907), np.float64(0.923)]\n",
      "--- Training --- [threshold, AUC] =  [np.float64(0.726), np.float64(0.969)]\n",
      "--- Iteration 30: Training loss --- [Data, Label, Total] = [12824.296349.3, 334.993112.3, 64456.474855.3]\n",
      "!!! pred_type filter\n"
     ]
    },
    {
     "name": "stderr",
     "output_type": "stream",
     "text": [
      " 15%|█████████████████▉                                                                                                       | 37/250 [00:04<00:25,  8.50it/s]"
     ]
    },
    {
     "name": "stdout",
     "output_type": "stream",
     "text": [
      "--- Validation --- [threshold, AUC, Accuracy, F score] =  [np.float64(0.726), np.float64(0.969), np.float64(0.908), np.float64(0.923)]\n",
      "--- Training --- [threshold, AUC] =  [np.float64(0.732), np.float64(0.969)]\n",
      "--- Iteration 40: Training loss --- [Data, Label, Total] = [11821.324312.3, 335.363618.3, 59441.985178.3]\n",
      "!!! pred_type filter\n"
     ]
    },
    {
     "name": "stderr",
     "output_type": "stream",
     "text": [
      " 18%|██████████████████████▎                                                                                                  | 46/250 [00:05<00:24,  8.46it/s]"
     ]
    },
    {
     "name": "stdout",
     "output_type": "stream",
     "text": [
      "--- Validation --- [threshold, AUC, Accuracy, F score] =  [np.float64(0.732), np.float64(0.969), np.float64(0.906), np.float64(0.922)]\n",
      "--- Training --- [threshold, AUC] =  [np.float64(0.66), np.float64(0.969)]\n",
      "--- Iteration 50: Training loss --- [Data, Label, Total] = [11065.932484.3, 335.752507.3, 55665.414924.3]\n",
      "!!! pred_type filter\n"
     ]
    },
    {
     "name": "stderr",
     "output_type": "stream",
     "text": [
      " 22%|███████████████████████████                                                                                              | 56/250 [00:06<00:22,  8.81it/s]"
     ]
    },
    {
     "name": "stdout",
     "output_type": "stream",
     "text": [
      "--- Validation --- [threshold, AUC, Accuracy, F score] =  [np.float64(0.66), np.float64(0.969), np.float64(0.914), np.float64(0.93)]\n",
      "--- Training --- [threshold, AUC] =  [np.float64(0.66), np.float64(0.97)]\n",
      "--- Iteration 60: Training loss --- [Data, Label, Total] = [10507.571102.3, 336.235439.3, 52874.090947.3]\n",
      "!!! pred_type filter\n"
     ]
    },
    {
     "name": "stderr",
     "output_type": "stream",
     "text": [
      " 26%|███████████████████████████████▉                                                                                         | 66/250 [00:08<00:20,  8.92it/s]"
     ]
    },
    {
     "name": "stdout",
     "output_type": "stream",
     "text": [
      "--- Validation --- [threshold, AUC, Accuracy, F score] =  [np.float64(0.66), np.float64(0.97), np.float64(0.915), np.float64(0.931)]\n",
      "--- Training --- [threshold, AUC] =  [np.float64(0.667), np.float64(0.97)]\n",
      "--- Iteration 70: Training loss --- [Data, Label, Total] = [10118.655410.3, 336.904887.3, 50930.181937.3]\n",
      "!!! pred_type filter\n"
     ]
    },
    {
     "name": "stderr",
     "output_type": "stream",
     "text": [
      " 30%|████████████████████████████████████▊                                                                                    | 76/250 [00:09<00:19,  9.04it/s]"
     ]
    },
    {
     "name": "stdout",
     "output_type": "stream",
     "text": [
      "--- Validation --- [threshold, AUC, Accuracy, F score] =  [np.float64(0.667), np.float64(0.97), np.float64(0.914), np.float64(0.93)]\n",
      "--- Training --- [threshold, AUC] =  [np.float64(0.75), np.float64(0.97)]\n",
      "--- Iteration 80: Training loss --- [Data, Label, Total] = [9852.988641.3, 337.382184.3, 49602.325389.3]\n",
      "!!! pred_type filter\n"
     ]
    },
    {
     "name": "stderr",
     "output_type": "stream",
     "text": [
      " 34%|█████████████████████████████████████████▏                                                                               | 85/250 [00:10<00:19,  8.66it/s]"
     ]
    },
    {
     "name": "stdout",
     "output_type": "stream",
     "text": [
      "--- Validation --- [threshold, AUC, Accuracy, F score] =  [np.float64(0.75), np.float64(0.97), np.float64(0.906), np.float64(0.92)]\n"
     ]
    },
    {
     "name": "stderr",
     "output_type": "stream",
     "text": [
      " 36%|███████████████████████████████████████████▌                                                                             | 90/250 [00:10<00:13, 11.59it/s]"
     ]
    },
    {
     "name": "stdout",
     "output_type": "stream",
     "text": [
      "--- Training --- [threshold, AUC] =  [np.float64(0.684), np.float64(0.97)]\n",
      "--- Iteration 90: Training loss --- [Data, Label, Total] = [9666.117139.3, 337.856093.3, 48668.441786.3]\n",
      "!!! pred_type filter\n"
     ]
    },
    {
     "name": "stderr",
     "output_type": "stream",
     "text": [
      " 40%|███████████████████████████████████████████████▉                                                                         | 99/250 [00:12<00:16,  9.24it/s]"
     ]
    },
    {
     "name": "stdout",
     "output_type": "stream",
     "text": [
      "--- Validation --- [threshold, AUC, Accuracy, F score] =  [np.float64(0.684), np.float64(0.97), np.float64(0.914), np.float64(0.93)]\n",
      "--- Training --- [threshold, AUC] =  [np.float64(0.695), np.float64(0.97)]\n",
      "--- Iteration 100: Training loss --- [Data, Label, Total] = [9526.799341.3, 338.152781.3, 47972.149487.3]\n",
      "!!! pred_type filter\n"
     ]
    },
    {
     "name": "stderr",
     "output_type": "stream",
     "text": [
      " 43%|███████████████████████████████████████████████████▎                                                                    | 107/250 [00:13<00:16,  8.64it/s]"
     ]
    },
    {
     "name": "stdout",
     "output_type": "stream",
     "text": [
      "--- Validation --- [threshold, AUC, Accuracy, F score] =  [np.float64(0.695), np.float64(0.97), np.float64(0.914), np.float64(0.93)]\n",
      "--- Training --- [threshold, AUC] =  [np.float64(0.7), np.float64(0.97)]\n",
      "--- Iteration 110: Training loss --- [Data, Label, Total] = [9415.512614.3, 338.302574.3, 47415.865646.3]\n",
      "!!! pred_type filter\n"
     ]
    },
    {
     "name": "stderr",
     "output_type": "stream",
     "text": [
      " 46%|███████████████████████████████████████████████████████▋                                                                | 116/250 [00:14<00:15,  8.62it/s]"
     ]
    },
    {
     "name": "stdout",
     "output_type": "stream",
     "text": [
      "--- Validation --- [threshold, AUC, Accuracy, F score] =  [np.float64(0.7), np.float64(0.97), np.float64(0.914), np.float64(0.929)]\n",
      "--- Training --- [threshold, AUC] =  [np.float64(0.699), np.float64(0.97)]\n",
      "--- Iteration 120: Training loss --- [Data, Label, Total] = [9320.296528.3, 338.286913.3, 46939.769552.3]\n",
      "!!! pred_type filter\n"
     ]
    },
    {
     "name": "stderr",
     "output_type": "stream",
     "text": [
      " 50%|████████████████████████████████████████████████████████████▍                                                           | 126/250 [00:15<00:13,  8.93it/s]"
     ]
    },
    {
     "name": "stdout",
     "output_type": "stream",
     "text": [
      "--- Validation --- [threshold, AUC, Accuracy, F score] =  [np.float64(0.699), np.float64(0.97), np.float64(0.917), np.float64(0.931)]\n"
     ]
    },
    {
     "name": "stderr",
     "output_type": "stream",
     "text": [
      " 52%|██████████████████████████████████████████████████████████████▍                                                         | 130/250 [00:16<00:10, 11.07it/s]"
     ]
    },
    {
     "name": "stdout",
     "output_type": "stream",
     "text": [
      "--- Training --- [threshold, AUC] =  [np.float64(0.698), np.float64(0.97)]\n",
      "--- Iteration 130: Training loss --- [Data, Label, Total] = [9234.217358.3, 338.430663.3, 46509.517453.3]\n",
      "!!! pred_type filter\n"
     ]
    },
    {
     "name": "stderr",
     "output_type": "stream",
     "text": [
      " 55%|██████████████████████████████████████████████████████████████████▏                                                     | 138/250 [00:17<00:12,  9.27it/s]"
     ]
    },
    {
     "name": "stdout",
     "output_type": "stream",
     "text": [
      "--- Validation --- [threshold, AUC, Accuracy, F score] =  [np.float64(0.698), np.float64(0.97), np.float64(0.917), np.float64(0.931)]\n",
      "--- Training --- [threshold, AUC] =  [np.float64(0.71), np.float64(0.97)]\n",
      "--- Iteration 140: Training loss --- [Data, Label, Total] = [9153.550594.3, 338.569780.3, 46106.322752.3]\n",
      "!!! pred_type filter\n"
     ]
    },
    {
     "name": "stderr",
     "output_type": "stream",
     "text": [
      " 58%|██████████████████████████████████████████████████████████████████████                                                  | 146/250 [00:18<00:12,  8.52it/s]"
     ]
    },
    {
     "name": "stdout",
     "output_type": "stream",
     "text": [
      "--- Validation --- [threshold, AUC, Accuracy, F score] =  [np.float64(0.71), np.float64(0.97), np.float64(0.914), np.float64(0.928)]\n",
      "--- Training --- [threshold, AUC] =  [np.float64(0.7), np.float64(0.97)]\n",
      "--- Iteration 150: Training loss --- [Data, Label, Total] = [9076.330516.3, 338.994153.3, 45720.646731.3]\n",
      "!!! pred_type filter\n"
     ]
    },
    {
     "name": "stderr",
     "output_type": "stream",
     "text": [
      " 62%|██████████████████████████████████████████████████████████████████████████▍                                             | 155/250 [00:19<00:11,  7.98it/s]"
     ]
    },
    {
     "name": "stdout",
     "output_type": "stream",
     "text": [
      "--- Validation --- [threshold, AUC, Accuracy, F score] =  [np.float64(0.7), np.float64(0.97), np.float64(0.916), np.float64(0.931)]\n"
     ]
    },
    {
     "name": "stderr",
     "output_type": "stream",
     "text": [
      " 64%|████████████████████████████████████████████████████████████████████████████▎                                           | 159/250 [00:20<00:08, 10.27it/s]"
     ]
    },
    {
     "name": "stdout",
     "output_type": "stream",
     "text": [
      "--- Training --- [threshold, AUC] =  [np.float64(0.709), np.float64(0.97)]\n",
      "--- Iteration 160: Training loss --- [Data, Label, Total] = [9001.002177.3, 339.132964.3, 45344.143846.3]\n",
      "!!! pred_type filter\n"
     ]
    },
    {
     "name": "stderr",
     "output_type": "stream",
     "text": [
      " 67%|████████████████████████████████████████████████████████████████████████████████▏                                       | 167/250 [00:21<00:09,  8.77it/s]"
     ]
    },
    {
     "name": "stdout",
     "output_type": "stream",
     "text": [
      "--- Validation --- [threshold, AUC, Accuracy, F score] =  [np.float64(0.709), np.float64(0.97), np.float64(0.915), np.float64(0.93)]\n",
      "--- Training --- [threshold, AUC] =  [np.float64(0.709), np.float64(0.97)]\n",
      "--- Iteration 170: Training loss --- [Data, Label, Total] = [8925.941559.3, 339.814108.3, 44969.521904.3]\n",
      "!!! pred_type filter\n"
     ]
    },
    {
     "name": "stderr",
     "output_type": "stream",
     "text": [
      " 70%|████████████████████████████████████████████████████████████████████████████████████                                    | 175/250 [00:22<00:09,  7.51it/s]"
     ]
    },
    {
     "name": "stdout",
     "output_type": "stream",
     "text": [
      "--- Validation --- [threshold, AUC, Accuracy, F score] =  [np.float64(0.709), np.float64(0.97), np.float64(0.915), np.float64(0.93)]\n"
     ]
    },
    {
     "name": "stderr",
     "output_type": "stream",
     "text": [
      " 72%|█████████████████████████████████████████████████████████████████████████████████████▉                                  | 179/250 [00:22<00:07,  9.75it/s]"
     ]
    },
    {
     "name": "stdout",
     "output_type": "stream",
     "text": [
      "--- Training --- [threshold, AUC] =  [np.float64(0.707), np.float64(0.97)]\n",
      "--- Iteration 180: Training loss --- [Data, Label, Total] = [8850.988733.3, 339.628132.3, 44594.571795.3]\n",
      "!!! pred_type filter\n"
     ]
    },
    {
     "name": "stderr",
     "output_type": "stream",
     "text": [
      " 74%|█████████████████████████████████████████████████████████████████████████████████████████▎                              | 186/250 [00:25<00:13,  4.91it/s]"
     ]
    },
    {
     "name": "stdout",
     "output_type": "stream",
     "text": [
      "--- Validation --- [threshold, AUC, Accuracy, F score] =  [np.float64(0.707), np.float64(0.97), np.float64(0.915), np.float64(0.93)]\n"
     ]
    },
    {
     "name": "stderr",
     "output_type": "stream",
     "text": [
      " 76%|███████████████████████████████████████████████████████████████████████████████████████████▏                            | 190/250 [00:25<00:08,  6.69it/s]"
     ]
    },
    {
     "name": "stdout",
     "output_type": "stream",
     "text": [
      "--- Training --- [threshold, AUC] =  [np.float64(0.709), np.float64(0.97)]\n",
      "--- Iteration 190: Training loss --- [Data, Label, Total] = [8777.587388.3, 339.350912.3, 44227.287851.3]\n",
      "!!! pred_type filter\n"
     ]
    },
    {
     "name": "stderr",
     "output_type": "stream",
     "text": [
      " 79%|██████████████████████████████████████████████████████████████████████████████████████████████▌                         | 197/250 [00:27<00:09,  5.36it/s]"
     ]
    },
    {
     "name": "stdout",
     "output_type": "stream",
     "text": [
      "--- Validation --- [threshold, AUC, Accuracy, F score] =  [np.float64(0.709), np.float64(0.97), np.float64(0.915), np.float64(0.93)]\n",
      "--- Training --- [threshold, AUC] =  [np.float64(0.707), np.float64(0.97)]\n",
      "--- Iteration 200: Training loss --- [Data, Label, Total] = [8708.990394.3, 340.124724.3, 43885.076693.3]\n",
      "!!! pred_type filter\n"
     ]
    },
    {
     "name": "stderr",
     "output_type": "stream",
     "text": [
      " 82%|██████████████████████████████████████████████████████████████████████████████████████████████████▉                     | 206/250 [00:28<00:06,  6.74it/s]"
     ]
    },
    {
     "name": "stdout",
     "output_type": "stream",
     "text": [
      "--- Validation --- [threshold, AUC, Accuracy, F score] =  [np.float64(0.707), np.float64(0.97), np.float64(0.915), np.float64(0.93)]\n"
     ]
    },
    {
     "name": "stderr",
     "output_type": "stream",
     "text": [
      " 84%|████████████████████████████████████████████████████████████████████████████████████████████████████▊                   | 210/250 [00:28<00:04,  8.66it/s]"
     ]
    },
    {
     "name": "stdout",
     "output_type": "stream",
     "text": [
      "--- Training --- [threshold, AUC] =  [np.float64(0.719), np.float64(0.97)]\n",
      "--- Iteration 210: Training loss --- [Data, Label, Total] = [8648.692757.3, 340.665441.3, 43584.129224.3]\n",
      "!!! pred_type filter\n"
     ]
    },
    {
     "name": "stderr",
     "output_type": "stream",
     "text": [
      " 87%|████████████████████████████████████████████████████████████████████████████████████████████████████████▋               | 218/250 [00:30<00:03,  8.16it/s]"
     ]
    },
    {
     "name": "stdout",
     "output_type": "stream",
     "text": [
      "--- Validation --- [threshold, AUC, Accuracy, F score] =  [np.float64(0.719), np.float64(0.97), np.float64(0.914), np.float64(0.928)]\n",
      "--- Training --- [threshold, AUC] =  [np.float64(0.719), np.float64(0.97)]\n",
      "--- Iteration 220: Training loss --- [Data, Label, Total] = [8598.302388.3, 340.683125.3, 43332.195065.3]\n",
      "!!! pred_type filter\n"
     ]
    },
    {
     "name": "stderr",
     "output_type": "stream",
     "text": [
      " 90%|████████████████████████████████████████████████████████████████████████████████████████████████████████████            | 225/250 [00:31<00:03,  7.44it/s]"
     ]
    },
    {
     "name": "stdout",
     "output_type": "stream",
     "text": [
      "--- Validation --- [threshold, AUC, Accuracy, F score] =  [np.float64(0.719), np.float64(0.97), np.float64(0.914), np.float64(0.929)]\n"
     ]
    },
    {
     "name": "stderr",
     "output_type": "stream",
     "text": [
      " 92%|█████████████████████████████████████████████████████████████████████████████████████████████████████████████▉          | 229/250 [00:31<00:02,  9.91it/s]"
     ]
    },
    {
     "name": "stdout",
     "output_type": "stream",
     "text": [
      "--- Training --- [threshold, AUC] =  [np.float64(0.711), np.float64(0.97)]\n",
      "--- Iteration 230: Training loss --- [Data, Label, Total] = [8557.455990.3, 340.836940.3, 43128.116888.3]\n",
      "!!! pred_type filter\n"
     ]
    },
    {
     "name": "stderr",
     "output_type": "stream",
     "text": [
      " 95%|█████████████████████████████████████████████████████████████████████████████████████████████████████████████████▊      | 237/250 [00:32<00:01,  8.71it/s]"
     ]
    },
    {
     "name": "stdout",
     "output_type": "stream",
     "text": [
      "--- Validation --- [threshold, AUC, Accuracy, F score] =  [np.float64(0.711), np.float64(0.97), np.float64(0.916), np.float64(0.93)]\n",
      "--- Training --- [threshold, AUC] =  [np.float64(0.719), np.float64(0.97)]\n",
      "--- Iteration 240: Training loss --- [Data, Label, Total] = [8524.443952.3, 341.249234.3, 42963.468993.3]\n",
      "!!! pred_type filter\n"
     ]
    },
    {
     "name": "stderr",
     "output_type": "stream",
     "text": [
      " 98%|██████████████████████████████████████████████████████████████████████████████████████████████████████████████████████  | 246/250 [00:34<00:00,  8.62it/s]"
     ]
    },
    {
     "name": "stdout",
     "output_type": "stream",
     "text": [
      "--- Validation --- [threshold, AUC, Accuracy, F score] =  [np.float64(0.719), np.float64(0.97), np.float64(0.914), np.float64(0.929)]\n"
     ]
    },
    {
     "name": "stderr",
     "output_type": "stream",
     "text": [
      "100%|████████████████████████████████████████████████████████████████████████████████████████████████████████████████████████| 250/250 [00:34<00:00,  7.32it/s]\n"
     ]
    },
    {
     "name": "stdout",
     "output_type": "stream",
     "text": [
      "!!! pred_type filter\n",
      "num of subgraphs induced on k-paths: 500\n",
      "num of subgraphs induced on k-paths: 500\n",
      "X_list: (225, 1000)\n",
      "2\n",
      "(1, 500)\n",
      "(1, 500)\n",
      "label_vec: (1, 1000)\n",
      "('Caltech36', 'UCLA26') predicting Harvard1 0.8412889503363662\n",
      "\n",
      "3: 0.8778558372677772\n",
      "4: 0.8449298516548318\n",
      "5: 0.8328589202034812\n",
      "6: 0.8810722135926942\n",
      "7: 0.8300352574962108\n",
      "8: 0.8341847021951587\n",
      "9: 0.8194475467039469\n",
      "10: 0.8129617372639039\n",
      "11: 0.845638803372221\n",
      "12: 0.8369670343428398\n",
      "13: 0.8623456412356946\n",
      "14: 0.831572887805297\n",
      "15: 0.8408084132367011\n",
      "16: 0.8064638447237019\n",
      "17: 0.8287998330500281\n",
      "18: 0.8373152203303609\n",
      "19: 0.8276952327992096\n",
      "20: 0.8418126002700697\n",
      "21: 0.8454592943223044\n",
      "22: 0.844181117391187\n",
      "23: 0.8419497556991397\n",
      "24: 0.8333939205936771\n",
      "25: 0.819992628909854\n",
      "26: 0.8129853174398964\n",
      "27: 0.8291130598632306\n",
      "28: 0.8279831681480128\n",
      "29: 0.7997691799989031\n",
      "30: 0.8155019772056755\n",
      "31: 0.8481143949409209\n",
      "32: 0.8332093764725429\n",
      "33: 0.8464090068350896\n",
      "34: 0.8140382348836269\n",
      "35: 0.8003759641336035\n",
      "36: 0.8309834827510887\n",
      "37: 0.8388856851528265\n",
      "38: 0.8412889503363662\n",
      "\n",
      "num of subgraphs induced on k-paths: 500\n",
      "num of subgraphs induced on k-paths: 500\n",
      "X_list: (225, 1000)\n",
      "2\n",
      "(1, 500)\n",
      "(1, 500)\n",
      "label_vec: (1, 1000)\n",
      "num of subgraphs induced on k-paths: 500\n",
      "num of subgraphs induced on k-paths: 824\n",
      "X_list: (225, 1324)\n",
      "2\n",
      "(1, 500)\n",
      "(1, 824)\n",
      "label_vec: (1, 1324)\n",
      "initial loading beta [[-0.3674699   0.00263919 -0.99217578 -0.50578883  0.80933546  0.57912482\n",
      "  -0.53958924  0.36098284  0.2714777  -0.38723437 -0.05946434 -0.56547247\n",
      "   0.6049121  -0.97135244  0.51031603  0.85823056  0.85297811  0.0568047\n",
      "   0.51005942 -0.67097994  0.93643352  0.78954714  0.90899459  0.41774994\n",
      "   0.96792605 -0.73358993 -0.83890513  0.99301594  0.71407096  0.65206296\n",
      "  -0.41243532 -0.35182212  0.52991329  0.82523894  0.84819178 -0.89438684\n",
      "   0.56244788  0.77653225  0.12227357 -0.90180255]]\n"
     ]
    },
    {
     "name": "stderr",
     "output_type": "stream",
     "text": [
      "  2%|█▉                                                                                                                        | 4/250 [00:00<00:06, 37.12it/s]"
     ]
    },
    {
     "name": "stdout",
     "output_type": "stream",
     "text": [
      "--- Training --- [threshold, AUC] =  [np.float64(0.729), np.float64(0.97)]\n",
      "--- Iteration 0: Training loss --- [Data, Label, Total] = [39193.943154.3, 315.490255.3, 196285.206025.3]\n"
     ]
    },
    {
     "name": "stderr",
     "output_type": "stream",
     "text": [
      "  4%|████▍                                                                                                                     | 9/250 [00:00<00:06, 39.61it/s]"
     ]
    },
    {
     "name": "stdout",
     "output_type": "stream",
     "text": [
      "--- Training --- [threshold, AUC] =  [np.float64(0.733), np.float64(0.97)]\n",
      "--- Iteration 10: Training loss --- [Data, Label, Total] = [17287.096910.3, 311.223117.3, 86746.707665.3]\n",
      "!!! pred_type filter\n"
     ]
    },
    {
     "name": "stderr",
     "output_type": "stream",
     "text": [
      "  7%|████████▋                                                                                                                | 18/250 [00:01<00:23,  9.83it/s]"
     ]
    },
    {
     "name": "stdout",
     "output_type": "stream",
     "text": [
      "--- Validation --- [threshold, AUC, Accuracy, F score] =  [np.float64(0.733), np.float64(0.97), np.float64(0.918), np.float64(0.931)]\n",
      "--- Training --- [threshold, AUC] =  [np.float64(0.646), np.float64(0.972)]\n",
      "--- Iteration 20: Training loss --- [Data, Label, Total] = [14683.461387.3, 305.724874.3, 73723.031810.3]\n",
      "!!! pred_type filter\n"
     ]
    },
    {
     "name": "stderr",
     "output_type": "stream",
     "text": [
      " 11%|█████████████                                                                                                            | 27/250 [00:03<00:25,  8.91it/s]"
     ]
    },
    {
     "name": "stdout",
     "output_type": "stream",
     "text": [
      "--- Validation --- [threshold, AUC, Accuracy, F score] =  [np.float64(0.646), np.float64(0.972), np.float64(0.924), np.float64(0.938)]\n",
      "--- Training --- [threshold, AUC] =  [np.float64(0.759), np.float64(0.972)]\n",
      "--- Iteration 30: Training loss --- [Data, Label, Total] = [13252.106515.3, 305.754586.3, 66566.287161.3]\n",
      "!!! pred_type filter\n"
     ]
    },
    {
     "name": "stderr",
     "output_type": "stream",
     "text": [
      " 14%|█████████████████▍                                                                                                       | 36/250 [00:04<00:24,  8.66it/s]"
     ]
    },
    {
     "name": "stdout",
     "output_type": "stream",
     "text": [
      "--- Validation --- [threshold, AUC, Accuracy, F score] =  [np.float64(0.759), np.float64(0.972), np.float64(0.917), np.float64(0.93)]\n"
     ]
    },
    {
     "name": "stderr",
     "output_type": "stream",
     "text": [
      " 16%|███████████████████▎                                                                                                     | 40/250 [00:04<00:19, 10.98it/s]"
     ]
    },
    {
     "name": "stdout",
     "output_type": "stream",
     "text": [
      "--- Training --- [threshold, AUC] =  [np.float64(0.739), np.float64(0.972)]\n",
      "--- Iteration 40: Training loss --- [Data, Label, Total] = [12242.500663.3, 306.227434.3, 61518.730751.3]\n",
      "!!! pred_type filter\n"
     ]
    },
    {
     "name": "stderr",
     "output_type": "stream",
     "text": [
      " 19%|██████████████████████▋                                                                                                  | 47/250 [00:05<00:24,  8.19it/s]"
     ]
    },
    {
     "name": "stdout",
     "output_type": "stream",
     "text": [
      "--- Validation --- [threshold, AUC, Accuracy, F score] =  [np.float64(0.739), np.float64(0.972), np.float64(0.918), np.float64(0.931)]\n",
      "--- Training --- [threshold, AUC] =  [np.float64(0.73), np.float64(0.973)]\n",
      "--- Iteration 50: Training loss --- [Data, Label, Total] = [11486.134855.3, 306.391281.3, 57737.065558.3]\n",
      "!!! pred_type filter\n"
     ]
    },
    {
     "name": "stderr",
     "output_type": "stream",
     "text": [
      " 22%|██████████████████████████▌                                                                                              | 55/250 [00:07<00:28,  6.96it/s]"
     ]
    },
    {
     "name": "stdout",
     "output_type": "stream",
     "text": [
      "--- Validation --- [threshold, AUC, Accuracy, F score] =  [np.float64(0.73), np.float64(0.973), np.float64(0.92), np.float64(0.934)]\n"
     ]
    },
    {
     "name": "stderr",
     "output_type": "stream",
     "text": [
      " 23%|████████████████████████████                                                                                             | 58/250 [00:07<00:22,  8.56it/s]"
     ]
    },
    {
     "name": "stdout",
     "output_type": "stream",
     "text": [
      "--- Training --- [threshold, AUC] =  [np.float64(0.732), np.float64(0.973)]\n",
      "--- Iteration 60: Training loss --- [Data, Label, Total] = [10870.977155.3, 306.433339.3, 54661.319113.3]\n",
      "!!! pred_type filter\n"
     ]
    },
    {
     "name": "stderr",
     "output_type": "stream",
     "text": [
      " 26%|███████████████████████████████▍                                                                                         | 65/250 [00:08<00:26,  6.95it/s]"
     ]
    },
    {
     "name": "stdout",
     "output_type": "stream",
     "text": [
      "--- Validation --- [threshold, AUC, Accuracy, F score] =  [np.float64(0.732), np.float64(0.973), np.float64(0.92), np.float64(0.933)]\n"
     ]
    },
    {
     "name": "stderr",
     "output_type": "stream",
     "text": [
      " 28%|█████████████████████████████████▍                                                                                       | 69/250 [00:08<00:19,  9.46it/s]"
     ]
    },
    {
     "name": "stdout",
     "output_type": "stream",
     "text": [
      "--- Training --- [threshold, AUC] =  [np.float64(0.739), np.float64(0.973)]\n",
      "--- Iteration 70: Training loss --- [Data, Label, Total] = [10357.965221.3, 306.525727.3, 52096.351830.3]\n",
      "!!! pred_type filter\n"
     ]
    },
    {
     "name": "stderr",
     "output_type": "stream",
     "text": [
      " 31%|█████████████████████████████████████▎                                                                                   | 77/250 [00:10<00:20,  8.46it/s]"
     ]
    },
    {
     "name": "stdout",
     "output_type": "stream",
     "text": [
      "--- Validation --- [threshold, AUC, Accuracy, F score] =  [np.float64(0.739), np.float64(0.973), np.float64(0.92), np.float64(0.933)]\n",
      "--- Training --- [threshold, AUC] =  [np.float64(0.739), np.float64(0.974)]\n",
      "--- Iteration 80: Training loss --- [Data, Label, Total] = [9950.633827.3, 306.244539.3, 50059.413674.3]\n",
      "!!! pred_type filter\n"
     ]
    },
    {
     "name": "stderr",
     "output_type": "stream",
     "text": [
      " 34%|████████████████████████████████████████▋                                                                                | 84/250 [00:11<00:22,  7.26it/s]"
     ]
    },
    {
     "name": "stdout",
     "output_type": "stream",
     "text": [
      "--- Validation --- [threshold, AUC, Accuracy, F score] =  [np.float64(0.739), np.float64(0.974), np.float64(0.921), np.float64(0.934)]\n"
     ]
    },
    {
     "name": "stderr",
     "output_type": "stream",
     "text": [
      " 35%|██████████████████████████████████████████▌                                                                              | 88/250 [00:11<00:16,  9.71it/s]"
     ]
    },
    {
     "name": "stdout",
     "output_type": "stream",
     "text": [
      "--- Training --- [threshold, AUC] =  [np.float64(0.743), np.float64(0.974)]\n",
      "--- Iteration 90: Training loss --- [Data, Label, Total] = [9645.491479.3, 306.173676.3, 48533.631070.3]\n",
      "!!! pred_type filter\n"
     ]
    },
    {
     "name": "stderr",
     "output_type": "stream",
     "text": [
      " 38%|█████████████████████████████████████████████▉                                                                           | 95/250 [00:12<00:19,  7.94it/s]"
     ]
    },
    {
     "name": "stdout",
     "output_type": "stream",
     "text": [
      "--- Validation --- [threshold, AUC, Accuracy, F score] =  [np.float64(0.743), np.float64(0.974), np.float64(0.921), np.float64(0.935)]\n"
     ]
    },
    {
     "name": "stderr",
     "output_type": "stream",
     "text": [
      " 40%|████████████████████████████████████████████████                                                                        | 100/250 [00:12<00:13, 11.24it/s]"
     ]
    },
    {
     "name": "stdout",
     "output_type": "stream",
     "text": [
      "--- Training --- [threshold, AUC] =  [np.float64(0.749), np.float64(0.974)]\n",
      "--- Iteration 100: Training loss --- [Data, Label, Total] = [9418.550551.3, 305.972097.3, 47398.724851.3]\n",
      "!!! pred_type filter\n"
     ]
    },
    {
     "name": "stderr",
     "output_type": "stream",
     "text": [
      " 43%|███████████████████████████████████████████████████▊                                                                    | 108/250 [00:14<00:15,  9.24it/s]"
     ]
    },
    {
     "name": "stdout",
     "output_type": "stream",
     "text": [
      "--- Validation --- [threshold, AUC, Accuracy, F score] =  [np.float64(0.749), np.float64(0.974), np.float64(0.921), np.float64(0.935)]\n",
      "--- Training --- [threshold, AUC] =  [np.float64(0.749), np.float64(0.974)]\n",
      "--- Iteration 110: Training loss --- [Data, Label, Total] = [9244.968858.3, 305.878800.3, 46530.723092.3]\n",
      "!!! pred_type filter\n"
     ]
    },
    {
     "name": "stderr",
     "output_type": "stream",
     "text": [
      " 46%|███████████████████████████████████████████████████████▏                                                                | 115/250 [00:15<00:16,  8.14it/s]"
     ]
    },
    {
     "name": "stdout",
     "output_type": "stream",
     "text": [
      "--- Validation --- [threshold, AUC, Accuracy, F score] =  [np.float64(0.749), np.float64(0.974), np.float64(0.921), np.float64(0.935)]\n"
     ]
    },
    {
     "name": "stderr",
     "output_type": "stream",
     "text": [
      " 48%|█████████████████████████████████████████████████████████▌                                                              | 120/250 [00:15<00:11, 11.38it/s]"
     ]
    },
    {
     "name": "stdout",
     "output_type": "stream",
     "text": [
      "--- Training --- [threshold, AUC] =  [np.float64(0.752), np.float64(0.974)]\n",
      "--- Iteration 120: Training loss --- [Data, Label, Total] = [9107.119400.3, 305.848254.3, 45841.445253.3]\n",
      "!!! pred_type filter\n"
     ]
    },
    {
     "name": "stderr",
     "output_type": "stream",
     "text": [
      " 51%|█████████████████████████████████████████████████████████████▍                                                          | 128/250 [00:16<00:12,  9.40it/s]"
     ]
    },
    {
     "name": "stdout",
     "output_type": "stream",
     "text": [
      "--- Validation --- [threshold, AUC, Accuracy, F score] =  [np.float64(0.752), np.float64(0.974), np.float64(0.921), np.float64(0.935)]\n",
      "--- Training --- [threshold, AUC] =  [np.float64(0.697), np.float64(0.974)]\n",
      "--- Iteration 130: Training loss --- [Data, Label, Total] = [8993.872098.3, 306.078169.3, 45275.438658.3]\n",
      "!!! pred_type filter\n"
     ]
    },
    {
     "name": "stderr",
     "output_type": "stream",
     "text": [
      " 54%|█████████████████████████████████████████████████████████████████▎                                                      | 136/250 [00:17<00:13,  8.75it/s]"
     ]
    },
    {
     "name": "stdout",
     "output_type": "stream",
     "text": [
      "--- Validation --- [threshold, AUC, Accuracy, F score] =  [np.float64(0.697), np.float64(0.974), np.float64(0.925), np.float64(0.938)]\n",
      "--- Training --- [threshold, AUC] =  [np.float64(0.694), np.float64(0.975)]\n",
      "--- Iteration 140: Training loss --- [Data, Label, Total] = [8899.428498.3, 306.503336.3, 44803.645825.3]\n",
      "!!! pred_type filter\n"
     ]
    },
    {
     "name": "stderr",
     "output_type": "stream",
     "text": [
      " 58%|██████████████████████████████████████████████████████████████████████                                                  | 146/250 [00:19<00:11,  9.12it/s]"
     ]
    },
    {
     "name": "stdout",
     "output_type": "stream",
     "text": [
      "--- Validation --- [threshold, AUC, Accuracy, F score] =  [np.float64(0.694), np.float64(0.975), np.float64(0.926), np.float64(0.939)]\n",
      "--- Training --- [threshold, AUC] =  [np.float64(0.691), np.float64(0.975)]\n",
      "--- Iteration 150: Training loss --- [Data, Label, Total] = [8819.971308.3, 306.096344.3, 44405.952884.3]\n",
      "!!! pred_type filter\n"
     ]
    },
    {
     "name": "stderr",
     "output_type": "stream",
     "text": [
      " 62%|██████████████████████████████████████████████████████████████████████████▉                                             | 156/250 [00:20<00:10,  9.22it/s]"
     ]
    },
    {
     "name": "stdout",
     "output_type": "stream",
     "text": [
      "--- Validation --- [threshold, AUC, Accuracy, F score] =  [np.float64(0.691), np.float64(0.975), np.float64(0.926), np.float64(0.939)]\n",
      "--- Training --- [threshold, AUC] =  [np.float64(0.687), np.float64(0.975)]\n",
      "--- Iteration 160: Training loss --- [Data, Label, Total] = [8751.547056.3, 306.140624.3, 44063.875906.3]\n",
      "!!! pred_type filter\n"
     ]
    },
    {
     "name": "stderr",
     "output_type": "stream",
     "text": [
      " 66%|███████████████████████████████████████████████████████████████████████████████▏                                        | 165/250 [00:21<00:09,  8.79it/s]"
     ]
    },
    {
     "name": "stdout",
     "output_type": "stream",
     "text": [
      "--- Validation --- [threshold, AUC, Accuracy, F score] =  [np.float64(0.687), np.float64(0.975), np.float64(0.926), np.float64(0.939)]\n"
     ]
    },
    {
     "name": "stderr",
     "output_type": "stream",
     "text": [
      " 68%|█████████████████████████████████████████████████████████████████████████████████                                       | 169/250 [00:21<00:07, 11.14it/s]"
     ]
    },
    {
     "name": "stdout",
     "output_type": "stream",
     "text": [
      "--- Training --- [threshold, AUC] =  [np.float64(0.689), np.float64(0.975)]\n",
      "--- Iteration 170: Training loss --- [Data, Label, Total] = [8691.174108.3, 305.995805.3, 43761.866345.3]\n",
      "!!! pred_type filter\n"
     ]
    },
    {
     "name": "stderr",
     "output_type": "stream",
     "text": [
      " 70%|████████████████████████████████████████████████████████████████████████████████████▍                                   | 176/250 [00:22<00:08,  8.82it/s]"
     ]
    },
    {
     "name": "stdout",
     "output_type": "stream",
     "text": [
      "--- Validation --- [threshold, AUC, Accuracy, F score] =  [np.float64(0.689), np.float64(0.975), np.float64(0.926), np.float64(0.939)]\n",
      "--- Training --- [threshold, AUC] =  [np.float64(0.696), np.float64(0.975)]\n",
      "--- Iteration 180: Training loss --- [Data, Label, Total] = [8636.264854.3, 306.087842.3, 43487.412112.3]\n",
      "!!! pred_type filter\n"
     ]
    },
    {
     "name": "stderr",
     "output_type": "stream",
     "text": [
      " 74%|█████████████████████████████████████████████████████████████████████████████████████████▎                              | 186/250 [00:24<00:07,  9.09it/s]"
     ]
    },
    {
     "name": "stdout",
     "output_type": "stream",
     "text": [
      "--- Validation --- [threshold, AUC, Accuracy, F score] =  [np.float64(0.696), np.float64(0.975), np.float64(0.926), np.float64(0.939)]\n",
      "--- Training --- [threshold, AUC] =  [np.float64(0.678), np.float64(0.975)]\n",
      "--- Iteration 190: Training loss --- [Data, Label, Total] = [8584.991816.3, 305.787946.3, 43230.747026.3]\n",
      "!!! pred_type filter\n"
     ]
    },
    {
     "name": "stderr",
     "output_type": "stream",
     "text": [
      " 78%|██████████████████████████████████████████████████████████████████████████████████████████████                          | 196/250 [00:25<00:05,  9.26it/s]"
     ]
    },
    {
     "name": "stdout",
     "output_type": "stream",
     "text": [
      "--- Validation --- [threshold, AUC, Accuracy, F score] =  [np.float64(0.678), np.float64(0.975), np.float64(0.927), np.float64(0.94)]\n",
      "--- Training --- [threshold, AUC] =  [np.float64(0.71), np.float64(0.975)]\n",
      "--- Iteration 200: Training loss --- [Data, Label, Total] = [8536.688402.3, 305.932640.3, 42989.374648.3]\n",
      "!!! pred_type filter\n"
     ]
    },
    {
     "name": "stderr",
     "output_type": "stream",
     "text": [
      " 82%|██████████████████████████████████████████████████████████████████████████████████████████████████▉                     | 206/250 [00:26<00:04,  9.30it/s]"
     ]
    },
    {
     "name": "stdout",
     "output_type": "stream",
     "text": [
      "--- Validation --- [threshold, AUC, Accuracy, F score] =  [np.float64(0.71), np.float64(0.975), np.float64(0.924), np.float64(0.938)]\n",
      "--- Training --- [threshold, AUC] =  [np.float64(0.709), np.float64(0.975)]\n",
      "--- Iteration 210: Training loss --- [Data, Label, Total] = [8490.956498.3, 305.649368.3, 42760.431855.3]\n",
      "!!! pred_type filter\n"
     ]
    },
    {
     "name": "stderr",
     "output_type": "stream",
     "text": [
      " 86%|███████████████████████████████████████████████████████████████████████████████████████████████████████▋                | 216/250 [00:27<00:03,  9.29it/s]"
     ]
    },
    {
     "name": "stdout",
     "output_type": "stream",
     "text": [
      "--- Validation --- [threshold, AUC, Accuracy, F score] =  [np.float64(0.709), np.float64(0.975), np.float64(0.925), np.float64(0.938)]\n"
     ]
    },
    {
     "name": "stderr",
     "output_type": "stream",
     "text": [
      " 88%|█████████████████████████████████████████████████████████████████████████████████████████████████████████               | 219/250 [00:27<00:02, 10.56it/s]"
     ]
    },
    {
     "name": "stdout",
     "output_type": "stream",
     "text": [
      "--- Training --- [threshold, AUC] =  [np.float64(0.738), np.float64(0.975)]\n",
      "--- Iteration 220: Training loss --- [Data, Label, Total] = [8447.010554.3, 306.296473.3, 42541.349243.3]\n",
      "!!! pred_type filter\n"
     ]
    },
    {
     "name": "stderr",
     "output_type": "stream",
     "text": [
      " 91%|████████████████████████████████████████████████████████████████████████████████████████████████████████████▉           | 227/250 [00:29<00:02,  9.12it/s]"
     ]
    },
    {
     "name": "stdout",
     "output_type": "stream",
     "text": [
      "--- Validation --- [threshold, AUC, Accuracy, F score] =  [np.float64(0.738), np.float64(0.975), np.float64(0.924), np.float64(0.937)]\n",
      "--- Training --- [threshold, AUC] =  [np.float64(0.709), np.float64(0.975)]\n",
      "--- Iteration 230: Training loss --- [Data, Label, Total] = [8404.272839.3, 305.864931.3, 42327.229127.3]\n",
      "!!! pred_type filter\n"
     ]
    },
    {
     "name": "stderr",
     "output_type": "stream",
     "text": [
      " 94%|█████████████████████████████████████████████████████████████████████████████████████████████████████████████████▎      | 236/250 [00:30<00:01,  8.88it/s]"
     ]
    },
    {
     "name": "stdout",
     "output_type": "stream",
     "text": [
      "--- Validation --- [threshold, AUC, Accuracy, F score] =  [np.float64(0.709), np.float64(0.975), np.float64(0.926), np.float64(0.939)]\n",
      "--- Training --- [threshold, AUC] =  [np.float64(0.734), np.float64(0.975)]\n",
      "--- Iteration 240: Training loss --- [Data, Label, Total] = [8362.076338.3, 305.573374.3, 42115.955061.3]\n",
      "!!! pred_type filter\n"
     ]
    },
    {
     "name": "stderr",
     "output_type": "stream",
     "text": [
      " 98%|██████████████████████████████████████████████████████████████████████████████████████████████████████████████████████  | 246/250 [00:31<00:00,  9.04it/s]"
     ]
    },
    {
     "name": "stdout",
     "output_type": "stream",
     "text": [
      "--- Validation --- [threshold, AUC, Accuracy, F score] =  [np.float64(0.734), np.float64(0.975), np.float64(0.924), np.float64(0.937)]\n"
     ]
    },
    {
     "name": "stderr",
     "output_type": "stream",
     "text": [
      "100%|████████████████████████████████████████████████████████████████████████████████████████████████████████████████████████| 250/250 [00:31<00:00,  7.86it/s]\n"
     ]
    },
    {
     "name": "stdout",
     "output_type": "stream",
     "text": [
      "!!! pred_type filter\n",
      "num of subgraphs induced on k-paths: 500\n",
      "num of subgraphs induced on k-paths: 500\n",
      "X_list: (225, 1000)\n",
      "2\n",
      "(1, 500)\n",
      "(1, 500)\n",
      "label_vec: (1, 1000)\n",
      "('Caltech36', 'UCLA26') predicting Harvard1 0.7664798226684554\n",
      "\n",
      "3: 0.8778558372677772\n",
      "4: 0.8449298516548318\n",
      "5: 0.8328589202034812\n",
      "6: 0.8810722135926942\n",
      "7: 0.8300352574962108\n",
      "8: 0.8341847021951587\n",
      "9: 0.8194475467039469\n",
      "10: 0.8129617372639039\n",
      "11: 0.845638803372221\n",
      "12: 0.8369670343428398\n",
      "13: 0.8623456412356946\n",
      "14: 0.831572887805297\n",
      "15: 0.8408084132367011\n",
      "16: 0.8064638447237019\n",
      "17: 0.8287998330500281\n",
      "18: 0.8373152203303609\n",
      "19: 0.8276952327992096\n",
      "20: 0.8418126002700697\n",
      "21: 0.8454592943223044\n",
      "22: 0.844181117391187\n",
      "23: 0.8419497556991397\n",
      "24: 0.8333939205936771\n",
      "25: 0.819992628909854\n",
      "26: 0.8129853174398964\n",
      "27: 0.8291130598632306\n",
      "28: 0.8279831681480128\n",
      "29: 0.7997691799989031\n",
      "30: 0.8155019772056755\n",
      "31: 0.8481143949409209\n",
      "32: 0.8332093764725429\n",
      "33: 0.8464090068350896\n",
      "34: 0.8140382348836269\n",
      "35: 0.8003759641336035\n",
      "36: 0.8309834827510887\n",
      "37: 0.8388856851528265\n",
      "38: 0.8412889503363662\n",
      "39: 0.7664798226684554\n",
      "\n"
     ]
    }
   ],
   "source": [
    "network1 = \"Caltech36\"\n",
    "network2 = \"UCLA26\"\n",
    "messages_n = \"\"\n",
    "for n in range(3, 40):\n",
    "    messages_n += f\"{n}: {helper.similarity(network1, network2, \"Harvard1\", k = 15, n_components = n)}\\n\"\n",
    "    print(messages_n)"
   ]
  },
  {
   "cell_type": "code",
   "execution_count": null,
   "id": "e045b8a0-105b-4564-84fb-a95cadef4e25",
   "metadata": {},
   "outputs": [],
   "source": [
    "def similarity(network1, network2, k = 30, xi = 5, n_components = 16):\n",
    "    Output = live_sample(network1, network2, k = k)\n",
    "    X = Output[0]\n",
    "    Y = Output[1][:, np.newaxis]\n",
    "    Xtest, Ytest = X, Y\n",
    "    SMF_Train = SMF.SDL_BCD([X, Y.T], X_test=[Xtest, Ytest.T], xi=xi, n_components=n_components)\n",
    "    results_dict_new = SMF_Train.fit(iter=250, subsample_size=None, option = \"filter\",# search_radius_const=200*np.linalg.norm(X),\n",
    "                                if_compute_recons_error=True, if_validate=True)\n",
    "    W = results_dict_new.get('loading')[0]\n",
    "    beta = results_dict_new.get('loading')[1]\n",
    "    prediction = live_sample(network2, network2, k = k)\n",
    "    pred = []\n",
    "    for j in range(prediction.shape[0]):\n",
    "        a = beta[:,1:] @ W.T @ prediction[:,j] + beta[:,0]\n",
    "        pred.append(1/(1+np.exp(-a)[0]))\n",
    "    message = (f\"{network1, network2} predicting {network3} {}n\")\n",
    "    print(message)\n",
    "    return pred"
   ]
  },
  {
   "cell_type": "code",
   "execution_count": null,
   "id": "fba1c8d8-1b72-4726-b401-58abae1878ae",
   "metadata": {},
   "outputs": [],
   "source": [
    "def live_sample(graph1, graph2, k=30, tolerance=0.05):\n",
    "    ntwk_list = [graph1, graph2]\n",
    "    graph_list = []\n",
    "    for ntwk in ntwk_list:\n",
    "        path = \"data/\" + str(ntwk) + '.txt'\n",
    "        G = nn.NNetwork()\n",
    "        G.load_add_edges(path, increment_weights=False, use_genfromtxt=True)\n",
    "        graph_list.append(G)\n",
    "    if graph1 == graph2:\n",
    "        return sampling(graph_list, k=k, sample_size_list =[500,500])\n"
   ]
  }
 ],
 "metadata": {
  "kernelspec": {
   "display_name": "Python 3 (ipykernel)",
   "language": "python",
   "name": "python3"
  },
  "language_info": {
   "codemirror_mode": {
    "name": "ipython",
    "version": 3
   },
   "file_extension": ".py",
   "mimetype": "text/x-python",
   "name": "python",
   "nbconvert_exporter": "python",
   "pygments_lexer": "ipython3",
   "version": "3.12.4"
  }
 },
 "nbformat": 4,
 "nbformat_minor": 5
}
