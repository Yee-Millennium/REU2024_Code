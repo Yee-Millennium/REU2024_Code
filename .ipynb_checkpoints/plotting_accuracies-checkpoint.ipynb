{
 "cells": [
  {
   "cell_type": "code",
   "execution_count": 26,
   "id": "e65395c2-ac0e-4e41-9f5f-51f5ceb6cc6c",
   "metadata": {},
   "outputs": [],
   "source": [
    "import roc_curve_test as roc\n",
    "import numpy as np\n",
    "import matplotlib.pyplot as plt"
   ]
  },
  {
   "cell_type": "code",
   "execution_count": 27,
   "id": "1eef8d95-462b-4779-bd88-df61dda377bb",
   "metadata": {},
   "outputs": [],
   "source": [
    "accu = []"
   ]
  },
  {
   "cell_type": "code",
   "execution_count": 28,
   "id": "c1fa7e78-dec2-409c-a33e-52c322d539ed",
   "metadata": {},
   "outputs": [
    {
     "name": "stdout",
     "output_type": "stream",
     "text": [
      "5\n",
      "num of subgraphs induced on k-paths: 500\n",
      "num of subgraphs induced on k-paths: 500\n",
      "X_list: (25, 1000)\n",
      "2\n",
      "(1, 500)\n",
      "(1, 500)\n",
      "label_vec: (1, 1000)\n",
      "num of subgraphs induced on k-paths: 500\n",
      "num of subgraphs induced on k-paths: 614\n",
      "X_list: (25, 1114)\n",
      "2\n",
      "(1, 500)\n",
      "(1, 614)\n",
      "label_vec: (1, 1114)\n",
      "initial loading beta [[-0.28699329 -0.00189934 -0.65503863 -0.32472104 -0.28234572  0.55006231\n",
      "  -0.92128422 -0.73231862  0.79121367  0.9344107   0.42267844  0.48930836\n",
      "  -0.97865578 -0.54875875  0.26192402  0.66023522 -0.30688716]]\n"
     ]
    },
    {
     "name": "stderr",
     "output_type": "stream",
     "text": [
      "  0%|                                                                                                                                  | 0/250 [00:00<?, ?it/s]"
     ]
    },
    {
     "name": "stdout",
     "output_type": "stream",
     "text": [
      "--- Training --- [threshold, AUC] =  [np.float64(0.547), np.float64(0.74)]\n",
      "--- Iteration 0: Training loss --- [Data, Label, Total] = [2447.742357.3, 661.799474.3, 12900.511258.3]\n",
      "--- Training --- [threshold, AUC] =  [np.float64(0.556), np.float64(0.744)]\n",
      "--- Iteration 10: Training loss --- [Data, Label, Total] = [334.502045.3, 655.664238.3, 2328.174462.3]\n",
      "!!! pred_type filter\n"
     ]
    },
    {
     "name": "stderr",
     "output_type": "stream",
     "text": [
      "  4%|█████▎                                                                                                                   | 11/250 [00:00<00:09, 25.45it/s]"
     ]
    },
    {
     "name": "stdout",
     "output_type": "stream",
     "text": [
      "--- Validation --- [threshold, AUC, Accuracy, F score] =  [np.float64(0.556), np.float64(0.744), np.float64(0.716), np.float64(0.771)]\n",
      "--- Training --- [threshold, AUC] =  [np.float64(0.564), np.float64(0.744)]\n",
      "--- Iteration 20: Training loss --- [Data, Label, Total] = [100.087828.3, 655.335406.3, 1155.774544.3]\n",
      "!!! pred_type filter\n"
     ]
    },
    {
     "name": "stderr",
     "output_type": "stream",
     "text": [
      "  8%|██████████▏                                                                                                              | 21/250 [00:00<00:09, 23.30it/s]"
     ]
    },
    {
     "name": "stdout",
     "output_type": "stream",
     "text": [
      "--- Validation --- [threshold, AUC, Accuracy, F score] =  [np.float64(0.564), np.float64(0.744), np.float64(0.716), np.float64(0.771)]\n",
      "--- Training --- [threshold, AUC] =  [np.float64(0.566), np.float64(0.744)]\n",
      "--- Iteration 30: Training loss --- [Data, Label, Total] = [25.751752.3, 655.157292.3, 783.916052.3]\n",
      "!!! pred_type filter\n"
     ]
    },
    {
     "name": "stderr",
     "output_type": "stream",
     "text": [
      " 12%|███████████████                                                                                                          | 31/250 [00:01<00:09, 22.96it/s]"
     ]
    },
    {
     "name": "stdout",
     "output_type": "stream",
     "text": [
      "--- Validation --- [threshold, AUC, Accuracy, F score] =  [np.float64(0.566), np.float64(0.744), np.float64(0.716), np.float64(0.771)]\n",
      "--- Training --- [threshold, AUC] =  [np.float64(0.566), np.float64(0.744)]\n",
      "--- Iteration 40: Training loss --- [Data, Label, Total] = [5.888756.3, 655.234745.3, 684.678524.3]\n",
      "!!! pred_type filter\n"
     ]
    },
    {
     "name": "stderr",
     "output_type": "stream",
     "text": [
      " 16%|███████████████████▊                                                                                                     | 41/250 [00:01<00:09, 22.95it/s]"
     ]
    },
    {
     "name": "stdout",
     "output_type": "stream",
     "text": [
      "--- Validation --- [threshold, AUC, Accuracy, F score] =  [np.float64(0.566), np.float64(0.744), np.float64(0.716), np.float64(0.771)]\n",
      "--- Training --- [threshold, AUC] =  [np.float64(0.565), np.float64(0.744)]\n",
      "--- Iteration 50: Training loss --- [Data, Label, Total] = [1.791646.3, 655.298039.3, 664.256269.3]\n",
      "!!! pred_type filter\n"
     ]
    },
    {
     "name": "stderr",
     "output_type": "stream",
     "text": [
      " 20%|████████████████████████▋                                                                                                | 51/250 [00:02<00:08, 22.93it/s]"
     ]
    },
    {
     "name": "stdout",
     "output_type": "stream",
     "text": [
      "--- Validation --- [threshold, AUC, Accuracy, F score] =  [np.float64(0.565), np.float64(0.744), np.float64(0.716), np.float64(0.771)]\n",
      "--- Training --- [threshold, AUC] =  [np.float64(0.564), np.float64(0.744)]\n",
      "--- Iteration 60: Training loss --- [Data, Label, Total] = [0.824098.3, 655.306491.3, 659.426979.3]\n",
      "!!! pred_type filter\n"
     ]
    },
    {
     "name": "stderr",
     "output_type": "stream",
     "text": [
      " 24%|█████████████████████████████▌                                                                                           | 61/250 [00:02<00:07, 23.92it/s]"
     ]
    },
    {
     "name": "stdout",
     "output_type": "stream",
     "text": [
      "--- Validation --- [threshold, AUC, Accuracy, F score] =  [np.float64(0.564), np.float64(0.744), np.float64(0.716), np.float64(0.771)]\n",
      "--- Training --- [threshold, AUC] =  [np.float64(0.565), np.float64(0.744)]\n",
      "--- Iteration 70: Training loss --- [Data, Label, Total] = [0.491272.3, 655.268242.3, 657.724602.3]\n",
      "!!! pred_type filter\n"
     ]
    },
    {
     "name": "stderr",
     "output_type": "stream",
     "text": [
      " 28%|██████████████████████████████████▎                                                                                      | 71/250 [00:02<00:07, 24.86it/s]"
     ]
    },
    {
     "name": "stdout",
     "output_type": "stream",
     "text": [
      "--- Validation --- [threshold, AUC, Accuracy, F score] =  [np.float64(0.565), np.float64(0.744), np.float64(0.716), np.float64(0.771)]\n",
      "--- Training --- [threshold, AUC] =  [np.float64(0.564), np.float64(0.744)]\n",
      "--- Iteration 80: Training loss --- [Data, Label, Total] = [0.331304.3, 655.259812.3, 656.916330.3]\n",
      "!!! pred_type filter\n"
     ]
    },
    {
     "name": "stderr",
     "output_type": "stream",
     "text": [
      " 32%|███████████████████████████████████████▏                                                                                 | 81/250 [00:03<00:06, 25.43it/s]"
     ]
    },
    {
     "name": "stdout",
     "output_type": "stream",
     "text": [
      "--- Validation --- [threshold, AUC, Accuracy, F score] =  [np.float64(0.564), np.float64(0.744), np.float64(0.716), np.float64(0.771)]\n",
      "--- Training --- [threshold, AUC] =  [np.float64(0.564), np.float64(0.744)]\n",
      "--- Iteration 90: Training loss --- [Data, Label, Total] = [0.239343.3, 655.269112.3, 656.465828.3]\n",
      "!!! pred_type filter\n"
     ]
    },
    {
     "name": "stderr",
     "output_type": "stream",
     "text": [
      " 36%|████████████████████████████████████████████                                                                             | 91/250 [00:03<00:06, 25.70it/s]"
     ]
    },
    {
     "name": "stdout",
     "output_type": "stream",
     "text": [
      "--- Validation --- [threshold, AUC, Accuracy, F score] =  [np.float64(0.564), np.float64(0.744), np.float64(0.716), np.float64(0.771)]\n",
      "--- Training --- [threshold, AUC] =  [np.float64(0.565), np.float64(0.744)]\n",
      "--- Iteration 100: Training loss --- [Data, Label, Total] = [0.180823.3, 655.234632.3, 656.138749.3]\n",
      "!!! pred_type filter\n"
     ]
    },
    {
     "name": "stderr",
     "output_type": "stream",
     "text": [
      " 40%|████████████████████████████████████████████████▍                                                                       | 101/250 [00:04<00:05, 25.77it/s]"
     ]
    },
    {
     "name": "stdout",
     "output_type": "stream",
     "text": [
      "--- Validation --- [threshold, AUC, Accuracy, F score] =  [np.float64(0.565), np.float64(0.744), np.float64(0.716), np.float64(0.771)]\n",
      "--- Training --- [threshold, AUC] =  [np.float64(0.564), np.float64(0.744)]\n",
      "--- Iteration 110: Training loss --- [Data, Label, Total] = [0.141973.3, 655.270544.3, 655.980406.3]\n",
      "!!! pred_type filter\n"
     ]
    },
    {
     "name": "stderr",
     "output_type": "stream",
     "text": [
      " 44%|█████████████████████████████████████████████████████▎                                                                  | 111/250 [00:04<00:05, 25.86it/s]"
     ]
    },
    {
     "name": "stdout",
     "output_type": "stream",
     "text": [
      "--- Validation --- [threshold, AUC, Accuracy, F score] =  [np.float64(0.564), np.float64(0.744), np.float64(0.716), np.float64(0.771)]\n",
      "--- Training --- [threshold, AUC] =  [np.float64(0.564), np.float64(0.744)]\n",
      "--- Iteration 120: Training loss --- [Data, Label, Total] = [0.115138.3, 655.288917.3, 655.864606.3]\n",
      "!!! pred_type filter\n"
     ]
    },
    {
     "name": "stderr",
     "output_type": "stream",
     "text": [
      " 48%|██████████████████████████████████████████████████████████                                                              | 121/250 [00:04<00:05, 25.68it/s]"
     ]
    },
    {
     "name": "stdout",
     "output_type": "stream",
     "text": [
      "--- Validation --- [threshold, AUC, Accuracy, F score] =  [np.float64(0.564), np.float64(0.744), np.float64(0.716), np.float64(0.771)]\n",
      "--- Training --- [threshold, AUC] =  [np.float64(0.564), np.float64(0.744)]\n",
      "--- Iteration 130: Training loss --- [Data, Label, Total] = [0.095864.3, 655.273741.3, 655.753063.3]\n",
      "!!! pred_type filter\n"
     ]
    },
    {
     "name": "stderr",
     "output_type": "stream",
     "text": [
      " 52%|██████████████████████████████████████████████████████████████▉                                                         | 131/250 [00:05<00:04, 25.47it/s]"
     ]
    },
    {
     "name": "stdout",
     "output_type": "stream",
     "text": [
      "--- Validation --- [threshold, AUC, Accuracy, F score] =  [np.float64(0.564), np.float64(0.744), np.float64(0.716), np.float64(0.771)]\n",
      "--- Training --- [threshold, AUC] =  [np.float64(0.564), np.float64(0.744)]\n",
      "--- Iteration 140: Training loss --- [Data, Label, Total] = [0.082239.3, 655.240822.3, 655.652019.3]\n",
      "!!! pred_type filter\n"
     ]
    },
    {
     "name": "stderr",
     "output_type": "stream",
     "text": [
      " 56%|███████████████████████████████████████████████████████████████████▋                                                    | 141/250 [00:05<00:04, 24.54it/s]"
     ]
    },
    {
     "name": "stdout",
     "output_type": "stream",
     "text": [
      "--- Validation --- [threshold, AUC, Accuracy, F score] =  [np.float64(0.564), np.float64(0.744), np.float64(0.716), np.float64(0.771)]\n",
      "--- Training --- [threshold, AUC] =  [np.float64(0.564), np.float64(0.744)]\n",
      "--- Iteration 150: Training loss --- [Data, Label, Total] = [0.071849.3, 655.212743.3, 655.571990.3]\n",
      "!!! pred_type filter\n"
     ]
    },
    {
     "name": "stderr",
     "output_type": "stream",
     "text": [
      " 60%|████████████████████████████████████████████████████████████████████████▍                                               | 151/250 [00:06<00:04, 24.34it/s]"
     ]
    },
    {
     "name": "stdout",
     "output_type": "stream",
     "text": [
      "--- Validation --- [threshold, AUC, Accuracy, F score] =  [np.float64(0.564), np.float64(0.744), np.float64(0.716), np.float64(0.771)]\n",
      "--- Training --- [threshold, AUC] =  [np.float64(0.564), np.float64(0.744)]\n",
      "--- Iteration 160: Training loss --- [Data, Label, Total] = [0.064091.3, 655.220738.3, 655.541191.3]\n",
      "!!! pred_type filter\n"
     ]
    },
    {
     "name": "stderr",
     "output_type": "stream",
     "text": [
      " 64%|█████████████████████████████████████████████████████████████████████████████▎                                          | 161/250 [00:06<00:03, 24.80it/s]"
     ]
    },
    {
     "name": "stdout",
     "output_type": "stream",
     "text": [
      "--- Validation --- [threshold, AUC, Accuracy, F score] =  [np.float64(0.564), np.float64(0.744), np.float64(0.716), np.float64(0.771)]\n",
      "--- Training --- [threshold, AUC] =  [np.float64(0.564), np.float64(0.744)]\n",
      "--- Iteration 170: Training loss --- [Data, Label, Total] = [0.058230.3, 655.218260.3, 655.509411.3]\n",
      "!!! pred_type filter\n"
     ]
    },
    {
     "name": "stderr",
     "output_type": "stream",
     "text": [
      " 68%|██████████████████████████████████████████████████████████████████████████████████                                      | 171/250 [00:06<00:03, 24.77it/s]"
     ]
    },
    {
     "name": "stdout",
     "output_type": "stream",
     "text": [
      "--- Validation --- [threshold, AUC, Accuracy, F score] =  [np.float64(0.564), np.float64(0.744), np.float64(0.716), np.float64(0.771)]\n",
      "--- Training --- [threshold, AUC] =  [np.float64(0.565), np.float64(0.744)]\n",
      "--- Iteration 180: Training loss --- [Data, Label, Total] = [0.053472.3, 655.153747.3, 655.421108.3]\n",
      "!!! pred_type filter\n"
     ]
    },
    {
     "name": "stderr",
     "output_type": "stream",
     "text": [
      " 72%|██████████████████████████████████████████████████████████████████████████████████████▉                                 | 181/250 [00:07<00:02, 24.72it/s]"
     ]
    },
    {
     "name": "stdout",
     "output_type": "stream",
     "text": [
      "--- Validation --- [threshold, AUC, Accuracy, F score] =  [np.float64(0.565), np.float64(0.744), np.float64(0.716), np.float64(0.771)]\n",
      "--- Training --- [threshold, AUC] =  [np.float64(0.564), np.float64(0.744)]\n",
      "--- Iteration 190: Training loss --- [Data, Label, Total] = [0.049712.3, 655.189731.3, 655.438290.3]\n",
      "!!! pred_type filter\n"
     ]
    },
    {
     "name": "stderr",
     "output_type": "stream",
     "text": [
      " 76%|███████████████████████████████████████████████████████████████████████████████████████████▋                            | 191/250 [00:07<00:02, 24.59it/s]"
     ]
    },
    {
     "name": "stdout",
     "output_type": "stream",
     "text": [
      "--- Validation --- [threshold, AUC, Accuracy, F score] =  [np.float64(0.564), np.float64(0.744), np.float64(0.716), np.float64(0.771)]\n",
      "--- Training --- [threshold, AUC] =  [np.float64(0.565), np.float64(0.744)]\n",
      "--- Iteration 200: Training loss --- [Data, Label, Total] = [0.046569.3, 655.171505.3, 655.404351.3]\n",
      "!!! pred_type filter\n"
     ]
    },
    {
     "name": "stderr",
     "output_type": "stream",
     "text": [
      " 80%|████████████████████████████████████████████████████████████████████████████████████████████████▍                       | 201/250 [00:08<00:02, 24.34it/s]"
     ]
    },
    {
     "name": "stdout",
     "output_type": "stream",
     "text": [
      "--- Validation --- [threshold, AUC, Accuracy, F score] =  [np.float64(0.565), np.float64(0.744), np.float64(0.716), np.float64(0.771)]\n",
      "--- Training --- [threshold, AUC] =  [np.float64(0.565), np.float64(0.744)]\n",
      "--- Iteration 210: Training loss --- [Data, Label, Total] = [0.043865.3, 655.155398.3, 655.374723.3]\n",
      "!!! pred_type filter\n"
     ]
    },
    {
     "name": "stderr",
     "output_type": "stream",
     "text": [
      " 84%|█████████████████████████████████████████████████████████████████████████████████████████████████████▎                  | 211/250 [00:08<00:01, 24.38it/s]"
     ]
    },
    {
     "name": "stdout",
     "output_type": "stream",
     "text": [
      "--- Validation --- [threshold, AUC, Accuracy, F score] =  [np.float64(0.565), np.float64(0.744), np.float64(0.716), np.float64(0.771)]\n",
      "--- Training --- [threshold, AUC] =  [np.float64(0.565), np.float64(0.744)]\n",
      "--- Iteration 220: Training loss --- [Data, Label, Total] = [0.041655.3, 655.148290.3, 655.356567.3]\n",
      "!!! pred_type filter\n"
     ]
    },
    {
     "name": "stderr",
     "output_type": "stream",
     "text": [
      " 88%|██████████████████████████████████████████████████████████████████████████████████████████████████████████              | 221/250 [00:08<00:01, 24.25it/s]"
     ]
    },
    {
     "name": "stdout",
     "output_type": "stream",
     "text": [
      "--- Validation --- [threshold, AUC, Accuracy, F score] =  [np.float64(0.565), np.float64(0.744), np.float64(0.716), np.float64(0.771)]\n",
      "--- Training --- [threshold, AUC] =  [np.float64(0.565), np.float64(0.744)]\n",
      "--- Iteration 230: Training loss --- [Data, Label, Total] = [0.039845.3, 655.141155.3, 655.340381.3]\n",
      "!!! pred_type filter\n"
     ]
    },
    {
     "name": "stderr",
     "output_type": "stream",
     "text": [
      " 92%|██████████████████████████████████████████████████████████████████████████████████████████████████████████████▉         | 231/250 [00:09<00:00, 24.11it/s]"
     ]
    },
    {
     "name": "stdout",
     "output_type": "stream",
     "text": [
      "--- Validation --- [threshold, AUC, Accuracy, F score] =  [np.float64(0.565), np.float64(0.744), np.float64(0.716), np.float64(0.771)]\n",
      "--- Training --- [threshold, AUC] =  [np.float64(0.565), np.float64(0.744)]\n",
      "--- Iteration 240: Training loss --- [Data, Label, Total] = [0.038274.3, 655.132595.3, 655.323967.3]\n",
      "!!! pred_type filter\n"
     ]
    },
    {
     "name": "stderr",
     "output_type": "stream",
     "text": [
      "100%|████████████████████████████████████████████████████████████████████████████████████████████████████████████████████████| 250/250 [00:09<00:00, 25.34it/s]"
     ]
    },
    {
     "name": "stdout",
     "output_type": "stream",
     "text": [
      "--- Validation --- [threshold, AUC, Accuracy, F score] =  [np.float64(0.565), np.float64(0.744), np.float64(0.716), np.float64(0.771)]\n",
      "!!! pred_type filter\n"
     ]
    },
    {
     "name": "stderr",
     "output_type": "stream",
     "text": [
      "\n"
     ]
    },
    {
     "name": "stdout",
     "output_type": "stream",
     "text": [
      "num of subgraphs induced on k-paths: 500\n",
      "num of subgraphs induced on k-paths: 500\n",
      "X_list: (25, 1000)\n",
      "2\n",
      "(1, 500)\n",
      "(1, 500)\n",
      "label_vec: (1, 1000)\n",
      "num of subgraphs induced on k-paths: 500\n",
      "num of subgraphs induced on k-paths: 500\n",
      "X_list: (25, 1000)\n",
      "2\n",
      "(1, 500)\n",
      "(1, 500)\n",
      "label_vec: (1, 1000)\n",
      "num of subgraphs induced on k-paths: 500\n",
      "num of subgraphs induced on k-paths: 500\n",
      "X_list: (25, 1000)\n",
      "2\n",
      "(1, 500)\n",
      "(1, 500)\n",
      "label_vec: (1, 1000)\n",
      "num of subgraphs induced on k-paths: 500\n",
      "num of subgraphs induced on k-paths: 500\n",
      "X_list: (25, 1000)\n",
      "2\n",
      "(1, 500)\n",
      "(1, 500)\n",
      "label_vec: (1, 1000)\n",
      "6\n",
      "num of subgraphs induced on k-paths: 500\n",
      "num of subgraphs induced on k-paths: 500\n",
      "X_list: (36, 1000)\n",
      "2\n",
      "(1, 500)\n",
      "(1, 500)\n",
      "label_vec: (1, 1000)\n",
      "num of subgraphs induced on k-paths: 500\n",
      "num of subgraphs induced on k-paths: 601\n",
      "X_list: (36, 1101)\n",
      "2\n",
      "(1, 500)\n",
      "(1, 601)\n",
      "label_vec: (1, 1101)\n",
      "initial loading beta [[ 0.82177399 -0.20528795  0.50797056 -0.92689674  0.35172901  0.69637223\n",
      "  -0.95010637 -0.03918734 -0.99784441 -0.49443602 -0.44850788  0.20888206\n",
      "  -0.98485625  0.91037869 -0.76556482  0.56115619 -0.33105828]]\n"
     ]
    },
    {
     "name": "stderr",
     "output_type": "stream",
     "text": [
      "  0%|                                                                                                                                  | 0/250 [00:00<?, ?it/s]"
     ]
    },
    {
     "name": "stdout",
     "output_type": "stream",
     "text": [
      "--- Training --- [threshold, AUC] =  [np.float64(0.619), np.float64(0.743)]\n",
      "--- Iteration 0: Training loss --- [Data, Label, Total] = [3662.931227.3, 667.830203.3, 18982.486341.3]\n",
      "--- Training --- [threshold, AUC] =  [np.float64(0.625), np.float64(0.743)]\n",
      "--- Iteration 10: Training loss --- [Data, Label, Total] = [1050.207597.3, 664.922632.3, 5915.960618.3]\n",
      "!!! pred_type filter\n"
     ]
    },
    {
     "name": "stderr",
     "output_type": "stream",
     "text": [
      "  4%|█████▎                                                                                                                   | 11/250 [00:00<00:08, 28.07it/s]"
     ]
    },
    {
     "name": "stdout",
     "output_type": "stream",
     "text": [
      "--- Validation --- [threshold, AUC, Accuracy, F score] =  [np.float64(0.625), np.float64(0.743), np.float64(0.687), np.float64(0.684)]\n",
      "--- Training --- [threshold, AUC] =  [np.float64(0.63), np.float64(0.745)]\n",
      "--- Iteration 20: Training loss --- [Data, Label, Total] = [553.550750.3, 663.983062.3, 3431.736814.3]\n",
      "!!! pred_type filter\n"
     ]
    },
    {
     "name": "stderr",
     "output_type": "stream",
     "text": [
      "  8%|██████████▏                                                                                                              | 21/250 [00:00<00:08, 25.65it/s]"
     ]
    },
    {
     "name": "stdout",
     "output_type": "stream",
     "text": [
      "--- Validation --- [threshold, AUC, Accuracy, F score] =  [np.float64(0.63), np.float64(0.745), np.float64(0.687), np.float64(0.684)]\n",
      "--- Training --- [threshold, AUC] =  [np.float64(0.577), np.float64(0.746)]\n",
      "--- Iteration 30: Training loss --- [Data, Label, Total] = [430.690612.3, 663.600094.3, 2817.053156.3]\n",
      "!!! pred_type filter\n"
     ]
    },
    {
     "name": "stderr",
     "output_type": "stream",
     "text": [
      " 12%|███████████████                                                                                                          | 31/250 [00:01<00:08, 25.56it/s]"
     ]
    },
    {
     "name": "stdout",
     "output_type": "stream",
     "text": [
      "--- Validation --- [threshold, AUC, Accuracy, F score] =  [np.float64(0.577), np.float64(0.746), np.float64(0.697), np.float64(0.72)]\n",
      "--- Training --- [threshold, AUC] =  [np.float64(0.635), np.float64(0.748)]\n",
      "--- Iteration 40: Training loss --- [Data, Label, Total] = [387.185284.3, 663.352384.3, 2599.278803.3]\n",
      "!!! pred_type filter\n"
     ]
    },
    {
     "name": "stderr",
     "output_type": "stream",
     "text": [
      " 16%|███████████████████▊                                                                                                     | 41/250 [00:01<00:08, 24.80it/s]"
     ]
    },
    {
     "name": "stdout",
     "output_type": "stream",
     "text": [
      "--- Validation --- [threshold, AUC, Accuracy, F score] =  [np.float64(0.635), np.float64(0.748), np.float64(0.689), np.float64(0.684)]\n",
      "--- Training --- [threshold, AUC] =  [np.float64(0.64), np.float64(0.748)]\n",
      "--- Iteration 50: Training loss --- [Data, Label, Total] = [353.005126.3, 663.112232.3, 2428.137860.3]\n",
      "!!! pred_type filter\n"
     ]
    },
    {
     "name": "stderr",
     "output_type": "stream",
     "text": [
      " 20%|████████████████████████▋                                                                                                | 51/250 [00:02<00:07, 25.14it/s]"
     ]
    },
    {
     "name": "stdout",
     "output_type": "stream",
     "text": [
      "--- Validation --- [threshold, AUC, Accuracy, F score] =  [np.float64(0.64), np.float64(0.748), np.float64(0.689), np.float64(0.684)]\n",
      "--- Training --- [threshold, AUC] =  [np.float64(0.645), np.float64(0.747)]\n",
      "--- Iteration 60: Training loss --- [Data, Label, Total] = [311.530623.3, 662.794305.3, 2220.447421.3]\n",
      "!!! pred_type filter\n"
     ]
    },
    {
     "name": "stderr",
     "output_type": "stream",
     "text": [
      " 24%|█████████████████████████████▌                                                                                           | 61/250 [00:02<00:07, 25.24it/s]"
     ]
    },
    {
     "name": "stdout",
     "output_type": "stream",
     "text": [
      "--- Validation --- [threshold, AUC, Accuracy, F score] =  [np.float64(0.645), np.float64(0.747), np.float64(0.689), np.float64(0.684)]\n",
      "--- Training --- [threshold, AUC] =  [np.float64(0.634), np.float64(0.748)]\n",
      "--- Iteration 70: Training loss --- [Data, Label, Total] = [260.270524.3, 662.639233.3, 1963.991854.3]\n",
      "!!! pred_type filter\n"
     ]
    },
    {
     "name": "stderr",
     "output_type": "stream",
     "text": [
      " 28%|██████████████████████████████████▎                                                                                      | 71/250 [00:02<00:06, 25.62it/s]"
     ]
    },
    {
     "name": "stdout",
     "output_type": "stream",
     "text": [
      "--- Validation --- [threshold, AUC, Accuracy, F score] =  [np.float64(0.634), np.float64(0.748), np.float64(0.689), np.float64(0.684)]\n",
      "--- Training --- [threshold, AUC] =  [np.float64(0.622), np.float64(0.747)]\n",
      "--- Iteration 80: Training loss --- [Data, Label, Total] = [219.476661.3, 662.850850.3, 1760.234153.3]\n",
      "!!! pred_type filter\n"
     ]
    },
    {
     "name": "stderr",
     "output_type": "stream",
     "text": [
      " 32%|███████████████████████████████████████▏                                                                                 | 81/250 [00:03<00:06, 25.96it/s]"
     ]
    },
    {
     "name": "stdout",
     "output_type": "stream",
     "text": [
      "--- Validation --- [threshold, AUC, Accuracy, F score] =  [np.float64(0.622), np.float64(0.747), np.float64(0.689), np.float64(0.684)]\n",
      "--- Training --- [threshold, AUC] =  [np.float64(0.652), np.float64(0.747)]\n",
      "--- Iteration 90: Training loss --- [Data, Label, Total] = [194.632265.3, 663.222707.3, 1636.384031.3]\n",
      "!!! pred_type filter\n"
     ]
    },
    {
     "name": "stderr",
     "output_type": "stream",
     "text": [
      " 36%|████████████████████████████████████████████                                                                             | 91/250 [00:03<00:05, 27.00it/s]"
     ]
    },
    {
     "name": "stdout",
     "output_type": "stream",
     "text": [
      "--- Validation --- [threshold, AUC, Accuracy, F score] =  [np.float64(0.652), np.float64(0.747), np.float64(0.688), np.float64(0.681)]\n",
      "--- Training --- [threshold, AUC] =  [np.float64(0.649), np.float64(0.747)]\n",
      "--- Iteration 100: Training loss --- [Data, Label, Total] = [178.726147.3, 663.572007.3, 1557.202740.3]\n",
      "!!! pred_type filter\n"
     ]
    },
    {
     "name": "stderr",
     "output_type": "stream",
     "text": [
      " 40%|████████████████████████████████████████████████▍                                                                       | 101/250 [00:03<00:05, 27.61it/s]"
     ]
    },
    {
     "name": "stdout",
     "output_type": "stream",
     "text": [
      "--- Validation --- [threshold, AUC, Accuracy, F score] =  [np.float64(0.649), np.float64(0.747), np.float64(0.688), np.float64(0.681)]\n",
      "--- Training --- [threshold, AUC] =  [np.float64(0.649), np.float64(0.747)]\n",
      "--- Iteration 110: Training loss --- [Data, Label, Total] = [167.961042.3, 663.779134.3, 1503.584344.3]\n",
      "!!! pred_type filter\n"
     ]
    },
    {
     "name": "stderr",
     "output_type": "stream",
     "text": [
      " 44%|█████████████████████████████████████████████████████▎                                                                  | 111/250 [00:04<00:04, 28.43it/s]"
     ]
    },
    {
     "name": "stdout",
     "output_type": "stream",
     "text": [
      "--- Validation --- [threshold, AUC, Accuracy, F score] =  [np.float64(0.649), np.float64(0.747), np.float64(0.688), np.float64(0.681)]\n",
      "--- Training --- [threshold, AUC] =  [np.float64(0.62), np.float64(0.746)]\n",
      "--- Iteration 120: Training loss --- [Data, Label, Total] = [161.315424.3, 663.964698.3, 1470.541817.3]\n",
      "!!! pred_type filter\n"
     ]
    },
    {
     "name": "stderr",
     "output_type": "stream",
     "text": [
      " 48%|██████████████████████████████████████████████████████████                                                              | 121/250 [00:04<00:04, 26.55it/s]"
     ]
    },
    {
     "name": "stdout",
     "output_type": "stream",
     "text": [
      "--- Validation --- [threshold, AUC, Accuracy, F score] =  [np.float64(0.62), np.float64(0.746), np.float64(0.687), np.float64(0.682)]\n",
      "--- Training --- [threshold, AUC] =  [np.float64(0.623), np.float64(0.746)]\n",
      "--- Iteration 130: Training loss --- [Data, Label, Total] = [157.488044.3, 663.990566.3, 1451.430784.3]\n",
      "!!! pred_type filter\n"
     ]
    },
    {
     "name": "stderr",
     "output_type": "stream",
     "text": [
      " 52%|██████████████████████████████████████████████████████████████▉                                                         | 131/250 [00:04<00:04, 27.33it/s]"
     ]
    },
    {
     "name": "stdout",
     "output_type": "stream",
     "text": [
      "--- Validation --- [threshold, AUC, Accuracy, F score] =  [np.float64(0.623), np.float64(0.746), np.float64(0.687), np.float64(0.682)]\n",
      "--- Training --- [threshold, AUC] =  [np.float64(0.626), np.float64(0.746)]\n",
      "--- Iteration 140: Training loss --- [Data, Label, Total] = [155.147153.3, 663.946466.3, 1439.682232.3]\n",
      "!!! pred_type filter\n"
     ]
    },
    {
     "name": "stderr",
     "output_type": "stream",
     "text": [
      " 56%|███████████████████████████████████████████████████████████████████▋                                                    | 141/250 [00:05<00:04, 26.35it/s]"
     ]
    },
    {
     "name": "stdout",
     "output_type": "stream",
     "text": [
      "--- Validation --- [threshold, AUC, Accuracy, F score] =  [np.float64(0.626), np.float64(0.746), np.float64(0.687), np.float64(0.682)]\n",
      "--- Training --- [threshold, AUC] =  [np.float64(0.628), np.float64(0.746)]\n",
      "--- Iteration 150: Training loss --- [Data, Label, Total] = [153.226616.3, 663.876213.3, 1430.009295.3]\n",
      "!!! pred_type filter\n"
     ]
    },
    {
     "name": "stderr",
     "output_type": "stream",
     "text": [
      " 60%|████████████████████████████████████████████████████████████████████████▍                                               | 151/250 [00:05<00:03, 26.64it/s]"
     ]
    },
    {
     "name": "stdout",
     "output_type": "stream",
     "text": [
      "--- Validation --- [threshold, AUC, Accuracy, F score] =  [np.float64(0.628), np.float64(0.746), np.float64(0.687), np.float64(0.682)]\n",
      "--- Training --- [threshold, AUC] =  [np.float64(0.63), np.float64(0.746)]\n",
      "--- Iteration 160: Training loss --- [Data, Label, Total] = [151.127014.3, 663.727052.3, 1419.362121.3]\n",
      "!!! pred_type filter\n"
     ]
    },
    {
     "name": "stderr",
     "output_type": "stream",
     "text": [
      " 64%|█████████████████████████████████████████████████████████████████████████████▎                                          | 161/250 [00:06<00:03, 26.61it/s]"
     ]
    },
    {
     "name": "stdout",
     "output_type": "stream",
     "text": [
      "--- Validation --- [threshold, AUC, Accuracy, F score] =  [np.float64(0.63), np.float64(0.746), np.float64(0.687), np.float64(0.682)]\n",
      "--- Training --- [threshold, AUC] =  [np.float64(0.632), np.float64(0.747)]\n",
      "--- Iteration 170: Training loss --- [Data, Label, Total] = [148.498588.3, 663.489729.3, 1405.982671.3]\n",
      "!!! pred_type filter\n"
     ]
    },
    {
     "name": "stderr",
     "output_type": "stream",
     "text": [
      " 68%|██████████████████████████████████████████████████████████████████████████████████                                      | 171/250 [00:06<00:02, 27.14it/s]"
     ]
    },
    {
     "name": "stdout",
     "output_type": "stream",
     "text": [
      "--- Validation --- [threshold, AUC, Accuracy, F score] =  [np.float64(0.632), np.float64(0.747), np.float64(0.687), np.float64(0.682)]\n",
      "--- Training --- [threshold, AUC] =  [np.float64(0.634), np.float64(0.747)]\n",
      "--- Iteration 180: Training loss --- [Data, Label, Total] = [145.209258.3, 663.201836.3, 1389.248127.3]\n",
      "!!! pred_type filter\n"
     ]
    },
    {
     "name": "stderr",
     "output_type": "stream",
     "text": [
      " 72%|██████████████████████████████████████████████████████████████████████████████████████▉                                 | 181/250 [00:06<00:02, 28.01it/s]"
     ]
    },
    {
     "name": "stdout",
     "output_type": "stream",
     "text": [
      "--- Validation --- [threshold, AUC, Accuracy, F score] =  [np.float64(0.634), np.float64(0.747), np.float64(0.687), np.float64(0.682)]\n",
      "--- Training --- [threshold, AUC] =  [np.float64(0.637), np.float64(0.747)]\n",
      "--- Iteration 190: Training loss --- [Data, Label, Total] = [141.144644.3, 662.887644.3, 1368.610863.3]\n",
      "!!! pred_type filter\n"
     ]
    },
    {
     "name": "stderr",
     "output_type": "stream",
     "text": [
      " 76%|███████████████████████████████████████████████████████████████████████████████████████████▋                            | 191/250 [00:07<00:02, 28.82it/s]"
     ]
    },
    {
     "name": "stdout",
     "output_type": "stream",
     "text": [
      "--- Validation --- [threshold, AUC, Accuracy, F score] =  [np.float64(0.637), np.float64(0.747), np.float64(0.687), np.float64(0.682)]\n",
      "--- Training --- [threshold, AUC] =  [np.float64(0.64), np.float64(0.748)]\n",
      "--- Iteration 200: Training loss --- [Data, Label, Total] = [136.178759.3, 662.472529.3, 1343.366326.3]\n",
      "!!! pred_type filter\n"
     ]
    },
    {
     "name": "stderr",
     "output_type": "stream",
     "text": [
      " 80%|████████████████████████████████████████████████████████████████████████████████████████████████▍                       | 201/250 [00:07<00:01, 29.45it/s]"
     ]
    },
    {
     "name": "stdout",
     "output_type": "stream",
     "text": [
      "--- Validation --- [threshold, AUC, Accuracy, F score] =  [np.float64(0.64), np.float64(0.748), np.float64(0.692), np.float64(0.686)]\n",
      "--- Training --- [threshold, AUC] =  [np.float64(0.643), np.float64(0.748)]\n",
      "--- Iteration 210: Training loss --- [Data, Label, Total] = [130.058230.3, 662.033643.3, 1312.324794.3]\n",
      "!!! pred_type filter\n"
     ]
    },
    {
     "name": "stderr",
     "output_type": "stream",
     "text": [
      " 84%|█████████████████████████████████████████████████████████████████████████████████████████████████████▎                  | 211/250 [00:07<00:01, 29.52it/s]"
     ]
    },
    {
     "name": "stdout",
     "output_type": "stream",
     "text": [
      "--- Validation --- [threshold, AUC, Accuracy, F score] =  [np.float64(0.643), np.float64(0.748), np.float64(0.692), np.float64(0.686)]\n",
      "--- Training --- [threshold, AUC] =  [np.float64(0.646), np.float64(0.748)]\n",
      "--- Iteration 220: Training loss --- [Data, Label, Total] = [122.486082.3, 661.566446.3, 1273.996857.3]\n",
      "!!! pred_type filter\n"
     ]
    },
    {
     "name": "stderr",
     "output_type": "stream",
     "text": [
      " 88%|██████████████████████████████████████████████████████████████████████████████████████████████████████████              | 221/250 [00:08<00:01, 28.86it/s]"
     ]
    },
    {
     "name": "stdout",
     "output_type": "stream",
     "text": [
      "--- Validation --- [threshold, AUC, Accuracy, F score] =  [np.float64(0.646), np.float64(0.748), np.float64(0.695), np.float64(0.688)]\n",
      "--- Training --- [threshold, AUC] =  [np.float64(0.648), np.float64(0.749)]\n",
      "--- Iteration 230: Training loss --- [Data, Label, Total] = [113.293341.3, 661.052079.3, 1227.518783.3]\n",
      "!!! pred_type filter\n"
     ]
    },
    {
     "name": "stderr",
     "output_type": "stream",
     "text": [
      " 92%|██████████████████████████████████████████████████████████████████████████████████████████████████████████████▉         | 231/250 [00:08<00:00, 29.58it/s]"
     ]
    },
    {
     "name": "stdout",
     "output_type": "stream",
     "text": [
      "--- Validation --- [threshold, AUC, Accuracy, F score] =  [np.float64(0.648), np.float64(0.749), np.float64(0.695), np.float64(0.688)]\n",
      "--- Training --- [threshold, AUC] =  [np.float64(0.649), np.float64(0.749)]\n",
      "--- Iteration 240: Training loss --- [Data, Label, Total] = [102.556115.3, 660.645545.3, 1173.426118.3]\n",
      "!!! pred_type filter\n"
     ]
    },
    {
     "name": "stderr",
     "output_type": "stream",
     "text": [
      "100%|████████████████████████████████████████████████████████████████████████████████████████████████████████████████████████| 250/250 [00:08<00:00, 28.43it/s]"
     ]
    },
    {
     "name": "stdout",
     "output_type": "stream",
     "text": [
      "--- Validation --- [threshold, AUC, Accuracy, F score] =  [np.float64(0.649), np.float64(0.749), np.float64(0.695), np.float64(0.688)]\n",
      "!!! pred_type filter\n"
     ]
    },
    {
     "name": "stderr",
     "output_type": "stream",
     "text": [
      "\n"
     ]
    },
    {
     "name": "stdout",
     "output_type": "stream",
     "text": [
      "num of subgraphs induced on k-paths: 500\n",
      "num of subgraphs induced on k-paths: 500\n",
      "X_list: (36, 1000)\n",
      "2\n",
      "(1, 500)\n",
      "(1, 500)\n",
      "label_vec: (1, 1000)\n",
      "num of subgraphs induced on k-paths: 500\n",
      "num of subgraphs induced on k-paths: 500\n",
      "X_list: (36, 1000)\n",
      "2\n",
      "(1, 500)\n",
      "(1, 500)\n",
      "label_vec: (1, 1000)\n",
      "num of subgraphs induced on k-paths: 500\n",
      "num of subgraphs induced on k-paths: 500\n",
      "X_list: (36, 1000)\n",
      "2\n",
      "(1, 500)\n",
      "(1, 500)\n",
      "label_vec: (1, 1000)\n"
     ]
    },
    {
     "ename": "KeyboardInterrupt",
     "evalue": "",
     "output_type": "error",
     "traceback": [
      "\u001b[0;31m---------------------------------------------------------------------------\u001b[0m",
      "\u001b[0;31mKeyboardInterrupt\u001b[0m                         Traceback (most recent call last)",
      "Cell \u001b[0;32mIn[28], line 3\u001b[0m\n\u001b[1;32m      1\u001b[0m \u001b[38;5;28;01mfor\u001b[39;00m i \u001b[38;5;129;01min\u001b[39;00m \u001b[38;5;28mrange\u001b[39m(\u001b[38;5;241m5\u001b[39m,\u001b[38;5;241m10\u001b[39m):\n\u001b[1;32m      2\u001b[0m     \u001b[38;5;28mprint\u001b[39m(i)\n\u001b[0;32m----> 3\u001b[0m     accu\u001b[38;5;241m.\u001b[39mappend(\u001b[43mroc\u001b[49m\u001b[38;5;241;43m.\u001b[39;49m\u001b[43mrun\u001b[49m\u001b[43m(\u001b[49m\u001b[43mi\u001b[49m\u001b[43m)\u001b[49m)\n",
      "File \u001b[0;32m~/cs/Class/lyu/roc_curve_test.py:16\u001b[0m, in \u001b[0;36mrun\u001b[0;34m(k)\u001b[0m\n\u001b[1;32m     14\u001b[0m optimal_idx \u001b[38;5;241m=\u001b[39m np\u001b[38;5;241m.\u001b[39margmax(tpr \u001b[38;5;241m-\u001b[39m fpr)\n\u001b[1;32m     15\u001b[0m optimal_threshold \u001b[38;5;241m=\u001b[39m thresholds[optimal_idx]\n\u001b[0;32m---> 16\u001b[0m test_predictions_network1 \u001b[38;5;241m=\u001b[39m \u001b[43mpredict_with_threshold\u001b[49m\u001b[43m(\u001b[49m\u001b[43mnetwork1\u001b[49m\u001b[43m,\u001b[49m\u001b[43m \u001b[49m\u001b[43mk\u001b[49m\u001b[43m,\u001b[49m\u001b[43m \u001b[49m\u001b[43mW\u001b[49m\u001b[43m,\u001b[49m\u001b[43m \u001b[49m\u001b[43mbeta\u001b[49m\u001b[43m,\u001b[49m\u001b[43m \u001b[49m\u001b[43moptimal_threshold\u001b[49m\u001b[43m)\u001b[49m\n\u001b[1;32m     17\u001b[0m test_predictions_network2 \u001b[38;5;241m=\u001b[39m predict_with_threshold(network2, k, W, beta, optimal_threshold)\n\u001b[1;32m     18\u001b[0m \u001b[38;5;28;01mreturn\u001b[39;00m \u001b[38;5;241m1\u001b[39m\u001b[38;5;241m-\u001b[39m\u001b[38;5;28msum\u001b[39m(test_predictions_network1)\u001b[38;5;241m/\u001b[39m\u001b[38;5;28mlen\u001b[39m(test_predictions_network1), (\u001b[38;5;28msum\u001b[39m(test_predictions_network2)\u001b[38;5;241m/\u001b[39m\u001b[38;5;28mlen\u001b[39m(test_predictions_network2)), optimal_threshold\n",
      "File \u001b[0;32m~/cs/Class/lyu/roc_curve_test.py:50\u001b[0m, in \u001b[0;36mpredict_with_threshold\u001b[0;34m(network, k, W, beta, threshold)\u001b[0m\n\u001b[1;32m     49\u001b[0m \u001b[38;5;28;01mdef\u001b[39;00m \u001b[38;5;21mpredict_with_threshold\u001b[39m(network, k, W, beta, threshold):\n\u001b[0;32m---> 50\u001b[0m     prediction \u001b[38;5;241m=\u001b[39m \u001b[43mlive_sample\u001b[49m\u001b[43m(\u001b[49m\u001b[43mnetwork\u001b[49m\u001b[43m,\u001b[49m\u001b[43m \u001b[49m\u001b[43mnetwork\u001b[49m\u001b[43m,\u001b[49m\u001b[43m \u001b[49m\u001b[43mk\u001b[49m\u001b[38;5;241;43m=\u001b[39;49m\u001b[43mk\u001b[49m\u001b[43m)\u001b[49m[\u001b[38;5;241m0\u001b[39m]\n\u001b[1;32m     51\u001b[0m     predictions \u001b[38;5;241m=\u001b[39m []\n\u001b[1;32m     52\u001b[0m     \u001b[38;5;28;01mfor\u001b[39;00m j \u001b[38;5;129;01min\u001b[39;00m \u001b[38;5;28mrange\u001b[39m(prediction\u001b[38;5;241m.\u001b[39mshape[\u001b[38;5;241m0\u001b[39m]):\n",
      "File \u001b[0;32m~/cs/Class/lyu/run_SNLD.py:43\u001b[0m, in \u001b[0;36mlive_sample\u001b[0;34m(graph1, graph2, k, tolerance)\u001b[0m\n\u001b[1;32m     41\u001b[0m     path \u001b[38;5;241m=\u001b[39m \u001b[38;5;124m\"\u001b[39m\u001b[38;5;124mdata/\u001b[39m\u001b[38;5;124m\"\u001b[39m \u001b[38;5;241m+\u001b[39m \u001b[38;5;28mstr\u001b[39m(ntwk) \u001b[38;5;241m+\u001b[39m \u001b[38;5;124m'\u001b[39m\u001b[38;5;124m.txt\u001b[39m\u001b[38;5;124m'\u001b[39m\n\u001b[1;32m     42\u001b[0m     G \u001b[38;5;241m=\u001b[39m nn\u001b[38;5;241m.\u001b[39mNNetwork()\n\u001b[0;32m---> 43\u001b[0m     \u001b[43mG\u001b[49m\u001b[38;5;241;43m.\u001b[39;49m\u001b[43mload_add_edges\u001b[49m\u001b[43m(\u001b[49m\u001b[43mpath\u001b[49m\u001b[43m,\u001b[49m\u001b[43m \u001b[49m\u001b[43mincrement_weights\u001b[49m\u001b[38;5;241;43m=\u001b[39;49m\u001b[38;5;28;43;01mFalse\u001b[39;49;00m\u001b[43m,\u001b[49m\u001b[43m \u001b[49m\u001b[43muse_genfromtxt\u001b[49m\u001b[38;5;241;43m=\u001b[39;49m\u001b[38;5;28;43;01mTrue\u001b[39;49;00m\u001b[43m)\u001b[49m\n\u001b[1;32m     44\u001b[0m     graph_list\u001b[38;5;241m.\u001b[39mappend(G)\n\u001b[1;32m     45\u001b[0m \u001b[38;5;28;01mif\u001b[39;00m graph1 \u001b[38;5;241m==\u001b[39m graph2:\n",
      "File \u001b[0;32m~/cs/Class/lyu/.venv/lib/python3.12/site-packages/NNetwork/NNetwork.py:260\u001b[0m, in \u001b[0;36mNNetwork.load_add_edges\u001b[0;34m(self, path, delimiter, increment_weights, use_genfromtxt, is_pickle)\u001b[0m\n\u001b[1;32m    257\u001b[0m         edges \u001b[38;5;241m=\u001b[39m \u001b[38;5;28mlist\u001b[39m(reader)\n\u001b[1;32m    259\u001b[0m \u001b[38;5;28;01melse\u001b[39;00m:\n\u001b[0;32m--> 260\u001b[0m     edges \u001b[38;5;241m=\u001b[39m \u001b[43mnp\u001b[49m\u001b[38;5;241;43m.\u001b[39;49m\u001b[43mgenfromtxt\u001b[49m\u001b[43m(\u001b[49m\u001b[43mpath\u001b[49m\u001b[43m,\u001b[49m\u001b[43m \u001b[49m\u001b[43mdelimiter\u001b[49m\u001b[38;5;241;43m=\u001b[39;49m\u001b[43mdelimiter\u001b[49m\u001b[43m,\u001b[49m\u001b[43m \u001b[49m\u001b[43mdtype\u001b[49m\u001b[38;5;241;43m=\u001b[39;49m\u001b[38;5;28;43mstr\u001b[39;49m\u001b[43m)\u001b[49m\n\u001b[1;32m    261\u001b[0m     edges \u001b[38;5;241m=\u001b[39m edges\u001b[38;5;241m.\u001b[39mtolist()\n\u001b[1;32m    263\u001b[0m \u001b[38;5;28mself\u001b[39m\u001b[38;5;241m.\u001b[39madd_edges(edges\u001b[38;5;241m=\u001b[39medges, increment_weights\u001b[38;5;241m=\u001b[39mincrement_weights)\n",
      "File \u001b[0;32m~/cs/Class/lyu/.venv/lib/python3.12/site-packages/numpy/lib/_npyio_impl.py:2267\u001b[0m, in \u001b[0;36mgenfromtxt\u001b[0;34m(fname, dtype, comments, delimiter, skip_header, skip_footer, converters, missing_values, filling_values, usecols, names, excludelist, deletechars, replace_space, autostrip, case_sensitive, defaultfmt, unpack, usemask, loose, invalid_raise, max_rows, encoding, ndmin, like)\u001b[0m\n\u001b[1;32m   2265\u001b[0m \u001b[38;5;66;03m# Parse each line\u001b[39;00m\n\u001b[1;32m   2266\u001b[0m \u001b[38;5;28;01mfor\u001b[39;00m (i, line) \u001b[38;5;129;01min\u001b[39;00m \u001b[38;5;28menumerate\u001b[39m(itertools\u001b[38;5;241m.\u001b[39mchain([first_line, ], fhd)):\n\u001b[0;32m-> 2267\u001b[0m     values \u001b[38;5;241m=\u001b[39m \u001b[43msplit_line\u001b[49m\u001b[43m(\u001b[49m\u001b[43mline\u001b[49m\u001b[43m)\u001b[49m\n\u001b[1;32m   2268\u001b[0m     nbvalues \u001b[38;5;241m=\u001b[39m \u001b[38;5;28mlen\u001b[39m(values)\n\u001b[1;32m   2269\u001b[0m     \u001b[38;5;66;03m# Skip an empty line\u001b[39;00m\n",
      "File \u001b[0;32m~/cs/Class/lyu/.venv/lib/python3.12/site-packages/numpy/lib/_iotools.py:226\u001b[0m, in \u001b[0;36mLineSplitter.__call__\u001b[0;34m(self, line)\u001b[0m\n\u001b[1;32m    225\u001b[0m \u001b[38;5;28;01mdef\u001b[39;00m \u001b[38;5;21m__call__\u001b[39m(\u001b[38;5;28mself\u001b[39m, line):\n\u001b[0;32m--> 226\u001b[0m     \u001b[38;5;28;01mreturn\u001b[39;00m \u001b[38;5;28;43mself\u001b[39;49m\u001b[38;5;241;43m.\u001b[39;49m\u001b[43m_handyman\u001b[49m\u001b[43m(\u001b[49m\u001b[43m_decode_line\u001b[49m\u001b[43m(\u001b[49m\u001b[43mline\u001b[49m\u001b[43m,\u001b[49m\u001b[43m \u001b[49m\u001b[38;5;28;43mself\u001b[39;49m\u001b[38;5;241;43m.\u001b[39;49m\u001b[43mencoding\u001b[49m\u001b[43m)\u001b[49m\u001b[43m)\u001b[49m\n",
      "File \u001b[0;32m~/cs/Class/lyu/.venv/lib/python3.12/site-packages/numpy/lib/_iotools.py:205\u001b[0m, in \u001b[0;36mLineSplitter._delimited_splitter\u001b[0;34m(self, line)\u001b[0m\n\u001b[1;32m    203\u001b[0m \u001b[38;5;28;01mif\u001b[39;00m \u001b[38;5;129;01mnot\u001b[39;00m line:\n\u001b[1;32m    204\u001b[0m     \u001b[38;5;28;01mreturn\u001b[39;00m []\n\u001b[0;32m--> 205\u001b[0m \u001b[38;5;28;01mreturn\u001b[39;00m \u001b[43mline\u001b[49m\u001b[38;5;241;43m.\u001b[39;49m\u001b[43msplit\u001b[49m\u001b[43m(\u001b[49m\u001b[38;5;28;43mself\u001b[39;49m\u001b[38;5;241;43m.\u001b[39;49m\u001b[43mdelimiter\u001b[49m\u001b[43m)\u001b[49m\n",
      "\u001b[0;31mKeyboardInterrupt\u001b[0m: "
     ]
    }
   ],
   "source": [
    "for i in range(5,10):\n",
    "    print(i)\n",
    "    accu.append(roc.run(i))"
   ]
  },
  {
   "cell_type": "code",
   "execution_count": null,
   "id": "dd488593-1c7b-4d46-a4f7-f53b0c32f880",
   "metadata": {},
   "outputs": [],
   "source": [
    "for i in range(10,15):\n",
    "    print(i)\n",
    "    accu.append(roc.run(i))"
   ]
  },
  {
   "cell_type": "code",
   "execution_count": null,
   "id": "c6fe1549-95ae-44b8-8db1-f3807b614d59",
   "metadata": {},
   "outputs": [],
   "source": [
    "for i in range(15,20):\n",
    "    print(i)\n",
    "    accu.append(roc.run(i))"
   ]
  },
  {
   "cell_type": "code",
   "execution_count": 17,
   "id": "50dd881d-dadb-4ead-9959-209cf36bbc28",
   "metadata": {},
   "outputs": [],
   "source": [
    "accu1 = [(1 - i[0]) for i in accu]\n",
    "accu2 = [(1 - i[1]) for i in accu]\n",
    "thresholds = [i[2] for i in accu]"
   ]
  },
  {
   "cell_type": "code",
   "execution_count": 25,
   "id": "b87f9ca9-b889-4716-a5d0-a2fb0b82c9b9",
   "metadata": {},
   "outputs": [
    {
     "data": {
      "image/png": "[encoded data removed]",
      "text/plain": [
       "<Figure size 640x480 with 1 Axes>"
      ]
     },
     "metadata": {},
     "output_type": "display_data"
    }
   ],
   "source": [
    "x_values = np.arange(5,29)\n",
    "plt.plot(x_values, accu1, label='Line 1')\n",
    "plt.plot(x_values, accu2, label='Line 2')\n",
    "\n",
    "plt.legend()\n",
    "plt.show()"
   ]
  }
 ],
 "metadata": {
  "kernelspec": {
   "display_name": "Python 3 (ipykernel)",
   "language": "python",
   "name": "python3"
  },
  "language_info": {
   "codemirror_mode": {
    "name": "ipython",
    "version": 3
   },
   "file_extension": ".py",
   "mimetype": "text/x-python",
   "name": "python",
   "nbconvert_exporter": "python",
   "pygments_lexer": "ipython3",
   "version": "3.12.4"
  }
 },
 "nbformat": 4,
 "nbformat_minor": 5
}
