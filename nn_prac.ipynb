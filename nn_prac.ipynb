{
 "cells": [
  {
   "cell_type": "code",
   "execution_count": 3,
   "metadata": {},
   "outputs": [
    {
     "name": "stdout",
     "output_type": "stream",
     "text": [
      "[[0. 1. 0. 0.]\n",
      " [1. 0. 1. 0.]\n",
      " [0. 1. 0. 1.]\n",
      " [0. 0. 1. 0.]]\n",
      "\n",
      "nodes: ['1', '2', '3', '4']\n",
      "\n",
      "this is node 2's neighbors {'1', '3'}\n",
      "True\n"
     ]
    }
   ],
   "source": [
    "from NNetwork import NNetwork as nn\n",
    "\n",
    "edgelist = [[1,2],[2,3],[3,4]]\n",
    "G = nn.NNetwork()\n",
    "G.add_edges(edgelist)\n",
    "\n",
    "A = G.get_adjacency_matrix()\n",
    "print(A)\n",
    "\n",
    "V = G.nodes()\n",
    "print(f\"\\nnodes: {V}\")\n",
    "\n",
    "neigh_2 = G.neighbors('2')\n",
    "print(f\"\\nthis is node 2's neighbors {neigh_2}\")\n",
    "\n",
    "print(G.has_edge('2','3'))"
   ]
  },
  {
   "cell_type": "code",
   "execution_count": null,
   "metadata": {},
   "outputs": [],
   "source": []
  },
  {
   "cell_type": "code",
   "execution_count": 36,
   "metadata": {},
   "outputs": [
    {
     "name": "stdout",
     "output_type": "stream",
     "text": [
      "[['3', '4'], ['3', '2'], ['4', '3'], ['2', '3']]\n"
     ]
    }
   ],
   "source": [
    "edgelist2 = [[2,3],[3,4],[5,7]]\n",
    "G2 = nn.NNetwork()\n",
    "G2.add_edges(edgelist2)\n",
    "\n",
    "print(G.intersection(G2))\n"
   ]
  },
  {
   "cell_type": "code",
   "execution_count": 51,
   "metadata": {},
   "outputs": [
    {
     "name": "stdout",
     "output_type": "stream",
     "text": [
      "[[0.  0.5 0. ]\n",
      " [0.5 0.  0.8]\n",
      " [0.  0.8 0. ]]\n",
      "0.8\n",
      "\n",
      "['1', '2', '3']\n",
      "[[0. 1. 0.]\n",
      " [1. 0. 1.]\n",
      " [0. 1. 0.]]\n"
     ]
    }
   ],
   "source": [
    "### Weighted Graph\n",
    "edgelist = [[1,2,0.5],[2,3, 0.8]]\n",
    "G = nn.NNetwork()\n",
    "G.add_edges(edgelist)\n",
    "\n",
    "A = G.get_adjacency_matrix()\n",
    "print(A)\n",
    "\n",
    "w = G.get_edge_weight(2,3)\n",
    "print(w)\n",
    "\n",
    "# Convert to an unweighted graph\n",
    "G_simple = G.threshold2simple(0.4)\n",
    "print(f\"\\n{G_simple.nodes()}\")\n",
    "\n",
    "A_simple = G_simple.get_adjacency_matrix()\n",
    "print(A_simple)"
   ]
  },
  {
   "cell_type": "code",
   "execution_count": 61,
   "metadata": {},
   "outputs": [
    {
     "name": "stdout",
     "output_type": "stream",
     "text": [
      "Nodes: ['1', '2', '3', '4', '5']\n",
      "\n",
      "Edges: {\"['1', '2']\": 1, \"['2', '1']\": 1, \"['2', '3']\": 1, \"['3', '2']\": 1, \"['1', '3']\": 1, \"['3', '1']\": 1, \"['1', '4']\": 1, \"['4', '1']\": 1, \"['1', '5']\": 1, \"['5', '1']\": 1}\n",
      "\n",
      "Vec_patches: \n",
      "[[0. 0. 0. 0.]\n",
      " [1. 1. 1. 1.]\n",
      " [1. 0. 0. 0.]\n",
      " [1. 1. 1. 1.]\n",
      " [0. 0. 0. 0.]\n",
      " [1. 1. 1. 1.]\n",
      " [1. 0. 0. 0.]\n",
      " [1. 1. 1. 1.]\n",
      " [0. 0. 0. 0.]]\n",
      "\n",
      "Walk:[array(['2', '1', '3'], dtype='<U32'), array(['3', '1', '3'], dtype='<U32'), array(['2', '3', '2'], dtype='<U32'), array(['3', '1', '4'], dtype='<U32')]\n"
     ]
    }
   ],
   "source": [
    "### Mesoscale Patch computation\n",
    "edgelist = [[1,2],[2,3],[1,3],[1,4],[1,5]]\n",
    "G = nn.NNetwork()\n",
    "G.add_edges(edgelist)\n",
    "print(f\"Nodes: {G.vertices}\")\n",
    "\n",
    "print(f\"\\nEdges: {G.edges}\")\n",
    "\n",
    "X, embs = G.get_patches(k=3, sample_size=4, skip_folded_hom=False)\n",
    "print(f\"\\nVec_patches: \\n{X}\") # each column is a vectorizaiton of k x k induced adjacency matrix\n",
    "\n",
    "print(f\"\\nWalk:{embs}\") # four consecutive 3-walks in G\n"
   ]
  },
  {
   "cell_type": "code",
   "execution_count": 62,
   "metadata": {},
   "outputs": [
    {
     "name": "stdout",
     "output_type": "stream",
     "text": [
      "[[2 3]\n",
      " [1 2]\n",
      " [6 9]]\n"
     ]
    }
   ],
   "source": [
    "import numpy as np\n",
    "A = np.array([[2,3],\n",
    "              [1,2],\n",
    "              [6,9]])\n",
    "A = np.asarray(A)\n",
    "print(A)"
   ]
  },
  {
   "cell_type": "code",
   "execution_count": 67,
   "metadata": {},
   "outputs": [
    {
     "name": "stdout",
     "output_type": "stream",
     "text": [
      "Each element shape: (3, 4)\n",
      "Example element:\n",
      " [[3 9 9 1]\n",
      " [5 5 5 0]\n",
      " [1 1 2 4]]\n",
      "Resulting matrix shape: (3, 20)\n",
      "Resulting matrix:\n",
      " [[3 9 9 1 6 5 6 9 5 0 0 3 6 8 8 8 6 6 3 0]\n",
      " [5 5 5 0 0 6 4 5 5 9 5 5 7 1 0 6 3 7 5 6]\n",
      " [1 1 2 4 6 7 7 7 2 4 2 8 6 7 3 2 1 2 5 7]]\n"
     ]
    }
   ],
   "source": [
    "import numpy as np\n",
    "\n",
    "# Example setup: Creating an array of arrays, each with a shape of (3, 4)\n",
    "A = np.array([np.random.randint(0, 10, (3, 4)) for _ in range(5)])\n",
    "\n",
    "# Each element of A is a (3, 4) array\n",
    "print(\"Each element shape:\", A[0].shape)\n",
    "print(\"Example element:\\n\", A[0])\n",
    "\n",
    "# Horizontally stack the arrays from the list to form a (3, 20) matrix\n",
    "result_matrix = np.hstack(A)\n",
    "\n",
    "print(\"Resulting matrix shape:\", result_matrix.shape)\n",
    "print(\"Resulting matrix:\\n\", result_matrix)\n"
   ]
  },
  {
   "cell_type": "code",
   "execution_count": 72,
   "metadata": {},
   "outputs": [
    {
     "name": "stdout",
     "output_type": "stream",
     "text": [
      "[ 2  3  4  9  8 10]\n"
     ]
    }
   ],
   "source": [
    "A = np.array([[2,3],[4,9], [8,10]])\n",
    "A = A.reshape(1,-1)\n",
    "A = A[0]\n",
    "print(A)"
   ]
  },
  {
   "cell_type": "code",
   "execution_count": 1,
   "metadata": {},
   "outputs": [],
   "source": [
    "from NNetwork import NNetwork as nn\n",
    "G_fly = nn.NNetwork()\n",
    "G_fly.load_add_edges(\"data/bn-fly-drosophila_medulla_1.txt\", \n",
    "                     use_genfromtxt=True, delimiter=\",\")"
   ]
  },
  {
   "cell_type": "code",
   "execution_count": null,
   "metadata": {},
   "outputs": [],
   "source": [
    "from src.NDL.ndl_test import NetDictLearner\n",
    "\n",
    "NDL_fly_3 = NetDictLearner(G=G_fly, n_components=9, k=7)\n",
    "NDL_fly_3.train_dict()"
   ]
  },
  {
   "cell_type": "code",
   "execution_count": 1,
   "metadata": {},
   "outputs": [
    {
     "name": "stdout",
     "output_type": "stream",
     "text": [
      "Row Vector:\n",
      " [[1 2 3 4 5]]\n",
      "Column Vector:\n",
      " [[1]\n",
      " [2]\n",
      " [3]\n",
      " [4]\n",
      " [5]]\n"
     ]
    }
   ],
   "source": [
    "import numpy as np\n",
    "\n",
    "# 1D array\n",
    "a = np.array([1, 2, 3, 4, 5])\n",
    "\n",
    "# Convert to a row vector using np.newaxis\n",
    "row_vector = a[np.newaxis, :]\n",
    "\n",
    "# Convert to a column vector using np.newaxis\n",
    "column_vector = a[:, np.newaxis]\n",
    "\n",
    "print(\"Row Vector:\\n\", row_vector)\n",
    "print(\"Column Vector:\\n\", column_vector)\n"
   ]
  },
  {
   "cell_type": "code",
   "execution_count": 2,
   "metadata": {},
   "outputs": [
    {
     "name": "stdout",
     "output_type": "stream",
     "text": [
      "Concatenated along rows:\n",
      " [[1 2]\n",
      " [3 4]\n",
      " [5 6]]\n",
      "Concatenated along columns:\n",
      " [[ 1  2  7  8]\n",
      " [ 3  4  9 10]]\n"
     ]
    }
   ],
   "source": [
    "import numpy as np\n",
    "\n",
    "# Creating example arrays\n",
    "array1 = np.array([[1, 2], [3, 4]])\n",
    "array2 = np.array([[5, 6]])\n",
    "\n",
    "# Concatenating along the first axis (0), rows are added\n",
    "concatenated_array1 = np.concatenate((array1, array2), axis=0)\n",
    "\n",
    "# Creating another example for axis 1 concatenation\n",
    "array3 = np.array([[7, 8], [9, 10]])\n",
    "\n",
    "# Concatenating along the second axis (1), columns are added\n",
    "concatenated_array2 = np.concatenate((array1, array3), axis=1)\n",
    "\n",
    "print(\"Concatenated along rows:\\n\", concatenated_array1)\n",
    "print(\"Concatenated along columns:\\n\", concatenated_array2)"
   ]
  },
  {
   "cell_type": "code",
   "execution_count": 7,
   "metadata": {},
   "outputs": [
    {
     "name": "stdout",
     "output_type": "stream",
     "text": [
      "(6, 1)\n"
     ]
    }
   ],
   "source": [
    "import numpy as np\n",
    "\n",
    "a = np.array([1,2,3,4,5,6])\n",
    "\n",
    "a= a.reshape(-1,1)\n",
    "print(a.shape)"
   ]
  }
 ],
 "metadata": {
  "kernelspec": {
   "display_name": "base",
   "language": "python",
   "name": "python3"
  },
  "language_info": {
   "codemirror_mode": {
    "name": "ipython",
    "version": 3
   },
   "file_extension": ".py",
   "mimetype": "text/x-python",
   "name": "python",
   "nbconvert_exporter": "python",
   "pygments_lexer": "ipython3",
   "version": "3.12.4"
  }
 },
 "nbformat": 4,
 "nbformat_minor": 2
}
