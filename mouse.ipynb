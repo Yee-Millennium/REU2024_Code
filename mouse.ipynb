{
 "cells": [
  {
   "cell_type": "code",
   "execution_count": 1,
   "id": "e65395c2-ac0e-4e41-9f5f-51f5ceb6cc6c",
   "metadata": {},
   "outputs": [],
   "source": [
    "import roc_curve_test as roc\n",
    "import numpy as np\n",
    "import matplotlib.pyplot as plt"
   ]
  },
  {
   "cell_type": "code",
   "execution_count": 2,
   "id": "1eef8d95-462b-4779-bd88-df61dda377bb",
   "metadata": {},
   "outputs": [],
   "source": [
    "accu = []"
   ]
  },
  {
   "cell_type": "code",
   "execution_count": 4,
   "id": "c1fa7e78-dec2-409c-a33e-52c322d539ed",
   "metadata": {},
   "outputs": [
    {
     "name": "stdout",
     "output_type": "stream",
     "text": [
      "5\n",
      "num of subgraphs induced on k-paths: 500\n",
      "num of subgraphs induced on k-paths: 500\n",
      "X_list: (25, 1000)\n",
      "2\n",
      "(1, 500)\n",
      "(1, 500)\n",
      "label_vec: (1, 1000)\n",
      "num of subgraphs induced on k-paths: 500\n",
      "num of subgraphs induced on k-paths: 647\n",
      "X_list: (25, 1147)\n",
      "2\n",
      "(1, 500)\n",
      "(1, 647)\n",
      "label_vec: (1, 1147)\n",
      "initial loading beta [[-0.1786937  -0.90145296  0.12947226  0.78013837 -0.05182189 -0.38882053\n",
      "  -0.02987611 -0.46648187  0.6200567  -0.37949282  0.70832605 -0.05116157\n",
      "  -0.90125261 -0.67149762  0.39511951 -0.85568181  0.39626928]]\n"
     ]
    },
    {
     "name": "stderr",
     "output_type": "stream",
     "text": [
      "  0%|                                                                                                                                  | 0/250 [00:00<?, ?it/s]"
     ]
    },
    {
     "name": "stdout",
     "output_type": "stream",
     "text": [
      "--- Training --- [threshold, AUC] =  [np.float64(0.705), np.float64(0.901)]\n",
      "--- Iteration 0: Training loss --- [Data, Label, Total] = [1967.307619.3, 525.926276.3, 10362.464372.3]\n",
      "--- Training --- [threshold, AUC] =  [np.float64(0.713), np.float64(0.913)]\n",
      "--- Iteration 10: Training loss --- [Data, Label, Total] = [625.108081.3, 409.858834.3, 3535.399239.3]\n",
      "!!! pred_type filter\n"
     ]
    },
    {
     "name": "stderr",
     "output_type": "stream",
     "text": [
      "  4%|█████▎                                                                                                                   | 11/250 [00:00<00:16, 14.52it/s]"
     ]
    },
    {
     "name": "stdout",
     "output_type": "stream",
     "text": [
      "--- Validation --- [threshold, AUC, Accuracy, F score] =  [np.float64(0.713), np.float64(0.913), np.float64(0.902), np.float64(0.917)]\n",
      "--- Training --- [threshold, AUC] =  [np.float64(0.657), np.float64(0.916)]\n",
      "--- Iteration 20: Training loss --- [Data, Label, Total] = [483.516255.3, 394.024464.3, 2811.605739.3]\n",
      "!!! pred_type filter\n"
     ]
    },
    {
     "name": "stderr",
     "output_type": "stream",
     "text": [
      "  8%|██████████▏                                                                                                              | 21/250 [00:01<00:16, 14.20it/s]"
     ]
    },
    {
     "name": "stdout",
     "output_type": "stream",
     "text": [
      "--- Validation --- [threshold, AUC, Accuracy, F score] =  [np.float64(0.657), np.float64(0.916), np.float64(0.922), np.float64(0.936)]\n",
      "--- Training --- [threshold, AUC] =  [np.float64(0.683), np.float64(0.916)]\n",
      "--- Iteration 30: Training loss --- [Data, Label, Total] = [425.857962.3, 386.854946.3, 2516.144755.3]\n",
      "!!! pred_type filter\n"
     ]
    },
    {
     "name": "stderr",
     "output_type": "stream",
     "text": [
      " 12%|███████████████                                                                                                          | 31/250 [00:02<00:15, 14.06it/s]"
     ]
    },
    {
     "name": "stdout",
     "output_type": "stream",
     "text": [
      "--- Validation --- [threshold, AUC, Accuracy, F score] =  [np.float64(0.683), np.float64(0.916), np.float64(0.922), np.float64(0.936)]\n",
      "--- Training --- [threshold, AUC] =  [np.float64(0.694), np.float64(0.916)]\n",
      "--- Iteration 40: Training loss --- [Data, Label, Total] = [397.658945.3, 382.335463.3, 2370.630186.3]\n",
      "!!! pred_type filter\n"
     ]
    },
    {
     "name": "stderr",
     "output_type": "stream",
     "text": [
      " 17%|████████████████████▊                                                                                                    | 43/250 [00:03<00:17, 11.61it/s]"
     ]
    },
    {
     "name": "stdout",
     "output_type": "stream",
     "text": [
      "--- Validation --- [threshold, AUC, Accuracy, F score] =  [np.float64(0.694), np.float64(0.916), np.float64(0.922), np.float64(0.936)]\n",
      "--- Training --- [threshold, AUC] =  [np.float64(0.701), np.float64(0.916)]\n",
      "--- Iteration 50: Training loss --- [Data, Label, Total] = [373.703056.3, 377.867659.3, 2246.382941.3]\n",
      "!!! pred_type filter\n"
     ]
    },
    {
     "name": "stderr",
     "output_type": "stream",
     "text": [
      " 20%|████████████████████████▋                                                                                                | 51/250 [00:04<00:19, 10.13it/s]"
     ]
    },
    {
     "name": "stdout",
     "output_type": "stream",
     "text": [
      "--- Validation --- [threshold, AUC, Accuracy, F score] =  [np.float64(0.701), np.float64(0.916), np.float64(0.922), np.float64(0.936)]\n",
      "--- Training --- [threshold, AUC] =  [np.float64(0.705), np.float64(0.916)]\n",
      "--- Iteration 60: Training loss --- [Data, Label, Total] = [337.683378.3, 374.109916.3, 2062.526807.3]\n",
      "!!! pred_type filter\n"
     ]
    },
    {
     "name": "stderr",
     "output_type": "stream",
     "text": [
      " 24%|█████████████████████████████▌                                                                                           | 61/250 [00:05<00:16, 11.45it/s]"
     ]
    },
    {
     "name": "stdout",
     "output_type": "stream",
     "text": [
      "--- Validation --- [threshold, AUC, Accuracy, F score] =  [np.float64(0.705), np.float64(0.916), np.float64(0.922), np.float64(0.936)]\n",
      "--- Training --- [threshold, AUC] =  [np.float64(0.71), np.float64(0.916)]\n",
      "--- Iteration 70: Training loss --- [Data, Label, Total] = [293.255586.3, 371.705147.3, 1837.983075.3]\n",
      "!!! pred_type filter\n"
     ]
    },
    {
     "name": "stderr",
     "output_type": "stream",
     "text": [
      " 28%|██████████████████████████████████▎                                                                                      | 71/250 [00:05<00:14, 12.03it/s]"
     ]
    },
    {
     "name": "stdout",
     "output_type": "stream",
     "text": [
      "--- Validation --- [threshold, AUC, Accuracy, F score] =  [np.float64(0.71), np.float64(0.916), np.float64(0.926), np.float64(0.938)]\n",
      "--- Training --- [threshold, AUC] =  [np.float64(0.706), np.float64(0.916)]\n",
      "--- Iteration 80: Training loss --- [Data, Label, Total] = [245.619413.3, 371.422090.3, 1599.519157.3]\n",
      "!!! pred_type filter\n"
     ]
    },
    {
     "name": "stderr",
     "output_type": "stream",
     "text": [
      " 32%|███████████████████████████████████████▏                                                                                 | 81/250 [00:06<00:13, 12.20it/s]"
     ]
    },
    {
     "name": "stdout",
     "output_type": "stream",
     "text": [
      "--- Validation --- [threshold, AUC, Accuracy, F score] =  [np.float64(0.706), np.float64(0.916), np.float64(0.926), np.float64(0.938)]\n",
      "--- Training --- [threshold, AUC] =  [np.float64(0.705), np.float64(0.916)]\n",
      "--- Iteration 90: Training loss --- [Data, Label, Total] = [203.828908.3, 372.580951.3, 1391.725490.3]\n",
      "!!! pred_type filter\n"
     ]
    },
    {
     "name": "stderr",
     "output_type": "stream",
     "text": [
      " 36%|████████████████████████████████████████████                                                                             | 91/250 [00:07<00:12, 12.43it/s]"
     ]
    },
    {
     "name": "stdout",
     "output_type": "stream",
     "text": [
      "--- Validation --- [threshold, AUC, Accuracy, F score] =  [np.float64(0.705), np.float64(0.916), np.float64(0.926), np.float64(0.938)]\n",
      "--- Training --- [threshold, AUC] =  [np.float64(0.705), np.float64(0.916)]\n",
      "--- Iteration 100: Training loss --- [Data, Label, Total] = [176.487598.3, 374.212241.3, 1256.650229.3]\n",
      "!!! pred_type filter\n"
     ]
    },
    {
     "name": "stderr",
     "output_type": "stream",
     "text": [
      " 40%|████████████████████████████████████████████████▍                                                                       | 101/250 [00:08<00:11, 13.03it/s]"
     ]
    },
    {
     "name": "stdout",
     "output_type": "stream",
     "text": [
      "--- Validation --- [threshold, AUC, Accuracy, F score] =  [np.float64(0.705), np.float64(0.916), np.float64(0.926), np.float64(0.938)]\n",
      "--- Training --- [threshold, AUC] =  [np.float64(0.701), np.float64(0.916)]\n",
      "--- Iteration 110: Training loss --- [Data, Label, Total] = [155.624114.3, 374.971096.3, 1153.091664.3]\n",
      "!!! pred_type filter\n"
     ]
    },
    {
     "name": "stderr",
     "output_type": "stream",
     "text": [
      " 44%|█████████████████████████████████████████████████████▎                                                                  | 111/250 [00:08<00:10, 13.64it/s]"
     ]
    },
    {
     "name": "stdout",
     "output_type": "stream",
     "text": [
      "--- Validation --- [threshold, AUC, Accuracy, F score] =  [np.float64(0.701), np.float64(0.916), np.float64(0.926), np.float64(0.938)]\n",
      "--- Training --- [threshold, AUC] =  [np.float64(0.698), np.float64(0.916)]\n",
      "--- Iteration 120: Training loss --- [Data, Label, Total] = [135.438872.3, 375.822286.3, 1053.016648.3]\n",
      "!!! pred_type filter\n"
     ]
    },
    {
     "name": "stderr",
     "output_type": "stream",
     "text": [
      " 48%|██████████████████████████████████████████████████████████                                                              | 121/250 [00:09<00:08, 14.40it/s]"
     ]
    },
    {
     "name": "stdout",
     "output_type": "stream",
     "text": [
      "--- Validation --- [threshold, AUC, Accuracy, F score] =  [np.float64(0.698), np.float64(0.916), np.float64(0.926), np.float64(0.938)]\n",
      "--- Training --- [threshold, AUC] =  [np.float64(0.695), np.float64(0.916)]\n",
      "--- Iteration 130: Training loss --- [Data, Label, Total] = [116.942578.3, 376.983019.3, 961.695911.3]\n",
      "!!! pred_type filter\n"
     ]
    },
    {
     "name": "stderr",
     "output_type": "stream",
     "text": [
      " 52%|██████████████████████████████████████████████████████████████▉                                                         | 131/250 [00:10<00:07, 15.22it/s]"
     ]
    },
    {
     "name": "stdout",
     "output_type": "stream",
     "text": [
      "--- Validation --- [threshold, AUC, Accuracy, F score] =  [np.float64(0.695), np.float64(0.916), np.float64(0.926), np.float64(0.938)]\n",
      "--- Training --- [threshold, AUC] =  [np.float64(0.693), np.float64(0.916)]\n",
      "--- Iteration 140: Training loss --- [Data, Label, Total] = [103.051868.3, 378.478985.3, 893.738325.3]\n",
      "!!! pred_type filter\n"
     ]
    },
    {
     "name": "stderr",
     "output_type": "stream",
     "text": [
      " 56%|███████████████████████████████████████████████████████████████████▋                                                    | 141/250 [00:10<00:06, 16.03it/s]"
     ]
    },
    {
     "name": "stdout",
     "output_type": "stream",
     "text": [
      "--- Validation --- [threshold, AUC, Accuracy, F score] =  [np.float64(0.693), np.float64(0.916), np.float64(0.926), np.float64(0.938)]\n",
      "--- Training --- [threshold, AUC] =  [np.float64(0.693), np.float64(0.916)]\n",
      "--- Iteration 150: Training loss --- [Data, Label, Total] = [94.784121.3, 378.530130.3, 852.450734.3]\n",
      "!!! pred_type filter\n"
     ]
    },
    {
     "name": "stderr",
     "output_type": "stream",
     "text": [
      " 60%|████████████████████████████████████████████████████████████████████████▍                                               | 151/250 [00:11<00:05, 16.78it/s]"
     ]
    },
    {
     "name": "stdout",
     "output_type": "stream",
     "text": [
      "--- Validation --- [threshold, AUC, Accuracy, F score] =  [np.float64(0.693), np.float64(0.916), np.float64(0.926), np.float64(0.938)]\n",
      "--- Training --- [threshold, AUC] =  [np.float64(0.693), np.float64(0.916)]\n",
      "--- Iteration 160: Training loss --- [Data, Label, Total] = [90.485528.3, 378.384333.3, 830.811974.3]\n",
      "!!! pred_type filter\n"
     ]
    },
    {
     "name": "stderr",
     "output_type": "stream",
     "text": [
      " 64%|█████████████████████████████████████████████████████████████████████████████▎                                          | 161/250 [00:11<00:05, 17.30it/s]"
     ]
    },
    {
     "name": "stdout",
     "output_type": "stream",
     "text": [
      "--- Validation --- [threshold, AUC, Accuracy, F score] =  [np.float64(0.693), np.float64(0.916), np.float64(0.926), np.float64(0.938)]\n",
      "--- Training --- [threshold, AUC] =  [np.float64(0.692), np.float64(0.916)]\n",
      "--- Iteration 170: Training loss --- [Data, Label, Total] = [88.379234.3, 377.259387.3, 819.155558.3]\n",
      "!!! pred_type filter\n"
     ]
    },
    {
     "name": "stderr",
     "output_type": "stream",
     "text": [
      " 68%|██████████████████████████████████████████████████████████████████████████████████                                      | 171/250 [00:12<00:04, 17.33it/s]"
     ]
    },
    {
     "name": "stdout",
     "output_type": "stream",
     "text": [
      "--- Validation --- [threshold, AUC, Accuracy, F score] =  [np.float64(0.692), np.float64(0.916), np.float64(0.926), np.float64(0.938)]\n",
      "--- Training --- [threshold, AUC] =  [np.float64(0.692), np.float64(0.916)]\n",
      "--- Iteration 180: Training loss --- [Data, Label, Total] = [87.383118.3, 376.009629.3, 812.925218.3]\n",
      "!!! pred_type filter\n"
     ]
    },
    {
     "name": "stderr",
     "output_type": "stream",
     "text": [
      " 72%|██████████████████████████████████████████████████████████████████████████████████████▉                                 | 181/250 [00:12<00:03, 17.37it/s]"
     ]
    },
    {
     "name": "stdout",
     "output_type": "stream",
     "text": [
      "--- Validation --- [threshold, AUC, Accuracy, F score] =  [np.float64(0.692), np.float64(0.916), np.float64(0.926), np.float64(0.938)]\n",
      "--- Training --- [threshold, AUC] =  [np.float64(0.695), np.float64(0.916)]\n",
      "--- Iteration 190: Training loss --- [Data, Label, Total] = [86.977931.3, 374.522046.3, 809.411700.3]\n",
      "!!! pred_type filter\n"
     ]
    },
    {
     "name": "stderr",
     "output_type": "stream",
     "text": [
      " 76%|███████████████████████████████████████████████████████████████████████████████████████████▋                            | 191/250 [00:13<00:03, 15.94it/s]"
     ]
    },
    {
     "name": "stdout",
     "output_type": "stream",
     "text": [
      "--- Validation --- [threshold, AUC, Accuracy, F score] =  [np.float64(0.695), np.float64(0.916), np.float64(0.926), np.float64(0.938)]\n",
      "--- Training --- [threshold, AUC] =  [np.float64(0.696), np.float64(0.916)]\n",
      "--- Iteration 200: Training loss --- [Data, Label, Total] = [86.893696.3, 372.693517.3, 807.161999.3]\n",
      "!!! pred_type filter\n"
     ]
    },
    {
     "name": "stderr",
     "output_type": "stream",
     "text": [
      " 80%|████████████████████████████████████████████████████████████████████████████████████████████████▍                       | 201/250 [00:14<00:02, 16.51it/s]"
     ]
    },
    {
     "name": "stdout",
     "output_type": "stream",
     "text": [
      "--- Validation --- [threshold, AUC, Accuracy, F score] =  [np.float64(0.696), np.float64(0.916), np.float64(0.926), np.float64(0.938)]\n",
      "--- Training --- [threshold, AUC] =  [np.float64(0.697), np.float64(0.916)]\n",
      "--- Iteration 210: Training loss --- [Data, Label, Total] = [86.970999.3, 370.805815.3, 805.660812.3]\n",
      "!!! pred_type filter\n"
     ]
    },
    {
     "name": "stderr",
     "output_type": "stream",
     "text": [
      " 84%|█████████████████████████████████████████████████████████████████████████████████████████████████████▎                  | 211/250 [00:14<00:02, 17.00it/s]"
     ]
    },
    {
     "name": "stdout",
     "output_type": "stream",
     "text": [
      "--- Validation --- [threshold, AUC, Accuracy, F score] =  [np.float64(0.697), np.float64(0.916), np.float64(0.926), np.float64(0.938)]\n",
      "--- Training --- [threshold, AUC] =  [np.float64(0.699), np.float64(0.916)]\n",
      "--- Iteration 220: Training loss --- [Data, Label, Total] = [87.146868.3, 368.800609.3, 804.534949.3]\n",
      "!!! pred_type filter\n"
     ]
    },
    {
     "name": "stderr",
     "output_type": "stream",
     "text": [
      " 88%|██████████████████████████████████████████████████████████████████████████████████████████████████████████              | 221/250 [00:15<00:01, 17.48it/s]"
     ]
    },
    {
     "name": "stdout",
     "output_type": "stream",
     "text": [
      "--- Validation --- [threshold, AUC, Accuracy, F score] =  [np.float64(0.699), np.float64(0.916), np.float64(0.926), np.float64(0.938)]\n",
      "--- Training --- [threshold, AUC] =  [np.float64(0.698), np.float64(0.916)]\n",
      "--- Iteration 230: Training loss --- [Data, Label, Total] = [87.370503.3, 366.792837.3, 803.645354.3]\n",
      "!!! pred_type filter\n"
     ]
    },
    {
     "name": "stderr",
     "output_type": "stream",
     "text": [
      " 92%|██████████████████████████████████████████████████████████████████████████████████████████████████████████████▉         | 231/250 [00:15<00:01, 18.27it/s]"
     ]
    },
    {
     "name": "stdout",
     "output_type": "stream",
     "text": [
      "--- Validation --- [threshold, AUC, Accuracy, F score] =  [np.float64(0.698), np.float64(0.916), np.float64(0.926), np.float64(0.938)]\n",
      "--- Training --- [threshold, AUC] =  [np.float64(0.702), np.float64(0.916)]\n",
      "--- Iteration 240: Training loss --- [Data, Label, Total] = [87.609414.3, 364.953941.3, 803.001011.3]\n",
      "!!! pred_type filter\n"
     ]
    },
    {
     "name": "stderr",
     "output_type": "stream",
     "text": [
      "100%|████████████████████████████████████████████████████████████████████████████████████████████████████████████████████████| 250/250 [00:16<00:00, 15.47it/s]"
     ]
    },
    {
     "name": "stdout",
     "output_type": "stream",
     "text": [
      "--- Validation --- [threshold, AUC, Accuracy, F score] =  [np.float64(0.702), np.float64(0.916), np.float64(0.926), np.float64(0.938)]\n",
      "!!! pred_type filter\n"
     ]
    },
    {
     "name": "stderr",
     "output_type": "stream",
     "text": [
      "\n"
     ]
    },
    {
     "name": "stdout",
     "output_type": "stream",
     "text": [
      "num of subgraphs induced on k-paths: 500\n",
      "num of subgraphs induced on k-paths: 500\n",
      "X_list: (25, 1000)\n",
      "2\n",
      "(1, 500)\n",
      "(1, 500)\n",
      "label_vec: (1, 1000)\n",
      "num of subgraphs induced on k-paths: 500\n",
      "num of subgraphs induced on k-paths: 500\n",
      "X_list: (25, 1000)\n",
      "2\n",
      "(1, 500)\n",
      "(1, 500)\n",
      "label_vec: (1, 1000)\n",
      "num of subgraphs induced on k-paths: 500\n",
      "num of subgraphs induced on k-paths: 500\n",
      "X_list: (25, 1000)\n",
      "2\n",
      "(1, 500)\n",
      "(1, 500)\n",
      "label_vec: (1, 1000)\n",
      "num of subgraphs induced on k-paths: 500\n",
      "num of subgraphs induced on k-paths: 500\n",
      "X_list: (25, 1000)\n",
      "2\n",
      "(1, 500)\n",
      "(1, 500)\n",
      "label_vec: (1, 1000)\n",
      "6\n",
      "num of subgraphs induced on k-paths: 500\n",
      "num of subgraphs induced on k-paths: 500\n",
      "X_list: (36, 1000)\n",
      "2\n",
      "(1, 500)\n",
      "(1, 500)\n",
      "label_vec: (1, 1000)\n",
      "num of subgraphs induced on k-paths: 500\n",
      "num of subgraphs induced on k-paths: 672\n",
      "X_list: (36, 1172)\n",
      "2\n",
      "(1, 500)\n",
      "(1, 672)\n",
      "label_vec: (1, 1172)\n",
      "initial loading beta [[-0.11118192 -0.99805392  0.21590646 -0.71254989  0.95821056  0.56578158\n",
      "   0.36593473  0.94755705  0.44780062  0.44482532 -0.40783577 -0.93288454\n",
      "  -0.3165301   0.21633515 -0.45899982  0.05034828  0.5759479 ]]\n"
     ]
    },
    {
     "name": "stderr",
     "output_type": "stream",
     "text": [
      "  0%|                                                                                                                                  | 0/250 [00:00<?, ?it/s]"
     ]
    },
    {
     "name": "stdout",
     "output_type": "stream",
     "text": [
      "--- Training --- [threshold, AUC] =  [np.float64(0.752), np.float64(0.928)]\n",
      "--- Iteration 0: Training loss --- [Data, Label, Total] = [3089.442785.3, 484.043578.3, 15931.257504.3]\n",
      "--- Training --- [threshold, AUC] =  [np.float64(0.591), np.float64(0.947)]\n",
      "--- Iteration 10: Training loss --- [Data, Label, Total] = [1146.491037.3, 316.424039.3, 6048.879224.3]\n",
      "!!! pred_type filter\n"
     ]
    },
    {
     "name": "stderr",
     "output_type": "stream",
     "text": [
      "  4%|█████▎                                                                                                                   | 11/250 [00:01<00:27,  8.58it/s]"
     ]
    },
    {
     "name": "stdout",
     "output_type": "stream",
     "text": [
      "--- Validation --- [threshold, AUC, Accuracy, F score] =  [np.float64(0.591), np.float64(0.947), np.float64(0.943), np.float64(0.952)]\n",
      "--- Training --- [threshold, AUC] =  [np.float64(0.576), np.float64(0.946)]\n",
      "--- Iteration 20: Training loss --- [Data, Label, Total] = [922.504633.3, 320.575593.3, 4933.098758.3]\n",
      "!!! pred_type filter\n"
     ]
    },
    {
     "name": "stderr",
     "output_type": "stream",
     "text": [
      "  8%|██████████▏                                                                                                              | 21/250 [00:01<00:20, 10.98it/s]"
     ]
    },
    {
     "name": "stdout",
     "output_type": "stream",
     "text": [
      "--- Validation --- [threshold, AUC, Accuracy, F score] =  [np.float64(0.576), np.float64(0.946), np.float64(0.939), np.float64(0.949)]\n",
      "--- Training --- [threshold, AUC] =  [np.float64(0.597), np.float64(0.946)]\n",
      "--- Iteration 30: Training loss --- [Data, Label, Total] = [853.056154.3, 314.378257.3, 4579.659028.3]\n",
      "!!! pred_type filter\n"
     ]
    },
    {
     "name": "stderr",
     "output_type": "stream",
     "text": [
      " 12%|███████████████                                                                                                          | 31/250 [00:02<00:18, 12.05it/s]"
     ]
    },
    {
     "name": "stdout",
     "output_type": "stream",
     "text": [
      "--- Validation --- [threshold, AUC, Accuracy, F score] =  [np.float64(0.597), np.float64(0.946), np.float64(0.939), np.float64(0.95)]\n",
      "--- Training --- [threshold, AUC] =  [np.float64(0.617), np.float64(0.947)]\n",
      "--- Iteration 40: Training loss --- [Data, Label, Total] = [787.415558.3, 306.507485.3, 4243.585276.3]\n",
      "!!! pred_type filter\n"
     ]
    },
    {
     "name": "stderr",
     "output_type": "stream",
     "text": [
      " 16%|███████████████████▊                                                                                                     | 41/250 [00:03<00:16, 12.79it/s]"
     ]
    },
    {
     "name": "stdout",
     "output_type": "stream",
     "text": [
      "--- Validation --- [threshold, AUC, Accuracy, F score] =  [np.float64(0.617), np.float64(0.947), np.float64(0.943), np.float64(0.952)]\n",
      "--- Training --- [threshold, AUC] =  [np.float64(0.628), np.float64(0.947)]\n",
      "--- Iteration 50: Training loss --- [Data, Label, Total] = [732.797629.3, 299.888208.3, 3963.876351.3]\n",
      "!!! pred_type filter\n"
     ]
    },
    {
     "name": "stderr",
     "output_type": "stream",
     "text": [
      " 20%|████████████████████████▋                                                                                                | 51/250 [00:04<00:15, 12.78it/s]"
     ]
    },
    {
     "name": "stdout",
     "output_type": "stream",
     "text": [
      "--- Validation --- [threshold, AUC, Accuracy, F score] =  [np.float64(0.628), np.float64(0.947), np.float64(0.945), np.float64(0.954)]\n",
      "--- Training --- [threshold, AUC] =  [np.float64(0.653), np.float64(0.948)]\n",
      "--- Iteration 60: Training loss --- [Data, Label, Total] = [692.306519.3, 294.548877.3, 3756.081473.3]\n",
      "!!! pred_type filter\n"
     ]
    },
    {
     "name": "stderr",
     "output_type": "stream",
     "text": [
      " 24%|█████████████████████████████▌                                                                                           | 61/250 [00:04<00:14, 13.20it/s]"
     ]
    },
    {
     "name": "stdout",
     "output_type": "stream",
     "text": [
      "--- Validation --- [threshold, AUC, Accuracy, F score] =  [np.float64(0.653), np.float64(0.948), np.float64(0.949), np.float64(0.957)]\n",
      "--- Training --- [threshold, AUC] =  [np.float64(0.676), np.float64(0.948)]\n",
      "--- Iteration 70: Training loss --- [Data, Label, Total] = [651.383678.3, 288.494006.3, 3545.412396.3]\n",
      "!!! pred_type filter\n"
     ]
    },
    {
     "name": "stderr",
     "output_type": "stream",
     "text": [
      " 32%|██████████████████████████████████████▋                                                                                  | 80/250 [00:06<00:11, 15.36it/s]"
     ]
    },
    {
     "name": "stdout",
     "output_type": "stream",
     "text": [
      "--- Validation --- [threshold, AUC, Accuracy, F score] =  [np.float64(0.676), np.float64(0.948), np.float64(0.949), np.float64(0.957)]\n",
      "--- Training --- [threshold, AUC] =  [np.float64(0.699), np.float64(0.948)]\n",
      "--- Iteration 80: Training loss --- [Data, Label, Total] = [607.077186.3, 284.984605.3, 3320.370537.3]\n",
      "!!! pred_type filter\n"
     ]
    },
    {
     "name": "stderr",
     "output_type": "stream",
     "text": [
      " 34%|████████████████████████████████████████▋                                                                                | 84/250 [00:06<00:13, 12.28it/s]"
     ]
    },
    {
     "name": "stdout",
     "output_type": "stream",
     "text": [
      "--- Validation --- [threshold, AUC, Accuracy, F score] =  [np.float64(0.699), np.float64(0.948), np.float64(0.95), np.float64(0.958)]\n",
      "--- Training --- [threshold, AUC] =  [np.float64(0.717), np.float64(0.948)]\n",
      "--- Iteration 90: Training loss --- [Data, Label, Total] = [568.053389.3, 283.317253.3, 3123.584200.3]\n",
      "!!! pred_type filter\n"
     ]
    },
    {
     "name": "stderr",
     "output_type": "stream",
     "text": [
      " 36%|████████████████████████████████████████████                                                                             | 91/250 [00:07<00:13, 12.02it/s]"
     ]
    },
    {
     "name": "stdout",
     "output_type": "stream",
     "text": [
      "--- Validation --- [threshold, AUC, Accuracy, F score] =  [np.float64(0.717), np.float64(0.948), np.float64(0.95), np.float64(0.958)]\n",
      "--- Training --- [threshold, AUC] =  [np.float64(0.604), np.float64(0.948)]\n",
      "--- Iteration 100: Training loss --- [Data, Label, Total] = [538.000841.3, 283.012341.3, 2973.016545.3]\n",
      "!!! pred_type filter\n"
     ]
    },
    {
     "name": "stderr",
     "output_type": "stream",
     "text": [
      " 40%|████████████████████████████████████████████████▍                                                                       | 101/250 [00:08<00:11, 13.18it/s]"
     ]
    },
    {
     "name": "stdout",
     "output_type": "stream",
     "text": [
      "--- Validation --- [threshold, AUC, Accuracy, F score] =  [np.float64(0.604), np.float64(0.948), np.float64(0.951), np.float64(0.959)]\n",
      "--- Training --- [threshold, AUC] =  [np.float64(0.621), np.float64(0.948)]\n",
      "--- Iteration 110: Training loss --- [Data, Label, Total] = [515.475755.3, 283.464515.3, 2860.843291.3]\n",
      "!!! pred_type filter\n"
     ]
    },
    {
     "name": "stderr",
     "output_type": "stream",
     "text": [
      " 44%|█████████████████████████████████████████████████████▎                                                                  | 111/250 [00:08<00:09, 14.09it/s]"
     ]
    },
    {
     "name": "stdout",
     "output_type": "stream",
     "text": [
      "--- Validation --- [threshold, AUC, Accuracy, F score] =  [np.float64(0.621), np.float64(0.948), np.float64(0.951), np.float64(0.959)]\n",
      "--- Training --- [threshold, AUC] =  [np.float64(0.628), np.float64(0.948)]\n",
      "--- Iteration 120: Training loss --- [Data, Label, Total] = [497.632428.3, 284.232819.3, 2772.394961.3]\n",
      "!!! pred_type filter\n"
     ]
    },
    {
     "name": "stderr",
     "output_type": "stream",
     "text": [
      " 48%|██████████████████████████████████████████████████████████                                                              | 121/250 [00:09<00:08, 14.77it/s]"
     ]
    },
    {
     "name": "stdout",
     "output_type": "stream",
     "text": [
      "--- Validation --- [threshold, AUC, Accuracy, F score] =  [np.float64(0.628), np.float64(0.948), np.float64(0.951), np.float64(0.959)]\n",
      "--- Training --- [threshold, AUC] =  [np.float64(0.749), np.float64(0.948)]\n",
      "--- Iteration 130: Training loss --- [Data, Label, Total] = [482.211816.3, 284.970939.3, 2696.030018.3]\n",
      "!!! pred_type filter\n"
     ]
    },
    {
     "name": "stderr",
     "output_type": "stream",
     "text": [
      " 52%|██████████████████████████████████████████████████████████████▉                                                         | 131/250 [00:09<00:07, 15.30it/s]"
     ]
    },
    {
     "name": "stdout",
     "output_type": "stream",
     "text": [
      "--- Validation --- [threshold, AUC, Accuracy, F score] =  [np.float64(0.749), np.float64(0.948), np.float64(0.951), np.float64(0.959)]\n",
      "--- Training --- [threshold, AUC] =  [np.float64(0.648), np.float64(0.948)]\n",
      "--- Iteration 140: Training loss --- [Data, Label, Total] = [467.527422.3, 285.311592.3, 2622.948701.3]\n",
      "!!! pred_type filter\n"
     ]
    },
    {
     "name": "stderr",
     "output_type": "stream",
     "text": [
      " 60%|███████████████████████████████████████████████████████████████████████▌                                                | 149/250 [00:10<00:05, 19.71it/s]"
     ]
    },
    {
     "name": "stdout",
     "output_type": "stream",
     "text": [
      "--- Validation --- [threshold, AUC, Accuracy, F score] =  [np.float64(0.648), np.float64(0.948), np.float64(0.951), np.float64(0.959)]\n",
      "--- Training --- [threshold, AUC] =  [np.float64(0.654), np.float64(0.948)]\n",
      "--- Iteration 150: Training loss --- [Data, Label, Total] = [452.274841.3, 285.963997.3, 2547.338201.3]\n",
      "!!! pred_type filter\n"
     ]
    },
    {
     "name": "stderr",
     "output_type": "stream",
     "text": [
      " 61%|█████████████████████████████████████████████████████████████████████████▍                                              | 153/250 [00:11<00:07, 13.51it/s]"
     ]
    },
    {
     "name": "stdout",
     "output_type": "stream",
     "text": [
      "--- Validation --- [threshold, AUC, Accuracy, F score] =  [np.float64(0.654), np.float64(0.948), np.float64(0.951), np.float64(0.959)]\n",
      "--- Training --- [threshold, AUC] =  [np.float64(0.661), np.float64(0.948)]\n",
      "--- Iteration 160: Training loss --- [Data, Label, Total] = [435.549645.3, 286.587179.3, 2464.335405.3]\n",
      "!!! pred_type filter\n"
     ]
    },
    {
     "name": "stderr",
     "output_type": "stream",
     "text": [
      " 64%|█████████████████████████████████████████████████████████████████████████████▎                                          | 161/250 [00:11<00:06, 13.94it/s]"
     ]
    },
    {
     "name": "stdout",
     "output_type": "stream",
     "text": [
      "--- Validation --- [threshold, AUC, Accuracy, F score] =  [np.float64(0.661), np.float64(0.948), np.float64(0.951), np.float64(0.959)]\n",
      "--- Training --- [threshold, AUC] =  [np.float64(0.667), np.float64(0.948)]\n",
      "--- Iteration 170: Training loss --- [Data, Label, Total] = [417.518442.3, 286.758129.3, 2374.350338.3]\n",
      "!!! pred_type filter\n"
     ]
    },
    {
     "name": "stderr",
     "output_type": "stream",
     "text": [
      " 68%|██████████████████████████████████████████████████████████████████████████████████                                      | 171/250 [00:12<00:05, 14.82it/s]"
     ]
    },
    {
     "name": "stdout",
     "output_type": "stream",
     "text": [
      "--- Validation --- [threshold, AUC, Accuracy, F score] =  [np.float64(0.667), np.float64(0.948), np.float64(0.951), np.float64(0.959)]\n",
      "--- Training --- [threshold, AUC] =  [np.float64(0.671), np.float64(0.948)]\n",
      "--- Iteration 180: Training loss --- [Data, Label, Total] = [400.013259.3, 287.036050.3, 2287.102346.3]\n",
      "!!! pred_type filter\n"
     ]
    },
    {
     "name": "stderr",
     "output_type": "stream",
     "text": [
      " 72%|██████████████████████████████████████████████████████████████████████████████████████▉                                 | 181/250 [00:13<00:04, 15.46it/s]"
     ]
    },
    {
     "name": "stdout",
     "output_type": "stream",
     "text": [
      "--- Validation --- [threshold, AUC, Accuracy, F score] =  [np.float64(0.671), np.float64(0.948), np.float64(0.951), np.float64(0.959)]\n",
      "--- Training --- [threshold, AUC] =  [np.float64(0.676), np.float64(0.948)]\n",
      "--- Iteration 190: Training loss --- [Data, Label, Total] = [384.594339.3, 287.264420.3, 2210.236114.3]\n",
      "!!! pred_type filter\n"
     ]
    },
    {
     "name": "stderr",
     "output_type": "stream",
     "text": [
      " 80%|████████████████████████████████████████████████████████████████████████████████████████████████                        | 200/250 [00:14<00:02, 18.03it/s]"
     ]
    },
    {
     "name": "stdout",
     "output_type": "stream",
     "text": [
      "--- Validation --- [threshold, AUC, Accuracy, F score] =  [np.float64(0.676), np.float64(0.948), np.float64(0.951), np.float64(0.959)]\n",
      "--- Training --- [threshold, AUC] =  [np.float64(0.778), np.float64(0.949)]\n",
      "--- Iteration 200: Training loss --- [Data, Label, Total] = [371.500682.3, 286.830122.3, 2144.333534.3]\n",
      "!!! pred_type filter\n"
     ]
    },
    {
     "name": "stderr",
     "output_type": "stream",
     "text": [
      " 82%|█████████████████████████████████████████████████████████████████████████████████████████████████▉                      | 204/250 [00:14<00:03, 14.33it/s]"
     ]
    },
    {
     "name": "stdout",
     "output_type": "stream",
     "text": [
      "--- Validation --- [threshold, AUC, Accuracy, F score] =  [np.float64(0.778), np.float64(0.949), np.float64(0.951), np.float64(0.959)]\n",
      "--- Training --- [threshold, AUC] =  [np.float64(0.777), np.float64(0.949)]\n",
      "--- Iteration 210: Training loss --- [Data, Label, Total] = [359.946650.3, 286.512233.3, 2086.245483.3]\n",
      "!!! pred_type filter\n"
     ]
    },
    {
     "name": "stderr",
     "output_type": "stream",
     "text": [
      " 84%|█████████████████████████████████████████████████████████████████████████████████████████████████████▎                  | 211/250 [00:15<00:02, 13.49it/s]"
     ]
    },
    {
     "name": "stdout",
     "output_type": "stream",
     "text": [
      "--- Validation --- [threshold, AUC, Accuracy, F score] =  [np.float64(0.777), np.float64(0.949), np.float64(0.953), np.float64(0.961)]\n",
      "--- Training --- [threshold, AUC] =  [np.float64(0.775), np.float64(0.949)]\n",
      "--- Iteration 220: Training loss --- [Data, Label, Total] = [349.223370.3, 286.124192.3, 2032.241040.3]\n",
      "!!! pred_type filter\n"
     ]
    },
    {
     "name": "stderr",
     "output_type": "stream",
     "text": [
      " 88%|██████████████████████████████████████████████████████████████████████████████████████████████████████████              | 221/250 [00:16<00:02, 13.43it/s]"
     ]
    },
    {
     "name": "stdout",
     "output_type": "stream",
     "text": [
      "--- Validation --- [threshold, AUC, Accuracy, F score] =  [np.float64(0.775), np.float64(0.949), np.float64(0.953), np.float64(0.961)]\n",
      "--- Training --- [threshold, AUC] =  [np.float64(0.777), np.float64(0.949)]\n",
      "--- Iteration 230: Training loss --- [Data, Label, Total] = [339.001224.3, 285.661686.3, 1980.667806.3]\n",
      "!!! pred_type filter\n"
     ]
    },
    {
     "name": "stderr",
     "output_type": "stream",
     "text": [
      " 92%|██████████████████████████████████████████████████████████████████████████████████████████████████████████████▉         | 231/250 [00:16<00:01, 14.76it/s]"
     ]
    },
    {
     "name": "stdout",
     "output_type": "stream",
     "text": [
      "--- Validation --- [threshold, AUC, Accuracy, F score] =  [np.float64(0.777), np.float64(0.949), np.float64(0.953), np.float64(0.961)]\n",
      "--- Training --- [threshold, AUC] =  [np.float64(0.777), np.float64(0.949)]\n",
      "--- Iteration 240: Training loss --- [Data, Label, Total] = [329.493169.3, 285.326851.3, 1932.792694.3]\n",
      "!!! pred_type filter\n"
     ]
    },
    {
     "name": "stderr",
     "output_type": "stream",
     "text": [
      "100%|████████████████████████████████████████████████████████████████████████████████████████████████████████████████████████| 250/250 [00:17<00:00, 14.49it/s]"
     ]
    },
    {
     "name": "stdout",
     "output_type": "stream",
     "text": [
      "--- Validation --- [threshold, AUC, Accuracy, F score] =  [np.float64(0.777), np.float64(0.949), np.float64(0.953), np.float64(0.961)]\n",
      "!!! pred_type filter\n"
     ]
    },
    {
     "name": "stderr",
     "output_type": "stream",
     "text": [
      "\n"
     ]
    },
    {
     "name": "stdout",
     "output_type": "stream",
     "text": [
      "num of subgraphs induced on k-paths: 500\n",
      "num of subgraphs induced on k-paths: 500\n",
      "X_list: (36, 1000)\n",
      "2\n",
      "(1, 500)\n",
      "(1, 500)\n",
      "label_vec: (1, 1000)\n",
      "num of subgraphs induced on k-paths: 500\n",
      "num of subgraphs induced on k-paths: 500\n",
      "X_list: (36, 1000)\n",
      "2\n",
      "(1, 500)\n",
      "(1, 500)\n",
      "label_vec: (1, 1000)\n",
      "num of subgraphs induced on k-paths: 500\n",
      "num of subgraphs induced on k-paths: 500\n",
      "X_list: (36, 1000)\n",
      "2\n",
      "(1, 500)\n",
      "(1, 500)\n",
      "label_vec: (1, 1000)\n",
      "num of subgraphs induced on k-paths: 500\n",
      "num of subgraphs induced on k-paths: 500\n",
      "X_list: (36, 1000)\n",
      "2\n",
      "(1, 500)\n",
      "(1, 500)\n",
      "label_vec: (1, 1000)\n",
      "7\n",
      "num of subgraphs induced on k-paths: 500\n",
      "num of subgraphs induced on k-paths: 500\n",
      "X_list: (49, 1000)\n",
      "2\n",
      "(1, 500)\n",
      "(1, 500)\n",
      "label_vec: (1, 1000)\n",
      "num of subgraphs induced on k-paths: 500\n",
      "num of subgraphs induced on k-paths: 699\n",
      "X_list: (49, 1199)\n",
      "2\n",
      "(1, 500)\n",
      "(1, 699)\n",
      "label_vec: (1, 1199)\n",
      "initial loading beta [[ 0.20339632 -0.45447555  0.25935172 -0.80494302 -0.77693456 -0.86186778\n",
      "  -0.65780695 -0.25570005  0.86595151  0.66789864  0.7688263  -0.35254214\n",
      "   0.69289316  0.32442783 -0.32134109 -0.8530147  -0.83772188]]\n"
     ]
    },
    {
     "name": "stderr",
     "output_type": "stream",
     "text": [
      "  0%|                                                                                                                                  | 0/250 [00:00<?, ?it/s]"
     ]
    },
    {
     "name": "stdout",
     "output_type": "stream",
     "text": [
      "--- Training --- [threshold, AUC] =  [np.float64(0.586), np.float64(0.955)]\n",
      "--- Iteration 0: Training loss --- [Data, Label, Total] = [4441.867272.3, 402.730570.3, 22612.066929.3]\n",
      "--- Training --- [threshold, AUC] =  [np.float64(0.785), np.float64(0.965)]\n",
      "--- Iteration 10: Training loss --- [Data, Label, Total] = [1926.691264.3, 296.379300.3, 9929.835620.3]\n",
      "!!! pred_type filter\n"
     ]
    },
    {
     "name": "stderr",
     "output_type": "stream",
     "text": [
      "  4%|█████▎                                                                                                                   | 11/250 [00:00<00:15, 15.54it/s]"
     ]
    },
    {
     "name": "stdout",
     "output_type": "stream",
     "text": [
      "--- Validation --- [threshold, AUC, Accuracy, F score] =  [np.float64(0.785), np.float64(0.965), np.float64(0.914), np.float64(0.923)]\n",
      "--- Training --- [threshold, AUC] =  [np.float64(0.603), np.float64(0.971)]\n",
      "--- Iteration 20: Training loss --- [Data, Label, Total] = [1452.431368.3, 281.147151.3, 7543.303993.3]\n",
      "!!! pred_type filter\n"
     ]
    },
    {
     "name": "stderr",
     "output_type": "stream",
     "text": [
      "  8%|██████████▏                                                                                                              | 21/250 [00:01<00:14, 15.36it/s]"
     ]
    },
    {
     "name": "stdout",
     "output_type": "stream",
     "text": [
      "--- Validation --- [threshold, AUC, Accuracy, F score] =  [np.float64(0.603), np.float64(0.971), np.float64(0.941), np.float64(0.951)]\n",
      "--- Training --- [threshold, AUC] =  [np.float64(0.665), np.float64(0.974)]\n",
      "--- Iteration 30: Training loss --- [Data, Label, Total] = [1239.770424.3, 273.375895.3, 6472.228014.3]\n",
      "!!! pred_type filter\n"
     ]
    },
    {
     "name": "stderr",
     "output_type": "stream",
     "text": [
      " 12%|███████████████                                                                                                          | 31/250 [00:02<00:14, 15.33it/s]"
     ]
    },
    {
     "name": "stdout",
     "output_type": "stream",
     "text": [
      "--- Validation --- [threshold, AUC, Accuracy, F score] =  [np.float64(0.665), np.float64(0.974), np.float64(0.955), np.float64(0.962)]\n",
      "--- Training --- [threshold, AUC] =  [np.float64(0.682), np.float64(0.976)]\n",
      "--- Iteration 40: Training loss --- [Data, Label, Total] = [1081.979368.3, 265.975724.3, 5675.872566.3]\n",
      "!!! pred_type filter\n"
     ]
    },
    {
     "name": "stderr",
     "output_type": "stream",
     "text": [
      " 16%|███████████████████▊                                                                                                     | 41/250 [00:02<00:13, 15.63it/s]"
     ]
    },
    {
     "name": "stdout",
     "output_type": "stream",
     "text": [
      "--- Validation --- [threshold, AUC, Accuracy, F score] =  [np.float64(0.682), np.float64(0.976), np.float64(0.958), np.float64(0.965)]\n",
      "--- Training --- [threshold, AUC] =  [np.float64(0.774), np.float64(0.977)]\n",
      "--- Iteration 50: Training loss --- [Data, Label, Total] = [964.562093.3, 263.101080.3, 5085.911547.3]\n",
      "!!! pred_type filter\n"
     ]
    },
    {
     "name": "stderr",
     "output_type": "stream",
     "text": [
      " 20%|████████████████████████▋                                                                                                | 51/250 [00:03<00:12, 15.95it/s]"
     ]
    },
    {
     "name": "stdout",
     "output_type": "stream",
     "text": [
      "--- Validation --- [threshold, AUC, Accuracy, F score] =  [np.float64(0.774), np.float64(0.977), np.float64(0.957), np.float64(0.962)]\n",
      "--- Training --- [threshold, AUC] =  [np.float64(0.694), np.float64(0.978)]\n",
      "--- Iteration 60: Training loss --- [Data, Label, Total] = [899.834601.3, 262.801250.3, 4761.974258.3]\n",
      "!!! pred_type filter\n"
     ]
    },
    {
     "name": "stderr",
     "output_type": "stream",
     "text": [
      " 24%|█████████████████████████████▌                                                                                           | 61/250 [00:03<00:11, 16.26it/s]"
     ]
    },
    {
     "name": "stdout",
     "output_type": "stream",
     "text": [
      "--- Validation --- [threshold, AUC, Accuracy, F score] =  [np.float64(0.694), np.float64(0.978), np.float64(0.967), np.float64(0.973)]\n",
      "--- Training --- [threshold, AUC] =  [np.float64(0.703), np.float64(0.978)]\n",
      "--- Iteration 70: Training loss --- [Data, Label, Total] = [861.287280.3, 262.991954.3, 4569.428356.3]\n",
      "!!! pred_type filter\n"
     ]
    },
    {
     "name": "stderr",
     "output_type": "stream",
     "text": [
      " 28%|██████████████████████████████████▎                                                                                      | 71/250 [00:04<00:11, 16.15it/s]"
     ]
    },
    {
     "name": "stdout",
     "output_type": "stream",
     "text": [
      "--- Validation --- [threshold, AUC, Accuracy, F score] =  [np.float64(0.703), np.float64(0.978), np.float64(0.967), np.float64(0.973)]\n",
      "--- Training --- [threshold, AUC] =  [np.float64(0.732), np.float64(0.978)]\n",
      "--- Iteration 80: Training loss --- [Data, Label, Total] = [834.442233.3, 262.735584.3, 4434.946749.3]\n",
      "!!! pred_type filter\n"
     ]
    },
    {
     "name": "stderr",
     "output_type": "stream",
     "text": [
      " 32%|███████████████████████████████████████▏                                                                                 | 81/250 [00:05<00:10, 16.60it/s]"
     ]
    },
    {
     "name": "stdout",
     "output_type": "stream",
     "text": [
      "--- Validation --- [threshold, AUC, Accuracy, F score] =  [np.float64(0.732), np.float64(0.978), np.float64(0.967), np.float64(0.972)]\n",
      "--- Training --- [threshold, AUC] =  [np.float64(0.738), np.float64(0.978)]\n",
      "--- Iteration 90: Training loss --- [Data, Label, Total] = [815.173621.3, 261.767161.3, 4337.635264.3]\n",
      "!!! pred_type filter\n"
     ]
    },
    {
     "name": "stderr",
     "output_type": "stream",
     "text": [
      " 36%|████████████████████████████████████████████                                                                             | 91/250 [00:06<00:13, 11.69it/s]"
     ]
    },
    {
     "name": "stdout",
     "output_type": "stream",
     "text": [
      "--- Validation --- [threshold, AUC, Accuracy, F score] =  [np.float64(0.738), np.float64(0.978), np.float64(0.967), np.float64(0.972)]\n",
      "--- Training --- [threshold, AUC] =  [np.float64(0.745), np.float64(0.978)]\n",
      "--- Iteration 100: Training loss --- [Data, Label, Total] = [800.944852.3, 260.001316.3, 4264.725578.3]\n",
      "!!! pred_type filter\n"
     ]
    },
    {
     "name": "stderr",
     "output_type": "stream",
     "text": [
      " 40%|████████████████████████████████████████████████▍                                                                       | 101/250 [00:07<00:12, 12.37it/s]"
     ]
    },
    {
     "name": "stdout",
     "output_type": "stream",
     "text": [
      "--- Validation --- [threshold, AUC, Accuracy, F score] =  [np.float64(0.745), np.float64(0.978), np.float64(0.967), np.float64(0.972)]\n",
      "--- Training --- [threshold, AUC] =  [np.float64(0.748), np.float64(0.978)]\n",
      "--- Iteration 110: Training loss --- [Data, Label, Total] = [789.433937.3, 258.272749.3, 4205.442432.3]\n",
      "!!! pred_type filter\n"
     ]
    },
    {
     "name": "stderr",
     "output_type": "stream",
     "text": [
      " 44%|█████████████████████████████████████████████████████▎                                                                  | 111/250 [00:07<00:10, 13.07it/s]"
     ]
    },
    {
     "name": "stdout",
     "output_type": "stream",
     "text": [
      "--- Validation --- [threshold, AUC, Accuracy, F score] =  [np.float64(0.748), np.float64(0.978), np.float64(0.968), np.float64(0.973)]\n",
      "--- Training --- [threshold, AUC] =  [np.float64(0.751), np.float64(0.978)]\n",
      "--- Iteration 120: Training loss --- [Data, Label, Total] = [778.863120.3, 256.311452.3, 4150.627052.3]\n",
      "!!! pred_type filter\n"
     ]
    },
    {
     "name": "stderr",
     "output_type": "stream",
     "text": [
      " 48%|██████████████████████████████████████████████████████████                                                              | 121/250 [00:08<00:09, 14.30it/s]"
     ]
    },
    {
     "name": "stdout",
     "output_type": "stream",
     "text": [
      "--- Validation --- [threshold, AUC, Accuracy, F score] =  [np.float64(0.751), np.float64(0.978), np.float64(0.968), np.float64(0.973)]\n",
      "--- Training --- [threshold, AUC] =  [np.float64(0.761), np.float64(0.978)]\n",
      "--- Iteration 130: Training loss --- [Data, Label, Total] = [768.257164.3, 254.324759.3, 4095.610580.3]\n",
      "!!! pred_type filter\n"
     ]
    },
    {
     "name": "stderr",
     "output_type": "stream",
     "text": [
      " 52%|██████████████████████████████████████████████████████████████▉                                                         | 131/250 [00:08<00:07, 15.34it/s]"
     ]
    },
    {
     "name": "stdout",
     "output_type": "stream",
     "text": [
      "--- Validation --- [threshold, AUC, Accuracy, F score] =  [np.float64(0.761), np.float64(0.978), np.float64(0.972), np.float64(0.976)]\n",
      "--- Training --- [threshold, AUC] =  [np.float64(0.763), np.float64(0.978)]\n",
      "--- Iteration 140: Training loss --- [Data, Label, Total] = [757.390425.3, 252.623047.3, 4039.575171.3]\n",
      "!!! pred_type filter\n"
     ]
    },
    {
     "name": "stderr",
     "output_type": "stream",
     "text": [
      " 56%|███████████████████████████████████████████████████████████████████▋                                                    | 141/250 [00:09<00:06, 16.18it/s]"
     ]
    },
    {
     "name": "stdout",
     "output_type": "stream",
     "text": [
      "--- Validation --- [threshold, AUC, Accuracy, F score] =  [np.float64(0.763), np.float64(0.978), np.float64(0.973), np.float64(0.977)]\n",
      "--- Training --- [threshold, AUC] =  [np.float64(0.76), np.float64(0.978)]\n",
      "--- Iteration 150: Training loss --- [Data, Label, Total] = [746.501111.3, 251.033780.3, 3983.539336.3]\n",
      "!!! pred_type filter\n"
     ]
    },
    {
     "name": "stderr",
     "output_type": "stream",
     "text": [
      " 60%|████████████████████████████████████████████████████████████████████████▍                                               | 151/250 [00:10<00:07, 13.62it/s]"
     ]
    },
    {
     "name": "stdout",
     "output_type": "stream",
     "text": [
      "--- Validation --- [threshold, AUC, Accuracy, F score] =  [np.float64(0.76), np.float64(0.978), np.float64(0.975), np.float64(0.979)]\n",
      "--- Training --- [threshold, AUC] =  [np.float64(0.763), np.float64(0.978)]\n",
      "--- Iteration 160: Training loss --- [Data, Label, Total] = [736.114668.3, 248.989678.3, 3929.563019.3]\n",
      "!!! pred_type filter\n"
     ]
    },
    {
     "name": "stderr",
     "output_type": "stream",
     "text": [
      " 64%|█████████████████████████████████████████████████████████████████████████████▎                                          | 161/250 [00:10<00:06, 14.79it/s]"
     ]
    },
    {
     "name": "stdout",
     "output_type": "stream",
     "text": [
      "--- Validation --- [threshold, AUC, Accuracy, F score] =  [np.float64(0.763), np.float64(0.978), np.float64(0.975), np.float64(0.979)]\n",
      "--- Training --- [threshold, AUC] =  [np.float64(0.773), np.float64(0.978)]\n",
      "--- Iteration 170: Training loss --- [Data, Label, Total] = [726.788603.3, 247.444410.3, 3881.387426.3]\n",
      "!!! pred_type filter\n"
     ]
    },
    {
     "name": "stderr",
     "output_type": "stream",
     "text": [
      " 68%|██████████████████████████████████████████████████████████████████████████████████                                      | 171/250 [00:11<00:04, 16.20it/s]"
     ]
    },
    {
     "name": "stdout",
     "output_type": "stream",
     "text": [
      "--- Validation --- [threshold, AUC, Accuracy, F score] =  [np.float64(0.773), np.float64(0.978), np.float64(0.973), np.float64(0.977)]\n",
      "--- Training --- [threshold, AUC] =  [np.float64(0.777), np.float64(0.978)]\n",
      "--- Iteration 180: Training loss --- [Data, Label, Total] = [718.808697.3, 245.361486.3, 3839.404971.3]\n",
      "!!! pred_type filter\n"
     ]
    },
    {
     "name": "stderr",
     "output_type": "stream",
     "text": [
      " 72%|██████████████████████████████████████████████████████████████████████████████████████▉                                 | 181/250 [00:12<00:04, 16.84it/s]"
     ]
    },
    {
     "name": "stdout",
     "output_type": "stream",
     "text": [
      "--- Validation --- [threshold, AUC, Accuracy, F score] =  [np.float64(0.777), np.float64(0.978), np.float64(0.973), np.float64(0.977)]\n",
      "--- Training --- [threshold, AUC] =  [np.float64(0.778), np.float64(0.978)]\n",
      "--- Iteration 190: Training loss --- [Data, Label, Total] = [712.200579.3, 244.238803.3, 3805.241695.3]\n",
      "!!! pred_type filter\n"
     ]
    },
    {
     "name": "stderr",
     "output_type": "stream",
     "text": [
      " 76%|███████████████████████████████████████████████████████████████████████████████████████████▋                            | 191/250 [00:12<00:03, 17.38it/s]"
     ]
    },
    {
     "name": "stdout",
     "output_type": "stream",
     "text": [
      "--- Validation --- [threshold, AUC, Accuracy, F score] =  [np.float64(0.778), np.float64(0.978), np.float64(0.973), np.float64(0.977)]\n",
      "--- Training --- [threshold, AUC] =  [np.float64(0.783), np.float64(0.978)]\n",
      "--- Iteration 200: Training loss --- [Data, Label, Total] = [706.888751.3, 242.077373.3, 3776.521126.3]\n",
      "!!! pred_type filter\n"
     ]
    },
    {
     "name": "stderr",
     "output_type": "stream",
     "text": [
      " 80%|████████████████████████████████████████████████████████████████████████████████████████████████▍                       | 201/250 [00:13<00:02, 17.62it/s]"
     ]
    },
    {
     "name": "stdout",
     "output_type": "stream",
     "text": [
      "--- Validation --- [threshold, AUC, Accuracy, F score] =  [np.float64(0.783), np.float64(0.978), np.float64(0.973), np.float64(0.977)]\n",
      "--- Training --- [threshold, AUC] =  [np.float64(0.793), np.float64(0.979)]\n",
      "--- Iteration 210: Training loss --- [Data, Label, Total] = [702.490889.3, 240.471631.3, 3752.926077.3]\n",
      "!!! pred_type filter\n"
     ]
    },
    {
     "name": "stderr",
     "output_type": "stream",
     "text": [
      " 84%|█████████████████████████████████████████████████████████████████████████████████████████████████████▎                  | 211/250 [00:13<00:02, 17.80it/s]"
     ]
    },
    {
     "name": "stdout",
     "output_type": "stream",
     "text": [
      "--- Validation --- [threshold, AUC, Accuracy, F score] =  [np.float64(0.793), np.float64(0.979), np.float64(0.977), np.float64(0.98)]\n",
      "--- Training --- [threshold, AUC] =  [np.float64(0.795), np.float64(0.979)]\n",
      "--- Iteration 220: Training loss --- [Data, Label, Total] = [698.526479.3, 239.251779.3, 3731.884171.3]\n",
      "!!! pred_type filter\n"
     ]
    },
    {
     "name": "stderr",
     "output_type": "stream",
     "text": [
      " 88%|██████████████████████████████████████████████████████████████████████████████████████████████████████████              | 221/250 [00:14<00:01, 18.15it/s]"
     ]
    },
    {
     "name": "stdout",
     "output_type": "stream",
     "text": [
      "--- Validation --- [threshold, AUC, Accuracy, F score] =  [np.float64(0.795), np.float64(0.979), np.float64(0.977), np.float64(0.98)]\n",
      "--- Training --- [threshold, AUC] =  [np.float64(0.791), np.float64(0.979)]\n",
      "--- Iteration 230: Training loss --- [Data, Label, Total] = [694.676974.3, 237.575527.3, 3710.960399.3]\n",
      "!!! pred_type filter\n"
     ]
    },
    {
     "name": "stderr",
     "output_type": "stream",
     "text": [
      " 94%|████████████████████████████████████████████████████████████████████████████████████████████████████████████████▊       | 235/250 [00:15<00:00, 15.80it/s]"
     ]
    },
    {
     "name": "stdout",
     "output_type": "stream",
     "text": [
      "--- Validation --- [threshold, AUC, Accuracy, F score] =  [np.float64(0.791), np.float64(0.979), np.float64(0.978), np.float64(0.982)]\n"
     ]
    },
    {
     "name": "stderr",
     "output_type": "stream",
     "text": [
      " 96%|██████████████████████████████████████████████████████████████████████████████████████████████████████████████████▋     | 239/250 [00:15<00:00, 17.55it/s]"
     ]
    },
    {
     "name": "stdout",
     "output_type": "stream",
     "text": [
      "--- Training --- [threshold, AUC] =  [np.float64(0.802), np.float64(0.979)]\n",
      "--- Iteration 240: Training loss --- [Data, Label, Total] = [690.667069.3, 235.706868.3, 3689.042212.3]\n",
      "!!! pred_type filter\n"
     ]
    },
    {
     "name": "stderr",
     "output_type": "stream",
     "text": [
      "100%|████████████████████████████████████████████████████████████████████████████████████████████████████████████████████████| 250/250 [00:16<00:00, 15.47it/s]"
     ]
    },
    {
     "name": "stdout",
     "output_type": "stream",
     "text": [
      "--- Validation --- [threshold, AUC, Accuracy, F score] =  [np.float64(0.802), np.float64(0.979), np.float64(0.977), np.float64(0.98)]\n",
      "!!! pred_type filter\n"
     ]
    },
    {
     "name": "stderr",
     "output_type": "stream",
     "text": [
      "\n"
     ]
    },
    {
     "name": "stdout",
     "output_type": "stream",
     "text": [
      "num of subgraphs induced on k-paths: 500\n",
      "num of subgraphs induced on k-paths: 500\n",
      "X_list: (49, 1000)\n",
      "2\n",
      "(1, 500)\n",
      "(1, 500)\n",
      "label_vec: (1, 1000)\n",
      "num of subgraphs induced on k-paths: 500\n",
      "num of subgraphs induced on k-paths: 500\n",
      "X_list: (49, 1000)\n",
      "2\n",
      "(1, 500)\n",
      "(1, 500)\n",
      "label_vec: (1, 1000)\n",
      "num of subgraphs induced on k-paths: 500\n",
      "num of subgraphs induced on k-paths: 500\n",
      "X_list: (49, 1000)\n",
      "2\n",
      "(1, 500)\n",
      "(1, 500)\n",
      "label_vec: (1, 1000)\n",
      "num of subgraphs induced on k-paths: 500\n",
      "num of subgraphs induced on k-paths: 500\n",
      "X_list: (49, 1000)\n",
      "2\n",
      "(1, 500)\n",
      "(1, 500)\n",
      "label_vec: (1, 1000)\n",
      "8\n",
      "num of subgraphs induced on k-paths: 500\n",
      "num of subgraphs induced on k-paths: 500\n",
      "X_list: (64, 1000)\n",
      "2\n",
      "(1, 500)\n",
      "(1, 500)\n",
      "label_vec: (1, 1000)\n",
      "num of subgraphs induced on k-paths: 500\n",
      "num of subgraphs induced on k-paths: 767\n",
      "X_list: (64, 1267)\n",
      "2\n",
      "(1, 500)\n",
      "(1, 767)\n",
      "label_vec: (1, 1267)\n",
      "initial loading beta [[-0.75601637  0.78822269 -0.86930512 -0.38405039  0.21574133 -0.92079056\n",
      "   0.93955242 -0.93590687  0.55306227  0.84517247 -0.65433059  0.15923034\n",
      "   0.73858537 -0.28068581  0.76528451 -0.68236566 -0.66682954]]\n"
     ]
    },
    {
     "name": "stderr",
     "output_type": "stream",
     "text": [
      "  0%|                                                                                                                                  | 0/250 [00:00<?, ?it/s]"
     ]
    },
    {
     "name": "stdout",
     "output_type": "stream",
     "text": [
      "--- Training --- [threshold, AUC] =  [np.float64(0.688), np.float64(0.967)]\n",
      "--- Iteration 0: Training loss --- [Data, Label, Total] = [6708.710082.3, 381.607025.3, 33925.157435.3]\n",
      "--- Training --- [threshold, AUC] =  [np.float64(0.757), np.float64(0.986)]\n",
      "--- Iteration 10: Training loss --- [Data, Label, Total] = [2936.062069.3, 215.265161.3, 14895.575506.3]\n",
      "!!! pred_type filter\n"
     ]
    },
    {
     "name": "stderr",
     "output_type": "stream",
     "text": [
      "  7%|████████▋                                                                                                                | 18/250 [00:01<00:13, 16.98it/s]"
     ]
    },
    {
     "name": "stdout",
     "output_type": "stream",
     "text": [
      "--- Validation --- [threshold, AUC, Accuracy, F score] =  [np.float64(0.757), np.float64(0.986), np.float64(0.965), np.float64(0.971)]\n",
      "--- Training --- [threshold, AUC] =  [np.float64(0.752), np.float64(0.987)]\n",
      "--- Iteration 20: Training loss --- [Data, Label, Total] = [2391.657842.3, 213.001982.3, 12171.291193.3]\n",
      "!!! pred_type filter\n"
     ]
    },
    {
     "name": "stderr",
     "output_type": "stream",
     "text": [
      "  9%|███████████▏                                                                                                             | 23/250 [00:02<00:21, 10.62it/s]"
     ]
    },
    {
     "name": "stdout",
     "output_type": "stream",
     "text": [
      "--- Validation --- [threshold, AUC, Accuracy, F score] =  [np.float64(0.752), np.float64(0.987), np.float64(0.972), np.float64(0.977)]\n",
      "--- Training --- [threshold, AUC] =  [np.float64(0.768), np.float64(0.988)]\n",
      "--- Iteration 30: Training loss --- [Data, Label, Total] = [2157.266980.3, 210.979815.3, 10997.314717.3]\n",
      "!!! pred_type filter\n"
     ]
    },
    {
     "name": "stderr",
     "output_type": "stream",
     "text": [
      " 12%|███████████████                                                                                                          | 31/250 [00:02<00:20, 10.88it/s]"
     ]
    },
    {
     "name": "stdout",
     "output_type": "stream",
     "text": [
      "--- Validation --- [threshold, AUC, Accuracy, F score] =  [np.float64(0.768), np.float64(0.988), np.float64(0.975), np.float64(0.979)]\n",
      "--- Training --- [threshold, AUC] =  [np.float64(0.78), np.float64(0.988)]\n",
      "--- Iteration 40: Training loss --- [Data, Label, Total] = [1993.142348.3, 210.629387.3, 10176.341129.3]\n",
      "!!! pred_type filter\n"
     ]
    },
    {
     "name": "stderr",
     "output_type": "stream",
     "text": [
      " 16%|███████████████████▊                                                                                                     | 41/250 [00:03<00:17, 12.13it/s]"
     ]
    },
    {
     "name": "stdout",
     "output_type": "stream",
     "text": [
      "--- Validation --- [threshold, AUC, Accuracy, F score] =  [np.float64(0.78), np.float64(0.988), np.float64(0.973), np.float64(0.978)]\n",
      "--- Training --- [threshold, AUC] =  [np.float64(0.784), np.float64(0.989)]\n",
      "--- Iteration 50: Training loss --- [Data, Label, Total] = [1897.233764.3, 210.320997.3, 9696.489819.3]\n",
      "!!! pred_type filter\n"
     ]
    },
    {
     "name": "stderr",
     "output_type": "stream",
     "text": [
      " 20%|████████████████████████▋                                                                                                | 51/250 [00:04<00:20,  9.48it/s]"
     ]
    },
    {
     "name": "stdout",
     "output_type": "stream",
     "text": [
      "--- Validation --- [threshold, AUC, Accuracy, F score] =  [np.float64(0.784), np.float64(0.989), np.float64(0.976), np.float64(0.98)]\n",
      "--- Training --- [threshold, AUC] =  [np.float64(0.793), np.float64(0.989)]\n",
      "--- Iteration 60: Training loss --- [Data, Label, Total] = [1831.815668.3, 210.680503.3, 9369.758845.3]\n",
      "!!! pred_type filter\n"
     ]
    },
    {
     "name": "stderr",
     "output_type": "stream",
     "text": [
      " 24%|█████████████████████████████▌                                                                                           | 61/250 [00:05<00:17, 10.70it/s]"
     ]
    },
    {
     "name": "stdout",
     "output_type": "stream",
     "text": [
      "--- Validation --- [threshold, AUC, Accuracy, F score] =  [np.float64(0.793), np.float64(0.989), np.float64(0.978), np.float64(0.982)]\n",
      "--- Training --- [threshold, AUC] =  [np.float64(0.798), np.float64(0.989)]\n",
      "--- Iteration 70: Training loss --- [Data, Label, Total] = [1777.356970.3, 212.735584.3, 9099.520435.3]\n",
      "!!! pred_type filter\n"
     ]
    },
    {
     "name": "stderr",
     "output_type": "stream",
     "text": [
      " 31%|█████████████████████████████████████▊                                                                                   | 78/250 [00:06<00:13, 12.63it/s]"
     ]
    },
    {
     "name": "stdout",
     "output_type": "stream",
     "text": [
      "--- Validation --- [threshold, AUC, Accuracy, F score] =  [np.float64(0.798), np.float64(0.989), np.float64(0.979), np.float64(0.982)]\n",
      "--- Training --- [threshold, AUC] =  [np.float64(0.798), np.float64(0.989)]\n",
      "--- Iteration 80: Training loss --- [Data, Label, Total] = [1729.195035.3, 215.298869.3, 8861.274044.3]\n",
      "!!! pred_type filter\n"
     ]
    },
    {
     "name": "stderr",
     "output_type": "stream",
     "text": [
      " 32%|███████████████████████████████████████▏                                                                                 | 81/250 [00:07<00:17,  9.90it/s]"
     ]
    },
    {
     "name": "stdout",
     "output_type": "stream",
     "text": [
      "--- Validation --- [threshold, AUC, Accuracy, F score] =  [np.float64(0.798), np.float64(0.989), np.float64(0.979), np.float64(0.982)]\n",
      "--- Training --- [threshold, AUC] =  [np.float64(0.804), np.float64(0.989)]\n",
      "--- Iteration 90: Training loss --- [Data, Label, Total] = [1686.622808.3, 218.775193.3, 8651.889231.3]\n",
      "!!! pred_type filter\n"
     ]
    },
    {
     "name": "stderr",
     "output_type": "stream",
     "text": [
      " 36%|████████████████████████████████████████████                                                                             | 91/250 [00:08<00:17,  8.99it/s]"
     ]
    },
    {
     "name": "stdout",
     "output_type": "stream",
     "text": [
      "--- Validation --- [threshold, AUC, Accuracy, F score] =  [np.float64(0.804), np.float64(0.989), np.float64(0.978), np.float64(0.982)]\n",
      "--- Training --- [threshold, AUC] =  [np.float64(0.804), np.float64(0.989)]\n",
      "--- Iteration 100: Training loss --- [Data, Label, Total] = [1652.260207.3, 221.933172.3, 8483.234210.3]\n",
      "!!! pred_type filter\n"
     ]
    },
    {
     "name": "stderr",
     "output_type": "stream",
     "text": [
      " 40%|████████████████████████████████████████████████▍                                                                       | 101/250 [00:09<00:15,  9.63it/s]"
     ]
    },
    {
     "name": "stdout",
     "output_type": "stream",
     "text": [
      "--- Validation --- [threshold, AUC, Accuracy, F score] =  [np.float64(0.804), np.float64(0.989), np.float64(0.978), np.float64(0.982)]\n",
      "--- Training --- [threshold, AUC] =  [np.float64(0.8), np.float64(0.989)]\n",
      "--- Iteration 110: Training loss --- [Data, Label, Total] = [1627.052103.3, 224.818007.3, 8360.078522.3]\n",
      "!!! pred_type filter\n"
     ]
    },
    {
     "name": "stderr",
     "output_type": "stream",
     "text": [
      " 44%|█████████████████████████████████████████████████████▎                                                                  | 111/250 [00:10<00:13, 10.36it/s]"
     ]
    },
    {
     "name": "stdout",
     "output_type": "stream",
     "text": [
      "--- Validation --- [threshold, AUC, Accuracy, F score] =  [np.float64(0.8), np.float64(0.989), np.float64(0.978), np.float64(0.982)]\n",
      "--- Training --- [threshold, AUC] =  [np.float64(0.8), np.float64(0.989)]\n",
      "--- Iteration 120: Training loss --- [Data, Label, Total] = [1609.891386.3, 226.760870.3, 8276.217802.3]\n",
      "!!! pred_type filter\n"
     ]
    },
    {
     "name": "stderr",
     "output_type": "stream",
     "text": [
      " 52%|█████████████████████████████████████████████████████████████▉                                                          | 129/250 [00:11<00:09, 12.74it/s]"
     ]
    },
    {
     "name": "stdout",
     "output_type": "stream",
     "text": [
      "--- Validation --- [threshold, AUC, Accuracy, F score] =  [np.float64(0.8), np.float64(0.989), np.float64(0.977), np.float64(0.981)]\n",
      "--- Training --- [threshold, AUC] =  [np.float64(0.807), np.float64(0.989)]\n",
      "--- Iteration 130: Training loss --- [Data, Label, Total] = [1598.429264.3, 227.928661.3, 8220.074984.3]\n",
      "!!! pred_type filter\n"
     ]
    },
    {
     "name": "stderr",
     "output_type": "stream",
     "text": [
      " 53%|███████████████████████████████████████████████████████████████▊                                                        | 133/250 [00:13<00:13,  8.71it/s]"
     ]
    },
    {
     "name": "stdout",
     "output_type": "stream",
     "text": [
      "--- Validation --- [threshold, AUC, Accuracy, F score] =  [np.float64(0.807), np.float64(0.989), np.float64(0.977), np.float64(0.981)]\n",
      "--- Training --- [threshold, AUC] =  [np.float64(0.804), np.float64(0.989)]\n",
      "--- Iteration 140: Training loss --- [Data, Label, Total] = [1590.132803.3, 228.203023.3, 8178.867037.3]\n",
      "!!! pred_type filter\n"
     ]
    },
    {
     "name": "stderr",
     "output_type": "stream",
     "text": [
      " 56%|███████████████████████████████████████████████████████████████████▋                                                    | 141/250 [00:14<00:13,  8.01it/s]"
     ]
    },
    {
     "name": "stdout",
     "output_type": "stream",
     "text": [
      "--- Validation --- [threshold, AUC, Accuracy, F score] =  [np.float64(0.804), np.float64(0.989), np.float64(0.977), np.float64(0.981)]\n",
      "--- Training --- [threshold, AUC] =  [np.float64(0.801), np.float64(0.989)]\n",
      "--- Iteration 150: Training loss --- [Data, Label, Total] = [1583.243925.3, 228.333856.3, 8144.553483.3]\n",
      "!!! pred_type filter\n"
     ]
    },
    {
     "name": "stderr",
     "output_type": "stream",
     "text": [
      " 60%|████████████████████████████████████████████████████████████████████████▍                                               | 151/250 [00:14<00:10,  9.70it/s]"
     ]
    },
    {
     "name": "stdout",
     "output_type": "stream",
     "text": [
      "--- Validation --- [threshold, AUC, Accuracy, F score] =  [np.float64(0.801), np.float64(0.989), np.float64(0.977), np.float64(0.981)]\n",
      "--- Training --- [threshold, AUC] =  [np.float64(0.785), np.float64(0.989)]\n",
      "--- Iteration 160: Training loss --- [Data, Label, Total] = [1576.697492.3, 228.950704.3, 8112.438167.3]\n",
      "!!! pred_type filter\n"
     ]
    },
    {
     "name": "stderr",
     "output_type": "stream",
     "text": [
      " 64%|█████████████████████████████████████████████████████████████████████████████▎                                          | 161/250 [00:15<00:07, 11.18it/s]"
     ]
    },
    {
     "name": "stdout",
     "output_type": "stream",
     "text": [
      "--- Validation --- [threshold, AUC, Accuracy, F score] =  [np.float64(0.785), np.float64(0.989), np.float64(0.979), np.float64(0.983)]\n",
      "--- Training --- [threshold, AUC] =  [np.float64(0.787), np.float64(0.989)]\n",
      "--- Iteration 170: Training loss --- [Data, Label, Total] = [1569.887583.3, 228.873660.3, 8078.311575.3]\n",
      "!!! pred_type filter\n"
     ]
    },
    {
     "name": "stderr",
     "output_type": "stream",
     "text": [
      " 68%|██████████████████████████████████████████████████████████████████████████████████                                      | 171/250 [00:16<00:06, 12.75it/s]"
     ]
    },
    {
     "name": "stdout",
     "output_type": "stream",
     "text": [
      "--- Validation --- [threshold, AUC, Accuracy, F score] =  [np.float64(0.787), np.float64(0.989), np.float64(0.979), np.float64(0.983)]\n",
      "--- Training --- [threshold, AUC] =  [np.float64(0.789), np.float64(0.989)]\n",
      "--- Iteration 180: Training loss --- [Data, Label, Total] = [1562.460635.3, 228.736676.3, 8041.039851.3]\n",
      "!!! pred_type filter\n"
     ]
    },
    {
     "name": "stderr",
     "output_type": "stream",
     "text": [
      " 72%|██████████████████████████████████████████████████████████████████████████████████████▉                                 | 181/250 [00:16<00:04, 13.82it/s]"
     ]
    },
    {
     "name": "stdout",
     "output_type": "stream",
     "text": [
      "--- Validation --- [threshold, AUC, Accuracy, F score] =  [np.float64(0.789), np.float64(0.989), np.float64(0.979), np.float64(0.983)]\n",
      "--- Training --- [threshold, AUC] =  [np.float64(0.789), np.float64(0.989)]\n",
      "--- Iteration 190: Training loss --- [Data, Label, Total] = [1554.238130.3, 228.644529.3, 7999.835176.3]\n",
      "!!! pred_type filter\n"
     ]
    },
    {
     "name": "stderr",
     "output_type": "stream",
     "text": [
      " 76%|███████████████████████████████████████████████████████████████████████████████████████████▋                            | 191/250 [00:17<00:03, 15.14it/s]"
     ]
    },
    {
     "name": "stdout",
     "output_type": "stream",
     "text": [
      "--- Validation --- [threshold, AUC, Accuracy, F score] =  [np.float64(0.789), np.float64(0.989), np.float64(0.979), np.float64(0.983)]\n",
      "--- Training --- [threshold, AUC] =  [np.float64(0.788), np.float64(0.989)]\n",
      "--- Iteration 200: Training loss --- [Data, Label, Total] = [1545.219004.3, 228.457907.3, 7954.552926.3]\n",
      "!!! pred_type filter\n"
     ]
    },
    {
     "name": "stderr",
     "output_type": "stream",
     "text": [
      " 80%|████████████████████████████████████████████████████████████████████████████████████████████████▍                       | 201/250 [00:17<00:03, 16.18it/s]"
     ]
    },
    {
     "name": "stdout",
     "output_type": "stream",
     "text": [
      "--- Validation --- [threshold, AUC, Accuracy, F score] =  [np.float64(0.788), np.float64(0.989), np.float64(0.982), np.float64(0.985)]\n",
      "--- Training --- [threshold, AUC] =  [np.float64(0.786), np.float64(0.989)]\n",
      "--- Iteration 210: Training loss --- [Data, Label, Total] = [1535.726300.3, 228.259985.3, 7906.891485.3]\n",
      "!!! pred_type filter\n"
     ]
    },
    {
     "name": "stderr",
     "output_type": "stream",
     "text": [
      " 84%|█████████████████████████████████████████████████████████████████████████████████████████████████████▎                  | 211/250 [00:18<00:02, 17.16it/s]"
     ]
    },
    {
     "name": "stdout",
     "output_type": "stream",
     "text": [
      "--- Validation --- [threshold, AUC, Accuracy, F score] =  [np.float64(0.786), np.float64(0.989), np.float64(0.98), np.float64(0.984)]\n",
      "--- Training --- [threshold, AUC] =  [np.float64(0.79), np.float64(0.989)]\n",
      "--- Iteration 220: Training loss --- [Data, Label, Total] = [1526.216815.3, 227.777482.3, 7858.861558.3]\n",
      "!!! pred_type filter\n"
     ]
    },
    {
     "name": "stderr",
     "output_type": "stream",
     "text": [
      " 88%|██████████████████████████████████████████████████████████████████████████████████████████████████████████              | 221/250 [00:18<00:01, 17.97it/s]"
     ]
    },
    {
     "name": "stdout",
     "output_type": "stream",
     "text": [
      "--- Validation --- [threshold, AUC, Accuracy, F score] =  [np.float64(0.79), np.float64(0.989), np.float64(0.982), np.float64(0.985)]\n",
      "--- Training --- [threshold, AUC] =  [np.float64(0.789), np.float64(0.989)]\n",
      "--- Iteration 230: Training loss --- [Data, Label, Total] = [1516.995230.3, 227.753189.3, 7812.729339.3]\n",
      "!!! pred_type filter\n"
     ]
    },
    {
     "name": "stderr",
     "output_type": "stream",
     "text": [
      " 92%|██████████████████████████████████████████████████████████████████████████████████████████████████████████████▉         | 231/250 [00:19<00:01, 18.45it/s]"
     ]
    },
    {
     "name": "stdout",
     "output_type": "stream",
     "text": [
      "--- Validation --- [threshold, AUC, Accuracy, F score] =  [np.float64(0.789), np.float64(0.989), np.float64(0.982), np.float64(0.985)]\n",
      "--- Training --- [threshold, AUC] =  [np.float64(0.79), np.float64(0.989)]\n",
      "--- Iteration 240: Training loss --- [Data, Label, Total] = [1508.385497.3, 227.823318.3, 7769.750805.3]\n",
      "!!! pred_type filter\n"
     ]
    },
    {
     "name": "stderr",
     "output_type": "stream",
     "text": [
      "100%|████████████████████████████████████████████████████████████████████████████████████████████████████████████████████████| 250/250 [00:19<00:00, 12.67it/s]"
     ]
    },
    {
     "name": "stdout",
     "output_type": "stream",
     "text": [
      "--- Validation --- [threshold, AUC, Accuracy, F score] =  [np.float64(0.79), np.float64(0.989), np.float64(0.982), np.float64(0.985)]\n",
      "!!! pred_type filter\n"
     ]
    },
    {
     "name": "stderr",
     "output_type": "stream",
     "text": [
      "\n"
     ]
    },
    {
     "name": "stdout",
     "output_type": "stream",
     "text": [
      "num of subgraphs induced on k-paths: 500\n",
      "num of subgraphs induced on k-paths: 500\n",
      "X_list: (64, 1000)\n",
      "2\n",
      "(1, 500)\n",
      "(1, 500)\n",
      "label_vec: (1, 1000)\n",
      "num of subgraphs induced on k-paths: 500\n",
      "num of subgraphs induced on k-paths: 500\n",
      "X_list: (64, 1000)\n",
      "2\n",
      "(1, 500)\n",
      "(1, 500)\n",
      "label_vec: (1, 1000)\n",
      "num of subgraphs induced on k-paths: 500\n",
      "num of subgraphs induced on k-paths: 500\n",
      "X_list: (64, 1000)\n",
      "2\n",
      "(1, 500)\n",
      "(1, 500)\n",
      "label_vec: (1, 1000)\n",
      "num of subgraphs induced on k-paths: 500\n",
      "num of subgraphs induced on k-paths: 500\n",
      "X_list: (64, 1000)\n",
      "2\n",
      "(1, 500)\n",
      "(1, 500)\n",
      "label_vec: (1, 1000)\n",
      "9\n",
      "num of subgraphs induced on k-paths: 500\n",
      "num of subgraphs induced on k-paths: 500\n",
      "X_list: (81, 1000)\n",
      "2\n",
      "(1, 500)\n",
      "(1, 500)\n",
      "label_vec: (1, 1000)\n",
      "num of subgraphs induced on k-paths: 500\n",
      "num of subgraphs induced on k-paths: 777\n",
      "X_list: (81, 1277)\n",
      "2\n",
      "(1, 500)\n",
      "(1, 777)\n",
      "label_vec: (1, 1277)\n",
      "initial loading beta [[-0.14103826  0.51331264 -0.35072584  0.20025643 -0.05128026  0.80359356\n",
      "   0.79480246 -0.52503886 -0.93542259  0.83847466  0.427425   -0.55530487\n",
      "   0.37223329  0.51676748  0.3702608  -0.65066962 -0.40373083]]\n"
     ]
    },
    {
     "name": "stderr",
     "output_type": "stream",
     "text": [
      "  0%|                                                                                                                                  | 0/250 [00:00<?, ?it/s]"
     ]
    },
    {
     "name": "stdout",
     "output_type": "stream",
     "text": [
      "--- Training --- [threshold, AUC] =  [np.float64(0.752), np.float64(0.974)]\n",
      "--- Iteration 0: Training loss --- [Data, Label, Total] = [8310.996417.3, 359.088251.3, 41914.070337.3]\n",
      "--- Training --- [threshold, AUC] =  [np.float64(0.726), np.float64(0.987)]\n",
      "--- Iteration 10: Training loss --- [Data, Label, Total] = [3923.292477.3, 224.681589.3, 19841.143973.3]\n",
      "!!! pred_type filter\n"
     ]
    },
    {
     "name": "stderr",
     "output_type": "stream",
     "text": [
      "  4%|█████▎                                                                                                                   | 11/250 [00:00<00:17, 13.64it/s]"
     ]
    },
    {
     "name": "stdout",
     "output_type": "stream",
     "text": [
      "--- Validation --- [threshold, AUC, Accuracy, F score] =  [np.float64(0.726), np.float64(0.987), np.float64(0.959), np.float64(0.967)]\n",
      "--- Training --- [threshold, AUC] =  [np.float64(0.757), np.float64(0.986)]\n",
      "--- Iteration 20: Training loss --- [Data, Label, Total] = [3185.597687.3, 239.712781.3, 16167.701216.3]\n",
      "!!! pred_type filter\n"
     ]
    },
    {
     "name": "stderr",
     "output_type": "stream",
     "text": [
      "  8%|██████████▏                                                                                                              | 21/250 [00:01<00:16, 13.67it/s]"
     ]
    },
    {
     "name": "stdout",
     "output_type": "stream",
     "text": [
      "--- Validation --- [threshold, AUC, Accuracy, F score] =  [np.float64(0.757), np.float64(0.986), np.float64(0.954), np.float64(0.962)]\n",
      "--- Training --- [threshold, AUC] =  [np.float64(0.742), np.float64(0.986)]\n",
      "--- Iteration 30: Training loss --- [Data, Label, Total] = [2837.065274.3, 243.855416.3, 14429.181788.3]\n",
      "!!! pred_type filter\n"
     ]
    },
    {
     "name": "stderr",
     "output_type": "stream",
     "text": [
      " 12%|███████████████                                                                                                          | 31/250 [00:02<00:15, 13.92it/s]"
     ]
    },
    {
     "name": "stdout",
     "output_type": "stream",
     "text": [
      "--- Validation --- [threshold, AUC, Accuracy, F score] =  [np.float64(0.742), np.float64(0.986), np.float64(0.956), np.float64(0.964)]\n",
      "--- Training --- [threshold, AUC] =  [np.float64(0.763), np.float64(0.985)]\n",
      "--- Iteration 40: Training loss --- [Data, Label, Total] = [2686.930441.3, 246.918107.3, 13681.570311.3]\n",
      "!!! pred_type filter\n"
     ]
    },
    {
     "name": "stderr",
     "output_type": "stream",
     "text": [
      " 16%|███████████████████▊                                                                                                     | 41/250 [00:02<00:14, 14.30it/s]"
     ]
    },
    {
     "name": "stdout",
     "output_type": "stream",
     "text": [
      "--- Validation --- [threshold, AUC, Accuracy, F score] =  [np.float64(0.763), np.float64(0.985), np.float64(0.951), np.float64(0.96)]\n",
      "--- Training --- [threshold, AUC] =  [np.float64(0.772), np.float64(0.985)]\n",
      "--- Iteration 50: Training loss --- [Data, Label, Total] = [2594.155225.3, 247.677705.3, 13218.453829.3]\n",
      "!!! pred_type filter\n"
     ]
    },
    {
     "name": "stderr",
     "output_type": "stream",
     "text": [
      " 20%|████████████████████████▋                                                                                                | 51/250 [00:03<00:13, 14.69it/s]"
     ]
    },
    {
     "name": "stdout",
     "output_type": "stream",
     "text": [
      "--- Validation --- [threshold, AUC, Accuracy, F score] =  [np.float64(0.772), np.float64(0.985), np.float64(0.951), np.float64(0.96)]\n",
      "--- Training --- [threshold, AUC] =  [np.float64(0.77), np.float64(0.985)]\n",
      "--- Iteration 60: Training loss --- [Data, Label, Total] = [2532.762002.3, 246.516022.3, 12910.326030.3]\n",
      "!!! pred_type filter\n"
     ]
    },
    {
     "name": "stderr",
     "output_type": "stream",
     "text": [
      " 24%|█████████████████████████████▌                                                                                           | 61/250 [00:04<00:12, 14.84it/s]"
     ]
    },
    {
     "name": "stdout",
     "output_type": "stream",
     "text": [
      "--- Validation --- [threshold, AUC, Accuracy, F score] =  [np.float64(0.77), np.float64(0.985), np.float64(0.952), np.float64(0.961)]\n",
      "--- Training --- [threshold, AUC] =  [np.float64(0.738), np.float64(0.986)]\n",
      "--- Iteration 70: Training loss --- [Data, Label, Total] = [2492.199319.3, 245.181992.3, 12706.178587.3]\n",
      "!!! pred_type filter\n"
     ]
    },
    {
     "name": "stderr",
     "output_type": "stream",
     "text": [
      " 28%|██████████████████████████████████▎                                                                                      | 71/250 [00:04<00:12, 14.82it/s]"
     ]
    },
    {
     "name": "stdout",
     "output_type": "stream",
     "text": [
      "--- Validation --- [threshold, AUC, Accuracy, F score] =  [np.float64(0.738), np.float64(0.986), np.float64(0.956), np.float64(0.964)]\n",
      "--- Training --- [threshold, AUC] =  [np.float64(0.759), np.float64(0.986)]\n",
      "--- Iteration 80: Training loss --- [Data, Label, Total] = [2461.749568.3, 242.478850.3, 12551.226690.3]\n",
      "!!! pred_type filter\n"
     ]
    },
    {
     "name": "stderr",
     "output_type": "stream",
     "text": [
      " 32%|███████████████████████████████████████▏                                                                                 | 81/250 [00:05<00:11, 14.83it/s]"
     ]
    },
    {
     "name": "stdout",
     "output_type": "stream",
     "text": [
      "--- Validation --- [threshold, AUC, Accuracy, F score] =  [np.float64(0.759), np.float64(0.986), np.float64(0.958), np.float64(0.965)]\n",
      "--- Training --- [threshold, AUC] =  [np.float64(0.759), np.float64(0.987)]\n",
      "--- Iteration 90: Training loss --- [Data, Label, Total] = [2435.488078.3, 240.681575.3, 12418.121964.3]\n",
      "!!! pred_type filter\n"
     ]
    },
    {
     "name": "stderr",
     "output_type": "stream",
     "text": [
      " 36%|████████████████████████████████████████████                                                                             | 91/250 [00:06<00:10, 14.87it/s]"
     ]
    },
    {
     "name": "stdout",
     "output_type": "stream",
     "text": [
      "--- Validation --- [threshold, AUC, Accuracy, F score] =  [np.float64(0.759), np.float64(0.987), np.float64(0.958), np.float64(0.966)]\n",
      "--- Training --- [threshold, AUC] =  [np.float64(0.762), np.float64(0.988)]\n",
      "--- Iteration 100: Training loss --- [Data, Label, Total] = [2411.239325.3, 238.992810.3, 12295.189436.3]\n",
      "!!! pred_type filter\n"
     ]
    },
    {
     "name": "stderr",
     "output_type": "stream",
     "text": [
      " 40%|████████████████████████████████████████████████▍                                                                       | 101/250 [00:06<00:09, 15.09it/s]"
     ]
    },
    {
     "name": "stdout",
     "output_type": "stream",
     "text": [
      "--- Validation --- [threshold, AUC, Accuracy, F score] =  [np.float64(0.762), np.float64(0.988), np.float64(0.959), np.float64(0.966)]\n",
      "--- Training --- [threshold, AUC] =  [np.float64(0.76), np.float64(0.988)]\n",
      "--- Iteration 110: Training loss --- [Data, Label, Total] = [2387.620139.3, 238.001972.3, 12176.102664.3]\n",
      "!!! pred_type filter\n"
     ]
    },
    {
     "name": "stderr",
     "output_type": "stream",
     "text": [
      " 44%|█████████████████████████████████████████████████████▎                                                                  | 111/250 [00:07<00:09, 15.14it/s]"
     ]
    },
    {
     "name": "stdout",
     "output_type": "stream",
     "text": [
      "--- Validation --- [threshold, AUC, Accuracy, F score] =  [np.float64(0.76), np.float64(0.988), np.float64(0.96), np.float64(0.967)]\n",
      "--- Training --- [threshold, AUC] =  [np.float64(0.754), np.float64(0.988)]\n",
      "--- Iteration 120: Training loss --- [Data, Label, Total] = [2363.645835.3, 237.507222.3, 12055.736399.3]\n",
      "!!! pred_type filter\n"
     ]
    },
    {
     "name": "stderr",
     "output_type": "stream",
     "text": [
      " 48%|██████████████████████████████████████████████████████████                                                              | 121/250 [00:08<00:08, 15.32it/s]"
     ]
    },
    {
     "name": "stdout",
     "output_type": "stream",
     "text": [
      "--- Validation --- [threshold, AUC, Accuracy, F score] =  [np.float64(0.754), np.float64(0.988), np.float64(0.961), np.float64(0.968)]\n",
      "--- Training --- [threshold, AUC] =  [np.float64(0.745), np.float64(0.989)]\n",
      "--- Iteration 130: Training loss --- [Data, Label, Total] = [2339.530522.3, 237.856902.3, 11935.509512.3]\n",
      "!!! pred_type filter\n"
     ]
    },
    {
     "name": "stderr",
     "output_type": "stream",
     "text": [
      " 52%|██████████████████████████████████████████████████████████████▉                                                         | 131/250 [00:08<00:08, 14.73it/s]"
     ]
    },
    {
     "name": "stdout",
     "output_type": "stream",
     "text": [
      "--- Validation --- [threshold, AUC, Accuracy, F score] =  [np.float64(0.745), np.float64(0.989), np.float64(0.962), np.float64(0.969)]\n",
      "--- Training --- [threshold, AUC] =  [np.float64(0.752), np.float64(0.989)]\n",
      "--- Iteration 140: Training loss --- [Data, Label, Total] = [2315.770037.3, 238.748202.3, 11817.598389.3]\n",
      "!!! pred_type filter\n"
     ]
    },
    {
     "name": "stderr",
     "output_type": "stream",
     "text": [
      " 56%|███████████████████████████████████████████████████████████████████▋                                                    | 141/250 [00:09<00:07, 15.01it/s]"
     ]
    },
    {
     "name": "stdout",
     "output_type": "stream",
     "text": [
      "--- Validation --- [threshold, AUC, Accuracy, F score] =  [np.float64(0.752), np.float64(0.989), np.float64(0.962), np.float64(0.969)]\n",
      "--- Training --- [threshold, AUC] =  [np.float64(0.739), np.float64(0.989)]\n",
      "--- Iteration 150: Training loss --- [Data, Label, Total] = [2293.425839.3, 239.681413.3, 11706.810610.3]\n",
      "!!! pred_type filter\n"
     ]
    },
    {
     "name": "stderr",
     "output_type": "stream",
     "text": [
      " 60%|████████████████████████████████████████████████████████████████████████▍                                               | 151/250 [00:10<00:06, 15.28it/s]"
     ]
    },
    {
     "name": "stdout",
     "output_type": "stream",
     "text": [
      "--- Validation --- [threshold, AUC, Accuracy, F score] =  [np.float64(0.739), np.float64(0.989), np.float64(0.962), np.float64(0.969)]\n",
      "--- Training --- [threshold, AUC] =  [np.float64(0.744), np.float64(0.989)]\n",
      "--- Iteration 160: Training loss --- [Data, Label, Total] = [2273.339175.3, 240.681111.3, 11607.376987.3]\n",
      "!!! pred_type filter\n"
     ]
    },
    {
     "name": "stderr",
     "output_type": "stream",
     "text": [
      " 64%|█████████████████████████████████████████████████████████████████████████████▎                                          | 161/250 [00:10<00:05, 15.41it/s]"
     ]
    },
    {
     "name": "stdout",
     "output_type": "stream",
     "text": [
      "--- Validation --- [threshold, AUC, Accuracy, F score] =  [np.float64(0.744), np.float64(0.989), np.float64(0.962), np.float64(0.969)]\n",
      "--- Training --- [threshold, AUC] =  [np.float64(0.751), np.float64(0.989)]\n",
      "--- Iteration 170: Training loss --- [Data, Label, Total] = [2256.141845.3, 241.544076.3, 11522.253302.3]\n",
      "!!! pred_type filter\n"
     ]
    },
    {
     "name": "stderr",
     "output_type": "stream",
     "text": [
      " 68%|██████████████████████████████████████████████████████████████████████████████████                                      | 171/250 [00:11<00:05, 15.56it/s]"
     ]
    },
    {
     "name": "stdout",
     "output_type": "stream",
     "text": [
      "--- Validation --- [threshold, AUC, Accuracy, F score] =  [np.float64(0.751), np.float64(0.989), np.float64(0.962), np.float64(0.969)]\n",
      "--- Training --- [threshold, AUC] =  [np.float64(0.756), np.float64(0.989)]\n",
      "--- Iteration 180: Training loss --- [Data, Label, Total] = [2241.862814.3, 242.183577.3, 11451.497647.3]\n",
      "!!! pred_type filter\n"
     ]
    },
    {
     "name": "stderr",
     "output_type": "stream",
     "text": [
      " 72%|██████████████████████████████████████████████████████████████████████████████████████▉                                 | 181/250 [00:12<00:04, 15.90it/s]"
     ]
    },
    {
     "name": "stdout",
     "output_type": "stream",
     "text": [
      "--- Validation --- [threshold, AUC, Accuracy, F score] =  [np.float64(0.756), np.float64(0.989), np.float64(0.962), np.float64(0.969)]\n",
      "--- Training --- [threshold, AUC] =  [np.float64(0.762), np.float64(0.989)]\n",
      "--- Iteration 190: Training loss --- [Data, Label, Total] = [2230.227436.3, 242.282261.3, 11393.419441.3]\n",
      "!!! pred_type filter\n"
     ]
    },
    {
     "name": "stderr",
     "output_type": "stream",
     "text": [
      " 76%|███████████████████████████████████████████████████████████████████████████████████████████▋                            | 191/250 [00:12<00:03, 16.17it/s]"
     ]
    },
    {
     "name": "stdout",
     "output_type": "stream",
     "text": [
      "--- Validation --- [threshold, AUC, Accuracy, F score] =  [np.float64(0.762), np.float64(0.989), np.float64(0.962), np.float64(0.969)]\n",
      "--- Training --- [threshold, AUC] =  [np.float64(0.77), np.float64(0.989)]\n",
      "--- Iteration 200: Training loss --- [Data, Label, Total] = [2220.682407.3, 242.492475.3, 11345.904510.3]\n",
      "!!! pred_type filter\n"
     ]
    },
    {
     "name": "stderr",
     "output_type": "stream",
     "text": [
      " 80%|████████████████████████████████████████████████████████████████████████████████████████████████▍                       | 201/250 [00:13<00:02, 16.51it/s]"
     ]
    },
    {
     "name": "stdout",
     "output_type": "stream",
     "text": [
      "--- Validation --- [threshold, AUC, Accuracy, F score] =  [np.float64(0.77), np.float64(0.989), np.float64(0.962), np.float64(0.968)]\n",
      "--- Training --- [threshold, AUC] =  [np.float64(0.764), np.float64(0.989)]\n",
      "--- Iteration 210: Training loss --- [Data, Label, Total] = [2212.619443.3, 242.433432.3, 11305.530645.3]\n",
      "!!! pred_type filter\n"
     ]
    },
    {
     "name": "stderr",
     "output_type": "stream",
     "text": [
      " 84%|█████████████████████████████████████████████████████████████████████████████████████████████████████▎                  | 211/250 [00:13<00:02, 16.74it/s]"
     ]
    },
    {
     "name": "stdout",
     "output_type": "stream",
     "text": [
      "--- Validation --- [threshold, AUC, Accuracy, F score] =  [np.float64(0.764), np.float64(0.989), np.float64(0.962), np.float64(0.969)]\n",
      "--- Training --- [threshold, AUC] =  [np.float64(0.76), np.float64(0.989)]\n",
      "--- Iteration 220: Training loss --- [Data, Label, Total] = [2205.619488.3, 242.399430.3, 11270.496871.3]\n",
      "!!! pred_type filter\n"
     ]
    },
    {
     "name": "stderr",
     "output_type": "stream",
     "text": [
      " 88%|██████████████████████████████████████████████████████████████████████████████████████████████████████████              | 221/250 [00:14<00:01, 16.89it/s]"
     ]
    },
    {
     "name": "stdout",
     "output_type": "stream",
     "text": [
      "--- Validation --- [threshold, AUC, Accuracy, F score] =  [np.float64(0.76), np.float64(0.989), np.float64(0.963), np.float64(0.97)]\n",
      "--- Training --- [threshold, AUC] =  [np.float64(0.762), np.float64(0.989)]\n",
      "--- Iteration 230: Training loss --- [Data, Label, Total] = [2199.242458.3, 242.006906.3, 11238.219196.3]\n",
      "!!! pred_type filter\n"
     ]
    },
    {
     "name": "stderr",
     "output_type": "stream",
     "text": [
      " 92%|██████████████████████████████████████████████████████████████████████████████████████████████████████████████▉         | 231/250 [00:14<00:01, 17.02it/s]"
     ]
    },
    {
     "name": "stdout",
     "output_type": "stream",
     "text": [
      "--- Validation --- [threshold, AUC, Accuracy, F score] =  [np.float64(0.762), np.float64(0.989), np.float64(0.965), np.float64(0.971)]\n",
      "--- Training --- [threshold, AUC] =  [np.float64(0.76), np.float64(0.989)]\n",
      "--- Iteration 240: Training loss --- [Data, Label, Total] = [2193.112526.3, 241.717220.3, 11207.279849.3]\n",
      "!!! pred_type filter\n"
     ]
    },
    {
     "name": "stderr",
     "output_type": "stream",
     "text": [
      "100%|████████████████████████████████████████████████████████████████████████████████████████████████████████████████████████| 250/250 [00:15<00:00, 16.02it/s]"
     ]
    },
    {
     "name": "stdout",
     "output_type": "stream",
     "text": [
      "--- Validation --- [threshold, AUC, Accuracy, F score] =  [np.float64(0.76), np.float64(0.989), np.float64(0.966), np.float64(0.972)]\n",
      "!!! pred_type filter\n"
     ]
    },
    {
     "name": "stderr",
     "output_type": "stream",
     "text": [
      "\n"
     ]
    },
    {
     "name": "stdout",
     "output_type": "stream",
     "text": [
      "num of subgraphs induced on k-paths: 500\n",
      "num of subgraphs induced on k-paths: 500\n",
      "X_list: (81, 1000)\n",
      "2\n",
      "(1, 500)\n",
      "(1, 500)\n",
      "label_vec: (1, 1000)\n",
      "num of subgraphs induced on k-paths: 500\n",
      "num of subgraphs induced on k-paths: 500\n",
      "X_list: (81, 1000)\n",
      "2\n",
      "(1, 500)\n",
      "(1, 500)\n",
      "label_vec: (1, 1000)\n",
      "num of subgraphs induced on k-paths: 500\n",
      "num of subgraphs induced on k-paths: 500\n",
      "X_list: (81, 1000)\n",
      "2\n",
      "(1, 500)\n",
      "(1, 500)\n",
      "label_vec: (1, 1000)\n",
      "num of subgraphs induced on k-paths: 500\n",
      "num of subgraphs induced on k-paths: 500\n",
      "X_list: (81, 1000)\n",
      "2\n",
      "(1, 500)\n",
      "(1, 500)\n",
      "label_vec: (1, 1000)\n"
     ]
    }
   ],
   "source": [
    "for i in range(5,10):\n",
    "    print(i)\n",
    "    accu.append(roc.run(i))"
   ]
  },
  {
   "cell_type": "code",
   "execution_count": 7,
   "id": "dd488593-1c7b-4d46-a4f7-f53b0c32f880",
   "metadata": {},
   "outputs": [
    {
     "name": "stdout",
     "output_type": "stream",
     "text": [
      "13\n",
      "num of subgraphs induced on k-paths: 500\n",
      "num of subgraphs induced on k-paths: 500\n",
      "X_list: (169, 1000)\n",
      "2\n",
      "(1, 500)\n",
      "(1, 500)\n",
      "label_vec: (1, 1000)\n",
      "num of subgraphs induced on k-paths: 500\n",
      "num of subgraphs induced on k-paths: 902\n",
      "X_list: (169, 1402)\n",
      "2\n",
      "(1, 500)\n",
      "(1, 902)\n",
      "label_vec: (1, 1402)\n",
      "initial loading beta [[-0.10191635  0.58936907 -0.34972529 -0.82402218 -0.27761397 -0.0089331\n",
      "  -0.60206318 -0.33898958  0.11709897  0.7838619   0.31824479  0.31804009\n",
      "  -0.52214244  0.26850833 -0.4763409  -0.19153247 -0.37285446]]\n"
     ]
    },
    {
     "name": "stderr",
     "output_type": "stream",
     "text": [
      "  2%|█▉                                                                                                                        | 4/250 [00:00<00:06, 39.89it/s]"
     ]
    },
    {
     "name": "stdout",
     "output_type": "stream",
     "text": [
      "--- Training --- [threshold, AUC] =  [np.float64(0.73), np.float64(0.991)]\n",
      "--- Iteration 0: Training loss --- [Data, Label, Total] = [18066.899142.3, 241.709240.3, 90576.204952.3]\n",
      "--- Training --- [threshold, AUC] =  [np.float64(0.704), np.float64(0.996)]\n",
      "--- Iteration 10: Training loss --- [Data, Label, Total] = [9883.772657.3, 141.193973.3, 49560.057259.3]\n",
      "!!! pred_type filter\n"
     ]
    },
    {
     "name": "stderr",
     "output_type": "stream",
     "text": [
      "  8%|█████████▏                                                                                                               | 19/250 [00:01<00:11, 19.51it/s]"
     ]
    },
    {
     "name": "stdout",
     "output_type": "stream",
     "text": [
      "--- Validation --- [threshold, AUC, Accuracy, F score] =  [np.float64(0.704), np.float64(0.996), np.float64(0.979), np.float64(0.983)]\n",
      "--- Training --- [threshold, AUC] =  [np.float64(0.81), np.float64(0.996)]\n",
      "--- Iteration 20: Training loss --- [Data, Label, Total] = [8790.489397.3, 146.877906.3, 44099.324891.3]\n",
      "!!! pred_type filter\n"
     ]
    },
    {
     "name": "stderr",
     "output_type": "stream",
     "text": [
      " 10%|███████████▌                                                                                                             | 24/250 [00:01<00:19, 11.71it/s]"
     ]
    },
    {
     "name": "stdout",
     "output_type": "stream",
     "text": [
      "--- Validation --- [threshold, AUC, Accuracy, F score] =  [np.float64(0.81), np.float64(0.996), np.float64(0.973), np.float64(0.979)]\n",
      "--- Training --- [threshold, AUC] =  [np.float64(0.764), np.float64(0.996)]\n",
      "--- Iteration 30: Training loss --- [Data, Label, Total] = [8316.138697.3, 150.830389.3, 41731.523872.3]\n",
      "!!! pred_type filter\n"
     ]
    },
    {
     "name": "stderr",
     "output_type": "stream",
     "text": [
      " 16%|██████████████████▉                                                                                                      | 39/250 [00:02<00:13, 15.90it/s]"
     ]
    },
    {
     "name": "stdout",
     "output_type": "stream",
     "text": [
      "--- Validation --- [threshold, AUC, Accuracy, F score] =  [np.float64(0.764), np.float64(0.996), np.float64(0.978), np.float64(0.983)]\n",
      "--- Training --- [threshold, AUC] =  [np.float64(0.772), np.float64(0.996)]\n",
      "--- Iteration 40: Training loss --- [Data, Label, Total] = [8027.682465.3, 153.182588.3, 40291.594913.3]\n",
      "!!! pred_type filter\n"
     ]
    },
    {
     "name": "stderr",
     "output_type": "stream",
     "text": [
      " 18%|█████████████████████▎                                                                                                   | 44/250 [00:03<00:17, 12.04it/s]"
     ]
    },
    {
     "name": "stdout",
     "output_type": "stream",
     "text": [
      "--- Validation --- [threshold, AUC, Accuracy, F score] =  [np.float64(0.772), np.float64(0.996), np.float64(0.979), np.float64(0.984)]\n",
      "--- Training --- [threshold, AUC] =  [np.float64(0.771), np.float64(0.996)]\n",
      "--- Iteration 50: Training loss --- [Data, Label, Total] = [7825.442304.3, 156.051416.3, 39283.262936.3]\n",
      "!!! pred_type filter\n"
     ]
    },
    {
     "name": "stderr",
     "output_type": "stream",
     "text": [
      " 24%|████████████████████████████▌                                                                                            | 59/250 [00:04<00:11, 15.95it/s]"
     ]
    },
    {
     "name": "stdout",
     "output_type": "stream",
     "text": [
      "--- Validation --- [threshold, AUC, Accuracy, F score] =  [np.float64(0.771), np.float64(0.996), np.float64(0.979), np.float64(0.983)]\n",
      "--- Training --- [threshold, AUC] =  [np.float64(0.777), np.float64(0.996)]\n",
      "--- Iteration 60: Training loss --- [Data, Label, Total] = [7663.654265.3, 157.757286.3, 38476.028611.3]\n",
      "!!! pred_type filter\n"
     ]
    },
    {
     "name": "stderr",
     "output_type": "stream",
     "text": [
      " 25%|██████████████████████████████▍                                                                                          | 63/250 [00:04<00:15, 11.94it/s]"
     ]
    },
    {
     "name": "stdout",
     "output_type": "stream",
     "text": [
      "--- Validation --- [threshold, AUC, Accuracy, F score] =  [np.float64(0.777), np.float64(0.996), np.float64(0.978), np.float64(0.983)]\n",
      "--- Training --- [threshold, AUC] =  [np.float64(0.777), np.float64(0.996)]\n",
      "--- Iteration 70: Training loss --- [Data, Label, Total] = [7512.251118.3, 158.877908.3, 37720.133500.3]\n",
      "!!! pred_type filter\n"
     ]
    },
    {
     "name": "stderr",
     "output_type": "stream",
     "text": [
      " 32%|██████████████████████████████████████▏                                                                                  | 79/250 [00:05<00:10, 16.73it/s]"
     ]
    },
    {
     "name": "stdout",
     "output_type": "stream",
     "text": [
      "--- Validation --- [threshold, AUC, Accuracy, F score] =  [np.float64(0.777), np.float64(0.996), np.float64(0.979), np.float64(0.983)]\n",
      "--- Training --- [threshold, AUC] =  [np.float64(0.778), np.float64(0.996)]\n",
      "--- Iteration 80: Training loss --- [Data, Label, Total] = [7370.651768.3, 161.278378.3, 37014.537218.3]\n",
      "!!! pred_type filter\n"
     ]
    },
    {
     "name": "stderr",
     "output_type": "stream",
     "text": [
      " 33%|████████████████████████████████████████▏                                                                                | 83/250 [00:06<00:13, 12.76it/s]"
     ]
    },
    {
     "name": "stdout",
     "output_type": "stream",
     "text": [
      "--- Validation --- [threshold, AUC, Accuracy, F score] =  [np.float64(0.778), np.float64(0.996), np.float64(0.977), np.float64(0.982)]\n",
      "--- Training --- [threshold, AUC] =  [np.float64(0.778), np.float64(0.996)]\n",
      "--- Iteration 90: Training loss --- [Data, Label, Total] = [7261.589725.3, 163.840269.3, 36471.788895.3]\n",
      "!!! pred_type filter\n"
     ]
    },
    {
     "name": "stderr",
     "output_type": "stream",
     "text": [
      " 40%|███████████████████████████████████████████████▉                                                                         | 99/250 [00:07<00:08, 17.45it/s]"
     ]
    },
    {
     "name": "stdout",
     "output_type": "stream",
     "text": [
      "--- Validation --- [threshold, AUC, Accuracy, F score] =  [np.float64(0.778), np.float64(0.996), np.float64(0.974), np.float64(0.979)]\n",
      "--- Training --- [threshold, AUC] =  [np.float64(0.785), np.float64(0.996)]\n",
      "--- Iteration 100: Training loss --- [Data, Label, Total] = [7179.740815.3, 166.886278.3, 36065.590354.3]\n",
      "!!! pred_type filter\n"
     ]
    },
    {
     "name": "stderr",
     "output_type": "stream",
     "text": [
      " 41%|█████████████████████████████████████████████████▍                                                                      | 103/250 [00:07<00:11, 13.27it/s]"
     ]
    },
    {
     "name": "stdout",
     "output_type": "stream",
     "text": [
      "--- Validation --- [threshold, AUC, Accuracy, F score] =  [np.float64(0.785), np.float64(0.996), np.float64(0.971), np.float64(0.977)]\n",
      "--- Training --- [threshold, AUC] =  [np.float64(0.786), np.float64(0.995)]\n",
      "--- Iteration 110: Training loss --- [Data, Label, Total] = [7111.437300.3, 170.328781.3, 35727.515283.3]\n",
      "!!! pred_type filter\n"
     ]
    },
    {
     "name": "stderr",
     "output_type": "stream",
     "text": [
      " 48%|█████████████████████████████████████████████████████████                                                               | 119/250 [00:08<00:07, 18.17it/s]"
     ]
    },
    {
     "name": "stdout",
     "output_type": "stream",
     "text": [
      "--- Validation --- [threshold, AUC, Accuracy, F score] =  [np.float64(0.786), np.float64(0.995), np.float64(0.967), np.float64(0.974)]\n",
      "--- Training --- [threshold, AUC] =  [np.float64(0.76), np.float64(0.995)]\n",
      "--- Iteration 120: Training loss --- [Data, Label, Total] = [7051.167976.3, 173.611727.3, 35429.451608.3]\n",
      "!!! pred_type filter\n"
     ]
    },
    {
     "name": "stderr",
     "output_type": "stream",
     "text": [
      " 50%|███████████████████████████████████████████████████████████▌                                                            | 124/250 [00:09<00:10, 12.27it/s]"
     ]
    },
    {
     "name": "stdout",
     "output_type": "stream",
     "text": [
      "--- Validation --- [threshold, AUC, Accuracy, F score] =  [np.float64(0.76), np.float64(0.995), np.float64(0.968), np.float64(0.975)]\n",
      "--- Training --- [threshold, AUC] =  [np.float64(0.754), np.float64(0.994)]\n",
      "--- Iteration 130: Training loss --- [Data, Label, Total] = [6999.583576.3, 176.091904.3, 35174.009782.3]\n",
      "!!! pred_type filter\n"
     ]
    },
    {
     "name": "stderr",
     "output_type": "stream",
     "text": [
      " 56%|██████████████████████████████████████████████████████████████████▋                                                     | 139/250 [00:09<00:06, 16.80it/s]"
     ]
    },
    {
     "name": "stdout",
     "output_type": "stream",
     "text": [
      "--- Validation --- [threshold, AUC, Accuracy, F score] =  [np.float64(0.754), np.float64(0.994), np.float64(0.967), np.float64(0.975)]\n",
      "--- Training --- [threshold, AUC] =  [np.float64(0.755), np.float64(0.994)]\n",
      "--- Iteration 140: Training loss --- [Data, Label, Total] = [6958.027184.3, 178.519762.3, 34968.655680.3]\n",
      "!!! pred_type filter\n"
     ]
    },
    {
     "name": "stderr",
     "output_type": "stream",
     "text": [
      " 57%|████████████████████████████████████████████████████████████████████▋                                                   | 143/250 [00:10<00:08, 13.17it/s]"
     ]
    },
    {
     "name": "stdout",
     "output_type": "stream",
     "text": [
      "--- Validation --- [threshold, AUC, Accuracy, F score] =  [np.float64(0.755), np.float64(0.994), np.float64(0.966), np.float64(0.973)]\n",
      "--- Training --- [threshold, AUC] =  [np.float64(0.757), np.float64(0.994)]\n",
      "--- Iteration 150: Training loss --- [Data, Label, Total] = [6925.155928.3, 180.342415.3, 34806.122053.3]\n",
      "!!! pred_type filter\n"
     ]
    },
    {
     "name": "stderr",
     "output_type": "stream",
     "text": [
      " 64%|████████████████████████████████████████████████████████████████████████████▎                                           | 159/250 [00:11<00:05, 17.95it/s]"
     ]
    },
    {
     "name": "stdout",
     "output_type": "stream",
     "text": [
      "--- Validation --- [threshold, AUC, Accuracy, F score] =  [np.float64(0.757), np.float64(0.994), np.float64(0.965), np.float64(0.973)]\n",
      "--- Training --- [threshold, AUC] =  [np.float64(0.756), np.float64(0.993)]\n",
      "--- Iteration 160: Training loss --- [Data, Label, Total] = [6898.028428.3, 181.452344.3, 34671.594483.3]\n",
      "!!! pred_type filter\n"
     ]
    },
    {
     "name": "stderr",
     "output_type": "stream",
     "text": [
      " 65%|██████████████████████████████████████████████████████████████████████████████▏                                         | 163/250 [00:11<00:06, 13.67it/s]"
     ]
    },
    {
     "name": "stdout",
     "output_type": "stream",
     "text": [
      "--- Validation --- [threshold, AUC, Accuracy, F score] =  [np.float64(0.756), np.float64(0.993), np.float64(0.965), np.float64(0.973)]\n",
      "--- Training --- [threshold, AUC] =  [np.float64(0.754), np.float64(0.993)]\n",
      "--- Iteration 170: Training loss --- [Data, Label, Total] = [6872.215746.3, 181.873752.3, 34542.952481.3]\n",
      "!!! pred_type filter\n"
     ]
    },
    {
     "name": "stderr",
     "output_type": "stream",
     "text": [
      " 72%|█████████████████████████████████████████████████████████████████████████████████████▉                                  | 179/250 [00:12<00:03, 18.79it/s]"
     ]
    },
    {
     "name": "stdout",
     "output_type": "stream",
     "text": [
      "--- Validation --- [threshold, AUC, Accuracy, F score] =  [np.float64(0.754), np.float64(0.993), np.float64(0.964), np.float64(0.972)]\n",
      "--- Training --- [threshold, AUC] =  [np.float64(0.753), np.float64(0.993)]\n",
      "--- Iteration 180: Training loss --- [Data, Label, Total] = [6845.519534.3, 182.049881.3, 34409.647550.3]\n",
      "!!! pred_type filter\n"
     ]
    },
    {
     "name": "stderr",
     "output_type": "stream",
     "text": [
      " 74%|████████████████████████████████████████████████████████████████████████████████████████▎                               | 184/250 [00:13<00:04, 14.66it/s]"
     ]
    },
    {
     "name": "stdout",
     "output_type": "stream",
     "text": [
      "--- Validation --- [threshold, AUC, Accuracy, F score] =  [np.float64(0.753), np.float64(0.993), np.float64(0.964), np.float64(0.972)]\n",
      "--- Training --- [threshold, AUC] =  [np.float64(0.758), np.float64(0.993)]\n",
      "--- Iteration 190: Training loss --- [Data, Label, Total] = [6817.033756.3, 182.101953.3, 34267.270733.3]\n",
      "!!! pred_type filter\n"
     ]
    },
    {
     "name": "stderr",
     "output_type": "stream",
     "text": [
      " 79%|███████████████████████████████████████████████████████████████████████████████████████████████                         | 198/250 [00:13<00:02, 17.65it/s]"
     ]
    },
    {
     "name": "stdout",
     "output_type": "stream",
     "text": [
      "--- Validation --- [threshold, AUC, Accuracy, F score] =  [np.float64(0.758), np.float64(0.993), np.float64(0.964), np.float64(0.972)]\n",
      "--- Training --- [threshold, AUC] =  [np.float64(0.755), np.float64(0.993)]\n",
      "--- Iteration 200: Training loss --- [Data, Label, Total] = [6785.842952.3, 182.006984.3, 34111.221742.3]\n",
      "!!! pred_type filter\n"
     ]
    },
    {
     "name": "stderr",
     "output_type": "stream",
     "text": [
      " 84%|████████████████████████████████████████████████████████████████████████████████████████████████████▊                   | 210/250 [00:14<00:02, 18.83it/s]"
     ]
    },
    {
     "name": "stdout",
     "output_type": "stream",
     "text": [
      "--- Validation --- [threshold, AUC, Accuracy, F score] =  [np.float64(0.755), np.float64(0.993), np.float64(0.964), np.float64(0.972)]\n",
      "--- Training --- [threshold, AUC] =  [np.float64(0.755), np.float64(0.993)]\n",
      "--- Iteration 210: Training loss --- [Data, Label, Total] = [6751.358188.3, 181.879716.3, 33938.670655.3]\n",
      "!!! pred_type filter\n"
     ]
    },
    {
     "name": "stderr",
     "output_type": "stream",
     "text": [
      " 86%|███████████████████████████████████████████████████████████████████████████████████████████████████████▏                | 215/250 [00:15<00:02, 14.46it/s]"
     ]
    },
    {
     "name": "stdout",
     "output_type": "stream",
     "text": [
      "--- Validation --- [threshold, AUC, Accuracy, F score] =  [np.float64(0.755), np.float64(0.993), np.float64(0.964), np.float64(0.972)]\n",
      "--- Training --- [threshold, AUC] =  [np.float64(0.747), np.float64(0.993)]\n",
      "--- Iteration 220: Training loss --- [Data, Label, Total] = [6713.744598.3, 181.535929.3, 33750.258920.3]\n",
      "!!! pred_type filter\n"
     ]
    },
    {
     "name": "stderr",
     "output_type": "stream",
     "text": [
      " 92%|█████████████████████████████████████████████████████████████████████████████████████████████████████████████▉          | 229/250 [00:15<00:01, 18.07it/s]"
     ]
    },
    {
     "name": "stdout",
     "output_type": "stream",
     "text": [
      "--- Validation --- [threshold, AUC, Accuracy, F score] =  [np.float64(0.747), np.float64(0.993), np.float64(0.966), np.float64(0.973)]\n",
      "--- Training --- [threshold, AUC] =  [np.float64(0.748), np.float64(0.994)]\n",
      "--- Iteration 230: Training loss --- [Data, Label, Total] = [6675.598148.3, 181.423279.3, 33559.414021.3]\n",
      "!!! pred_type filter\n"
     ]
    },
    {
     "name": "stderr",
     "output_type": "stream",
     "text": [
      " 93%|███████████████████████████████████████████████████████████████████████████████████████████████████████████████▊        | 233/250 [00:16<00:01, 13.80it/s]"
     ]
    },
    {
     "name": "stdout",
     "output_type": "stream",
     "text": [
      "--- Validation --- [threshold, AUC, Accuracy, F score] =  [np.float64(0.748), np.float64(0.994), np.float64(0.966), np.float64(0.973)]\n",
      "--- Training --- [threshold, AUC] =  [np.float64(0.747), np.float64(0.994)]\n",
      "--- Iteration 240: Training loss --- [Data, Label, Total] = [6638.609884.3, 181.243560.3, 33374.292978.3]\n",
      "!!! pred_type filter\n"
     ]
    },
    {
     "name": "stderr",
     "output_type": "stream",
     "text": [
      "100%|████████████████████████████████████████████████████████████████████████████████████████████████████████████████████████| 250/250 [00:17<00:00, 14.49it/s]"
     ]
    },
    {
     "name": "stdout",
     "output_type": "stream",
     "text": [
      "--- Validation --- [threshold, AUC, Accuracy, F score] =  [np.float64(0.747), np.float64(0.994), np.float64(0.966), np.float64(0.974)]\n",
      "!!! pred_type filter\n"
     ]
    },
    {
     "name": "stderr",
     "output_type": "stream",
     "text": [
      "\n"
     ]
    },
    {
     "name": "stdout",
     "output_type": "stream",
     "text": [
      "num of subgraphs induced on k-paths: 500\n",
      "num of subgraphs induced on k-paths: 500\n",
      "X_list: (169, 1000)\n",
      "2\n",
      "(1, 500)\n",
      "(1, 500)\n",
      "label_vec: (1, 1000)\n",
      "num of subgraphs induced on k-paths: 500\n",
      "num of subgraphs induced on k-paths: 500\n",
      "X_list: (169, 1000)\n",
      "2\n",
      "(1, 500)\n",
      "(1, 500)\n",
      "label_vec: (1, 1000)\n",
      "num of subgraphs induced on k-paths: 500\n",
      "num of subgraphs induced on k-paths: 500\n",
      "X_list: (169, 1000)\n",
      "2\n",
      "(1, 500)\n",
      "(1, 500)\n",
      "label_vec: (1, 1000)\n",
      "num of subgraphs induced on k-paths: 500\n",
      "num of subgraphs induced on k-paths: 500\n",
      "X_list: (169, 1000)\n",
      "2\n",
      "(1, 500)\n",
      "(1, 500)\n",
      "label_vec: (1, 1000)\n",
      "14\n",
      "num of subgraphs induced on k-paths: 500\n",
      "num of subgraphs induced on k-paths: 500\n",
      "X_list: (196, 1000)\n",
      "2\n",
      "(1, 500)\n",
      "(1, 500)\n",
      "label_vec: (1, 1000)\n",
      "num of subgraphs induced on k-paths: 500\n",
      "num of subgraphs induced on k-paths: 915\n",
      "X_list: (196, 1415)\n",
      "2\n",
      "(1, 500)\n",
      "(1, 915)\n",
      "label_vec: (1, 1415)\n",
      "initial loading beta [[-0.78007564  0.67055786  0.9811288  -0.36547009 -0.35335948 -0.73002999\n",
      "   0.53142425 -0.016957   -0.00410712 -0.02663612  0.4265464   0.40621164\n",
      "   0.52746529  0.80740416 -0.84343224  0.71347642 -0.53267012]]\n"
     ]
    },
    {
     "name": "stderr",
     "output_type": "stream",
     "text": [
      "  2%|█▉                                                                                                                        | 4/250 [00:00<00:06, 37.31it/s]"
     ]
    },
    {
     "name": "stdout",
     "output_type": "stream",
     "text": [
      "--- Training --- [threshold, AUC] =  [np.float64(0.713), np.float64(0.996)]\n",
      "--- Iteration 0: Training loss --- [Data, Label, Total] = [21110.845471.3, 202.659038.3, 105756.886392.3]\n",
      "--- Training --- [threshold, AUC] =  [np.float64(0.747), np.float64(0.998)]\n",
      "--- Iteration 10: Training loss --- [Data, Label, Total] = [11603.406002.3, 122.774731.3, 58139.804741.3]\n",
      "!!! pred_type filter\n"
     ]
    },
    {
     "name": "stderr",
     "output_type": "stream",
     "text": [
      "  7%|████████▋                                                                                                                | 18/250 [00:01<00:13, 17.48it/s]"
     ]
    },
    {
     "name": "stdout",
     "output_type": "stream",
     "text": [
      "--- Validation --- [threshold, AUC, Accuracy, F score] =  [np.float64(0.747), np.float64(0.998), np.float64(0.987), np.float64(0.99)]\n",
      "--- Training --- [threshold, AUC] =  [np.float64(0.731), np.float64(0.998)]\n",
      "--- Iteration 20: Training loss --- [Data, Label, Total] = [10420.016254.3, 126.246732.3, 52226.328001.3]\n",
      "!!! pred_type filter\n"
     ]
    },
    {
     "name": "stderr",
     "output_type": "stream",
     "text": [
      " 12%|██████████████▌                                                                                                          | 30/250 [00:02<00:13, 16.37it/s]"
     ]
    },
    {
     "name": "stdout",
     "output_type": "stream",
     "text": [
      "--- Validation --- [threshold, AUC, Accuracy, F score] =  [np.float64(0.731), np.float64(0.998), np.float64(0.984), np.float64(0.988)]\n",
      "--- Training --- [threshold, AUC] =  [np.float64(0.704), np.float64(0.997)]\n",
      "--- Iteration 30: Training loss --- [Data, Label, Total] = [9768.788129.3, 131.241570.3, 48975.182214.3]\n",
      "!!! pred_type filter\n"
     ]
    },
    {
     "name": "stderr",
     "output_type": "stream",
     "text": [
      " 14%|████████████████▍                                                                                                        | 34/250 [00:02<00:22,  9.81it/s]"
     ]
    },
    {
     "name": "stdout",
     "output_type": "stream",
     "text": [
      "--- Validation --- [threshold, AUC, Accuracy, F score] =  [np.float64(0.704), np.float64(0.997), np.float64(0.983), np.float64(0.987)]\n",
      "--- Training --- [threshold, AUC] =  [np.float64(0.692), np.float64(0.997)]\n",
      "--- Iteration 40: Training loss --- [Data, Label, Total] = [9354.183147.3, 135.270479.3, 46906.186214.3]\n",
      "!!! pred_type filter\n"
     ]
    },
    {
     "name": "stderr",
     "output_type": "stream",
     "text": [
      " 19%|███████████████████████▏                                                                                                 | 48/250 [00:03<00:14, 13.76it/s]"
     ]
    },
    {
     "name": "stdout",
     "output_type": "stream",
     "text": [
      "--- Validation --- [threshold, AUC, Accuracy, F score] =  [np.float64(0.692), np.float64(0.997), np.float64(0.983), np.float64(0.987)]\n",
      "--- Training --- [threshold, AUC] =  [np.float64(0.718), np.float64(0.997)]\n",
      "--- Iteration 50: Training loss --- [Data, Label, Total] = [9006.957699.3, 139.403966.3, 45174.192460.3]\n",
      "!!! pred_type filter\n"
     ]
    },
    {
     "name": "stderr",
     "output_type": "stream",
     "text": [
      " 24%|████████████████████████████▌                                                                                            | 59/250 [00:04<00:12, 15.21it/s]"
     ]
    },
    {
     "name": "stdout",
     "output_type": "stream",
     "text": [
      "--- Validation --- [threshold, AUC, Accuracy, F score] =  [np.float64(0.718), np.float64(0.997), np.float64(0.982), np.float64(0.986)]\n",
      "--- Training --- [threshold, AUC] =  [np.float64(0.736), np.float64(0.996)]\n",
      "--- Iteration 60: Training loss --- [Data, Label, Total] = [8706.063282.3, 142.529077.3, 43672.845488.3]\n",
      "!!! pred_type filter\n"
     ]
    },
    {
     "name": "stderr",
     "output_type": "stream",
     "text": [
      " 28%|█████████████████████████████████▉                                                                                       | 70/250 [00:05<00:11, 16.11it/s]"
     ]
    },
    {
     "name": "stdout",
     "output_type": "stream",
     "text": [
      "--- Validation --- [threshold, AUC, Accuracy, F score] =  [np.float64(0.736), np.float64(0.996), np.float64(0.982), np.float64(0.986)]\n",
      "--- Training --- [threshold, AUC] =  [np.float64(0.723), np.float64(0.996)]\n",
      "--- Iteration 70: Training loss --- [Data, Label, Total] = [8472.642201.3, 145.656557.3, 42508.867565.3]\n",
      "!!! pred_type filter\n"
     ]
    },
    {
     "name": "stderr",
     "output_type": "stream",
     "text": [
      " 30%|███████████████████████████████████▊                                                                                     | 74/250 [00:05<00:14, 11.95it/s]"
     ]
    },
    {
     "name": "stdout",
     "output_type": "stream",
     "text": [
      "--- Validation --- [threshold, AUC, Accuracy, F score] =  [np.float64(0.723), np.float64(0.996), np.float64(0.982), np.float64(0.986)]\n",
      "--- Training --- [threshold, AUC] =  [np.float64(0.727), np.float64(0.996)]\n",
      "--- Iteration 80: Training loss --- [Data, Label, Total] = [8303.577391.3, 148.810118.3, 41666.697076.3]\n",
      "!!! pred_type filter\n"
     ]
    },
    {
     "name": "stderr",
     "output_type": "stream",
     "text": [
      " 35%|██████████████████████████████████████████▌                                                                              | 88/250 [00:06<00:10, 15.79it/s]"
     ]
    },
    {
     "name": "stdout",
     "output_type": "stream",
     "text": [
      "--- Validation --- [threshold, AUC, Accuracy, F score] =  [np.float64(0.727), np.float64(0.996), np.float64(0.982), np.float64(0.986)]\n",
      "--- Training --- [threshold, AUC] =  [np.float64(0.732), np.float64(0.996)]\n",
      "--- Iteration 90: Training loss --- [Data, Label, Total] = [8183.562649.3, 151.148610.3, 41068.961856.3]\n",
      "!!! pred_type filter\n"
     ]
    },
    {
     "name": "stderr",
     "output_type": "stream",
     "text": [
      " 40%|███████████████████████████████████████████████▉                                                                         | 99/250 [00:07<00:09, 15.83it/s]"
     ]
    },
    {
     "name": "stdout",
     "output_type": "stream",
     "text": [
      "--- Validation --- [threshold, AUC, Accuracy, F score] =  [np.float64(0.732), np.float64(0.996), np.float64(0.98), np.float64(0.984)]\n",
      "--- Training --- [threshold, AUC] =  [np.float64(0.735), np.float64(0.996)]\n",
      "--- Iteration 100: Training loss --- [Data, Label, Total] = [8099.927626.3, 153.292919.3, 40652.931051.3]\n",
      "!!! pred_type filter\n"
     ]
    },
    {
     "name": "stderr",
     "output_type": "stream",
     "text": [
      " 41%|█████████████████████████████████████████████████▍                                                                      | 103/250 [00:08<00:12, 11.87it/s]"
     ]
    },
    {
     "name": "stdout",
     "output_type": "stream",
     "text": [
      "--- Validation --- [threshold, AUC, Accuracy, F score] =  [np.float64(0.735), np.float64(0.996), np.float64(0.978), np.float64(0.983)]\n",
      "--- Training --- [threshold, AUC] =  [np.float64(0.681), np.float64(0.996)]\n",
      "--- Iteration 110: Training loss --- [Data, Label, Total] = [8041.792064.3, 154.792256.3, 40363.752574.3]\n",
      "!!! pred_type filter\n"
     ]
    },
    {
     "name": "stderr",
     "output_type": "stream",
     "text": [
      " 47%|████████████████████████████████████████████████████████▋                                                               | 118/250 [00:08<00:08, 16.37it/s]"
     ]
    },
    {
     "name": "stdout",
     "output_type": "stream",
     "text": [
      "--- Validation --- [threshold, AUC, Accuracy, F score] =  [np.float64(0.681), np.float64(0.996), np.float64(0.98), np.float64(0.985)]\n",
      "--- Training --- [threshold, AUC] =  [np.float64(0.673), np.float64(0.996)]\n",
      "--- Iteration 120: Training loss --- [Data, Label, Total] = [7999.102185.3, 156.394417.3, 40151.905342.3]\n",
      "!!! pred_type filter\n"
     ]
    },
    {
     "name": "stderr",
     "output_type": "stream",
     "text": [
      " 52%|█████████████████████████████████████████████████████████████▉                                                          | 129/250 [00:09<00:07, 17.06it/s]"
     ]
    },
    {
     "name": "stdout",
     "output_type": "stream",
     "text": [
      "--- Validation --- [threshold, AUC, Accuracy, F score] =  [np.float64(0.673), np.float64(0.996), np.float64(0.98), np.float64(0.985)]\n",
      "--- Training --- [threshold, AUC] =  [np.float64(0.663), np.float64(0.996)]\n",
      "--- Iteration 130: Training loss --- [Data, Label, Total] = [7964.765887.3, 156.896677.3, 39980.726112.3]\n",
      "!!! pred_type filter\n"
     ]
    },
    {
     "name": "stderr",
     "output_type": "stream",
     "text": [
      " 56%|███████████████████████████████████████████████████████████████████▏                                                    | 140/250 [00:10<00:06, 17.83it/s]"
     ]
    },
    {
     "name": "stdout",
     "output_type": "stream",
     "text": [
      "--- Validation --- [threshold, AUC, Accuracy, F score] =  [np.float64(0.663), np.float64(0.996), np.float64(0.98), np.float64(0.985)]\n",
      "--- Training --- [threshold, AUC] =  [np.float64(0.668), np.float64(0.996)]\n",
      "--- Iteration 140: Training loss --- [Data, Label, Total] = [7933.819822.3, 157.458249.3, 39826.557359.3]\n",
      "!!! pred_type filter\n"
     ]
    },
    {
     "name": "stderr",
     "output_type": "stream",
     "text": [
      " 58%|█████████████████████████████████████████████████████████████████████                                                   | 144/250 [00:10<00:08, 13.18it/s]"
     ]
    },
    {
     "name": "stdout",
     "output_type": "stream",
     "text": [
      "--- Validation --- [threshold, AUC, Accuracy, F score] =  [np.float64(0.668), np.float64(0.996), np.float64(0.98), np.float64(0.984)]\n",
      "--- Training --- [threshold, AUC] =  [np.float64(0.685), np.float64(0.996)]\n",
      "--- Iteration 150: Training loss --- [Data, Label, Total] = [7902.767752.3, 158.094889.3, 39671.933649.3]\n",
      "!!! pred_type filter\n"
     ]
    },
    {
     "name": "stderr",
     "output_type": "stream",
     "text": [
      " 63%|███████████████████████████████████████████████████████████████████████████▊                                            | 158/250 [00:11<00:05, 17.23it/s]"
     ]
    },
    {
     "name": "stdout",
     "output_type": "stream",
     "text": [
      "--- Validation --- [threshold, AUC, Accuracy, F score] =  [np.float64(0.685), np.float64(0.996), np.float64(0.979), np.float64(0.984)]\n",
      "--- Training --- [threshold, AUC] =  [np.float64(0.688), np.float64(0.996)]\n",
      "--- Iteration 160: Training loss --- [Data, Label, Total] = [7869.272382.3, 158.722351.3, 39505.084260.3]\n",
      "!!! pred_type filter\n"
     ]
    },
    {
     "name": "stderr",
     "output_type": "stream",
     "text": [
      " 67%|████████████████████████████████████████████████████████████████████████████████▋                                       | 168/250 [00:12<00:04, 17.61it/s]"
     ]
    },
    {
     "name": "stdout",
     "output_type": "stream",
     "text": [
      "--- Validation --- [threshold, AUC, Accuracy, F score] =  [np.float64(0.688), np.float64(0.996), np.float64(0.979), np.float64(0.984)]\n",
      "--- Training --- [threshold, AUC] =  [np.float64(0.687), np.float64(0.996)]\n",
      "--- Iteration 170: Training loss --- [Data, Label, Total] = [7832.972234.3, 158.982709.3, 39323.843877.3]\n",
      "!!! pred_type filter\n"
     ]
    },
    {
     "name": "stderr",
     "output_type": "stream",
     "text": [
      " 72%|█████████████████████████████████████████████████████████████████████████████████████▉                                  | 179/250 [00:13<00:03, 18.94it/s]"
     ]
    },
    {
     "name": "stdout",
     "output_type": "stream",
     "text": [
      "--- Validation --- [threshold, AUC, Accuracy, F score] =  [np.float64(0.687), np.float64(0.996), np.float64(0.979), np.float64(0.984)]\n",
      "--- Training --- [threshold, AUC] =  [np.float64(0.684), np.float64(0.996)]\n",
      "--- Iteration 180: Training loss --- [Data, Label, Total] = [7795.260955.3, 159.650806.3, 39135.955580.3]\n",
      "!!! pred_type filter\n"
     ]
    },
    {
     "name": "stderr",
     "output_type": "stream",
     "text": [
      " 76%|███████████████████████████████████████████████████████████████████████████████████████████▏                            | 190/250 [00:13<00:03, 19.64it/s]"
     ]
    },
    {
     "name": "stdout",
     "output_type": "stream",
     "text": [
      "--- Validation --- [threshold, AUC, Accuracy, F score] =  [np.float64(0.684), np.float64(0.996), np.float64(0.978), np.float64(0.983)]\n",
      "--- Training --- [threshold, AUC] =  [np.float64(0.68), np.float64(0.996)]\n",
      "--- Iteration 190: Training loss --- [Data, Label, Total] = [7758.595993.3, 160.226320.3, 38953.206284.3]\n",
      "!!! pred_type filter\n"
     ]
    },
    {
     "name": "stderr",
     "output_type": "stream",
     "text": [
      " 78%|█████████████████████████████████████████████████████████████████████████████████████████████                           | 194/250 [00:14<00:03, 14.30it/s]"
     ]
    },
    {
     "name": "stdout",
     "output_type": "stream",
     "text": [
      "--- Validation --- [threshold, AUC, Accuracy, F score] =  [np.float64(0.68), np.float64(0.996), np.float64(0.978), np.float64(0.983)]\n",
      "--- Training --- [threshold, AUC] =  [np.float64(0.694), np.float64(0.996)]\n",
      "--- Iteration 200: Training loss --- [Data, Label, Total] = [7725.447614.3, 160.924365.3, 38788.162436.3]\n",
      "!!! pred_type filter\n"
     ]
    },
    {
     "name": "stderr",
     "output_type": "stream",
     "text": [
      " 83%|███████████████████████████████████████████████████████████████████████████████████████████████████▊                    | 208/250 [00:14<00:02, 18.40it/s]"
     ]
    },
    {
     "name": "stdout",
     "output_type": "stream",
     "text": [
      "--- Validation --- [threshold, AUC, Accuracy, F score] =  [np.float64(0.694), np.float64(0.996), np.float64(0.978), np.float64(0.983)]\n",
      "--- Training --- [threshold, AUC] =  [np.float64(0.694), np.float64(0.996)]\n",
      "--- Iteration 210: Training loss --- [Data, Label, Total] = [7697.141402.3, 161.657467.3, 38647.364479.3]\n",
      "!!! pred_type filter\n"
     ]
    },
    {
     "name": "stderr",
     "output_type": "stream",
     "text": [
      " 87%|████████████████████████████████████████████████████████████████████████████████████████████████████████▋               | 218/250 [00:15<00:01, 18.57it/s]"
     ]
    },
    {
     "name": "stdout",
     "output_type": "stream",
     "text": [
      "--- Validation --- [threshold, AUC, Accuracy, F score] =  [np.float64(0.694), np.float64(0.996), np.float64(0.978), np.float64(0.983)]\n",
      "--- Training --- [threshold, AUC] =  [np.float64(0.69), np.float64(0.996)]\n",
      "--- Iteration 220: Training loss --- [Data, Label, Total] = [7673.635268.3, 161.851717.3, 38530.028055.3]\n",
      "!!! pred_type filter\n"
     ]
    },
    {
     "name": "stderr",
     "output_type": "stream",
     "text": [
      " 92%|█████████████████████████████████████████████████████████████████████████████████████████████████████████████▉          | 229/250 [00:16<00:01, 19.60it/s]"
     ]
    },
    {
     "name": "stdout",
     "output_type": "stream",
     "text": [
      "--- Validation --- [threshold, AUC, Accuracy, F score] =  [np.float64(0.69), np.float64(0.996), np.float64(0.978), np.float64(0.983)]\n",
      "--- Training --- [threshold, AUC] =  [np.float64(0.688), np.float64(0.996)]\n",
      "--- Iteration 230: Training loss --- [Data, Label, Total] = [7654.097304.3, 162.254533.3, 38432.741053.3]\n",
      "!!! pred_type filter\n"
     ]
    },
    {
     "name": "stderr",
     "output_type": "stream",
     "text": [
      " 96%|███████████████████████████████████████████████████████████████████████████████████████████████████████████████████▏    | 240/250 [00:16<00:00, 19.87it/s]"
     ]
    },
    {
     "name": "stdout",
     "output_type": "stream",
     "text": [
      "--- Validation --- [threshold, AUC, Accuracy, F score] =  [np.float64(0.688), np.float64(0.996), np.float64(0.978), np.float64(0.983)]\n",
      "--- Training --- [threshold, AUC] =  [np.float64(0.686), np.float64(0.995)]\n",
      "--- Iteration 240: Training loss --- [Data, Label, Total] = [7637.489704.3, 162.500671.3, 38349.949191.3]\n",
      "!!! pred_type filter\n"
     ]
    },
    {
     "name": "stderr",
     "output_type": "stream",
     "text": [
      "100%|████████████████████████████████████████████████████████████████████████████████████████████████████████████████████████| 250/250 [00:17<00:00, 14.34it/s]"
     ]
    },
    {
     "name": "stdout",
     "output_type": "stream",
     "text": [
      "--- Validation --- [threshold, AUC, Accuracy, F score] =  [np.float64(0.686), np.float64(0.995), np.float64(0.978), np.float64(0.983)]\n",
      "!!! pred_type filter\n"
     ]
    },
    {
     "name": "stderr",
     "output_type": "stream",
     "text": [
      "\n"
     ]
    },
    {
     "name": "stdout",
     "output_type": "stream",
     "text": [
      "num of subgraphs induced on k-paths: 500\n",
      "num of subgraphs induced on k-paths: 500\n",
      "X_list: (196, 1000)\n",
      "2\n",
      "(1, 500)\n",
      "(1, 500)\n",
      "label_vec: (1, 1000)\n",
      "num of subgraphs induced on k-paths: 500\n",
      "num of subgraphs induced on k-paths: 500\n",
      "X_list: (196, 1000)\n",
      "2\n",
      "(1, 500)\n",
      "(1, 500)\n",
      "label_vec: (1, 1000)\n",
      "num of subgraphs induced on k-paths: 500\n",
      "num of subgraphs induced on k-paths: 500\n",
      "X_list: (196, 1000)\n",
      "2\n",
      "(1, 500)\n",
      "(1, 500)\n",
      "label_vec: (1, 1000)\n",
      "num of subgraphs induced on k-paths: 500\n",
      "num of subgraphs induced on k-paths: 500\n",
      "X_list: (196, 1000)\n",
      "2\n",
      "(1, 500)\n",
      "(1, 500)\n",
      "label_vec: (1, 1000)\n"
     ]
    }
   ],
   "source": [
    "for i in range(13,15):\n",
    "    # if len(accu) == \n",
    "    print(i)\n",
    "    accu.append(roc.run(i))"
   ]
  },
  {
   "cell_type": "code",
   "execution_count": null,
   "id": "c6fe1549-95ae-44b8-8db1-f3807b614d59",
   "metadata": {},
   "outputs": [],
   "source": [
    "for i in range(15,20):\n",
    "    print(i)\n",
    "    accu.append(roc.run(i))"
   ]
  },
  {
   "cell_type": "code",
   "execution_count": null,
   "id": "f2f85f94-99ff-47de-a3c6-c6aed3680e55",
   "metadata": {},
   "outputs": [],
   "source": [
    "for i in range(20,25):\n",
    "    print(i)\n",
    "    accu.append(roc.run(i))"
   ]
  },
  {
   "cell_type": "code",
   "execution_count": null,
   "id": "e3832ffa-5390-445b-ae1d-4e5038f82f21",
   "metadata": {},
   "outputs": [],
   "source": [
    "for i in range(25,30):\n",
    "    print(i)\n",
    "    accu.append(roc.run(i))"
   ]
  },
  {
   "cell_type": "code",
   "execution_count": 9,
   "id": "50dd881d-dadb-4ead-9959-209cf36bbc28",
   "metadata": {},
   "outputs": [],
   "source": [
    "accu1 = [(i[0]) for i in accu]\n",
    "accu2 = [(i[1]) for i in accu]\n",
    "thresholds = [i[2] for i in accu]"
   ]
  },
  {
   "cell_type": "code",
   "execution_count": 11,
   "id": "280e08eb-f67d-4ba2-9800-5d1175707d4a",
   "metadata": {},
   "outputs": [
    {
     "data": {
      "text/plain": [
       "10"
      ]
     },
     "execution_count": 11,
     "metadata": {},
     "output_type": "execute_result"
    }
   ],
   "source": [
    "len(accu)"
   ]
  },
  {
   "cell_type": "code",
   "execution_count": 12,
   "id": "b87f9ca9-b889-4716-a5d0-a2fb0b82c9b9",
   "metadata": {},
   "outputs": [
    {
     "data": {
      "image/png": "[encoded data removed]",
      "text/plain": [
       "<Figure size 640x480 with 1 Axes>"
      ]
     },
     "metadata": {},
     "output_type": "display_data"
    }
   ],
   "source": [
    "x_values = np.arange(5,15)\n",
    "plt.plot(x_values, accu1, label='Accuracy 1')\n",
    "plt.plot(x_values, accu2, label='Accuracy 2')\n",
    "plt.plot(x_values, thresholds, label='Thresholds')\n",
    "\n",
    "plt.legend()\n",
    "plt.show()"
   ]
  }
 ],
 "metadata": {
  "kernelspec": {
   "display_name": "Python 3 (ipykernel)",
   "language": "python",
   "name": "python3"
  },
  "language_info": {
   "codemirror_mode": {
    "name": "ipython",
    "version": 3
   },
   "file_extension": ".py",
   "mimetype": "text/x-python",
   "name": "python",
   "nbconvert_exporter": "python",
   "pygments_lexer": "ipython3",
   "version": "3.12.4"
  }
 },
 "nbformat": 4,
 "nbformat_minor": 5
}
