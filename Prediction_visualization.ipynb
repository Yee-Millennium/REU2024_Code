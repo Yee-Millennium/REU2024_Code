{
 "cells": [
  {
   "cell_type": "code",
   "execution_count": 3,
   "metadata": {},
   "outputs": [],
   "source": [
    "import numpy as np\n",
    "import seaborn as sns\n",
    "import os\n",
    "import sys\n",
    "import matplotlib.pyplot as plt\n",
    "from itertools import combinations\n",
    "from mpl_toolkits.mplot3d.art3d import Poly3DCollection\n",
    "from NNetwork import NNetwork as nn\n",
    "from src.sampling.Sampling import sampling_sndl\n",
    "from src.supervised_NDL.SNDL import sndl_equalEdge, sndl_predict\n",
    "from util.plotting import *\n",
    "from contextlib import contextmanager"
   ]
  },
  {
   "cell_type": "code",
   "execution_count": 4,
   "metadata": {},
   "outputs": [],
   "source": [
    "@contextmanager\n",
    "def suppress_output():\n",
    "    # Redirect stdout to null\n",
    "    with open(os.devnull, 'w') as fnull:\n",
    "        original_stdout = sys.stdout\n",
    "        sys.stdout = fnull\n",
    "        try:\n",
    "            yield\n",
    "        finally:\n",
    "            sys.stdout = original_stdout"
   ]
  },
  {
   "cell_type": "markdown",
   "metadata": {},
   "source": [
    "## Binary Affinity Score Heatmap"
   ]
  },
  {
   "cell_type": "code",
   "execution_count": 5,
   "metadata": {},
   "outputs": [],
   "source": [
    "def compute_latent_motifs_binary_all(graph_list, sample_size_list, k, n_components, iterations):\n",
    "    motifs = {}\n",
    "    for i, j in combinations(range(len(graph_list)), 2):\n",
    "        print(f\"Computing latent motifs for networks ({i}, {j})\")\n",
    "        X, y = sampling_sndl([graph_list[i], graph_list[j]], k=k, sample_size_list=sample_size_list)\n",
    "        with suppress_output():\n",
    "            W, beta, H = sndl_equalEdge([graph_list[i], graph_list[j]], sample_size_list, k=k, xi=2, n_components=n_components, iter=iterations)\n",
    "        motifs[(i, j)] = (W, beta)\n",
    "    return motifs"
   ]
  },
  {
   "cell_type": "code",
   "execution_count": 6,
   "metadata": {},
   "outputs": [],
   "source": [
    "def compute_affinity_scores(motifs, graph_paths, sample_size_list, k, n_components, iterations):\n",
    "    affinity_scores = {}\n",
    "    num_graphs = len(graph_paths)\n",
    "    \n",
    "    for (i, j), (W, beta) in motifs.items():\n",
    "        for l in range(num_graphs):\n",
    "            print(f\"Computing affinity score for pair ({i}, {j}) with test network {l}\")\n",
    "            G_test = nn.NNetwork()\n",
    "            G_test.load_add_edges(graph_paths[l], increment_weights=False, use_genfromtxt=True)\n",
    "            affinity_score = sndl_predict(G_test, W, beta, 1000)\n",
    "            affinity_scores[(i, j, l)] = affinity_score\n",
    "            del G_test  # Clear memory after usage\n",
    "    return affinity_scores"
   ]
  },
  {
   "cell_type": "code",
   "execution_count": 7,
   "metadata": {},
   "outputs": [],
   "source": [
    "def plot_affinity_heatmap_binary_all(affinity_scores, ntwk_list):\n",
    "    num_graphs = len(ntwk_list)\n",
    "    num_pairs = len(list(combinations(range(num_graphs), 2)))\n",
    "    affinity_matrix = np.zeros((num_pairs, num_graphs))\n",
    "    \n",
    "    row_labels = []\n",
    "    idx = 0\n",
    "    \n",
    "    for i, j in combinations(range(num_graphs), 2):\n",
    "        row_labels.append(f'{ntwk_list[i]} & {ntwk_list[j]}')\n",
    "        for l in range(num_graphs):\n",
    "            affinity_matrix[idx, l] = affinity_scores[(i, j, l)]\n",
    "        idx += 1\n",
    "\n",
    "    col_labels = [ntwk for ntwk in ntwk_list]\n",
    "\n",
    "    plt.figure(figsize=(10, 8))\n",
    "    sns.heatmap(affinity_matrix, annot=True, fmt=\".2f\", xticklabels=col_labels, yticklabels=row_labels, cmap='Blues')\n",
    "    plt.xlabel('Test Network')\n",
    "    plt.ylabel('Network Pair')\n",
    "    plt.title('Affinity Scores Heatmap')\n",
    "    plt.show()"
   ]
  },
  {
   "cell_type": "code",
   "execution_count": 8,
   "metadata": {},
   "outputs": [],
   "source": [
    "def affinity_analysis_binary_all(ntwk_list, sample_size_list, k, n_components, iterations):\n",
    "    graph_paths = [f\"data/{ntwk}.txt\" for ntwk in ntwk_list]\n",
    "    graph_list = []\n",
    "\n",
    "    for path in graph_paths:\n",
    "        G = nn.NNetwork()\n",
    "        G.load_add_edges(path, increment_weights=False, use_genfromtxt=True)\n",
    "        graph_list.append(G)\n",
    "    \n",
    "    motifs = compute_latent_motifs_binary_all(graph_list, sample_size_list, k, n_components, iterations)\n",
    "    affinity_scores = compute_affinity_scores(motifs, graph_paths, sample_size_list, k, n_components, iterations)\n",
    "    plot_affinity_heatmap_binary_all(affinity_scores, ntwk_list)"
   ]
  },
  {
   "cell_type": "code",
   "execution_count": 9,
   "metadata": {},
   "outputs": [
    {
     "name": "stdout",
     "output_type": "stream",
     "text": [
      "Computing latent motifs for networks (0, 1)\n",
      "num of subgraphs induced on k-paths: 500\n",
      "num of subgraphs induced on k-paths: 500\n"
     ]
    },
    {
     "name": "stderr",
     "output_type": "stream",
     "text": [
      "100%|██████████| 250/250 [00:19<00:00, 12.83it/s]\n"
     ]
    },
    {
     "name": "stdout",
     "output_type": "stream",
     "text": [
      "Computing latent motifs for networks (0, 2)\n",
      "num of subgraphs induced on k-paths: 500\n",
      "num of subgraphs induced on k-paths: 500\n"
     ]
    },
    {
     "name": "stderr",
     "output_type": "stream",
     "text": [
      "100%|██████████| 250/250 [00:12<00:00, 19.84it/s]\n"
     ]
    },
    {
     "name": "stdout",
     "output_type": "stream",
     "text": [
      "Computing latent motifs for networks (0, 3)\n",
      "num of subgraphs induced on k-paths: 500\n",
      "num of subgraphs induced on k-paths: 500\n"
     ]
    },
    {
     "name": "stderr",
     "output_type": "stream",
     "text": [
      "100%|██████████| 250/250 [00:14<00:00, 17.46it/s]\n"
     ]
    },
    {
     "name": "stdout",
     "output_type": "stream",
     "text": [
      "Computing latent motifs for networks (1, 2)\n",
      "num of subgraphs induced on k-paths: 500\n",
      "num of subgraphs induced on k-paths: 500\n"
     ]
    },
    {
     "name": "stderr",
     "output_type": "stream",
     "text": [
      "100%|██████████| 250/250 [00:14<00:00, 17.33it/s]\n"
     ]
    },
    {
     "name": "stdout",
     "output_type": "stream",
     "text": [
      "Computing latent motifs for networks (1, 3)\n",
      "num of subgraphs induced on k-paths: 500\n",
      "num of subgraphs induced on k-paths: 500\n"
     ]
    },
    {
     "name": "stderr",
     "output_type": "stream",
     "text": [
      "100%|██████████| 250/250 [00:12<00:00, 19.38it/s]\n"
     ]
    },
    {
     "name": "stdout",
     "output_type": "stream",
     "text": [
      "Computing latent motifs for networks (2, 3)\n",
      "num of subgraphs induced on k-paths: 500\n",
      "num of subgraphs induced on k-paths: 500\n"
     ]
    },
    {
     "name": "stderr",
     "output_type": "stream",
     "text": [
      "100%|██████████| 250/250 [00:18<00:00, 13.21it/s]\n"
     ]
    },
    {
     "name": "stdout",
     "output_type": "stream",
     "text": [
      "Computing affinity score for pair (0, 1) with test network 0\n",
      "Computing affinity score for pair (0, 1) with test network 1\n",
      "Computing affinity score for pair (0, 1) with test network 2\n",
      "Computing affinity score for pair (0, 1) with test network 3\n",
      "Computing affinity score for pair (0, 2) with test network 0\n",
      "Computing affinity score for pair (0, 2) with test network 1\n",
      "Computing affinity score for pair (0, 2) with test network 2\n",
      "Computing affinity score for pair (0, 2) with test network 3\n",
      "Computing affinity score for pair (0, 3) with test network 0\n",
      "Computing affinity score for pair (0, 3) with test network 1\n",
      "Computing affinity score for pair (0, 3) with test network 2\n",
      "Computing affinity score for pair (0, 3) with test network 3\n",
      "Computing affinity score for pair (1, 2) with test network 0\n",
      "Computing affinity score for pair (1, 2) with test network 1\n",
      "Computing affinity score for pair (1, 2) with test network 2\n",
      "Computing affinity score for pair (1, 2) with test network 3\n",
      "Computing affinity score for pair (1, 3) with test network 0\n",
      "Computing affinity score for pair (1, 3) with test network 1\n",
      "Computing affinity score for pair (1, 3) with test network 2\n",
      "Computing affinity score for pair (1, 3) with test network 3\n",
      "Computing affinity score for pair (2, 3) with test network 0\n",
      "Computing affinity score for pair (2, 3) with test network 1\n",
      "Computing affinity score for pair (2, 3) with test network 2\n",
      "Computing affinity score for pair (2, 3) with test network 3\n"
     ]
    },
    {
     "data": {
      "image/png": "[encoded data removed]",
      "text/plain": [
       "<Figure size 1000x800 with 2 Axes>"
      ]
     },
     "metadata": {},
     "output_type": "display_data"
    }
   ],
   "source": [
    "# Example usage\n",
    "ntwk_list = ['Caltech36', 'UCLA26', 'Harvard1', \"MIT8\"]\n",
    "sample_size_list = [500, 500]\n",
    "k = 50\n",
    "n_components = 16\n",
    "iterations = 250\n",
    "\n",
    "affinity_analysis_binary_all(ntwk_list, sample_size_list, k, n_components, iterations)"
   ]
  },
  {
   "cell_type": "markdown",
   "metadata": {},
   "source": [
    "## Multiclass Prediction Plot"
   ]
  },
  {
   "cell_type": "code",
   "execution_count": null,
   "metadata": {},
   "outputs": [],
   "source": [
    "def compute_latent_motifs_and_dictionary(ntwk_list, base_sample_size, k, xi, n_components, iterations):\n",
    "    graph_list = []\n",
    "    for ntwk in ntwk_list:\n",
    "        path = \"data/\" + str(ntwk) + '.txt'\n",
    "        G = nn.NNetwork()\n",
    "        G.load_add_edges(path, increment_weights=False, use_genfromtxt=True)\n",
    "        graph_list.append(G)\n",
    "    \n",
    "    with suppress_output():\n",
    "        W, beta, H = sndl_equalEdge(graph_list, base_sample_size=base_sample_size, k=k, xi=xi, n_components=n_components, iter=iterations)\n",
    "    return W, beta, H\n",
    "\n",
    "\n",
    "def compute_prediction_scores(G, W, beta, sample_size):\n",
    "    with suppress_output():\n",
    "        prob_ = sndl_predict(G, W, beta, sample_size)\n",
    "    prob = np.insert(prob_, 0, 1 - np.sum(prob_))\n",
    "    print(f\"Prediction scores (prob) for a network: {prob}\")  # Debugging information\n",
    "    return prob\n",
    "\n",
    "def compute_affinity_scores_for_remaining_networks(ntwk_list, W, beta):\n",
    "    affinity_scores = {}\n",
    "    for ntwk in ntwk_list:\n",
    "        path = \"data/\" + str(ntwk) + '.txt'\n",
    "        G = nn.NNetwork()\n",
    "        G.load_add_edges(path, increment_weights=False, use_genfromtxt=True)\n",
    "        prob = compute_prediction_scores(G, W, beta, 500)\n",
    "        affinity_scores[ntwk] = prob\n",
    "    return affinity_scores"
   ]
  },
  {
   "cell_type": "code",
   "execution_count": null,
   "metadata": {},
   "outputs": [],
   "source": [
    "def triangle_area(p1, p2, p3):\n",
    "    p1, p2, p3 = np.array(p1, dtype=float), np.array(p2, dtype=float), np.array(p3, dtype=float)\n",
    "    return 0.5 * np.linalg.norm(np.cross(p2 - p1, p3 - p1))\n",
    "\n",
    "def plot_3d_affinity_scores(ntwk_list, affinity_scores, view_angle=(30, 60)):\n",
    "    # Initialize 3D plot\n",
    "    fig = plt.figure()\n",
    "    ax = fig.add_subplot(111, projection='3d')\n",
    "\n",
    "    # Plot Standards\n",
    "    standard_points = []\n",
    "    for idx, ntwk in enumerate(ntwk_list[:3]):\n",
    "        point = [idx == 0, idx == 1, idx == 2]\n",
    "        standard_points.append(point)\n",
    "        ax.scatter(point[0], point[1], point[2], color='black', s=50)\n",
    "\n",
    "    # Plot prediction scores for all networks\n",
    "    all_points = []\n",
    "    for ntwk, prob in affinity_scores.items():\n",
    "        point = np.array([prob[1], prob[2], prob[3]])\n",
    "        all_points.append(point)\n",
    "        ax.scatter(point[0], point[1], point[2], label=ntwk, s=50)\n",
    "        ax.text(point[0], point[1], point[2], f'({prob[1]:.2f}, {prob[2]:.2f}, {prob[3]:.2f})')\n",
    "\n",
    "    # Add a standard triangle\n",
    "    tri_vertices = np.array(standard_points)\n",
    "    tri = Poly3DCollection([tri_vertices], alpha=0.3, color='grey')\n",
    "    ax.add_collection3d(tri)\n",
    "\n",
    "    # Add a triangle formed by first three networks\n",
    "    small_tri_vertices = np.array(all_points[0:3])\n",
    "    small_tri = Poly3DCollection([small_tri_vertices], alpha=0.3, edgecolor='r', color='yellow')\n",
    "    ax.add_collection3d(small_tri)\n",
    "\n",
    "    # Calculate areas and ratio\n",
    "    big_triangle_area = triangle_area(*tri_vertices)\n",
    "    small_triangle_area = triangle_area(*small_tri_vertices)\n",
    "    area_ratio = small_triangle_area / big_triangle_area\n",
    "\n",
    "    # Add the area ratio to the plot\n",
    "    ax.text2D(0.05, 0.95, f'Area Ratio = {small_triangle_area:.2f} / {big_triangle_area:.2f} = {area_ratio:.2f}', transform=ax.transAxes)\n",
    "    \n",
    "    # Add labels and legend\n",
    "    ax.set_xlabel(ntwk_list[0])\n",
    "    ax.set_ylabel(ntwk_list[1])\n",
    "    ax.set_zlabel(ntwk_list[2])\n",
    "    ax.set_title('3D Visualization of Predicted Network Similarities')\n",
    "    ax.legend()\n",
    "\n",
    "    # Set the viewing angle\n",
    "    ax.view_init(elev=view_angle[0], azim=view_angle[1])\n",
    "\n",
    "    plt.show()"
   ]
  },
  {
   "cell_type": "code",
   "execution_count": null,
   "metadata": {},
   "outputs": [],
   "source": [
    "def plot_3d_prediction(ntwk_list, sample_size_list, k, n_components, iterations):\n",
    "    # Compute latent motifs and dictionary for the first three networks\n",
    "    W, beta, H = compute_latent_motifs_and_dictionary(ntwk_list, base_sample_size=600, k=k, xi=7, n_components=n_components, iterations=iterations)\n",
    "    \n",
    "    # Compute affinity scores for the remaining networks\n",
    "    affinity_scores = compute_affinity_scores_for_remaining_networks(ntwk_list, W, beta)\n",
    "    \n",
    "    # Plot 3D affinity scores\n",
    "    plot_3d_affinity_scores(ntwk_list, affinity_scores)"
   ]
  },
  {
   "cell_type": "code",
   "execution_count": null,
   "metadata": {},
   "outputs": [],
   "source": [
    "# Example usage\n",
    "ntwk_list = ['Caltech36', 'UCLA26', 'MIT8', 'Harvard1']\n",
    "sample_size_list = [500, 500]\n",
    "k = 40\n",
    "n_components = 16\n",
    "iterations = 250\n",
    "\n",
    "plot_3d_prediction(ntwk_list, sample_size_list, k, n_components, iterations)"
   ]
  }
 ],
 "metadata": {
  "language_info": {
   "name": "python"
  }
 },
 "nbformat": 4,
 "nbformat_minor": 2
}
