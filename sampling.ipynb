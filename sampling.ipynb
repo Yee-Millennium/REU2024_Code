{
 "cells": [
  {
   "cell_type": "code",
   "execution_count": 1,
   "metadata": {},
   "outputs": [],
   "source": [
    "import numpy as np \n",
    "from NNetwork import NNetwork as nn\n",
    "from src.sampling.sampling import sampling_SNLD\n",
    "\n",
    "### construct networks\n",
    "ntwk_list = ['Caltech36', 'UCLA26']\n",
    "sampling_alg = 'pivot'\n",
    "save_folder = 'output/'\n",
    "\n",
    "graph_list = []\n",
    "for ntwk in ntwk_list:\n",
    "    ntwk_nonumber = ''.join([i for i in ntwk if not i.isdigit()])\n",
    "    path = \"data/\" + str(ntwk) + '.txt'\n",
    "    G = nn.NNetwork()\n",
    "    G.load_add_edges(path, increment_weights=False, use_genfromtxt=True)\n",
    "    graph_list.append(G)"
   ]
  },
  {
   "cell_type": "code",
   "execution_count": 2,
   "metadata": {},
   "outputs": [
    {
     "name": "stdout",
     "output_type": "stream",
     "text": [
      "num of subgraphs induced on k-paths: 200\n",
      "num of subgraphs induced on k-paths: 200\n"
     ]
    }
   ],
   "source": [
    "# Do sampling, and get the matrix and the feature vector\n",
    "A, y = sampling_SNLD(graph_list, k = 30, sample_size=200)\n",
    "\n",
    "np.savetxt('output/A.txt', A, fmt='%d')\n",
    "np.savetxt('output/y.txt', y, fmt='%d')"
   ]
  },
  {
   "cell_type": "code",
   "execution_count": null,
   "metadata": {},
   "outputs": [],
   "source": [
    "print(f\"\\nThis is the shape of A: {A.shape}\")\n",
    "print(f\"\\nThis is the shape of y: {y.shape}\")"
   ]
  }
 ],
 "metadata": {
  "kernelspec": {
   "display_name": "REU2024",
   "language": "python",
   "name": "python3"
  },
  "language_info": {
   "codemirror_mode": {
    "name": "ipython",
    "version": 3
   },
   "file_extension": ".py",
   "mimetype": "text/x-python",
   "name": "python",
   "nbconvert_exporter": "python",
   "pygments_lexer": "ipython3",
   "version": "3.12.4"
  }
 },
 "nbformat": 4,
 "nbformat_minor": 2
}
