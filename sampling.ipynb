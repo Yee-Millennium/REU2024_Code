{
 "cells": [
  {
   "cell_type": "code",
   "execution_count": 1,
   "metadata": {},
   "outputs": [],
   "source": [
    "import numpy as np \n",
    "from NNetwork import NNetwork as nn\n",
    "from src.sampling.Sampling import sampling_SNLD"
   ]
  },
  {
   "cell_type": "code",
   "execution_count": 2,
   "metadata": {},
   "outputs": [],
   "source": [
    "### construct networks\n",
    "ntwk_list = ['MIT8', 'Harvard1']\n",
    "sampling_alg = 'pivot'\n",
    "save_folder = 'output/data_parsed/'\n",
    "\n",
    "graph_list = []\n",
    "for ntwk in ntwk_list:\n",
    "    path = \"data/\" + str(ntwk) + '.txt'\n",
    "    G = nn.NNetwork()\n",
    "    G.load_add_edges(path, increment_weights=False, use_genfromtxt=True)\n",
    "    graph_list.append(G)"
   ]
  },
  {
   "cell_type": "code",
   "execution_count": 3,
   "metadata": {},
   "outputs": [
    {
     "name": "stdout",
     "output_type": "stream",
     "text": [
      "num of subgraphs induced on k-paths: 1000\n",
      "num of subgraphs induced on k-paths: 1000\n"
     ]
    }
   ],
   "source": [
    "# supervised NLD: save the info of the matrix to be factorized and feature vector\n",
    "X, y = sampling_SNLD(graph_list, k = 30, sample_size_list=[1000, 1000])\n",
    "\n",
    "np.savetxt(f'{save_folder}{str(ntwk_list[0])}_{str(ntwk_list[1])}_X.txt', X, fmt='%d')\n",
    "np.savetxt(f'{save_folder}{str(ntwk_list[0])}_{str(ntwk_list[1])}_y.txt', y, fmt='%d')\n"
   ]
  },
  {
   "cell_type": "code",
   "execution_count": 6,
   "metadata": {},
   "outputs": [
    {
     "name": "stdout",
     "output_type": "stream",
     "text": [
      "This is the shape of X: (900, 2000)\n",
      "\n",
      "This is the shape of y: (2000,)\n"
     ]
    }
   ],
   "source": [
    "print(f\"This is the shape of X: {X.shape}\")\n",
    "print(f\"\\nThis is the shape of y: {y.shape}\")"
   ]
  }
 ],
 "metadata": {
  "kernelspec": {
   "display_name": "REU2024",
   "language": "python",
   "name": "python3"
  },
  "language_info": {
   "codemirror_mode": {
    "name": "ipython",
    "version": 3
   },
   "file_extension": ".py",
   "mimetype": "text/x-python",
   "name": "python",
   "nbconvert_exporter": "python",
   "pygments_lexer": "ipython3",
   "version": "3.12.4"
  }
 },
 "nbformat": 4,
 "nbformat_minor": 2
}
