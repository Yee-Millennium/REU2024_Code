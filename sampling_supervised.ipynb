{
 "cells": [
  {
   "cell_type": "code",
   "execution_count": null,
   "metadata": {},
   "outputs": [],
   "source": [
    "import numpy as np \n",
    "from NNetwork import NNetwork as nn\n",
    "from src.sampling.sampling import sampling_SNLD\n",
    "\n",
    "### construct networks\n",
    "ntwk_list = ['Caltech36', 'UCLA26']\n",
    "sampling_alg = 'pivot'\n",
    "save_folder = 'output/'\n",
    "\n",
    "graph_list = []\n",
    "for ntwk in ntwk_list:\n",
    "    ntwk_nonumber = ''.join([i for i in ntwk if not i.isdigit()])\n",
    "    path = \"data/\" + str(ntwk) + '.txt'\n",
    "    G = nn.NNetwork()\n",
    "    G.load_add_edges(path, increment_weights=False, use_genfromtxt=True)\n",
    "    graph_list.append(G)"
   ]
  },
  {
   "cell_type": "code",
   "execution_count": null,
   "metadata": {},
   "outputs": [],
   "source": [
    "# Do sampling, and get the matrix and the feature vector\n",
    "A, y = sampling_SNLD(graph_list, k = 30, sample_size=200)\n",
    "\n",
    "np.savetxt('output/A.txt', A, fmt='%d')\n",
    "np.savetxt('output/y.txt', y, fmt='%d')"
   ]
  }
 ],
 "metadata": {
  "language_info": {
   "name": "python"
  }
 },
 "nbformat": 4,
 "nbformat_minor": 2
}
