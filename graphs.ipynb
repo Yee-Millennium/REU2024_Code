{
 "cells": [
  {
   "cell_type": "code",
   "execution_count": 1,
   "id": "2472ce48-f9c1-425b-8ab6-4aff51f776b5",
   "metadata": {},
   "outputs": [],
   "source": [
    "import roc_curve_test as roc\n",
    "import numpy as np\n",
    "import matplotlib.pyplot as plt\n",
    "from itertools import combinations"
   ]
  },
  {
   "cell_type": "code",
   "execution_count": 2,
   "id": "980aa6bd-c898-4b0b-a209-650cbea309da",
   "metadata": {},
   "outputs": [],
   "source": [
    "NETWORK_LIST = ['Caltech36', 'UCLA26', 'MIT8', 'Harvard1']\n",
    "\n",
    "network_pairs = list(combinations(NETWORK_LIST, 2))"
   ]
  },
  {
   "cell_type": "code",
   "execution_count": 3,
   "id": "2aa64d26-30cf-4556-9dac-f1a42360f490",
   "metadata": {},
   "outputs": [],
   "source": [
    "lower_bound = 5\n",
    "upper_bound = 30"
   ]
  },
  {
   "cell_type": "code",
   "execution_count": 4,
   "id": "174e5a21-dec0-4850-90a0-ed258efefe58",
   "metadata": {},
   "outputs": [],
   "source": [
    "accu = []"
   ]
  },
  {
   "cell_type": "code",
   "execution_count": 7,
   "id": "d9d6f9c1-d277-4b52-8fee-816ed5af5fd4",
   "metadata": {},
   "outputs": [
    {
     "name": "stdout",
     "output_type": "stream",
     "text": [
      "########('MIT8', 'Harvard1') 19############\n",
      "num of subgraphs induced on k-paths: 500\n",
      "num of subgraphs induced on k-paths: 500\n",
      "X_list: (361, 1000)\n",
      "2\n",
      "(1, 500)\n",
      "(1, 500)\n",
      "label_vec: (1, 1000)\n",
      "num of subgraphs induced on k-paths: 500\n",
      "num of subgraphs induced on k-paths: 578\n",
      "X_list: (361, 1078)\n",
      "2\n",
      "(1, 500)\n",
      "(1, 578)\n",
      "label_vec: (1, 1078)\n",
      "initial loading beta [[ 0.53996127  0.86084281  0.24696826 -0.93734759 -0.3176349   0.4528045\n",
      "  -0.38092455 -0.40562871  0.37020815  0.41563104 -0.27943048 -0.65180879\n",
      "   0.84915765 -0.54478686 -0.66171299  0.7910345   0.03783065]]\n"
     ]
    },
    {
     "name": "stderr",
     "output_type": "stream",
     "text": [
      "100%|███████████████████████████████████████████████████████████████████████████████████████████████████████████████████| 250/250 [00:17<00:00, 14.39it/s]\n"
     ]
    },
    {
     "name": "stdout",
     "output_type": "stream",
     "text": [
      "num of subgraphs induced on k-paths: 500\n",
      "num of subgraphs induced on k-paths: 500\n",
      "X_list: (361, 1000)\n",
      "2\n",
      "(1, 500)\n",
      "(1, 500)\n",
      "label_vec: (1, 1000)\n",
      "num of subgraphs induced on k-paths: 500\n",
      "num of subgraphs induced on k-paths: 500\n",
      "X_list: (361, 1000)\n",
      "2\n",
      "(1, 500)\n",
      "(1, 500)\n",
      "label_vec: (1, 1000)\n",
      "########('MIT8', 'Harvard1') 20############\n",
      "num of subgraphs induced on k-paths: 500\n",
      "num of subgraphs induced on k-paths: 500\n",
      "X_list: (400, 1000)\n",
      "2\n",
      "(1, 500)\n",
      "(1, 500)\n",
      "label_vec: (1, 1000)\n",
      "num of subgraphs induced on k-paths: 500\n",
      "num of subgraphs induced on k-paths: 578\n",
      "X_list: (400, 1078)\n",
      "2\n",
      "(1, 500)\n",
      "(1, 578)\n",
      "label_vec: (1, 1078)\n",
      "initial loading beta [[ 0.37807345 -0.80578109 -0.88155101 -0.34516717  0.44457282 -0.4055607\n",
      "   0.64095598  0.60504625  0.784914    0.9503811  -0.20256229 -0.29093635\n",
      "   0.95098542 -0.40364704  0.21969536 -0.44633074  0.05700348]]\n"
     ]
    },
    {
     "name": "stderr",
     "output_type": "stream",
     "text": [
      "100%|███████████████████████████████████████████████████████████████████████████████████████████████████████████████████| 250/250 [00:20<00:00, 12.33it/s]\n"
     ]
    },
    {
     "name": "stdout",
     "output_type": "stream",
     "text": [
      "num of subgraphs induced on k-paths: 500\n",
      "num of subgraphs induced on k-paths: 500\n",
      "X_list: (400, 1000)\n",
      "2\n",
      "(1, 500)\n",
      "(1, 500)\n",
      "label_vec: (1, 1000)\n",
      "num of subgraphs induced on k-paths: 500\n",
      "num of subgraphs induced on k-paths: 500\n",
      "X_list: (400, 1000)\n",
      "2\n",
      "(1, 500)\n",
      "(1, 500)\n",
      "label_vec: (1, 1000)\n",
      "########('MIT8', 'Harvard1') 21############\n",
      "num of subgraphs induced on k-paths: 500\n",
      "num of subgraphs induced on k-paths: 500\n",
      "X_list: (441, 1000)\n",
      "2\n",
      "(1, 500)\n",
      "(1, 500)\n",
      "label_vec: (1, 1000)\n",
      "num of subgraphs induced on k-paths: 500\n",
      "num of subgraphs induced on k-paths: 593\n",
      "X_list: (441, 1093)\n",
      "2\n",
      "(1, 500)\n",
      "(1, 593)\n",
      "label_vec: (1, 1093)\n",
      "initial loading beta [[-0.56671471  0.3089319   0.46312295  0.77926544  0.57859332  0.49904146\n",
      "  -0.89131347 -0.96070442  0.25865758  0.3004732   0.62486311  0.91311864\n",
      "   0.54626703  0.20458891  0.64529928 -0.18484178 -0.22085965]]\n"
     ]
    },
    {
     "name": "stderr",
     "output_type": "stream",
     "text": [
      "100%|███████████████████████████████████████████████████████████████████████████████████████████████████████████████████| 250/250 [00:18<00:00, 13.66it/s]\n"
     ]
    },
    {
     "name": "stdout",
     "output_type": "stream",
     "text": [
      "num of subgraphs induced on k-paths: 500\n",
      "num of subgraphs induced on k-paths: 500\n",
      "X_list: (441, 1000)\n",
      "2\n",
      "(1, 500)\n",
      "(1, 500)\n",
      "label_vec: (1, 1000)\n",
      "num of subgraphs induced on k-paths: 500\n",
      "num of subgraphs induced on k-paths: 500\n",
      "X_list: (441, 1000)\n",
      "2\n",
      "(1, 500)\n",
      "(1, 500)\n",
      "label_vec: (1, 1000)\n",
      "########('MIT8', 'Harvard1') 22############\n",
      "num of subgraphs induced on k-paths: 500\n",
      "num of subgraphs induced on k-paths: 500\n",
      "X_list: (484, 1000)\n",
      "2\n",
      "(1, 500)\n",
      "(1, 500)\n",
      "label_vec: (1, 1000)\n",
      "num of subgraphs induced on k-paths: 500\n",
      "num of subgraphs induced on k-paths: 585\n",
      "X_list: (484, 1085)\n",
      "2\n",
      "(1, 500)\n",
      "(1, 585)\n",
      "label_vec: (1, 1085)\n",
      "initial loading beta [[-0.67304333 -0.55996067  0.93003379  0.53973873 -0.91232019  0.48087082\n",
      "  -0.75573069 -0.39726529  0.75438776  0.60027931  0.94957183  0.69956081\n",
      "   0.04546144  0.51042866 -0.16736223  0.9108487   0.64457132]]\n"
     ]
    },
    {
     "name": "stderr",
     "output_type": "stream",
     "text": [
      "100%|███████████████████████████████████████████████████████████████████████████████████████████████████████████████████| 250/250 [00:19<00:00, 12.69it/s]\n"
     ]
    },
    {
     "name": "stdout",
     "output_type": "stream",
     "text": [
      "num of subgraphs induced on k-paths: 500\n",
      "num of subgraphs induced on k-paths: 500\n",
      "X_list: (484, 1000)\n",
      "2\n",
      "(1, 500)\n",
      "(1, 500)\n",
      "label_vec: (1, 1000)\n",
      "num of subgraphs induced on k-paths: 500\n",
      "num of subgraphs induced on k-paths: 500\n",
      "X_list: (484, 1000)\n",
      "2\n",
      "(1, 500)\n",
      "(1, 500)\n",
      "label_vec: (1, 1000)\n",
      "########('MIT8', 'Harvard1') 23############\n",
      "num of subgraphs induced on k-paths: 500\n",
      "num of subgraphs induced on k-paths: 500\n",
      "X_list: (529, 1000)\n",
      "2\n",
      "(1, 500)\n",
      "(1, 500)\n",
      "label_vec: (1, 1000)\n",
      "num of subgraphs induced on k-paths: 500\n",
      "num of subgraphs induced on k-paths: 579\n",
      "X_list: (529, 1079)\n",
      "2\n",
      "(1, 500)\n",
      "(1, 579)\n",
      "label_vec: (1, 1079)\n",
      "initial loading beta [[ 0.33472967  0.27508179  0.07487862 -0.07674157 -0.30715968  0.32756064\n",
      "  -0.87921773 -0.31446022  0.96954254 -0.25540405 -0.37031989  0.80099725\n",
      "   0.96578243  0.34803934 -0.67028593 -0.49174393 -0.09838416]]\n"
     ]
    },
    {
     "name": "stderr",
     "output_type": "stream",
     "text": [
      "100%|███████████████████████████████████████████████████████████████████████████████████████████████████████████████████| 250/250 [00:20<00:00, 12.35it/s]\n"
     ]
    },
    {
     "name": "stdout",
     "output_type": "stream",
     "text": [
      "num of subgraphs induced on k-paths: 500\n",
      "num of subgraphs induced on k-paths: 500\n",
      "X_list: (529, 1000)\n",
      "2\n",
      "(1, 500)\n",
      "(1, 500)\n",
      "label_vec: (1, 1000)\n",
      "num of subgraphs induced on k-paths: 500\n",
      "num of subgraphs induced on k-paths: 500\n",
      "X_list: (529, 1000)\n",
      "2\n",
      "(1, 500)\n",
      "(1, 500)\n",
      "label_vec: (1, 1000)\n",
      "########('MIT8', 'Harvard1') 24############\n",
      "num of subgraphs induced on k-paths: 500\n",
      "num of subgraphs induced on k-paths: 500\n",
      "X_list: (576, 1000)\n",
      "2\n",
      "(1, 500)\n",
      "(1, 500)\n",
      "label_vec: (1, 1000)\n",
      "num of subgraphs induced on k-paths: 500\n",
      "num of subgraphs induced on k-paths: 577\n",
      "X_list: (576, 1077)\n",
      "2\n",
      "(1, 500)\n",
      "(1, 577)\n",
      "label_vec: (1, 1077)\n",
      "initial loading beta [[-0.88556445  0.15095607  0.10215589  0.45700286 -0.55353003 -0.01292322\n",
      "  -0.43804373 -0.8189342  -0.65045965 -0.13998922  0.87987593  0.19842872\n",
      "  -0.98725654 -0.34918502 -0.38624338  0.68547029 -0.16379526]]\n"
     ]
    },
    {
     "name": "stderr",
     "output_type": "stream",
     "text": [
      "100%|███████████████████████████████████████████████████████████████████████████████████████████████████████████████████| 250/250 [00:20<00:00, 12.11it/s]\n"
     ]
    },
    {
     "name": "stdout",
     "output_type": "stream",
     "text": [
      "num of subgraphs induced on k-paths: 500\n",
      "num of subgraphs induced on k-paths: 500\n",
      "X_list: (576, 1000)\n",
      "2\n",
      "(1, 500)\n",
      "(1, 500)\n",
      "label_vec: (1, 1000)\n",
      "num of subgraphs induced on k-paths: 500\n",
      "num of subgraphs induced on k-paths: 500\n",
      "X_list: (576, 1000)\n",
      "2\n",
      "(1, 500)\n",
      "(1, 500)\n",
      "label_vec: (1, 1000)\n",
      "########('MIT8', 'Harvard1') 25############\n",
      "num of subgraphs induced on k-paths: 500\n",
      "num of subgraphs induced on k-paths: 500\n",
      "X_list: (625, 1000)\n",
      "2\n",
      "(1, 500)\n",
      "(1, 500)\n",
      "label_vec: (1, 1000)\n",
      "num of subgraphs induced on k-paths: 500\n",
      "num of subgraphs induced on k-paths: 587\n",
      "X_list: (625, 1087)\n",
      "2\n",
      "(1, 500)\n",
      "(1, 587)\n",
      "label_vec: (1, 1087)\n",
      "initial loading beta [[-0.85369525  0.45449764  0.16088794 -0.25466803 -0.99889012 -0.46187534\n",
      "   0.56185565  0.53983471  0.97133125 -0.8333797   0.81451952  0.65386943\n",
      "   0.92920649  0.41209616 -0.93543902  0.97168864 -0.14880989]]\n"
     ]
    },
    {
     "name": "stderr",
     "output_type": "stream",
     "text": [
      "100%|███████████████████████████████████████████████████████████████████████████████████████████████████████████████████| 250/250 [00:19<00:00, 12.56it/s]\n"
     ]
    },
    {
     "name": "stdout",
     "output_type": "stream",
     "text": [
      "num of subgraphs induced on k-paths: 500\n",
      "num of subgraphs induced on k-paths: 500\n",
      "X_list: (625, 1000)\n",
      "2\n",
      "(1, 500)\n",
      "(1, 500)\n",
      "label_vec: (1, 1000)\n",
      "num of subgraphs induced on k-paths: 500\n",
      "num of subgraphs induced on k-paths: 500\n",
      "X_list: (625, 1000)\n",
      "2\n",
      "(1, 500)\n",
      "(1, 500)\n",
      "label_vec: (1, 1000)\n",
      "########('MIT8', 'Harvard1') 26############\n",
      "num of subgraphs induced on k-paths: 500\n",
      "num of subgraphs induced on k-paths: 500\n",
      "X_list: (676, 1000)\n",
      "2\n",
      "(1, 500)\n",
      "(1, 500)\n",
      "label_vec: (1, 1000)\n",
      "num of subgraphs induced on k-paths: 500\n",
      "num of subgraphs induced on k-paths: 595\n",
      "X_list: (676, 1095)\n",
      "2\n",
      "(1, 500)\n",
      "(1, 595)\n",
      "label_vec: (1, 1095)\n",
      "initial loading beta [[ 0.72538429  0.96466451 -0.33430624 -0.56741457 -0.09320591  0.21830312\n",
      "   0.88044273  0.94851381 -0.01856528  0.44584144 -0.39987255  0.20940613\n",
      "  -0.06883746 -0.06946175 -0.48319932  0.17091951 -0.16871665]]\n"
     ]
    },
    {
     "name": "stderr",
     "output_type": "stream",
     "text": [
      "100%|███████████████████████████████████████████████████████████████████████████████████████████████████████████████████| 250/250 [00:23<00:00, 10.75it/s]\n"
     ]
    },
    {
     "name": "stdout",
     "output_type": "stream",
     "text": [
      "num of subgraphs induced on k-paths: 500\n",
      "num of subgraphs induced on k-paths: 500\n",
      "X_list: (676, 1000)\n",
      "2\n",
      "(1, 500)\n",
      "(1, 500)\n",
      "label_vec: (1, 1000)\n",
      "num of subgraphs induced on k-paths: 500\n",
      "num of subgraphs induced on k-paths: 500\n",
      "X_list: (676, 1000)\n",
      "2\n",
      "(1, 500)\n",
      "(1, 500)\n",
      "label_vec: (1, 1000)\n",
      "########('MIT8', 'Harvard1') 27############\n",
      "num of subgraphs induced on k-paths: 500\n",
      "num of subgraphs induced on k-paths: 500\n",
      "X_list: (729, 1000)\n",
      "2\n",
      "(1, 500)\n",
      "(1, 500)\n",
      "label_vec: (1, 1000)\n",
      "num of subgraphs induced on k-paths: 500\n",
      "num of subgraphs induced on k-paths: 591\n",
      "X_list: (729, 1091)\n",
      "2\n",
      "(1, 500)\n",
      "(1, 591)\n",
      "label_vec: (1, 1091)\n",
      "initial loading beta [[ 0.60890837  0.44589455  0.68770307  0.12560116 -0.975314   -0.10687924\n",
      "  -0.92892423  0.49839452  0.14011042  0.34742796  0.96566386 -0.36287948\n",
      "   0.01045665  0.2378303   0.05583705  0.01896472  0.26404529]]\n"
     ]
    },
    {
     "name": "stderr",
     "output_type": "stream",
     "text": [
      "100%|███████████████████████████████████████████████████████████████████████████████████████████████████████████████████| 250/250 [00:21<00:00, 11.40it/s]\n"
     ]
    },
    {
     "name": "stdout",
     "output_type": "stream",
     "text": [
      "num of subgraphs induced on k-paths: 500\n",
      "num of subgraphs induced on k-paths: 500\n",
      "X_list: (729, 1000)\n",
      "2\n",
      "(1, 500)\n",
      "(1, 500)\n",
      "label_vec: (1, 1000)\n",
      "num of subgraphs induced on k-paths: 500\n",
      "num of subgraphs induced on k-paths: 500\n",
      "X_list: (729, 1000)\n",
      "2\n",
      "(1, 500)\n",
      "(1, 500)\n",
      "label_vec: (1, 1000)\n",
      "########('MIT8', 'Harvard1') 28############\n",
      "num of subgraphs induced on k-paths: 500\n",
      "num of subgraphs induced on k-paths: 500\n",
      "X_list: (784, 1000)\n",
      "2\n",
      "(1, 500)\n",
      "(1, 500)\n",
      "label_vec: (1, 1000)\n",
      "num of subgraphs induced on k-paths: 500\n",
      "num of subgraphs induced on k-paths: 574\n",
      "X_list: (784, 1074)\n",
      "2\n",
      "(1, 500)\n",
      "(1, 574)\n",
      "label_vec: (1, 1074)\n",
      "initial loading beta [[ 0.73531677 -0.25568452 -0.11703325  0.71617278 -0.3132218   0.6018182\n",
      "   0.84480127 -0.90980956  0.70959397  0.7819181   0.87987393  0.83710579\n",
      "   0.41605006 -0.65065932 -0.74416546 -0.16939143  0.0105113 ]]\n"
     ]
    },
    {
     "name": "stderr",
     "output_type": "stream",
     "text": [
      "100%|███████████████████████████████████████████████████████████████████████████████████████████████████████████████████| 250/250 [00:21<00:00, 11.66it/s]\n"
     ]
    },
    {
     "name": "stdout",
     "output_type": "stream",
     "text": [
      "num of subgraphs induced on k-paths: 500\n",
      "num of subgraphs induced on k-paths: 500\n",
      "X_list: (784, 1000)\n",
      "2\n",
      "(1, 500)\n",
      "(1, 500)\n",
      "label_vec: (1, 1000)\n",
      "num of subgraphs induced on k-paths: 500\n",
      "num of subgraphs induced on k-paths: 500\n",
      "X_list: (784, 1000)\n",
      "2\n",
      "(1, 500)\n",
      "(1, 500)\n",
      "label_vec: (1, 1000)\n",
      "########('MIT8', 'Harvard1') 29############\n",
      "num of subgraphs induced on k-paths: 500\n",
      "num of subgraphs induced on k-paths: 500\n",
      "X_list: (841, 1000)\n",
      "2\n",
      "(1, 500)\n",
      "(1, 500)\n",
      "label_vec: (1, 1000)\n",
      "num of subgraphs induced on k-paths: 500\n",
      "num of subgraphs induced on k-paths: 617\n",
      "X_list: (841, 1117)\n",
      "2\n",
      "(1, 500)\n",
      "(1, 617)\n",
      "label_vec: (1, 1117)\n",
      "initial loading beta [[-0.55465345  0.90323458  0.3935771  -0.25002687 -0.66598508 -0.36748388\n",
      "   0.13477302  0.19516563 -0.10774152 -0.17626302 -0.50288413 -0.12757518\n",
      "   0.85866499 -0.62417386 -0.22269365 -0.56027696 -0.78127959]]\n"
     ]
    },
    {
     "name": "stderr",
     "output_type": "stream",
     "text": [
      "100%|███████████████████████████████████████████████████████████████████████████████████████████████████████████████████| 250/250 [00:25<00:00,  9.65it/s]\n"
     ]
    },
    {
     "name": "stdout",
     "output_type": "stream",
     "text": [
      "num of subgraphs induced on k-paths: 500\n",
      "num of subgraphs induced on k-paths: 500\n",
      "X_list: (841, 1000)\n",
      "2\n",
      "(1, 500)\n",
      "(1, 500)\n",
      "label_vec: (1, 1000)\n",
      "num of subgraphs induced on k-paths: 500\n",
      "num of subgraphs induced on k-paths: 500\n",
      "X_list: (841, 1000)\n",
      "2\n",
      "(1, 500)\n",
      "(1, 500)\n",
      "label_vec: (1, 1000)\n"
     ]
    }
   ],
   "source": [
    "i = network_pairs[5]\n",
    "for j in range(19, upper_bound):\n",
    "    print(f\"########{i} {j}############\")\n",
    "    # accu.append(roc.run(network1 = i[0], network2 = i[1], k = j))\n",
    "    accu.insert(0, roc.run(network1 = i[0], network2 = i[1], k = j))"
   ]
  },
  {
   "cell_type": "code",
   "execution_count": 8,
   "id": "258c6f33-872f-4b95-9e73-5adb13775426",
   "metadata": {},
   "outputs": [
    {
     "name": "stdout",
     "output_type": "stream",
     "text": [
      "25\n"
     ]
    }
   ],
   "source": [
    "print(len(accu))"
   ]
  },
  {
   "cell_type": "code",
   "execution_count": 11,
   "id": "4baf5d7a-bb3d-46b2-9778-49da71cbdbea",
   "metadata": {},
   "outputs": [
    {
     "data": {
      "text/plain": [
       "<Figure size 640x480 with 0 Axes>"
      ]
     },
     "metadata": {},
     "output_type": "display_data"
    }
   ],
   "source": [
    "accu1 = [i[0] for i in accu]\n",
    "thresholds = [i[1] for i in accu]\n",
    "x_values = np.arange(lower_bound, upper_bound)\n",
    "plt.plot(x_values, accu1, label='Accuracy 1')\n",
    "plt.plot(x_values, thresholds, label='Thresholds')\n",
    "plt.legend()\n",
    "\n",
    "plt.savefig(f\"Output/accu_plots/{i[0]}{i[1]}.png\")\n",
    "plt.clf()"
   ]
  },
  {
   "cell_type": "code",
   "execution_count": null,
   "id": "09257925-c189-4846-b663-ac68e724b779",
   "metadata": {},
   "outputs": [],
   "source": [
    "for i in network_pairs:\n",
    "    accu = []\n",
    "    for j in range(lower_bound, upper_bound):\n",
    "        accu.append(roc.run(network1 = i[0], network2 = i[1], k = j))\n",
    "    accu1 = [i[0] for i in accu]\n",
    "    thresholds = [i[1] for i in accu]\n",
    "    x_values = np.arange(lower_bound, upper_bound)\n",
    "    plt.plot(x_values, accu1, label='Accuracy 1')\n",
    "    plt.plot(x_values, thresholds, label='Thresholds')\n",
    "    plt.legend()\n",
    "    \n",
    "    plt.savefig(f\"Output/accu_plots/{i[0]}{i[1]}.png\")\n",
    "    plt.clf()"
   ]
  }
 ],
 "metadata": {
  "kernelspec": {
   "display_name": "Python 3 (ipykernel)",
   "language": "python",
   "name": "python3"
  },
  "language_info": {
   "codemirror_mode": {
    "name": "ipython",
    "version": 3
   },
   "file_extension": ".py",
   "mimetype": "text/x-python",
   "name": "python",
   "nbconvert_exporter": "python",
   "pygments_lexer": "ipython3",
   "version": "3.12.4"
  }
 },
 "nbformat": 4,
 "nbformat_minor": 5
}
