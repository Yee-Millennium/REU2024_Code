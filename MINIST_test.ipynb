{
 "cells": [
  {
   "cell_type": "code",
   "execution_count": 1,
   "metadata": {},
   "outputs": [
    {
     "name": "stderr",
     "output_type": "stream",
     "text": [
      "/Users/yee/Research/REU_2024/REU2024_code/src/supervised_NDL/SMF_BCD.py:143: SyntaxWarning: invalid escape sequence '\\h'\n",
      "  '''\n",
      "/Users/yee/Research/REU_2024/REU2024_code/src/supervised_NDL/SMF_BCD.py:197: SyntaxWarning: invalid escape sequence '\\h'\n",
      "  '''\n",
      "/Users/yee/Research/REU_2024/REU2024_code/src/supervised_NDL/SMF_BCD.py:268: SyntaxWarning: invalid escape sequence '\\h'\n",
      "  '''\n",
      "/Users/yee/Research/REU_2024/REU2024_code/src/supervised_NDL/SMF_BCD.py:940: SyntaxWarning: invalid escape sequence '\\h'\n",
      "  '''\n",
      "/Users/yee/Research/REU_2024/REU2024_code/src/supervised_NDL/SMF_BCD.py:1069: SyntaxWarning: invalid escape sequence '\\h'\n",
      "  '''\n",
      "/Users/yee/Research/REU_2024/REU2024_code/src/supervised_NDL/SMF_BCD.py:1123: SyntaxWarning: invalid escape sequence '\\s'\n",
      "  \"\"\"\n",
      "/Users/yee/Research/REU_2024/REU2024_code/src/supervised_NDL/SMF_BCD.py:1189: SyntaxWarning: invalid escape sequence '\\P'\n",
      "  '''\n"
     ]
    }
   ],
   "source": [
    "import numpy as np\n",
    "import pandas as pd\n",
    "from sklearn.datasets import fetch_openml\n",
    "from sklearn.utils.extmath import softmax\n",
    "import matplotlib.pyplot as plt\n",
    "from matplotlib import pyplot\n",
    "from sklearn import metrics\n",
    "from sklearn.metrics import accuracy_score\n",
    "from sklearn.metrics import confusion_matrix\n",
    "from mpl_toolkits.axes_grid1 import make_axes_locatable\n",
    "from src.supervised_NDL import SMF_BCD\n",
    "plt.rcParams['font.family'] = 'serif'\n",
    "plt.rcParams['font.serif'] = ['Times New Roman'] + plt.rcParams['font.serif']"
   ]
  },
  {
   "cell_type": "code",
   "execution_count": 2,
   "metadata": {},
   "outputs": [
    {
     "name": "stdout",
     "output_type": "stream",
     "text": [
      "X.shape (70000, 784)\n",
      "y.shape (70000,)\n"
     ]
    },
    {
     "data": {
      "text/plain": [
       "'\\nEach row of X is a vectroization of an image of 28 x 28 = 784 pixels.  \\nThe corresponding row of y holds the true class label from {0,1, .. , 9}.\\n'"
      ]
     },
     "execution_count": 2,
     "metadata": {},
     "output_type": "execute_result"
    }
   ],
   "source": [
    "# Load data from https://www.openml.org/d/554\n",
    "X, y = fetch_openml('mnist_784', version=1, return_X_y=True)\n",
    "# X = X.values  ### Uncomment this line if you are having type errors in plotting. It is loading as a pandas dataframe, but our indexing is for numpy array. \n",
    "X = X / 255.\n",
    "\n",
    "print('X.shape', X.shape)\n",
    "print('y.shape', y.shape)\n",
    "\n",
    "'''\n",
    "Each row of X is a vectroization of an image of 28 x 28 = 784 pixels.  \n",
    "The corresponding row of y holds the true class label from {0,1, .. , 9}.\n",
    "'''"
   ]
  },
  {
   "cell_type": "code",
   "execution_count": 3,
   "metadata": {},
   "outputs": [
    {
     "name": "stdout",
     "output_type": "stream",
     "text": [
      "(9, 70000)\n"
     ]
    }
   ],
   "source": [
    "### Change the dimension of y for SMF_BCD\n",
    "y_matrix = np.zeros((9, y.shape[0]))\n",
    "for i in range(y.shape[0]):\n",
    "    label = int(y[i])\n",
    "    if label == 0:\n",
    "        continue\n",
    "    else:\n",
    "        y_matrix[label-1, i] = 1\n",
    "\n",
    "print(y_matrix.shape)\n",
    "    "
   ]
  },
  {
   "cell_type": "code",
   "execution_count": 4,
   "metadata": {},
   "outputs": [
    {
     "name": "stdout",
     "output_type": "stream",
     "text": [
      "(70000, 784)\n"
     ]
    }
   ],
   "source": [
    "### Scale the input data\n",
    "from sklearn import preprocessing\n",
    "\n",
    "scaler = preprocessing.StandardScaler().fit(X)\n",
    "\n",
    "X= scaler.transform(X)\n",
    "\n",
    "print(X.shape)"
   ]
  },
  {
   "cell_type": "code",
   "execution_count": 5,
   "metadata": {},
   "outputs": [
    {
     "name": "stdout",
     "output_type": "stream",
     "text": [
      "initial loading beta [[ 0.92342721 -0.0430203  -0.11583335  0.1717022  -0.73224765 -0.38874805\n",
      "   0.92105144  0.755781   -0.86084266  0.97870434 -0.84329069  0.3424137\n",
      "   0.02463375 -0.26051916 -0.12292074  0.36835846 -0.59291798]\n",
      " [-0.77398838  0.97704767 -0.4171869  -0.66918679  0.61156385  0.71679212\n",
      "  -0.44852466 -0.6034407  -0.61174641  0.72839687 -0.77032456  0.40062778\n",
      "   0.2452359   0.32026116  0.86217027 -0.83267546 -0.83065804]\n",
      " [-0.72088971 -0.27029184 -0.59693713  0.15001942  0.15351659  0.12984427\n",
      "  -0.89689169  0.0470345  -0.81789181  0.9580622  -0.51760332  0.21057708\n",
      "   0.30248882 -0.48426317  0.01381867 -0.58391119  0.61383347]\n",
      " [-0.59499436 -0.90588684 -0.24058043  0.55292112 -0.64308732  0.28516517\n",
      "  -0.45993986 -0.95826333 -0.95530744  0.74492409 -0.56510484 -0.11490575\n",
      "   0.48497238  0.96032768 -0.38705164  0.9906957   0.8517733 ]\n",
      " [-0.0319196   0.63025677  0.24128076  0.31600933  0.38175736  0.66574833\n",
      "   0.57123778  0.05754944 -0.60633519  0.95028433  0.71406119 -0.81647631\n",
      "   0.37274733 -0.35488598 -0.24201141 -0.69824032 -0.81501734]\n",
      " [ 0.33812921 -0.77685291  0.50148577  0.09999832 -0.92278746 -0.85957695\n",
      "  -0.20171388 -0.02223047  0.45257912  0.08688156  0.20188495 -0.04709883\n",
      "   0.98357765  0.48406983 -0.88115693 -0.1422014  -0.80515835]\n",
      " [ 0.53288218 -0.83839511 -0.87919187  0.67523031 -0.19257648 -0.39879498\n",
      "   0.26959951 -0.44170996  0.25905972 -0.23859987 -0.51067372 -0.85096008\n",
      "  -0.35843079 -0.93767517 -0.99068201  0.88363374 -0.92992514]\n",
      " [ 0.78269976  0.35063935  0.74238269  0.30285482  0.90693187 -0.41006921\n",
      "   0.93848442 -0.01877726 -0.67959282  0.25090729  0.95984057 -0.85269081\n",
      "   0.43924081  0.5788971   0.96183999 -0.83580562 -0.29167534]\n",
      " [-0.79729551  0.79034063  0.53831268  0.6198971   0.28667836  0.68161169\n",
      "   0.20947284  0.54576408 -0.58415705 -0.11300267 -0.95147959  0.04667008\n",
      "   0.10449564  0.91505335  0.44998308  0.86410516 -0.74420971]]\n"
     ]
    },
    {
     "name": "stderr",
     "output_type": "stream",
     "text": [
      "  0%|          | 0/250 [00:00<?, ?it/s]"
     ]
    },
    {
     "name": "stdout",
     "output_type": "stream",
     "text": [
      " !!! Running LogisticRegression in sklearn\n"
     ]
    }
   ],
   "source": [
    "SMF_Train = SMF_BCD.SDL_BCD([X.T, y_matrix], X_test=[X.T, y_matrix], xi= 5, n_components=16)\n",
    "\n",
    "results_dict = SMF_Train.fit(iter=250, subsample_size=None,# search_radius_const=200*np.linalg.norm(X),\n",
    "                                if_compute_recons_error=True, if_validate=True)"
   ]
  },
  {
   "cell_type": "markdown",
   "metadata": {},
   "source": []
  }
 ],
 "metadata": {
  "kernelspec": {
   "display_name": "REU2024",
   "language": "python",
   "name": "python3"
  },
  "language_info": {
   "codemirror_mode": {
    "name": "ipython",
    "version": 3
   },
   "file_extension": ".py",
   "mimetype": "text/x-python",
   "name": "python",
   "nbconvert_exporter": "python",
   "pygments_lexer": "ipython3",
   "version": "3.12.4"
  }
 },
 "nbformat": 4,
 "nbformat_minor": 2
}
