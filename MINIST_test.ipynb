{
 "cells": [
  {
   "cell_type": "code",
   "execution_count": 1,
   "metadata": {},
   "outputs": [
    {
     "name": "stderr",
     "output_type": "stream",
     "text": [
      "/Users/yee/Research/REU_2024/REU2024_code/src/supervised_NDL/SMF_BCD.py:143: SyntaxWarning: invalid escape sequence '\\h'\n",
      "  '''\n",
      "/Users/yee/Research/REU_2024/REU2024_code/src/supervised_NDL/SMF_BCD.py:197: SyntaxWarning: invalid escape sequence '\\h'\n",
      "  '''\n",
      "/Users/yee/Research/REU_2024/REU2024_code/src/supervised_NDL/SMF_BCD.py:268: SyntaxWarning: invalid escape sequence '\\h'\n",
      "  '''\n",
      "/Users/yee/Research/REU_2024/REU2024_code/src/supervised_NDL/SMF_BCD.py:939: SyntaxWarning: invalid escape sequence '\\h'\n",
      "  '''\n",
      "/Users/yee/Research/REU_2024/REU2024_code/src/supervised_NDL/SMF_BCD.py:1068: SyntaxWarning: invalid escape sequence '\\h'\n",
      "  '''\n",
      "/Users/yee/Research/REU_2024/REU2024_code/src/supervised_NDL/SMF_BCD.py:1122: SyntaxWarning: invalid escape sequence '\\s'\n",
      "  \"\"\"\n",
      "/Users/yee/Research/REU_2024/REU2024_code/src/supervised_NDL/SMF_BCD.py:1188: SyntaxWarning: invalid escape sequence '\\P'\n",
      "  '''\n"
     ]
    }
   ],
   "source": [
    "import numpy as np\n",
    "import pandas as pd\n",
    "from sklearn.datasets import fetch_openml\n",
    "from sklearn.utils.extmath import softmax\n",
    "import matplotlib.pyplot as plt\n",
    "from matplotlib import pyplot\n",
    "from sklearn import metrics\n",
    "from sklearn.metrics import accuracy_score\n",
    "from sklearn.metrics import confusion_matrix\n",
    "from mpl_toolkits.axes_grid1 import make_axes_locatable\n",
    "from src.supervised_NDL import SMF_BCD\n",
    "plt.rcParams['font.family'] = 'serif'\n",
    "plt.rcParams['font.serif'] = ['Times New Roman'] + plt.rcParams['font.serif']"
   ]
  },
  {
   "cell_type": "code",
   "execution_count": 2,
   "metadata": {},
   "outputs": [
    {
     "name": "stdout",
     "output_type": "stream",
     "text": [
      "X.shape (70000, 784)\n",
      "y.shape (70000,)\n"
     ]
    },
    {
     "data": {
      "text/plain": [
       "'\\nEach row of X is a vectroization of an image of 28 x 28 = 784 pixels.  \\nThe corresponding row of y holds the true class label from {0,1, .. , 9}.\\n'"
      ]
     },
     "execution_count": 2,
     "metadata": {},
     "output_type": "execute_result"
    }
   ],
   "source": [
    "# Load data from https://www.openml.org/d/554\n",
    "X, y = fetch_openml('mnist_784', version=1, return_X_y=True)\n",
    "# X = X.values  ### Uncomment this line if you are having type errors in plotting. It is loading as a pandas dataframe, but our indexing is for numpy array. \n",
    "X = X / 255.\n",
    "\n",
    "print('X.shape', X.shape)\n",
    "print('y.shape', y.shape)\n",
    "\n",
    "'''\n",
    "Each row of X is a vectroization of an image of 28 x 28 = 784 pixels.  \n",
    "The corresponding row of y holds the true class label from {0,1, .. , 9}.\n",
    "'''"
   ]
  },
  {
   "cell_type": "code",
   "execution_count": 3,
   "metadata": {},
   "outputs": [
    {
     "name": "stdout",
     "output_type": "stream",
     "text": [
      "(9, 70000)\n"
     ]
    }
   ],
   "source": [
    "### Change the dimension of y for SMF_BCD\n",
    "y_matrix = np.zeros((9, y.shape[0]))\n",
    "for i in range(y.shape[0]):\n",
    "    label = int(y[i])\n",
    "    if label == 0:\n",
    "        continue\n",
    "    else:\n",
    "        y_matrix[label-1, i] = 1\n",
    "\n",
    "print(y_matrix.shape)\n",
    "    "
   ]
  },
  {
   "cell_type": "code",
   "execution_count": 4,
   "metadata": {},
   "outputs": [
    {
     "name": "stdout",
     "output_type": "stream",
     "text": [
      "(70000, 784)\n"
     ]
    }
   ],
   "source": [
    "### Scale the input data\n",
    "from sklearn import preprocessing\n",
    "\n",
    "scaler = preprocessing.StandardScaler().fit(X)\n",
    "\n",
    "X= scaler.transform(X)\n",
    "\n",
    "print(X.shape)"
   ]
  },
  {
   "cell_type": "code",
   "execution_count": 5,
   "metadata": {},
   "outputs": [
    {
     "name": "stdout",
     "output_type": "stream",
     "text": [
      "initial loading beta [[-0.75788781 -0.78813967 -0.62807601 -0.14048289 -0.39544446  0.55528476\n",
      "  -0.89969155 -0.03794094  0.52179771  0.86738508  0.03965033  0.11930459\n",
      "   0.23454559  0.58854182 -0.08188835  0.60962126 -0.62227794]\n",
      " [-0.24230093 -0.93247078 -0.22465456  0.81904876 -0.67498078  0.87485296\n",
      "  -0.2168073  -0.29821293  0.64162037  0.84414141 -0.42409043  0.81967969\n",
      "  -0.56155913 -0.16833082  0.38720464 -0.52046965  0.77056908]\n",
      " [ 0.84826119  0.15474226  0.60832383 -0.27022496  0.98038656  0.70150365\n",
      "   0.29499273  0.16431167  0.0187175   0.85954752 -0.23704103  0.18964376\n",
      "  -0.62389271 -0.08007561  0.29608519  0.32361219 -0.92381465]\n",
      " [-0.2578451  -0.79600196  0.79602006  0.92499966  0.57979098  0.22194001\n",
      "   0.3889454  -0.82569695  0.69263455  0.96170477  0.92587564  0.57035157\n",
      "   0.44258211 -0.33595606  0.65257892  0.9612456   0.35008048]\n",
      " [-0.47732435  0.0852024   0.63149877  0.22543401 -0.97543485  0.31038468\n",
      "   0.48084774 -0.90603275  0.93839936  0.16713398 -0.3378518  -0.63944286\n",
      "  -0.3864681  -0.76533083  0.50714283  0.30142946 -0.24594582]\n",
      " [ 0.19690312 -0.4920915  -0.8120936  -0.16292706  0.19872564  0.90478097\n",
      "   0.05475016  0.51675105  0.03224317  0.77272495  0.94542239  0.92050268\n",
      "   0.91127051 -0.74933771  0.91941454  0.99370827  0.94867297]\n",
      " [ 0.78501859 -0.09237839  0.4983761   0.81631748 -0.3751572  -0.78524146\n",
      "   0.43773886 -0.66898727  0.40486125 -0.94478591 -0.44117529  0.01010678\n",
      "  -0.25376642  0.2618491  -0.78513136 -0.27768468  0.50626938]\n",
      " [-0.91401115  0.92320935  0.2988539  -0.73558012 -0.39745337 -0.57260581\n",
      "   0.54666862  0.91678284  0.41442714 -0.56877693  0.6966626   0.40652634\n",
      "  -0.89766188 -0.77509929  0.27762674  0.51896899  0.84743298]\n",
      " [-0.96036818  0.95899026  0.06728625  0.39378492  0.92602628  0.14708333\n",
      "  -0.49329625 -0.7799795   0.85001185 -0.33310511 -0.85373722 -0.71893146\n",
      "   0.21285381  0.43101354  0.90349423 -0.20232911  0.05499893]]\n"
     ]
    },
    {
     "name": "stderr",
     "output_type": "stream",
     "text": [
      "  0%|          | 0/250 [00:00<?, ?it/s]/Users/yee/miniforge3/envs/REU2024/lib/python3.12/site-packages/sklearn/linear_model/_logistic.py:469: ConvergenceWarning: lbfgs failed to converge (status=1):\n",
      "STOP: TOTAL NO. of ITERATIONS REACHED LIMIT.\n",
      "\n",
      "Increase the number of iterations (max_iter) or scale the data as shown in:\n",
      "    https://scikit-learn.org/stable/modules/preprocessing.html\n",
      "Please also refer to the documentation for alternative solver options:\n",
      "    https://scikit-learn.org/stable/modules/linear_model.html#logistic-regression\n",
      "  n_iter_i = _check_optimize_result(\n"
     ]
    }
   ],
   "source": [
    "SMF_Train = SMF_BCD.SDL_BCD([X.T, y_matrix], X_test=[X.T, y_matrix], xi= 5, n_components=16)\n",
    "\n",
    "results_dict = SMF_Train.fit(iter=250, subsample_size=None,# search_radius_const=200*np.linalg.norm(X),\n",
    "                                if_compute_recons_error=True, if_validate=True)"
   ]
  },
  {
   "cell_type": "markdown",
   "metadata": {},
   "source": []
  }
 ],
 "metadata": {
  "kernelspec": {
   "display_name": "REU2024",
   "language": "python",
   "name": "python3"
  },
  "language_info": {
   "codemirror_mode": {
    "name": "ipython",
    "version": 3
   },
   "file_extension": ".py",
   "mimetype": "text/x-python",
   "name": "python",
   "nbconvert_exporter": "python",
   "pygments_lexer": "ipython3",
   "version": "3.12.4"
  }
 },
 "nbformat": 4,
 "nbformat_minor": 2
}
