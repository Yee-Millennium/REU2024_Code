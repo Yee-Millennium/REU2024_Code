{
 "cells": [
  {
   "cell_type": "code",
   "execution_count": 2,
   "id": "1453d92c-a331-4b99-9565-fd9d5beabea8",
   "metadata": {},
   "outputs": [],
   "source": [
    "import helper\n",
    "import matplotlib.pyplot as plt\n",
    "import numpy as np\n",
    "from sklearn.linear_model import LogisticRegression\n",
    "from sklearn.metrics import roc_curve, roc_auc_score"
   ]
  },
  {
   "cell_type": "code",
   "execution_count": 3,
   "id": "35987ca4-bf83-4f0c-8fc5-e33d78978eea",
   "metadata": {},
   "outputs": [
    {
     "name": "stdout",
     "output_type": "stream",
     "text": [
      "num of subgraphs induced on k-paths: 500\n",
      "num of subgraphs induced on k-paths: 500\n",
      "X_list: (400, 1000)\n",
      "2\n",
      "(1, 500)\n",
      "(1, 500)\n",
      "label_vec: (1, 1000)\n",
      "num of subgraphs induced on k-paths: 500\n",
      "num of subgraphs induced on k-paths: 944\n",
      "X_list: (400, 1444)\n",
      "2\n",
      "(1, 500)\n",
      "(1, 944)\n",
      "label_vec: (1, 1444)\n",
      "initial loading beta [[ 0.89090197 -0.75713903  0.94289973 -0.19786327  0.12434711 -0.077401\n",
      "  -0.63440921 -0.37909101 -0.9000316   0.15798909  0.82647764 -0.22573419\n",
      "  -0.27455855 -0.27066785  0.58191586 -0.52274137 -0.77995985]]\n"
     ]
    },
    {
     "name": "stderr",
     "output_type": "stream",
     "text": [
      "  0%|                                                                                                                             | 0/250 [00:00<?, ?it/s]"
     ]
    },
    {
     "name": "stdout",
     "output_type": "stream",
     "text": [
      "--- Training --- [threshold, AUC] =  [np.float64(0.768), np.float64(0.99)]\n",
      "--- Iteration 0: Training loss --- [Data, Label, Total] = [53021.409193.3, 195.851695.3, 265302.897658.3]\n"
     ]
    },
    {
     "name": "stderr",
     "output_type": "stream",
     "text": [
      "  3%|███▋                                                                                                                 | 8/250 [00:00<00:05, 40.46it/s]"
     ]
    },
    {
     "name": "stdout",
     "output_type": "stream",
     "text": [
      "--- Training --- [threshold, AUC] =  [np.float64(0.744), np.float64(0.992)]\n",
      "--- Iteration 10: Training loss --- [Data, Label, Total] = [34130.739813.3, 171.748552.3, 170825.447616.3]\n",
      "!!! pred_type filter\n"
     ]
    },
    {
     "name": "stderr",
     "output_type": "stream",
     "text": [
      "  8%|████████▊                                                                                                           | 19/250 [00:01<00:16, 14.18it/s]"
     ]
    },
    {
     "name": "stdout",
     "output_type": "stream",
     "text": [
      "--- Validation --- [threshold, AUC, Accuracy, F score] =  [np.float64(0.744), np.float64(0.992), np.float64(0.958), np.float64(0.967)]\n",
      "--- Training --- [threshold, AUC] =  [np.float64(0.713), np.float64(0.992)]\n",
      "--- Iteration 20: Training loss --- [Data, Label, Total] = [31737.773037.3, 166.706858.3, 158855.572045.3]\n",
      "!!! pred_type filter\n"
     ]
    },
    {
     "name": "stderr",
     "output_type": "stream",
     "text": [
      " 10%|████████████                                                                                                        | 26/250 [00:02<00:27,  8.24it/s]"
     ]
    },
    {
     "name": "stdout",
     "output_type": "stream",
     "text": [
      "--- Validation --- [threshold, AUC, Accuracy, F score] =  [np.float64(0.713), np.float64(0.992), np.float64(0.964), np.float64(0.972)]\n",
      "--- Training --- [threshold, AUC] =  [np.float64(0.662), np.float64(0.992)]\n",
      "--- Iteration 30: Training loss --- [Data, Label, Total] = [30683.569799.3, 165.505767.3, 153583.354760.3]\n",
      "!!! pred_type filter\n"
     ]
    },
    {
     "name": "stderr",
     "output_type": "stream",
     "text": [
      " 14%|████████████████▏                                                                                                   | 35/250 [00:03<00:25,  8.52it/s]"
     ]
    },
    {
     "name": "stdout",
     "output_type": "stream",
     "text": [
      "--- Validation --- [threshold, AUC, Accuracy, F score] =  [np.float64(0.662), np.float64(0.992), np.float64(0.968), np.float64(0.975)]\n"
     ]
    },
    {
     "name": "stderr",
     "output_type": "stream",
     "text": [
      " 16%|██████████████████▌                                                                                                 | 40/250 [00:04<00:17, 11.91it/s]"
     ]
    },
    {
     "name": "stdout",
     "output_type": "stream",
     "text": [
      "--- Training --- [threshold, AUC] =  [np.float64(0.672), np.float64(0.993)]\n",
      "--- Iteration 40: Training loss --- [Data, Label, Total] = [29941.177826.3, 164.981265.3, 149870.870395.3]\n",
      "!!! pred_type filter\n"
     ]
    },
    {
     "name": "stderr",
     "output_type": "stream",
     "text": [
      " 20%|██████████████████████▋                                                                                             | 49/250 [00:05<00:18, 10.74it/s]"
     ]
    },
    {
     "name": "stdout",
     "output_type": "stream",
     "text": [
      "--- Validation --- [threshold, AUC, Accuracy, F score] =  [np.float64(0.672), np.float64(0.993), np.float64(0.97), np.float64(0.976)]\n",
      "--- Training --- [threshold, AUC] =  [np.float64(0.696), np.float64(0.993)]\n",
      "--- Iteration 50: Training loss --- [Data, Label, Total] = [29366.977910.3, 164.602286.3, 146999.491836.3]\n",
      "!!! pred_type filter\n"
     ]
    },
    {
     "name": "stderr",
     "output_type": "stream",
     "text": [
      " 23%|██████████████████████████▉                                                                                         | 58/250 [00:05<00:16, 11.50it/s]"
     ]
    },
    {
     "name": "stdout",
     "output_type": "stream",
     "text": [
      "--- Validation --- [threshold, AUC, Accuracy, F score] =  [np.float64(0.696), np.float64(0.993), np.float64(0.97), np.float64(0.976)]\n",
      "--- Training --- [threshold, AUC] =  [np.float64(0.699), np.float64(0.993)]\n",
      "--- Iteration 60: Training loss --- [Data, Label, Total] = [28966.334479.3, 165.015393.3, 144996.687788.3]\n",
      "!!! pred_type filter\n"
     ]
    },
    {
     "name": "stderr",
     "output_type": "stream",
     "text": [
      " 27%|███████████████████████████████                                                                                     | 67/250 [00:06<00:15, 11.80it/s]"
     ]
    },
    {
     "name": "stdout",
     "output_type": "stream",
     "text": [
      "--- Validation --- [threshold, AUC, Accuracy, F score] =  [np.float64(0.699), np.float64(0.993), np.float64(0.97), np.float64(0.976)]\n",
      "--- Training --- [threshold, AUC] =  [np.float64(0.711), np.float64(0.993)]\n",
      "--- Iteration 70: Training loss --- [Data, Label, Total] = [28701.728515.3, 165.363549.3, 143674.006125.3]\n",
      "!!! pred_type filter\n"
     ]
    },
    {
     "name": "stderr",
     "output_type": "stream",
     "text": [
      " 30%|███████████████████████████████████▎                                                                                | 76/250 [00:07<00:15, 11.34it/s]"
     ]
    },
    {
     "name": "stdout",
     "output_type": "stream",
     "text": [
      "--- Validation --- [threshold, AUC, Accuracy, F score] =  [np.float64(0.711), np.float64(0.993), np.float64(0.969), np.float64(0.976)]\n",
      "--- Training --- [threshold, AUC] =  [np.float64(0.716), np.float64(0.993)]\n",
      "--- Iteration 80: Training loss --- [Data, Label, Total] = [28530.519488.3, 165.628917.3, 142818.226357.3]\n",
      "!!! pred_type filter\n"
     ]
    },
    {
     "name": "stderr",
     "output_type": "stream",
     "text": [
      " 35%|████████████████████████████████████████▎                                                                           | 87/250 [00:08<00:12, 12.83it/s]"
     ]
    },
    {
     "name": "stdout",
     "output_type": "stream",
     "text": [
      "--- Validation --- [threshold, AUC, Accuracy, F score] =  [np.float64(0.716), np.float64(0.993), np.float64(0.969), np.float64(0.976)]\n",
      "--- Training --- [threshold, AUC] =  [np.float64(0.718), np.float64(0.993)]\n",
      "--- Iteration 90: Training loss --- [Data, Label, Total] = [28418.129348.3, 165.862001.3, 142256.508743.3]\n",
      "!!! pred_type filter\n"
     ]
    },
    {
     "name": "stderr",
     "output_type": "stream",
     "text": [
      " 39%|█████████████████████████████████████████████                                                                       | 97/250 [00:09<00:11, 13.34it/s]"
     ]
    },
    {
     "name": "stdout",
     "output_type": "stream",
     "text": [
      "--- Validation --- [threshold, AUC, Accuracy, F score] =  [np.float64(0.718), np.float64(0.993), np.float64(0.969), np.float64(0.976)]\n",
      "--- Training --- [threshold, AUC] =  [np.float64(0.711), np.float64(0.993)]\n",
      "--- Iteration 100: Training loss --- [Data, Label, Total] = [28339.759323.3, 165.839919.3, 141864.636535.3]\n",
      "!!! pred_type filter\n"
     ]
    },
    {
     "name": "stderr",
     "output_type": "stream",
     "text": [
      " 43%|█████████████████████████████████████████████████▏                                                                 | 107/250 [00:10<00:10, 13.73it/s]"
     ]
    },
    {
     "name": "stdout",
     "output_type": "stream",
     "text": [
      "--- Validation --- [threshold, AUC, Accuracy, F score] =  [np.float64(0.711), np.float64(0.993), np.float64(0.968), np.float64(0.975)]\n",
      "--- Training --- [threshold, AUC] =  [np.float64(0.701), np.float64(0.993)]\n",
      "--- Iteration 110: Training loss --- [Data, Label, Total] = [28280.614151.3, 166.187503.3, 141569.258257.3]\n",
      "!!! pred_type filter\n"
     ]
    },
    {
     "name": "stderr",
     "output_type": "stream",
     "text": [
      " 47%|█████████████████████████████████████████████████████▊                                                             | 117/250 [00:11<00:09, 13.82it/s]"
     ]
    },
    {
     "name": "stdout",
     "output_type": "stream",
     "text": [
      "--- Validation --- [threshold, AUC, Accuracy, F score] =  [np.float64(0.701), np.float64(0.993), np.float64(0.968), np.float64(0.975)]\n",
      "--- Training --- [threshold, AUC] =  [np.float64(0.709), np.float64(0.993)]\n",
      "--- Iteration 120: Training loss --- [Data, Label, Total] = [28233.869873.3, 166.361434.3, 141335.710801.3]\n",
      "!!! pred_type filter\n"
     ]
    },
    {
     "name": "stderr",
     "output_type": "stream",
     "text": [
      " 50%|█████████████████████████████████████████████████████████▌                                                         | 125/250 [00:12<00:10, 12.08it/s]"
     ]
    },
    {
     "name": "stdout",
     "output_type": "stream",
     "text": [
      "--- Validation --- [threshold, AUC, Accuracy, F score] =  [np.float64(0.709), np.float64(0.993), np.float64(0.967), np.float64(0.974)]\n"
     ]
    },
    {
     "name": "stderr",
     "output_type": "stream",
     "text": [
      " 51%|██████████████████████████████████████████████████████████▉                                                        | 128/250 [00:12<00:08, 13.75it/s]"
     ]
    },
    {
     "name": "stdout",
     "output_type": "stream",
     "text": [
      "--- Training --- [threshold, AUC] =  [np.float64(0.725), np.float64(0.993)]\n",
      "--- Iteration 130: Training loss --- [Data, Label, Total] = [28195.288198.3, 166.316227.3, 141142.757216.3]\n",
      "!!! pred_type filter\n"
     ]
    },
    {
     "name": "stderr",
     "output_type": "stream",
     "text": [
      " 55%|███████████████████████████████████████████████████████████████                                                    | 137/250 [00:13<00:10, 11.28it/s]"
     ]
    },
    {
     "name": "stdout",
     "output_type": "stream",
     "text": [
      "--- Validation --- [threshold, AUC, Accuracy, F score] =  [np.float64(0.725), np.float64(0.993), np.float64(0.966), np.float64(0.974)]\n",
      "--- Training --- [threshold, AUC] =  [np.float64(0.723), np.float64(0.993)]\n",
      "--- Iteration 140: Training loss --- [Data, Label, Total] = [28162.931952.3, 166.364380.3, 140981.024139.3]\n",
      "!!! pred_type filter\n"
     ]
    },
    {
     "name": "stderr",
     "output_type": "stream",
     "text": [
      " 59%|███████████████████████████████████████████████████████████████████▌                                               | 147/250 [00:14<00:08, 12.59it/s]"
     ]
    },
    {
     "name": "stdout",
     "output_type": "stream",
     "text": [
      "--- Validation --- [threshold, AUC, Accuracy, F score] =  [np.float64(0.723), np.float64(0.993), np.float64(0.966), np.float64(0.974)]\n",
      "--- Training --- [threshold, AUC] =  [np.float64(0.724), np.float64(0.993)]\n",
      "--- Iteration 150: Training loss --- [Data, Label, Total] = [28135.950570.3, 166.455677.3, 140846.208526.3]\n",
      "!!! pred_type filter\n"
     ]
    },
    {
     "name": "stderr",
     "output_type": "stream",
     "text": [
      " 62%|███████████████████████████████████████████████████████████████████████▊                                           | 156/250 [00:15<00:07, 12.53it/s]"
     ]
    },
    {
     "name": "stdout",
     "output_type": "stream",
     "text": [
      "--- Validation --- [threshold, AUC, Accuracy, F score] =  [np.float64(0.724), np.float64(0.993), np.float64(0.966), np.float64(0.974)]\n",
      "--- Training --- [threshold, AUC] =  [np.float64(0.719), np.float64(0.993)]\n",
      "--- Iteration 160: Training loss --- [Data, Label, Total] = [28114.522769.3, 166.545272.3, 140739.159115.3]\n",
      "!!! pred_type filter\n"
     ]
    },
    {
     "name": "stderr",
     "output_type": "stream",
     "text": [
      " 66%|████████████████████████████████████████████████████████████████████████████▎                                      | 166/250 [00:16<00:06, 12.56it/s]"
     ]
    },
    {
     "name": "stdout",
     "output_type": "stream",
     "text": [
      "--- Validation --- [threshold, AUC, Accuracy, F score] =  [np.float64(0.719), np.float64(0.993), np.float64(0.966), np.float64(0.974)]\n",
      "--- Training --- [threshold, AUC] =  [np.float64(0.715), np.float64(0.993)]\n",
      "--- Iteration 170: Training loss --- [Data, Label, Total] = [28096.985791.3, 166.476627.3, 140651.405580.3]\n",
      "!!! pred_type filter\n"
     ]
    },
    {
     "name": "stderr",
     "output_type": "stream",
     "text": [
      " 70%|████████████████████████████████████████████████████████████████████████████████▉                                  | 176/250 [00:16<00:05, 13.05it/s]"
     ]
    },
    {
     "name": "stdout",
     "output_type": "stream",
     "text": [
      "--- Validation --- [threshold, AUC, Accuracy, F score] =  [np.float64(0.715), np.float64(0.993), np.float64(0.966), np.float64(0.974)]\n",
      "--- Training --- [threshold, AUC] =  [np.float64(0.713), np.float64(0.993)]\n",
      "--- Iteration 180: Training loss --- [Data, Label, Total] = [28082.200752.3, 166.490616.3, 140577.494374.3]\n",
      "!!! pred_type filter\n"
     ]
    },
    {
     "name": "stderr",
     "output_type": "stream",
     "text": [
      " 74%|█████████████████████████████████████████████████████████████████████████████████████▌                             | 186/250 [00:17<00:05, 12.66it/s]"
     ]
    },
    {
     "name": "stdout",
     "output_type": "stream",
     "text": [
      "--- Validation --- [threshold, AUC, Accuracy, F score] =  [np.float64(0.713), np.float64(0.993), np.float64(0.966), np.float64(0.974)]\n",
      "--- Training --- [threshold, AUC] =  [np.float64(0.718), np.float64(0.993)]\n",
      "--- Iteration 190: Training loss --- [Data, Label, Total] = [28069.589171.3, 166.442005.3, 140514.387861.3]\n",
      "!!! pred_type filter\n"
     ]
    },
    {
     "name": "stderr",
     "output_type": "stream",
     "text": [
      " 78%|██████████████████████████████████████████████████████████████████████████████████████████▏                        | 196/250 [00:18<00:04, 12.57it/s]"
     ]
    },
    {
     "name": "stdout",
     "output_type": "stream",
     "text": [
      "--- Validation --- [threshold, AUC, Accuracy, F score] =  [np.float64(0.718), np.float64(0.993), np.float64(0.965), np.float64(0.973)]\n",
      "--- Training --- [threshold, AUC] =  [np.float64(0.716), np.float64(0.993)]\n",
      "--- Iteration 200: Training loss --- [Data, Label, Total] = [28058.893000.3, 166.540082.3, 140461.005083.3]\n",
      "!!! pred_type filter\n"
     ]
    },
    {
     "name": "stderr",
     "output_type": "stream",
     "text": [
      " 82%|██████████████████████████████████████████████████████████████████████████████████████████████▊                    | 206/250 [00:19<00:03, 12.59it/s]"
     ]
    },
    {
     "name": "stdout",
     "output_type": "stream",
     "text": [
      "--- Validation --- [threshold, AUC, Accuracy, F score] =  [np.float64(0.716), np.float64(0.993), np.float64(0.965), np.float64(0.973)]\n",
      "--- Training --- [threshold, AUC] =  [np.float64(0.714), np.float64(0.993)]\n",
      "--- Iteration 210: Training loss --- [Data, Label, Total] = [28049.840900.3, 166.536928.3, 140415.741430.3]\n",
      "!!! pred_type filter\n"
     ]
    },
    {
     "name": "stderr",
     "output_type": "stream",
     "text": [
      " 86%|███████████████████████████████████████████████████████████████████████████████████████████████████▎               | 216/250 [00:20<00:02, 12.95it/s]"
     ]
    },
    {
     "name": "stdout",
     "output_type": "stream",
     "text": [
      "--- Validation --- [threshold, AUC, Accuracy, F score] =  [np.float64(0.714), np.float64(0.993), np.float64(0.965), np.float64(0.973)]\n",
      "--- Training --- [threshold, AUC] =  [np.float64(0.724), np.float64(0.993)]\n",
      "--- Iteration 220: Training loss --- [Data, Label, Total] = [28041.922800.3, 166.435354.3, 140376.049356.3]\n",
      "!!! pred_type filter\n"
     ]
    },
    {
     "name": "stderr",
     "output_type": "stream",
     "text": [
      " 90%|███████████████████████████████████████████████████████████████████████████████████████████████████████            | 224/250 [00:21<00:02,  9.64it/s]"
     ]
    },
    {
     "name": "stdout",
     "output_type": "stream",
     "text": [
      "--- Validation --- [threshold, AUC, Accuracy, F score] =  [np.float64(0.724), np.float64(0.993), np.float64(0.964), np.float64(0.972)]\n"
     ]
    },
    {
     "name": "stderr",
     "output_type": "stream",
     "text": [
      " 92%|█████████████████████████████████████████████████████████████████████████████████████████████████████████▎         | 229/250 [00:22<00:02, 10.33it/s]"
     ]
    },
    {
     "name": "stdout",
     "output_type": "stream",
     "text": [
      "--- Training --- [threshold, AUC] =  [np.float64(0.718), np.float64(0.993)]\n",
      "--- Iteration 230: Training loss --- [Data, Label, Total] = [28034.814263.3, 166.471343.3, 140340.542657.3]\n",
      "!!! pred_type filter\n"
     ]
    },
    {
     "name": "stderr",
     "output_type": "stream",
     "text": [
      " 94%|███████████████████████████████████████████████████████████████████████████████████████████████████████████▋       | 234/250 [00:24<00:03,  4.77it/s]"
     ]
    },
    {
     "name": "stdout",
     "output_type": "stream",
     "text": [
      "--- Validation --- [threshold, AUC, Accuracy, F score] =  [np.float64(0.718), np.float64(0.993), np.float64(0.964), np.float64(0.972)]\n"
     ]
    },
    {
     "name": "stderr",
     "output_type": "stream",
     "text": [
      " 96%|█████████████████████████████████████████████████████████████████████████████████████████████████████████████▉     | 239/250 [00:24<00:01,  7.33it/s]"
     ]
    },
    {
     "name": "stdout",
     "output_type": "stream",
     "text": [
      "--- Training --- [threshold, AUC] =  [np.float64(0.718), np.float64(0.993)]\n",
      "--- Iteration 240: Training loss --- [Data, Label, Total] = [28028.351091.3, 166.496644.3, 140308.252101.3]\n",
      "!!! pred_type filter\n"
     ]
    },
    {
     "name": "stderr",
     "output_type": "stream",
     "text": [
      " 98%|█████████████████████████████████████████████████████████████████████████████████████████████████████████████████▏ | 246/250 [00:26<00:00,  6.10it/s]"
     ]
    },
    {
     "name": "stdout",
     "output_type": "stream",
     "text": [
      "--- Validation --- [threshold, AUC, Accuracy, F score] =  [np.float64(0.718), np.float64(0.993), np.float64(0.964), np.float64(0.972)]\n"
     ]
    },
    {
     "name": "stderr",
     "output_type": "stream",
     "text": [
      "100%|███████████████████████████████████████████████████████████████████████████████████████████████████████████████████| 250/250 [00:26<00:00,  9.53it/s]\n"
     ]
    },
    {
     "name": "stdout",
     "output_type": "stream",
     "text": [
      "!!! pred_type filter\n",
      "num of subgraphs induced on k-paths: 500\n",
      "num of subgraphs induced on k-paths: 500\n",
      "X_list: (400, 1000)\n",
      "2\n",
      "(1, 500)\n",
      "(1, 500)\n",
      "label_vec: (1, 1000)\n",
      "num of subgraphs induced on k-paths: 500\n",
      "num of subgraphs induced on k-paths: 500\n",
      "X_list: (400, 1000)\n",
      "2\n",
      "(1, 500)\n",
      "(1, 500)\n",
      "label_vec: (1, 1000)\n"
     ]
    }
   ],
   "source": [
    "network1 = \"Caltech36\"\n",
    "network2 = \"UCLA26\"\n",
    "messages = \"\"\n",
    "output, y = helper.similarity(network1, network2, k = 20)\n",
    "# for k in range(15, 45, 5):\n",
    "#     output = helper.similarity(network1, network2, k = k)\n",
    "    # # messages += f\"{k}: {helper.similarity(network1, network2, k = k)}\\n\"\n",
    "    # print(messages)"
   ]
  },
  {
   "cell_type": "code",
   "execution_count": 5,
   "id": "fefa6e56-9452-4472-bf04-def3e1c0f920",
   "metadata": {},
   "outputs": [
    {
     "name": "stdout",
     "output_type": "stream",
     "text": [
      "AUC: 0.98826875\n",
      "Optimal Threshold: 0.7432007591912642\n"
     ]
    }
   ],
   "source": [
    "# Compute the ROC curve and AUC\n",
    "pred = output\n",
    "fpr, tpr, thresholds = roc_curve(y, pred)\n",
    "auc = roc_auc_score(y, pred)\n",
    "print(f\"AUC: {auc}\")\n",
    "optimal_idx = np.argmax(tpr - fpr)\n",
    "optimal_threshold = thresholds[optimal_idx]\n",
    "print(f\"Optimal Threshold: {optimal_threshold}\")"
   ]
  },
  {
   "cell_type": "code",
   "execution_count": 6,
   "id": "49282a3f-ba9b-4db3-bfe0-dc454f5b8673",
   "metadata": {},
   "outputs": [],
   "source": [
    "def predict_with_threshold(network, k, W, beta, threshold):\n",
    "    prediction = live_sample(network, network, k=k)[0]\n",
    "    predictions = []\n",
    "    for j in range(prediction.shape[0]):\n",
    "        a = beta[:, 1:] @ W.T @ prediction[:, j] + beta[:, 0]\n",
    "        prob = 1 / (1 + np.exp(-a)[0])\n",
    "        pred_label = 1 if prob >= threshold else 0\n",
    "        predictions.append(pred_label)\n",
    "    return np.array(predictions)"
   ]
  },
  {
   "cell_type": "code",
   "execution_count": 7,
   "id": "a108f181-c371-4d37-be47-f1bbedbdf91b",
   "metadata": {},
   "outputs": [
    {
     "ename": "NameError",
     "evalue": "name 'W' is not defined",
     "output_type": "error",
     "traceback": [
      "\u001b[0;31m---------------------------------------------------------------------------\u001b[0m",
      "\u001b[0;31mNameError\u001b[0m                                 Traceback (most recent call last)",
      "Cell \u001b[0;32mIn[7], line 1\u001b[0m\n\u001b[0;32m----> 1\u001b[0m test_predictions_network1 \u001b[38;5;241m=\u001b[39m predict_with_threshold(network1, \u001b[38;5;241m20\u001b[39m, \u001b[43mW\u001b[49m, beta, optimal_threshold)\n",
      "\u001b[0;31mNameError\u001b[0m: name 'W' is not defined"
     ]
    }
   ],
   "source": [
    "test_predictions_network1 = predict_with_threshold(network1, 20, W, beta, optimal_threshold)"
   ]
  },
  {
   "cell_type": "code",
   "execution_count": 47,
   "id": "7b25c485-4273-465a-ae10-1c9a156d3f91",
   "metadata": {},
   "outputs": [
    {
     "name": "stdout",
     "output_type": "stream",
     "text": [
      "0.955\n"
     ]
    }
   ],
   "source": [
    "output_pre = []\n",
    "for i in output:\n",
    "    if i > .6:\n",
    "        output_pre.append(1)\n",
    "    else:\n",
    "        output_pre.append(0)\n",
    "acc = [1 if output_pre[i] == y[i] else 0 for i in range(len(output_pre))]\n",
    "print(sum(acc)/len(acc))"
   ]
  },
  {
   "cell_type": "code",
   "execution_count": 48,
   "id": "93a50d91-1f80-4dc6-be69-bbfcd7fd4758",
   "metadata": {},
   "outputs": [],
   "source": [
    "acc = [1 if output_pre[i] == y[i] else 0 for i in range(len(output_pre))]"
   ]
  },
  {
   "cell_type": "code",
   "execution_count": 49,
   "id": "24720854-8888-43cf-9dc3-95ab0763a7f2",
   "metadata": {},
   "outputs": [
    {
     "name": "stdout",
     "output_type": "stream",
     "text": [
      "0.955\n"
     ]
    }
   ],
   "source": [
    "print(sum(acc)/len(acc))"
   ]
  },
  {
   "cell_type": "code",
   "execution_count": 50,
   "id": "9c806650-1ab9-485b-9bf8-9e7d9c792b61",
   "metadata": {},
   "outputs": [
    {
     "name": "stdout",
     "output_type": "stream",
     "text": [
      "800\n"
     ]
    }
   ],
   "source": [
    "print(len(output))"
   ]
  },
  {
   "cell_type": "code",
   "execution_count": 51,
   "id": "033fc786-20ad-4987-8892-062401155ae4",
   "metadata": {},
   "outputs": [
    {
     "ename": "SyntaxError",
     "evalue": "incomplete input (2696994970.py, line 2)",
     "output_type": "error",
     "traceback": [
      "\u001b[0;36m  Cell \u001b[0;32mIn[51], line 2\u001b[0;36m\u001b[0m\n\u001b[0;31m    \u001b[0m\n\u001b[0m    ^\u001b[0m\n\u001b[0;31mSyntaxError\u001b[0m\u001b[0;31m:\u001b[0m incomplete input\n"
     ]
    }
   ],
   "source": [
    "with open('output.txt', 'w') as file:\n",
    "    "
   ]
  },
  {
   "cell_type": "code",
   "execution_count": 52,
   "id": "b2b6a8d4-d84a-49c0-87bb-17b890024542",
   "metadata": {},
   "outputs": [
    {
     "data": {
      "text/plain": [
       "(800,)"
      ]
     },
     "execution_count": 52,
     "metadata": {},
     "output_type": "execute_result"
    }
   ],
   "source": [
    "output = np.array(output)\n",
    "output.shape"
   ]
  },
  {
   "cell_type": "code",
   "execution_count": 53,
   "id": "92fb2298-1a95-492a-ace2-6e8394aa44f3",
   "metadata": {},
   "outputs": [],
   "source": [
    "x = np.arange(output.shape[0])"
   ]
  },
  {
   "cell_type": "code",
   "execution_count": null,
   "id": "49afb06d-22d0-475a-96ab-b7be05ac18e4",
   "metadata": {},
   "outputs": [],
   "source": [
    "x"
   ]
  },
  {
   "cell_type": "code",
   "execution_count": 54,
   "id": "e6aef9db-611e-45c0-88ac-2b7da4e33aed",
   "metadata": {},
   "outputs": [
    {
     "data": {
      "text/plain": [
       "[<matplotlib.lines.Line2D at 0x16806a720>]"
      ]
     },
     "execution_count": 54,
     "metadata": {},
     "output_type": "execute_result"
    },
    {
     "data": {
      "image/png": "[encoded data removed]",
      "text/plain": [
       "<Figure size 640x480 with 1 Axes>"
      ]
     },
     "metadata": {},
     "output_type": "display_data"
    }
   ],
   "source": [
    "plt.plot(x, output_pre)"
   ]
  },
  {
   "cell_type": "code",
   "execution_count": null,
   "id": "a455e6d2-28ce-4598-8bfd-136643537ad8",
   "metadata": {},
   "outputs": [],
   "source": [
    "# Compute the ROC curve and AUC\n",
    "fpr, tpr, thresholds = roc_curve(y, pred)\n",
    "auc = roc_auc_score(y, pred)\n",
    "print(f\"AUC: {auc}\")\n",
    "optimal_idx = np.argmax(tpr - fpr)\n",
    "optimal_threshold = thresholds[optimal_idx]\n",
    "print(f\"Optimal Threshold: {optimal_threshold}\")"
   ]
  },
  {
   "cell_type": "code",
   "execution_count": null,
   "id": "cde0184e-decc-4037-8737-ade917eef65a",
   "metadata": {},
   "outputs": [],
   "source": [
    "print(output)"
   ]
  },
  {
   "cell_type": "code",
   "execution_count": null,
   "id": "92c6a9f9-9905-4075-abff-d8892e77f2b4",
   "metadata": {},
   "outputs": [],
   "source": [
    "network1 = \"Caltech36\"\n",
    "network2 = \"UCLA26\"\n",
    "messages_xi = \"\"\n",
    "for xi in range(25, 30):\n",
    "    xi2 = xi/3\n",
    "    messages_xi += f\"{xi2}: {helper.similarity(network1, network2, \"Harvard1\", k = 15, xi = xi2)}\\n\"\n",
    "    print(messages_xi)"
   ]
  },
  {
   "cell_type": "code",
   "execution_count": null,
   "id": "46f52310-9aa1-4004-b3a5-81ade9f1bc19",
   "metadata": {},
   "outputs": [],
   "source": [
    "network1 = \"Caltech36\"\n",
    "network2 = \"UCLA26\"\n",
    "messages_n = \"\"\n",
    "for n in range(3, 40):\n",
    "    messages_n += f\"{n}: {helper.similarity(network1, network2, \"Harvard1\", k = 15, n_components = n)}\\n\"\n",
    "    print(messages_n)"
   ]
  },
  {
   "cell_type": "code",
   "execution_count": null,
   "id": "e045b8a0-105b-4564-84fb-a95cadef4e25",
   "metadata": {},
   "outputs": [],
   "source": []
  },
  {
   "cell_type": "code",
   "execution_count": null,
   "id": "fba1c8d8-1b72-4726-b401-58abae1878ae",
   "metadata": {},
   "outputs": [],
   "source": [
    "def live_sample(graph1, graph2, k=30, tolerance=0.05):\n",
    "    ntwk_list = [graph1, graph2]\n",
    "    graph_list = []\n",
    "    for ntwk in ntwk_list:\n",
    "        path = \"data/\" + str(ntwk) + '.txt'\n",
    "        G = nn.NNetwork()\n",
    "        G.load_add_edges(path, increment_weights=False, use_genfromtxt=True)\n",
    "        graph_list.append(G)\n",
    "    if graph1 == graph2:\n",
    "        return sampling(graph_list, k=k, sample_size_list =[500,500])\n"
   ]
  }
 ],
 "metadata": {
  "kernelspec": {
   "display_name": "Python 3 (ipykernel)",
   "language": "python",
   "name": "python3"
  },
  "language_info": {
   "codemirror_mode": {
    "name": "ipython",
    "version": 3
   },
   "file_extension": ".py",
   "mimetype": "text/x-python",
   "name": "python",
   "nbconvert_exporter": "python",
   "pygments_lexer": "ipython3",
   "version": "3.12.4"
  }
 },
 "nbformat": 4,
 "nbformat_minor": 5
}
