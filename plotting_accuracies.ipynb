{
 "cells": [
  {
   "cell_type": "code",
   "execution_count": 1,
   "id": "e65395c2-ac0e-4e41-9f5f-51f5ceb6cc6c",
   "metadata": {},
   "outputs": [],
   "source": [
    "import roc_curve_test as roc\n",
    "import numpy as np\n",
    "import matplotlib.pyplot as plt"
   ]
  },
  {
   "cell_type": "code",
   "execution_count": 2,
   "id": "1eef8d95-462b-4779-bd88-df61dda377bb",
   "metadata": {},
   "outputs": [],
   "source": [
    "accu = []"
   ]
  },
  {
   "cell_type": "code",
   "execution_count": 3,
   "id": "c1fa7e78-dec2-409c-a33e-52c322d539ed",
   "metadata": {},
   "outputs": [
    {
     "name": "stdout",
     "output_type": "stream",
     "text": [
      "5\n",
      "num of subgraphs induced on k-paths: 500\n",
      "num of subgraphs induced on k-paths: 500\n",
      "X_list: (25, 1000)\n",
      "2\n",
      "(1, 500)\n",
      "(1, 500)\n",
      "label_vec: (1, 1000)\n",
      "num of subgraphs induced on k-paths: 500\n",
      "num of subgraphs induced on k-paths: 595\n",
      "X_list: (25, 1095)\n",
      "2\n",
      "(1, 500)\n",
      "(1, 595)\n",
      "label_vec: (1, 1095)\n",
      "initial loading beta [[-0.87116947 -0.02751061 -0.59208829 -0.28860192  0.48218173  0.98075324\n",
      "  -0.46933047 -0.07402815  0.3633939  -0.49628337 -0.30389495  0.48368676\n",
      "   0.56543587  0.64063677  0.20718399  0.92351801 -0.77559544]]\n"
     ]
    },
    {
     "name": "stderr",
     "output_type": "stream",
     "text": [
      "  0%|                                                                                                                                  | 0/250 [00:00<?, ?it/s]"
     ]
    },
    {
     "name": "stdout",
     "output_type": "stream",
     "text": [
      "--- Training --- [threshold, AUC] =  [np.float64(0.683), np.float64(0.716)]\n",
      "--- Iteration 0: Training loss --- [Data, Label, Total] = [2340.785145.3, 672.576880.3, 12376.502607.3]\n",
      "--- Training --- [threshold, AUC] =  [np.float64(0.699), np.float64(0.718)]\n",
      "--- Iteration 10: Training loss --- [Data, Label, Total] = [338.574551.3, 669.536772.3, 2362.409527.3]\n",
      "!!! pred_type filter\n"
     ]
    },
    {
     "name": "stderr",
     "output_type": "stream",
     "text": [
      "  4%|█████▎                                                                                                                   | 11/250 [00:00<00:09, 25.69it/s]"
     ]
    },
    {
     "name": "stdout",
     "output_type": "stream",
     "text": [
      "--- Validation --- [threshold, AUC, Accuracy, F score] =  [np.float64(0.699), np.float64(0.718), np.float64(0.679), np.float64(0.68)]\n",
      "--- Training --- [threshold, AUC] =  [np.float64(0.697), np.float64(0.72)]\n",
      "--- Iteration 20: Training loss --- [Data, Label, Total] = [51.437663.3, 668.795683.3, 925.983998.3]\n",
      "!!! pred_type filter\n"
     ]
    },
    {
     "name": "stderr",
     "output_type": "stream",
     "text": [
      "  8%|██████████▏                                                                                                              | 21/250 [00:00<00:10, 22.63it/s]"
     ]
    },
    {
     "name": "stdout",
     "output_type": "stream",
     "text": [
      "--- Validation --- [threshold, AUC, Accuracy, F score] =  [np.float64(0.697), np.float64(0.72), np.float64(0.679), np.float64(0.68)]\n",
      "--- Training --- [threshold, AUC] =  [np.float64(0.697), np.float64(0.72)]\n",
      "--- Iteration 30: Training loss --- [Data, Label, Total] = [8.250957.3, 668.845555.3, 710.100341.3]\n",
      "!!! pred_type filter\n"
     ]
    },
    {
     "name": "stderr",
     "output_type": "stream",
     "text": [
      " 12%|███████████████                                                                                                          | 31/250 [00:01<00:09, 23.54it/s]"
     ]
    },
    {
     "name": "stdout",
     "output_type": "stream",
     "text": [
      "--- Validation --- [threshold, AUC, Accuracy, F score] =  [np.float64(0.697), np.float64(0.72), np.float64(0.679), np.float64(0.68)]\n",
      "--- Training --- [threshold, AUC] =  [np.float64(0.695), np.float64(0.72)]\n",
      "--- Iteration 40: Training loss --- [Data, Label, Total] = [1.839237.3, 668.988590.3, 678.184776.3]\n",
      "!!! pred_type filter\n"
     ]
    },
    {
     "name": "stderr",
     "output_type": "stream",
     "text": [
      " 16%|███████████████████▊                                                                                                     | 41/250 [00:01<00:08, 23.38it/s]"
     ]
    },
    {
     "name": "stdout",
     "output_type": "stream",
     "text": [
      "--- Validation --- [threshold, AUC, Accuracy, F score] =  [np.float64(0.695), np.float64(0.72), np.float64(0.679), np.float64(0.68)]\n",
      "--- Training --- [threshold, AUC] =  [np.float64(0.696), np.float64(0.72)]\n",
      "--- Iteration 50: Training loss --- [Data, Label, Total] = [0.620494.3, 669.047746.3, 672.150214.3]\n",
      "!!! pred_type filter\n"
     ]
    },
    {
     "name": "stderr",
     "output_type": "stream",
     "text": [
      " 20%|████████████████████████▋                                                                                                | 51/250 [00:02<00:08, 23.96it/s]"
     ]
    },
    {
     "name": "stdout",
     "output_type": "stream",
     "text": [
      "--- Validation --- [threshold, AUC, Accuracy, F score] =  [np.float64(0.696), np.float64(0.72), np.float64(0.679), np.float64(0.68)]\n",
      "--- Training --- [threshold, AUC] =  [np.float64(0.695), np.float64(0.72)]\n",
      "--- Iteration 60: Training loss --- [Data, Label, Total] = [0.311832.3, 669.096077.3, 670.655234.3]\n",
      "!!! pred_type filter\n"
     ]
    },
    {
     "name": "stderr",
     "output_type": "stream",
     "text": [
      " 24%|█████████████████████████████▌                                                                                           | 61/250 [00:02<00:07, 24.03it/s]"
     ]
    },
    {
     "name": "stdout",
     "output_type": "stream",
     "text": [
      "--- Validation --- [threshold, AUC, Accuracy, F score] =  [np.float64(0.695), np.float64(0.72), np.float64(0.679), np.float64(0.68)]\n",
      "--- Training --- [threshold, AUC] =  [np.float64(0.695), np.float64(0.72)]\n",
      "--- Iteration 70: Training loss --- [Data, Label, Total] = [0.208970.3, 669.116006.3, 670.160858.3]\n",
      "!!! pred_type filter\n"
     ]
    },
    {
     "name": "stderr",
     "output_type": "stream",
     "text": [
      " 28%|██████████████████████████████████▎                                                                                      | 71/250 [00:02<00:07, 24.11it/s]"
     ]
    },
    {
     "name": "stdout",
     "output_type": "stream",
     "text": [
      "--- Validation --- [threshold, AUC, Accuracy, F score] =  [np.float64(0.695), np.float64(0.72), np.float64(0.679), np.float64(0.68)]\n",
      "--- Training --- [threshold, AUC] =  [np.float64(0.695), np.float64(0.72)]\n",
      "--- Iteration 80: Training loss --- [Data, Label, Total] = [0.160833.3, 669.077099.3, 669.881262.3]\n",
      "!!! pred_type filter\n"
     ]
    },
    {
     "name": "stderr",
     "output_type": "stream",
     "text": [
      " 32%|███████████████████████████████████████▏                                                                                 | 81/250 [00:03<00:06, 24.33it/s]"
     ]
    },
    {
     "name": "stdout",
     "output_type": "stream",
     "text": [
      "--- Validation --- [threshold, AUC, Accuracy, F score] =  [np.float64(0.695), np.float64(0.72), np.float64(0.679), np.float64(0.68)]\n",
      "--- Training --- [threshold, AUC] =  [np.float64(0.695), np.float64(0.72)]\n",
      "--- Iteration 90: Training loss --- [Data, Label, Total] = [0.132205.3, 669.104604.3, 669.765628.3]\n",
      "!!! pred_type filter\n"
     ]
    },
    {
     "name": "stderr",
     "output_type": "stream",
     "text": [
      " 36%|████████████████████████████████████████████                                                                             | 91/250 [00:03<00:06, 23.84it/s]"
     ]
    },
    {
     "name": "stdout",
     "output_type": "stream",
     "text": [
      "--- Validation --- [threshold, AUC, Accuracy, F score] =  [np.float64(0.695), np.float64(0.72), np.float64(0.679), np.float64(0.68)]\n",
      "--- Training --- [threshold, AUC] =  [np.float64(0.695), np.float64(0.72)]\n",
      "--- Iteration 100: Training loss --- [Data, Label, Total] = [0.111167.3, 669.074852.3, 669.630686.3]\n",
      "!!! pred_type filter\n"
     ]
    },
    {
     "name": "stderr",
     "output_type": "stream",
     "text": [
      " 40%|████████████████████████████████████████████████▍                                                                       | 101/250 [00:04<00:06, 23.61it/s]"
     ]
    },
    {
     "name": "stdout",
     "output_type": "stream",
     "text": [
      "--- Validation --- [threshold, AUC, Accuracy, F score] =  [np.float64(0.695), np.float64(0.72), np.float64(0.679), np.float64(0.68)]\n",
      "--- Training --- [threshold, AUC] =  [np.float64(0.695), np.float64(0.72)]\n",
      "--- Iteration 110: Training loss --- [Data, Label, Total] = [0.095585.3, 669.060486.3, 669.538410.3]\n",
      "!!! pred_type filter\n"
     ]
    },
    {
     "name": "stderr",
     "output_type": "stream",
     "text": [
      " 44%|█████████████████████████████████████████████████████▎                                                                  | 111/250 [00:04<00:06, 22.33it/s]"
     ]
    },
    {
     "name": "stdout",
     "output_type": "stream",
     "text": [
      "--- Validation --- [threshold, AUC, Accuracy, F score] =  [np.float64(0.695), np.float64(0.72), np.float64(0.679), np.float64(0.68)]\n",
      "--- Training --- [threshold, AUC] =  [np.float64(0.695), np.float64(0.72)]\n",
      "--- Iteration 120: Training loss --- [Data, Label, Total] = [0.083199.3, 669.053948.3, 669.469945.3]\n",
      "!!! pred_type filter\n"
     ]
    },
    {
     "name": "stderr",
     "output_type": "stream",
     "text": [
      " 48%|██████████████████████████████████████████████████████████                                                              | 121/250 [00:05<00:05, 23.08it/s]"
     ]
    },
    {
     "name": "stdout",
     "output_type": "stream",
     "text": [
      "--- Validation --- [threshold, AUC, Accuracy, F score] =  [np.float64(0.695), np.float64(0.72), np.float64(0.679), np.float64(0.68)]\n",
      "--- Training --- [threshold, AUC] =  [np.float64(0.695), np.float64(0.72)]\n",
      "--- Iteration 130: Training loss --- [Data, Label, Total] = [0.073120.3, 669.049670.3, 669.415268.3]\n",
      "!!! pred_type filter\n"
     ]
    },
    {
     "name": "stderr",
     "output_type": "stream",
     "text": [
      " 52%|██████████████████████████████████████████████████████████████▉                                                         | 131/250 [00:05<00:05, 22.98it/s]"
     ]
    },
    {
     "name": "stdout",
     "output_type": "stream",
     "text": [
      "--- Validation --- [threshold, AUC, Accuracy, F score] =  [np.float64(0.695), np.float64(0.72), np.float64(0.679), np.float64(0.68)]\n",
      "--- Training --- [threshold, AUC] =  [np.float64(0.695), np.float64(0.72)]\n",
      "--- Iteration 140: Training loss --- [Data, Label, Total] = [0.064882.3, 669.046249.3, 669.370662.3]\n",
      "!!! pred_type filter\n"
     ]
    },
    {
     "name": "stderr",
     "output_type": "stream",
     "text": [
      " 56%|███████████████████████████████████████████████████████████████████▋                                                    | 141/250 [00:06<00:04, 22.82it/s]"
     ]
    },
    {
     "name": "stdout",
     "output_type": "stream",
     "text": [
      "--- Validation --- [threshold, AUC, Accuracy, F score] =  [np.float64(0.695), np.float64(0.72), np.float64(0.679), np.float64(0.68)]\n",
      "--- Training --- [threshold, AUC] =  [np.float64(0.695), np.float64(0.72)]\n",
      "--- Iteration 150: Training loss --- [Data, Label, Total] = [0.058064.3, 669.043093.3, 669.333414.3]\n",
      "!!! pred_type filter\n"
     ]
    },
    {
     "name": "stderr",
     "output_type": "stream",
     "text": [
      " 60%|████████████████████████████████████████████████████████████████████████▍                                               | 151/250 [00:06<00:04, 23.67it/s]"
     ]
    },
    {
     "name": "stdout",
     "output_type": "stream",
     "text": [
      "--- Validation --- [threshold, AUC, Accuracy, F score] =  [np.float64(0.695), np.float64(0.72), np.float64(0.679), np.float64(0.68)]\n",
      "--- Training --- [threshold, AUC] =  [np.float64(0.695), np.float64(0.72)]\n",
      "--- Iteration 160: Training loss --- [Data, Label, Total] = [0.052370.3, 669.039814.3, 669.301664.3]\n",
      "!!! pred_type filter\n"
     ]
    },
    {
     "name": "stderr",
     "output_type": "stream",
     "text": [
      " 64%|█████████████████████████████████████████████████████████████████████████████▎                                          | 161/250 [00:06<00:03, 24.24it/s]"
     ]
    },
    {
     "name": "stdout",
     "output_type": "stream",
     "text": [
      "--- Validation --- [threshold, AUC, Accuracy, F score] =  [np.float64(0.695), np.float64(0.72), np.float64(0.679), np.float64(0.68)]\n",
      "--- Training --- [threshold, AUC] =  [np.float64(0.695), np.float64(0.72)]\n",
      "--- Iteration 170: Training loss --- [Data, Label, Total] = [0.047584.3, 669.038566.3, 669.276483.3]\n",
      "!!! pred_type filter\n"
     ]
    },
    {
     "name": "stderr",
     "output_type": "stream",
     "text": [
      " 68%|██████████████████████████████████████████████████████████████████████████████████                                      | 171/250 [00:07<00:03, 25.17it/s]"
     ]
    },
    {
     "name": "stdout",
     "output_type": "stream",
     "text": [
      "--- Validation --- [threshold, AUC, Accuracy, F score] =  [np.float64(0.695), np.float64(0.72), np.float64(0.679), np.float64(0.68)]\n",
      "--- Training --- [threshold, AUC] =  [np.float64(0.695), np.float64(0.72)]\n",
      "--- Iteration 180: Training loss --- [Data, Label, Total] = [0.043582.3, 669.049391.3, 669.267303.3]\n",
      "!!! pred_type filter\n"
     ]
    },
    {
     "name": "stderr",
     "output_type": "stream",
     "text": [
      " 72%|██████████████████████████████████████████████████████████████████████████████████████▉                                 | 181/250 [00:07<00:02, 25.74it/s]"
     ]
    },
    {
     "name": "stdout",
     "output_type": "stream",
     "text": [
      "--- Validation --- [threshold, AUC, Accuracy, F score] =  [np.float64(0.695), np.float64(0.72), np.float64(0.679), np.float64(0.68)]\n",
      "--- Training --- [threshold, AUC] =  [np.float64(0.695), np.float64(0.72)]\n",
      "--- Iteration 190: Training loss --- [Data, Label, Total] = [0.040136.3, 669.033654.3, 669.234336.3]\n",
      "!!! pred_type filter\n"
     ]
    },
    {
     "name": "stderr",
     "output_type": "stream",
     "text": [
      " 76%|███████████████████████████████████████████████████████████████████████████████████████████▋                            | 191/250 [00:07<00:02, 25.50it/s]"
     ]
    },
    {
     "name": "stdout",
     "output_type": "stream",
     "text": [
      "--- Validation --- [threshold, AUC, Accuracy, F score] =  [np.float64(0.695), np.float64(0.72), np.float64(0.679), np.float64(0.68)]\n",
      "--- Training --- [threshold, AUC] =  [np.float64(0.695), np.float64(0.72)]\n",
      "--- Iteration 200: Training loss --- [Data, Label, Total] = [0.037178.3, 669.018415.3, 669.204304.3]\n",
      "!!! pred_type filter\n"
     ]
    },
    {
     "name": "stderr",
     "output_type": "stream",
     "text": [
      " 80%|████████████████████████████████████████████████████████████████████████████████████████████████▍                       | 201/250 [00:08<00:01, 26.30it/s]"
     ]
    },
    {
     "name": "stdout",
     "output_type": "stream",
     "text": [
      "--- Validation --- [threshold, AUC, Accuracy, F score] =  [np.float64(0.695), np.float64(0.72), np.float64(0.679), np.float64(0.68)]\n",
      "--- Training --- [threshold, AUC] =  [np.float64(0.696), np.float64(0.72)]\n",
      "--- Iteration 210: Training loss --- [Data, Label, Total] = [0.034580.3, 669.005899.3, 669.178799.3]\n",
      "!!! pred_type filter\n"
     ]
    },
    {
     "name": "stderr",
     "output_type": "stream",
     "text": [
      " 84%|█████████████████████████████████████████████████████████████████████████████████████████████████████▎                  | 211/250 [00:08<00:01, 25.08it/s]"
     ]
    },
    {
     "name": "stdout",
     "output_type": "stream",
     "text": [
      "--- Validation --- [threshold, AUC, Accuracy, F score] =  [np.float64(0.696), np.float64(0.72), np.float64(0.679), np.float64(0.68)]\n",
      "--- Training --- [threshold, AUC] =  [np.float64(0.695), np.float64(0.72)]\n",
      "--- Iteration 220: Training loss --- [Data, Label, Total] = [0.032361.3, 669.005230.3, 669.167037.3]\n",
      "!!! pred_type filter\n"
     ]
    },
    {
     "name": "stderr",
     "output_type": "stream",
     "text": [
      " 88%|██████████████████████████████████████████████████████████████████████████████████████████████████████████              | 221/250 [00:09<00:01, 24.65it/s]"
     ]
    },
    {
     "name": "stdout",
     "output_type": "stream",
     "text": [
      "--- Validation --- [threshold, AUC, Accuracy, F score] =  [np.float64(0.695), np.float64(0.72), np.float64(0.679), np.float64(0.68)]\n",
      "--- Training --- [threshold, AUC] =  [np.float64(0.695), np.float64(0.72)]\n",
      "--- Iteration 230: Training loss --- [Data, Label, Total] = [0.030412.3, 668.986875.3, 669.138937.3]\n",
      "!!! pred_type filter\n"
     ]
    },
    {
     "name": "stderr",
     "output_type": "stream",
     "text": [
      " 92%|██████████████████████████████████████████████████████████████████████████████████████████████████████████████▉         | 231/250 [00:09<00:00, 25.63it/s]"
     ]
    },
    {
     "name": "stdout",
     "output_type": "stream",
     "text": [
      "--- Validation --- [threshold, AUC, Accuracy, F score] =  [np.float64(0.695), np.float64(0.72), np.float64(0.679), np.float64(0.68)]\n",
      "--- Training --- [threshold, AUC] =  [np.float64(0.696), np.float64(0.72)]\n",
      "--- Iteration 240: Training loss --- [Data, Label, Total] = [0.028918.3, 668.968899.3, 669.113491.3]\n",
      "!!! pred_type filter\n"
     ]
    },
    {
     "name": "stderr",
     "output_type": "stream",
     "text": [
      "100%|████████████████████████████████████████████████████████████████████████████████████████████████████████████████████████| 250/250 [00:09<00:00, 25.27it/s]"
     ]
    },
    {
     "name": "stdout",
     "output_type": "stream",
     "text": [
      "--- Validation --- [threshold, AUC, Accuracy, F score] =  [np.float64(0.696), np.float64(0.72), np.float64(0.679), np.float64(0.68)]\n",
      "!!! pred_type filter\n"
     ]
    },
    {
     "name": "stderr",
     "output_type": "stream",
     "text": [
      "\n"
     ]
    },
    {
     "name": "stdout",
     "output_type": "stream",
     "text": [
      "num of subgraphs induced on k-paths: 500\n",
      "num of subgraphs induced on k-paths: 500\n",
      "X_list: (25, 1000)\n",
      "2\n",
      "(1, 500)\n",
      "(1, 500)\n",
      "label_vec: (1, 1000)\n",
      "num of subgraphs induced on k-paths: 500\n",
      "num of subgraphs induced on k-paths: 500\n",
      "X_list: (25, 1000)\n",
      "2\n",
      "(1, 500)\n",
      "(1, 500)\n",
      "label_vec: (1, 1000)\n",
      "num of subgraphs induced on k-paths: 500\n",
      "num of subgraphs induced on k-paths: 500\n",
      "X_list: (25, 1000)\n",
      "2\n",
      "(1, 500)\n",
      "(1, 500)\n",
      "label_vec: (1, 1000)\n",
      "num of subgraphs induced on k-paths: 500\n",
      "num of subgraphs induced on k-paths: 500\n",
      "X_list: (25, 1000)\n",
      "2\n",
      "(1, 500)\n",
      "(1, 500)\n",
      "label_vec: (1, 1000)\n",
      "6\n",
      "num of subgraphs induced on k-paths: 500\n",
      "num of subgraphs induced on k-paths: 500\n",
      "X_list: (36, 1000)\n",
      "2\n",
      "(1, 500)\n",
      "(1, 500)\n",
      "label_vec: (1, 1000)\n",
      "num of subgraphs induced on k-paths: 500\n",
      "num of subgraphs induced on k-paths: 626\n",
      "X_list: (36, 1126)\n",
      "2\n",
      "(1, 500)\n",
      "(1, 626)\n",
      "label_vec: (1, 1126)\n",
      "initial loading beta [[-0.04059982 -0.26734455  0.27842804  0.68309922 -0.32765875 -0.35779263\n",
      "   0.92981339  0.45315736  0.24054554  0.72320678 -0.65497098 -0.57777791\n",
      "   0.2852051   0.4415399  -0.27575335  0.25827338  0.69672417]]\n"
     ]
    },
    {
     "name": "stderr",
     "output_type": "stream",
     "text": [
      "  0%|                                                                                                                                  | 0/250 [00:00<?, ?it/s]"
     ]
    },
    {
     "name": "stdout",
     "output_type": "stream",
     "text": [
      "--- Training --- [threshold, AUC] =  [np.float64(0.573), np.float64(0.74)]\n",
      "--- Iteration 0: Training loss --- [Data, Label, Total] = [3634.922784.3, 674.099829.3, 18848.713747.3]\n",
      "--- Training --- [threshold, AUC] =  [np.float64(0.592), np.float64(0.742)]\n",
      "--- Iteration 10: Training loss --- [Data, Label, Total] = [979.222470.3, 671.157925.3, 5567.270277.3]\n",
      "!!! pred_type filter\n"
     ]
    },
    {
     "name": "stderr",
     "output_type": "stream",
     "text": [
      "  4%|█████▎                                                                                                                   | 11/250 [00:00<00:10, 22.83it/s]"
     ]
    },
    {
     "name": "stdout",
     "output_type": "stream",
     "text": [
      "--- Validation --- [threshold, AUC, Accuracy, F score] =  [np.float64(0.592), np.float64(0.742), np.float64(0.704), np.float64(0.745)]\n",
      "--- Training --- [threshold, AUC] =  [np.float64(0.6), np.float64(0.745)]\n",
      "--- Iteration 20: Training loss --- [Data, Label, Total] = [609.801820.3, 669.633186.3, 3718.642284.3]\n",
      "!!! pred_type filter\n"
     ]
    },
    {
     "name": "stderr",
     "output_type": "stream",
     "text": [
      "  8%|██████████▏                                                                                                              | 21/250 [00:00<00:10, 21.14it/s]"
     ]
    },
    {
     "name": "stdout",
     "output_type": "stream",
     "text": [
      "--- Validation --- [threshold, AUC, Accuracy, F score] =  [np.float64(0.6), np.float64(0.745), np.float64(0.708), np.float64(0.748)]\n",
      "--- Training --- [threshold, AUC] =  [np.float64(0.549), np.float64(0.746)]\n",
      "--- Iteration 30: Training loss --- [Data, Label, Total] = [405.982337.3, 668.888334.3, 2698.800017.3]\n",
      "!!! pred_type filter\n"
     ]
    },
    {
     "name": "stderr",
     "output_type": "stream",
     "text": [
      " 12%|███████████████                                                                                                          | 31/250 [00:01<00:09, 22.70it/s]"
     ]
    },
    {
     "name": "stdout",
     "output_type": "stream",
     "text": [
      "--- Validation --- [threshold, AUC, Accuracy, F score] =  [np.float64(0.549), np.float64(0.746), np.float64(0.71), np.float64(0.751)]\n",
      "--- Training --- [threshold, AUC] =  [np.float64(0.555), np.float64(0.747)]\n",
      "--- Iteration 40: Training loss --- [Data, Label, Total] = [237.047260.3, 668.840827.3, 1854.077125.3]\n",
      "!!! pred_type filter\n"
     ]
    },
    {
     "name": "stderr",
     "output_type": "stream",
     "text": [
      " 16%|███████████████████▊                                                                                                     | 41/250 [00:01<00:09, 22.74it/s]"
     ]
    },
    {
     "name": "stdout",
     "output_type": "stream",
     "text": [
      "--- Validation --- [threshold, AUC, Accuracy, F score] =  [np.float64(0.555), np.float64(0.747), np.float64(0.71), np.float64(0.751)]\n",
      "--- Training --- [threshold, AUC] =  [np.float64(0.562), np.float64(0.747)]\n",
      "--- Iteration 50: Training loss --- [Data, Label, Total] = [125.446141.3, 668.980016.3, 1296.210719.3]\n",
      "!!! pred_type filter\n"
     ]
    },
    {
     "name": "stderr",
     "output_type": "stream",
     "text": [
      " 20%|████████████████████████▋                                                                                                | 51/250 [00:02<00:08, 22.37it/s]"
     ]
    },
    {
     "name": "stdout",
     "output_type": "stream",
     "text": [
      "--- Validation --- [threshold, AUC, Accuracy, F score] =  [np.float64(0.562), np.float64(0.747), np.float64(0.71), np.float64(0.751)]\n",
      "--- Training --- [threshold, AUC] =  [np.float64(0.57), np.float64(0.748)]\n",
      "--- Iteration 60: Training loss --- [Data, Label, Total] = [65.233993.3, 669.110349.3, 995.280314.3]\n",
      "!!! pred_type filter\n"
     ]
    },
    {
     "name": "stderr",
     "output_type": "stream",
     "text": [
      " 24%|█████████████████████████████▌                                                                                           | 61/250 [00:02<00:08, 22.62it/s]"
     ]
    },
    {
     "name": "stdout",
     "output_type": "stream",
     "text": [
      "--- Validation --- [threshold, AUC, Accuracy, F score] =  [np.float64(0.57), np.float64(0.748), np.float64(0.71), np.float64(0.751)]\n",
      "--- Training --- [threshold, AUC] =  [np.float64(0.574), np.float64(0.747)]\n",
      "--- Iteration 70: Training loss --- [Data, Label, Total] = [33.518948.3, 669.227429.3, 836.822170.3]\n",
      "!!! pred_type filter\n"
     ]
    },
    {
     "name": "stderr",
     "output_type": "stream",
     "text": [
      " 28%|██████████████████████████████████▎                                                                                      | 71/250 [00:02<00:06, 25.62it/s]"
     ]
    },
    {
     "name": "stdout",
     "output_type": "stream",
     "text": [
      "--- Validation --- [threshold, AUC, Accuracy, F score] =  [np.float64(0.574), np.float64(0.747), np.float64(0.71), np.float64(0.751)]\n",
      "--- Training --- [threshold, AUC] =  [np.float64(0.577), np.float64(0.747)]\n",
      "--- Iteration 80: Training loss --- [Data, Label, Total] = [17.033276.3, 669.347726.3, 754.514104.3]\n",
      "!!! pred_type filter\n"
     ]
    },
    {
     "name": "stderr",
     "output_type": "stream",
     "text": [
      " 32%|███████████████████████████████████████▏                                                                                 | 81/250 [00:03<00:05, 28.64it/s]"
     ]
    },
    {
     "name": "stdout",
     "output_type": "stream",
     "text": [
      "--- Validation --- [threshold, AUC, Accuracy, F score] =  [np.float64(0.577), np.float64(0.747), np.float64(0.71), np.float64(0.751)]\n",
      "--- Training --- [threshold, AUC] =  [np.float64(0.579), np.float64(0.747)]\n",
      "--- Iteration 90: Training loss --- [Data, Label, Total] = [8.822978.3, 669.452992.3, 713.567880.3]\n",
      "!!! pred_type filter\n"
     ]
    },
    {
     "name": "stderr",
     "output_type": "stream",
     "text": [
      " 36%|████████████████████████████████████████████                                                                             | 91/250 [00:03<00:05, 31.29it/s]"
     ]
    },
    {
     "name": "stdout",
     "output_type": "stream",
     "text": [
      "--- Validation --- [threshold, AUC, Accuracy, F score] =  [np.float64(0.579), np.float64(0.747), np.float64(0.71), np.float64(0.751)]\n",
      "--- Training --- [threshold, AUC] =  [np.float64(0.583), np.float64(0.747)]\n",
      "--- Iteration 100: Training loss --- [Data, Label, Total] = [4.811532.3, 669.526036.3, 693.583697.3]\n",
      "!!! pred_type filter\n"
     ]
    },
    {
     "name": "stderr",
     "output_type": "stream",
     "text": [
      " 40%|████████████████████████████████████████████████▍                                                                       | 101/250 [00:03<00:04, 33.26it/s]"
     ]
    },
    {
     "name": "stdout",
     "output_type": "stream",
     "text": [
      "--- Validation --- [threshold, AUC, Accuracy, F score] =  [np.float64(0.583), np.float64(0.747), np.float64(0.71), np.float64(0.751)]\n",
      "--- Training --- [threshold, AUC] =  [np.float64(0.583), np.float64(0.747)]\n",
      "--- Iteration 110: Training loss --- [Data, Label, Total] = [2.817361.3, 669.565826.3, 683.652629.3]\n",
      "!!! pred_type filter\n"
     ]
    },
    {
     "name": "stderr",
     "output_type": "stream",
     "text": [
      " 44%|█████████████████████████████████████████████████████▎                                                                  | 111/250 [00:04<00:04, 33.05it/s]"
     ]
    },
    {
     "name": "stdout",
     "output_type": "stream",
     "text": [
      "--- Validation --- [threshold, AUC, Accuracy, F score] =  [np.float64(0.583), np.float64(0.747), np.float64(0.71), np.float64(0.751)]\n",
      "--- Training --- [threshold, AUC] =  [np.float64(0.583), np.float64(0.747)]\n",
      "--- Iteration 120: Training loss --- [Data, Label, Total] = [1.781320.3, 669.532121.3, 678.438723.3]\n",
      "!!! pred_type filter\n"
     ]
    },
    {
     "name": "stderr",
     "output_type": "stream",
     "text": [
      " 48%|██████████████████████████████████████████████████████████                                                              | 121/250 [00:04<00:03, 34.12it/s]"
     ]
    },
    {
     "name": "stdout",
     "output_type": "stream",
     "text": [
      "--- Validation --- [threshold, AUC, Accuracy, F score] =  [np.float64(0.583), np.float64(0.747), np.float64(0.71), np.float64(0.751)]\n",
      "--- Training --- [threshold, AUC] =  [np.float64(0.585), np.float64(0.747)]\n",
      "--- Iteration 130: Training loss --- [Data, Label, Total] = [1.214052.3, 669.581926.3, 675.652188.3]\n",
      "!!! pred_type filter\n"
     ]
    },
    {
     "name": "stderr",
     "output_type": "stream",
     "text": [
      " 52%|██████████████████████████████████████████████████████████████▉                                                         | 131/250 [00:04<00:03, 35.41it/s]"
     ]
    },
    {
     "name": "stdout",
     "output_type": "stream",
     "text": [
      "--- Validation --- [threshold, AUC, Accuracy, F score] =  [np.float64(0.585), np.float64(0.747), np.float64(0.71), np.float64(0.751)]\n",
      "--- Training --- [threshold, AUC] =  [np.float64(0.586), np.float64(0.747)]\n",
      "--- Iteration 140: Training loss --- [Data, Label, Total] = [0.881225.3, 669.601729.3, 674.007853.3]\n",
      "!!! pred_type filter\n"
     ]
    },
    {
     "name": "stderr",
     "output_type": "stream",
     "text": [
      " 56%|███████████████████████████████████████████████████████████████████▋                                                    | 141/250 [00:04<00:02, 36.45it/s]"
     ]
    },
    {
     "name": "stdout",
     "output_type": "stream",
     "text": [
      "--- Validation --- [threshold, AUC, Accuracy, F score] =  [np.float64(0.586), np.float64(0.747), np.float64(0.71), np.float64(0.751)]\n",
      "--- Training --- [threshold, AUC] =  [np.float64(0.585), np.float64(0.747)]\n",
      "--- Iteration 150: Training loss --- [Data, Label, Total] = [0.673051.3, 669.569954.3, 672.935210.3]\n",
      "!!! pred_type filter\n"
     ]
    },
    {
     "name": "stderr",
     "output_type": "stream",
     "text": [
      " 60%|████████████████████████████████████████████████████████████████████████▍                                               | 151/250 [00:05<00:02, 37.35it/s]"
     ]
    },
    {
     "name": "stdout",
     "output_type": "stream",
     "text": [
      "--- Validation --- [threshold, AUC, Accuracy, F score] =  [np.float64(0.585), np.float64(0.747), np.float64(0.71), np.float64(0.751)]\n",
      "--- Training --- [threshold, AUC] =  [np.float64(0.585), np.float64(0.747)]\n",
      "--- Iteration 160: Training loss --- [Data, Label, Total] = [0.534107.3, 669.484145.3, 672.154679.3]\n",
      "!!! pred_type filter\n"
     ]
    },
    {
     "name": "stderr",
     "output_type": "stream",
     "text": [
      " 64%|█████████████████████████████████████████████████████████████████████████████▎                                          | 161/250 [00:05<00:02, 38.02it/s]"
     ]
    },
    {
     "name": "stdout",
     "output_type": "stream",
     "text": [
      "--- Validation --- [threshold, AUC, Accuracy, F score] =  [np.float64(0.585), np.float64(0.747), np.float64(0.71), np.float64(0.751)]\n",
      "--- Training --- [threshold, AUC] =  [np.float64(0.586), np.float64(0.747)]\n",
      "--- Iteration 170: Training loss --- [Data, Label, Total] = [0.436669.3, 669.603176.3, 671.786521.3]\n",
      "!!! pred_type filter\n"
     ]
    },
    {
     "name": "stderr",
     "output_type": "stream",
     "text": [
      " 68%|██████████████████████████████████████████████████████████████████████████████████                                      | 171/250 [00:05<00:02, 38.59it/s]"
     ]
    },
    {
     "name": "stdout",
     "output_type": "stream",
     "text": [
      "--- Validation --- [threshold, AUC, Accuracy, F score] =  [np.float64(0.586), np.float64(0.747), np.float64(0.71), np.float64(0.751)]\n",
      "--- Training --- [threshold, AUC] =  [np.float64(0.585), np.float64(0.747)]\n",
      "--- Iteration 180: Training loss --- [Data, Label, Total] = [0.367077.3, 669.535664.3, 671.371049.3]\n",
      "!!! pred_type filter\n"
     ]
    },
    {
     "name": "stderr",
     "output_type": "stream",
     "text": [
      " 76%|██████████████████████████████████████████████████████████████████████████████████████████▋                             | 189/250 [00:05<00:01, 45.18it/s]"
     ]
    },
    {
     "name": "stdout",
     "output_type": "stream",
     "text": [
      "--- Validation --- [threshold, AUC, Accuracy, F score] =  [np.float64(0.585), np.float64(0.747), np.float64(0.71), np.float64(0.751)]\n",
      "--- Training --- [threshold, AUC] =  [np.float64(0.585), np.float64(0.747)]\n",
      "--- Iteration 190: Training loss --- [Data, Label, Total] = [0.315368.3, 669.477896.3, 671.054735.3]\n",
      "!!! pred_type filter\n"
     ]
    },
    {
     "name": "stderr",
     "output_type": "stream",
     "text": [
      " 78%|█████████████████████████████████████████████████████████████████████████████████████████████▌                          | 195/250 [00:06<00:01, 38.09it/s]"
     ]
    },
    {
     "name": "stdout",
     "output_type": "stream",
     "text": [
      "--- Validation --- [threshold, AUC, Accuracy, F score] =  [np.float64(0.585), np.float64(0.747), np.float64(0.71), np.float64(0.751)]\n",
      "--- Training --- [threshold, AUC] =  [np.float64(0.586), np.float64(0.747)]\n",
      "--- Iteration 200: Training loss --- [Data, Label, Total] = [0.275496.3, 669.525585.3, 670.903064.3]\n",
      "!!! pred_type filter\n"
     ]
    },
    {
     "name": "stderr",
     "output_type": "stream",
     "text": [
      " 80%|████████████████████████████████████████████████████████████████████████████████████████████████▍                       | 201/250 [00:06<00:01, 34.02it/s]"
     ]
    },
    {
     "name": "stdout",
     "output_type": "stream",
     "text": [
      "--- Validation --- [threshold, AUC, Accuracy, F score] =  [np.float64(0.586), np.float64(0.747), np.float64(0.71), np.float64(0.751)]\n",
      "--- Training --- [threshold, AUC] =  [np.float64(0.585), np.float64(0.747)]\n",
      "--- Iteration 210: Training loss --- [Data, Label, Total] = [0.244149.3, 669.515911.3, 670.736654.3]\n",
      "!!! pred_type filter\n"
     ]
    },
    {
     "name": "stderr",
     "output_type": "stream",
     "text": [
      " 84%|█████████████████████████████████████████████████████████████████████████████████████████████████████▎                  | 211/250 [00:06<00:01, 35.34it/s]"
     ]
    },
    {
     "name": "stdout",
     "output_type": "stream",
     "text": [
      "--- Validation --- [threshold, AUC, Accuracy, F score] =  [np.float64(0.585), np.float64(0.747), np.float64(0.71), np.float64(0.751)]\n",
      "--- Training --- [threshold, AUC] =  [np.float64(0.586), np.float64(0.747)]\n",
      "--- Iteration 220: Training loss --- [Data, Label, Total] = [0.217854.3, 669.444315.3, 670.533584.3]\n",
      "!!! pred_type filter\n"
     ]
    },
    {
     "name": "stderr",
     "output_type": "stream",
     "text": [
      " 88%|██████████████████████████████████████████████████████████████████████████████████████████████████████████              | 221/250 [00:07<00:00, 34.33it/s]"
     ]
    },
    {
     "name": "stdout",
     "output_type": "stream",
     "text": [
      "--- Validation --- [threshold, AUC, Accuracy, F score] =  [np.float64(0.586), np.float64(0.747), np.float64(0.71), np.float64(0.751)]\n",
      "--- Training --- [threshold, AUC] =  [np.float64(0.585), np.float64(0.748)]\n",
      "--- Iteration 230: Training loss --- [Data, Label, Total] = [0.196400.3, 669.488066.3, 670.470067.3]\n",
      "!!! pred_type filter\n"
     ]
    },
    {
     "name": "stderr",
     "output_type": "stream",
     "text": [
      " 92%|██████████████████████████████████████████████████████████████████████████████████████████████████████████████▉         | 231/250 [00:07<00:00, 34.44it/s]"
     ]
    },
    {
     "name": "stdout",
     "output_type": "stream",
     "text": [
      "--- Validation --- [threshold, AUC, Accuracy, F score] =  [np.float64(0.585), np.float64(0.748), np.float64(0.71), np.float64(0.751)]\n",
      "--- Training --- [threshold, AUC] =  [np.float64(0.587), np.float64(0.747)]\n",
      "--- Iteration 240: Training loss --- [Data, Label, Total] = [0.177749.3, 669.430241.3, 670.318984.3]\n",
      "!!! pred_type filter\n"
     ]
    },
    {
     "name": "stderr",
     "output_type": "stream",
     "text": [
      "100%|████████████████████████████████████████████████████████████████████████████████████████████████████████████████████████| 250/250 [00:07<00:00, 32.90it/s]"
     ]
    },
    {
     "name": "stdout",
     "output_type": "stream",
     "text": [
      "--- Validation --- [threshold, AUC, Accuracy, F score] =  [np.float64(0.587), np.float64(0.747), np.float64(0.71), np.float64(0.751)]\n",
      "!!! pred_type filter\n"
     ]
    },
    {
     "name": "stderr",
     "output_type": "stream",
     "text": [
      "\n"
     ]
    },
    {
     "name": "stdout",
     "output_type": "stream",
     "text": [
      "num of subgraphs induced on k-paths: 500\n",
      "num of subgraphs induced on k-paths: 500\n",
      "X_list: (36, 1000)\n",
      "2\n",
      "(1, 500)\n",
      "(1, 500)\n",
      "label_vec: (1, 1000)\n",
      "num of subgraphs induced on k-paths: 500\n",
      "num of subgraphs induced on k-paths: 500\n",
      "X_list: (36, 1000)\n",
      "2\n",
      "(1, 500)\n",
      "(1, 500)\n",
      "label_vec: (1, 1000)\n",
      "num of subgraphs induced on k-paths: 500\n",
      "num of subgraphs induced on k-paths: 500\n",
      "X_list: (36, 1000)\n",
      "2\n",
      "(1, 500)\n",
      "(1, 500)\n",
      "label_vec: (1, 1000)\n",
      "num of subgraphs induced on k-paths: 500\n",
      "num of subgraphs induced on k-paths: 500\n",
      "X_list: (36, 1000)\n",
      "2\n",
      "(1, 500)\n",
      "(1, 500)\n",
      "label_vec: (1, 1000)\n",
      "7\n",
      "num of subgraphs induced on k-paths: 500\n",
      "num of subgraphs induced on k-paths: 500\n",
      "X_list: (49, 1000)\n",
      "2\n",
      "(1, 500)\n",
      "(1, 500)\n",
      "label_vec: (1, 1000)\n",
      "num of subgraphs induced on k-paths: 500\n",
      "num of subgraphs induced on k-paths: 644\n",
      "X_list: (49, 1144)\n",
      "2\n",
      "(1, 500)\n",
      "(1, 644)\n",
      "label_vec: (1, 1144)\n",
      "initial loading beta [[ 0.93767446  0.10841853 -0.47874229  0.06653133 -0.4882976  -0.63605616\n",
      "  -0.70218448  0.16274071 -0.25315368  0.93211653 -0.4856503   0.5624941\n",
      "   0.58183045 -0.24314798  0.24353351 -0.4149614   0.55664077]]\n"
     ]
    },
    {
     "name": "stderr",
     "output_type": "stream",
     "text": [
      "  0%|                                                                                                                                  | 0/250 [00:00<?, ?it/s]"
     ]
    },
    {
     "name": "stdout",
     "output_type": "stream",
     "text": [
      "--- Training --- [threshold, AUC] =  [np.float64(0.578), np.float64(0.801)]\n",
      "--- Iteration 0: Training loss --- [Data, Label, Total] = [5627.152236.3, 633.423989.3, 28769.185170.3]\n",
      "--- Training --- [threshold, AUC] =  [np.float64(0.649), np.float64(0.807)]\n",
      "--- Iteration 10: Training loss --- [Data, Label, Total] = [1850.586473.3, 625.244933.3, 9878.177298.3]\n",
      "!!! pred_type filter\n"
     ]
    },
    {
     "name": "stderr",
     "output_type": "stream",
     "text": [
      "  6%|███████▎                                                                                                                 | 15/250 [00:00<00:08, 28.20it/s]"
     ]
    },
    {
     "name": "stdout",
     "output_type": "stream",
     "text": [
      "--- Validation --- [threshold, AUC, Accuracy, F score] =  [np.float64(0.649), np.float64(0.807), np.float64(0.747), np.float64(0.764)]\n",
      "--- Training --- [threshold, AUC] =  [np.float64(0.658), np.float64(0.812)]\n",
      "--- Iteration 20: Training loss --- [Data, Label, Total] = [1295.348334.3, 622.529852.3, 7099.271521.3]\n",
      "!!! pred_type filter\n"
     ]
    },
    {
     "name": "stderr",
     "output_type": "stream",
     "text": [
      "  8%|██████████▏                                                                                                              | 21/250 [00:00<00:11, 19.96it/s]"
     ]
    },
    {
     "name": "stdout",
     "output_type": "stream",
     "text": [
      "--- Validation --- [threshold, AUC, Accuracy, F score] =  [np.float64(0.658), np.float64(0.812), np.float64(0.75), np.float64(0.764)]\n",
      "--- Training --- [threshold, AUC] =  [np.float64(0.649), np.float64(0.813)]\n",
      "--- Iteration 30: Training loss --- [Data, Label, Total] = [1021.159636.3, 621.755807.3, 5727.553985.3]\n",
      "!!! pred_type filter\n"
     ]
    },
    {
     "name": "stderr",
     "output_type": "stream",
     "text": [
      " 12%|███████████████                                                                                                          | 31/250 [00:01<00:10, 21.62it/s]"
     ]
    },
    {
     "name": "stdout",
     "output_type": "stream",
     "text": [
      "--- Validation --- [threshold, AUC, Accuracy, F score] =  [np.float64(0.649), np.float64(0.813), np.float64(0.75), np.float64(0.765)]\n",
      "--- Training --- [threshold, AUC] =  [np.float64(0.646), np.float64(0.812)]\n",
      "--- Iteration 40: Training loss --- [Data, Label, Total] = [856.143465.3, 622.000456.3, 4902.717781.3]\n",
      "!!! pred_type filter\n"
     ]
    },
    {
     "name": "stderr",
     "output_type": "stream",
     "text": [
      " 16%|███████████████████▊                                                                                                     | 41/250 [00:01<00:09, 22.62it/s]"
     ]
    },
    {
     "name": "stdout",
     "output_type": "stream",
     "text": [
      "--- Validation --- [threshold, AUC, Accuracy, F score] =  [np.float64(0.646), np.float64(0.812), np.float64(0.747), np.float64(0.763)]\n",
      "--- Training --- [threshold, AUC] =  [np.float64(0.631), np.float64(0.812)]\n",
      "--- Iteration 50: Training loss --- [Data, Label, Total] = [805.723126.3, 622.141488.3, 4650.757118.3]\n",
      "!!! pred_type filter\n"
     ]
    },
    {
     "name": "stderr",
     "output_type": "stream",
     "text": [
      " 20%|████████████████████████▋                                                                                                | 51/250 [00:02<00:08, 22.55it/s]"
     ]
    },
    {
     "name": "stdout",
     "output_type": "stream",
     "text": [
      "--- Validation --- [threshold, AUC, Accuracy, F score] =  [np.float64(0.631), np.float64(0.812), np.float64(0.749), np.float64(0.769)]\n",
      "--- Training --- [threshold, AUC] =  [np.float64(0.635), np.float64(0.812)]\n",
      "--- Iteration 60: Training loss --- [Data, Label, Total] = [788.422474.3, 622.326564.3, 4564.438936.3]\n",
      "!!! pred_type filter\n"
     ]
    },
    {
     "name": "stderr",
     "output_type": "stream",
     "text": [
      " 24%|█████████████████████████████▌                                                                                           | 61/250 [00:02<00:08, 23.08it/s]"
     ]
    },
    {
     "name": "stdout",
     "output_type": "stream",
     "text": [
      "--- Validation --- [threshold, AUC, Accuracy, F score] =  [np.float64(0.635), np.float64(0.812), np.float64(0.75), np.float64(0.77)]\n",
      "--- Training --- [threshold, AUC] =  [np.float64(0.637), np.float64(0.812)]\n",
      "--- Iteration 70: Training loss --- [Data, Label, Total] = [776.413200.3, 622.294946.3, 4504.360944.3]\n",
      "!!! pred_type filter\n"
     ]
    },
    {
     "name": "stderr",
     "output_type": "stream",
     "text": [
      " 28%|██████████████████████████████████▎                                                                                      | 71/250 [00:03<00:07, 23.76it/s]"
     ]
    },
    {
     "name": "stdout",
     "output_type": "stream",
     "text": [
      "--- Validation --- [threshold, AUC, Accuracy, F score] =  [np.float64(0.637), np.float64(0.812), np.float64(0.75), np.float64(0.769)]\n",
      "--- Training --- [threshold, AUC] =  [np.float64(0.638), np.float64(0.812)]\n",
      "--- Iteration 80: Training loss --- [Data, Label, Total] = [760.862221.3, 622.263065.3, 4426.574169.3]\n",
      "!!! pred_type filter\n"
     ]
    },
    {
     "name": "stderr",
     "output_type": "stream",
     "text": [
      " 32%|███████████████████████████████████████▏                                                                                 | 81/250 [00:03<00:06, 24.31it/s]"
     ]
    },
    {
     "name": "stdout",
     "output_type": "stream",
     "text": [
      "--- Validation --- [threshold, AUC, Accuracy, F score] =  [np.float64(0.638), np.float64(0.812), np.float64(0.75), np.float64(0.769)]\n",
      "--- Training --- [threshold, AUC] =  [np.float64(0.64), np.float64(0.812)]\n",
      "--- Iteration 90: Training loss --- [Data, Label, Total] = [733.114616.3, 622.233884.3, 4287.806961.3]\n",
      "!!! pred_type filter\n"
     ]
    },
    {
     "name": "stderr",
     "output_type": "stream",
     "text": [
      " 36%|████████████████████████████████████████████                                                                             | 91/250 [00:03<00:06, 24.80it/s]"
     ]
    },
    {
     "name": "stdout",
     "output_type": "stream",
     "text": [
      "--- Validation --- [threshold, AUC, Accuracy, F score] =  [np.float64(0.64), np.float64(0.812), np.float64(0.751), np.float64(0.769)]\n",
      "--- Training --- [threshold, AUC] =  [np.float64(0.641), np.float64(0.813)]\n",
      "--- Iteration 100: Training loss --- [Data, Label, Total] = [686.595654.3, 622.135464.3, 4055.113733.3]\n",
      "!!! pred_type filter\n"
     ]
    },
    {
     "name": "stderr",
     "output_type": "stream",
     "text": [
      " 40%|████████████████████████████████████████████████▍                                                                       | 101/250 [00:04<00:05, 25.87it/s]"
     ]
    },
    {
     "name": "stdout",
     "output_type": "stream",
     "text": [
      "--- Validation --- [threshold, AUC, Accuracy, F score] =  [np.float64(0.641), np.float64(0.813), np.float64(0.751), np.float64(0.769)]\n",
      "--- Training --- [threshold, AUC] =  [np.float64(0.643), np.float64(0.813)]\n",
      "--- Iteration 110: Training loss --- [Data, Label, Total] = [630.300715.3, 621.824507.3, 3773.328082.3]\n",
      "!!! pred_type filter\n"
     ]
    },
    {
     "name": "stderr",
     "output_type": "stream",
     "text": [
      " 44%|█████████████████████████████████████████████████████▎                                                                  | 111/250 [00:04<00:05, 26.97it/s]"
     ]
    },
    {
     "name": "stdout",
     "output_type": "stream",
     "text": [
      "--- Validation --- [threshold, AUC, Accuracy, F score] =  [np.float64(0.643), np.float64(0.813), np.float64(0.751), np.float64(0.769)]\n",
      "--- Training --- [threshold, AUC] =  [np.float64(0.644), np.float64(0.815)]\n",
      "--- Iteration 120: Training loss --- [Data, Label, Total] = [571.386791.3, 621.231386.3, 3478.165342.3]\n",
      "!!! pred_type filter\n"
     ]
    },
    {
     "name": "stderr",
     "output_type": "stream",
     "text": [
      " 48%|██████████████████████████████████████████████████████████                                                              | 121/250 [00:04<00:04, 28.05it/s]"
     ]
    },
    {
     "name": "stdout",
     "output_type": "stream",
     "text": [
      "--- Validation --- [threshold, AUC, Accuracy, F score] =  [np.float64(0.644), np.float64(0.815), np.float64(0.754), np.float64(0.771)]\n",
      "--- Training --- [threshold, AUC] =  [np.float64(0.629), np.float64(0.815)]\n",
      "--- Iteration 130: Training loss --- [Data, Label, Total] = [516.814089.3, 620.784949.3, 3204.855396.3]\n",
      "!!! pred_type filter\n"
     ]
    },
    {
     "name": "stderr",
     "output_type": "stream",
     "text": [
      " 52%|██████████████████████████████████████████████████████████████▉                                                         | 131/250 [00:05<00:04, 28.92it/s]"
     ]
    },
    {
     "name": "stdout",
     "output_type": "stream",
     "text": [
      "--- Validation --- [threshold, AUC, Accuracy, F score] =  [np.float64(0.629), np.float64(0.815), np.float64(0.758), np.float64(0.776)]\n",
      "--- Training --- [threshold, AUC] =  [np.float64(0.642), np.float64(0.815)]\n",
      "--- Iteration 140: Training loss --- [Data, Label, Total] = [482.266009.3, 620.386158.3, 3031.716204.3]\n",
      "!!! pred_type filter\n"
     ]
    },
    {
     "name": "stderr",
     "output_type": "stream",
     "text": [
      " 56%|███████████████████████████████████████████████████████████████████▋                                                    | 141/250 [00:05<00:03, 29.20it/s]"
     ]
    },
    {
     "name": "stdout",
     "output_type": "stream",
     "text": [
      "--- Validation --- [threshold, AUC, Accuracy, F score] =  [np.float64(0.642), np.float64(0.815), np.float64(0.758), np.float64(0.776)]\n",
      "--- Training --- [threshold, AUC] =  [np.float64(0.642), np.float64(0.816)]\n",
      "--- Iteration 150: Training loss --- [Data, Label, Total] = [465.653516.3, 620.404133.3, 2948.671712.3]\n",
      "!!! pred_type filter\n"
     ]
    },
    {
     "name": "stderr",
     "output_type": "stream",
     "text": [
      " 60%|████████████████████████████████████████████████████████████████████████▍                                               | 151/250 [00:05<00:03, 29.87it/s]"
     ]
    },
    {
     "name": "stdout",
     "output_type": "stream",
     "text": [
      "--- Validation --- [threshold, AUC, Accuracy, F score] =  [np.float64(0.642), np.float64(0.816), np.float64(0.758), np.float64(0.776)]\n",
      "--- Training --- [threshold, AUC] =  [np.float64(0.642), np.float64(0.816)]\n",
      "--- Iteration 160: Training loss --- [Data, Label, Total] = [456.789829.3, 620.331867.3, 2904.281013.3]\n",
      "!!! pred_type filter\n"
     ]
    },
    {
     "name": "stderr",
     "output_type": "stream",
     "text": [
      " 64%|█████████████████████████████████████████████████████████████████████████████▎                                          | 161/250 [00:06<00:02, 30.56it/s]"
     ]
    },
    {
     "name": "stdout",
     "output_type": "stream",
     "text": [
      "--- Validation --- [threshold, AUC, Accuracy, F score] =  [np.float64(0.642), np.float64(0.816), np.float64(0.758), np.float64(0.776)]\n",
      "--- Training --- [threshold, AUC] =  [np.float64(0.643), np.float64(0.816)]\n",
      "--- Iteration 170: Training loss --- [Data, Label, Total] = [450.685829.3, 620.215896.3, 2873.645041.3]\n",
      "!!! pred_type filter\n"
     ]
    },
    {
     "name": "stderr",
     "output_type": "stream",
     "text": [
      " 68%|██████████████████████████████████████████████████████████████████████████████████                                      | 171/250 [00:06<00:02, 30.59it/s]"
     ]
    },
    {
     "name": "stdout",
     "output_type": "stream",
     "text": [
      "--- Validation --- [threshold, AUC, Accuracy, F score] =  [np.float64(0.643), np.float64(0.816), np.float64(0.758), np.float64(0.776)]\n",
      "--- Training --- [threshold, AUC] =  [np.float64(0.641), np.float64(0.816)]\n",
      "--- Iteration 180: Training loss --- [Data, Label, Total] = [446.152185.3, 620.224599.3, 2850.985523.3]\n",
      "!!! pred_type filter\n"
     ]
    },
    {
     "name": "stderr",
     "output_type": "stream",
     "text": [
      " 72%|██████████████████████████████████████████████████████████████████████████████████████▉                                 | 181/250 [00:06<00:02, 30.83it/s]"
     ]
    },
    {
     "name": "stdout",
     "output_type": "stream",
     "text": [
      "--- Validation --- [threshold, AUC, Accuracy, F score] =  [np.float64(0.641), np.float64(0.816), np.float64(0.759), np.float64(0.777)]\n",
      "--- Training --- [threshold, AUC] =  [np.float64(0.643), np.float64(0.817)]\n",
      "--- Iteration 190: Training loss --- [Data, Label, Total] = [442.931013.3, 620.100100.3, 2834.755167.3]\n",
      "!!! pred_type filter\n"
     ]
    },
    {
     "name": "stderr",
     "output_type": "stream",
     "text": [
      " 76%|███████████████████████████████████████████████████████████████████████████████████████████▋                            | 191/250 [00:07<00:01, 30.68it/s]"
     ]
    },
    {
     "name": "stdout",
     "output_type": "stream",
     "text": [
      "--- Validation --- [threshold, AUC, Accuracy, F score] =  [np.float64(0.643), np.float64(0.817), np.float64(0.759), np.float64(0.777)]\n",
      "--- Training --- [threshold, AUC] =  [np.float64(0.644), np.float64(0.817)]\n",
      "--- Iteration 200: Training loss --- [Data, Label, Total] = [440.837437.3, 620.115420.3, 2824.302603.3]\n",
      "!!! pred_type filter\n"
     ]
    },
    {
     "name": "stderr",
     "output_type": "stream",
     "text": [
      " 80%|████████████████████████████████████████████████████████████████████████████████████████████████▍                       | 201/250 [00:07<00:01, 30.96it/s]"
     ]
    },
    {
     "name": "stdout",
     "output_type": "stream",
     "text": [
      "--- Validation --- [threshold, AUC, Accuracy, F score] =  [np.float64(0.644), np.float64(0.817), np.float64(0.759), np.float64(0.777)]\n",
      "--- Training --- [threshold, AUC] =  [np.float64(0.643), np.float64(0.817)]\n",
      "--- Iteration 210: Training loss --- [Data, Label, Total] = [439.585291.3, 620.036853.3, 2817.963308.3]\n",
      "!!! pred_type filter\n"
     ]
    },
    {
     "name": "stderr",
     "output_type": "stream",
     "text": [
      " 84%|█████████████████████████████████████████████████████████████████████████████████████████████████████▎                  | 211/250 [00:07<00:01, 31.15it/s]"
     ]
    },
    {
     "name": "stdout",
     "output_type": "stream",
     "text": [
      "--- Validation --- [threshold, AUC, Accuracy, F score] =  [np.float64(0.643), np.float64(0.817), np.float64(0.759), np.float64(0.777)]\n",
      "--- Training --- [threshold, AUC] =  [np.float64(0.624), np.float64(0.817)]\n",
      "--- Iteration 220: Training loss --- [Data, Label, Total] = [438.881304.3, 620.025860.3, 2814.432381.3]\n",
      "!!! pred_type filter\n"
     ]
    },
    {
     "name": "stderr",
     "output_type": "stream",
     "text": [
      " 88%|██████████████████████████████████████████████████████████████████████████████████████████████████████████              | 221/250 [00:08<00:00, 30.74it/s]"
     ]
    },
    {
     "name": "stdout",
     "output_type": "stream",
     "text": [
      "--- Validation --- [threshold, AUC, Accuracy, F score] =  [np.float64(0.624), np.float64(0.817), np.float64(0.76), np.float64(0.781)]\n",
      "--- Training --- [threshold, AUC] =  [np.float64(0.643), np.float64(0.817)]\n",
      "--- Iteration 230: Training loss --- [Data, Label, Total] = [438.501851.3, 620.037598.3, 2812.546854.3]\n",
      "!!! pred_type filter\n"
     ]
    },
    {
     "name": "stderr",
     "output_type": "stream",
     "text": [
      " 92%|██████████████████████████████████████████████████████████████████████████████████████████████████████████████▉         | 231/250 [00:08<00:00, 30.87it/s]"
     ]
    },
    {
     "name": "stdout",
     "output_type": "stream",
     "text": [
      "--- Validation --- [threshold, AUC, Accuracy, F score] =  [np.float64(0.643), np.float64(0.817), np.float64(0.759), np.float64(0.777)]\n",
      "--- Training --- [threshold, AUC] =  [np.float64(0.643), np.float64(0.817)]\n",
      "--- Iteration 240: Training loss --- [Data, Label, Total] = [438.300922.3, 619.965390.3, 2811.470000.3]\n",
      "!!! pred_type filter\n"
     ]
    },
    {
     "name": "stderr",
     "output_type": "stream",
     "text": [
      "100%|████████████████████████████████████████████████████████████████████████████████████████████████████████████████████████| 250/250 [00:08<00:00, 28.48it/s]"
     ]
    },
    {
     "name": "stdout",
     "output_type": "stream",
     "text": [
      "--- Validation --- [threshold, AUC, Accuracy, F score] =  [np.float64(0.643), np.float64(0.817), np.float64(0.759), np.float64(0.776)]\n",
      "!!! pred_type filter\n"
     ]
    },
    {
     "name": "stderr",
     "output_type": "stream",
     "text": [
      "\n"
     ]
    },
    {
     "name": "stdout",
     "output_type": "stream",
     "text": [
      "num of subgraphs induced on k-paths: 500\n",
      "num of subgraphs induced on k-paths: 500\n",
      "X_list: (49, 1000)\n",
      "2\n",
      "(1, 500)\n",
      "(1, 500)\n",
      "label_vec: (1, 1000)\n",
      "num of subgraphs induced on k-paths: 500\n",
      "num of subgraphs induced on k-paths: 500\n",
      "X_list: (49, 1000)\n",
      "2\n",
      "(1, 500)\n",
      "(1, 500)\n",
      "label_vec: (1, 1000)\n",
      "num of subgraphs induced on k-paths: 500\n",
      "num of subgraphs induced on k-paths: 500\n",
      "X_list: (49, 1000)\n",
      "2\n",
      "(1, 500)\n",
      "(1, 500)\n",
      "label_vec: (1, 1000)\n",
      "num of subgraphs induced on k-paths: 500\n",
      "num of subgraphs induced on k-paths: 500\n",
      "X_list: (49, 1000)\n",
      "2\n",
      "(1, 500)\n",
      "(1, 500)\n",
      "label_vec: (1, 1000)\n",
      "8\n",
      "num of subgraphs induced on k-paths: 500\n",
      "num of subgraphs induced on k-paths: 500\n",
      "X_list: (64, 1000)\n",
      "2\n",
      "(1, 500)\n",
      "(1, 500)\n",
      "label_vec: (1, 1000)\n",
      "num of subgraphs induced on k-paths: 500\n",
      "num of subgraphs induced on k-paths: 673\n",
      "X_list: (64, 1173)\n",
      "2\n",
      "(1, 500)\n",
      "(1, 673)\n",
      "label_vec: (1, 1173)\n",
      "initial loading beta [[-0.28512164  0.37380308  0.21533933  0.68139839 -0.19692083 -0.19954507\n",
      "  -0.16926301 -0.85351992  0.54835745  0.67442169 -0.92801731  0.69661757\n",
      "  -0.85930748  0.85319221  0.76832802  0.69307675  0.92714634]]\n"
     ]
    },
    {
     "name": "stderr",
     "output_type": "stream",
     "text": [
      "  0%|                                                                                                                                  | 0/250 [00:00<?, ?it/s]"
     ]
    },
    {
     "name": "stdout",
     "output_type": "stream",
     "text": [
      "--- Training --- [threshold, AUC] =  [np.float64(0.627), np.float64(0.869)]\n",
      "--- Iteration 0: Training loss --- [Data, Label, Total] = [7391.637690.3, 550.264300.3, 37508.452749.3]\n",
      "--- Training --- [threshold, AUC] =  [np.float64(0.597), np.float64(0.874)]\n",
      "--- Iteration 10: Training loss --- [Data, Label, Total] = [3187.808895.3, 534.823493.3, 16473.867969.3]\n",
      "!!! pred_type filter\n"
     ]
    },
    {
     "name": "stderr",
     "output_type": "stream",
     "text": [
      "  4%|█████▎                                                                                                                   | 11/250 [00:00<00:08, 27.15it/s]"
     ]
    },
    {
     "name": "stdout",
     "output_type": "stream",
     "text": [
      "--- Validation --- [threshold, AUC, Accuracy, F score] =  [np.float64(0.597), np.float64(0.874), np.float64(0.811), np.float64(0.834)]\n",
      "--- Training --- [threshold, AUC] =  [np.float64(0.665), np.float64(0.873)]\n",
      "--- Iteration 20: Training loss --- [Data, Label, Total] = [2221.471636.3, 536.296281.3, 11643.654459.3]\n",
      "!!! pred_type filter\n"
     ]
    },
    {
     "name": "stderr",
     "output_type": "stream",
     "text": [
      "  8%|██████████▏                                                                                                              | 21/250 [00:00<00:08, 26.37it/s]"
     ]
    },
    {
     "name": "stdout",
     "output_type": "stream",
     "text": [
      "--- Validation --- [threshold, AUC, Accuracy, F score] =  [np.float64(0.665), np.float64(0.873), np.float64(0.8), np.float64(0.812)]\n",
      "--- Training --- [threshold, AUC] =  [np.float64(0.646), np.float64(0.873)]\n",
      "--- Iteration 30: Training loss --- [Data, Label, Total] = [1703.612874.3, 537.731066.3, 9055.795435.3]\n",
      "!!! pred_type filter\n"
     ]
    },
    {
     "name": "stderr",
     "output_type": "stream",
     "text": [
      " 12%|███████████████                                                                                                          | 31/250 [00:01<00:08, 26.46it/s]"
     ]
    },
    {
     "name": "stdout",
     "output_type": "stream",
     "text": [
      "--- Validation --- [threshold, AUC, Accuracy, F score] =  [np.float64(0.646), np.float64(0.873), np.float64(0.802), np.float64(0.818)]\n",
      "--- Training --- [threshold, AUC] =  [np.float64(0.63), np.float64(0.873)]\n",
      "--- Iteration 40: Training loss --- [Data, Label, Total] = [1379.516319.3, 538.752475.3, 7436.334070.3]\n",
      "!!! pred_type filter\n"
     ]
    },
    {
     "name": "stderr",
     "output_type": "stream",
     "text": [
      " 16%|███████████████████▊                                                                                                     | 41/250 [00:01<00:08, 26.11it/s]"
     ]
    },
    {
     "name": "stdout",
     "output_type": "stream",
     "text": [
      "--- Validation --- [threshold, AUC, Accuracy, F score] =  [np.float64(0.63), np.float64(0.873), np.float64(0.802), np.float64(0.82)]\n",
      "--- Training --- [threshold, AUC] =  [np.float64(0.687), np.float64(0.874)]\n",
      "--- Iteration 50: Training loss --- [Data, Label, Total] = [1200.885328.3, 538.932766.3, 6543.359408.3]\n",
      "!!! pred_type filter\n"
     ]
    },
    {
     "name": "stderr",
     "output_type": "stream",
     "text": [
      " 20%|████████████████████████▋                                                                                                | 51/250 [00:01<00:07, 26.42it/s]"
     ]
    },
    {
     "name": "stdout",
     "output_type": "stream",
     "text": [
      "--- Validation --- [threshold, AUC, Accuracy, F score] =  [np.float64(0.687), np.float64(0.874), np.float64(0.798), np.float64(0.809)]\n",
      "--- Training --- [threshold, AUC] =  [np.float64(0.643), np.float64(0.874)]\n",
      "--- Iteration 60: Training loss --- [Data, Label, Total] = [1111.137429.3, 538.924329.3, 6094.611475.3]\n",
      "!!! pred_type filter\n"
     ]
    },
    {
     "name": "stderr",
     "output_type": "stream",
     "text": [
      " 24%|█████████████████████████████▌                                                                                           | 61/250 [00:02<00:07, 25.68it/s]"
     ]
    },
    {
     "name": "stdout",
     "output_type": "stream",
     "text": [
      "--- Validation --- [threshold, AUC, Accuracy, F score] =  [np.float64(0.643), np.float64(0.874), np.float64(0.802), np.float64(0.818)]\n",
      "--- Training --- [threshold, AUC] =  [np.float64(0.644), np.float64(0.874)]\n",
      "--- Iteration 70: Training loss --- [Data, Label, Total] = [1067.535395.3, 539.001970.3, 5876.678946.3]\n",
      "!!! pred_type filter\n"
     ]
    },
    {
     "name": "stderr",
     "output_type": "stream",
     "text": [
      " 28%|██████████████████████████████████▎                                                                                      | 71/250 [00:02<00:07, 25.09it/s]"
     ]
    },
    {
     "name": "stdout",
     "output_type": "stream",
     "text": [
      "--- Validation --- [threshold, AUC, Accuracy, F score] =  [np.float64(0.644), np.float64(0.874), np.float64(0.803), np.float64(0.819)]\n",
      "--- Training --- [threshold, AUC] =  [np.float64(0.642), np.float64(0.874)]\n",
      "--- Iteration 80: Training loss --- [Data, Label, Total] = [1046.423374.3, 539.050287.3, 5771.167157.3]\n",
      "!!! pred_type filter\n"
     ]
    },
    {
     "name": "stderr",
     "output_type": "stream",
     "text": [
      " 32%|███████████████████████████████████████▏                                                                                 | 81/250 [00:03<00:06, 25.40it/s]"
     ]
    },
    {
     "name": "stdout",
     "output_type": "stream",
     "text": [
      "--- Validation --- [threshold, AUC, Accuracy, F score] =  [np.float64(0.642), np.float64(0.874), np.float64(0.803), np.float64(0.819)]\n",
      "--- Training --- [threshold, AUC] =  [np.float64(0.643), np.float64(0.874)]\n",
      "--- Iteration 90: Training loss --- [Data, Label, Total] = [1036.431147.3, 539.020382.3, 5721.176115.3]\n",
      "!!! pred_type filter\n"
     ]
    },
    {
     "name": "stderr",
     "output_type": "stream",
     "text": [
      " 36%|████████████████████████████████████████████                                                                             | 91/250 [00:03<00:06, 25.47it/s]"
     ]
    },
    {
     "name": "stdout",
     "output_type": "stream",
     "text": [
      "--- Validation --- [threshold, AUC, Accuracy, F score] =  [np.float64(0.643), np.float64(0.874), np.float64(0.803), np.float64(0.819)]\n",
      "--- Training --- [threshold, AUC] =  [np.float64(0.642), np.float64(0.874)]\n",
      "--- Iteration 100: Training loss --- [Data, Label, Total] = [1031.492877.3, 539.094210.3, 5696.558596.3]\n",
      "!!! pred_type filter\n"
     ]
    },
    {
     "name": "stderr",
     "output_type": "stream",
     "text": [
      " 40%|████████████████████████████████████████████████▍                                                                       | 101/250 [00:03<00:06, 24.27it/s]"
     ]
    },
    {
     "name": "stdout",
     "output_type": "stream",
     "text": [
      "--- Validation --- [threshold, AUC, Accuracy, F score] =  [np.float64(0.642), np.float64(0.874), np.float64(0.803), np.float64(0.819)]\n",
      "--- Training --- [threshold, AUC] =  [np.float64(0.641), np.float64(0.874)]\n",
      "--- Iteration 110: Training loss --- [Data, Label, Total] = [1029.005394.3, 539.172845.3, 5684.199814.3]\n",
      "!!! pred_type filter\n"
     ]
    },
    {
     "name": "stderr",
     "output_type": "stream",
     "text": [
      " 44%|█████████████████████████████████████████████████████▎                                                                  | 111/250 [00:04<00:05, 23.40it/s]"
     ]
    },
    {
     "name": "stdout",
     "output_type": "stream",
     "text": [
      "--- Validation --- [threshold, AUC, Accuracy, F score] =  [np.float64(0.641), np.float64(0.874), np.float64(0.803), np.float64(0.819)]\n",
      "--- Training --- [threshold, AUC] =  [np.float64(0.642), np.float64(0.874)]\n",
      "--- Iteration 120: Training loss --- [Data, Label, Total] = [1027.798027.3, 539.086323.3, 5678.076456.3]\n",
      "!!! pred_type filter\n"
     ]
    },
    {
     "name": "stderr",
     "output_type": "stream",
     "text": [
      " 48%|██████████████████████████████████████████████████████████                                                              | 121/250 [00:04<00:05, 25.64it/s]"
     ]
    },
    {
     "name": "stdout",
     "output_type": "stream",
     "text": [
      "--- Validation --- [threshold, AUC, Accuracy, F score] =  [np.float64(0.642), np.float64(0.874), np.float64(0.803), np.float64(0.819)]\n",
      "--- Training --- [threshold, AUC] =  [np.float64(0.632), np.float64(0.874)]\n",
      "--- Iteration 130: Training loss --- [Data, Label, Total] = [1027.030962.3, 539.009748.3, 5674.164561.3]\n",
      "!!! pred_type filter\n"
     ]
    },
    {
     "name": "stderr",
     "output_type": "stream",
     "text": [
      " 55%|██████████████████████████████████████████████████████████████████▏                                                     | 138/250 [00:05<00:03, 31.89it/s]"
     ]
    },
    {
     "name": "stdout",
     "output_type": "stream",
     "text": [
      "--- Validation --- [threshold, AUC, Accuracy, F score] =  [np.float64(0.632), np.float64(0.874), np.float64(0.805), np.float64(0.822)]\n",
      "--- Training --- [threshold, AUC] =  [np.float64(0.633), np.float64(0.874)]\n",
      "--- Iteration 140: Training loss --- [Data, Label, Total] = [1026.441352.3, 538.825054.3, 5671.031817.3]\n",
      "!!! pred_type filter\n"
     ]
    },
    {
     "name": "stderr",
     "output_type": "stream",
     "text": [
      " 57%|████████████████████████████████████████████████████████████████████▏                                                   | 142/250 [00:05<00:04, 23.57it/s]"
     ]
    },
    {
     "name": "stdout",
     "output_type": "stream",
     "text": [
      "--- Validation --- [threshold, AUC, Accuracy, F score] =  [np.float64(0.633), np.float64(0.874), np.float64(0.805), np.float64(0.822)]\n",
      "--- Training --- [threshold, AUC] =  [np.float64(0.632), np.float64(0.874)]\n",
      "--- Iteration 150: Training loss --- [Data, Label, Total] = [1025.937204.3, 538.877261.3, 5668.563279.3]\n",
      "!!! pred_type filter\n"
     ]
    },
    {
     "name": "stderr",
     "output_type": "stream",
     "text": [
      " 60%|████████████████████████████████████████████████████████████████████████▍                                               | 151/250 [00:05<00:04, 22.82it/s]"
     ]
    },
    {
     "name": "stdout",
     "output_type": "stream",
     "text": [
      "--- Validation --- [threshold, AUC, Accuracy, F score] =  [np.float64(0.632), np.float64(0.874), np.float64(0.805), np.float64(0.822)]\n",
      "--- Training --- [threshold, AUC] =  [np.float64(0.632), np.float64(0.874)]\n",
      "--- Iteration 160: Training loss --- [Data, Label, Total] = [1025.480484.3, 538.841067.3, 5666.243486.3]\n",
      "!!! pred_type filter\n"
     ]
    },
    {
     "name": "stderr",
     "output_type": "stream",
     "text": [
      " 64%|█████████████████████████████████████████████████████████████████████████████▎                                          | 161/250 [00:06<00:03, 24.26it/s]"
     ]
    },
    {
     "name": "stdout",
     "output_type": "stream",
     "text": [
      "--- Validation --- [threshold, AUC, Accuracy, F score] =  [np.float64(0.632), np.float64(0.874), np.float64(0.805), np.float64(0.822)]\n",
      "--- Training --- [threshold, AUC] =  [np.float64(0.632), np.float64(0.874)]\n",
      "--- Iteration 170: Training loss --- [Data, Label, Total] = [1025.050654.3, 538.610757.3, 5663.864026.3]\n",
      "!!! pred_type filter\n"
     ]
    },
    {
     "name": "stderr",
     "output_type": "stream",
     "text": [
      " 68%|██████████████████████████████████████████████████████████████████████████████████                                      | 171/250 [00:06<00:02, 26.43it/s]"
     ]
    },
    {
     "name": "stdout",
     "output_type": "stream",
     "text": [
      "--- Validation --- [threshold, AUC, Accuracy, F score] =  [np.float64(0.632), np.float64(0.874), np.float64(0.805), np.float64(0.822)]\n",
      "--- Training --- [threshold, AUC] =  [np.float64(0.632), np.float64(0.874)]\n",
      "--- Iteration 180: Training loss --- [Data, Label, Total] = [1024.629741.3, 538.595179.3, 5661.743886.3]\n",
      "!!! pred_type filter\n"
     ]
    },
    {
     "name": "stderr",
     "output_type": "stream",
     "text": [
      " 72%|██████████████████████████████████████████████████████████████████████████████████████▉                                 | 181/250 [00:06<00:02, 27.65it/s]"
     ]
    },
    {
     "name": "stdout",
     "output_type": "stream",
     "text": [
      "--- Validation --- [threshold, AUC, Accuracy, F score] =  [np.float64(0.632), np.float64(0.874), np.float64(0.805), np.float64(0.822)]\n",
      "--- Training --- [threshold, AUC] =  [np.float64(0.632), np.float64(0.874)]\n",
      "--- Iteration 190: Training loss --- [Data, Label, Total] = [1024.207369.3, 538.529026.3, 5659.565873.3]\n",
      "!!! pred_type filter\n"
     ]
    },
    {
     "name": "stderr",
     "output_type": "stream",
     "text": [
      " 76%|███████████████████████████████████████████████████████████████████████████████████████████▋                            | 191/250 [00:07<00:02, 27.85it/s]"
     ]
    },
    {
     "name": "stdout",
     "output_type": "stream",
     "text": [
      "--- Validation --- [threshold, AUC, Accuracy, F score] =  [np.float64(0.632), np.float64(0.874), np.float64(0.805), np.float64(0.822)]\n",
      "--- Training --- [threshold, AUC] =  [np.float64(0.628), np.float64(0.874)]\n",
      "--- Iteration 200: Training loss --- [Data, Label, Total] = [1023.771831.3, 538.441248.3, 5657.300402.3]\n",
      "!!! pred_type filter\n"
     ]
    },
    {
     "name": "stderr",
     "output_type": "stream",
     "text": [
      " 80%|████████████████████████████████████████████████████████████████████████████████████████████████▍                       | 201/250 [00:07<00:01, 27.84it/s]"
     ]
    },
    {
     "name": "stdout",
     "output_type": "stream",
     "text": [
      "--- Validation --- [threshold, AUC, Accuracy, F score] =  [np.float64(0.628), np.float64(0.874), np.float64(0.806), np.float64(0.823)]\n",
      "--- Training --- [threshold, AUC] =  [np.float64(0.63), np.float64(0.874)]\n",
      "--- Iteration 210: Training loss --- [Data, Label, Total] = [1023.311095.3, 538.371332.3, 5654.926806.3]\n",
      "!!! pred_type filter\n"
     ]
    },
    {
     "name": "stderr",
     "output_type": "stream",
     "text": [
      " 84%|█████████████████████████████████████████████████████████████████████████████████████████████████████▎                  | 211/250 [00:07<00:01, 29.99it/s]"
     ]
    },
    {
     "name": "stdout",
     "output_type": "stream",
     "text": [
      "--- Validation --- [threshold, AUC, Accuracy, F score] =  [np.float64(0.63), np.float64(0.874), np.float64(0.806), np.float64(0.823)]\n",
      "--- Training --- [threshold, AUC] =  [np.float64(0.633), np.float64(0.874)]\n",
      "--- Iteration 220: Training loss --- [Data, Label, Total] = [1022.815248.3, 538.287530.3, 5652.363771.3]\n",
      "!!! pred_type filter\n"
     ]
    },
    {
     "name": "stderr",
     "output_type": "stream",
     "text": [
      " 88%|██████████████████████████████████████████████████████████████████████████████████████████████████████████              | 221/250 [00:08<00:00, 31.04it/s]"
     ]
    },
    {
     "name": "stdout",
     "output_type": "stream",
     "text": [
      "--- Validation --- [threshold, AUC, Accuracy, F score] =  [np.float64(0.633), np.float64(0.874), np.float64(0.805), np.float64(0.822)]\n",
      "--- Training --- [threshold, AUC] =  [np.float64(0.634), np.float64(0.874)]\n",
      "--- Iteration 230: Training loss --- [Data, Label, Total] = [1022.272845.3, 538.216493.3, 5649.580719.3]\n",
      "!!! pred_type filter\n"
     ]
    },
    {
     "name": "stderr",
     "output_type": "stream",
     "text": [
      " 92%|██████████████████████████████████████████████████████████████████████████████████████████████████████████████▉         | 231/250 [00:08<00:00, 29.36it/s]"
     ]
    },
    {
     "name": "stdout",
     "output_type": "stream",
     "text": [
      "--- Validation --- [threshold, AUC, Accuracy, F score] =  [np.float64(0.634), np.float64(0.874), np.float64(0.805), np.float64(0.822)]\n",
      "--- Training --- [threshold, AUC] =  [np.float64(0.633), np.float64(0.874)]\n",
      "--- Iteration 240: Training loss --- [Data, Label, Total] = [1021.670990.3, 538.213999.3, 5646.568948.3]\n",
      "!!! pred_type filter\n"
     ]
    },
    {
     "name": "stderr",
     "output_type": "stream",
     "text": [
      "100%|████████████████████████████████████████████████████████████████████████████████████████████████████████████████████████| 250/250 [00:08<00:00, 27.82it/s]"
     ]
    },
    {
     "name": "stdout",
     "output_type": "stream",
     "text": [
      "--- Validation --- [threshold, AUC, Accuracy, F score] =  [np.float64(0.633), np.float64(0.874), np.float64(0.805), np.float64(0.822)]\n",
      "!!! pred_type filter\n"
     ]
    },
    {
     "name": "stderr",
     "output_type": "stream",
     "text": [
      "\n"
     ]
    },
    {
     "name": "stdout",
     "output_type": "stream",
     "text": [
      "num of subgraphs induced on k-paths: 500\n",
      "num of subgraphs induced on k-paths: 500\n",
      "X_list: (64, 1000)\n",
      "2\n",
      "(1, 500)\n",
      "(1, 500)\n",
      "label_vec: (1, 1000)\n",
      "num of subgraphs induced on k-paths: 500\n",
      "num of subgraphs induced on k-paths: 500\n",
      "X_list: (64, 1000)\n",
      "2\n",
      "(1, 500)\n",
      "(1, 500)\n",
      "label_vec: (1, 1000)\n",
      "num of subgraphs induced on k-paths: 500\n",
      "num of subgraphs induced on k-paths: 500\n",
      "X_list: (64, 1000)\n",
      "2\n",
      "(1, 500)\n",
      "(1, 500)\n",
      "label_vec: (1, 1000)\n",
      "num of subgraphs induced on k-paths: 500\n",
      "num of subgraphs induced on k-paths: 500\n",
      "X_list: (64, 1000)\n",
      "2\n",
      "(1, 500)\n",
      "(1, 500)\n",
      "label_vec: (1, 1000)\n",
      "9\n",
      "num of subgraphs induced on k-paths: 500\n",
      "num of subgraphs induced on k-paths: 500\n",
      "X_list: (81, 1000)\n",
      "2\n",
      "(1, 500)\n",
      "(1, 500)\n",
      "label_vec: (1, 1000)\n",
      "num of subgraphs induced on k-paths: 500\n",
      "num of subgraphs induced on k-paths: 687\n",
      "X_list: (81, 1187)\n",
      "2\n",
      "(1, 500)\n",
      "(1, 687)\n",
      "label_vec: (1, 1187)\n",
      "initial loading beta [[ 0.11112369 -0.46792536 -0.43355641 -0.68081504  0.93096776 -0.28753854\n",
      "  -0.03798942 -0.75505139 -0.56627019 -0.95757922 -0.26813483 -0.76257627\n",
      "   0.13807176  0.84850172  0.6034077   0.96641948  0.97435614]]\n"
     ]
    },
    {
     "name": "stderr",
     "output_type": "stream",
     "text": [
      "  0%|                                                                                                                                  | 0/250 [00:00<?, ?it/s]"
     ]
    },
    {
     "name": "stdout",
     "output_type": "stream",
     "text": [
      "--- Training --- [threshold, AUC] =  [np.float64(0.627), np.float64(0.85)]\n",
      "--- Iteration 0: Training loss --- [Data, Label, Total] = [10148.762344.3, 588.056986.3, 51331.868708.3]\n",
      "--- Training --- [threshold, AUC] =  [np.float64(0.667), np.float64(0.851)]\n",
      "--- Iteration 10: Training loss --- [Data, Label, Total] = [4554.666674.3, 586.304747.3, 23359.638119.3]\n",
      "!!! pred_type filter\n"
     ]
    },
    {
     "name": "stderr",
     "output_type": "stream",
     "text": [
      "  4%|█████▎                                                                                                                   | 11/250 [00:00<00:09, 26.09it/s]"
     ]
    },
    {
     "name": "stdout",
     "output_type": "stream",
     "text": [
      "--- Validation --- [threshold, AUC, Accuracy, F score] =  [np.float64(0.667), np.float64(0.851), np.float64(0.785), np.float64(0.804)]\n",
      "--- Training --- [threshold, AUC] =  [np.float64(0.681), np.float64(0.854)]\n",
      "--- Iteration 20: Training loss --- [Data, Label, Total] = [3606.336451.3, 582.773572.3, 18614.455825.3]\n",
      "!!! pred_type filter\n"
     ]
    },
    {
     "name": "stderr",
     "output_type": "stream",
     "text": [
      "  8%|██████████▏                                                                                                              | 21/250 [00:00<00:09, 23.94it/s]"
     ]
    },
    {
     "name": "stdout",
     "output_type": "stream",
     "text": [
      "--- Validation --- [threshold, AUC, Accuracy, F score] =  [np.float64(0.681), np.float64(0.854), np.float64(0.791), np.float64(0.807)]\n",
      "--- Training --- [threshold, AUC] =  [np.float64(0.686), np.float64(0.856)]\n",
      "--- Iteration 30: Training loss --- [Data, Label, Total] = [3182.270158.3, 580.884703.3, 16492.235495.3]\n",
      "!!! pred_type filter\n"
     ]
    },
    {
     "name": "stderr",
     "output_type": "stream",
     "text": [
      " 12%|███████████████                                                                                                          | 31/250 [00:01<00:09, 24.20it/s]"
     ]
    },
    {
     "name": "stdout",
     "output_type": "stream",
     "text": [
      "--- Validation --- [threshold, AUC, Accuracy, F score] =  [np.float64(0.686), np.float64(0.856), np.float64(0.792), np.float64(0.806)]\n",
      "--- Training --- [threshold, AUC] =  [np.float64(0.679), np.float64(0.856)]\n",
      "--- Iteration 40: Training loss --- [Data, Label, Total] = [2944.318999.3, 579.195195.3, 15300.790189.3]\n",
      "!!! pred_type filter\n"
     ]
    },
    {
     "name": "stderr",
     "output_type": "stream",
     "text": [
      " 16%|███████████████████▊                                                                                                     | 41/250 [00:01<00:08, 23.35it/s]"
     ]
    },
    {
     "name": "stdout",
     "output_type": "stream",
     "text": [
      "--- Validation --- [threshold, AUC, Accuracy, F score] =  [np.float64(0.679), np.float64(0.856), np.float64(0.797), np.float64(0.812)]\n",
      "--- Training --- [threshold, AUC] =  [np.float64(0.67), np.float64(0.858)]\n",
      "--- Iteration 50: Training loss --- [Data, Label, Total] = [2802.767242.3, 577.129126.3, 14590.965336.3]\n",
      "!!! pred_type filter\n"
     ]
    },
    {
     "name": "stderr",
     "output_type": "stream",
     "text": [
      " 20%|████████████████████████▋                                                                                                | 51/250 [00:02<00:08, 24.05it/s]"
     ]
    },
    {
     "name": "stdout",
     "output_type": "stream",
     "text": [
      "--- Validation --- [threshold, AUC, Accuracy, F score] =  [np.float64(0.67), np.float64(0.858), np.float64(0.799), np.float64(0.815)]\n",
      "--- Training --- [threshold, AUC] =  [np.float64(0.692), np.float64(0.859)]\n",
      "--- Iteration 60: Training loss --- [Data, Label, Total] = [2695.771219.3, 574.630804.3, 14053.486900.3]\n",
      "!!! pred_type filter\n"
     ]
    },
    {
     "name": "stderr",
     "output_type": "stream",
     "text": [
      " 24%|█████████████████████████████▌                                                                                           | 61/250 [00:02<00:07, 23.83it/s]"
     ]
    },
    {
     "name": "stdout",
     "output_type": "stream",
     "text": [
      "--- Validation --- [threshold, AUC, Accuracy, F score] =  [np.float64(0.692), np.float64(0.859), np.float64(0.794), np.float64(0.807)]\n",
      "--- Training --- [threshold, AUC] =  [np.float64(0.683), np.float64(0.861)]\n",
      "--- Iteration 70: Training loss --- [Data, Label, Total] = [2595.280265.3, 572.260330.3, 13548.661656.3]\n",
      "!!! pred_type filter\n"
     ]
    },
    {
     "name": "stderr",
     "output_type": "stream",
     "text": [
      " 28%|██████████████████████████████████▎                                                                                      | 71/250 [00:02<00:07, 23.47it/s]"
     ]
    },
    {
     "name": "stdout",
     "output_type": "stream",
     "text": [
      "--- Validation --- [threshold, AUC, Accuracy, F score] =  [np.float64(0.683), np.float64(0.861), np.float64(0.795), np.float64(0.81)]\n",
      "--- Training --- [threshold, AUC] =  [np.float64(0.689), np.float64(0.862)]\n",
      "--- Iteration 80: Training loss --- [Data, Label, Total] = [2532.396319.3, 570.548493.3, 13232.530089.3]\n",
      "!!! pred_type filter\n"
     ]
    },
    {
     "name": "stderr",
     "output_type": "stream",
     "text": [
      " 32%|███████████████████████████████████████▏                                                                                 | 81/250 [00:03<00:06, 24.27it/s]"
     ]
    },
    {
     "name": "stdout",
     "output_type": "stream",
     "text": [
      "--- Validation --- [threshold, AUC, Accuracy, F score] =  [np.float64(0.689), np.float64(0.862), np.float64(0.798), np.float64(0.811)]\n",
      "--- Training --- [threshold, AUC] =  [np.float64(0.686), np.float64(0.863)]\n",
      "--- Iteration 90: Training loss --- [Data, Label, Total] = [2501.311183.3, 569.249752.3, 13075.805665.3]\n",
      "!!! pred_type filter\n"
     ]
    },
    {
     "name": "stderr",
     "output_type": "stream",
     "text": [
      " 36%|████████████████████████████████████████████                                                                             | 91/250 [00:03<00:06, 24.88it/s]"
     ]
    },
    {
     "name": "stdout",
     "output_type": "stream",
     "text": [
      "--- Validation --- [threshold, AUC, Accuracy, F score] =  [np.float64(0.686), np.float64(0.863), np.float64(0.799), np.float64(0.813)]\n",
      "--- Training --- [threshold, AUC] =  [np.float64(0.689), np.float64(0.864)]\n",
      "--- Iteration 100: Training loss --- [Data, Label, Total] = [2481.896157.3, 568.216186.3, 12977.696969.3]\n",
      "!!! pred_type filter\n"
     ]
    },
    {
     "name": "stderr",
     "output_type": "stream",
     "text": [
      " 40%|████████████████████████████████████████████████▍                                                                       | 101/250 [00:04<00:06, 23.45it/s]"
     ]
    },
    {
     "name": "stdout",
     "output_type": "stream",
     "text": [
      "--- Validation --- [threshold, AUC, Accuracy, F score] =  [np.float64(0.689), np.float64(0.864), np.float64(0.799), np.float64(0.811)]\n",
      "--- Training --- [threshold, AUC] =  [np.float64(0.676), np.float64(0.864)]\n",
      "--- Iteration 110: Training loss --- [Data, Label, Total] = [2465.779171.3, 567.434013.3, 12896.329869.3]\n",
      "!!! pred_type filter\n"
     ]
    },
    {
     "name": "stderr",
     "output_type": "stream",
     "text": [
      " 44%|█████████████████████████████████████████████████████▎                                                                  | 111/250 [00:04<00:05, 24.22it/s]"
     ]
    },
    {
     "name": "stdout",
     "output_type": "stream",
     "text": [
      "--- Validation --- [threshold, AUC, Accuracy, F score] =  [np.float64(0.676), np.float64(0.864), np.float64(0.805), np.float64(0.822)]\n",
      "--- Training --- [threshold, AUC] =  [np.float64(0.678), np.float64(0.865)]\n",
      "--- Iteration 120: Training loss --- [Data, Label, Total] = [2451.467396.3, 566.717889.3, 12824.054869.3]\n",
      "!!! pred_type filter\n"
     ]
    },
    {
     "name": "stderr",
     "output_type": "stream",
     "text": [
      " 48%|██████████████████████████████████████████████████████████                                                              | 121/250 [00:04<00:05, 24.98it/s]"
     ]
    },
    {
     "name": "stdout",
     "output_type": "stream",
     "text": [
      "--- Validation --- [threshold, AUC, Accuracy, F score] =  [np.float64(0.678), np.float64(0.865), np.float64(0.81), np.float64(0.825)]\n",
      "--- Training --- [threshold, AUC] =  [np.float64(0.683), np.float64(0.865)]\n",
      "--- Iteration 130: Training loss --- [Data, Label, Total] = [2437.220833.3, 566.295438.3, 12752.399603.3]\n",
      "!!! pred_type filter\n"
     ]
    },
    {
     "name": "stderr",
     "output_type": "stream",
     "text": [
      " 52%|██████████████████████████████████████████████████████████████▉                                                         | 131/250 [00:05<00:04, 25.27it/s]"
     ]
    },
    {
     "name": "stdout",
     "output_type": "stream",
     "text": [
      "--- Validation --- [threshold, AUC, Accuracy, F score] =  [np.float64(0.683), np.float64(0.865), np.float64(0.808), np.float64(0.823)]\n",
      "--- Training --- [threshold, AUC] =  [np.float64(0.678), np.float64(0.865)]\n",
      "--- Iteration 140: Training loss --- [Data, Label, Total] = [2422.513708.3, 566.133445.3, 12678.701983.3]\n",
      "!!! pred_type filter\n"
     ]
    },
    {
     "name": "stderr",
     "output_type": "stream",
     "text": [
      " 56%|███████████████████████████████████████████████████████████████████▋                                                    | 141/250 [00:05<00:04, 26.12it/s]"
     ]
    },
    {
     "name": "stdout",
     "output_type": "stream",
     "text": [
      "--- Validation --- [threshold, AUC, Accuracy, F score] =  [np.float64(0.678), np.float64(0.865), np.float64(0.809), np.float64(0.824)]\n",
      "--- Training --- [threshold, AUC] =  [np.float64(0.681), np.float64(0.865)]\n",
      "--- Iteration 150: Training loss --- [Data, Label, Total] = [2407.108480.3, 566.122383.3, 12601.664781.3]\n",
      "!!! pred_type filter\n"
     ]
    },
    {
     "name": "stderr",
     "output_type": "stream",
     "text": [
      " 60%|████████████████████████████████████████████████████████████████████████▍                                               | 151/250 [00:06<00:03, 25.34it/s]"
     ]
    },
    {
     "name": "stdout",
     "output_type": "stream",
     "text": [
      "--- Validation --- [threshold, AUC, Accuracy, F score] =  [np.float64(0.681), np.float64(0.865), np.float64(0.806), np.float64(0.821)]\n",
      "--- Training --- [threshold, AUC] =  [np.float64(0.679), np.float64(0.865)]\n",
      "--- Iteration 160: Training loss --- [Data, Label, Total] = [2390.673024.3, 566.362236.3, 12519.727356.3]\n",
      "!!! pred_type filter\n"
     ]
    },
    {
     "name": "stderr",
     "output_type": "stream",
     "text": [
      " 64%|█████████████████████████████████████████████████████████████████████████████▎                                          | 161/250 [00:06<00:03, 26.99it/s]"
     ]
    },
    {
     "name": "stdout",
     "output_type": "stream",
     "text": [
      "--- Validation --- [threshold, AUC, Accuracy, F score] =  [np.float64(0.679), np.float64(0.865), np.float64(0.806), np.float64(0.822)]\n",
      "--- Training --- [threshold, AUC] =  [np.float64(0.671), np.float64(0.865)]\n",
      "--- Iteration 170: Training loss --- [Data, Label, Total] = [2372.390549.3, 566.745440.3, 12428.698184.3]\n",
      "!!! pred_type filter\n"
     ]
    },
    {
     "name": "stderr",
     "output_type": "stream",
     "text": [
      " 68%|██████████████████████████████████████████████████████████████████████████████████                                      | 171/250 [00:06<00:02, 27.61it/s]"
     ]
    },
    {
     "name": "stdout",
     "output_type": "stream",
     "text": [
      "--- Validation --- [threshold, AUC, Accuracy, F score] =  [np.float64(0.671), np.float64(0.865), np.float64(0.807), np.float64(0.823)]\n",
      "--- Training --- [threshold, AUC] =  [np.float64(0.678), np.float64(0.865)]\n",
      "--- Iteration 180: Training loss --- [Data, Label, Total] = [2351.160452.3, 567.096914.3, 12322.899174.3]\n",
      "!!! pred_type filter\n"
     ]
    },
    {
     "name": "stderr",
     "output_type": "stream",
     "text": [
      " 72%|██████████████████████████████████████████████████████████████████████████████████████▉                                 | 181/250 [00:07<00:02, 29.43it/s]"
     ]
    },
    {
     "name": "stdout",
     "output_type": "stream",
     "text": [
      "--- Validation --- [threshold, AUC, Accuracy, F score] =  [np.float64(0.678), np.float64(0.865), np.float64(0.806), np.float64(0.822)]\n",
      "--- Training --- [threshold, AUC] =  [np.float64(0.676), np.float64(0.865)]\n",
      "--- Iteration 190: Training loss --- [Data, Label, Total] = [2326.204990.3, 567.662036.3, 12198.686987.3]\n",
      "!!! pred_type filter\n"
     ]
    },
    {
     "name": "stderr",
     "output_type": "stream",
     "text": [
      " 76%|███████████████████████████████████████████████████████████████████████████████████████████▋                            | 191/250 [00:07<00:01, 30.66it/s]"
     ]
    },
    {
     "name": "stdout",
     "output_type": "stream",
     "text": [
      "--- Validation --- [threshold, AUC, Accuracy, F score] =  [np.float64(0.676), np.float64(0.865), np.float64(0.807), np.float64(0.823)]\n",
      "--- Training --- [threshold, AUC] =  [np.float64(0.674), np.float64(0.865)]\n",
      "--- Iteration 200: Training loss --- [Data, Label, Total] = [2297.802861.3, 568.097183.3, 12057.111489.3]\n",
      "!!! pred_type filter\n"
     ]
    },
    {
     "name": "stderr",
     "output_type": "stream",
     "text": [
      " 80%|████████████████████████████████████████████████████████████████████████████████████████████████▍                       | 201/250 [00:07<00:01, 31.55it/s]"
     ]
    },
    {
     "name": "stdout",
     "output_type": "stream",
     "text": [
      "--- Validation --- [threshold, AUC, Accuracy, F score] =  [np.float64(0.674), np.float64(0.865), np.float64(0.806), np.float64(0.823)]\n",
      "--- Training --- [threshold, AUC] =  [np.float64(0.678), np.float64(0.865)]\n",
      "--- Iteration 210: Training loss --- [Data, Label, Total] = [2266.077283.3, 568.439884.3, 11898.826297.3]\n",
      "!!! pred_type filter\n"
     ]
    },
    {
     "name": "stderr",
     "output_type": "stream",
     "text": [
      " 84%|█████████████████████████████████████████████████████████████████████████████████████████████████████▎                  | 211/250 [00:07<00:01, 32.08it/s]"
     ]
    },
    {
     "name": "stdout",
     "output_type": "stream",
     "text": [
      "--- Validation --- [threshold, AUC, Accuracy, F score] =  [np.float64(0.678), np.float64(0.865), np.float64(0.805), np.float64(0.821)]\n",
      "--- Training --- [threshold, AUC] =  [np.float64(0.678), np.float64(0.865)]\n",
      "--- Iteration 220: Training loss --- [Data, Label, Total] = [2233.354162.3, 568.702941.3, 11735.473753.3]\n",
      "!!! pred_type filter\n"
     ]
    },
    {
     "name": "stderr",
     "output_type": "stream",
     "text": [
      " 88%|██████████████████████████████████████████████████████████████████████████████████████████████████████████              | 221/250 [00:08<00:00, 32.75it/s]"
     ]
    },
    {
     "name": "stdout",
     "output_type": "stream",
     "text": [
      "--- Validation --- [threshold, AUC, Accuracy, F score] =  [np.float64(0.678), np.float64(0.865), np.float64(0.807), np.float64(0.823)]\n",
      "--- Training --- [threshold, AUC] =  [np.float64(0.678), np.float64(0.864)]\n",
      "--- Iteration 230: Training loss --- [Data, Label, Total] = [2203.491621.3, 568.873811.3, 11586.331915.3]\n",
      "!!! pred_type filter\n"
     ]
    },
    {
     "name": "stderr",
     "output_type": "stream",
     "text": [
      " 92%|██████████████████████████████████████████████████████████████████████████████████████████████████████████████▉         | 231/250 [00:08<00:00, 32.98it/s]"
     ]
    },
    {
     "name": "stdout",
     "output_type": "stream",
     "text": [
      "--- Validation --- [threshold, AUC, Accuracy, F score] =  [np.float64(0.678), np.float64(0.864), np.float64(0.806), np.float64(0.822)]\n",
      "--- Training --- [threshold, AUC] =  [np.float64(0.677), np.float64(0.864)]\n",
      "--- Iteration 240: Training loss --- [Data, Label, Total] = [2180.142055.3, 569.166278.3, 11469.876554.3]\n",
      "!!! pred_type filter\n"
     ]
    },
    {
     "name": "stderr",
     "output_type": "stream",
     "text": [
      "100%|████████████████████████████████████████████████████████████████████████████████████████████████████████████████████████| 250/250 [00:08<00:00, 27.92it/s]"
     ]
    },
    {
     "name": "stdout",
     "output_type": "stream",
     "text": [
      "--- Validation --- [threshold, AUC, Accuracy, F score] =  [np.float64(0.677), np.float64(0.864), np.float64(0.806), np.float64(0.823)]\n",
      "!!! pred_type filter\n"
     ]
    },
    {
     "name": "stderr",
     "output_type": "stream",
     "text": [
      "\n"
     ]
    },
    {
     "name": "stdout",
     "output_type": "stream",
     "text": [
      "num of subgraphs induced on k-paths: 500\n",
      "num of subgraphs induced on k-paths: 500\n",
      "X_list: (81, 1000)\n",
      "2\n",
      "(1, 500)\n",
      "(1, 500)\n",
      "label_vec: (1, 1000)\n",
      "num of subgraphs induced on k-paths: 500\n",
      "num of subgraphs induced on k-paths: 500\n",
      "X_list: (81, 1000)\n",
      "2\n",
      "(1, 500)\n",
      "(1, 500)\n",
      "label_vec: (1, 1000)\n",
      "num of subgraphs induced on k-paths: 500\n",
      "num of subgraphs induced on k-paths: 500\n",
      "X_list: (81, 1000)\n",
      "2\n",
      "(1, 500)\n",
      "(1, 500)\n",
      "label_vec: (1, 1000)\n",
      "num of subgraphs induced on k-paths: 500\n",
      "num of subgraphs induced on k-paths: 500\n",
      "X_list: (81, 1000)\n",
      "2\n",
      "(1, 500)\n",
      "(1, 500)\n",
      "label_vec: (1, 1000)\n"
     ]
    }
   ],
   "source": [
    "for i in range(5,10):\n",
    "    print(i)\n",
    "    accu.append(roc.run(i))"
   ]
  },
  {
   "cell_type": "code",
   "execution_count": 4,
   "id": "dd488593-1c7b-4d46-a4f7-f53b0c32f880",
   "metadata": {},
   "outputs": [
    {
     "name": "stdout",
     "output_type": "stream",
     "text": [
      "10\n",
      "num of subgraphs induced on k-paths: 500\n",
      "num of subgraphs induced on k-paths: 500\n",
      "X_list: (100, 1000)\n",
      "2\n",
      "(1, 500)\n",
      "(1, 500)\n",
      "label_vec: (1, 1000)\n",
      "num of subgraphs induced on k-paths: 500\n",
      "num of subgraphs induced on k-paths: 720\n",
      "X_list: (100, 1220)\n",
      "2\n",
      "(1, 500)\n",
      "(1, 720)\n",
      "label_vec: (1, 1220)\n",
      "initial loading beta [[ 0.58559015 -0.81679979 -0.37185165 -0.69768433  0.78945696  0.94356561\n",
      "   0.66002963 -0.99742754 -0.514387   -0.43515459  0.38417934  0.68898792\n",
      "  -0.51269076 -0.82297727  0.13917753  0.76525699 -0.83094665]]\n"
     ]
    },
    {
     "name": "stderr",
     "output_type": "stream",
     "text": [
      "  0%|                                                                                                                                  | 0/250 [00:00<?, ?it/s]"
     ]
    },
    {
     "name": "stdout",
     "output_type": "stream",
     "text": [
      "--- Training --- [threshold, AUC] =  [np.float64(0.669), np.float64(0.903)]\n",
      "--- Iteration 0: Training loss --- [Data, Label, Total] = [12515.691022.3, 502.632292.3, 63081.087404.3]\n",
      "--- Training --- [threshold, AUC] =  [np.float64(0.663), np.float64(0.907)]\n",
      "--- Iteration 10: Training loss --- [Data, Label, Total] = [6268.867757.3, 491.287816.3, 31835.626603.3]\n",
      "!!! pred_type filter\n"
     ]
    },
    {
     "name": "stderr",
     "output_type": "stream",
     "text": [
      "  4%|█████▎                                                                                                                   | 11/250 [00:00<00:12, 19.55it/s]"
     ]
    },
    {
     "name": "stdout",
     "output_type": "stream",
     "text": [
      "--- Validation --- [threshold, AUC, Accuracy, F score] =  [np.float64(0.663), np.float64(0.907), np.float64(0.834), np.float64(0.853)]\n",
      "--- Training --- [threshold, AUC] =  [np.float64(0.654), np.float64(0.91)]\n",
      "--- Iteration 20: Training loss --- [Data, Label, Total] = [5169.351807.3, 487.359434.3, 26334.118468.3]\n",
      "!!! pred_type filter\n"
     ]
    },
    {
     "name": "stderr",
     "output_type": "stream",
     "text": [
      "  8%|██████████▏                                                                                                              | 21/250 [00:01<00:12, 18.77it/s]"
     ]
    },
    {
     "name": "stdout",
     "output_type": "stream",
     "text": [
      "--- Validation --- [threshold, AUC, Accuracy, F score] =  [np.float64(0.654), np.float64(0.91), np.float64(0.833), np.float64(0.853)]\n",
      "--- Training --- [threshold, AUC] =  [np.float64(0.686), np.float64(0.911)]\n",
      "--- Iteration 30: Training loss --- [Data, Label, Total] = [4569.009734.3, 489.439338.3, 23334.488008.3]\n",
      "!!! pred_type filter\n"
     ]
    },
    {
     "name": "stderr",
     "output_type": "stream",
     "text": [
      " 12%|███████████████                                                                                                          | 31/250 [00:01<00:11, 19.21it/s]"
     ]
    },
    {
     "name": "stdout",
     "output_type": "stream",
     "text": [
      "--- Validation --- [threshold, AUC, Accuracy, F score] =  [np.float64(0.686), np.float64(0.911), np.float64(0.831), np.float64(0.849)]\n",
      "--- Training --- [threshold, AUC] =  [np.float64(0.688), np.float64(0.912)]\n",
      "--- Iteration 40: Training loss --- [Data, Label, Total] = [4099.502921.3, 488.700988.3, 20986.215592.3]\n",
      "!!! pred_type filter\n"
     ]
    },
    {
     "name": "stderr",
     "output_type": "stream",
     "text": [
      " 16%|███████████████████▊                                                                                                     | 41/250 [00:01<00:09, 21.43it/s]"
     ]
    },
    {
     "name": "stdout",
     "output_type": "stream",
     "text": [
      "--- Validation --- [threshold, AUC, Accuracy, F score] =  [np.float64(0.688), np.float64(0.912), np.float64(0.836), np.float64(0.853)]\n",
      "--- Training --- [threshold, AUC] =  [np.float64(0.655), np.float64(0.913)]\n",
      "--- Iteration 50: Training loss --- [Data, Label, Total] = [3739.133160.3, 485.182713.3, 19180.848511.3]\n",
      "!!! pred_type filter\n"
     ]
    },
    {
     "name": "stderr",
     "output_type": "stream",
     "text": [
      " 20%|████████████████████████▋                                                                                                | 51/250 [00:02<00:08, 23.58it/s]"
     ]
    },
    {
     "name": "stdout",
     "output_type": "stream",
     "text": [
      "--- Validation --- [threshold, AUC, Accuracy, F score] =  [np.float64(0.655), np.float64(0.913), np.float64(0.841), np.float64(0.86)]\n",
      "--- Training --- [threshold, AUC] =  [np.float64(0.645), np.float64(0.915)]\n",
      "--- Iteration 60: Training loss --- [Data, Label, Total] = [3483.525473.3, 482.576938.3, 17900.204301.3]\n",
      "!!! pred_type filter\n"
     ]
    },
    {
     "name": "stderr",
     "output_type": "stream",
     "text": [
      " 24%|█████████████████████████████▌                                                                                           | 61/250 [00:02<00:07, 25.25it/s]"
     ]
    },
    {
     "name": "stdout",
     "output_type": "stream",
     "text": [
      "--- Validation --- [threshold, AUC, Accuracy, F score] =  [np.float64(0.645), np.float64(0.915), np.float64(0.844), np.float64(0.864)]\n",
      "--- Training --- [threshold, AUC] =  [np.float64(0.654), np.float64(0.916)]\n",
      "--- Iteration 70: Training loss --- [Data, Label, Total] = [3323.525181.3, 480.619078.3, 17098.244984.3]\n",
      "!!! pred_type filter\n"
     ]
    },
    {
     "name": "stderr",
     "output_type": "stream",
     "text": [
      " 28%|██████████████████████████████████▎                                                                                      | 71/250 [00:03<00:06, 26.31it/s]"
     ]
    },
    {
     "name": "stdout",
     "output_type": "stream",
     "text": [
      "--- Validation --- [threshold, AUC, Accuracy, F score] =  [np.float64(0.654), np.float64(0.916), np.float64(0.842), np.float64(0.861)]\n",
      "--- Training --- [threshold, AUC] =  [np.float64(0.652), np.float64(0.916)]\n",
      "--- Iteration 80: Training loss --- [Data, Label, Total] = [3232.862988.3, 479.525388.3, 16643.840328.3]\n",
      "!!! pred_type filter\n"
     ]
    },
    {
     "name": "stderr",
     "output_type": "stream",
     "text": [
      " 32%|███████████████████████████████████████▏                                                                                 | 81/250 [00:03<00:06, 27.16it/s]"
     ]
    },
    {
     "name": "stdout",
     "output_type": "stream",
     "text": [
      "--- Validation --- [threshold, AUC, Accuracy, F score] =  [np.float64(0.652), np.float64(0.916), np.float64(0.842), np.float64(0.861)]\n",
      "--- Training --- [threshold, AUC] =  [np.float64(0.657), np.float64(0.917)]\n",
      "--- Iteration 90: Training loss --- [Data, Label, Total] = [3179.716053.3, 478.806436.3, 16377.386700.3]\n",
      "!!! pred_type filter\n"
     ]
    },
    {
     "name": "stderr",
     "output_type": "stream",
     "text": [
      " 40%|████████████████████████████████████████████████                                                                        | 100/250 [00:03<00:04, 33.43it/s]"
     ]
    },
    {
     "name": "stdout",
     "output_type": "stream",
     "text": [
      "--- Validation --- [threshold, AUC, Accuracy, F score] =  [np.float64(0.657), np.float64(0.917), np.float64(0.841), np.float64(0.86)]\n",
      "--- Training --- [threshold, AUC] =  [np.float64(0.658), np.float64(0.917)]\n",
      "--- Iteration 100: Training loss --- [Data, Label, Total] = [3146.892214.3, 478.755883.3, 16213.216954.3]\n",
      "!!! pred_type filter\n"
     ]
    },
    {
     "name": "stderr",
     "output_type": "stream",
     "text": [
      " 42%|██████████████████████████████████████████████████▍                                                                     | 105/250 [00:04<00:05, 27.97it/s]"
     ]
    },
    {
     "name": "stdout",
     "output_type": "stream",
     "text": [
      "--- Validation --- [threshold, AUC, Accuracy, F score] =  [np.float64(0.658), np.float64(0.917), np.float64(0.842), np.float64(0.861)]\n",
      "--- Training --- [threshold, AUC] =  [np.float64(0.658), np.float64(0.917)]\n",
      "--- Iteration 110: Training loss --- [Data, Label, Total] = [3129.228521.3, 478.359004.3, 16124.501609.3]\n",
      "!!! pred_type filter\n"
     ]
    },
    {
     "name": "stderr",
     "output_type": "stream",
     "text": [
      " 44%|█████████████████████████████████████████████████████▎                                                                  | 111/250 [00:04<00:05, 25.70it/s]"
     ]
    },
    {
     "name": "stdout",
     "output_type": "stream",
     "text": [
      "--- Validation --- [threshold, AUC, Accuracy, F score] =  [np.float64(0.658), np.float64(0.917), np.float64(0.841), np.float64(0.86)]\n",
      "--- Training --- [threshold, AUC] =  [np.float64(0.66), np.float64(0.918)]\n",
      "--- Iteration 120: Training loss --- [Data, Label, Total] = [3118.206946.3, 478.226056.3, 16069.260785.3]\n",
      "!!! pred_type filter\n"
     ]
    },
    {
     "name": "stderr",
     "output_type": "stream",
     "text": [
      " 48%|██████████████████████████████████████████████████████████                                                              | 121/250 [00:04<00:04, 27.29it/s]"
     ]
    },
    {
     "name": "stdout",
     "output_type": "stream",
     "text": [
      "--- Validation --- [threshold, AUC, Accuracy, F score] =  [np.float64(0.66), np.float64(0.918), np.float64(0.841), np.float64(0.86)]\n",
      "--- Training --- [threshold, AUC] =  [np.float64(0.651), np.float64(0.918)]\n",
      "--- Iteration 130: Training loss --- [Data, Label, Total] = [3109.455630.3, 477.631365.3, 16024.909516.3]\n",
      "!!! pred_type filter\n"
     ]
    },
    {
     "name": "stderr",
     "output_type": "stream",
     "text": [
      " 52%|██████████████████████████████████████████████████████████████▉                                                         | 131/250 [00:05<00:04, 28.45it/s]"
     ]
    },
    {
     "name": "stdout",
     "output_type": "stream",
     "text": [
      "--- Validation --- [threshold, AUC, Accuracy, F score] =  [np.float64(0.651), np.float64(0.918), np.float64(0.842), np.float64(0.862)]\n",
      "--- Training --- [threshold, AUC] =  [np.float64(0.651), np.float64(0.918)]\n",
      "--- Iteration 140: Training loss --- [Data, Label, Total] = [3101.821907.3, 477.247797.3, 15986.357333.3]\n",
      "!!! pred_type filter\n"
     ]
    },
    {
     "name": "stderr",
     "output_type": "stream",
     "text": [
      " 56%|███████████████████████████████████████████████████████████████████▋                                                    | 141/250 [00:05<00:03, 29.33it/s]"
     ]
    },
    {
     "name": "stdout",
     "output_type": "stream",
     "text": [
      "--- Validation --- [threshold, AUC, Accuracy, F score] =  [np.float64(0.651), np.float64(0.918), np.float64(0.843), np.float64(0.863)]\n",
      "--- Training --- [threshold, AUC] =  [np.float64(0.65), np.float64(0.918)]\n",
      "--- Iteration 150: Training loss --- [Data, Label, Total] = [3094.889379.3, 476.833799.3, 15951.280693.3]\n",
      "!!! pred_type filter\n"
     ]
    },
    {
     "name": "stderr",
     "output_type": "stream",
     "text": [
      " 60%|████████████████████████████████████████████████████████████████████████▍                                               | 151/250 [00:05<00:03, 30.06it/s]"
     ]
    },
    {
     "name": "stdout",
     "output_type": "stream",
     "text": [
      "--- Validation --- [threshold, AUC, Accuracy, F score] =  [np.float64(0.65), np.float64(0.918), np.float64(0.843), np.float64(0.863)]\n",
      "--- Training --- [threshold, AUC] =  [np.float64(0.65), np.float64(0.918)]\n",
      "--- Iteration 160: Training loss --- [Data, Label, Total] = [3088.552165.3, 476.307287.3, 15919.068111.3]\n",
      "!!! pred_type filter\n"
     ]
    },
    {
     "name": "stderr",
     "output_type": "stream",
     "text": [
      " 64%|█████████████████████████████████████████████████████████████████████████████▎                                          | 161/250 [00:06<00:03, 29.46it/s]"
     ]
    },
    {
     "name": "stdout",
     "output_type": "stream",
     "text": [
      "--- Validation --- [threshold, AUC, Accuracy, F score] =  [np.float64(0.65), np.float64(0.918), np.float64(0.843), np.float64(0.863)]\n",
      "--- Training --- [threshold, AUC] =  [np.float64(0.7), np.float64(0.918)]\n",
      "--- Iteration 170: Training loss --- [Data, Label, Total] = [3082.900599.3, 475.879193.3, 15890.382189.3]\n",
      "!!! pred_type filter\n"
     ]
    },
    {
     "name": "stderr",
     "output_type": "stream",
     "text": [
      " 68%|██████████████████████████████████████████████████████████████████████████████████                                      | 171/250 [00:06<00:02, 27.22it/s]"
     ]
    },
    {
     "name": "stdout",
     "output_type": "stream",
     "text": [
      "--- Validation --- [threshold, AUC, Accuracy, F score] =  [np.float64(0.7), np.float64(0.918), np.float64(0.836), np.float64(0.853)]\n",
      "--- Training --- [threshold, AUC] =  [np.float64(0.638), np.float64(0.918)]\n",
      "--- Iteration 180: Training loss --- [Data, Label, Total] = [3077.941800.3, 475.183830.3, 15864.892829.3]\n",
      "!!! pred_type filter\n"
     ]
    },
    {
     "name": "stderr",
     "output_type": "stream",
     "text": [
      " 75%|██████████████████████████████████████████████████████████████████████████████████████████▏                             | 188/250 [00:07<00:01, 31.47it/s]"
     ]
    },
    {
     "name": "stdout",
     "output_type": "stream",
     "text": [
      "--- Validation --- [threshold, AUC, Accuracy, F score] =  [np.float64(0.638), np.float64(0.918), np.float64(0.845), np.float64(0.866)]\n",
      "--- Training --- [threshold, AUC] =  [np.float64(0.696), np.float64(0.918)]\n",
      "--- Iteration 190: Training loss --- [Data, Label, Total] = [3073.552194.3, 474.611444.3, 15842.372412.3]\n",
      "!!! pred_type filter\n"
     ]
    },
    {
     "name": "stderr",
     "output_type": "stream",
     "text": [
      " 77%|████████████████████████████████████████████████████████████████████████████████████████████▋                           | 193/250 [00:07<00:02, 19.50it/s]"
     ]
    },
    {
     "name": "stdout",
     "output_type": "stream",
     "text": [
      "--- Validation --- [threshold, AUC, Accuracy, F score] =  [np.float64(0.696), np.float64(0.918), np.float64(0.837), np.float64(0.854)]\n",
      "--- Training --- [threshold, AUC] =  [np.float64(0.683), np.float64(0.918)]\n",
      "--- Iteration 200: Training loss --- [Data, Label, Total] = [3069.633679.3, 473.839227.3, 15822.007621.3]\n",
      "!!! pred_type filter\n"
     ]
    },
    {
     "name": "stderr",
     "output_type": "stream",
     "text": [
      " 80%|████████████████████████████████████████████████████████████████████████████████████████████████▍                       | 201/250 [00:08<00:02, 20.06it/s]"
     ]
    },
    {
     "name": "stdout",
     "output_type": "stream",
     "text": [
      "--- Validation --- [threshold, AUC, Accuracy, F score] =  [np.float64(0.683), np.float64(0.918), np.float64(0.839), np.float64(0.857)]\n",
      "--- Training --- [threshold, AUC] =  [np.float64(0.7), np.float64(0.919)]\n",
      "--- Iteration 210: Training loss --- [Data, Label, Total] = [3066.163725.3, 473.173898.3, 15803.992525.3]\n",
      "!!! pred_type filter\n"
     ]
    },
    {
     "name": "stderr",
     "output_type": "stream",
     "text": [
      " 87%|████████████████████████████████████████████████████████████████████████████████████████████████████████▋               | 218/250 [00:08<00:01, 26.28it/s]"
     ]
    },
    {
     "name": "stdout",
     "output_type": "stream",
     "text": [
      "--- Validation --- [threshold, AUC, Accuracy, F score] =  [np.float64(0.7), np.float64(0.919), np.float64(0.838), np.float64(0.854)]\n",
      "--- Training --- [threshold, AUC] =  [np.float64(0.647), np.float64(0.919)]\n",
      "--- Iteration 220: Training loss --- [Data, Label, Total] = [3063.178708.3, 472.494479.3, 15788.388019.3]\n",
      "!!! pred_type filter\n"
     ]
    },
    {
     "name": "stderr",
     "output_type": "stream",
     "text": [
      " 89%|██████████████████████████████████████████████████████████████████████████████████████████████████████████▌             | 222/250 [00:08<00:01, 21.95it/s]"
     ]
    },
    {
     "name": "stdout",
     "output_type": "stream",
     "text": [
      "--- Validation --- [threshold, AUC, Accuracy, F score] =  [np.float64(0.647), np.float64(0.919), np.float64(0.847), np.float64(0.867)]\n",
      "--- Training --- [threshold, AUC] =  [np.float64(0.646), np.float64(0.919)]\n",
      "--- Iteration 230: Training loss --- [Data, Label, Total] = [3060.639325.3, 471.928889.3, 15775.125515.3]\n",
      "!!! pred_type filter\n"
     ]
    },
    {
     "name": "stderr",
     "output_type": "stream",
     "text": [
      " 92%|██████████████████████████████████████████████████████████████████████████████████████████████████████████████▉         | 231/250 [00:09<00:00, 23.94it/s]"
     ]
    },
    {
     "name": "stdout",
     "output_type": "stream",
     "text": [
      "--- Validation --- [threshold, AUC, Accuracy, F score] =  [np.float64(0.646), np.float64(0.919), np.float64(0.848), np.float64(0.868)]\n",
      "--- Training --- [threshold, AUC] =  [np.float64(0.695), np.float64(0.919)]\n",
      "--- Iteration 240: Training loss --- [Data, Label, Total] = [3058.410148.3, 471.311626.3, 15763.362365.3]\n",
      "!!! pred_type filter\n"
     ]
    },
    {
     "name": "stderr",
     "output_type": "stream",
     "text": [
      "100%|████████████████████████████████████████████████████████████████████████████████████████████████████████████████████████| 250/250 [00:09<00:00, 26.08it/s]"
     ]
    },
    {
     "name": "stdout",
     "output_type": "stream",
     "text": [
      "--- Validation --- [threshold, AUC, Accuracy, F score] =  [np.float64(0.695), np.float64(0.919), np.float64(0.842), np.float64(0.859)]\n",
      "!!! pred_type filter\n"
     ]
    },
    {
     "name": "stderr",
     "output_type": "stream",
     "text": [
      "\n"
     ]
    },
    {
     "name": "stdout",
     "output_type": "stream",
     "text": [
      "num of subgraphs induced on k-paths: 500\n",
      "num of subgraphs induced on k-paths: 500\n",
      "X_list: (100, 1000)\n",
      "2\n",
      "(1, 500)\n",
      "(1, 500)\n",
      "label_vec: (1, 1000)\n",
      "num of subgraphs induced on k-paths: 500\n",
      "num of subgraphs induced on k-paths: 500\n",
      "X_list: (100, 1000)\n",
      "2\n",
      "(1, 500)\n",
      "(1, 500)\n",
      "label_vec: (1, 1000)\n",
      "num of subgraphs induced on k-paths: 500\n",
      "num of subgraphs induced on k-paths: 500\n",
      "X_list: (100, 1000)\n",
      "2\n",
      "(1, 500)\n",
      "(1, 500)\n",
      "label_vec: (1, 1000)\n",
      "num of subgraphs induced on k-paths: 500\n",
      "num of subgraphs induced on k-paths: 500\n",
      "X_list: (100, 1000)\n",
      "2\n",
      "(1, 500)\n",
      "(1, 500)\n",
      "label_vec: (1, 1000)\n",
      "11\n",
      "num of subgraphs induced on k-paths: 500\n",
      "num of subgraphs induced on k-paths: 500\n",
      "X_list: (121, 1000)\n",
      "2\n",
      "(1, 500)\n",
      "(1, 500)\n",
      "label_vec: (1, 1000)\n",
      "num of subgraphs induced on k-paths: 500\n",
      "num of subgraphs induced on k-paths: 761\n",
      "X_list: (121, 1261)\n",
      "2\n",
      "(1, 500)\n",
      "(1, 761)\n",
      "label_vec: (1, 1261)\n",
      "initial loading beta [[-0.96972772  0.13362607  0.91147946 -0.81279665 -0.51337808 -0.5832549\n",
      "  -0.63961952  0.59135923 -0.31541161 -0.20725436  0.83420946 -0.05591185\n",
      "  -0.93557118  0.08429878 -0.41466734  0.8390485  -0.77045573]]\n"
     ]
    },
    {
     "name": "stderr",
     "output_type": "stream",
     "text": [
      "  4%|████▊                                                                                                                    | 10/250 [00:00<00:02, 98.15it/s]"
     ]
    },
    {
     "name": "stdout",
     "output_type": "stream",
     "text": [
      "--- Training --- [threshold, AUC] =  [np.float64(0.643), np.float64(0.915)]\n",
      "--- Iteration 0: Training loss --- [Data, Label, Total] = [14968.090877.3, 483.302559.3, 75323.756942.3]\n",
      "--- Training --- [threshold, AUC] =  [np.float64(0.631), np.float64(0.921)]\n",
      "--- Iteration 10: Training loss --- [Data, Label, Total] = [7703.504329.3, 463.074313.3, 38980.595957.3]\n",
      "!!! pred_type filter\n"
     ]
    },
    {
     "name": "stderr",
     "output_type": "stream",
     "text": [
      "  8%|█████████▋                                                                                                               | 20/250 [00:00<00:06, 34.65it/s]"
     ]
    },
    {
     "name": "stdout",
     "output_type": "stream",
     "text": [
      "--- Validation --- [threshold, AUC, Accuracy, F score] =  [np.float64(0.631), np.float64(0.921), np.float64(0.866), np.float64(0.887)]\n",
      "--- Training --- [threshold, AUC] =  [np.float64(0.606), np.float64(0.927)]\n",
      "--- Iteration 20: Training loss --- [Data, Label, Total] = [6057.006125.3, 452.500234.3, 30737.530859.3]\n",
      "!!! pred_type filter\n"
     ]
    },
    {
     "name": "stderr",
     "output_type": "stream",
     "text": [
      " 10%|████████████▌                                                                                                            | 26/250 [00:00<00:08, 25.14it/s]"
     ]
    },
    {
     "name": "stdout",
     "output_type": "stream",
     "text": [
      "--- Validation --- [threshold, AUC, Accuracy, F score] =  [np.float64(0.606), np.float64(0.927), np.float64(0.872), np.float64(0.893)]\n",
      "--- Training --- [threshold, AUC] =  [np.float64(0.606), np.float64(0.928)]\n",
      "--- Iteration 30: Training loss --- [Data, Label, Total] = [5443.668354.3, 451.526204.3, 27669.867975.3]\n",
      "!!! pred_type filter\n"
     ]
    },
    {
     "name": "stderr",
     "output_type": "stream",
     "text": [
      " 12%|███████████████                                                                                                          | 31/250 [00:01<00:10, 20.53it/s]"
     ]
    },
    {
     "name": "stdout",
     "output_type": "stream",
     "text": [
      "--- Validation --- [threshold, AUC, Accuracy, F score] =  [np.float64(0.606), np.float64(0.928), np.float64(0.873), np.float64(0.894)]\n",
      "--- Training --- [threshold, AUC] =  [np.float64(0.638), np.float64(0.927)]\n",
      "--- Iteration 40: Training loss --- [Data, Label, Total] = [5125.458105.3, 452.903947.3, 26080.194471.3]\n",
      "!!! pred_type filter\n"
     ]
    },
    {
     "name": "stderr",
     "output_type": "stream",
     "text": [
      " 16%|███████████████████▊                                                                                                     | 41/250 [00:01<00:09, 22.60it/s]"
     ]
    },
    {
     "name": "stdout",
     "output_type": "stream",
     "text": [
      "--- Validation --- [threshold, AUC, Accuracy, F score] =  [np.float64(0.638), np.float64(0.927), np.float64(0.869), np.float64(0.889)]\n",
      "--- Training --- [threshold, AUC] =  [np.float64(0.635), np.float64(0.927)]\n",
      "--- Iteration 50: Training loss --- [Data, Label, Total] = [4897.242507.3, 454.766240.3, 24940.978776.3]\n",
      "!!! pred_type filter\n"
     ]
    },
    {
     "name": "stderr",
     "output_type": "stream",
     "text": [
      " 20%|████████████████████████▋                                                                                                | 51/250 [00:02<00:08, 24.10it/s]"
     ]
    },
    {
     "name": "stdout",
     "output_type": "stream",
     "text": [
      "--- Validation --- [threshold, AUC, Accuracy, F score] =  [np.float64(0.635), np.float64(0.927), np.float64(0.872), np.float64(0.891)]\n",
      "--- Training --- [threshold, AUC] =  [np.float64(0.648), np.float64(0.927)]\n",
      "--- Iteration 60: Training loss --- [Data, Label, Total] = [4718.582850.3, 456.118381.3, 24049.032631.3]\n",
      "!!! pred_type filter\n"
     ]
    },
    {
     "name": "stderr",
     "output_type": "stream",
     "text": [
      " 24%|█████████████████████████████▌                                                                                           | 61/250 [00:02<00:07, 24.59it/s]"
     ]
    },
    {
     "name": "stdout",
     "output_type": "stream",
     "text": [
      "--- Validation --- [threshold, AUC, Accuracy, F score] =  [np.float64(0.648), np.float64(0.927), np.float64(0.868), np.float64(0.888)]\n",
      "--- Training --- [threshold, AUC] =  [np.float64(0.647), np.float64(0.926)]\n",
      "--- Iteration 70: Training loss --- [Data, Label, Total] = [4589.938027.3, 457.229794.3, 23406.919932.3]\n",
      "!!! pred_type filter\n"
     ]
    },
    {
     "name": "stderr",
     "output_type": "stream",
     "text": [
      " 28%|██████████████████████████████████▎                                                                                      | 71/250 [00:02<00:07, 25.29it/s]"
     ]
    },
    {
     "name": "stdout",
     "output_type": "stream",
     "text": [
      "--- Validation --- [threshold, AUC, Accuracy, F score] =  [np.float64(0.647), np.float64(0.926), np.float64(0.868), np.float64(0.888)]\n",
      "--- Training --- [threshold, AUC] =  [np.float64(0.644), np.float64(0.926)]\n",
      "--- Iteration 80: Training loss --- [Data, Label, Total] = [4505.839168.3, 458.048590.3, 22987.244429.3]\n",
      "!!! pred_type filter\n"
     ]
    },
    {
     "name": "stderr",
     "output_type": "stream",
     "text": [
      " 32%|███████████████████████████████████████▏                                                                                 | 81/250 [00:03<00:06, 27.35it/s]"
     ]
    },
    {
     "name": "stdout",
     "output_type": "stream",
     "text": [
      "--- Validation --- [threshold, AUC, Accuracy, F score] =  [np.float64(0.644), np.float64(0.926), np.float64(0.87), np.float64(0.889)]\n",
      "--- Training --- [threshold, AUC] =  [np.float64(0.642), np.float64(0.926)]\n",
      "--- Iteration 90: Training loss --- [Data, Label, Total] = [4448.198923.3, 458.396544.3, 22699.391161.3]\n",
      "!!! pred_type filter\n"
     ]
    },
    {
     "name": "stderr",
     "output_type": "stream",
     "text": [
      " 36%|████████████████████████████████████████████                                                                             | 91/250 [00:03<00:05, 28.54it/s]"
     ]
    },
    {
     "name": "stdout",
     "output_type": "stream",
     "text": [
      "--- Validation --- [threshold, AUC, Accuracy, F score] =  [np.float64(0.642), np.float64(0.926), np.float64(0.869), np.float64(0.889)]\n",
      "--- Training --- [threshold, AUC] =  [np.float64(0.65), np.float64(0.926)]\n",
      "--- Iteration 100: Training loss --- [Data, Label, Total] = [4405.463047.3, 458.138748.3, 22485.453982.3]\n",
      "!!! pred_type filter\n"
     ]
    },
    {
     "name": "stderr",
     "output_type": "stream",
     "text": [
      " 40%|████████████████████████████████████████████████▍                                                                       | 101/250 [00:03<00:04, 29.81it/s]"
     ]
    },
    {
     "name": "stdout",
     "output_type": "stream",
     "text": [
      "--- Validation --- [threshold, AUC, Accuracy, F score] =  [np.float64(0.65), np.float64(0.926), np.float64(0.867), np.float64(0.886)]\n",
      "--- Training --- [threshold, AUC] =  [np.float64(0.654), np.float64(0.926)]\n",
      "--- Iteration 110: Training loss --- [Data, Label, Total] = [4371.594359.3, 457.931032.3, 22315.902828.3]\n",
      "!!! pred_type filter\n"
     ]
    },
    {
     "name": "stderr",
     "output_type": "stream",
     "text": [
      " 44%|█████████████████████████████████████████████████████▎                                                                  | 111/250 [00:04<00:04, 29.25it/s]"
     ]
    },
    {
     "name": "stdout",
     "output_type": "stream",
     "text": [
      "--- Validation --- [threshold, AUC, Accuracy, F score] =  [np.float64(0.654), np.float64(0.926), np.float64(0.866), np.float64(0.886)]\n",
      "--- Training --- [threshold, AUC] =  [np.float64(0.659), np.float64(0.927)]\n",
      "--- Iteration 120: Training loss --- [Data, Label, Total] = [4344.342003.3, 457.452643.3, 22179.162655.3]\n",
      "!!! pred_type filter\n"
     ]
    },
    {
     "name": "stderr",
     "output_type": "stream",
     "text": [
      " 48%|██████████████████████████████████████████████████████████                                                              | 121/250 [00:04<00:04, 29.56it/s]"
     ]
    },
    {
     "name": "stdout",
     "output_type": "stream",
     "text": [
      "--- Validation --- [threshold, AUC, Accuracy, F score] =  [np.float64(0.659), np.float64(0.927), np.float64(0.865), np.float64(0.885)]\n",
      "--- Training --- [threshold, AUC] =  [np.float64(0.661), np.float64(0.927)]\n",
      "--- Iteration 130: Training loss --- [Data, Label, Total] = [4323.130840.3, 457.069581.3, 22072.723780.3]\n",
      "!!! pred_type filter\n"
     ]
    },
    {
     "name": "stderr",
     "output_type": "stream",
     "text": [
      " 52%|██████████████████████████████████████████████████████████████▉                                                         | 131/250 [00:04<00:03, 30.27it/s]"
     ]
    },
    {
     "name": "stdout",
     "output_type": "stream",
     "text": [
      "--- Validation --- [threshold, AUC, Accuracy, F score] =  [np.float64(0.661), np.float64(0.927), np.float64(0.866), np.float64(0.885)]\n",
      "--- Training --- [threshold, AUC] =  [np.float64(0.661), np.float64(0.927)]\n",
      "--- Iteration 140: Training loss --- [Data, Label, Total] = [4307.140071.3, 456.634866.3, 21992.335220.3]\n",
      "!!! pred_type filter\n"
     ]
    },
    {
     "name": "stderr",
     "output_type": "stream",
     "text": [
      " 56%|███████████████████████████████████████████████████████████████████▋                                                    | 141/250 [00:05<00:03, 30.87it/s]"
     ]
    },
    {
     "name": "stdout",
     "output_type": "stream",
     "text": [
      "--- Validation --- [threshold, AUC, Accuracy, F score] =  [np.float64(0.661), np.float64(0.927), np.float64(0.866), np.float64(0.886)]\n",
      "--- Training --- [threshold, AUC] =  [np.float64(0.666), np.float64(0.927)]\n",
      "--- Iteration 150: Training loss --- [Data, Label, Total] = [4295.241232.3, 456.224151.3, 21932.430309.3]\n",
      "!!! pred_type filter\n"
     ]
    },
    {
     "name": "stderr",
     "output_type": "stream",
     "text": [
      " 60%|████████████████████████████████████████████████████████████████████████▍                                               | 151/250 [00:05<00:03, 30.70it/s]"
     ]
    },
    {
     "name": "stdout",
     "output_type": "stream",
     "text": [
      "--- Validation --- [threshold, AUC, Accuracy, F score] =  [np.float64(0.666), np.float64(0.927), np.float64(0.864), np.float64(0.884)]\n",
      "--- Training --- [threshold, AUC] =  [np.float64(0.664), np.float64(0.928)]\n",
      "--- Iteration 160: Training loss --- [Data, Label, Total] = [4286.701295.3, 455.780416.3, 21889.286889.3]\n",
      "!!! pred_type filter\n"
     ]
    },
    {
     "name": "stderr",
     "output_type": "stream",
     "text": [
      " 64%|█████████████████████████████████████████████████████████████████████████████▎                                          | 161/250 [00:05<00:03, 28.48it/s]"
     ]
    },
    {
     "name": "stdout",
     "output_type": "stream",
     "text": [
      "--- Validation --- [threshold, AUC, Accuracy, F score] =  [np.float64(0.664), np.float64(0.928), np.float64(0.864), np.float64(0.883)]\n",
      "--- Training --- [threshold, AUC] =  [np.float64(0.657), np.float64(0.928)]\n",
      "--- Iteration 170: Training loss --- [Data, Label, Total] = [4280.519883.3, 455.236961.3, 21857.836377.3]\n",
      "!!! pred_type filter\n"
     ]
    },
    {
     "name": "stderr",
     "output_type": "stream",
     "text": [
      " 68%|██████████████████████████████████████████████████████████████████████████████████                                      | 171/250 [00:06<00:02, 28.62it/s]"
     ]
    },
    {
     "name": "stdout",
     "output_type": "stream",
     "text": [
      "--- Validation --- [threshold, AUC, Accuracy, F score] =  [np.float64(0.657), np.float64(0.928), np.float64(0.867), np.float64(0.887)]\n",
      "--- Training --- [threshold, AUC] =  [np.float64(0.658), np.float64(0.928)]\n",
      "--- Iteration 180: Training loss --- [Data, Label, Total] = [4275.639970.3, 454.840076.3, 21833.039924.3]\n",
      "!!! pred_type filter\n"
     ]
    },
    {
     "name": "stderr",
     "output_type": "stream",
     "text": [
      " 72%|██████████████████████████████████████████████████████████████████████████████████████▉                                 | 181/250 [00:06<00:02, 29.37it/s]"
     ]
    },
    {
     "name": "stdout",
     "output_type": "stream",
     "text": [
      "--- Validation --- [threshold, AUC, Accuracy, F score] =  [np.float64(0.658), np.float64(0.928), np.float64(0.867), np.float64(0.887)]\n",
      "--- Training --- [threshold, AUC] =  [np.float64(0.657), np.float64(0.928)]\n",
      "--- Iteration 190: Training loss --- [Data, Label, Total] = [4271.588685.3, 454.474316.3, 21812.417739.3]\n",
      "!!! pred_type filter\n"
     ]
    },
    {
     "name": "stderr",
     "output_type": "stream",
     "text": [
      " 76%|███████████████████████████████████████████████████████████████████████████████████████████▋                            | 191/250 [00:06<00:02, 29.47it/s]"
     ]
    },
    {
     "name": "stdout",
     "output_type": "stream",
     "text": [
      "--- Validation --- [threshold, AUC, Accuracy, F score] =  [np.float64(0.657), np.float64(0.928), np.float64(0.866), np.float64(0.886)]\n",
      "--- Training --- [threshold, AUC] =  [np.float64(0.655), np.float64(0.928)]\n",
      "--- Iteration 200: Training loss --- [Data, Label, Total] = [4268.071476.3, 454.039368.3, 21794.396747.3]\n",
      "!!! pred_type filter\n"
     ]
    },
    {
     "name": "stderr",
     "output_type": "stream",
     "text": [
      " 80%|████████████████████████████████████████████████████████████████████████████████████████████████▍                       | 201/250 [00:07<00:01, 29.83it/s]"
     ]
    },
    {
     "name": "stdout",
     "output_type": "stream",
     "text": [
      "--- Validation --- [threshold, AUC, Accuracy, F score] =  [np.float64(0.655), np.float64(0.928), np.float64(0.865), np.float64(0.885)]\n",
      "--- Training --- [threshold, AUC] =  [np.float64(0.656), np.float64(0.929)]\n",
      "--- Iteration 210: Training loss --- [Data, Label, Total] = [4264.807247.3, 453.552668.3, 21777.588903.3]\n",
      "!!! pred_type filter\n"
     ]
    },
    {
     "name": "stderr",
     "output_type": "stream",
     "text": [
      " 84%|█████████████████████████████████████████████████████████████████████████████████████████████████████▎                  | 211/250 [00:07<00:01, 28.81it/s]"
     ]
    },
    {
     "name": "stdout",
     "output_type": "stream",
     "text": [
      "--- Validation --- [threshold, AUC, Accuracy, F score] =  [np.float64(0.656), np.float64(0.929), np.float64(0.864), np.float64(0.885)]\n",
      "--- Training --- [threshold, AUC] =  [np.float64(0.657), np.float64(0.929)]\n",
      "--- Iteration 220: Training loss --- [Data, Label, Total] = [4261.623966.3, 453.084370.3, 21761.204201.3]\n",
      "!!! pred_type filter\n"
     ]
    },
    {
     "name": "stderr",
     "output_type": "stream",
     "text": [
      " 88%|██████████████████████████████████████████████████████████████████████████████████████████████████████████              | 221/250 [00:07<00:00, 29.09it/s]"
     ]
    },
    {
     "name": "stdout",
     "output_type": "stream",
     "text": [
      "--- Validation --- [threshold, AUC, Accuracy, F score] =  [np.float64(0.657), np.float64(0.929), np.float64(0.864), np.float64(0.885)]\n",
      "--- Training --- [threshold, AUC] =  [np.float64(0.656), np.float64(0.929)]\n",
      "--- Iteration 230: Training loss --- [Data, Label, Total] = [4258.413113.3, 452.527817.3, 21744.593380.3]\n",
      "!!! pred_type filter\n"
     ]
    },
    {
     "name": "stderr",
     "output_type": "stream",
     "text": [
      " 92%|██████████████████████████████████████████████████████████████████████████████████████████████████████████████▉         | 231/250 [00:08<00:00, 29.92it/s]"
     ]
    },
    {
     "name": "stdout",
     "output_type": "stream",
     "text": [
      "--- Validation --- [threshold, AUC, Accuracy, F score] =  [np.float64(0.656), np.float64(0.929), np.float64(0.864), np.float64(0.884)]\n",
      "--- Training --- [threshold, AUC] =  [np.float64(0.681), np.float64(0.929)]\n",
      "--- Iteration 240: Training loss --- [Data, Label, Total] = [4255.101684.3, 452.084060.3, 21727.592480.3]\n",
      "!!! pred_type filter\n"
     ]
    },
    {
     "name": "stderr",
     "output_type": "stream",
     "text": [
      "100%|████████████████████████████████████████████████████████████████████████████████████████████████████████████████████████| 250/250 [00:08<00:00, 29.52it/s]"
     ]
    },
    {
     "name": "stdout",
     "output_type": "stream",
     "text": [
      "--- Validation --- [threshold, AUC, Accuracy, F score] =  [np.float64(0.681), np.float64(0.929), np.float64(0.861), np.float64(0.88)]\n",
      "!!! pred_type filter\n"
     ]
    },
    {
     "name": "stderr",
     "output_type": "stream",
     "text": [
      "\n"
     ]
    },
    {
     "name": "stdout",
     "output_type": "stream",
     "text": [
      "num of subgraphs induced on k-paths: 500\n",
      "num of subgraphs induced on k-paths: 500\n",
      "X_list: (121, 1000)\n",
      "2\n",
      "(1, 500)\n",
      "(1, 500)\n",
      "label_vec: (1, 1000)\n",
      "num of subgraphs induced on k-paths: 500\n",
      "num of subgraphs induced on k-paths: 500\n",
      "X_list: (121, 1000)\n",
      "2\n",
      "(1, 500)\n",
      "(1, 500)\n",
      "label_vec: (1, 1000)\n",
      "num of subgraphs induced on k-paths: 500\n",
      "num of subgraphs induced on k-paths: 500\n",
      "X_list: (121, 1000)\n",
      "2\n",
      "(1, 500)\n",
      "(1, 500)\n",
      "label_vec: (1, 1000)\n",
      "num of subgraphs induced on k-paths: 500\n",
      "num of subgraphs induced on k-paths: 500\n",
      "X_list: (121, 1000)\n",
      "2\n",
      "(1, 500)\n",
      "(1, 500)\n",
      "label_vec: (1, 1000)\n",
      "12\n",
      "num of subgraphs induced on k-paths: 500\n",
      "num of subgraphs induced on k-paths: 500\n",
      "X_list: (144, 1000)\n",
      "2\n",
      "(1, 500)\n",
      "(1, 500)\n",
      "label_vec: (1, 1000)\n",
      "num of subgraphs induced on k-paths: 500\n",
      "num of subgraphs induced on k-paths: 778\n",
      "X_list: (144, 1278)\n",
      "2\n",
      "(1, 500)\n",
      "(1, 778)\n",
      "label_vec: (1, 1278)\n",
      "initial loading beta [[ 0.37570986  0.27930298  0.10619644 -0.98119398 -0.48840144 -0.1382755\n",
      "   0.03530614 -0.00365396  0.14926513  0.79185616  0.8266864  -0.68269374\n",
      "   0.60159994 -0.3222047  -0.98838727  0.52638595 -0.649373  ]]\n"
     ]
    },
    {
     "name": "stderr",
     "output_type": "stream",
     "text": [
      "  0%|                                                                                                                                  | 0/250 [00:00<?, ?it/s]"
     ]
    },
    {
     "name": "stdout",
     "output_type": "stream",
     "text": [
      "--- Training --- [threshold, AUC] =  [np.float64(0.665), np.float64(0.925)]\n",
      "--- Iteration 0: Training loss --- [Data, Label, Total] = [18883.010824.3, 458.118204.3, 94873.172324.3]\n"
     ]
    },
    {
     "name": "stderr",
     "output_type": "stream",
     "text": [
      "  2%|██▍                                                                                                                       | 5/250 [00:00<00:05, 48.60it/s]"
     ]
    },
    {
     "name": "stdout",
     "output_type": "stream",
     "text": [
      "--- Training --- [threshold, AUC] =  [np.float64(0.726), np.float64(0.928)]\n",
      "--- Iteration 10: Training loss --- [Data, Label, Total] = [10549.253982.3, 440.489701.3, 53186.759610.3]\n",
      "!!! pred_type filter\n"
     ]
    },
    {
     "name": "stderr",
     "output_type": "stream",
     "text": [
      "  4%|█████▎                                                                                                                   | 11/250 [00:00<00:14, 16.33it/s]"
     ]
    },
    {
     "name": "stdout",
     "output_type": "stream",
     "text": [
      "--- Validation --- [threshold, AUC, Accuracy, F score] =  [np.float64(0.726), np.float64(0.928), np.float64(0.854), np.float64(0.872)]\n",
      "--- Training --- [threshold, AUC] =  [np.float64(0.64), np.float64(0.933)]\n",
      "--- Iteration 20: Training loss --- [Data, Label, Total] = [8809.834490.3, 428.410252.3, 44477.582705.3]\n",
      "!!! pred_type filter\n"
     ]
    },
    {
     "name": "stderr",
     "output_type": "stream",
     "text": [
      "  8%|██████████▏                                                                                                              | 21/250 [00:01<00:12, 18.09it/s]"
     ]
    },
    {
     "name": "stdout",
     "output_type": "stream",
     "text": [
      "--- Validation --- [threshold, AUC, Accuracy, F score] =  [np.float64(0.64), np.float64(0.933), np.float64(0.872), np.float64(0.893)]\n",
      "--- Training --- [threshold, AUC] =  [np.float64(0.723), np.float64(0.934)]\n",
      "--- Iteration 30: Training loss --- [Data, Label, Total] = [8030.316961.3, 427.914716.3, 40579.499523.3]\n",
      "!!! pred_type filter\n"
     ]
    },
    {
     "name": "stderr",
     "output_type": "stream",
     "text": [
      " 12%|███████████████                                                                                                          | 31/250 [00:01<00:11, 19.39it/s]"
     ]
    },
    {
     "name": "stdout",
     "output_type": "stream",
     "text": [
      "--- Validation --- [threshold, AUC, Accuracy, F score] =  [np.float64(0.723), np.float64(0.934), np.float64(0.86), np.float64(0.878)]\n",
      "--- Training --- [threshold, AUC] =  [np.float64(0.641), np.float64(0.934)]\n",
      "--- Iteration 40: Training loss --- [Data, Label, Total] = [7561.818350.3, 427.798127.3, 38236.889877.3]\n",
      "!!! pred_type filter\n"
     ]
    },
    {
     "name": "stderr",
     "output_type": "stream",
     "text": [
      " 16%|███████████████████▊                                                                                                     | 41/250 [00:02<00:09, 21.04it/s]"
     ]
    },
    {
     "name": "stdout",
     "output_type": "stream",
     "text": [
      "--- Validation --- [threshold, AUC, Accuracy, F score] =  [np.float64(0.641), np.float64(0.934), np.float64(0.87), np.float64(0.892)]\n",
      "--- Training --- [threshold, AUC] =  [np.float64(0.617), np.float64(0.935)]\n",
      "--- Iteration 50: Training loss --- [Data, Label, Total] = [7214.545243.3, 428.006474.3, 36500.732690.3]\n",
      "!!! pred_type filter\n"
     ]
    },
    {
     "name": "stderr",
     "output_type": "stream",
     "text": [
      " 20%|████████████████████████▋                                                                                                | 51/250 [00:02<00:09, 20.39it/s]"
     ]
    },
    {
     "name": "stdout",
     "output_type": "stream",
     "text": [
      "--- Validation --- [threshold, AUC, Accuracy, F score] =  [np.float64(0.617), np.float64(0.935), np.float64(0.872), np.float64(0.894)]\n",
      "--- Training --- [threshold, AUC] =  [np.float64(0.611), np.float64(0.935)]\n",
      "--- Iteration 60: Training loss --- [Data, Label, Total] = [6952.675398.3, 428.303998.3, 35191.680987.3]\n",
      "!!! pred_type filter\n"
     ]
    },
    {
     "name": "stderr",
     "output_type": "stream",
     "text": [
      " 24%|█████████████████████████████▌                                                                                           | 61/250 [00:02<00:08, 22.10it/s]"
     ]
    },
    {
     "name": "stdout",
     "output_type": "stream",
     "text": [
      "--- Validation --- [threshold, AUC, Accuracy, F score] =  [np.float64(0.611), np.float64(0.935), np.float64(0.873), np.float64(0.895)]\n",
      "--- Training --- [threshold, AUC] =  [np.float64(0.624), np.float64(0.935)]\n",
      "--- Iteration 70: Training loss --- [Data, Label, Total] = [6757.120894.3, 429.580487.3, 34215.184955.3]\n",
      "!!! pred_type filter\n"
     ]
    },
    {
     "name": "stderr",
     "output_type": "stream",
     "text": [
      " 28%|██████████████████████████████████▎                                                                                      | 71/250 [00:03<00:07, 22.65it/s]"
     ]
    },
    {
     "name": "stdout",
     "output_type": "stream",
     "text": [
      "--- Validation --- [threshold, AUC, Accuracy, F score] =  [np.float64(0.624), np.float64(0.935), np.float64(0.872), np.float64(0.894)]\n",
      "--- Training --- [threshold, AUC] =  [np.float64(0.725), np.float64(0.935)]\n",
      "--- Iteration 80: Training loss --- [Data, Label, Total] = [6609.758683.3, 430.978844.3, 33479.772258.3]\n",
      "!!! pred_type filter\n"
     ]
    },
    {
     "name": "stderr",
     "output_type": "stream",
     "text": [
      " 32%|███████████████████████████████████████▏                                                                                 | 81/250 [00:03<00:07, 23.24it/s]"
     ]
    },
    {
     "name": "stdout",
     "output_type": "stream",
     "text": [
      "--- Validation --- [threshold, AUC, Accuracy, F score] =  [np.float64(0.725), np.float64(0.935), np.float64(0.857), np.float64(0.875)]\n",
      "--- Training --- [threshold, AUC] =  [np.float64(0.711), np.float64(0.934)]\n",
      "--- Iteration 90: Training loss --- [Data, Label, Total] = [6499.512848.3, 432.420960.3, 32929.985198.3]\n",
      "!!! pred_type filter\n"
     ]
    },
    {
     "name": "stderr",
     "output_type": "stream",
     "text": [
      " 36%|████████████████████████████████████████████                                                                             | 91/250 [00:04<00:06, 23.06it/s]"
     ]
    },
    {
     "name": "stdout",
     "output_type": "stream",
     "text": [
      "--- Validation --- [threshold, AUC, Accuracy, F score] =  [np.float64(0.711), np.float64(0.934), np.float64(0.863), np.float64(0.882)]\n",
      "--- Training --- [threshold, AUC] =  [np.float64(0.709), np.float64(0.934)]\n",
      "--- Iteration 100: Training loss --- [Data, Label, Total] = [6413.737054.3, 433.746891.3, 32502.432158.3]\n",
      "!!! pred_type filter\n"
     ]
    },
    {
     "name": "stderr",
     "output_type": "stream",
     "text": [
      " 40%|████████████████████████████████████████████████▍                                                                       | 101/250 [00:04<00:06, 24.26it/s]"
     ]
    },
    {
     "name": "stdout",
     "output_type": "stream",
     "text": [
      "--- Validation --- [threshold, AUC, Accuracy, F score] =  [np.float64(0.709), np.float64(0.934), np.float64(0.862), np.float64(0.881)]\n",
      "--- Training --- [threshold, AUC] =  [np.float64(0.72), np.float64(0.934)]\n",
      "--- Iteration 110: Training loss --- [Data, Label, Total] = [6348.109610.3, 434.682131.3, 32175.230182.3]\n",
      "!!! pred_type filter\n"
     ]
    },
    {
     "name": "stderr",
     "output_type": "stream",
     "text": [
      " 44%|█████████████████████████████████████████████████████▎                                                                  | 111/250 [00:04<00:05, 25.60it/s]"
     ]
    },
    {
     "name": "stdout",
     "output_type": "stream",
     "text": [
      "--- Validation --- [threshold, AUC, Accuracy, F score] =  [np.float64(0.72), np.float64(0.934), np.float64(0.86), np.float64(0.878)]\n",
      "--- Training --- [threshold, AUC] =  [np.float64(0.731), np.float64(0.933)]\n",
      "--- Iteration 120: Training loss --- [Data, Label, Total] = [6301.632911.3, 435.303427.3, 31943.467982.3]\n",
      "!!! pred_type filter\n"
     ]
    },
    {
     "name": "stderr",
     "output_type": "stream",
     "text": [
      " 48%|██████████████████████████████████████████████████████████                                                              | 121/250 [00:05<00:04, 26.56it/s]"
     ]
    },
    {
     "name": "stdout",
     "output_type": "stream",
     "text": [
      "--- Validation --- [threshold, AUC, Accuracy, F score] =  [np.float64(0.731), np.float64(0.933), np.float64(0.858), np.float64(0.875)]\n",
      "--- Training --- [threshold, AUC] =  [np.float64(0.727), np.float64(0.933)]\n",
      "--- Iteration 130: Training loss --- [Data, Label, Total] = [6270.346756.3, 435.561168.3, 31787.294948.3]\n",
      "!!! pred_type filter\n"
     ]
    },
    {
     "name": "stderr",
     "output_type": "stream",
     "text": [
      " 52%|██████████████████████████████████████████████████████████████▉                                                         | 131/250 [00:05<00:04, 27.38it/s]"
     ]
    },
    {
     "name": "stdout",
     "output_type": "stream",
     "text": [
      "--- Validation --- [threshold, AUC, Accuracy, F score] =  [np.float64(0.727), np.float64(0.933), np.float64(0.858), np.float64(0.876)]\n",
      "--- Training --- [threshold, AUC] =  [np.float64(0.618), np.float64(0.933)]\n",
      "--- Iteration 140: Training loss --- [Data, Label, Total] = [6249.602344.3, 435.752044.3, 31683.763762.3]\n",
      "!!! pred_type filter\n"
     ]
    },
    {
     "name": "stderr",
     "output_type": "stream",
     "text": [
      " 56%|███████████████████████████████████████████████████████████████████▋                                                    | 141/250 [00:05<00:03, 28.05it/s]"
     ]
    },
    {
     "name": "stdout",
     "output_type": "stream",
     "text": [
      "--- Validation --- [threshold, AUC, Accuracy, F score] =  [np.float64(0.618), np.float64(0.933), np.float64(0.871), np.float64(0.893)]\n",
      "--- Training --- [threshold, AUC] =  [np.float64(0.627), np.float64(0.933)]\n",
      "--- Iteration 150: Training loss --- [Data, Label, Total] = [6235.549191.3, 435.773493.3, 31613.519448.3]\n",
      "!!! pred_type filter\n"
     ]
    },
    {
     "name": "stderr",
     "output_type": "stream",
     "text": [
      " 60%|████████████████████████████████████████████████████████████████████████▍                                               | 151/250 [00:06<00:03, 28.71it/s]"
     ]
    },
    {
     "name": "stdout",
     "output_type": "stream",
     "text": [
      "--- Validation --- [threshold, AUC, Accuracy, F score] =  [np.float64(0.627), np.float64(0.933), np.float64(0.87), np.float64(0.892)]\n",
      "--- Training --- [threshold, AUC] =  [np.float64(0.622), np.float64(0.933)]\n",
      "--- Iteration 160: Training loss --- [Data, Label, Total] = [6225.561413.3, 435.554925.3, 31563.361989.3]\n",
      "!!! pred_type filter\n"
     ]
    },
    {
     "name": "stderr",
     "output_type": "stream",
     "text": [
      " 64%|█████████████████████████████████████████████████████████████████████████████▎                                          | 161/250 [00:06<00:03, 28.85it/s]"
     ]
    },
    {
     "name": "stdout",
     "output_type": "stream",
     "text": [
      "--- Validation --- [threshold, AUC, Accuracy, F score] =  [np.float64(0.622), np.float64(0.933), np.float64(0.871), np.float64(0.893)]\n",
      "--- Training --- [threshold, AUC] =  [np.float64(0.624), np.float64(0.933)]\n",
      "--- Iteration 170: Training loss --- [Data, Label, Total] = [6218.016900.3, 435.206952.3, 31525.291450.3]\n",
      "!!! pred_type filter\n"
     ]
    },
    {
     "name": "stderr",
     "output_type": "stream",
     "text": [
      " 68%|██████████████████████████████████████████████████████████████████████████████████                                      | 171/250 [00:06<00:02, 29.08it/s]"
     ]
    },
    {
     "name": "stdout",
     "output_type": "stream",
     "text": [
      "--- Validation --- [threshold, AUC, Accuracy, F score] =  [np.float64(0.624), np.float64(0.933), np.float64(0.872), np.float64(0.893)]\n",
      "--- Training --- [threshold, AUC] =  [np.float64(0.614), np.float64(0.934)]\n",
      "--- Iteration 180: Training loss --- [Data, Label, Total] = [6212.032956.3, 434.665438.3, 31494.830219.3]\n",
      "!!! pred_type filter\n"
     ]
    },
    {
     "name": "stderr",
     "output_type": "stream",
     "text": [
      " 72%|██████████████████████████████████████████████████████████████████████████████████████▉                                 | 181/250 [00:07<00:02, 29.53it/s]"
     ]
    },
    {
     "name": "stdout",
     "output_type": "stream",
     "text": [
      "--- Validation --- [threshold, AUC, Accuracy, F score] =  [np.float64(0.614), np.float64(0.934), np.float64(0.872), np.float64(0.894)]\n",
      "--- Training --- [threshold, AUC] =  [np.float64(0.617), np.float64(0.934)]\n",
      "--- Iteration 190: Training loss --- [Data, Label, Total] = [6207.208528.3, 434.322277.3, 31470.364915.3]\n",
      "!!! pred_type filter\n"
     ]
    },
    {
     "name": "stderr",
     "output_type": "stream",
     "text": [
      " 76%|███████████████████████████████████████████████████████████████████████████████████████████▋                            | 191/250 [00:07<00:01, 29.57it/s]"
     ]
    },
    {
     "name": "stdout",
     "output_type": "stream",
     "text": [
      "--- Validation --- [threshold, AUC, Accuracy, F score] =  [np.float64(0.617), np.float64(0.934), np.float64(0.872), np.float64(0.894)]\n",
      "--- Training --- [threshold, AUC] =  [np.float64(0.618), np.float64(0.934)]\n",
      "--- Iteration 200: Training loss --- [Data, Label, Total] = [6203.243309.3, 433.874572.3, 31450.091117.3]\n",
      "!!! pred_type filter\n"
     ]
    },
    {
     "name": "stderr",
     "output_type": "stream",
     "text": [
      " 80%|████████████████████████████████████████████████████████████████████████████████████████████████▍                       | 201/250 [00:07<00:01, 29.71it/s]"
     ]
    },
    {
     "name": "stdout",
     "output_type": "stream",
     "text": [
      "--- Validation --- [threshold, AUC, Accuracy, F score] =  [np.float64(0.618), np.float64(0.934), np.float64(0.872), np.float64(0.894)]\n",
      "--- Training --- [threshold, AUC] =  [np.float64(0.604), np.float64(0.934)]\n",
      "--- Iteration 210: Training loss --- [Data, Label, Total] = [6199.925303.3, 433.421487.3, 31433.048003.3]\n",
      "!!! pred_type filter\n"
     ]
    },
    {
     "name": "stderr",
     "output_type": "stream",
     "text": [
      " 84%|█████████████████████████████████████████████████████████████████████████████████████████████████████▎                  | 211/250 [00:08<00:01, 29.77it/s]"
     ]
    },
    {
     "name": "stdout",
     "output_type": "stream",
     "text": [
      "--- Validation --- [threshold, AUC, Accuracy, F score] =  [np.float64(0.604), np.float64(0.934), np.float64(0.875), np.float64(0.897)]\n",
      "--- Training --- [threshold, AUC] =  [np.float64(0.602), np.float64(0.934)]\n",
      "--- Iteration 220: Training loss --- [Data, Label, Total] = [6197.105933.3, 433.110399.3, 31418.640064.3]\n",
      "!!! pred_type filter\n"
     ]
    },
    {
     "name": "stderr",
     "output_type": "stream",
     "text": [
      " 88%|██████████████████████████████████████████████████████████████████████████████████████████████████████████              | 221/250 [00:08<00:00, 29.63it/s]"
     ]
    },
    {
     "name": "stdout",
     "output_type": "stream",
     "text": [
      "--- Validation --- [threshold, AUC, Accuracy, F score] =  [np.float64(0.602), np.float64(0.934), np.float64(0.876), np.float64(0.897)]\n",
      "--- Training --- [threshold, AUC] =  [np.float64(0.613), np.float64(0.934)]\n",
      "--- Iteration 230: Training loss --- [Data, Label, Total] = [6194.691209.3, 432.564061.3, 31406.020106.3]\n",
      "!!! pred_type filter\n"
     ]
    },
    {
     "name": "stderr",
     "output_type": "stream",
     "text": [
      " 92%|██████████████████████████████████████████████████████████████████████████████████████████████████████████████▉         | 231/250 [00:08<00:00, 28.46it/s]"
     ]
    },
    {
     "name": "stdout",
     "output_type": "stream",
     "text": [
      "--- Validation --- [threshold, AUC, Accuracy, F score] =  [np.float64(0.613), np.float64(0.934), np.float64(0.876), np.float64(0.897)]\n",
      "--- Training --- [threshold, AUC] =  [np.float64(0.613), np.float64(0.934)]\n",
      "--- Iteration 240: Training loss --- [Data, Label, Total] = [6192.594118.3, 432.212174.3, 31395.182764.3]\n",
      "!!! pred_type filter\n"
     ]
    },
    {
     "name": "stderr",
     "output_type": "stream",
     "text": [
      "100%|████████████████████████████████████████████████████████████████████████████████████████████████████████████████████████| 250/250 [00:09<00:00, 26.51it/s]"
     ]
    },
    {
     "name": "stdout",
     "output_type": "stream",
     "text": [
      "--- Validation --- [threshold, AUC, Accuracy, F score] =  [np.float64(0.613), np.float64(0.934), np.float64(0.876), np.float64(0.897)]\n",
      "!!! pred_type filter\n"
     ]
    },
    {
     "name": "stderr",
     "output_type": "stream",
     "text": [
      "\n"
     ]
    },
    {
     "name": "stdout",
     "output_type": "stream",
     "text": [
      "num of subgraphs induced on k-paths: 500\n",
      "num of subgraphs induced on k-paths: 500\n",
      "X_list: (144, 1000)\n",
      "2\n",
      "(1, 500)\n",
      "(1, 500)\n",
      "label_vec: (1, 1000)\n",
      "num of subgraphs induced on k-paths: 500\n",
      "num of subgraphs induced on k-paths: 500\n",
      "X_list: (144, 1000)\n",
      "2\n",
      "(1, 500)\n",
      "(1, 500)\n",
      "label_vec: (1, 1000)\n",
      "num of subgraphs induced on k-paths: 500\n",
      "num of subgraphs induced on k-paths: 500\n",
      "X_list: (144, 1000)\n",
      "2\n",
      "(1, 500)\n",
      "(1, 500)\n",
      "label_vec: (1, 1000)\n",
      "num of subgraphs induced on k-paths: 500\n",
      "num of subgraphs induced on k-paths: 500\n",
      "X_list: (144, 1000)\n",
      "2\n",
      "(1, 500)\n",
      "(1, 500)\n",
      "label_vec: (1, 1000)\n",
      "13\n",
      "num of subgraphs induced on k-paths: 500\n",
      "num of subgraphs induced on k-paths: 500\n",
      "X_list: (169, 1000)\n",
      "2\n",
      "(1, 500)\n",
      "(1, 500)\n",
      "label_vec: (1, 1000)\n",
      "num of subgraphs induced on k-paths: 500\n",
      "num of subgraphs induced on k-paths: 822\n",
      "X_list: (169, 1322)\n",
      "2\n",
      "(1, 500)\n",
      "(1, 822)\n",
      "label_vec: (1, 1322)\n",
      "initial loading beta [[ 0.93007443 -0.94514105 -0.78887623  0.76690419 -0.77631409  0.88599696\n",
      "  -0.13623167 -0.83520732  0.88888483  0.00886016 -0.36772924  0.88975471\n",
      "   0.66533803 -0.26029082 -0.31102072  0.63011136  0.18122066]]\n"
     ]
    },
    {
     "name": "stderr",
     "output_type": "stream",
     "text": [
      "  0%|                                                                                                                                  | 0/250 [00:00<?, ?it/s]"
     ]
    },
    {
     "name": "stdout",
     "output_type": "stream",
     "text": [
      "--- Training --- [threshold, AUC] =  [np.float64(0.712), np.float64(0.94)]\n",
      "--- Iteration 0: Training loss --- [Data, Label, Total] = [22287.149638.3, 424.543539.3, 111860.291727.3]\n",
      "--- Training --- [threshold, AUC] =  [np.float64(0.642), np.float64(0.941)]\n",
      "--- Iteration 10: Training loss --- [Data, Label, Total] = [12504.031936.3, 413.118464.3, 62933.278146.3]\n",
      "!!! pred_type filter\n"
     ]
    },
    {
     "name": "stderr",
     "output_type": "stream",
     "text": [
      "  4%|█████▎                                                                                                                   | 11/250 [00:00<00:10, 22.22it/s]"
     ]
    },
    {
     "name": "stdout",
     "output_type": "stream",
     "text": [
      "--- Validation --- [threshold, AUC, Accuracy, F score] =  [np.float64(0.642), np.float64(0.941), np.float64(0.889), np.float64(0.909)]\n",
      "--- Training --- [threshold, AUC] =  [np.float64(0.643), np.float64(0.944)]\n",
      "--- Iteration 20: Training loss --- [Data, Label, Total] = [10653.343019.3, 404.265653.3, 53670.980749.3]\n",
      "!!! pred_type filter\n"
     ]
    },
    {
     "name": "stderr",
     "output_type": "stream",
     "text": [
      "  8%|██████████▏                                                                                                              | 21/250 [00:00<00:10, 21.95it/s]"
     ]
    },
    {
     "name": "stdout",
     "output_type": "stream",
     "text": [
      "--- Validation --- [threshold, AUC, Accuracy, F score] =  [np.float64(0.643), np.float64(0.944), np.float64(0.893), np.float64(0.912)]\n",
      "--- Training --- [threshold, AUC] =  [np.float64(0.661), np.float64(0.945)]\n",
      "--- Iteration 30: Training loss --- [Data, Label, Total] = [9924.836546.3, 403.348344.3, 50027.531073.3]\n",
      "!!! pred_type filter\n"
     ]
    },
    {
     "name": "stderr",
     "output_type": "stream",
     "text": [
      " 12%|███████████████                                                                                                          | 31/250 [00:01<00:09, 22.09it/s]"
     ]
    },
    {
     "name": "stdout",
     "output_type": "stream",
     "text": [
      "--- Validation --- [threshold, AUC, Accuracy, F score] =  [np.float64(0.661), np.float64(0.945), np.float64(0.892), np.float64(0.911)]\n",
      "--- Training --- [threshold, AUC] =  [np.float64(0.635), np.float64(0.945)]\n",
      "--- Iteration 40: Training loss --- [Data, Label, Total] = [9624.317904.3, 403.589544.3, 48525.179062.3]\n",
      "!!! pred_type filter\n"
     ]
    },
    {
     "name": "stderr",
     "output_type": "stream",
     "text": [
      " 19%|███████████████████████▏                                                                                                 | 48/250 [00:01<00:07, 27.12it/s]"
     ]
    },
    {
     "name": "stdout",
     "output_type": "stream",
     "text": [
      "--- Validation --- [threshold, AUC, Accuracy, F score] =  [np.float64(0.635), np.float64(0.945), np.float64(0.896), np.float64(0.915)]\n",
      "--- Training --- [threshold, AUC] =  [np.float64(0.645), np.float64(0.945)]\n",
      "--- Iteration 50: Training loss --- [Data, Label, Total] = [9474.498540.3, 403.481699.3, 47775.974400.3]\n",
      "!!! pred_type filter\n"
     ]
    },
    {
     "name": "stderr",
     "output_type": "stream",
     "text": [
      " 21%|█████████████████████████▏                                                                                               | 52/250 [00:02<00:09, 20.42it/s]"
     ]
    },
    {
     "name": "stdout",
     "output_type": "stream",
     "text": [
      "--- Validation --- [threshold, AUC, Accuracy, F score] =  [np.float64(0.645), np.float64(0.945), np.float64(0.895), np.float64(0.914)]\n",
      "--- Training --- [threshold, AUC] =  [np.float64(0.646), np.float64(0.945)]\n",
      "--- Iteration 60: Training loss --- [Data, Label, Total] = [9369.984348.3, 403.621253.3, 47253.542996.3]\n",
      "!!! pred_type filter\n"
     ]
    },
    {
     "name": "stderr",
     "output_type": "stream",
     "text": [
      " 24%|█████████████████████████████▌                                                                                           | 61/250 [00:02<00:09, 20.73it/s]"
     ]
    },
    {
     "name": "stdout",
     "output_type": "stream",
     "text": [
      "--- Validation --- [threshold, AUC, Accuracy, F score] =  [np.float64(0.646), np.float64(0.945), np.float64(0.895), np.float64(0.914)]\n",
      "--- Training --- [threshold, AUC] =  [np.float64(0.646), np.float64(0.945)]\n",
      "--- Iteration 70: Training loss --- [Data, Label, Total] = [9280.674019.3, 403.918544.3, 46807.288638.3]\n",
      "!!! pred_type filter\n"
     ]
    },
    {
     "name": "stderr",
     "output_type": "stream",
     "text": [
      " 28%|██████████████████████████████████▎                                                                                      | 71/250 [00:03<00:08, 21.86it/s]"
     ]
    },
    {
     "name": "stdout",
     "output_type": "stream",
     "text": [
      "--- Validation --- [threshold, AUC, Accuracy, F score] =  [np.float64(0.646), np.float64(0.945), np.float64(0.895), np.float64(0.914)]\n",
      "--- Training --- [threshold, AUC] =  [np.float64(0.636), np.float64(0.945)]\n",
      "--- Iteration 80: Training loss --- [Data, Label, Total] = [9203.559873.3, 404.960522.3, 46422.759885.3]\n",
      "!!! pred_type filter\n"
     ]
    },
    {
     "name": "stderr",
     "output_type": "stream",
     "text": [
      " 32%|███████████████████████████████████████▏                                                                                 | 81/250 [00:03<00:07, 22.60it/s]"
     ]
    },
    {
     "name": "stdout",
     "output_type": "stream",
     "text": [
      "--- Validation --- [threshold, AUC, Accuracy, F score] =  [np.float64(0.636), np.float64(0.945), np.float64(0.895), np.float64(0.914)]\n",
      "--- Training --- [threshold, AUC] =  [np.float64(0.645), np.float64(0.944)]\n",
      "--- Iteration 90: Training loss --- [Data, Label, Total] = [9139.525346.3, 406.174319.3, 46103.801050.3]\n",
      "!!! pred_type filter\n"
     ]
    },
    {
     "name": "stderr",
     "output_type": "stream",
     "text": [
      " 36%|████████████████████████████████████████████                                                                             | 91/250 [00:04<00:06, 23.22it/s]"
     ]
    },
    {
     "name": "stdout",
     "output_type": "stream",
     "text": [
      "--- Validation --- [threshold, AUC, Accuracy, F score] =  [np.float64(0.645), np.float64(0.944), np.float64(0.893), np.float64(0.913)]\n",
      "--- Training --- [threshold, AUC] =  [np.float64(0.639), np.float64(0.944)]\n",
      "--- Iteration 100: Training loss --- [Data, Label, Total] = [9082.108472.3, 407.831786.3, 45818.374144.3]\n",
      "!!! pred_type filter\n"
     ]
    },
    {
     "name": "stderr",
     "output_type": "stream",
     "text": [
      " 40%|████████████████████████████████████████████████▍                                                                       | 101/250 [00:04<00:06, 23.34it/s]"
     ]
    },
    {
     "name": "stdout",
     "output_type": "stream",
     "text": [
      "--- Validation --- [threshold, AUC, Accuracy, F score] =  [np.float64(0.639), np.float64(0.944), np.float64(0.893), np.float64(0.913)]\n",
      "--- Training --- [threshold, AUC] =  [np.float64(0.639), np.float64(0.943)]\n",
      "--- Iteration 110: Training loss --- [Data, Label, Total] = [9026.212881.3, 409.628403.3, 45540.692808.3]\n",
      "!!! pred_type filter\n"
     ]
    },
    {
     "name": "stderr",
     "output_type": "stream",
     "text": [
      " 44%|█████████████████████████████████████████████████████▎                                                                  | 111/250 [00:04<00:06, 22.24it/s]"
     ]
    },
    {
     "name": "stdout",
     "output_type": "stream",
     "text": [
      "--- Validation --- [threshold, AUC, Accuracy, F score] =  [np.float64(0.639), np.float64(0.943), np.float64(0.893), np.float64(0.912)]\n",
      "--- Training --- [threshold, AUC] =  [np.float64(0.62), np.float64(0.942)]\n",
      "--- Iteration 120: Training loss --- [Data, Label, Total] = [8970.199372.3, 411.705048.3, 45262.701908.3]\n",
      "!!! pred_type filter\n"
     ]
    },
    {
     "name": "stderr",
     "output_type": "stream",
     "text": [
      " 48%|██████████████████████████████████████████████████████████                                                              | 121/250 [00:05<00:05, 22.25it/s]"
     ]
    },
    {
     "name": "stdout",
     "output_type": "stream",
     "text": [
      "--- Validation --- [threshold, AUC, Accuracy, F score] =  [np.float64(0.62), np.float64(0.942), np.float64(0.893), np.float64(0.913)]\n",
      "--- Training --- [threshold, AUC] =  [np.float64(0.619), np.float64(0.942)]\n",
      "--- Iteration 130: Training loss --- [Data, Label, Total] = [8915.663428.3, 413.480030.3, 44991.797172.3]\n",
      "!!! pred_type filter\n"
     ]
    },
    {
     "name": "stderr",
     "output_type": "stream",
     "text": [
      " 52%|██████████████████████████████████████████████████████████████▉                                                         | 131/250 [00:05<00:05, 22.94it/s]"
     ]
    },
    {
     "name": "stdout",
     "output_type": "stream",
     "text": [
      "--- Validation --- [threshold, AUC, Accuracy, F score] =  [np.float64(0.619), np.float64(0.942), np.float64(0.893), np.float64(0.912)]\n",
      "--- Training --- [threshold, AUC] =  [np.float64(0.631), np.float64(0.941)]\n",
      "--- Iteration 140: Training loss --- [Data, Label, Total] = [8863.833457.3, 414.791672.3, 44733.958957.3]\n",
      "!!! pred_type filter\n"
     ]
    },
    {
     "name": "stderr",
     "output_type": "stream",
     "text": [
      " 56%|███████████████████████████████████████████████████████████████████▋                                                    | 141/250 [00:06<00:04, 23.50it/s]"
     ]
    },
    {
     "name": "stdout",
     "output_type": "stream",
     "text": [
      "--- Validation --- [threshold, AUC, Accuracy, F score] =  [np.float64(0.631), np.float64(0.941), np.float64(0.889), np.float64(0.909)]\n",
      "--- Training --- [threshold, AUC] =  [np.float64(0.626), np.float64(0.941)]\n",
      "--- Iteration 150: Training loss --- [Data, Label, Total] = [8813.304536.3, 415.464543.3, 44481.987224.3]\n",
      "!!! pred_type filter\n"
     ]
    },
    {
     "name": "stderr",
     "output_type": "stream",
     "text": [
      " 60%|████████████████████████████████████████████████████████████████████████▍                                               | 151/250 [00:06<00:04, 23.72it/s]"
     ]
    },
    {
     "name": "stdout",
     "output_type": "stream",
     "text": [
      "--- Validation --- [threshold, AUC, Accuracy, F score] =  [np.float64(0.626), np.float64(0.941), np.float64(0.889), np.float64(0.909)]\n",
      "--- Training --- [threshold, AUC] =  [np.float64(0.624), np.float64(0.941)]\n",
      "--- Iteration 160: Training loss --- [Data, Label, Total] = [8762.777469.3, 415.505668.3, 44229.393012.3]\n",
      "!!! pred_type filter\n"
     ]
    },
    {
     "name": "stderr",
     "output_type": "stream",
     "text": [
      " 64%|█████████████████████████████████████████████████████████████████████████████▎                                          | 161/250 [00:07<00:03, 23.93it/s]"
     ]
    },
    {
     "name": "stdout",
     "output_type": "stream",
     "text": [
      "--- Validation --- [threshold, AUC, Accuracy, F score] =  [np.float64(0.624), np.float64(0.941), np.float64(0.889), np.float64(0.909)]\n",
      "--- Training --- [threshold, AUC] =  [np.float64(0.629), np.float64(0.942)]\n",
      "--- Iteration 170: Training loss --- [Data, Label, Total] = [8712.022645.3, 414.864290.3, 43974.977514.3]\n",
      "!!! pred_type filter\n"
     ]
    },
    {
     "name": "stderr",
     "output_type": "stream",
     "text": [
      " 68%|██████████████████████████████████████████████████████████████████████████████████                                      | 171/250 [00:07<00:03, 23.79it/s]"
     ]
    },
    {
     "name": "stdout",
     "output_type": "stream",
     "text": [
      "--- Validation --- [threshold, AUC, Accuracy, F score] =  [np.float64(0.629), np.float64(0.942), np.float64(0.89), np.float64(0.909)]\n",
      "--- Training --- [threshold, AUC] =  [np.float64(0.63), np.float64(0.942)]\n",
      "--- Iteration 180: Training loss --- [Data, Label, Total] = [8660.049142.3, 413.921140.3, 43714.166850.3]\n",
      "!!! pred_type filter\n"
     ]
    },
    {
     "name": "stderr",
     "output_type": "stream",
     "text": [
      " 72%|██████████████████████████████████████████████████████████████████████████████████████▉                                 | 181/250 [00:07<00:02, 24.25it/s]"
     ]
    },
    {
     "name": "stdout",
     "output_type": "stream",
     "text": [
      "--- Validation --- [threshold, AUC, Accuracy, F score] =  [np.float64(0.63), np.float64(0.942), np.float64(0.891), np.float64(0.911)]\n",
      "--- Training --- [threshold, AUC] =  [np.float64(0.633), np.float64(0.943)]\n",
      "--- Iteration 190: Training loss --- [Data, Label, Total] = [8608.203962.3, 412.872686.3, 43453.892495.3]\n",
      "!!! pred_type filter\n"
     ]
    },
    {
     "name": "stderr",
     "output_type": "stream",
     "text": [
      " 76%|███████████████████████████████████████████████████████████████████████████████████████████▋                            | 191/250 [00:08<00:02, 24.29it/s]"
     ]
    },
    {
     "name": "stdout",
     "output_type": "stream",
     "text": [
      "--- Validation --- [threshold, AUC, Accuracy, F score] =  [np.float64(0.633), np.float64(0.943), np.float64(0.89), np.float64(0.91)]\n",
      "--- Training --- [threshold, AUC] =  [np.float64(0.613), np.float64(0.943)]\n",
      "--- Iteration 200: Training loss --- [Data, Label, Total] = [8558.863726.3, 411.580099.3, 43205.898731.3]\n",
      "!!! pred_type filter\n"
     ]
    },
    {
     "name": "stderr",
     "output_type": "stream",
     "text": [
      " 80%|████████████████████████████████████████████████████████████████████████████████████████████████▍                       | 201/250 [00:08<00:01, 24.66it/s]"
     ]
    },
    {
     "name": "stdout",
     "output_type": "stream",
     "text": [
      "--- Validation --- [threshold, AUC, Accuracy, F score] =  [np.float64(0.613), np.float64(0.943), np.float64(0.891), np.float64(0.911)]\n",
      "--- Training --- [threshold, AUC] =  [np.float64(0.603), np.float64(0.943)]\n",
      "--- Iteration 210: Training loss --- [Data, Label, Total] = [8514.153875.3, 410.528571.3, 42981.297944.3]\n",
      "!!! pred_type filter\n"
     ]
    },
    {
     "name": "stderr",
     "output_type": "stream",
     "text": [
      " 86%|██████████████████████████████████████████████████████████████████████████████████████████████████████▋                 | 214/250 [00:09<00:01, 25.24it/s]"
     ]
    },
    {
     "name": "stdout",
     "output_type": "stream",
     "text": [
      "--- Validation --- [threshold, AUC, Accuracy, F score] =  [np.float64(0.603), np.float64(0.943), np.float64(0.893), np.float64(0.913)]\n",
      "--- Training --- [threshold, AUC] =  [np.float64(0.597), np.float64(0.944)]\n",
      "--- Iteration 220: Training loss --- [Data, Label, Total] = [8475.263584.3, 409.589576.3, 42785.907496.3]\n",
      "!!! pred_type filter\n"
     ]
    },
    {
     "name": "stderr",
     "output_type": "stream",
     "text": [
      " 88%|██████████████████████████████████████████████████████████████████████████████████████████████████████████              | 221/250 [00:09<00:01, 22.43it/s]"
     ]
    },
    {
     "name": "stdout",
     "output_type": "stream",
     "text": [
      "--- Validation --- [threshold, AUC, Accuracy, F score] =  [np.float64(0.597), np.float64(0.944), np.float64(0.893), np.float64(0.914)]\n",
      "--- Training --- [threshold, AUC] =  [np.float64(0.672), np.float64(0.944)]\n",
      "--- Iteration 230: Training loss --- [Data, Label, Total] = [8442.978314.3, 408.459544.3, 42623.351114.3]\n",
      "!!! pred_type filter\n"
     ]
    },
    {
     "name": "stderr",
     "output_type": "stream",
     "text": [
      " 92%|██████████████████████████████████████████████████████████████████████████████████████████████████████████████▉         | 231/250 [00:09<00:00, 22.64it/s]"
     ]
    },
    {
     "name": "stdout",
     "output_type": "stream",
     "text": [
      "--- Validation --- [threshold, AUC, Accuracy, F score] =  [np.float64(0.672), np.float64(0.944), np.float64(0.885), np.float64(0.904)]\n",
      "--- Training --- [threshold, AUC] =  [np.float64(0.669), np.float64(0.945)]\n",
      "--- Iteration 240: Training loss --- [Data, Label, Total] = [8417.006006.3, 407.498151.3, 42492.528181.3]\n",
      "!!! pred_type filter\n"
     ]
    },
    {
     "name": "stderr",
     "output_type": "stream",
     "text": [
      "100%|████████████████████████████████████████████████████████████████████████████████████████████████████████████████████████| 250/250 [00:10<00:00, 23.96it/s]"
     ]
    },
    {
     "name": "stdout",
     "output_type": "stream",
     "text": [
      "--- Validation --- [threshold, AUC, Accuracy, F score] =  [np.float64(0.669), np.float64(0.945), np.float64(0.886), np.float64(0.905)]\n",
      "!!! pred_type filter\n"
     ]
    },
    {
     "name": "stderr",
     "output_type": "stream",
     "text": [
      "\n"
     ]
    },
    {
     "name": "stdout",
     "output_type": "stream",
     "text": [
      "num of subgraphs induced on k-paths: 500\n",
      "num of subgraphs induced on k-paths: 500\n",
      "X_list: (169, 1000)\n",
      "2\n",
      "(1, 500)\n",
      "(1, 500)\n",
      "label_vec: (1, 1000)\n",
      "num of subgraphs induced on k-paths: 500\n",
      "num of subgraphs induced on k-paths: 500\n",
      "X_list: (169, 1000)\n",
      "2\n",
      "(1, 500)\n",
      "(1, 500)\n",
      "label_vec: (1, 1000)\n",
      "num of subgraphs induced on k-paths: 500\n",
      "num of subgraphs induced on k-paths: 500\n",
      "X_list: (169, 1000)\n",
      "2\n",
      "(1, 500)\n",
      "(1, 500)\n",
      "label_vec: (1, 1000)\n",
      "num of subgraphs induced on k-paths: 500\n",
      "num of subgraphs induced on k-paths: 500\n",
      "X_list: (169, 1000)\n",
      "2\n",
      "(1, 500)\n",
      "(1, 500)\n",
      "label_vec: (1, 1000)\n",
      "14\n",
      "num of subgraphs induced on k-paths: 500\n",
      "num of subgraphs induced on k-paths: 500\n",
      "X_list: (196, 1000)\n",
      "2\n",
      "(1, 500)\n",
      "(1, 500)\n",
      "label_vec: (1, 1000)\n",
      "num of subgraphs induced on k-paths: 500\n",
      "num of subgraphs induced on k-paths: 852\n",
      "X_list: (196, 1352)\n",
      "2\n",
      "(1, 500)\n",
      "(1, 852)\n",
      "label_vec: (1, 1352)\n",
      "initial loading beta [[-0.35782159  0.48705027 -0.08707135  0.70308654 -0.02724882 -0.42751866\n",
      "  -0.57969624  0.58986666  0.67982948  0.78822748 -0.95180685  0.86834076\n",
      "  -0.4960877  -0.50176426 -0.57572636 -0.62307597  0.38372725]]\n"
     ]
    },
    {
     "name": "stderr",
     "output_type": "stream",
     "text": [
      "  0%|                                                                                                                                  | 0/250 [00:00<?, ?it/s]"
     ]
    },
    {
     "name": "stdout",
     "output_type": "stream",
     "text": [
      "--- Training --- [threshold, AUC] =  [np.float64(0.683), np.float64(0.947)]\n",
      "--- Iteration 0: Training loss --- [Data, Label, Total] = [25482.315249.3, 408.752346.3, 127820.328590.3]\n",
      "--- Training --- [threshold, AUC] =  [np.float64(0.738), np.float64(0.948)]\n",
      "--- Iteration 10: Training loss --- [Data, Label, Total] = [14665.114522.3, 400.342399.3, 73725.915011.3]\n",
      "!!! pred_type filter\n"
     ]
    },
    {
     "name": "stderr",
     "output_type": "stream",
     "text": [
      "  4%|█████▎                                                                                                                   | 11/250 [00:00<00:12, 19.07it/s]"
     ]
    },
    {
     "name": "stdout",
     "output_type": "stream",
     "text": [
      "--- Validation --- [threshold, AUC, Accuracy, F score] =  [np.float64(0.738), np.float64(0.948), np.float64(0.874), np.float64(0.893)]\n",
      "--- Training --- [threshold, AUC] =  [np.float64(0.721), np.float64(0.95)]\n",
      "--- Iteration 20: Training loss --- [Data, Label, Total] = [12952.880673.3, 394.664288.3, 65159.067653.3]\n",
      "!!! pred_type filter\n"
     ]
    },
    {
     "name": "stderr",
     "output_type": "stream",
     "text": [
      "  8%|██████████▏                                                                                                              | 21/250 [00:01<00:12, 18.66it/s]"
     ]
    },
    {
     "name": "stdout",
     "output_type": "stream",
     "text": [
      "--- Validation --- [threshold, AUC, Accuracy, F score] =  [np.float64(0.721), np.float64(0.95), np.float64(0.879), np.float64(0.899)]\n",
      "--- Training --- [threshold, AUC] =  [np.float64(0.73), np.float64(0.951)]\n",
      "--- Iteration 30: Training loss --- [Data, Label, Total] = [12081.198970.3, 392.584154.3, 60798.579002.3]\n",
      "!!! pred_type filter\n"
     ]
    },
    {
     "name": "stderr",
     "output_type": "stream",
     "text": [
      " 12%|███████████████                                                                                                          | 31/250 [00:01<00:11, 19.73it/s]"
     ]
    },
    {
     "name": "stdout",
     "output_type": "stream",
     "text": [
      "--- Validation --- [threshold, AUC, Accuracy, F score] =  [np.float64(0.73), np.float64(0.951), np.float64(0.876), np.float64(0.896)]\n",
      "--- Training --- [threshold, AUC] =  [np.float64(0.729), np.float64(0.952)]\n",
      "--- Iteration 40: Training loss --- [Data, Label, Total] = [11552.817668.3, 391.822216.3, 58155.910554.3]\n",
      "!!! pred_type filter\n"
     ]
    },
    {
     "name": "stderr",
     "output_type": "stream",
     "text": [
      " 16%|███████████████████▊                                                                                                     | 41/250 [00:02<00:10, 20.50it/s]"
     ]
    },
    {
     "name": "stdout",
     "output_type": "stream",
     "text": [
      "--- Validation --- [threshold, AUC, Accuracy, F score] =  [np.float64(0.729), np.float64(0.952), np.float64(0.876), np.float64(0.896)]\n",
      "--- Training --- [threshold, AUC] =  [np.float64(0.706), np.float64(0.952)]\n",
      "--- Iteration 50: Training loss --- [Data, Label, Total] = [11221.990876.3, 391.689932.3, 56501.644311.3]\n",
      "!!! pred_type filter\n"
     ]
    },
    {
     "name": "stderr",
     "output_type": "stream",
     "text": [
      " 20%|████████████████████████▋                                                                                                | 51/250 [00:02<00:09, 20.82it/s]"
     ]
    },
    {
     "name": "stdout",
     "output_type": "stream",
     "text": [
      "--- Validation --- [threshold, AUC, Accuracy, F score] =  [np.float64(0.706), np.float64(0.952), np.float64(0.879), np.float64(0.899)]\n",
      "--- Training --- [threshold, AUC] =  [np.float64(0.668), np.float64(0.952)]\n",
      "--- Iteration 60: Training loss --- [Data, Label, Total] = [11017.527179.3, 391.761130.3, 55479.397024.3]\n",
      "!!! pred_type filter\n"
     ]
    },
    {
     "name": "stderr",
     "output_type": "stream",
     "text": [
      " 28%|█████████████████████████████████▉                                                                                       | 70/250 [00:03<00:06, 26.83it/s]"
     ]
    },
    {
     "name": "stdout",
     "output_type": "stream",
     "text": [
      "--- Validation --- [threshold, AUC, Accuracy, F score] =  [np.float64(0.668), np.float64(0.952), np.float64(0.886), np.float64(0.907)]\n",
      "--- Training --- [threshold, AUC] =  [np.float64(0.677), np.float64(0.952)]\n",
      "--- Iteration 70: Training loss --- [Data, Label, Total] = [10887.432728.3, 391.879799.3, 54829.043436.3]\n",
      "!!! pred_type filter\n"
     ]
    },
    {
     "name": "stderr",
     "output_type": "stream",
     "text": [
      " 30%|████████████████████████████████████▎                                                                                    | 75/250 [00:03<00:08, 21.32it/s]"
     ]
    },
    {
     "name": "stdout",
     "output_type": "stream",
     "text": [
      "--- Validation --- [threshold, AUC, Accuracy, F score] =  [np.float64(0.677), np.float64(0.952), np.float64(0.886), np.float64(0.906)]\n",
      "--- Training --- [threshold, AUC] =  [np.float64(0.684), np.float64(0.952)]\n",
      "--- Iteration 80: Training loss --- [Data, Label, Total] = [10795.461861.3, 392.119543.3, 54369.428846.3]\n",
      "!!! pred_type filter\n"
     ]
    },
    {
     "name": "stderr",
     "output_type": "stream",
     "text": [
      " 32%|███████████████████████████████████████▏                                                                                 | 81/250 [00:03<00:08, 18.87it/s]"
     ]
    },
    {
     "name": "stdout",
     "output_type": "stream",
     "text": [
      "--- Validation --- [threshold, AUC, Accuracy, F score] =  [np.float64(0.684), np.float64(0.952), np.float64(0.886), np.float64(0.906)]\n",
      "--- Training --- [threshold, AUC] =  [np.float64(0.685), np.float64(0.953)]\n",
      "--- Iteration 90: Training loss --- [Data, Label, Total] = [10722.406956.3, 392.349772.3, 54004.384550.3]\n",
      "!!! pred_type filter\n"
     ]
    },
    {
     "name": "stderr",
     "output_type": "stream",
     "text": [
      " 36%|████████████████████████████████████████████                                                                             | 91/250 [00:04<00:08, 19.46it/s]"
     ]
    },
    {
     "name": "stdout",
     "output_type": "stream",
     "text": [
      "--- Validation --- [threshold, AUC, Accuracy, F score] =  [np.float64(0.685), np.float64(0.953), np.float64(0.885), np.float64(0.905)]\n",
      "--- Training --- [threshold, AUC] =  [np.float64(0.668), np.float64(0.953)]\n",
      "--- Iteration 100: Training loss --- [Data, Label, Total] = [10659.055774.3, 392.551803.3, 53687.830675.3]\n",
      "!!! pred_type filter\n"
     ]
    },
    {
     "name": "stderr",
     "output_type": "stream",
     "text": [
      " 40%|████████████████████████████████████████████████▍                                                                       | 101/250 [00:04<00:07, 20.38it/s]"
     ]
    },
    {
     "name": "stdout",
     "output_type": "stream",
     "text": [
      "--- Validation --- [threshold, AUC, Accuracy, F score] =  [np.float64(0.668), np.float64(0.953), np.float64(0.888), np.float64(0.908)]\n",
      "--- Training --- [threshold, AUC] =  [np.float64(0.66), np.float64(0.953)]\n",
      "--- Iteration 110: Training loss --- [Data, Label, Total] = [10600.742975.3, 392.590607.3, 53396.305484.3]\n",
      "!!! pred_type filter\n"
     ]
    },
    {
     "name": "stderr",
     "output_type": "stream",
     "text": [
      " 44%|█████████████████████████████████████████████████████▎                                                                  | 111/250 [00:05<00:06, 21.02it/s]"
     ]
    },
    {
     "name": "stdout",
     "output_type": "stream",
     "text": [
      "--- Validation --- [threshold, AUC, Accuracy, F score] =  [np.float64(0.66), np.float64(0.953), np.float64(0.891), np.float64(0.911)]\n",
      "--- Training --- [threshold, AUC] =  [np.float64(0.659), np.float64(0.953)]\n",
      "--- Iteration 120: Training loss --- [Data, Label, Total] = [10545.499221.3, 392.727068.3, 53120.223172.3]\n",
      "!!! pred_type filter\n"
     ]
    },
    {
     "name": "stderr",
     "output_type": "stream",
     "text": [
      " 48%|██████████████████████████████████████████████████████████                                                              | 121/250 [00:05<00:05, 21.69it/s]"
     ]
    },
    {
     "name": "stdout",
     "output_type": "stream",
     "text": [
      "--- Validation --- [threshold, AUC, Accuracy, F score] =  [np.float64(0.659), np.float64(0.953), np.float64(0.892), np.float64(0.912)]\n",
      "--- Training --- [threshold, AUC] =  [np.float64(0.662), np.float64(0.953)]\n",
      "--- Iteration 130: Training loss --- [Data, Label, Total] = [10491.559903.3, 392.847313.3, 52850.646827.3]\n",
      "!!! pred_type filter\n"
     ]
    },
    {
     "name": "stderr",
     "output_type": "stream",
     "text": [
      " 52%|██████████████████████████████████████████████████████████████▉                                                         | 131/250 [00:06<00:05, 22.20it/s]"
     ]
    },
    {
     "name": "stdout",
     "output_type": "stream",
     "text": [
      "--- Validation --- [threshold, AUC, Accuracy, F score] =  [np.float64(0.662), np.float64(0.953), np.float64(0.892), np.float64(0.912)]\n",
      "--- Training --- [threshold, AUC] =  [np.float64(0.668), np.float64(0.953)]\n",
      "--- Iteration 140: Training loss --- [Data, Label, Total] = [10438.302717.3, 392.679897.3, 52584.193484.3]\n",
      "!!! pred_type filter\n"
     ]
    },
    {
     "name": "stderr",
     "output_type": "stream",
     "text": [
      " 56%|███████████████████████████████████████████████████████████████████▋                                                    | 141/250 [00:06<00:04, 23.22it/s]"
     ]
    },
    {
     "name": "stdout",
     "output_type": "stream",
     "text": [
      "--- Validation --- [threshold, AUC, Accuracy, F score] =  [np.float64(0.668), np.float64(0.953), np.float64(0.891), np.float64(0.911)]\n",
      "--- Training --- [threshold, AUC] =  [np.float64(0.666), np.float64(0.953)]\n",
      "--- Iteration 150: Training loss --- [Data, Label, Total] = [10388.886634.3, 392.839511.3, 52337.272683.3]\n",
      "!!! pred_type filter\n"
     ]
    },
    {
     "name": "stderr",
     "output_type": "stream",
     "text": [
      " 60%|████████████████████████████████████████████████████████████████████████▍                                               | 151/250 [00:07<00:04, 23.51it/s]"
     ]
    },
    {
     "name": "stdout",
     "output_type": "stream",
     "text": [
      "--- Validation --- [threshold, AUC, Accuracy, F score] =  [np.float64(0.666), np.float64(0.953), np.float64(0.891), np.float64(0.911)]\n",
      "--- Training --- [threshold, AUC] =  [np.float64(0.657), np.float64(0.953)]\n",
      "--- Iteration 160: Training loss --- [Data, Label, Total] = [10345.965970.3, 392.694545.3, 52122.524395.3]\n",
      "!!! pred_type filter\n"
     ]
    },
    {
     "name": "stderr",
     "output_type": "stream",
     "text": [
      " 64%|█████████████████████████████████████████████████████████████████████████████▎                                          | 161/250 [00:07<00:03, 23.77it/s]"
     ]
    },
    {
     "name": "stdout",
     "output_type": "stream",
     "text": [
      "--- Validation --- [threshold, AUC, Accuracy, F score] =  [np.float64(0.657), np.float64(0.953), np.float64(0.892), np.float64(0.912)]\n",
      "--- Training --- [threshold, AUC] =  [np.float64(0.68), np.float64(0.953)]\n",
      "--- Iteration 170: Training loss --- [Data, Label, Total] = [10311.554610.3, 392.679373.3, 51950.452424.3]\n",
      "!!! pred_type filter\n"
     ]
    },
    {
     "name": "stderr",
     "output_type": "stream",
     "text": [
      " 68%|██████████████████████████████████████████████████████████████████████████████████                                      | 171/250 [00:07<00:03, 23.62it/s]"
     ]
    },
    {
     "name": "stdout",
     "output_type": "stream",
     "text": [
      "--- Validation --- [threshold, AUC, Accuracy, F score] =  [np.float64(0.68), np.float64(0.953), np.float64(0.89), np.float64(0.91)]\n",
      "--- Training --- [threshold, AUC] =  [np.float64(0.682), np.float64(0.953)]\n",
      "--- Iteration 180: Training loss --- [Data, Label, Total] = [10285.216622.3, 392.625250.3, 51818.708360.3]\n",
      "!!! pred_type filter\n"
     ]
    },
    {
     "name": "stderr",
     "output_type": "stream",
     "text": [
      " 72%|██████████████████████████████████████████████████████████████████████████████████████▉                                 | 181/250 [00:08<00:02, 23.09it/s]"
     ]
    },
    {
     "name": "stdout",
     "output_type": "stream",
     "text": [
      "--- Validation --- [threshold, AUC, Accuracy, F score] =  [np.float64(0.682), np.float64(0.953), np.float64(0.89), np.float64(0.91)]\n",
      "--- Training --- [threshold, AUC] =  [np.float64(0.654), np.float64(0.953)]\n",
      "--- Iteration 190: Training loss --- [Data, Label, Total] = [10265.093988.3, 392.499750.3, 51717.969692.3]\n",
      "!!! pred_type filter\n"
     ]
    },
    {
     "name": "stderr",
     "output_type": "stream",
     "text": [
      " 76%|███████████████████████████████████████████████████████████████████████████████████████████▋                            | 191/250 [00:08<00:02, 23.52it/s]"
     ]
    },
    {
     "name": "stdout",
     "output_type": "stream",
     "text": [
      "--- Validation --- [threshold, AUC, Accuracy, F score] =  [np.float64(0.654), np.float64(0.953), np.float64(0.892), np.float64(0.912)]\n",
      "--- Training --- [threshold, AUC] =  [np.float64(0.655), np.float64(0.953)]\n",
      "--- Iteration 200: Training loss --- [Data, Label, Total] = [10248.759552.3, 392.324952.3, 51636.122714.3]\n",
      "!!! pred_type filter\n"
     ]
    },
    {
     "name": "stderr",
     "output_type": "stream",
     "text": [
      " 80%|████████████████████████████████████████████████████████████████████████████████████████████████▍                       | 201/250 [00:09<00:02, 23.88it/s]"
     ]
    },
    {
     "name": "stdout",
     "output_type": "stream",
     "text": [
      "--- Validation --- [threshold, AUC, Accuracy, F score] =  [np.float64(0.655), np.float64(0.953), np.float64(0.892), np.float64(0.912)]\n",
      "--- Training --- [threshold, AUC] =  [np.float64(0.657), np.float64(0.953)]\n",
      "--- Iteration 210: Training loss --- [Data, Label, Total] = [10234.374031.3, 392.238962.3, 51564.109117.3]\n",
      "!!! pred_type filter\n"
     ]
    },
    {
     "name": "stderr",
     "output_type": "stream",
     "text": [
      " 84%|█████████████████████████████████████████████████████████████████████████████████████████████████████▎                  | 211/250 [00:09<00:01, 24.19it/s]"
     ]
    },
    {
     "name": "stdout",
     "output_type": "stream",
     "text": [
      "--- Validation --- [threshold, AUC, Accuracy, F score] =  [np.float64(0.657), np.float64(0.953), np.float64(0.892), np.float64(0.912)]\n",
      "--- Training --- [threshold, AUC] =  [np.float64(0.668), np.float64(0.953)]\n",
      "--- Iteration 220: Training loss --- [Data, Label, Total] = [10220.886360.3, 392.191117.3, 51496.622918.3]\n",
      "!!! pred_type filter\n"
     ]
    },
    {
     "name": "stderr",
     "output_type": "stream",
     "text": [
      " 88%|██████████████████████████████████████████████████████████████████████████████████████████████████████████              | 221/250 [00:09<00:01, 24.24it/s]"
     ]
    },
    {
     "name": "stdout",
     "output_type": "stream",
     "text": [
      "--- Validation --- [threshold, AUC, Accuracy, F score] =  [np.float64(0.668), np.float64(0.953), np.float64(0.891), np.float64(0.911)]\n",
      "--- Training --- [threshold, AUC] =  [np.float64(0.67), np.float64(0.953)]\n",
      "--- Iteration 230: Training loss --- [Data, Label, Total] = [10207.491555.3, 392.017674.3, 51429.475447.3]\n",
      "!!! pred_type filter\n"
     ]
    },
    {
     "name": "stderr",
     "output_type": "stream",
     "text": [
      " 92%|██████████████████████████████████████████████████████████████████████████████████████████████████████████████▉         | 231/250 [00:10<00:00, 24.36it/s]"
     ]
    },
    {
     "name": "stdout",
     "output_type": "stream",
     "text": [
      "--- Validation --- [threshold, AUC, Accuracy, F score] =  [np.float64(0.67), np.float64(0.953), np.float64(0.891), np.float64(0.911)]\n",
      "--- Training --- [threshold, AUC] =  [np.float64(0.663), np.float64(0.953)]\n",
      "--- Iteration 240: Training loss --- [Data, Label, Total] = [10194.036313.3, 391.905994.3, 51362.087559.3]\n",
      "!!! pred_type filter\n"
     ]
    },
    {
     "name": "stderr",
     "output_type": "stream",
     "text": [
      "100%|████████████████████████████████████████████████████████████████████████████████████████████████████████████████████████| 250/250 [00:10<00:00, 23.10it/s]"
     ]
    },
    {
     "name": "stdout",
     "output_type": "stream",
     "text": [
      "--- Validation --- [threshold, AUC, Accuracy, F score] =  [np.float64(0.663), np.float64(0.953), np.float64(0.893), np.float64(0.913)]\n",
      "!!! pred_type filter\n"
     ]
    },
    {
     "name": "stderr",
     "output_type": "stream",
     "text": [
      "\n"
     ]
    },
    {
     "name": "stdout",
     "output_type": "stream",
     "text": [
      "num of subgraphs induced on k-paths: 500\n",
      "num of subgraphs induced on k-paths: 500\n",
      "X_list: (196, 1000)\n",
      "2\n",
      "(1, 500)\n",
      "(1, 500)\n",
      "label_vec: (1, 1000)\n",
      "num of subgraphs induced on k-paths: 500\n",
      "num of subgraphs induced on k-paths: 500\n",
      "X_list: (196, 1000)\n",
      "2\n",
      "(1, 500)\n",
      "(1, 500)\n",
      "label_vec: (1, 1000)\n",
      "num of subgraphs induced on k-paths: 500\n",
      "num of subgraphs induced on k-paths: 500\n",
      "X_list: (196, 1000)\n",
      "2\n",
      "(1, 500)\n",
      "(1, 500)\n",
      "label_vec: (1, 1000)\n",
      "num of subgraphs induced on k-paths: 500\n",
      "num of subgraphs induced on k-paths: 500\n",
      "X_list: (196, 1000)\n",
      "2\n",
      "(1, 500)\n",
      "(1, 500)\n",
      "label_vec: (1, 1000)\n"
     ]
    }
   ],
   "source": [
    "for i in range(10,15):\n",
    "    print(i)\n",
    "    accu.append(roc.run(i))"
   ]
  },
  {
   "cell_type": "code",
   "execution_count": 5,
   "id": "c6fe1549-95ae-44b8-8db1-f3807b614d59",
   "metadata": {},
   "outputs": [
    {
     "name": "stdout",
     "output_type": "stream",
     "text": [
      "15\n",
      "num of subgraphs induced on k-paths: 500\n",
      "num of subgraphs induced on k-paths: 500\n",
      "X_list: (225, 1000)\n",
      "2\n",
      "(1, 500)\n",
      "(1, 500)\n",
      "label_vec: (1, 1000)\n",
      "num of subgraphs induced on k-paths: 500\n",
      "num of subgraphs induced on k-paths: 834\n",
      "X_list: (225, 1334)\n",
      "2\n",
      "(1, 500)\n",
      "(1, 834)\n",
      "label_vec: (1, 1334)\n",
      "initial loading beta [[-0.2103119   0.10636501 -0.72607304 -0.12578668  0.6238802   0.51306147\n",
      "   0.06045654  0.08197786  0.9261768  -0.25080038 -0.40742122  0.16241742\n",
      "  -0.29435989 -0.72195936  0.32790935  0.89863692 -0.31604991]]\n"
     ]
    },
    {
     "name": "stderr",
     "output_type": "stream",
     "text": [
      "  4%|████▍                                                                                                                     | 9/250 [00:00<00:02, 87.24it/s]"
     ]
    },
    {
     "name": "stdout",
     "output_type": "stream",
     "text": [
      "--- Training --- [threshold, AUC] =  [np.float64(0.659), np.float64(0.968)]\n",
      "--- Iteration 0: Training loss --- [Data, Label, Total] = [29372.490589.3, 316.632401.3, 147179.085346.3]\n",
      "--- Training --- [threshold, AUC] =  [np.float64(0.693), np.float64(0.97)]\n",
      "--- Iteration 10: Training loss --- [Data, Label, Total] = [17420.412294.3, 296.412727.3, 87398.474196.3]\n",
      "!!! pred_type filter\n"
     ]
    },
    {
     "name": "stderr",
     "output_type": "stream",
     "text": [
      "  7%|████████▋                                                                                                                | 18/250 [00:00<00:09, 24.37it/s]"
     ]
    },
    {
     "name": "stdout",
     "output_type": "stream",
     "text": [
      "--- Validation --- [threshold, AUC, Accuracy, F score] =  [np.float64(0.693), np.float64(0.97), np.float64(0.907), np.float64(0.924)]\n",
      "--- Training --- [threshold, AUC] =  [np.float64(0.683), np.float64(0.973)]\n",
      "--- Iteration 20: Training loss --- [Data, Label, Total] = [15546.490196.3, 285.411498.3, 78017.862480.3]\n",
      "!!! pred_type filter\n"
     ]
    },
    {
     "name": "stderr",
     "output_type": "stream",
     "text": [
      "  9%|███████████▏                                                                                                             | 23/250 [00:01<00:14, 15.27it/s]"
     ]
    },
    {
     "name": "stdout",
     "output_type": "stream",
     "text": [
      "--- Validation --- [threshold, AUC, Accuracy, F score] =  [np.float64(0.683), np.float64(0.973), np.float64(0.914), np.float64(0.93)]\n"
     ]
    },
    {
     "name": "stderr",
     "output_type": "stream",
     "text": [
      " 11%|█████████████                                                                                                            | 27/250 [00:01<00:12, 18.04it/s]"
     ]
    },
    {
     "name": "stdout",
     "output_type": "stream",
     "text": [
      "--- Training --- [threshold, AUC] =  [np.float64(0.65), np.float64(0.974)]\n",
      "--- Iteration 30: Training loss --- [Data, Label, Total] = [14697.281076.3, 282.775812.3, 73769.181194.3]\n",
      "!!! pred_type filter\n"
     ]
    },
    {
     "name": "stderr",
     "output_type": "stream",
     "text": [
      " 16%|███████████████████▎                                                                                                     | 40/250 [00:01<00:09, 21.98it/s]"
     ]
    },
    {
     "name": "stdout",
     "output_type": "stream",
     "text": [
      "--- Validation --- [threshold, AUC, Accuracy, F score] =  [np.float64(0.65), np.float64(0.974), np.float64(0.917), np.float64(0.933)]\n",
      "--- Training --- [threshold, AUC] =  [np.float64(0.622), np.float64(0.974)]\n",
      "--- Iteration 40: Training loss --- [Data, Label, Total] = [14223.689195.3, 280.267228.3, 71398.713203.3]\n",
      "!!! pred_type filter\n"
     ]
    },
    {
     "name": "stderr",
     "output_type": "stream",
     "text": [
      " 18%|█████████████████████▊                                                                                                   | 45/250 [00:02<00:12, 16.65it/s]"
     ]
    },
    {
     "name": "stdout",
     "output_type": "stream",
     "text": [
      "--- Validation --- [threshold, AUC, Accuracy, F score] =  [np.float64(0.622), np.float64(0.974), np.float64(0.92), np.float64(0.936)]\n",
      "--- Training --- [threshold, AUC] =  [np.float64(0.743), np.float64(0.975)]\n",
      "--- Iteration 50: Training loss --- [Data, Label, Total] = [13896.970963.3, 278.256701.3, 69763.111515.3]\n",
      "!!! pred_type filter\n"
     ]
    },
    {
     "name": "stderr",
     "output_type": "stream",
     "text": [
      " 24%|█████████████████████████████                                                                                            | 60/250 [00:03<00:08, 22.55it/s]"
     ]
    },
    {
     "name": "stdout",
     "output_type": "stream",
     "text": [
      "--- Validation --- [threshold, AUC, Accuracy, F score] =  [np.float64(0.743), np.float64(0.975), np.float64(0.91), np.float64(0.925)]\n",
      "--- Training --- [threshold, AUC] =  [np.float64(0.677), np.float64(0.976)]\n",
      "--- Iteration 60: Training loss --- [Data, Label, Total] = [13633.280554.3, 276.970337.3, 68443.373107.3]\n",
      "!!! pred_type filter\n"
     ]
    },
    {
     "name": "stderr",
     "output_type": "stream",
     "text": [
      " 26%|███████████████████████████████▍                                                                                         | 65/250 [00:03<00:10, 17.68it/s]"
     ]
    },
    {
     "name": "stdout",
     "output_type": "stream",
     "text": [
      "--- Validation --- [threshold, AUC, Accuracy, F score] =  [np.float64(0.677), np.float64(0.976), np.float64(0.915), np.float64(0.931)]\n",
      "--- Training --- [threshold, AUC] =  [np.float64(0.671), np.float64(0.976)]\n",
      "--- Iteration 70: Training loss --- [Data, Label, Total] = [13402.353175.3, 276.202154.3, 67287.968029.3]\n",
      "!!! pred_type filter\n"
     ]
    },
    {
     "name": "stderr",
     "output_type": "stream",
     "text": [
      " 32%|██████████████████████████████████████▏                                                                                  | 79/250 [00:04<00:07, 22.01it/s]"
     ]
    },
    {
     "name": "stdout",
     "output_type": "stream",
     "text": [
      "--- Validation --- [threshold, AUC, Accuracy, F score] =  [np.float64(0.671), np.float64(0.976), np.float64(0.918), np.float64(0.933)]\n",
      "--- Training --- [threshold, AUC] =  [np.float64(0.786), np.float64(0.976)]\n",
      "--- Iteration 80: Training loss --- [Data, Label, Total] = [13214.737111.3, 275.979884.3, 66349.665440.3]\n",
      "!!! pred_type filter\n"
     ]
    },
    {
     "name": "stderr",
     "output_type": "stream",
     "text": [
      " 34%|████████████████████████████████████████▋                                                                                | 84/250 [00:04<00:09, 17.70it/s]"
     ]
    },
    {
     "name": "stdout",
     "output_type": "stream",
     "text": [
      "--- Validation --- [threshold, AUC, Accuracy, F score] =  [np.float64(0.786), np.float64(0.976), np.float64(0.906), np.float64(0.92)]\n",
      "--- Training --- [threshold, AUC] =  [np.float64(0.781), np.float64(0.976)]\n",
      "--- Iteration 90: Training loss --- [Data, Label, Total] = [13075.114504.3, 276.195867.3, 65651.768389.3]\n",
      "!!! pred_type filter\n"
     ]
    },
    {
     "name": "stderr",
     "output_type": "stream",
     "text": [
      " 40%|████████████████████████████████████████████████                                                                        | 100/250 [00:05<00:06, 23.76it/s]"
     ]
    },
    {
     "name": "stdout",
     "output_type": "stream",
     "text": [
      "--- Validation --- [threshold, AUC, Accuracy, F score] =  [np.float64(0.781), np.float64(0.976), np.float64(0.907), np.float64(0.922)]\n",
      "--- Training --- [threshold, AUC] =  [np.float64(0.778), np.float64(0.976)]\n",
      "--- Iteration 100: Training loss --- [Data, Label, Total] = [12977.888134.3, 276.451154.3, 65165.891824.3]\n",
      "!!! pred_type filter\n"
     ]
    },
    {
     "name": "stderr",
     "output_type": "stream",
     "text": [
      " 42%|██████████████████████████████████████████████████▍                                                                     | 105/250 [00:05<00:07, 18.80it/s]"
     ]
    },
    {
     "name": "stdout",
     "output_type": "stream",
     "text": [
      "--- Validation --- [threshold, AUC, Accuracy, F score] =  [np.float64(0.778), np.float64(0.976), np.float64(0.907), np.float64(0.922)]\n",
      "--- Training --- [threshold, AUC] =  [np.float64(0.794), np.float64(0.976)]\n",
      "--- Iteration 110: Training loss --- [Data, Label, Total] = [12910.961030.3, 276.695377.3, 64831.500526.3]\n",
      "!!! pred_type filter\n"
     ]
    },
    {
     "name": "stderr",
     "output_type": "stream",
     "text": [
      " 48%|█████████████████████████████████████████████████████████                                                               | 119/250 [00:06<00:05, 23.17it/s]"
     ]
    },
    {
     "name": "stdout",
     "output_type": "stream",
     "text": [
      "--- Validation --- [threshold, AUC, Accuracy, F score] =  [np.float64(0.794), np.float64(0.976), np.float64(0.906), np.float64(0.92)]\n",
      "--- Training --- [threshold, AUC] =  [np.float64(0.781), np.float64(0.976)]\n",
      "--- Iteration 120: Training loss --- [Data, Label, Total] = [12863.534884.3, 277.092125.3, 64594.766544.3]\n",
      "!!! pred_type filter\n"
     ]
    },
    {
     "name": "stderr",
     "output_type": "stream",
     "text": [
      " 50%|███████████████████████████████████████████████████████████▌                                                            | 124/250 [00:06<00:07, 16.99it/s]"
     ]
    },
    {
     "name": "stdout",
     "output_type": "stream",
     "text": [
      "--- Validation --- [threshold, AUC, Accuracy, F score] =  [np.float64(0.781), np.float64(0.976), np.float64(0.907), np.float64(0.922)]\n",
      "--- Training --- [threshold, AUC] =  [np.float64(0.759), np.float64(0.976)]\n",
      "--- Iteration 130: Training loss --- [Data, Label, Total] = [12829.003980.3, 276.539120.3, 64421.559021.3]\n",
      "!!! pred_type filter\n"
     ]
    },
    {
     "name": "stderr",
     "output_type": "stream",
     "text": [
      " 54%|████████████████████████████████████████████████████████████████▎                                                       | 134/250 [00:07<00:06, 17.18it/s]"
     ]
    },
    {
     "name": "stdout",
     "output_type": "stream",
     "text": [
      "--- Validation --- [threshold, AUC, Accuracy, F score] =  [np.float64(0.759), np.float64(0.976), np.float64(0.909), np.float64(0.924)]\n",
      "--- Training --- [threshold, AUC] =  [np.float64(0.752), np.float64(0.976)]\n",
      "--- Iteration 140: Training loss --- [Data, Label, Total] = [12801.417885.3, 276.579987.3, 64283.669412.3]\n",
      "!!! pred_type filter\n"
     ]
    },
    {
     "name": "stderr",
     "output_type": "stream",
     "text": [
      " 56%|███████████████████████████████████████████████████████████████████▋                                                    | 141/250 [00:07<00:06, 16.42it/s]"
     ]
    },
    {
     "name": "stdout",
     "output_type": "stream",
     "text": [
      "--- Validation --- [threshold, AUC, Accuracy, F score] =  [np.float64(0.752), np.float64(0.976), np.float64(0.912), np.float64(0.926)]\n",
      "--- Training --- [threshold, AUC] =  [np.float64(0.754), np.float64(0.976)]\n",
      "--- Iteration 150: Training loss --- [Data, Label, Total] = [12776.910574.3, 276.508503.3, 64161.061374.3]\n",
      "!!! pred_type filter\n"
     ]
    },
    {
     "name": "stderr",
     "output_type": "stream",
     "text": [
      " 60%|████████████████████████████████████████████████████████████████████████▍                                               | 151/250 [00:08<00:05, 18.42it/s]"
     ]
    },
    {
     "name": "stdout",
     "output_type": "stream",
     "text": [
      "--- Validation --- [threshold, AUC, Accuracy, F score] =  [np.float64(0.754), np.float64(0.976), np.float64(0.912), np.float64(0.927)]\n",
      "--- Training --- [threshold, AUC] =  [np.float64(0.76), np.float64(0.976)]\n",
      "--- Iteration 160: Training loss --- [Data, Label, Total] = [12752.359044.3, 276.682730.3, 64038.477949.3]\n",
      "!!! pred_type filter\n"
     ]
    },
    {
     "name": "stderr",
     "output_type": "stream",
     "text": [
      " 64%|█████████████████████████████████████████████████████████████████████████████▎                                          | 161/250 [00:08<00:04, 19.81it/s]"
     ]
    },
    {
     "name": "stdout",
     "output_type": "stream",
     "text": [
      "--- Validation --- [threshold, AUC, Accuracy, F score] =  [np.float64(0.76), np.float64(0.976), np.float64(0.912), np.float64(0.927)]\n",
      "--- Training --- [threshold, AUC] =  [np.float64(0.76), np.float64(0.976)]\n",
      "--- Iteration 170: Training loss --- [Data, Label, Total] = [12725.172235.3, 276.830789.3, 63902.691964.3]\n",
      "!!! pred_type filter\n"
     ]
    },
    {
     "name": "stderr",
     "output_type": "stream",
     "text": [
      " 68%|██████████████████████████████████████████████████████████████████████████████████                                      | 171/250 [00:09<00:03, 20.59it/s]"
     ]
    },
    {
     "name": "stdout",
     "output_type": "stream",
     "text": [
      "--- Validation --- [threshold, AUC, Accuracy, F score] =  [np.float64(0.76), np.float64(0.976), np.float64(0.912), np.float64(0.927)]\n",
      "--- Training --- [threshold, AUC] =  [np.float64(0.762), np.float64(0.976)]\n",
      "--- Iteration 180: Training loss --- [Data, Label, Total] = [12693.261777.3, 276.857385.3, 63743.166270.3]\n",
      "!!! pred_type filter\n"
     ]
    },
    {
     "name": "stderr",
     "output_type": "stream",
     "text": [
      " 72%|██████████████████████████████████████████████████████████████████████████████████████▉                                 | 181/250 [00:09<00:03, 21.43it/s]"
     ]
    },
    {
     "name": "stdout",
     "output_type": "stream",
     "text": [
      "--- Validation --- [threshold, AUC, Accuracy, F score] =  [np.float64(0.762), np.float64(0.976), np.float64(0.912), np.float64(0.927)]\n",
      "--- Training --- [threshold, AUC] =  [np.float64(0.767), np.float64(0.976)]\n",
      "--- Iteration 190: Training loss --- [Data, Label, Total] = [12655.343831.3, 276.953468.3, 63553.672622.3]\n",
      "!!! pred_type filter\n"
     ]
    },
    {
     "name": "stderr",
     "output_type": "stream",
     "text": [
      " 76%|███████████████████████████████████████████████████████████████████████████████████████████▋                            | 191/250 [00:09<00:02, 22.01it/s]"
     ]
    },
    {
     "name": "stdout",
     "output_type": "stream",
     "text": [
      "--- Validation --- [threshold, AUC, Accuracy, F score] =  [np.float64(0.767), np.float64(0.976), np.float64(0.912), np.float64(0.927)]\n",
      "--- Training --- [threshold, AUC] =  [np.float64(0.771), np.float64(0.976)]\n",
      "--- Iteration 200: Training loss --- [Data, Label, Total] = [12612.023865.3, 277.389947.3, 63337.509270.3]\n",
      "!!! pred_type filter\n"
     ]
    },
    {
     "name": "stderr",
     "output_type": "stream",
     "text": [
      " 80%|████████████████████████████████████████████████████████████████████████████████████████████████▍                       | 201/250 [00:10<00:02, 22.56it/s]"
     ]
    },
    {
     "name": "stdout",
     "output_type": "stream",
     "text": [
      "--- Validation --- [threshold, AUC, Accuracy, F score] =  [np.float64(0.771), np.float64(0.976), np.float64(0.912), np.float64(0.926)]\n",
      "--- Training --- [threshold, AUC] =  [np.float64(0.768), np.float64(0.976)]\n",
      "--- Iteration 210: Training loss --- [Data, Label, Total] = [12566.646592.3, 277.770767.3, 63111.003726.3]\n",
      "!!! pred_type filter\n"
     ]
    },
    {
     "name": "stderr",
     "output_type": "stream",
     "text": [
      " 88%|█████████████████████████████████████████████████████████████████████████████████████████████████████████▌              | 220/250 [00:10<00:01, 28.53it/s]"
     ]
    },
    {
     "name": "stdout",
     "output_type": "stream",
     "text": [
      "--- Validation --- [threshold, AUC, Accuracy, F score] =  [np.float64(0.768), np.float64(0.976), np.float64(0.912), np.float64(0.926)]\n",
      "--- Training --- [threshold, AUC] =  [np.float64(0.768), np.float64(0.976)]\n",
      "--- Iteration 220: Training loss --- [Data, Label, Total] = [12524.403808.3, 277.959601.3, 62899.978639.3]\n",
      "!!! pred_type filter\n",
      "--- Validation --- [threshold, AUC, Accuracy, F score] =  [np.float64(0.768), np.float64(0.976), np.float64(0.912), np.float64(0.926)]\n"
     ]
    },
    {
     "name": "stderr",
     "output_type": "stream",
     "text": [
      " 92%|█████████████████████████████████████████████████████████████████████████████████████████████████████████████▉          | 229/250 [00:11<00:01, 19.47it/s]"
     ]
    },
    {
     "name": "stdout",
     "output_type": "stream",
     "text": [
      "--- Training --- [threshold, AUC] =  [np.float64(0.765), np.float64(0.976)]\n",
      "--- Iteration 230: Training loss --- [Data, Label, Total] = [12487.479082.3, 278.284318.3, 62715.679726.3]\n",
      "!!! pred_type filter\n"
     ]
    },
    {
     "name": "stderr",
     "output_type": "stream",
     "text": [
      " 96%|██████████████████████████████████████████████████████████████████████████████████████████████████████████████████▋     | 239/250 [00:12<00:00, 19.49it/s]"
     ]
    },
    {
     "name": "stdout",
     "output_type": "stream",
     "text": [
      "--- Validation --- [threshold, AUC, Accuracy, F score] =  [np.float64(0.765), np.float64(0.976), np.float64(0.913), np.float64(0.927)]\n",
      "--- Training --- [threshold, AUC] =  [np.float64(0.762), np.float64(0.976)]\n",
      "--- Iteration 240: Training loss --- [Data, Label, Total] = [12456.409999.3, 278.382610.3, 62560.432606.3]\n",
      "!!! pred_type filter\n"
     ]
    },
    {
     "name": "stderr",
     "output_type": "stream",
     "text": [
      "100%|████████████████████████████████████████████████████████████████████████████████████████████████████████████████████████| 250/250 [00:12<00:00, 19.41it/s]"
     ]
    },
    {
     "name": "stdout",
     "output_type": "stream",
     "text": [
      "--- Validation --- [threshold, AUC, Accuracy, F score] =  [np.float64(0.762), np.float64(0.976), np.float64(0.913), np.float64(0.927)]\n",
      "!!! pred_type filter\n"
     ]
    },
    {
     "name": "stderr",
     "output_type": "stream",
     "text": [
      "\n"
     ]
    },
    {
     "name": "stdout",
     "output_type": "stream",
     "text": [
      "num of subgraphs induced on k-paths: 500\n",
      "num of subgraphs induced on k-paths: 500\n",
      "X_list: (225, 1000)\n",
      "2\n",
      "(1, 500)\n",
      "(1, 500)\n",
      "label_vec: (1, 1000)\n",
      "num of subgraphs induced on k-paths: 500\n",
      "num of subgraphs induced on k-paths: 500\n",
      "X_list: (225, 1000)\n",
      "2\n",
      "(1, 500)\n",
      "(1, 500)\n",
      "label_vec: (1, 1000)\n",
      "num of subgraphs induced on k-paths: 500\n",
      "num of subgraphs induced on k-paths: 500\n",
      "X_list: (225, 1000)\n",
      "2\n",
      "(1, 500)\n",
      "(1, 500)\n",
      "label_vec: (1, 1000)\n",
      "num of subgraphs induced on k-paths: 500\n",
      "num of subgraphs induced on k-paths: 500\n",
      "X_list: (225, 1000)\n",
      "2\n",
      "(1, 500)\n",
      "(1, 500)\n",
      "label_vec: (1, 1000)\n",
      "16\n",
      "num of subgraphs induced on k-paths: 500\n",
      "num of subgraphs induced on k-paths: 500\n",
      "X_list: (256, 1000)\n",
      "2\n",
      "(1, 500)\n",
      "(1, 500)\n",
      "label_vec: (1, 1000)\n",
      "num of subgraphs induced on k-paths: 500\n",
      "num of subgraphs induced on k-paths: 902\n",
      "X_list: (256, 1402)\n",
      "2\n",
      "(1, 500)\n",
      "(1, 902)\n",
      "label_vec: (1, 1402)\n",
      "initial loading beta [[ 0.34430139  0.47600587  0.11921366  0.26440954  0.77263609 -0.00548613\n",
      "  -0.12793217  0.97496203  0.13813766 -0.43526527  0.91125269 -0.68946397\n",
      "  -0.16108221  0.91341962 -0.82468556  0.76314777 -0.84563148]]\n"
     ]
    },
    {
     "name": "stderr",
     "output_type": "stream",
     "text": [
      "  4%|████▍                                                                                                                     | 9/250 [00:00<00:02, 86.20it/s]"
     ]
    },
    {
     "name": "stdout",
     "output_type": "stream",
     "text": [
      "--- Training --- [threshold, AUC] =  [np.float64(0.693), np.float64(0.977)]\n",
      "--- Iteration 0: Training loss --- [Data, Label, Total] = [34733.628607.3, 288.804800.3, 173956.947834.3]\n",
      "--- Training --- [threshold, AUC] =  [np.float64(0.693), np.float64(0.979)]\n",
      "--- Iteration 10: Training loss --- [Data, Label, Total] = [21169.085984.3, 268.867972.3, 106114.297891.3]\n",
      "!!! pred_type filter\n"
     ]
    },
    {
     "name": "stderr",
     "output_type": "stream",
     "text": [
      "  7%|████████▋                                                                                                                | 18/250 [00:00<00:10, 21.37it/s]"
     ]
    },
    {
     "name": "stdout",
     "output_type": "stream",
     "text": [
      "--- Validation --- [threshold, AUC, Accuracy, F score] =  [np.float64(0.693), np.float64(0.979), np.float64(0.934), np.float64(0.947)]\n",
      "--- Training --- [threshold, AUC] =  [np.float64(0.607), np.float64(0.981)]\n",
      "--- Iteration 20: Training loss --- [Data, Label, Total] = [18915.928248.3, 263.592337.3, 94843.233579.3]\n",
      "!!! pred_type filter\n"
     ]
    },
    {
     "name": "stderr",
     "output_type": "stream",
     "text": [
      "  9%|███████████▏                                                                                                             | 23/250 [00:01<00:14, 15.47it/s]"
     ]
    },
    {
     "name": "stdout",
     "output_type": "stream",
     "text": [
      "--- Validation --- [threshold, AUC, Accuracy, F score] =  [np.float64(0.607), np.float64(0.981), np.float64(0.942), np.float64(0.955)]\n",
      "--- Training --- [threshold, AUC] =  [np.float64(0.634), np.float64(0.981)]\n",
      "--- Iteration 30: Training loss --- [Data, Label, Total] = [17867.785493.3, 263.290753.3, 89602.218219.3]\n",
      "!!! pred_type filter\n"
     ]
    },
    {
     "name": "stderr",
     "output_type": "stream",
     "text": [
      " 12%|███████████████                                                                                                          | 31/250 [00:01<00:13, 16.08it/s]"
     ]
    },
    {
     "name": "stdout",
     "output_type": "stream",
     "text": [
      "--- Validation --- [threshold, AUC, Accuracy, F score] =  [np.float64(0.634), np.float64(0.981), np.float64(0.94), np.float64(0.953)]\n",
      "--- Training --- [threshold, AUC] =  [np.float64(0.642), np.float64(0.981)]\n",
      "--- Iteration 40: Training loss --- [Data, Label, Total] = [17303.884975.3, 263.151702.3, 86782.576577.3]\n",
      "!!! pred_type filter\n"
     ]
    },
    {
     "name": "stderr",
     "output_type": "stream",
     "text": [
      " 20%|████████████████████████▏                                                                                                | 50/250 [00:02<00:08, 24.63it/s]"
     ]
    },
    {
     "name": "stdout",
     "output_type": "stream",
     "text": [
      "--- Validation --- [threshold, AUC, Accuracy, F score] =  [np.float64(0.642), np.float64(0.981), np.float64(0.94), np.float64(0.953)]\n",
      "--- Training --- [threshold, AUC] =  [np.float64(0.607), np.float64(0.982)]\n",
      "--- Iteration 50: Training loss --- [Data, Label, Total] = [16910.041521.3, 263.492902.3, 84813.700505.3]\n",
      "!!! pred_type filter\n"
     ]
    },
    {
     "name": "stderr",
     "output_type": "stream",
     "text": [
      " 22%|██████████████████████████▌                                                                                              | 55/250 [00:02<00:10, 19.43it/s]"
     ]
    },
    {
     "name": "stdout",
     "output_type": "stream",
     "text": [
      "--- Validation --- [threshold, AUC, Accuracy, F score] =  [np.float64(0.607), np.float64(0.982), np.float64(0.943), np.float64(0.955)]\n",
      "--- Training --- [threshold, AUC] =  [np.float64(0.608), np.float64(0.982)]\n",
      "--- Iteration 60: Training loss --- [Data, Label, Total] = [16619.842785.3, 264.208606.3, 83363.422529.3]\n",
      "!!! pred_type filter\n"
     ]
    },
    {
     "name": "stderr",
     "output_type": "stream",
     "text": [
      " 28%|█████████████████████████████████▉                                                                                       | 70/250 [00:03<00:07, 24.69it/s]"
     ]
    },
    {
     "name": "stdout",
     "output_type": "stream",
     "text": [
      "--- Validation --- [threshold, AUC, Accuracy, F score] =  [np.float64(0.608), np.float64(0.982), np.float64(0.942), np.float64(0.955)]\n",
      "--- Training --- [threshold, AUC] =  [np.float64(0.695), np.float64(0.982)]\n",
      "--- Iteration 70: Training loss --- [Data, Label, Total] = [16409.794921.3, 265.189924.3, 82314.164527.3]\n",
      "!!! pred_type filter\n"
     ]
    },
    {
     "name": "stderr",
     "output_type": "stream",
     "text": [
      " 30%|████████████████████████████████████▎                                                                                    | 75/250 [00:03<00:09, 18.02it/s]"
     ]
    },
    {
     "name": "stdout",
     "output_type": "stream",
     "text": [
      "--- Validation --- [threshold, AUC, Accuracy, F score] =  [np.float64(0.695), np.float64(0.982), np.float64(0.934), np.float64(0.947)]\n",
      "--- Training --- [threshold, AUC] =  [np.float64(0.658), np.float64(0.982)]\n",
      "--- Iteration 80: Training loss --- [Data, Label, Total] = [16258.932540.3, 266.173062.3, 81560.835759.3]\n",
      "!!! pred_type filter\n"
     ]
    },
    {
     "name": "stderr",
     "output_type": "stream",
     "text": [
      " 32%|███████████████████████████████████████▏                                                                                 | 81/250 [00:04<00:10, 16.36it/s]"
     ]
    },
    {
     "name": "stdout",
     "output_type": "stream",
     "text": [
      "--- Validation --- [threshold, AUC, Accuracy, F score] =  [np.float64(0.658), np.float64(0.982), np.float64(0.937), np.float64(0.95)]\n",
      "--- Training --- [threshold, AUC] =  [np.float64(0.667), np.float64(0.982)]\n",
      "--- Iteration 90: Training loss --- [Data, Label, Total] = [16151.604896.3, 267.291130.3, 81025.315610.3]\n",
      "!!! pred_type filter\n"
     ]
    },
    {
     "name": "stderr",
     "output_type": "stream",
     "text": [
      " 36%|████████████████████████████████████████████                                                                             | 91/250 [00:04<00:08, 18.13it/s]"
     ]
    },
    {
     "name": "stdout",
     "output_type": "stream",
     "text": [
      "--- Validation --- [threshold, AUC, Accuracy, F score] =  [np.float64(0.667), np.float64(0.982), np.float64(0.937), np.float64(0.95)]\n",
      "--- Training --- [threshold, AUC] =  [np.float64(0.677), np.float64(0.981)]\n",
      "--- Iteration 100: Training loss --- [Data, Label, Total] = [16072.805039.3, 268.329890.3, 80632.355087.3]\n",
      "!!! pred_type filter\n"
     ]
    },
    {
     "name": "stderr",
     "output_type": "stream",
     "text": [
      " 40%|████████████████████████████████████████████████▍                                                                       | 101/250 [00:05<00:07, 19.30it/s]"
     ]
    },
    {
     "name": "stdout",
     "output_type": "stream",
     "text": [
      "--- Validation --- [threshold, AUC, Accuracy, F score] =  [np.float64(0.677), np.float64(0.981), np.float64(0.935), np.float64(0.948)]\n",
      "--- Training --- [threshold, AUC] =  [np.float64(0.64), np.float64(0.981)]\n",
      "--- Iteration 110: Training loss --- [Data, Label, Total] = [16011.114145.3, 269.292284.3, 80324.863011.3]\n",
      "!!! pred_type filter\n"
     ]
    },
    {
     "name": "stderr",
     "output_type": "stream",
     "text": [
      " 48%|█████████████████████████████████████████████████████████                                                               | 119/250 [00:05<00:05, 24.02it/s]"
     ]
    },
    {
     "name": "stdout",
     "output_type": "stream",
     "text": [
      "--- Validation --- [threshold, AUC, Accuracy, F score] =  [np.float64(0.64), np.float64(0.981), np.float64(0.937), np.float64(0.951)]\n",
      "--- Training --- [threshold, AUC] =  [np.float64(0.636), np.float64(0.981)]\n",
      "--- Iteration 120: Training loss --- [Data, Label, Total] = [15959.591149.3, 270.122463.3, 80068.078209.3]\n",
      "!!! pred_type filter\n"
     ]
    },
    {
     "name": "stderr",
     "output_type": "stream",
     "text": [
      " 49%|███████████████████████████████████████████████████████████                                                             | 123/250 [00:06<00:07, 17.94it/s]"
     ]
    },
    {
     "name": "stdout",
     "output_type": "stream",
     "text": [
      "--- Validation --- [threshold, AUC, Accuracy, F score] =  [np.float64(0.636), np.float64(0.981), np.float64(0.938), np.float64(0.951)]\n",
      "--- Training --- [threshold, AUC] =  [np.float64(0.715), np.float64(0.981)]\n",
      "--- Iteration 130: Training loss --- [Data, Label, Total] = [15915.635753.3, 270.868923.3, 79849.047691.3]\n",
      "!!! pred_type filter\n"
     ]
    },
    {
     "name": "stderr",
     "output_type": "stream",
     "text": [
      " 52%|██████████████████████████████████████████████████████████████▉                                                         | 131/250 [00:06<00:06, 17.83it/s]"
     ]
    },
    {
     "name": "stdout",
     "output_type": "stream",
     "text": [
      "--- Validation --- [threshold, AUC, Accuracy, F score] =  [np.float64(0.715), np.float64(0.981), np.float64(0.932), np.float64(0.945)]\n",
      "--- Training --- [threshold, AUC] =  [np.float64(0.707), np.float64(0.981)]\n",
      "--- Iteration 140: Training loss --- [Data, Label, Total] = [15879.182378.3, 271.358926.3, 79667.270816.3]\n",
      "!!! pred_type filter\n"
     ]
    },
    {
     "name": "stderr",
     "output_type": "stream",
     "text": [
      " 56%|███████████████████████████████████████████████████████████████████▋                                                    | 141/250 [00:07<00:05, 19.05it/s]"
     ]
    },
    {
     "name": "stdout",
     "output_type": "stream",
     "text": [
      "--- Validation --- [threshold, AUC, Accuracy, F score] =  [np.float64(0.707), np.float64(0.981), np.float64(0.933), np.float64(0.946)]\n",
      "--- Training --- [threshold, AUC] =  [np.float64(0.704), np.float64(0.981)]\n",
      "--- Iteration 150: Training loss --- [Data, Label, Total] = [15848.487793.3, 271.817976.3, 79514.256940.3]\n",
      "!!! pred_type filter\n"
     ]
    },
    {
     "name": "stderr",
     "output_type": "stream",
     "text": [
      " 60%|████████████████████████████████████████████████████████████████████████▍                                               | 151/250 [00:07<00:04, 20.00it/s]"
     ]
    },
    {
     "name": "stdout",
     "output_type": "stream",
     "text": [
      "--- Validation --- [threshold, AUC, Accuracy, F score] =  [np.float64(0.704), np.float64(0.981), np.float64(0.933), np.float64(0.946)]\n",
      "--- Training --- [threshold, AUC] =  [np.float64(0.706), np.float64(0.981)]\n",
      "--- Iteration 160: Training loss --- [Data, Label, Total] = [15823.275523.3, 272.110140.3, 79388.487757.3]\n",
      "!!! pred_type filter\n"
     ]
    },
    {
     "name": "stderr",
     "output_type": "stream",
     "text": [
      " 64%|█████████████████████████████████████████████████████████████████████████████▎                                          | 161/250 [00:08<00:04, 20.73it/s]"
     ]
    },
    {
     "name": "stdout",
     "output_type": "stream",
     "text": [
      "--- Validation --- [threshold, AUC, Accuracy, F score] =  [np.float64(0.706), np.float64(0.981), np.float64(0.933), np.float64(0.946)]\n",
      "--- Training --- [threshold, AUC] =  [np.float64(0.697), np.float64(0.981)]\n",
      "--- Iteration 170: Training loss --- [Data, Label, Total] = [15801.961279.3, 272.218816.3, 79282.025211.3]\n",
      "!!! pred_type filter\n"
     ]
    },
    {
     "name": "stderr",
     "output_type": "stream",
     "text": [
      " 72%|██████████████████████████████████████████████████████████████████████████████████████▍                                 | 180/250 [00:08<00:02, 27.17it/s]"
     ]
    },
    {
     "name": "stdout",
     "output_type": "stream",
     "text": [
      "--- Validation --- [threshold, AUC, Accuracy, F score] =  [np.float64(0.697), np.float64(0.981), np.float64(0.934), np.float64(0.948)]\n",
      "--- Training --- [threshold, AUC] =  [np.float64(0.698), np.float64(0.981)]\n",
      "--- Iteration 180: Training loss --- [Data, Label, Total] = [15783.547002.3, 272.133852.3, 79189.868860.3]\n",
      "!!! pred_type filter\n"
     ]
    },
    {
     "name": "stderr",
     "output_type": "stream",
     "text": [
      " 74%|████████████████████████████████████████████████████████████████████████████████████████▊                               | 185/250 [00:09<00:02, 22.36it/s]"
     ]
    },
    {
     "name": "stdout",
     "output_type": "stream",
     "text": [
      "--- Validation --- [threshold, AUC, Accuracy, F score] =  [np.float64(0.698), np.float64(0.981), np.float64(0.935), np.float64(0.948)]\n",
      "--- Training --- [threshold, AUC] =  [np.float64(0.695), np.float64(0.981)]\n",
      "--- Iteration 190: Training loss --- [Data, Label, Total] = [15767.547871.3, 271.995003.3, 79109.734357.3]\n",
      "!!! pred_type filter\n"
     ]
    },
    {
     "name": "stderr",
     "output_type": "stream",
     "text": [
      " 76%|███████████████████████████████████████████████████████████████████████████████████████████▋                            | 191/250 [00:09<00:02, 19.78it/s]"
     ]
    },
    {
     "name": "stdout",
     "output_type": "stream",
     "text": [
      "--- Validation --- [threshold, AUC, Accuracy, F score] =  [np.float64(0.695), np.float64(0.981), np.float64(0.935), np.float64(0.948)]\n",
      "--- Training --- [threshold, AUC] =  [np.float64(0.7), np.float64(0.981)]\n",
      "--- Iteration 200: Training loss --- [Data, Label, Total] = [15753.755071.3, 271.830591.3, 79040.605947.3]\n",
      "!!! pred_type filter\n"
     ]
    },
    {
     "name": "stderr",
     "output_type": "stream",
     "text": [
      " 80%|████████████████████████████████████████████████████████████████████████████████████████████████▍                       | 201/250 [00:10<00:02, 20.48it/s]"
     ]
    },
    {
     "name": "stdout",
     "output_type": "stream",
     "text": [
      "--- Validation --- [threshold, AUC, Accuracy, F score] =  [np.float64(0.7), np.float64(0.981), np.float64(0.934), np.float64(0.948)]\n",
      "--- Training --- [threshold, AUC] =  [np.float64(0.713), np.float64(0.981)]\n",
      "--- Iteration 210: Training loss --- [Data, Label, Total] = [15742.041659.3, 271.674012.3, 78981.882307.3]\n",
      "!!! pred_type filter\n"
     ]
    },
    {
     "name": "stderr",
     "output_type": "stream",
     "text": [
      " 84%|█████████████████████████████████████████████████████████████████████████████████████████████████████▎                  | 211/250 [00:10<00:01, 21.02it/s]"
     ]
    },
    {
     "name": "stdout",
     "output_type": "stream",
     "text": [
      "--- Validation --- [threshold, AUC, Accuracy, F score] =  [np.float64(0.713), np.float64(0.981), np.float64(0.933), np.float64(0.946)]\n",
      "--- Training --- [threshold, AUC] =  [np.float64(0.726), np.float64(0.981)]\n",
      "--- Iteration 220: Training loss --- [Data, Label, Total] = [15732.324198.3, 271.463947.3, 78933.084939.3]\n",
      "!!! pred_type filter\n"
     ]
    },
    {
     "name": "stderr",
     "output_type": "stream",
     "text": [
      " 91%|█████████████████████████████████████████████████████████████████████████████████████████████████████████████▍          | 228/250 [00:11<00:00, 23.56it/s]"
     ]
    },
    {
     "name": "stdout",
     "output_type": "stream",
     "text": [
      "--- Validation --- [threshold, AUC, Accuracy, F score] =  [np.float64(0.726), np.float64(0.981), np.float64(0.932), np.float64(0.945)]\n",
      "--- Training --- [threshold, AUC] =  [np.float64(0.714), np.float64(0.981)]\n",
      "--- Iteration 230: Training loss --- [Data, Label, Total] = [15724.318659.3, 271.230111.3, 78892.823409.3]\n",
      "!!! pred_type filter\n"
     ]
    },
    {
     "name": "stderr",
     "output_type": "stream",
     "text": [
      " 93%|███████████████████████████████████████████████████████████████████████████████████████████████████████████████▎        | 232/250 [00:11<00:01, 17.58it/s]"
     ]
    },
    {
     "name": "stdout",
     "output_type": "stream",
     "text": [
      "--- Validation --- [threshold, AUC, Accuracy, F score] =  [np.float64(0.714), np.float64(0.981), np.float64(0.934), np.float64(0.947)]\n",
      "--- Training --- [threshold, AUC] =  [np.float64(0.724), np.float64(0.981)]\n",
      "--- Iteration 240: Training loss --- [Data, Label, Total] = [15717.821177.3, 271.174126.3, 78860.280009.3]\n",
      "!!! pred_type filter\n"
     ]
    },
    {
     "name": "stderr",
     "output_type": "stream",
     "text": [
      "100%|████████████████████████████████████████████████████████████████████████████████████████████████████████████████████████| 250/250 [00:12<00:00, 20.38it/s]"
     ]
    },
    {
     "name": "stdout",
     "output_type": "stream",
     "text": [
      "--- Validation --- [threshold, AUC, Accuracy, F score] =  [np.float64(0.724), np.float64(0.981), np.float64(0.933), np.float64(0.946)]\n",
      "!!! pred_type filter\n"
     ]
    },
    {
     "name": "stderr",
     "output_type": "stream",
     "text": [
      "\n"
     ]
    },
    {
     "name": "stdout",
     "output_type": "stream",
     "text": [
      "num of subgraphs induced on k-paths: 500\n",
      "num of subgraphs induced on k-paths: 500\n",
      "X_list: (256, 1000)\n",
      "2\n",
      "(1, 500)\n",
      "(1, 500)\n",
      "label_vec: (1, 1000)\n",
      "num of subgraphs induced on k-paths: 500\n",
      "num of subgraphs induced on k-paths: 500\n",
      "X_list: (256, 1000)\n",
      "2\n",
      "(1, 500)\n",
      "(1, 500)\n",
      "label_vec: (1, 1000)\n",
      "num of subgraphs induced on k-paths: 500\n",
      "num of subgraphs induced on k-paths: 500\n",
      "X_list: (256, 1000)\n",
      "2\n",
      "(1, 500)\n",
      "(1, 500)\n",
      "label_vec: (1, 1000)\n",
      "num of subgraphs induced on k-paths: 500\n",
      "num of subgraphs induced on k-paths: 500\n",
      "X_list: (256, 1000)\n",
      "2\n",
      "(1, 500)\n",
      "(1, 500)\n",
      "label_vec: (1, 1000)\n",
      "17\n",
      "num of subgraphs induced on k-paths: 500\n",
      "num of subgraphs induced on k-paths: 500\n",
      "X_list: (289, 1000)\n",
      "2\n",
      "(1, 500)\n",
      "(1, 500)\n",
      "label_vec: (1, 1000)\n",
      "num of subgraphs induced on k-paths: 500\n",
      "num of subgraphs induced on k-paths: 902\n",
      "X_list: (289, 1402)\n",
      "2\n",
      "(1, 500)\n",
      "(1, 902)\n",
      "label_vec: (1, 1402)\n",
      "initial loading beta [[ 0.19161993  0.80549021  0.7140638   0.48781702 -0.98817154  0.91338103\n",
      "   0.04521798  0.13448706  0.15365885 -0.22715593  0.39005496 -0.4543624\n",
      "  -0.08260049  0.21165252  0.78575459  0.82683744 -0.11574699]]\n"
     ]
    },
    {
     "name": "stderr",
     "output_type": "stream",
     "text": [
      "  3%|███▉                                                                                                                      | 8/250 [00:00<00:03, 79.86it/s]"
     ]
    },
    {
     "name": "stdout",
     "output_type": "stream",
     "text": [
      "--- Training --- [threshold, AUC] =  [np.float64(0.648), np.float64(0.98)]\n",
      "--- Iteration 0: Training loss --- [Data, Label, Total] = [39113.200928.3, 273.939934.3, 195839.944575.3]\n",
      "--- Training --- [threshold, AUC] =  [np.float64(0.727), np.float64(0.984)]\n",
      "--- Iteration 10: Training loss --- [Data, Label, Total] = [24285.661188.3, 241.153742.3, 121669.459684.3]\n",
      "!!! pred_type filter\n"
     ]
    },
    {
     "name": "stderr",
     "output_type": "stream",
     "text": [
      "  6%|███████▋                                                                                                                 | 16/250 [00:00<00:10, 21.29it/s]"
     ]
    },
    {
     "name": "stdout",
     "output_type": "stream",
     "text": [
      "--- Validation --- [threshold, AUC, Accuracy, F score] =  [np.float64(0.727), np.float64(0.984), np.float64(0.942), np.float64(0.953)]\n",
      "--- Training --- [threshold, AUC] =  [np.float64(0.746), np.float64(0.985)]\n",
      "--- Iteration 20: Training loss --- [Data, Label, Total] = [22102.984973.3, 233.211597.3, 110748.136460.3]\n",
      "!!! pred_type filter\n"
     ]
    },
    {
     "name": "stderr",
     "output_type": "stream",
     "text": [
      " 12%|██████████████▌                                                                                                          | 30/250 [00:01<00:08, 25.41it/s]"
     ]
    },
    {
     "name": "stdout",
     "output_type": "stream",
     "text": [
      "--- Validation --- [threshold, AUC, Accuracy, F score] =  [np.float64(0.746), np.float64(0.985), np.float64(0.942), np.float64(0.953)]\n",
      "--- Training --- [threshold, AUC] =  [np.float64(0.74), np.float64(0.985)]\n",
      "--- Iteration 30: Training loss --- [Data, Label, Total] = [21035.597107.3, 230.586457.3, 105408.571991.3]\n",
      "!!! pred_type filter\n"
     ]
    },
    {
     "name": "stderr",
     "output_type": "stream",
     "text": [
      " 14%|█████████████████▍                                                                                                       | 36/250 [00:01<00:11, 18.84it/s]"
     ]
    },
    {
     "name": "stdout",
     "output_type": "stream",
     "text": [
      "--- Validation --- [threshold, AUC, Accuracy, F score] =  [np.float64(0.74), np.float64(0.985), np.float64(0.944), np.float64(0.955)]\n",
      "--- Training --- [threshold, AUC] =  [np.float64(0.762), np.float64(0.985)]\n",
      "--- Iteration 40: Training loss --- [Data, Label, Total] = [20408.310080.3, 230.879388.3, 102272.429787.3]\n",
      "!!! pred_type filter\n"
     ]
    },
    {
     "name": "stderr",
     "output_type": "stream",
     "text": [
      " 20%|████████████████████████▏                                                                                                | 50/250 [00:02<00:09, 21.81it/s]"
     ]
    },
    {
     "name": "stdout",
     "output_type": "stream",
     "text": [
      "--- Validation --- [threshold, AUC, Accuracy, F score] =  [np.float64(0.762), np.float64(0.985), np.float64(0.942), np.float64(0.953)]\n",
      "--- Training --- [threshold, AUC] =  [np.float64(0.743), np.float64(0.985)]\n",
      "--- Iteration 50: Training loss --- [Data, Label, Total] = [19988.033122.3, 231.897074.3, 100172.062686.3]\n",
      "!!! pred_type filter\n"
     ]
    },
    {
     "name": "stderr",
     "output_type": "stream",
     "text": [
      " 22%|██████████████████████████▌                                                                                              | 55/250 [00:02<00:11, 17.23it/s]"
     ]
    },
    {
     "name": "stdout",
     "output_type": "stream",
     "text": [
      "--- Validation --- [threshold, AUC, Accuracy, F score] =  [np.float64(0.743), np.float64(0.985), np.float64(0.942), np.float64(0.954)]\n",
      "--- Training --- [threshold, AUC] =  [np.float64(0.731), np.float64(0.985)]\n",
      "--- Iteration 60: Training loss --- [Data, Label, Total] = [19698.828228.3, 233.110355.3, 98727.251497.3]\n",
      "!!! pred_type filter\n"
     ]
    },
    {
     "name": "stderr",
     "output_type": "stream",
     "text": [
      " 28%|█████████████████████████████████▉                                                                                       | 70/250 [00:03<00:07, 22.80it/s]"
     ]
    },
    {
     "name": "stdout",
     "output_type": "stream",
     "text": [
      "--- Validation --- [threshold, AUC, Accuracy, F score] =  [np.float64(0.731), np.float64(0.985), np.float64(0.943), np.float64(0.955)]\n",
      "--- Training --- [threshold, AUC] =  [np.float64(0.731), np.float64(0.985)]\n",
      "--- Iteration 70: Training loss --- [Data, Label, Total] = [19498.352684.3, 234.266415.3, 97726.029837.3]\n",
      "!!! pred_type filter\n"
     ]
    },
    {
     "name": "stderr",
     "output_type": "stream",
     "text": [
      " 30%|████████████████████████████████████▎                                                                                    | 75/250 [00:04<00:10, 15.97it/s]"
     ]
    },
    {
     "name": "stdout",
     "output_type": "stream",
     "text": [
      "--- Validation --- [threshold, AUC, Accuracy, F score] =  [np.float64(0.731), np.float64(0.985), np.float64(0.943), np.float64(0.954)]\n",
      "--- Training --- [threshold, AUC] =  [np.float64(0.717), np.float64(0.985)]\n",
      "--- Iteration 80: Training loss --- [Data, Label, Total] = [19361.337622.3, 235.104577.3, 97041.792688.3]\n",
      "!!! pred_type filter\n"
     ]
    },
    {
     "name": "stderr",
     "output_type": "stream",
     "text": [
      " 36%|███████████████████████████████████████████▌                                                                             | 90/250 [00:04<00:07, 20.90it/s]"
     ]
    },
    {
     "name": "stdout",
     "output_type": "stream",
     "text": [
      "--- Validation --- [threshold, AUC, Accuracy, F score] =  [np.float64(0.717), np.float64(0.985), np.float64(0.942), np.float64(0.954)]\n",
      "--- Training --- [threshold, AUC] =  [np.float64(0.72), np.float64(0.985)]\n",
      "--- Iteration 90: Training loss --- [Data, Label, Total] = [19265.490907.3, 235.684505.3, 96563.139038.3]\n",
      "!!! pred_type filter\n"
     ]
    },
    {
     "name": "stderr",
     "output_type": "stream",
     "text": [
      " 38%|█████████████████████████████████████████████▉                                                                           | 95/250 [00:05<00:08, 17.39it/s]"
     ]
    },
    {
     "name": "stdout",
     "output_type": "stream",
     "text": [
      "--- Validation --- [threshold, AUC, Accuracy, F score] =  [np.float64(0.72), np.float64(0.985), np.float64(0.943), np.float64(0.955)]\n",
      "--- Training --- [threshold, AUC] =  [np.float64(0.718), np.float64(0.985)]\n",
      "--- Iteration 100: Training loss --- [Data, Label, Total] = [19194.459525.3, 236.205999.3, 96208.503626.3]\n",
      "!!! pred_type filter\n"
     ]
    },
    {
     "name": "stderr",
     "output_type": "stream",
     "text": [
      " 44%|████████████████████████████████████████████████████▊                                                                   | 110/250 [00:05<00:06, 23.05it/s]"
     ]
    },
    {
     "name": "stdout",
     "output_type": "stream",
     "text": [
      "--- Validation --- [threshold, AUC, Accuracy, F score] =  [np.float64(0.718), np.float64(0.985), np.float64(0.943), np.float64(0.955)]\n",
      "--- Training --- [threshold, AUC] =  [np.float64(0.717), np.float64(0.985)]\n",
      "--- Iteration 110: Training loss --- [Data, Label, Total] = [19135.153545.3, 236.426948.3, 95912.194671.3]\n",
      "!!! pred_type filter\n"
     ]
    },
    {
     "name": "stderr",
     "output_type": "stream",
     "text": [
      " 46%|███████████████████████████████████████████████████████▏                                                                | 115/250 [00:06<00:08, 16.58it/s]"
     ]
    },
    {
     "name": "stdout",
     "output_type": "stream",
     "text": [
      "--- Validation --- [threshold, AUC, Accuracy, F score] =  [np.float64(0.717), np.float64(0.985), np.float64(0.942), np.float64(0.954)]\n",
      "--- Training --- [threshold, AUC] =  [np.float64(0.697), np.float64(0.985)]\n",
      "--- Iteration 120: Training loss --- [Data, Label, Total] = [19078.896679.3, 236.630415.3, 95631.113809.3]\n",
      "!!! pred_type filter\n"
     ]
    },
    {
     "name": "stderr",
     "output_type": "stream",
     "text": [
      " 52%|██████████████████████████████████████████████████████████████▍                                                         | 130/250 [00:06<00:05, 21.84it/s]"
     ]
    },
    {
     "name": "stdout",
     "output_type": "stream",
     "text": [
      "--- Validation --- [threshold, AUC, Accuracy, F score] =  [np.float64(0.697), np.float64(0.985), np.float64(0.944), np.float64(0.955)]\n",
      "--- Training --- [threshold, AUC] =  [np.float64(0.697), np.float64(0.985)]\n",
      "--- Iteration 130: Training loss --- [Data, Label, Total] = [19020.668882.3, 236.803916.3, 95340.148327.3]\n",
      "!!! pred_type filter\n"
     ]
    },
    {
     "name": "stderr",
     "output_type": "stream",
     "text": [
      " 54%|████████████████████████████████████████████████████████████████▊                                                       | 135/250 [00:07<00:06, 17.94it/s]"
     ]
    },
    {
     "name": "stdout",
     "output_type": "stream",
     "text": [
      "--- Validation --- [threshold, AUC, Accuracy, F score] =  [np.float64(0.697), np.float64(0.985), np.float64(0.944), np.float64(0.955)]\n",
      "--- Training --- [threshold, AUC] =  [np.float64(0.703), np.float64(0.985)]\n",
      "--- Iteration 140: Training loss --- [Data, Label, Total] = [18957.848538.3, 236.925401.3, 95026.168090.3]\n",
      "!!! pred_type filter\n"
     ]
    },
    {
     "name": "stderr",
     "output_type": "stream",
     "text": [
      " 56%|███████████████████████████████████████████████████████████████████▋                                                    | 141/250 [00:07<00:06, 16.39it/s]"
     ]
    },
    {
     "name": "stdout",
     "output_type": "stream",
     "text": [
      "--- Validation --- [threshold, AUC, Accuracy, F score] =  [np.float64(0.703), np.float64(0.985), np.float64(0.944), np.float64(0.955)]\n",
      "--- Training --- [threshold, AUC] =  [np.float64(0.7), np.float64(0.985)]\n",
      "--- Iteration 150: Training loss --- [Data, Label, Total] = [18892.032111.3, 236.973394.3, 94697.133951.3]\n",
      "!!! pred_type filter\n"
     ]
    },
    {
     "name": "stderr",
     "output_type": "stream",
     "text": [
      " 64%|████████████████████████████████████████████████████████████████████████████▎                                           | 159/250 [00:08<00:03, 23.41it/s]"
     ]
    },
    {
     "name": "stdout",
     "output_type": "stream",
     "text": [
      "--- Validation --- [threshold, AUC, Accuracy, F score] =  [np.float64(0.7), np.float64(0.985), np.float64(0.944), np.float64(0.956)]\n",
      "--- Training --- [threshold, AUC] =  [np.float64(0.697), np.float64(0.985)]\n",
      "--- Iteration 160: Training loss --- [Data, Label, Total] = [18826.401110.3, 237.109399.3, 94369.114950.3]\n",
      "!!! pred_type filter\n"
     ]
    },
    {
     "name": "stderr",
     "output_type": "stream",
     "text": [
      " 66%|██████████████████████████████████████████████████████████████████████████████▋                                         | 164/250 [00:08<00:04, 17.84it/s]"
     ]
    },
    {
     "name": "stdout",
     "output_type": "stream",
     "text": [
      "--- Validation --- [threshold, AUC, Accuracy, F score] =  [np.float64(0.697), np.float64(0.985), np.float64(0.944), np.float64(0.955)]\n",
      "--- Training --- [threshold, AUC] =  [np.float64(0.689), np.float64(0.985)]\n",
      "--- Iteration 170: Training loss --- [Data, Label, Total] = [18765.573641.3, 237.178948.3, 94065.047154.3]\n",
      "!!! pred_type filter\n"
     ]
    },
    {
     "name": "stderr",
     "output_type": "stream",
     "text": [
      " 72%|█████████████████████████████████████████████████████████████████████████████████████▉                                  | 179/250 [00:09<00:03, 22.64it/s]"
     ]
    },
    {
     "name": "stdout",
     "output_type": "stream",
     "text": [
      "--- Validation --- [threshold, AUC, Accuracy, F score] =  [np.float64(0.689), np.float64(0.985), np.float64(0.944), np.float64(0.956)]\n",
      "--- Training --- [threshold, AUC] =  [np.float64(0.689), np.float64(0.985)]\n",
      "--- Iteration 180: Training loss --- [Data, Label, Total] = [18713.426502.3, 237.158226.3, 93804.290738.3]\n",
      "!!! pred_type filter\n"
     ]
    },
    {
     "name": "stderr",
     "output_type": "stream",
     "text": [
      " 74%|████████████████████████████████████████████████████████████████████████████████████████▎                               | 184/250 [00:09<00:03, 18.57it/s]"
     ]
    },
    {
     "name": "stdout",
     "output_type": "stream",
     "text": [
      "--- Validation --- [threshold, AUC, Accuracy, F score] =  [np.float64(0.689), np.float64(0.985), np.float64(0.944), np.float64(0.956)]\n",
      "--- Training --- [threshold, AUC] =  [np.float64(0.69), np.float64(0.985)]\n",
      "--- Iteration 190: Training loss --- [Data, Label, Total] = [18671.446885.3, 237.075851.3, 93594.310277.3]\n",
      "!!! pred_type filter\n"
     ]
    },
    {
     "name": "stderr",
     "output_type": "stream",
     "text": [
      " 80%|████████████████████████████████████████████████████████████████████████████████████████████████                        | 200/250 [00:10<00:02, 24.93it/s]"
     ]
    },
    {
     "name": "stdout",
     "output_type": "stream",
     "text": [
      "--- Validation --- [threshold, AUC, Accuracy, F score] =  [np.float64(0.69), np.float64(0.985), np.float64(0.944), np.float64(0.956)]\n",
      "--- Training --- [threshold, AUC] =  [np.float64(0.69), np.float64(0.985)]\n",
      "--- Iteration 200: Training loss --- [Data, Label, Total] = [18638.758051.3, 237.129517.3, 93430.919773.3]\n",
      "!!! pred_type filter\n"
     ]
    },
    {
     "name": "stderr",
     "output_type": "stream",
     "text": [
      " 82%|██████████████████████████████████████████████████████████████████████████████████████████████████▍                     | 205/250 [00:10<00:02, 19.94it/s]"
     ]
    },
    {
     "name": "stdout",
     "output_type": "stream",
     "text": [
      "--- Validation --- [threshold, AUC, Accuracy, F score] =  [np.float64(0.69), np.float64(0.985), np.float64(0.944), np.float64(0.956)]\n",
      "--- Training --- [threshold, AUC] =  [np.float64(0.692), np.float64(0.985)]\n",
      "--- Iteration 210: Training loss --- [Data, Label, Total] = [18613.920652.3, 236.886246.3, 93306.489505.3]\n",
      "!!! pred_type filter\n"
     ]
    },
    {
     "name": "stderr",
     "output_type": "stream",
     "text": [
      " 88%|█████████████████████████████████████████████████████████████████████████████████████████████████████████▌              | 220/250 [00:11<00:01, 25.42it/s]"
     ]
    },
    {
     "name": "stdout",
     "output_type": "stream",
     "text": [
      "--- Validation --- [threshold, AUC, Accuracy, F score] =  [np.float64(0.692), np.float64(0.985), np.float64(0.945), np.float64(0.957)]\n",
      "--- Training --- [threshold, AUC] =  [np.float64(0.688), np.float64(0.985)]\n",
      "--- Iteration 220: Training loss --- [Data, Label, Total] = [18594.587770.3, 236.670606.3, 93209.609457.3]\n",
      "!!! pred_type filter\n"
     ]
    },
    {
     "name": "stderr",
     "output_type": "stream",
     "text": [
      " 90%|████████████████████████████████████████████████████████████████████████████████████████████████████████████            | 225/250 [00:11<00:01, 19.87it/s]"
     ]
    },
    {
     "name": "stdout",
     "output_type": "stream",
     "text": [
      "--- Validation --- [threshold, AUC, Accuracy, F score] =  [np.float64(0.688), np.float64(0.985), np.float64(0.944), np.float64(0.956)]\n",
      "--- Training --- [threshold, AUC] =  [np.float64(0.685), np.float64(0.985)]\n",
      "--- Iteration 230: Training loss --- [Data, Label, Total] = [18578.820804.3, 236.353817.3, 93130.457836.3]\n",
      "!!! pred_type filter\n"
     ]
    },
    {
     "name": "stderr",
     "output_type": "stream",
     "text": [
      " 92%|██████████████████████████████████████████████████████████████████████████████████████████████████████████████▉         | 231/250 [00:12<00:01, 17.88it/s]"
     ]
    },
    {
     "name": "stdout",
     "output_type": "stream",
     "text": [
      "--- Validation --- [threshold, AUC, Accuracy, F score] =  [np.float64(0.685), np.float64(0.985), np.float64(0.944), np.float64(0.956)]\n",
      "--- Training --- [threshold, AUC] =  [np.float64(0.694), np.float64(0.985)]\n",
      "--- Iteration 240: Training loss --- [Data, Label, Total] = [18565.542531.3, 236.288932.3, 93064.001586.3]\n",
      "!!! pred_type filter\n"
     ]
    },
    {
     "name": "stderr",
     "output_type": "stream",
     "text": [
      "100%|████████████████████████████████████████████████████████████████████████████████████████████████████████████████████████| 250/250 [00:12<00:00, 19.40it/s]"
     ]
    },
    {
     "name": "stdout",
     "output_type": "stream",
     "text": [
      "--- Validation --- [threshold, AUC, Accuracy, F score] =  [np.float64(0.694), np.float64(0.985), np.float64(0.944), np.float64(0.955)]\n",
      "!!! pred_type filter\n"
     ]
    },
    {
     "name": "stderr",
     "output_type": "stream",
     "text": [
      "\n"
     ]
    },
    {
     "name": "stdout",
     "output_type": "stream",
     "text": [
      "num of subgraphs induced on k-paths: 500\n",
      "num of subgraphs induced on k-paths: 500\n",
      "X_list: (289, 1000)\n",
      "2\n",
      "(1, 500)\n",
      "(1, 500)\n",
      "label_vec: (1, 1000)\n",
      "num of subgraphs induced on k-paths: 500\n",
      "num of subgraphs induced on k-paths: 500\n",
      "X_list: (289, 1000)\n",
      "2\n",
      "(1, 500)\n",
      "(1, 500)\n",
      "label_vec: (1, 1000)\n",
      "num of subgraphs induced on k-paths: 500\n",
      "num of subgraphs induced on k-paths: 500\n",
      "X_list: (289, 1000)\n",
      "2\n",
      "(1, 500)\n",
      "(1, 500)\n",
      "label_vec: (1, 1000)\n",
      "num of subgraphs induced on k-paths: 500\n",
      "num of subgraphs induced on k-paths: 500\n",
      "X_list: (289, 1000)\n",
      "2\n",
      "(1, 500)\n",
      "(1, 500)\n",
      "label_vec: (1, 1000)\n",
      "18\n",
      "num of subgraphs induced on k-paths: 500\n",
      "num of subgraphs induced on k-paths: 500\n",
      "X_list: (324, 1000)\n",
      "2\n",
      "(1, 500)\n",
      "(1, 500)\n",
      "label_vec: (1, 1000)\n",
      "num of subgraphs induced on k-paths: 500\n",
      "num of subgraphs induced on k-paths: 926\n",
      "X_list: (324, 1426)\n",
      "2\n",
      "(1, 500)\n",
      "(1, 926)\n",
      "label_vec: (1, 1426)\n",
      "initial loading beta [[ 0.77382783 -0.35875681 -0.04254821  0.44741615 -0.02721462  0.18038956\n",
      "  -0.69684729  0.41819436  0.01265227 -0.65047598  0.82967425 -0.09292875\n",
      "  -0.66748704 -0.22715823  0.84975887 -0.80328259  0.19256025]]\n"
     ]
    },
    {
     "name": "stderr",
     "output_type": "stream",
     "text": [
      "  2%|██▍                                                                                                                       | 5/250 [00:00<00:05, 47.83it/s]"
     ]
    },
    {
     "name": "stdout",
     "output_type": "stream",
     "text": [
      "--- Training --- [threshold, AUC] =  [np.float64(0.584), np.float64(0.982)]\n",
      "--- Iteration 0: Training loss --- [Data, Label, Total] = [43867.030515.3, 249.568516.3, 219584.721088.3]\n",
      "--- Training --- [threshold, AUC] =  [np.float64(0.623), np.float64(0.983)]\n",
      "--- Iteration 10: Training loss --- [Data, Label, Total] = [27393.311212.3, 240.594333.3, 137207.150394.3]\n",
      "!!! pred_type filter\n"
     ]
    },
    {
     "name": "stderr",
     "output_type": "stream",
     "text": [
      "  8%|█████████▏                                                                                                               | 19/250 [00:00<00:09, 24.36it/s]"
     ]
    },
    {
     "name": "stdout",
     "output_type": "stream",
     "text": [
      "--- Validation --- [threshold, AUC, Accuracy, F score] =  [np.float64(0.623), np.float64(0.983), np.float64(0.939), np.float64(0.952)]\n",
      "--- Training --- [threshold, AUC] =  [np.float64(0.68), np.float64(0.984)]\n",
      "--- Iteration 20: Training loss --- [Data, Label, Total] = [25284.648837.3, 234.779254.3, 126658.023440.3]\n",
      "!!! pred_type filter\n"
     ]
    },
    {
     "name": "stderr",
     "output_type": "stream",
     "text": [
      " 10%|███████████▌                                                                                                             | 24/250 [00:01<00:14, 15.60it/s]"
     ]
    },
    {
     "name": "stdout",
     "output_type": "stream",
     "text": [
      "--- Validation --- [threshold, AUC, Accuracy, F score] =  [np.float64(0.68), np.float64(0.984), np.float64(0.938), np.float64(0.952)]\n",
      "--- Training --- [threshold, AUC] =  [np.float64(0.707), np.float64(0.984)]\n",
      "--- Iteration 30: Training loss --- [Data, Label, Total] = [24102.086802.3, 233.588837.3, 120744.022845.3]\n",
      "!!! pred_type filter\n"
     ]
    },
    {
     "name": "stderr",
     "output_type": "stream",
     "text": [
      " 16%|██████████████████▉                                                                                                      | 39/250 [00:02<00:10, 19.63it/s]"
     ]
    },
    {
     "name": "stdout",
     "output_type": "stream",
     "text": [
      "--- Validation --- [threshold, AUC, Accuracy, F score] =  [np.float64(0.707), np.float64(0.984), np.float64(0.939), np.float64(0.952)]\n",
      "--- Training --- [threshold, AUC] =  [np.float64(0.697), np.float64(0.984)]\n",
      "--- Iteration 40: Training loss --- [Data, Label, Total] = [23423.468083.3, 234.010082.3, 117351.350499.3]\n",
      "!!! pred_type filter\n"
     ]
    },
    {
     "name": "stderr",
     "output_type": "stream",
     "text": [
      " 17%|████████████████████▊                                                                                                    | 43/250 [00:02<00:13, 15.29it/s]"
     ]
    },
    {
     "name": "stdout",
     "output_type": "stream",
     "text": [
      "--- Validation --- [threshold, AUC, Accuracy, F score] =  [np.float64(0.697), np.float64(0.984), np.float64(0.941), np.float64(0.954)]\n",
      "--- Training --- [threshold, AUC] =  [np.float64(0.667), np.float64(0.984)]\n",
      "--- Iteration 50: Training loss --- [Data, Label, Total] = [22992.198075.3, 234.741236.3, 115195.731610.3]\n",
      "!!! pred_type filter\n"
     ]
    },
    {
     "name": "stderr",
     "output_type": "stream",
     "text": [
      " 24%|█████████████████████████████                                                                                            | 60/250 [00:03<00:08, 21.83it/s]"
     ]
    },
    {
     "name": "stdout",
     "output_type": "stream",
     "text": [
      "--- Validation --- [threshold, AUC, Accuracy, F score] =  [np.float64(0.667), np.float64(0.984), np.float64(0.943), np.float64(0.956)]\n",
      "--- Training --- [threshold, AUC] =  [np.float64(0.681), np.float64(0.984)]\n",
      "--- Iteration 60: Training loss --- [Data, Label, Total] = [22692.084890.3, 235.125137.3, 113695.549588.3]\n",
      "!!! pred_type filter\n"
     ]
    },
    {
     "name": "stderr",
     "output_type": "stream",
     "text": [
      " 26%|███████████████████████████████▍                                                                                         | 65/250 [00:03<00:10, 17.21it/s]"
     ]
    },
    {
     "name": "stdout",
     "output_type": "stream",
     "text": [
      "--- Validation --- [threshold, AUC, Accuracy, F score] =  [np.float64(0.681), np.float64(0.984), np.float64(0.941), np.float64(0.954)]\n",
      "--- Training --- [threshold, AUC] =  [np.float64(0.702), np.float64(0.984)]\n",
      "--- Iteration 70: Training loss --- [Data, Label, Total] = [22466.743444.3, 235.235831.3, 112568.953049.3]\n",
      "!!! pred_type filter\n"
     ]
    },
    {
     "name": "stderr",
     "output_type": "stream",
     "text": [
      " 32%|██████████████████████████████████████▋                                                                                  | 80/250 [00:04<00:07, 22.15it/s]"
     ]
    },
    {
     "name": "stdout",
     "output_type": "stream",
     "text": [
      "--- Validation --- [threshold, AUC, Accuracy, F score] =  [np.float64(0.702), np.float64(0.984), np.float64(0.941), np.float64(0.954)]\n",
      "--- Training --- [threshold, AUC] =  [np.float64(0.672), np.float64(0.984)]\n",
      "--- Iteration 80: Training loss --- [Data, Label, Total] = [22288.222701.3, 235.710126.3, 111676.823633.3]\n",
      "!!! pred_type filter\n"
     ]
    },
    {
     "name": "stderr",
     "output_type": "stream",
     "text": [
      " 34%|█████████████████████████████████████████▏                                                                               | 85/250 [00:04<00:09, 17.66it/s]"
     ]
    },
    {
     "name": "stdout",
     "output_type": "stream",
     "text": [
      "--- Validation --- [threshold, AUC, Accuracy, F score] =  [np.float64(0.672), np.float64(0.984), np.float64(0.943), np.float64(0.956)]\n",
      "--- Training --- [threshold, AUC] =  [np.float64(0.638), np.float64(0.985)]\n",
      "--- Iteration 90: Training loss --- [Data, Label, Total] = [22137.027859.3, 236.024494.3, 110921.163791.3]\n",
      "!!! pred_type filter\n"
     ]
    },
    {
     "name": "stderr",
     "output_type": "stream",
     "text": [
      " 38%|██████████████████████████████████████████████▍                                                                          | 96/250 [00:05<00:08, 18.46it/s]"
     ]
    },
    {
     "name": "stdout",
     "output_type": "stream",
     "text": [
      "--- Validation --- [threshold, AUC, Accuracy, F score] =  [np.float64(0.638), np.float64(0.985), np.float64(0.947), np.float64(0.959)]\n",
      "--- Training --- [threshold, AUC] =  [np.float64(0.635), np.float64(0.985)]\n",
      "--- Iteration 100: Training loss --- [Data, Label, Total] = [22002.203445.3, 236.210164.3, 110247.227390.3]\n",
      "!!! pred_type filter\n"
     ]
    },
    {
     "name": "stderr",
     "output_type": "stream",
     "text": [
      " 44%|████████████████████████████████████████████████████▎                                                                   | 109/250 [00:06<00:06, 21.94it/s]"
     ]
    },
    {
     "name": "stdout",
     "output_type": "stream",
     "text": [
      "--- Validation --- [threshold, AUC, Accuracy, F score] =  [np.float64(0.635), np.float64(0.985), np.float64(0.947), np.float64(0.959)]\n",
      "--- Training --- [threshold, AUC] =  [np.float64(0.634), np.float64(0.984)]\n",
      "--- Iteration 110: Training loss --- [Data, Label, Total] = [21883.604621.3, 236.659510.3, 109654.682616.3]\n",
      "!!! pred_type filter\n"
     ]
    },
    {
     "name": "stderr",
     "output_type": "stream",
     "text": [
      " 46%|██████████████████████████████████████████████████████▋                                                                 | 114/250 [00:06<00:08, 16.55it/s]"
     ]
    },
    {
     "name": "stdout",
     "output_type": "stream",
     "text": [
      "--- Validation --- [threshold, AUC, Accuracy, F score] =  [np.float64(0.634), np.float64(0.984), np.float64(0.947), np.float64(0.959)]\n",
      "--- Training --- [threshold, AUC] =  [np.float64(0.633), np.float64(0.984)]\n",
      "--- Iteration 120: Training loss --- [Data, Label, Total] = [21790.587784.3, 236.882388.3, 109189.821310.3]\n",
      "!!! pred_type filter\n"
     ]
    },
    {
     "name": "stderr",
     "output_type": "stream",
     "text": [
      " 51%|█████████████████████████████████████████████████████████████▍                                                          | 128/250 [00:07<00:06, 18.82it/s]"
     ]
    },
    {
     "name": "stdout",
     "output_type": "stream",
     "text": [
      "--- Validation --- [threshold, AUC, Accuracy, F score] =  [np.float64(0.633), np.float64(0.984), np.float64(0.947), np.float64(0.959)]\n",
      "--- Training --- [threshold, AUC] =  [np.float64(0.627), np.float64(0.984)]\n",
      "--- Iteration 130: Training loss --- [Data, Label, Total] = [21720.621575.3, 237.016349.3, 108840.124225.3]\n",
      "!!! pred_type filter\n"
     ]
    },
    {
     "name": "stderr",
     "output_type": "stream",
     "text": [
      " 56%|███████████████████████████████████████████████████████████████████▏                                                    | 140/250 [00:07<00:05, 20.71it/s]"
     ]
    },
    {
     "name": "stdout",
     "output_type": "stream",
     "text": [
      "--- Validation --- [threshold, AUC, Accuracy, F score] =  [np.float64(0.627), np.float64(0.984), np.float64(0.948), np.float64(0.96)]\n",
      "--- Training --- [threshold, AUC] =  [np.float64(0.63), np.float64(0.985)]\n",
      "--- Iteration 140: Training loss --- [Data, Label, Total] = [21667.647905.3, 237.111024.3, 108575.350547.3]\n",
      "!!! pred_type filter\n"
     ]
    },
    {
     "name": "stderr",
     "output_type": "stream",
     "text": [
      " 58%|█████████████████████████████████████████████████████████████████████                                                   | 144/250 [00:08<00:06, 16.54it/s]"
     ]
    },
    {
     "name": "stdout",
     "output_type": "stream",
     "text": [
      "--- Validation --- [threshold, AUC, Accuracy, F score] =  [np.float64(0.63), np.float64(0.985), np.float64(0.947), np.float64(0.959)]\n",
      "--- Training --- [threshold, AUC] =  [np.float64(0.636), np.float64(0.985)]\n",
      "--- Iteration 150: Training loss --- [Data, Label, Total] = [21626.250390.3, 236.902768.3, 108368.154717.3]\n",
      "!!! pred_type filter\n"
     ]
    },
    {
     "name": "stderr",
     "output_type": "stream",
     "text": [
      " 64%|████████████████████████████████████████████████████████████████████████████▎                                           | 159/250 [00:08<00:04, 22.61it/s]"
     ]
    },
    {
     "name": "stdout",
     "output_type": "stream",
     "text": [
      "--- Validation --- [threshold, AUC, Accuracy, F score] =  [np.float64(0.636), np.float64(0.985), np.float64(0.947), np.float64(0.959)]\n",
      "--- Training --- [threshold, AUC] =  [np.float64(0.682), np.float64(0.985)]\n",
      "--- Iteration 160: Training loss --- [Data, Label, Total] = [21591.440581.3, 237.113856.3, 108194.316762.3]\n",
      "!!! pred_type filter\n"
     ]
    },
    {
     "name": "stderr",
     "output_type": "stream",
     "text": [
      " 66%|██████████████████████████████████████████████████████████████████████████████▋                                         | 164/250 [00:09<00:04, 18.37it/s]"
     ]
    },
    {
     "name": "stdout",
     "output_type": "stream",
     "text": [
      "--- Validation --- [threshold, AUC, Accuracy, F score] =  [np.float64(0.682), np.float64(0.985), np.float64(0.943), np.float64(0.955)]\n",
      "--- Training --- [threshold, AUC] =  [np.float64(0.683), np.float64(0.985)]\n",
      "--- Iteration 170: Training loss --- [Data, Label, Total] = [21560.531090.3, 237.105397.3, 108039.760848.3]\n",
      "!!! pred_type filter\n"
     ]
    },
    {
     "name": "stderr",
     "output_type": "stream",
     "text": [
      " 72%|██████████████████████████████████████████████████████████████████████████████████████▍                                 | 180/250 [00:09<00:02, 24.71it/s]"
     ]
    },
    {
     "name": "stdout",
     "output_type": "stream",
     "text": [
      "--- Validation --- [threshold, AUC, Accuracy, F score] =  [np.float64(0.683), np.float64(0.985), np.float64(0.943), np.float64(0.955)]\n",
      "--- Training --- [threshold, AUC] =  [np.float64(0.681), np.float64(0.985)]\n",
      "--- Iteration 180: Training loss --- [Data, Label, Total] = [21532.355403.3, 236.826602.3, 107898.603619.3]\n",
      "!!! pred_type filter\n"
     ]
    },
    {
     "name": "stderr",
     "output_type": "stream",
     "text": [
      " 74%|████████████████████████████████████████████████████████████████████████████████████████▊                               | 185/250 [00:10<00:03, 18.55it/s]"
     ]
    },
    {
     "name": "stdout",
     "output_type": "stream",
     "text": [
      "--- Validation --- [threshold, AUC, Accuracy, F score] =  [np.float64(0.681), np.float64(0.985), np.float64(0.943), np.float64(0.955)]\n",
      "--- Training --- [threshold, AUC] =  [np.float64(0.687), np.float64(0.985)]\n",
      "--- Iteration 190: Training loss --- [Data, Label, Total] = [21506.817946.3, 236.992491.3, 107771.082223.3]\n",
      "!!! pred_type filter\n"
     ]
    },
    {
     "name": "stderr",
     "output_type": "stream",
     "text": [
      " 80%|███████████████████████████████████████████████████████████████████████████████████████████████▌                        | 199/250 [00:10<00:02, 22.63it/s]"
     ]
    },
    {
     "name": "stdout",
     "output_type": "stream",
     "text": [
      "--- Validation --- [threshold, AUC, Accuracy, F score] =  [np.float64(0.687), np.float64(0.985), np.float64(0.942), np.float64(0.955)]\n",
      "--- Training --- [threshold, AUC] =  [np.float64(0.684), np.float64(0.985)]\n",
      "--- Iteration 200: Training loss --- [Data, Label, Total] = [21484.071865.3, 236.944377.3, 107657.303703.3]\n",
      "!!! pred_type filter\n"
     ]
    },
    {
     "name": "stderr",
     "output_type": "stream",
     "text": [
      " 82%|█████████████████████████████████████████████████████████████████████████████████████████████████▉                      | 204/250 [00:11<00:02, 18.34it/s]"
     ]
    },
    {
     "name": "stdout",
     "output_type": "stream",
     "text": [
      "--- Validation --- [threshold, AUC, Accuracy, F score] =  [np.float64(0.684), np.float64(0.985), np.float64(0.943), np.float64(0.955)]\n",
      "--- Training --- [threshold, AUC] =  [np.float64(0.688), np.float64(0.985)]\n",
      "--- Iteration 210: Training loss --- [Data, Label, Total] = [21464.462850.3, 236.873445.3, 107559.187696.3]\n",
      "!!! pred_type filter\n"
     ]
    },
    {
     "name": "stderr",
     "output_type": "stream",
     "text": [
      " 87%|████████████████████████████████████████████████████████████████████████████████████████████████████████▋               | 218/250 [00:11<00:01, 22.51it/s]"
     ]
    },
    {
     "name": "stdout",
     "output_type": "stream",
     "text": [
      "--- Validation --- [threshold, AUC, Accuracy, F score] =  [np.float64(0.688), np.float64(0.985), np.float64(0.942), np.float64(0.955)]\n",
      "--- Training --- [threshold, AUC] =  [np.float64(0.682), np.float64(0.985)]\n",
      "--- Iteration 220: Training loss --- [Data, Label, Total] = [21448.073995.3, 236.785789.3, 107477.155763.3]\n",
      "!!! pred_type filter\n"
     ]
    },
    {
     "name": "stderr",
     "output_type": "stream",
     "text": [
      " 89%|███████████████████████████████████████████████████████████████████████████████████████████████████████████             | 223/250 [00:12<00:01, 18.21it/s]"
     ]
    },
    {
     "name": "stdout",
     "output_type": "stream",
     "text": [
      "--- Validation --- [threshold, AUC, Accuracy, F score] =  [np.float64(0.682), np.float64(0.985), np.float64(0.943), np.float64(0.955)]\n",
      "--- Training --- [threshold, AUC] =  [np.float64(0.683), np.float64(0.985)]\n",
      "--- Iteration 230: Training loss --- [Data, Label, Total] = [21434.448158.3, 236.696644.3, 107408.937434.3]\n",
      "!!! pred_type filter\n"
     ]
    },
    {
     "name": "stderr",
     "output_type": "stream",
     "text": [
      " 96%|███████████████████████████████████████████████████████████████████████████████████████████████████████████████████▏    | 240/250 [00:13<00:00, 24.85it/s]"
     ]
    },
    {
     "name": "stdout",
     "output_type": "stream",
     "text": [
      "--- Validation --- [threshold, AUC, Accuracy, F score] =  [np.float64(0.683), np.float64(0.985), np.float64(0.943), np.float64(0.955)]\n",
      "--- Training --- [threshold, AUC] =  [np.float64(0.683), np.float64(0.985)]\n",
      "--- Iteration 240: Training loss --- [Data, Label, Total] = [21422.977530.3, 236.158256.3, 107351.045907.3]\n",
      "!!! pred_type filter\n"
     ]
    },
    {
     "name": "stderr",
     "output_type": "stream",
     "text": [
      "100%|████████████████████████████████████████████████████████████████████████████████████████████████████████████████████████| 250/250 [00:13<00:00, 18.53it/s]"
     ]
    },
    {
     "name": "stdout",
     "output_type": "stream",
     "text": [
      "--- Validation --- [threshold, AUC, Accuracy, F score] =  [np.float64(0.683), np.float64(0.985), np.float64(0.943), np.float64(0.955)]\n",
      "!!! pred_type filter\n"
     ]
    },
    {
     "name": "stderr",
     "output_type": "stream",
     "text": [
      "\n"
     ]
    },
    {
     "name": "stdout",
     "output_type": "stream",
     "text": [
      "num of subgraphs induced on k-paths: 500\n",
      "num of subgraphs induced on k-paths: 500\n",
      "X_list: (324, 1000)\n",
      "2\n",
      "(1, 500)\n",
      "(1, 500)\n",
      "label_vec: (1, 1000)\n",
      "num of subgraphs induced on k-paths: 500\n",
      "num of subgraphs induced on k-paths: 500\n",
      "X_list: (324, 1000)\n",
      "2\n",
      "(1, 500)\n",
      "(1, 500)\n",
      "label_vec: (1, 1000)\n",
      "num of subgraphs induced on k-paths: 500\n",
      "num of subgraphs induced on k-paths: 500\n",
      "X_list: (324, 1000)\n",
      "2\n",
      "(1, 500)\n",
      "(1, 500)\n",
      "label_vec: (1, 1000)\n",
      "num of subgraphs induced on k-paths: 500\n",
      "num of subgraphs induced on k-paths: 500\n",
      "X_list: (324, 1000)\n",
      "2\n",
      "(1, 500)\n",
      "(1, 500)\n",
      "label_vec: (1, 1000)\n",
      "19\n",
      "num of subgraphs induced on k-paths: 500\n",
      "num of subgraphs induced on k-paths: 500\n",
      "X_list: (361, 1000)\n",
      "2\n",
      "(1, 500)\n",
      "(1, 500)\n",
      "label_vec: (1, 1000)\n",
      "num of subgraphs induced on k-paths: 500\n",
      "num of subgraphs induced on k-paths: 954\n",
      "X_list: (361, 1454)\n",
      "2\n",
      "(1, 500)\n",
      "(1, 954)\n",
      "label_vec: (1, 1454)\n",
      "initial loading beta [[-0.55044761 -0.29078472 -0.58612627  0.42724487  0.17690979 -0.31197123\n",
      "  -0.74179853  0.92006027 -0.31293018  0.3670841   0.83930233 -0.20736016\n",
      "   0.349152   -0.29671983 -0.68747452 -0.56931742  0.15279722]]\n"
     ]
    },
    {
     "name": "stderr",
     "output_type": "stream",
     "text": [
      "  3%|███▍                                                                                                                      | 7/250 [00:00<00:03, 66.04it/s]"
     ]
    },
    {
     "name": "stdout",
     "output_type": "stream",
     "text": [
      "--- Training --- [threshold, AUC] =  [np.float64(0.697), np.float64(0.988)]\n",
      "--- Iteration 0: Training loss --- [Data, Label, Total] = [49030.096222.3, 221.804490.3, 245372.285600.3]\n",
      "--- Training --- [threshold, AUC] =  [np.float64(0.684), np.float64(0.988)]\n",
      "--- Iteration 10: Training loss --- [Data, Label, Total] = [30959.482420.3, 209.570013.3, 155006.982112.3]\n",
      "!!! pred_type filter\n"
     ]
    },
    {
     "name": "stderr",
     "output_type": "stream",
     "text": [
      "  6%|██████▊                                                                                                                  | 14/250 [00:00<00:13, 17.34it/s]"
     ]
    },
    {
     "name": "stdout",
     "output_type": "stream",
     "text": [
      "--- Validation --- [threshold, AUC, Accuracy, F score] =  [np.float64(0.684), np.float64(0.988), np.float64(0.949), np.float64(0.961)]\n",
      "--- Training --- [threshold, AUC] =  [np.float64(0.692), np.float64(0.988)]\n",
      "--- Iteration 20: Training loss --- [Data, Label, Total] = [28728.458462.3, 206.558724.3, 143848.851035.3]\n",
      "!!! pred_type filter\n"
     ]
    },
    {
     "name": "stderr",
     "output_type": "stream",
     "text": [
      " 12%|██████████████                                                                                                           | 29/250 [00:01<00:09, 22.67it/s]"
     ]
    },
    {
     "name": "stdout",
     "output_type": "stream",
     "text": [
      "--- Validation --- [threshold, AUC, Accuracy, F score] =  [np.float64(0.692), np.float64(0.988), np.float64(0.951), np.float64(0.962)]\n",
      "--- Training --- [threshold, AUC] =  [np.float64(0.7), np.float64(0.988)]\n",
      "--- Iteration 30: Training loss --- [Data, Label, Total] = [27457.843723.3, 205.242833.3, 137494.461445.3]\n",
      "!!! pred_type filter\n"
     ]
    },
    {
     "name": "stderr",
     "output_type": "stream",
     "text": [
      " 16%|██████████████████▉                                                                                                      | 39/250 [00:01<00:10, 20.63it/s]"
     ]
    },
    {
     "name": "stdout",
     "output_type": "stream",
     "text": [
      "--- Validation --- [threshold, AUC, Accuracy, F score] =  [np.float64(0.7), np.float64(0.988), np.float64(0.95), np.float64(0.962)]\n",
      "--- Training --- [threshold, AUC] =  [np.float64(0.711), np.float64(0.989)]\n",
      "--- Iteration 40: Training loss --- [Data, Label, Total] = [26800.316987.3, 205.442154.3, 134207.027087.3]\n",
      "!!! pred_type filter\n"
     ]
    },
    {
     "name": "stderr",
     "output_type": "stream",
     "text": [
      " 20%|████████████████████████▏                                                                                                | 50/250 [00:02<00:09, 20.41it/s]"
     ]
    },
    {
     "name": "stdout",
     "output_type": "stream",
     "text": [
      "--- Validation --- [threshold, AUC, Accuracy, F score] =  [np.float64(0.711), np.float64(0.989), np.float64(0.95), np.float64(0.961)]\n",
      "--- Training --- [threshold, AUC] =  [np.float64(0.693), np.float64(0.989)]\n",
      "--- Iteration 50: Training loss --- [Data, Label, Total] = [26428.405121.3, 205.792556.3, 132347.818163.3]\n",
      "!!! pred_type filter\n"
     ]
    },
    {
     "name": "stderr",
     "output_type": "stream",
     "text": [
      " 22%|██████████████████████████▌                                                                                              | 55/250 [00:03<00:12, 15.91it/s]"
     ]
    },
    {
     "name": "stdout",
     "output_type": "stream",
     "text": [
      "--- Validation --- [threshold, AUC, Accuracy, F score] =  [np.float64(0.693), np.float64(0.989), np.float64(0.95), np.float64(0.962)]\n",
      "--- Training --- [threshold, AUC] =  [np.float64(0.719), np.float64(0.989)]\n",
      "--- Iteration 60: Training loss --- [Data, Label, Total] = [26160.878698.3, 205.929412.3, 131010.322905.3]\n",
      "!!! pred_type filter\n"
     ]
    },
    {
     "name": "stderr",
     "output_type": "stream",
     "text": [
      " 28%|█████████████████████████████████▍                                                                                       | 69/250 [00:03<00:08, 20.79it/s]"
     ]
    },
    {
     "name": "stdout",
     "output_type": "stream",
     "text": [
      "--- Validation --- [threshold, AUC, Accuracy, F score] =  [np.float64(0.719), np.float64(0.989), np.float64(0.95), np.float64(0.962)]\n",
      "--- Training --- [threshold, AUC] =  [np.float64(0.658), np.float64(0.989)]\n",
      "--- Iteration 70: Training loss --- [Data, Label, Total] = [25947.419924.3, 205.800255.3, 129942.899875.3]\n",
      "!!! pred_type filter\n"
     ]
    },
    {
     "name": "stderr",
     "output_type": "stream",
     "text": [
      " 32%|██████████████████████████████████████▋                                                                                  | 80/250 [00:04<00:07, 21.94it/s]"
     ]
    },
    {
     "name": "stdout",
     "output_type": "stream",
     "text": [
      "--- Validation --- [threshold, AUC, Accuracy, F score] =  [np.float64(0.658), np.float64(0.989), np.float64(0.955), np.float64(0.965)]\n",
      "--- Training --- [threshold, AUC] =  [np.float64(0.657), np.float64(0.989)]\n",
      "--- Iteration 80: Training loss --- [Data, Label, Total] = [25783.427750.3, 205.362783.3, 129122.501530.3]\n",
      "!!! pred_type filter\n"
     ]
    },
    {
     "name": "stderr",
     "output_type": "stream",
     "text": [
      " 34%|█████████████████████████████████████████▏                                                                               | 85/250 [00:04<00:09, 16.82it/s]"
     ]
    },
    {
     "name": "stdout",
     "output_type": "stream",
     "text": [
      "--- Validation --- [threshold, AUC, Accuracy, F score] =  [np.float64(0.657), np.float64(0.989), np.float64(0.955), np.float64(0.966)]\n",
      "--- Training --- [threshold, AUC] =  [np.float64(0.648), np.float64(0.989)]\n",
      "--- Iteration 90: Training loss --- [Data, Label, Total] = [25660.787358.3, 204.665611.3, 128508.602399.3]\n",
      "!!! pred_type filter\n"
     ]
    },
    {
     "name": "stderr",
     "output_type": "stream",
     "text": [
      " 39%|███████████████████████████████████████████████▍                                                                         | 98/250 [00:05<00:07, 19.71it/s]"
     ]
    },
    {
     "name": "stdout",
     "output_type": "stream",
     "text": [
      "--- Validation --- [threshold, AUC, Accuracy, F score] =  [np.float64(0.648), np.float64(0.989), np.float64(0.956), np.float64(0.966)]\n",
      "--- Training --- [threshold, AUC] =  [np.float64(0.666), np.float64(0.989)]\n",
      "--- Iteration 100: Training loss --- [Data, Label, Total] = [25566.858164.3, 204.233499.3, 128038.524316.3]\n",
      "!!! pred_type filter\n"
     ]
    },
    {
     "name": "stderr",
     "output_type": "stream",
     "text": [
      " 44%|████████████████████████████████████████████████████▊                                                                   | 110/250 [00:05<00:06, 22.15it/s]"
     ]
    },
    {
     "name": "stdout",
     "output_type": "stream",
     "text": [
      "--- Validation --- [threshold, AUC, Accuracy, F score] =  [np.float64(0.666), np.float64(0.989), np.float64(0.956), np.float64(0.966)]\n",
      "--- Training --- [threshold, AUC] =  [np.float64(0.661), np.float64(0.99)]\n",
      "--- Iteration 110: Training loss --- [Data, Label, Total] = [25490.464660.3, 202.924681.3, 127655.247982.3]\n",
      "!!! pred_type filter\n"
     ]
    },
    {
     "name": "stderr",
     "output_type": "stream",
     "text": [
      " 46%|███████████████████████████████████████████████████████▏                                                                | 115/250 [00:06<00:07, 17.50it/s]"
     ]
    },
    {
     "name": "stdout",
     "output_type": "stream",
     "text": [
      "--- Validation --- [threshold, AUC, Accuracy, F score] =  [np.float64(0.661), np.float64(0.99), np.float64(0.957), np.float64(0.967)]\n",
      "--- Training --- [threshold, AUC] =  [np.float64(0.667), np.float64(0.99)]\n",
      "--- Iteration 120: Training loss --- [Data, Label, Total] = [25417.731367.3, 202.236944.3, 127290.893777.3]\n",
      "!!! pred_type filter\n"
     ]
    },
    {
     "name": "stderr",
     "output_type": "stream",
     "text": [
      " 51%|████████████████████████████████████████████████████████████▉                                                           | 127/250 [00:07<00:06, 19.50it/s]"
     ]
    },
    {
     "name": "stdout",
     "output_type": "stream",
     "text": [
      "--- Validation --- [threshold, AUC, Accuracy, F score] =  [np.float64(0.667), np.float64(0.99), np.float64(0.957), np.float64(0.967)]\n",
      "--- Training --- [threshold, AUC] =  [np.float64(0.666), np.float64(0.99)]\n",
      "--- Iteration 130: Training loss --- [Data, Label, Total] = [25338.440464.3, 201.637685.3, 126893.840006.3]\n",
      "!!! pred_type filter\n"
     ]
    },
    {
     "name": "stderr",
     "output_type": "stream",
     "text": [
      " 56%|██████████████████████████████████████████████████████████████████▋                                                     | 139/250 [00:07<00:05, 20.86it/s]"
     ]
    },
    {
     "name": "stdout",
     "output_type": "stream",
     "text": [
      "--- Validation --- [threshold, AUC, Accuracy, F score] =  [np.float64(0.666), np.float64(0.99), np.float64(0.957), np.float64(0.967)]\n",
      "--- Training --- [threshold, AUC] =  [np.float64(0.66), np.float64(0.99)]\n",
      "--- Iteration 140: Training loss --- [Data, Label, Total] = [25250.159392.3, 201.445914.3, 126452.242873.3]\n",
      "!!! pred_type filter\n"
     ]
    },
    {
     "name": "stderr",
     "output_type": "stream",
     "text": [
      " 58%|█████████████████████████████████████████████████████████████████████                                                   | 144/250 [00:08<00:06, 16.88it/s]"
     ]
    },
    {
     "name": "stdout",
     "output_type": "stream",
     "text": [
      "--- Validation --- [threshold, AUC, Accuracy, F score] =  [np.float64(0.66), np.float64(0.99), np.float64(0.957), np.float64(0.967)]\n",
      "--- Training --- [threshold, AUC] =  [np.float64(0.663), np.float64(0.99)]\n",
      "--- Iteration 150: Training loss --- [Data, Label, Total] = [25156.533262.3, 201.371921.3, 125984.038229.3]\n",
      "!!! pred_type filter\n"
     ]
    },
    {
     "name": "stderr",
     "output_type": "stream",
     "text": [
      " 63%|███████████████████████████████████████████████████████████████████████████▊                                            | 158/250 [00:08<00:04, 21.23it/s]"
     ]
    },
    {
     "name": "stdout",
     "output_type": "stream",
     "text": [
      "--- Validation --- [threshold, AUC, Accuracy, F score] =  [np.float64(0.663), np.float64(0.99), np.float64(0.956), np.float64(0.966)]\n",
      "--- Training --- [threshold, AUC] =  [np.float64(0.68), np.float64(0.99)]\n",
      "--- Iteration 160: Training loss --- [Data, Label, Total] = [25064.899524.3, 201.457051.3, 125525.954669.3]\n",
      "!!! pred_type filter\n"
     ]
    },
    {
     "name": "stderr",
     "output_type": "stream",
     "text": [
      " 68%|█████████████████████████████████████████████████████████████████████████████████                                       | 169/250 [00:09<00:03, 21.83it/s]"
     ]
    },
    {
     "name": "stdout",
     "output_type": "stream",
     "text": [
      "--- Validation --- [threshold, AUC, Accuracy, F score] =  [np.float64(0.68), np.float64(0.99), np.float64(0.955), np.float64(0.965)]\n",
      "--- Training --- [threshold, AUC] =  [np.float64(0.718), np.float64(0.99)]\n",
      "--- Iteration 170: Training loss --- [Data, Label, Total] = [24983.365061.3, 201.449868.3, 125118.275171.3]\n",
      "!!! pred_type filter\n"
     ]
    },
    {
     "name": "stderr",
     "output_type": "stream",
     "text": [
      " 70%|███████████████████████████████████████████████████████████████████████████████████▌                                    | 174/250 [00:09<00:04, 17.17it/s]"
     ]
    },
    {
     "name": "stdout",
     "output_type": "stream",
     "text": [
      "--- Validation --- [threshold, AUC, Accuracy, F score] =  [np.float64(0.718), np.float64(0.99), np.float64(0.953), np.float64(0.963)]\n",
      "--- Training --- [threshold, AUC] =  [np.float64(0.717), np.float64(0.99)]\n",
      "--- Iteration 180: Training loss --- [Data, Label, Total] = [24917.315731.3, 201.474488.3, 124788.053142.3]\n",
      "!!! pred_type filter\n"
     ]
    },
    {
     "name": "stderr",
     "output_type": "stream",
     "text": [
      " 75%|██████████████████████████████████████████████████████████████████████████████████████████▏                             | 188/250 [00:10<00:02, 21.10it/s]"
     ]
    },
    {
     "name": "stdout",
     "output_type": "stream",
     "text": [
      "--- Validation --- [threshold, AUC, Accuracy, F score] =  [np.float64(0.717), np.float64(0.99), np.float64(0.953), np.float64(0.963)]\n",
      "--- Training --- [threshold, AUC] =  [np.float64(0.716), np.float64(0.99)]\n",
      "--- Iteration 190: Training loss --- [Data, Label, Total] = [24867.611661.3, 201.554389.3, 124539.612694.3]\n",
      "!!! pred_type filter\n"
     ]
    },
    {
     "name": "stderr",
     "output_type": "stream",
     "text": [
      " 80%|███████████████████████████████████████████████████████████████████████████████████████████████▌                        | 199/250 [00:11<00:02, 20.69it/s]"
     ]
    },
    {
     "name": "stdout",
     "output_type": "stream",
     "text": [
      "--- Validation --- [threshold, AUC, Accuracy, F score] =  [np.float64(0.716), np.float64(0.99), np.float64(0.953), np.float64(0.963)]\n",
      "--- Training --- [threshold, AUC] =  [np.float64(0.712), np.float64(0.99)]\n",
      "--- Iteration 200: Training loss --- [Data, Label, Total] = [24831.286730.3, 201.481218.3, 124357.914867.3]\n",
      "!!! pred_type filter\n"
     ]
    },
    {
     "name": "stderr",
     "output_type": "stream",
     "text": [
      " 82%|█████████████████████████████████████████████████████████████████████████████████████████████████▉                      | 204/250 [00:11<00:02, 16.61it/s]"
     ]
    },
    {
     "name": "stdout",
     "output_type": "stream",
     "text": [
      "--- Validation --- [threshold, AUC, Accuracy, F score] =  [np.float64(0.712), np.float64(0.99), np.float64(0.953), np.float64(0.964)]\n",
      "--- Training --- [threshold, AUC] =  [np.float64(0.715), np.float64(0.99)]\n",
      "--- Iteration 210: Training loss --- [Data, Label, Total] = [24804.244329.3, 201.375245.3, 124222.596890.3]\n",
      "!!! pred_type filter\n"
     ]
    },
    {
     "name": "stderr",
     "output_type": "stream",
     "text": [
      " 86%|███████████████████████████████████████████████████████████████████████████████████████████████████████▋                | 216/250 [00:12<00:01, 18.63it/s]"
     ]
    },
    {
     "name": "stdout",
     "output_type": "stream",
     "text": [
      "--- Validation --- [threshold, AUC, Accuracy, F score] =  [np.float64(0.715), np.float64(0.99), np.float64(0.953), np.float64(0.963)]\n",
      "--- Training --- [threshold, AUC] =  [np.float64(0.671), np.float64(0.99)]\n",
      "--- Iteration 220: Training loss --- [Data, Label, Total] = [24783.742695.3, 201.256929.3, 124119.970402.3]\n",
      "!!! pred_type filter\n"
     ]
    },
    {
     "name": "stderr",
     "output_type": "stream",
     "text": [
      " 92%|█████████████████████████████████████████████████████████████████████████████████████████████████████████████▉          | 229/250 [00:12<00:00, 21.67it/s]"
     ]
    },
    {
     "name": "stdout",
     "output_type": "stream",
     "text": [
      "--- Validation --- [threshold, AUC, Accuracy, F score] =  [np.float64(0.671), np.float64(0.99), np.float64(0.955), np.float64(0.965)]\n",
      "--- Training --- [threshold, AUC] =  [np.float64(0.673), np.float64(0.99)]\n",
      "--- Iteration 230: Training loss --- [Data, Label, Total] = [24767.939865.3, 201.026584.3, 124040.725909.3]\n",
      "!!! pred_type filter\n"
     ]
    },
    {
     "name": "stderr",
     "output_type": "stream",
     "text": [
      " 94%|████████████████████████████████████████████████████████████████████████████████████████████████████████████████▎       | 234/250 [00:13<00:00, 17.51it/s]"
     ]
    },
    {
     "name": "stdout",
     "output_type": "stream",
     "text": [
      "--- Validation --- [threshold, AUC, Accuracy, F score] =  [np.float64(0.673), np.float64(0.99), np.float64(0.956), np.float64(0.966)]\n",
      "--- Training --- [threshold, AUC] =  [np.float64(0.704), np.float64(0.99)]\n",
      "--- Iteration 240: Training loss --- [Data, Label, Total] = [24755.329855.3, 200.847721.3, 123977.496995.3]\n",
      "!!! pred_type filter\n"
     ]
    },
    {
     "name": "stderr",
     "output_type": "stream",
     "text": [
      "100%|████████████████████████████████████████████████████████████████████████████████████████████████████████████████████████| 250/250 [00:13<00:00, 18.07it/s]"
     ]
    },
    {
     "name": "stdout",
     "output_type": "stream",
     "text": [
      "--- Validation --- [threshold, AUC, Accuracy, F score] =  [np.float64(0.704), np.float64(0.99), np.float64(0.954), np.float64(0.964)]\n",
      "!!! pred_type filter\n"
     ]
    },
    {
     "name": "stderr",
     "output_type": "stream",
     "text": [
      "\n"
     ]
    },
    {
     "name": "stdout",
     "output_type": "stream",
     "text": [
      "num of subgraphs induced on k-paths: 500\n",
      "num of subgraphs induced on k-paths: 500\n",
      "X_list: (361, 1000)\n",
      "2\n",
      "(1, 500)\n",
      "(1, 500)\n",
      "label_vec: (1, 1000)\n",
      "num of subgraphs induced on k-paths: 500\n",
      "num of subgraphs induced on k-paths: 500\n",
      "X_list: (361, 1000)\n",
      "2\n",
      "(1, 500)\n",
      "(1, 500)\n",
      "label_vec: (1, 1000)\n",
      "num of subgraphs induced on k-paths: 500\n",
      "num of subgraphs induced on k-paths: 500\n",
      "X_list: (361, 1000)\n",
      "2\n",
      "(1, 500)\n",
      "(1, 500)\n",
      "label_vec: (1, 1000)\n",
      "num of subgraphs induced on k-paths: 500\n",
      "num of subgraphs induced on k-paths: 500\n",
      "X_list: (361, 1000)\n",
      "2\n",
      "(1, 500)\n",
      "(1, 500)\n",
      "label_vec: (1, 1000)\n"
     ]
    }
   ],
   "source": [
    "for i in range(15,20):\n",
    "    print(i)\n",
    "    accu.append(roc.run(i))"
   ]
  },
  {
   "cell_type": "code",
   "execution_count": 6,
   "id": "f2f85f94-99ff-47de-a3c6-c6aed3680e55",
   "metadata": {},
   "outputs": [
    {
     "name": "stdout",
     "output_type": "stream",
     "text": [
      "20\n",
      "num of subgraphs induced on k-paths: 500\n",
      "num of subgraphs induced on k-paths: 500\n",
      "X_list: (400, 1000)\n",
      "2\n",
      "(1, 500)\n",
      "(1, 500)\n",
      "label_vec: (1, 1000)\n",
      "num of subgraphs induced on k-paths: 500\n",
      "num of subgraphs induced on k-paths: 961\n",
      "X_list: (400, 1461)\n",
      "2\n",
      "(1, 500)\n",
      "(1, 961)\n",
      "label_vec: (1, 1461)\n",
      "initial loading beta [[-0.36734441  0.61880336  0.88324764 -0.84877973  0.49443765 -0.82902106\n",
      "  -0.19494538 -0.35775062  0.65655634  0.530764   -0.80591332 -0.29857683\n",
      "  -0.16052712  0.75693311 -0.84225562  0.65991918  0.78823283]]\n"
     ]
    },
    {
     "name": "stderr",
     "output_type": "stream",
     "text": [
      "  2%|██▉                                                                                                                       | 6/250 [00:00<00:04, 55.67it/s]"
     ]
    },
    {
     "name": "stdout",
     "output_type": "stream",
     "text": [
      "--- Training --- [threshold, AUC] =  [np.float64(0.675), np.float64(0.99)]\n",
      "--- Iteration 0: Training loss --- [Data, Label, Total] = [55280.675734.3, 199.193533.3, 276602.572202.3]\n",
      "--- Training --- [threshold, AUC] =  [np.float64(0.696), np.float64(0.991)]\n",
      "--- Iteration 10: Training loss --- [Data, Label, Total] = [34506.183750.3, 182.235320.3, 172713.154069.3]\n",
      "!!! pred_type filter\n"
     ]
    },
    {
     "name": "stderr",
     "output_type": "stream",
     "text": [
      "  6%|███████▎                                                                                                                 | 15/250 [00:00<00:13, 17.02it/s]"
     ]
    },
    {
     "name": "stdout",
     "output_type": "stream",
     "text": [
      "--- Validation --- [threshold, AUC, Accuracy, F score] =  [np.float64(0.696), np.float64(0.991), np.float64(0.96), np.float64(0.969)]\n",
      "--- Training --- [threshold, AUC] =  [np.float64(0.706), np.float64(0.992)]\n",
      "--- Iteration 20: Training loss --- [Data, Label, Total] = [32029.996327.3, 177.798846.3, 160327.780481.3]\n",
      "!!! pred_type filter\n"
     ]
    },
    {
     "name": "stderr",
     "output_type": "stream",
     "text": [
      " 11%|█████████████▌                                                                                                           | 28/250 [00:01<00:10, 20.22it/s]"
     ]
    },
    {
     "name": "stdout",
     "output_type": "stream",
     "text": [
      "--- Validation --- [threshold, AUC, Accuracy, F score] =  [np.float64(0.706), np.float64(0.992), np.float64(0.961), np.float64(0.97)]\n",
      "--- Training --- [threshold, AUC] =  [np.float64(0.792), np.float64(0.992)]\n",
      "--- Iteration 30: Training loss --- [Data, Label, Total] = [30804.115336.3, 178.719647.3, 154199.296330.3]\n",
      "!!! pred_type filter\n"
     ]
    },
    {
     "name": "stderr",
     "output_type": "stream",
     "text": [
      " 15%|█████████████████▉                                                                                                       | 37/250 [00:02<00:12, 17.62it/s]"
     ]
    },
    {
     "name": "stdout",
     "output_type": "stream",
     "text": [
      "--- Validation --- [threshold, AUC, Accuracy, F score] =  [np.float64(0.792), np.float64(0.992), np.float64(0.956), np.float64(0.965)]\n",
      "--- Training --- [threshold, AUC] =  [np.float64(0.809), np.float64(0.992)]\n",
      "--- Iteration 40: Training loss --- [Data, Label, Total] = [30155.321330.3, 180.607231.3, 150957.213880.3]\n",
      "!!! pred_type filter\n"
     ]
    },
    {
     "name": "stderr",
     "output_type": "stream",
     "text": [
      " 19%|███████████████████████▏                                                                                                 | 48/250 [00:02<00:11, 18.02it/s]"
     ]
    },
    {
     "name": "stdout",
     "output_type": "stream",
     "text": [
      "--- Validation --- [threshold, AUC, Accuracy, F score] =  [np.float64(0.809), np.float64(0.992), np.float64(0.953), np.float64(0.963)]\n",
      "--- Training --- [threshold, AUC] =  [np.float64(0.766), np.float64(0.991)]\n",
      "--- Iteration 50: Training loss --- [Data, Label, Total] = [29732.510575.3, 182.946075.3, 148845.498949.3]\n",
      "!!! pred_type filter\n"
     ]
    },
    {
     "name": "stderr",
     "output_type": "stream",
     "text": [
      " 24%|████████████████████████████▌                                                                                            | 59/250 [00:03<00:09, 19.33it/s]"
     ]
    },
    {
     "name": "stdout",
     "output_type": "stream",
     "text": [
      "--- Validation --- [threshold, AUC, Accuracy, F score] =  [np.float64(0.766), np.float64(0.991), np.float64(0.956), np.float64(0.966)]\n",
      "--- Training --- [threshold, AUC] =  [np.float64(0.766), np.float64(0.991)]\n",
      "--- Iteration 60: Training loss --- [Data, Label, Total] = [29424.960161.3, 184.588407.3, 147309.389213.3]\n",
      "!!! pred_type filter\n"
     ]
    },
    {
     "name": "stderr",
     "output_type": "stream",
     "text": [
      " 28%|█████████████████████████████████▉                                                                                       | 70/250 [00:04<00:09, 19.96it/s]"
     ]
    },
    {
     "name": "stdout",
     "output_type": "stream",
     "text": [
      "--- Validation --- [threshold, AUC, Accuracy, F score] =  [np.float64(0.766), np.float64(0.991), np.float64(0.958), np.float64(0.967)]\n",
      "--- Training --- [threshold, AUC] =  [np.float64(0.739), np.float64(0.991)]\n",
      "--- Iteration 70: Training loss --- [Data, Label, Total] = [29186.465267.3, 185.295879.3, 146117.622212.3]\n",
      "!!! pred_type filter\n"
     ]
    },
    {
     "name": "stderr",
     "output_type": "stream",
     "text": [
      " 31%|█████████████████████████████████████▊                                                                                   | 78/250 [00:04<00:10, 16.80it/s]"
     ]
    },
    {
     "name": "stdout",
     "output_type": "stream",
     "text": [
      "--- Validation --- [threshold, AUC, Accuracy, F score] =  [np.float64(0.739), np.float64(0.991), np.float64(0.959), np.float64(0.968)]\n",
      "--- Training --- [threshold, AUC] =  [np.float64(0.749), np.float64(0.991)]\n",
      "--- Iteration 80: Training loss --- [Data, Label, Total] = [28997.344333.3, 185.697134.3, 145172.418801.3]\n",
      "!!! pred_type filter\n"
     ]
    },
    {
     "name": "stderr",
     "output_type": "stream",
     "text": [
      " 35%|██████████████████████████████████████████▌                                                                              | 88/250 [00:05<00:09, 16.29it/s]"
     ]
    },
    {
     "name": "stdout",
     "output_type": "stream",
     "text": [
      "--- Validation --- [threshold, AUC, Accuracy, F score] =  [np.float64(0.749), np.float64(0.991), np.float64(0.959), np.float64(0.968)]\n",
      "--- Training --- [threshold, AUC] =  [np.float64(0.746), np.float64(0.991)]\n",
      "--- Iteration 90: Training loss --- [Data, Label, Total] = [28846.386456.3, 185.712490.3, 144417.644771.3]\n",
      "!!! pred_type filter\n"
     ]
    },
    {
     "name": "stderr",
     "output_type": "stream",
     "text": [
      " 39%|██████████████████████████████████████████████▉                                                                          | 97/250 [00:06<00:10, 14.41it/s]"
     ]
    },
    {
     "name": "stdout",
     "output_type": "stream",
     "text": [
      "--- Validation --- [threshold, AUC, Accuracy, F score] =  [np.float64(0.746), np.float64(0.991), np.float64(0.96), np.float64(0.969)]\n",
      "--- Training --- [threshold, AUC] =  [np.float64(0.743), np.float64(0.992)]\n",
      "--- Iteration 100: Training loss --- [Data, Label, Total] = [28723.708778.3, 185.207309.3, 143803.751199.3]\n",
      "!!! pred_type filter\n"
     ]
    },
    {
     "name": "stderr",
     "output_type": "stream",
     "text": [
      " 43%|███████████████████████████████████████████████████▎                                                                    | 107/250 [00:07<00:08, 16.11it/s]"
     ]
    },
    {
     "name": "stdout",
     "output_type": "stream",
     "text": [
      "--- Validation --- [threshold, AUC, Accuracy, F score] =  [np.float64(0.743), np.float64(0.992), np.float64(0.96), np.float64(0.969)]\n",
      "--- Training --- [threshold, AUC] =  [np.float64(0.767), np.float64(0.992)]\n",
      "--- Iteration 110: Training loss --- [Data, Label, Total] = [28623.546162.3, 184.798910.3, 143302.529719.3]\n",
      "!!! pred_type filter\n"
     ]
    },
    {
     "name": "stderr",
     "output_type": "stream",
     "text": [
      " 47%|████████████████████████████████████████████████████████▏                                                               | 117/250 [00:07<00:08, 16.22it/s]"
     ]
    },
    {
     "name": "stdout",
     "output_type": "stream",
     "text": [
      "--- Validation --- [threshold, AUC, Accuracy, F score] =  [np.float64(0.767), np.float64(0.992), np.float64(0.958), np.float64(0.967)]\n",
      "--- Training --- [threshold, AUC] =  [np.float64(0.775), np.float64(0.992)]\n",
      "--- Iteration 120: Training loss --- [Data, Label, Total] = [28542.006944.3, 183.987615.3, 142894.022337.3]\n",
      "!!! pred_type filter\n"
     ]
    },
    {
     "name": "stderr",
     "output_type": "stream",
     "text": [
      " 51%|████████████████████████████████████████████████████████████▉                                                           | 127/250 [00:08<00:07, 15.77it/s]"
     ]
    },
    {
     "name": "stdout",
     "output_type": "stream",
     "text": [
      "--- Validation --- [threshold, AUC, Accuracy, F score] =  [np.float64(0.775), np.float64(0.992), np.float64(0.958), np.float64(0.967)]\n",
      "--- Training --- [threshold, AUC] =  [np.float64(0.788), np.float64(0.992)]\n",
      "--- Iteration 130: Training loss --- [Data, Label, Total] = [28475.666388.3, 183.606852.3, 142561.938791.3]\n",
      "!!! pred_type filter\n"
     ]
    },
    {
     "name": "stderr",
     "output_type": "stream",
     "text": [
      " 55%|██████████████████████████████████████████████████████████████████▏                                                     | 138/250 [00:09<00:06, 17.00it/s]"
     ]
    },
    {
     "name": "stdout",
     "output_type": "stream",
     "text": [
      "--- Validation --- [threshold, AUC, Accuracy, F score] =  [np.float64(0.788), np.float64(0.992), np.float64(0.958), np.float64(0.967)]\n",
      "--- Training --- [threshold, AUC] =  [np.float64(0.783), np.float64(0.992)]\n",
      "--- Iteration 140: Training loss --- [Data, Label, Total] = [28422.137066.3, 182.819524.3, 142293.504853.3]\n",
      "!!! pred_type filter\n"
     ]
    },
    {
     "name": "stderr",
     "output_type": "stream",
     "text": [
      " 59%|███████████████████████████████████████████████████████████████████████                                                 | 148/250 [00:09<00:05, 18.47it/s]"
     ]
    },
    {
     "name": "stdout",
     "output_type": "stream",
     "text": [
      "--- Validation --- [threshold, AUC, Accuracy, F score] =  [np.float64(0.783), np.float64(0.992), np.float64(0.958), np.float64(0.967)]\n",
      "--- Training --- [threshold, AUC] =  [np.float64(0.784), np.float64(0.992)]\n",
      "--- Iteration 150: Training loss --- [Data, Label, Total] = [28379.101653.3, 182.359846.3, 142077.868109.3]\n",
      "!!! pred_type filter\n"
     ]
    },
    {
     "name": "stderr",
     "output_type": "stream",
     "text": [
      " 64%|████████████████████████████████████████████████████████████████████████████▎                                           | 159/250 [00:10<00:04, 20.32it/s]"
     ]
    },
    {
     "name": "stdout",
     "output_type": "stream",
     "text": [
      "--- Validation --- [threshold, AUC, Accuracy, F score] =  [np.float64(0.784), np.float64(0.992), np.float64(0.958), np.float64(0.967)]\n",
      "--- Training --- [threshold, AUC] =  [np.float64(0.779), np.float64(0.992)]\n",
      "--- Iteration 160: Training loss --- [Data, Label, Total] = [28344.270122.3, 181.911816.3, 141903.262425.3]\n",
      "!!! pred_type filter\n"
     ]
    },
    {
     "name": "stderr",
     "output_type": "stream",
     "text": [
      " 68%|█████████████████████████████████████████████████████████████████████████████████▌                                      | 170/250 [00:10<00:03, 21.31it/s]"
     ]
    },
    {
     "name": "stdout",
     "output_type": "stream",
     "text": [
      "--- Validation --- [threshold, AUC, Accuracy, F score] =  [np.float64(0.779), np.float64(0.992), np.float64(0.959), np.float64(0.968)]\n",
      "--- Training --- [threshold, AUC] =  [np.float64(0.769), np.float64(0.992)]\n",
      "--- Iteration 170: Training loss --- [Data, Label, Total] = [28315.548194.3, 181.509440.3, 141759.250413.3]\n",
      "!!! pred_type filter\n"
     ]
    },
    {
     "name": "stderr",
     "output_type": "stream",
     "text": [
      " 70%|███████████████████████████████████████████████████████████████████████████████████▌                                    | 174/250 [00:11<00:04, 15.77it/s]"
     ]
    },
    {
     "name": "stdout",
     "output_type": "stream",
     "text": [
      "--- Validation --- [threshold, AUC, Accuracy, F score] =  [np.float64(0.769), np.float64(0.992), np.float64(0.96), np.float64(0.969)]\n",
      "--- Training --- [threshold, AUC] =  [np.float64(0.771), np.float64(0.992)]\n",
      "--- Iteration 180: Training loss --- [Data, Label, Total] = [28291.337799.3, 181.070277.3, 141637.759273.3]\n",
      "!!! pred_type filter\n"
     ]
    },
    {
     "name": "stderr",
     "output_type": "stream",
     "text": [
      " 75%|██████████████████████████████████████████████████████████████████████████████████████████▏                             | 188/250 [00:12<00:03, 20.23it/s]"
     ]
    },
    {
     "name": "stdout",
     "output_type": "stream",
     "text": [
      "--- Validation --- [threshold, AUC, Accuracy, F score] =  [np.float64(0.771), np.float64(0.992), np.float64(0.96), np.float64(0.969)]\n",
      "--- Training --- [threshold, AUC] =  [np.float64(0.764), np.float64(0.992)]\n",
      "--- Iteration 190: Training loss --- [Data, Label, Total] = [28270.522202.3, 180.697558.3, 141533.308566.3]\n",
      "!!! pred_type filter\n"
     ]
    },
    {
     "name": "stderr",
     "output_type": "stream",
     "text": [
      " 80%|███████████████████████████████████████████████████████████████████████████████████████████████▌                        | 199/250 [00:12<00:02, 20.69it/s]"
     ]
    },
    {
     "name": "stdout",
     "output_type": "stream",
     "text": [
      "--- Validation --- [threshold, AUC, Accuracy, F score] =  [np.float64(0.764), np.float64(0.992), np.float64(0.962), np.float64(0.97)]\n",
      "--- Training --- [threshold, AUC] =  [np.float64(0.761), np.float64(0.992)]\n",
      "--- Iteration 200: Training loss --- [Data, Label, Total] = [28252.404533.3, 180.234700.3, 141442.257363.3]\n",
      "!!! pred_type filter\n"
     ]
    },
    {
     "name": "stderr",
     "output_type": "stream",
     "text": [
      " 84%|████████████████████████████████████████████████████████████████████████████████████████████████████▊                   | 210/250 [00:13<00:01, 21.74it/s]"
     ]
    },
    {
     "name": "stdout",
     "output_type": "stream",
     "text": [
      "--- Validation --- [threshold, AUC, Accuracy, F score] =  [np.float64(0.761), np.float64(0.992), np.float64(0.963), np.float64(0.971)]\n",
      "--- Training --- [threshold, AUC] =  [np.float64(0.762), np.float64(0.992)]\n",
      "--- Iteration 210: Training loss --- [Data, Label, Total] = [28236.605117.3, 179.979560.3, 141363.005147.3]\n",
      "!!! pred_type filter\n"
     ]
    },
    {
     "name": "stderr",
     "output_type": "stream",
     "text": [
      " 86%|███████████████████████████████████████████████████████████████████████████████████████████████████████▏                | 215/250 [00:13<00:02, 16.20it/s]"
     ]
    },
    {
     "name": "stdout",
     "output_type": "stream",
     "text": [
      "--- Validation --- [threshold, AUC, Accuracy, F score] =  [np.float64(0.762), np.float64(0.992), np.float64(0.963), np.float64(0.971)]\n",
      "--- Training --- [threshold, AUC] =  [np.float64(0.765), np.float64(0.992)]\n",
      "--- Iteration 220: Training loss --- [Data, Label, Total] = [28222.761767.3, 179.511387.3, 141293.320223.3]\n",
      "!!! pred_type filter\n"
     ]
    },
    {
     "name": "stderr",
     "output_type": "stream",
     "text": [
      " 91%|████████████████████████████████████████████████████████████████████████████████████████████████████████████▉           | 227/250 [00:14<00:01, 18.93it/s]"
     ]
    },
    {
     "name": "stdout",
     "output_type": "stream",
     "text": [
      "--- Validation --- [threshold, AUC, Accuracy, F score] =  [np.float64(0.765), np.float64(0.992), np.float64(0.962), np.float64(0.971)]\n",
      "--- Training --- [threshold, AUC] =  [np.float64(0.765), np.float64(0.992)]\n",
      "--- Iteration 230: Training loss --- [Data, Label, Total] = [28210.534529.3, 179.287156.3, 141231.959800.3]\n",
      "!!! pred_type filter\n"
     ]
    },
    {
     "name": "stderr",
     "output_type": "stream",
     "text": [
      " 95%|██████████████████████████████████████████████████████████████████████████████████████████████████████████████████▏     | 238/250 [00:14<00:00, 20.52it/s]"
     ]
    },
    {
     "name": "stdout",
     "output_type": "stream",
     "text": [
      "--- Validation --- [threshold, AUC, Accuracy, F score] =  [np.float64(0.765), np.float64(0.992), np.float64(0.962), np.float64(0.971)]\n",
      "--- Training --- [threshold, AUC] =  [np.float64(0.767), np.float64(0.992)]\n",
      "--- Iteration 240: Training loss --- [Data, Label, Total] = [28199.699251.3, 179.031256.3, 141177.527514.3]\n",
      "!!! pred_type filter\n"
     ]
    },
    {
     "name": "stderr",
     "output_type": "stream",
     "text": [
      "100%|████████████████████████████████████████████████████████████████████████████████████████████████████████████████████████| 250/250 [00:15<00:00, 16.07it/s]"
     ]
    },
    {
     "name": "stdout",
     "output_type": "stream",
     "text": [
      "--- Validation --- [threshold, AUC, Accuracy, F score] =  [np.float64(0.767), np.float64(0.992), np.float64(0.962), np.float64(0.971)]\n",
      "!!! pred_type filter\n"
     ]
    },
    {
     "name": "stderr",
     "output_type": "stream",
     "text": [
      "\n"
     ]
    },
    {
     "name": "stdout",
     "output_type": "stream",
     "text": [
      "num of subgraphs induced on k-paths: 500\n",
      "num of subgraphs induced on k-paths: 500\n",
      "X_list: (400, 1000)\n",
      "2\n",
      "(1, 500)\n",
      "(1, 500)\n",
      "label_vec: (1, 1000)\n",
      "num of subgraphs induced on k-paths: 500\n",
      "num of subgraphs induced on k-paths: 500\n",
      "X_list: (400, 1000)\n",
      "2\n",
      "(1, 500)\n",
      "(1, 500)\n",
      "label_vec: (1, 1000)\n",
      "num of subgraphs induced on k-paths: 500\n",
      "num of subgraphs induced on k-paths: 500\n",
      "X_list: (400, 1000)\n",
      "2\n",
      "(1, 500)\n",
      "(1, 500)\n",
      "label_vec: (1, 1000)\n",
      "num of subgraphs induced on k-paths: 500\n",
      "num of subgraphs induced on k-paths: 500\n",
      "X_list: (400, 1000)\n",
      "2\n",
      "(1, 500)\n",
      "(1, 500)\n",
      "label_vec: (1, 1000)\n",
      "21\n",
      "num of subgraphs induced on k-paths: 500\n",
      "num of subgraphs induced on k-paths: 500\n",
      "X_list: (441, 1000)\n",
      "2\n",
      "(1, 500)\n",
      "(1, 500)\n",
      "label_vec: (1, 1000)\n",
      "num of subgraphs induced on k-paths: 500\n",
      "num of subgraphs induced on k-paths: 984\n",
      "X_list: (441, 1484)\n",
      "2\n",
      "(1, 500)\n",
      "(1, 984)\n",
      "label_vec: (1, 1484)\n",
      "initial loading beta [[-0.73058919  0.9269044  -0.06324949 -0.97851856  0.4890171   0.99526692\n",
      "   0.04444936  0.92476026 -0.16624262 -0.22680871 -0.63196362  0.05897778\n",
      "  -0.18758398  0.02779899  0.02053304  0.69669935  0.07028151]]\n"
     ]
    },
    {
     "name": "stderr",
     "output_type": "stream",
     "text": [
      "  2%|██▉                                                                                                                       | 6/250 [00:00<00:04, 53.60it/s]"
     ]
    },
    {
     "name": "stdout",
     "output_type": "stream",
     "text": [
      "--- Training --- [threshold, AUC] =  [np.float64(0.738), np.float64(0.995)]\n",
      "--- Iteration 0: Training loss --- [Data, Label, Total] = [58927.486893.3, 146.029758.3, 294783.464220.3]\n",
      "--- Training --- [threshold, AUC] =  [np.float64(0.671), np.float64(0.996)]\n",
      "--- Iteration 10: Training loss --- [Data, Label, Total] = [38418.052041.3, 124.448549.3, 192214.708755.3]\n",
      "!!! pred_type filter\n"
     ]
    },
    {
     "name": "stderr",
     "output_type": "stream",
     "text": [
      "  8%|█████████▏                                                                                                               | 19/250 [00:00<00:09, 24.17it/s]"
     ]
    },
    {
     "name": "stdout",
     "output_type": "stream",
     "text": [
      "--- Validation --- [threshold, AUC, Accuracy, F score] =  [np.float64(0.671), np.float64(0.996), np.float64(0.976), np.float64(0.982)]\n",
      "--- Training --- [threshold, AUC] =  [np.float64(0.714), np.float64(0.996)]\n",
      "--- Iteration 20: Training loss --- [Data, Label, Total] = [35799.980451.3, 122.834589.3, 179122.736843.3]\n",
      "!!! pred_type filter\n"
     ]
    },
    {
     "name": "stderr",
     "output_type": "stream",
     "text": [
      " 10%|███████████▌                                                                                                             | 24/250 [00:01<00:14, 15.55it/s]"
     ]
    },
    {
     "name": "stdout",
     "output_type": "stream",
     "text": [
      "--- Validation --- [threshold, AUC, Accuracy, F score] =  [np.float64(0.714), np.float64(0.996), np.float64(0.977), np.float64(0.983)]\n",
      "--- Training --- [threshold, AUC] =  [np.float64(0.65), np.float64(0.996)]\n",
      "--- Iteration 30: Training loss --- [Data, Label, Total] = [34349.634709.3, 121.910282.3, 171870.083829.3]\n",
      "!!! pred_type filter\n"
     ]
    },
    {
     "name": "stderr",
     "output_type": "stream",
     "text": [
      " 15%|██████████████████▍                                                                                                      | 38/250 [00:02<00:10, 19.80it/s]"
     ]
    },
    {
     "name": "stdout",
     "output_type": "stream",
     "text": [
      "--- Validation --- [threshold, AUC, Accuracy, F score] =  [np.float64(0.65), np.float64(0.996), np.float64(0.979), np.float64(0.984)]\n",
      "--- Training --- [threshold, AUC] =  [np.float64(0.664), np.float64(0.997)]\n",
      "--- Iteration 40: Training loss --- [Data, Label, Total] = [33610.518259.3, 121.289320.3, 168173.880614.3]\n",
      "!!! pred_type filter\n"
     ]
    },
    {
     "name": "stderr",
     "output_type": "stream",
     "text": [
      " 20%|███████████████████████▋                                                                                                 | 49/250 [00:02<00:09, 20.64it/s]"
     ]
    },
    {
     "name": "stdout",
     "output_type": "stream",
     "text": [
      "--- Validation --- [threshold, AUC, Accuracy, F score] =  [np.float64(0.664), np.float64(0.997), np.float64(0.98), np.float64(0.985)]\n",
      "--- Training --- [threshold, AUC] =  [np.float64(0.686), np.float64(0.997)]\n",
      "--- Iteration 50: Training loss --- [Data, Label, Total] = [33192.150660.3, 120.991375.3, 166081.744675.3]\n",
      "!!! pred_type filter\n"
     ]
    },
    {
     "name": "stderr",
     "output_type": "stream",
     "text": [
      " 24%|████████████████████████████▌                                                                                            | 59/250 [00:03<00:09, 19.99it/s]"
     ]
    },
    {
     "name": "stdout",
     "output_type": "stream",
     "text": [
      "--- Validation --- [threshold, AUC, Accuracy, F score] =  [np.float64(0.686), np.float64(0.997), np.float64(0.98), np.float64(0.985)]\n",
      "--- Training --- [threshold, AUC] =  [np.float64(0.694), np.float64(0.997)]\n",
      "--- Iteration 60: Training loss --- [Data, Label, Total] = [32929.282982.3, 120.819138.3, 164767.234049.3]\n",
      "!!! pred_type filter\n"
     ]
    },
    {
     "name": "stderr",
     "output_type": "stream",
     "text": [
      " 27%|████████████████████████████████▉                                                                                        | 68/250 [00:03<00:10, 16.76it/s]"
     ]
    },
    {
     "name": "stdout",
     "output_type": "stream",
     "text": [
      "--- Validation --- [threshold, AUC, Accuracy, F score] =  [np.float64(0.694), np.float64(0.997), np.float64(0.979), np.float64(0.984)]\n",
      "--- Training --- [threshold, AUC] =  [np.float64(0.642), np.float64(0.997)]\n",
      "--- Iteration 70: Training loss --- [Data, Label, Total] = [32749.971654.3, 120.802388.3, 163870.660658.3]\n",
      "!!! pred_type filter\n"
     ]
    },
    {
     "name": "stderr",
     "output_type": "stream",
     "text": [
      " 31%|█████████████████████████████████████▊                                                                                   | 78/250 [00:04<00:09, 17.77it/s]"
     ]
    },
    {
     "name": "stdout",
     "output_type": "stream",
     "text": [
      "--- Validation --- [threshold, AUC, Accuracy, F score] =  [np.float64(0.642), np.float64(0.997), np.float64(0.98), np.float64(0.985)]\n",
      "--- Training --- [threshold, AUC] =  [np.float64(0.667), np.float64(0.997)]\n",
      "--- Iteration 80: Training loss --- [Data, Label, Total] = [32618.208589.3, 121.034601.3, 163212.077547.3]\n",
      "!!! pred_type filter\n"
     ]
    },
    {
     "name": "stderr",
     "output_type": "stream",
     "text": [
      " 36%|███████████████████████████████████████████                                                                              | 89/250 [00:05<00:08, 19.24it/s]"
     ]
    },
    {
     "name": "stdout",
     "output_type": "stream",
     "text": [
      "--- Validation --- [threshold, AUC, Accuracy, F score] =  [np.float64(0.667), np.float64(0.997), np.float64(0.98), np.float64(0.985)]\n",
      "--- Training --- [threshold, AUC] =  [np.float64(0.708), np.float64(0.997)]\n",
      "--- Iteration 90: Training loss --- [Data, Label, Total] = [32515.016828.3, 121.377912.3, 162696.462053.3]\n",
      "!!! pred_type filter\n"
     ]
    },
    {
     "name": "stderr",
     "output_type": "stream",
     "text": [
      " 40%|████████████████████████████████████████████████                                                                        | 100/250 [00:05<00:07, 19.98it/s]"
     ]
    },
    {
     "name": "stdout",
     "output_type": "stream",
     "text": [
      "--- Validation --- [threshold, AUC, Accuracy, F score] =  [np.float64(0.708), np.float64(0.997), np.float64(0.978), np.float64(0.984)]\n",
      "--- Training --- [threshold, AUC] =  [np.float64(0.657), np.float64(0.997)]\n",
      "--- Iteration 100: Training loss --- [Data, Label, Total] = [32429.381519.3, 121.662986.3, 162268.570579.3]\n",
      "!!! pred_type filter\n"
     ]
    },
    {
     "name": "stderr",
     "output_type": "stream",
     "text": [
      " 44%|████████████████████████████████████████████████████▊                                                                   | 110/250 [00:06<00:07, 19.39it/s]"
     ]
    },
    {
     "name": "stdout",
     "output_type": "stream",
     "text": [
      "--- Validation --- [threshold, AUC, Accuracy, F score] =  [np.float64(0.657), np.float64(0.997), np.float64(0.979), np.float64(0.984)]\n",
      "--- Training --- [threshold, AUC] =  [np.float64(0.663), np.float64(0.997)]\n",
      "--- Iteration 110: Training loss --- [Data, Label, Total] = [32356.211807.3, 121.567088.3, 161902.626124.3]\n",
      "!!! pred_type filter\n"
     ]
    },
    {
     "name": "stderr",
     "output_type": "stream",
     "text": [
      " 48%|█████████████████████████████████████████████████████████▌                                                              | 120/250 [00:07<00:06, 19.17it/s]"
     ]
    },
    {
     "name": "stdout",
     "output_type": "stream",
     "text": [
      "--- Validation --- [threshold, AUC, Accuracy, F score] =  [np.float64(0.663), np.float64(0.997), np.float64(0.979), np.float64(0.984)]\n",
      "--- Training --- [threshold, AUC] =  [np.float64(0.686), np.float64(0.997)]\n",
      "--- Iteration 120: Training loss --- [Data, Label, Total] = [32293.445096.3, 121.885099.3, 161589.110577.3]\n",
      "!!! pred_type filter\n"
     ]
    },
    {
     "name": "stderr",
     "output_type": "stream",
     "text": [
      " 50%|███████████████████████████████████████████████████████████▌                                                            | 124/250 [00:07<00:08, 14.14it/s]"
     ]
    },
    {
     "name": "stdout",
     "output_type": "stream",
     "text": [
      "--- Validation --- [threshold, AUC, Accuracy, F score] =  [np.float64(0.686), np.float64(0.997), np.float64(0.978), np.float64(0.984)]\n",
      "--- Training --- [threshold, AUC] =  [np.float64(0.679), np.float64(0.997)]\n",
      "--- Iteration 130: Training loss --- [Data, Label, Total] = [32238.294835.3, 122.022376.3, 161313.496551.3]\n",
      "!!! pred_type filter\n"
     ]
    },
    {
     "name": "stderr",
     "output_type": "stream",
     "text": [
      " 55%|██████████████████████████████████████████████████████████████████▏                                                     | 138/250 [00:08<00:06, 18.47it/s]"
     ]
    },
    {
     "name": "stdout",
     "output_type": "stream",
     "text": [
      "--- Validation --- [threshold, AUC, Accuracy, F score] =  [np.float64(0.679), np.float64(0.997), np.float64(0.978), np.float64(0.984)]\n",
      "--- Training --- [threshold, AUC] =  [np.float64(0.669), np.float64(0.997)]\n",
      "--- Iteration 140: Training loss --- [Data, Label, Total] = [32187.981550.3, 122.045592.3, 161061.953340.3]\n",
      "!!! pred_type filter\n"
     ]
    },
    {
     "name": "stderr",
     "output_type": "stream",
     "text": [
      " 59%|███████████████████████████████████████████████████████████████████████                                                 | 148/250 [00:08<00:05, 17.80it/s]"
     ]
    },
    {
     "name": "stdout",
     "output_type": "stream",
     "text": [
      "--- Validation --- [threshold, AUC, Accuracy, F score] =  [np.float64(0.669), np.float64(0.997), np.float64(0.979), np.float64(0.984)]\n",
      "--- Training --- [threshold, AUC] =  [np.float64(0.668), np.float64(0.997)]\n",
      "--- Iteration 150: Training loss --- [Data, Label, Total] = [32142.020190.3, 122.105013.3, 160832.205961.3]\n",
      "!!! pred_type filter\n"
     ]
    },
    {
     "name": "stderr",
     "output_type": "stream",
     "text": [
      " 64%|████████████████████████████████████████████████████████████████████████████▎                                           | 159/250 [00:09<00:04, 19.26it/s]"
     ]
    },
    {
     "name": "stdout",
     "output_type": "stream",
     "text": [
      "--- Validation --- [threshold, AUC, Accuracy, F score] =  [np.float64(0.668), np.float64(0.997), np.float64(0.979), np.float64(0.984)]\n",
      "--- Training --- [threshold, AUC] =  [np.float64(0.67), np.float64(0.997)]\n",
      "--- Iteration 160: Training loss --- [Data, Label, Total] = [32100.070775.3, 122.333758.3, 160622.687636.3]\n",
      "!!! pred_type filter\n"
     ]
    },
    {
     "name": "stderr",
     "output_type": "stream",
     "text": [
      " 68%|█████████████████████████████████████████████████████████████████████████████████                                       | 169/250 [00:10<00:04, 19.30it/s]"
     ]
    },
    {
     "name": "stdout",
     "output_type": "stream",
     "text": [
      "--- Validation --- [threshold, AUC, Accuracy, F score] =  [np.float64(0.67), np.float64(0.997), np.float64(0.979), np.float64(0.984)]\n",
      "--- Training --- [threshold, AUC] =  [np.float64(0.663), np.float64(0.997)]\n",
      "--- Iteration 170: Training loss --- [Data, Label, Total] = [32062.321094.3, 122.206880.3, 160433.812351.3]\n",
      "!!! pred_type filter\n"
     ]
    },
    {
     "name": "stderr",
     "output_type": "stream",
     "text": [
      " 72%|██████████████████████████████████████████████████████████████████████████████████████▍                                 | 180/250 [00:10<00:03, 20.15it/s]"
     ]
    },
    {
     "name": "stdout",
     "output_type": "stream",
     "text": [
      "--- Validation --- [threshold, AUC, Accuracy, F score] =  [np.float64(0.663), np.float64(0.997), np.float64(0.979), np.float64(0.984)]\n",
      "--- Training --- [threshold, AUC] =  [np.float64(0.663), np.float64(0.997)]\n",
      "--- Iteration 180: Training loss --- [Data, Label, Total] = [32028.977067.3, 122.403222.3, 160267.288555.3]\n",
      "!!! pred_type filter\n"
     ]
    },
    {
     "name": "stderr",
     "output_type": "stream",
     "text": [
      " 76%|███████████████████████████████████████████████████████████████████████████████████████████▏                            | 190/250 [00:11<00:03, 19.65it/s]"
     ]
    },
    {
     "name": "stdout",
     "output_type": "stream",
     "text": [
      "--- Validation --- [threshold, AUC, Accuracy, F score] =  [np.float64(0.663), np.float64(0.997), np.float64(0.979), np.float64(0.984)]\n",
      "--- Training --- [threshold, AUC] =  [np.float64(0.659), np.float64(0.997)]\n",
      "--- Iteration 190: Training loss --- [Data, Label, Total] = [32000.582331.3, 122.487895.3, 160125.399548.3]\n",
      "!!! pred_type filter\n"
     ]
    },
    {
     "name": "stderr",
     "output_type": "stream",
     "text": [
      " 80%|████████████████████████████████████████████████████████████████████████████████████████████████                        | 200/250 [00:12<00:02, 19.65it/s]"
     ]
    },
    {
     "name": "stdout",
     "output_type": "stream",
     "text": [
      "--- Validation --- [threshold, AUC, Accuracy, F score] =  [np.float64(0.659), np.float64(0.997), np.float64(0.979), np.float64(0.984)]\n",
      "--- Training --- [threshold, AUC] =  [np.float64(0.686), np.float64(0.997)]\n",
      "--- Iteration 200: Training loss --- [Data, Label, Total] = [31975.577834.3, 122.486149.3, 160000.375321.3]\n",
      "!!! pred_type filter\n"
     ]
    },
    {
     "name": "stderr",
     "output_type": "stream",
     "text": [
      " 84%|████████████████████████████████████████████████████████████████████████████████████████████████████▊                   | 210/250 [00:12<00:02, 19.72it/s]"
     ]
    },
    {
     "name": "stdout",
     "output_type": "stream",
     "text": [
      "--- Validation --- [threshold, AUC, Accuracy, F score] =  [np.float64(0.686), np.float64(0.997), np.float64(0.978), np.float64(0.984)]\n",
      "--- Training --- [threshold, AUC] =  [np.float64(0.652), np.float64(0.997)]\n",
      "--- Iteration 210: Training loss --- [Data, Label, Total] = [31953.377466.3, 122.539207.3, 159889.426538.3]\n",
      "!!! pred_type filter\n"
     ]
    },
    {
     "name": "stderr",
     "output_type": "stream",
     "text": [
      " 86%|██████████████████████████████████████████████████████████████████████████████████████████████████████▋                 | 214/250 [00:13<00:02, 14.67it/s]"
     ]
    },
    {
     "name": "stdout",
     "output_type": "stream",
     "text": [
      "--- Validation --- [threshold, AUC, Accuracy, F score] =  [np.float64(0.652), np.float64(0.997), np.float64(0.98), np.float64(0.985)]\n",
      "--- Training --- [threshold, AUC] =  [np.float64(0.69), np.float64(0.997)]\n",
      "--- Iteration 220: Training loss --- [Data, Label, Total] = [31933.315969.3, 122.500645.3, 159789.080489.3]\n",
      "!!! pred_type filter\n"
     ]
    },
    {
     "name": "stderr",
     "output_type": "stream",
     "text": [
      " 90%|████████████████████████████████████████████████████████████████████████████████████████████████████████████▍           | 226/250 [00:13<00:01, 16.66it/s]"
     ]
    },
    {
     "name": "stdout",
     "output_type": "stream",
     "text": [
      "--- Validation --- [threshold, AUC, Accuracy, F score] =  [np.float64(0.69), np.float64(0.997), np.float64(0.978), np.float64(0.984)]\n",
      "--- Training --- [threshold, AUC] =  [np.float64(0.689), np.float64(0.997)]\n",
      "--- Iteration 230: Training loss --- [Data, Label, Total] = [31915.299962.3, 122.518922.3, 159699.018733.3]\n",
      "!!! pred_type filter\n"
     ]
    },
    {
     "name": "stderr",
     "output_type": "stream",
     "text": [
      " 95%|█████████████████████████████████████████████████████████████████████████████████████████████████████████████████▊      | 237/250 [00:14<00:00, 18.33it/s]"
     ]
    },
    {
     "name": "stdout",
     "output_type": "stream",
     "text": [
      "--- Validation --- [threshold, AUC, Accuracy, F score] =  [np.float64(0.689), np.float64(0.997), np.float64(0.978), np.float64(0.984)]\n",
      "--- Training --- [threshold, AUC] =  [np.float64(0.69), np.float64(0.997)]\n",
      "--- Iteration 240: Training loss --- [Data, Label, Total] = [31898.925792.3, 122.481727.3, 159617.110685.3]\n",
      "!!! pred_type filter\n"
     ]
    },
    {
     "name": "stderr",
     "output_type": "stream",
     "text": [
      "100%|████████████████████████████████████████████████████████████████████████████████████████████████████████████████████████| 250/250 [00:15<00:00, 16.59it/s]"
     ]
    },
    {
     "name": "stdout",
     "output_type": "stream",
     "text": [
      "--- Validation --- [threshold, AUC, Accuracy, F score] =  [np.float64(0.69), np.float64(0.997), np.float64(0.978), np.float64(0.984)]\n",
      "!!! pred_type filter\n"
     ]
    },
    {
     "name": "stderr",
     "output_type": "stream",
     "text": [
      "\n"
     ]
    },
    {
     "name": "stdout",
     "output_type": "stream",
     "text": [
      "num of subgraphs induced on k-paths: 500\n",
      "num of subgraphs induced on k-paths: 500\n",
      "X_list: (441, 1000)\n",
      "2\n",
      "(1, 500)\n",
      "(1, 500)\n",
      "label_vec: (1, 1000)\n",
      "num of subgraphs induced on k-paths: 500\n",
      "num of subgraphs induced on k-paths: 500\n",
      "X_list: (441, 1000)\n",
      "2\n",
      "(1, 500)\n",
      "(1, 500)\n",
      "label_vec: (1, 1000)\n",
      "num of subgraphs induced on k-paths: 500\n",
      "num of subgraphs induced on k-paths: 500\n",
      "X_list: (441, 1000)\n",
      "2\n",
      "(1, 500)\n",
      "(1, 500)\n",
      "label_vec: (1, 1000)\n",
      "num of subgraphs induced on k-paths: 500\n",
      "num of subgraphs induced on k-paths: 500\n",
      "X_list: (441, 1000)\n",
      "2\n",
      "(1, 500)\n",
      "(1, 500)\n",
      "label_vec: (1, 1000)\n",
      "22\n",
      "num of subgraphs induced on k-paths: 500\n",
      "num of subgraphs induced on k-paths: 500\n",
      "X_list: (484, 1000)\n",
      "2\n",
      "(1, 500)\n",
      "(1, 500)\n",
      "label_vec: (1, 1000)\n",
      "num of subgraphs induced on k-paths: 500\n",
      "num of subgraphs induced on k-paths: 1018\n",
      "X_list: (484, 1518)\n",
      "2\n",
      "(1, 500)\n",
      "(1, 1018)\n",
      "label_vec: (1, 1518)\n",
      "initial loading beta [[-0.75171009 -0.15991513  0.38778039 -0.17277176 -0.8506829  -0.55087547\n",
      "  -0.56364003 -0.13984509  0.55888255  0.16851185  0.04414569  0.84076453\n",
      "   0.4460727   0.02526156 -0.98329923  0.94095424 -0.25145641]]\n"
     ]
    },
    {
     "name": "stderr",
     "output_type": "stream",
     "text": [
      "  2%|██▍                                                                                                                       | 5/250 [00:00<00:05, 46.57it/s]"
     ]
    },
    {
     "name": "stdout",
     "output_type": "stream",
     "text": [
      "--- Training --- [threshold, AUC] =  [np.float64(0.702), np.float64(0.99)]\n",
      "--- Iteration 0: Training loss --- [Data, Label, Total] = [66527.092832.3, 202.556298.3, 332838.020457.3]\n",
      "--- Training --- [threshold, AUC] =  [np.float64(0.703), np.float64(0.99)]\n",
      "--- Iteration 10: Training loss --- [Data, Label, Total] = [43299.455631.3, 194.592415.3, 216691.870570.3]\n",
      "!!! pred_type filter\n"
     ]
    },
    {
     "name": "stderr",
     "output_type": "stream",
     "text": [
      "  6%|███████▋                                                                                                                 | 16/250 [00:00<00:12, 18.04it/s]"
     ]
    },
    {
     "name": "stdout",
     "output_type": "stream",
     "text": [
      "--- Validation --- [threshold, AUC, Accuracy, F score] =  [np.float64(0.703), np.float64(0.99), np.float64(0.96), np.float64(0.97)]\n",
      "--- Training --- [threshold, AUC] =  [np.float64(0.696), np.float64(0.991)]\n",
      "--- Iteration 20: Training loss --- [Data, Label, Total] = [40735.515441.3, 187.070791.3, 203864.647995.3]\n",
      "!!! pred_type filter\n"
     ]
    },
    {
     "name": "stderr",
     "output_type": "stream",
     "text": [
      " 11%|█████████████                                                                                                            | 27/250 [00:01<00:12, 17.32it/s]"
     ]
    },
    {
     "name": "stdout",
     "output_type": "stream",
     "text": [
      "--- Validation --- [threshold, AUC, Accuracy, F score] =  [np.float64(0.696), np.float64(0.991), np.float64(0.964), np.float64(0.973)]\n",
      "--- Training --- [threshold, AUC] =  [np.float64(0.634), np.float64(0.992)]\n",
      "--- Iteration 30: Training loss --- [Data, Label, Total] = [39324.823391.3, 183.789033.3, 196807.905986.3]\n",
      "!!! pred_type filter\n"
     ]
    },
    {
     "name": "stderr",
     "output_type": "stream",
     "text": [
      " 15%|█████████████████▉                                                                                                       | 37/250 [00:02<00:12, 16.78it/s]"
     ]
    },
    {
     "name": "stdout",
     "output_type": "stream",
     "text": [
      "--- Validation --- [threshold, AUC, Accuracy, F score] =  [np.float64(0.634), np.float64(0.992), np.float64(0.967), np.float64(0.975)]\n",
      "--- Training --- [threshold, AUC] =  [np.float64(0.636), np.float64(0.992)]\n",
      "--- Iteration 40: Training loss --- [Data, Label, Total] = [38544.935801.3, 181.687586.3, 192906.366589.3]\n",
      "!!! pred_type filter\n"
     ]
    },
    {
     "name": "stderr",
     "output_type": "stream",
     "text": [
      " 18%|██████████████████████▎                                                                                                  | 46/250 [00:03<00:12, 15.89it/s]"
     ]
    },
    {
     "name": "stdout",
     "output_type": "stream",
     "text": [
      "--- Validation --- [threshold, AUC, Accuracy, F score] =  [np.float64(0.636), np.float64(0.992), np.float64(0.968), np.float64(0.976)]\n",
      "--- Training --- [threshold, AUC] =  [np.float64(0.645), np.float64(0.992)]\n",
      "--- Iteration 50: Training loss --- [Data, Label, Total] = [38024.726514.3, 180.921078.3, 190304.553648.3]\n",
      "!!! pred_type filter\n"
     ]
    },
    {
     "name": "stderr",
     "output_type": "stream",
     "text": [
      " 22%|███████████████████████████                                                                                              | 56/250 [00:03<00:12, 16.03it/s]"
     ]
    },
    {
     "name": "stdout",
     "output_type": "stream",
     "text": [
      "--- Validation --- [threshold, AUC, Accuracy, F score] =  [np.float64(0.645), np.float64(0.992), np.float64(0.968), np.float64(0.976)]\n"
     ]
    },
    {
     "name": "stderr",
     "output_type": "stream",
     "text": [
      " 24%|█████████████████████████████                                                                                            | 60/250 [00:03<00:10, 18.99it/s]"
     ]
    },
    {
     "name": "stdout",
     "output_type": "stream",
     "text": [
      "--- Training --- [threshold, AUC] =  [np.float64(0.641), np.float64(0.992)]\n",
      "--- Iteration 60: Training loss --- [Data, Label, Total] = [37640.098542.3, 180.430965.3, 188380.923677.3]\n",
      "!!! pred_type filter\n"
     ]
    },
    {
     "name": "stderr",
     "output_type": "stream",
     "text": [
      " 28%|█████████████████████████████████▉                                                                                       | 70/250 [00:04<00:10, 17.50it/s]"
     ]
    },
    {
     "name": "stdout",
     "output_type": "stream",
     "text": [
      "--- Validation --- [threshold, AUC, Accuracy, F score] =  [np.float64(0.641), np.float64(0.992), np.float64(0.967), np.float64(0.975)]\n",
      "--- Training --- [threshold, AUC] =  [np.float64(0.676), np.float64(0.992)]\n",
      "--- Iteration 70: Training loss --- [Data, Label, Total] = [37337.278030.3, 180.298330.3, 186866.688481.3]\n",
      "!!! pred_type filter\n"
     ]
    },
    {
     "name": "stderr",
     "output_type": "stream",
     "text": [
      " 32%|██████████████████████████████████████▋                                                                                  | 80/250 [00:05<00:10, 16.79it/s]"
     ]
    },
    {
     "name": "stdout",
     "output_type": "stream",
     "text": [
      "--- Validation --- [threshold, AUC, Accuracy, F score] =  [np.float64(0.676), np.float64(0.992), np.float64(0.965), np.float64(0.974)]\n",
      "--- Training --- [threshold, AUC] =  [np.float64(0.754), np.float64(0.992)]\n",
      "--- Iteration 80: Training loss --- [Data, Label, Total] = [37093.179966.3, 180.295539.3, 185646.195371.3]\n",
      "!!! pred_type filter\n"
     ]
    },
    {
     "name": "stderr",
     "output_type": "stream",
     "text": [
      " 36%|███████████████████████████████████████████▌                                                                             | 90/250 [00:05<00:09, 17.20it/s]"
     ]
    },
    {
     "name": "stdout",
     "output_type": "stream",
     "text": [
      "--- Validation --- [threshold, AUC, Accuracy, F score] =  [np.float64(0.754), np.float64(0.992), np.float64(0.961), np.float64(0.97)]\n",
      "--- Training --- [threshold, AUC] =  [np.float64(0.771), np.float64(0.992)]\n",
      "--- Iteration 90: Training loss --- [Data, Label, Total] = [36897.816253.3, 180.796420.3, 184669.877687.3]\n",
      "!!! pred_type filter\n"
     ]
    },
    {
     "name": "stderr",
     "output_type": "stream",
     "text": [
      " 40%|███████████████████████████████████████████████▉                                                                         | 99/250 [00:06<00:09, 16.67it/s]"
     ]
    },
    {
     "name": "stdout",
     "output_type": "stream",
     "text": [
      "--- Validation --- [threshold, AUC, Accuracy, F score] =  [np.float64(0.771), np.float64(0.992), np.float64(0.96), np.float64(0.969)]\n",
      "--- Training --- [threshold, AUC] =  [np.float64(0.71), np.float64(0.992)]\n",
      "--- Iteration 100: Training loss --- [Data, Label, Total] = [36742.616174.3, 181.521553.3, 183894.602424.3]\n",
      "!!! pred_type filter\n"
     ]
    },
    {
     "name": "stderr",
     "output_type": "stream",
     "text": [
      " 44%|████████████████████████████████████████████████████▎                                                                   | 109/250 [00:07<00:08, 17.38it/s]"
     ]
    },
    {
     "name": "stdout",
     "output_type": "stream",
     "text": [
      "--- Validation --- [threshold, AUC, Accuracy, F score] =  [np.float64(0.71), np.float64(0.992), np.float64(0.963), np.float64(0.972)]\n",
      "--- Training --- [threshold, AUC] =  [np.float64(0.73), np.float64(0.992)]\n",
      "--- Iteration 110: Training loss --- [Data, Label, Total] = [36618.916349.3, 181.977939.3, 183276.559682.3]\n",
      "!!! pred_type filter\n"
     ]
    },
    {
     "name": "stderr",
     "output_type": "stream",
     "text": [
      " 48%|█████████████████████████████████████████████████████████                                                               | 119/250 [00:07<00:07, 17.72it/s]"
     ]
    },
    {
     "name": "stdout",
     "output_type": "stream",
     "text": [
      "--- Validation --- [threshold, AUC, Accuracy, F score] =  [np.float64(0.73), np.float64(0.992), np.float64(0.963), np.float64(0.972)]\n",
      "--- Training --- [threshold, AUC] =  [np.float64(0.728), np.float64(0.992)]\n",
      "--- Iteration 120: Training loss --- [Data, Label, Total] = [36515.691049.3, 182.512182.3, 182760.967425.3]\n",
      "!!! pred_type filter\n"
     ]
    },
    {
     "name": "stderr",
     "output_type": "stream",
     "text": [
      " 51%|█████████████████████████████████████████████████████████████▍                                                          | 128/250 [00:08<00:07, 17.10it/s]"
     ]
    },
    {
     "name": "stdout",
     "output_type": "stream",
     "text": [
      "--- Validation --- [threshold, AUC, Accuracy, F score] =  [np.float64(0.728), np.float64(0.992), np.float64(0.963), np.float64(0.972)]\n",
      "--- Training --- [threshold, AUC] =  [np.float64(0.727), np.float64(0.992)]\n",
      "--- Iteration 130: Training loss --- [Data, Label, Total] = [36426.233047.3, 182.957365.3, 182314.122601.3]\n",
      "!!! pred_type filter\n"
     ]
    },
    {
     "name": "stderr",
     "output_type": "stream",
     "text": [
      " 55%|█████████████████████████████████████████████████████████████████▊                                                      | 137/250 [00:09<00:07, 15.88it/s]"
     ]
    },
    {
     "name": "stdout",
     "output_type": "stream",
     "text": [
      "--- Validation --- [threshold, AUC, Accuracy, F score] =  [np.float64(0.727), np.float64(0.992), np.float64(0.962), np.float64(0.971)]\n",
      "--- Training --- [threshold, AUC] =  [np.float64(0.737), np.float64(0.992)]\n",
      "--- Iteration 140: Training loss --- [Data, Label, Total] = [36346.405998.3, 183.538309.3, 181915.568297.3]\n",
      "!!! pred_type filter\n"
     ]
    },
    {
     "name": "stderr",
     "output_type": "stream",
     "text": [
      " 58%|██████████████████████████████████████████████████████████████████████                                                  | 146/250 [00:09<00:06, 15.99it/s]"
     ]
    },
    {
     "name": "stdout",
     "output_type": "stream",
     "text": [
      "--- Validation --- [threshold, AUC, Accuracy, F score] =  [np.float64(0.737), np.float64(0.992), np.float64(0.962), np.float64(0.971)]\n",
      "--- Training --- [threshold, AUC] =  [np.float64(0.736), np.float64(0.992)]\n",
      "--- Iteration 150: Training loss --- [Data, Label, Total] = [36274.476971.3, 183.823384.3, 181556.208240.3]\n",
      "!!! pred_type filter\n"
     ]
    },
    {
     "name": "stderr",
     "output_type": "stream",
     "text": [
      " 63%|███████████████████████████████████████████████████████████████████████████▎                                            | 157/250 [00:10<00:05, 17.69it/s]"
     ]
    },
    {
     "name": "stdout",
     "output_type": "stream",
     "text": [
      "--- Validation --- [threshold, AUC, Accuracy, F score] =  [np.float64(0.736), np.float64(0.992), np.float64(0.962), np.float64(0.971)]\n",
      "--- Training --- [threshold, AUC] =  [np.float64(0.737), np.float64(0.992)]\n",
      "--- Iteration 160: Training loss --- [Data, Label, Total] = [36209.724176.3, 184.283663.3, 181232.904545.3]\n",
      "!!! pred_type filter\n"
     ]
    },
    {
     "name": "stderr",
     "output_type": "stream",
     "text": [
      " 67%|████████████████████████████████████████████████████████████████████████████████▏                                       | 167/250 [00:11<00:04, 17.92it/s]"
     ]
    },
    {
     "name": "stdout",
     "output_type": "stream",
     "text": [
      "--- Validation --- [threshold, AUC, Accuracy, F score] =  [np.float64(0.737), np.float64(0.992), np.float64(0.962), np.float64(0.971)]\n",
      "--- Training --- [threshold, AUC] =  [np.float64(0.742), np.float64(0.992)]\n",
      "--- Iteration 170: Training loss --- [Data, Label, Total] = [36151.427311.3, 184.776087.3, 180941.912644.3]\n",
      "!!! pred_type filter\n"
     ]
    },
    {
     "name": "stderr",
     "output_type": "stream",
     "text": [
      " 70%|████████████████████████████████████████████████████████████████████████████████████▍                                   | 176/250 [00:11<00:04, 17.59it/s]"
     ]
    },
    {
     "name": "stdout",
     "output_type": "stream",
     "text": [
      "--- Validation --- [threshold, AUC, Accuracy, F score] =  [np.float64(0.742), np.float64(0.992), np.float64(0.961), np.float64(0.97)]\n",
      "--- Training --- [threshold, AUC] =  [np.float64(0.737), np.float64(0.992)]\n",
      "--- Iteration 180: Training loss --- [Data, Label, Total] = [36099.479880.3, 184.853606.3, 180682.253008.3]\n",
      "!!! pred_type filter\n"
     ]
    },
    {
     "name": "stderr",
     "output_type": "stream",
     "text": [
      " 75%|█████████████████████████████████████████████████████████████████████████████████████████▊                              | 187/250 [00:12<00:03, 18.84it/s]"
     ]
    },
    {
     "name": "stdout",
     "output_type": "stream",
     "text": [
      "--- Validation --- [threshold, AUC, Accuracy, F score] =  [np.float64(0.737), np.float64(0.992), np.float64(0.961), np.float64(0.97)]\n",
      "--- Training --- [threshold, AUC] =  [np.float64(0.728), np.float64(0.992)]\n",
      "--- Iteration 190: Training loss --- [Data, Label, Total] = [36053.540502.3, 184.992981.3, 180452.695492.3]\n",
      "!!! pred_type filter\n"
     ]
    },
    {
     "name": "stderr",
     "output_type": "stream",
     "text": [
      " 79%|██████████████████████████████████████████████████████████████████████████████████████████████▌                         | 197/250 [00:13<00:02, 18.91it/s]"
     ]
    },
    {
     "name": "stdout",
     "output_type": "stream",
     "text": [
      "--- Validation --- [threshold, AUC, Accuracy, F score] =  [np.float64(0.728), np.float64(0.992), np.float64(0.962), np.float64(0.971)]\n",
      "--- Training --- [threshold, AUC] =  [np.float64(0.727), np.float64(0.992)]\n",
      "--- Iteration 200: Training loss --- [Data, Label, Total] = [36012.913261.3, 185.090341.3, 180249.656644.3]\n",
      "!!! pred_type filter\n"
     ]
    },
    {
     "name": "stderr",
     "output_type": "stream",
     "text": [
      " 83%|███████████████████████████████████████████████████████████████████████████████████████████████████▎                    | 207/250 [00:13<00:02, 18.90it/s]"
     ]
    },
    {
     "name": "stdout",
     "output_type": "stream",
     "text": [
      "--- Validation --- [threshold, AUC, Accuracy, F score] =  [np.float64(0.727), np.float64(0.992), np.float64(0.962), np.float64(0.971)]\n",
      "--- Training --- [threshold, AUC] =  [np.float64(0.724), np.float64(0.992)]\n",
      "--- Iteration 210: Training loss --- [Data, Label, Total] = [35976.807929.3, 184.954719.3, 180068.994364.3]\n",
      "!!! pred_type filter\n"
     ]
    },
    {
     "name": "stderr",
     "output_type": "stream",
     "text": [
      " 86%|███████████████████████████████████████████████████████████████████████████████████████████████████████▋                | 216/250 [00:14<00:02, 16.37it/s]"
     ]
    },
    {
     "name": "stdout",
     "output_type": "stream",
     "text": [
      "--- Validation --- [threshold, AUC, Accuracy, F score] =  [np.float64(0.724), np.float64(0.992), np.float64(0.962), np.float64(0.971)]\n",
      "--- Training --- [threshold, AUC] =  [np.float64(0.724), np.float64(0.992)]\n",
      "--- Iteration 220: Training loss --- [Data, Label, Total] = [35944.843700.3, 184.994015.3, 179909.212514.3]\n",
      "!!! pred_type filter\n"
     ]
    },
    {
     "name": "stderr",
     "output_type": "stream",
     "text": [
      " 90%|████████████████████████████████████████████████████████████████████████████████████████████████████████████▍           | 226/250 [00:15<00:01, 16.34it/s]"
     ]
    },
    {
     "name": "stdout",
     "output_type": "stream",
     "text": [
      "--- Validation --- [threshold, AUC, Accuracy, F score] =  [np.float64(0.724), np.float64(0.992), np.float64(0.962), np.float64(0.971)]\n",
      "--- Training --- [threshold, AUC] =  [np.float64(0.724), np.float64(0.992)]\n",
      "--- Iteration 230: Training loss --- [Data, Label, Total] = [35916.687473.3, 184.694474.3, 179768.131841.3]\n",
      "!!! pred_type filter\n"
     ]
    },
    {
     "name": "stderr",
     "output_type": "stream",
     "text": [
      " 94%|█████████████████████████████████████████████████████████████████████████████████████████████████████████████████▎      | 236/250 [00:15<00:00, 15.43it/s]"
     ]
    },
    {
     "name": "stdout",
     "output_type": "stream",
     "text": [
      "--- Validation --- [threshold, AUC, Accuracy, F score] =  [np.float64(0.724), np.float64(0.992), np.float64(0.962), np.float64(0.971)]\n",
      "--- Training --- [threshold, AUC] =  [np.float64(0.725), np.float64(0.992)]\n",
      "--- Iteration 240: Training loss --- [Data, Label, Total] = [35892.166001.3, 184.351918.3, 179645.181922.3]\n",
      "!!! pred_type filter\n"
     ]
    },
    {
     "name": "stderr",
     "output_type": "stream",
     "text": [
      "100%|████████████████████████████████████████████████████████████████████████████████████████████████████████████████████████| 250/250 [00:16<00:00, 15.03it/s]"
     ]
    },
    {
     "name": "stdout",
     "output_type": "stream",
     "text": [
      "--- Validation --- [threshold, AUC, Accuracy, F score] =  [np.float64(0.725), np.float64(0.992), np.float64(0.961), np.float64(0.97)]\n",
      "!!! pred_type filter\n"
     ]
    },
    {
     "name": "stderr",
     "output_type": "stream",
     "text": [
      "\n"
     ]
    },
    {
     "name": "stdout",
     "output_type": "stream",
     "text": [
      "num of subgraphs induced on k-paths: 500\n",
      "num of subgraphs induced on k-paths: 500\n",
      "X_list: (484, 1000)\n",
      "2\n",
      "(1, 500)\n",
      "(1, 500)\n",
      "label_vec: (1, 1000)\n",
      "num of subgraphs induced on k-paths: 500\n",
      "num of subgraphs induced on k-paths: 500\n",
      "X_list: (484, 1000)\n",
      "2\n",
      "(1, 500)\n",
      "(1, 500)\n",
      "label_vec: (1, 1000)\n",
      "num of subgraphs induced on k-paths: 500\n",
      "num of subgraphs induced on k-paths: 500\n",
      "X_list: (484, 1000)\n",
      "2\n",
      "(1, 500)\n",
      "(1, 500)\n",
      "label_vec: (1, 1000)\n",
      "num of subgraphs induced on k-paths: 500\n",
      "num of subgraphs induced on k-paths: 500\n",
      "X_list: (484, 1000)\n",
      "2\n",
      "(1, 500)\n",
      "(1, 500)\n",
      "label_vec: (1, 1000)\n",
      "23\n",
      "num of subgraphs induced on k-paths: 500\n",
      "num of subgraphs induced on k-paths: 500\n",
      "X_list: (529, 1000)\n",
      "2\n",
      "(1, 500)\n",
      "(1, 500)\n",
      "label_vec: (1, 1000)\n",
      "num of subgraphs induced on k-paths: 500\n",
      "num of subgraphs induced on k-paths: 1033\n",
      "X_list: (529, 1533)\n",
      "2\n",
      "(1, 500)\n",
      "(1, 1033)\n",
      "label_vec: (1, 1533)\n",
      "initial loading beta [[ 0.60067724  0.3205303   0.84464858 -0.07975481  0.75393157 -0.88046029\n",
      "  -0.02412221 -0.72718833 -0.39192264 -0.14441299  0.96968355 -0.95778156\n",
      "   0.48347354 -0.80965566 -0.7890936   0.15725959  0.28528535]]\n"
     ]
    },
    {
     "name": "stderr",
     "output_type": "stream",
     "text": [
      "  0%|                                                                                                                                  | 0/250 [00:00<?, ?it/s]"
     ]
    },
    {
     "name": "stdout",
     "output_type": "stream",
     "text": [
      "--- Training --- [threshold, AUC] =  [np.float64(0.67), np.float64(0.993)]\n",
      "--- Iteration 0: Training loss --- [Data, Label, Total] = [71507.526388.3, 173.642951.3, 357711.274893.3]\n"
     ]
    },
    {
     "name": "stderr",
     "output_type": "stream",
     "text": [
      "  3%|███▉                                                                                                                      | 8/250 [00:00<00:06, 35.14it/s]"
     ]
    },
    {
     "name": "stdout",
     "output_type": "stream",
     "text": [
      "--- Training --- [threshold, AUC] =  [np.float64(0.816), np.float64(0.994)]\n",
      "--- Iteration 10: Training loss --- [Data, Label, Total] = [46313.805760.3, 151.976193.3, 231721.004993.3]\n",
      "!!! pred_type filter\n"
     ]
    },
    {
     "name": "stderr",
     "output_type": "stream",
     "text": [
      "  6%|███████▋                                                                                                                 | 16/250 [00:01<00:16, 13.81it/s]"
     ]
    },
    {
     "name": "stdout",
     "output_type": "stream",
     "text": [
      "--- Validation --- [threshold, AUC, Accuracy, F score] =  [np.float64(0.816), np.float64(0.994), np.float64(0.956), np.float64(0.967)]\n"
     ]
    },
    {
     "name": "stderr",
     "output_type": "stream",
     "text": [
      "  8%|█████████▏                                                                                                               | 19/250 [00:01<00:15, 14.76it/s]"
     ]
    },
    {
     "name": "stdout",
     "output_type": "stream",
     "text": [
      "--- Training --- [threshold, AUC] =  [np.float64(0.548), np.float64(0.995)]\n",
      "--- Iteration 20: Training loss --- [Data, Label, Total] = [43634.416550.3, 144.525007.3, 218316.607755.3]\n",
      "!!! pred_type filter\n"
     ]
    },
    {
     "name": "stderr",
     "output_type": "stream",
     "text": [
      " 11%|█████████████                                                                                                            | 27/250 [00:02<00:17, 12.58it/s]"
     ]
    },
    {
     "name": "stdout",
     "output_type": "stream",
     "text": [
      "--- Validation --- [threshold, AUC, Accuracy, F score] =  [np.float64(0.548), np.float64(0.995), np.float64(0.972), np.float64(0.979)]\n",
      "--- Training --- [threshold, AUC] =  [np.float64(0.631), np.float64(0.995)]\n",
      "--- Iteration 30: Training loss --- [Data, Label, Total] = [42265.458443.3, 143.085151.3, 211470.377366.3]\n",
      "!!! pred_type filter\n"
     ]
    },
    {
     "name": "stderr",
     "output_type": "stream",
     "text": [
      " 14%|█████████████████▍                                                                                                       | 36/250 [00:02<00:15, 13.93it/s]"
     ]
    },
    {
     "name": "stdout",
     "output_type": "stream",
     "text": [
      "--- Validation --- [threshold, AUC, Accuracy, F score] =  [np.float64(0.631), np.float64(0.995), np.float64(0.971), np.float64(0.978)]\n",
      "--- Training --- [threshold, AUC] =  [np.float64(0.63), np.float64(0.995)]\n",
      "--- Iteration 40: Training loss --- [Data, Label, Total] = [41576.575615.3, 141.907020.3, 208024.785097.3]\n",
      "!!! pred_type filter\n"
     ]
    },
    {
     "name": "stderr",
     "output_type": "stream",
     "text": [
      " 18%|█████████████████████▊                                                                                                   | 45/250 [00:03<00:14, 14.41it/s]"
     ]
    },
    {
     "name": "stdout",
     "output_type": "stream",
     "text": [
      "--- Validation --- [threshold, AUC, Accuracy, F score] =  [np.float64(0.63), np.float64(0.995), np.float64(0.973), np.float64(0.98)]\n"
     ]
    },
    {
     "name": "stderr",
     "output_type": "stream",
     "text": [
      " 20%|████████████████████████▏                                                                                                | 50/250 [00:03<00:10, 18.65it/s]"
     ]
    },
    {
     "name": "stdout",
     "output_type": "stream",
     "text": [
      "--- Training --- [threshold, AUC] =  [np.float64(0.723), np.float64(0.995)]\n",
      "--- Iteration 50: Training loss --- [Data, Label, Total] = [41141.979928.3, 140.646652.3, 205850.546291.3]\n",
      "!!! pred_type filter\n"
     ]
    },
    {
     "name": "stderr",
     "output_type": "stream",
     "text": [
      " 22%|██████████████████████████▏                                                                                              | 54/250 [00:04<00:15, 12.60it/s]"
     ]
    },
    {
     "name": "stdout",
     "output_type": "stream",
     "text": [
      "--- Validation --- [threshold, AUC, Accuracy, F score] =  [np.float64(0.723), np.float64(0.995), np.float64(0.969), np.float64(0.977)]\n"
     ]
    },
    {
     "name": "stderr",
     "output_type": "stream",
     "text": [
      " 23%|████████████████████████████                                                                                             | 58/250 [00:04<00:12, 15.17it/s]"
     ]
    },
    {
     "name": "stdout",
     "output_type": "stream",
     "text": [
      "--- Training --- [threshold, AUC] =  [np.float64(0.73), np.float64(0.995)]\n",
      "--- Iteration 60: Training loss --- [Data, Label, Total] = [40822.471208.3, 139.947306.3, 204252.303348.3]\n",
      "!!! pred_type filter\n"
     ]
    },
    {
     "name": "stderr",
     "output_type": "stream",
     "text": [
      " 26%|██████████████████████████████▉                                                                                          | 64/250 [00:05<00:17, 10.53it/s]"
     ]
    },
    {
     "name": "stdout",
     "output_type": "stream",
     "text": [
      "--- Validation --- [threshold, AUC, Accuracy, F score] =  [np.float64(0.73), np.float64(0.995), np.float64(0.97), np.float64(0.978)]\n"
     ]
    },
    {
     "name": "stderr",
     "output_type": "stream",
     "text": [
      " 27%|████████████████████████████████▉                                                                                        | 68/250 [00:05<00:13, 13.72it/s]"
     ]
    },
    {
     "name": "stdout",
     "output_type": "stream",
     "text": [
      "--- Training --- [threshold, AUC] =  [np.float64(0.724), np.float64(0.996)]\n",
      "--- Iteration 70: Training loss --- [Data, Label, Total] = [40572.848686.3, 139.387554.3, 203003.630984.3]\n",
      "!!! pred_type filter\n"
     ]
    },
    {
     "name": "stderr",
     "output_type": "stream",
     "text": [
      " 30%|███████████████████████████████████▊                                                                                     | 74/250 [00:06<00:17, 10.16it/s]"
     ]
    },
    {
     "name": "stdout",
     "output_type": "stream",
     "text": [
      "--- Validation --- [threshold, AUC, Accuracy, F score] =  [np.float64(0.724), np.float64(0.996), np.float64(0.972), np.float64(0.979)]\n"
     ]
    },
    {
     "name": "stderr",
     "output_type": "stream",
     "text": [
      " 31%|█████████████████████████████████████▊                                                                                   | 78/250 [00:06<00:12, 13.53it/s]"
     ]
    },
    {
     "name": "stdout",
     "output_type": "stream",
     "text": [
      "--- Training --- [threshold, AUC] =  [np.float64(0.701), np.float64(0.996)]\n",
      "--- Iteration 80: Training loss --- [Data, Label, Total] = [40367.301249.3, 138.771744.3, 201975.277988.3]\n",
      "!!! pred_type filter\n"
     ]
    },
    {
     "name": "stderr",
     "output_type": "stream",
     "text": [
      " 34%|████████████████████████████████████████▋                                                                                | 84/250 [00:07<00:15, 10.49it/s]"
     ]
    },
    {
     "name": "stdout",
     "output_type": "stream",
     "text": [
      "--- Validation --- [threshold, AUC, Accuracy, F score] =  [np.float64(0.701), np.float64(0.996), np.float64(0.974), np.float64(0.981)]\n"
     ]
    },
    {
     "name": "stderr",
     "output_type": "stream",
     "text": [
      " 35%|██████████████████████████████████████████                                                                               | 87/250 [00:07<00:12, 12.84it/s]"
     ]
    },
    {
     "name": "stdout",
     "output_type": "stream",
     "text": [
      "--- Training --- [threshold, AUC] =  [np.float64(0.689), np.float64(0.996)]\n",
      "--- Iteration 90: Training loss --- [Data, Label, Total] = [40185.121925.3, 138.209656.3, 201063.819279.3]\n",
      "!!! pred_type filter\n"
     ]
    },
    {
     "name": "stderr",
     "output_type": "stream",
     "text": [
      " 38%|██████████████████████████████████████████████▍                                                                          | 96/250 [00:07<00:11, 13.53it/s]"
     ]
    },
    {
     "name": "stdout",
     "output_type": "stream",
     "text": [
      "--- Validation --- [threshold, AUC, Accuracy, F score] =  [np.float64(0.689), np.float64(0.996), np.float64(0.975), np.float64(0.982)]\n"
     ]
    },
    {
     "name": "stderr",
     "output_type": "stream",
     "text": [
      " 40%|████████████████████████████████████████████████                                                                        | 100/250 [00:08<00:08, 16.77it/s]"
     ]
    },
    {
     "name": "stdout",
     "output_type": "stream",
     "text": [
      "--- Training --- [threshold, AUC] =  [np.float64(0.746), np.float64(0.996)]\n",
      "--- Iteration 100: Training loss --- [Data, Label, Total] = [40020.681220.3, 137.836439.3, 200241.242541.3]\n",
      "!!! pred_type filter\n"
     ]
    },
    {
     "name": "stderr",
     "output_type": "stream",
     "text": [
      " 43%|███████████████████████████████████████████████████▎                                                                    | 107/250 [00:08<00:09, 14.66it/s]"
     ]
    },
    {
     "name": "stdout",
     "output_type": "stream",
     "text": [
      "--- Validation --- [threshold, AUC, Accuracy, F score] =  [np.float64(0.746), np.float64(0.996), np.float64(0.973), np.float64(0.979)]\n",
      "--- Training --- [threshold, AUC] =  [np.float64(0.672), np.float64(0.996)]\n",
      "--- Iteration 110: Training loss --- [Data, Label, Total] = [39869.317721.3, 137.429903.3, 199484.018510.3]\n",
      "!!! pred_type filter\n"
     ]
    },
    {
     "name": "stderr",
     "output_type": "stream",
     "text": [
      " 46%|███████████████████████████████████████████████████████▏                                                                | 115/250 [00:09<00:09, 13.57it/s]"
     ]
    },
    {
     "name": "stdout",
     "output_type": "stream",
     "text": [
      "--- Validation --- [threshold, AUC, Accuracy, F score] =  [np.float64(0.672), np.float64(0.996), np.float64(0.977), np.float64(0.983)]\n"
     ]
    },
    {
     "name": "stderr",
     "output_type": "stream",
     "text": [
      " 48%|█████████████████████████████████████████████████████████                                                               | 119/250 [00:09<00:07, 16.95it/s]"
     ]
    },
    {
     "name": "stdout",
     "output_type": "stream",
     "text": [
      "--- Training --- [threshold, AUC] =  [np.float64(0.668), np.float64(0.996)]\n",
      "--- Iteration 120: Training loss --- [Data, Label, Total] = [39732.159251.3, 137.350810.3, 198798.147064.3]\n",
      "!!! pred_type filter\n"
     ]
    },
    {
     "name": "stderr",
     "output_type": "stream",
     "text": [
      " 51%|████████████████████████████████████████████████████████████▉                                                           | 127/250 [00:10<00:07, 15.96it/s]"
     ]
    },
    {
     "name": "stdout",
     "output_type": "stream",
     "text": [
      "--- Validation --- [threshold, AUC, Accuracy, F score] =  [np.float64(0.668), np.float64(0.996), np.float64(0.977), np.float64(0.983)]\n",
      "--- Training --- [threshold, AUC] =  [np.float64(0.658), np.float64(0.996)]\n",
      "--- Iteration 130: Training loss --- [Data, Label, Total] = [39612.107756.3, 137.147646.3, 198197.686426.3]\n",
      "!!! pred_type filter\n"
     ]
    },
    {
     "name": "stderr",
     "output_type": "stream",
     "text": [
      " 54%|█████████████████████████████████████████████████████████████████▎                                                      | 136/250 [00:10<00:07, 16.07it/s]"
     ]
    },
    {
     "name": "stdout",
     "output_type": "stream",
     "text": [
      "--- Validation --- [threshold, AUC, Accuracy, F score] =  [np.float64(0.658), np.float64(0.996), np.float64(0.977), np.float64(0.983)]\n",
      "--- Training --- [threshold, AUC] =  [np.float64(0.655), np.float64(0.996)]\n",
      "--- Iteration 140: Training loss --- [Data, Label, Total] = [39510.030198.3, 136.950897.3, 197687.101886.3]\n",
      "!!! pred_type filter\n"
     ]
    },
    {
     "name": "stderr",
     "output_type": "stream",
     "text": [
      " 58%|█████████████████████████████████████████████████████████████████████▌                                                  | 145/250 [00:11<00:07, 14.74it/s]"
     ]
    },
    {
     "name": "stdout",
     "output_type": "stream",
     "text": [
      "--- Validation --- [threshold, AUC, Accuracy, F score] =  [np.float64(0.655), np.float64(0.996), np.float64(0.978), np.float64(0.983)]\n"
     ]
    },
    {
     "name": "stderr",
     "output_type": "stream",
     "text": [
      " 60%|████████████████████████████████████████████████████████████████████████                                                | 150/250 [00:11<00:05, 18.81it/s]"
     ]
    },
    {
     "name": "stdout",
     "output_type": "stream",
     "text": [
      "--- Training --- [threshold, AUC] =  [np.float64(0.658), np.float64(0.996)]\n",
      "--- Iteration 150: Training loss --- [Data, Label, Total] = [39424.949285.3, 136.763673.3, 197261.510098.3]\n",
      "!!! pred_type filter\n"
     ]
    },
    {
     "name": "stderr",
     "output_type": "stream",
     "text": [
      " 64%|████████████████████████████████████████████████████████████████████████████▎                                           | 159/250 [00:12<00:05, 17.21it/s]"
     ]
    },
    {
     "name": "stdout",
     "output_type": "stream",
     "text": [
      "--- Validation --- [threshold, AUC, Accuracy, F score] =  [np.float64(0.658), np.float64(0.996), np.float64(0.978), np.float64(0.983)]\n",
      "--- Training --- [threshold, AUC] =  [np.float64(0.657), np.float64(0.996)]\n",
      "--- Iteration 160: Training loss --- [Data, Label, Total] = [39353.571889.3, 136.282678.3, 196904.142122.3]\n",
      "!!! pred_type filter\n"
     ]
    },
    {
     "name": "stderr",
     "output_type": "stream",
     "text": [
      " 67%|████████████████████████████████████████████████████████████████████████████████▏                                       | 167/250 [00:13<00:05, 15.03it/s]"
     ]
    },
    {
     "name": "stdout",
     "output_type": "stream",
     "text": [
      "--- Validation --- [threshold, AUC, Accuracy, F score] =  [np.float64(0.657), np.float64(0.996), np.float64(0.978), np.float64(0.984)]\n",
      "--- Training --- [threshold, AUC] =  [np.float64(0.655), np.float64(0.996)]\n",
      "--- Iteration 170: Training loss --- [Data, Label, Total] = [39292.300576.3, 135.983732.3, 196597.486610.3]\n",
      "!!! pred_type filter\n"
     ]
    },
    {
     "name": "stderr",
     "output_type": "stream",
     "text": [
      " 70%|████████████████████████████████████████████████████████████████████████████████████                                    | 175/250 [00:13<00:05, 12.97it/s]"
     ]
    },
    {
     "name": "stdout",
     "output_type": "stream",
     "text": [
      "--- Validation --- [threshold, AUC, Accuracy, F score] =  [np.float64(0.655), np.float64(0.996), np.float64(0.978), np.float64(0.984)]\n"
     ]
    },
    {
     "name": "stderr",
     "output_type": "stream",
     "text": [
      " 72%|█████████████████████████████████████████████████████████████████████████████████████▉                                  | 179/250 [00:13<00:04, 15.89it/s]"
     ]
    },
    {
     "name": "stdout",
     "output_type": "stream",
     "text": [
      "--- Training --- [threshold, AUC] =  [np.float64(0.711), np.float64(0.996)]\n",
      "--- Iteration 180: Training loss --- [Data, Label, Total] = [39237.806065.3, 135.817559.3, 196324.847882.3]\n",
      "!!! pred_type filter\n"
     ]
    },
    {
     "name": "stderr",
     "output_type": "stream",
     "text": [
      " 74%|█████████████████████████████████████████████████████████████████████████████████████████▎                              | 186/250 [00:14<00:05, 12.20it/s]"
     ]
    },
    {
     "name": "stdout",
     "output_type": "stream",
     "text": [
      "--- Validation --- [threshold, AUC, Accuracy, F score] =  [np.float64(0.711), np.float64(0.996), np.float64(0.976), np.float64(0.982)]\n"
     ]
    },
    {
     "name": "stderr",
     "output_type": "stream",
     "text": [
      " 76%|███████████████████████████████████████████████████████████████████████████████████████████▏                            | 190/250 [00:14<00:03, 15.48it/s]"
     ]
    },
    {
     "name": "stdout",
     "output_type": "stream",
     "text": [
      "--- Training --- [threshold, AUC] =  [np.float64(0.684), np.float64(0.996)]\n",
      "--- Iteration 190: Training loss --- [Data, Label, Total] = [39188.175003.3, 135.333944.3, 196076.208958.3]\n",
      "!!! pred_type filter\n"
     ]
    },
    {
     "name": "stderr",
     "output_type": "stream",
     "text": [
      " 78%|█████████████████████████████████████████████████████████████████████████████████████████████                           | 194/250 [00:15<00:05, 10.59it/s]"
     ]
    },
    {
     "name": "stdout",
     "output_type": "stream",
     "text": [
      "--- Validation --- [threshold, AUC, Accuracy, F score] =  [np.float64(0.684), np.float64(0.996), np.float64(0.977), np.float64(0.983)]\n"
     ]
    },
    {
     "name": "stderr",
     "output_type": "stream",
     "text": [
      " 79%|███████████████████████████████████████████████████████████████████████████████████████████████                         | 198/250 [00:15<00:03, 13.22it/s]"
     ]
    },
    {
     "name": "stdout",
     "output_type": "stream",
     "text": [
      "--- Training --- [threshold, AUC] =  [np.float64(0.694), np.float64(0.996)]\n",
      "--- Iteration 200: Training loss --- [Data, Label, Total] = [39142.426310.3, 135.001023.3, 195847.132572.3]\n",
      "!!! pred_type filter\n"
     ]
    },
    {
     "name": "stderr",
     "output_type": "stream",
     "text": [
      " 82%|██████████████████████████████████████████████████████████████████████████████████████████████████▍                     | 205/250 [00:16<00:03, 11.94it/s]"
     ]
    },
    {
     "name": "stdout",
     "output_type": "stream",
     "text": [
      "--- Validation --- [threshold, AUC, Accuracy, F score] =  [np.float64(0.694), np.float64(0.996), np.float64(0.977), np.float64(0.983)]\n"
     ]
    },
    {
     "name": "stderr",
     "output_type": "stream",
     "text": [
      " 84%|████████████████████████████████████████████████████████████████████████████████████████████████████▎                   | 209/250 [00:16<00:02, 15.26it/s]"
     ]
    },
    {
     "name": "stdout",
     "output_type": "stream",
     "text": [
      "--- Training --- [threshold, AUC] =  [np.float64(0.724), np.float64(0.996)]\n",
      "--- Iteration 210: Training loss --- [Data, Label, Total] = [39100.595354.3, 134.561818.3, 195637.538591.3]\n",
      "!!! pred_type filter\n"
     ]
    },
    {
     "name": "stderr",
     "output_type": "stream",
     "text": [
      " 87%|████████████████████████████████████████████████████████████████████████████████████████████████████████▏               | 217/250 [00:17<00:02, 15.06it/s]"
     ]
    },
    {
     "name": "stdout",
     "output_type": "stream",
     "text": [
      "--- Validation --- [threshold, AUC, Accuracy, F score] =  [np.float64(0.724), np.float64(0.996), np.float64(0.977), np.float64(0.982)]\n",
      "--- Training --- [threshold, AUC] =  [np.float64(0.723), np.float64(0.996)]\n",
      "--- Iteration 220: Training loss --- [Data, Label, Total] = [39062.679061.3, 134.472010.3, 195447.867317.3]\n",
      "!!! pred_type filter\n"
     ]
    },
    {
     "name": "stderr",
     "output_type": "stream",
     "text": [
      " 90%|████████████████████████████████████████████████████████████████████████████████████████████████████████████▍           | 226/250 [00:17<00:01, 15.43it/s]"
     ]
    },
    {
     "name": "stdout",
     "output_type": "stream",
     "text": [
      "--- Validation --- [threshold, AUC, Accuracy, F score] =  [np.float64(0.723), np.float64(0.996), np.float64(0.977), np.float64(0.982)]\n",
      "--- Training --- [threshold, AUC] =  [np.float64(0.72), np.float64(0.996)]\n",
      "--- Iteration 230: Training loss --- [Data, Label, Total] = [39029.120415.3, 134.179515.3, 195279.781592.3]\n",
      "!!! pred_type filter\n"
     ]
    },
    {
     "name": "stderr",
     "output_type": "stream",
     "text": [
      " 94%|█████████████████████████████████████████████████████████████████████████████████████████████████████████████████▎      | 236/250 [00:18<00:00, 16.75it/s]"
     ]
    },
    {
     "name": "stdout",
     "output_type": "stream",
     "text": [
      "--- Validation --- [threshold, AUC, Accuracy, F score] =  [np.float64(0.72), np.float64(0.996), np.float64(0.977), np.float64(0.983)]\n",
      "--- Training --- [threshold, AUC] =  [np.float64(0.721), np.float64(0.996)]\n",
      "--- Iteration 240: Training loss --- [Data, Label, Total] = [39000.594075.3, 133.883536.3, 195136.853911.3]\n",
      "!!! pred_type filter\n"
     ]
    },
    {
     "name": "stderr",
     "output_type": "stream",
     "text": [
      " 98%|█████████████████████████████████████████████████████████████████████████████████████████████████████████████████████   | 244/250 [00:19<00:00, 14.89it/s]"
     ]
    },
    {
     "name": "stdout",
     "output_type": "stream",
     "text": [
      "--- Validation --- [threshold, AUC, Accuracy, F score] =  [np.float64(0.721), np.float64(0.996), np.float64(0.977), np.float64(0.983)]\n"
     ]
    },
    {
     "name": "stderr",
     "output_type": "stream",
     "text": [
      "100%|████████████████████████████████████████████████████████████████████████████████████████████████████████████████████████| 250/250 [00:19<00:00, 12.98it/s]\n"
     ]
    },
    {
     "name": "stdout",
     "output_type": "stream",
     "text": [
      "!!! pred_type filter\n",
      "num of subgraphs induced on k-paths: 500\n",
      "num of subgraphs induced on k-paths: 500\n",
      "X_list: (529, 1000)\n",
      "2\n",
      "(1, 500)\n",
      "(1, 500)\n",
      "label_vec: (1, 1000)\n",
      "num of subgraphs induced on k-paths: 500\n",
      "num of subgraphs induced on k-paths: 500\n",
      "X_list: (529, 1000)\n",
      "2\n",
      "(1, 500)\n",
      "(1, 500)\n",
      "label_vec: (1, 1000)\n",
      "num of subgraphs induced on k-paths: 500\n",
      "num of subgraphs induced on k-paths: 500\n",
      "X_list: (529, 1000)\n",
      "2\n",
      "(1, 500)\n",
      "(1, 500)\n",
      "label_vec: (1, 1000)\n",
      "num of subgraphs induced on k-paths: 500\n",
      "num of subgraphs induced on k-paths: 500\n",
      "X_list: (529, 1000)\n",
      "2\n",
      "(1, 500)\n",
      "(1, 500)\n",
      "label_vec: (1, 1000)\n",
      "24\n",
      "num of subgraphs induced on k-paths: 500\n",
      "num of subgraphs induced on k-paths: 500\n",
      "X_list: (576, 1000)\n",
      "2\n",
      "(1, 500)\n",
      "(1, 500)\n",
      "label_vec: (1, 1000)\n",
      "num of subgraphs induced on k-paths: 500\n",
      "num of subgraphs induced on k-paths: 1054\n",
      "X_list: (576, 1554)\n",
      "2\n",
      "(1, 500)\n",
      "(1, 1054)\n",
      "label_vec: (1, 1554)\n",
      "initial loading beta [[-0.4653908  -0.07185747  0.2218417   0.52083642  0.96636689  0.76869605\n",
      "  -0.79382922 -0.72231303  0.46539596 -0.67119089  0.27689392  0.88324457\n",
      "   0.83260474  0.59990523 -0.9212739  -0.90190619  0.92422283]]\n"
     ]
    },
    {
     "name": "stderr",
     "output_type": "stream",
     "text": [
      "  2%|██▍                                                                                                                       | 5/250 [00:00<00:05, 43.33it/s]"
     ]
    },
    {
     "name": "stdout",
     "output_type": "stream",
     "text": [
      "--- Training --- [threshold, AUC] =  [np.float64(0.579), np.float64(0.997)]\n",
      "--- Iteration 0: Training loss --- [Data, Label, Total] = [79289.839225.3, 120.233199.3, 396569.429326.3]\n"
     ]
    },
    {
     "name": "stderr",
     "output_type": "stream",
     "text": [
      "  4%|████▊                                                                                                                    | 10/250 [00:00<00:05, 45.24it/s]"
     ]
    },
    {
     "name": "stdout",
     "output_type": "stream",
     "text": [
      "--- Training --- [threshold, AUC] =  [np.float64(0.721), np.float64(0.997)]\n",
      "--- Iteration 10: Training loss --- [Data, Label, Total] = [51215.657533.3, 108.291843.3, 256186.579509.3]\n",
      "!!! pred_type filter\n"
     ]
    },
    {
     "name": "stderr",
     "output_type": "stream",
     "text": [
      "  6%|███████▎                                                                                                                 | 15/250 [00:00<00:17, 13.15it/s]"
     ]
    },
    {
     "name": "stdout",
     "output_type": "stream",
     "text": [
      "--- Validation --- [threshold, AUC, Accuracy, F score] =  [np.float64(0.721), np.float64(0.997), np.float64(0.979), np.float64(0.985)]\n"
     ]
    },
    {
     "name": "stderr",
     "output_type": "stream",
     "text": [
      "  8%|█████████▋                                                                                                               | 20/250 [00:01<00:12, 18.32it/s]"
     ]
    },
    {
     "name": "stdout",
     "output_type": "stream",
     "text": [
      "--- Training --- [threshold, AUC] =  [np.float64(0.719), np.float64(0.997)]\n",
      "--- Iteration 20: Training loss --- [Data, Label, Total] = [48348.432046.3, 105.419285.3, 241847.579514.3]\n",
      "!!! pred_type filter\n"
     ]
    },
    {
     "name": "stderr",
     "output_type": "stream",
     "text": [
      " 10%|███████████▌                                                                                                             | 24/250 [00:01<00:19, 11.61it/s]"
     ]
    },
    {
     "name": "stdout",
     "output_type": "stream",
     "text": [
      "--- Validation --- [threshold, AUC, Accuracy, F score] =  [np.float64(0.719), np.float64(0.997), np.float64(0.982), np.float64(0.987)]\n"
     ]
    },
    {
     "name": "stderr",
     "output_type": "stream",
     "text": [
      " 11%|█████████████▌                                                                                                           | 28/250 [00:01<00:15, 14.71it/s]"
     ]
    },
    {
     "name": "stdout",
     "output_type": "stream",
     "text": [
      "--- Training --- [threshold, AUC] =  [np.float64(0.709), np.float64(0.997)]\n",
      "--- Iteration 30: Training loss --- [Data, Label, Total] = [46658.138824.3, 105.750696.3, 233396.444818.3]\n",
      "!!! pred_type filter\n"
     ]
    },
    {
     "name": "stderr",
     "output_type": "stream",
     "text": [
      " 14%|█████████████████▍                                                                                                       | 36/250 [00:02<00:15, 14.23it/s]"
     ]
    },
    {
     "name": "stdout",
     "output_type": "stream",
     "text": [
      "--- Validation --- [threshold, AUC, Accuracy, F score] =  [np.float64(0.709), np.float64(0.997), np.float64(0.983), np.float64(0.987)]\n"
     ]
    },
    {
     "name": "stderr",
     "output_type": "stream",
     "text": [
      " 16%|███████████████████▎                                                                                                     | 40/250 [00:02<00:12, 17.37it/s]"
     ]
    },
    {
     "name": "stdout",
     "output_type": "stream",
     "text": [
      "--- Training --- [threshold, AUC] =  [np.float64(0.698), np.float64(0.997)]\n",
      "--- Iteration 40: Training loss --- [Data, Label, Total] = [45740.175436.3, 106.331200.3, 228807.208378.3]\n",
      "!!! pred_type filter\n"
     ]
    },
    {
     "name": "stderr",
     "output_type": "stream",
     "text": [
      " 19%|███████████████████████▏                                                                                                 | 48/250 [00:03<00:12, 15.66it/s]"
     ]
    },
    {
     "name": "stdout",
     "output_type": "stream",
     "text": [
      "--- Validation --- [threshold, AUC, Accuracy, F score] =  [np.float64(0.698), np.float64(0.997), np.float64(0.984), np.float64(0.988)]\n",
      "--- Training --- [threshold, AUC] =  [np.float64(0.713), np.float64(0.997)]\n",
      "--- Iteration 50: Training loss --- [Data, Label, Total] = [45210.185580.3, 106.676407.3, 226157.604309.3]\n",
      "!!! pred_type filter\n"
     ]
    },
    {
     "name": "stderr",
     "output_type": "stream",
     "text": [
      " 22%|███████████████████████████                                                                                              | 56/250 [00:03<00:12, 15.11it/s]"
     ]
    },
    {
     "name": "stdout",
     "output_type": "stream",
     "text": [
      "--- Validation --- [threshold, AUC, Accuracy, F score] =  [np.float64(0.713), np.float64(0.997), np.float64(0.983), np.float64(0.988)]\n"
     ]
    },
    {
     "name": "stderr",
     "output_type": "stream",
     "text": [
      " 24%|█████████████████████████████                                                                                            | 60/250 [00:03<00:10, 18.43it/s]"
     ]
    },
    {
     "name": "stdout",
     "output_type": "stream",
     "text": [
      "--- Training --- [threshold, AUC] =  [np.float64(0.703), np.float64(0.997)]\n",
      "--- Iteration 60: Training loss --- [Data, Label, Total] = [44887.912931.3, 106.489379.3, 224546.054033.3]\n",
      "!!! pred_type filter\n"
     ]
    },
    {
     "name": "stderr",
     "output_type": "stream",
     "text": [
      " 28%|█████████████████████████████████▍                                                                                       | 69/250 [00:04<00:10, 16.98it/s]"
     ]
    },
    {
     "name": "stdout",
     "output_type": "stream",
     "text": [
      "--- Validation --- [threshold, AUC, Accuracy, F score] =  [np.float64(0.703), np.float64(0.997), np.float64(0.984), np.float64(0.988)]\n",
      "--- Training --- [threshold, AUC] =  [np.float64(0.705), np.float64(0.997)]\n",
      "--- Iteration 70: Training loss --- [Data, Label, Total] = [44681.014912.3, 106.376475.3, 223511.451037.3]\n",
      "!!! pred_type filter\n"
     ]
    },
    {
     "name": "stderr",
     "output_type": "stream",
     "text": [
      " 31%|█████████████████████████████████████▊                                                                                   | 78/250 [00:05<00:10, 16.49it/s]"
     ]
    },
    {
     "name": "stdout",
     "output_type": "stream",
     "text": [
      "--- Validation --- [threshold, AUC, Accuracy, F score] =  [np.float64(0.705), np.float64(0.997), np.float64(0.984), np.float64(0.988)]\n",
      "--- Training --- [threshold, AUC] =  [np.float64(0.732), np.float64(0.997)]\n",
      "--- Iteration 80: Training loss --- [Data, Label, Total] = [44535.557956.3, 106.241917.3, 222784.031695.3]\n",
      "!!! pred_type filter\n"
     ]
    },
    {
     "name": "stderr",
     "output_type": "stream",
     "text": [
      " 35%|██████████████████████████████████████████                                                                               | 87/250 [00:05<00:10, 16.10it/s]"
     ]
    },
    {
     "name": "stdout",
     "output_type": "stream",
     "text": [
      "--- Validation --- [threshold, AUC, Accuracy, F score] =  [np.float64(0.732), np.float64(0.997), np.float64(0.983), np.float64(0.988)]\n",
      "--- Training --- [threshold, AUC] =  [np.float64(0.701), np.float64(0.997)]\n",
      "--- Iteration 90: Training loss --- [Data, Label, Total] = [44423.022596.3, 105.982193.3, 222221.095173.3]\n",
      "!!! pred_type filter\n"
     ]
    },
    {
     "name": "stderr",
     "output_type": "stream",
     "text": [
      " 38%|██████████████████████████████████████████████▍                                                                          | 96/250 [00:06<00:09, 15.91it/s]"
     ]
    },
    {
     "name": "stdout",
     "output_type": "stream",
     "text": [
      "--- Validation --- [threshold, AUC, Accuracy, F score] =  [np.float64(0.701), np.float64(0.997), np.float64(0.984), np.float64(0.988)]\n",
      "--- Training --- [threshold, AUC] =  [np.float64(0.709), np.float64(0.997)]\n",
      "--- Iteration 100: Training loss --- [Data, Label, Total] = [44328.069542.3, 105.827147.3, 221746.174858.3]\n",
      "!!! pred_type filter\n"
     ]
    },
    {
     "name": "stderr",
     "output_type": "stream",
     "text": [
      " 42%|██████████████████████████████████████████████████▉                                                                     | 106/250 [00:07<00:08, 16.58it/s]"
     ]
    },
    {
     "name": "stdout",
     "output_type": "stream",
     "text": [
      "--- Validation --- [threshold, AUC, Accuracy, F score] =  [np.float64(0.709), np.float64(0.997), np.float64(0.984), np.float64(0.988)]\n",
      "--- Training --- [threshold, AUC] =  [np.float64(0.697), np.float64(0.997)]\n",
      "--- Iteration 110: Training loss --- [Data, Label, Total] = [44244.400951.3, 105.347675.3, 221327.352431.3]\n",
      "!!! pred_type filter\n"
     ]
    },
    {
     "name": "stderr",
     "output_type": "stream",
     "text": [
      " 46%|███████████████████████████████████████████████████████▋                                                                | 116/250 [00:07<00:07, 16.81it/s]"
     ]
    },
    {
     "name": "stdout",
     "output_type": "stream",
     "text": [
      "--- Validation --- [threshold, AUC, Accuracy, F score] =  [np.float64(0.697), np.float64(0.997), np.float64(0.985), np.float64(0.989)]\n",
      "--- Training --- [threshold, AUC] =  [np.float64(0.687), np.float64(0.998)]\n",
      "--- Iteration 120: Training loss --- [Data, Label, Total] = [44169.479935.3, 105.819564.3, 220953.219237.3]\n",
      "!!! pred_type filter\n"
     ]
    },
    {
     "name": "stderr",
     "output_type": "stream",
     "text": [
      " 50%|████████████████████████████████████████████████████████████▍                                                           | 126/250 [00:08<00:07, 17.07it/s]"
     ]
    },
    {
     "name": "stdout",
     "output_type": "stream",
     "text": [
      "--- Validation --- [threshold, AUC, Accuracy, F score] =  [np.float64(0.687), np.float64(0.998), np.float64(0.985), np.float64(0.989)]\n",
      "--- Training --- [threshold, AUC] =  [np.float64(0.684), np.float64(0.998)]\n",
      "--- Iteration 130: Training loss --- [Data, Label, Total] = [44101.521376.3, 105.674907.3, 220613.281789.3]\n",
      "!!! pred_type filter\n"
     ]
    },
    {
     "name": "stderr",
     "output_type": "stream",
     "text": [
      " 54%|█████████████████████████████████████████████████████████████████▎                                                      | 136/250 [00:09<00:06, 17.03it/s]"
     ]
    },
    {
     "name": "stdout",
     "output_type": "stream",
     "text": [
      "--- Validation --- [threshold, AUC, Accuracy, F score] =  [np.float64(0.684), np.float64(0.998), np.float64(0.985), np.float64(0.989)]\n",
      "--- Training --- [threshold, AUC] =  [np.float64(0.678), np.float64(0.998)]\n",
      "--- Iteration 140: Training loss --- [Data, Label, Total] = [44040.788225.3, 105.971217.3, 220309.912341.3]\n",
      "!!! pred_type filter\n"
     ]
    },
    {
     "name": "stderr",
     "output_type": "stream",
     "text": [
      " 58%|██████████████████████████████████████████████████████████████████████                                                  | 146/250 [00:09<00:06, 16.80it/s]"
     ]
    },
    {
     "name": "stdout",
     "output_type": "stream",
     "text": [
      "--- Validation --- [threshold, AUC, Accuracy, F score] =  [np.float64(0.678), np.float64(0.998), np.float64(0.985), np.float64(0.989)]\n",
      "--- Training --- [threshold, AUC] =  [np.float64(0.672), np.float64(0.998)]\n",
      "--- Iteration 150: Training loss --- [Data, Label, Total] = [43987.046889.3, 106.230510.3, 220041.464954.3]\n",
      "!!! pred_type filter\n"
     ]
    },
    {
     "name": "stderr",
     "output_type": "stream",
     "text": [
      " 62%|██████████████████████████████████████████████████████████████████████████▉                                             | 156/250 [00:10<00:05, 16.88it/s]"
     ]
    },
    {
     "name": "stdout",
     "output_type": "stream",
     "text": [
      "--- Validation --- [threshold, AUC, Accuracy, F score] =  [np.float64(0.672), np.float64(0.998), np.float64(0.985), np.float64(0.989)]\n",
      "--- Training --- [threshold, AUC] =  [np.float64(0.694), np.float64(0.998)]\n",
      "--- Iteration 160: Training loss --- [Data, Label, Total] = [43939.638121.3, 106.190646.3, 219804.381249.3]\n",
      "!!! pred_type filter\n"
     ]
    },
    {
     "name": "stderr",
     "output_type": "stream",
     "text": [
      " 66%|███████████████████████████████████████████████████████████████████████████████▋                                        | 166/250 [00:11<00:04, 17.10it/s]"
     ]
    },
    {
     "name": "stdout",
     "output_type": "stream",
     "text": [
      "--- Validation --- [threshold, AUC, Accuracy, F score] =  [np.float64(0.694), np.float64(0.998), np.float64(0.985), np.float64(0.989)]\n",
      "--- Training --- [threshold, AUC] =  [np.float64(0.688), np.float64(0.998)]\n",
      "--- Iteration 170: Training loss --- [Data, Label, Total] = [43898.275692.3, 106.368431.3, 219597.746888.3]\n",
      "!!! pred_type filter\n"
     ]
    },
    {
     "name": "stderr",
     "output_type": "stream",
     "text": [
      " 70%|████████████████████████████████████████████████████████████████████████████████████▍                                   | 176/250 [00:11<00:04, 17.24it/s]"
     ]
    },
    {
     "name": "stdout",
     "output_type": "stream",
     "text": [
      "--- Validation --- [threshold, AUC, Accuracy, F score] =  [np.float64(0.688), np.float64(0.998), np.float64(0.985), np.float64(0.989)]\n",
      "--- Training --- [threshold, AUC] =  [np.float64(0.697), np.float64(0.998)]\n",
      "--- Iteration 180: Training loss --- [Data, Label, Total] = [43862.425910.3, 106.532985.3, 219418.662533.3]\n",
      "!!! pred_type filter\n"
     ]
    },
    {
     "name": "stderr",
     "output_type": "stream",
     "text": [
      " 74%|████████████████████████████████████████████████████████████████████████████████████████▊                               | 185/250 [00:12<00:03, 16.28it/s]"
     ]
    },
    {
     "name": "stdout",
     "output_type": "stream",
     "text": [
      "--- Validation --- [threshold, AUC, Accuracy, F score] =  [np.float64(0.697), np.float64(0.998), np.float64(0.984), np.float64(0.988)]\n"
     ]
    },
    {
     "name": "stderr",
     "output_type": "stream",
     "text": [
      " 76%|███████████████████████████████████████████████████████████████████████████████████████████▏                            | 190/250 [00:12<00:02, 20.30it/s]"
     ]
    },
    {
     "name": "stdout",
     "output_type": "stream",
     "text": [
      "--- Training --- [threshold, AUC] =  [np.float64(0.696), np.float64(0.998)]\n",
      "--- Iteration 190: Training loss --- [Data, Label, Total] = [43831.587769.3, 106.643536.3, 219264.582383.3]\n",
      "!!! pred_type filter\n"
     ]
    },
    {
     "name": "stderr",
     "output_type": "stream",
     "text": [
      " 80%|███████████████████████████████████████████████████████████████████████████████████████████████▌                        | 199/250 [00:13<00:02, 18.07it/s]"
     ]
    },
    {
     "name": "stdout",
     "output_type": "stream",
     "text": [
      "--- Validation --- [threshold, AUC, Accuracy, F score] =  [np.float64(0.696), np.float64(0.998), np.float64(0.984), np.float64(0.988)]\n",
      "--- Training --- [threshold, AUC] =  [np.float64(0.702), np.float64(0.998)]\n",
      "--- Iteration 200: Training loss --- [Data, Label, Total] = [43805.093751.3, 106.767381.3, 219132.236136.3]\n",
      "!!! pred_type filter\n"
     ]
    },
    {
     "name": "stderr",
     "output_type": "stream",
     "text": [
      " 83%|███████████████████████████████████████████████████████████████████████████████████████████████████▊                    | 208/250 [00:13<00:02, 16.63it/s]"
     ]
    },
    {
     "name": "stdout",
     "output_type": "stream",
     "text": [
      "--- Validation --- [threshold, AUC, Accuracy, F score] =  [np.float64(0.702), np.float64(0.998), np.float64(0.984), np.float64(0.988)]\n",
      "--- Training --- [threshold, AUC] =  [np.float64(0.704), np.float64(0.998)]\n",
      "--- Iteration 210: Training loss --- [Data, Label, Total] = [43782.332280.3, 106.943046.3, 219018.604447.3]\n",
      "!!! pred_type filter\n"
     ]
    },
    {
     "name": "stderr",
     "output_type": "stream",
     "text": [
      " 87%|████████████████████████████████████████████████████████████████████████████████████████████████████████▏               | 217/250 [00:14<00:01, 16.59it/s]"
     ]
    },
    {
     "name": "stdout",
     "output_type": "stream",
     "text": [
      "--- Validation --- [threshold, AUC, Accuracy, F score] =  [np.float64(0.704), np.float64(0.998), np.float64(0.984), np.float64(0.988)]\n",
      "--- Training --- [threshold, AUC] =  [np.float64(0.7), np.float64(0.998)]\n",
      "--- Iteration 220: Training loss --- [Data, Label, Total] = [43762.867728.3, 107.057968.3, 218921.396605.3]\n",
      "!!! pred_type filter\n"
     ]
    },
    {
     "name": "stderr",
     "output_type": "stream",
     "text": [
      " 90%|████████████████████████████████████████████████████████████████████████████████████████████████████████████▍           | 226/250 [00:15<00:01, 16.55it/s]"
     ]
    },
    {
     "name": "stdout",
     "output_type": "stream",
     "text": [
      "--- Validation --- [threshold, AUC, Accuracy, F score] =  [np.float64(0.7), np.float64(0.998), np.float64(0.984), np.float64(0.988)]\n"
     ]
    },
    {
     "name": "stderr",
     "output_type": "stream",
     "text": [
      " 92%|██████████████████████████████████████████████████████████████████████████████████████████████████████████████▍         | 230/250 [00:15<00:01, 17.86it/s]"
     ]
    },
    {
     "name": "stdout",
     "output_type": "stream",
     "text": [
      "--- Training --- [threshold, AUC] =  [np.float64(0.716), np.float64(0.998)]\n",
      "--- Iteration 230: Training loss --- [Data, Label, Total] = [43746.040488.3, 107.037239.3, 218837.239680.3]\n",
      "!!! pred_type filter\n"
     ]
    },
    {
     "name": "stderr",
     "output_type": "stream",
     "text": [
      " 95%|██████████████████████████████████████████████████████████████████████████████████████████████████████████████████▏     | 238/250 [00:16<00:00, 16.12it/s]"
     ]
    },
    {
     "name": "stdout",
     "output_type": "stream",
     "text": [
      "--- Validation --- [threshold, AUC, Accuracy, F score] =  [np.float64(0.716), np.float64(0.998), np.float64(0.983), np.float64(0.988)]\n",
      "--- Training --- [threshold, AUC] =  [np.float64(0.717), np.float64(0.998)]\n",
      "--- Iteration 240: Training loss --- [Data, Label, Total] = [43731.373335.3, 106.823092.3, 218763.689766.3]\n",
      "!!! pred_type filter\n"
     ]
    },
    {
     "name": "stderr",
     "output_type": "stream",
     "text": [
      " 98%|██████████████████████████████████████████████████████████████████████████████████████████████████████████████████████  | 246/250 [00:16<00:00, 15.74it/s]"
     ]
    },
    {
     "name": "stdout",
     "output_type": "stream",
     "text": [
      "--- Validation --- [threshold, AUC, Accuracy, F score] =  [np.float64(0.717), np.float64(0.998), np.float64(0.983), np.float64(0.988)]\n"
     ]
    },
    {
     "name": "stderr",
     "output_type": "stream",
     "text": [
      "100%|████████████████████████████████████████████████████████████████████████████████████████████████████████████████████████| 250/250 [00:16<00:00, 14.93it/s]\n"
     ]
    },
    {
     "name": "stdout",
     "output_type": "stream",
     "text": [
      "!!! pred_type filter\n",
      "num of subgraphs induced on k-paths: 500\n",
      "num of subgraphs induced on k-paths: 500\n",
      "X_list: (576, 1000)\n",
      "2\n",
      "(1, 500)\n",
      "(1, 500)\n",
      "label_vec: (1, 1000)\n",
      "num of subgraphs induced on k-paths: 500\n",
      "num of subgraphs induced on k-paths: 500\n",
      "X_list: (576, 1000)\n",
      "2\n",
      "(1, 500)\n",
      "(1, 500)\n",
      "label_vec: (1, 1000)\n",
      "num of subgraphs induced on k-paths: 500\n",
      "num of subgraphs induced on k-paths: 500\n",
      "X_list: (576, 1000)\n",
      "2\n",
      "(1, 500)\n",
      "(1, 500)\n",
      "label_vec: (1, 1000)\n",
      "num of subgraphs induced on k-paths: 500\n",
      "num of subgraphs induced on k-paths: 500\n",
      "X_list: (576, 1000)\n",
      "2\n",
      "(1, 500)\n",
      "(1, 500)\n",
      "label_vec: (1, 1000)\n"
     ]
    }
   ],
   "source": [
    "for i in range(20,25):\n",
    "    print(i)\n",
    "    accu.append(roc.run(i))"
   ]
  },
  {
   "cell_type": "code",
   "execution_count": 7,
   "id": "e3832ffa-5390-445b-ae1d-4e5038f82f21",
   "metadata": {},
   "outputs": [
    {
     "name": "stdout",
     "output_type": "stream",
     "text": [
      "25\n",
      "num of subgraphs induced on k-paths: 500\n",
      "num of subgraphs induced on k-paths: 500\n",
      "X_list: (625, 1000)\n",
      "2\n",
      "(1, 500)\n",
      "(1, 500)\n",
      "label_vec: (1, 1000)\n",
      "num of subgraphs induced on k-paths: 500\n",
      "num of subgraphs induced on k-paths: 1069\n",
      "X_list: (625, 1569)\n",
      "2\n",
      "(1, 500)\n",
      "(1, 1069)\n",
      "label_vec: (1, 1569)\n",
      "initial loading beta [[-0.30628122 -0.38678181  0.88256923 -0.28286635 -0.47507736  0.88892974\n",
      "   0.59556925  0.92947824 -0.14915068  0.44211039 -0.18464888 -0.92279892\n",
      "  -0.35814622  0.1745924   0.19283743  0.45633168 -0.45231139]]\n"
     ]
    },
    {
     "name": "stderr",
     "output_type": "stream",
     "text": [
      "  1%|█▍                                                                                                                        | 3/250 [00:00<00:08, 28.57it/s]"
     ]
    },
    {
     "name": "stdout",
     "output_type": "stream",
     "text": [
      "--- Training --- [threshold, AUC] =  [np.float64(0.699), np.float64(0.997)]\n",
      "--- Iteration 0: Training loss --- [Data, Label, Total] = [87125.845372.3, 113.870173.3, 435743.097034.3]\n"
     ]
    },
    {
     "name": "stderr",
     "output_type": "stream",
     "text": [
      "  3%|███▍                                                                                                                      | 7/250 [00:00<00:07, 32.83it/s]"
     ]
    },
    {
     "name": "stdout",
     "output_type": "stream",
     "text": [
      "--- Training --- [threshold, AUC] =  [np.float64(0.701), np.float64(0.997)]\n",
      "--- Iteration 10: Training loss --- [Data, Label, Total] = [56663.747868.3, 101.708235.3, 283420.447577.3]\n",
      "!!! pred_type filter\n"
     ]
    },
    {
     "name": "stderr",
     "output_type": "stream",
     "text": [
      "  6%|███████▎                                                                                                                 | 15/250 [00:01<00:17, 13.75it/s]"
     ]
    },
    {
     "name": "stdout",
     "output_type": "stream",
     "text": [
      "--- Validation --- [threshold, AUC, Accuracy, F score] =  [np.float64(0.701), np.float64(0.997), np.float64(0.977), np.float64(0.983)]\n"
     ]
    },
    {
     "name": "stderr",
     "output_type": "stream",
     "text": [
      "  8%|█████████▏                                                                                                               | 19/250 [00:01<00:13, 17.28it/s]"
     ]
    },
    {
     "name": "stdout",
     "output_type": "stream",
     "text": [
      "--- Training --- [threshold, AUC] =  [np.float64(0.609), np.float64(0.998)]\n",
      "--- Iteration 20: Training loss --- [Data, Label, Total] = [53644.791519.3, 97.541731.3, 268321.499328.3]\n",
      "!!! pred_type filter\n"
     ]
    },
    {
     "name": "stderr",
     "output_type": "stream",
     "text": [
      " 10%|████████████▌                                                                                                            | 26/250 [00:01<00:17, 12.72it/s]"
     ]
    },
    {
     "name": "stdout",
     "output_type": "stream",
     "text": [
      "--- Validation --- [threshold, AUC, Accuracy, F score] =  [np.float64(0.609), np.float64(0.998), np.float64(0.982), np.float64(0.986)]\n"
     ]
    },
    {
     "name": "stderr",
     "output_type": "stream",
     "text": [
      " 12%|██████████████▌                                                                                                          | 30/250 [00:02<00:13, 16.37it/s]"
     ]
    },
    {
     "name": "stdout",
     "output_type": "stream",
     "text": [
      "--- Training --- [threshold, AUC] =  [np.float64(0.683), np.float64(0.998)]\n",
      "--- Iteration 30: Training loss --- [Data, Label, Total] = [51888.275882.3, 97.737844.3, 259539.117252.3]\n",
      "!!! pred_type filter\n"
     ]
    },
    {
     "name": "stderr",
     "output_type": "stream",
     "text": [
      " 15%|█████████████████▉                                                                                                       | 37/250 [00:02<00:15, 13.40it/s]"
     ]
    },
    {
     "name": "stdout",
     "output_type": "stream",
     "text": [
      "--- Validation --- [threshold, AUC, Accuracy, F score] =  [np.float64(0.683), np.float64(0.998), np.float64(0.981), np.float64(0.986)]\n",
      "--- Training --- [threshold, AUC] =  [np.float64(0.666), np.float64(0.998)]\n",
      "--- Iteration 40: Training loss --- [Data, Label, Total] = [50966.221901.3, 98.858327.3, 254929.967830.3]\n",
      "!!! pred_type filter\n"
     ]
    },
    {
     "name": "stderr",
     "output_type": "stream",
     "text": [
      " 18%|█████████████████████▊                                                                                                   | 45/250 [00:03<00:15, 12.85it/s]"
     ]
    },
    {
     "name": "stdout",
     "output_type": "stream",
     "text": [
      "--- Validation --- [threshold, AUC, Accuracy, F score] =  [np.float64(0.666), np.float64(0.998), np.float64(0.981), np.float64(0.986)]\n"
     ]
    },
    {
     "name": "stderr",
     "output_type": "stream",
     "text": [
      " 19%|███████████████████████▏                                                                                                 | 48/250 [00:03<00:13, 15.01it/s]"
     ]
    },
    {
     "name": "stdout",
     "output_type": "stream",
     "text": [
      "--- Training --- [threshold, AUC] =  [np.float64(0.736), np.float64(0.998)]\n",
      "--- Iteration 50: Training loss --- [Data, Label, Total] = [50470.899618.3, 99.025442.3, 252453.523534.3]\n",
      "!!! pred_type filter\n"
     ]
    },
    {
     "name": "stderr",
     "output_type": "stream",
     "text": [
      " 22%|██████████████████████████▌                                                                                              | 55/250 [00:04<00:15, 12.78it/s]"
     ]
    },
    {
     "name": "stdout",
     "output_type": "stream",
     "text": [
      "--- Validation --- [threshold, AUC, Accuracy, F score] =  [np.float64(0.736), np.float64(0.998), np.float64(0.978), np.float64(0.984)]\n"
     ]
    },
    {
     "name": "stderr",
     "output_type": "stream",
     "text": [
      " 23%|████████████████████████████                                                                                             | 58/250 [00:04<00:12, 14.85it/s]"
     ]
    },
    {
     "name": "stdout",
     "output_type": "stream",
     "text": [
      "--- Training --- [threshold, AUC] =  [np.float64(0.734), np.float64(0.998)]\n",
      "--- Iteration 60: Training loss --- [Data, Label, Total] = [50165.142486.3, 99.533575.3, 250925.246003.3]\n",
      "!!! pred_type filter\n"
     ]
    },
    {
     "name": "stderr",
     "output_type": "stream",
     "text": [
      " 26%|███████████████████████████████▍                                                                                         | 65/250 [00:05<00:15, 12.09it/s]"
     ]
    },
    {
     "name": "stdout",
     "output_type": "stream",
     "text": [
      "--- Validation --- [threshold, AUC, Accuracy, F score] =  [np.float64(0.734), np.float64(0.998), np.float64(0.978), np.float64(0.984)]\n"
     ]
    },
    {
     "name": "stderr",
     "output_type": "stream",
     "text": [
      " 28%|█████████████████████████████████▍                                                                                       | 69/250 [00:05<00:11, 15.49it/s]"
     ]
    },
    {
     "name": "stdout",
     "output_type": "stream",
     "text": [
      "--- Training --- [threshold, AUC] =  [np.float64(0.713), np.float64(0.998)]\n",
      "--- Iteration 70: Training loss --- [Data, Label, Total] = [49950.027228.3, 100.014733.3, 249850.150875.3]\n",
      "!!! pred_type filter\n"
     ]
    },
    {
     "name": "stderr",
     "output_type": "stream",
     "text": [
      " 30%|████████████████████████████████████▊                                                                                    | 76/250 [00:06<00:13, 13.25it/s]"
     ]
    },
    {
     "name": "stdout",
     "output_type": "stream",
     "text": [
      "--- Validation --- [threshold, AUC, Accuracy, F score] =  [np.float64(0.713), np.float64(0.998), np.float64(0.979), np.float64(0.984)]\n"
     ]
    },
    {
     "name": "stderr",
     "output_type": "stream",
     "text": [
      " 32%|██████████████████████████████████████▋                                                                                  | 80/250 [00:06<00:10, 16.73it/s]"
     ]
    },
    {
     "name": "stdout",
     "output_type": "stream",
     "text": [
      "--- Training --- [threshold, AUC] =  [np.float64(0.712), np.float64(0.998)]\n",
      "--- Iteration 80: Training loss --- [Data, Label, Total] = [49785.552476.3, 100.081908.3, 249027.844289.3]\n",
      "!!! pred_type filter\n"
     ]
    },
    {
     "name": "stderr",
     "output_type": "stream",
     "text": [
      " 35%|██████████████████████████████████████████                                                                               | 87/250 [00:06<00:12, 13.52it/s]"
     ]
    },
    {
     "name": "stdout",
     "output_type": "stream",
     "text": [
      "--- Validation --- [threshold, AUC, Accuracy, F score] =  [np.float64(0.712), np.float64(0.998), np.float64(0.979), np.float64(0.984)]\n",
      "--- Training --- [threshold, AUC] =  [np.float64(0.682), np.float64(0.998)]\n",
      "--- Iteration 90: Training loss --- [Data, Label, Total] = [49652.242730.3, 100.319400.3, 248361.533050.3]\n",
      "!!! pred_type filter\n"
     ]
    },
    {
     "name": "stderr",
     "output_type": "stream",
     "text": [
      " 38%|█████████████████████████████████████████████▉                                                                           | 95/250 [00:07<00:12, 12.91it/s]"
     ]
    },
    {
     "name": "stdout",
     "output_type": "stream",
     "text": [
      "--- Validation --- [threshold, AUC, Accuracy, F score] =  [np.float64(0.682), np.float64(0.998), np.float64(0.981), np.float64(0.986)]\n"
     ]
    },
    {
     "name": "stderr",
     "output_type": "stream",
     "text": [
      " 40%|███████████████████████████████████████████████▉                                                                         | 99/250 [00:07<00:09, 16.13it/s]"
     ]
    },
    {
     "name": "stdout",
     "output_type": "stream",
     "text": [
      "--- Training --- [threshold, AUC] =  [np.float64(0.683), np.float64(0.998)]\n",
      "--- Iteration 100: Training loss --- [Data, Label, Total] = [49540.832854.3, 100.323587.3, 247804.487855.3]\n",
      "!!! pred_type filter\n"
     ]
    },
    {
     "name": "stderr",
     "output_type": "stream",
     "text": [
      " 42%|██████████████████████████████████████████████████▉                                                                     | 106/250 [00:08<00:10, 13.60it/s]"
     ]
    },
    {
     "name": "stdout",
     "output_type": "stream",
     "text": [
      "--- Validation --- [threshold, AUC, Accuracy, F score] =  [np.float64(0.683), np.float64(0.998), np.float64(0.98), np.float64(0.985)]\n"
     ]
    },
    {
     "name": "stderr",
     "output_type": "stream",
     "text": [
      " 44%|████████████████████████████████████████████████████▊                                                                   | 110/250 [00:08<00:08, 16.81it/s]"
     ]
    },
    {
     "name": "stdout",
     "output_type": "stream",
     "text": [
      "--- Training --- [threshold, AUC] =  [np.float64(0.747), np.float64(0.998)]\n",
      "--- Iteration 110: Training loss --- [Data, Label, Total] = [49446.860087.3, 100.484230.3, 247334.784663.3]\n",
      "!!! pred_type filter\n"
     ]
    },
    {
     "name": "stderr",
     "output_type": "stream",
     "text": [
      " 47%|████████████████████████████████████████████████████████▏                                                               | 117/250 [00:09<00:09, 14.16it/s]"
     ]
    },
    {
     "name": "stdout",
     "output_type": "stream",
     "text": [
      "--- Validation --- [threshold, AUC, Accuracy, F score] =  [np.float64(0.747), np.float64(0.998), np.float64(0.979), np.float64(0.984)]\n",
      "--- Training --- [threshold, AUC] =  [np.float64(0.745), np.float64(0.998)]\n",
      "--- Iteration 120: Training loss --- [Data, Label, Total] = [49367.239656.3, 100.671811.3, 246936.870093.3]\n",
      "!!! pred_type filter\n"
     ]
    },
    {
     "name": "stderr",
     "output_type": "stream",
     "text": [
      " 50%|████████████████████████████████████████████████████████████                                                            | 125/250 [00:10<00:09, 12.92it/s]"
     ]
    },
    {
     "name": "stdout",
     "output_type": "stream",
     "text": [
      "--- Validation --- [threshold, AUC, Accuracy, F score] =  [np.float64(0.745), np.float64(0.998), np.float64(0.979), np.float64(0.984)]\n"
     ]
    },
    {
     "name": "stderr",
     "output_type": "stream",
     "text": [
      " 52%|█████████████████████████████████████████████████████████████▉                                                          | 129/250 [00:10<00:07, 15.97it/s]"
     ]
    },
    {
     "name": "stdout",
     "output_type": "stream",
     "text": [
      "--- Training --- [threshold, AUC] =  [np.float64(0.745), np.float64(0.998)]\n",
      "--- Iteration 130: Training loss --- [Data, Label, Total] = [49298.503278.3, 100.959324.3, 246593.475716.3]\n",
      "!!! pred_type filter\n"
     ]
    },
    {
     "name": "stderr",
     "output_type": "stream",
     "text": [
      " 54%|█████████████████████████████████████████████████████████████████▎                                                      | 136/250 [00:10<00:08, 13.87it/s]"
     ]
    },
    {
     "name": "stdout",
     "output_type": "stream",
     "text": [
      "--- Validation --- [threshold, AUC, Accuracy, F score] =  [np.float64(0.745), np.float64(0.998), np.float64(0.979), np.float64(0.984)]\n"
     ]
    },
    {
     "name": "stderr",
     "output_type": "stream",
     "text": [
      " 56%|███████████████████████████████████████████████████████████████████▏                                                    | 140/250 [00:10<00:06, 17.30it/s]"
     ]
    },
    {
     "name": "stdout",
     "output_type": "stream",
     "text": [
      "--- Training --- [threshold, AUC] =  [np.float64(0.742), np.float64(0.998)]\n",
      "--- Iteration 140: Training loss --- [Data, Label, Total] = [49239.286201.3, 101.336176.3, 246297.767181.3]\n",
      "!!! pred_type filter\n"
     ]
    },
    {
     "name": "stderr",
     "output_type": "stream",
     "text": [
      " 59%|██████████████████████████████████████████████████████████████████████▌                                                 | 147/250 [00:11<00:07, 13.43it/s]"
     ]
    },
    {
     "name": "stdout",
     "output_type": "stream",
     "text": [
      "--- Validation --- [threshold, AUC, Accuracy, F score] =  [np.float64(0.742), np.float64(0.998), np.float64(0.979), np.float64(0.984)]\n",
      "--- Training --- [threshold, AUC] =  [np.float64(0.739), np.float64(0.998)]\n",
      "--- Iteration 150: Training loss --- [Data, Label, Total] = [49188.500175.3, 101.352138.3, 246043.853011.3]\n",
      "!!! pred_type filter\n"
     ]
    },
    {
     "name": "stderr",
     "output_type": "stream",
     "text": [
      " 62%|██████████████████████████████████████████████████████████████████████████▍                                             | 155/250 [00:12<00:07, 13.01it/s]"
     ]
    },
    {
     "name": "stdout",
     "output_type": "stream",
     "text": [
      "--- Validation --- [threshold, AUC, Accuracy, F score] =  [np.float64(0.739), np.float64(0.998), np.float64(0.979), np.float64(0.984)]\n"
     ]
    },
    {
     "name": "stderr",
     "output_type": "stream",
     "text": [
      " 64%|████████████████████████████████████████████████████████████████████████████▎                                           | 159/250 [00:12<00:05, 16.12it/s]"
     ]
    },
    {
     "name": "stdout",
     "output_type": "stream",
     "text": [
      "--- Training --- [threshold, AUC] =  [np.float64(0.737), np.float64(0.998)]\n",
      "--- Iteration 160: Training loss --- [Data, Label, Total] = [49145.191975.3, 101.507717.3, 245827.467592.3]\n",
      "!!! pred_type filter\n"
     ]
    },
    {
     "name": "stderr",
     "output_type": "stream",
     "text": [
      " 66%|███████████████████████████████████████████████████████████████████████████████▋                                        | 166/250 [00:13<00:06, 13.89it/s]"
     ]
    },
    {
     "name": "stdout",
     "output_type": "stream",
     "text": [
      "--- Validation --- [threshold, AUC, Accuracy, F score] =  [np.float64(0.737), np.float64(0.998), np.float64(0.979), np.float64(0.984)]\n"
     ]
    },
    {
     "name": "stderr",
     "output_type": "stream",
     "text": [
      " 68%|█████████████████████████████████████████████████████████████████████████████████▌                                      | 170/250 [00:13<00:04, 17.12it/s]"
     ]
    },
    {
     "name": "stdout",
     "output_type": "stream",
     "text": [
      "--- Training --- [threshold, AUC] =  [np.float64(0.732), np.float64(0.998)]\n",
      "--- Iteration 170: Training loss --- [Data, Label, Total] = [49108.594669.3, 101.624982.3, 245644.598328.3]\n",
      "!!! pred_type filter\n"
     ]
    },
    {
     "name": "stderr",
     "output_type": "stream",
     "text": [
      " 71%|████████████████████████████████████████████████████████████████████████████████████▉                                   | 177/250 [00:13<00:05, 14.27it/s]"
     ]
    },
    {
     "name": "stdout",
     "output_type": "stream",
     "text": [
      "--- Validation --- [threshold, AUC, Accuracy, F score] =  [np.float64(0.732), np.float64(0.998), np.float64(0.979), np.float64(0.984)]\n",
      "--- Training --- [threshold, AUC] =  [np.float64(0.73), np.float64(0.998)]\n",
      "--- Iteration 180: Training loss --- [Data, Label, Total] = [49077.595117.3, 101.903331.3, 245489.878915.3]\n",
      "!!! pred_type filter\n"
     ]
    },
    {
     "name": "stderr",
     "output_type": "stream",
     "text": [
      " 74%|████████████████████████████████████████████████████████████████████████████████████████▎                               | 184/250 [00:14<00:05, 12.35it/s]"
     ]
    },
    {
     "name": "stdout",
     "output_type": "stream",
     "text": [
      "--- Validation --- [threshold, AUC, Accuracy, F score] =  [np.float64(0.73), np.float64(0.998), np.float64(0.979), np.float64(0.984)]\n"
     ]
    },
    {
     "name": "stderr",
     "output_type": "stream",
     "text": [
      " 76%|███████████████████████████████████████████████████████████████████████████████████████████▏                            | 190/250 [00:14<00:03, 16.54it/s]"
     ]
    },
    {
     "name": "stdout",
     "output_type": "stream",
     "text": [
      "--- Training --- [threshold, AUC] =  [np.float64(0.73), np.float64(0.998)]\n",
      "--- Iteration 190: Training loss --- [Data, Label, Total] = [49051.416591.3, 101.911530.3, 245358.994488.3]\n",
      "!!! pred_type filter\n"
     ]
    },
    {
     "name": "stderr",
     "output_type": "stream",
     "text": [
      " 79%|██████████████████████████████████████████████████████████████████████████████████████████████▌                         | 197/250 [00:15<00:03, 13.63it/s]"
     ]
    },
    {
     "name": "stdout",
     "output_type": "stream",
     "text": [
      "--- Validation --- [threshold, AUC, Accuracy, F score] =  [np.float64(0.73), np.float64(0.998), np.float64(0.979), np.float64(0.984)]\n",
      "--- Training --- [threshold, AUC] =  [np.float64(0.728), np.float64(0.998)]\n",
      "--- Iteration 200: Training loss --- [Data, Label, Total] = [49028.990255.3, 102.037724.3, 245246.988999.3]\n",
      "!!! pred_type filter\n"
     ]
    },
    {
     "name": "stderr",
     "output_type": "stream",
     "text": [
      " 82%|██████████████████████████████████████████████████████████████████████████████████████████████████▍                     | 205/250 [00:16<00:03, 13.33it/s]"
     ]
    },
    {
     "name": "stdout",
     "output_type": "stream",
     "text": [
      "--- Validation --- [threshold, AUC, Accuracy, F score] =  [np.float64(0.728), np.float64(0.998), np.float64(0.979), np.float64(0.984)]\n"
     ]
    },
    {
     "name": "stderr",
     "output_type": "stream",
     "text": [
      " 84%|████████████████████████████████████████████████████████████████████████████████████████████████████▎                   | 209/250 [00:16<00:02, 16.66it/s]"
     ]
    },
    {
     "name": "stdout",
     "output_type": "stream",
     "text": [
      "--- Training --- [threshold, AUC] =  [np.float64(0.718), np.float64(0.998)]\n",
      "--- Iteration 210: Training loss --- [Data, Label, Total] = [49009.698719.3, 102.242046.3, 245150.735641.3]\n",
      "!!! pred_type filter\n"
     ]
    },
    {
     "name": "stderr",
     "output_type": "stream",
     "text": [
      " 86%|███████████████████████████████████████████████████████████████████████████████████████████████████████▏                | 215/250 [00:17<00:02, 12.87it/s]"
     ]
    },
    {
     "name": "stdout",
     "output_type": "stream",
     "text": [
      "--- Validation --- [threshold, AUC, Accuracy, F score] =  [np.float64(0.718), np.float64(0.998), np.float64(0.98), np.float64(0.985)]\n"
     ]
    },
    {
     "name": "stderr",
     "output_type": "stream",
     "text": [
      " 88%|█████████████████████████████████████████████████████████████████████████████████████████████████████████               | 219/250 [00:17<00:01, 16.36it/s]"
     ]
    },
    {
     "name": "stdout",
     "output_type": "stream",
     "text": [
      "--- Training --- [threshold, AUC] =  [np.float64(0.719), np.float64(0.998)]\n",
      "--- Iteration 220: Training loss --- [Data, Label, Total] = [48993.078461.3, 102.318508.3, 245067.710811.3]\n",
      "!!! pred_type filter\n"
     ]
    },
    {
     "name": "stderr",
     "output_type": "stream",
     "text": [
      " 90%|████████████████████████████████████████████████████████████████████████████████████████████████████████████▍           | 226/250 [00:17<00:01, 13.92it/s]"
     ]
    },
    {
     "name": "stdout",
     "output_type": "stream",
     "text": [
      "--- Validation --- [threshold, AUC, Accuracy, F score] =  [np.float64(0.719), np.float64(0.998), np.float64(0.98), np.float64(0.985)]\n"
     ]
    },
    {
     "name": "stderr",
     "output_type": "stream",
     "text": [
      " 92%|██████████████████████████████████████████████████████████████████████████████████████████████████████████████▍         | 230/250 [00:17<00:01, 17.45it/s]"
     ]
    },
    {
     "name": "stdout",
     "output_type": "stream",
     "text": [
      "--- Training --- [threshold, AUC] =  [np.float64(0.719), np.float64(0.998)]\n",
      "--- Iteration 230: Training loss --- [Data, Label, Total] = [48978.482326.3, 102.343380.3, 244994.755007.3]\n",
      "!!! pred_type filter\n"
     ]
    },
    {
     "name": "stderr",
     "output_type": "stream",
     "text": [
      " 95%|█████████████████████████████████████████████████████████████████████████████████████████████████████████████████▊      | 237/250 [00:18<00:00, 14.04it/s]"
     ]
    },
    {
     "name": "stdout",
     "output_type": "stream",
     "text": [
      "--- Validation --- [threshold, AUC, Accuracy, F score] =  [np.float64(0.719), np.float64(0.998), np.float64(0.98), np.float64(0.985)]\n",
      "--- Training --- [threshold, AUC] =  [np.float64(0.625), np.float64(0.998)]\n",
      "--- Iteration 240: Training loss --- [Data, Label, Total] = [48965.536739.3, 102.260587.3, 244929.944282.3]\n",
      "!!! pred_type filter\n"
     ]
    },
    {
     "name": "stderr",
     "output_type": "stream",
     "text": [
      " 98%|█████████████████████████████████████████████████████████████████████████████████████████████████████████████████████   | 244/250 [00:19<00:00, 11.88it/s]"
     ]
    },
    {
     "name": "stdout",
     "output_type": "stream",
     "text": [
      "--- Validation --- [threshold, AUC, Accuracy, F score] =  [np.float64(0.625), np.float64(0.998), np.float64(0.983), np.float64(0.987)]\n"
     ]
    },
    {
     "name": "stderr",
     "output_type": "stream",
     "text": [
      "100%|████████████████████████████████████████████████████████████████████████████████████████████████████████████████████████| 250/250 [00:19<00:00, 12.76it/s]\n"
     ]
    },
    {
     "name": "stdout",
     "output_type": "stream",
     "text": [
      "!!! pred_type filter\n",
      "num of subgraphs induced on k-paths: 500\n",
      "num of subgraphs induced on k-paths: 500\n",
      "X_list: (625, 1000)\n",
      "2\n",
      "(1, 500)\n",
      "(1, 500)\n",
      "label_vec: (1, 1000)\n",
      "num of subgraphs induced on k-paths: 500\n",
      "num of subgraphs induced on k-paths: 500\n",
      "X_list: (625, 1000)\n",
      "2\n",
      "(1, 500)\n",
      "(1, 500)\n",
      "label_vec: (1, 1000)\n",
      "num of subgraphs induced on k-paths: 500\n",
      "num of subgraphs induced on k-paths: 500\n",
      "X_list: (625, 1000)\n",
      "2\n",
      "(1, 500)\n",
      "(1, 500)\n",
      "label_vec: (1, 1000)\n",
      "num of subgraphs induced on k-paths: 500\n",
      "num of subgraphs induced on k-paths: 500\n",
      "X_list: (625, 1000)\n",
      "2\n",
      "(1, 500)\n",
      "(1, 500)\n",
      "label_vec: (1, 1000)\n",
      "26\n",
      "num of subgraphs induced on k-paths: 500\n",
      "num of subgraphs induced on k-paths: 500\n",
      "X_list: (676, 1000)\n",
      "2\n",
      "(1, 500)\n",
      "(1, 500)\n",
      "label_vec: (1, 1000)\n",
      "num of subgraphs induced on k-paths: 500\n",
      "num of subgraphs induced on k-paths: 1101\n",
      "X_list: (676, 1601)\n",
      "2\n",
      "(1, 500)\n",
      "(1, 1101)\n",
      "label_vec: (1, 1601)\n",
      "initial loading beta [[-0.65331451  0.85443367  0.43003118 -0.33776394  0.56016063  0.65643099\n",
      "   0.81724825 -0.03392554  0.57140419  0.38390859  0.97700556 -0.79025336\n",
      "   0.60567527 -0.81154389  0.90669698  0.90797947 -0.89995276]]\n"
     ]
    },
    {
     "name": "stderr",
     "output_type": "stream",
     "text": [
      "  0%|                                                                                                                                  | 0/250 [00:00<?, ?it/s]"
     ]
    },
    {
     "name": "stdout",
     "output_type": "stream",
     "text": [
      "--- Training --- [threshold, AUC] =  [np.float64(0.632), np.float64(0.997)]\n",
      "--- Iteration 0: Training loss --- [Data, Label, Total] = [93462.013050.3, 120.452956.3, 467430.518206.3]\n"
     ]
    },
    {
     "name": "stderr",
     "output_type": "stream",
     "text": [
      "  3%|███▉                                                                                                                      | 8/250 [00:00<00:07, 33.42it/s]"
     ]
    },
    {
     "name": "stdout",
     "output_type": "stream",
     "text": [
      "--- Training --- [threshold, AUC] =  [np.float64(0.683), np.float64(0.996)]\n",
      "--- Iteration 10: Training loss --- [Data, Label, Total] = [61132.119283.3, 112.932731.3, 305773.529144.3]\n",
      "!!! pred_type filter\n"
     ]
    },
    {
     "name": "stderr",
     "output_type": "stream",
     "text": [
      "  6%|███████▋                                                                                                                 | 16/250 [00:01<00:16, 14.56it/s]"
     ]
    },
    {
     "name": "stdout",
     "output_type": "stream",
     "text": [
      "--- Validation --- [threshold, AUC, Accuracy, F score] =  [np.float64(0.683), np.float64(0.996), np.float64(0.977), np.float64(0.983)]\n"
     ]
    },
    {
     "name": "stderr",
     "output_type": "stream",
     "text": [
      "  8%|█████████▋                                                                                                               | 20/250 [00:01<00:12, 18.55it/s]"
     ]
    },
    {
     "name": "stdout",
     "output_type": "stream",
     "text": [
      "--- Training --- [threshold, AUC] =  [np.float64(0.569), np.float64(0.997)]\n",
      "--- Iteration 20: Training loss --- [Data, Label, Total] = [58172.474142.3, 105.857829.3, 290968.228541.3]\n",
      "!!! pred_type filter\n"
     ]
    },
    {
     "name": "stderr",
     "output_type": "stream",
     "text": [
      " 11%|█████████████▌                                                                                                           | 28/250 [00:01<00:15, 13.95it/s]"
     ]
    },
    {
     "name": "stdout",
     "output_type": "stream",
     "text": [
      "--- Validation --- [threshold, AUC, Accuracy, F score] =  [np.float64(0.569), np.float64(0.997), np.float64(0.983), np.float64(0.987)]\n",
      "--- Training --- [threshold, AUC] =  [np.float64(0.519), np.float64(0.997)]\n",
      "--- Iteration 30: Training loss --- [Data, Label, Total] = [56611.681440.3, 104.704916.3, 283163.112114.3]\n",
      "!!! pred_type filter\n"
     ]
    },
    {
     "name": "stderr",
     "output_type": "stream",
     "text": [
      " 14%|████████████████▍                                                                                                        | 34/250 [00:02<00:19, 11.31it/s]"
     ]
    },
    {
     "name": "stdout",
     "output_type": "stream",
     "text": [
      "--- Validation --- [threshold, AUC, Accuracy, F score] =  [np.float64(0.519), np.float64(0.997), np.float64(0.986), np.float64(0.99)]\n"
     ]
    },
    {
     "name": "stderr",
     "output_type": "stream",
     "text": [
      " 16%|███████████████████▎                                                                                                     | 40/250 [00:02<00:13, 15.94it/s]"
     ]
    },
    {
     "name": "stdout",
     "output_type": "stream",
     "text": [
      "--- Training --- [threshold, AUC] =  [np.float64(0.592), np.float64(0.997)]\n",
      "--- Iteration 40: Training loss --- [Data, Label, Total] = [55673.609757.3, 104.982209.3, 278473.030994.3]\n",
      "!!! pred_type filter\n"
     ]
    },
    {
     "name": "stderr",
     "output_type": "stream",
     "text": [
      " 19%|██████████████████████▋                                                                                                  | 47/250 [00:03<00:15, 12.76it/s]"
     ]
    },
    {
     "name": "stdout",
     "output_type": "stream",
     "text": [
      "--- Validation --- [threshold, AUC, Accuracy, F score] =  [np.float64(0.592), np.float64(0.997), np.float64(0.984), np.float64(0.989)]\n",
      "--- Training --- [threshold, AUC] =  [np.float64(0.595), np.float64(0.997)]\n",
      "--- Iteration 50: Training loss --- [Data, Label, Total] = [55088.419474.3, 105.574755.3, 275547.672126.3]\n",
      "!!! pred_type filter\n"
     ]
    },
    {
     "name": "stderr",
     "output_type": "stream",
     "text": [
      " 22%|██████████████████████████▌                                                                                              | 55/250 [00:04<00:15, 12.29it/s]"
     ]
    },
    {
     "name": "stdout",
     "output_type": "stream",
     "text": [
      "--- Validation --- [threshold, AUC, Accuracy, F score] =  [np.float64(0.595), np.float64(0.997), np.float64(0.984), np.float64(0.989)]\n"
     ]
    },
    {
     "name": "stderr",
     "output_type": "stream",
     "text": [
      " 24%|████████████████████████████▌                                                                                            | 59/250 [00:04<00:12, 15.45it/s]"
     ]
    },
    {
     "name": "stdout",
     "output_type": "stream",
     "text": [
      "--- Training --- [threshold, AUC] =  [np.float64(0.595), np.float64(0.997)]\n",
      "--- Iteration 60: Training loss --- [Data, Label, Total] = [54717.181922.3, 106.484927.3, 273692.394536.3]\n",
      "!!! pred_type filter\n"
     ]
    },
    {
     "name": "stderr",
     "output_type": "stream",
     "text": [
      " 26%|███████████████████████████████▉                                                                                         | 66/250 [00:05<00:14, 12.81it/s]"
     ]
    },
    {
     "name": "stdout",
     "output_type": "stream",
     "text": [
      "--- Validation --- [threshold, AUC, Accuracy, F score] =  [np.float64(0.595), np.float64(0.997), np.float64(0.984), np.float64(0.989)]\n"
     ]
    },
    {
     "name": "stderr",
     "output_type": "stream",
     "text": [
      " 28%|█████████████████████████████████▉                                                                                       | 70/250 [00:05<00:11, 16.10it/s]"
     ]
    },
    {
     "name": "stdout",
     "output_type": "stream",
     "text": [
      "--- Training --- [threshold, AUC] =  [np.float64(0.594), np.float64(0.997)]\n",
      "--- Iteration 70: Training loss --- [Data, Label, Total] = [54467.490535.3, 106.822987.3, 272444.275661.3]\n",
      "!!! pred_type filter\n"
     ]
    },
    {
     "name": "stderr",
     "output_type": "stream",
     "text": [
      " 31%|█████████████████████████████████████▎                                                                                   | 77/250 [00:06<00:12, 13.31it/s]"
     ]
    },
    {
     "name": "stdout",
     "output_type": "stream",
     "text": [
      "--- Validation --- [threshold, AUC, Accuracy, F score] =  [np.float64(0.594), np.float64(0.997), np.float64(0.984), np.float64(0.989)]\n",
      "--- Training --- [threshold, AUC] =  [np.float64(0.608), np.float64(0.997)]\n",
      "--- Iteration 80: Training loss --- [Data, Label, Total] = [54292.257711.3, 107.009502.3, 271568.298055.3]\n",
      "!!! pred_type filter\n"
     ]
    },
    {
     "name": "stderr",
     "output_type": "stream",
     "text": [
      " 34%|█████████████████████████████████████████▏                                                                               | 85/250 [00:06<00:12, 12.85it/s]"
     ]
    },
    {
     "name": "stdout",
     "output_type": "stream",
     "text": [
      "--- Validation --- [threshold, AUC, Accuracy, F score] =  [np.float64(0.608), np.float64(0.997), np.float64(0.984), np.float64(0.988)]\n"
     ]
    },
    {
     "name": "stderr",
     "output_type": "stream",
     "text": [
      " 36%|███████████████████████████████████████████                                                                              | 89/250 [00:06<00:09, 16.13it/s]"
     ]
    },
    {
     "name": "stdout",
     "output_type": "stream",
     "text": [
      "--- Training --- [threshold, AUC] =  [np.float64(0.537), np.float64(0.997)]\n",
      "--- Iteration 90: Training loss --- [Data, Label, Total] = [54163.128262.3, 107.372337.3, 270923.013645.3]\n",
      "!!! pred_type filter\n"
     ]
    },
    {
     "name": "stderr",
     "output_type": "stream",
     "text": [
      " 38%|█████████████████████████████████████████████▉                                                                           | 95/250 [00:07<00:13, 11.91it/s]"
     ]
    },
    {
     "name": "stdout",
     "output_type": "stream",
     "text": [
      "--- Validation --- [threshold, AUC, Accuracy, F score] =  [np.float64(0.537), np.float64(0.997), np.float64(0.985), np.float64(0.989)]\n"
     ]
    },
    {
     "name": "stderr",
     "output_type": "stream",
     "text": [
      " 39%|███████████████████████████████████████████████▍                                                                         | 98/250 [00:07<00:11, 13.81it/s]"
     ]
    },
    {
     "name": "stdout",
     "output_type": "stream",
     "text": [
      "--- Training --- [threshold, AUC] =  [np.float64(0.547), np.float64(0.997)]\n",
      "--- Iteration 100: Training loss --- [Data, Label, Total] = [54062.214975.3, 107.101840.3, 270418.176716.3]\n",
      "!!! pred_type filter\n"
     ]
    },
    {
     "name": "stderr",
     "output_type": "stream",
     "text": [
      " 42%|██████████████████████████████████████████████████▍                                                                     | 105/250 [00:08<00:12, 12.08it/s]"
     ]
    },
    {
     "name": "stdout",
     "output_type": "stream",
     "text": [
      "--- Validation --- [threshold, AUC, Accuracy, F score] =  [np.float64(0.547), np.float64(0.997), np.float64(0.985), np.float64(0.989)]\n"
     ]
    },
    {
     "name": "stderr",
     "output_type": "stream",
     "text": [
      " 44%|████████████████████████████████████████████████████▎                                                                   | 109/250 [00:08<00:09, 15.29it/s]"
     ]
    },
    {
     "name": "stdout",
     "output_type": "stream",
     "text": [
      "--- Training --- [threshold, AUC] =  [np.float64(0.554), np.float64(0.997)]\n",
      "--- Iteration 110: Training loss --- [Data, Label, Total] = [53979.606139.3, 107.349854.3, 270005.380548.3]\n",
      "!!! pred_type filter\n"
     ]
    },
    {
     "name": "stderr",
     "output_type": "stream",
     "text": [
      " 46%|███████████████████████████████████████████████████████▋                                                                | 116/250 [00:09<00:11, 11.98it/s]"
     ]
    },
    {
     "name": "stdout",
     "output_type": "stream",
     "text": [
      "--- Validation --- [threshold, AUC, Accuracy, F score] =  [np.float64(0.554), np.float64(0.997), np.float64(0.985), np.float64(0.989)]\n"
     ]
    },
    {
     "name": "stderr",
     "output_type": "stream",
     "text": [
      " 48%|█████████████████████████████████████████████████████████▌                                                              | 120/250 [00:09<00:08, 14.95it/s]"
     ]
    },
    {
     "name": "stdout",
     "output_type": "stream",
     "text": [
      "--- Training --- [threshold, AUC] =  [np.float64(0.558), np.float64(0.997)]\n",
      "--- Iteration 120: Training loss --- [Data, Label, Total] = [53909.724476.3, 107.253233.3, 269655.875614.3]\n",
      "!!! pred_type filter\n"
     ]
    },
    {
     "name": "stderr",
     "output_type": "stream",
     "text": [
      " 51%|████████████████████████████████████████████████████████████▉                                                           | 127/250 [00:10<00:10, 12.29it/s]"
     ]
    },
    {
     "name": "stdout",
     "output_type": "stream",
     "text": [
      "--- Validation --- [threshold, AUC, Accuracy, F score] =  [np.float64(0.558), np.float64(0.997), np.float64(0.985), np.float64(0.989)]\n",
      "--- Training --- [threshold, AUC] =  [np.float64(0.561), np.float64(0.997)]\n",
      "--- Iteration 130: Training loss --- [Data, Label, Total] = [53849.497630.3, 107.270159.3, 269354.758311.3]\n",
      "!!! pred_type filter\n"
     ]
    },
    {
     "name": "stderr",
     "output_type": "stream",
     "text": [
      " 54%|████████████████████████████████████████████████████████████████▊                                                       | 135/250 [00:11<00:09, 12.01it/s]"
     ]
    },
    {
     "name": "stdout",
     "output_type": "stream",
     "text": [
      "--- Validation --- [threshold, AUC, Accuracy, F score] =  [np.float64(0.561), np.float64(0.997), np.float64(0.985), np.float64(0.989)]\n"
     ]
    },
    {
     "name": "stderr",
     "output_type": "stream",
     "text": [
      " 56%|██████████████████████████████████████████████████████████████████▋                                                     | 139/250 [00:11<00:07, 15.01it/s]"
     ]
    },
    {
     "name": "stdout",
     "output_type": "stream",
     "text": [
      "--- Training --- [threshold, AUC] =  [np.float64(0.542), np.float64(0.997)]\n",
      "--- Iteration 140: Training loss --- [Data, Label, Total] = [53797.328378.3, 107.062695.3, 269093.704585.3]\n",
      "!!! pred_type filter\n"
     ]
    },
    {
     "name": "stderr",
     "output_type": "stream",
     "text": [
      " 58%|██████████████████████████████████████████████████████████████████████                                                  | 146/250 [00:12<00:08, 12.62it/s]"
     ]
    },
    {
     "name": "stdout",
     "output_type": "stream",
     "text": [
      "--- Validation --- [threshold, AUC, Accuracy, F score] =  [np.float64(0.542), np.float64(0.997), np.float64(0.986), np.float64(0.99)]\n"
     ]
    },
    {
     "name": "stderr",
     "output_type": "stream",
     "text": [
      " 60%|████████████████████████████████████████████████████████████████████████                                                | 150/250 [00:12<00:06, 15.75it/s]"
     ]
    },
    {
     "name": "stdout",
     "output_type": "stream",
     "text": [
      "--- Training --- [threshold, AUC] =  [np.float64(0.554), np.float64(0.997)]\n",
      "--- Iteration 150: Training loss --- [Data, Label, Total] = [53751.795833.3, 106.835047.3, 268865.814214.3]\n",
      "!!! pred_type filter\n"
     ]
    },
    {
     "name": "stderr",
     "output_type": "stream",
     "text": [
      " 63%|███████████████████████████████████████████████████████████████████████████▎                                            | 157/250 [00:13<00:07, 12.26it/s]"
     ]
    },
    {
     "name": "stdout",
     "output_type": "stream",
     "text": [
      "--- Validation --- [threshold, AUC, Accuracy, F score] =  [np.float64(0.554), np.float64(0.997), np.float64(0.986), np.float64(0.99)]\n",
      "--- Training --- [threshold, AUC] =  [np.float64(0.562), np.float64(0.997)]\n",
      "--- Iteration 160: Training loss --- [Data, Label, Total] = [53711.854568.3, 106.503053.3, 268665.775892.3]\n",
      "!!! pred_type filter\n"
     ]
    },
    {
     "name": "stderr",
     "output_type": "stream",
     "text": [
      " 66%|███████████████████████████████████████████████████████████████████████████████▏                                        | 165/250 [00:13<00:07, 11.96it/s]"
     ]
    },
    {
     "name": "stdout",
     "output_type": "stream",
     "text": [
      "--- Validation --- [threshold, AUC, Accuracy, F score] =  [np.float64(0.562), np.float64(0.997), np.float64(0.986), np.float64(0.99)]\n"
     ]
    },
    {
     "name": "stderr",
     "output_type": "stream",
     "text": [
      " 68%|█████████████████████████████████████████████████████████████████████████████████                                       | 169/250 [00:13<00:05, 14.97it/s]"
     ]
    },
    {
     "name": "stdout",
     "output_type": "stream",
     "text": [
      "--- Training --- [threshold, AUC] =  [np.float64(0.565), np.float64(0.997)]\n",
      "--- Iteration 170: Training loss --- [Data, Label, Total] = [53675.667525.3, 106.572637.3, 268484.910264.3]\n",
      "!!! pred_type filter\n"
     ]
    },
    {
     "name": "stderr",
     "output_type": "stream",
     "text": [
      " 70%|████████████████████████████████████████████████████████████████████████████████████▍                                   | 176/250 [00:14<00:06, 12.23it/s]"
     ]
    },
    {
     "name": "stdout",
     "output_type": "stream",
     "text": [
      "--- Validation --- [threshold, AUC, Accuracy, F score] =  [np.float64(0.565), np.float64(0.997), np.float64(0.986), np.float64(0.99)]\n"
     ]
    },
    {
     "name": "stderr",
     "output_type": "stream",
     "text": [
      " 72%|██████████████████████████████████████████████████████████████████████████████████████▍                                 | 180/250 [00:14<00:04, 15.31it/s]"
     ]
    },
    {
     "name": "stdout",
     "output_type": "stream",
     "text": [
      "--- Training --- [threshold, AUC] =  [np.float64(0.566), np.float64(0.997)]\n",
      "--- Iteration 180: Training loss --- [Data, Label, Total] = [53642.071109.3, 106.439359.3, 268316.794906.3]\n",
      "!!! pred_type filter\n"
     ]
    },
    {
     "name": "stderr",
     "output_type": "stream",
     "text": [
      " 75%|█████████████████████████████████████████████████████████████████████████████████████████▊                              | 187/250 [00:15<00:04, 13.00it/s]"
     ]
    },
    {
     "name": "stdout",
     "output_type": "stream",
     "text": [
      "--- Validation --- [threshold, AUC, Accuracy, F score] =  [np.float64(0.566), np.float64(0.997), np.float64(0.986), np.float64(0.99)]\n"
     ]
    },
    {
     "name": "stderr",
     "output_type": "stream",
     "text": [
      " 76%|███████████████████████████████████████████████████████████████████████████████████████████▏                            | 190/250 [00:15<00:03, 15.17it/s]"
     ]
    },
    {
     "name": "stdout",
     "output_type": "stream",
     "text": [
      "--- Training --- [threshold, AUC] =  [np.float64(0.566), np.float64(0.997)]\n",
      "--- Iteration 190: Training loss --- [Data, Label, Total] = [53610.297278.3, 106.136479.3, 268157.622871.3]\n",
      "!!! pred_type filter\n"
     ]
    },
    {
     "name": "stderr",
     "output_type": "stream",
     "text": [
      " 78%|██████████████████████████████████████████████████████████████████████████████████████████████                          | 196/250 [00:16<00:04, 11.35it/s]"
     ]
    },
    {
     "name": "stdout",
     "output_type": "stream",
     "text": [
      "--- Validation --- [threshold, AUC, Accuracy, F score] =  [np.float64(0.566), np.float64(0.997), np.float64(0.986), np.float64(0.99)]\n"
     ]
    },
    {
     "name": "stderr",
     "output_type": "stream",
     "text": [
      " 80%|████████████████████████████████████████████████████████████████████████████████████████████████                        | 200/250 [00:16<00:03, 14.64it/s]"
     ]
    },
    {
     "name": "stdout",
     "output_type": "stream",
     "text": [
      "--- Training --- [threshold, AUC] =  [np.float64(0.564), np.float64(0.997)]\n",
      "--- Iteration 200: Training loss --- [Data, Label, Total] = [53579.899845.3, 105.913282.3, 268005.412506.3]\n",
      "!!! pred_type filter\n"
     ]
    },
    {
     "name": "stderr",
     "output_type": "stream",
     "text": [
      " 83%|███████████████████████████████████████████████████████████████████████████████████████████████████▎                    | 207/250 [00:17<00:03, 12.42it/s]"
     ]
    },
    {
     "name": "stdout",
     "output_type": "stream",
     "text": [
      "--- Validation --- [threshold, AUC, Accuracy, F score] =  [np.float64(0.564), np.float64(0.997), np.float64(0.986), np.float64(0.99)]\n",
      "--- Training --- [threshold, AUC] =  [np.float64(0.564), np.float64(0.997)]\n",
      "--- Iteration 210: Training loss --- [Data, Label, Total] = [53550.377867.3, 105.782499.3, 267857.671832.3]\n",
      "!!! pred_type filter\n"
     ]
    },
    {
     "name": "stderr",
     "output_type": "stream",
     "text": [
      " 86%|███████████████████████████████████████████████████████████████████████████████████████████████████████▏                | 215/250 [00:18<00:03, 11.58it/s]"
     ]
    },
    {
     "name": "stdout",
     "output_type": "stream",
     "text": [
      "--- Validation --- [threshold, AUC, Accuracy, F score] =  [np.float64(0.564), np.float64(0.997), np.float64(0.986), np.float64(0.99)]\n"
     ]
    },
    {
     "name": "stderr",
     "output_type": "stream",
     "text": [
      " 88%|█████████████████████████████████████████████████████████████████████████████████████████████████████████               | 219/250 [00:18<00:02, 14.53it/s]"
     ]
    },
    {
     "name": "stdout",
     "output_type": "stream",
     "text": [
      "--- Training --- [threshold, AUC] =  [np.float64(0.555), np.float64(0.997)]\n",
      "--- Iteration 220: Training loss --- [Data, Label, Total] = [53521.398368.3, 105.680419.3, 267712.672261.3]\n",
      "!!! pred_type filter\n"
     ]
    },
    {
     "name": "stderr",
     "output_type": "stream",
     "text": [
      " 90%|████████████████████████████████████████████████████████████████████████████████████████████████████████████▍           | 226/250 [00:19<00:01, 12.53it/s]"
     ]
    },
    {
     "name": "stdout",
     "output_type": "stream",
     "text": [
      "--- Validation --- [threshold, AUC, Accuracy, F score] =  [np.float64(0.555), np.float64(0.997), np.float64(0.986), np.float64(0.99)]\n"
     ]
    },
    {
     "name": "stderr",
     "output_type": "stream",
     "text": [
      " 92%|██████████████████████████████████████████████████████████████████████████████████████████████████████████████▍         | 230/250 [00:19<00:01, 15.64it/s]"
     ]
    },
    {
     "name": "stdout",
     "output_type": "stream",
     "text": [
      "--- Training --- [threshold, AUC] =  [np.float64(0.558), np.float64(0.997)]\n",
      "--- Iteration 230: Training loss --- [Data, Label, Total] = [53492.997123.3, 105.491855.3, 267570.477469.3]\n",
      "!!! pred_type filter\n"
     ]
    },
    {
     "name": "stderr",
     "output_type": "stream",
     "text": [
      " 95%|█████████████████████████████████████████████████████████████████████████████████████████████████████████████████▊      | 237/250 [00:19<00:00, 13.10it/s]"
     ]
    },
    {
     "name": "stdout",
     "output_type": "stream",
     "text": [
      "--- Validation --- [threshold, AUC, Accuracy, F score] =  [np.float64(0.558), np.float64(0.997), np.float64(0.986), np.float64(0.99)]\n"
     ]
    },
    {
     "name": "stderr",
     "output_type": "stream",
     "text": [
      " 96%|███████████████████████████████████████████████████████████████████████████████████████████████████████████████████▏    | 240/250 [00:20<00:00, 14.49it/s]"
     ]
    },
    {
     "name": "stdout",
     "output_type": "stream",
     "text": [
      "--- Training --- [threshold, AUC] =  [np.float64(0.562), np.float64(0.997)]\n",
      "--- Iteration 240: Training loss --- [Data, Label, Total] = [53465.110395.3, 105.218732.3, 267430.770704.3]\n",
      "!!! pred_type filter\n"
     ]
    },
    {
     "name": "stderr",
     "output_type": "stream",
     "text": [
      " 99%|██████████████████████████████████████████████████████████████████████████████████████████████████████████████████████▌ | 247/250 [00:20<00:00, 13.04it/s]"
     ]
    },
    {
     "name": "stdout",
     "output_type": "stream",
     "text": [
      "--- Validation --- [threshold, AUC, Accuracy, F score] =  [np.float64(0.562), np.float64(0.997), np.float64(0.986), np.float64(0.99)]\n"
     ]
    },
    {
     "name": "stderr",
     "output_type": "stream",
     "text": [
      "100%|████████████████████████████████████████████████████████████████████████████████████████████████████████████████████████| 250/250 [00:20<00:00, 12.03it/s]\n"
     ]
    },
    {
     "name": "stdout",
     "output_type": "stream",
     "text": [
      "!!! pred_type filter\n",
      "num of subgraphs induced on k-paths: 500\n",
      "num of subgraphs induced on k-paths: 500\n",
      "X_list: (676, 1000)\n",
      "2\n",
      "(1, 500)\n",
      "(1, 500)\n",
      "label_vec: (1, 1000)\n",
      "num of subgraphs induced on k-paths: 500\n",
      "num of subgraphs induced on k-paths: 500\n",
      "X_list: (676, 1000)\n",
      "2\n",
      "(1, 500)\n",
      "(1, 500)\n",
      "label_vec: (1, 1000)\n",
      "num of subgraphs induced on k-paths: 500\n",
      "num of subgraphs induced on k-paths: 500\n",
      "X_list: (676, 1000)\n",
      "2\n",
      "(1, 500)\n",
      "(1, 500)\n",
      "label_vec: (1, 1000)\n",
      "num of subgraphs induced on k-paths: 500\n",
      "num of subgraphs induced on k-paths: 500\n",
      "X_list: (676, 1000)\n",
      "2\n",
      "(1, 500)\n",
      "(1, 500)\n",
      "label_vec: (1, 1000)\n",
      "27\n",
      "num of subgraphs induced on k-paths: 500\n",
      "num of subgraphs induced on k-paths: 500\n",
      "X_list: (729, 1000)\n",
      "2\n",
      "(1, 500)\n",
      "(1, 500)\n",
      "label_vec: (1, 1000)\n",
      "num of subgraphs induced on k-paths: 500\n",
      "num of subgraphs induced on k-paths: 1095\n",
      "X_list: (729, 1595)\n",
      "2\n",
      "(1, 500)\n",
      "(1, 1095)\n",
      "label_vec: (1, 1595)\n",
      "initial loading beta [[ 0.40328766 -0.1169045   0.69038782 -0.36222429  0.58802539  0.96875241\n",
      "   0.40908338 -0.4056416  -0.41188254 -0.80761913  0.67128167 -0.81261388\n",
      "  -0.4657384  -0.11127823  0.8743472   0.91589984 -0.7736486 ]]\n"
     ]
    },
    {
     "name": "stderr",
     "output_type": "stream",
     "text": [
      "  1%|█▍                                                                                                                        | 3/250 [00:00<00:08, 28.83it/s]"
     ]
    },
    {
     "name": "stdout",
     "output_type": "stream",
     "text": [
      "--- Training --- [threshold, AUC] =  [np.float64(0.775), np.float64(0.997)]\n",
      "--- Iteration 0: Training loss --- [Data, Label, Total] = [101124.967289.3, 113.191760.3, 505738.028206.3]\n"
     ]
    },
    {
     "name": "stderr",
     "output_type": "stream",
     "text": [
      "  3%|███▍                                                                                                                      | 7/250 [00:00<00:07, 31.00it/s]"
     ]
    },
    {
     "name": "stdout",
     "output_type": "stream",
     "text": [
      "--- Training --- [threshold, AUC] =  [np.float64(0.804), np.float64(0.998)]\n",
      "--- Iteration 10: Training loss --- [Data, Label, Total] = [66594.630013.3, 94.091167.3, 333067.241232.3]\n",
      "!!! pred_type filter\n"
     ]
    },
    {
     "name": "stderr",
     "output_type": "stream",
     "text": [
      "  6%|███████▎                                                                                                                 | 15/250 [00:01<00:17, 13.32it/s]"
     ]
    },
    {
     "name": "stdout",
     "output_type": "stream",
     "text": [
      "--- Validation --- [threshold, AUC, Accuracy, F score] =  [np.float64(0.804), np.float64(0.998), np.float64(0.979), np.float64(0.984)]\n"
     ]
    },
    {
     "name": "stderr",
     "output_type": "stream",
     "text": [
      "  8%|█████████▏                                                                                                               | 19/250 [00:01<00:13, 17.08it/s]"
     ]
    },
    {
     "name": "stdout",
     "output_type": "stream",
     "text": [
      "--- Training --- [threshold, AUC] =  [np.float64(0.785), np.float64(0.998)]\n",
      "--- Iteration 20: Training loss --- [Data, Label, Total] = [63506.556663.3, 90.536301.3, 317623.319619.3]\n",
      "!!! pred_type filter\n"
     ]
    },
    {
     "name": "stderr",
     "output_type": "stream",
     "text": [
      " 10%|████████████▌                                                                                                            | 26/250 [00:01<00:17, 12.78it/s]"
     ]
    },
    {
     "name": "stdout",
     "output_type": "stream",
     "text": [
      "--- Validation --- [threshold, AUC, Accuracy, F score] =  [np.float64(0.785), np.float64(0.998), np.float64(0.981), np.float64(0.986)]\n"
     ]
    },
    {
     "name": "stderr",
     "output_type": "stream",
     "text": [
      " 12%|██████████████▌                                                                                                          | 30/250 [00:02<00:13, 16.21it/s]"
     ]
    },
    {
     "name": "stdout",
     "output_type": "stream",
     "text": [
      "--- Training --- [threshold, AUC] =  [np.float64(0.759), np.float64(0.998)]\n",
      "--- Iteration 30: Training loss --- [Data, Label, Total] = [61581.070044.3, 90.298363.3, 307995.648580.3]\n",
      "!!! pred_type filter\n"
     ]
    },
    {
     "name": "stderr",
     "output_type": "stream",
     "text": [
      " 15%|█████████████████▉                                                                                                       | 37/250 [00:02<00:16, 13.07it/s]"
     ]
    },
    {
     "name": "stdout",
     "output_type": "stream",
     "text": [
      "--- Validation --- [threshold, AUC, Accuracy, F score] =  [np.float64(0.759), np.float64(0.998), np.float64(0.982), np.float64(0.987)]\n",
      "--- Training --- [threshold, AUC] =  [np.float64(0.734), np.float64(0.998)]\n",
      "--- Iteration 40: Training loss --- [Data, Label, Total] = [60539.904129.3, 91.447173.3, 302790.967816.3]\n",
      "!!! pred_type filter\n"
     ]
    },
    {
     "name": "stderr",
     "output_type": "stream",
     "text": [
      " 18%|█████████████████████▊                                                                                                   | 45/250 [00:03<00:16, 12.63it/s]"
     ]
    },
    {
     "name": "stdout",
     "output_type": "stream",
     "text": [
      "--- Validation --- [threshold, AUC, Accuracy, F score] =  [np.float64(0.734), np.float64(0.998), np.float64(0.984), np.float64(0.988)]\n"
     ]
    },
    {
     "name": "stderr",
     "output_type": "stream",
     "text": [
      " 20%|███████████████████████▋                                                                                                 | 49/250 [00:03<00:12, 15.74it/s]"
     ]
    },
    {
     "name": "stdout",
     "output_type": "stream",
     "text": [
      "--- Training --- [threshold, AUC] =  [np.float64(0.725), np.float64(0.998)]\n",
      "--- Iteration 50: Training loss --- [Data, Label, Total] = [59922.674330.3, 92.557449.3, 299705.929099.3]\n",
      "!!! pred_type filter\n"
     ]
    },
    {
     "name": "stderr",
     "output_type": "stream",
     "text": [
      " 22%|██████████████████████████▌                                                                                              | 55/250 [00:04<00:16, 11.90it/s]"
     ]
    },
    {
     "name": "stdout",
     "output_type": "stream",
     "text": [
      "--- Validation --- [threshold, AUC, Accuracy, F score] =  [np.float64(0.725), np.float64(0.998), np.float64(0.984), np.float64(0.989)]\n"
     ]
    },
    {
     "name": "stderr",
     "output_type": "stream",
     "text": [
      " 23%|████████████████████████████                                                                                             | 58/250 [00:04<00:13, 13.98it/s]"
     ]
    },
    {
     "name": "stdout",
     "output_type": "stream",
     "text": [
      "--- Training --- [threshold, AUC] =  [np.float64(0.723), np.float64(0.998)]\n",
      "--- Iteration 60: Training loss --- [Data, Label, Total] = [59520.703210.3, 93.340098.3, 297696.856150.3]\n",
      "!!! pred_type filter\n"
     ]
    },
    {
     "name": "stderr",
     "output_type": "stream",
     "text": [
      " 26%|███████████████████████████████▍                                                                                         | 65/250 [00:05<00:14, 12.41it/s]"
     ]
    },
    {
     "name": "stdout",
     "output_type": "stream",
     "text": [
      "--- Validation --- [threshold, AUC, Accuracy, F score] =  [np.float64(0.723), np.float64(0.998), np.float64(0.984), np.float64(0.989)]\n"
     ]
    },
    {
     "name": "stderr",
     "output_type": "stream",
     "text": [
      " 28%|█████████████████████████████████▍                                                                                       | 69/250 [00:05<00:11, 15.65it/s]"
     ]
    },
    {
     "name": "stdout",
     "output_type": "stream",
     "text": [
      "--- Training --- [threshold, AUC] =  [np.float64(0.722), np.float64(0.998)]\n",
      "--- Iteration 70: Training loss --- [Data, Label, Total] = [59230.722183.3, 93.821643.3, 296247.432557.3]\n",
      "!!! pred_type filter\n"
     ]
    },
    {
     "name": "stderr",
     "output_type": "stream",
     "text": [
      " 30%|████████████████████████████████████▊                                                                                    | 76/250 [00:06<00:12, 13.47it/s]"
     ]
    },
    {
     "name": "stdout",
     "output_type": "stream",
     "text": [
      "--- Validation --- [threshold, AUC, Accuracy, F score] =  [np.float64(0.722), np.float64(0.998), np.float64(0.984), np.float64(0.988)]\n"
     ]
    },
    {
     "name": "stderr",
     "output_type": "stream",
     "text": [
      " 32%|██████████████████████████████████████▋                                                                                  | 80/250 [00:06<00:10, 16.72it/s]"
     ]
    },
    {
     "name": "stdout",
     "output_type": "stream",
     "text": [
      "--- Training --- [threshold, AUC] =  [np.float64(0.73), np.float64(0.998)]\n",
      "--- Iteration 80: Training loss --- [Data, Label, Total] = [59006.186080.3, 94.171480.3, 295125.101882.3]\n",
      "!!! pred_type filter\n"
     ]
    },
    {
     "name": "stderr",
     "output_type": "stream",
     "text": [
      " 34%|█████████████████████████████████████████▌                                                                               | 86/250 [00:06<00:12, 12.83it/s]"
     ]
    },
    {
     "name": "stdout",
     "output_type": "stream",
     "text": [
      "--- Validation --- [threshold, AUC, Accuracy, F score] =  [np.float64(0.73), np.float64(0.998), np.float64(0.983), np.float64(0.988)]\n"
     ]
    },
    {
     "name": "stderr",
     "output_type": "stream",
     "text": [
      " 36%|███████████████████████████████████████████▌                                                                             | 90/250 [00:07<00:09, 16.22it/s]"
     ]
    },
    {
     "name": "stdout",
     "output_type": "stream",
     "text": [
      "--- Training --- [threshold, AUC] =  [np.float64(0.763), np.float64(0.998)]\n",
      "--- Iteration 90: Training loss --- [Data, Label, Total] = [58826.720980.3, 94.483939.3, 294228.088836.3]\n",
      "!!! pred_type filter\n"
     ]
    },
    {
     "name": "stderr",
     "output_type": "stream",
     "text": [
      " 39%|██████████████████████████████████████████████▉                                                                          | 97/250 [00:07<00:12, 12.74it/s]"
     ]
    },
    {
     "name": "stdout",
     "output_type": "stream",
     "text": [
      "--- Validation --- [threshold, AUC, Accuracy, F score] =  [np.float64(0.763), np.float64(0.998), np.float64(0.981), np.float64(0.986)]\n"
     ]
    },
    {
     "name": "stderr",
     "output_type": "stream",
     "text": [
      " 40%|████████████████████████████████████████████████                                                                        | 100/250 [00:07<00:09, 15.03it/s]"
     ]
    },
    {
     "name": "stdout",
     "output_type": "stream",
     "text": [
      "--- Training --- [threshold, AUC] =  [np.float64(0.763), np.float64(0.998)]\n",
      "--- Iteration 100: Training loss --- [Data, Label, Total] = [58679.371910.3, 94.564208.3, 293491.423760.3]\n",
      "!!! pred_type filter\n"
     ]
    },
    {
     "name": "stderr",
     "output_type": "stream",
     "text": [
      " 43%|███████████████████████████████████████████████████▎                                                                    | 107/250 [00:08<00:11, 12.82it/s]"
     ]
    },
    {
     "name": "stdout",
     "output_type": "stream",
     "text": [
      "--- Validation --- [threshold, AUC, Accuracy, F score] =  [np.float64(0.763), np.float64(0.998), np.float64(0.981), np.float64(0.986)]\n"
     ]
    },
    {
     "name": "stderr",
     "output_type": "stream",
     "text": [
      " 44%|████████████████████████████████████████████████████▊                                                                   | 110/250 [00:08<00:09, 14.90it/s]"
     ]
    },
    {
     "name": "stdout",
     "output_type": "stream",
     "text": [
      "--- Training --- [threshold, AUC] =  [np.float64(0.751), np.float64(0.998)]\n",
      "--- Iteration 110: Training loss --- [Data, Label, Total] = [58556.900483.3, 94.850068.3, 292879.352485.3]\n",
      "!!! pred_type filter\n"
     ]
    },
    {
     "name": "stderr",
     "output_type": "stream",
     "text": [
      " 46%|███████████████████████████████████████████████████████▋                                                                | 116/250 [00:09<00:11, 11.47it/s]"
     ]
    },
    {
     "name": "stdout",
     "output_type": "stream",
     "text": [
      "--- Validation --- [threshold, AUC, Accuracy, F score] =  [np.float64(0.751), np.float64(0.998), np.float64(0.982), np.float64(0.987)]\n"
     ]
    },
    {
     "name": "stderr",
     "output_type": "stream",
     "text": [
      " 48%|█████████████████████████████████████████████████████████                                                               | 119/250 [00:09<00:09, 13.57it/s]"
     ]
    },
    {
     "name": "stdout",
     "output_type": "stream",
     "text": [
      "--- Training --- [threshold, AUC] =  [np.float64(0.756), np.float64(0.998)]\n",
      "--- Iteration 120: Training loss --- [Data, Label, Total] = [58454.058599.3, 94.915751.3, 292365.208743.3]\n",
      "!!! pred_type filter\n"
     ]
    },
    {
     "name": "stderr",
     "output_type": "stream",
     "text": [
      " 50%|████████████████████████████████████████████████████████████▍                                                           | 126/250 [00:10<00:10, 12.25it/s]"
     ]
    },
    {
     "name": "stdout",
     "output_type": "stream",
     "text": [
      "--- Validation --- [threshold, AUC, Accuracy, F score] =  [np.float64(0.756), np.float64(0.998), np.float64(0.982), np.float64(0.987)]\n"
     ]
    },
    {
     "name": "stderr",
     "output_type": "stream",
     "text": [
      " 52%|██████████████████████████████████████████████████████████████▍                                                         | 130/250 [00:10<00:07, 15.66it/s]"
     ]
    },
    {
     "name": "stdout",
     "output_type": "stream",
     "text": [
      "--- Training --- [threshold, AUC] =  [np.float64(0.76), np.float64(0.998)]\n",
      "--- Iteration 130: Training loss --- [Data, Label, Total] = [58366.408007.3, 94.961705.3, 291927.001742.3]\n",
      "!!! pred_type filter\n"
     ]
    },
    {
     "name": "stderr",
     "output_type": "stream",
     "text": [
      " 55%|█████████████████████████████████████████████████████████████████▊                                                      | 137/250 [00:11<00:08, 13.60it/s]"
     ]
    },
    {
     "name": "stdout",
     "output_type": "stream",
     "text": [
      "--- Validation --- [threshold, AUC, Accuracy, F score] =  [np.float64(0.76), np.float64(0.998), np.float64(0.981), np.float64(0.986)]\n",
      "--- Training --- [threshold, AUC] =  [np.float64(0.763), np.float64(0.998)]\n",
      "--- Iteration 140: Training loss --- [Data, Label, Total] = [58291.307554.3, 94.967916.3, 291551.505685.3]\n",
      "!!! pred_type filter\n"
     ]
    },
    {
     "name": "stderr",
     "output_type": "stream",
     "text": [
      " 58%|█████████████████████████████████████████████████████████████████████▌                                                  | 145/250 [00:11<00:07, 13.27it/s]"
     ]
    },
    {
     "name": "stdout",
     "output_type": "stream",
     "text": [
      "--- Validation --- [threshold, AUC, Accuracy, F score] =  [np.float64(0.763), np.float64(0.998), np.float64(0.981), np.float64(0.986)]\n"
     ]
    },
    {
     "name": "stderr",
     "output_type": "stream",
     "text": [
      " 60%|███████████████████████████████████████████████████████████████████████▌                                                | 149/250 [00:11<00:06, 16.53it/s]"
     ]
    },
    {
     "name": "stdout",
     "output_type": "stream",
     "text": [
      "--- Training --- [threshold, AUC] =  [np.float64(0.719), np.float64(0.998)]\n",
      "--- Iteration 150: Training loss --- [Data, Label, Total] = [58226.560681.3, 94.982099.3, 291227.785503.3]\n",
      "!!! pred_type filter\n"
     ]
    },
    {
     "name": "stderr",
     "output_type": "stream",
     "text": [
      " 62%|██████████████████████████████████████████████████████████████████████████▉                                             | 156/250 [00:12<00:06, 13.92it/s]"
     ]
    },
    {
     "name": "stdout",
     "output_type": "stream",
     "text": [
      "--- Validation --- [threshold, AUC, Accuracy, F score] =  [np.float64(0.719), np.float64(0.998), np.float64(0.984), np.float64(0.988)]\n"
     ]
    },
    {
     "name": "stderr",
     "output_type": "stream",
     "text": [
      " 64%|████████████████████████████████████████████████████████████████████████████▊                                           | 160/250 [00:12<00:05, 17.03it/s]"
     ]
    },
    {
     "name": "stdout",
     "output_type": "stream",
     "text": [
      "--- Training --- [threshold, AUC] =  [np.float64(0.733), np.float64(0.998)]\n",
      "--- Iteration 160: Training loss --- [Data, Label, Total] = [58171.090927.3, 95.083154.3, 290950.537789.3]\n",
      "!!! pred_type filter\n"
     ]
    },
    {
     "name": "stderr",
     "output_type": "stream",
     "text": [
      " 66%|███████████████████████████████████████████████████████████████████████████████▋                                        | 166/250 [00:13<00:07, 11.88it/s]"
     ]
    },
    {
     "name": "stdout",
     "output_type": "stream",
     "text": [
      "--- Validation --- [threshold, AUC, Accuracy, F score] =  [np.float64(0.733), np.float64(0.998), np.float64(0.982), np.float64(0.987)]\n"
     ]
    },
    {
     "name": "stderr",
     "output_type": "stream",
     "text": [
      " 68%|█████████████████████████████████████████████████████████████████████████████████                                       | 169/250 [00:13<00:05, 14.24it/s]"
     ]
    },
    {
     "name": "stdout",
     "output_type": "stream",
     "text": [
      "--- Training --- [threshold, AUC] =  [np.float64(0.729), np.float64(0.998)]\n",
      "--- Iteration 170: Training loss --- [Data, Label, Total] = [58123.669193.3, 95.168436.3, 290713.514402.3]\n",
      "!!! pred_type filter\n"
     ]
    },
    {
     "name": "stderr",
     "output_type": "stream",
     "text": [
      " 70%|████████████████████████████████████████████████████████████████████████████████████                                    | 175/250 [00:14<00:06, 11.38it/s]"
     ]
    },
    {
     "name": "stdout",
     "output_type": "stream",
     "text": [
      "--- Validation --- [threshold, AUC, Accuracy, F score] =  [np.float64(0.729), np.float64(0.998), np.float64(0.984), np.float64(0.988)]\n"
     ]
    },
    {
     "name": "stderr",
     "output_type": "stream",
     "text": [
      " 71%|█████████████████████████████████████████████████████████████████████████████████████▍                                  | 178/250 [00:14<00:05, 13.51it/s]"
     ]
    },
    {
     "name": "stdout",
     "output_type": "stream",
     "text": [
      "--- Training --- [threshold, AUC] =  [np.float64(0.733), np.float64(0.998)]\n",
      "--- Iteration 180: Training loss --- [Data, Label, Total] = [58083.470236.3, 95.342330.3, 290512.693509.3]\n",
      "!!! pred_type filter\n"
     ]
    },
    {
     "name": "stderr",
     "output_type": "stream",
     "text": [
      " 74%|████████████████████████████████████████████████████████████████████████████████████████▊                               | 185/250 [00:15<00:05, 11.85it/s]"
     ]
    },
    {
     "name": "stdout",
     "output_type": "stream",
     "text": [
      "--- Validation --- [threshold, AUC, Accuracy, F score] =  [np.float64(0.733), np.float64(0.998), np.float64(0.982), np.float64(0.987)]\n"
     ]
    },
    {
     "name": "stderr",
     "output_type": "stream",
     "text": [
      " 76%|██████████████████████████████████████████████████████████████████████████████████████████▋                             | 189/250 [00:15<00:04, 15.07it/s]"
     ]
    },
    {
     "name": "stdout",
     "output_type": "stream",
     "text": [
      "--- Training --- [threshold, AUC] =  [np.float64(0.723), np.float64(0.998)]\n",
      "--- Iteration 190: Training loss --- [Data, Label, Total] = [58049.646664.3, 95.505241.3, 290343.738560.3]\n",
      "!!! pred_type filter\n"
     ]
    },
    {
     "name": "stderr",
     "output_type": "stream",
     "text": [
      " 78%|██████████████████████████████████████████████████████████████████████████████████████████████                          | 196/250 [00:15<00:04, 13.16it/s]"
     ]
    },
    {
     "name": "stdout",
     "output_type": "stream",
     "text": [
      "--- Validation --- [threshold, AUC, Accuracy, F score] =  [np.float64(0.723), np.float64(0.998), np.float64(0.984), np.float64(0.988)]\n"
     ]
    },
    {
     "name": "stderr",
     "output_type": "stream",
     "text": [
      " 80%|████████████████████████████████████████████████████████████████████████████████████████████████                        | 200/250 [00:16<00:03, 16.30it/s]"
     ]
    },
    {
     "name": "stdout",
     "output_type": "stream",
     "text": [
      "--- Training --- [threshold, AUC] =  [np.float64(0.726), np.float64(0.998)]\n",
      "--- Iteration 200: Training loss --- [Data, Label, Total] = [58021.597916.3, 95.573736.3, 290203.563315.3]\n",
      "!!! pred_type filter\n"
     ]
    },
    {
     "name": "stderr",
     "output_type": "stream",
     "text": [
      " 83%|███████████████████████████████████████████████████████████████████████████████████████████████████▎                    | 207/250 [00:16<00:03, 13.62it/s]"
     ]
    },
    {
     "name": "stdout",
     "output_type": "stream",
     "text": [
      "--- Validation --- [threshold, AUC, Accuracy, F score] =  [np.float64(0.726), np.float64(0.998), np.float64(0.984), np.float64(0.988)]\n",
      "--- Training --- [threshold, AUC] =  [np.float64(0.728), np.float64(0.998)]\n",
      "--- Iteration 210: Training loss --- [Data, Label, Total] = [57998.356097.3, 95.587562.3, 290087.368047.3]\n",
      "!!! pred_type filter\n"
     ]
    },
    {
     "name": "stderr",
     "output_type": "stream",
     "text": [
      " 86%|███████████████████████████████████████████████████████████████████████████████████████████████████████▏                | 215/250 [00:17<00:02, 13.09it/s]"
     ]
    },
    {
     "name": "stdout",
     "output_type": "stream",
     "text": [
      "--- Validation --- [threshold, AUC, Accuracy, F score] =  [np.float64(0.728), np.float64(0.998), np.float64(0.984), np.float64(0.988)]\n"
     ]
    },
    {
     "name": "stderr",
     "output_type": "stream",
     "text": [
      " 88%|█████████████████████████████████████████████████████████████████████████████████████████████████████████               | 219/250 [00:17<00:01, 16.07it/s]"
     ]
    },
    {
     "name": "stdout",
     "output_type": "stream",
     "text": [
      "--- Training --- [threshold, AUC] =  [np.float64(0.727), np.float64(0.998)]\n",
      "--- Iteration 220: Training loss --- [Data, Label, Total] = [57978.615396.3, 95.573606.3, 289988.650585.3]\n",
      "!!! pred_type filter\n"
     ]
    },
    {
     "name": "stderr",
     "output_type": "stream",
     "text": [
      " 90%|████████████████████████████████████████████████████████████████████████████████████████████████████████████▍           | 226/250 [00:18<00:01, 13.25it/s]"
     ]
    },
    {
     "name": "stdout",
     "output_type": "stream",
     "text": [
      "--- Validation --- [threshold, AUC, Accuracy, F score] =  [np.float64(0.727), np.float64(0.998), np.float64(0.984), np.float64(0.988)]\n"
     ]
    },
    {
     "name": "stderr",
     "output_type": "stream",
     "text": [
      " 92%|██████████████████████████████████████████████████████████████████████████████████████████████████████████████▍         | 230/250 [00:18<00:01, 16.43it/s]"
     ]
    },
    {
     "name": "stdout",
     "output_type": "stream",
     "text": [
      "--- Training --- [threshold, AUC] =  [np.float64(0.729), np.float64(0.998)]\n",
      "--- Iteration 230: Training loss --- [Data, Label, Total] = [57961.630175.3, 95.693479.3, 289903.844355.3]\n",
      "!!! pred_type filter\n"
     ]
    },
    {
     "name": "stderr",
     "output_type": "stream",
     "text": [
      " 95%|█████████████████████████████████████████████████████████████████████████████████████████████████████████████████▊      | 237/250 [00:19<00:00, 13.92it/s]"
     ]
    },
    {
     "name": "stdout",
     "output_type": "stream",
     "text": [
      "--- Validation --- [threshold, AUC, Accuracy, F score] =  [np.float64(0.729), np.float64(0.998), np.float64(0.984), np.float64(0.988)]\n"
     ]
    },
    {
     "name": "stderr",
     "output_type": "stream",
     "text": [
      " 96%|███████████████████████████████████████████████████████████████████████████████████████████████████████████████████▏    | 240/250 [00:19<00:00, 15.92it/s]"
     ]
    },
    {
     "name": "stdout",
     "output_type": "stream",
     "text": [
      "--- Training --- [threshold, AUC] =  [np.float64(0.735), np.float64(0.998)]\n",
      "--- Iteration 240: Training loss --- [Data, Label, Total] = [57946.773180.3, 95.868994.3, 289829.734894.3]\n",
      "!!! pred_type filter\n"
     ]
    },
    {
     "name": "stderr",
     "output_type": "stream",
     "text": [
      " 99%|██████████████████████████████████████████████████████████████████████████████████████████████████████████████████████▌ | 247/250 [00:19<00:00, 13.28it/s]"
     ]
    },
    {
     "name": "stdout",
     "output_type": "stream",
     "text": [
      "--- Validation --- [threshold, AUC, Accuracy, F score] =  [np.float64(0.735), np.float64(0.998), np.float64(0.984), np.float64(0.988)]\n"
     ]
    },
    {
     "name": "stderr",
     "output_type": "stream",
     "text": [
      "100%|████████████████████████████████████████████████████████████████████████████████████████████████████████████████████████| 250/250 [00:20<00:00, 12.46it/s]\n"
     ]
    },
    {
     "name": "stdout",
     "output_type": "stream",
     "text": [
      "!!! pred_type filter\n",
      "num of subgraphs induced on k-paths: 500\n",
      "num of subgraphs induced on k-paths: 500\n",
      "X_list: (729, 1000)\n",
      "2\n",
      "(1, 500)\n",
      "(1, 500)\n",
      "label_vec: (1, 1000)\n",
      "num of subgraphs induced on k-paths: 500\n",
      "num of subgraphs induced on k-paths: 500\n",
      "X_list: (729, 1000)\n",
      "2\n",
      "(1, 500)\n",
      "(1, 500)\n",
      "label_vec: (1, 1000)\n",
      "num of subgraphs induced on k-paths: 500\n",
      "num of subgraphs induced on k-paths: 500\n",
      "X_list: (729, 1000)\n",
      "2\n",
      "(1, 500)\n",
      "(1, 500)\n",
      "label_vec: (1, 1000)\n",
      "num of subgraphs induced on k-paths: 500\n",
      "num of subgraphs induced on k-paths: 500\n",
      "X_list: (729, 1000)\n",
      "2\n",
      "(1, 500)\n",
      "(1, 500)\n",
      "label_vec: (1, 1000)\n",
      "28\n",
      "num of subgraphs induced on k-paths: 500\n",
      "num of subgraphs induced on k-paths: 500\n",
      "X_list: (784, 1000)\n",
      "2\n",
      "(1, 500)\n",
      "(1, 500)\n",
      "label_vec: (1, 1000)\n",
      "num of subgraphs induced on k-paths: 500\n",
      "num of subgraphs induced on k-paths: 1127\n",
      "X_list: (784, 1627)\n",
      "2\n",
      "(1, 500)\n",
      "(1, 1127)\n",
      "label_vec: (1, 1627)\n",
      "initial loading beta [[-0.95237924  0.2932767   0.33408813  0.04122639  0.99287994  0.91028703\n",
      "  -0.39496473 -0.23493099 -0.62270249 -0.89331903 -0.0892031  -0.14627923\n",
      "   0.97955954  0.39576179  0.15476816  0.38119091  0.73645174]]\n"
     ]
    },
    {
     "name": "stderr",
     "output_type": "stream",
     "text": [
      "  0%|                                                                                                                                  | 0/250 [00:00<?, ?it/s]"
     ]
    },
    {
     "name": "stdout",
     "output_type": "stream",
     "text": [
      "--- Training --- [threshold, AUC] =  [np.float64(0.772), np.float64(0.999)]\n",
      "--- Iteration 0: Training loss --- [Data, Label, Total] = [107989.858123.3, 79.812390.3, 540029.103005.3]\n"
     ]
    },
    {
     "name": "stderr",
     "output_type": "stream",
     "text": [
      "  4%|████▊                                                                                                                    | 10/250 [00:00<00:08, 29.21it/s]"
     ]
    },
    {
     "name": "stdout",
     "output_type": "stream",
     "text": [
      "--- Training --- [threshold, AUC] =  [np.float64(0.774), np.float64(0.999)]\n",
      "--- Iteration 10: Training loss --- [Data, Label, Total] = [72262.688597.3, 57.649515.3, 361371.092498.3]\n",
      "!!! pred_type filter\n"
     ]
    },
    {
     "name": "stderr",
     "output_type": "stream",
     "text": [
      "  7%|████████▏                                                                                                                | 17/250 [00:01<00:17, 13.49it/s]"
     ]
    },
    {
     "name": "stdout",
     "output_type": "stream",
     "text": [
      "--- Validation --- [threshold, AUC, Accuracy, F score] =  [np.float64(0.774), np.float64(0.999), np.float64(0.989), np.float64(0.992)]\n",
      "--- Training --- [threshold, AUC] =  [np.float64(0.683), np.float64(0.999)]\n",
      "--- Iteration 20: Training loss --- [Data, Label, Total] = [69022.210957.3, 55.573342.3, 345166.628128.3]\n",
      "!!! pred_type filter\n"
     ]
    },
    {
     "name": "stderr",
     "output_type": "stream",
     "text": [
      "  8%|█████████▋                                                                                                               | 20/250 [00:01<00:21, 10.93it/s]"
     ]
    },
    {
     "name": "stdout",
     "output_type": "stream",
     "text": [
      "--- Validation --- [threshold, AUC, Accuracy, F score] =  [np.float64(0.683), np.float64(0.999), np.float64(0.992), np.float64(0.994)]\n",
      "!!! --- Validation (Stopped) --- [threshold, ACC] =  [np.float64(0.683), np.float64(0.992)]\n",
      "!!! pred_type filter\n"
     ]
    },
    {
     "name": "stderr",
     "output_type": "stream",
     "text": [
      "\n"
     ]
    },
    {
     "name": "stdout",
     "output_type": "stream",
     "text": [
      "num of subgraphs induced on k-paths: 500\n",
      "num of subgraphs induced on k-paths: 500\n",
      "X_list: (784, 1000)\n",
      "2\n",
      "(1, 500)\n",
      "(1, 500)\n",
      "label_vec: (1, 1000)\n",
      "num of subgraphs induced on k-paths: 500\n",
      "num of subgraphs induced on k-paths: 500\n",
      "X_list: (784, 1000)\n",
      "2\n",
      "(1, 500)\n",
      "(1, 500)\n",
      "label_vec: (1, 1000)\n",
      "num of subgraphs induced on k-paths: 500\n",
      "num of subgraphs induced on k-paths: 500\n",
      "X_list: (784, 1000)\n",
      "2\n",
      "(1, 500)\n",
      "(1, 500)\n",
      "label_vec: (1, 1000)\n",
      "num of subgraphs induced on k-paths: 500\n",
      "num of subgraphs induced on k-paths: 500\n",
      "X_list: (784, 1000)\n",
      "2\n",
      "(1, 500)\n",
      "(1, 500)\n",
      "label_vec: (1, 1000)\n",
      "29\n",
      "num of subgraphs induced on k-paths: 500\n",
      "num of subgraphs induced on k-paths: 500\n",
      "X_list: (841, 1000)\n",
      "2\n",
      "(1, 500)\n",
      "(1, 500)\n",
      "label_vec: (1, 1000)\n",
      "num of subgraphs induced on k-paths: 500\n",
      "num of subgraphs induced on k-paths: 1160\n",
      "X_list: (841, 1660)\n",
      "2\n",
      "(1, 500)\n",
      "(1, 1160)\n",
      "label_vec: (1, 1660)\n",
      "initial loading beta [[ 0.33388841  0.71449559 -0.92623507  0.76040838 -0.65512351 -0.08270617\n",
      "  -0.48130507  0.23316767  0.10367544  0.04917428  0.35314156 -0.98527255\n",
      "   0.47971817  0.79469119 -0.36783512 -0.75289555  0.10953966]]\n"
     ]
    },
    {
     "name": "stderr",
     "output_type": "stream",
     "text": [
      "  0%|                                                                                                                                  | 0/250 [00:00<?, ?it/s]"
     ]
    },
    {
     "name": "stdout",
     "output_type": "stream",
     "text": [
      "--- Training --- [threshold, AUC] =  [np.float64(0.765), np.float64(0.998)]\n",
      "--- Iteration 0: Training loss --- [Data, Label, Total] = [113895.416006.3, 95.338003.3, 569572.418034.3]\n"
     ]
    },
    {
     "name": "stderr",
     "output_type": "stream",
     "text": [
      "  3%|███▉                                                                                                                      | 8/250 [00:00<00:11, 21.12it/s]"
     ]
    },
    {
     "name": "stdout",
     "output_type": "stream",
     "text": [
      "--- Training --- [threshold, AUC] =  [np.float64(0.772), np.float64(0.998)]\n",
      "--- Iteration 10: Training loss --- [Data, Label, Total] = [75715.612939.3, 81.832027.3, 378659.896722.3]\n",
      "!!! pred_type filter\n"
     ]
    },
    {
     "name": "stderr",
     "output_type": "stream",
     "text": [
      "  6%|██████▊                                                                                                                  | 14/250 [00:01<00:24,  9.78it/s]"
     ]
    },
    {
     "name": "stdout",
     "output_type": "stream",
     "text": [
      "--- Validation --- [threshold, AUC, Accuracy, F score] =  [np.float64(0.772), np.float64(0.998), np.float64(0.985), np.float64(0.989)]\n"
     ]
    },
    {
     "name": "stderr",
     "output_type": "stream",
     "text": [
      "  7%|████████▋                                                                                                                | 18/250 [00:01<00:17, 13.60it/s]"
     ]
    },
    {
     "name": "stdout",
     "output_type": "stream",
     "text": [
      "--- Training --- [threshold, AUC] =  [np.float64(0.695), np.float64(0.999)]\n",
      "--- Iteration 20: Training loss --- [Data, Label, Total] = [72632.974930.3, 74.363207.3, 363239.237855.3]\n",
      "!!! pred_type filter\n"
     ]
    },
    {
     "name": "stderr",
     "output_type": "stream",
     "text": [
      " 10%|███████████▌                                                                                                             | 24/250 [00:02<00:23,  9.51it/s]"
     ]
    },
    {
     "name": "stdout",
     "output_type": "stream",
     "text": [
      "--- Validation --- [threshold, AUC, Accuracy, F score] =  [np.float64(0.695), np.float64(0.999), np.float64(0.987), np.float64(0.99)]\n"
     ]
    },
    {
     "name": "stderr",
     "output_type": "stream",
     "text": [
      " 12%|██████████████▌                                                                                                          | 30/250 [00:02<00:16, 13.59it/s]"
     ]
    },
    {
     "name": "stdout",
     "output_type": "stream",
     "text": [
      "--- Training --- [threshold, AUC] =  [np.float64(0.704), np.float64(0.999)]\n",
      "--- Iteration 30: Training loss --- [Data, Label, Total] = [70832.822669.3, 73.737310.3, 354237.850653.3]\n",
      "!!! pred_type filter\n"
     ]
    },
    {
     "name": "stderr",
     "output_type": "stream",
     "text": [
      " 14%|█████████████████▍                                                                                                       | 36/250 [00:03<00:20, 10.65it/s]"
     ]
    },
    {
     "name": "stdout",
     "output_type": "stream",
     "text": [
      "--- Validation --- [threshold, AUC, Accuracy, F score] =  [np.float64(0.704), np.float64(0.999), np.float64(0.986), np.float64(0.99)]\n"
     ]
    },
    {
     "name": "stderr",
     "output_type": "stream",
     "text": [
      " 16%|██████████████████▉                                                                                                      | 39/250 [00:03<00:16, 13.02it/s]"
     ]
    },
    {
     "name": "stdout",
     "output_type": "stream",
     "text": [
      "--- Training --- [threshold, AUC] =  [np.float64(0.655), np.float64(0.999)]\n",
      "--- Iteration 40: Training loss --- [Data, Label, Total] = [69772.672981.3, 74.214475.3, 348937.579380.3]\n",
      "!!! pred_type filter\n"
     ]
    },
    {
     "name": "stderr",
     "output_type": "stream",
     "text": [
      " 17%|████████████████████▎                                                                                                    | 42/250 [00:04<00:34,  6.11it/s]"
     ]
    },
    {
     "name": "stdout",
     "output_type": "stream",
     "text": [
      "--- Validation --- [threshold, AUC, Accuracy, F score] =  [np.float64(0.655), np.float64(0.999), np.float64(0.987), np.float64(0.991)]\n"
     ]
    },
    {
     "name": "stderr",
     "output_type": "stream",
     "text": [
      " 19%|███████████████████████▏                                                                                                 | 48/250 [00:04<00:20,  9.65it/s]"
     ]
    },
    {
     "name": "stdout",
     "output_type": "stream",
     "text": [
      "--- Training --- [threshold, AUC] =  [np.float64(0.666), np.float64(0.999)]\n",
      "--- Iteration 50: Training loss --- [Data, Label, Total] = [69117.076673.3, 74.693616.3, 345660.076982.3]\n",
      "!!! pred_type filter\n"
     ]
    },
    {
     "name": "stderr",
     "output_type": "stream",
     "text": [
      " 22%|██████████████████████████▏                                                                                              | 54/250 [00:05<00:22,  8.80it/s]"
     ]
    },
    {
     "name": "stdout",
     "output_type": "stream",
     "text": [
      "--- Validation --- [threshold, AUC, Accuracy, F score] =  [np.float64(0.666), np.float64(0.999), np.float64(0.987), np.float64(0.991)]\n"
     ]
    },
    {
     "name": "stderr",
     "output_type": "stream",
     "text": [
      " 24%|█████████████████████████████                                                                                            | 60/250 [00:06<00:14, 12.97it/s]"
     ]
    },
    {
     "name": "stdout",
     "output_type": "stream",
     "text": [
      "--- Training --- [threshold, AUC] =  [np.float64(0.67), np.float64(0.999)]\n",
      "--- Iteration 60: Training loss --- [Data, Label, Total] = [68698.791373.3, 75.255786.3, 343569.212652.3]\n",
      "!!! pred_type filter\n"
     ]
    },
    {
     "name": "stderr",
     "output_type": "stream",
     "text": [
      " 26%|███████████████████████████████▉                                                                                         | 66/250 [00:06<00:18, 10.11it/s]"
     ]
    },
    {
     "name": "stdout",
     "output_type": "stream",
     "text": [
      "--- Validation --- [threshold, AUC, Accuracy, F score] =  [np.float64(0.67), np.float64(0.999), np.float64(0.987), np.float64(0.991)]\n"
     ]
    },
    {
     "name": "stderr",
     "output_type": "stream",
     "text": [
      " 28%|█████████████████████████████████▉                                                                                       | 70/250 [00:06<00:13, 13.42it/s]"
     ]
    },
    {
     "name": "stdout",
     "output_type": "stream",
     "text": [
      "--- Training --- [threshold, AUC] =  [np.float64(0.685), np.float64(0.999)]\n",
      "--- Iteration 70: Training loss --- [Data, Label, Total] = [68411.497388.3, 75.845435.3, 342133.332375.3]\n",
      "!!! pred_type filter\n"
     ]
    },
    {
     "name": "stderr",
     "output_type": "stream",
     "text": [
      " 31%|█████████████████████████████████████▎                                                                                   | 77/250 [00:07<00:14, 12.01it/s]"
     ]
    },
    {
     "name": "stdout",
     "output_type": "stream",
     "text": [
      "--- Validation --- [threshold, AUC, Accuracy, F score] =  [np.float64(0.685), np.float64(0.999), np.float64(0.987), np.float64(0.991)]\n"
     ]
    },
    {
     "name": "stderr",
     "output_type": "stream",
     "text": [
      " 32%|██████████████████████████████████████▋                                                                                  | 80/250 [00:07<00:11, 14.24it/s]"
     ]
    },
    {
     "name": "stdout",
     "output_type": "stream",
     "text": [
      "--- Training --- [threshold, AUC] =  [np.float64(0.681), np.float64(0.999)]\n",
      "--- Iteration 80: Training loss --- [Data, Label, Total] = [68195.980895.3, 76.070552.3, 341055.975028.3]\n",
      "!!! pred_type filter\n"
     ]
    },
    {
     "name": "stderr",
     "output_type": "stream",
     "text": [
      " 34%|█████████████████████████████████████████▌                                                                               | 86/250 [00:08<00:13, 11.73it/s]"
     ]
    },
    {
     "name": "stdout",
     "output_type": "stream",
     "text": [
      "--- Validation --- [threshold, AUC, Accuracy, F score] =  [np.float64(0.681), np.float64(0.999), np.float64(0.987), np.float64(0.991)]\n"
     ]
    },
    {
     "name": "stderr",
     "output_type": "stream",
     "text": [
      " 36%|███████████████████████████████████████████▌                                                                             | 90/250 [00:08<00:10, 15.13it/s]"
     ]
    },
    {
     "name": "stdout",
     "output_type": "stream",
     "text": [
      "--- Training --- [threshold, AUC] =  [np.float64(0.684), np.float64(0.999)]\n",
      "--- Iteration 90: Training loss --- [Data, Label, Total] = [68025.640391.3, 76.367961.3, 340204.569918.3]\n",
      "!!! pred_type filter\n"
     ]
    },
    {
     "name": "stderr",
     "output_type": "stream",
     "text": [
      " 39%|██████████████████████████████████████████████▉                                                                          | 97/250 [00:09<00:11, 12.82it/s]"
     ]
    },
    {
     "name": "stdout",
     "output_type": "stream",
     "text": [
      "--- Validation --- [threshold, AUC, Accuracy, F score] =  [np.float64(0.684), np.float64(0.999), np.float64(0.987), np.float64(0.991)]\n"
     ]
    },
    {
     "name": "stderr",
     "output_type": "stream",
     "text": [
      " 40%|████████████████████████████████████████████████                                                                        | 100/250 [00:09<00:10, 14.84it/s]"
     ]
    },
    {
     "name": "stdout",
     "output_type": "stream",
     "text": [
      "--- Training --- [threshold, AUC] =  [np.float64(0.685), np.float64(0.999)]\n",
      "--- Iteration 100: Training loss --- [Data, Label, Total] = [67887.803611.3, 76.482428.3, 339515.500482.3]\n",
      "!!! pred_type filter\n"
     ]
    },
    {
     "name": "stderr",
     "output_type": "stream",
     "text": [
      " 43%|███████████████████████████████████████████████████▎                                                                    | 107/250 [00:10<00:11, 12.83it/s]"
     ]
    },
    {
     "name": "stdout",
     "output_type": "stream",
     "text": [
      "--- Validation --- [threshold, AUC, Accuracy, F score] =  [np.float64(0.685), np.float64(0.999), np.float64(0.987), np.float64(0.991)]\n",
      "--- Training --- [threshold, AUC] =  [np.float64(0.694), np.float64(0.999)]\n",
      "--- Iteration 110: Training loss --- [Data, Label, Total] = [67774.376636.3, 76.675254.3, 338948.558433.3]\n",
      "!!! pred_type filter\n"
     ]
    },
    {
     "name": "stderr",
     "output_type": "stream",
     "text": [
      " 46%|███████████████████████████████████████████████████████▏                                                                | 115/250 [00:10<00:10, 12.71it/s]"
     ]
    },
    {
     "name": "stdout",
     "output_type": "stream",
     "text": [
      "--- Validation --- [threshold, AUC, Accuracy, F score] =  [np.float64(0.694), np.float64(0.999), np.float64(0.987), np.float64(0.99)]\n"
     ]
    },
    {
     "name": "stderr",
     "output_type": "stream",
     "text": [
      " 48%|█████████████████████████████████████████████████████████                                                               | 119/250 [00:11<00:08, 15.82it/s]"
     ]
    },
    {
     "name": "stdout",
     "output_type": "stream",
     "text": [
      "--- Training --- [threshold, AUC] =  [np.float64(0.692), np.float64(0.999)]\n",
      "--- Iteration 120: Training loss --- [Data, Label, Total] = [67678.787937.3, 77.047278.3, 338470.986964.3]\n",
      "!!! pred_type filter\n"
     ]
    },
    {
     "name": "stderr",
     "output_type": "stream",
     "text": [
      " 50%|████████████████████████████████████████████████████████████▍                                                           | 126/250 [00:11<00:09, 13.47it/s]"
     ]
    },
    {
     "name": "stdout",
     "output_type": "stream",
     "text": [
      "--- Validation --- [threshold, AUC, Accuracy, F score] =  [np.float64(0.692), np.float64(0.999), np.float64(0.987), np.float64(0.99)]\n"
     ]
    },
    {
     "name": "stderr",
     "output_type": "stream",
     "text": [
      " 52%|██████████████████████████████████████████████████████████████▍                                                         | 130/250 [00:11<00:07, 16.65it/s]"
     ]
    },
    {
     "name": "stdout",
     "output_type": "stream",
     "text": [
      "--- Training --- [threshold, AUC] =  [np.float64(0.691), np.float64(0.999)]\n",
      "--- Iteration 130: Training loss --- [Data, Label, Total] = [67596.503066.3, 77.363874.3, 338059.879206.3]\n",
      "!!! pred_type filter\n"
     ]
    },
    {
     "name": "stderr",
     "output_type": "stream",
     "text": [
      " 55%|█████████████████████████████████████████████████████████████████▊                                                      | 137/250 [00:12<00:08, 13.79it/s]"
     ]
    },
    {
     "name": "stdout",
     "output_type": "stream",
     "text": [
      "--- Validation --- [threshold, AUC, Accuracy, F score] =  [np.float64(0.691), np.float64(0.999), np.float64(0.987), np.float64(0.99)]\n",
      "--- Training --- [threshold, AUC] =  [np.float64(0.694), np.float64(0.999)]\n",
      "--- Iteration 140: Training loss --- [Data, Label, Total] = [67524.772435.3, 77.210758.3, 337701.072934.3]\n",
      "!!! pred_type filter\n"
     ]
    },
    {
     "name": "stderr",
     "output_type": "stream",
     "text": [
      " 58%|█████████████████████████████████████████████████████████████████████▌                                                  | 145/250 [00:13<00:07, 13.15it/s]"
     ]
    },
    {
     "name": "stdout",
     "output_type": "stream",
     "text": [
      "--- Validation --- [threshold, AUC, Accuracy, F score] =  [np.float64(0.694), np.float64(0.999), np.float64(0.987), np.float64(0.99)]\n"
     ]
    },
    {
     "name": "stderr",
     "output_type": "stream",
     "text": [
      " 60%|███████████████████████████████████████████████████████████████████████▌                                                | 149/250 [00:13<00:06, 16.20it/s]"
     ]
    },
    {
     "name": "stdout",
     "output_type": "stream",
     "text": [
      "--- Training --- [threshold, AUC] =  [np.float64(0.695), np.float64(0.999)]\n",
      "--- Iteration 150: Training loss --- [Data, Label, Total] = [67461.516882.3, 77.288082.3, 337384.872493.3]\n",
      "!!! pred_type filter\n"
     ]
    },
    {
     "name": "stderr",
     "output_type": "stream",
     "text": [
      " 62%|██████████████████████████████████████████████████████████████████████████▉                                             | 156/250 [00:14<00:06, 13.50it/s]"
     ]
    },
    {
     "name": "stdout",
     "output_type": "stream",
     "text": [
      "--- Validation --- [threshold, AUC, Accuracy, F score] =  [np.float64(0.695), np.float64(0.999), np.float64(0.987), np.float64(0.99)]\n"
     ]
    },
    {
     "name": "stderr",
     "output_type": "stream",
     "text": [
      " 64%|████████████████████████████████████████████████████████████████████████████▎                                           | 159/250 [00:14<00:05, 15.58it/s]"
     ]
    },
    {
     "name": "stdout",
     "output_type": "stream",
     "text": [
      "--- Training --- [threshold, AUC] =  [np.float64(0.697), np.float64(0.999)]\n",
      "--- Iteration 160: Training loss --- [Data, Label, Total] = [67405.465446.3, 77.262363.3, 337104.589595.3]\n",
      "!!! pred_type filter\n"
     ]
    },
    {
     "name": "stderr",
     "output_type": "stream",
     "text": [
      " 66%|███████████████████████████████████████████████████████████████████████████████▋                                        | 166/250 [00:14<00:06, 12.80it/s]"
     ]
    },
    {
     "name": "stdout",
     "output_type": "stream",
     "text": [
      "--- Validation --- [threshold, AUC, Accuracy, F score] =  [np.float64(0.697), np.float64(0.999), np.float64(0.987), np.float64(0.99)]\n"
     ]
    },
    {
     "name": "stderr",
     "output_type": "stream",
     "text": [
      " 68%|█████████████████████████████████████████████████████████████████████████████████▌                                      | 170/250 [00:15<00:05, 15.88it/s]"
     ]
    },
    {
     "name": "stdout",
     "output_type": "stream",
     "text": [
      "--- Training --- [threshold, AUC] =  [np.float64(0.697), np.float64(0.999)]\n",
      "--- Iteration 170: Training loss --- [Data, Label, Total] = [67355.458433.3, 77.323093.3, 336854.615256.3]\n",
      "!!! pred_type filter\n"
     ]
    },
    {
     "name": "stderr",
     "output_type": "stream",
     "text": [
      " 71%|████████████████████████████████████████████████████████████████████████████████████▉                                   | 177/250 [00:15<00:05, 12.49it/s]"
     ]
    },
    {
     "name": "stdout",
     "output_type": "stream",
     "text": [
      "--- Validation --- [threshold, AUC, Accuracy, F score] =  [np.float64(0.697), np.float64(0.999), np.float64(0.987), np.float64(0.99)]\n",
      "--- Training --- [threshold, AUC] =  [np.float64(0.641), np.float64(0.999)]\n",
      "--- Iteration 180: Training loss --- [Data, Label, Total] = [67311.087087.3, 77.478782.3, 336632.914220.3]\n",
      "!!! pred_type filter\n"
     ]
    },
    {
     "name": "stderr",
     "output_type": "stream",
     "text": [
      " 74%|████████████████████████████████████████████████████████████████████████████████████████▊                               | 185/250 [00:16<00:05, 12.40it/s]"
     ]
    },
    {
     "name": "stdout",
     "output_type": "stream",
     "text": [
      "--- Validation --- [threshold, AUC, Accuracy, F score] =  [np.float64(0.641), np.float64(0.999), np.float64(0.989), np.float64(0.992)]\n"
     ]
    },
    {
     "name": "stderr",
     "output_type": "stream",
     "text": [
      " 76%|██████████████████████████████████████████████████████████████████████████████████████████▋                             | 189/250 [00:16<00:03, 15.39it/s]"
     ]
    },
    {
     "name": "stdout",
     "output_type": "stream",
     "text": [
      "--- Training --- [threshold, AUC] =  [np.float64(0.642), np.float64(0.999)]\n",
      "--- Iteration 190: Training loss --- [Data, Label, Total] = [67272.578237.3, 77.185759.3, 336440.076944.3]\n",
      "!!! pred_type filter\n"
     ]
    },
    {
     "name": "stderr",
     "output_type": "stream",
     "text": [
      " 78%|██████████████████████████████████████████████████████████████████████████████████████████████                          | 196/250 [00:17<00:04, 13.33it/s]"
     ]
    },
    {
     "name": "stdout",
     "output_type": "stream",
     "text": [
      "--- Validation --- [threshold, AUC, Accuracy, F score] =  [np.float64(0.642), np.float64(0.999), np.float64(0.989), np.float64(0.992)]\n"
     ]
    },
    {
     "name": "stderr",
     "output_type": "stream",
     "text": [
      " 80%|████████████████████████████████████████████████████████████████████████████████████████████████                        | 200/250 [00:17<00:03, 16.35it/s]"
     ]
    },
    {
     "name": "stdout",
     "output_type": "stream",
     "text": [
      "--- Training --- [threshold, AUC] =  [np.float64(0.646), np.float64(0.999)]\n",
      "--- Iteration 200: Training loss --- [Data, Label, Total] = [67239.249317.3, 77.444053.3, 336273.690639.3]\n",
      "!!! pred_type filter\n"
     ]
    },
    {
     "name": "stderr",
     "output_type": "stream",
     "text": [
      " 83%|███████████████████████████████████████████████████████████████████████████████████████████████████▎                    | 207/250 [00:18<00:03, 13.65it/s]"
     ]
    },
    {
     "name": "stdout",
     "output_type": "stream",
     "text": [
      "--- Validation --- [threshold, AUC, Accuracy, F score] =  [np.float64(0.646), np.float64(0.999), np.float64(0.989), np.float64(0.992)]\n",
      "--- Training --- [threshold, AUC] =  [np.float64(0.757), np.float64(0.999)]\n",
      "--- Iteration 210: Training loss --- [Data, Label, Total] = [67210.391163.3, 76.784004.3, 336128.739821.3]\n",
      "!!! pred_type filter\n"
     ]
    },
    {
     "name": "stderr",
     "output_type": "stream",
     "text": [
      " 86%|███████████████████████████████████████████████████████████████████████████████████████████████████████▏                | 215/250 [00:18<00:02, 12.45it/s]"
     ]
    },
    {
     "name": "stdout",
     "output_type": "stream",
     "text": [
      "--- Validation --- [threshold, AUC, Accuracy, F score] =  [np.float64(0.757), np.float64(0.999), np.float64(0.986), np.float64(0.99)]\n"
     ]
    },
    {
     "name": "stderr",
     "output_type": "stream",
     "text": [
      " 88%|█████████████████████████████████████████████████████████████████████████████████████████████████████████               | 219/250 [00:19<00:02, 15.36it/s]"
     ]
    },
    {
     "name": "stdout",
     "output_type": "stream",
     "text": [
      "--- Training --- [threshold, AUC] =  [np.float64(0.762), np.float64(0.999)]\n",
      "--- Iteration 220: Training loss --- [Data, Label, Total] = [67185.193998.3, 76.703313.3, 336002.673304.3]\n",
      "!!! pred_type filter\n"
     ]
    },
    {
     "name": "stderr",
     "output_type": "stream",
     "text": [
      " 90%|████████████████████████████████████████████████████████████████████████████████████████████████████████████▍           | 226/250 [00:19<00:01, 13.23it/s]"
     ]
    },
    {
     "name": "stdout",
     "output_type": "stream",
     "text": [
      "--- Validation --- [threshold, AUC, Accuracy, F score] =  [np.float64(0.762), np.float64(0.999), np.float64(0.986), np.float64(0.99)]\n"
     ]
    },
    {
     "name": "stderr",
     "output_type": "stream",
     "text": [
      " 92%|██████████████████████████████████████████████████████████████████████████████████████████████████████████████▍         | 230/250 [00:19<00:01, 16.36it/s]"
     ]
    },
    {
     "name": "stdout",
     "output_type": "stream",
     "text": [
      "--- Training --- [threshold, AUC] =  [np.float64(0.765), np.float64(0.999)]\n",
      "--- Iteration 230: Training loss --- [Data, Label, Total] = [67162.951753.3, 76.678630.3, 335891.437397.3]\n",
      "!!! pred_type filter\n"
     ]
    },
    {
     "name": "stderr",
     "output_type": "stream",
     "text": [
      " 93%|███████████████████████████████████████████████████████████████████████████████████████████████████████████████▊        | 233/250 [00:20<00:01, 10.40it/s]"
     ]
    },
    {
     "name": "stdout",
     "output_type": "stream",
     "text": [
      "--- Validation --- [threshold, AUC, Accuracy, F score] =  [np.float64(0.765), np.float64(0.999), np.float64(0.986), np.float64(0.99)]\n"
     ]
    },
    {
     "name": "stderr",
     "output_type": "stream",
     "text": [
      " 96%|██████████████████████████████████████████████████████████████████████████████████████████████████████████████████▋     | 239/250 [00:20<00:00, 14.66it/s]"
     ]
    },
    {
     "name": "stdout",
     "output_type": "stream",
     "text": [
      "--- Training --- [threshold, AUC] =  [np.float64(0.764), np.float64(0.999)]\n",
      "--- Iteration 240: Training loss --- [Data, Label, Total] = [67143.168212.3, 76.523422.3, 335792.364481.3]\n",
      "!!! pred_type filter\n"
     ]
    },
    {
     "name": "stderr",
     "output_type": "stream",
     "text": [
      " 98%|█████████████████████████████████████████████████████████████████████████████████████████████████████████████████████▌  | 245/250 [00:21<00:00, 11.45it/s]"
     ]
    },
    {
     "name": "stdout",
     "output_type": "stream",
     "text": [
      "--- Validation --- [threshold, AUC, Accuracy, F score] =  [np.float64(0.764), np.float64(0.999), np.float64(0.986), np.float64(0.99)]\n"
     ]
    },
    {
     "name": "stderr",
     "output_type": "stream",
     "text": [
      "100%|████████████████████████████████████████████████████████████████████████████████████████████████████████████████████████| 250/250 [00:21<00:00, 11.54it/s]\n"
     ]
    },
    {
     "name": "stdout",
     "output_type": "stream",
     "text": [
      "!!! pred_type filter\n",
      "num of subgraphs induced on k-paths: 500\n",
      "num of subgraphs induced on k-paths: 500\n",
      "X_list: (841, 1000)\n",
      "2\n",
      "(1, 500)\n",
      "(1, 500)\n",
      "label_vec: (1, 1000)\n",
      "num of subgraphs induced on k-paths: 500\n",
      "num of subgraphs induced on k-paths: 500\n",
      "X_list: (841, 1000)\n",
      "2\n",
      "(1, 500)\n",
      "(1, 500)\n",
      "label_vec: (1, 1000)\n",
      "num of subgraphs induced on k-paths: 500\n"
     ]
    },
    {
     "ename": "KeyboardInterrupt",
     "evalue": "",
     "output_type": "error",
     "traceback": [
      "\u001b[0;31m---------------------------------------------------------------------------\u001b[0m",
      "\u001b[0;31mKeyboardInterrupt\u001b[0m                         Traceback (most recent call last)",
      "Cell \u001b[0;32mIn[7], line 3\u001b[0m\n\u001b[1;32m      1\u001b[0m \u001b[38;5;28;01mfor\u001b[39;00m i \u001b[38;5;129;01min\u001b[39;00m \u001b[38;5;28mrange\u001b[39m(\u001b[38;5;241m25\u001b[39m,\u001b[38;5;241m30\u001b[39m):\n\u001b[1;32m      2\u001b[0m     \u001b[38;5;28mprint\u001b[39m(i)\n\u001b[0;32m----> 3\u001b[0m     accu\u001b[38;5;241m.\u001b[39mappend(\u001b[43mroc\u001b[49m\u001b[38;5;241;43m.\u001b[39;49m\u001b[43mrun\u001b[49m\u001b[43m(\u001b[49m\u001b[43mi\u001b[49m\u001b[43m)\u001b[49m)\n",
      "File \u001b[0;32m~/cs/Class/lyu/roc_curve_test.py:16\u001b[0m, in \u001b[0;36mrun\u001b[0;34m(k)\u001b[0m\n\u001b[1;32m     14\u001b[0m optimal_idx \u001b[38;5;241m=\u001b[39m np\u001b[38;5;241m.\u001b[39margmax(tpr \u001b[38;5;241m-\u001b[39m fpr)\n\u001b[1;32m     15\u001b[0m optimal_threshold \u001b[38;5;241m=\u001b[39m thresholds[optimal_idx]\n\u001b[0;32m---> 16\u001b[0m test_predictions_network1 \u001b[38;5;241m=\u001b[39m \u001b[43mpredict_with_threshold\u001b[49m\u001b[43m(\u001b[49m\u001b[43mnetwork1\u001b[49m\u001b[43m,\u001b[49m\u001b[43m \u001b[49m\u001b[43mk\u001b[49m\u001b[43m,\u001b[49m\u001b[43m \u001b[49m\u001b[43mW\u001b[49m\u001b[43m,\u001b[49m\u001b[43m \u001b[49m\u001b[43mbeta\u001b[49m\u001b[43m,\u001b[49m\u001b[43m \u001b[49m\u001b[43moptimal_threshold\u001b[49m\u001b[43m)\u001b[49m\n\u001b[1;32m     17\u001b[0m test_predictions_network2 \u001b[38;5;241m=\u001b[39m predict_with_threshold(network2, k, W, beta, optimal_threshold)\n\u001b[1;32m     18\u001b[0m \u001b[38;5;28;01mreturn\u001b[39;00m \u001b[38;5;241m1\u001b[39m\u001b[38;5;241m-\u001b[39m\u001b[38;5;28msum\u001b[39m(test_predictions_network1)\u001b[38;5;241m/\u001b[39m\u001b[38;5;28mlen\u001b[39m(test_predictions_network1), (\u001b[38;5;28msum\u001b[39m(test_predictions_network2)\u001b[38;5;241m/\u001b[39m\u001b[38;5;28mlen\u001b[39m(test_predictions_network2)), optimal_threshold\n",
      "File \u001b[0;32m~/cs/Class/lyu/roc_curve_test.py:64\u001b[0m, in \u001b[0;36mpredict_with_threshold\u001b[0;34m(network, k, W, beta, threshold)\u001b[0m\n\u001b[1;32m     63\u001b[0m \u001b[38;5;28;01mdef\u001b[39;00m \u001b[38;5;21mpredict_with_threshold\u001b[39m(network, k, W, beta, threshold):\n\u001b[0;32m---> 64\u001b[0m     prediction \u001b[38;5;241m=\u001b[39m \u001b[43mlive_sample\u001b[49m\u001b[43m(\u001b[49m\u001b[43mnetwork\u001b[49m\u001b[43m,\u001b[49m\u001b[43m \u001b[49m\u001b[43mnetwork\u001b[49m\u001b[43m,\u001b[49m\u001b[43m \u001b[49m\u001b[43mk\u001b[49m\u001b[38;5;241;43m=\u001b[39;49m\u001b[43mk\u001b[49m\u001b[43m)\u001b[49m[\u001b[38;5;241m0\u001b[39m]\n\u001b[1;32m     65\u001b[0m     predictions \u001b[38;5;241m=\u001b[39m []\n\u001b[1;32m     66\u001b[0m     \u001b[38;5;28;01mfor\u001b[39;00m j \u001b[38;5;129;01min\u001b[39;00m \u001b[38;5;28mrange\u001b[39m(prediction\u001b[38;5;241m.\u001b[39mshape[\u001b[38;5;241m0\u001b[39m]):\n",
      "File \u001b[0;32m~/cs/Class/lyu/run_SNLD.py:46\u001b[0m, in \u001b[0;36mlive_sample\u001b[0;34m(graph1, graph2, k, tolerance)\u001b[0m\n\u001b[1;32m     44\u001b[0m     graph_list\u001b[38;5;241m.\u001b[39mappend(G)\n\u001b[1;32m     45\u001b[0m \u001b[38;5;28;01mif\u001b[39;00m graph1 \u001b[38;5;241m==\u001b[39m graph2:\n\u001b[0;32m---> 46\u001b[0m     \u001b[38;5;28;01mreturn\u001b[39;00m \u001b[43msampling\u001b[49m\u001b[43m(\u001b[49m\u001b[43mgraph_list\u001b[49m\u001b[43m,\u001b[49m\u001b[43m \u001b[49m\u001b[43mk\u001b[49m\u001b[38;5;241;43m=\u001b[39;49m\u001b[43mk\u001b[49m\u001b[43m,\u001b[49m\u001b[43m \u001b[49m\u001b[43msample_size_list\u001b[49m\u001b[43m \u001b[49m\u001b[38;5;241;43m=\u001b[39;49m\u001b[43m[\u001b[49m\u001b[38;5;241;43m500\u001b[39;49m\u001b[43m,\u001b[49m\u001b[38;5;241;43m500\u001b[39;49m\u001b[43m]\u001b[49m\u001b[43m)\u001b[49m\n\u001b[1;32m     48\u001b[0m guess1, guess2 \u001b[38;5;241m=\u001b[39m \u001b[38;5;241m500\u001b[39m, \u001b[38;5;241m500\u001b[39m\n\u001b[1;32m     49\u001b[0m A, y \u001b[38;5;241m=\u001b[39m sampling(graph_list, k\u001b[38;5;241m=\u001b[39mk, sample_size_list\u001b[38;5;241m=\u001b[39m[guess1, guess2])\n",
      "File \u001b[0;32m~/cs/Class/lyu/src/sampling/sampling.py:24\u001b[0m, in \u001b[0;36msampling\u001b[0;34m(list_graphs, labels, k, sample_size_list, sampling_alg, skip_folded_hom)\u001b[0m\n\u001b[1;32m     22\u001b[0m sample_size \u001b[38;5;241m=\u001b[39m sample_size_list[idx]\n\u001b[1;32m     23\u001b[0m \u001b[38;5;28;01mif\u001b[39;00m sampling_alg \u001b[38;5;241m!=\u001b[39m \u001b[38;5;124m'\u001b[39m\u001b[38;5;124mRW\u001b[39m\u001b[38;5;124m'\u001b[39m:\n\u001b[0;32m---> 24\u001b[0m     X, embs \u001b[38;5;241m=\u001b[39m \u001b[43mG\u001b[49m\u001b[38;5;241;43m.\u001b[39;49m\u001b[43mget_patches\u001b[49m\u001b[43m(\u001b[49m\u001b[43mk\u001b[49m\u001b[38;5;241;43m=\u001b[39;49m\u001b[43mk\u001b[49m\u001b[43m,\u001b[49m\u001b[43m \u001b[49m\u001b[43msample_size\u001b[49m\u001b[38;5;241;43m=\u001b[39;49m\u001b[43msample_size\u001b[49m\u001b[43m,\u001b[49m\n\u001b[1;32m     25\u001b[0m \u001b[43m                            \u001b[49m\u001b[43msampling_alg\u001b[49m\u001b[43m \u001b[49m\u001b[38;5;241;43m=\u001b[39;49m\u001b[43m \u001b[49m\u001b[43msampling_alg\u001b[49m\u001b[43m,\u001b[49m\n\u001b[1;32m     26\u001b[0m \u001b[43m                            \u001b[49m\u001b[43mskip_folded_hom\u001b[49m\u001b[38;5;241;43m=\u001b[39;49m\u001b[43mskip_folded_hom\u001b[49m\u001b[43m)\u001b[49m\n\u001b[1;32m     27\u001b[0m     X_list\u001b[38;5;241m.\u001b[39mappend(X)\n\u001b[1;32m     28\u001b[0m     embs_list\u001b[38;5;241m.\u001b[39mappend(embs)\n",
      "File \u001b[0;32m~/cs/Class/lyu/.venv/lib/python3.12/site-packages/NNetwork/NNetwork.py:664\u001b[0m, in \u001b[0;36mNNetwork.get_patches\u001b[0;34m(self, k, emb, sample_size, skip_folded_hom, sampling_alg)\u001b[0m\n\u001b[1;32m    662\u001b[0m count \u001b[38;5;241m=\u001b[39m \u001b[38;5;241m0\u001b[39m\n\u001b[1;32m    663\u001b[0m \u001b[38;5;28;01mwhile\u001b[39;00m (num_hom_sampled \u001b[38;5;241m<\u001b[39m sample_size) \u001b[38;5;129;01mand\u001b[39;00m (count \u001b[38;5;241m<\u001b[39m \u001b[38;5;241m10000\u001b[39m \u001b[38;5;241m*\u001b[39m sample_size):\n\u001b[0;32m--> 664\u001b[0m     emb \u001b[38;5;241m=\u001b[39m \u001b[38;5;28;43mself\u001b[39;49m\u001b[38;5;241;43m.\u001b[39;49m\u001b[43mupdate_emb\u001b[49m\u001b[43m(\u001b[49m\u001b[43memb\u001b[49m\u001b[43m,\u001b[49m\n\u001b[1;32m    665\u001b[0m \u001b[43m                        \u001b[49m\u001b[43miterations\u001b[49m\u001b[38;5;241;43m=\u001b[39;49m\u001b[38;5;241;43m1\u001b[39;49m\u001b[43m,\u001b[49m\n\u001b[1;32m    666\u001b[0m \u001b[43m                        \u001b[49m\u001b[43msampling_alg\u001b[49m\u001b[38;5;241;43m=\u001b[39;49m\u001b[43msampling_alg\u001b[49m\u001b[43m)\u001b[49m\n\u001b[1;32m    667\u001b[0m     Y \u001b[38;5;241m=\u001b[39m \u001b[38;5;28mself\u001b[39m\u001b[38;5;241m.\u001b[39memb2adj(emb)\n\u001b[1;32m    669\u001b[0m     \u001b[38;5;28;01mif\u001b[39;00m \u001b[38;5;129;01mnot\u001b[39;00m (skip_folded_hom \u001b[38;5;129;01mand\u001b[39;00m \u001b[38;5;28mlen\u001b[39m(\u001b[38;5;28mset\u001b[39m(emb))\u001b[38;5;241m<\u001b[39mk):\n\u001b[1;32m    670\u001b[0m         \u001b[38;5;66;03m# skip adding the sampled patch if the nodes are not distinct\u001b[39;00m\n",
      "File \u001b[0;32m~/cs/Class/lyu/.venv/lib/python3.12/site-packages/NNetwork/NNetwork.py:619\u001b[0m, in \u001b[0;36mNNetwork.update_emb\u001b[0;34m(self, emb, iterations, sampling_alg, omit_folded_edges)\u001b[0m\n\u001b[1;32m    617\u001b[0m     emb \u001b[38;5;241m=\u001b[39m \u001b[38;5;28mself\u001b[39m\u001b[38;5;241m.\u001b[39mglauber_update(B, emb)\n\u001b[1;32m    618\u001b[0m \u001b[38;5;28;01melif\u001b[39;00m sampling_alg \u001b[38;5;241m==\u001b[39m \u001b[38;5;124m'\u001b[39m\u001b[38;5;124mpivot\u001b[39m\u001b[38;5;124m'\u001b[39m:\n\u001b[0;32m--> 619\u001b[0m     emb \u001b[38;5;241m=\u001b[39m \u001b[38;5;28;43mself\u001b[39;49m\u001b[38;5;241;43m.\u001b[39;49m\u001b[43mPivot_update\u001b[49m\u001b[43m(\u001b[49m\u001b[43memb\u001b[49m\u001b[43m,\u001b[49m\u001b[43m \u001b[49m\u001b[43mif_inj\u001b[49m\u001b[43m \u001b[49m\u001b[38;5;241;43m=\u001b[39;49m\u001b[43m \u001b[49m\u001b[38;5;28;43;01mFalse\u001b[39;49;00m\u001b[43m)\u001b[49m\n\u001b[1;32m    620\u001b[0m \u001b[38;5;28;01melif\u001b[39;00m sampling_alg \u001b[38;5;241m==\u001b[39m \u001b[38;5;124m'\u001b[39m\u001b[38;5;124midla\u001b[39m\u001b[38;5;124m'\u001b[39m:\n\u001b[1;32m    621\u001b[0m     \u001b[38;5;66;03m# IDLA sampling: centered around a uniformly chosen node, sample\u001b[39;00m\n\u001b[1;32m    622\u001b[0m     \u001b[38;5;66;03m# a k-node subgraph (no repeated nodes)\u001b[39;00m\n\u001b[1;32m    623\u001b[0m     H \u001b[38;5;241m=\u001b[39m \u001b[38;5;28;01mNone\u001b[39;00m\n",
      "File \u001b[0;32m~/cs/Class/lyu/.venv/lib/python3.12/site-packages/NNetwork/NNetwork.py:598\u001b[0m, in \u001b[0;36mNNetwork.Pivot_update\u001b[0;34m(self, emb, if_inj, Pivot_exact_MH_rule)\u001b[0m\n\u001b[1;32m    596\u001b[0m \u001b[38;5;66;03m#  emb_new = self.Path_sample_gen_position(x0, k1, k2)  # new path embedding\u001b[39;00m\n\u001b[1;32m    597\u001b[0m \u001b[38;5;28;01mif\u001b[39;00m \u001b[38;5;129;01mnot\u001b[39;00m if_inj:\n\u001b[0;32m--> 598\u001b[0m     emb_new \u001b[38;5;241m=\u001b[39m \u001b[38;5;28;43mself\u001b[39;49m\u001b[38;5;241;43m.\u001b[39;49m\u001b[43mtree_sample\u001b[49m\u001b[43m(\u001b[49m\u001b[43mB\u001b[49m\u001b[43m,\u001b[49m\u001b[43m \u001b[49m\u001b[43mx0\u001b[49m\u001b[43m)\u001b[49m  \u001b[38;5;66;03m# new path embedding\u001b[39;00m\n\u001b[1;32m    599\u001b[0m \u001b[38;5;28;01melse\u001b[39;00m: \u001b[38;5;66;03m# sample subsequent nodes until one collects k distinct nodes\u001b[39;00m\n\u001b[1;32m    600\u001b[0m     H \u001b[38;5;241m=\u001b[39m \u001b[38;5;28;01mNone\u001b[39;00m\n",
      "File \u001b[0;32m~/cs/Class/lyu/.venv/lib/python3.12/site-packages/NNetwork/NNetwork.py:494\u001b[0m, in \u001b[0;36mNNetwork.tree_sample\u001b[0;34m(self, B, x)\u001b[0m\n\u001b[1;32m    492\u001b[0m nbs_j \u001b[38;5;241m=\u001b[39m np\u001b[38;5;241m.\u001b[39masarray(\u001b[38;5;28mlist\u001b[39m(\u001b[38;5;28mself\u001b[39m\u001b[38;5;241m.\u001b[39mneighbors(emb[j])))\n\u001b[1;32m    493\u001b[0m \u001b[38;5;28;01mif\u001b[39;00m \u001b[38;5;28mlen\u001b[39m(nbs_j) \u001b[38;5;241m>\u001b[39m \u001b[38;5;241m0\u001b[39m:\n\u001b[0;32m--> 494\u001b[0m     y \u001b[38;5;241m=\u001b[39m \u001b[43mnp\u001b[49m\u001b[38;5;241;43m.\u001b[39;49m\u001b[43mrandom\u001b[49m\u001b[38;5;241;43m.\u001b[39;49m\u001b[43mchoice\u001b[49m\u001b[43m(\u001b[49m\u001b[43mnbs_j\u001b[49m\u001b[43m)\u001b[49m\n\u001b[1;32m    495\u001b[0m \u001b[38;5;28;01melse\u001b[39;00m:\n\u001b[1;32m    496\u001b[0m     y \u001b[38;5;241m=\u001b[39m emb[j]\n",
      "File \u001b[0;32mnumpy/random/mtrand.pyx:1021\u001b[0m, in \u001b[0;36mnumpy.random.mtrand.RandomState.choice\u001b[0;34m()\u001b[0m\n",
      "File \u001b[0;32mnumpy/random/mtrand.pyx:798\u001b[0m, in \u001b[0;36mnumpy.random.mtrand.RandomState.randint\u001b[0;34m()\u001b[0m\n",
      "File \u001b[0;32mnumpy/random/_bounded_integers.pyx:1315\u001b[0m, in \u001b[0;36mnumpy.random._bounded_integers._rand_int64\u001b[0;34m()\u001b[0m\n",
      "File \u001b[0;32m~/cs/Class/lyu/.venv/lib/python3.12/site-packages/numpy/_core/fromnumeric.py:3191\u001b[0m, in \u001b[0;36mprod\u001b[0;34m(a, axis, dtype, out, keepdims, initial, where)\u001b[0m\n\u001b[1;32m   3068\u001b[0m \u001b[38;5;129m@array_function_dispatch\u001b[39m(_prod_dispatcher)\n\u001b[1;32m   3069\u001b[0m \u001b[38;5;28;01mdef\u001b[39;00m \u001b[38;5;21mprod\u001b[39m(a, axis\u001b[38;5;241m=\u001b[39m\u001b[38;5;28;01mNone\u001b[39;00m, dtype\u001b[38;5;241m=\u001b[39m\u001b[38;5;28;01mNone\u001b[39;00m, out\u001b[38;5;241m=\u001b[39m\u001b[38;5;28;01mNone\u001b[39;00m, keepdims\u001b[38;5;241m=\u001b[39mnp\u001b[38;5;241m.\u001b[39m_NoValue,\n\u001b[1;32m   3070\u001b[0m          initial\u001b[38;5;241m=\u001b[39mnp\u001b[38;5;241m.\u001b[39m_NoValue, where\u001b[38;5;241m=\u001b[39mnp\u001b[38;5;241m.\u001b[39m_NoValue):\n\u001b[1;32m   3071\u001b[0m \u001b[38;5;250m    \u001b[39m\u001b[38;5;124;03m\"\"\"\u001b[39;00m\n\u001b[1;32m   3072\u001b[0m \u001b[38;5;124;03m    Return the product of array elements over a given axis.\u001b[39;00m\n\u001b[1;32m   3073\u001b[0m \n\u001b[0;32m   (...)\u001b[0m\n\u001b[1;32m   3189\u001b[0m \u001b[38;5;124;03m    10\u001b[39;00m\n\u001b[1;32m   3190\u001b[0m \u001b[38;5;124;03m    \"\"\"\u001b[39;00m\n\u001b[0;32m-> 3191\u001b[0m     \u001b[38;5;28;01mreturn\u001b[39;00m \u001b[43m_wrapreduction\u001b[49m\u001b[43m(\u001b[49m\u001b[43ma\u001b[49m\u001b[43m,\u001b[49m\u001b[43m \u001b[49m\u001b[43mnp\u001b[49m\u001b[38;5;241;43m.\u001b[39;49m\u001b[43mmultiply\u001b[49m\u001b[43m,\u001b[49m\u001b[43m \u001b[49m\u001b[38;5;124;43m'\u001b[39;49m\u001b[38;5;124;43mprod\u001b[39;49m\u001b[38;5;124;43m'\u001b[39;49m\u001b[43m,\u001b[49m\u001b[43m \u001b[49m\u001b[43maxis\u001b[49m\u001b[43m,\u001b[49m\u001b[43m \u001b[49m\u001b[43mdtype\u001b[49m\u001b[43m,\u001b[49m\u001b[43m \u001b[49m\u001b[43mout\u001b[49m\u001b[43m,\u001b[49m\n\u001b[1;32m   3192\u001b[0m \u001b[43m                          \u001b[49m\u001b[43mkeepdims\u001b[49m\u001b[38;5;241;43m=\u001b[39;49m\u001b[43mkeepdims\u001b[49m\u001b[43m,\u001b[49m\u001b[43m \u001b[49m\u001b[43minitial\u001b[49m\u001b[38;5;241;43m=\u001b[39;49m\u001b[43minitial\u001b[49m\u001b[43m,\u001b[49m\u001b[43m \u001b[49m\u001b[43mwhere\u001b[49m\u001b[38;5;241;43m=\u001b[39;49m\u001b[43mwhere\u001b[49m\u001b[43m)\u001b[49m\n",
      "File \u001b[0;32m~/cs/Class/lyu/.venv/lib/python3.12/site-packages/numpy/_core/fromnumeric.py:86\u001b[0m, in \u001b[0;36m_wrapreduction\u001b[0;34m(obj, ufunc, method, axis, dtype, out, **kwargs)\u001b[0m\n\u001b[1;32m     83\u001b[0m         \u001b[38;5;28;01melse\u001b[39;00m:\n\u001b[1;32m     84\u001b[0m             \u001b[38;5;28;01mreturn\u001b[39;00m reduction(axis\u001b[38;5;241m=\u001b[39maxis, out\u001b[38;5;241m=\u001b[39mout, \u001b[38;5;241m*\u001b[39m\u001b[38;5;241m*\u001b[39mpasskwargs)\n\u001b[0;32m---> 86\u001b[0m \u001b[38;5;28;01mreturn\u001b[39;00m \u001b[43mufunc\u001b[49m\u001b[38;5;241;43m.\u001b[39;49m\u001b[43mreduce\u001b[49m\u001b[43m(\u001b[49m\u001b[43mobj\u001b[49m\u001b[43m,\u001b[49m\u001b[43m \u001b[49m\u001b[43maxis\u001b[49m\u001b[43m,\u001b[49m\u001b[43m \u001b[49m\u001b[43mdtype\u001b[49m\u001b[43m,\u001b[49m\u001b[43m \u001b[49m\u001b[43mout\u001b[49m\u001b[43m,\u001b[49m\u001b[43m \u001b[49m\u001b[38;5;241;43m*\u001b[39;49m\u001b[38;5;241;43m*\u001b[39;49m\u001b[43mpasskwargs\u001b[49m\u001b[43m)\u001b[49m\n",
      "\u001b[0;31mKeyboardInterrupt\u001b[0m: "
     ]
    }
   ],
   "source": [
    "for i in range(25,30):\n",
    "    print(i)\n",
    "    accu.append(roc.run(i))"
   ]
  },
  {
   "cell_type": "code",
   "execution_count": 10,
   "id": "50dd881d-dadb-4ead-9959-209cf36bbc28",
   "metadata": {},
   "outputs": [],
   "source": [
    "accu1 = [(i[0]) for i in accu]\n",
    "accu2 = [(i[1]) for i in accu]\n",
    "thresholds = [i[2] for i in accu]"
   ]
  },
  {
   "cell_type": "code",
   "execution_count": 11,
   "id": "b87f9ca9-b889-4716-a5d0-a2fb0b82c9b9",
   "metadata": {},
   "outputs": [
    {
     "data": {
      "image/png": "[encoded data removed]",
      "text/plain": [
       "<Figure size 640x480 with 1 Axes>"
      ]
     },
     "metadata": {},
     "output_type": "display_data"
    }
   ],
   "source": [
    "x_values = np.arange(5,29)\n",
    "plt.plot(x_values, accu1, label='Line 1')\n",
    "plt.plot(x_values, accu2, label='Line 2')\n",
    "plt.plot(x_values, thresholds, label='Thresholds')\n",
    "\n",
    "plt.legend()\n",
    "plt.show()"
   ]
  }
 ],
 "metadata": {
  "kernelspec": {
   "display_name": "Python 3 (ipykernel)",
   "language": "python",
   "name": "python3"
  },
  "language_info": {
   "codemirror_mode": {
    "name": "ipython",
    "version": 3
   },
   "file_extension": ".py",
   "mimetype": "text/x-python",
   "name": "python",
   "nbconvert_exporter": "python",
   "pygments_lexer": "ipython3",
   "version": "3.12.4"
  }
 },
 "nbformat": 4,
 "nbformat_minor": 5
}
