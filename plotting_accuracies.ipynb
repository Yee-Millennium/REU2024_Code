{
 "cells": [
  {
   "cell_type": "code",
   "execution_count": 1,
   "id": "e65395c2-ac0e-4e41-9f5f-51f5ceb6cc6c",
   "metadata": {},
   "outputs": [],
   "source": [
    "import roc_curve_test as roc\n",
    "import numpy as np\n",
    "import matplotlib.pyplot as plt"
   ]
  },
  {
   "cell_type": "code",
   "execution_count": 2,
   "id": "1eef8d95-462b-4779-bd88-df61dda377bb",
   "metadata": {},
   "outputs": [],
   "source": [
    "accu = []"
   ]
  },
  {
   "cell_type": "code",
   "execution_count": 3,
   "id": "c1fa7e78-dec2-409c-a33e-52c322d539ed",
   "metadata": {},
   "outputs": [
    {
     "name": "stdout",
     "output_type": "stream",
     "text": [
      "5\n",
      "num of subgraphs induced on k-paths: 500\n",
      "num of subgraphs induced on k-paths: 500\n",
      "X_list: (25, 1000)\n",
      "2\n",
      "(1, 500)\n",
      "(1, 500)\n",
      "label_vec: (1, 1000)\n",
      "num of subgraphs induced on k-paths: 500\n",
      "num of subgraphs induced on k-paths: 591\n",
      "X_list: (25, 1091)\n",
      "2\n",
      "(1, 500)\n",
      "(1, 591)\n",
      "label_vec: (1, 1091)\n",
      "initial loading beta [[ 0.51707288 -0.4522046  -0.43698384  0.50912374 -0.53439173 -0.9019053\n",
      "   0.3084794  -0.2606569   0.20811648 -0.85524128  0.80330816  0.01892039\n",
      "  -0.4822852  -0.25325929  0.47858413  0.30137029 -0.98258277]]\n"
     ]
    },
    {
     "name": "stderr",
     "output_type": "stream",
     "text": [
      "  0%|                                                                                                                             | 0/250 [00:00<?, ?it/s]"
     ]
    },
    {
     "name": "stdout",
     "output_type": "stream",
     "text": [
      "--- Training --- [threshold, AUC] =  [np.float64(0.691), np.float64(0.727)]\n",
      "--- Iteration 0: Training loss --- [Data, Label, Total] = [2457.057144.3, 662.331834.3, 12947.617555.3]\n",
      "--- Training --- [threshold, AUC] =  [np.float64(0.59), np.float64(0.733)]\n",
      "--- Iteration 10: Training loss --- [Data, Label, Total] = [437.382597.3, 656.795022.3, 2843.708009.3]\n",
      "!!! pred_type filter\n"
     ]
    },
    {
     "name": "stderr",
     "output_type": "stream",
     "text": [
      "  4%|█████                                                                                                               | 11/250 [00:00<00:11, 20.86it/s]"
     ]
    },
    {
     "name": "stdout",
     "output_type": "stream",
     "text": [
      "--- Validation --- [threshold, AUC, Accuracy, F score] =  [np.float64(0.59), np.float64(0.733), np.float64(0.689), np.float64(0.714)]\n",
      "--- Training --- [threshold, AUC] =  [np.float64(0.593), np.float64(0.736)]\n",
      "--- Iteration 20: Training loss --- [Data, Label, Total] = [222.698078.3, 655.904709.3, 1769.395099.3]\n",
      "!!! pred_type filter\n"
     ]
    },
    {
     "name": "stderr",
     "output_type": "stream",
     "text": [
      "  8%|█████████▋                                                                                                          | 21/250 [00:00<00:10, 21.22it/s]"
     ]
    },
    {
     "name": "stdout",
     "output_type": "stream",
     "text": [
      "--- Validation --- [threshold, AUC, Accuracy, F score] =  [np.float64(0.593), np.float64(0.736), np.float64(0.689), np.float64(0.714)]\n",
      "--- Training --- [threshold, AUC] =  [np.float64(0.592), np.float64(0.737)]\n",
      "--- Iteration 30: Training loss --- [Data, Label, Total] = [89.260191.3, 655.414199.3, 1101.715153.3]\n",
      "!!! pred_type filter\n"
     ]
    },
    {
     "name": "stderr",
     "output_type": "stream",
     "text": [
      " 12%|██████████████▍                                                                                                     | 31/250 [00:01<00:10, 20.46it/s]"
     ]
    },
    {
     "name": "stdout",
     "output_type": "stream",
     "text": [
      "--- Validation --- [threshold, AUC, Accuracy, F score] =  [np.float64(0.592), np.float64(0.737), np.float64(0.689), np.float64(0.714)]\n",
      "--- Training --- [threshold, AUC] =  [np.float64(0.59), np.float64(0.736)]\n",
      "--- Iteration 40: Training loss --- [Data, Label, Total] = [19.746805.3, 655.397794.3, 754.131816.3]\n",
      "!!! pred_type filter\n"
     ]
    },
    {
     "name": "stderr",
     "output_type": "stream",
     "text": [
      " 16%|███████████████████                                                                                                 | 41/250 [00:02<00:11, 18.59it/s]"
     ]
    },
    {
     "name": "stdout",
     "output_type": "stream",
     "text": [
      "--- Validation --- [threshold, AUC, Accuracy, F score] =  [np.float64(0.59), np.float64(0.736), np.float64(0.689), np.float64(0.714)]\n",
      "--- Training --- [threshold, AUC] =  [np.float64(0.59), np.float64(0.736)]\n",
      "--- Iteration 50: Training loss --- [Data, Label, Total] = [3.456061.3, 655.484616.3, 672.764920.3]\n",
      "!!! pred_type filter\n"
     ]
    },
    {
     "name": "stderr",
     "output_type": "stream",
     "text": [
      " 20%|███████████████████████▋                                                                                            | 51/250 [00:02<00:09, 20.71it/s]"
     ]
    },
    {
     "name": "stdout",
     "output_type": "stream",
     "text": [
      "--- Validation --- [threshold, AUC, Accuracy, F score] =  [np.float64(0.59), np.float64(0.736), np.float64(0.689), np.float64(0.714)]\n",
      "--- Training --- [threshold, AUC] =  [np.float64(0.589), np.float64(0.736)]\n",
      "--- Iteration 60: Training loss --- [Data, Label, Total] = [0.788544.3, 655.556870.3, 659.499590.3]\n",
      "!!! pred_type filter\n"
     ]
    },
    {
     "name": "stderr",
     "output_type": "stream",
     "text": [
      " 24%|████████████████████████████▎                                                                                       | 61/250 [00:02<00:08, 22.28it/s]"
     ]
    },
    {
     "name": "stdout",
     "output_type": "stream",
     "text": [
      "--- Validation --- [threshold, AUC, Accuracy, F score] =  [np.float64(0.589), np.float64(0.736), np.float64(0.689), np.float64(0.714)]\n",
      "--- Training --- [threshold, AUC] =  [np.float64(0.589), np.float64(0.736)]\n",
      "--- Iteration 70: Training loss --- [Data, Label, Total] = [0.306065.3, 655.589634.3, 657.119961.3]\n",
      "!!! pred_type filter\n"
     ]
    },
    {
     "name": "stderr",
     "output_type": "stream",
     "text": [
      " 28%|████████████████████████████████▉                                                                                   | 71/250 [00:03<00:07, 23.65it/s]"
     ]
    },
    {
     "name": "stdout",
     "output_type": "stream",
     "text": [
      "--- Validation --- [threshold, AUC, Accuracy, F score] =  [np.float64(0.589), np.float64(0.736), np.float64(0.689), np.float64(0.714)]\n",
      "--- Training --- [threshold, AUC] =  [np.float64(0.588), np.float64(0.736)]\n",
      "--- Iteration 80: Training loss --- [Data, Label, Total] = [0.190680.3, 655.592286.3, 656.545686.3]\n",
      "!!! pred_type filter\n"
     ]
    },
    {
     "name": "stderr",
     "output_type": "stream",
     "text": [
      " 34%|███████████████████████████████████████▉                                                                            | 86/250 [00:03<00:06, 26.44it/s]"
     ]
    },
    {
     "name": "stdout",
     "output_type": "stream",
     "text": [
      "--- Validation --- [threshold, AUC, Accuracy, F score] =  [np.float64(0.588), np.float64(0.736), np.float64(0.689), np.float64(0.714)]\n",
      "--- Training --- [threshold, AUC] =  [np.float64(0.589), np.float64(0.736)]\n",
      "--- Iteration 90: Training loss --- [Data, Label, Total] = [0.147277.3, 655.567528.3, 656.303915.3]\n",
      "!!! pred_type filter\n"
     ]
    },
    {
     "name": "stderr",
     "output_type": "stream",
     "text": [
      " 36%|██████████████████████████████████████████▏                                                                         | 91/250 [00:04<00:08, 17.95it/s]"
     ]
    },
    {
     "name": "stdout",
     "output_type": "stream",
     "text": [
      "--- Validation --- [threshold, AUC, Accuracy, F score] =  [np.float64(0.589), np.float64(0.736), np.float64(0.689), np.float64(0.714)]\n",
      "--- Training --- [threshold, AUC] =  [np.float64(0.589), np.float64(0.736)]\n",
      "--- Iteration 100: Training loss --- [Data, Label, Total] = [0.122883.3, 655.563140.3, 656.177557.3]\n",
      "!!! pred_type filter\n"
     ]
    },
    {
     "name": "stderr",
     "output_type": "stream",
     "text": [
      " 40%|██████████████████████████████████████████████▍                                                                    | 101/250 [00:04<00:07, 20.48it/s]"
     ]
    },
    {
     "name": "stdout",
     "output_type": "stream",
     "text": [
      "--- Validation --- [threshold, AUC, Accuracy, F score] =  [np.float64(0.589), np.float64(0.736), np.float64(0.689), np.float64(0.714)]\n",
      "--- Training --- [threshold, AUC] =  [np.float64(0.589), np.float64(0.736)]\n",
      "--- Iteration 110: Training loss --- [Data, Label, Total] = [0.105825.3, 655.549903.3, 656.079030.3]\n",
      "!!! pred_type filter\n"
     ]
    },
    {
     "name": "stderr",
     "output_type": "stream",
     "text": [
      " 44%|███████████████████████████████████████████████████                                                                | 111/250 [00:05<00:06, 21.41it/s]"
     ]
    },
    {
     "name": "stdout",
     "output_type": "stream",
     "text": [
      "--- Validation --- [threshold, AUC, Accuracy, F score] =  [np.float64(0.589), np.float64(0.736), np.float64(0.689), np.float64(0.714)]\n",
      "--- Training --- [threshold, AUC] =  [np.float64(0.589), np.float64(0.736)]\n",
      "--- Iteration 120: Training loss --- [Data, Label, Total] = [0.092788.3, 655.549029.3, 656.012970.3]\n",
      "!!! pred_type filter\n"
     ]
    },
    {
     "name": "stderr",
     "output_type": "stream",
     "text": [
      " 48%|███████████████████████████████████████████████████████▋                                                           | 121/250 [00:05<00:05, 22.63it/s]"
     ]
    },
    {
     "name": "stdout",
     "output_type": "stream",
     "text": [
      "--- Validation --- [threshold, AUC, Accuracy, F score] =  [np.float64(0.589), np.float64(0.736), np.float64(0.689), np.float64(0.714)]\n",
      "--- Training --- [threshold, AUC] =  [np.float64(0.589), np.float64(0.736)]\n",
      "--- Iteration 130: Training loss --- [Data, Label, Total] = [0.082351.3, 655.531218.3, 655.942974.3]\n",
      "!!! pred_type filter\n"
     ]
    },
    {
     "name": "stderr",
     "output_type": "stream",
     "text": [
      " 52%|████████████████████████████████████████████████████████████▎                                                      | 131/250 [00:05<00:04, 23.82it/s]"
     ]
    },
    {
     "name": "stdout",
     "output_type": "stream",
     "text": [
      "--- Validation --- [threshold, AUC, Accuracy, F score] =  [np.float64(0.589), np.float64(0.736), np.float64(0.689), np.float64(0.714)]\n",
      "--- Training --- [threshold, AUC] =  [np.float64(0.589), np.float64(0.736)]\n",
      "--- Iteration 140: Training loss --- [Data, Label, Total] = [0.073990.3, 655.528033.3, 655.897982.3]\n",
      "!!! pred_type filter\n"
     ]
    },
    {
     "name": "stderr",
     "output_type": "stream",
     "text": [
      " 56%|████████████████████████████████████████████████████████████████▊                                                  | 141/250 [00:06<00:04, 24.37it/s]"
     ]
    },
    {
     "name": "stdout",
     "output_type": "stream",
     "text": [
      "--- Validation --- [threshold, AUC, Accuracy, F score] =  [np.float64(0.589), np.float64(0.736), np.float64(0.689), np.float64(0.714)]\n",
      "--- Training --- [threshold, AUC] =  [np.float64(0.588), np.float64(0.736)]\n",
      "--- Iteration 150: Training loss --- [Data, Label, Total] = [0.066915.3, 655.521770.3, 655.856344.3]\n",
      "!!! pred_type filter\n"
     ]
    },
    {
     "name": "stderr",
     "output_type": "stream",
     "text": [
      " 60%|█████████████████████████████████████████████████████████████████████▍                                             | 151/250 [00:06<00:04, 22.62it/s]"
     ]
    },
    {
     "name": "stdout",
     "output_type": "stream",
     "text": [
      "--- Validation --- [threshold, AUC, Accuracy, F score] =  [np.float64(0.588), np.float64(0.736), np.float64(0.689), np.float64(0.714)]\n",
      "--- Training --- [threshold, AUC] =  [np.float64(0.589), np.float64(0.736)]\n",
      "--- Iteration 160: Training loss --- [Data, Label, Total] = [0.060802.3, 655.499054.3, 655.803061.3]\n",
      "!!! pred_type filter\n"
     ]
    },
    {
     "name": "stderr",
     "output_type": "stream",
     "text": [
      " 64%|██████████████████████████████████████████████████████████████████████████                                         | 161/250 [00:07<00:03, 23.51it/s]"
     ]
    },
    {
     "name": "stdout",
     "output_type": "stream",
     "text": [
      "--- Validation --- [threshold, AUC, Accuracy, F score] =  [np.float64(0.589), np.float64(0.736), np.float64(0.689), np.float64(0.714)]\n",
      "--- Training --- [threshold, AUC] =  [np.float64(0.59), np.float64(0.736)]\n",
      "--- Iteration 170: Training loss --- [Data, Label, Total] = [0.055954.3, 655.485089.3, 655.764859.3]\n",
      "!!! pred_type filter\n"
     ]
    },
    {
     "name": "stderr",
     "output_type": "stream",
     "text": [
      " 68%|██████████████████████████████████████████████████████████████████████████████▋                                    | 171/250 [00:07<00:03, 24.18it/s]"
     ]
    },
    {
     "name": "stdout",
     "output_type": "stream",
     "text": [
      "--- Validation --- [threshold, AUC, Accuracy, F score] =  [np.float64(0.59), np.float64(0.736), np.float64(0.689), np.float64(0.714)]\n",
      "--- Training --- [threshold, AUC] =  [np.float64(0.589), np.float64(0.736)]\n",
      "--- Iteration 180: Training loss --- [Data, Label, Total] = [0.051614.3, 655.465230.3, 655.723301.3]\n",
      "!!! pred_type filter\n"
     ]
    },
    {
     "name": "stderr",
     "output_type": "stream",
     "text": [
      " 72%|███████████████████████████████████████████████████████████████████████████████████▎                               | 181/250 [00:08<00:02, 24.61it/s]"
     ]
    },
    {
     "name": "stdout",
     "output_type": "stream",
     "text": [
      "--- Validation --- [threshold, AUC, Accuracy, F score] =  [np.float64(0.589), np.float64(0.736), np.float64(0.689), np.float64(0.714)]\n",
      "--- Training --- [threshold, AUC] =  [np.float64(0.589), np.float64(0.736)]\n",
      "--- Iteration 190: Training loss --- [Data, Label, Total] = [0.047997.3, 655.493608.3, 655.733594.3]\n",
      "!!! pred_type filter\n"
     ]
    },
    {
     "name": "stderr",
     "output_type": "stream",
     "text": [
      " 76%|███████████████████████████████████████████████████████████████████████████████████████▊                           | 191/250 [00:08<00:02, 25.57it/s]"
     ]
    },
    {
     "name": "stdout",
     "output_type": "stream",
     "text": [
      "--- Validation --- [threshold, AUC, Accuracy, F score] =  [np.float64(0.589), np.float64(0.736), np.float64(0.689), np.float64(0.714)]\n",
      "--- Training --- [threshold, AUC] =  [np.float64(0.589), np.float64(0.736)]\n",
      "--- Iteration 200: Training loss --- [Data, Label, Total] = [0.045038.3, 655.466136.3, 655.691328.3]\n",
      "!!! pred_type filter\n"
     ]
    },
    {
     "name": "stderr",
     "output_type": "stream",
     "text": [
      " 80%|████████████████████████████████████████████████████████████████████████████████████████████▍                      | 201/250 [00:08<00:01, 26.39it/s]"
     ]
    },
    {
     "name": "stdout",
     "output_type": "stream",
     "text": [
      "--- Validation --- [threshold, AUC, Accuracy, F score] =  [np.float64(0.589), np.float64(0.736), np.float64(0.689), np.float64(0.714)]\n",
      "--- Training --- [threshold, AUC] =  [np.float64(0.589), np.float64(0.736)]\n",
      "--- Iteration 210: Training loss --- [Data, Label, Total] = [0.042325.3, 655.462729.3, 655.674354.3]\n",
      "!!! pred_type filter\n"
     ]
    },
    {
     "name": "stderr",
     "output_type": "stream",
     "text": [
      " 84%|█████████████████████████████████████████████████████████████████████████████████████████████████                  | 211/250 [00:09<00:01, 27.08it/s]"
     ]
    },
    {
     "name": "stdout",
     "output_type": "stream",
     "text": [
      "--- Validation --- [threshold, AUC, Accuracy, F score] =  [np.float64(0.589), np.float64(0.736), np.float64(0.689), np.float64(0.714)]\n",
      "--- Training --- [threshold, AUC] =  [np.float64(0.589), np.float64(0.736)]\n",
      "--- Iteration 220: Training loss --- [Data, Label, Total] = [0.040127.3, 655.470047.3, 655.670681.3]\n",
      "!!! pred_type filter\n"
     ]
    },
    {
     "name": "stderr",
     "output_type": "stream",
     "text": [
      " 88%|█████████████████████████████████████████████████████████████████████████████████████████████████████▋             | 221/250 [00:09<00:01, 27.72it/s]"
     ]
    },
    {
     "name": "stdout",
     "output_type": "stream",
     "text": [
      "--- Validation --- [threshold, AUC, Accuracy, F score] =  [np.float64(0.589), np.float64(0.736), np.float64(0.689), np.float64(0.714)]\n",
      "--- Training --- [threshold, AUC] =  [np.float64(0.589), np.float64(0.736)]\n",
      "--- Iteration 230: Training loss --- [Data, Label, Total] = [0.037957.3, 655.437840.3, 655.627625.3]\n",
      "!!! pred_type filter\n"
     ]
    },
    {
     "name": "stderr",
     "output_type": "stream",
     "text": [
      " 92%|██████████████████████████████████████████████████████████████████████████████████████████████████████████▎        | 231/250 [00:09<00:00, 28.22it/s]"
     ]
    },
    {
     "name": "stdout",
     "output_type": "stream",
     "text": [
      "--- Validation --- [threshold, AUC, Accuracy, F score] =  [np.float64(0.589), np.float64(0.736), np.float64(0.689), np.float64(0.714)]\n",
      "--- Training --- [threshold, AUC] =  [np.float64(0.589), np.float64(0.736)]\n",
      "--- Iteration 240: Training loss --- [Data, Label, Total] = [0.035948.3, 655.432169.3, 655.611909.3]\n",
      "!!! pred_type filter\n"
     ]
    },
    {
     "name": "stderr",
     "output_type": "stream",
     "text": [
      "100%|███████████████████████████████████████████████████████████████████████████████████████████████████████████████████| 250/250 [00:10<00:00, 24.66it/s]"
     ]
    },
    {
     "name": "stdout",
     "output_type": "stream",
     "text": [
      "--- Validation --- [threshold, AUC, Accuracy, F score] =  [np.float64(0.589), np.float64(0.736), np.float64(0.689), np.float64(0.714)]\n",
      "!!! pred_type filter\n"
     ]
    },
    {
     "name": "stderr",
     "output_type": "stream",
     "text": [
      "\n"
     ]
    },
    {
     "name": "stdout",
     "output_type": "stream",
     "text": [
      "num of subgraphs induced on k-paths: 500\n",
      "num of subgraphs induced on k-paths: 500\n",
      "X_list: (25, 1000)\n",
      "2\n",
      "(1, 500)\n",
      "(1, 500)\n",
      "label_vec: (1, 1000)\n",
      "num of subgraphs induced on k-paths: 500\n",
      "num of subgraphs induced on k-paths: 500\n",
      "X_list: (25, 1000)\n",
      "2\n",
      "(1, 500)\n",
      "(1, 500)\n",
      "label_vec: (1, 1000)\n",
      "6\n",
      "num of subgraphs induced on k-paths: 500\n",
      "num of subgraphs induced on k-paths: 500\n",
      "X_list: (36, 1000)\n",
      "2\n",
      "(1, 500)\n",
      "(1, 500)\n",
      "label_vec: (1, 1000)\n",
      "num of subgraphs induced on k-paths: 500\n",
      "num of subgraphs induced on k-paths: 648\n",
      "X_list: (36, 1148)\n",
      "2\n",
      "(1, 500)\n",
      "(1, 648)\n",
      "label_vec: (1, 1148)\n",
      "initial loading beta [[ 0.88953954  0.35556793  0.49010036 -0.93524392  0.27961367  0.21129913\n",
      "  -0.32273955  0.01645193 -0.06012512  0.45889385 -0.69138221 -0.78054255\n",
      "  -0.67590022  0.42641085  0.40339424  0.24757845 -0.71458464]]\n"
     ]
    },
    {
     "name": "stderr",
     "output_type": "stream",
     "text": [
      "  0%|                                                                                                                             | 0/250 [00:00<?, ?it/s]"
     ]
    },
    {
     "name": "stdout",
     "output_type": "stream",
     "text": [
      "--- Training --- [threshold, AUC] =  [np.float64(0.579), np.float64(0.797)]\n",
      "--- Iteration 0: Training loss --- [Data, Label, Total] = [3879.772894.3, 640.032764.3, 20038.897231.3]\n",
      "--- Training --- [threshold, AUC] =  [np.float64(0.565), np.float64(0.8)]\n",
      "--- Iteration 10: Training loss --- [Data, Label, Total] = [1125.458829.3, 631.415836.3, 6258.709982.3]\n",
      "!!! pred_type filter\n"
     ]
    },
    {
     "name": "stderr",
     "output_type": "stream",
     "text": [
      "  4%|█████                                                                                                               | 11/250 [00:00<00:10, 23.50it/s]"
     ]
    },
    {
     "name": "stdout",
     "output_type": "stream",
     "text": [
      "--- Validation --- [threshold, AUC, Accuracy, F score] =  [np.float64(0.565), np.float64(0.8), np.float64(0.752), np.float64(0.795)]\n",
      "--- Training --- [threshold, AUC] =  [np.float64(0.646), np.float64(0.804)]\n",
      "--- Iteration 20: Training loss --- [Data, Label, Total] = [549.189392.3, 628.453907.3, 3374.400866.3]\n",
      "!!! pred_type filter\n"
     ]
    },
    {
     "name": "stderr",
     "output_type": "stream",
     "text": [
      "  8%|█████████▋                                                                                                          | 21/250 [00:01<00:13, 17.15it/s]"
     ]
    },
    {
     "name": "stdout",
     "output_type": "stream",
     "text": [
      "--- Validation --- [threshold, AUC, Accuracy, F score] =  [np.float64(0.646), np.float64(0.804), np.float64(0.742), np.float64(0.758)]\n",
      "--- Training --- [threshold, AUC] =  [np.float64(0.588), np.float64(0.807)]\n",
      "--- Iteration 30: Training loss --- [Data, Label, Total] = [279.176170.3, 628.245503.3, 2024.126353.3]\n",
      "!!! pred_type filter\n"
     ]
    },
    {
     "name": "stderr",
     "output_type": "stream",
     "text": [
      " 12%|██████████████▍                                                                                                     | 31/250 [00:01<00:12, 18.13it/s]"
     ]
    },
    {
     "name": "stdout",
     "output_type": "stream",
     "text": [
      "--- Validation --- [threshold, AUC, Accuracy, F score] =  [np.float64(0.588), np.float64(0.807), np.float64(0.763), np.float64(0.801)]\n",
      "--- Training --- [threshold, AUC] =  [np.float64(0.587), np.float64(0.806)]\n",
      "--- Iteration 40: Training loss --- [Data, Label, Total] = [174.970260.3, 628.388061.3, 1503.239361.3]\n",
      "!!! pred_type filter\n"
     ]
    },
    {
     "name": "stderr",
     "output_type": "stream",
     "text": [
      " 18%|████████████████████▉                                                                                               | 45/250 [00:02<00:10, 19.06it/s]"
     ]
    },
    {
     "name": "stdout",
     "output_type": "stream",
     "text": [
      "--- Validation --- [threshold, AUC, Accuracy, F score] =  [np.float64(0.587), np.float64(0.806), np.float64(0.76), np.float64(0.8)]\n",
      "--- Training --- [threshold, AUC] =  [np.float64(0.586), np.float64(0.806)]\n",
      "--- Iteration 50: Training loss --- [Data, Label, Total] = [122.728924.3, 628.505583.3, 1242.150205.3]\n",
      "!!! pred_type filter\n"
     ]
    },
    {
     "name": "stderr",
     "output_type": "stream",
     "text": [
      " 20%|███████████████████████▋                                                                                            | 51/250 [00:02<00:11, 16.68it/s]"
     ]
    },
    {
     "name": "stdout",
     "output_type": "stream",
     "text": [
      "--- Validation --- [threshold, AUC, Accuracy, F score] =  [np.float64(0.586), np.float64(0.806), np.float64(0.76), np.float64(0.8)]\n",
      "--- Training --- [threshold, AUC] =  [np.float64(0.586), np.float64(0.806)]\n",
      "--- Iteration 60: Training loss --- [Data, Label, Total] = [98.103136.3, 628.576278.3, 1119.091960.3]\n",
      "!!! pred_type filter\n"
     ]
    },
    {
     "name": "stderr",
     "output_type": "stream",
     "text": [
      " 24%|████████████████████████████▎                                                                                       | 61/250 [00:03<00:12, 15.31it/s]"
     ]
    },
    {
     "name": "stdout",
     "output_type": "stream",
     "text": [
      "--- Validation --- [threshold, AUC, Accuracy, F score] =  [np.float64(0.586), np.float64(0.806), np.float64(0.76), np.float64(0.8)]\n",
      "--- Training --- [threshold, AUC] =  [np.float64(0.585), np.float64(0.806)]\n",
      "--- Iteration 70: Training loss --- [Data, Label, Total] = [88.678133.3, 628.837085.3, 1072.227750.3]\n",
      "!!! pred_type filter\n"
     ]
    },
    {
     "name": "stderr",
     "output_type": "stream",
     "text": [
      " 28%|████████████████████████████████▉                                                                                   | 71/250 [00:04<00:10, 17.14it/s]"
     ]
    },
    {
     "name": "stdout",
     "output_type": "stream",
     "text": [
      "--- Validation --- [threshold, AUC, Accuracy, F score] =  [np.float64(0.585), np.float64(0.806), np.float64(0.76), np.float64(0.8)]\n",
      "--- Training --- [threshold, AUC] =  [np.float64(0.586), np.float64(0.806)]\n",
      "--- Iteration 80: Training loss --- [Data, Label, Total] = [83.845392.3, 628.930308.3, 1048.157269.3]\n",
      "!!! pred_type filter\n"
     ]
    },
    {
     "name": "stderr",
     "output_type": "stream",
     "text": [
      " 32%|█████████████████████████████████████▌                                                                              | 81/250 [00:04<00:09, 18.74it/s]"
     ]
    },
    {
     "name": "stdout",
     "output_type": "stream",
     "text": [
      "--- Validation --- [threshold, AUC, Accuracy, F score] =  [np.float64(0.586), np.float64(0.806), np.float64(0.76), np.float64(0.8)]\n",
      "--- Training --- [threshold, AUC] =  [np.float64(0.585), np.float64(0.806)]\n",
      "--- Iteration 90: Training loss --- [Data, Label, Total] = [79.455645.3, 629.136762.3, 1026.414985.3]\n",
      "!!! pred_type filter\n"
     ]
    },
    {
     "name": "stderr",
     "output_type": "stream",
     "text": [
      " 36%|██████████████████████████████████████████▏                                                                         | 91/250 [00:05<00:08, 17.82it/s]"
     ]
    },
    {
     "name": "stdout",
     "output_type": "stream",
     "text": [
      "--- Validation --- [threshold, AUC, Accuracy, F score] =  [np.float64(0.585), np.float64(0.806), np.float64(0.76), np.float64(0.8)]\n",
      "--- Training --- [threshold, AUC] =  [np.float64(0.586), np.float64(0.806)]\n",
      "--- Iteration 100: Training loss --- [Data, Label, Total] = [73.782412.3, 629.122274.3, 998.034333.3]\n",
      "!!! pred_type filter\n"
     ]
    },
    {
     "name": "stderr",
     "output_type": "stream",
     "text": [
      " 40%|██████████████████████████████████████████████▍                                                                    | 101/250 [00:05<00:07, 19.54it/s]"
     ]
    },
    {
     "name": "stdout",
     "output_type": "stream",
     "text": [
      "--- Validation --- [threshold, AUC, Accuracy, F score] =  [np.float64(0.586), np.float64(0.806), np.float64(0.76), np.float64(0.8)]\n",
      "--- Training --- [threshold, AUC] =  [np.float64(0.585), np.float64(0.806)]\n",
      "--- Iteration 110: Training loss --- [Data, Label, Total] = [65.913083.3, 629.284852.3, 958.850265.3]\n",
      "!!! pred_type filter\n"
     ]
    },
    {
     "name": "stderr",
     "output_type": "stream",
     "text": [
      " 44%|███████████████████████████████████████████████████                                                                | 111/250 [00:05<00:06, 20.86it/s]"
     ]
    },
    {
     "name": "stdout",
     "output_type": "stream",
     "text": [
      "--- Validation --- [threshold, AUC, Accuracy, F score] =  [np.float64(0.585), np.float64(0.806), np.float64(0.76), np.float64(0.8)]\n",
      "--- Training --- [threshold, AUC] =  [np.float64(0.586), np.float64(0.806)]\n",
      "--- Iteration 120: Training loss --- [Data, Label, Total] = [55.592599.3, 629.410619.3, 907.373614.3]\n",
      "!!! pred_type filter\n"
     ]
    },
    {
     "name": "stderr",
     "output_type": "stream",
     "text": [
      " 48%|███████████████████████████████████████████████████████▋                                                           | 121/250 [00:06<00:05, 22.51it/s]"
     ]
    },
    {
     "name": "stdout",
     "output_type": "stream",
     "text": [
      "--- Validation --- [threshold, AUC, Accuracy, F score] =  [np.float64(0.586), np.float64(0.806), np.float64(0.76), np.float64(0.8)]\n",
      "--- Training --- [threshold, AUC] =  [np.float64(0.585), np.float64(0.805)]\n",
      "--- Iteration 130: Training loss --- [Data, Label, Total] = [43.341932.3, 629.585811.3, 846.295469.3]\n",
      "!!! pred_type filter\n"
     ]
    },
    {
     "name": "stderr",
     "output_type": "stream",
     "text": [
      " 52%|████████████████████████████████████████████████████████████▎                                                      | 131/250 [00:06<00:04, 24.44it/s]"
     ]
    },
    {
     "name": "stdout",
     "output_type": "stream",
     "text": [
      "--- Validation --- [threshold, AUC, Accuracy, F score] =  [np.float64(0.585), np.float64(0.805), np.float64(0.76), np.float64(0.8)]\n",
      "--- Training --- [threshold, AUC] =  [np.float64(0.585), np.float64(0.805)]\n",
      "--- Iteration 140: Training loss --- [Data, Label, Total] = [30.678244.3, 629.780683.3, 783.171904.3]\n",
      "!!! pred_type filter\n"
     ]
    },
    {
     "name": "stderr",
     "output_type": "stream",
     "text": [
      " 56%|████████████████████████████████████████████████████████████████▊                                                  | 141/250 [00:06<00:04, 26.25it/s]"
     ]
    },
    {
     "name": "stdout",
     "output_type": "stream",
     "text": [
      "--- Validation --- [threshold, AUC, Accuracy, F score] =  [np.float64(0.585), np.float64(0.805), np.float64(0.76), np.float64(0.8)]\n",
      "--- Training --- [threshold, AUC] =  [np.float64(0.584), np.float64(0.805)]\n",
      "--- Iteration 150: Training loss --- [Data, Label, Total] = [19.675981.3, 629.829889.3, 728.209794.3]\n",
      "!!! pred_type filter\n"
     ]
    },
    {
     "name": "stderr",
     "output_type": "stream",
     "text": [
      " 60%|█████████████████████████████████████████████████████████████████████▍                                             | 151/250 [00:07<00:03, 27.04it/s]"
     ]
    },
    {
     "name": "stdout",
     "output_type": "stream",
     "text": [
      "--- Validation --- [threshold, AUC, Accuracy, F score] =  [np.float64(0.584), np.float64(0.805), np.float64(0.76), np.float64(0.8)]\n",
      "--- Training --- [threshold, AUC] =  [np.float64(0.584), np.float64(0.805)]\n",
      "--- Iteration 160: Training loss --- [Data, Label, Total] = [11.601331.3, 629.975449.3, 687.982103.3]\n",
      "!!! pred_type filter\n"
     ]
    },
    {
     "name": "stderr",
     "output_type": "stream",
     "text": [
      " 64%|██████████████████████████████████████████████████████████████████████████                                         | 161/250 [00:07<00:03, 27.93it/s]"
     ]
    },
    {
     "name": "stdout",
     "output_type": "stream",
     "text": [
      "--- Validation --- [threshold, AUC, Accuracy, F score] =  [np.float64(0.584), np.float64(0.805), np.float64(0.76), np.float64(0.8)]\n",
      "--- Training --- [threshold, AUC] =  [np.float64(0.584), np.float64(0.805)]\n",
      "--- Iteration 170: Training loss --- [Data, Label, Total] = [6.460254.3, 630.076855.3, 662.378123.3]\n",
      "!!! pred_type filter\n"
     ]
    },
    {
     "name": "stderr",
     "output_type": "stream",
     "text": [
      " 68%|██████████████████████████████████████████████████████████████████████████████▋                                    | 171/250 [00:07<00:02, 29.30it/s]"
     ]
    },
    {
     "name": "stdout",
     "output_type": "stream",
     "text": [
      "--- Validation --- [threshold, AUC, Accuracy, F score] =  [np.float64(0.584), np.float64(0.805), np.float64(0.76), np.float64(0.799)]\n",
      "--- Training --- [threshold, AUC] =  [np.float64(0.585), np.float64(0.805)]\n",
      "--- Iteration 180: Training loss --- [Data, Label, Total] = [3.493803.3, 630.208205.3, 647.677219.3]\n",
      "!!! pred_type filter\n"
     ]
    },
    {
     "name": "stderr",
     "output_type": "stream",
     "text": [
      " 72%|███████████████████████████████████████████████████████████████████████████████████▎                               | 181/250 [00:08<00:03, 21.97it/s]"
     ]
    },
    {
     "name": "stdout",
     "output_type": "stream",
     "text": [
      "--- Validation --- [threshold, AUC, Accuracy, F score] =  [np.float64(0.585), np.float64(0.805), np.float64(0.76), np.float64(0.799)]\n",
      "--- Training --- [threshold, AUC] =  [np.float64(0.584), np.float64(0.805)]\n",
      "--- Iteration 190: Training loss --- [Data, Label, Total] = [1.881298.3, 630.190676.3, 639.597168.3]\n",
      "!!! pred_type filter\n"
     ]
    },
    {
     "name": "stderr",
     "output_type": "stream",
     "text": [
      " 76%|███████████████████████████████████████████████████████████████████████████████████████▊                           | 191/250 [00:09<00:02, 23.63it/s]"
     ]
    },
    {
     "name": "stdout",
     "output_type": "stream",
     "text": [
      "--- Validation --- [threshold, AUC, Accuracy, F score] =  [np.float64(0.584), np.float64(0.805), np.float64(0.76), np.float64(0.799)]\n",
      "--- Training --- [threshold, AUC] =  [np.float64(0.585), np.float64(0.805)]\n",
      "--- Iteration 200: Training loss --- [Data, Label, Total] = [1.032077.3, 630.169985.3, 635.330373.3]\n",
      "!!! pred_type filter\n"
     ]
    },
    {
     "name": "stderr",
     "output_type": "stream",
     "text": [
      " 80%|████████████████████████████████████████████████████████████████████████████████████████████▍                      | 201/250 [00:09<00:01, 25.55it/s]"
     ]
    },
    {
     "name": "stdout",
     "output_type": "stream",
     "text": [
      "--- Validation --- [threshold, AUC, Accuracy, F score] =  [np.float64(0.585), np.float64(0.805), np.float64(0.76), np.float64(0.799)]\n",
      "--- Training --- [threshold, AUC] =  [np.float64(0.584), np.float64(0.805)]\n",
      "--- Iteration 210: Training loss --- [Data, Label, Total] = [0.592001.3, 630.170191.3, 633.130196.3]\n",
      "!!! pred_type filter\n"
     ]
    },
    {
     "name": "stderr",
     "output_type": "stream",
     "text": [
      " 84%|█████████████████████████████████████████████████████████████████████████████████████████████████                  | 211/250 [00:09<00:01, 27.32it/s]"
     ]
    },
    {
     "name": "stdout",
     "output_type": "stream",
     "text": [
      "--- Validation --- [threshold, AUC, Accuracy, F score] =  [np.float64(0.584), np.float64(0.805), np.float64(0.76), np.float64(0.799)]\n",
      "--- Training --- [threshold, AUC] =  [np.float64(0.648), np.float64(0.805)]\n",
      "--- Iteration 220: Training loss --- [Data, Label, Total] = [0.364106.3, 630.138433.3, 631.958964.3]\n",
      "!!! pred_type filter\n"
     ]
    },
    {
     "name": "stderr",
     "output_type": "stream",
     "text": [
      " 88%|█████████████████████████████████████████████████████████████████████████████████████████████████████▋             | 221/250 [00:09<00:01, 28.78it/s]"
     ]
    },
    {
     "name": "stdout",
     "output_type": "stream",
     "text": [
      "--- Validation --- [threshold, AUC, Accuracy, F score] =  [np.float64(0.648), np.float64(0.805), np.float64(0.742), np.float64(0.758)]\n",
      "--- Training --- [threshold, AUC] =  [np.float64(0.649), np.float64(0.805)]\n",
      "--- Iteration 230: Training loss --- [Data, Label, Total] = [0.244904.3, 630.147815.3, 631.372335.3]\n",
      "!!! pred_type filter\n"
     ]
    },
    {
     "name": "stderr",
     "output_type": "stream",
     "text": [
      " 92%|██████████████████████████████████████████████████████████████████████████████████████████████████████████▎        | 231/250 [00:10<00:00, 29.95it/s]"
     ]
    },
    {
     "name": "stdout",
     "output_type": "stream",
     "text": [
      "--- Validation --- [threshold, AUC, Accuracy, F score] =  [np.float64(0.649), np.float64(0.805), np.float64(0.742), np.float64(0.758)]\n",
      "--- Training --- [threshold, AUC] =  [np.float64(0.584), np.float64(0.805)]\n",
      "--- Iteration 240: Training loss --- [Data, Label, Total] = [0.181634.3, 630.170044.3, 631.078214.3]\n",
      "!!! pred_type filter\n"
     ]
    },
    {
     "name": "stderr",
     "output_type": "stream",
     "text": [
      "100%|███████████████████████████████████████████████████████████████████████████████████████████████████████████████████| 250/250 [00:10<00:00, 23.45it/s]"
     ]
    },
    {
     "name": "stdout",
     "output_type": "stream",
     "text": [
      "--- Validation --- [threshold, AUC, Accuracy, F score] =  [np.float64(0.584), np.float64(0.805), np.float64(0.76), np.float64(0.799)]\n",
      "!!! pred_type filter\n"
     ]
    },
    {
     "name": "stderr",
     "output_type": "stream",
     "text": [
      "\n"
     ]
    },
    {
     "name": "stdout",
     "output_type": "stream",
     "text": [
      "num of subgraphs induced on k-paths: 500\n",
      "num of subgraphs induced on k-paths: 500\n",
      "X_list: (36, 1000)\n",
      "2\n",
      "(1, 500)\n",
      "(1, 500)\n",
      "label_vec: (1, 1000)\n",
      "num of subgraphs induced on k-paths: 500\n",
      "num of subgraphs induced on k-paths: 500\n",
      "X_list: (36, 1000)\n",
      "2\n",
      "(1, 500)\n",
      "(1, 500)\n",
      "label_vec: (1, 1000)\n",
      "7\n",
      "num of subgraphs induced on k-paths: 500\n",
      "num of subgraphs induced on k-paths: 500\n",
      "X_list: (49, 1000)\n",
      "2\n",
      "(1, 500)\n",
      "(1, 500)\n",
      "label_vec: (1, 1000)\n",
      "num of subgraphs induced on k-paths: 500\n",
      "num of subgraphs induced on k-paths: 657\n",
      "X_list: (49, 1157)\n",
      "2\n",
      "(1, 500)\n",
      "(1, 657)\n",
      "label_vec: (1, 1157)\n",
      "initial loading beta [[-0.79785973  0.67587108  0.73599716  0.50920574 -0.35461978  0.30025239\n",
      "   0.86512827  0.92256548  0.05081484  0.55639498 -0.61655025  0.51814222\n",
      "   0.66910922 -0.80126948 -0.04767919 -0.12004447  0.41275654]]\n"
     ]
    },
    {
     "name": "stderr",
     "output_type": "stream",
     "text": [
      "  0%|                                                                                                                             | 0/250 [00:00<?, ?it/s]"
     ]
    },
    {
     "name": "stdout",
     "output_type": "stream",
     "text": [
      "--- Training --- [threshold, AUC] =  [np.float64(0.636), np.float64(0.812)]\n",
      "--- Iteration 0: Training loss --- [Data, Label, Total] = [5517.532345.3, 617.428545.3, 28205.090268.3]\n",
      "--- Training --- [threshold, AUC] =  [np.float64(0.601), np.float64(0.819)]\n",
      "--- Iteration 10: Training loss --- [Data, Label, Total] = [1794.591867.3, 605.141533.3, 9578.100867.3]\n",
      "!!! pred_type filter\n"
     ]
    },
    {
     "name": "stderr",
     "output_type": "stream",
     "text": [
      "  4%|█████                                                                                                               | 11/250 [00:00<00:08, 28.23it/s]"
     ]
    },
    {
     "name": "stdout",
     "output_type": "stream",
     "text": [
      "--- Validation --- [threshold, AUC, Accuracy, F score] =  [np.float64(0.601), np.float64(0.819), np.float64(0.765), np.float64(0.788)]\n",
      "--- Training --- [threshold, AUC] =  [np.float64(0.632), np.float64(0.822)]\n",
      "--- Iteration 20: Training loss --- [Data, Label, Total] = [1162.200295.3, 602.496148.3, 6413.497621.3]\n",
      "!!! pred_type filter\n"
     ]
    },
    {
     "name": "stderr",
     "output_type": "stream",
     "text": [
      "  8%|█████████▋                                                                                                          | 21/250 [00:00<00:08, 27.41it/s]"
     ]
    },
    {
     "name": "stdout",
     "output_type": "stream",
     "text": [
      "--- Validation --- [threshold, AUC, Accuracy, F score] =  [np.float64(0.632), np.float64(0.822), np.float64(0.766), np.float64(0.786)]\n",
      "--- Training --- [threshold, AUC] =  [np.float64(0.637), np.float64(0.823)]\n",
      "--- Iteration 30: Training loss --- [Data, Label, Total] = [923.928727.3, 602.346514.3, 5221.990147.3]\n",
      "!!! pred_type filter\n"
     ]
    },
    {
     "name": "stderr",
     "output_type": "stream",
     "text": [
      " 12%|██████████████▍                                                                                                     | 31/250 [00:01<00:07, 27.53it/s]"
     ]
    },
    {
     "name": "stdout",
     "output_type": "stream",
     "text": [
      "--- Validation --- [threshold, AUC, Accuracy, F score] =  [np.float64(0.637), np.float64(0.823), np.float64(0.766), np.float64(0.785)]\n",
      "--- Training --- [threshold, AUC] =  [np.float64(0.611), np.float64(0.824)]\n",
      "--- Iteration 40: Training loss --- [Data, Label, Total] = [770.899450.3, 602.826562.3, 4457.323813.3]\n",
      "!!! pred_type filter\n"
     ]
    },
    {
     "name": "stderr",
     "output_type": "stream",
     "text": [
      " 19%|█████████████████████▊                                                                                              | 47/250 [00:01<00:06, 32.06it/s]"
     ]
    },
    {
     "name": "stdout",
     "output_type": "stream",
     "text": [
      "--- Validation --- [threshold, AUC, Accuracy, F score] =  [np.float64(0.611), np.float64(0.824), np.float64(0.767), np.float64(0.79)]\n",
      "--- Training --- [threshold, AUC] =  [np.float64(0.613), np.float64(0.824)]\n",
      "--- Iteration 50: Training loss --- [Data, Label, Total] = [689.847611.3, 603.300654.3, 4052.538710.3]\n",
      "!!! pred_type filter\n"
     ]
    },
    {
     "name": "stderr",
     "output_type": "stream",
     "text": [
      " 20%|███████████████████████▋                                                                                            | 51/250 [00:01<00:08, 24.37it/s]"
     ]
    },
    {
     "name": "stdout",
     "output_type": "stream",
     "text": [
      "--- Validation --- [threshold, AUC, Accuracy, F score] =  [np.float64(0.613), np.float64(0.824), np.float64(0.765), np.float64(0.788)]\n",
      "--- Training --- [threshold, AUC] =  [np.float64(0.614), np.float64(0.824)]\n",
      "--- Iteration 60: Training loss --- [Data, Label, Total] = [650.191770.3, 603.693259.3, 3854.652107.3]\n",
      "!!! pred_type filter\n"
     ]
    },
    {
     "name": "stderr",
     "output_type": "stream",
     "text": [
      " 24%|████████████████████████████▎                                                                                       | 61/250 [00:02<00:07, 26.54it/s]"
     ]
    },
    {
     "name": "stdout",
     "output_type": "stream",
     "text": [
      "--- Validation --- [threshold, AUC, Accuracy, F score] =  [np.float64(0.614), np.float64(0.824), np.float64(0.765), np.float64(0.788)]\n",
      "--- Training --- [threshold, AUC] =  [np.float64(0.616), np.float64(0.824)]\n",
      "--- Iteration 70: Training loss --- [Data, Label, Total] = [628.605299.3, 603.965166.3, 3746.991662.3]\n",
      "!!! pred_type filter\n"
     ]
    },
    {
     "name": "stderr",
     "output_type": "stream",
     "text": [
      " 28%|████████████████████████████████▉                                                                                   | 71/250 [00:02<00:06, 27.77it/s]"
     ]
    },
    {
     "name": "stdout",
     "output_type": "stream",
     "text": [
      "--- Validation --- [threshold, AUC, Accuracy, F score] =  [np.float64(0.616), np.float64(0.824), np.float64(0.765), np.float64(0.788)]\n",
      "--- Training --- [threshold, AUC] =  [np.float64(0.613), np.float64(0.824)]\n",
      "--- Iteration 80: Training loss --- [Data, Label, Total] = [615.983860.3, 603.819041.3, 3683.738343.3]\n",
      "!!! pred_type filter\n"
     ]
    },
    {
     "name": "stderr",
     "output_type": "stream",
     "text": [
      " 32%|█████████████████████████████████████▌                                                                              | 81/250 [00:02<00:06, 27.63it/s]"
     ]
    },
    {
     "name": "stdout",
     "output_type": "stream",
     "text": [
      "--- Validation --- [threshold, AUC, Accuracy, F score] =  [np.float64(0.613), np.float64(0.824), np.float64(0.765), np.float64(0.788)]\n",
      "--- Training --- [threshold, AUC] =  [np.float64(0.611), np.float64(0.824)]\n",
      "--- Iteration 90: Training loss --- [Data, Label, Total] = [596.454108.3, 603.787456.3, 3586.057998.3]\n",
      "!!! pred_type filter\n"
     ]
    },
    {
     "name": "stderr",
     "output_type": "stream",
     "text": [
      " 36%|██████████████████████████████████████████▏                                                                         | 91/250 [00:03<00:05, 26.58it/s]"
     ]
    },
    {
     "name": "stdout",
     "output_type": "stream",
     "text": [
      "--- Validation --- [threshold, AUC, Accuracy, F score] =  [np.float64(0.611), np.float64(0.824), np.float64(0.766), np.float64(0.788)]\n",
      "--- Training --- [threshold, AUC] =  [np.float64(0.683), np.float64(0.823)]\n",
      "--- Iteration 100: Training loss --- [Data, Label, Total] = [540.256264.3, 603.581598.3, 3304.862920.3]\n",
      "!!! pred_type filter\n"
     ]
    },
    {
     "name": "stderr",
     "output_type": "stream",
     "text": [
      " 40%|██████████████████████████████████████████████▍                                                                    | 101/250 [00:03<00:05, 27.16it/s]"
     ]
    },
    {
     "name": "stdout",
     "output_type": "stream",
     "text": [
      "--- Validation --- [threshold, AUC, Accuracy, F score] =  [np.float64(0.683), np.float64(0.823), np.float64(0.758), np.float64(0.772)]\n",
      "--- Training --- [threshold, AUC] =  [np.float64(0.631), np.float64(0.823)]\n",
      "--- Iteration 110: Training loss --- [Data, Label, Total] = [461.371804.3, 603.675001.3, 2910.534022.3]\n",
      "!!! pred_type filter\n"
     ]
    },
    {
     "name": "stderr",
     "output_type": "stream",
     "text": [
      " 44%|███████████████████████████████████████████████████                                                                | 111/250 [00:04<00:04, 28.27it/s]"
     ]
    },
    {
     "name": "stdout",
     "output_type": "stream",
     "text": [
      "--- Validation --- [threshold, AUC, Accuracy, F score] =  [np.float64(0.631), np.float64(0.823), np.float64(0.763), np.float64(0.784)]\n",
      "--- Training --- [threshold, AUC] =  [np.float64(0.612), np.float64(0.824)]\n",
      "--- Iteration 120: Training loss --- [Data, Label, Total] = [426.848854.3, 603.736780.3, 2737.981052.3]\n",
      "!!! pred_type filter\n"
     ]
    },
    {
     "name": "stderr",
     "output_type": "stream",
     "text": [
      " 48%|███████████████████████████████████████████████████████▋                                                           | 121/250 [00:04<00:04, 29.10it/s]"
     ]
    },
    {
     "name": "stdout",
     "output_type": "stream",
     "text": [
      "--- Validation --- [threshold, AUC, Accuracy, F score] =  [np.float64(0.612), np.float64(0.824), np.float64(0.766), np.float64(0.79)]\n",
      "--- Training --- [threshold, AUC] =  [np.float64(0.598), np.float64(0.824)]\n",
      "--- Iteration 130: Training loss --- [Data, Label, Total] = [418.239973.3, 603.845122.3, 2695.044985.3]\n",
      "!!! pred_type filter\n"
     ]
    },
    {
     "name": "stderr",
     "output_type": "stream",
     "text": [
      " 52%|████████████████████████████████████████████████████████████▎                                                      | 131/250 [00:04<00:04, 29.58it/s]"
     ]
    },
    {
     "name": "stdout",
     "output_type": "stream",
     "text": [
      "--- Validation --- [threshold, AUC, Accuracy, F score] =  [np.float64(0.598), np.float64(0.824), np.float64(0.768), np.float64(0.794)]\n",
      "--- Training --- [threshold, AUC] =  [np.float64(0.598), np.float64(0.823)]\n",
      "--- Iteration 140: Training loss --- [Data, Label, Total] = [415.879636.3, 603.896269.3, 2683.294448.3]\n",
      "!!! pred_type filter\n"
     ]
    },
    {
     "name": "stderr",
     "output_type": "stream",
     "text": [
      " 56%|████████████████████████████████████████████████████████████████▊                                                  | 141/250 [00:04<00:03, 30.12it/s]"
     ]
    },
    {
     "name": "stdout",
     "output_type": "stream",
     "text": [
      "--- Validation --- [threshold, AUC, Accuracy, F score] =  [np.float64(0.598), np.float64(0.823), np.float64(0.768), np.float64(0.794)]\n",
      "--- Training --- [threshold, AUC] =  [np.float64(0.599), np.float64(0.823)]\n",
      "--- Iteration 150: Training loss --- [Data, Label, Total] = [415.107396.3, 603.903043.3, 2679.440024.3]\n",
      "!!! pred_type filter\n"
     ]
    },
    {
     "name": "stderr",
     "output_type": "stream",
     "text": [
      " 60%|█████████████████████████████████████████████████████████████████████▍                                             | 151/250 [00:05<00:03, 30.44it/s]"
     ]
    },
    {
     "name": "stdout",
     "output_type": "stream",
     "text": [
      "--- Validation --- [threshold, AUC, Accuracy, F score] =  [np.float64(0.599), np.float64(0.823), np.float64(0.768), np.float64(0.794)]\n",
      "--- Training --- [threshold, AUC] =  [np.float64(0.599), np.float64(0.824)]\n",
      "--- Iteration 160: Training loss --- [Data, Label, Total] = [414.822015.3, 603.839949.3, 2677.950024.3]\n",
      "!!! pred_type filter\n"
     ]
    },
    {
     "name": "stderr",
     "output_type": "stream",
     "text": [
      " 64%|██████████████████████████████████████████████████████████████████████████                                         | 161/250 [00:05<00:02, 30.44it/s]"
     ]
    },
    {
     "name": "stdout",
     "output_type": "stream",
     "text": [
      "--- Validation --- [threshold, AUC, Accuracy, F score] =  [np.float64(0.599), np.float64(0.824), np.float64(0.768), np.float64(0.794)]\n",
      "--- Training --- [threshold, AUC] =  [np.float64(0.598), np.float64(0.823)]\n",
      "--- Iteration 170: Training loss --- [Data, Label, Total] = [414.698802.3, 603.892089.3, 2677.386101.3]\n",
      "!!! pred_type filter\n"
     ]
    },
    {
     "name": "stderr",
     "output_type": "stream",
     "text": [
      " 68%|██████████████████████████████████████████████████████████████████████████████▋                                    | 171/250 [00:05<00:02, 30.29it/s]"
     ]
    },
    {
     "name": "stdout",
     "output_type": "stream",
     "text": [
      "--- Validation --- [threshold, AUC, Accuracy, F score] =  [np.float64(0.598), np.float64(0.823), np.float64(0.768), np.float64(0.794)]\n",
      "--- Training --- [threshold, AUC] =  [np.float64(0.598), np.float64(0.823)]\n",
      "--- Iteration 180: Training loss --- [Data, Label, Total] = [414.634534.3, 603.861312.3, 2677.033981.3]\n",
      "!!! pred_type filter\n"
     ]
    },
    {
     "name": "stderr",
     "output_type": "stream",
     "text": [
      " 72%|███████████████████████████████████████████████████████████████████████████████████▎                               | 181/250 [00:06<00:02, 30.81it/s]"
     ]
    },
    {
     "name": "stdout",
     "output_type": "stream",
     "text": [
      "--- Validation --- [threshold, AUC, Accuracy, F score] =  [np.float64(0.598), np.float64(0.823), np.float64(0.768), np.float64(0.794)]\n",
      "--- Training --- [threshold, AUC] =  [np.float64(0.599), np.float64(0.823)]\n",
      "--- Iteration 190: Training loss --- [Data, Label, Total] = [414.598211.3, 603.924002.3, 2676.915055.3]\n",
      "!!! pred_type filter\n"
     ]
    },
    {
     "name": "stderr",
     "output_type": "stream",
     "text": [
      " 76%|███████████████████████████████████████████████████████████████████████████████████████▊                           | 191/250 [00:06<00:01, 31.51it/s]"
     ]
    },
    {
     "name": "stdout",
     "output_type": "stream",
     "text": [
      "--- Validation --- [threshold, AUC, Accuracy, F score] =  [np.float64(0.599), np.float64(0.823), np.float64(0.768), np.float64(0.794)]\n",
      "--- Training --- [threshold, AUC] =  [np.float64(0.598), np.float64(0.823)]\n",
      "--- Iteration 200: Training loss --- [Data, Label, Total] = [414.583162.3, 603.831585.3, 2676.747397.3]\n",
      "!!! pred_type filter\n"
     ]
    },
    {
     "name": "stderr",
     "output_type": "stream",
     "text": [
      " 80%|████████████████████████████████████████████████████████████████████████████████████████████▍                      | 201/250 [00:06<00:01, 31.88it/s]"
     ]
    },
    {
     "name": "stdout",
     "output_type": "stream",
     "text": [
      "--- Validation --- [threshold, AUC, Accuracy, F score] =  [np.float64(0.598), np.float64(0.823), np.float64(0.768), np.float64(0.794)]\n",
      "--- Training --- [threshold, AUC] =  [np.float64(0.599), np.float64(0.823)]\n",
      "--- Iteration 210: Training loss --- [Data, Label, Total] = [414.574611.3, 603.814175.3, 2676.687232.3]\n",
      "!!! pred_type filter\n"
     ]
    },
    {
     "name": "stderr",
     "output_type": "stream",
     "text": [
      " 84%|█████████████████████████████████████████████████████████████████████████████████████████████████                  | 211/250 [00:07<00:01, 32.37it/s]"
     ]
    },
    {
     "name": "stdout",
     "output_type": "stream",
     "text": [
      "--- Validation --- [threshold, AUC, Accuracy, F score] =  [np.float64(0.599), np.float64(0.823), np.float64(0.768), np.float64(0.794)]\n",
      "--- Training --- [threshold, AUC] =  [np.float64(0.61), np.float64(0.823)]\n",
      "--- Iteration 220: Training loss --- [Data, Label, Total] = [414.569256.3, 603.791772.3, 2676.638054.3]\n",
      "!!! pred_type filter\n"
     ]
    },
    {
     "name": "stderr",
     "output_type": "stream",
     "text": [
      " 88%|█████████████████████████████████████████████████████████████████████████████████████████████████████▋             | 221/250 [00:07<00:00, 32.72it/s]"
     ]
    },
    {
     "name": "stdout",
     "output_type": "stream",
     "text": [
      "--- Validation --- [threshold, AUC, Accuracy, F score] =  [np.float64(0.61), np.float64(0.823), np.float64(0.766), np.float64(0.79)]\n",
      "--- Training --- [threshold, AUC] =  [np.float64(0.598), np.float64(0.823)]\n",
      "--- Iteration 230: Training loss --- [Data, Label, Total] = [414.565510.3, 603.770276.3, 2676.597828.3]\n",
      "!!! pred_type filter\n"
     ]
    },
    {
     "name": "stderr",
     "output_type": "stream",
     "text": [
      " 92%|██████████████████████████████████████████████████████████████████████████████████████████████████████████▎        | 231/250 [00:07<00:00, 33.03it/s]"
     ]
    },
    {
     "name": "stdout",
     "output_type": "stream",
     "text": [
      "--- Validation --- [threshold, AUC, Accuracy, F score] =  [np.float64(0.598), np.float64(0.823), np.float64(0.768), np.float64(0.794)]\n",
      "--- Training --- [threshold, AUC] =  [np.float64(0.598), np.float64(0.823)]\n",
      "--- Iteration 240: Training loss --- [Data, Label, Total] = [414.563122.3, 603.735518.3, 2676.551127.3]\n",
      "!!! pred_type filter\n"
     ]
    },
    {
     "name": "stderr",
     "output_type": "stream",
     "text": [
      "100%|███████████████████████████████████████████████████████████████████████████████████████████████████████████████████| 250/250 [00:08<00:00, 30.66it/s]"
     ]
    },
    {
     "name": "stdout",
     "output_type": "stream",
     "text": [
      "--- Validation --- [threshold, AUC, Accuracy, F score] =  [np.float64(0.598), np.float64(0.823), np.float64(0.768), np.float64(0.794)]\n",
      "!!! pred_type filter\n"
     ]
    },
    {
     "name": "stderr",
     "output_type": "stream",
     "text": [
      "\n"
     ]
    },
    {
     "name": "stdout",
     "output_type": "stream",
     "text": [
      "num of subgraphs induced on k-paths: 500\n",
      "num of subgraphs induced on k-paths: 500\n",
      "X_list: (49, 1000)\n",
      "2\n",
      "(1, 500)\n",
      "(1, 500)\n",
      "label_vec: (1, 1000)\n",
      "num of subgraphs induced on k-paths: 500\n",
      "num of subgraphs induced on k-paths: 500\n",
      "X_list: (49, 1000)\n",
      "2\n",
      "(1, 500)\n",
      "(1, 500)\n",
      "label_vec: (1, 1000)\n",
      "8\n",
      "num of subgraphs induced on k-paths: 500\n",
      "num of subgraphs induced on k-paths: 500\n",
      "X_list: (64, 1000)\n",
      "2\n",
      "(1, 500)\n",
      "(1, 500)\n",
      "label_vec: (1, 1000)\n",
      "num of subgraphs induced on k-paths: 500\n",
      "num of subgraphs induced on k-paths: 697\n",
      "X_list: (64, 1197)\n",
      "2\n",
      "(1, 500)\n",
      "(1, 697)\n",
      "label_vec: (1, 1197)\n",
      "initial loading beta [[ 0.00150567  0.62091007 -0.76851396  0.01007006 -0.81147489 -0.74887464\n",
      "  -0.03034714 -0.81456834  0.90134793  0.30039645  0.61306961  0.01493896\n",
      "   0.8919432   0.15262599 -0.41261343 -0.46878006  0.175841  ]]\n"
     ]
    },
    {
     "name": "stderr",
     "output_type": "stream",
     "text": [
      "  0%|                                                                                                                             | 0/250 [00:00<?, ?it/s]"
     ]
    },
    {
     "name": "stdout",
     "output_type": "stream",
     "text": [
      "--- Training --- [threshold, AUC] =  [np.float64(0.631), np.float64(0.813)]\n",
      "--- Iteration 0: Training loss --- [Data, Label, Total] = [7723.873885.3, 640.028399.3, 39259.397825.3]\n",
      "--- Training --- [threshold, AUC] =  [np.float64(0.641), np.float64(0.819)]\n",
      "--- Iteration 10: Training loss --- [Data, Label, Total] = [3245.860702.3, 636.953983.3, 16866.257492.3]\n",
      "!!! pred_type filter\n"
     ]
    },
    {
     "name": "stderr",
     "output_type": "stream",
     "text": [
      "  4%|█████                                                                                                               | 11/250 [00:00<00:08, 26.91it/s]"
     ]
    },
    {
     "name": "stdout",
     "output_type": "stream",
     "text": [
      "--- Validation --- [threshold, AUC, Accuracy, F score] =  [np.float64(0.641), np.float64(0.819), np.float64(0.759), np.float64(0.782)]\n",
      "--- Training --- [threshold, AUC] =  [np.float64(0.644), np.float64(0.83)]\n",
      "--- Iteration 20: Training loss --- [Data, Label, Total] = [2229.219125.3, 627.169769.3, 11773.265396.3]\n",
      "!!! pred_type filter\n"
     ]
    },
    {
     "name": "stderr",
     "output_type": "stream",
     "text": [
      "  8%|█████████▋                                                                                                          | 21/250 [00:00<00:08, 25.84it/s]"
     ]
    },
    {
     "name": "stdout",
     "output_type": "stream",
     "text": [
      "--- Validation --- [threshold, AUC, Accuracy, F score] =  [np.float64(0.644), np.float64(0.83), np.float64(0.771), np.float64(0.793)]\n",
      "--- Training --- [threshold, AUC] =  [np.float64(0.641), np.float64(0.834)]\n",
      "--- Iteration 30: Training loss --- [Data, Label, Total] = [1922.780606.3, 622.804158.3, 10236.707189.3]\n",
      "!!! pred_type filter\n"
     ]
    },
    {
     "name": "stderr",
     "output_type": "stream",
     "text": [
      " 12%|██████████████▍                                                                                                     | 31/250 [00:01<00:08, 25.59it/s]"
     ]
    },
    {
     "name": "stdout",
     "output_type": "stream",
     "text": [
      "--- Validation --- [threshold, AUC, Accuracy, F score] =  [np.float64(0.641), np.float64(0.834), np.float64(0.769), np.float64(0.793)]\n",
      "--- Training --- [threshold, AUC] =  [np.float64(0.605), np.float64(0.835)]\n",
      "--- Iteration 40: Training loss --- [Data, Label, Total] = [1733.075143.3, 621.219682.3, 9286.595397.3]\n",
      "!!! pred_type filter\n"
     ]
    },
    {
     "name": "stderr",
     "output_type": "stream",
     "text": [
      " 16%|███████████████████                                                                                                 | 41/250 [00:01<00:08, 25.35it/s]"
     ]
    },
    {
     "name": "stdout",
     "output_type": "stream",
     "text": [
      "--- Validation --- [threshold, AUC, Accuracy, F score] =  [np.float64(0.605), np.float64(0.835), np.float64(0.778), np.float64(0.809)]\n",
      "--- Training --- [threshold, AUC] =  [np.float64(0.606), np.float64(0.835)]\n",
      "--- Iteration 50: Training loss --- [Data, Label, Total] = [1596.846384.3, 620.538461.3, 8604.770379.3]\n",
      "!!! pred_type filter\n"
     ]
    },
    {
     "name": "stderr",
     "output_type": "stream",
     "text": [
      " 20%|███████████████████████▋                                                                                            | 51/250 [00:02<00:07, 24.95it/s]"
     ]
    },
    {
     "name": "stdout",
     "output_type": "stream",
     "text": [
      "--- Validation --- [threshold, AUC, Accuracy, F score] =  [np.float64(0.606), np.float64(0.835), np.float64(0.78), np.float64(0.811)]\n",
      "--- Training --- [threshold, AUC] =  [np.float64(0.611), np.float64(0.836)]\n",
      "--- Iteration 60: Training loss --- [Data, Label, Total] = [1520.417832.3, 620.272193.3, 8222.361351.3]\n",
      "!!! pred_type filter\n"
     ]
    },
    {
     "name": "stderr",
     "output_type": "stream",
     "text": [
      " 24%|████████████████████████████▎                                                                                       | 61/250 [00:02<00:07, 23.87it/s]"
     ]
    },
    {
     "name": "stdout",
     "output_type": "stream",
     "text": [
      "--- Validation --- [threshold, AUC, Accuracy, F score] =  [np.float64(0.611), np.float64(0.836), np.float64(0.782), np.float64(0.812)]\n",
      "--- Training --- [threshold, AUC] =  [np.float64(0.61), np.float64(0.836)]\n",
      "--- Iteration 70: Training loss --- [Data, Label, Total] = [1487.695060.3, 620.009451.3, 8058.484751.3]\n",
      "!!! pred_type filter\n"
     ]
    },
    {
     "name": "stderr",
     "output_type": "stream",
     "text": [
      " 28%|████████████████████████████████▉                                                                                   | 71/250 [00:02<00:07, 23.09it/s]"
     ]
    },
    {
     "name": "stdout",
     "output_type": "stream",
     "text": [
      "--- Validation --- [threshold, AUC, Accuracy, F score] =  [np.float64(0.61), np.float64(0.836), np.float64(0.783), np.float64(0.812)]\n",
      "--- Training --- [threshold, AUC] =  [np.float64(0.606), np.float64(0.836)]\n",
      "--- Iteration 80: Training loss --- [Data, Label, Total] = [1473.933640.3, 619.831312.3, 7989.499512.3]\n",
      "!!! pred_type filter\n"
     ]
    },
    {
     "name": "stderr",
     "output_type": "stream",
     "text": [
      " 32%|█████████████████████████████████████▌                                                                              | 81/250 [00:03<00:08, 20.92it/s]"
     ]
    },
    {
     "name": "stdout",
     "output_type": "stream",
     "text": [
      "--- Validation --- [threshold, AUC, Accuracy, F score] =  [np.float64(0.606), np.float64(0.836), np.float64(0.784), np.float64(0.814)]\n",
      "--- Training --- [threshold, AUC] =  [np.float64(0.606), np.float64(0.836)]\n",
      "--- Iteration 90: Training loss --- [Data, Label, Total] = [1467.329798.3, 619.572316.3, 7956.221306.3]\n",
      "!!! pred_type filter\n"
     ]
    },
    {
     "name": "stderr",
     "output_type": "stream",
     "text": [
      " 36%|██████████████████████████████████████████▏                                                                         | 91/250 [00:03<00:07, 21.56it/s]"
     ]
    },
    {
     "name": "stdout",
     "output_type": "stream",
     "text": [
      "--- Validation --- [threshold, AUC, Accuracy, F score] =  [np.float64(0.606), np.float64(0.836), np.float64(0.784), np.float64(0.815)]\n",
      "--- Training --- [threshold, AUC] =  [np.float64(0.608), np.float64(0.836)]\n",
      "--- Iteration 100: Training loss --- [Data, Label, Total] = [1463.253818.3, 619.505681.3, 7935.774771.3]\n",
      "!!! pred_type filter\n"
     ]
    },
    {
     "name": "stderr",
     "output_type": "stream",
     "text": [
      " 40%|██████████████████████████████████████████████▍                                                                    | 101/250 [00:04<00:06, 21.89it/s]"
     ]
    },
    {
     "name": "stdout",
     "output_type": "stream",
     "text": [
      "--- Validation --- [threshold, AUC, Accuracy, F score] =  [np.float64(0.608), np.float64(0.836), np.float64(0.784), np.float64(0.814)]\n",
      "--- Training --- [threshold, AUC] =  [np.float64(0.609), np.float64(0.837)]\n",
      "--- Iteration 110: Training loss --- [Data, Label, Total] = [1459.875178.3, 619.307576.3, 7918.683466.3]\n",
      "!!! pred_type filter\n"
     ]
    },
    {
     "name": "stderr",
     "output_type": "stream",
     "text": [
      " 44%|███████████████████████████████████████████████████                                                                | 111/250 [00:04<00:06, 21.69it/s]"
     ]
    },
    {
     "name": "stdout",
     "output_type": "stream",
     "text": [
      "--- Validation --- [threshold, AUC, Accuracy, F score] =  [np.float64(0.609), np.float64(0.837), np.float64(0.784), np.float64(0.814)]\n",
      "--- Training --- [threshold, AUC] =  [np.float64(0.611), np.float64(0.837)]\n",
      "--- Iteration 120: Training loss --- [Data, Label, Total] = [1456.012924.3, 619.145453.3, 7899.210075.3]\n",
      "!!! pred_type filter\n"
     ]
    },
    {
     "name": "stderr",
     "output_type": "stream",
     "text": [
      " 48%|███████████████████████████████████████████████████████▋                                                           | 121/250 [00:05<00:05, 22.69it/s]"
     ]
    },
    {
     "name": "stdout",
     "output_type": "stream",
     "text": [
      "--- Validation --- [threshold, AUC, Accuracy, F score] =  [np.float64(0.611), np.float64(0.837), np.float64(0.783), np.float64(0.812)]\n",
      "--- Training --- [threshold, AUC] =  [np.float64(0.612), np.float64(0.837)]\n",
      "--- Iteration 130: Training loss --- [Data, Label, Total] = [1450.356369.3, 618.901343.3, 7870.683188.3]\n",
      "!!! pred_type filter\n"
     ]
    },
    {
     "name": "stderr",
     "output_type": "stream",
     "text": [
      " 52%|████████████████████████████████████████████████████████████▎                                                      | 131/250 [00:05<00:04, 24.04it/s]"
     ]
    },
    {
     "name": "stdout",
     "output_type": "stream",
     "text": [
      "--- Validation --- [threshold, AUC, Accuracy, F score] =  [np.float64(0.612), np.float64(0.837), np.float64(0.784), np.float64(0.813)]\n",
      "--- Training --- [threshold, AUC] =  [np.float64(0.611), np.float64(0.837)]\n",
      "--- Iteration 140: Training loss --- [Data, Label, Total] = [1440.571555.3, 618.664692.3, 7821.522466.3]\n",
      "!!! pred_type filter\n"
     ]
    },
    {
     "name": "stderr",
     "output_type": "stream",
     "text": [
      " 56%|████████████████████████████████████████████████████████████████▊                                                  | 141/250 [00:05<00:04, 24.81it/s]"
     ]
    },
    {
     "name": "stdout",
     "output_type": "stream",
     "text": [
      "--- Validation --- [threshold, AUC, Accuracy, F score] =  [np.float64(0.611), np.float64(0.837), np.float64(0.783), np.float64(0.813)]\n",
      "--- Training --- [threshold, AUC] =  [np.float64(0.634), np.float64(0.838)]\n",
      "--- Iteration 150: Training loss --- [Data, Label, Total] = [1420.746914.3, 618.390906.3, 7722.125475.3]\n",
      "!!! pred_type filter\n"
     ]
    },
    {
     "name": "stderr",
     "output_type": "stream",
     "text": [
      " 60%|█████████████████████████████████████████████████████████████████████▍                                             | 151/250 [00:06<00:03, 26.07it/s]"
     ]
    },
    {
     "name": "stdout",
     "output_type": "stream",
     "text": [
      "--- Validation --- [threshold, AUC, Accuracy, F score] =  [np.float64(0.634), np.float64(0.838), np.float64(0.776), np.float64(0.801)]\n",
      "--- Training --- [threshold, AUC] =  [np.float64(0.627), np.float64(0.838)]\n",
      "--- Iteration 160: Training loss --- [Data, Label, Total] = [1381.265313.3, 618.197201.3, 7524.523764.3]\n",
      "!!! pred_type filter\n"
     ]
    },
    {
     "name": "stderr",
     "output_type": "stream",
     "text": [
      " 64%|██████████████████████████████████████████████████████████████████████████                                         | 161/250 [00:06<00:03, 27.86it/s]"
     ]
    },
    {
     "name": "stdout",
     "output_type": "stream",
     "text": [
      "--- Validation --- [threshold, AUC, Accuracy, F score] =  [np.float64(0.627), np.float64(0.838), np.float64(0.78), np.float64(0.807)]\n",
      "--- Training --- [threshold, AUC] =  [np.float64(0.634), np.float64(0.838)]\n",
      "--- Iteration 170: Training loss --- [Data, Label, Total] = [1326.970277.3, 618.093514.3, 7252.944900.3]\n",
      "!!! pred_type filter\n"
     ]
    },
    {
     "name": "stderr",
     "output_type": "stream",
     "text": [
      " 68%|██████████████████████████████████████████████████████████████████████████████▋                                    | 171/250 [00:06<00:02, 29.10it/s]"
     ]
    },
    {
     "name": "stdout",
     "output_type": "stream",
     "text": [
      "--- Validation --- [threshold, AUC, Accuracy, F score] =  [np.float64(0.634), np.float64(0.838), np.float64(0.782), np.float64(0.807)]\n",
      "--- Training --- [threshold, AUC] =  [np.float64(0.634), np.float64(0.838)]\n",
      "--- Iteration 180: Training loss --- [Data, Label, Total] = [1283.308868.3, 617.945398.3, 7034.489736.3]\n",
      "!!! pred_type filter\n"
     ]
    },
    {
     "name": "stderr",
     "output_type": "stream",
     "text": [
      " 72%|███████████████████████████████████████████████████████████████████████████████████▎                               | 181/250 [00:07<00:02, 29.81it/s]"
     ]
    },
    {
     "name": "stdout",
     "output_type": "stream",
     "text": [
      "--- Validation --- [threshold, AUC, Accuracy, F score] =  [np.float64(0.634), np.float64(0.838), np.float64(0.782), np.float64(0.807)]\n",
      "--- Training --- [threshold, AUC] =  [np.float64(0.63), np.float64(0.838)]\n",
      "--- Iteration 190: Training loss --- [Data, Label, Total] = [1256.716769.3, 617.983893.3, 6901.567738.3]\n",
      "!!! pred_type filter\n"
     ]
    },
    {
     "name": "stderr",
     "output_type": "stream",
     "text": [
      " 76%|███████████████████████████████████████████████████████████████████████████████████████▊                           | 191/250 [00:07<00:01, 30.65it/s]"
     ]
    },
    {
     "name": "stdout",
     "output_type": "stream",
     "text": [
      "--- Validation --- [threshold, AUC, Accuracy, F score] =  [np.float64(0.63), np.float64(0.838), np.float64(0.781), np.float64(0.807)]\n",
      "--- Training --- [threshold, AUC] =  [np.float64(0.632), np.float64(0.838)]\n",
      "--- Iteration 200: Training loss --- [Data, Label, Total] = [1236.759045.3, 618.402658.3, 6802.197881.3]\n",
      "!!! pred_type filter\n"
     ]
    },
    {
     "name": "stderr",
     "output_type": "stream",
     "text": [
      " 80%|████████████████████████████████████████████████████████████████████████████████████████████▍                      | 201/250 [00:07<00:01, 28.88it/s]"
     ]
    },
    {
     "name": "stdout",
     "output_type": "stream",
     "text": [
      "--- Validation --- [threshold, AUC, Accuracy, F score] =  [np.float64(0.632), np.float64(0.838), np.float64(0.779), np.float64(0.805)]\n",
      "--- Training --- [threshold, AUC] =  [np.float64(0.632), np.float64(0.838)]\n",
      "--- Iteration 210: Training loss --- [Data, Label, Total] = [1220.124766.3, 618.890185.3, 6719.514013.3]\n",
      "!!! pred_type filter\n"
     ]
    },
    {
     "name": "stderr",
     "output_type": "stream",
     "text": [
      " 84%|█████████████████████████████████████████████████████████████████████████████████████████████████                  | 211/250 [00:08<00:01, 29.81it/s]"
     ]
    },
    {
     "name": "stdout",
     "output_type": "stream",
     "text": [
      "--- Validation --- [threshold, AUC, Accuracy, F score] =  [np.float64(0.632), np.float64(0.838), np.float64(0.778), np.float64(0.804)]\n",
      "--- Training --- [threshold, AUC] =  [np.float64(0.629), np.float64(0.838)]\n",
      "--- Iteration 220: Training loss --- [Data, Label, Total] = [1205.567656.3, 619.498230.3, 6647.336509.3]\n",
      "!!! pred_type filter\n"
     ]
    },
    {
     "name": "stderr",
     "output_type": "stream",
     "text": [
      " 88%|█████████████████████████████████████████████████████████████████████████████████████████████████████▋             | 221/250 [00:08<00:00, 30.88it/s]"
     ]
    },
    {
     "name": "stdout",
     "output_type": "stream",
     "text": [
      "--- Validation --- [threshold, AUC, Accuracy, F score] =  [np.float64(0.629), np.float64(0.838), np.float64(0.78), np.float64(0.807)]\n",
      "--- Training --- [threshold, AUC] =  [np.float64(0.629), np.float64(0.836)]\n",
      "--- Iteration 230: Training loss --- [Data, Label, Total] = [1191.799210.3, 620.258205.3, 6579.254257.3]\n",
      "!!! pred_type filter\n"
     ]
    },
    {
     "name": "stderr",
     "output_type": "stream",
     "text": [
      " 92%|██████████████████████████████████████████████████████████████████████████████████████████████████████████▎        | 231/250 [00:08<00:00, 31.58it/s]"
     ]
    },
    {
     "name": "stdout",
     "output_type": "stream",
     "text": [
      "--- Validation --- [threshold, AUC, Accuracy, F score] =  [np.float64(0.629), np.float64(0.836), np.float64(0.775), np.float64(0.802)]\n",
      "--- Training --- [threshold, AUC] =  [np.float64(0.627), np.float64(0.836)]\n",
      "--- Iteration 240: Training loss --- [Data, Label, Total] = [1177.325010.3, 620.981149.3, 6507.606197.3]\n",
      "!!! pred_type filter\n"
     ]
    },
    {
     "name": "stderr",
     "output_type": "stream",
     "text": [
      "100%|███████████████████████████████████████████████████████████████████████████████████████████████████████████████████| 250/250 [00:09<00:00, 27.24it/s]"
     ]
    },
    {
     "name": "stdout",
     "output_type": "stream",
     "text": [
      "--- Validation --- [threshold, AUC, Accuracy, F score] =  [np.float64(0.627), np.float64(0.836), np.float64(0.774), np.float64(0.802)]\n",
      "!!! pred_type filter\n"
     ]
    },
    {
     "name": "stderr",
     "output_type": "stream",
     "text": [
      "\n"
     ]
    },
    {
     "name": "stdout",
     "output_type": "stream",
     "text": [
      "num of subgraphs induced on k-paths: 500\n",
      "num of subgraphs induced on k-paths: 500\n",
      "X_list: (64, 1000)\n",
      "2\n",
      "(1, 500)\n",
      "(1, 500)\n",
      "label_vec: (1, 1000)\n",
      "num of subgraphs induced on k-paths: 500\n",
      "num of subgraphs induced on k-paths: 500\n",
      "X_list: (64, 1000)\n",
      "2\n",
      "(1, 500)\n",
      "(1, 500)\n",
      "label_vec: (1, 1000)\n",
      "9\n",
      "num of subgraphs induced on k-paths: 500\n",
      "num of subgraphs induced on k-paths: 500\n",
      "X_list: (81, 1000)\n",
      "2\n",
      "(1, 500)\n",
      "(1, 500)\n",
      "label_vec: (1, 1000)\n",
      "num of subgraphs induced on k-paths: 500\n",
      "num of subgraphs induced on k-paths: 699\n",
      "X_list: (81, 1199)\n",
      "2\n",
      "(1, 500)\n",
      "(1, 699)\n",
      "label_vec: (1, 1199)\n",
      "initial loading beta [[-0.1614343  -0.42367977  0.41583139 -0.5367004   0.78744899 -0.30324768\n",
      "   0.32703472  0.98228415 -0.79799802  0.25738396 -0.03811872 -0.32127386\n",
      "  -0.530804    0.54441019 -0.54013857  0.4525292  -0.66771813]]\n"
     ]
    },
    {
     "name": "stderr",
     "output_type": "stream",
     "text": [
      "  0%|                                                                                                                             | 0/250 [00:00<?, ?it/s]"
     ]
    },
    {
     "name": "stdout",
     "output_type": "stream",
     "text": [
      "--- Training --- [threshold, AUC] =  [np.float64(0.66), np.float64(0.848)]\n",
      "--- Iteration 0: Training loss --- [Data, Label, Total] = [10018.510989.3, 590.617539.3, 50683.172482.3]\n",
      "--- Training --- [threshold, AUC] =  [np.float64(0.634), np.float64(0.854)]\n",
      "--- Iteration 10: Training loss --- [Data, Label, Total] = [4475.564800.3, 580.460978.3, 22958.284980.3]\n",
      "!!! pred_type filter\n"
     ]
    },
    {
     "name": "stderr",
     "output_type": "stream",
     "text": [
      "  4%|█████                                                                                                               | 11/250 [00:00<00:11, 20.46it/s]"
     ]
    },
    {
     "name": "stdout",
     "output_type": "stream",
     "text": [
      "--- Validation --- [threshold, AUC, Accuracy, F score] =  [np.float64(0.634), np.float64(0.854), np.float64(0.793), np.float64(0.816)]\n",
      "--- Training --- [threshold, AUC] =  [np.float64(0.625), np.float64(0.854)]\n",
      "--- Iteration 20: Training loss --- [Data, Label, Total] = [3244.017008.3, 580.699469.3, 16800.784510.3]\n",
      "!!! pred_type filter\n"
     ]
    },
    {
     "name": "stderr",
     "output_type": "stream",
     "text": [
      "  8%|█████████▋                                                                                                          | 21/250 [00:00<00:10, 22.69it/s]"
     ]
    },
    {
     "name": "stdout",
     "output_type": "stream",
     "text": [
      "--- Validation --- [threshold, AUC, Accuracy, F score] =  [np.float64(0.625), np.float64(0.854), np.float64(0.795), np.float64(0.819)]\n",
      "--- Training --- [threshold, AUC] =  [np.float64(0.616), np.float64(0.854)]\n",
      "--- Iteration 30: Training loss --- [Data, Label, Total] = [2785.162150.3, 580.416499.3, 14506.227250.3]\n",
      "!!! pred_type filter\n"
     ]
    },
    {
     "name": "stderr",
     "output_type": "stream",
     "text": [
      " 12%|██████████████▍                                                                                                     | 31/250 [00:01<00:09, 23.99it/s]"
     ]
    },
    {
     "name": "stdout",
     "output_type": "stream",
     "text": [
      "--- Validation --- [threshold, AUC, Accuracy, F score] =  [np.float64(0.616), np.float64(0.854), np.float64(0.795), np.float64(0.821)]\n",
      "--- Training --- [threshold, AUC] =  [np.float64(0.616), np.float64(0.855)]\n",
      "--- Iteration 40: Training loss --- [Data, Label, Total] = [2529.239348.3, 580.276091.3, 13226.472831.3]\n",
      "!!! pred_type filter\n"
     ]
    },
    {
     "name": "stderr",
     "output_type": "stream",
     "text": [
      " 16%|███████████████████                                                                                                 | 41/250 [00:01<00:08, 24.65it/s]"
     ]
    },
    {
     "name": "stdout",
     "output_type": "stream",
     "text": [
      "--- Validation --- [threshold, AUC, Accuracy, F score] =  [np.float64(0.616), np.float64(0.855), np.float64(0.796), np.float64(0.822)]\n",
      "--- Training --- [threshold, AUC] =  [np.float64(0.654), np.float64(0.855)]\n",
      "--- Iteration 50: Training loss --- [Data, Label, Total] = [2395.378116.3, 580.120606.3, 12557.011185.3]\n",
      "!!! pred_type filter\n"
     ]
    },
    {
     "name": "stderr",
     "output_type": "stream",
     "text": [
      " 20%|███████████████████████▋                                                                                            | 51/250 [00:02<00:07, 25.50it/s]"
     ]
    },
    {
     "name": "stdout",
     "output_type": "stream",
     "text": [
      "--- Validation --- [threshold, AUC, Accuracy, F score] =  [np.float64(0.654), np.float64(0.855), np.float64(0.79), np.float64(0.81)]\n",
      "--- Training --- [threshold, AUC] =  [np.float64(0.655), np.float64(0.855)]\n",
      "--- Iteration 60: Training loss --- [Data, Label, Total] = [2335.354517.3, 579.927867.3, 12256.700450.3]\n",
      "!!! pred_type filter\n"
     ]
    },
    {
     "name": "stderr",
     "output_type": "stream",
     "text": [
      " 24%|████████████████████████████▎                                                                                       | 61/250 [00:02<00:07, 26.45it/s]"
     ]
    },
    {
     "name": "stdout",
     "output_type": "stream",
     "text": [
      "--- Validation --- [threshold, AUC, Accuracy, F score] =  [np.float64(0.655), np.float64(0.855), np.float64(0.791), np.float64(0.81)]\n",
      "--- Training --- [threshold, AUC] =  [np.float64(0.616), np.float64(0.855)]\n",
      "--- Iteration 70: Training loss --- [Data, Label, Total] = [2305.916157.3, 579.792981.3, 12109.373763.3]\n",
      "!!! pred_type filter\n"
     ]
    },
    {
     "name": "stderr",
     "output_type": "stream",
     "text": [
      " 28%|████████████████████████████████▉                                                                                   | 71/250 [00:02<00:06, 27.25it/s]"
     ]
    },
    {
     "name": "stdout",
     "output_type": "stream",
     "text": [
      "--- Validation --- [threshold, AUC, Accuracy, F score] =  [np.float64(0.616), np.float64(0.855), np.float64(0.797), np.float64(0.823)]\n",
      "--- Training --- [threshold, AUC] =  [np.float64(0.642), np.float64(0.856)]\n",
      "--- Iteration 80: Training loss --- [Data, Label, Total] = [2287.840191.3, 579.654375.3, 12018.855329.3]\n",
      "!!! pred_type filter\n"
     ]
    },
    {
     "name": "stderr",
     "output_type": "stream",
     "text": [
      " 32%|█████████████████████████████████████▌                                                                              | 81/250 [00:03<00:06, 27.74it/s]"
     ]
    },
    {
     "name": "stdout",
     "output_type": "stream",
     "text": [
      "--- Validation --- [threshold, AUC, Accuracy, F score] =  [np.float64(0.642), np.float64(0.856), np.float64(0.792), np.float64(0.815)]\n",
      "--- Training --- [threshold, AUC] =  [np.float64(0.643), np.float64(0.856)]\n",
      "--- Iteration 90: Training loss --- [Data, Label, Total] = [2274.912534.3, 579.530396.3, 11954.093066.3]\n",
      "!!! pred_type filter\n"
     ]
    },
    {
     "name": "stderr",
     "output_type": "stream",
     "text": [
      " 36%|██████████████████████████████████████████▏                                                                         | 91/250 [00:03<00:05, 28.31it/s]"
     ]
    },
    {
     "name": "stdout",
     "output_type": "stream",
     "text": [
      "--- Validation --- [threshold, AUC, Accuracy, F score] =  [np.float64(0.643), np.float64(0.856), np.float64(0.792), np.float64(0.814)]\n",
      "--- Training --- [threshold, AUC] =  [np.float64(0.643), np.float64(0.856)]\n",
      "--- Iteration 100: Training loss --- [Data, Label, Total] = [2264.751216.3, 579.398969.3, 11903.155051.3]\n",
      "!!! pred_type filter\n"
     ]
    },
    {
     "name": "stderr",
     "output_type": "stream",
     "text": [
      " 40%|██████████████████████████████████████████████▍                                                                    | 101/250 [00:03<00:05, 28.72it/s]"
     ]
    },
    {
     "name": "stdout",
     "output_type": "stream",
     "text": [
      "--- Validation --- [threshold, AUC, Accuracy, F score] =  [np.float64(0.643), np.float64(0.856), np.float64(0.792), np.float64(0.814)]\n",
      "--- Training --- [threshold, AUC] =  [np.float64(0.643), np.float64(0.856)]\n",
      "--- Iteration 110: Training loss --- [Data, Label, Total] = [2256.186939.3, 579.309505.3, 11860.244200.3]\n",
      "!!! pred_type filter\n"
     ]
    },
    {
     "name": "stderr",
     "output_type": "stream",
     "text": [
      " 44%|███████████████████████████████████████████████████                                                                | 111/250 [00:04<00:04, 29.05it/s]"
     ]
    },
    {
     "name": "stdout",
     "output_type": "stream",
     "text": [
      "--- Validation --- [threshold, AUC, Accuracy, F score] =  [np.float64(0.643), np.float64(0.856), np.float64(0.792), np.float64(0.814)]\n",
      "--- Training --- [threshold, AUC] =  [np.float64(0.636), np.float64(0.856)]\n",
      "--- Iteration 120: Training loss --- [Data, Label, Total] = [2248.174779.3, 579.208302.3, 11820.082196.3]\n",
      "!!! pred_type filter\n"
     ]
    },
    {
     "name": "stderr",
     "output_type": "stream",
     "text": [
      " 48%|███████████████████████████████████████████████████████▋                                                           | 121/250 [00:04<00:04, 29.35it/s]"
     ]
    },
    {
     "name": "stdout",
     "output_type": "stream",
     "text": [
      "--- Validation --- [threshold, AUC, Accuracy, F score] =  [np.float64(0.636), np.float64(0.856), np.float64(0.794), np.float64(0.817)]\n",
      "--- Training --- [threshold, AUC] =  [np.float64(0.638), np.float64(0.856)]\n",
      "--- Iteration 130: Training loss --- [Data, Label, Total] = [2239.541742.3, 579.175447.3, 11776.884156.3]\n",
      "!!! pred_type filter\n"
     ]
    },
    {
     "name": "stderr",
     "output_type": "stream",
     "text": [
      " 52%|████████████████████████████████████████████████████████████▎                                                      | 131/250 [00:04<00:04, 29.14it/s]"
     ]
    },
    {
     "name": "stdout",
     "output_type": "stream",
     "text": [
      "--- Validation --- [threshold, AUC, Accuracy, F score] =  [np.float64(0.638), np.float64(0.856), np.float64(0.794), np.float64(0.817)]\n",
      "--- Training --- [threshold, AUC] =  [np.float64(0.642), np.float64(0.856)]\n",
      "--- Iteration 140: Training loss --- [Data, Label, Total] = [2228.743705.3, 579.013750.3, 11722.732275.3]\n",
      "!!! pred_type filter\n"
     ]
    },
    {
     "name": "stderr",
     "output_type": "stream",
     "text": [
      " 56%|████████████████████████████████████████████████████████████████▊                                                  | 141/250 [00:05<00:03, 27.92it/s]"
     ]
    },
    {
     "name": "stdout",
     "output_type": "stream",
     "text": [
      "--- Validation --- [threshold, AUC, Accuracy, F score] =  [np.float64(0.642), np.float64(0.856), np.float64(0.794), np.float64(0.816)]\n",
      "--- Training --- [threshold, AUC] =  [np.float64(0.643), np.float64(0.856)]\n",
      "--- Iteration 150: Training loss --- [Data, Label, Total] = [2213.532802.3, 578.919083.3, 11646.583092.3]\n",
      "!!! pred_type filter\n"
     ]
    },
    {
     "name": "stderr",
     "output_type": "stream",
     "text": [
      " 60%|█████████████████████████████████████████████████████████████████████▍                                             | 151/250 [00:05<00:03, 28.09it/s]"
     ]
    },
    {
     "name": "stdout",
     "output_type": "stream",
     "text": [
      "--- Validation --- [threshold, AUC, Accuracy, F score] =  [np.float64(0.643), np.float64(0.856), np.float64(0.794), np.float64(0.816)]\n",
      "--- Training --- [threshold, AUC] =  [np.float64(0.639), np.float64(0.856)]\n",
      "--- Iteration 160: Training loss --- [Data, Label, Total] = [2190.457114.3, 578.966506.3, 11531.252076.3]\n",
      "!!! pred_type filter\n"
     ]
    },
    {
     "name": "stderr",
     "output_type": "stream",
     "text": [
      " 64%|██████████████████████████████████████████████████████████████████████████                                         | 161/250 [00:05<00:03, 28.79it/s]"
     ]
    },
    {
     "name": "stdout",
     "output_type": "stream",
     "text": [
      "--- Validation --- [threshold, AUC, Accuracy, F score] =  [np.float64(0.639), np.float64(0.856), np.float64(0.795), np.float64(0.817)]\n",
      "--- Training --- [threshold, AUC] =  [np.float64(0.641), np.float64(0.856)]\n",
      "--- Iteration 170: Training loss --- [Data, Label, Total] = [2154.737612.3, 578.929579.3, 11352.617638.3]\n",
      "!!! pred_type filter\n"
     ]
    },
    {
     "name": "stderr",
     "output_type": "stream",
     "text": [
      " 68%|██████████████████████████████████████████████████████████████████████████████▋                                    | 171/250 [00:06<00:02, 29.63it/s]"
     ]
    },
    {
     "name": "stdout",
     "output_type": "stream",
     "text": [
      "--- Validation --- [threshold, AUC, Accuracy, F score] =  [np.float64(0.641), np.float64(0.856), np.float64(0.795), np.float64(0.817)]\n",
      "--- Training --- [threshold, AUC] =  [np.float64(0.65), np.float64(0.856)]\n",
      "--- Iteration 180: Training loss --- [Data, Label, Total] = [2102.201134.3, 578.827784.3, 11089.833455.3]\n",
      "!!! pred_type filter\n"
     ]
    },
    {
     "name": "stderr",
     "output_type": "stream",
     "text": [
      " 72%|███████████████████████████████████████████████████████████████████████████████████▎                               | 181/250 [00:06<00:02, 30.66it/s]"
     ]
    },
    {
     "name": "stdout",
     "output_type": "stream",
     "text": [
      "--- Validation --- [threshold, AUC, Accuracy, F score] =  [np.float64(0.65), np.float64(0.856), np.float64(0.794), np.float64(0.815)]\n",
      "--- Training --- [threshold, AUC] =  [np.float64(0.654), np.float64(0.856)]\n",
      "--- Iteration 190: Training loss --- [Data, Label, Total] = [2034.366178.3, 578.877526.3, 10750.708416.3]\n",
      "!!! pred_type filter\n"
     ]
    },
    {
     "name": "stderr",
     "output_type": "stream",
     "text": [
      " 76%|███████████████████████████████████████████████████████████████████████████████████████▊                           | 191/250 [00:06<00:01, 31.82it/s]"
     ]
    },
    {
     "name": "stdout",
     "output_type": "stream",
     "text": [
      "--- Validation --- [threshold, AUC, Accuracy, F score] =  [np.float64(0.654), np.float64(0.856), np.float64(0.793), np.float64(0.814)]\n",
      "--- Training --- [threshold, AUC] =  [np.float64(0.654), np.float64(0.856)]\n",
      "--- Iteration 200: Training loss --- [Data, Label, Total] = [1966.062313.3, 578.901111.3, 10409.212674.3]\n",
      "!!! pred_type filter\n"
     ]
    },
    {
     "name": "stderr",
     "output_type": "stream",
     "text": [
      " 80%|████████████████████████████████████████████████████████████████████████████████████████████▍                      | 201/250 [00:07<00:01, 32.84it/s]"
     ]
    },
    {
     "name": "stdout",
     "output_type": "stream",
     "text": [
      "--- Validation --- [threshold, AUC, Accuracy, F score] =  [np.float64(0.654), np.float64(0.856), np.float64(0.795), np.float64(0.816)]\n",
      "--- Training --- [threshold, AUC] =  [np.float64(0.656), np.float64(0.856)]\n",
      "--- Iteration 210: Training loss --- [Data, Label, Total] = [1909.992575.3, 578.914247.3, 10128.877123.3]\n",
      "!!! pred_type filter\n"
     ]
    },
    {
     "name": "stderr",
     "output_type": "stream",
     "text": [
      " 84%|█████████████████████████████████████████████████████████████████████████████████████████████████                  | 211/250 [00:07<00:01, 33.77it/s]"
     ]
    },
    {
     "name": "stdout",
     "output_type": "stream",
     "text": [
      "--- Validation --- [threshold, AUC, Accuracy, F score] =  [np.float64(0.656), np.float64(0.856), np.float64(0.795), np.float64(0.815)]\n",
      "--- Training --- [threshold, AUC] =  [np.float64(0.655), np.float64(0.857)]\n",
      "--- Iteration 220: Training loss --- [Data, Label, Total] = [1870.003837.3, 578.943260.3, 9928.962447.3]\n",
      "!!! pred_type filter\n"
     ]
    },
    {
     "name": "stderr",
     "output_type": "stream",
     "text": [
      " 91%|████████████████████████████████████████████████████████████████████████████████████████████████████████▍          | 227/250 [00:07<00:00, 37.37it/s]"
     ]
    },
    {
     "name": "stdout",
     "output_type": "stream",
     "text": [
      "--- Validation --- [threshold, AUC, Accuracy, F score] =  [np.float64(0.655), np.float64(0.857), np.float64(0.795), np.float64(0.816)]\n",
      "--- Training --- [threshold, AUC] =  [np.float64(0.657), np.float64(0.857)]\n",
      "--- Iteration 230: Training loss --- [Data, Label, Total] = [1844.176469.3, 578.921799.3, 9799.804146.3]\n",
      "!!! pred_type filter\n"
     ]
    },
    {
     "name": "stderr",
     "output_type": "stream",
     "text": [
      " 93%|██████████████████████████████████████████████████████████████████████████████████████████████████████████▋        | 232/250 [00:08<00:00, 29.13it/s]"
     ]
    },
    {
     "name": "stdout",
     "output_type": "stream",
     "text": [
      "--- Validation --- [threshold, AUC, Accuracy, F score] =  [np.float64(0.657), np.float64(0.857), np.float64(0.794), np.float64(0.815)]\n",
      "--- Training --- [threshold, AUC] =  [np.float64(0.656), np.float64(0.857)]\n",
      "--- Iteration 240: Training loss --- [Data, Label, Total] = [1827.907279.3, 578.961366.3, 9718.497763.3]\n",
      "!!! pred_type filter\n"
     ]
    },
    {
     "name": "stderr",
     "output_type": "stream",
     "text": [
      "100%|███████████████████████████████████████████████████████████████████████████████████████████████████████████████████| 250/250 [00:08<00:00, 29.79it/s]"
     ]
    },
    {
     "name": "stdout",
     "output_type": "stream",
     "text": [
      "--- Validation --- [threshold, AUC, Accuracy, F score] =  [np.float64(0.656), np.float64(0.857), np.float64(0.796), np.float64(0.816)]\n",
      "!!! pred_type filter\n"
     ]
    },
    {
     "name": "stderr",
     "output_type": "stream",
     "text": [
      "\n"
     ]
    },
    {
     "name": "stdout",
     "output_type": "stream",
     "text": [
      "num of subgraphs induced on k-paths: 500\n",
      "num of subgraphs induced on k-paths: 500\n",
      "X_list: (81, 1000)\n",
      "2\n",
      "(1, 500)\n",
      "(1, 500)\n",
      "label_vec: (1, 1000)\n",
      "num of subgraphs induced on k-paths: 500\n",
      "num of subgraphs induced on k-paths: 500\n",
      "X_list: (81, 1000)\n",
      "2\n",
      "(1, 500)\n",
      "(1, 500)\n",
      "label_vec: (1, 1000)\n"
     ]
    }
   ],
   "source": [
    "for i in range(5,10):\n",
    "    print(i)\n",
    "    accu.append(roc.run(i))"
   ]
  },
  {
   "cell_type": "code",
   "execution_count": 4,
   "id": "dd488593-1c7b-4d46-a4f7-f53b0c32f880",
   "metadata": {},
   "outputs": [
    {
     "name": "stdout",
     "output_type": "stream",
     "text": [
      "10\n",
      "num of subgraphs induced on k-paths: 500\n",
      "num of subgraphs induced on k-paths: 500\n",
      "X_list: (100, 1000)\n",
      "2\n",
      "(1, 500)\n",
      "(1, 500)\n",
      "label_vec: (1, 1000)\n",
      "num of subgraphs induced on k-paths: 500\n",
      "num of subgraphs induced on k-paths: 750\n",
      "X_list: (100, 1250)\n",
      "2\n",
      "(1, 500)\n",
      "(1, 750)\n",
      "label_vec: (1, 1250)\n",
      "initial loading beta [[ 0.88358903 -0.97800723 -0.45145669 -0.23205381 -0.51270727  0.86015822\n",
      "   0.76700617 -0.90391652 -0.97632708 -0.52567989 -0.06249771 -0.60716859\n",
      "   0.52286756  0.91050201  0.98729337  0.43193804 -0.16716741]]\n"
     ]
    },
    {
     "name": "stderr",
     "output_type": "stream",
     "text": [
      "  0%|                                                                                                                             | 0/250 [00:00<?, ?it/s]"
     ]
    },
    {
     "name": "stdout",
     "output_type": "stream",
     "text": [
      "--- Training --- [threshold, AUC] =  [np.float64(0.703), np.float64(0.919)]\n",
      "--- Iteration 0: Training loss --- [Data, Label, Total] = [13113.413151.3, 473.472448.3, 66040.538201.3]\n",
      "--- Training --- [threshold, AUC] =  [np.float64(0.666), np.float64(0.918)]\n",
      "--- Iteration 10: Training loss --- [Data, Label, Total] = [6232.981636.3, 471.586719.3, 31636.494898.3]\n",
      "!!! pred_type filter\n"
     ]
    },
    {
     "name": "stderr",
     "output_type": "stream",
     "text": [
      "  4%|█████                                                                                                               | 11/250 [00:00<00:09, 24.72it/s]"
     ]
    },
    {
     "name": "stdout",
     "output_type": "stream",
     "text": [
      "--- Validation --- [threshold, AUC, Accuracy, F score] =  [np.float64(0.666), np.float64(0.918), np.float64(0.84), np.float64(0.861)]\n",
      "--- Training --- [threshold, AUC] =  [np.float64(0.7), np.float64(0.92)]\n",
      "--- Iteration 20: Training loss --- [Data, Label, Total] = [4939.973479.3, 466.470486.3, 25166.337882.3]\n",
      "!!! pred_type filter\n"
     ]
    },
    {
     "name": "stderr",
     "output_type": "stream",
     "text": [
      "  8%|█████████▋                                                                                                          | 21/250 [00:00<00:10, 22.82it/s]"
     ]
    },
    {
     "name": "stdout",
     "output_type": "stream",
     "text": [
      "--- Validation --- [threshold, AUC, Accuracy, F score] =  [np.float64(0.7), np.float64(0.92), np.float64(0.835), np.float64(0.854)]\n",
      "--- Training --- [threshold, AUC] =  [np.float64(0.636), np.float64(0.919)]\n",
      "--- Iteration 30: Training loss --- [Data, Label, Total] = [4493.566356.3, 468.336792.3, 22936.168571.3]\n",
      "!!! pred_type filter\n"
     ]
    },
    {
     "name": "stderr",
     "output_type": "stream",
     "text": [
      " 12%|██████████████▍                                                                                                     | 31/250 [00:01<00:09, 23.58it/s]"
     ]
    },
    {
     "name": "stdout",
     "output_type": "stream",
     "text": [
      "--- Validation --- [threshold, AUC, Accuracy, F score] =  [np.float64(0.636), np.float64(0.919), np.float64(0.844), np.float64(0.867)]\n",
      "--- Training --- [threshold, AUC] =  [np.float64(0.64), np.float64(0.918)]\n",
      "--- Iteration 40: Training loss --- [Data, Label, Total] = [4281.199234.3, 469.653966.3, 21875.650135.3]\n",
      "!!! pred_type filter\n"
     ]
    },
    {
     "name": "stderr",
     "output_type": "stream",
     "text": [
      " 16%|███████████████████                                                                                                 | 41/250 [00:01<00:08, 24.11it/s]"
     ]
    },
    {
     "name": "stdout",
     "output_type": "stream",
     "text": [
      "--- Validation --- [threshold, AUC, Accuracy, F score] =  [np.float64(0.64), np.float64(0.918), np.float64(0.843), np.float64(0.865)]\n",
      "--- Training --- [threshold, AUC] =  [np.float64(0.638), np.float64(0.919)]\n",
      "--- Iteration 50: Training loss --- [Data, Label, Total] = [4157.936564.3, 468.488358.3, 21258.171179.3]\n",
      "!!! pred_type filter\n"
     ]
    },
    {
     "name": "stderr",
     "output_type": "stream",
     "text": [
      " 20%|███████████████████████▋                                                                                            | 51/250 [00:02<00:08, 24.61it/s]"
     ]
    },
    {
     "name": "stdout",
     "output_type": "stream",
     "text": [
      "--- Validation --- [threshold, AUC, Accuracy, F score] =  [np.float64(0.638), np.float64(0.919), np.float64(0.845), np.float64(0.867)]\n",
      "--- Training --- [threshold, AUC] =  [np.float64(0.651), np.float64(0.92)]\n",
      "--- Iteration 60: Training loss --- [Data, Label, Total] = [4036.296967.3, 464.855930.3, 20646.340763.3]\n",
      "!!! pred_type filter\n"
     ]
    },
    {
     "name": "stderr",
     "output_type": "stream",
     "text": [
      " 24%|████████████████████████████▎                                                                                       | 61/250 [00:02<00:07, 24.02it/s]"
     ]
    },
    {
     "name": "stdout",
     "output_type": "stream",
     "text": [
      "--- Validation --- [threshold, AUC, Accuracy, F score] =  [np.float64(0.651), np.float64(0.92), np.float64(0.846), np.float64(0.868)]\n",
      "--- Training --- [threshold, AUC] =  [np.float64(0.641), np.float64(0.922)]\n",
      "--- Iteration 70: Training loss --- [Data, Label, Total] = [3929.855846.3, 461.250981.3, 20110.530210.3]\n",
      "!!! pred_type filter\n"
     ]
    },
    {
     "name": "stderr",
     "output_type": "stream",
     "text": [
      " 28%|████████████████████████████████▉                                                                                   | 71/250 [00:02<00:07, 24.53it/s]"
     ]
    },
    {
     "name": "stdout",
     "output_type": "stream",
     "text": [
      "--- Validation --- [threshold, AUC, Accuracy, F score] =  [np.float64(0.641), np.float64(0.922), np.float64(0.847), np.float64(0.869)]\n",
      "--- Training --- [threshold, AUC] =  [np.float64(0.611), np.float64(0.922)]\n",
      "--- Iteration 80: Training loss --- [Data, Label, Total] = [3860.742996.3, 459.130206.3, 19762.845186.3]\n",
      "!!! pred_type filter\n"
     ]
    },
    {
     "name": "stderr",
     "output_type": "stream",
     "text": [
      " 32%|█████████████████████████████████████▌                                                                              | 81/250 [00:03<00:06, 25.18it/s]"
     ]
    },
    {
     "name": "stdout",
     "output_type": "stream",
     "text": [
      "--- Validation --- [threshold, AUC, Accuracy, F score] =  [np.float64(0.611), np.float64(0.922), np.float64(0.851), np.float64(0.875)]\n",
      "--- Training --- [threshold, AUC] =  [np.float64(0.668), np.float64(0.923)]\n",
      "--- Iteration 90: Training loss --- [Data, Label, Total] = [3823.174372.3, 457.931098.3, 19573.802956.3]\n",
      "!!! pred_type filter\n"
     ]
    },
    {
     "name": "stderr",
     "output_type": "stream",
     "text": [
      " 36%|██████████████████████████████████████████▏                                                                         | 91/250 [00:03<00:06, 25.71it/s]"
     ]
    },
    {
     "name": "stdout",
     "output_type": "stream",
     "text": [
      "--- Validation --- [threshold, AUC, Accuracy, F score] =  [np.float64(0.668), np.float64(0.923), np.float64(0.845), np.float64(0.865)]\n",
      "--- Training --- [threshold, AUC] =  [np.float64(0.675), np.float64(0.923)]\n",
      "--- Iteration 100: Training loss --- [Data, Label, Total] = [3802.456740.3, 456.760789.3, 19469.044492.3]\n",
      "!!! pred_type filter\n"
     ]
    },
    {
     "name": "stderr",
     "output_type": "stream",
     "text": [
      " 40%|██████████████████████████████████████████████▍                                                                    | 101/250 [00:04<00:05, 26.18it/s]"
     ]
    },
    {
     "name": "stdout",
     "output_type": "stream",
     "text": [
      "--- Validation --- [threshold, AUC, Accuracy, F score] =  [np.float64(0.675), np.float64(0.923), np.float64(0.845), np.float64(0.865)]\n",
      "--- Training --- [threshold, AUC] =  [np.float64(0.689), np.float64(0.923)]\n",
      "--- Iteration 110: Training loss --- [Data, Label, Total] = [3789.305150.3, 456.203352.3, 19402.729105.3]\n",
      "!!! pred_type filter\n"
     ]
    },
    {
     "name": "stderr",
     "output_type": "stream",
     "text": [
      " 44%|███████████████████████████████████████████████████                                                                | 111/250 [00:04<00:05, 26.42it/s]"
     ]
    },
    {
     "name": "stdout",
     "output_type": "stream",
     "text": [
      "--- Validation --- [threshold, AUC, Accuracy, F score] =  [np.float64(0.689), np.float64(0.923), np.float64(0.843), np.float64(0.863)]\n",
      "--- Training --- [threshold, AUC] =  [np.float64(0.685), np.float64(0.924)]\n",
      "--- Iteration 120: Training loss --- [Data, Label, Total] = [3780.250885.3, 455.591784.3, 19356.846208.3]\n",
      "!!! pred_type filter\n"
     ]
    },
    {
     "name": "stderr",
     "output_type": "stream",
     "text": [
      " 48%|███████████████████████████████████████████████████████▋                                                           | 121/250 [00:04<00:04, 26.57it/s]"
     ]
    },
    {
     "name": "stdout",
     "output_type": "stream",
     "text": [
      "--- Validation --- [threshold, AUC, Accuracy, F score] =  [np.float64(0.685), np.float64(0.924), np.float64(0.846), np.float64(0.866)]\n",
      "--- Training --- [threshold, AUC] =  [np.float64(0.683), np.float64(0.924)]\n",
      "--- Iteration 130: Training loss --- [Data, Label, Total] = [3773.814088.3, 454.932627.3, 19324.003067.3]\n",
      "!!! pred_type filter\n"
     ]
    },
    {
     "name": "stderr",
     "output_type": "stream",
     "text": [
      " 52%|████████████████████████████████████████████████████████████▎                                                      | 131/250 [00:05<00:04, 26.76it/s]"
     ]
    },
    {
     "name": "stdout",
     "output_type": "stream",
     "text": [
      "--- Validation --- [threshold, AUC, Accuracy, F score] =  [np.float64(0.683), np.float64(0.924), np.float64(0.847), np.float64(0.867)]\n",
      "--- Training --- [threshold, AUC] =  [np.float64(0.685), np.float64(0.924)]\n",
      "--- Iteration 140: Training loss --- [Data, Label, Total] = [3769.311124.3, 453.961674.3, 19300.517294.3]\n",
      "!!! pred_type filter\n"
     ]
    },
    {
     "name": "stderr",
     "output_type": "stream",
     "text": [
      " 56%|████████████████████████████████████████████████████████████████▊                                                  | 141/250 [00:05<00:04, 26.59it/s]"
     ]
    },
    {
     "name": "stdout",
     "output_type": "stream",
     "text": [
      "--- Validation --- [threshold, AUC, Accuracy, F score] =  [np.float64(0.685), np.float64(0.924), np.float64(0.847), np.float64(0.867)]\n",
      "--- Training --- [threshold, AUC] =  [np.float64(0.681), np.float64(0.924)]\n",
      "--- Iteration 150: Training loss --- [Data, Label, Total] = [3766.213617.3, 453.724812.3, 19284.792896.3]\n",
      "!!! pred_type filter\n"
     ]
    },
    {
     "name": "stderr",
     "output_type": "stream",
     "text": [
      " 60%|█████████████████████████████████████████████████████████████████████▍                                             | 151/250 [00:05<00:03, 26.01it/s]"
     ]
    },
    {
     "name": "stdout",
     "output_type": "stream",
     "text": [
      "--- Validation --- [threshold, AUC, Accuracy, F score] =  [np.float64(0.681), np.float64(0.924), np.float64(0.848), np.float64(0.868)]\n",
      "--- Training --- [threshold, AUC] =  [np.float64(0.681), np.float64(0.924)]\n",
      "--- Iteration 160: Training loss --- [Data, Label, Total] = [3764.109844.3, 453.103004.3, 19273.652225.3]\n",
      "!!! pred_type filter\n"
     ]
    },
    {
     "name": "stderr",
     "output_type": "stream",
     "text": [
      " 64%|██████████████████████████████████████████████████████████████████████████                                         | 161/250 [00:06<00:03, 26.29it/s]"
     ]
    },
    {
     "name": "stdout",
     "output_type": "stream",
     "text": [
      "--- Validation --- [threshold, AUC, Accuracy, F score] =  [np.float64(0.681), np.float64(0.924), np.float64(0.848), np.float64(0.868)]\n",
      "--- Training --- [threshold, AUC] =  [np.float64(0.69), np.float64(0.925)]\n",
      "--- Iteration 170: Training loss --- [Data, Label, Total] = [3762.675759.3, 452.632940.3, 19266.011734.3]\n",
      "!!! pred_type filter\n"
     ]
    },
    {
     "name": "stderr",
     "output_type": "stream",
     "text": [
      " 68%|██████████████████████████████████████████████████████████████████████████████▋                                    | 171/250 [00:06<00:02, 26.63it/s]"
     ]
    },
    {
     "name": "stdout",
     "output_type": "stream",
     "text": [
      "--- Validation --- [threshold, AUC, Accuracy, F score] =  [np.float64(0.69), np.float64(0.925), np.float64(0.847), np.float64(0.866)]\n",
      "--- Training --- [threshold, AUC] =  [np.float64(0.682), np.float64(0.925)]\n",
      "--- Iteration 180: Training loss --- [Data, Label, Total] = [3761.697670.3, 452.427091.3, 19260.915441.3]\n",
      "!!! pred_type filter\n"
     ]
    },
    {
     "name": "stderr",
     "output_type": "stream",
     "text": [
      " 72%|███████████████████████████████████████████████████████████████████████████████████▎                               | 181/250 [00:07<00:02, 26.76it/s]"
     ]
    },
    {
     "name": "stdout",
     "output_type": "stream",
     "text": [
      "--- Validation --- [threshold, AUC, Accuracy, F score] =  [np.float64(0.682), np.float64(0.925), np.float64(0.848), np.float64(0.868)]\n",
      "--- Training --- [threshold, AUC] =  [np.float64(0.69), np.float64(0.925)]\n",
      "--- Iteration 190: Training loss --- [Data, Label, Total] = [3761.042347.3, 451.939942.3, 19257.151675.3]\n",
      "!!! pred_type filter\n"
     ]
    },
    {
     "name": "stderr",
     "output_type": "stream",
     "text": [
      " 76%|███████████████████████████████████████████████████████████████████████████████████████▊                           | 191/250 [00:07<00:02, 26.96it/s]"
     ]
    },
    {
     "name": "stdout",
     "output_type": "stream",
     "text": [
      "--- Validation --- [threshold, AUC, Accuracy, F score] =  [np.float64(0.69), np.float64(0.925), np.float64(0.847), np.float64(0.866)]\n",
      "--- Training --- [threshold, AUC] =  [np.float64(0.687), np.float64(0.925)]\n",
      "--- Iteration 200: Training loss --- [Data, Label, Total] = [3760.602572.3, 451.553496.3, 19254.566358.3]\n",
      "!!! pred_type filter\n"
     ]
    },
    {
     "name": "stderr",
     "output_type": "stream",
     "text": [
      " 80%|████████████████████████████████████████████████████████████████████████████████████████████▍                      | 201/250 [00:07<00:01, 26.99it/s]"
     ]
    },
    {
     "name": "stdout",
     "output_type": "stream",
     "text": [
      "--- Validation --- [threshold, AUC, Accuracy, F score] =  [np.float64(0.687), np.float64(0.925), np.float64(0.849), np.float64(0.868)]\n",
      "--- Training --- [threshold, AUC] =  [np.float64(0.688), np.float64(0.925)]\n",
      "--- Iteration 210: Training loss --- [Data, Label, Total] = [3760.330730.3, 451.233309.3, 19252.886959.3]\n",
      "!!! pred_type filter\n"
     ]
    },
    {
     "name": "stderr",
     "output_type": "stream",
     "text": [
      " 84%|█████████████████████████████████████████████████████████████████████████████████████████████████                  | 211/250 [00:08<00:01, 26.17it/s]"
     ]
    },
    {
     "name": "stdout",
     "output_type": "stream",
     "text": [
      "--- Validation --- [threshold, AUC, Accuracy, F score] =  [np.float64(0.688), np.float64(0.925), np.float64(0.848), np.float64(0.867)]\n",
      "--- Training --- [threshold, AUC] =  [np.float64(0.689), np.float64(0.925)]\n",
      "--- Iteration 220: Training loss --- [Data, Label, Total] = [3760.143312.3, 451.083415.3, 19251.799974.3]\n",
      "!!! pred_type filter\n"
     ]
    },
    {
     "name": "stderr",
     "output_type": "stream",
     "text": [
      " 88%|█████████████████████████████████████████████████████████████████████████████████████████████████████▋             | 221/250 [00:08<00:01, 26.48it/s]"
     ]
    },
    {
     "name": "stdout",
     "output_type": "stream",
     "text": [
      "--- Validation --- [threshold, AUC, Accuracy, F score] =  [np.float64(0.689), np.float64(0.925), np.float64(0.848), np.float64(0.867)]\n",
      "--- Training --- [threshold, AUC] =  [np.float64(0.685), np.float64(0.925)]\n",
      "--- Iteration 230: Training loss --- [Data, Label, Total] = [3760.004470.3, 450.677311.3, 19250.699661.3]\n",
      "!!! pred_type filter\n"
     ]
    },
    {
     "name": "stderr",
     "output_type": "stream",
     "text": [
      " 92%|██████████████████████████████████████████████████████████████████████████████████████████████████████████▎        | 231/250 [00:08<00:00, 26.63it/s]"
     ]
    },
    {
     "name": "stdout",
     "output_type": "stream",
     "text": [
      "--- Validation --- [threshold, AUC, Accuracy, F score] =  [np.float64(0.685), np.float64(0.925), np.float64(0.849), np.float64(0.868)]\n",
      "--- Training --- [threshold, AUC] =  [np.float64(0.686), np.float64(0.925)]\n",
      "--- Iteration 240: Training loss --- [Data, Label, Total] = [3759.898545.3, 450.131258.3, 19249.623981.3]\n",
      "!!! pred_type filter\n"
     ]
    },
    {
     "name": "stderr",
     "output_type": "stream",
     "text": [
      "100%|███████████████████████████████████████████████████████████████████████████████████████████████████████████████████| 250/250 [00:09<00:00, 26.72it/s]"
     ]
    },
    {
     "name": "stdout",
     "output_type": "stream",
     "text": [
      "--- Validation --- [threshold, AUC, Accuracy, F score] =  [np.float64(0.686), np.float64(0.925), np.float64(0.849), np.float64(0.868)]\n",
      "!!! pred_type filter\n"
     ]
    },
    {
     "name": "stderr",
     "output_type": "stream",
     "text": [
      "\n"
     ]
    },
    {
     "name": "stdout",
     "output_type": "stream",
     "text": [
      "num of subgraphs induced on k-paths: 500\n",
      "num of subgraphs induced on k-paths: 500\n",
      "X_list: (100, 1000)\n",
      "2\n",
      "(1, 500)\n",
      "(1, 500)\n",
      "label_vec: (1, 1000)\n",
      "num of subgraphs induced on k-paths: 500\n",
      "num of subgraphs induced on k-paths: 500\n",
      "X_list: (100, 1000)\n",
      "2\n",
      "(1, 500)\n",
      "(1, 500)\n",
      "label_vec: (1, 1000)\n",
      "11\n",
      "num of subgraphs induced on k-paths: 500\n",
      "num of subgraphs induced on k-paths: 500\n",
      "X_list: (121, 1000)\n",
      "2\n",
      "(1, 500)\n",
      "(1, 500)\n",
      "label_vec: (1, 1000)\n",
      "num of subgraphs induced on k-paths: 500\n",
      "num of subgraphs induced on k-paths: 753\n",
      "X_list: (121, 1253)\n",
      "2\n",
      "(1, 500)\n",
      "(1, 753)\n",
      "label_vec: (1, 1253)\n",
      "initial loading beta [[ 0.66630589 -0.02501073  0.39804984 -0.09701433  0.8323576  -0.02015503\n",
      "  -0.97815724 -0.39070753 -0.3702611  -0.23712474  0.0300569   0.57854045\n",
      "  -0.74806361 -0.19741115  0.36489161 -0.08581761 -0.93716539]]\n"
     ]
    },
    {
     "name": "stderr",
     "output_type": "stream",
     "text": [
      "  0%|                                                                                                                             | 0/250 [00:00<?, ?it/s]"
     ]
    },
    {
     "name": "stdout",
     "output_type": "stream",
     "text": [
      "--- Training --- [threshold, AUC] =  [np.float64(0.607), np.float64(0.914)]\n",
      "--- Iteration 0: Training loss --- [Data, Label, Total] = [15980.019844.3, 488.478116.3, 80388.577334.3]\n",
      "--- Training --- [threshold, AUC] =  [np.float64(0.612), np.float64(0.92)]\n",
      "--- Iteration 10: Training loss --- [Data, Label, Total] = [8459.627575.3, 473.854491.3, 42771.992365.3]\n",
      "!!! pred_type filter\n"
     ]
    },
    {
     "name": "stderr",
     "output_type": "stream",
     "text": [
      "  4%|█████                                                                                                               | 11/250 [00:00<00:10, 22.21it/s]"
     ]
    },
    {
     "name": "stdout",
     "output_type": "stream",
     "text": [
      "--- Validation --- [threshold, AUC, Accuracy, F score] =  [np.float64(0.612), np.float64(0.92), np.float64(0.864), np.float64(0.886)]\n",
      "--- Training --- [threshold, AUC] =  [np.float64(0.657), np.float64(0.923)]\n",
      "--- Iteration 20: Training loss --- [Data, Label, Total] = [7114.554194.3, 469.190870.3, 36041.961840.3]\n",
      "!!! pred_type filter\n"
     ]
    },
    {
     "name": "stderr",
     "output_type": "stream",
     "text": [
      "  8%|█████████▋                                                                                                          | 21/250 [00:00<00:09, 23.30it/s]"
     ]
    },
    {
     "name": "stdout",
     "output_type": "stream",
     "text": [
      "--- Validation --- [threshold, AUC, Accuracy, F score] =  [np.float64(0.657), np.float64(0.923), np.float64(0.86), np.float64(0.88)]\n",
      "--- Training --- [threshold, AUC] =  [np.float64(0.639), np.float64(0.924)]\n",
      "--- Iteration 30: Training loss --- [Data, Label, Total] = [6602.834389.3, 468.229543.3, 33482.401488.3]\n",
      "!!! pred_type filter\n"
     ]
    },
    {
     "name": "stderr",
     "output_type": "stream",
     "text": [
      " 12%|██████████████▍                                                                                                     | 31/250 [00:01<00:09, 24.09it/s]"
     ]
    },
    {
     "name": "stdout",
     "output_type": "stream",
     "text": [
      "--- Validation --- [threshold, AUC, Accuracy, F score] =  [np.float64(0.639), np.float64(0.924), np.float64(0.862), np.float64(0.882)]\n",
      "--- Training --- [threshold, AUC] =  [np.float64(0.653), np.float64(0.924)]\n",
      "--- Iteration 40: Training loss --- [Data, Label, Total] = [6286.510014.3, 469.144501.3, 31901.694572.3]\n",
      "!!! pred_type filter\n"
     ]
    },
    {
     "name": "stderr",
     "output_type": "stream",
     "text": [
      " 16%|███████████████████                                                                                                 | 41/250 [00:01<00:08, 24.78it/s]"
     ]
    },
    {
     "name": "stdout",
     "output_type": "stream",
     "text": [
      "--- Validation --- [threshold, AUC, Accuracy, F score] =  [np.float64(0.653), np.float64(0.924), np.float64(0.858), np.float64(0.877)]\n",
      "--- Training --- [threshold, AUC] =  [np.float64(0.637), np.float64(0.924)]\n",
      "--- Iteration 50: Training loss --- [Data, Label, Total] = [6028.443820.3, 470.430154.3, 30612.649256.3]\n",
      "!!! pred_type filter\n"
     ]
    },
    {
     "name": "stderr",
     "output_type": "stream",
     "text": [
      " 20%|███████████████████████▋                                                                                            | 51/250 [00:02<00:07, 25.10it/s]"
     ]
    },
    {
     "name": "stdout",
     "output_type": "stream",
     "text": [
      "--- Validation --- [threshold, AUC, Accuracy, F score] =  [np.float64(0.637), np.float64(0.924), np.float64(0.861), np.float64(0.881)]\n",
      "--- Training --- [threshold, AUC] =  [np.float64(0.665), np.float64(0.923)]\n",
      "--- Iteration 60: Training loss --- [Data, Label, Total] = [5793.093403.3, 471.729934.3, 29437.196949.3]\n",
      "!!! pred_type filter\n"
     ]
    },
    {
     "name": "stderr",
     "output_type": "stream",
     "text": [
      " 24%|████████████████████████████▎                                                                                       | 61/250 [00:02<00:07, 25.49it/s]"
     ]
    },
    {
     "name": "stdout",
     "output_type": "stream",
     "text": [
      "--- Validation --- [threshold, AUC, Accuracy, F score] =  [np.float64(0.665), np.float64(0.923), np.float64(0.856), np.float64(0.875)]\n",
      "--- Training --- [threshold, AUC] =  [np.float64(0.708), np.float64(0.923)]\n",
      "--- Iteration 70: Training loss --- [Data, Label, Total] = [5598.863891.3, 472.661857.3, 28466.981311.3]\n",
      "!!! pred_type filter\n"
     ]
    },
    {
     "name": "stderr",
     "output_type": "stream",
     "text": [
      " 28%|████████████████████████████████▉                                                                                   | 71/250 [00:02<00:06, 25.85it/s]"
     ]
    },
    {
     "name": "stdout",
     "output_type": "stream",
     "text": [
      "--- Validation --- [threshold, AUC, Accuracy, F score] =  [np.float64(0.708), np.float64(0.923), np.float64(0.85), np.float64(0.867)]\n",
      "--- Training --- [threshold, AUC] =  [np.float64(0.659), np.float64(0.923)]\n",
      "--- Iteration 80: Training loss --- [Data, Label, Total] = [5456.780073.3, 473.431342.3, 27757.331709.3]\n",
      "!!! pred_type filter\n"
     ]
    },
    {
     "name": "stderr",
     "output_type": "stream",
     "text": [
      " 32%|█████████████████████████████████████▌                                                                              | 81/250 [00:03<00:06, 26.41it/s]"
     ]
    },
    {
     "name": "stdout",
     "output_type": "stream",
     "text": [
      "--- Validation --- [threshold, AUC, Accuracy, F score] =  [np.float64(0.659), np.float64(0.923), np.float64(0.855), np.float64(0.874)]\n",
      "--- Training --- [threshold, AUC] =  [np.float64(0.664), np.float64(0.923)]\n",
      "--- Iteration 90: Training loss --- [Data, Label, Total] = [5357.181456.3, 473.515069.3, 27259.422348.3]\n",
      "!!! pred_type filter\n"
     ]
    },
    {
     "name": "stderr",
     "output_type": "stream",
     "text": [
      " 36%|██████████████████████████████████████████▏                                                                         | 91/250 [00:03<00:05, 27.16it/s]"
     ]
    },
    {
     "name": "stdout",
     "output_type": "stream",
     "text": [
      "--- Validation --- [threshold, AUC, Accuracy, F score] =  [np.float64(0.664), np.float64(0.923), np.float64(0.854), np.float64(0.873)]\n",
      "--- Training --- [threshold, AUC] =  [np.float64(0.678), np.float64(0.923)]\n",
      "--- Iteration 100: Training loss --- [Data, Label, Total] = [5287.182886.3, 473.423255.3, 26909.337683.3]\n",
      "!!! pred_type filter\n"
     ]
    },
    {
     "name": "stderr",
     "output_type": "stream",
     "text": [
      " 40%|██████████████████████████████████████████████▍                                                                    | 101/250 [00:03<00:05, 27.79it/s]"
     ]
    },
    {
     "name": "stdout",
     "output_type": "stream",
     "text": [
      "--- Validation --- [threshold, AUC, Accuracy, F score] =  [np.float64(0.678), np.float64(0.923), np.float64(0.853), np.float64(0.872)]\n",
      "--- Training --- [threshold, AUC] =  [np.float64(0.679), np.float64(0.923)]\n",
      "--- Iteration 110: Training loss --- [Data, Label, Total] = [5234.844189.3, 473.345136.3, 26647.566079.3]\n",
      "!!! pred_type filter\n"
     ]
    },
    {
     "name": "stderr",
     "output_type": "stream",
     "text": [
      " 44%|███████████████████████████████████████████████████                                                                | 111/250 [00:04<00:04, 28.36it/s]"
     ]
    },
    {
     "name": "stdout",
     "output_type": "stream",
     "text": [
      "--- Validation --- [threshold, AUC, Accuracy, F score] =  [np.float64(0.679), np.float64(0.923), np.float64(0.853), np.float64(0.871)]\n",
      "--- Training --- [threshold, AUC] =  [np.float64(0.676), np.float64(0.923)]\n",
      "--- Iteration 120: Training loss --- [Data, Label, Total] = [5190.625076.3, 472.922158.3, 26426.047536.3]\n",
      "!!! pred_type filter\n"
     ]
    },
    {
     "name": "stderr",
     "output_type": "stream",
     "text": [
      " 48%|███████████████████████████████████████████████████████▋                                                           | 121/250 [00:04<00:04, 28.74it/s]"
     ]
    },
    {
     "name": "stdout",
     "output_type": "stream",
     "text": [
      "--- Validation --- [threshold, AUC, Accuracy, F score] =  [np.float64(0.676), np.float64(0.923), np.float64(0.853), np.float64(0.872)]\n",
      "--- Training --- [threshold, AUC] =  [np.float64(0.654), np.float64(0.923)]\n",
      "--- Iteration 130: Training loss --- [Data, Label, Total] = [5148.682258.3, 472.453644.3, 26215.864935.3]\n",
      "!!! pred_type filter\n"
     ]
    },
    {
     "name": "stderr",
     "output_type": "stream",
     "text": [
      " 52%|████████████████████████████████████████████████████████████▎                                                      | 131/250 [00:04<00:04, 28.95it/s]"
     ]
    },
    {
     "name": "stdout",
     "output_type": "stream",
     "text": [
      "--- Validation --- [threshold, AUC, Accuracy, F score] =  [np.float64(0.654), np.float64(0.923), np.float64(0.858), np.float64(0.877)]\n",
      "--- Training --- [threshold, AUC] =  [np.float64(0.658), np.float64(0.924)]\n",
      "--- Iteration 140: Training loss --- [Data, Label, Total] = [5103.490349.3, 472.030646.3, 25989.482394.3]\n",
      "!!! pred_type filter\n"
     ]
    },
    {
     "name": "stderr",
     "output_type": "stream",
     "text": [
      " 56%|████████████████████████████████████████████████████████████████▊                                                  | 141/250 [00:05<00:03, 28.30it/s]"
     ]
    },
    {
     "name": "stdout",
     "output_type": "stream",
     "text": [
      "--- Validation --- [threshold, AUC, Accuracy, F score] =  [np.float64(0.658), np.float64(0.924), np.float64(0.857), np.float64(0.877)]\n",
      "--- Training --- [threshold, AUC] =  [np.float64(0.646), np.float64(0.924)]\n",
      "--- Iteration 150: Training loss --- [Data, Label, Total] = [5049.722586.3, 471.579175.3, 25720.192104.3]\n",
      "!!! pred_type filter\n"
     ]
    },
    {
     "name": "stderr",
     "output_type": "stream",
     "text": [
      " 60%|█████████████████████████████████████████████████████████████████████▍                                             | 151/250 [00:05<00:03, 28.35it/s]"
     ]
    },
    {
     "name": "stdout",
     "output_type": "stream",
     "text": [
      "--- Validation --- [threshold, AUC, Accuracy, F score] =  [np.float64(0.646), np.float64(0.924), np.float64(0.858), np.float64(0.878)]\n",
      "--- Training --- [threshold, AUC] =  [np.float64(0.68), np.float64(0.924)]\n",
      "--- Iteration 160: Training loss --- [Data, Label, Total] = [4990.621414.3, 471.311158.3, 25424.418230.3]\n",
      "!!! pred_type filter\n"
     ]
    },
    {
     "name": "stderr",
     "output_type": "stream",
     "text": [
      " 64%|██████████████████████████████████████████████████████████████████████████                                         | 161/250 [00:05<00:03, 29.15it/s]"
     ]
    },
    {
     "name": "stdout",
     "output_type": "stream",
     "text": [
      "--- Validation --- [threshold, AUC, Accuracy, F score] =  [np.float64(0.68), np.float64(0.924), np.float64(0.855), np.float64(0.873)]\n",
      "--- Training --- [threshold, AUC] =  [np.float64(0.683), np.float64(0.924)]\n",
      "--- Iteration 170: Training loss --- [Data, Label, Total] = [4938.709083.3, 471.269312.3, 25164.814728.3]\n",
      "!!! pred_type filter\n"
     ]
    },
    {
     "name": "stderr",
     "output_type": "stream",
     "text": [
      " 68%|██████████████████████████████████████████████████████████████████████████████▋                                    | 171/250 [00:06<00:02, 29.94it/s]"
     ]
    },
    {
     "name": "stdout",
     "output_type": "stream",
     "text": [
      "--- Validation --- [threshold, AUC, Accuracy, F score] =  [np.float64(0.683), np.float64(0.924), np.float64(0.855), np.float64(0.873)]\n",
      "--- Training --- [threshold, AUC] =  [np.float64(0.654), np.float64(0.924)]\n",
      "--- Iteration 180: Training loss --- [Data, Label, Total] = [4899.880958.3, 471.456794.3, 24970.861583.3]\n",
      "!!! pred_type filter\n"
     ]
    },
    {
     "name": "stderr",
     "output_type": "stream",
     "text": [
      " 72%|███████████████████████████████████████████████████████████████████████████████████▎                               | 181/250 [00:06<00:02, 30.23it/s]"
     ]
    },
    {
     "name": "stdout",
     "output_type": "stream",
     "text": [
      "--- Validation --- [threshold, AUC, Accuracy, F score] =  [np.float64(0.654), np.float64(0.924), np.float64(0.858), np.float64(0.878)]\n",
      "--- Training --- [threshold, AUC] =  [np.float64(0.657), np.float64(0.924)]\n",
      "--- Iteration 190: Training loss --- [Data, Label, Total] = [4869.410524.3, 471.783633.3, 24818.836253.3]\n",
      "!!! pred_type filter\n"
     ]
    },
    {
     "name": "stderr",
     "output_type": "stream",
     "text": [
      " 76%|███████████████████████████████████████████████████████████████████████████████████████▊                           | 191/250 [00:06<00:01, 30.73it/s]"
     ]
    },
    {
     "name": "stdout",
     "output_type": "stream",
     "text": [
      "--- Validation --- [threshold, AUC, Accuracy, F score] =  [np.float64(0.657), np.float64(0.924), np.float64(0.858), np.float64(0.878)]\n",
      "--- Training --- [threshold, AUC] =  [np.float64(0.703), np.float64(0.924)]\n",
      "--- Iteration 200: Training loss --- [Data, Label, Total] = [4843.598909.3, 472.038899.3, 24690.033445.3]\n",
      "!!! pred_type filter\n"
     ]
    },
    {
     "name": "stderr",
     "output_type": "stream",
     "text": [
      " 80%|████████████████████████████████████████████████████████████████████████████████████████████▍                      | 201/250 [00:07<00:01, 31.35it/s]"
     ]
    },
    {
     "name": "stdout",
     "output_type": "stream",
     "text": [
      "--- Validation --- [threshold, AUC, Accuracy, F score] =  [np.float64(0.703), np.float64(0.924), np.float64(0.852), np.float64(0.869)]\n",
      "--- Training --- [threshold, AUC] =  [np.float64(0.703), np.float64(0.924)]\n",
      "--- Iteration 210: Training loss --- [Data, Label, Total] = [4821.164914.3, 472.190343.3, 24578.014910.3]\n",
      "!!! pred_type filter\n"
     ]
    },
    {
     "name": "stderr",
     "output_type": "stream",
     "text": [
      " 84%|█████████████████████████████████████████████████████████████████████████████████████████████████                  | 211/250 [00:07<00:01, 31.57it/s]"
     ]
    },
    {
     "name": "stdout",
     "output_type": "stream",
     "text": [
      "--- Validation --- [threshold, AUC, Accuracy, F score] =  [np.float64(0.703), np.float64(0.924), np.float64(0.852), np.float64(0.869)]\n",
      "--- Training --- [threshold, AUC] =  [np.float64(0.702), np.float64(0.924)]\n",
      "--- Iteration 220: Training loss --- [Data, Label, Total] = [4802.062070.3, 472.215275.3, 24482.525625.3]\n",
      "!!! pred_type filter\n"
     ]
    },
    {
     "name": "stderr",
     "output_type": "stream",
     "text": [
      " 88%|█████████████████████████████████████████████████████████████████████████████████████████████████████▋             | 221/250 [00:07<00:00, 31.68it/s]"
     ]
    },
    {
     "name": "stdout",
     "output_type": "stream",
     "text": [
      "--- Validation --- [threshold, AUC, Accuracy, F score] =  [np.float64(0.702), np.float64(0.924), np.float64(0.852), np.float64(0.869)]\n",
      "--- Training --- [threshold, AUC] =  [np.float64(0.7), np.float64(0.924)]\n",
      "--- Iteration 230: Training loss --- [Data, Label, Total] = [4786.474983.3, 472.330086.3, 24404.705001.3]\n",
      "!!! pred_type filter\n"
     ]
    },
    {
     "name": "stderr",
     "output_type": "stream",
     "text": [
      " 92%|██████████████████████████████████████████████████████████████████████████████████████████████████████████▎        | 231/250 [00:08<00:00, 28.93it/s]"
     ]
    },
    {
     "name": "stdout",
     "output_type": "stream",
     "text": [
      "--- Validation --- [threshold, AUC, Accuracy, F score] =  [np.float64(0.7), np.float64(0.924), np.float64(0.852), np.float64(0.87)]\n",
      "--- Training --- [threshold, AUC] =  [np.float64(0.702), np.float64(0.924)]\n",
      "--- Iteration 240: Training loss --- [Data, Label, Total] = [4774.267745.3, 472.198979.3, 24343.537702.3]\n",
      "!!! pred_type filter\n"
     ]
    },
    {
     "name": "stderr",
     "output_type": "stream",
     "text": [
      "100%|███████████████████████████████████████████████████████████████████████████████████████████████████████████████████| 250/250 [00:08<00:00, 29.00it/s]"
     ]
    },
    {
     "name": "stdout",
     "output_type": "stream",
     "text": [
      "--- Validation --- [threshold, AUC, Accuracy, F score] =  [np.float64(0.702), np.float64(0.924), np.float64(0.852), np.float64(0.869)]\n",
      "!!! pred_type filter\n"
     ]
    },
    {
     "name": "stderr",
     "output_type": "stream",
     "text": [
      "\n"
     ]
    },
    {
     "name": "stdout",
     "output_type": "stream",
     "text": [
      "num of subgraphs induced on k-paths: 500\n",
      "num of subgraphs induced on k-paths: 500\n",
      "X_list: (121, 1000)\n",
      "2\n",
      "(1, 500)\n",
      "(1, 500)\n",
      "label_vec: (1, 1000)\n",
      "num of subgraphs induced on k-paths: 500\n",
      "num of subgraphs induced on k-paths: 500\n",
      "X_list: (121, 1000)\n",
      "2\n",
      "(1, 500)\n",
      "(1, 500)\n",
      "label_vec: (1, 1000)\n",
      "12\n",
      "num of subgraphs induced on k-paths: 500\n",
      "num of subgraphs induced on k-paths: 500\n",
      "X_list: (144, 1000)\n",
      "2\n",
      "(1, 500)\n",
      "(1, 500)\n",
      "label_vec: (1, 1000)\n",
      "num of subgraphs induced on k-paths: 500\n",
      "num of subgraphs induced on k-paths: 774\n",
      "X_list: (144, 1274)\n",
      "2\n",
      "(1, 500)\n",
      "(1, 774)\n",
      "label_vec: (1, 1274)\n",
      "initial loading beta [[ 0.76651734  0.96770247  0.11346878 -0.80325001 -0.09851567 -0.18440263\n",
      "   0.68006096 -0.4628439  -0.70700348  0.14631662  0.46701666 -0.8814354\n",
      "   0.39304078  0.65807179 -0.85153277 -0.68559357  0.59705956]]\n"
     ]
    },
    {
     "name": "stderr",
     "output_type": "stream",
     "text": [
      "  0%|                                                                                                                             | 0/250 [00:00<?, ?it/s]"
     ]
    },
    {
     "name": "stdout",
     "output_type": "stream",
     "text": [
      "--- Training --- [threshold, AUC] =  [np.float64(0.692), np.float64(0.944)]\n",
      "--- Iteration 0: Training loss --- [Data, Label, Total] = [18889.889265.3, 407.236195.3, 94856.682518.3]\n",
      "--- Training --- [threshold, AUC] =  [np.float64(0.607), np.float64(0.946)]\n",
      "--- Iteration 10: Training loss --- [Data, Label, Total] = [10444.240871.3, 396.269233.3, 52617.473591.3]\n",
      "!!! pred_type filter\n"
     ]
    },
    {
     "name": "stderr",
     "output_type": "stream",
     "text": [
      "  4%|█████                                                                                                               | 11/250 [00:00<00:10, 22.82it/s]"
     ]
    },
    {
     "name": "stdout",
     "output_type": "stream",
     "text": [
      "--- Validation --- [threshold, AUC, Accuracy, F score] =  [np.float64(0.607), np.float64(0.946), np.float64(0.883), np.float64(0.903)]\n",
      "--- Training --- [threshold, AUC] =  [np.float64(0.705), np.float64(0.946)]\n",
      "--- Iteration 20: Training loss --- [Data, Label, Total] = [8784.447853.3, 396.316199.3, 44318.555463.3]\n",
      "!!! pred_type filter\n"
     ]
    },
    {
     "name": "stderr",
     "output_type": "stream",
     "text": [
      "  8%|█████████▋                                                                                                          | 21/250 [00:00<00:10, 21.74it/s]"
     ]
    },
    {
     "name": "stdout",
     "output_type": "stream",
     "text": [
      "--- Validation --- [threshold, AUC, Accuracy, F score] =  [np.float64(0.705), np.float64(0.946), np.float64(0.875), np.float64(0.893)]\n",
      "--- Training --- [threshold, AUC] =  [np.float64(0.648), np.float64(0.947)]\n",
      "--- Iteration 30: Training loss --- [Data, Label, Total] = [7938.259141.3, 395.174737.3, 40086.470443.3]\n",
      "!!! pred_type filter\n"
     ]
    },
    {
     "name": "stderr",
     "output_type": "stream",
     "text": [
      " 12%|██████████████▍                                                                                                     | 31/250 [00:02<00:19, 11.48it/s]"
     ]
    },
    {
     "name": "stdout",
     "output_type": "stream",
     "text": [
      "--- Validation --- [threshold, AUC, Accuracy, F score] =  [np.float64(0.648), np.float64(0.947), np.float64(0.881), np.float64(0.9)]\n",
      "--- Training --- [threshold, AUC] =  [np.float64(0.601), np.float64(0.948)]\n",
      "--- Iteration 40: Training loss --- [Data, Label, Total] = [7419.190828.3, 392.452711.3, 37488.406853.3]\n",
      "!!! pred_type filter\n"
     ]
    },
    {
     "name": "stderr",
     "output_type": "stream",
     "text": [
      " 16%|███████████████████                                                                                                 | 41/250 [00:02<00:14, 14.06it/s]"
     ]
    },
    {
     "name": "stdout",
     "output_type": "stream",
     "text": [
      "--- Validation --- [threshold, AUC, Accuracy, F score] =  [np.float64(0.601), np.float64(0.948), np.float64(0.891), np.float64(0.91)]\n",
      "--- Training --- [threshold, AUC] =  [np.float64(0.623), np.float64(0.949)]\n",
      "--- Iteration 50: Training loss --- [Data, Label, Total] = [7083.851590.3, 390.125028.3, 35809.382977.3]\n",
      "!!! pred_type filter\n"
     ]
    },
    {
     "name": "stderr",
     "output_type": "stream",
     "text": [
      " 20%|███████████████████████▋                                                                                            | 51/250 [00:03<00:12, 16.34it/s]"
     ]
    },
    {
     "name": "stdout",
     "output_type": "stream",
     "text": [
      "--- Validation --- [threshold, AUC, Accuracy, F score] =  [np.float64(0.623), np.float64(0.949), np.float64(0.889), np.float64(0.907)]\n",
      "--- Training --- [threshold, AUC] =  [np.float64(0.617), np.float64(0.95)]\n",
      "--- Iteration 60: Training loss --- [Data, Label, Total] = [6867.756935.3, 387.034296.3, 34725.818971.3]\n",
      "!!! pred_type filter\n"
     ]
    },
    {
     "name": "stderr",
     "output_type": "stream",
     "text": [
      " 24%|████████████████████████████▎                                                                                       | 61/250 [00:03<00:10, 18.57it/s]"
     ]
    },
    {
     "name": "stdout",
     "output_type": "stream",
     "text": [
      "--- Validation --- [threshold, AUC, Accuracy, F score] =  [np.float64(0.617), np.float64(0.95), np.float64(0.889), np.float64(0.908)]\n",
      "--- Training --- [threshold, AUC] =  [np.float64(0.679), np.float64(0.951)]\n",
      "--- Iteration 70: Training loss --- [Data, Label, Total] = [6731.901688.3, 384.965561.3, 34044.474000.3]\n",
      "!!! pred_type filter\n"
     ]
    },
    {
     "name": "stderr",
     "output_type": "stream",
     "text": [
      " 28%|████████████████████████████████▉                                                                                   | 71/250 [00:04<00:09, 18.33it/s]"
     ]
    },
    {
     "name": "stdout",
     "output_type": "stream",
     "text": [
      "--- Validation --- [threshold, AUC, Accuracy, F score] =  [np.float64(0.679), np.float64(0.951), np.float64(0.885), np.float64(0.902)]\n",
      "--- Training --- [threshold, AUC] =  [np.float64(0.672), np.float64(0.951)]\n",
      "--- Iteration 80: Training loss --- [Data, Label, Total] = [6649.222642.3, 383.461542.3, 33629.574755.3]\n",
      "!!! pred_type filter\n"
     ]
    },
    {
     "name": "stderr",
     "output_type": "stream",
     "text": [
      " 32%|█████████████████████████████████████▌                                                                              | 81/250 [00:04<00:08, 20.02it/s]"
     ]
    },
    {
     "name": "stdout",
     "output_type": "stream",
     "text": [
      "--- Validation --- [threshold, AUC, Accuracy, F score] =  [np.float64(0.672), np.float64(0.951), np.float64(0.887), np.float64(0.904)]\n",
      "--- Training --- [threshold, AUC] =  [np.float64(0.674), np.float64(0.952)]\n",
      "--- Iteration 90: Training loss --- [Data, Label, Total] = [6600.198001.3, 382.501594.3, 33383.491599.3]\n",
      "!!! pred_type filter\n"
     ]
    },
    {
     "name": "stderr",
     "output_type": "stream",
     "text": [
      " 38%|███████████████████████████████████████████▌                                                                        | 94/250 [00:05<00:07, 21.94it/s]"
     ]
    },
    {
     "name": "stdout",
     "output_type": "stream",
     "text": [
      "--- Validation --- [threshold, AUC, Accuracy, F score] =  [np.float64(0.674), np.float64(0.952), np.float64(0.887), np.float64(0.904)]\n"
     ]
    },
    {
     "name": "stderr",
     "output_type": "stream",
     "text": [
      " 40%|█████████████████████████████████████████████▉                                                                      | 99/250 [00:05<00:06, 24.77it/s]"
     ]
    },
    {
     "name": "stdout",
     "output_type": "stream",
     "text": [
      "--- Training --- [threshold, AUC] =  [np.float64(0.673), np.float64(0.952)]\n",
      "--- Iteration 100: Training loss --- [Data, Label, Total] = [6572.535812.3, 381.786333.3, 33244.465391.3]\n",
      "!!! pred_type filter\n"
     ]
    },
    {
     "name": "stderr",
     "output_type": "stream",
     "text": [
      " 41%|███████████████████████████████████████████████▍                                                                   | 103/250 [00:05<00:08, 17.80it/s]"
     ]
    },
    {
     "name": "stdout",
     "output_type": "stream",
     "text": [
      "--- Validation --- [threshold, AUC, Accuracy, F score] =  [np.float64(0.673), np.float64(0.952), np.float64(0.887), np.float64(0.904)]\n",
      "--- Training --- [threshold, AUC] =  [np.float64(0.669), np.float64(0.952)]\n",
      "--- Iteration 110: Training loss --- [Data, Label, Total] = [6556.519025.3, 381.181102.3, 33163.776229.3]\n",
      "!!! pred_type filter\n"
     ]
    },
    {
     "name": "stderr",
     "output_type": "stream",
     "text": [
      " 44%|███████████████████████████████████████████████████                                                                | 111/250 [00:06<00:07, 19.37it/s]"
     ]
    },
    {
     "name": "stdout",
     "output_type": "stream",
     "text": [
      "--- Validation --- [threshold, AUC, Accuracy, F score] =  [np.float64(0.669), np.float64(0.952), np.float64(0.888), np.float64(0.905)]\n",
      "--- Training --- [threshold, AUC] =  [np.float64(0.627), np.float64(0.952)]\n",
      "--- Iteration 120: Training loss --- [Data, Label, Total] = [6546.866020.3, 380.770148.3, 33115.100246.3]\n",
      "!!! pred_type filter\n"
     ]
    },
    {
     "name": "stderr",
     "output_type": "stream",
     "text": [
      " 48%|███████████████████████████████████████████████████████▋                                                           | 121/250 [00:06<00:05, 22.19it/s]"
     ]
    },
    {
     "name": "stdout",
     "output_type": "stream",
     "text": [
      "--- Validation --- [threshold, AUC, Accuracy, F score] =  [np.float64(0.627), np.float64(0.952), np.float64(0.892), np.float64(0.91)]\n",
      "--- Training --- [threshold, AUC] =  [np.float64(0.626), np.float64(0.952)]\n",
      "--- Iteration 130: Training loss --- [Data, Label, Total] = [6540.471032.3, 380.437753.3, 33082.792915.3]\n",
      "!!! pred_type filter\n"
     ]
    },
    {
     "name": "stderr",
     "output_type": "stream",
     "text": [
      " 52%|████████████████████████████████████████████████████████████▎                                                      | 131/250 [00:06<00:04, 24.17it/s]"
     ]
    },
    {
     "name": "stdout",
     "output_type": "stream",
     "text": [
      "--- Validation --- [threshold, AUC, Accuracy, F score] =  [np.float64(0.626), np.float64(0.952), np.float64(0.892), np.float64(0.91)]\n",
      "--- Training --- [threshold, AUC] =  [np.float64(0.671), np.float64(0.952)]\n",
      "--- Iteration 140: Training loss --- [Data, Label, Total] = [6535.686072.3, 379.778197.3, 33058.208557.3]\n",
      "!!! pred_type filter\n"
     ]
    },
    {
     "name": "stderr",
     "output_type": "stream",
     "text": [
      " 59%|████████████████████████████████████████████████████████████████████                                               | 148/250 [00:07<00:04, 25.12it/s]"
     ]
    },
    {
     "name": "stdout",
     "output_type": "stream",
     "text": [
      "--- Validation --- [threshold, AUC, Accuracy, F score] =  [np.float64(0.671), np.float64(0.952), np.float64(0.889), np.float64(0.905)]\n",
      "--- Training --- [threshold, AUC] =  [np.float64(0.673), np.float64(0.952)]\n",
      "--- Iteration 150: Training loss --- [Data, Label, Total] = [6531.558085.3, 379.400194.3, 33037.190619.3]\n",
      "!!! pred_type filter\n"
     ]
    },
    {
     "name": "stderr",
     "output_type": "stream",
     "text": [
      " 64%|█████████████████████████████████████████████████████████████████████████▌                                         | 160/250 [00:08<00:04, 22.24it/s]"
     ]
    },
    {
     "name": "stdout",
     "output_type": "stream",
     "text": [
      "--- Validation --- [threshold, AUC, Accuracy, F score] =  [np.float64(0.673), np.float64(0.952), np.float64(0.889), np.float64(0.905)]\n",
      "--- Training --- [threshold, AUC] =  [np.float64(0.68), np.float64(0.952)]\n",
      "--- Iteration 160: Training loss --- [Data, Label, Total] = [6527.676537.3, 378.967958.3, 33017.350643.3]\n",
      "!!! pred_type filter\n"
     ]
    },
    {
     "name": "stderr",
     "output_type": "stream",
     "text": [
      " 66%|███████████████████████████████████████████████████████████████████████████▍                                       | 164/250 [00:08<00:04, 18.41it/s]"
     ]
    },
    {
     "name": "stdout",
     "output_type": "stream",
     "text": [
      "--- Validation --- [threshold, AUC, Accuracy, F score] =  [np.float64(0.68), np.float64(0.952), np.float64(0.888), np.float64(0.905)]\n",
      "--- Training --- [threshold, AUC] =  [np.float64(0.677), np.float64(0.952)]\n",
      "--- Iteration 170: Training loss --- [Data, Label, Total] = [6523.777360.3, 378.504898.3, 32997.391699.3]\n",
      "!!! pred_type filter\n"
     ]
    },
    {
     "name": "stderr",
     "output_type": "stream",
     "text": [
      " 68%|██████████████████████████████████████████████████████████████████████████████▋                                    | 171/250 [00:08<00:04, 18.87it/s]"
     ]
    },
    {
     "name": "stdout",
     "output_type": "stream",
     "text": [
      "--- Validation --- [threshold, AUC, Accuracy, F score] =  [np.float64(0.677), np.float64(0.952), np.float64(0.889), np.float64(0.905)]\n",
      "--- Training --- [threshold, AUC] =  [np.float64(0.646), np.float64(0.952)]\n",
      "--- Iteration 180: Training loss --- [Data, Label, Total] = [6519.688399.3, 378.099448.3, 32976.541443.3]\n",
      "!!! pred_type filter\n"
     ]
    },
    {
     "name": "stderr",
     "output_type": "stream",
     "text": [
      " 72%|███████████████████████████████████████████████████████████████████████████████████▎                               | 181/250 [00:09<00:03, 21.40it/s]"
     ]
    },
    {
     "name": "stdout",
     "output_type": "stream",
     "text": [
      "--- Validation --- [threshold, AUC, Accuracy, F score] =  [np.float64(0.646), np.float64(0.952), np.float64(0.891), np.float64(0.908)]\n",
      "--- Training --- [threshold, AUC] =  [np.float64(0.626), np.float64(0.953)]\n",
      "--- Iteration 190: Training loss --- [Data, Label, Total] = [6515.252919.3, 377.686310.3, 32953.950905.3]\n",
      "!!! pred_type filter\n"
     ]
    },
    {
     "name": "stderr",
     "output_type": "stream",
     "text": [
      " 76%|███████████████████████████████████████████████████████████████████████████████████████▊                           | 191/250 [00:09<00:02, 22.64it/s]"
     ]
    },
    {
     "name": "stdout",
     "output_type": "stream",
     "text": [
      "--- Validation --- [threshold, AUC, Accuracy, F score] =  [np.float64(0.626), np.float64(0.953), np.float64(0.894), np.float64(0.912)]\n",
      "--- Training --- [threshold, AUC] =  [np.float64(0.627), np.float64(0.953)]\n",
      "--- Iteration 200: Training loss --- [Data, Label, Total] = [6510.262167.3, 377.333944.3, 32928.644779.3]\n",
      "!!! pred_type filter\n"
     ]
    },
    {
     "name": "stderr",
     "output_type": "stream",
     "text": [
      " 80%|████████████████████████████████████████████████████████████████████████████████████████████▍                      | 201/250 [00:10<00:02, 23.81it/s]"
     ]
    },
    {
     "name": "stdout",
     "output_type": "stream",
     "text": [
      "--- Validation --- [threshold, AUC, Accuracy, F score] =  [np.float64(0.627), np.float64(0.953), np.float64(0.894), np.float64(0.912)]\n",
      "--- Training --- [threshold, AUC] =  [np.float64(0.633), np.float64(0.953)]\n",
      "--- Iteration 210: Training loss --- [Data, Label, Total] = [6504.558746.3, 376.864307.3, 32899.658039.3]\n",
      "!!! pred_type filter\n"
     ]
    },
    {
     "name": "stderr",
     "output_type": "stream",
     "text": [
      " 84%|█████████████████████████████████████████████████████████████████████████████████████████████████                  | 211/250 [00:10<00:01, 24.84it/s]"
     ]
    },
    {
     "name": "stdout",
     "output_type": "stream",
     "text": [
      "--- Validation --- [threshold, AUC, Accuracy, F score] =  [np.float64(0.633), np.float64(0.953), np.float64(0.894), np.float64(0.912)]\n",
      "--- Training --- [threshold, AUC] =  [np.float64(0.63), np.float64(0.953)]\n",
      "--- Iteration 220: Training loss --- [Data, Label, Total] = [6497.958731.3, 376.722805.3, 32866.516457.3]\n",
      "!!! pred_type filter\n"
     ]
    },
    {
     "name": "stderr",
     "output_type": "stream",
     "text": [
      " 88%|█████████████████████████████████████████████████████████████████████████████████████████████████████▋             | 221/250 [00:10<00:01, 25.49it/s]"
     ]
    },
    {
     "name": "stdout",
     "output_type": "stream",
     "text": [
      "--- Validation --- [threshold, AUC, Accuracy, F score] =  [np.float64(0.63), np.float64(0.953), np.float64(0.895), np.float64(0.912)]\n",
      "--- Training --- [threshold, AUC] =  [np.float64(0.63), np.float64(0.953)]\n",
      "--- Iteration 230: Training loss --- [Data, Label, Total] = [6490.115644.3, 376.176185.3, 32826.754402.3]\n",
      "!!! pred_type filter\n"
     ]
    },
    {
     "name": "stderr",
     "output_type": "stream",
     "text": [
      " 92%|██████████████████████████████████████████████████████████████████████████████████████████████████████████▎        | 231/250 [00:11<00:00, 25.97it/s]"
     ]
    },
    {
     "name": "stdout",
     "output_type": "stream",
     "text": [
      "--- Validation --- [threshold, AUC, Accuracy, F score] =  [np.float64(0.63), np.float64(0.953), np.float64(0.895), np.float64(0.912)]\n",
      "--- Training --- [threshold, AUC] =  [np.float64(0.633), np.float64(0.953)]\n",
      "--- Iteration 240: Training loss --- [Data, Label, Total] = [6480.658368.3, 375.785034.3, 32779.076874.3]\n",
      "!!! pred_type filter\n"
     ]
    },
    {
     "name": "stderr",
     "output_type": "stream",
     "text": [
      "100%|███████████████████████████████████████████████████████████████████████████████████████████████████████████████████| 250/250 [00:11<00:00, 21.56it/s]"
     ]
    },
    {
     "name": "stdout",
     "output_type": "stream",
     "text": [
      "--- Validation --- [threshold, AUC, Accuracy, F score] =  [np.float64(0.633), np.float64(0.953), np.float64(0.894), np.float64(0.912)]\n",
      "!!! pred_type filter\n"
     ]
    },
    {
     "name": "stderr",
     "output_type": "stream",
     "text": [
      "\n"
     ]
    },
    {
     "name": "stdout",
     "output_type": "stream",
     "text": [
      "num of subgraphs induced on k-paths: 500\n",
      "num of subgraphs induced on k-paths: 500\n",
      "X_list: (144, 1000)\n",
      "2\n",
      "(1, 500)\n",
      "(1, 500)\n",
      "label_vec: (1, 1000)\n",
      "num of subgraphs induced on k-paths: 500\n",
      "num of subgraphs induced on k-paths: 500\n",
      "X_list: (144, 1000)\n",
      "2\n",
      "(1, 500)\n",
      "(1, 500)\n",
      "label_vec: (1, 1000)\n",
      "13\n",
      "num of subgraphs induced on k-paths: 500\n",
      "num of subgraphs induced on k-paths: 500\n",
      "X_list: (169, 1000)\n",
      "2\n",
      "(1, 500)\n",
      "(1, 500)\n",
      "label_vec: (1, 1000)\n",
      "num of subgraphs induced on k-paths: 500\n",
      "num of subgraphs induced on k-paths: 785\n",
      "X_list: (169, 1285)\n",
      "2\n",
      "(1, 500)\n",
      "(1, 785)\n",
      "label_vec: (1, 1285)\n",
      "initial loading beta [[ 0.55529096 -0.18738425  0.2259881  -0.06996353 -0.80620291  0.67829611\n",
      "  -0.97527646 -0.51358435  0.09144472  0.74555574 -0.00598198  0.82869216\n",
      "   0.90807302 -0.54168357 -0.733599    0.51452961  0.93327906]]\n"
     ]
    },
    {
     "name": "stderr",
     "output_type": "stream",
     "text": [
      "  0%|                                                                                                                             | 0/250 [00:00<?, ?it/s]"
     ]
    },
    {
     "name": "stdout",
     "output_type": "stream",
     "text": [
      "--- Training --- [threshold, AUC] =  [np.float64(0.695), np.float64(0.945)]\n",
      "--- Iteration 0: Training loss --- [Data, Label, Total] = [21772.536240.3, 412.925848.3, 109275.607049.3]\n",
      "--- Training --- [threshold, AUC] =  [np.float64(0.719), np.float64(0.949)]\n",
      "--- Iteration 10: Training loss --- [Data, Label, Total] = [12460.388795.3, 398.044959.3, 62699.988935.3]\n",
      "!!! pred_type filter\n"
     ]
    },
    {
     "name": "stderr",
     "output_type": "stream",
     "text": [
      "  4%|█████                                                                                                               | 11/250 [00:00<00:11, 21.59it/s]"
     ]
    },
    {
     "name": "stdout",
     "output_type": "stream",
     "text": [
      "--- Validation --- [threshold, AUC, Accuracy, F score] =  [np.float64(0.719), np.float64(0.949), np.float64(0.871), np.float64(0.888)]\n",
      "--- Training --- [threshold, AUC] =  [np.float64(0.687), np.float64(0.952)]\n",
      "--- Iteration 20: Training loss --- [Data, Label, Total] = [10963.989686.3, 389.529823.3, 55209.478254.3]\n",
      "!!! pred_type filter\n"
     ]
    },
    {
     "name": "stderr",
     "output_type": "stream",
     "text": [
      "  8%|█████████▋                                                                                                          | 21/250 [00:00<00:10, 22.12it/s]"
     ]
    },
    {
     "name": "stdout",
     "output_type": "stream",
     "text": [
      "--- Validation --- [threshold, AUC, Accuracy, F score] =  [np.float64(0.687), np.float64(0.952), np.float64(0.885), np.float64(0.903)]\n",
      "--- Training --- [threshold, AUC] =  [np.float64(0.709), np.float64(0.951)]\n",
      "--- Iteration 30: Training loss --- [Data, Label, Total] = [10328.674541.3, 392.305884.3, 52035.678586.3]\n",
      "!!! pred_type filter\n"
     ]
    },
    {
     "name": "stderr",
     "output_type": "stream",
     "text": [
      " 12%|██████████████▍                                                                                                     | 31/250 [00:01<00:09, 22.20it/s]"
     ]
    },
    {
     "name": "stdout",
     "output_type": "stream",
     "text": [
      "--- Validation --- [threshold, AUC, Accuracy, F score] =  [np.float64(0.709), np.float64(0.951), np.float64(0.885), np.float64(0.901)]\n",
      "--- Training --- [threshold, AUC] =  [np.float64(0.702), np.float64(0.951)]\n",
      "--- Iteration 40: Training loss --- [Data, Label, Total] = [10018.311620.3, 393.691905.3, 50485.250005.3]\n",
      "!!! pred_type filter\n"
     ]
    },
    {
     "name": "stderr",
     "output_type": "stream",
     "text": [
      " 16%|███████████████████                                                                                                 | 41/250 [00:01<00:09, 21.59it/s]"
     ]
    },
    {
     "name": "stdout",
     "output_type": "stream",
     "text": [
      "--- Validation --- [threshold, AUC, Accuracy, F score] =  [np.float64(0.702), np.float64(0.951), np.float64(0.89), np.float64(0.906)]\n",
      "--- Training --- [threshold, AUC] =  [np.float64(0.713), np.float64(0.952)]\n",
      "--- Iteration 50: Training loss --- [Data, Label, Total] = [9829.766704.3, 392.921035.3, 49541.754557.3]\n",
      "!!! pred_type filter\n"
     ]
    },
    {
     "name": "stderr",
     "output_type": "stream",
     "text": [
      " 20%|███████████████████████▋                                                                                            | 51/250 [00:02<00:09, 21.22it/s]"
     ]
    },
    {
     "name": "stdout",
     "output_type": "stream",
     "text": [
      "--- Validation --- [threshold, AUC, Accuracy, F score] =  [np.float64(0.713), np.float64(0.952), np.float64(0.889), np.float64(0.905)]\n",
      "--- Training --- [threshold, AUC] =  [np.float64(0.716), np.float64(0.953)]\n",
      "--- Iteration 60: Training loss --- [Data, Label, Total] = [9669.614820.3, 390.588862.3, 48738.662962.3]\n",
      "!!! pred_type filter\n"
     ]
    },
    {
     "name": "stderr",
     "output_type": "stream",
     "text": [
      " 24%|████████████████████████████▎                                                                                       | 61/250 [00:02<00:08, 21.42it/s]"
     ]
    },
    {
     "name": "stdout",
     "output_type": "stream",
     "text": [
      "--- Validation --- [threshold, AUC, Accuracy, F score] =  [np.float64(0.716), np.float64(0.953), np.float64(0.888), np.float64(0.904)]\n",
      "--- Training --- [threshold, AUC] =  [np.float64(0.706), np.float64(0.953)]\n",
      "--- Iteration 70: Training loss --- [Data, Label, Total] = [9523.928535.3, 387.603709.3, 48007.246384.3]\n",
      "!!! pred_type filter\n"
     ]
    },
    {
     "name": "stderr",
     "output_type": "stream",
     "text": [
      " 28%|████████████████████████████████▉                                                                                   | 71/250 [00:03<00:08, 21.56it/s]"
     ]
    },
    {
     "name": "stdout",
     "output_type": "stream",
     "text": [
      "--- Validation --- [threshold, AUC, Accuracy, F score] =  [np.float64(0.706), np.float64(0.953), np.float64(0.888), np.float64(0.904)]\n",
      "--- Training --- [threshold, AUC] =  [np.float64(0.688), np.float64(0.954)]\n",
      "--- Iteration 80: Training loss --- [Data, Label, Total] = [9404.976861.3, 385.774024.3, 47410.658327.3]\n",
      "!!! pred_type filter\n"
     ]
    },
    {
     "name": "stderr",
     "output_type": "stream",
     "text": [
      " 32%|█████████████████████████████████████▌                                                                              | 81/250 [00:03<00:07, 21.86it/s]"
     ]
    },
    {
     "name": "stdout",
     "output_type": "stream",
     "text": [
      "--- Validation --- [threshold, AUC, Accuracy, F score] =  [np.float64(0.688), np.float64(0.954), np.float64(0.892), np.float64(0.908)]\n",
      "--- Training --- [threshold, AUC] =  [np.float64(0.703), np.float64(0.954)]\n",
      "--- Iteration 90: Training loss --- [Data, Label, Total] = [9311.439062.3, 384.450004.3, 46941.645315.3]\n",
      "!!! pred_type filter\n"
     ]
    },
    {
     "name": "stderr",
     "output_type": "stream",
     "text": [
      " 36%|██████████████████████████████████████████▏                                                                         | 91/250 [00:04<00:07, 19.95it/s]"
     ]
    },
    {
     "name": "stdout",
     "output_type": "stream",
     "text": [
      "--- Validation --- [threshold, AUC, Accuracy, F score] =  [np.float64(0.703), np.float64(0.954), np.float64(0.891), np.float64(0.907)]\n",
      "--- Training --- [threshold, AUC] =  [np.float64(0.714), np.float64(0.955)]\n",
      "--- Iteration 100: Training loss --- [Data, Label, Total] = [9232.425824.3, 383.593940.3, 46545.723060.3]\n",
      "!!! pred_type filter\n"
     ]
    },
    {
     "name": "stderr",
     "output_type": "stream",
     "text": [
      " 40%|██████████████████████████████████████████████▍                                                                    | 101/250 [00:04<00:07, 20.61it/s]"
     ]
    },
    {
     "name": "stdout",
     "output_type": "stream",
     "text": [
      "--- Validation --- [threshold, AUC, Accuracy, F score] =  [np.float64(0.714), np.float64(0.955), np.float64(0.89), np.float64(0.906)]\n",
      "--- Training --- [threshold, AUC] =  [np.float64(0.719), np.float64(0.955)]\n",
      "--- Iteration 110: Training loss --- [Data, Label, Total] = [9160.006327.3, 382.392815.3, 46182.424450.3]\n",
      "!!! pred_type filter\n"
     ]
    },
    {
     "name": "stderr",
     "output_type": "stream",
     "text": [
      " 44%|███████████████████████████████████████████████████                                                                | 111/250 [00:05<00:06, 20.89it/s]"
     ]
    },
    {
     "name": "stdout",
     "output_type": "stream",
     "text": [
      "--- Validation --- [threshold, AUC, Accuracy, F score] =  [np.float64(0.719), np.float64(0.955), np.float64(0.889), np.float64(0.905)]\n",
      "--- Training --- [threshold, AUC] =  [np.float64(0.718), np.float64(0.955)]\n",
      "--- Iteration 120: Training loss --- [Data, Label, Total] = [9091.034057.3, 381.311443.3, 45836.481726.3]\n",
      "!!! pred_type filter\n"
     ]
    },
    {
     "name": "stderr",
     "output_type": "stream",
     "text": [
      " 48%|███████████████████████████████████████████████████████▋                                                           | 121/250 [00:05<00:05, 21.67it/s]"
     ]
    },
    {
     "name": "stdout",
     "output_type": "stream",
     "text": [
      "--- Validation --- [threshold, AUC, Accuracy, F score] =  [np.float64(0.718), np.float64(0.955), np.float64(0.89), np.float64(0.906)]\n",
      "--- Training --- [threshold, AUC] =  [np.float64(0.737), np.float64(0.956)]\n",
      "--- Iteration 130: Training loss --- [Data, Label, Total] = [9022.823295.3, 380.844444.3, 45494.960920.3]\n",
      "!!! pred_type filter\n"
     ]
    },
    {
     "name": "stderr",
     "output_type": "stream",
     "text": [
      " 52%|████████████████████████████████████████████████████████████▎                                                      | 131/250 [00:06<00:05, 21.71it/s]"
     ]
    },
    {
     "name": "stdout",
     "output_type": "stream",
     "text": [
      "--- Validation --- [threshold, AUC, Accuracy, F score] =  [np.float64(0.737), np.float64(0.956), np.float64(0.888), np.float64(0.903)]\n",
      "--- Training --- [threshold, AUC] =  [np.float64(0.708), np.float64(0.956)]\n",
      "--- Iteration 140: Training loss --- [Data, Label, Total] = [8951.510764.3, 380.550891.3, 45138.104713.3]\n",
      "!!! pred_type filter\n"
     ]
    },
    {
     "name": "stderr",
     "output_type": "stream",
     "text": [
      " 56%|████████████████████████████████████████████████████████████████▊                                                  | 141/250 [00:06<00:04, 22.46it/s]"
     ]
    },
    {
     "name": "stdout",
     "output_type": "stream",
     "text": [
      "--- Validation --- [threshold, AUC, Accuracy, F score] =  [np.float64(0.708), np.float64(0.956), np.float64(0.89), np.float64(0.906)]\n",
      "--- Training --- [threshold, AUC] =  [np.float64(0.71), np.float64(0.956)]\n",
      "--- Iteration 150: Training loss --- [Data, Label, Total] = [8873.538002.3, 380.478120.3, 44748.168131.3]\n",
      "!!! pred_type filter\n"
     ]
    },
    {
     "name": "stderr",
     "output_type": "stream",
     "text": [
      " 60%|█████████████████████████████████████████████████████████████████████▍                                             | 151/250 [00:06<00:04, 22.84it/s]"
     ]
    },
    {
     "name": "stdout",
     "output_type": "stream",
     "text": [
      "--- Validation --- [threshold, AUC, Accuracy, F score] =  [np.float64(0.71), np.float64(0.956), np.float64(0.889), np.float64(0.905)]\n",
      "--- Training --- [threshold, AUC] =  [np.float64(0.719), np.float64(0.956)]\n",
      "--- Iteration 160: Training loss --- [Data, Label, Total] = [8789.274363.3, 380.686455.3, 44327.058268.3]\n",
      "!!! pred_type filter\n"
     ]
    },
    {
     "name": "stderr",
     "output_type": "stream",
     "text": [
      " 64%|██████████████████████████████████████████████████████████████████████████                                         | 161/250 [00:07<00:04, 20.06it/s]"
     ]
    },
    {
     "name": "stdout",
     "output_type": "stream",
     "text": [
      "--- Validation --- [threshold, AUC, Accuracy, F score] =  [np.float64(0.719), np.float64(0.956), np.float64(0.889), np.float64(0.904)]\n",
      "--- Training --- [threshold, AUC] =  [np.float64(0.72), np.float64(0.956)]\n",
      "--- Iteration 170: Training loss --- [Data, Label, Total] = [8705.990609.3, 381.155634.3, 43911.108677.3]\n",
      "!!! pred_type filter\n"
     ]
    },
    {
     "name": "stderr",
     "output_type": "stream",
     "text": [
      " 68%|██████████████████████████████████████████████████████████████████████████████▋                                    | 171/250 [00:08<00:03, 20.49it/s]"
     ]
    },
    {
     "name": "stdout",
     "output_type": "stream",
     "text": [
      "--- Validation --- [threshold, AUC, Accuracy, F score] =  [np.float64(0.72), np.float64(0.956), np.float64(0.886), np.float64(0.902)]\n",
      "--- Training --- [threshold, AUC] =  [np.float64(0.668), np.float64(0.956)]\n",
      "--- Iteration 180: Training loss --- [Data, Label, Total] = [8630.701977.3, 381.869594.3, 43535.379480.3]\n",
      "!!! pred_type filter\n"
     ]
    },
    {
     "name": "stderr",
     "output_type": "stream",
     "text": [
      " 72%|███████████████████████████████████████████████████████████████████████████████████▎                               | 181/250 [00:08<00:03, 21.20it/s]"
     ]
    },
    {
     "name": "stdout",
     "output_type": "stream",
     "text": [
      "--- Validation --- [threshold, AUC, Accuracy, F score] =  [np.float64(0.668), np.float64(0.956), np.float64(0.894), np.float64(0.911)]\n",
      "--- Training --- [threshold, AUC] =  [np.float64(0.676), np.float64(0.956)]\n",
      "--- Iteration 190: Training loss --- [Data, Label, Total] = [8567.057175.3, 382.329034.3, 43217.614908.3]\n",
      "!!! pred_type filter\n"
     ]
    },
    {
     "name": "stderr",
     "output_type": "stream",
     "text": [
      " 78%|██████████████████████████████████████████████████████████████████████████████████████████▏                        | 196/250 [00:09<00:02, 22.13it/s]"
     ]
    },
    {
     "name": "stdout",
     "output_type": "stream",
     "text": [
      "--- Validation --- [threshold, AUC, Accuracy, F score] =  [np.float64(0.676), np.float64(0.956), np.float64(0.895), np.float64(0.911)]\n",
      "--- Training --- [threshold, AUC] =  [np.float64(0.685), np.float64(0.955)]\n",
      "--- Iteration 200: Training loss --- [Data, Label, Total] = [8513.065004.3, 382.977901.3, 42948.302922.3]\n",
      "!!! pred_type filter\n"
     ]
    },
    {
     "name": "stderr",
     "output_type": "stream",
     "text": [
      " 80%|████████████████████████████████████████████████████████████████████████████████████████████▍                      | 201/250 [00:09<00:02, 19.10it/s]"
     ]
    },
    {
     "name": "stdout",
     "output_type": "stream",
     "text": [
      "--- Validation --- [threshold, AUC, Accuracy, F score] =  [np.float64(0.685), np.float64(0.955), np.float64(0.893), np.float64(0.909)]\n",
      "--- Training --- [threshold, AUC] =  [np.float64(0.686), np.float64(0.955)]\n",
      "--- Iteration 210: Training loss --- [Data, Label, Total] = [8465.539052.3, 383.648477.3, 42711.343735.3]\n",
      "!!! pred_type filter\n"
     ]
    },
    {
     "name": "stderr",
     "output_type": "stream",
     "text": [
      " 88%|████████████████████████████████████████████████████████████████████████████████████████████████████▋              | 219/250 [00:10<00:01, 20.01it/s]"
     ]
    },
    {
     "name": "stdout",
     "output_type": "stream",
     "text": [
      "--- Validation --- [threshold, AUC, Accuracy, F score] =  [np.float64(0.686), np.float64(0.955), np.float64(0.893), np.float64(0.909)]\n",
      "--- Training --- [threshold, AUC] =  [np.float64(0.689), np.float64(0.955)]\n",
      "--- Iteration 220: Training loss --- [Data, Label, Total] = [8421.336873.3, 384.245685.3, 42490.930049.3]\n",
      "!!! pred_type filter\n"
     ]
    },
    {
     "name": "stderr",
     "output_type": "stream",
     "text": [
      " 89%|██████████████████████████████████████████████████████████████████████████████████████████████████████▌            | 223/250 [00:10<00:01, 17.07it/s]"
     ]
    },
    {
     "name": "stdout",
     "output_type": "stream",
     "text": [
      "--- Validation --- [threshold, AUC, Accuracy, F score] =  [np.float64(0.689), np.float64(0.955), np.float64(0.892), np.float64(0.908)]\n",
      "--- Training --- [threshold, AUC] =  [np.float64(0.685), np.float64(0.955)]\n",
      "--- Iteration 230: Training loss --- [Data, Label, Total] = [8379.435869.3, 384.945345.3, 42282.124690.3]\n",
      "!!! pred_type filter\n"
     ]
    },
    {
     "name": "stderr",
     "output_type": "stream",
     "text": [
      " 92%|██████████████████████████████████████████████████████████████████████████████████████████████████████████▎        | 231/250 [00:11<00:01, 16.88it/s]"
     ]
    },
    {
     "name": "stdout",
     "output_type": "stream",
     "text": [
      "--- Validation --- [threshold, AUC, Accuracy, F score] =  [np.float64(0.685), np.float64(0.955), np.float64(0.893), np.float64(0.909)]\n",
      "--- Training --- [threshold, AUC] =  [np.float64(0.684), np.float64(0.955)]\n",
      "--- Iteration 240: Training loss --- [Data, Label, Total] = [8340.131228.3, 385.697418.3, 42086.353557.3]\n",
      "!!! pred_type filter\n"
     ]
    },
    {
     "name": "stderr",
     "output_type": "stream",
     "text": [
      "100%|███████████████████████████████████████████████████████████████████████████████████████████████████████████████████| 250/250 [00:11<00:00, 20.92it/s]"
     ]
    },
    {
     "name": "stdout",
     "output_type": "stream",
     "text": [
      "--- Validation --- [threshold, AUC, Accuracy, F score] =  [np.float64(0.684), np.float64(0.955), np.float64(0.892), np.float64(0.908)]\n",
      "!!! pred_type filter\n"
     ]
    },
    {
     "name": "stderr",
     "output_type": "stream",
     "text": [
      "\n"
     ]
    },
    {
     "name": "stdout",
     "output_type": "stream",
     "text": [
      "num of subgraphs induced on k-paths: 500\n",
      "num of subgraphs induced on k-paths: 500\n",
      "X_list: (169, 1000)\n",
      "2\n",
      "(1, 500)\n",
      "(1, 500)\n",
      "label_vec: (1, 1000)\n",
      "num of subgraphs induced on k-paths: 500\n",
      "num of subgraphs induced on k-paths: 500\n",
      "X_list: (169, 1000)\n",
      "2\n",
      "(1, 500)\n",
      "(1, 500)\n",
      "label_vec: (1, 1000)\n",
      "14\n",
      "num of subgraphs induced on k-paths: 500\n",
      "num of subgraphs induced on k-paths: 500\n",
      "X_list: (196, 1000)\n",
      "2\n",
      "(1, 500)\n",
      "(1, 500)\n",
      "label_vec: (1, 1000)\n",
      "num of subgraphs induced on k-paths: 500\n",
      "num of subgraphs induced on k-paths: 826\n",
      "X_list: (196, 1326)\n",
      "2\n",
      "(1, 500)\n",
      "(1, 826)\n",
      "label_vec: (1, 1326)\n",
      "initial loading beta [[-0.09681842  0.58486387 -0.18737133  0.17735916 -0.66684637 -0.11140984\n",
      "  -0.69174413  0.31468891  0.42341248 -0.73937568  0.57383429  0.93569312\n",
      "   0.39161663 -0.18943931  0.63160722 -0.27601032  0.34679247]]\n"
     ]
    },
    {
     "name": "stderr",
     "output_type": "stream",
     "text": [
      "  1%|▉                                                                                                                    | 2/250 [00:00<00:13, 18.57it/s]"
     ]
    },
    {
     "name": "stdout",
     "output_type": "stream",
     "text": [
      "--- Training --- [threshold, AUC] =  [np.float64(0.695), np.float64(0.944)]\n",
      "--- Iteration 0: Training loss --- [Data, Label, Total] = [25643.174878.3, 418.901969.3, 128634.776362.3]\n",
      "--- Training --- [threshold, AUC] =  [np.float64(0.772), np.float64(0.949)]\n",
      "--- Iteration 10: Training loss --- [Data, Label, Total] = [15203.352800.3, 401.372767.3, 76418.136769.3]\n",
      "!!! pred_type filter\n"
     ]
    },
    {
     "name": "stderr",
     "output_type": "stream",
     "text": [
      "  4%|█████                                                                                                               | 11/250 [00:00<00:13, 17.10it/s]"
     ]
    },
    {
     "name": "stdout",
     "output_type": "stream",
     "text": [
      "--- Validation --- [threshold, AUC, Accuracy, F score] =  [np.float64(0.772), np.float64(0.949), np.float64(0.871), np.float64(0.888)]\n",
      "--- Training --- [threshold, AUC] =  [np.float64(0.722), np.float64(0.951)]\n",
      "--- Iteration 20: Training loss --- [Data, Label, Total] = [13787.844110.3, 392.233509.3, 69331.454058.3]\n",
      "!!! pred_type filter\n"
     ]
    },
    {
     "name": "stderr",
     "output_type": "stream",
     "text": [
      "  8%|█████████▋                                                                                                          | 21/250 [00:01<00:12, 18.57it/s]"
     ]
    },
    {
     "name": "stdout",
     "output_type": "stream",
     "text": [
      "--- Validation --- [threshold, AUC, Accuracy, F score] =  [np.float64(0.722), np.float64(0.951), np.float64(0.884), np.float64(0.902)]\n",
      "--- Training --- [threshold, AUC] =  [np.float64(0.692), np.float64(0.952)]\n",
      "--- Iteration 30: Training loss --- [Data, Label, Total] = [13174.879597.3, 389.513865.3, 66263.911852.3]\n",
      "!!! pred_type filter\n"
     ]
    },
    {
     "name": "stderr",
     "output_type": "stream",
     "text": [
      " 12%|██████████████▍                                                                                                     | 31/250 [00:01<00:11, 18.84it/s]"
     ]
    },
    {
     "name": "stdout",
     "output_type": "stream",
     "text": [
      "--- Validation --- [threshold, AUC, Accuracy, F score] =  [np.float64(0.692), np.float64(0.952), np.float64(0.889), np.float64(0.908)]\n",
      "--- Training --- [threshold, AUC] =  [np.float64(0.714), np.float64(0.953)]\n",
      "--- Iteration 40: Training loss --- [Data, Label, Total] = [12660.281484.3, 388.951571.3, 63690.358991.3]\n",
      "!!! pred_type filter\n"
     ]
    },
    {
     "name": "stderr",
     "output_type": "stream",
     "text": [
      " 16%|███████████████████                                                                                                 | 41/250 [00:02<00:10, 19.54it/s]"
     ]
    },
    {
     "name": "stdout",
     "output_type": "stream",
     "text": [
      "--- Validation --- [threshold, AUC, Accuracy, F score] =  [np.float64(0.714), np.float64(0.953), np.float64(0.888), np.float64(0.907)]\n",
      "--- Training --- [threshold, AUC] =  [np.float64(0.747), np.float64(0.953)]\n",
      "--- Iteration 50: Training loss --- [Data, Label, Total] = [12223.951753.3, 389.162312.3, 61508.921078.3]\n",
      "!!! pred_type filter\n"
     ]
    },
    {
     "name": "stderr",
     "output_type": "stream",
     "text": [
      " 20%|███████████████████████▋                                                                                            | 51/250 [00:02<00:10, 19.65it/s]"
     ]
    },
    {
     "name": "stdout",
     "output_type": "stream",
     "text": [
      "--- Validation --- [threshold, AUC, Accuracy, F score] =  [np.float64(0.747), np.float64(0.953), np.float64(0.885), np.float64(0.902)]\n",
      "--- Training --- [threshold, AUC] =  [np.float64(0.741), np.float64(0.953)]\n",
      "--- Iteration 60: Training loss --- [Data, Label, Total] = [11946.321016.3, 389.278599.3, 60120.883680.3]\n",
      "!!! pred_type filter\n"
     ]
    },
    {
     "name": "stderr",
     "output_type": "stream",
     "text": [
      " 24%|████████████████████████████▎                                                                                       | 61/250 [00:03<00:09, 20.10it/s]"
     ]
    },
    {
     "name": "stdout",
     "output_type": "stream",
     "text": [
      "--- Validation --- [threshold, AUC, Accuracy, F score] =  [np.float64(0.741), np.float64(0.953), np.float64(0.888), np.float64(0.905)]\n",
      "--- Training --- [threshold, AUC] =  [np.float64(0.737), np.float64(0.953)]\n",
      "--- Iteration 70: Training loss --- [Data, Label, Total] = [11763.445347.3, 389.309155.3, 59206.535892.3]\n",
      "!!! pred_type filter\n"
     ]
    },
    {
     "name": "stderr",
     "output_type": "stream",
     "text": [
      " 28%|████████████████████████████████▉                                                                                   | 71/250 [00:03<00:08, 20.68it/s]"
     ]
    },
    {
     "name": "stdout",
     "output_type": "stream",
     "text": [
      "--- Validation --- [threshold, AUC, Accuracy, F score] =  [np.float64(0.737), np.float64(0.953), np.float64(0.887), np.float64(0.905)]\n",
      "--- Training --- [threshold, AUC] =  [np.float64(0.723), np.float64(0.953)]\n",
      "--- Iteration 80: Training loss --- [Data, Label, Total] = [11640.059360.3, 389.435037.3, 58589.731838.3]\n",
      "!!! pred_type filter\n"
     ]
    },
    {
     "name": "stderr",
     "output_type": "stream",
     "text": [
      " 32%|█████████████████████████████████████▌                                                                              | 81/250 [00:04<00:07, 21.22it/s]"
     ]
    },
    {
     "name": "stdout",
     "output_type": "stream",
     "text": [
      "--- Validation --- [threshold, AUC, Accuracy, F score] =  [np.float64(0.723), np.float64(0.953), np.float64(0.888), np.float64(0.907)]\n",
      "--- Training --- [threshold, AUC] =  [np.float64(0.723), np.float64(0.953)]\n",
      "--- Iteration 90: Training loss --- [Data, Label, Total] = [11558.101178.3, 389.635739.3, 58180.141630.3]\n",
      "!!! pred_type filter\n"
     ]
    },
    {
     "name": "stderr",
     "output_type": "stream",
     "text": [
      " 36%|██████████████████████████████████████████▏                                                                         | 91/250 [00:04<00:07, 21.75it/s]"
     ]
    },
    {
     "name": "stdout",
     "output_type": "stream",
     "text": [
      "--- Validation --- [threshold, AUC, Accuracy, F score] =  [np.float64(0.723), np.float64(0.953), np.float64(0.888), np.float64(0.907)]\n",
      "--- Training --- [threshold, AUC] =  [np.float64(0.729), np.float64(0.953)]\n",
      "--- Iteration 100: Training loss --- [Data, Label, Total] = [11502.862553.3, 389.839930.3, 57904.152694.3]\n",
      "!!! pred_type filter\n"
     ]
    },
    {
     "name": "stderr",
     "output_type": "stream",
     "text": [
      " 40%|██████████████████████████████████████████████▍                                                                    | 101/250 [00:04<00:06, 22.17it/s]"
     ]
    },
    {
     "name": "stdout",
     "output_type": "stream",
     "text": [
      "--- Validation --- [threshold, AUC, Accuracy, F score] =  [np.float64(0.729), np.float64(0.953), np.float64(0.888), np.float64(0.906)]\n",
      "--- Training --- [threshold, AUC] =  [np.float64(0.759), np.float64(0.953)]\n",
      "--- Iteration 110: Training loss --- [Data, Label, Total] = [11461.255960.3, 390.048143.3, 57696.327941.3]\n",
      "!!! pred_type filter\n"
     ]
    },
    {
     "name": "stderr",
     "output_type": "stream",
     "text": [
      " 44%|███████████████████████████████████████████████████                                                                | 111/250 [00:05<00:06, 22.45it/s]"
     ]
    },
    {
     "name": "stdout",
     "output_type": "stream",
     "text": [
      "--- Validation --- [threshold, AUC, Accuracy, F score] =  [np.float64(0.759), np.float64(0.953), np.float64(0.884), np.float64(0.901)]\n",
      "--- Training --- [threshold, AUC] =  [np.float64(0.76), np.float64(0.953)]\n",
      "--- Iteration 120: Training loss --- [Data, Label, Total] = [11421.544526.3, 389.997984.3, 57497.720615.3]\n",
      "!!! pred_type filter\n"
     ]
    },
    {
     "name": "stderr",
     "output_type": "stream",
     "text": [
      " 48%|███████████████████████████████████████████████████████▋                                                           | 121/250 [00:05<00:05, 22.43it/s]"
     ]
    },
    {
     "name": "stdout",
     "output_type": "stream",
     "text": [
      "--- Validation --- [threshold, AUC, Accuracy, F score] =  [np.float64(0.76), np.float64(0.953), np.float64(0.883), np.float64(0.9)]\n",
      "--- Training --- [threshold, AUC] =  [np.float64(0.735), np.float64(0.953)]\n",
      "--- Iteration 130: Training loss --- [Data, Label, Total] = [11369.235611.3, 389.752969.3, 57235.931024.3]\n",
      "!!! pred_type filter\n"
     ]
    },
    {
     "name": "stderr",
     "output_type": "stream",
     "text": [
      " 52%|████████████████████████████████████████████████████████████▎                                                      | 131/250 [00:06<00:05, 22.43it/s]"
     ]
    },
    {
     "name": "stdout",
     "output_type": "stream",
     "text": [
      "--- Validation --- [threshold, AUC, Accuracy, F score] =  [np.float64(0.735), np.float64(0.953), np.float64(0.888), np.float64(0.906)]\n",
      "--- Training --- [threshold, AUC] =  [np.float64(0.744), np.float64(0.953)]\n",
      "--- Iteration 140: Training loss --- [Data, Label, Total] = [11294.049945.3, 389.382035.3, 56859.631759.3]\n",
      "!!! pred_type filter\n"
     ]
    },
    {
     "name": "stderr",
     "output_type": "stream",
     "text": [
      " 56%|████████████████████████████████████████████████████████████████▊                                                  | 141/250 [00:06<00:04, 22.29it/s]"
     ]
    },
    {
     "name": "stdout",
     "output_type": "stream",
     "text": [
      "--- Validation --- [threshold, AUC, Accuracy, F score] =  [np.float64(0.744), np.float64(0.953), np.float64(0.888), np.float64(0.905)]\n",
      "--- Training --- [threshold, AUC] =  [np.float64(0.743), np.float64(0.953)]\n",
      "--- Iteration 150: Training loss --- [Data, Label, Total] = [11196.948753.3, 389.298394.3, 56374.042156.3]\n",
      "!!! pred_type filter\n"
     ]
    },
    {
     "name": "stderr",
     "output_type": "stream",
     "text": [
      " 60%|█████████████████████████████████████████████████████████████████████▍                                             | 151/250 [00:07<00:04, 22.21it/s]"
     ]
    },
    {
     "name": "stdout",
     "output_type": "stream",
     "text": [
      "--- Validation --- [threshold, AUC, Accuracy, F score] =  [np.float64(0.743), np.float64(0.953), np.float64(0.89), np.float64(0.907)]\n",
      "--- Training --- [threshold, AUC] =  [np.float64(0.745), np.float64(0.953)]\n",
      "--- Iteration 160: Training loss --- [Data, Label, Total] = [11086.171008.3, 389.480747.3, 55820.335789.3]\n",
      "!!! pred_type filter\n"
     ]
    },
    {
     "name": "stderr",
     "output_type": "stream",
     "text": [
      " 64%|██████████████████████████████████████████████████████████████████████████                                         | 161/250 [00:07<00:04, 21.97it/s]"
     ]
    },
    {
     "name": "stdout",
     "output_type": "stream",
     "text": [
      "--- Validation --- [threshold, AUC, Accuracy, F score] =  [np.float64(0.745), np.float64(0.953), np.float64(0.888), np.float64(0.905)]\n",
      "--- Training --- [threshold, AUC] =  [np.float64(0.742), np.float64(0.953)]\n",
      "--- Iteration 170: Training loss --- [Data, Label, Total] = [10975.825236.3, 389.830380.3, 55268.956559.3]\n",
      "!!! pred_type filter\n"
     ]
    },
    {
     "name": "stderr",
     "output_type": "stream",
     "text": [
      " 68%|██████████████████████████████████████████████████████████████████████████████▋                                    | 171/250 [00:08<00:03, 21.77it/s]"
     ]
    },
    {
     "name": "stdout",
     "output_type": "stream",
     "text": [
      "--- Validation --- [threshold, AUC, Accuracy, F score] =  [np.float64(0.742), np.float64(0.953), np.float64(0.888), np.float64(0.905)]\n",
      "--- Training --- [threshold, AUC] =  [np.float64(0.728), np.float64(0.953)]\n",
      "--- Iteration 180: Training loss --- [Data, Label, Total] = [10877.675864.3, 390.334137.3, 54778.713458.3]\n",
      "!!! pred_type filter\n"
     ]
    },
    {
     "name": "stderr",
     "output_type": "stream",
     "text": [
      " 72%|███████████████████████████████████████████████████████████████████████████████████▎                               | 181/250 [00:08<00:03, 20.93it/s]"
     ]
    },
    {
     "name": "stdout",
     "output_type": "stream",
     "text": [
      "--- Validation --- [threshold, AUC, Accuracy, F score] =  [np.float64(0.728), np.float64(0.953), np.float64(0.888), np.float64(0.905)]\n",
      "--- Training --- [threshold, AUC] =  [np.float64(0.736), np.float64(0.953)]\n",
      "--- Iteration 190: Training loss --- [Data, Label, Total] = [10793.239089.3, 390.801781.3, 54356.997228.3]\n",
      "!!! pred_type filter\n"
     ]
    },
    {
     "name": "stderr",
     "output_type": "stream",
     "text": [
      " 76%|███████████████████████████████████████████████████████████████████████████████████████▊                           | 191/250 [00:09<00:02, 21.42it/s]"
     ]
    },
    {
     "name": "stdout",
     "output_type": "stream",
     "text": [
      "--- Validation --- [threshold, AUC, Accuracy, F score] =  [np.float64(0.736), np.float64(0.953), np.float64(0.886), np.float64(0.904)]\n",
      "--- Training --- [threshold, AUC] =  [np.float64(0.734), np.float64(0.953)]\n",
      "--- Iteration 200: Training loss --- [Data, Label, Total] = [10721.349839.3, 391.375993.3, 53998.125188.3]\n",
      "!!! pred_type filter\n"
     ]
    },
    {
     "name": "stderr",
     "output_type": "stream",
     "text": [
      " 80%|████████████████████████████████████████████████████████████████████████████████████████████▍                      | 201/250 [00:09<00:02, 22.04it/s]"
     ]
    },
    {
     "name": "stdout",
     "output_type": "stream",
     "text": [
      "--- Validation --- [threshold, AUC, Accuracy, F score] =  [np.float64(0.734), np.float64(0.953), np.float64(0.885), np.float64(0.903)]\n",
      "--- Training --- [threshold, AUC] =  [np.float64(0.731), np.float64(0.953)]\n",
      "--- Iteration 210: Training loss --- [Data, Label, Total] = [10660.172767.3, 391.632966.3, 53692.496803.3]\n",
      "!!! pred_type filter\n"
     ]
    },
    {
     "name": "stderr",
     "output_type": "stream",
     "text": [
      " 84%|█████████████████████████████████████████████████████████████████████████████████████████████████                  | 211/250 [00:09<00:01, 21.81it/s]"
     ]
    },
    {
     "name": "stdout",
     "output_type": "stream",
     "text": [
      "--- Validation --- [threshold, AUC, Accuracy, F score] =  [np.float64(0.731), np.float64(0.953), np.float64(0.885), np.float64(0.903)]\n",
      "--- Training --- [threshold, AUC] =  [np.float64(0.732), np.float64(0.953)]\n",
      "--- Iteration 220: Training loss --- [Data, Label, Total] = [10608.034806.3, 391.770212.3, 53431.944240.3]\n",
      "!!! pred_type filter\n"
     ]
    },
    {
     "name": "stderr",
     "output_type": "stream",
     "text": [
      " 88%|█████████████████████████████████████████████████████████████████████████████████████████████████████▋             | 221/250 [00:10<00:01, 21.61it/s]"
     ]
    },
    {
     "name": "stdout",
     "output_type": "stream",
     "text": [
      "--- Validation --- [threshold, AUC, Accuracy, F score] =  [np.float64(0.732), np.float64(0.953), np.float64(0.885), np.float64(0.903)]\n",
      "--- Training --- [threshold, AUC] =  [np.float64(0.726), np.float64(0.953)]\n",
      "--- Iteration 230: Training loss --- [Data, Label, Total] = [10563.903815.3, 392.116695.3, 53211.635768.3]\n",
      "!!! pred_type filter\n"
     ]
    },
    {
     "name": "stderr",
     "output_type": "stream",
     "text": [
      " 92%|██████████████████████████████████████████████████████████████████████████████████████████████████████████▎        | 231/250 [00:10<00:00, 22.08it/s]"
     ]
    },
    {
     "name": "stdout",
     "output_type": "stream",
     "text": [
      "--- Validation --- [threshold, AUC, Accuracy, F score] =  [np.float64(0.726), np.float64(0.953), np.float64(0.887), np.float64(0.905)]\n",
      "--- Training --- [threshold, AUC] =  [np.float64(0.726), np.float64(0.953)]\n",
      "--- Iteration 240: Training loss --- [Data, Label, Total] = [10527.088709.3, 392.526701.3, 53027.970243.3]\n",
      "!!! pred_type filter\n"
     ]
    },
    {
     "name": "stderr",
     "output_type": "stream",
     "text": [
      "100%|███████████████████████████████████████████████████████████████████████████████████████████████████████████████████| 250/250 [00:11<00:00, 22.10it/s]"
     ]
    },
    {
     "name": "stdout",
     "output_type": "stream",
     "text": [
      "--- Validation --- [threshold, AUC, Accuracy, F score] =  [np.float64(0.726), np.float64(0.953), np.float64(0.886), np.float64(0.904)]\n",
      "!!! pred_type filter\n"
     ]
    },
    {
     "name": "stderr",
     "output_type": "stream",
     "text": [
      "\n"
     ]
    },
    {
     "name": "stdout",
     "output_type": "stream",
     "text": [
      "num of subgraphs induced on k-paths: 500\n",
      "num of subgraphs induced on k-paths: 500\n",
      "X_list: (196, 1000)\n",
      "2\n",
      "(1, 500)\n",
      "(1, 500)\n",
      "label_vec: (1, 1000)\n",
      "num of subgraphs induced on k-paths: 500\n",
      "num of subgraphs induced on k-paths: 500\n",
      "X_list: (196, 1000)\n",
      "2\n",
      "(1, 500)\n",
      "(1, 500)\n",
      "label_vec: (1, 1000)\n"
     ]
    }
   ],
   "source": [
    "for i in range(10,15):\n",
    "    print(i)\n",
    "    accu.append(roc.run(i))"
   ]
  },
  {
   "cell_type": "code",
   "execution_count": 5,
   "id": "c6fe1549-95ae-44b8-8db1-f3807b614d59",
   "metadata": {},
   "outputs": [
    {
     "name": "stdout",
     "output_type": "stream",
     "text": [
      "15\n",
      "num of subgraphs induced on k-paths: 500\n",
      "num of subgraphs induced on k-paths: 500\n",
      "X_list: (225, 1000)\n",
      "2\n",
      "(1, 500)\n",
      "(1, 500)\n",
      "label_vec: (1, 1000)\n",
      "num of subgraphs induced on k-paths: 500\n",
      "num of subgraphs induced on k-paths: 845\n",
      "X_list: (225, 1345)\n",
      "2\n",
      "(1, 500)\n",
      "(1, 845)\n",
      "label_vec: (1, 1345)\n",
      "initial loading beta [[-0.17167581 -0.15869037  0.66716476  0.4609946   0.72095922  0.41600638\n",
      "  -0.02737664  0.63263457  0.71461806  0.85114324 -0.57709027  0.39241098\n",
      "   0.66422263 -0.54002358 -0.33876504  0.26449193 -0.25640797]]\n"
     ]
    },
    {
     "name": "stderr",
     "output_type": "stream",
     "text": [
      "  0%|                                                                                                                             | 0/250 [00:00<?, ?it/s]"
     ]
    },
    {
     "name": "stdout",
     "output_type": "stream",
     "text": [
      "--- Training --- [threshold, AUC] =  [np.float64(0.636), np.float64(0.968)]\n",
      "--- Iteration 0: Training loss --- [Data, Label, Total] = [29545.580710.3, 341.645469.3, 148069.549019.3]\n",
      "--- Training --- [threshold, AUC] =  [np.float64(0.648), np.float64(0.971)]\n",
      "--- Iteration 10: Training loss --- [Data, Label, Total] = [17487.923752.3, 319.532486.3, 87759.151244.3]\n",
      "!!! pred_type filter\n"
     ]
    },
    {
     "name": "stderr",
     "output_type": "stream",
     "text": [
      "  4%|█████                                                                                                               | 11/250 [00:00<00:12, 18.48it/s]"
     ]
    },
    {
     "name": "stdout",
     "output_type": "stream",
     "text": [
      "--- Validation --- [threshold, AUC, Accuracy, F score] =  [np.float64(0.648), np.float64(0.971), np.float64(0.921), np.float64(0.936)]\n",
      "--- Training --- [threshold, AUC] =  [np.float64(0.737), np.float64(0.974)]\n",
      "--- Iteration 20: Training loss --- [Data, Label, Total] = [15474.342154.3, 310.978079.3, 77682.688848.3]\n",
      "!!! pred_type filter\n"
     ]
    },
    {
     "name": "stderr",
     "output_type": "stream",
     "text": [
      "  8%|█████████▋                                                                                                          | 21/250 [00:01<00:11, 19.37it/s]"
     ]
    },
    {
     "name": "stdout",
     "output_type": "stream",
     "text": [
      "--- Validation --- [threshold, AUC, Accuracy, F score] =  [np.float64(0.737), np.float64(0.974), np.float64(0.915), np.float64(0.93)]\n",
      "--- Training --- [threshold, AUC] =  [np.float64(0.746), np.float64(0.974)]\n",
      "--- Iteration 30: Training loss --- [Data, Label, Total] = [14605.164740.3, 308.270618.3, 73334.094320.3]\n",
      "!!! pred_type filter\n"
     ]
    },
    {
     "name": "stderr",
     "output_type": "stream",
     "text": [
      " 12%|██████████████▍                                                                                                     | 31/250 [00:01<00:10, 20.70it/s]"
     ]
    },
    {
     "name": "stdout",
     "output_type": "stream",
     "text": [
      "--- Validation --- [threshold, AUC, Accuracy, F score] =  [np.float64(0.746), np.float64(0.974), np.float64(0.917), np.float64(0.931)]\n",
      "--- Training --- [threshold, AUC] =  [np.float64(0.736), np.float64(0.975)]\n",
      "--- Iteration 40: Training loss --- [Data, Label, Total] = [14073.732127.3, 308.017328.3, 70676.677962.3]\n",
      "!!! pred_type filter\n"
     ]
    },
    {
     "name": "stderr",
     "output_type": "stream",
     "text": [
      " 16%|███████████████████                                                                                                 | 41/250 [00:01<00:09, 21.62it/s]"
     ]
    },
    {
     "name": "stdout",
     "output_type": "stream",
     "text": [
      "--- Validation --- [threshold, AUC, Accuracy, F score] =  [np.float64(0.736), np.float64(0.975), np.float64(0.918), np.float64(0.933)]\n",
      "--- Training --- [threshold, AUC] =  [np.float64(0.741), np.float64(0.975)]\n",
      "--- Iteration 50: Training loss --- [Data, Label, Total] = [13696.633103.3, 308.385680.3, 68791.551195.3]\n",
      "!!! pred_type filter\n"
     ]
    },
    {
     "name": "stderr",
     "output_type": "stream",
     "text": [
      " 20%|███████████████████████▋                                                                                            | 51/250 [00:02<00:08, 22.13it/s]"
     ]
    },
    {
     "name": "stdout",
     "output_type": "stream",
     "text": [
      "--- Validation --- [threshold, AUC, Accuracy, F score] =  [np.float64(0.741), np.float64(0.975), np.float64(0.92), np.float64(0.934)]\n",
      "--- Training --- [threshold, AUC] =  [np.float64(0.71), np.float64(0.975)]\n",
      "--- Iteration 60: Training loss --- [Data, Label, Total] = [13422.780191.3, 308.850062.3, 67422.751018.3]\n",
      "!!! pred_type filter\n"
     ]
    },
    {
     "name": "stderr",
     "output_type": "stream",
     "text": [
      " 24%|████████████████████████████▎                                                                                       | 61/250 [00:02<00:08, 22.53it/s]"
     ]
    },
    {
     "name": "stdout",
     "output_type": "stream",
     "text": [
      "--- Validation --- [threshold, AUC, Accuracy, F score] =  [np.float64(0.71), np.float64(0.975), np.float64(0.921), np.float64(0.935)]\n",
      "--- Training --- [threshold, AUC] =  [np.float64(0.714), np.float64(0.975)]\n",
      "--- Iteration 70: Training loss --- [Data, Label, Total] = [13217.866263.3, 309.042015.3, 66398.373331.3]\n",
      "!!! pred_type filter\n"
     ]
    },
    {
     "name": "stderr",
     "output_type": "stream",
     "text": [
      " 28%|████████████████████████████████▉                                                                                   | 71/250 [00:03<00:07, 22.85it/s]"
     ]
    },
    {
     "name": "stdout",
     "output_type": "stream",
     "text": [
      "--- Validation --- [threshold, AUC, Accuracy, F score] =  [np.float64(0.714), np.float64(0.975), np.float64(0.921), np.float64(0.935)]\n",
      "--- Training --- [threshold, AUC] =  [np.float64(0.72), np.float64(0.975)]\n",
      "--- Iteration 80: Training loss --- [Data, Label, Total] = [13068.190070.3, 309.659982.3, 65650.610334.3]\n",
      "!!! pred_type filter\n"
     ]
    },
    {
     "name": "stderr",
     "output_type": "stream",
     "text": [
      " 35%|████████████████████████████████████████▎                                                                           | 87/250 [00:03<00:06, 25.78it/s]"
     ]
    },
    {
     "name": "stdout",
     "output_type": "stream",
     "text": [
      "--- Validation --- [threshold, AUC, Accuracy, F score] =  [np.float64(0.72), np.float64(0.975), np.float64(0.92), np.float64(0.934)]\n",
      "--- Training --- [threshold, AUC] =  [np.float64(0.705), np.float64(0.975)]\n",
      "--- Iteration 90: Training loss --- [Data, Label, Total] = [12971.090176.3, 310.046189.3, 65165.497070.3]\n",
      "!!! pred_type filter\n"
     ]
    },
    {
     "name": "stderr",
     "output_type": "stream",
     "text": [
      " 36%|██████████████████████████████████████████▏                                                                         | 91/250 [00:04<00:07, 20.61it/s]"
     ]
    },
    {
     "name": "stdout",
     "output_type": "stream",
     "text": [
      "--- Validation --- [threshold, AUC, Accuracy, F score] =  [np.float64(0.705), np.float64(0.975), np.float64(0.921), np.float64(0.935)]\n",
      "--- Training --- [threshold, AUC] =  [np.float64(0.71), np.float64(0.975)]\n",
      "--- Iteration 100: Training loss --- [Data, Label, Total] = [12909.614401.3, 310.356767.3, 64858.428772.3]\n",
      "!!! pred_type filter\n"
     ]
    },
    {
     "name": "stderr",
     "output_type": "stream",
     "text": [
      " 40%|██████████████████████████████████████████████▍                                                                    | 101/250 [00:04<00:06, 21.68it/s]"
     ]
    },
    {
     "name": "stdout",
     "output_type": "stream",
     "text": [
      "--- Validation --- [threshold, AUC, Accuracy, F score] =  [np.float64(0.71), np.float64(0.975), np.float64(0.921), np.float64(0.935)]\n",
      "--- Training --- [threshold, AUC] =  [np.float64(0.679), np.float64(0.975)]\n",
      "--- Iteration 110: Training loss --- [Data, Label, Total] = [12864.755894.3, 310.520346.3, 64634.299814.3]\n",
      "!!! pred_type filter\n"
     ]
    },
    {
     "name": "stderr",
     "output_type": "stream",
     "text": [
      " 44%|███████████████████████████████████████████████████                                                                | 111/250 [00:05<00:06, 22.30it/s]"
     ]
    },
    {
     "name": "stdout",
     "output_type": "stream",
     "text": [
      "--- Validation --- [threshold, AUC, Accuracy, F score] =  [np.float64(0.679), np.float64(0.975), np.float64(0.925), np.float64(0.939)]\n",
      "--- Training --- [threshold, AUC] =  [np.float64(0.686), np.float64(0.975)]\n",
      "--- Iteration 120: Training loss --- [Data, Label, Total] = [12821.023858.3, 310.978246.3, 64416.097535.3]\n",
      "!!! pred_type filter\n"
     ]
    },
    {
     "name": "stderr",
     "output_type": "stream",
     "text": [
      " 52%|███████████████████████████████████████████████████████████▊                                                       | 130/250 [00:05<00:04, 29.20it/s]"
     ]
    },
    {
     "name": "stdout",
     "output_type": "stream",
     "text": [
      "--- Validation --- [threshold, AUC, Accuracy, F score] =  [np.float64(0.686), np.float64(0.975), np.float64(0.923), np.float64(0.937)]\n",
      "--- Training --- [threshold, AUC] =  [np.float64(0.685), np.float64(0.975)]\n",
      "--- Iteration 130: Training loss --- [Data, Label, Total] = [12768.028315.3, 311.042691.3, 64151.184264.3]\n",
      "!!! pred_type filter\n"
     ]
    },
    {
     "name": "stderr",
     "output_type": "stream",
     "text": [
      " 54%|██████████████████████████████████████████████████████████████                                                     | 135/250 [00:05<00:04, 24.11it/s]"
     ]
    },
    {
     "name": "stdout",
     "output_type": "stream",
     "text": [
      "--- Validation --- [threshold, AUC, Accuracy, F score] =  [np.float64(0.685), np.float64(0.975), np.float64(0.923), np.float64(0.938)]\n",
      "--- Training --- [threshold, AUC] =  [np.float64(0.688), np.float64(0.975)]\n",
      "--- Iteration 140: Training loss --- [Data, Label, Total] = [12701.468047.3, 311.477330.3, 63818.817567.3]\n",
      "!!! pred_type filter\n"
     ]
    },
    {
     "name": "stderr",
     "output_type": "stream",
     "text": [
      " 56%|████████████████████████████████████████████████████████████████▊                                                  | 141/250 [00:06<00:05, 21.68it/s]"
     ]
    },
    {
     "name": "stdout",
     "output_type": "stream",
     "text": [
      "--- Validation --- [threshold, AUC, Accuracy, F score] =  [np.float64(0.688), np.float64(0.975), np.float64(0.923), np.float64(0.937)]\n",
      "--- Training --- [threshold, AUC] =  [np.float64(0.668), np.float64(0.975)]\n",
      "--- Iteration 150: Training loss --- [Data, Label, Total] = [12627.280809.3, 311.833539.3, 63448.237584.3]\n",
      "!!! pred_type filter\n"
     ]
    },
    {
     "name": "stderr",
     "output_type": "stream",
     "text": [
      " 60%|█████████████████████████████████████████████████████████████████████▍                                             | 151/250 [00:06<00:04, 23.06it/s]"
     ]
    },
    {
     "name": "stdout",
     "output_type": "stream",
     "text": [
      "--- Validation --- [threshold, AUC, Accuracy, F score] =  [np.float64(0.668), np.float64(0.975), np.float64(0.924), np.float64(0.939)]\n",
      "--- Training --- [threshold, AUC] =  [np.float64(0.677), np.float64(0.975)]\n",
      "--- Iteration 160: Training loss --- [Data, Label, Total] = [12559.337695.3, 311.968810.3, 63108.657285.3]\n",
      "!!! pred_type filter\n"
     ]
    },
    {
     "name": "stderr",
     "output_type": "stream",
     "text": [
      " 64%|██████████████████████████████████████████████████████████████████████████                                         | 161/250 [00:07<00:03, 23.91it/s]"
     ]
    },
    {
     "name": "stdout",
     "output_type": "stream",
     "text": [
      "--- Validation --- [threshold, AUC, Accuracy, F score] =  [np.float64(0.677), np.float64(0.975), np.float64(0.924), np.float64(0.938)]\n",
      "--- Training --- [threshold, AUC] =  [np.float64(0.664), np.float64(0.975)]\n",
      "--- Iteration 170: Training loss --- [Data, Label, Total] = [12508.092089.3, 312.059678.3, 62852.520121.3]\n",
      "!!! pred_type filter\n"
     ]
    },
    {
     "name": "stderr",
     "output_type": "stream",
     "text": [
      " 68%|██████████████████████████████████████████████████████████████████████████████▋                                    | 171/250 [00:07<00:03, 24.45it/s]"
     ]
    },
    {
     "name": "stdout",
     "output_type": "stream",
     "text": [
      "--- Validation --- [threshold, AUC, Accuracy, F score] =  [np.float64(0.664), np.float64(0.975), np.float64(0.926), np.float64(0.94)]\n",
      "--- Training --- [threshold, AUC] =  [np.float64(0.67), np.float64(0.975)]\n",
      "--- Iteration 180: Training loss --- [Data, Label, Total] = [12474.440023.3, 312.349202.3, 62684.549318.3]\n",
      "!!! pred_type filter\n"
     ]
    },
    {
     "name": "stderr",
     "output_type": "stream",
     "text": [
      " 72%|███████████████████████████████████████████████████████████████████████████████████▎                               | 181/250 [00:07<00:02, 25.05it/s]"
     ]
    },
    {
     "name": "stdout",
     "output_type": "stream",
     "text": [
      "--- Validation --- [threshold, AUC, Accuracy, F score] =  [np.float64(0.67), np.float64(0.975), np.float64(0.925), np.float64(0.939)]\n",
      "--- Training --- [threshold, AUC] =  [np.float64(0.66), np.float64(0.975)]\n",
      "--- Iteration 190: Training loss --- [Data, Label, Total] = [12452.998214.3, 312.263461.3, 62577.254530.3]\n",
      "!!! pred_type filter\n"
     ]
    },
    {
     "name": "stderr",
     "output_type": "stream",
     "text": [
      " 76%|███████████████████████████████████████████████████████████████████████████████████████▊                           | 191/250 [00:08<00:02, 25.11it/s]"
     ]
    },
    {
     "name": "stdout",
     "output_type": "stream",
     "text": [
      "--- Validation --- [threshold, AUC, Accuracy, F score] =  [np.float64(0.66), np.float64(0.975), np.float64(0.926), np.float64(0.94)]\n",
      "--- Training --- [threshold, AUC] =  [np.float64(0.658), np.float64(0.975)]\n",
      "--- Iteration 200: Training loss --- [Data, Label, Total] = [12438.772837.3, 311.934805.3, 62505.798992.3]\n",
      "!!! pred_type filter\n"
     ]
    },
    {
     "name": "stderr",
     "output_type": "stream",
     "text": [
      " 80%|████████████████████████████████████████████████████████████████████████████████████████████▍                      | 201/250 [00:08<00:01, 25.05it/s]"
     ]
    },
    {
     "name": "stdout",
     "output_type": "stream",
     "text": [
      "--- Validation --- [threshold, AUC, Accuracy, F score] =  [np.float64(0.658), np.float64(0.975), np.float64(0.926), np.float64(0.94)]\n",
      "--- Training --- [threshold, AUC] =  [np.float64(0.678), np.float64(0.975)]\n",
      "--- Iteration 210: Training loss --- [Data, Label, Total] = [12428.910533.3, 312.206417.3, 62456.759083.3]\n",
      "!!! pred_type filter\n"
     ]
    },
    {
     "name": "stderr",
     "output_type": "stream",
     "text": [
      " 84%|█████████████████████████████████████████████████████████████████████████████████████████████████                  | 211/250 [00:09<00:01, 25.22it/s]"
     ]
    },
    {
     "name": "stdout",
     "output_type": "stream",
     "text": [
      "--- Validation --- [threshold, AUC, Accuracy, F score] =  [np.float64(0.678), np.float64(0.975), np.float64(0.924), np.float64(0.938)]\n",
      "--- Training --- [threshold, AUC] =  [np.float64(0.676), np.float64(0.975)]\n",
      "--- Iteration 220: Training loss --- [Data, Label, Total] = [12421.817767.3, 312.272900.3, 62421.361733.3]\n",
      "!!! pred_type filter\n"
     ]
    },
    {
     "name": "stderr",
     "output_type": "stream",
     "text": [
      " 88%|█████████████████████████████████████████████████████████████████████████████████████████████████████▋             | 221/250 [00:09<00:01, 25.07it/s]"
     ]
    },
    {
     "name": "stdout",
     "output_type": "stream",
     "text": [
      "--- Validation --- [threshold, AUC, Accuracy, F score] =  [np.float64(0.676), np.float64(0.975), np.float64(0.924), np.float64(0.938)]\n",
      "--- Training --- [threshold, AUC] =  [np.float64(0.677), np.float64(0.975)]\n",
      "--- Iteration 230: Training loss --- [Data, Label, Total] = [12416.690861.3, 312.189102.3, 62395.643407.3]\n",
      "!!! pred_type filter\n"
     ]
    },
    {
     "name": "stderr",
     "output_type": "stream",
     "text": [
      " 92%|██████████████████████████████████████████████████████████████████████████████████████████████████████████▎        | 231/250 [00:09<00:00, 24.22it/s]"
     ]
    },
    {
     "name": "stdout",
     "output_type": "stream",
     "text": [
      "--- Validation --- [threshold, AUC, Accuracy, F score] =  [np.float64(0.677), np.float64(0.975), np.float64(0.925), np.float64(0.939)]\n",
      "--- Training --- [threshold, AUC] =  [np.float64(0.679), np.float64(0.975)]\n",
      "--- Iteration 240: Training loss --- [Data, Label, Total] = [12413.232581.3, 312.155073.3, 62378.317978.3]\n",
      "!!! pred_type filter\n"
     ]
    },
    {
     "name": "stderr",
     "output_type": "stream",
     "text": [
      "100%|███████████████████████████████████████████████████████████████████████████████████████████████████████████████████| 250/250 [00:10<00:00, 24.21it/s]"
     ]
    },
    {
     "name": "stdout",
     "output_type": "stream",
     "text": [
      "--- Validation --- [threshold, AUC, Accuracy, F score] =  [np.float64(0.679), np.float64(0.975), np.float64(0.924), np.float64(0.938)]\n",
      "!!! pred_type filter\n"
     ]
    },
    {
     "name": "stderr",
     "output_type": "stream",
     "text": [
      "\n"
     ]
    },
    {
     "name": "stdout",
     "output_type": "stream",
     "text": [
      "num of subgraphs induced on k-paths: 500\n",
      "num of subgraphs induced on k-paths: 500\n",
      "X_list: (225, 1000)\n",
      "2\n",
      "(1, 500)\n",
      "(1, 500)\n",
      "label_vec: (1, 1000)\n",
      "num of subgraphs induced on k-paths: 500\n",
      "num of subgraphs induced on k-paths: 500\n",
      "X_list: (225, 1000)\n",
      "2\n",
      "(1, 500)\n",
      "(1, 500)\n",
      "label_vec: (1, 1000)\n",
      "16\n",
      "num of subgraphs induced on k-paths: 500\n",
      "num of subgraphs induced on k-paths: 500\n",
      "X_list: (256, 1000)\n",
      "2\n",
      "(1, 500)\n",
      "(1, 500)\n",
      "label_vec: (1, 1000)\n",
      "num of subgraphs induced on k-paths: 500\n",
      "num of subgraphs induced on k-paths: 866\n",
      "X_list: (256, 1366)\n",
      "2\n",
      "(1, 500)\n",
      "(1, 866)\n",
      "label_vec: (1, 1366)\n",
      "initial loading beta [[ 0.22773754  0.93806434  0.0115397  -0.33188942  0.47103673  0.97404232\n",
      "  -0.90491953 -0.84234495  0.53599446  0.14229616 -0.89758533 -0.81802064\n",
      "  -0.961379    0.61993251  0.59395121  0.21304917 -0.51137694]]\n"
     ]
    },
    {
     "name": "stderr",
     "output_type": "stream",
     "text": [
      "  3%|███▎                                                                                                                 | 7/250 [00:00<00:03, 63.71it/s]"
     ]
    },
    {
     "name": "stdout",
     "output_type": "stream",
     "text": [
      "--- Training --- [threshold, AUC] =  [np.float64(0.73), np.float64(0.981)]\n",
      "--- Iteration 0: Training loss --- [Data, Label, Total] = [35484.371755.3, 264.095380.3, 177685.954153.3]\n",
      "--- Training --- [threshold, AUC] =  [np.float64(0.738), np.float64(0.982)]\n",
      "--- Iteration 10: Training loss --- [Data, Label, Total] = [21212.217023.3, 243.927179.3, 106305.012294.3]\n",
      "!!! pred_type filter\n"
     ]
    },
    {
     "name": "stderr",
     "output_type": "stream",
     "text": [
      "  6%|██████▍                                                                                                             | 14/250 [00:00<00:13, 17.96it/s]"
     ]
    },
    {
     "name": "stdout",
     "output_type": "stream",
     "text": [
      "--- Validation --- [threshold, AUC, Accuracy, F score] =  [np.float64(0.738), np.float64(0.982), np.float64(0.933), np.float64(0.945)]\n",
      "--- Training --- [threshold, AUC] =  [np.float64(0.711), np.float64(0.983)]\n",
      "--- Iteration 20: Training loss --- [Data, Label, Total] = [19323.714366.3, 240.162452.3, 96858.734283.3]\n",
      "!!! pred_type filter\n"
     ]
    },
    {
     "name": "stderr",
     "output_type": "stream",
     "text": [
      " 10%|████████████                                                                                                        | 26/250 [00:01<00:12, 18.01it/s]"
     ]
    },
    {
     "name": "stdout",
     "output_type": "stream",
     "text": [
      "--- Validation --- [threshold, AUC, Accuracy, F score] =  [np.float64(0.711), np.float64(0.983), np.float64(0.935), np.float64(0.947)]\n",
      "--- Training --- [threshold, AUC] =  [np.float64(0.719), np.float64(0.984)]\n",
      "--- Iteration 30: Training loss --- [Data, Label, Total] = [18423.134734.3, 237.252232.3, 92352.925901.3]\n",
      "!!! pred_type filter\n"
     ]
    },
    {
     "name": "stderr",
     "output_type": "stream",
     "text": [
      " 16%|██████████████████                                                                                                  | 39/250 [00:02<00:09, 21.40it/s]"
     ]
    },
    {
     "name": "stdout",
     "output_type": "stream",
     "text": [
      "--- Validation --- [threshold, AUC, Accuracy, F score] =  [np.float64(0.719), np.float64(0.984), np.float64(0.934), np.float64(0.947)]\n",
      "--- Training --- [threshold, AUC] =  [np.float64(0.604), np.float64(0.984)]\n",
      "--- Iteration 40: Training loss --- [Data, Label, Total] = [17852.376061.3, 235.034397.3, 89496.914700.3]\n",
      "!!! pred_type filter\n"
     ]
    },
    {
     "name": "stderr",
     "output_type": "stream",
     "text": [
      " 18%|████████████████████▍                                                                                               | 44/250 [00:02<00:12, 16.48it/s]"
     ]
    },
    {
     "name": "stdout",
     "output_type": "stream",
     "text": [
      "--- Validation --- [threshold, AUC, Accuracy, F score] =  [np.float64(0.604), np.float64(0.984), np.float64(0.944), np.float64(0.956)]\n",
      "--- Training --- [threshold, AUC] =  [np.float64(0.614), np.float64(0.985)]\n",
      "--- Iteration 50: Training loss --- [Data, Label, Total] = [17505.874926.3, 233.501460.3, 87762.876092.3]\n",
      "!!! pred_type filter\n"
     ]
    },
    {
     "name": "stderr",
     "output_type": "stream",
     "text": [
      " 24%|███████████████████████████▊                                                                                        | 60/250 [00:03<00:10, 18.16it/s]"
     ]
    },
    {
     "name": "stdout",
     "output_type": "stream",
     "text": [
      "--- Validation --- [threshold, AUC, Accuracy, F score] =  [np.float64(0.614), np.float64(0.985), np.float64(0.946), np.float64(0.957)]\n",
      "--- Training --- [threshold, AUC] =  [np.float64(0.582), np.float64(0.985)]\n",
      "--- Iteration 60: Training loss --- [Data, Label, Total] = [17271.654013.3, 231.861656.3, 86590.131719.3]\n",
      "!!! pred_type filter\n"
     ]
    },
    {
     "name": "stderr",
     "output_type": "stream",
     "text": [
      " 26%|██████████████████████████████▏                                                                                     | 65/250 [00:04<00:12, 14.83it/s]"
     ]
    },
    {
     "name": "stdout",
     "output_type": "stream",
     "text": [
      "--- Validation --- [threshold, AUC, Accuracy, F score] =  [np.float64(0.582), np.float64(0.985), np.float64(0.947), np.float64(0.958)]\n",
      "--- Training --- [threshold, AUC] =  [np.float64(0.596), np.float64(0.985)]\n",
      "--- Iteration 70: Training loss --- [Data, Label, Total] = [17090.542139.3, 230.185862.3, 85682.896558.3]\n",
      "!!! pred_type filter\n"
     ]
    },
    {
     "name": "stderr",
     "output_type": "stream",
     "text": [
      " 32%|█████████████████████████████████████                                                                               | 80/250 [00:04<00:08, 20.42it/s]"
     ]
    },
    {
     "name": "stdout",
     "output_type": "stream",
     "text": [
      "--- Validation --- [threshold, AUC, Accuracy, F score] =  [np.float64(0.596), np.float64(0.985), np.float64(0.947), np.float64(0.958)]\n",
      "--- Training --- [threshold, AUC] =  [np.float64(0.597), np.float64(0.986)]\n",
      "--- Iteration 80: Training loss --- [Data, Label, Total] = [16942.519040.3, 228.967861.3, 84941.563059.3]\n",
      "!!! pred_type filter\n"
     ]
    },
    {
     "name": "stderr",
     "output_type": "stream",
     "text": [
      " 34%|███████████████████████████████████████▍                                                                            | 85/250 [00:05<00:10, 15.58it/s]"
     ]
    },
    {
     "name": "stdout",
     "output_type": "stream",
     "text": [
      "--- Validation --- [threshold, AUC, Accuracy, F score] =  [np.float64(0.597), np.float64(0.986), np.float64(0.948), np.float64(0.959)]\n",
      "--- Training --- [threshold, AUC] =  [np.float64(0.592), np.float64(0.986)]\n",
      "--- Iteration 90: Training loss --- [Data, Label, Total] = [16822.298628.3, 228.101078.3, 84339.594217.3]\n",
      "!!! pred_type filter\n"
     ]
    },
    {
     "name": "stderr",
     "output_type": "stream",
     "text": [
      " 40%|██████████████████████████████████████████████                                                                     | 100/250 [00:05<00:07, 19.35it/s]"
     ]
    },
    {
     "name": "stdout",
     "output_type": "stream",
     "text": [
      "--- Validation --- [threshold, AUC, Accuracy, F score] =  [np.float64(0.592), np.float64(0.986), np.float64(0.947), np.float64(0.958)]\n",
      "--- Training --- [threshold, AUC] =  [np.float64(0.578), np.float64(0.986)]\n",
      "--- Iteration 100: Training loss --- [Data, Label, Total] = [16729.021053.3, 227.413817.3, 83872.519080.3]\n",
      "!!! pred_type filter\n"
     ]
    },
    {
     "name": "stderr",
     "output_type": "stream",
     "text": [
      " 42%|████████████████████████████████████████████████▎                                                                  | 105/250 [00:06<00:08, 16.69it/s]"
     ]
    },
    {
     "name": "stdout",
     "output_type": "stream",
     "text": [
      "--- Validation --- [threshold, AUC, Accuracy, F score] =  [np.float64(0.578), np.float64(0.986), np.float64(0.948), np.float64(0.959)]\n",
      "--- Training --- [threshold, AUC] =  [np.float64(0.595), np.float64(0.986)]\n",
      "--- Iteration 110: Training loss --- [Data, Label, Total] = [16653.002723.3, 226.841258.3, 83491.854874.3]\n",
      "!!! pred_type filter\n"
     ]
    },
    {
     "name": "stderr",
     "output_type": "stream",
     "text": [
      " 48%|███████████████████████████████████████████████████████▏                                                           | 120/250 [00:06<00:05, 23.09it/s]"
     ]
    },
    {
     "name": "stdout",
     "output_type": "stream",
     "text": [
      "--- Validation --- [threshold, AUC, Accuracy, F score] =  [np.float64(0.595), np.float64(0.986), np.float64(0.948), np.float64(0.959)]\n",
      "--- Training --- [threshold, AUC] =  [np.float64(0.597), np.float64(0.986)]\n",
      "--- Iteration 120: Training loss --- [Data, Label, Total] = [16586.820399.3, 226.544901.3, 83160.646898.3]\n",
      "!!! pred_type filter\n"
     ]
    },
    {
     "name": "stderr",
     "output_type": "stream",
     "text": [
      " 50%|█████████████████████████████████████████████████████████▌                                                         | 125/250 [00:07<00:06, 19.19it/s]"
     ]
    },
    {
     "name": "stdout",
     "output_type": "stream",
     "text": [
      "--- Validation --- [threshold, AUC, Accuracy, F score] =  [np.float64(0.597), np.float64(0.986), np.float64(0.948), np.float64(0.959)]\n",
      "--- Training --- [threshold, AUC] =  [np.float64(0.598), np.float64(0.986)]\n",
      "--- Iteration 130: Training loss --- [Data, Label, Total] = [16524.695104.3, 226.222068.3, 82849.697590.3]\n",
      "!!! pred_type filter\n"
     ]
    },
    {
     "name": "stderr",
     "output_type": "stream",
     "text": [
      " 52%|████████████████████████████████████████████████████████████▎                                                      | 131/250 [00:07<00:06, 17.62it/s]"
     ]
    },
    {
     "name": "stdout",
     "output_type": "stream",
     "text": [
      "--- Validation --- [threshold, AUC, Accuracy, F score] =  [np.float64(0.598), np.float64(0.986), np.float64(0.948), np.float64(0.959)]\n",
      "--- Training --- [threshold, AUC] =  [np.float64(0.594), np.float64(0.986)]\n",
      "--- Iteration 140: Training loss --- [Data, Label, Total] = [16463.333199.3, 226.162219.3, 82542.828214.3]\n",
      "!!! pred_type filter\n"
     ]
    },
    {
     "name": "stderr",
     "output_type": "stream",
     "text": [
      " 60%|█████████████████████████████████████████████████████████████████████                                              | 150/250 [00:08<00:03, 26.14it/s]"
     ]
    },
    {
     "name": "stdout",
     "output_type": "stream",
     "text": [
      "--- Validation --- [threshold, AUC, Accuracy, F score] =  [np.float64(0.594), np.float64(0.986), np.float64(0.949), np.float64(0.959)]\n",
      "--- Training --- [threshold, AUC] =  [np.float64(0.595), np.float64(0.986)]\n",
      "--- Iteration 150: Training loss --- [Data, Label, Total] = [16403.342855.3, 226.041810.3, 82242.756084.3]\n",
      "!!! pred_type filter\n"
     ]
    },
    {
     "name": "stderr",
     "output_type": "stream",
     "text": [
      " 62%|███████████████████████████████████████████████████████████████████████▎                                           | 155/250 [00:08<00:04, 20.60it/s]"
     ]
    },
    {
     "name": "stdout",
     "output_type": "stream",
     "text": [
      "--- Validation --- [threshold, AUC, Accuracy, F score] =  [np.float64(0.595), np.float64(0.986), np.float64(0.949), np.float64(0.959)]\n",
      "--- Training --- [threshold, AUC] =  [np.float64(0.602), np.float64(0.986)]\n",
      "--- Iteration 160: Training loss --- [Data, Label, Total] = [16348.181465.3, 226.174332.3, 81967.081657.3]\n",
      "!!! pred_type filter\n"
     ]
    },
    {
     "name": "stderr",
     "output_type": "stream",
     "text": [
      " 68%|██████████████████████████████████████████████████████████████████████████████▏                                    | 170/250 [00:09<00:03, 25.85it/s]"
     ]
    },
    {
     "name": "stdout",
     "output_type": "stream",
     "text": [
      "--- Validation --- [threshold, AUC, Accuracy, F score] =  [np.float64(0.602), np.float64(0.986), np.float64(0.948), np.float64(0.959)]\n",
      "--- Training --- [threshold, AUC] =  [np.float64(0.669), np.float64(0.986)]\n",
      "--- Iteration 170: Training loss --- [Data, Label, Total] = [16301.116199.3, 226.011911.3, 81731.592904.3]\n",
      "!!! pred_type filter\n"
     ]
    },
    {
     "name": "stderr",
     "output_type": "stream",
     "text": [
      " 70%|████████████████████████████████████████████████████████████████████████████████▌                                  | 175/250 [00:09<00:03, 20.73it/s]"
     ]
    },
    {
     "name": "stdout",
     "output_type": "stream",
     "text": [
      "--- Validation --- [threshold, AUC, Accuracy, F score] =  [np.float64(0.669), np.float64(0.986), np.float64(0.945), np.float64(0.956)]\n",
      "--- Training --- [threshold, AUC] =  [np.float64(0.673), np.float64(0.986)]\n",
      "--- Iteration 180: Training loss --- [Data, Label, Total] = [16262.889881.3, 225.979827.3, 81540.429234.3]\n",
      "!!! pred_type filter\n"
     ]
    },
    {
     "name": "stderr",
     "output_type": "stream",
     "text": [
      " 72%|███████████████████████████████████████████████████████████████████████████████████▎                               | 181/250 [00:10<00:03, 18.62it/s]"
     ]
    },
    {
     "name": "stdout",
     "output_type": "stream",
     "text": [
      "--- Validation --- [threshold, AUC, Accuracy, F score] =  [np.float64(0.673), np.float64(0.986), np.float64(0.945), np.float64(0.956)]\n",
      "--- Training --- [threshold, AUC] =  [np.float64(0.674), np.float64(0.986)]\n",
      "--- Iteration 190: Training loss --- [Data, Label, Total] = [16232.683825.3, 226.004061.3, 81389.423185.3]\n",
      "!!! pred_type filter\n"
     ]
    },
    {
     "name": "stderr",
     "output_type": "stream",
     "text": [
      " 80%|████████████████████████████████████████████████████████████████████████████████████████████                       | 200/250 [00:10<00:01, 26.57it/s]"
     ]
    },
    {
     "name": "stdout",
     "output_type": "stream",
     "text": [
      "--- Validation --- [threshold, AUC, Accuracy, F score] =  [np.float64(0.674), np.float64(0.986), np.float64(0.945), np.float64(0.956)]\n",
      "--- Training --- [threshold, AUC] =  [np.float64(0.675), np.float64(0.986)]\n",
      "--- Iteration 200: Training loss --- [Data, Label, Total] = [16209.138006.3, 225.782453.3, 81271.472485.3]\n",
      "!!! pred_type filter\n"
     ]
    },
    {
     "name": "stderr",
     "output_type": "stream",
     "text": [
      " 82%|██████████████████████████████████████████████████████████████████████████████████████████████▎                    | 205/250 [00:11<00:02, 21.70it/s]"
     ]
    },
    {
     "name": "stdout",
     "output_type": "stream",
     "text": [
      "--- Validation --- [threshold, AUC, Accuracy, F score] =  [np.float64(0.675), np.float64(0.986), np.float64(0.945), np.float64(0.956)]\n",
      "--- Training --- [threshold, AUC] =  [np.float64(0.568), np.float64(0.987)]\n",
      "--- Iteration 210: Training loss --- [Data, Label, Total] = [16190.721191.3, 225.803525.3, 81179.409480.3]\n",
      "!!! pred_type filter\n"
     ]
    },
    {
     "name": "stderr",
     "output_type": "stream",
     "text": [
      " 84%|█████████████████████████████████████████████████████████████████████████████████████████████████                  | 211/250 [00:11<00:01, 19.51it/s]"
     ]
    },
    {
     "name": "stdout",
     "output_type": "stream",
     "text": [
      "--- Validation --- [threshold, AUC, Accuracy, F score] =  [np.float64(0.568), np.float64(0.987), np.float64(0.95), np.float64(0.961)]\n",
      "--- Training --- [threshold, AUC] =  [np.float64(0.571), np.float64(0.987)]\n",
      "--- Iteration 220: Training loss --- [Data, Label, Total] = [16175.864794.3, 225.744946.3, 81105.068915.3]\n",
      "!!! pred_type filter\n"
     ]
    },
    {
     "name": "stderr",
     "output_type": "stream",
     "text": [
      " 88%|█████████████████████████████████████████████████████████████████████████████████████████████████████▋             | 221/250 [00:11<00:01, 20.73it/s]"
     ]
    },
    {
     "name": "stdout",
     "output_type": "stream",
     "text": [
      "--- Validation --- [threshold, AUC, Accuracy, F score] =  [np.float64(0.571), np.float64(0.987), np.float64(0.95), np.float64(0.961)]\n",
      "--- Training --- [threshold, AUC] =  [np.float64(0.573), np.float64(0.987)]\n",
      "--- Iteration 230: Training loss --- [Data, Label, Total] = [16163.400426.3, 225.617271.3, 81042.619400.3]\n",
      "!!! pred_type filter\n"
     ]
    },
    {
     "name": "stderr",
     "output_type": "stream",
     "text": [
      " 92%|██████████████████████████████████████████████████████████████████████████████████████████████████████████▎        | 231/250 [00:12<00:00, 21.55it/s]"
     ]
    },
    {
     "name": "stdout",
     "output_type": "stream",
     "text": [
      "--- Validation --- [threshold, AUC, Accuracy, F score] =  [np.float64(0.573), np.float64(0.987), np.float64(0.95), np.float64(0.961)]\n",
      "--- Training --- [threshold, AUC] =  [np.float64(0.568), np.float64(0.987)]\n",
      "--- Iteration 240: Training loss --- [Data, Label, Total] = [16152.568311.3, 225.581365.3, 80988.422920.3]\n",
      "!!! pred_type filter\n"
     ]
    },
    {
     "name": "stderr",
     "output_type": "stream",
     "text": [
      "100%|███████████████████████████████████████████████████████████████████████████████████████████████████████████████████| 250/250 [00:12<00:00, 19.50it/s]"
     ]
    },
    {
     "name": "stdout",
     "output_type": "stream",
     "text": [
      "--- Validation --- [threshold, AUC, Accuracy, F score] =  [np.float64(0.568), np.float64(0.987), np.float64(0.95), np.float64(0.961)]\n",
      "!!! pred_type filter\n"
     ]
    },
    {
     "name": "stderr",
     "output_type": "stream",
     "text": [
      "\n"
     ]
    },
    {
     "name": "stdout",
     "output_type": "stream",
     "text": [
      "num of subgraphs induced on k-paths: 500\n",
      "num of subgraphs induced on k-paths: 500\n",
      "X_list: (256, 1000)\n",
      "2\n",
      "(1, 500)\n",
      "(1, 500)\n",
      "label_vec: (1, 1000)\n",
      "num of subgraphs induced on k-paths: 500\n",
      "num of subgraphs induced on k-paths: 500\n",
      "X_list: (256, 1000)\n",
      "2\n",
      "(1, 500)\n",
      "(1, 500)\n",
      "label_vec: (1, 1000)\n",
      "17\n",
      "num of subgraphs induced on k-paths: 500\n",
      "num of subgraphs induced on k-paths: 500\n",
      "X_list: (289, 1000)\n",
      "2\n",
      "(1, 500)\n",
      "(1, 500)\n",
      "label_vec: (1, 1000)\n",
      "num of subgraphs induced on k-paths: 500\n",
      "num of subgraphs induced on k-paths: 914\n",
      "X_list: (289, 1414)\n",
      "2\n",
      "(1, 500)\n",
      "(1, 914)\n",
      "label_vec: (1, 1414)\n",
      "initial loading beta [[ 0.3694721  -0.71929054  0.38117728  0.33292402  0.69595279  0.97842391\n",
      "  -0.66887724 -0.19658813  0.93450108 -0.96326171  0.2095238   0.90854785\n",
      "   0.43091085 -0.41963138 -0.74793468  0.48439965 -0.35012482]]\n"
     ]
    },
    {
     "name": "stderr",
     "output_type": "stream",
     "text": [
      "  2%|██▊                                                                                                                  | 6/250 [00:00<00:04, 58.32it/s]"
     ]
    },
    {
     "name": "stdout",
     "output_type": "stream",
     "text": [
      "--- Training --- [threshold, AUC] =  [np.float64(0.735), np.float64(0.97)]\n",
      "--- Iteration 0: Training loss --- [Data, Label, Total] = [40033.174145.3, 333.424841.3, 200499.295565.3]\n",
      "--- Training --- [threshold, AUC] =  [np.float64(0.766), np.float64(0.972)]\n",
      "--- Iteration 10: Training loss --- [Data, Label, Total] = [24952.006335.3, 317.439075.3, 125077.470751.3]\n",
      "!!! pred_type filter\n"
     ]
    },
    {
     "name": "stderr",
     "output_type": "stream",
     "text": [
      "  5%|█████▌                                                                                                              | 12/250 [00:00<00:15, 15.57it/s]"
     ]
    },
    {
     "name": "stdout",
     "output_type": "stream",
     "text": [
      "--- Validation --- [threshold, AUC, Accuracy, F score] =  [np.float64(0.766), np.float64(0.972), np.float64(0.922), np.float64(0.937)]\n",
      "--- Training --- [threshold, AUC] =  [np.float64(0.731), np.float64(0.974)]\n",
      "--- Iteration 20: Training loss --- [Data, Label, Total] = [22708.501004.3, 313.517010.3, 113856.022030.3]\n",
      "!!! pred_type filter\n"
     ]
    },
    {
     "name": "stderr",
     "output_type": "stream",
     "text": [
      " 10%|███████████▏                                                                                                        | 24/250 [00:01<00:13, 16.97it/s]"
     ]
    },
    {
     "name": "stdout",
     "output_type": "stream",
     "text": [
      "--- Validation --- [threshold, AUC, Accuracy, F score] =  [np.float64(0.731), np.float64(0.974), np.float64(0.928), np.float64(0.942)]\n",
      "--- Training --- [threshold, AUC] =  [np.float64(0.721), np.float64(0.974)]\n",
      "--- Iteration 30: Training loss --- [Data, Label, Total] = [21613.800640.3, 312.092264.3, 108381.095463.3]\n",
      "!!! pred_type filter\n"
     ]
    },
    {
     "name": "stderr",
     "output_type": "stream",
     "text": [
      " 16%|██████████████████                                                                                                  | 39/250 [00:02<00:10, 19.98it/s]"
     ]
    },
    {
     "name": "stdout",
     "output_type": "stream",
     "text": [
      "--- Validation --- [threshold, AUC, Accuracy, F score] =  [np.float64(0.721), np.float64(0.974), np.float64(0.927), np.float64(0.942)]\n",
      "--- Training --- [threshold, AUC] =  [np.float64(0.712), np.float64(0.974)]\n",
      "--- Iteration 40: Training loss --- [Data, Label, Total] = [20982.063616.3, 311.355935.3, 105221.674016.3]\n",
      "!!! pred_type filter\n"
     ]
    },
    {
     "name": "stderr",
     "output_type": "stream",
     "text": [
      " 17%|███████████████████▉                                                                                                | 43/250 [00:02<00:14, 13.89it/s]"
     ]
    },
    {
     "name": "stdout",
     "output_type": "stream",
     "text": [
      "--- Validation --- [threshold, AUC, Accuracy, F score] =  [np.float64(0.712), np.float64(0.974), np.float64(0.929), np.float64(0.943)]\n"
     ]
    },
    {
     "name": "stderr",
     "output_type": "stream",
     "text": [
      " 20%|███████████████████████▏                                                                                            | 50/250 [00:03<00:12, 15.90it/s]"
     ]
    },
    {
     "name": "stdout",
     "output_type": "stream",
     "text": [
      "--- Training --- [threshold, AUC] =  [np.float64(0.76), np.float64(0.975)]\n",
      "--- Iteration 50: Training loss --- [Data, Label, Total] = [20570.836465.3, 309.904289.3, 103164.086613.3]\n",
      "!!! pred_type filter\n"
     ]
    },
    {
     "name": "stderr",
     "output_type": "stream",
     "text": [
      " 24%|███████████████████████████▊                                                                                        | 60/250 [00:03<00:10, 17.45it/s]"
     ]
    },
    {
     "name": "stdout",
     "output_type": "stream",
     "text": [
      "--- Validation --- [threshold, AUC, Accuracy, F score] =  [np.float64(0.76), np.float64(0.975), np.float64(0.924), np.float64(0.939)]\n",
      "--- Training --- [threshold, AUC] =  [np.float64(0.751), np.float64(0.975)]\n",
      "--- Iteration 60: Training loss --- [Data, Label, Total] = [20248.766496.3, 308.054778.3, 101551.887256.3]\n",
      "!!! pred_type filter\n"
     ]
    },
    {
     "name": "stderr",
     "output_type": "stream",
     "text": [
      " 26%|█████████████████████████████▋                                                                                      | 64/250 [00:04<00:13, 14.05it/s]"
     ]
    },
    {
     "name": "stdout",
     "output_type": "stream",
     "text": [
      "--- Validation --- [threshold, AUC, Accuracy, F score] =  [np.float64(0.751), np.float64(0.975), np.float64(0.926), np.float64(0.941)]\n",
      "--- Training --- [threshold, AUC] =  [np.float64(0.775), np.float64(0.975)]\n",
      "--- Iteration 70: Training loss --- [Data, Label, Total] = [19968.769134.3, 306.785114.3, 100150.630786.3]\n",
      "!!! pred_type filter\n"
     ]
    },
    {
     "name": "stderr",
     "output_type": "stream",
     "text": [
      " 32%|████████████████████████████████████▋                                                                               | 79/250 [00:04<00:08, 21.13it/s]"
     ]
    },
    {
     "name": "stdout",
     "output_type": "stream",
     "text": [
      "--- Validation --- [threshold, AUC, Accuracy, F score] =  [np.float64(0.775), np.float64(0.975), np.float64(0.924), np.float64(0.939)]\n",
      "--- Training --- [threshold, AUC] =  [np.float64(0.758), np.float64(0.975)]\n",
      "--- Iteration 80: Training loss --- [Data, Label, Total] = [19727.008228.3, 305.764138.3, 98940.805275.3]\n",
      "!!! pred_type filter\n"
     ]
    },
    {
     "name": "stderr",
     "output_type": "stream",
     "text": [
      " 33%|██████████████████████████████████████▌                                                                             | 83/250 [00:05<00:10, 16.68it/s]"
     ]
    },
    {
     "name": "stdout",
     "output_type": "stream",
     "text": [
      "--- Validation --- [threshold, AUC, Accuracy, F score] =  [np.float64(0.758), np.float64(0.975), np.float64(0.928), np.float64(0.942)]\n",
      "--- Training --- [threshold, AUC] =  [np.float64(0.765), np.float64(0.976)]\n",
      "--- Iteration 90: Training loss --- [Data, Label, Total] = [19524.240624.3, 305.219689.3, 97926.422807.3]\n",
      "!!! pred_type filter\n"
     ]
    },
    {
     "name": "stderr",
     "output_type": "stream",
     "text": [
      " 40%|█████████████████████████████████████████████▉                                                                      | 99/250 [00:05<00:06, 23.13it/s]"
     ]
    },
    {
     "name": "stdout",
     "output_type": "stream",
     "text": [
      "--- Validation --- [threshold, AUC, Accuracy, F score] =  [np.float64(0.765), np.float64(0.976), np.float64(0.927), np.float64(0.942)]\n",
      "--- Training --- [threshold, AUC] =  [np.float64(0.762), np.float64(0.976)]\n",
      "--- Iteration 100: Training loss --- [Data, Label, Total] = [19358.733150.3, 304.895129.3, 97098.560879.3]\n",
      "!!! pred_type filter\n"
     ]
    },
    {
     "name": "stderr",
     "output_type": "stream",
     "text": [
      " 42%|███████████████████████████████████████████████▊                                                                   | 104/250 [00:06<00:07, 18.75it/s]"
     ]
    },
    {
     "name": "stdout",
     "output_type": "stream",
     "text": [
      "--- Validation --- [threshold, AUC, Accuracy, F score] =  [np.float64(0.762), np.float64(0.976), np.float64(0.929), np.float64(0.943)]\n",
      "--- Training --- [threshold, AUC] =  [np.float64(0.765), np.float64(0.976)]\n",
      "--- Iteration 110: Training loss --- [Data, Label, Total] = [19231.681810.3, 304.698591.3, 96463.107642.3]\n",
      "!!! pred_type filter\n"
     ]
    },
    {
     "name": "stderr",
     "output_type": "stream",
     "text": [
      " 48%|███████████████████████████████████████████████████████▏                                                           | 120/250 [00:06<00:05, 24.96it/s]"
     ]
    },
    {
     "name": "stdout",
     "output_type": "stream",
     "text": [
      "--- Validation --- [threshold, AUC, Accuracy, F score] =  [np.float64(0.765), np.float64(0.976), np.float64(0.927), np.float64(0.942)]\n",
      "--- Training --- [threshold, AUC] =  [np.float64(0.771), np.float64(0.976)]\n",
      "--- Iteration 120: Training loss --- [Data, Label, Total] = [19143.651449.3, 304.547596.3, 96022.804842.3]\n",
      "!!! pred_type filter\n"
     ]
    },
    {
     "name": "stderr",
     "output_type": "stream",
     "text": [
      " 50%|█████████████████████████████████████████████████████████▌                                                         | 125/250 [00:07<00:06, 19.83it/s]"
     ]
    },
    {
     "name": "stdout",
     "output_type": "stream",
     "text": [
      "--- Validation --- [threshold, AUC, Accuracy, F score] =  [np.float64(0.771), np.float64(0.976), np.float64(0.926), np.float64(0.941)]\n",
      "--- Training --- [threshold, AUC] =  [np.float64(0.772), np.float64(0.976)]\n",
      "--- Iteration 130: Training loss --- [Data, Label, Total] = [19086.253730.3, 304.096513.3, 95735.365162.3]\n",
      "!!! pred_type filter\n"
     ]
    },
    {
     "name": "stderr",
     "output_type": "stream",
     "text": [
      " 56%|███████████████████████████████████████████████████████████████▉                                                   | 139/250 [00:07<00:04, 23.51it/s]"
     ]
    },
    {
     "name": "stdout",
     "output_type": "stream",
     "text": [
      "--- Validation --- [threshold, AUC, Accuracy, F score] =  [np.float64(0.772), np.float64(0.976), np.float64(0.927), np.float64(0.941)]\n",
      "--- Training --- [threshold, AUC] =  [np.float64(0.772), np.float64(0.976)]\n",
      "--- Iteration 140: Training loss --- [Data, Label, Total] = [19048.636755.3, 304.086607.3, 95547.270380.3]\n",
      "!!! pred_type filter\n"
     ]
    },
    {
     "name": "stderr",
     "output_type": "stream",
     "text": [
      " 58%|██████████████████████████████████████████████████████████████████▏                                                | 144/250 [00:08<00:05, 19.02it/s]"
     ]
    },
    {
     "name": "stdout",
     "output_type": "stream",
     "text": [
      "--- Validation --- [threshold, AUC, Accuracy, F score] =  [np.float64(0.772), np.float64(0.976), np.float64(0.927), np.float64(0.941)]\n",
      "--- Training --- [threshold, AUC] =  [np.float64(0.775), np.float64(0.976)]\n",
      "--- Iteration 150: Training loss --- [Data, Label, Total] = [19022.832311.3, 303.845384.3, 95418.006937.3]\n",
      "!!! pred_type filter\n"
     ]
    },
    {
     "name": "stderr",
     "output_type": "stream",
     "text": [
      " 64%|█████████████████████████████████████████████████████████████████████████▏                                         | 159/250 [00:08<00:03, 24.12it/s]"
     ]
    },
    {
     "name": "stdout",
     "output_type": "stream",
     "text": [
      "--- Validation --- [threshold, AUC, Accuracy, F score] =  [np.float64(0.775), np.float64(0.976), np.float64(0.927), np.float64(0.941)]\n",
      "--- Training --- [threshold, AUC] =  [np.float64(0.775), np.float64(0.976)]\n",
      "--- Iteration 160: Training loss --- [Data, Label, Total] = [19004.109622.3, 303.756403.3, 95324.304514.3]\n",
      "!!! pred_type filter\n"
     ]
    },
    {
     "name": "stderr",
     "output_type": "stream",
     "text": [
      " 66%|███████████████████████████████████████████████████████████████████████████▍                                       | 164/250 [00:09<00:04, 19.39it/s]"
     ]
    },
    {
     "name": "stdout",
     "output_type": "stream",
     "text": [
      "--- Validation --- [threshold, AUC, Accuracy, F score] =  [np.float64(0.775), np.float64(0.976), np.float64(0.927), np.float64(0.941)]\n",
      "--- Training --- [threshold, AUC] =  [np.float64(0.776), np.float64(0.976)]\n",
      "--- Iteration 170: Training loss --- [Data, Label, Total] = [18989.326725.3, 303.692937.3, 95250.326560.3]\n",
      "!!! pred_type filter\n"
     ]
    },
    {
     "name": "stderr",
     "output_type": "stream",
     "text": [
      " 72%|██████████████████████████████████████████████████████████████████████████████████▊                                | 180/250 [00:09<00:02, 25.42it/s]"
     ]
    },
    {
     "name": "stdout",
     "output_type": "stream",
     "text": [
      "--- Validation --- [threshold, AUC, Accuracy, F score] =  [np.float64(0.776), np.float64(0.976), np.float64(0.927), np.float64(0.941)]\n",
      "--- Training --- [threshold, AUC] =  [np.float64(0.778), np.float64(0.976)]\n",
      "--- Iteration 180: Training loss --- [Data, Label, Total] = [18977.045061.3, 303.573003.3, 95188.798307.3]\n",
      "!!! pred_type filter\n"
     ]
    },
    {
     "name": "stderr",
     "output_type": "stream",
     "text": [
      " 74%|█████████████████████████████████████████████████████████████████████████████████████                              | 185/250 [00:10<00:03, 20.24it/s]"
     ]
    },
    {
     "name": "stdout",
     "output_type": "stream",
     "text": [
      "--- Validation --- [threshold, AUC, Accuracy, F score] =  [np.float64(0.778), np.float64(0.976), np.float64(0.926), np.float64(0.941)]\n",
      "--- Training --- [threshold, AUC] =  [np.float64(0.777), np.float64(0.976)]\n",
      "--- Iteration 190: Training loss --- [Data, Label, Total] = [18966.572901.3, 303.203142.3, 95136.067648.3]\n",
      "!!! pred_type filter\n"
     ]
    },
    {
     "name": "stderr",
     "output_type": "stream",
     "text": [
      " 80%|████████████████████████████████████████████████████████████████████████████████████████████                       | 200/250 [00:10<00:01, 25.28it/s]"
     ]
    },
    {
     "name": "stdout",
     "output_type": "stream",
     "text": [
      "--- Validation --- [threshold, AUC, Accuracy, F score] =  [np.float64(0.777), np.float64(0.976), np.float64(0.926), np.float64(0.941)]\n",
      "--- Training --- [threshold, AUC] =  [np.float64(0.777), np.float64(0.976)]\n",
      "--- Iteration 200: Training loss --- [Data, Label, Total] = [18957.500946.3, 302.991707.3, 95090.496436.3]\n",
      "!!! pred_type filter\n"
     ]
    },
    {
     "name": "stderr",
     "output_type": "stream",
     "text": [
      " 82%|██████████████████████████████████████████████████████████████████████████████████████████████▎                    | 205/250 [00:11<00:02, 20.14it/s]"
     ]
    },
    {
     "name": "stdout",
     "output_type": "stream",
     "text": [
      "--- Validation --- [threshold, AUC, Accuracy, F score] =  [np.float64(0.777), np.float64(0.976), np.float64(0.926), np.float64(0.941)]\n",
      "--- Training --- [threshold, AUC] =  [np.float64(0.778), np.float64(0.976)]\n",
      "--- Iteration 210: Training loss --- [Data, Label, Total] = [18949.575798.3, 302.729316.3, 95050.608308.3]\n",
      "!!! pred_type filter\n"
     ]
    },
    {
     "name": "stderr",
     "output_type": "stream",
     "text": [
      " 88%|████████████████████████████████████████████████████████████████████████████████████████████████████▋              | 219/250 [00:11<00:01, 20.86it/s]"
     ]
    },
    {
     "name": "stdout",
     "output_type": "stream",
     "text": [
      "--- Validation --- [threshold, AUC, Accuracy, F score] =  [np.float64(0.778), np.float64(0.976), np.float64(0.926), np.float64(0.94)]\n",
      "--- Training --- [threshold, AUC] =  [np.float64(0.779), np.float64(0.976)]\n",
      "--- Iteration 220: Training loss --- [Data, Label, Total] = [18942.575363.3, 302.702365.3, 95015.579180.3]\n",
      "!!! pred_type filter\n"
     ]
    },
    {
     "name": "stderr",
     "output_type": "stream",
     "text": [
      " 92%|█████████████████████████████████████████████████████████████████████████████████████████████████████████▊         | 230/250 [00:12<00:00, 20.55it/s]"
     ]
    },
    {
     "name": "stdout",
     "output_type": "stream",
     "text": [
      "--- Validation --- [threshold, AUC, Accuracy, F score] =  [np.float64(0.779), np.float64(0.976), np.float64(0.926), np.float64(0.94)]\n",
      "--- Training --- [threshold, AUC] =  [np.float64(0.779), np.float64(0.976)]\n",
      "--- Iteration 230: Training loss --- [Data, Label, Total] = [18936.315496.3, 302.607609.3, 94984.185089.3]\n",
      "!!! pred_type filter\n"
     ]
    },
    {
     "name": "stderr",
     "output_type": "stream",
     "text": [
      " 94%|███████████████████████████████████████████████████████████████████████████████████████████████████████████▋       | 234/250 [00:12<00:01, 15.95it/s]"
     ]
    },
    {
     "name": "stdout",
     "output_type": "stream",
     "text": [
      "--- Validation --- [threshold, AUC, Accuracy, F score] =  [np.float64(0.779), np.float64(0.976), np.float64(0.926), np.float64(0.94)]\n",
      "--- Training --- [threshold, AUC] =  [np.float64(0.724), np.float64(0.976)]\n",
      "--- Iteration 240: Training loss --- [Data, Label, Total] = [18930.642088.3, 302.545785.3, 94955.756223.3]\n",
      "!!! pred_type filter\n"
     ]
    },
    {
     "name": "stderr",
     "output_type": "stream",
     "text": [
      "100%|███████████████████████████████████████████████████████████████████████████████████████████████████████████████████| 250/250 [00:13<00:00, 18.53it/s]"
     ]
    },
    {
     "name": "stdout",
     "output_type": "stream",
     "text": [
      "--- Validation --- [threshold, AUC, Accuracy, F score] =  [np.float64(0.724), np.float64(0.976), np.float64(0.93), np.float64(0.944)]\n",
      "!!! pred_type filter\n"
     ]
    },
    {
     "name": "stderr",
     "output_type": "stream",
     "text": [
      "\n"
     ]
    },
    {
     "name": "stdout",
     "output_type": "stream",
     "text": [
      "num of subgraphs induced on k-paths: 500\n",
      "num of subgraphs induced on k-paths: 500\n",
      "X_list: (289, 1000)\n",
      "2\n",
      "(1, 500)\n",
      "(1, 500)\n",
      "label_vec: (1, 1000)\n",
      "num of subgraphs induced on k-paths: 500\n",
      "num of subgraphs induced on k-paths: 500\n",
      "X_list: (289, 1000)\n",
      "2\n",
      "(1, 500)\n",
      "(1, 500)\n",
      "label_vec: (1, 1000)\n",
      "18\n",
      "num of subgraphs induced on k-paths: 500\n",
      "num of subgraphs induced on k-paths: 500\n",
      "X_list: (324, 1000)\n",
      "2\n",
      "(1, 500)\n",
      "(1, 500)\n",
      "label_vec: (1, 1000)\n",
      "num of subgraphs induced on k-paths: 500\n",
      "num of subgraphs induced on k-paths: 929\n",
      "X_list: (324, 1429)\n",
      "2\n",
      "(1, 500)\n",
      "(1, 929)\n",
      "label_vec: (1, 1429)\n",
      "initial loading beta [[-0.68006896 -0.98730531  0.18986475 -0.7914086  -0.56536361 -0.9776863\n",
      "  -0.00363488  0.97887688 -0.64025107  0.31696691 -0.39363899  0.33635955\n",
      "   0.37274258  0.18403482  0.44701119 -0.31820435 -0.85918626]]\n"
     ]
    },
    {
     "name": "stderr",
     "output_type": "stream",
     "text": [
      "  2%|██▊                                                                                                                  | 6/250 [00:00<00:04, 59.43it/s]"
     ]
    },
    {
     "name": "stdout",
     "output_type": "stream",
     "text": [
      "--- Training --- [threshold, AUC] =  [np.float64(0.626), np.float64(0.981)]\n",
      "--- Iteration 0: Training loss --- [Data, Label, Total] = [43555.596862.3, 265.320702.3, 218043.305014.3]\n",
      "--- Training --- [threshold, AUC] =  [np.float64(0.692), np.float64(0.983)]\n",
      "--- Iteration 10: Training loss --- [Data, Label, Total] = [27092.633349.3, 246.111180.3, 135709.277922.3]\n",
      "!!! pred_type filter\n"
     ]
    },
    {
     "name": "stderr",
     "output_type": "stream",
     "text": [
      "  8%|█████████▎                                                                                                          | 20/250 [00:00<00:07, 29.29it/s]"
     ]
    },
    {
     "name": "stdout",
     "output_type": "stream",
     "text": [
      "--- Validation --- [threshold, AUC, Accuracy, F score] =  [np.float64(0.692), np.float64(0.983), np.float64(0.934), np.float64(0.949)]\n",
      "--- Training --- [threshold, AUC] =  [np.float64(0.693), np.float64(0.984)]\n",
      "--- Iteration 20: Training loss --- [Data, Label, Total] = [24886.253738.3, 238.950529.3, 124670.219221.3]\n",
      "!!! pred_type filter\n"
     ]
    },
    {
     "name": "stderr",
     "output_type": "stream",
     "text": [
      " 10%|████████████                                                                                                        | 26/250 [00:01<00:11, 19.40it/s]"
     ]
    },
    {
     "name": "stdout",
     "output_type": "stream",
     "text": [
      "--- Validation --- [threshold, AUC, Accuracy, F score] =  [np.float64(0.693), np.float64(0.984), np.float64(0.936), np.float64(0.95)]\n",
      "--- Training --- [threshold, AUC] =  [np.float64(0.708), np.float64(0.985)]\n",
      "--- Iteration 30: Training loss --- [Data, Label, Total] = [23798.160351.3, 237.478516.3, 119228.280269.3]\n",
      "!!! pred_type filter\n"
     ]
    },
    {
     "name": "stderr",
     "output_type": "stream",
     "text": [
      " 15%|█████████████████▏                                                                                                  | 37/250 [00:01<00:10, 20.68it/s]"
     ]
    },
    {
     "name": "stdout",
     "output_type": "stream",
     "text": [
      "--- Validation --- [threshold, AUC, Accuracy, F score] =  [np.float64(0.708), np.float64(0.985), np.float64(0.938), np.float64(0.951)]\n",
      "--- Training --- [threshold, AUC] =  [np.float64(0.726), np.float64(0.985)]\n",
      "--- Iteration 40: Training loss --- [Data, Label, Total] = [23168.340627.3, 237.006974.3, 116078.710108.3]\n",
      "!!! pred_type filter\n"
     ]
    },
    {
     "name": "stderr",
     "output_type": "stream",
     "text": [
      " 19%|██████████████████████▎                                                                                             | 48/250 [00:02<00:09, 20.84it/s]"
     ]
    },
    {
     "name": "stdout",
     "output_type": "stream",
     "text": [
      "--- Validation --- [threshold, AUC, Accuracy, F score] =  [np.float64(0.726), np.float64(0.985), np.float64(0.938), np.float64(0.951)]\n",
      "--- Training --- [threshold, AUC] =  [np.float64(0.719), np.float64(0.985)]\n",
      "--- Iteration 50: Training loss --- [Data, Label, Total] = [22726.999670.3, 236.335857.3, 113871.334206.3]\n",
      "!!! pred_type filter\n"
     ]
    },
    {
     "name": "stderr",
     "output_type": "stream",
     "text": [
      " 24%|███████████████████████████▍                                                                                        | 59/250 [00:03<00:09, 20.53it/s]"
     ]
    },
    {
     "name": "stdout",
     "output_type": "stream",
     "text": [
      "--- Validation --- [threshold, AUC, Accuracy, F score] =  [np.float64(0.719), np.float64(0.985), np.float64(0.94), np.float64(0.953)]\n",
      "--- Training --- [threshold, AUC] =  [np.float64(0.719), np.float64(0.985)]\n",
      "--- Iteration 60: Training loss --- [Data, Label, Total] = [22411.112831.3, 236.556337.3, 112292.120494.3]\n",
      "!!! pred_type filter\n"
     ]
    },
    {
     "name": "stderr",
     "output_type": "stream",
     "text": [
      " 27%|███████████████████████████████                                                                                     | 67/250 [00:03<00:11, 15.48it/s]"
     ]
    },
    {
     "name": "stdout",
     "output_type": "stream",
     "text": [
      "--- Validation --- [threshold, AUC, Accuracy, F score] =  [np.float64(0.719), np.float64(0.985), np.float64(0.94), np.float64(0.953)]\n",
      "--- Training --- [threshold, AUC] =  [np.float64(0.717), np.float64(0.985)]\n",
      "--- Iteration 70: Training loss --- [Data, Label, Total] = [22186.635389.3, 236.617265.3, 111169.794209.3]\n",
      "!!! pred_type filter\n"
     ]
    },
    {
     "name": "stderr",
     "output_type": "stream",
     "text": [
      " 31%|████████████████████████████████████▏                                                                               | 78/250 [00:04<00:09, 17.84it/s]"
     ]
    },
    {
     "name": "stdout",
     "output_type": "stream",
     "text": [
      "--- Validation --- [threshold, AUC, Accuracy, F score] =  [np.float64(0.717), np.float64(0.985), np.float64(0.939), np.float64(0.952)]\n",
      "--- Training --- [threshold, AUC] =  [np.float64(0.688), np.float64(0.985)]\n",
      "--- Iteration 80: Training loss --- [Data, Label, Total] = [22028.469570.3, 236.569424.3, 110378.917272.3]\n",
      "!!! pred_type filter\n"
     ]
    },
    {
     "name": "stderr",
     "output_type": "stream",
     "text": [
      " 36%|█████████████████████████████████████████▎                                                                          | 89/250 [00:05<00:08, 19.96it/s]"
     ]
    },
    {
     "name": "stdout",
     "output_type": "stream",
     "text": [
      "--- Validation --- [threshold, AUC, Accuracy, F score] =  [np.float64(0.688), np.float64(0.985), np.float64(0.941), np.float64(0.954)]\n",
      "--- Training --- [threshold, AUC] =  [np.float64(0.689), np.float64(0.985)]\n",
      "--- Iteration 90: Training loss --- [Data, Label, Total] = [21918.101794.3, 236.678998.3, 109827.187968.3]\n",
      "!!! pred_type filter\n"
     ]
    },
    {
     "name": "stderr",
     "output_type": "stream",
     "text": [
      " 40%|██████████████████████████████████████████████                                                                     | 100/250 [00:05<00:07, 21.21it/s]"
     ]
    },
    {
     "name": "stdout",
     "output_type": "stream",
     "text": [
      "--- Validation --- [threshold, AUC, Accuracy, F score] =  [np.float64(0.689), np.float64(0.985), np.float64(0.941), np.float64(0.954)]\n",
      "--- Training --- [threshold, AUC] =  [np.float64(0.691), np.float64(0.985)]\n",
      "--- Iteration 100: Training loss --- [Data, Label, Total] = [21836.966352.3, 236.674196.3, 109421.505955.3]\n",
      "!!! pred_type filter\n"
     ]
    },
    {
     "name": "stderr",
     "output_type": "stream",
     "text": [
      " 42%|████████████████████████████████████████████████▎                                                                  | 105/250 [00:06<00:08, 16.49it/s]"
     ]
    },
    {
     "name": "stdout",
     "output_type": "stream",
     "text": [
      "--- Validation --- [threshold, AUC, Accuracy, F score] =  [np.float64(0.691), np.float64(0.985), np.float64(0.941), np.float64(0.954)]\n",
      "--- Training --- [threshold, AUC] =  [np.float64(0.707), np.float64(0.985)]\n",
      "--- Iteration 110: Training loss --- [Data, Label, Total] = [21773.837843.3, 236.846484.3, 109106.035699.3]\n",
      "!!! pred_type filter\n"
     ]
    },
    {
     "name": "stderr",
     "output_type": "stream",
     "text": [
      " 48%|██████████████████████████████████████████████████████▋                                                            | 119/250 [00:06<00:05, 22.02it/s]"
     ]
    },
    {
     "name": "stdout",
     "output_type": "stream",
     "text": [
      "--- Validation --- [threshold, AUC, Accuracy, F score] =  [np.float64(0.707), np.float64(0.985), np.float64(0.94), np.float64(0.953)]\n",
      "--- Training --- [threshold, AUC] =  [np.float64(0.701), np.float64(0.986)]\n",
      "--- Iteration 120: Training loss --- [Data, Label, Total] = [21721.450126.3, 236.632341.3, 108843.882968.3]\n",
      "!!! pred_type filter\n"
     ]
    },
    {
     "name": "stderr",
     "output_type": "stream",
     "text": [
      " 50%|█████████████████████████████████████████████████████████                                                          | 124/250 [00:07<00:07, 17.44it/s]"
     ]
    },
    {
     "name": "stdout",
     "output_type": "stream",
     "text": [
      "--- Validation --- [threshold, AUC, Accuracy, F score] =  [np.float64(0.701), np.float64(0.986), np.float64(0.94), np.float64(0.953)]\n",
      "--- Training --- [threshold, AUC] =  [np.float64(0.688), np.float64(0.986)]\n",
      "--- Iteration 130: Training loss --- [Data, Label, Total] = [21675.270695.3, 236.378109.3, 108612.731585.3]\n",
      "!!! pred_type filter\n"
     ]
    },
    {
     "name": "stderr",
     "output_type": "stream",
     "text": [
      " 55%|███████████████████████████████████████████████████████████████▍                                                   | 138/250 [00:07<00:05, 21.65it/s]"
     ]
    },
    {
     "name": "stdout",
     "output_type": "stream",
     "text": [
      "--- Validation --- [threshold, AUC, Accuracy, F score] =  [np.float64(0.688), np.float64(0.986), np.float64(0.941), np.float64(0.954)]\n",
      "--- Training --- [threshold, AUC] =  [np.float64(0.698), np.float64(0.986)]\n",
      "--- Iteration 140: Training loss --- [Data, Label, Total] = [21632.721123.3, 236.289287.3, 108399.894903.3]\n",
      "!!! pred_type filter\n"
     ]
    },
    {
     "name": "stderr",
     "output_type": "stream",
     "text": [
      " 60%|█████████████████████████████████████████████████████████████████████                                              | 150/250 [00:08<00:04, 23.96it/s]"
     ]
    },
    {
     "name": "stdout",
     "output_type": "stream",
     "text": [
      "--- Validation --- [threshold, AUC, Accuracy, F score] =  [np.float64(0.698), np.float64(0.986), np.float64(0.939), np.float64(0.952)]\n",
      "--- Training --- [threshold, AUC] =  [np.float64(0.696), np.float64(0.986)]\n",
      "--- Iteration 150: Training loss --- [Data, Label, Total] = [21593.796071.3, 236.245083.3, 108205.225438.3]\n",
      "!!! pred_type filter\n"
     ]
    },
    {
     "name": "stderr",
     "output_type": "stream",
     "text": [
      " 62%|███████████████████████████████████████████████████████████████████████▎                                           | 155/250 [00:08<00:05, 18.41it/s]"
     ]
    },
    {
     "name": "stdout",
     "output_type": "stream",
     "text": [
      "--- Validation --- [threshold, AUC, Accuracy, F score] =  [np.float64(0.696), np.float64(0.986), np.float64(0.939), np.float64(0.952)]\n",
      "--- Training --- [threshold, AUC] =  [np.float64(0.702), np.float64(0.986)]\n",
      "--- Iteration 160: Training loss --- [Data, Label, Total] = [21558.954235.3, 236.074432.3, 108030.845605.3]\n",
      "!!! pred_type filter\n"
     ]
    },
    {
     "name": "stderr",
     "output_type": "stream",
     "text": [
      " 67%|█████████████████████████████████████████████████████████████████████████████▎                                     | 168/250 [00:09<00:03, 22.37it/s]"
     ]
    },
    {
     "name": "stdout",
     "output_type": "stream",
     "text": [
      "--- Validation --- [threshold, AUC, Accuracy, F score] =  [np.float64(0.702), np.float64(0.986), np.float64(0.938), np.float64(0.952)]\n",
      "--- Training --- [threshold, AUC] =  [np.float64(0.705), np.float64(0.986)]\n",
      "--- Iteration 170: Training loss --- [Data, Label, Total] = [21528.019656.3, 236.089081.3, 107876.187362.3]\n",
      "!!! pred_type filter\n"
     ]
    },
    {
     "name": "stderr",
     "output_type": "stream",
     "text": [
      " 72%|██████████████████████████████████████████████████████████████████████████████████▊                                | 180/250 [00:09<00:02, 23.63it/s]"
     ]
    },
    {
     "name": "stdout",
     "output_type": "stream",
     "text": [
      "--- Validation --- [threshold, AUC, Accuracy, F score] =  [np.float64(0.705), np.float64(0.986), np.float64(0.938), np.float64(0.952)]\n",
      "--- Training --- [threshold, AUC] =  [np.float64(0.783), np.float64(0.986)]\n",
      "--- Iteration 180: Training loss --- [Data, Label, Total] = [21501.168062.3, 235.957076.3, 107741.797385.3]\n",
      "!!! pred_type filter\n"
     ]
    },
    {
     "name": "stderr",
     "output_type": "stream",
     "text": [
      " 74%|█████████████████████████████████████████████████████████████████████████████████████                              | 185/250 [00:10<00:03, 17.51it/s]"
     ]
    },
    {
     "name": "stdout",
     "output_type": "stream",
     "text": [
      "--- Validation --- [threshold, AUC, Accuracy, F score] =  [np.float64(0.783), np.float64(0.986), np.float64(0.93), np.float64(0.944)]\n",
      "--- Training --- [threshold, AUC] =  [np.float64(0.786), np.float64(0.986)]\n",
      "--- Iteration 190: Training loss --- [Data, Label, Total] = [21478.403783.3, 235.828182.3, 107627.847098.3]\n",
      "!!! pred_type filter\n"
     ]
    },
    {
     "name": "stderr",
     "output_type": "stream",
     "text": [
      " 79%|███████████████████████████████████████████████████████████████████████████████████████████                        | 198/250 [00:10<00:02, 20.96it/s]"
     ]
    },
    {
     "name": "stdout",
     "output_type": "stream",
     "text": [
      "--- Validation --- [threshold, AUC, Accuracy, F score] =  [np.float64(0.786), np.float64(0.986), np.float64(0.93), np.float64(0.944)]\n",
      "--- Training --- [threshold, AUC] =  [np.float64(0.782), np.float64(0.986)]\n",
      "--- Iteration 200: Training loss --- [Data, Label, Total] = [21459.335999.3, 235.686057.3, 107532.366054.3]\n",
      "!!! pred_type filter\n"
     ]
    },
    {
     "name": "stderr",
     "output_type": "stream",
     "text": [
      " 84%|████████████████████████████████████████████████████████████████████████████████████████████████▌                  | 210/250 [00:11<00:01, 23.45it/s]"
     ]
    },
    {
     "name": "stdout",
     "output_type": "stream",
     "text": [
      "--- Validation --- [threshold, AUC, Accuracy, F score] =  [np.float64(0.782), np.float64(0.986), np.float64(0.931), np.float64(0.945)]\n",
      "--- Training --- [threshold, AUC] =  [np.float64(0.783), np.float64(0.986)]\n",
      "--- Iteration 210: Training loss --- [Data, Label, Total] = [21443.450090.3, 235.556816.3, 107452.807266.3]\n",
      "!!! pred_type filter\n"
     ]
    },
    {
     "name": "stderr",
     "output_type": "stream",
     "text": [
      " 86%|██████████████████████████████████████████████████████████████████████████████████████████████████▉                | 215/250 [00:12<00:02, 16.44it/s]"
     ]
    },
    {
     "name": "stdout",
     "output_type": "stream",
     "text": [
      "--- Validation --- [threshold, AUC, Accuracy, F score] =  [np.float64(0.783), np.float64(0.986), np.float64(0.931), np.float64(0.945)]\n",
      "--- Training --- [threshold, AUC] =  [np.float64(0.782), np.float64(0.986)]\n",
      "--- Iteration 220: Training loss --- [Data, Label, Total] = [21430.231899.3, 235.499080.3, 107386.658574.3]\n",
      "!!! pred_type filter\n"
     ]
    },
    {
     "name": "stderr",
     "output_type": "stream",
     "text": [
      " 91%|████████████████████████████████████████████████████████████████████████████████████████████████████████▍          | 227/250 [00:12<00:01, 16.24it/s]"
     ]
    },
    {
     "name": "stdout",
     "output_type": "stream",
     "text": [
      "--- Validation --- [threshold, AUC, Accuracy, F score] =  [np.float64(0.782), np.float64(0.986), np.float64(0.931), np.float64(0.945)]\n",
      "--- Training --- [threshold, AUC] =  [np.float64(0.778), np.float64(0.986)]\n",
      "--- Iteration 230: Training loss --- [Data, Label, Total] = [21419.233777.3, 235.255397.3, 107331.424282.3]\n",
      "!!! pred_type filter\n"
     ]
    },
    {
     "name": "stderr",
     "output_type": "stream",
     "text": [
      " 92%|██████████████████████████████████████████████████████████████████████████████████████████████████████████▎        | 231/250 [00:13<00:01, 13.78it/s]"
     ]
    },
    {
     "name": "stdout",
     "output_type": "stream",
     "text": [
      "--- Validation --- [threshold, AUC, Accuracy, F score] =  [np.float64(0.778), np.float64(0.986), np.float64(0.932), np.float64(0.946)]\n"
     ]
    },
    {
     "name": "stderr",
     "output_type": "stream",
     "text": [
      " 96%|██████████████████████████████████████████████████████████████████████████████████████████████████████████████▍    | 240/250 [00:13<00:00, 16.57it/s]"
     ]
    },
    {
     "name": "stdout",
     "output_type": "stream",
     "text": [
      "--- Training --- [threshold, AUC] =  [np.float64(0.777), np.float64(0.986)]\n",
      "--- Iteration 240: Training loss --- [Data, Label, Total] = [21410.047739.3, 235.317593.3, 107285.556288.3]\n",
      "!!! pred_type filter\n"
     ]
    },
    {
     "name": "stderr",
     "output_type": "stream",
     "text": [
      "100%|███████████████████████████████████████████████████████████████████████████████████████████████████████████████████| 250/250 [00:14<00:00, 17.50it/s]"
     ]
    },
    {
     "name": "stdout",
     "output_type": "stream",
     "text": [
      "--- Validation --- [threshold, AUC, Accuracy, F score] =  [np.float64(0.777), np.float64(0.986), np.float64(0.932), np.float64(0.946)]\n",
      "!!! pred_type filter\n"
     ]
    },
    {
     "name": "stderr",
     "output_type": "stream",
     "text": [
      "\n"
     ]
    },
    {
     "name": "stdout",
     "output_type": "stream",
     "text": [
      "num of subgraphs induced on k-paths: 500\n",
      "num of subgraphs induced on k-paths: 500\n",
      "X_list: (324, 1000)\n",
      "2\n",
      "(1, 500)\n",
      "(1, 500)\n",
      "label_vec: (1, 1000)\n",
      "num of subgraphs induced on k-paths: 500\n",
      "num of subgraphs induced on k-paths: 500\n",
      "X_list: (324, 1000)\n",
      "2\n",
      "(1, 500)\n",
      "(1, 500)\n",
      "label_vec: (1, 1000)\n",
      "19\n",
      "num of subgraphs induced on k-paths: 500\n",
      "num of subgraphs induced on k-paths: 500\n",
      "X_list: (361, 1000)\n",
      "2\n",
      "(1, 500)\n",
      "(1, 500)\n",
      "label_vec: (1, 1000)\n",
      "num of subgraphs induced on k-paths: 500\n",
      "num of subgraphs induced on k-paths: 925\n",
      "X_list: (361, 1425)\n",
      "2\n",
      "(1, 500)\n",
      "(1, 925)\n",
      "label_vec: (1, 1425)\n",
      "initial loading beta [[ 0.73932721  0.48397226 -0.35643279  0.74310953  0.72318961  0.08941484\n",
      "  -0.34634018 -0.95138229 -0.158995    0.28500732  0.01546628 -0.70486057\n",
      "  -0.04593283  0.18979662  0.59010778  0.28596023  0.36839162]]\n"
     ]
    },
    {
     "name": "stderr",
     "output_type": "stream",
     "text": [
      "  3%|███▎                                                                                                                 | 7/250 [00:00<00:03, 66.29it/s]"
     ]
    },
    {
     "name": "stdout",
     "output_type": "stream",
     "text": [
      "--- Training --- [threshold, AUC] =  [np.float64(0.659), np.float64(0.986)]\n",
      "--- Iteration 0: Training loss --- [Data, Label, Total] = [48285.869380.3, 224.606226.3, 241653.953127.3]\n",
      "--- Training --- [threshold, AUC] =  [np.float64(0.72), np.float64(0.988)]\n",
      "--- Iteration 10: Training loss --- [Data, Label, Total] = [30414.410406.3, 204.467582.3, 152276.519613.3]\n",
      "!!! pred_type filter\n"
     ]
    },
    {
     "name": "stderr",
     "output_type": "stream",
     "text": [
      "  6%|██████▍                                                                                                             | 14/250 [00:00<00:16, 14.31it/s]"
     ]
    },
    {
     "name": "stdout",
     "output_type": "stream",
     "text": [
      "--- Validation --- [threshold, AUC, Accuracy, F score] =  [np.float64(0.72), np.float64(0.988), np.float64(0.947), np.float64(0.959)]\n",
      "--- Training --- [threshold, AUC] =  [np.float64(0.687), np.float64(0.989)]\n",
      "--- Iteration 20: Training loss --- [Data, Label, Total] = [27942.638098.3, 200.877078.3, 139914.067570.3]\n",
      "!!! pred_type filter\n"
     ]
    },
    {
     "name": "stderr",
     "output_type": "stream",
     "text": [
      " 11%|████████████▌                                                                                                       | 27/250 [00:01<00:13, 16.63it/s]"
     ]
    },
    {
     "name": "stdout",
     "output_type": "stream",
     "text": [
      "--- Validation --- [threshold, AUC, Accuracy, F score] =  [np.float64(0.687), np.float64(0.989), np.float64(0.95), np.float64(0.961)]\n",
      "--- Training --- [threshold, AUC] =  [np.float64(0.68), np.float64(0.989)]\n",
      "--- Iteration 30: Training loss --- [Data, Label, Total] = [26673.255777.3, 201.319346.3, 133567.598229.3]\n",
      "!!! pred_type filter\n"
     ]
    },
    {
     "name": "stderr",
     "output_type": "stream",
     "text": [
      " 15%|█████████████████▏                                                                                                  | 37/250 [00:02<00:12, 16.66it/s]"
     ]
    },
    {
     "name": "stdout",
     "output_type": "stream",
     "text": [
      "--- Validation --- [threshold, AUC, Accuracy, F score] =  [np.float64(0.68), np.float64(0.989), np.float64(0.954), np.float64(0.964)]\n",
      "--- Training --- [threshold, AUC] =  [np.float64(0.684), np.float64(0.989)]\n",
      "--- Iteration 40: Training loss --- [Data, Label, Total] = [26009.191808.3, 202.076484.3, 130248.035523.3]\n",
      "!!! pred_type filter\n"
     ]
    },
    {
     "name": "stderr",
     "output_type": "stream",
     "text": [
      " 19%|██████████████████████▎                                                                                             | 48/250 [00:02<00:10, 19.06it/s]"
     ]
    },
    {
     "name": "stdout",
     "output_type": "stream",
     "text": [
      "--- Validation --- [threshold, AUC, Accuracy, F score] =  [np.float64(0.684), np.float64(0.989), np.float64(0.954), np.float64(0.964)]\n",
      "--- Training --- [threshold, AUC] =  [np.float64(0.698), np.float64(0.989)]\n",
      "--- Iteration 50: Training loss --- [Data, Label, Total] = [25608.474317.3, 202.906033.3, 128245.277617.3]\n",
      "!!! pred_type filter\n"
     ]
    },
    {
     "name": "stderr",
     "output_type": "stream",
     "text": [
      " 24%|███████████████████████████▍                                                                                        | 59/250 [00:03<00:09, 20.89it/s]"
     ]
    },
    {
     "name": "stdout",
     "output_type": "stream",
     "text": [
      "--- Validation --- [threshold, AUC, Accuracy, F score] =  [np.float64(0.698), np.float64(0.989), np.float64(0.952), np.float64(0.963)]\n",
      "--- Training --- [threshold, AUC] =  [np.float64(0.679), np.float64(0.989)]\n",
      "--- Iteration 60: Training loss --- [Data, Label, Total] = [25334.189572.3, 203.440587.3, 126874.388449.3]\n",
      "!!! pred_type filter\n"
     ]
    },
    {
     "name": "stderr",
     "output_type": "stream",
     "text": [
      " 26%|█████████████████████████████▋                                                                                      | 64/250 [00:04<00:11, 15.91it/s]"
     ]
    },
    {
     "name": "stdout",
     "output_type": "stream",
     "text": [
      "--- Validation --- [threshold, AUC, Accuracy, F score] =  [np.float64(0.679), np.float64(0.989), np.float64(0.955), np.float64(0.965)]\n",
      "--- Training --- [threshold, AUC] =  [np.float64(0.692), np.float64(0.989)]\n",
      "--- Iteration 70: Training loss --- [Data, Label, Total] = [25132.802413.3, 203.288964.3, 125867.301031.3]\n",
      "!!! pred_type filter\n"
     ]
    },
    {
     "name": "stderr",
     "output_type": "stream",
     "text": [
      " 31%|████████████████████████████████████▏                                                                               | 78/250 [00:04<00:08, 20.35it/s]"
     ]
    },
    {
     "name": "stdout",
     "output_type": "stream",
     "text": [
      "--- Validation --- [threshold, AUC, Accuracy, F score] =  [np.float64(0.692), np.float64(0.989), np.float64(0.953), np.float64(0.963)]\n",
      "--- Training --- [threshold, AUC] =  [np.float64(0.687), np.float64(0.989)]\n",
      "--- Iteration 80: Training loss --- [Data, Label, Total] = [24981.111424.3, 202.786911.3, 125108.344032.3]\n",
      "!!! pred_type filter\n"
     ]
    },
    {
     "name": "stderr",
     "output_type": "stream",
     "text": [
      " 36%|█████████████████████████████████████████▎                                                                          | 89/250 [00:05<00:07, 21.55it/s]"
     ]
    },
    {
     "name": "stdout",
     "output_type": "stream",
     "text": [
      "--- Validation --- [threshold, AUC, Accuracy, F score] =  [np.float64(0.687), np.float64(0.989), np.float64(0.952), np.float64(0.963)]\n",
      "--- Training --- [threshold, AUC] =  [np.float64(0.685), np.float64(0.99)]\n",
      "--- Iteration 90: Training loss --- [Data, Label, Total] = [24860.817963.3, 202.047584.3, 124506.137401.3]\n",
      "!!! pred_type filter\n"
     ]
    },
    {
     "name": "stderr",
     "output_type": "stream",
     "text": [
      " 40%|██████████████████████████████████████████████                                                                     | 100/250 [00:05<00:07, 20.70it/s]"
     ]
    },
    {
     "name": "stdout",
     "output_type": "stream",
     "text": [
      "--- Validation --- [threshold, AUC, Accuracy, F score] =  [np.float64(0.685), np.float64(0.99), np.float64(0.951), np.float64(0.961)]\n",
      "--- Training --- [threshold, AUC] =  [np.float64(0.685), np.float64(0.99)]\n",
      "--- Iteration 100: Training loss --- [Data, Label, Total] = [24760.849230.3, 202.011431.3, 124006.257580.3]\n",
      "!!! pred_type filter\n"
     ]
    },
    {
     "name": "stderr",
     "output_type": "stream",
     "text": [
      " 42%|███████████████████████████████████████████████▊                                                                   | 104/250 [00:06<00:10, 14.16it/s]"
     ]
    },
    {
     "name": "stdout",
     "output_type": "stream",
     "text": [
      "--- Validation --- [threshold, AUC, Accuracy, F score] =  [np.float64(0.685), np.float64(0.99), np.float64(0.949), np.float64(0.96)]\n",
      "--- Training --- [threshold, AUC] =  [np.float64(0.658), np.float64(0.99)]\n",
      "--- Iteration 110: Training loss --- [Data, Label, Total] = [24675.268856.3, 202.076690.3, 123578.420968.3]\n",
      "!!! pred_type filter\n"
     ]
    },
    {
     "name": "stderr",
     "output_type": "stream",
     "text": [
      " 47%|█████████████████████████████████████████████████████▊                                                             | 117/250 [00:07<00:08, 16.29it/s]"
     ]
    },
    {
     "name": "stdout",
     "output_type": "stream",
     "text": [
      "--- Validation --- [threshold, AUC, Accuracy, F score] =  [np.float64(0.658), np.float64(0.99), np.float64(0.951), np.float64(0.962)]\n",
      "--- Training --- [threshold, AUC] =  [np.float64(0.658), np.float64(0.99)]\n",
      "--- Iteration 120: Training loss --- [Data, Label, Total] = [24600.306585.3, 202.147773.3, 123203.680696.3]\n",
      "!!! pred_type filter\n"
     ]
    },
    {
     "name": "stderr",
     "output_type": "stream",
     "text": [
      " 51%|██████████████████████████████████████████████████████████▍                                                        | 127/250 [00:07<00:06, 17.69it/s]"
     ]
    },
    {
     "name": "stdout",
     "output_type": "stream",
     "text": [
      "--- Validation --- [threshold, AUC, Accuracy, F score] =  [np.float64(0.658), np.float64(0.99), np.float64(0.95), np.float64(0.961)]\n",
      "--- Training --- [threshold, AUC] =  [np.float64(0.672), np.float64(0.99)]\n",
      "--- Iteration 130: Training loss --- [Data, Label, Total] = [24533.219903.3, 201.972972.3, 122868.072485.3]\n",
      "!!! pred_type filter\n"
     ]
    },
    {
     "name": "stderr",
     "output_type": "stream",
     "text": [
      " 55%|███████████████████████████████████████████████████████████████▍                                                   | 138/250 [00:08<00:05, 19.73it/s]"
     ]
    },
    {
     "name": "stdout",
     "output_type": "stream",
     "text": [
      "--- Validation --- [threshold, AUC, Accuracy, F score] =  [np.float64(0.672), np.float64(0.99), np.float64(0.949), np.float64(0.96)]\n",
      "--- Training --- [threshold, AUC] =  [np.float64(0.797), np.float64(0.99)]\n",
      "--- Iteration 140: Training loss --- [Data, Label, Total] = [24473.155570.3, 202.135049.3, 122567.912900.3]\n",
      "!!! pred_type filter\n"
     ]
    },
    {
     "name": "stderr",
     "output_type": "stream",
     "text": [
      " 59%|████████████████████████████████████████████████████████████████████                                               | 148/250 [00:09<00:05, 19.75it/s]"
     ]
    },
    {
     "name": "stdout",
     "output_type": "stream",
     "text": [
      "--- Validation --- [threshold, AUC, Accuracy, F score] =  [np.float64(0.797), np.float64(0.99), np.float64(0.942), np.float64(0.954)]\n",
      "--- Training --- [threshold, AUC] =  [np.float64(0.802), np.float64(0.99)]\n",
      "--- Iteration 150: Training loss --- [Data, Label, Total] = [24419.264849.3, 202.032760.3, 122298.357004.3]\n",
      "!!! pred_type filter\n"
     ]
    },
    {
     "name": "stderr",
     "output_type": "stream",
     "text": [
      " 63%|████████████████████████████████████████████████████████████████████████▋                                          | 158/250 [00:09<00:05, 18.38it/s]"
     ]
    },
    {
     "name": "stdout",
     "output_type": "stream",
     "text": [
      "--- Validation --- [threshold, AUC, Accuracy, F score] =  [np.float64(0.802), np.float64(0.99), np.float64(0.94), np.float64(0.952)]\n",
      "--- Training --- [threshold, AUC] =  [np.float64(0.811), np.float64(0.99)]\n",
      "--- Iteration 160: Training loss --- [Data, Label, Total] = [24371.039990.3, 201.857857.3, 122057.057806.3]\n",
      "!!! pred_type filter\n"
     ]
    },
    {
     "name": "stderr",
     "output_type": "stream",
     "text": [
      " 68%|█████████████████████████████████████████████████████████████████████████████▋                                     | 169/250 [00:10<00:04, 18.80it/s]"
     ]
    },
    {
     "name": "stdout",
     "output_type": "stream",
     "text": [
      "--- Validation --- [threshold, AUC, Accuracy, F score] =  [np.float64(0.811), np.float64(0.99), np.float64(0.94), np.float64(0.952)]\n",
      "--- Training --- [threshold, AUC] =  [np.float64(0.811), np.float64(0.99)]\n",
      "--- Iteration 170: Training loss --- [Data, Label, Total] = [24328.291453.3, 201.800939.3, 121843.258202.3]\n",
      "!!! pred_type filter\n"
     ]
    },
    {
     "name": "stderr",
     "output_type": "stream",
     "text": [
      " 71%|█████████████████████████████████████████████████████████████████████████████████▉                                 | 178/250 [00:11<00:04, 17.04it/s]"
     ]
    },
    {
     "name": "stdout",
     "output_type": "stream",
     "text": [
      "--- Validation --- [threshold, AUC, Accuracy, F score] =  [np.float64(0.811), np.float64(0.99), np.float64(0.94), np.float64(0.952)]\n",
      "--- Training --- [threshold, AUC] =  [np.float64(0.812), np.float64(0.99)]\n",
      "--- Iteration 180: Training loss --- [Data, Label, Total] = [24290.556535.3, 201.601365.3, 121654.384037.3]\n",
      "!!! pred_type filter\n"
     ]
    },
    {
     "name": "stderr",
     "output_type": "stream",
     "text": [
      " 75%|██████████████████████████████████████████████████████████████████████████████████████                             | 187/250 [00:11<00:03, 17.85it/s]"
     ]
    },
    {
     "name": "stdout",
     "output_type": "stream",
     "text": [
      "--- Validation --- [threshold, AUC, Accuracy, F score] =  [np.float64(0.812), np.float64(0.99), np.float64(0.94), np.float64(0.952)]\n",
      "--- Training --- [threshold, AUC] =  [np.float64(0.814), np.float64(0.99)]\n",
      "--- Iteration 190: Training loss --- [Data, Label, Total] = [24257.383552.3, 201.448315.3, 121488.366076.3]\n",
      "!!! pred_type filter\n"
     ]
    },
    {
     "name": "stderr",
     "output_type": "stream",
     "text": [
      " 79%|██████████████████████████████████████████████████████████████████████████████████████████▌                        | 197/250 [00:12<00:02, 18.82it/s]"
     ]
    },
    {
     "name": "stdout",
     "output_type": "stream",
     "text": [
      "--- Validation --- [threshold, AUC, Accuracy, F score] =  [np.float64(0.814), np.float64(0.99), np.float64(0.94), np.float64(0.952)]\n",
      "--- Training --- [threshold, AUC] =  [np.float64(0.805), np.float64(0.99)]\n",
      "--- Iteration 200: Training loss --- [Data, Label, Total] = [24228.221336.3, 201.423939.3, 121342.530621.3]\n",
      "!!! pred_type filter\n"
     ]
    },
    {
     "name": "stderr",
     "output_type": "stream",
     "text": [
      " 83%|███████████████████████████████████████████████████████████████████████████████████████████████▋                   | 208/250 [00:12<00:02, 20.67it/s]"
     ]
    },
    {
     "name": "stdout",
     "output_type": "stream",
     "text": [
      "--- Validation --- [threshold, AUC, Accuracy, F score] =  [np.float64(0.805), np.float64(0.99), np.float64(0.941), np.float64(0.953)]\n",
      "--- Training --- [threshold, AUC] =  [np.float64(0.806), np.float64(0.99)]\n",
      "--- Iteration 210: Training loss --- [Data, Label, Total] = [24202.585840.3, 201.284997.3, 121214.214196.3]\n",
      "!!! pred_type filter\n"
     ]
    },
    {
     "name": "stderr",
     "output_type": "stream",
     "text": [
      " 88%|████████████████████████████████████████████████████████████████████████████████████████████████████▋              | 219/250 [00:13<00:01, 21.77it/s]"
     ]
    },
    {
     "name": "stdout",
     "output_type": "stream",
     "text": [
      "--- Validation --- [threshold, AUC, Accuracy, F score] =  [np.float64(0.806), np.float64(0.99), np.float64(0.941), np.float64(0.953)]\n",
      "--- Training --- [threshold, AUC] =  [np.float64(0.808), np.float64(0.99)]\n",
      "--- Iteration 220: Training loss --- [Data, Label, Total] = [24179.620089.3, 201.221716.3, 121099.322162.3]\n",
      "!!! pred_type filter\n"
     ]
    },
    {
     "name": "stderr",
     "output_type": "stream",
     "text": [
      " 90%|███████████████████████████████████████████████████████████████████████████████████████████████████████            | 224/250 [00:13<00:01, 17.01it/s]"
     ]
    },
    {
     "name": "stdout",
     "output_type": "stream",
     "text": [
      "--- Validation --- [threshold, AUC, Accuracy, F score] =  [np.float64(0.808), np.float64(0.99), np.float64(0.941), np.float64(0.953)]\n",
      "--- Training --- [threshold, AUC] =  [np.float64(0.803), np.float64(0.99)]\n",
      "--- Iteration 230: Training loss --- [Data, Label, Total] = [24158.802099.3, 201.169448.3, 120995.179942.3]\n",
      "!!! pred_type filter\n"
     ]
    },
    {
     "name": "stderr",
     "output_type": "stream",
     "text": [
      " 94%|████████████████████████████████████████████████████████████████████████████████████████████████████████████▌      | 236/250 [00:14<00:00, 19.11it/s]"
     ]
    },
    {
     "name": "stdout",
     "output_type": "stream",
     "text": [
      "--- Validation --- [threshold, AUC, Accuracy, F score] =  [np.float64(0.803), np.float64(0.99), np.float64(0.941), np.float64(0.953)]\n",
      "--- Training --- [threshold, AUC] =  [np.float64(0.811), np.float64(0.99)]\n",
      "--- Iteration 240: Training loss --- [Data, Label, Total] = [24139.740368.3, 200.743764.3, 120899.445606.3]\n",
      "!!! pred_type filter\n"
     ]
    },
    {
     "name": "stderr",
     "output_type": "stream",
     "text": [
      "100%|███████████████████████████████████████████████████████████████████████████████████████████████████████████████████| 250/250 [00:15<00:00, 16.58it/s]"
     ]
    },
    {
     "name": "stdout",
     "output_type": "stream",
     "text": [
      "--- Validation --- [threshold, AUC, Accuracy, F score] =  [np.float64(0.811), np.float64(0.99), np.float64(0.94), np.float64(0.952)]\n",
      "!!! pred_type filter\n"
     ]
    },
    {
     "name": "stderr",
     "output_type": "stream",
     "text": [
      "\n"
     ]
    },
    {
     "name": "stdout",
     "output_type": "stream",
     "text": [
      "num of subgraphs induced on k-paths: 500\n",
      "num of subgraphs induced on k-paths: 500\n",
      "X_list: (361, 1000)\n",
      "2\n",
      "(1, 500)\n",
      "(1, 500)\n",
      "label_vec: (1, 1000)\n",
      "num of subgraphs induced on k-paths: 500\n",
      "num of subgraphs induced on k-paths: 500\n",
      "X_list: (361, 1000)\n",
      "2\n",
      "(1, 500)\n",
      "(1, 500)\n",
      "label_vec: (1, 1000)\n"
     ]
    }
   ],
   "source": [
    "for i in range(15,20):\n",
    "    print(i)\n",
    "    accu.append(roc.run(i))"
   ]
  },
  {
   "cell_type": "code",
   "execution_count": 6,
   "id": "f2f85f94-99ff-47de-a3c6-c6aed3680e55",
   "metadata": {},
   "outputs": [
    {
     "name": "stdout",
     "output_type": "stream",
     "text": [
      "20\n",
      "num of subgraphs induced on k-paths: 500\n",
      "num of subgraphs induced on k-paths: 500\n",
      "X_list: (400, 1000)\n",
      "2\n",
      "(1, 500)\n",
      "(1, 500)\n",
      "label_vec: (1, 1000)\n",
      "num of subgraphs induced on k-paths: 500\n",
      "num of subgraphs induced on k-paths: 971\n",
      "X_list: (400, 1471)\n",
      "2\n",
      "(1, 500)\n",
      "(1, 971)\n",
      "label_vec: (1, 1471)\n",
      "initial loading beta [[ 0.89249611 -0.12244896  0.95517323  0.340405   -0.80925623 -0.98944104\n",
      "  -0.80824891  0.18899446 -0.58956394 -0.08438731  0.40389809 -0.45756489\n",
      "  -0.76664831 -0.14851231 -0.7166915  -0.02019095  0.81373848]]\n"
     ]
    },
    {
     "name": "stderr",
     "output_type": "stream",
     "text": [
      "  0%|                                                                                                                             | 0/250 [00:00<?, ?it/s]"
     ]
    },
    {
     "name": "stdout",
     "output_type": "stream",
     "text": [
      "--- Training --- [threshold, AUC] =  [np.float64(0.662), np.float64(0.986)]\n",
      "--- Iteration 0: Training loss --- [Data, Label, Total] = [53185.658116.3, 229.515902.3, 266157.806481.3]\n"
     ]
    },
    {
     "name": "stderr",
     "output_type": "stream",
     "text": [
      "  2%|██▊                                                                                                                  | 6/250 [00:00<00:04, 52.85it/s]"
     ]
    },
    {
     "name": "stdout",
     "output_type": "stream",
     "text": [
      "--- Training --- [threshold, AUC] =  [np.float64(0.677), np.float64(0.987)]\n",
      "--- Iteration 10: Training loss --- [Data, Label, Total] = [34622.597555.3, 215.244831.3, 173328.232609.3]\n",
      "!!! pred_type filter\n"
     ]
    },
    {
     "name": "stderr",
     "output_type": "stream",
     "text": [
      "  8%|████████▊                                                                                                           | 19/250 [00:00<00:09, 24.44it/s]"
     ]
    },
    {
     "name": "stdout",
     "output_type": "stream",
     "text": [
      "--- Validation --- [threshold, AUC, Accuracy, F score] =  [np.float64(0.677), np.float64(0.987), np.float64(0.955), np.float64(0.965)]\n",
      "--- Training --- [threshold, AUC] =  [np.float64(0.663), np.float64(0.987)]\n",
      "--- Iteration 20: Training loss --- [Data, Label, Total] = [32295.718121.3, 214.754240.3, 161693.344848.3]\n",
      "!!! pred_type filter\n"
     ]
    },
    {
     "name": "stderr",
     "output_type": "stream",
     "text": [
      " 10%|███████████▏                                                                                                        | 24/250 [00:01<00:14, 16.09it/s]"
     ]
    },
    {
     "name": "stdout",
     "output_type": "stream",
     "text": [
      "--- Validation --- [threshold, AUC, Accuracy, F score] =  [np.float64(0.663), np.float64(0.987), np.float64(0.956), np.float64(0.966)]\n",
      "--- Training --- [threshold, AUC] =  [np.float64(0.719), np.float64(0.987)]\n",
      "--- Iteration 30: Training loss --- [Data, Label, Total] = [31005.877452.3, 215.284357.3, 155244.671614.3]\n",
      "!!! pred_type filter\n"
     ]
    },
    {
     "name": "stderr",
     "output_type": "stream",
     "text": [
      " 15%|█████████████████▏                                                                                                  | 37/250 [00:02<00:11, 19.09it/s]"
     ]
    },
    {
     "name": "stdout",
     "output_type": "stream",
     "text": [
      "--- Validation --- [threshold, AUC, Accuracy, F score] =  [np.float64(0.719), np.float64(0.987), np.float64(0.952), np.float64(0.963)]\n",
      "--- Training --- [threshold, AUC] =  [np.float64(0.727), np.float64(0.987)]\n",
      "--- Iteration 40: Training loss --- [Data, Label, Total] = [30271.763298.3, 216.202097.3, 151575.018586.3]\n",
      "!!! pred_type filter\n"
     ]
    },
    {
     "name": "stderr",
     "output_type": "stream",
     "text": [
      " 19%|█████████████████████▊                                                                                              | 47/250 [00:02<00:10, 18.80it/s]"
     ]
    },
    {
     "name": "stdout",
     "output_type": "stream",
     "text": [
      "--- Validation --- [threshold, AUC, Accuracy, F score] =  [np.float64(0.727), np.float64(0.987), np.float64(0.952), np.float64(0.963)]\n",
      "--- Training --- [threshold, AUC] =  [np.float64(0.696), np.float64(0.987)]\n",
      "--- Iteration 50: Training loss --- [Data, Label, Total] = [29766.658572.3, 217.099821.3, 149050.392679.3]\n",
      "!!! pred_type filter\n"
     ]
    },
    {
     "name": "stderr",
     "output_type": "stream",
     "text": [
      " 23%|██████████████████████████▍                                                                                         | 57/250 [00:03<00:10, 18.80it/s]"
     ]
    },
    {
     "name": "stdout",
     "output_type": "stream",
     "text": [
      "--- Validation --- [threshold, AUC, Accuracy, F score] =  [np.float64(0.696), np.float64(0.987), np.float64(0.953), np.float64(0.964)]\n",
      "--- Training --- [threshold, AUC] =  [np.float64(0.682), np.float64(0.987)]\n",
      "--- Iteration 60: Training loss --- [Data, Label, Total] = [29371.853661.3, 217.760721.3, 147077.029028.3]\n",
      "!!! pred_type filter\n"
     ]
    },
    {
     "name": "stderr",
     "output_type": "stream",
     "text": [
      " 26%|██████████████████████████████▌                                                                                     | 66/250 [00:03<00:10, 17.38it/s]"
     ]
    },
    {
     "name": "stdout",
     "output_type": "stream",
     "text": [
      "--- Validation --- [threshold, AUC, Accuracy, F score] =  [np.float64(0.682), np.float64(0.987), np.float64(0.954), np.float64(0.964)]\n"
     ]
    },
    {
     "name": "stderr",
     "output_type": "stream",
     "text": [
      " 28%|████████████████████████████████▍                                                                                   | 70/250 [00:04<00:09, 19.25it/s]"
     ]
    },
    {
     "name": "stdout",
     "output_type": "stream",
     "text": [
      "--- Training --- [threshold, AUC] =  [np.float64(0.686), np.float64(0.987)]\n",
      "--- Iteration 70: Training loss --- [Data, Label, Total] = [29043.940666.3, 218.290772.3, 145437.994100.3]\n",
      "!!! pred_type filter\n"
     ]
    },
    {
     "name": "stderr",
     "output_type": "stream",
     "text": [
      " 32%|█████████████████████████████████████                                                                               | 80/250 [00:04<00:08, 18.99it/s]"
     ]
    },
    {
     "name": "stdout",
     "output_type": "stream",
     "text": [
      "--- Validation --- [threshold, AUC, Accuracy, F score] =  [np.float64(0.686), np.float64(0.987), np.float64(0.954), np.float64(0.964)]\n",
      "--- Training --- [threshold, AUC] =  [np.float64(0.743), np.float64(0.987)]\n",
      "--- Iteration 80: Training loss --- [Data, Label, Total] = [28779.697815.3, 219.085291.3, 144117.574369.3]\n",
      "!!! pred_type filter\n"
     ]
    },
    {
     "name": "stderr",
     "output_type": "stream",
     "text": [
      " 34%|██████████████████████████████████████▉                                                                             | 84/250 [00:05<00:11, 14.38it/s]"
     ]
    },
    {
     "name": "stdout",
     "output_type": "stream",
     "text": [
      "--- Validation --- [threshold, AUC, Accuracy, F score] =  [np.float64(0.743), np.float64(0.987), np.float64(0.95), np.float64(0.961)]\n",
      "--- Training --- [threshold, AUC] =  [np.float64(0.725), np.float64(0.987)]\n",
      "--- Iteration 90: Training loss --- [Data, Label, Total] = [28574.890764.3, 219.710194.3, 143094.164014.3]\n",
      "!!! pred_type filter\n"
     ]
    },
    {
     "name": "stderr",
     "output_type": "stream",
     "text": [
      " 39%|█████████████████████████████████████████████▍                                                                      | 98/250 [00:05<00:07, 19.79it/s]"
     ]
    },
    {
     "name": "stdout",
     "output_type": "stream",
     "text": [
      "--- Validation --- [threshold, AUC, Accuracy, F score] =  [np.float64(0.725), np.float64(0.987), np.float64(0.951), np.float64(0.962)]\n",
      "--- Training --- [threshold, AUC] =  [np.float64(0.656), np.float64(0.987)]\n",
      "--- Iteration 100: Training loss --- [Data, Label, Total] = [28422.494845.3, 220.416370.3, 142332.890594.3]\n",
      "!!! pred_type filter\n"
     ]
    },
    {
     "name": "stderr",
     "output_type": "stream",
     "text": [
      " 44%|██████████████████████████████████████████████████▏                                                                | 109/250 [00:06<00:06, 21.61it/s]"
     ]
    },
    {
     "name": "stdout",
     "output_type": "stream",
     "text": [
      "--- Validation --- [threshold, AUC, Accuracy, F score] =  [np.float64(0.656), np.float64(0.987), np.float64(0.955), np.float64(0.966)]\n",
      "--- Training --- [threshold, AUC] =  [np.float64(0.708), np.float64(0.987)]\n",
      "--- Iteration 110: Training loss --- [Data, Label, Total] = [28314.231102.3, 220.422740.3, 141791.578252.3]\n",
      "!!! pred_type filter\n"
     ]
    },
    {
     "name": "stderr",
     "output_type": "stream",
     "text": [
      " 48%|███████████████████████████████████████████████████████▏                                                           | 120/250 [00:06<00:05, 22.61it/s]"
     ]
    },
    {
     "name": "stdout",
     "output_type": "stream",
     "text": [
      "--- Validation --- [threshold, AUC, Accuracy, F score] =  [np.float64(0.708), np.float64(0.987), np.float64(0.952), np.float64(0.963)]\n",
      "--- Training --- [threshold, AUC] =  [np.float64(0.71), np.float64(0.987)]\n",
      "--- Iteration 120: Training loss --- [Data, Label, Total] = [28240.581525.3, 220.794214.3, 141423.701840.3]\n",
      "!!! pred_type filter\n"
     ]
    },
    {
     "name": "stderr",
     "output_type": "stream",
     "text": [
      " 50%|█████████████████████████████████████████████████████████▌                                                         | 125/250 [00:07<00:07, 17.68it/s]"
     ]
    },
    {
     "name": "stdout",
     "output_type": "stream",
     "text": [
      "--- Validation --- [threshold, AUC, Accuracy, F score] =  [np.float64(0.71), np.float64(0.987), np.float64(0.952), np.float64(0.963)]\n",
      "--- Training --- [threshold, AUC] =  [np.float64(0.717), np.float64(0.987)]\n",
      "--- Iteration 130: Training loss --- [Data, Label, Total] = [28191.857666.3, 221.269785.3, 141180.558114.3]\n",
      "!!! pred_type filter\n"
     ]
    },
    {
     "name": "stderr",
     "output_type": "stream",
     "text": [
      " 55%|███████████████████████████████████████████████████████████████▍                                                   | 138/250 [00:07<00:05, 21.49it/s]"
     ]
    },
    {
     "name": "stdout",
     "output_type": "stream",
     "text": [
      "--- Validation --- [threshold, AUC, Accuracy, F score] =  [np.float64(0.717), np.float64(0.987), np.float64(0.952), np.float64(0.963)]\n",
      "--- Training --- [threshold, AUC] =  [np.float64(0.714), np.float64(0.987)]\n",
      "--- Iteration 140: Training loss --- [Data, Label, Total] = [28158.474546.3, 221.646384.3, 141014.019114.3]\n",
      "!!! pred_type filter\n"
     ]
    },
    {
     "name": "stderr",
     "output_type": "stream",
     "text": [
      " 60%|████████████████████████████████████████████████████████████████████▌                                              | 149/250 [00:08<00:04, 22.73it/s]"
     ]
    },
    {
     "name": "stdout",
     "output_type": "stream",
     "text": [
      "--- Validation --- [threshold, AUC, Accuracy, F score] =  [np.float64(0.714), np.float64(0.987), np.float64(0.952), np.float64(0.963)]\n",
      "--- Training --- [threshold, AUC] =  [np.float64(0.704), np.float64(0.987)]\n",
      "--- Iteration 150: Training loss --- [Data, Label, Total] = [28134.380229.3, 221.801366.3, 140893.702513.3]\n",
      "!!! pred_type filter\n"
     ]
    },
    {
     "name": "stderr",
     "output_type": "stream",
     "text": [
      " 62%|██████████████████████████████████████████████████████████████████████▊                                            | 154/250 [00:08<00:05, 17.03it/s]"
     ]
    },
    {
     "name": "stdout",
     "output_type": "stream",
     "text": [
      "--- Validation --- [threshold, AUC, Accuracy, F score] =  [np.float64(0.704), np.float64(0.987), np.float64(0.952), np.float64(0.963)]\n",
      "--- Training --- [threshold, AUC] =  [np.float64(0.707), np.float64(0.987)]\n",
      "--- Iteration 160: Training loss --- [Data, Label, Total] = [28116.219774.3, 222.101057.3, 140803.199925.3]\n",
      "!!! pred_type filter\n"
     ]
    },
    {
     "name": "stderr",
     "output_type": "stream",
     "text": [
      " 67%|█████████████████████████████████████████████████████████████████████████████▎                                     | 168/250 [00:09<00:03, 21.36it/s]"
     ]
    },
    {
     "name": "stdout",
     "output_type": "stream",
     "text": [
      "--- Validation --- [threshold, AUC, Accuracy, F score] =  [np.float64(0.707), np.float64(0.987), np.float64(0.952), np.float64(0.963)]\n",
      "--- Training --- [threshold, AUC] =  [np.float64(0.703), np.float64(0.987)]\n",
      "--- Iteration 170: Training loss --- [Data, Label, Total] = [28101.601318.3, 222.294991.3, 140730.301583.3]\n",
      "!!! pred_type filter\n"
     ]
    },
    {
     "name": "stderr",
     "output_type": "stream",
     "text": [
      " 71%|█████████████████████████████████████████████████████████████████████████████████▍                                 | 177/250 [00:10<00:04, 17.41it/s]"
     ]
    },
    {
     "name": "stdout",
     "output_type": "stream",
     "text": [
      "--- Validation --- [threshold, AUC, Accuracy, F score] =  [np.float64(0.703), np.float64(0.987), np.float64(0.952), np.float64(0.963)]\n",
      "--- Training --- [threshold, AUC] =  [np.float64(0.712), np.float64(0.987)]\n",
      "--- Iteration 180: Training loss --- [Data, Label, Total] = [28088.833701.3, 222.410556.3, 140666.579062.3]\n",
      "!!! pred_type filter\n"
     ]
    },
    {
     "name": "stderr",
     "output_type": "stream",
     "text": [
      " 75%|██████████████████████████████████████████████████████████████████████████████████████▍                            | 188/250 [00:10<00:03, 19.61it/s]"
     ]
    },
    {
     "name": "stdout",
     "output_type": "stream",
     "text": [
      "--- Validation --- [threshold, AUC, Accuracy, F score] =  [np.float64(0.712), np.float64(0.987), np.float64(0.952), np.float64(0.963)]\n",
      "--- Training --- [threshold, AUC] =  [np.float64(0.701), np.float64(0.987)]\n",
      "--- Iteration 190: Training loss --- [Data, Label, Total] = [28077.036709.3, 222.562730.3, 140607.746276.3]\n",
      "!!! pred_type filter\n"
     ]
    },
    {
     "name": "stderr",
     "output_type": "stream",
     "text": [
      " 80%|███████████████████████████████████████████████████████████████████████████████████████████▌                       | 199/250 [00:11<00:02, 21.51it/s]"
     ]
    },
    {
     "name": "stdout",
     "output_type": "stream",
     "text": [
      "--- Validation --- [threshold, AUC, Accuracy, F score] =  [np.float64(0.701), np.float64(0.987), np.float64(0.952), np.float64(0.963)]\n",
      "--- Training --- [threshold, AUC] =  [np.float64(0.728), np.float64(0.987)]\n",
      "--- Iteration 200: Training loss --- [Data, Label, Total] = [28065.969041.3, 223.016625.3, 140552.861832.3]\n",
      "!!! pred_type filter\n"
     ]
    },
    {
     "name": "stderr",
     "output_type": "stream",
     "text": [
      " 82%|█████████████████████████████████████████████████████████████████████████████████████████████▊                     | 204/250 [00:11<00:02, 17.12it/s]"
     ]
    },
    {
     "name": "stdout",
     "output_type": "stream",
     "text": [
      "--- Validation --- [threshold, AUC, Accuracy, F score] =  [np.float64(0.728), np.float64(0.987), np.float64(0.951), np.float64(0.962)]\n",
      "--- Training --- [threshold, AUC] =  [np.float64(0.728), np.float64(0.987)]\n",
      "--- Iteration 210: Training loss --- [Data, Label, Total] = [28055.504943.3, 223.380376.3, 140500.905090.3]\n",
      "!!! pred_type filter\n"
     ]
    },
    {
     "name": "stderr",
     "output_type": "stream",
     "text": [
      " 87%|████████████████████████████████████████████████████████████████████████████████████████████████████▎              | 218/250 [00:12<00:01, 21.73it/s]"
     ]
    },
    {
     "name": "stdout",
     "output_type": "stream",
     "text": [
      "--- Validation --- [threshold, AUC, Accuracy, F score] =  [np.float64(0.728), np.float64(0.987), np.float64(0.951), np.float64(0.962)]\n",
      "--- Training --- [threshold, AUC] =  [np.float64(0.729), np.float64(0.987)]\n",
      "--- Iteration 220: Training loss --- [Data, Label, Total] = [28045.362568.3, 223.773522.3, 140450.586360.3]\n",
      "!!! pred_type filter\n"
     ]
    },
    {
     "name": "stderr",
     "output_type": "stream",
     "text": [
      " 91%|████████████████████████████████████████████████████████████████████████████████████████████████████████▉          | 228/250 [00:12<00:01, 21.17it/s]"
     ]
    },
    {
     "name": "stdout",
     "output_type": "stream",
     "text": [
      "--- Validation --- [threshold, AUC, Accuracy, F score] =  [np.float64(0.729), np.float64(0.987), np.float64(0.951), np.float64(0.962)]\n",
      "--- Training --- [threshold, AUC] =  [np.float64(0.73), np.float64(0.987)]\n",
      "--- Iteration 230: Training loss --- [Data, Label, Total] = [28035.430294.3, 223.963371.3, 140401.114843.3]\n",
      "!!! pred_type filter\n"
     ]
    },
    {
     "name": "stderr",
     "output_type": "stream",
     "text": [
      " 96%|█████████████████████████████████████████████████████████████████████████████████████████████████████████████▉     | 239/250 [00:13<00:00, 22.03it/s]"
     ]
    },
    {
     "name": "stdout",
     "output_type": "stream",
     "text": [
      "--- Validation --- [threshold, AUC, Accuracy, F score] =  [np.float64(0.73), np.float64(0.987), np.float64(0.951), np.float64(0.962)]\n",
      "--- Training --- [threshold, AUC] =  [np.float64(0.728), np.float64(0.987)]\n",
      "--- Iteration 240: Training loss --- [Data, Label, Total] = [28025.965720.3, 224.287252.3, 140354.115854.3]\n",
      "!!! pred_type filter\n"
     ]
    },
    {
     "name": "stderr",
     "output_type": "stream",
     "text": [
      "100%|███████████████████████████████████████████████████████████████████████████████████████████████████████████████████| 250/250 [00:14<00:00, 17.72it/s]"
     ]
    },
    {
     "name": "stdout",
     "output_type": "stream",
     "text": [
      "--- Validation --- [threshold, AUC, Accuracy, F score] =  [np.float64(0.728), np.float64(0.987), np.float64(0.951), np.float64(0.962)]\n",
      "!!! pred_type filter\n"
     ]
    },
    {
     "name": "stderr",
     "output_type": "stream",
     "text": [
      "\n"
     ]
    },
    {
     "name": "stdout",
     "output_type": "stream",
     "text": [
      "num of subgraphs induced on k-paths: 500\n",
      "num of subgraphs induced on k-paths: 500\n",
      "X_list: (400, 1000)\n",
      "2\n",
      "(1, 500)\n",
      "(1, 500)\n",
      "label_vec: (1, 1000)\n",
      "num of subgraphs induced on k-paths: 500\n",
      "num of subgraphs induced on k-paths: 500\n",
      "X_list: (400, 1000)\n",
      "2\n",
      "(1, 500)\n",
      "(1, 500)\n",
      "label_vec: (1, 1000)\n",
      "21\n",
      "num of subgraphs induced on k-paths: 500\n",
      "num of subgraphs induced on k-paths: 500\n",
      "X_list: (441, 1000)\n",
      "2\n",
      "(1, 500)\n",
      "(1, 500)\n",
      "label_vec: (1, 1000)\n",
      "num of subgraphs induced on k-paths: 500\n",
      "num of subgraphs induced on k-paths: 970\n",
      "X_list: (441, 1470)\n",
      "2\n",
      "(1, 500)\n",
      "(1, 970)\n",
      "label_vec: (1, 1470)\n",
      "initial loading beta [[ 0.24323085 -0.02454186 -0.91533705  0.51080379 -0.41049835 -0.14851109\n",
      "   0.62478397  0.47561286  0.40790317  0.80360527 -0.5894928  -0.08141471\n",
      "  -0.93202334  0.94867679 -0.51347983  0.38154297  0.1279982 ]]\n"
     ]
    },
    {
     "name": "stderr",
     "output_type": "stream",
     "text": [
      "  0%|                                                                                                                             | 0/250 [00:00<?, ?it/s]"
     ]
    },
    {
     "name": "stdout",
     "output_type": "stream",
     "text": [
      "--- Training --- [threshold, AUC] =  [np.float64(0.666), np.float64(0.99)]\n",
      "--- Iteration 0: Training loss --- [Data, Label, Total] = [59280.339266.3, 193.579675.3, 296595.276005.3]\n"
     ]
    },
    {
     "name": "stderr",
     "output_type": "stream",
     "text": [
      "  4%|████▏                                                                                                                | 9/250 [00:00<00:08, 28.46it/s]"
     ]
    },
    {
     "name": "stdout",
     "output_type": "stream",
     "text": [
      "--- Training --- [threshold, AUC] =  [np.float64(0.628), np.float64(0.992)]\n",
      "--- Iteration 10: Training loss --- [Data, Label, Total] = [38488.605097.3, 169.541545.3, 192612.567030.3]\n",
      "!!! pred_type filter\n"
     ]
    },
    {
     "name": "stderr",
     "output_type": "stream",
     "text": [
      "  7%|████████▎                                                                                                           | 18/250 [00:01<00:14, 16.50it/s]"
     ]
    },
    {
     "name": "stdout",
     "output_type": "stream",
     "text": [
      "--- Validation --- [threshold, AUC, Accuracy, F score] =  [np.float64(0.628), np.float64(0.992), np.float64(0.97), np.float64(0.977)]\n",
      "--- Training --- [threshold, AUC] =  [np.float64(0.68), np.float64(0.992)]\n",
      "--- Iteration 20: Training loss --- [Data, Label, Total] = [35942.875554.3, 167.127177.3, 179881.504949.3]\n",
      "!!! pred_type filter\n"
     ]
    },
    {
     "name": "stderr",
     "output_type": "stream",
     "text": [
      " 11%|████████████▌                                                                                                       | 27/250 [00:01<00:15, 14.49it/s]"
     ]
    },
    {
     "name": "stdout",
     "output_type": "stream",
     "text": [
      "--- Validation --- [threshold, AUC, Accuracy, F score] =  [np.float64(0.68), np.float64(0.992), np.float64(0.971), np.float64(0.978)]\n",
      "--- Training --- [threshold, AUC] =  [np.float64(0.649), np.float64(0.992)]\n",
      "--- Iteration 30: Training loss --- [Data, Label, Total] = [34647.881802.3, 167.314282.3, 173406.723290.3]\n",
      "!!! pred_type filter\n"
     ]
    },
    {
     "name": "stderr",
     "output_type": "stream",
     "text": [
      " 14%|████████████████▋                                                                                                   | 36/250 [00:02<00:14, 14.90it/s]"
     ]
    },
    {
     "name": "stdout",
     "output_type": "stream",
     "text": [
      "--- Validation --- [threshold, AUC, Accuracy, F score] =  [np.float64(0.649), np.float64(0.992), np.float64(0.972), np.float64(0.979)]\n",
      "--- Training --- [threshold, AUC] =  [np.float64(0.66), np.float64(0.992)]\n",
      "--- Iteration 40: Training loss --- [Data, Label, Total] = [33910.308346.3, 167.393625.3, 169718.935356.3]\n",
      "!!! pred_type filter\n"
     ]
    },
    {
     "name": "stderr",
     "output_type": "stream",
     "text": [
      " 18%|█████████████████████▎                                                                                              | 46/250 [00:03<00:13, 15.32it/s]"
     ]
    },
    {
     "name": "stdout",
     "output_type": "stream",
     "text": [
      "--- Validation --- [threshold, AUC, Accuracy, F score] =  [np.float64(0.66), np.float64(0.992), np.float64(0.971), np.float64(0.978)]\n",
      "--- Training --- [threshold, AUC] =  [np.float64(0.657), np.float64(0.992)]\n",
      "--- Iteration 50: Training loss --- [Data, Label, Total] = [33437.870074.3, 167.384913.3, 167356.735281.3]\n",
      "!!! pred_type filter\n"
     ]
    },
    {
     "name": "stderr",
     "output_type": "stream",
     "text": [
      " 23%|██████████████████████████▉                                                                                         | 58/250 [00:04<00:10, 17.90it/s]"
     ]
    },
    {
     "name": "stdout",
     "output_type": "stream",
     "text": [
      "--- Validation --- [threshold, AUC, Accuracy, F score] =  [np.float64(0.657), np.float64(0.992), np.float64(0.972), np.float64(0.979)]\n",
      "--- Training --- [threshold, AUC] =  [np.float64(0.641), np.float64(0.993)]\n",
      "--- Iteration 60: Training loss --- [Data, Label, Total] = [33118.884222.3, 167.141217.3, 165761.562327.3]\n",
      "!!! pred_type filter\n"
     ]
    },
    {
     "name": "stderr",
     "output_type": "stream",
     "text": [
      " 27%|███████████████████████████████▌                                                                                    | 68/250 [00:04<00:11, 16.20it/s]"
     ]
    },
    {
     "name": "stdout",
     "output_type": "stream",
     "text": [
      "--- Validation --- [threshold, AUC, Accuracy, F score] =  [np.float64(0.641), np.float64(0.993), np.float64(0.973), np.float64(0.979)]\n",
      "--- Training --- [threshold, AUC] =  [np.float64(0.66), np.float64(0.993)]\n",
      "--- Iteration 70: Training loss --- [Data, Label, Total] = [32890.783936.3, 167.007967.3, 164620.927645.3]\n",
      "!!! pred_type filter\n"
     ]
    },
    {
     "name": "stderr",
     "output_type": "stream",
     "text": [
      " 31%|███████████████████████████████████▋                                                                                | 77/250 [00:05<00:11, 14.90it/s]"
     ]
    },
    {
     "name": "stdout",
     "output_type": "stream",
     "text": [
      "--- Validation --- [threshold, AUC, Accuracy, F score] =  [np.float64(0.66), np.float64(0.993), np.float64(0.971), np.float64(0.978)]\n",
      "--- Training --- [threshold, AUC] =  [np.float64(0.664), np.float64(0.993)]\n",
      "--- Iteration 80: Training loss --- [Data, Label, Total] = [32721.334508.3, 166.551336.3, 163773.223874.3]\n",
      "!!! pred_type filter\n"
     ]
    },
    {
     "name": "stderr",
     "output_type": "stream",
     "text": [
      " 35%|████████████████████████████████████████▊                                                                           | 88/250 [00:06<00:09, 16.63it/s]"
     ]
    },
    {
     "name": "stdout",
     "output_type": "stream",
     "text": [
      "--- Validation --- [threshold, AUC, Accuracy, F score] =  [np.float64(0.664), np.float64(0.993), np.float64(0.971), np.float64(0.978)]\n",
      "--- Training --- [threshold, AUC] =  [np.float64(0.687), np.float64(0.993)]\n",
      "--- Iteration 90: Training loss --- [Data, Label, Total] = [32593.171914.3, 166.178146.3, 163132.037716.3]\n",
      "!!! pred_type filter\n"
     ]
    },
    {
     "name": "stderr",
     "output_type": "stream",
     "text": [
      " 39%|█████████████████████████████████████████████                                                                       | 97/250 [00:06<00:09, 16.46it/s]"
     ]
    },
    {
     "name": "stdout",
     "output_type": "stream",
     "text": [
      "--- Validation --- [threshold, AUC, Accuracy, F score] =  [np.float64(0.687), np.float64(0.993), np.float64(0.971), np.float64(0.978)]\n",
      "--- Training --- [threshold, AUC] =  [np.float64(0.681), np.float64(0.993)]\n",
      "--- Iteration 100: Training loss --- [Data, Label, Total] = [32492.371781.3, 165.876465.3, 162627.735371.3]\n",
      "!!! pred_type filter\n"
     ]
    },
    {
     "name": "stderr",
     "output_type": "stream",
     "text": [
      " 43%|█████████████████████████████████████████████████▏                                                                 | 107/250 [00:07<00:08, 17.21it/s]"
     ]
    },
    {
     "name": "stdout",
     "output_type": "stream",
     "text": [
      "--- Validation --- [threshold, AUC, Accuracy, F score] =  [np.float64(0.681), np.float64(0.993), np.float64(0.971), np.float64(0.978)]\n",
      "--- Training --- [threshold, AUC] =  [np.float64(0.67), np.float64(0.993)]\n",
      "--- Iteration 110: Training loss --- [Data, Label, Total] = [32408.080545.3, 165.697667.3, 162206.100391.3]\n",
      "!!! pred_type filter\n"
     ]
    },
    {
     "name": "stderr",
     "output_type": "stream",
     "text": [
      " 46%|█████████████████████████████████████████████████████▎                                                             | 116/250 [00:08<00:07, 16.91it/s]"
     ]
    },
    {
     "name": "stdout",
     "output_type": "stream",
     "text": [
      "--- Validation --- [threshold, AUC, Accuracy, F score] =  [np.float64(0.67), np.float64(0.993), np.float64(0.971), np.float64(0.978)]\n",
      "--- Training --- [threshold, AUC] =  [np.float64(0.664), np.float64(0.993)]\n",
      "--- Iteration 120: Training loss --- [Data, Label, Total] = [32335.088283.3, 165.466831.3, 161840.908246.3]\n",
      "!!! pred_type filter\n"
     ]
    },
    {
     "name": "stderr",
     "output_type": "stream",
     "text": [
      " 51%|██████████████████████████████████████████████████████████▍                                                        | 127/250 [00:08<00:06, 18.17it/s]"
     ]
    },
    {
     "name": "stdout",
     "output_type": "stream",
     "text": [
      "--- Validation --- [threshold, AUC, Accuracy, F score] =  [np.float64(0.664), np.float64(0.993), np.float64(0.971), np.float64(0.978)]\n",
      "--- Training --- [threshold, AUC] =  [np.float64(0.728), np.float64(0.993)]\n",
      "--- Iteration 130: Training loss --- [Data, Label, Total] = [32270.007139.3, 165.530184.3, 161515.565879.3]\n",
      "!!! pred_type filter\n"
     ]
    },
    {
     "name": "stderr",
     "output_type": "stream",
     "text": [
      " 55%|███████████████████████████████████████████████████████████████                                                    | 137/250 [00:09<00:06, 17.16it/s]"
     ]
    },
    {
     "name": "stdout",
     "output_type": "stream",
     "text": [
      "--- Validation --- [threshold, AUC, Accuracy, F score] =  [np.float64(0.728), np.float64(0.993), np.float64(0.97), np.float64(0.977)]\n",
      "--- Training --- [threshold, AUC] =  [np.float64(0.72), np.float64(0.993)]\n",
      "--- Iteration 140: Training loss --- [Data, Label, Total] = [32211.010660.3, 165.434814.3, 161220.488115.3]\n",
      "!!! pred_type filter\n"
     ]
    },
    {
     "name": "stderr",
     "output_type": "stream",
     "text": [
      " 59%|███████████████████████████████████████████████████████████████████▌                                               | 147/250 [00:10<00:06, 15.78it/s]"
     ]
    },
    {
     "name": "stdout",
     "output_type": "stream",
     "text": [
      "--- Validation --- [threshold, AUC, Accuracy, F score] =  [np.float64(0.72), np.float64(0.993), np.float64(0.97), np.float64(0.977)]\n",
      "--- Training --- [threshold, AUC] =  [np.float64(0.719), np.float64(0.993)]\n",
      "--- Iteration 150: Training loss --- [Data, Label, Total] = [32158.338924.3, 165.490565.3, 160957.185186.3]\n",
      "!!! pred_type filter\n"
     ]
    },
    {
     "name": "stderr",
     "output_type": "stream",
     "text": [
      " 62%|██████████████████████████████████████████████████████████████████████▊                                            | 154/250 [00:11<00:07, 12.87it/s]"
     ]
    },
    {
     "name": "stdout",
     "output_type": "stream",
     "text": [
      "--- Validation --- [threshold, AUC, Accuracy, F score] =  [np.float64(0.719), np.float64(0.993), np.float64(0.971), np.float64(0.977)]\n"
     ]
    },
    {
     "name": "stderr",
     "output_type": "stream",
     "text": [
      " 64%|█████████████████████████████████████████████████████████████████████████▌                                         | 160/250 [00:11<00:05, 17.90it/s]"
     ]
    },
    {
     "name": "stdout",
     "output_type": "stream",
     "text": [
      "--- Training --- [threshold, AUC] =  [np.float64(0.718), np.float64(0.993)]\n",
      "--- Iteration 160: Training loss --- [Data, Label, Total] = [32111.990750.3, 165.634827.3, 160725.588578.3]\n",
      "!!! pred_type filter\n"
     ]
    },
    {
     "name": "stderr",
     "output_type": "stream",
     "text": [
      " 68%|██████████████████████████████████████████████████████████████████████████████▏                                    | 170/250 [00:12<00:04, 16.73it/s]"
     ]
    },
    {
     "name": "stdout",
     "output_type": "stream",
     "text": [
      "--- Validation --- [threshold, AUC, Accuracy, F score] =  [np.float64(0.718), np.float64(0.993), np.float64(0.971), np.float64(0.977)]\n",
      "--- Training --- [threshold, AUC] =  [np.float64(0.718), np.float64(0.993)]\n",
      "--- Iteration 170: Training loss --- [Data, Label, Total] = [32071.353554.3, 165.622962.3, 160522.390731.3]\n",
      "!!! pred_type filter\n"
     ]
    },
    {
     "name": "stderr",
     "output_type": "stream",
     "text": [
      " 72%|██████████████████████████████████████████████████████████████████████████████████▊                                | 180/250 [00:12<00:03, 17.89it/s]"
     ]
    },
    {
     "name": "stdout",
     "output_type": "stream",
     "text": [
      "--- Validation --- [threshold, AUC, Accuracy, F score] =  [np.float64(0.718), np.float64(0.993), np.float64(0.971), np.float64(0.977)]\n",
      "--- Training --- [threshold, AUC] =  [np.float64(0.718), np.float64(0.993)]\n",
      "--- Iteration 180: Training loss --- [Data, Label, Total] = [32035.096861.3, 166.032032.3, 160341.516337.3]\n",
      "!!! pred_type filter\n"
     ]
    },
    {
     "name": "stderr",
     "output_type": "stream",
     "text": [
      " 76%|███████████████████████████████████████████████████████████████████████████████████████▍                           | 190/250 [00:13<00:03, 18.27it/s]"
     ]
    },
    {
     "name": "stdout",
     "output_type": "stream",
     "text": [
      "--- Validation --- [threshold, AUC, Accuracy, F score] =  [np.float64(0.718), np.float64(0.993), np.float64(0.971), np.float64(0.977)]\n",
      "--- Training --- [threshold, AUC] =  [np.float64(0.718), np.float64(0.993)]\n",
      "--- Iteration 190: Training loss --- [Data, Label, Total] = [32001.918325.3, 165.850123.3, 160175.441748.3]\n",
      "!!! pred_type filter\n"
     ]
    },
    {
     "name": "stderr",
     "output_type": "stream",
     "text": [
      " 80%|████████████████████████████████████████████████████████████████████████████████████████████                       | 200/250 [00:13<00:02, 18.91it/s]"
     ]
    },
    {
     "name": "stdout",
     "output_type": "stream",
     "text": [
      "--- Validation --- [threshold, AUC, Accuracy, F score] =  [np.float64(0.718), np.float64(0.993), np.float64(0.971), np.float64(0.977)]\n",
      "--- Training --- [threshold, AUC] =  [np.float64(0.714), np.float64(0.993)]\n",
      "--- Iteration 200: Training loss --- [Data, Label, Total] = [31970.717548.3, 165.766593.3, 160019.354335.3]\n",
      "!!! pred_type filter\n"
     ]
    },
    {
     "name": "stderr",
     "output_type": "stream",
     "text": [
      " 84%|████████████████████████████████████████████████████████████████████████████████████████████████▌                  | 210/250 [00:14<00:02, 18.88it/s]"
     ]
    },
    {
     "name": "stdout",
     "output_type": "stream",
     "text": [
      "--- Validation --- [threshold, AUC, Accuracy, F score] =  [np.float64(0.714), np.float64(0.993), np.float64(0.971), np.float64(0.977)]\n",
      "--- Training --- [threshold, AUC] =  [np.float64(0.713), np.float64(0.993)]\n",
      "--- Iteration 210: Training loss --- [Data, Label, Total] = [31940.571993.3, 165.921423.3, 159868.781389.3]\n",
      "!!! pred_type filter\n"
     ]
    },
    {
     "name": "stderr",
     "output_type": "stream",
     "text": [
      " 86%|██████████████████████████████████████████████████████████████████████████████████████████████████▍                | 214/250 [00:14<00:02, 14.00it/s]"
     ]
    },
    {
     "name": "stdout",
     "output_type": "stream",
     "text": [
      "--- Validation --- [threshold, AUC, Accuracy, F score] =  [np.float64(0.713), np.float64(0.993), np.float64(0.971), np.float64(0.977)]\n",
      "--- Training --- [threshold, AUC] =  [np.float64(0.712), np.float64(0.993)]\n",
      "--- Iteration 220: Training loss --- [Data, Label, Total] = [31911.277367.3, 165.856493.3, 159722.243329.3]\n",
      "!!! pred_type filter\n"
     ]
    },
    {
     "name": "stderr",
     "output_type": "stream",
     "text": [
      " 91%|████████████████████████████████████████████████████████████████████████████████████████████████████████▍          | 227/250 [00:15<00:01, 17.46it/s]"
     ]
    },
    {
     "name": "stdout",
     "output_type": "stream",
     "text": [
      "--- Validation --- [threshold, AUC, Accuracy, F score] =  [np.float64(0.712), np.float64(0.993), np.float64(0.971), np.float64(0.977)]\n",
      "--- Training --- [threshold, AUC] =  [np.float64(0.711), np.float64(0.993)]\n",
      "--- Iteration 230: Training loss --- [Data, Label, Total] = [31882.730716.3, 166.151170.3, 159579.804753.3]\n",
      "!!! pred_type filter\n"
     ]
    },
    {
     "name": "stderr",
     "output_type": "stream",
     "text": [
      " 94%|████████████████████████████████████████████████████████████████████████████████████████████████████████████       | 235/250 [00:16<00:00, 15.40it/s]"
     ]
    },
    {
     "name": "stdout",
     "output_type": "stream",
     "text": [
      "--- Validation --- [threshold, AUC, Accuracy, F score] =  [np.float64(0.711), np.float64(0.993), np.float64(0.971), np.float64(0.977)]\n"
     ]
    },
    {
     "name": "stderr",
     "output_type": "stream",
     "text": [
      " 96%|██████████████████████████████████████████████████████████████████████████████████████████████████████████████▍    | 240/250 [00:16<00:00, 19.51it/s]"
     ]
    },
    {
     "name": "stdout",
     "output_type": "stream",
     "text": [
      "--- Training --- [threshold, AUC] =  [np.float64(0.707), np.float64(0.993)]\n",
      "--- Iteration 240: Training loss --- [Data, Label, Total] = [31854.981022.3, 166.335521.3, 159441.240630.3]\n",
      "!!! pred_type filter\n"
     ]
    },
    {
     "name": "stderr",
     "output_type": "stream",
     "text": [
      "100%|███████████████████████████████████████████████████████████████████████████████████████████████████████████████████| 250/250 [00:17<00:00, 14.64it/s]"
     ]
    },
    {
     "name": "stdout",
     "output_type": "stream",
     "text": [
      "--- Validation --- [threshold, AUC, Accuracy, F score] =  [np.float64(0.707), np.float64(0.993), np.float64(0.971), np.float64(0.977)]\n",
      "!!! pred_type filter\n"
     ]
    },
    {
     "name": "stderr",
     "output_type": "stream",
     "text": [
      "\n"
     ]
    },
    {
     "name": "stdout",
     "output_type": "stream",
     "text": [
      "num of subgraphs induced on k-paths: 500\n",
      "num of subgraphs induced on k-paths: 500\n",
      "X_list: (441, 1000)\n",
      "2\n",
      "(1, 500)\n",
      "(1, 500)\n",
      "label_vec: (1, 1000)\n",
      "num of subgraphs induced on k-paths: 500\n",
      "num of subgraphs induced on k-paths: 500\n",
      "X_list: (441, 1000)\n",
      "2\n",
      "(1, 500)\n",
      "(1, 500)\n",
      "label_vec: (1, 1000)\n",
      "22\n",
      "num of subgraphs induced on k-paths: 500\n",
      "num of subgraphs induced on k-paths: 500\n",
      "X_list: (484, 1000)\n",
      "2\n",
      "(1, 500)\n",
      "(1, 500)\n",
      "label_vec: (1, 1000)\n",
      "num of subgraphs induced on k-paths: 500\n",
      "num of subgraphs induced on k-paths: 981\n",
      "X_list: (484, 1481)\n",
      "2\n",
      "(1, 500)\n",
      "(1, 981)\n",
      "label_vec: (1, 1481)\n",
      "initial loading beta [[ 0.42698433 -0.37179732 -0.15527356  0.83098571  0.80810786  0.32716388\n",
      "  -0.44559673  0.15236726 -0.27114295 -0.52347383  0.60949293  0.66091374\n",
      "  -0.61932476  0.3651289   0.16824339  0.27606514 -0.06926538]]\n"
     ]
    },
    {
     "name": "stderr",
     "output_type": "stream",
     "text": [
      "  2%|█▊                                                                                                                   | 4/250 [00:00<00:06, 37.13it/s]"
     ]
    },
    {
     "name": "stdout",
     "output_type": "stream",
     "text": [
      "--- Training --- [threshold, AUC] =  [np.float64(0.608), np.float64(0.993)]\n",
      "--- Iteration 0: Training loss --- [Data, Label, Total] = [63871.360073.3, 168.923935.3, 319525.724298.3]\n"
     ]
    },
    {
     "name": "stderr",
     "output_type": "stream",
     "text": [
      "  4%|████▏                                                                                                                | 9/250 [00:00<00:05, 40.18it/s]"
     ]
    },
    {
     "name": "stdout",
     "output_type": "stream",
     "text": [
      "--- Training --- [threshold, AUC] =  [np.float64(0.68), np.float64(0.994)]\n",
      "--- Iteration 10: Training loss --- [Data, Label, Total] = [41898.996475.3, 148.871710.3, 209643.854086.3]\n",
      "!!! pred_type filter\n"
     ]
    },
    {
     "name": "stderr",
     "output_type": "stream",
     "text": [
      "  8%|█████████▎                                                                                                          | 20/250 [00:01<00:12, 18.37it/s]"
     ]
    },
    {
     "name": "stdout",
     "output_type": "stream",
     "text": [
      "--- Validation --- [threshold, AUC, Accuracy, F score] =  [np.float64(0.68), np.float64(0.994), np.float64(0.967), np.float64(0.975)]\n",
      "--- Training --- [threshold, AUC] =  [np.float64(0.638), np.float64(0.994)]\n",
      "--- Iteration 20: Training loss --- [Data, Label, Total] = [39499.500695.3, 149.608402.3, 197647.111879.3]\n",
      "!!! pred_type filter\n"
     ]
    },
    {
     "name": "stderr",
     "output_type": "stream",
     "text": [
      " 12%|█████████████▉                                                                                                      | 30/250 [00:01<00:12, 17.61it/s]"
     ]
    },
    {
     "name": "stdout",
     "output_type": "stream",
     "text": [
      "--- Validation --- [threshold, AUC, Accuracy, F score] =  [np.float64(0.638), np.float64(0.994), np.float64(0.968), np.float64(0.976)]\n",
      "--- Training --- [threshold, AUC] =  [np.float64(0.606), np.float64(0.994)]\n",
      "--- Iteration 30: Training loss --- [Data, Label, Total] = [38165.941109.3, 149.478012.3, 190979.183560.3]\n",
      "!!! pred_type filter\n"
     ]
    },
    {
     "name": "stderr",
     "output_type": "stream",
     "text": [
      " 16%|██████████████████▌                                                                                                 | 40/250 [00:02<00:12, 16.19it/s]"
     ]
    },
    {
     "name": "stdout",
     "output_type": "stream",
     "text": [
      "--- Validation --- [threshold, AUC, Accuracy, F score] =  [np.float64(0.606), np.float64(0.994), np.float64(0.969), np.float64(0.976)]\n",
      "--- Training --- [threshold, AUC] =  [np.float64(0.728), np.float64(0.994)]\n",
      "--- Iteration 40: Training loss --- [Data, Label, Total] = [37322.321155.3, 149.528607.3, 186761.134383.3]\n",
      "!!! pred_type filter\n"
     ]
    },
    {
     "name": "stderr",
     "output_type": "stream",
     "text": [
      " 20%|██████████████████████▋                                                                                             | 49/250 [00:03<00:12, 16.02it/s]"
     ]
    },
    {
     "name": "stdout",
     "output_type": "stream",
     "text": [
      "--- Validation --- [threshold, AUC, Accuracy, F score] =  [np.float64(0.728), np.float64(0.994), np.float64(0.965), np.float64(0.973)]\n",
      "--- Training --- [threshold, AUC] =  [np.float64(0.744), np.float64(0.994)]\n",
      "--- Iteration 50: Training loss --- [Data, Label, Total] = [36817.814499.3, 149.673960.3, 184238.746454.3]\n",
      "!!! pred_type filter\n"
     ]
    },
    {
     "name": "stderr",
     "output_type": "stream",
     "text": [
      " 24%|███████████████████████████▍                                                                                        | 59/250 [00:03<00:11, 16.29it/s]"
     ]
    },
    {
     "name": "stdout",
     "output_type": "stream",
     "text": [
      "--- Validation --- [threshold, AUC, Accuracy, F score] =  [np.float64(0.744), np.float64(0.994), np.float64(0.966), np.float64(0.974)]\n",
      "--- Training --- [threshold, AUC] =  [np.float64(0.739), np.float64(0.994)]\n",
      "--- Iteration 60: Training loss --- [Data, Label, Total] = [36470.599119.3, 149.669954.3, 182502.665548.3]\n",
      "!!! pred_type filter\n"
     ]
    },
    {
     "name": "stderr",
     "output_type": "stream",
     "text": [
      " 27%|███████████████████████████████                                                                                     | 67/250 [00:04<00:12, 14.94it/s]"
     ]
    },
    {
     "name": "stdout",
     "output_type": "stream",
     "text": [
      "--- Validation --- [threshold, AUC, Accuracy, F score] =  [np.float64(0.739), np.float64(0.994), np.float64(0.966), np.float64(0.974)]\n",
      "--- Training --- [threshold, AUC] =  [np.float64(0.736), np.float64(0.994)]\n",
      "--- Iteration 70: Training loss --- [Data, Label, Total] = [36208.051025.3, 150.025441.3, 181190.280565.3]\n",
      "!!! pred_type filter\n"
     ]
    },
    {
     "name": "stderr",
     "output_type": "stream",
     "text": [
      " 31%|███████████████████████████████████▋                                                                                | 77/250 [00:05<00:10, 16.70it/s]"
     ]
    },
    {
     "name": "stdout",
     "output_type": "stream",
     "text": [
      "--- Validation --- [threshold, AUC, Accuracy, F score] =  [np.float64(0.736), np.float64(0.994), np.float64(0.966), np.float64(0.974)]\n",
      "--- Training --- [threshold, AUC] =  [np.float64(0.734), np.float64(0.994)]\n",
      "--- Iteration 80: Training loss --- [Data, Label, Total] = [36002.705630.3, 150.131377.3, 180163.659525.3]\n",
      "!!! pred_type filter\n"
     ]
    },
    {
     "name": "stderr",
     "output_type": "stream",
     "text": [
      " 35%|████████████████████████████████████████▎                                                                           | 87/250 [00:05<00:09, 17.49it/s]"
     ]
    },
    {
     "name": "stdout",
     "output_type": "stream",
     "text": [
      "--- Validation --- [threshold, AUC, Accuracy, F score] =  [np.float64(0.734), np.float64(0.994), np.float64(0.966), np.float64(0.974)]\n",
      "--- Training --- [threshold, AUC] =  [np.float64(0.734), np.float64(0.994)]\n",
      "--- Iteration 90: Training loss --- [Data, Label, Total] = [35839.073676.3, 150.307303.3, 179345.675682.3]\n",
      "!!! pred_type filter\n"
     ]
    },
    {
     "name": "stderr",
     "output_type": "stream",
     "text": [
      " 39%|█████████████████████████████████████████████                                                                       | 97/250 [00:06<00:08, 17.72it/s]"
     ]
    },
    {
     "name": "stdout",
     "output_type": "stream",
     "text": [
      "--- Validation --- [threshold, AUC, Accuracy, F score] =  [np.float64(0.734), np.float64(0.994), np.float64(0.966), np.float64(0.974)]\n",
      "--- Training --- [threshold, AUC] =  [np.float64(0.727), np.float64(0.994)]\n",
      "--- Iteration 100: Training loss --- [Data, Label, Total] = [35707.534074.3, 150.333314.3, 178688.003686.3]\n",
      "!!! pred_type filter\n"
     ]
    },
    {
     "name": "stderr",
     "output_type": "stream",
     "text": [
      " 42%|████████████████████████████████████████████████▊                                                                  | 106/250 [00:07<00:08, 17.13it/s]"
     ]
    },
    {
     "name": "stdout",
     "output_type": "stream",
     "text": [
      "--- Validation --- [threshold, AUC, Accuracy, F score] =  [np.float64(0.727), np.float64(0.994), np.float64(0.967), np.float64(0.975)]\n",
      "--- Training --- [threshold, AUC] =  [np.float64(0.723), np.float64(0.994)]\n",
      "--- Iteration 110: Training loss --- [Data, Label, Total] = [35598.810540.3, 150.721071.3, 178144.773772.3]\n",
      "!!! pred_type filter\n"
     ]
    },
    {
     "name": "stderr",
     "output_type": "stream",
     "text": [
      " 46%|█████████████████████████████████████████████████████▎                                                             | 116/250 [00:07<00:07, 17.59it/s]"
     ]
    },
    {
     "name": "stdout",
     "output_type": "stream",
     "text": [
      "--- Validation --- [threshold, AUC, Accuracy, F score] =  [np.float64(0.723), np.float64(0.994), np.float64(0.967), np.float64(0.975)]\n",
      "--- Training --- [threshold, AUC] =  [np.float64(0.73), np.float64(0.994)]\n",
      "--- Iteration 120: Training loss --- [Data, Label, Total] = [35507.430997.3, 150.861347.3, 177688.016333.3]\n",
      "!!! pred_type filter\n"
     ]
    },
    {
     "name": "stderr",
     "output_type": "stream",
     "text": [
      " 50%|█████████████████████████████████████████████████████████▉                                                         | 126/250 [00:08<00:07, 17.58it/s]"
     ]
    },
    {
     "name": "stdout",
     "output_type": "stream",
     "text": [
      "--- Validation --- [threshold, AUC, Accuracy, F score] =  [np.float64(0.73), np.float64(0.994), np.float64(0.966), np.float64(0.974)]\n",
      "--- Training --- [threshold, AUC] =  [np.float64(0.729), np.float64(0.994)]\n",
      "--- Iteration 130: Training loss --- [Data, Label, Total] = [35428.425356.3, 150.886339.3, 177293.013118.3]\n",
      "!!! pred_type filter\n"
     ]
    },
    {
     "name": "stderr",
     "output_type": "stream",
     "text": [
      " 54%|██████████████████████████████████████████████████████████████▌                                                    | 136/250 [00:09<00:06, 17.78it/s]"
     ]
    },
    {
     "name": "stdout",
     "output_type": "stream",
     "text": [
      "--- Validation --- [threshold, AUC, Accuracy, F score] =  [np.float64(0.729), np.float64(0.994), np.float64(0.966), np.float64(0.974)]\n",
      "--- Training --- [threshold, AUC] =  [np.float64(0.73), np.float64(0.994)]\n",
      "--- Iteration 140: Training loss --- [Data, Label, Total] = [35359.286191.3, 151.029457.3, 176947.460410.3]\n",
      "!!! pred_type filter\n"
     ]
    },
    {
     "name": "stderr",
     "output_type": "stream",
     "text": [
      " 59%|███████████████████████████████████████████████████████████████████▌                                               | 147/250 [00:09<00:05, 18.92it/s]"
     ]
    },
    {
     "name": "stdout",
     "output_type": "stream",
     "text": [
      "--- Validation --- [threshold, AUC, Accuracy, F score] =  [np.float64(0.73), np.float64(0.994), np.float64(0.966), np.float64(0.974)]\n",
      "--- Training --- [threshold, AUC] =  [np.float64(0.731), np.float64(0.994)]\n",
      "--- Iteration 150: Training loss --- [Data, Label, Total] = [35298.275556.3, 150.889518.3, 176642.267299.3]\n",
      "!!! pred_type filter\n"
     ]
    },
    {
     "name": "stderr",
     "output_type": "stream",
     "text": [
      " 63%|████████████████████████████████████████████████████████████████████████▏                                          | 157/250 [00:10<00:04, 19.19it/s]"
     ]
    },
    {
     "name": "stdout",
     "output_type": "stream",
     "text": [
      "--- Validation --- [threshold, AUC, Accuracy, F score] =  [np.float64(0.731), np.float64(0.994), np.float64(0.966), np.float64(0.974)]\n",
      "--- Training --- [threshold, AUC] =  [np.float64(0.769), np.float64(0.994)]\n",
      "--- Iteration 160: Training loss --- [Data, Label, Total] = [35244.817923.3, 150.810719.3, 176374.900336.3]\n",
      "!!! pred_type filter\n"
     ]
    },
    {
     "name": "stderr",
     "output_type": "stream",
     "text": [
      " 67%|████████████████████████████████████████████████████████████████████████████▊                                      | 167/250 [00:10<00:04, 19.56it/s]"
     ]
    },
    {
     "name": "stdout",
     "output_type": "stream",
     "text": [
      "--- Validation --- [threshold, AUC, Accuracy, F score] =  [np.float64(0.769), np.float64(0.994), np.float64(0.965), np.float64(0.973)]\n",
      "--- Training --- [threshold, AUC] =  [np.float64(0.72), np.float64(0.994)]\n",
      "--- Iteration 170: Training loss --- [Data, Label, Total] = [35198.618072.3, 150.498689.3, 176143.589048.3]\n",
      "!!! pred_type filter\n"
     ]
    },
    {
     "name": "stderr",
     "output_type": "stream",
     "text": [
      " 71%|█████████████████████████████████████████████████████████████████████████████████▍                                 | 177/250 [00:11<00:03, 19.55it/s]"
     ]
    },
    {
     "name": "stdout",
     "output_type": "stream",
     "text": [
      "--- Validation --- [threshold, AUC, Accuracy, F score] =  [np.float64(0.72), np.float64(0.994), np.float64(0.967), np.float64(0.975)]\n",
      "--- Training --- [threshold, AUC] =  [np.float64(0.722), np.float64(0.994)]\n",
      "--- Iteration 180: Training loss --- [Data, Label, Total] = [35159.557952.3, 150.347771.3, 175948.137531.3]\n",
      "!!! pred_type filter\n"
     ]
    },
    {
     "name": "stderr",
     "output_type": "stream",
     "text": [
      " 75%|██████████████████████████████████████████████████████████████████████████████████████                             | 187/250 [00:12<00:03, 19.76it/s]"
     ]
    },
    {
     "name": "stdout",
     "output_type": "stream",
     "text": [
      "--- Validation --- [threshold, AUC, Accuracy, F score] =  [np.float64(0.722), np.float64(0.994), np.float64(0.967), np.float64(0.975)]\n",
      "--- Training --- [threshold, AUC] =  [np.float64(0.724), np.float64(0.994)]\n",
      "--- Iteration 190: Training loss --- [Data, Label, Total] = [35127.174004.3, 150.034164.3, 175785.904187.3]\n",
      "!!! pred_type filter\n"
     ]
    },
    {
     "name": "stderr",
     "output_type": "stream",
     "text": [
      " 79%|██████████████████████████████████████████████████████████████████████████████████████████▌                        | 197/250 [00:12<00:02, 19.62it/s]"
     ]
    },
    {
     "name": "stdout",
     "output_type": "stream",
     "text": [
      "--- Validation --- [threshold, AUC, Accuracy, F score] =  [np.float64(0.724), np.float64(0.994), np.float64(0.967), np.float64(0.975)]\n",
      "--- Training --- [threshold, AUC] =  [np.float64(0.636), np.float64(0.994)]\n",
      "--- Iteration 200: Training loss --- [Data, Label, Total] = [35100.692742.3, 149.773685.3, 175653.237397.3]\n",
      "!!! pred_type filter\n"
     ]
    },
    {
     "name": "stderr",
     "output_type": "stream",
     "text": [
      " 83%|███████████████████████████████████████████████████████████████████████████████████████████████▏                   | 207/250 [00:13<00:02, 20.15it/s]"
     ]
    },
    {
     "name": "stdout",
     "output_type": "stream",
     "text": [
      "--- Validation --- [threshold, AUC, Accuracy, F score] =  [np.float64(0.636), np.float64(0.994), np.float64(0.97), np.float64(0.977)]\n",
      "--- Training --- [threshold, AUC] =  [np.float64(0.632), np.float64(0.994)]\n",
      "--- Iteration 210: Training loss --- [Data, Label, Total] = [35079.027758.3, 149.511883.3, 175544.650674.3]\n",
      "!!! pred_type filter\n"
     ]
    },
    {
     "name": "stderr",
     "output_type": "stream",
     "text": [
      " 87%|███████████████████████████████████████████████████████████████████████████████████████████████████▊               | 217/250 [00:13<00:01, 20.40it/s]"
     ]
    },
    {
     "name": "stdout",
     "output_type": "stream",
     "text": [
      "--- Validation --- [threshold, AUC, Accuracy, F score] =  [np.float64(0.632), np.float64(0.994), np.float64(0.971), np.float64(0.978)]\n",
      "--- Training --- [threshold, AUC] =  [np.float64(0.757), np.float64(0.994)]\n",
      "--- Iteration 220: Training loss --- [Data, Label, Total] = [35061.234430.3, 149.310878.3, 175455.483027.3]\n",
      "!!! pred_type filter\n"
     ]
    },
    {
     "name": "stderr",
     "output_type": "stream",
     "text": [
      " 91%|████████████████████████████████████████████████████████████████████████████████████████████████████████▍          | 227/250 [00:14<00:01, 20.47it/s]"
     ]
    },
    {
     "name": "stdout",
     "output_type": "stream",
     "text": [
      "--- Validation --- [threshold, AUC, Accuracy, F score] =  [np.float64(0.757), np.float64(0.994), np.float64(0.966), np.float64(0.974)]\n",
      "--- Training --- [threshold, AUC] =  [np.float64(0.725), np.float64(0.994)]\n",
      "--- Iteration 230: Training loss --- [Data, Label, Total] = [35046.650214.3, 148.841954.3, 175382.093022.3]\n",
      "!!! pred_type filter\n"
     ]
    },
    {
     "name": "stderr",
     "output_type": "stream",
     "text": [
      " 95%|█████████████████████████████████████████████████████████████████████████████████████████████████████████████      | 237/250 [00:14<00:00, 19.87it/s]"
     ]
    },
    {
     "name": "stdout",
     "output_type": "stream",
     "text": [
      "--- Validation --- [threshold, AUC, Accuracy, F score] =  [np.float64(0.725), np.float64(0.994), np.float64(0.968), np.float64(0.975)]\n",
      "--- Training --- [threshold, AUC] =  [np.float64(0.631), np.float64(0.994)]\n",
      "--- Iteration 240: Training loss --- [Data, Label, Total] = [35034.744451.3, 148.479585.3, 175322.201838.3]\n",
      "!!! pred_type filter\n"
     ]
    },
    {
     "name": "stderr",
     "output_type": "stream",
     "text": [
      "100%|███████████████████████████████████████████████████████████████████████████████████████████████████████████████████| 250/250 [00:15<00:00, 15.98it/s]"
     ]
    },
    {
     "name": "stdout",
     "output_type": "stream",
     "text": [
      "--- Validation --- [threshold, AUC, Accuracy, F score] =  [np.float64(0.631), np.float64(0.994), np.float64(0.971), np.float64(0.978)]\n",
      "!!! pred_type filter\n"
     ]
    },
    {
     "name": "stderr",
     "output_type": "stream",
     "text": [
      "\n"
     ]
    },
    {
     "name": "stdout",
     "output_type": "stream",
     "text": [
      "num of subgraphs induced on k-paths: 500\n",
      "num of subgraphs induced on k-paths: 500\n",
      "X_list: (484, 1000)\n",
      "2\n",
      "(1, 500)\n",
      "(1, 500)\n",
      "label_vec: (1, 1000)\n",
      "num of subgraphs induced on k-paths: 500\n",
      "num of subgraphs induced on k-paths: 500\n",
      "X_list: (484, 1000)\n",
      "2\n",
      "(1, 500)\n",
      "(1, 500)\n",
      "label_vec: (1, 1000)\n",
      "23\n",
      "num of subgraphs induced on k-paths: 500\n",
      "num of subgraphs induced on k-paths: 500\n",
      "X_list: (529, 1000)\n",
      "2\n",
      "(1, 500)\n",
      "(1, 500)\n",
      "label_vec: (1, 1000)\n",
      "num of subgraphs induced on k-paths: 500\n",
      "num of subgraphs induced on k-paths: 1023\n",
      "X_list: (529, 1523)\n",
      "2\n",
      "(1, 500)\n",
      "(1, 1023)\n",
      "label_vec: (1, 1523)\n",
      "initial loading beta [[ 0.58136235  0.77785764  0.17214466  0.26254445 -0.03929196  0.4928714\n",
      "   0.89658076  0.83319628  0.65482885 -0.31662232  0.57545714 -0.6194512\n",
      "   0.78721785  0.35567592 -0.69738224  0.02476714  0.88774574]]\n"
     ]
    },
    {
     "name": "stderr",
     "output_type": "stream",
     "text": [
      "  0%|                                                                                                                             | 0/250 [00:00<?, ?it/s]"
     ]
    },
    {
     "name": "stdout",
     "output_type": "stream",
     "text": [
      "--- Training --- [threshold, AUC] =  [np.float64(0.738), np.float64(0.992)]\n",
      "--- Iteration 0: Training loss --- [Data, Label, Total] = [71059.432735.3, 175.223694.3, 355472.387368.3]\n"
     ]
    },
    {
     "name": "stderr",
     "output_type": "stream",
     "text": [
      "  4%|████▏                                                                                                                | 9/250 [00:00<00:06, 39.26it/s]"
     ]
    },
    {
     "name": "stdout",
     "output_type": "stream",
     "text": [
      "--- Training --- [threshold, AUC] =  [np.float64(0.653), np.float64(0.993)]\n",
      "--- Iteration 10: Training loss --- [Data, Label, Total] = [45991.911351.3, 157.341626.3, 230116.898379.3]\n",
      "!!! pred_type filter\n"
     ]
    },
    {
     "name": "stderr",
     "output_type": "stream",
     "text": [
      "  7%|████████▎                                                                                                           | 18/250 [00:00<00:13, 17.73it/s]"
     ]
    },
    {
     "name": "stdout",
     "output_type": "stream",
     "text": [
      "--- Validation --- [threshold, AUC, Accuracy, F score] =  [np.float64(0.653), np.float64(0.993), np.float64(0.969), np.float64(0.977)]\n",
      "--- Training --- [threshold, AUC] =  [np.float64(0.813), np.float64(0.994)]\n",
      "--- Iteration 20: Training loss --- [Data, Label, Total] = [43266.376881.3, 151.384027.3, 216483.268432.3]\n",
      "!!! pred_type filter\n"
     ]
    },
    {
     "name": "stderr",
     "output_type": "stream",
     "text": [
      " 11%|████████████▌                                                                                                       | 27/250 [00:01<00:13, 16.49it/s]"
     ]
    },
    {
     "name": "stdout",
     "output_type": "stream",
     "text": [
      "--- Validation --- [threshold, AUC, Accuracy, F score] =  [np.float64(0.813), np.float64(0.994), np.float64(0.966), np.float64(0.974)]\n",
      "--- Training --- [threshold, AUC] =  [np.float64(0.781), np.float64(0.994)]\n",
      "--- Iteration 30: Training loss --- [Data, Label, Total] = [41936.725795.3, 151.370196.3, 209834.999171.3]\n",
      "!!! pred_type filter\n"
     ]
    },
    {
     "name": "stderr",
     "output_type": "stream",
     "text": [
      " 14%|████████████████▋                                                                                                   | 36/250 [00:02<00:13, 16.17it/s]"
     ]
    },
    {
     "name": "stdout",
     "output_type": "stream",
     "text": [
      "--- Validation --- [threshold, AUC, Accuracy, F score] =  [np.float64(0.781), np.float64(0.994), np.float64(0.968), np.float64(0.976)]\n",
      "--- Training --- [threshold, AUC] =  [np.float64(0.769), np.float64(0.994)]\n",
      "--- Iteration 40: Training loss --- [Data, Label, Total] = [41264.233444.3, 151.909205.3, 206473.076427.3]\n",
      "!!! pred_type filter\n"
     ]
    },
    {
     "name": "stderr",
     "output_type": "stream",
     "text": [
      " 18%|█████████████████████▎                                                                                              | 46/250 [00:02<00:12, 16.63it/s]"
     ]
    },
    {
     "name": "stdout",
     "output_type": "stream",
     "text": [
      "--- Validation --- [threshold, AUC, Accuracy, F score] =  [np.float64(0.769), np.float64(0.994), np.float64(0.969), np.float64(0.977)]\n",
      "--- Training --- [threshold, AUC] =  [np.float64(0.771), np.float64(0.994)]\n",
      "--- Iteration 50: Training loss --- [Data, Label, Total] = [40832.699399.3, 152.783137.3, 204316.280132.3]\n",
      "!!! pred_type filter\n"
     ]
    },
    {
     "name": "stderr",
     "output_type": "stream",
     "text": [
      " 22%|█████████████████████████▉                                                                                          | 56/250 [00:03<00:11, 16.52it/s]"
     ]
    },
    {
     "name": "stdout",
     "output_type": "stream",
     "text": [
      "--- Validation --- [threshold, AUC, Accuracy, F score] =  [np.float64(0.771), np.float64(0.994), np.float64(0.968), np.float64(0.976)]\n"
     ]
    },
    {
     "name": "stderr",
     "output_type": "stream",
     "text": [
      " 24%|███████████████████████████▊                                                                                        | 60/250 [00:03<00:09, 19.49it/s]"
     ]
    },
    {
     "name": "stdout",
     "output_type": "stream",
     "text": [
      "--- Training --- [threshold, AUC] =  [np.float64(0.763), np.float64(0.994)]\n",
      "--- Iteration 60: Training loss --- [Data, Label, Total] = [40511.754026.3, 152.873770.3, 202711.643902.3]\n",
      "!!! pred_type filter\n"
     ]
    },
    {
     "name": "stderr",
     "output_type": "stream",
     "text": [
      " 28%|████████████████████████████████                                                                                    | 69/250 [00:04<00:10, 16.83it/s]"
     ]
    },
    {
     "name": "stdout",
     "output_type": "stream",
     "text": [
      "--- Validation --- [threshold, AUC, Accuracy, F score] =  [np.float64(0.763), np.float64(0.994), np.float64(0.969), np.float64(0.977)]\n",
      "--- Training --- [threshold, AUC] =  [np.float64(0.743), np.float64(0.994)]\n",
      "--- Iteration 70: Training loss --- [Data, Label, Total] = [40257.979337.3, 153.655550.3, 201443.552234.3]\n",
      "!!! pred_type filter\n"
     ]
    },
    {
     "name": "stderr",
     "output_type": "stream",
     "text": [
      " 31%|███████████████████████████████████▋                                                                                | 77/250 [00:05<00:11, 15.05it/s]"
     ]
    },
    {
     "name": "stdout",
     "output_type": "stream",
     "text": [
      "--- Validation --- [threshold, AUC, Accuracy, F score] =  [np.float64(0.743), np.float64(0.994), np.float64(0.97), np.float64(0.978)]\n",
      "--- Training --- [threshold, AUC] =  [np.float64(0.744), np.float64(0.994)]\n",
      "--- Iteration 80: Training loss --- [Data, Label, Total] = [40052.025473.3, 153.970885.3, 200414.098251.3]\n",
      "!!! pred_type filter\n"
     ]
    },
    {
     "name": "stderr",
     "output_type": "stream",
     "text": [
      " 34%|███████████████████████████████████████▉                                                                            | 86/250 [00:05<00:11, 14.20it/s]"
     ]
    },
    {
     "name": "stdout",
     "output_type": "stream",
     "text": [
      "--- Validation --- [threshold, AUC, Accuracy, F score] =  [np.float64(0.744), np.float64(0.994), np.float64(0.97), np.float64(0.978)]\n",
      "--- Training --- [threshold, AUC] =  [np.float64(0.697), np.float64(0.994)]\n",
      "--- Iteration 90: Training loss --- [Data, Label, Total] = [39884.331492.3, 154.340880.3, 199575.998340.3]\n",
      "!!! pred_type filter\n"
     ]
    },
    {
     "name": "stderr",
     "output_type": "stream",
     "text": [
      " 39%|█████████████████████████████████████████████                                                                       | 97/250 [00:06<00:09, 16.57it/s]"
     ]
    },
    {
     "name": "stdout",
     "output_type": "stream",
     "text": [
      "--- Validation --- [threshold, AUC, Accuracy, F score] =  [np.float64(0.697), np.float64(0.994), np.float64(0.972), np.float64(0.979)]\n",
      "--- Training --- [threshold, AUC] =  [np.float64(0.694), np.float64(0.994)]\n",
      "--- Iteration 100: Training loss --- [Data, Label, Total] = [39744.745076.3, 154.750866.3, 198878.476248.3]\n",
      "!!! pred_type filter\n"
     ]
    },
    {
     "name": "stderr",
     "output_type": "stream",
     "text": [
      " 42%|████████████████████████████████████████████████▊                                                                  | 106/250 [00:07<00:08, 16.67it/s]"
     ]
    },
    {
     "name": "stdout",
     "output_type": "stream",
     "text": [
      "--- Validation --- [threshold, AUC, Accuracy, F score] =  [np.float64(0.694), np.float64(0.994), np.float64(0.972), np.float64(0.979)]\n",
      "--- Training --- [threshold, AUC] =  [np.float64(0.697), np.float64(0.994)]\n",
      "--- Iteration 110: Training loss --- [Data, Label, Total] = [39627.130635.3, 155.062527.3, 198290.715701.3]\n",
      "!!! pred_type filter\n"
     ]
    },
    {
     "name": "stderr",
     "output_type": "stream",
     "text": [
      " 46%|█████████████████████████████████████████████████████▎                                                             | 116/250 [00:07<00:07, 17.30it/s]"
     ]
    },
    {
     "name": "stdout",
     "output_type": "stream",
     "text": [
      "--- Validation --- [threshold, AUC, Accuracy, F score] =  [np.float64(0.697), np.float64(0.994), np.float64(0.972), np.float64(0.979)]\n"
     ]
    },
    {
     "name": "stderr",
     "output_type": "stream",
     "text": [
      " 48%|███████████████████████████████████████████████████████▏                                                           | 120/250 [00:07<00:06, 20.20it/s]"
     ]
    },
    {
     "name": "stdout",
     "output_type": "stream",
     "text": [
      "--- Training --- [threshold, AUC] =  [np.float64(0.696), np.float64(0.994)]\n",
      "--- Iteration 120: Training loss --- [Data, Label, Total] = [39527.260630.3, 155.347879.3, 197791.651030.3]\n",
      "!!! pred_type filter\n"
     ]
    },
    {
     "name": "stderr",
     "output_type": "stream",
     "text": [
      " 52%|███████████████████████████████████████████████████████████▎                                                       | 129/250 [00:08<00:06, 18.44it/s]"
     ]
    },
    {
     "name": "stdout",
     "output_type": "stream",
     "text": [
      "--- Validation --- [threshold, AUC, Accuracy, F score] =  [np.float64(0.696), np.float64(0.994), np.float64(0.972), np.float64(0.979)]\n",
      "--- Training --- [threshold, AUC] =  [np.float64(0.769), np.float64(0.994)]\n",
      "--- Iteration 130: Training loss --- [Data, Label, Total] = [39443.479455.3, 155.622517.3, 197373.019790.3]\n",
      "!!! pred_type filter\n"
     ]
    },
    {
     "name": "stderr",
     "output_type": "stream",
     "text": [
      " 55%|███████████████████████████████████████████████████████████████▍                                                   | 138/250 [00:09<00:06, 17.43it/s]"
     ]
    },
    {
     "name": "stdout",
     "output_type": "stream",
     "text": [
      "--- Validation --- [threshold, AUC, Accuracy, F score] =  [np.float64(0.769), np.float64(0.994), np.float64(0.969), np.float64(0.977)]\n",
      "--- Training --- [threshold, AUC] =  [np.float64(0.768), np.float64(0.994)]\n",
      "--- Iteration 140: Training loss --- [Data, Label, Total] = [39374.775765.3, 155.627019.3, 197029.505841.3]\n",
      "!!! pred_type filter\n"
     ]
    },
    {
     "name": "stderr",
     "output_type": "stream",
     "text": [
      " 59%|███████████████████████████████████████████████████████████████████▌                                               | 147/250 [00:09<00:05, 17.22it/s]"
     ]
    },
    {
     "name": "stdout",
     "output_type": "stream",
     "text": [
      "--- Validation --- [threshold, AUC, Accuracy, F score] =  [np.float64(0.768), np.float64(0.994), np.float64(0.969), np.float64(0.977)]\n",
      "--- Training --- [threshold, AUC] =  [np.float64(0.776), np.float64(0.994)]\n",
      "--- Iteration 150: Training loss --- [Data, Label, Total] = [39318.696709.3, 155.915418.3, 196749.398965.3]\n",
      "!!! pred_type filter\n"
     ]
    },
    {
     "name": "stderr",
     "output_type": "stream",
     "text": [
      " 62%|███████████████████████████████████████████████████████████████████████▊                                           | 156/250 [00:10<00:05, 17.33it/s]"
     ]
    },
    {
     "name": "stdout",
     "output_type": "stream",
     "text": [
      "--- Validation --- [threshold, AUC, Accuracy, F score] =  [np.float64(0.776), np.float64(0.994), np.float64(0.968), np.float64(0.976)]\n"
     ]
    },
    {
     "name": "stderr",
     "output_type": "stream",
     "text": [
      " 64%|█████████████████████████████████████████████████████████████████████████▌                                         | 160/250 [00:10<00:04, 19.68it/s]"
     ]
    },
    {
     "name": "stdout",
     "output_type": "stream",
     "text": [
      "--- Training --- [threshold, AUC] =  [np.float64(0.775), np.float64(0.994)]\n",
      "--- Iteration 160: Training loss --- [Data, Label, Total] = [39272.637732.3, 155.700684.3, 196518.889342.3]\n",
      "!!! pred_type filter\n"
     ]
    },
    {
     "name": "stderr",
     "output_type": "stream",
     "text": [
      " 68%|█████████████████████████████████████████████████████████████████████████████▋                                     | 169/250 [00:11<00:04, 18.39it/s]"
     ]
    },
    {
     "name": "stdout",
     "output_type": "stream",
     "text": [
      "--- Validation --- [threshold, AUC, Accuracy, F score] =  [np.float64(0.775), np.float64(0.994), np.float64(0.968), np.float64(0.976)]\n",
      "--- Training --- [threshold, AUC] =  [np.float64(0.766), np.float64(0.994)]\n",
      "--- Iteration 170: Training loss --- [Data, Label, Total] = [39234.658108.3, 155.632072.3, 196328.922611.3]\n",
      "!!! pred_type filter\n"
     ]
    },
    {
     "name": "stderr",
     "output_type": "stream",
     "text": [
      " 71%|█████████████████████████████████████████████████████████████████████████████████▉                                 | 178/250 [00:11<00:03, 18.09it/s]"
     ]
    },
    {
     "name": "stdout",
     "output_type": "stream",
     "text": [
      "--- Validation --- [threshold, AUC, Accuracy, F score] =  [np.float64(0.766), np.float64(0.994), np.float64(0.968), np.float64(0.976)]\n",
      "--- Training --- [threshold, AUC] =  [np.float64(0.764), np.float64(0.994)]\n",
      "--- Iteration 180: Training loss --- [Data, Label, Total] = [39203.152122.3, 155.457841.3, 196171.218451.3]\n",
      "!!! pred_type filter\n"
     ]
    },
    {
     "name": "stderr",
     "output_type": "stream",
     "text": [
      " 75%|██████████████████████████████████████████████████████████████████████████████████████                             | 187/250 [00:12<00:03, 17.90it/s]"
     ]
    },
    {
     "name": "stdout",
     "output_type": "stream",
     "text": [
      "--- Validation --- [threshold, AUC, Accuracy, F score] =  [np.float64(0.764), np.float64(0.994), np.float64(0.968), np.float64(0.976)]\n",
      "--- Training --- [threshold, AUC] =  [np.float64(0.766), np.float64(0.994)]\n",
      "--- Iteration 190: Training loss --- [Data, Label, Total] = [39176.064006.3, 155.235271.3, 196035.555301.3]\n",
      "!!! pred_type filter\n"
     ]
    },
    {
     "name": "stderr",
     "output_type": "stream",
     "text": [
      " 79%|██████████████████████████████████████████████████████████████████████████████████████████▌                        | 197/250 [00:12<00:02, 18.64it/s]"
     ]
    },
    {
     "name": "stdout",
     "output_type": "stream",
     "text": [
      "--- Validation --- [threshold, AUC, Accuracy, F score] =  [np.float64(0.766), np.float64(0.994), np.float64(0.968), np.float64(0.976)]\n",
      "--- Training --- [threshold, AUC] =  [np.float64(0.767), np.float64(0.994)]\n",
      "--- Iteration 200: Training loss --- [Data, Label, Total] = [39151.517569.3, 154.864646.3, 195912.452490.3]\n",
      "!!! pred_type filter\n"
     ]
    },
    {
     "name": "stderr",
     "output_type": "stream",
     "text": [
      " 83%|███████████████████████████████████████████████████████████████████████████████████████████████▏                   | 207/250 [00:13<00:02, 19.01it/s]"
     ]
    },
    {
     "name": "stdout",
     "output_type": "stream",
     "text": [
      "--- Validation --- [threshold, AUC, Accuracy, F score] =  [np.float64(0.767), np.float64(0.994), np.float64(0.968), np.float64(0.976)]\n",
      "--- Training --- [threshold, AUC] =  [np.float64(0.765), np.float64(0.994)]\n",
      "--- Iteration 210: Training loss --- [Data, Label, Total] = [39128.463230.3, 154.451542.3, 195796.767693.3]\n",
      "!!! pred_type filter\n"
     ]
    },
    {
     "name": "stderr",
     "output_type": "stream",
     "text": [
      " 86%|███████████████████████████████████████████████████████████████████████████████████████████████████▎               | 216/250 [00:14<00:02, 16.97it/s]"
     ]
    },
    {
     "name": "stdout",
     "output_type": "stream",
     "text": [
      "--- Validation --- [threshold, AUC, Accuracy, F score] =  [np.float64(0.765), np.float64(0.994), np.float64(0.968), np.float64(0.976)]\n",
      "--- Training --- [threshold, AUC] =  [np.float64(0.769), np.float64(0.994)]\n",
      "--- Iteration 220: Training loss --- [Data, Label, Total] = [39106.212368.3, 154.032463.3, 195685.094304.3]\n",
      "!!! pred_type filter\n"
     ]
    },
    {
     "name": "stderr",
     "output_type": "stream",
     "text": [
      " 90%|███████████████████████████████████████████████████████████████████████████████████████████████████████▉           | 226/250 [00:14<00:01, 16.86it/s]"
     ]
    },
    {
     "name": "stdout",
     "output_type": "stream",
     "text": [
      "--- Validation --- [threshold, AUC, Accuracy, F score] =  [np.float64(0.769), np.float64(0.994), np.float64(0.968), np.float64(0.976)]\n",
      "--- Training --- [threshold, AUC] =  [np.float64(0.77), np.float64(0.994)]\n",
      "--- Iteration 230: Training loss --- [Data, Label, Total] = [39084.504649.3, 153.690382.3, 195576.213629.3]\n",
      "!!! pred_type filter\n"
     ]
    },
    {
     "name": "stderr",
     "output_type": "stream",
     "text": [
      " 95%|█████████████████████████████████████████████████████████████████████████████████████████████████████████████      | 237/250 [00:15<00:00, 18.53it/s]"
     ]
    },
    {
     "name": "stdout",
     "output_type": "stream",
     "text": [
      "--- Validation --- [threshold, AUC, Accuracy, F score] =  [np.float64(0.77), np.float64(0.994), np.float64(0.968), np.float64(0.976)]\n",
      "--- Training --- [threshold, AUC] =  [np.float64(0.772), np.float64(0.994)]\n",
      "--- Iteration 240: Training loss --- [Data, Label, Total] = [39063.431242.3, 153.310715.3, 195470.466925.3]\n",
      "!!! pred_type filter\n"
     ]
    },
    {
     "name": "stderr",
     "output_type": "stream",
     "text": [
      "100%|███████████████████████████████████████████████████████████████████████████████████████████████████████████████████| 250/250 [00:16<00:00, 15.51it/s]"
     ]
    },
    {
     "name": "stdout",
     "output_type": "stream",
     "text": [
      "--- Validation --- [threshold, AUC, Accuracy, F score] =  [np.float64(0.772), np.float64(0.994), np.float64(0.968), np.float64(0.976)]\n",
      "!!! pred_type filter\n"
     ]
    },
    {
     "name": "stderr",
     "output_type": "stream",
     "text": [
      "\n"
     ]
    },
    {
     "name": "stdout",
     "output_type": "stream",
     "text": [
      "num of subgraphs induced on k-paths: 500\n",
      "num of subgraphs induced on k-paths: 500\n",
      "X_list: (529, 1000)\n",
      "2\n",
      "(1, 500)\n",
      "(1, 500)\n",
      "label_vec: (1, 1000)\n",
      "num of subgraphs induced on k-paths: 500\n",
      "num of subgraphs induced on k-paths: 500\n",
      "X_list: (529, 1000)\n",
      "2\n",
      "(1, 500)\n",
      "(1, 500)\n",
      "label_vec: (1, 1000)\n",
      "24\n",
      "num of subgraphs induced on k-paths: 500\n",
      "num of subgraphs induced on k-paths: 500\n",
      "X_list: (576, 1000)\n",
      "2\n",
      "(1, 500)\n",
      "(1, 500)\n",
      "label_vec: (1, 1000)\n",
      "num of subgraphs induced on k-paths: 500\n",
      "num of subgraphs induced on k-paths: 1034\n",
      "X_list: (576, 1534)\n",
      "2\n",
      "(1, 500)\n",
      "(1, 1034)\n",
      "label_vec: (1, 1534)\n",
      "initial loading beta [[ 0.94603345  0.28699978 -0.37569402 -0.28085819 -0.84160428 -0.67883384\n",
      "   0.14622323 -0.47326063  0.95445755  0.90262283  0.91080025 -0.64274018\n",
      "  -0.15386704 -0.52778798  0.88382142 -0.52916408  0.6883534 ]]\n"
     ]
    },
    {
     "name": "stderr",
     "output_type": "stream",
     "text": [
      "  0%|                                                                                                                             | 0/250 [00:00<?, ?it/s]"
     ]
    },
    {
     "name": "stdout",
     "output_type": "stream",
     "text": [
      "--- Training --- [threshold, AUC] =  [np.float64(0.614), np.float64(0.997)]\n",
      "--- Iteration 0: Training loss --- [Data, Label, Total] = [78958.336157.3, 128.130749.3, 394919.811534.3]\n"
     ]
    },
    {
     "name": "stderr",
     "output_type": "stream",
     "text": [
      "  4%|████▋                                                                                                               | 10/250 [00:00<00:05, 42.17it/s]"
     ]
    },
    {
     "name": "stdout",
     "output_type": "stream",
     "text": [
      "--- Training --- [threshold, AUC] =  [np.float64(0.619), np.float64(0.996)]\n",
      "--- Iteration 10: Training loss --- [Data, Label, Total] = [51198.579186.3, 119.723836.3, 256112.619764.3]\n",
      "!!! pred_type filter\n"
     ]
    },
    {
     "name": "stderr",
     "output_type": "stream",
     "text": [
      "  8%|█████████▎                                                                                                          | 20/250 [00:00<00:11, 19.20it/s]"
     ]
    },
    {
     "name": "stdout",
     "output_type": "stream",
     "text": [
      "--- Validation --- [threshold, AUC, Accuracy, F score] =  [np.float64(0.619), np.float64(0.996), np.float64(0.976), np.float64(0.982)]\n",
      "--- Training --- [threshold, AUC] =  [np.float64(0.628), np.float64(0.997)]\n",
      "--- Iteration 20: Training loss --- [Data, Label, Total] = [48463.111519.3, 114.481969.3, 242430.039565.3]\n",
      "!!! pred_type filter\n"
     ]
    },
    {
     "name": "stderr",
     "output_type": "stream",
     "text": [
      " 12%|█████████████▍                                                                                                      | 29/250 [00:01<00:13, 16.97it/s]"
     ]
    },
    {
     "name": "stdout",
     "output_type": "stream",
     "text": [
      "--- Validation --- [threshold, AUC, Accuracy, F score] =  [np.float64(0.628), np.float64(0.997), np.float64(0.979), np.float64(0.984)]\n",
      "--- Training --- [threshold, AUC] =  [np.float64(0.614), np.float64(0.997)]\n",
      "--- Iteration 30: Training loss --- [Data, Label, Total] = [47003.947657.3, 113.285110.3, 235133.023397.3]\n",
      "!!! pred_type filter\n"
     ]
    },
    {
     "name": "stderr",
     "output_type": "stream",
     "text": [
      " 15%|█████████████████▋                                                                                                  | 38/250 [00:02<00:13, 16.28it/s]"
     ]
    },
    {
     "name": "stdout",
     "output_type": "stream",
     "text": [
      "--- Validation --- [threshold, AUC, Accuracy, F score] =  [np.float64(0.614), np.float64(0.997), np.float64(0.979), np.float64(0.984)]\n",
      "--- Training --- [threshold, AUC] =  [np.float64(0.568), np.float64(0.997)]\n",
      "--- Iteration 40: Training loss --- [Data, Label, Total] = [46196.033423.3, 112.967483.3, 231093.134597.3]\n",
      "!!! pred_type filter\n"
     ]
    },
    {
     "name": "stderr",
     "output_type": "stream",
     "text": [
      " 19%|█████████████████████▊                                                                                              | 47/250 [00:02<00:12, 16.03it/s]"
     ]
    },
    {
     "name": "stdout",
     "output_type": "stream",
     "text": [
      "--- Validation --- [threshold, AUC, Accuracy, F score] =  [np.float64(0.568), np.float64(0.997), np.float64(0.98), np.float64(0.985)]\n",
      "--- Training --- [threshold, AUC] =  [np.float64(0.619), np.float64(0.997)]\n",
      "--- Iteration 50: Training loss --- [Data, Label, Total] = [45666.772058.3, 113.114918.3, 228446.975210.3]\n",
      "!!! pred_type filter\n"
     ]
    },
    {
     "name": "stderr",
     "output_type": "stream",
     "text": [
      " 22%|█████████████████████████▉                                                                                          | 56/250 [00:03<00:12, 15.78it/s]"
     ]
    },
    {
     "name": "stdout",
     "output_type": "stream",
     "text": [
      "--- Validation --- [threshold, AUC, Accuracy, F score] =  [np.float64(0.619), np.float64(0.997), np.float64(0.978), np.float64(0.984)]\n",
      "--- Training --- [threshold, AUC] =  [np.float64(0.61), np.float64(0.997)]\n",
      "--- Iteration 60: Training loss --- [Data, Label, Total] = [45289.850865.3, 113.237912.3, 226562.492239.3]\n",
      "!!! pred_type filter\n"
     ]
    },
    {
     "name": "stderr",
     "output_type": "stream",
     "text": [
      " 26%|██████████████████████████████▌                                                                                     | 66/250 [00:04<00:11, 16.43it/s]"
     ]
    },
    {
     "name": "stdout",
     "output_type": "stream",
     "text": [
      "--- Validation --- [threshold, AUC, Accuracy, F score] =  [np.float64(0.61), np.float64(0.997), np.float64(0.979), np.float64(0.984)]\n",
      "--- Training --- [threshold, AUC] =  [np.float64(0.628), np.float64(0.997)]\n",
      "--- Iteration 70: Training loss --- [Data, Label, Total] = [45012.148679.3, 113.662519.3, 225174.405914.3]\n",
      "!!! pred_type filter\n"
     ]
    },
    {
     "name": "stderr",
     "output_type": "stream",
     "text": [
      " 30%|███████████████████████████████████▎                                                                                | 76/250 [00:04<00:10, 16.85it/s]"
     ]
    },
    {
     "name": "stdout",
     "output_type": "stream",
     "text": [
      "--- Validation --- [threshold, AUC, Accuracy, F score] =  [np.float64(0.628), np.float64(0.997), np.float64(0.978), np.float64(0.984)]\n",
      "--- Training --- [threshold, AUC] =  [np.float64(0.631), np.float64(0.997)]\n",
      "--- Iteration 80: Training loss --- [Data, Label, Total] = [44798.529231.3, 113.547507.3, 224106.193660.3]\n",
      "!!! pred_type filter\n"
     ]
    },
    {
     "name": "stderr",
     "output_type": "stream",
     "text": [
      " 34%|███████████████████████████████████████▉                                                                            | 86/250 [00:05<00:09, 17.13it/s]"
     ]
    },
    {
     "name": "stdout",
     "output_type": "stream",
     "text": [
      "--- Validation --- [threshold, AUC, Accuracy, F score] =  [np.float64(0.631), np.float64(0.997), np.float64(0.978), np.float64(0.984)]\n",
      "--- Training --- [threshold, AUC] =  [np.float64(0.606), np.float64(0.997)]\n",
      "--- Iteration 90: Training loss --- [Data, Label, Total] = [44629.149941.3, 113.762140.3, 223259.511843.3]\n",
      "!!! pred_type filter\n"
     ]
    },
    {
     "name": "stderr",
     "output_type": "stream",
     "text": [
      " 38%|████████████████████████████████████████████▌                                                                       | 96/250 [00:06<00:08, 17.34it/s]"
     ]
    },
    {
     "name": "stdout",
     "output_type": "stream",
     "text": [
      "--- Validation --- [threshold, AUC, Accuracy, F score] =  [np.float64(0.606), np.float64(0.997), np.float64(0.979), np.float64(0.984)]\n",
      "--- Training --- [threshold, AUC] =  [np.float64(0.655), np.float64(0.997)]\n",
      "--- Iteration 100: Training loss --- [Data, Label, Total] = [44492.694442.3, 113.799322.3, 222577.271530.3]\n",
      "!!! pred_type filter\n"
     ]
    },
    {
     "name": "stderr",
     "output_type": "stream",
     "text": [
      " 42%|████████████████████████████████████████████████▊                                                                  | 106/250 [00:06<00:08, 17.41it/s]"
     ]
    },
    {
     "name": "stdout",
     "output_type": "stream",
     "text": [
      "--- Validation --- [threshold, AUC, Accuracy, F score] =  [np.float64(0.655), np.float64(0.997), np.float64(0.978), np.float64(0.984)]\n",
      "--- Training --- [threshold, AUC] =  [np.float64(0.642), np.float64(0.997)]\n",
      "--- Iteration 110: Training loss --- [Data, Label, Total] = [44382.486759.3, 113.914499.3, 222026.348293.3]\n",
      "!!! pred_type filter\n"
     ]
    },
    {
     "name": "stderr",
     "output_type": "stream",
     "text": [
      " 46%|█████████████████████████████████████████████████████▎                                                             | 116/250 [00:07<00:07, 17.42it/s]"
     ]
    },
    {
     "name": "stdout",
     "output_type": "stream",
     "text": [
      "--- Validation --- [threshold, AUC, Accuracy, F score] =  [np.float64(0.642), np.float64(0.997), np.float64(0.979), np.float64(0.984)]\n",
      "--- Training --- [threshold, AUC] =  [np.float64(0.648), np.float64(0.997)]\n",
      "--- Iteration 120: Training loss --- [Data, Label, Total] = [44294.977492.3, 114.044040.3, 221588.931502.3]\n",
      "!!! pred_type filter\n"
     ]
    },
    {
     "name": "stderr",
     "output_type": "stream",
     "text": [
      " 50%|█████████████████████████████████████████████████████████▉                                                         | 126/250 [00:08<00:07, 17.39it/s]"
     ]
    },
    {
     "name": "stdout",
     "output_type": "stream",
     "text": [
      "--- Validation --- [threshold, AUC, Accuracy, F score] =  [np.float64(0.648), np.float64(0.997), np.float64(0.979), np.float64(0.984)]\n",
      "--- Training --- [threshold, AUC] =  [np.float64(0.663), np.float64(0.997)]\n",
      "--- Iteration 130: Training loss --- [Data, Label, Total] = [44225.878822.3, 114.241281.3, 221243.635389.3]\n",
      "!!! pred_type filter\n"
     ]
    },
    {
     "name": "stderr",
     "output_type": "stream",
     "text": [
      " 54%|██████████████████████████████████████████████████████████████▌                                                    | 136/250 [00:08<00:06, 17.44it/s]"
     ]
    },
    {
     "name": "stdout",
     "output_type": "stream",
     "text": [
      "--- Validation --- [threshold, AUC, Accuracy, F score] =  [np.float64(0.663), np.float64(0.997), np.float64(0.979), np.float64(0.984)]\n",
      "--- Training --- [threshold, AUC] =  [np.float64(0.636), np.float64(0.997)]\n",
      "--- Iteration 140: Training loss --- [Data, Label, Total] = [44170.996727.3, 114.082492.3, 220969.066125.3]\n",
      "!!! pred_type filter\n"
     ]
    },
    {
     "name": "stderr",
     "output_type": "stream",
     "text": [
      " 58%|███████████████████████████████████████████████████████████████████▏                                               | 146/250 [00:09<00:05, 17.67it/s]"
     ]
    },
    {
     "name": "stdout",
     "output_type": "stream",
     "text": [
      "--- Validation --- [threshold, AUC, Accuracy, F score] =  [np.float64(0.636), np.float64(0.997), np.float64(0.98), np.float64(0.985)]\n",
      "--- Training --- [threshold, AUC] =  [np.float64(0.639), np.float64(0.997)]\n",
      "--- Iteration 150: Training loss --- [Data, Label, Total] = [44126.536781.3, 114.195721.3, 220746.879626.3]\n",
      "!!! pred_type filter\n"
     ]
    },
    {
     "name": "stderr",
     "output_type": "stream",
     "text": [
      " 62%|███████████████████████████████████████████████████████████████████████▊                                           | 156/250 [00:10<00:05, 17.70it/s]"
     ]
    },
    {
     "name": "stdout",
     "output_type": "stream",
     "text": [
      "--- Validation --- [threshold, AUC, Accuracy, F score] =  [np.float64(0.639), np.float64(0.997), np.float64(0.98), np.float64(0.985)]\n",
      "--- Training --- [threshold, AUC] =  [np.float64(0.744), np.float64(0.997)]\n",
      "--- Iteration 160: Training loss --- [Data, Label, Total] = [44089.592987.3, 113.981085.3, 220561.946020.3]\n",
      "!!! pred_type filter\n"
     ]
    },
    {
     "name": "stderr",
     "output_type": "stream",
     "text": [
      " 66%|████████████████████████████████████████████████████████████████████████████▎                                      | 166/250 [00:10<00:04, 17.18it/s]"
     ]
    },
    {
     "name": "stdout",
     "output_type": "stream",
     "text": [
      "--- Validation --- [threshold, AUC, Accuracy, F score] =  [np.float64(0.744), np.float64(0.997), np.float64(0.977), np.float64(0.983)]\n",
      "--- Training --- [threshold, AUC] =  [np.float64(0.745), np.float64(0.997)]\n",
      "--- Iteration 170: Training loss --- [Data, Label, Total] = [44058.219470.3, 113.951328.3, 220405.048680.3]\n",
      "!!! pred_type filter\n"
     ]
    },
    {
     "name": "stderr",
     "output_type": "stream",
     "text": [
      " 70%|████████████████████████████████████████████████████████████████████████████████▉                                  | 176/250 [00:11<00:04, 17.25it/s]"
     ]
    },
    {
     "name": "stdout",
     "output_type": "stream",
     "text": [
      "--- Validation --- [threshold, AUC, Accuracy, F score] =  [np.float64(0.745), np.float64(0.997), np.float64(0.977), np.float64(0.983)]\n",
      "--- Training --- [threshold, AUC] =  [np.float64(0.747), np.float64(0.997)]\n",
      "--- Iteration 180: Training loss --- [Data, Label, Total] = [44030.911278.3, 113.894050.3, 220268.450439.3]\n",
      "!!! pred_type filter\n"
     ]
    },
    {
     "name": "stderr",
     "output_type": "stream",
     "text": [
      " 74%|█████████████████████████████████████████████████████████████████████████████████████▌                             | 186/250 [00:12<00:03, 17.65it/s]"
     ]
    },
    {
     "name": "stdout",
     "output_type": "stream",
     "text": [
      "--- Validation --- [threshold, AUC, Accuracy, F score] =  [np.float64(0.747), np.float64(0.997), np.float64(0.977), np.float64(0.983)]\n",
      "--- Training --- [threshold, AUC] =  [np.float64(0.74), np.float64(0.997)]\n",
      "--- Iteration 190: Training loss --- [Data, Label, Total] = [44006.540752.3, 113.848745.3, 220146.552505.3]\n",
      "!!! pred_type filter\n"
     ]
    },
    {
     "name": "stderr",
     "output_type": "stream",
     "text": [
      " 78%|██████████████████████████████████████████████████████████████████████████████████████████▏                        | 196/250 [00:12<00:03, 17.74it/s]"
     ]
    },
    {
     "name": "stdout",
     "output_type": "stream",
     "text": [
      "--- Validation --- [threshold, AUC, Accuracy, F score] =  [np.float64(0.74), np.float64(0.997), np.float64(0.978), np.float64(0.983)]\n"
     ]
    },
    {
     "name": "stderr",
     "output_type": "stream",
     "text": [
      " 80%|████████████████████████████████████████████████████████████████████████████████████████████                       | 200/250 [00:12<00:02, 20.17it/s]"
     ]
    },
    {
     "name": "stdout",
     "output_type": "stream",
     "text": [
      "--- Training --- [threshold, AUC] =  [np.float64(0.742), np.float64(0.997)]\n",
      "--- Iteration 200: Training loss --- [Data, Label, Total] = [43984.053703.3, 113.826720.3, 220034.095233.3]\n",
      "!!! pred_type filter\n"
     ]
    },
    {
     "name": "stderr",
     "output_type": "stream",
     "text": [
      " 84%|████████████████████████████████████████████████████████████████████████████████████████████████▏                  | 209/250 [00:13<00:02, 15.45it/s]"
     ]
    },
    {
     "name": "stdout",
     "output_type": "stream",
     "text": [
      "--- Validation --- [threshold, AUC, Accuracy, F score] =  [np.float64(0.742), np.float64(0.997), np.float64(0.978), np.float64(0.983)]\n",
      "--- Training --- [threshold, AUC] =  [np.float64(0.743), np.float64(0.997)]\n",
      "--- Iteration 210: Training loss --- [Data, Label, Total] = [43962.851375.3, 113.807515.3, 219928.064391.3]\n",
      "!!! pred_type filter\n"
     ]
    },
    {
     "name": "stderr",
     "output_type": "stream",
     "text": [
      " 87%|████████████████████████████████████████████████████████████████████████████████████████████████████▎              | 218/250 [00:14<00:01, 16.10it/s]"
     ]
    },
    {
     "name": "stdout",
     "output_type": "stream",
     "text": [
      "--- Validation --- [threshold, AUC, Accuracy, F score] =  [np.float64(0.743), np.float64(0.997), np.float64(0.978), np.float64(0.983)]\n",
      "--- Training --- [threshold, AUC] =  [np.float64(0.746), np.float64(0.997)]\n",
      "--- Iteration 220: Training loss --- [Data, Label, Total] = [43942.531505.3, 113.878091.3, 219826.535615.3]\n",
      "!!! pred_type filter\n"
     ]
    },
    {
     "name": "stderr",
     "output_type": "stream",
     "text": [
      " 91%|████████████████████████████████████████████████████████████████████████████████████████████████████████▍          | 227/250 [00:14<00:01, 16.08it/s]"
     ]
    },
    {
     "name": "stdout",
     "output_type": "stream",
     "text": [
      "--- Validation --- [threshold, AUC, Accuracy, F score] =  [np.float64(0.746), np.float64(0.997), np.float64(0.978), np.float64(0.983)]\n",
      "--- Training --- [threshold, AUC] =  [np.float64(0.747), np.float64(0.997)]\n",
      "--- Iteration 230: Training loss --- [Data, Label, Total] = [43922.944966.3, 113.599080.3, 219728.323908.3]\n",
      "!!! pred_type filter\n"
     ]
    },
    {
     "name": "stderr",
     "output_type": "stream",
     "text": [
      " 94%|███████████████████████████████████████████████████████████████████████████████████████████████████████████▋       | 234/250 [00:15<00:01, 13.38it/s]"
     ]
    },
    {
     "name": "stdout",
     "output_type": "stream",
     "text": [
      "--- Validation --- [threshold, AUC, Accuracy, F score] =  [np.float64(0.747), np.float64(0.997), np.float64(0.978), np.float64(0.983)]\n"
     ]
    },
    {
     "name": "stderr",
     "output_type": "stream",
     "text": [
      " 96%|█████████████████████████████████████████████████████████████████████████████████████████████████████████████▉     | 239/250 [00:15<00:00, 17.50it/s]"
     ]
    },
    {
     "name": "stdout",
     "output_type": "stream",
     "text": [
      "--- Training --- [threshold, AUC] =  [np.float64(0.746), np.float64(0.997)]\n",
      "--- Iteration 240: Training loss --- [Data, Label, Total] = [43904.146606.3, 113.556063.3, 219634.289091.3]\n",
      "!!! pred_type filter\n"
     ]
    },
    {
     "name": "stderr",
     "output_type": "stream",
     "text": [
      " 99%|█████████████████████████████████████████████████████████████████████████████████████████████████████████████████▌ | 247/250 [00:16<00:00, 16.13it/s]"
     ]
    },
    {
     "name": "stdout",
     "output_type": "stream",
     "text": [
      "--- Validation --- [threshold, AUC, Accuracy, F score] =  [np.float64(0.746), np.float64(0.997), np.float64(0.978), np.float64(0.983)]\n"
     ]
    },
    {
     "name": "stderr",
     "output_type": "stream",
     "text": [
      "100%|███████████████████████████████████████████████████████████████████████████████████████████████████████████████████| 250/250 [00:16<00:00, 15.15it/s]\n"
     ]
    },
    {
     "name": "stdout",
     "output_type": "stream",
     "text": [
      "!!! pred_type filter\n",
      "num of subgraphs induced on k-paths: 500\n",
      "num of subgraphs induced on k-paths: 500\n",
      "X_list: (576, 1000)\n",
      "2\n",
      "(1, 500)\n",
      "(1, 500)\n",
      "label_vec: (1, 1000)\n",
      "num of subgraphs induced on k-paths: 500\n",
      "num of subgraphs induced on k-paths: 500\n",
      "X_list: (576, 1000)\n",
      "2\n",
      "(1, 500)\n",
      "(1, 500)\n",
      "label_vec: (1, 1000)\n"
     ]
    }
   ],
   "source": [
    "for i in range(20,25):\n",
    "    print(i)\n",
    "    accu.append(roc.run(i))"
   ]
  },
  {
   "cell_type": "code",
   "execution_count": 7,
   "id": "e3832ffa-5390-445b-ae1d-4e5038f82f21",
   "metadata": {},
   "outputs": [
    {
     "name": "stdout",
     "output_type": "stream",
     "text": [
      "25\n",
      "num of subgraphs induced on k-paths: 500\n",
      "num of subgraphs induced on k-paths: 500\n",
      "X_list: (625, 1000)\n",
      "2\n",
      "(1, 500)\n",
      "(1, 500)\n",
      "label_vec: (1, 1000)\n",
      "num of subgraphs induced on k-paths: 500\n",
      "num of subgraphs induced on k-paths: 1067\n",
      "X_list: (625, 1567)\n",
      "2\n",
      "(1, 500)\n",
      "(1, 1067)\n",
      "label_vec: (1, 1567)\n",
      "initial loading beta [[-0.40796946 -0.28299822 -0.50826508  0.87873654  0.9814817   0.92638935\n",
      "   0.73999071  0.06160935 -0.09175041 -0.46961679 -0.85171896 -0.8623091\n",
      "   0.67082124  0.52422643  0.65170251 -0.24391267  0.24550372]]\n"
     ]
    },
    {
     "name": "stderr",
     "output_type": "stream",
     "text": [
      "  2%|█▊                                                                                                                   | 4/250 [00:00<00:07, 34.86it/s]"
     ]
    },
    {
     "name": "stdout",
     "output_type": "stream",
     "text": [
      "--- Training --- [threshold, AUC] =  [np.float64(0.608), np.float64(0.997)]\n",
      "--- Iteration 0: Training loss --- [Data, Label, Total] = [85247.152685.3, 113.429509.3, 426349.192935.3]\n"
     ]
    },
    {
     "name": "stderr",
     "output_type": "stream",
     "text": [
      "  4%|████▏                                                                                                                | 9/250 [00:00<00:06, 38.36it/s]"
     ]
    },
    {
     "name": "stdout",
     "output_type": "stream",
     "text": [
      "--- Training --- [threshold, AUC] =  [np.float64(0.599), np.float64(0.997)]\n",
      "--- Iteration 10: Training loss --- [Data, Label, Total] = [55971.462732.3, 94.945211.3, 279952.258873.3]\n",
      "!!! pred_type filter\n"
     ]
    },
    {
     "name": "stderr",
     "output_type": "stream",
     "text": [
      "  7%|████████▎                                                                                                           | 18/250 [00:01<00:14, 16.54it/s]"
     ]
    },
    {
     "name": "stdout",
     "output_type": "stream",
     "text": [
      "--- Validation --- [threshold, AUC, Accuracy, F score] =  [np.float64(0.599), np.float64(0.997), np.float64(0.984), np.float64(0.988)]\n",
      "--- Training --- [threshold, AUC] =  [np.float64(0.694), np.float64(0.997)]\n",
      "--- Iteration 20: Training loss --- [Data, Label, Total] = [53143.706823.3, 95.825405.3, 265814.359522.3]\n",
      "!!! pred_type filter\n"
     ]
    },
    {
     "name": "stderr",
     "output_type": "stream",
     "text": [
      " 11%|████████████▌                                                                                                       | 27/250 [00:01<00:15, 14.77it/s]"
     ]
    },
    {
     "name": "stdout",
     "output_type": "stream",
     "text": [
      "--- Validation --- [threshold, AUC, Accuracy, F score] =  [np.float64(0.694), np.float64(0.997), np.float64(0.983), np.float64(0.987)]\n",
      "--- Training --- [threshold, AUC] =  [np.float64(0.707), np.float64(0.998)]\n",
      "--- Iteration 30: Training loss --- [Data, Label, Total] = [51572.553153.3, 96.967857.3, 257959.733620.3]\n",
      "!!! pred_type filter\n"
     ]
    },
    {
     "name": "stderr",
     "output_type": "stream",
     "text": [
      " 14%|████████████████▋                                                                                                   | 36/250 [00:02<00:14, 14.48it/s]"
     ]
    },
    {
     "name": "stdout",
     "output_type": "stream",
     "text": [
      "--- Validation --- [threshold, AUC, Accuracy, F score] =  [np.float64(0.707), np.float64(0.998), np.float64(0.983), np.float64(0.988)]\n",
      "--- Training --- [threshold, AUC] =  [np.float64(0.724), np.float64(0.998)]\n",
      "--- Iteration 40: Training loss --- [Data, Label, Total] = [50622.862312.3, 97.652197.3, 253211.963758.3]\n",
      "!!! pred_type filter\n"
     ]
    },
    {
     "name": "stderr",
     "output_type": "stream",
     "text": [
      " 18%|█████████████████████▎                                                                                              | 46/250 [00:03<00:13, 14.98it/s]"
     ]
    },
    {
     "name": "stdout",
     "output_type": "stream",
     "text": [
      "--- Validation --- [threshold, AUC, Accuracy, F score] =  [np.float64(0.724), np.float64(0.998), np.float64(0.981), np.float64(0.986)]\n",
      "--- Training --- [threshold, AUC] =  [np.float64(0.749), np.float64(0.998)]\n",
      "--- Iteration 50: Training loss --- [Data, Label, Total] = [50006.772118.3, 98.450502.3, 250132.311093.3]\n",
      "!!! pred_type filter\n"
     ]
    },
    {
     "name": "stderr",
     "output_type": "stream",
     "text": [
      " 22%|█████████████████████████▉                                                                                          | 56/250 [00:04<00:12, 15.31it/s]"
     ]
    },
    {
     "name": "stdout",
     "output_type": "stream",
     "text": [
      "--- Validation --- [threshold, AUC, Accuracy, F score] =  [np.float64(0.749), np.float64(0.998), np.float64(0.981), np.float64(0.986)]\n",
      "--- Training --- [threshold, AUC] =  [np.float64(0.723), np.float64(0.998)]\n",
      "--- Iteration 60: Training loss --- [Data, Label, Total] = [49591.552470.3, 98.880909.3, 248056.643261.3]\n",
      "!!! pred_type filter\n"
     ]
    },
    {
     "name": "stderr",
     "output_type": "stream",
     "text": [
      " 26%|██████████████████████████████▌                                                                                     | 66/250 [00:04<00:11, 15.70it/s]"
     ]
    },
    {
     "name": "stdout",
     "output_type": "stream",
     "text": [
      "--- Validation --- [threshold, AUC, Accuracy, F score] =  [np.float64(0.723), np.float64(0.998), np.float64(0.981), np.float64(0.986)]\n",
      "--- Training --- [threshold, AUC] =  [np.float64(0.704), np.float64(0.998)]\n",
      "--- Iteration 70: Training loss --- [Data, Label, Total] = [49296.949483.3, 99.344490.3, 246584.091906.3]\n",
      "!!! pred_type filter\n"
     ]
    },
    {
     "name": "stderr",
     "output_type": "stream",
     "text": [
      " 30%|██████████████████████████████████▊                                                                                 | 75/250 [00:05<00:11, 14.85it/s]"
     ]
    },
    {
     "name": "stdout",
     "output_type": "stream",
     "text": [
      "--- Validation --- [threshold, AUC, Accuracy, F score] =  [np.float64(0.704), np.float64(0.998), np.float64(0.982), np.float64(0.987)]\n"
     ]
    },
    {
     "name": "stderr",
     "output_type": "stream",
     "text": [
      " 32%|█████████████████████████████████████                                                                               | 80/250 [00:05<00:09, 18.63it/s]"
     ]
    },
    {
     "name": "stdout",
     "output_type": "stream",
     "text": [
      "--- Training --- [threshold, AUC] =  [np.float64(0.761), np.float64(0.998)]\n",
      "--- Iteration 80: Training loss --- [Data, Label, Total] = [49074.522613.3, 99.760253.3, 245472.373318.3]\n",
      "!!! pred_type filter\n"
     ]
    },
    {
     "name": "stderr",
     "output_type": "stream",
     "text": [
      " 34%|██████████████████████████████████████▉                                                                             | 84/250 [00:06<00:15, 10.51it/s]"
     ]
    },
    {
     "name": "stdout",
     "output_type": "stream",
     "text": [
      "--- Validation --- [threshold, AUC, Accuracy, F score] =  [np.float64(0.761), np.float64(0.998), np.float64(0.981), np.float64(0.986)]\n"
     ]
    },
    {
     "name": "stderr",
     "output_type": "stream",
     "text": [
      " 36%|█████████████████████████████████████████▊                                                                          | 90/250 [00:06<00:13, 12.08it/s]"
     ]
    },
    {
     "name": "stdout",
     "output_type": "stream",
     "text": [
      "--- Training --- [threshold, AUC] =  [np.float64(0.73), np.float64(0.998)]\n",
      "--- Iteration 90: Training loss --- [Data, Label, Total] = [48898.518675.3, 100.319851.3, 244592.913228.3]\n",
      "!!! pred_type filter\n"
     ]
    },
    {
     "name": "stderr",
     "output_type": "stream",
     "text": [
      " 37%|███████████████████████████████████████████▏                                                                        | 93/250 [00:07<00:25,  6.11it/s]"
     ]
    },
    {
     "name": "stdout",
     "output_type": "stream",
     "text": [
      "--- Validation --- [threshold, AUC, Accuracy, F score] =  [np.float64(0.73), np.float64(0.998), np.float64(0.981), np.float64(0.986)]\n"
     ]
    },
    {
     "name": "stderr",
     "output_type": "stream",
     "text": [
      " 40%|█████████████████████████████████████████████▉                                                                      | 99/250 [00:08<00:21,  7.17it/s]"
     ]
    },
    {
     "name": "stdout",
     "output_type": "stream",
     "text": [
      "--- Training --- [threshold, AUC] =  [np.float64(0.757), np.float64(0.998)]\n",
      "--- Iteration 100: Training loss --- [Data, Label, Total] = [48754.286134.3, 100.765085.3, 243872.195753.3]\n",
      "!!! pred_type filter\n"
     ]
    },
    {
     "name": "stderr",
     "output_type": "stream",
     "text": [
      " 42%|███████████████████████████████████████████████▊                                                                   | 104/250 [00:09<00:23,  6.27it/s]"
     ]
    },
    {
     "name": "stdout",
     "output_type": "stream",
     "text": [
      "--- Validation --- [threshold, AUC, Accuracy, F score] =  [np.float64(0.757), np.float64(0.998), np.float64(0.98), np.float64(0.985)]\n"
     ]
    },
    {
     "name": "stderr",
     "output_type": "stream",
     "text": [
      " 44%|██████████████████████████████████████████████████▌                                                                | 110/250 [00:10<00:13, 10.67it/s]"
     ]
    },
    {
     "name": "stdout",
     "output_type": "stream",
     "text": [
      "--- Training --- [threshold, AUC] =  [np.float64(0.697), np.float64(0.998)]\n",
      "--- Iteration 110: Training loss --- [Data, Label, Total] = [48633.613173.3, 101.233319.3, 243269.299183.3]\n",
      "!!! pred_type filter\n"
     ]
    },
    {
     "name": "stderr",
     "output_type": "stream",
     "text": [
      " 46%|████████████████████████████████████████████████████▉                                                              | 115/250 [00:11<00:17,  7.72it/s]"
     ]
    },
    {
     "name": "stdout",
     "output_type": "stream",
     "text": [
      "--- Validation --- [threshold, AUC, Accuracy, F score] =  [np.float64(0.697), np.float64(0.998), np.float64(0.983), np.float64(0.988)]\n"
     ]
    },
    {
     "name": "stderr",
     "output_type": "stream",
     "text": [
      " 47%|██████████████████████████████████████████████████████▎                                                            | 118/250 [00:11<00:13, 10.02it/s]"
     ]
    },
    {
     "name": "stdout",
     "output_type": "stream",
     "text": [
      "--- Training --- [threshold, AUC] =  [np.float64(0.704), np.float64(0.998)]\n",
      "--- Iteration 120: Training loss --- [Data, Label, Total] = [48533.322367.3, 101.351090.3, 242767.962923.3]\n",
      "!!! pred_type filter\n"
     ]
    },
    {
     "name": "stderr",
     "output_type": "stream",
     "text": [
      " 50%|█████████████████████████████████████████████████████████                                                          | 124/250 [00:12<00:15,  7.99it/s]"
     ]
    },
    {
     "name": "stdout",
     "output_type": "stream",
     "text": [
      "--- Validation --- [threshold, AUC, Accuracy, F score] =  [np.float64(0.704), np.float64(0.998), np.float64(0.983), np.float64(0.988)]\n"
     ]
    },
    {
     "name": "stderr",
     "output_type": "stream",
     "text": [
      " 52%|███████████████████████████████████████████████████████████▊                                                       | 130/250 [00:12<00:09, 12.82it/s]"
     ]
    },
    {
     "name": "stdout",
     "output_type": "stream",
     "text": [
      "--- Training --- [threshold, AUC] =  [np.float64(0.712), np.float64(0.998)]\n",
      "--- Iteration 130: Training loss --- [Data, Label, Total] = [48451.481368.3, 101.714509.3, 242359.121350.3]\n",
      "!!! pred_type filter\n"
     ]
    },
    {
     "name": "stderr",
     "output_type": "stream",
     "text": [
      " 53%|█████████████████████████████████████████████████████████████▏                                                     | 133/250 [00:13<00:16,  6.96it/s]"
     ]
    },
    {
     "name": "stdout",
     "output_type": "stream",
     "text": [
      "--- Validation --- [threshold, AUC, Accuracy, F score] =  [np.float64(0.712), np.float64(0.998), np.float64(0.983), np.float64(0.988)]\n"
     ]
    },
    {
     "name": "stderr",
     "output_type": "stream",
     "text": [
      " 55%|███████████████████████████████████████████████████████████████▍                                                   | 138/250 [00:13<00:11, 10.02it/s]"
     ]
    },
    {
     "name": "stdout",
     "output_type": "stream",
     "text": [
      "--- Training --- [threshold, AUC] =  [np.float64(0.704), np.float64(0.998)]\n",
      "--- Iteration 140: Training loss --- [Data, Label, Total] = [48384.022332.3, 101.943665.3, 242022.055326.3]\n",
      "!!! pred_type filter\n"
     ]
    },
    {
     "name": "stderr",
     "output_type": "stream",
     "text": [
      " 58%|██████████████████████████████████████████████████████████████████▏                                                | 144/250 [00:14<00:12,  8.49it/s]"
     ]
    },
    {
     "name": "stdout",
     "output_type": "stream",
     "text": [
      "--- Validation --- [threshold, AUC, Accuracy, F score] =  [np.float64(0.704), np.float64(0.998), np.float64(0.984), np.float64(0.988)]\n"
     ]
    },
    {
     "name": "stderr",
     "output_type": "stream",
     "text": [
      " 60%|█████████████████████████████████████████████████████████████████████                                              | 150/250 [00:14<00:07, 13.51it/s]"
     ]
    },
    {
     "name": "stdout",
     "output_type": "stream",
     "text": [
      "--- Training --- [threshold, AUC] =  [np.float64(0.705), np.float64(0.998)]\n",
      "--- Iteration 150: Training loss --- [Data, Label, Total] = [48327.975451.3, 102.088683.3, 241741.965936.3]\n",
      "!!! pred_type filter\n"
     ]
    },
    {
     "name": "stderr",
     "output_type": "stream",
     "text": [
      " 62%|███████████████████████████████████████████████████████████████████████▊                                           | 156/250 [00:15<00:10,  9.32it/s]"
     ]
    },
    {
     "name": "stdout",
     "output_type": "stream",
     "text": [
      "--- Validation --- [threshold, AUC, Accuracy, F score] =  [np.float64(0.705), np.float64(0.998), np.float64(0.984), np.float64(0.988)]\n"
     ]
    },
    {
     "name": "stderr",
     "output_type": "stream",
     "text": [
      " 64%|█████████████████████████████████████████████████████████████████████████▏                                         | 159/250 [00:15<00:07, 11.68it/s]"
     ]
    },
    {
     "name": "stdout",
     "output_type": "stream",
     "text": [
      "--- Training --- [threshold, AUC] =  [np.float64(0.716), np.float64(0.998)]\n",
      "--- Iteration 160: Training loss --- [Data, Label, Total] = [48280.953871.3, 101.998864.3, 241506.768220.3]\n",
      "!!! pred_type filter\n"
     ]
    },
    {
     "name": "stderr",
     "output_type": "stream",
     "text": [
      " 66%|███████████████████████████████████████████████████████████████████████████▉                                       | 165/250 [00:16<00:09,  8.73it/s]"
     ]
    },
    {
     "name": "stdout",
     "output_type": "stream",
     "text": [
      "--- Validation --- [threshold, AUC, Accuracy, F score] =  [np.float64(0.716), np.float64(0.998), np.float64(0.983), np.float64(0.988)]\n"
     ]
    },
    {
     "name": "stderr",
     "output_type": "stream",
     "text": [
      " 68%|█████████████████████████████████████████████████████████████████████████████▋                                     | 169/250 [00:16<00:06, 11.77it/s]"
     ]
    },
    {
     "name": "stdout",
     "output_type": "stream",
     "text": [
      "--- Training --- [threshold, AUC] =  [np.float64(0.718), np.float64(0.998)]\n",
      "--- Iteration 170: Training loss --- [Data, Label, Total] = [48241.073541.3, 102.528410.3, 241307.896116.3]\n",
      "!!! pred_type filter\n"
     ]
    },
    {
     "name": "stderr",
     "output_type": "stream",
     "text": [
      " 70%|████████████████████████████████████████████████████████████████████████████████▌                                  | 175/250 [00:17<00:08,  8.79it/s]"
     ]
    },
    {
     "name": "stdout",
     "output_type": "stream",
     "text": [
      "--- Validation --- [threshold, AUC, Accuracy, F score] =  [np.float64(0.718), np.float64(0.998), np.float64(0.983), np.float64(0.988)]\n"
     ]
    },
    {
     "name": "stderr",
     "output_type": "stream",
     "text": [
      " 71%|█████████████████████████████████████████████████████████████████████████████████▉                                 | 178/250 [00:17<00:06, 10.87it/s]"
     ]
    },
    {
     "name": "stdout",
     "output_type": "stream",
     "text": [
      "--- Training --- [threshold, AUC] =  [np.float64(0.719), np.float64(0.998)]\n",
      "--- Iteration 180: Training loss --- [Data, Label, Total] = [48207.093920.3, 102.224625.3, 241137.694227.3]\n",
      "!!! pred_type filter\n"
     ]
    },
    {
     "name": "stderr",
     "output_type": "stream",
     "text": [
      " 74%|████████████████████████████████████████████████████████████████████████████████████▋                              | 184/250 [00:18<00:07,  8.61it/s]"
     ]
    },
    {
     "name": "stdout",
     "output_type": "stream",
     "text": [
      "--- Validation --- [threshold, AUC, Accuracy, F score] =  [np.float64(0.719), np.float64(0.998), np.float64(0.983), np.float64(0.988)]\n"
     ]
    },
    {
     "name": "stderr",
     "output_type": "stream",
     "text": [
      " 75%|██████████████████████████████████████████████████████████████████████████████████████▍                            | 188/250 [00:19<00:05, 11.52it/s]"
     ]
    },
    {
     "name": "stdout",
     "output_type": "stream",
     "text": [
      "--- Training --- [threshold, AUC] =  [np.float64(0.721), np.float64(0.998)]\n",
      "--- Iteration 190: Training loss --- [Data, Label, Total] = [48177.865625.3, 102.186525.3, 240991.514649.3]\n",
      "!!! pred_type filter\n"
     ]
    },
    {
     "name": "stderr",
     "output_type": "stream",
     "text": [
      " 78%|█████████████████████████████████████████████████████████████████████████████████████████▏                         | 194/250 [00:20<00:06,  8.94it/s]"
     ]
    },
    {
     "name": "stdout",
     "output_type": "stream",
     "text": [
      "--- Validation --- [threshold, AUC, Accuracy, F score] =  [np.float64(0.721), np.float64(0.998), np.float64(0.983), np.float64(0.988)]\n"
     ]
    },
    {
     "name": "stderr",
     "output_type": "stream",
     "text": [
      " 80%|████████████████████████████████████████████████████████████████████████████████████████████                       | 200/250 [00:20<00:03, 13.35it/s]"
     ]
    },
    {
     "name": "stdout",
     "output_type": "stream",
     "text": [
      "--- Training --- [threshold, AUC] =  [np.float64(0.717), np.float64(0.998)]\n",
      "--- Iteration 200: Training loss --- [Data, Label, Total] = [48152.337588.3, 102.111562.3, 240863.799502.3]\n",
      "!!! pred_type filter\n"
     ]
    },
    {
     "name": "stderr",
     "output_type": "stream",
     "text": [
      " 82%|██████████████████████████████████████████████████████████████████████████████████████████████▊                    | 206/250 [00:21<00:04,  9.12it/s]"
     ]
    },
    {
     "name": "stdout",
     "output_type": "stream",
     "text": [
      "--- Validation --- [threshold, AUC, Accuracy, F score] =  [np.float64(0.717), np.float64(0.998), np.float64(0.983), np.float64(0.988)]\n"
     ]
    },
    {
     "name": "stderr",
     "output_type": "stream",
     "text": [
      " 84%|████████████████████████████████████████████████████████████████████████████████████████████████▏                  | 209/250 [00:21<00:03, 11.27it/s]"
     ]
    },
    {
     "name": "stdout",
     "output_type": "stream",
     "text": [
      "--- Training --- [threshold, AUC] =  [np.float64(0.722), np.float64(0.998)]\n",
      "--- Iteration 210: Training loss --- [Data, Label, Total] = [48129.341411.3, 102.020611.3, 240748.727667.3]\n",
      "!!! pred_type filter\n"
     ]
    },
    {
     "name": "stderr",
     "output_type": "stream",
     "text": [
      " 86%|██████████████████████████████████████████████████████████████████████████████████████████████████▉                | 215/250 [00:22<00:04,  8.60it/s]"
     ]
    },
    {
     "name": "stdout",
     "output_type": "stream",
     "text": [
      "--- Validation --- [threshold, AUC, Accuracy, F score] =  [np.float64(0.722), np.float64(0.998), np.float64(0.983), np.float64(0.988)]\n"
     ]
    },
    {
     "name": "stderr",
     "output_type": "stream",
     "text": [
      " 87%|████████████████████████████████████████████████████████████████████████████████████████████████████▎              | 218/250 [00:22<00:02, 10.81it/s]"
     ]
    },
    {
     "name": "stdout",
     "output_type": "stream",
     "text": [
      "--- Training --- [threshold, AUC] =  [np.float64(0.711), np.float64(0.998)]\n",
      "--- Iteration 220: Training loss --- [Data, Label, Total] = [48108.425664.3, 102.057855.3, 240644.186176.3]\n",
      "!!! pred_type filter\n"
     ]
    },
    {
     "name": "stderr",
     "output_type": "stream",
     "text": [
      " 90%|███████████████████████████████████████████████████████████████████████████████████████████████████████            | 224/250 [00:23<00:03,  8.51it/s]"
     ]
    },
    {
     "name": "stdout",
     "output_type": "stream",
     "text": [
      "--- Validation --- [threshold, AUC, Accuracy, F score] =  [np.float64(0.711), np.float64(0.998), np.float64(0.984), np.float64(0.988)]\n"
     ]
    },
    {
     "name": "stderr",
     "output_type": "stream",
     "text": [
      " 92%|█████████████████████████████████████████████████████████████████████████████████████████████████████████▊         | 230/250 [00:23<00:01, 12.90it/s]"
     ]
    },
    {
     "name": "stdout",
     "output_type": "stream",
     "text": [
      "--- Training --- [threshold, AUC] =  [np.float64(0.712), np.float64(0.998)]\n",
      "--- Iteration 230: Training loss --- [Data, Label, Total] = [48089.279142.3, 101.978806.3, 240548.374519.3]\n",
      "!!! pred_type filter\n"
     ]
    },
    {
     "name": "stderr",
     "output_type": "stream",
     "text": [
      " 93%|███████████████████████████████████████████████████████████████████████████████████████████████████████████▏       | 233/250 [00:24<00:02,  7.01it/s]"
     ]
    },
    {
     "name": "stdout",
     "output_type": "stream",
     "text": [
      "--- Validation --- [threshold, AUC, Accuracy, F score] =  [np.float64(0.712), np.float64(0.998), np.float64(0.984), np.float64(0.988)]\n"
     ]
    },
    {
     "name": "stderr",
     "output_type": "stream",
     "text": [
      " 96%|█████████████████████████████████████████████████████████████████████████████████████████████████████████████▉     | 239/250 [00:24<00:00, 11.13it/s]"
     ]
    },
    {
     "name": "stdout",
     "output_type": "stream",
     "text": [
      "--- Training --- [threshold, AUC] =  [np.float64(0.723), np.float64(0.998)]\n",
      "--- Iteration 240: Training loss --- [Data, Label, Total] = [48071.605791.3, 101.845579.3, 240459.874535.3]\n",
      "!!! pred_type filter\n"
     ]
    },
    {
     "name": "stderr",
     "output_type": "stream",
     "text": [
      " 98%|████████████████████████████████████████████████████████████████████████████████████████████████████████████████▏  | 244/250 [00:25<00:00,  7.42it/s]"
     ]
    },
    {
     "name": "stdout",
     "output_type": "stream",
     "text": [
      "--- Validation --- [threshold, AUC, Accuracy, F score] =  [np.float64(0.723), np.float64(0.998), np.float64(0.983), np.float64(0.988)]\n"
     ]
    },
    {
     "name": "stderr",
     "output_type": "stream",
     "text": [
      "100%|███████████████████████████████████████████████████████████████████████████████████████████████████████████████████| 250/250 [00:26<00:00,  9.58it/s]\n"
     ]
    },
    {
     "name": "stdout",
     "output_type": "stream",
     "text": [
      "!!! pred_type filter\n",
      "num of subgraphs induced on k-paths: 500\n",
      "num of subgraphs induced on k-paths: 500\n",
      "X_list: (625, 1000)\n",
      "2\n",
      "(1, 500)\n",
      "(1, 500)\n",
      "label_vec: (1, 1000)\n",
      "num of subgraphs induced on k-paths: 500\n",
      "num of subgraphs induced on k-paths: 500\n",
      "X_list: (625, 1000)\n",
      "2\n",
      "(1, 500)\n",
      "(1, 500)\n",
      "label_vec: (1, 1000)\n",
      "26\n",
      "num of subgraphs induced on k-paths: 500\n",
      "num of subgraphs induced on k-paths: 500\n",
      "X_list: (676, 1000)\n",
      "2\n",
      "(1, 500)\n",
      "(1, 500)\n",
      "label_vec: (1, 1000)\n",
      "num of subgraphs induced on k-paths: 500\n",
      "num of subgraphs induced on k-paths: 1087\n",
      "X_list: (676, 1587)\n",
      "2\n",
      "(1, 500)\n",
      "(1, 1087)\n",
      "label_vec: (1, 1587)\n",
      "initial loading beta [[ 0.14728287  0.73260924  0.12496687 -0.00548483 -0.60148711 -0.31117239\n",
      "  -0.80238823  0.78134392  0.1729329  -0.37574049  0.47807124  0.95645343\n",
      "   0.27884346  0.30356424  0.45119711  0.48348827 -0.54909161]]\n"
     ]
    },
    {
     "name": "stderr",
     "output_type": "stream",
     "text": [
      "  0%|                                                                                                                             | 0/250 [00:00<?, ?it/s]"
     ]
    },
    {
     "name": "stdout",
     "output_type": "stream",
     "text": [
      "--- Training --- [threshold, AUC] =  [np.float64(0.694), np.float64(0.998)]\n",
      "--- Iteration 0: Training loss --- [Data, Label, Total] = [90415.264345.3, 105.176522.3, 452181.498245.3]\n"
     ]
    },
    {
     "name": "stderr",
     "output_type": "stream",
     "text": [
      "  4%|████▏                                                                                                                | 9/250 [00:00<00:09, 25.55it/s]"
     ]
    },
    {
     "name": "stdout",
     "output_type": "stream",
     "text": [
      "--- Training --- [threshold, AUC] =  [np.float64(0.674), np.float64(0.998)]\n",
      "--- Iteration 10: Training loss --- [Data, Label, Total] = [60294.879939.3, 88.946177.3, 301563.345872.3]\n",
      "!!! pred_type filter\n"
     ]
    },
    {
     "name": "stderr",
     "output_type": "stream",
     "text": [
      "  6%|██████▉                                                                                                             | 15/250 [00:01<00:27,  8.54it/s]"
     ]
    },
    {
     "name": "stdout",
     "output_type": "stream",
     "text": [
      "--- Validation --- [threshold, AUC, Accuracy, F score] =  [np.float64(0.674), np.float64(0.998), np.float64(0.986), np.float64(0.989)]\n"
     ]
    },
    {
     "name": "stderr",
     "output_type": "stream",
     "text": [
      "  7%|████████▎                                                                                                           | 18/250 [00:01<00:20, 11.08it/s]"
     ]
    },
    {
     "name": "stdout",
     "output_type": "stream",
     "text": [
      "--- Training --- [threshold, AUC] =  [np.float64(0.718), np.float64(0.998)]\n",
      "--- Iteration 20: Training loss --- [Data, Label, Total] = [57261.041075.3, 87.577667.3, 286392.783043.3]\n",
      "!!! pred_type filter\n"
     ]
    },
    {
     "name": "stderr",
     "output_type": "stream",
     "text": [
      " 10%|███████████▏                                                                                                        | 24/250 [00:02<00:29,  7.58it/s]"
     ]
    },
    {
     "name": "stdout",
     "output_type": "stream",
     "text": [
      "--- Validation --- [threshold, AUC, Accuracy, F score] =  [np.float64(0.718), np.float64(0.998), np.float64(0.982), np.float64(0.987)]\n"
     ]
    },
    {
     "name": "stderr",
     "output_type": "stream",
     "text": [
      " 12%|█████████████▉                                                                                                      | 30/250 [00:03<00:17, 12.31it/s]"
     ]
    },
    {
     "name": "stdout",
     "output_type": "stream",
     "text": [
      "--- Training --- [threshold, AUC] =  [np.float64(0.714), np.float64(0.998)]\n",
      "--- Iteration 30: Training loss --- [Data, Label, Total] = [55555.111771.3, 87.727771.3, 277863.286628.3]\n",
      "!!! pred_type filter\n"
     ]
    },
    {
     "name": "stderr",
     "output_type": "stream",
     "text": [
      " 13%|███████████████▎                                                                                                    | 33/250 [00:04<00:41,  5.25it/s]"
     ]
    },
    {
     "name": "stdout",
     "output_type": "stream",
     "text": [
      "--- Validation --- [threshold, AUC, Accuracy, F score] =  [np.float64(0.714), np.float64(0.998), np.float64(0.983), np.float64(0.988)]\n"
     ]
    },
    {
     "name": "stderr",
     "output_type": "stream",
     "text": [
      " 16%|██████████████████                                                                                                  | 39/250 [00:04<00:30,  6.97it/s]"
     ]
    },
    {
     "name": "stdout",
     "output_type": "stream",
     "text": [
      "--- Training --- [threshold, AUC] =  [np.float64(0.721), np.float64(0.998)]\n",
      "--- Iteration 40: Training loss --- [Data, Label, Total] = [54752.323937.3, 88.551303.3, 273850.170986.3]\n",
      "!!! pred_type filter\n"
     ]
    },
    {
     "name": "stderr",
     "output_type": "stream",
     "text": [
      " 18%|████████████████████▍                                                                                               | 44/250 [00:06<00:43,  4.73it/s]"
     ]
    },
    {
     "name": "stdout",
     "output_type": "stream",
     "text": [
      "--- Validation --- [threshold, AUC, Accuracy, F score] =  [np.float64(0.721), np.float64(0.998), np.float64(0.981), np.float64(0.986)]\n"
     ]
    },
    {
     "name": "stderr",
     "output_type": "stream",
     "text": [
      " 20%|██████████████████████▋                                                                                             | 49/250 [00:06<00:27,  7.37it/s]"
     ]
    },
    {
     "name": "stdout",
     "output_type": "stream",
     "text": [
      "--- Training --- [threshold, AUC] =  [np.float64(0.698), np.float64(0.998)]\n",
      "--- Iteration 50: Training loss --- [Data, Label, Total] = [54328.055561.3, 88.647859.3, 271728.925665.3]\n",
      "!!! pred_type filter\n"
     ]
    },
    {
     "name": "stderr",
     "output_type": "stream",
     "text": [
      " 22%|█████████████████████████                                                                                           | 54/250 [00:08<00:43,  4.47it/s]"
     ]
    },
    {
     "name": "stdout",
     "output_type": "stream",
     "text": [
      "--- Validation --- [threshold, AUC, Accuracy, F score] =  [np.float64(0.698), np.float64(0.998), np.float64(0.982), np.float64(0.987)]\n"
     ]
    },
    {
     "name": "stderr",
     "output_type": "stream",
     "text": [
      " 24%|███████████████████████████▍                                                                                        | 59/250 [00:08<00:26,  7.31it/s]"
     ]
    },
    {
     "name": "stdout",
     "output_type": "stream",
     "text": [
      "--- Training --- [threshold, AUC] =  [np.float64(0.691), np.float64(0.998)]\n",
      "--- Iteration 60: Training loss --- [Data, Label, Total] = [54077.050082.3, 89.255032.3, 270474.505444.3]\n",
      "!!! pred_type filter\n"
     ]
    },
    {
     "name": "stderr",
     "output_type": "stream",
     "text": [
      " 26%|█████████████████████████████▋                                                                                      | 64/250 [00:10<00:36,  5.11it/s]"
     ]
    },
    {
     "name": "stdout",
     "output_type": "stream",
     "text": [
      "--- Validation --- [threshold, AUC, Accuracy, F score] =  [np.float64(0.691), np.float64(0.998), np.float64(0.983), np.float64(0.988)]\n"
     ]
    },
    {
     "name": "stderr",
     "output_type": "stream",
     "text": [
      " 28%|████████████████████████████████                                                                                    | 69/250 [00:10<00:22,  8.13it/s]"
     ]
    },
    {
     "name": "stdout",
     "output_type": "stream",
     "text": [
      "--- Training --- [threshold, AUC] =  [np.float64(0.687), np.float64(0.998)]\n",
      "--- Iteration 70: Training loss --- [Data, Label, Total] = [53909.211632.3, 89.648444.3, 269635.706606.3]\n",
      "!!! pred_type filter\n"
     ]
    },
    {
     "name": "stderr",
     "output_type": "stream",
     "text": [
      " 30%|██████████████████████████████████▎                                                                                 | 74/250 [00:12<00:30,  5.71it/s]"
     ]
    },
    {
     "name": "stdout",
     "output_type": "stream",
     "text": [
      "--- Validation --- [threshold, AUC, Accuracy, F score] =  [np.float64(0.687), np.float64(0.998), np.float64(0.984), np.float64(0.988)]\n"
     ]
    },
    {
     "name": "stderr",
     "output_type": "stream",
     "text": [
      " 32%|█████████████████████████████████████                                                                               | 80/250 [00:12<00:16, 10.28it/s]"
     ]
    },
    {
     "name": "stdout",
     "output_type": "stream",
     "text": [
      "--- Training --- [threshold, AUC] =  [np.float64(0.688), np.float64(0.998)]\n",
      "--- Iteration 80: Training loss --- [Data, Label, Total] = [53780.063899.3, 89.766899.3, 268990.086394.3]\n",
      "!!! pred_type filter\n"
     ]
    },
    {
     "name": "stderr",
     "output_type": "stream",
     "text": [
      " 35%|████████████████████████████████████████▎                                                                           | 87/250 [00:13<00:18,  8.65it/s]"
     ]
    },
    {
     "name": "stdout",
     "output_type": "stream",
     "text": [
      "--- Validation --- [threshold, AUC, Accuracy, F score] =  [np.float64(0.688), np.float64(0.998), np.float64(0.984), np.float64(0.988)]\n"
     ]
    },
    {
     "name": "stderr",
     "output_type": "stream",
     "text": [
      " 36%|█████████████████████████████████████████▊                                                                          | 90/250 [00:13<00:14, 10.79it/s]"
     ]
    },
    {
     "name": "stdout",
     "output_type": "stream",
     "text": [
      "--- Training --- [threshold, AUC] =  [np.float64(0.688), np.float64(0.998)]\n",
      "--- Iteration 90: Training loss --- [Data, Label, Total] = [53669.813802.3, 89.958258.3, 268439.027269.3]\n",
      "!!! pred_type filter\n"
     ]
    },
    {
     "name": "stderr",
     "output_type": "stream",
     "text": [
      " 38%|████████████████████████████████████████████                                                                        | 95/250 [00:15<00:26,  5.87it/s]"
     ]
    },
    {
     "name": "stdout",
     "output_type": "stream",
     "text": [
      "--- Validation --- [threshold, AUC, Accuracy, F score] =  [np.float64(0.688), np.float64(0.998), np.float64(0.984), np.float64(0.988)]\n"
     ]
    },
    {
     "name": "stderr",
     "output_type": "stream",
     "text": [
      " 40%|██████████████████████████████████████████████                                                                     | 100/250 [00:15<00:16,  9.10it/s]"
     ]
    },
    {
     "name": "stdout",
     "output_type": "stream",
     "text": [
      "--- Training --- [threshold, AUC] =  [np.float64(0.685), np.float64(0.998)]\n",
      "--- Iteration 100: Training loss --- [Data, Label, Total] = [53569.344136.3, 90.194733.3, 267936.915413.3]\n",
      "!!! pred_type filter\n"
     ]
    },
    {
     "name": "stderr",
     "output_type": "stream",
     "text": [
      " 42%|████████████████████████████████████████████████▎                                                                  | 105/250 [00:16<00:21,  6.89it/s]"
     ]
    },
    {
     "name": "stdout",
     "output_type": "stream",
     "text": [
      "--- Validation --- [threshold, AUC, Accuracy, F score] =  [np.float64(0.685), np.float64(0.998), np.float64(0.984), np.float64(0.988)]\n"
     ]
    },
    {
     "name": "stderr",
     "output_type": "stream",
     "text": [
      " 43%|█████████████████████████████████████████████████▋                                                                 | 108/250 [00:16<00:15,  9.20it/s]"
     ]
    },
    {
     "name": "stdout",
     "output_type": "stream",
     "text": [
      "--- Training --- [threshold, AUC] =  [np.float64(0.68), np.float64(0.998)]\n",
      "--- Iteration 110: Training loss --- [Data, Label, Total] = [53475.193990.3, 90.511465.3, 267466.481414.3]\n",
      "!!! pred_type filter\n"
     ]
    },
    {
     "name": "stderr",
     "output_type": "stream",
     "text": [
      " 46%|████████████████████████████████████████████████████▍                                                              | 114/250 [00:17<00:18,  7.40it/s]"
     ]
    },
    {
     "name": "stdout",
     "output_type": "stream",
     "text": [
      "--- Validation --- [threshold, AUC, Accuracy, F score] =  [np.float64(0.68), np.float64(0.998), np.float64(0.984), np.float64(0.988)]\n"
     ]
    },
    {
     "name": "stderr",
     "output_type": "stream",
     "text": [
      " 48%|███████████████████████████████████████████████████████▏                                                           | 120/250 [00:17<00:10, 11.91it/s]"
     ]
    },
    {
     "name": "stdout",
     "output_type": "stream",
     "text": [
      "--- Training --- [threshold, AUC] =  [np.float64(0.647), np.float64(0.998)]\n",
      "--- Iteration 120: Training loss --- [Data, Label, Total] = [53387.057935.3, 90.787830.3, 267026.077506.3]\n",
      "!!! pred_type filter\n"
     ]
    },
    {
     "name": "stderr",
     "output_type": "stream",
     "text": [
      " 50%|█████████████████████████████████████████████████████████▉                                                         | 126/250 [00:18<00:14,  8.64it/s]"
     ]
    },
    {
     "name": "stdout",
     "output_type": "stream",
     "text": [
      "--- Validation --- [threshold, AUC, Accuracy, F score] =  [np.float64(0.647), np.float64(0.998), np.float64(0.985), np.float64(0.989)]\n"
     ]
    },
    {
     "name": "stderr",
     "output_type": "stream",
     "text": [
      " 52%|███████████████████████████████████████████████████████████▎                                                       | 129/250 [00:18<00:11, 10.95it/s]"
     ]
    },
    {
     "name": "stdout",
     "output_type": "stream",
     "text": [
      "--- Training --- [threshold, AUC] =  [np.float64(0.676), np.float64(0.998)]\n",
      "--- Iteration 130: Training loss --- [Data, Label, Total] = [53305.351446.3, 91.059759.3, 266617.816987.3]\n",
      "!!! pred_type filter\n"
     ]
    },
    {
     "name": "stderr",
     "output_type": "stream",
     "text": [
      " 54%|██████████████████████████████████████████████████████████████                                                     | 135/250 [00:20<00:14,  7.82it/s]"
     ]
    },
    {
     "name": "stdout",
     "output_type": "stream",
     "text": [
      "--- Validation --- [threshold, AUC, Accuracy, F score] =  [np.float64(0.676), np.float64(0.998), np.float64(0.984), np.float64(0.988)]\n"
     ]
    },
    {
     "name": "stderr",
     "output_type": "stream",
     "text": [
      " 55%|███████████████████████████████████████████████████████████████▍                                                   | 138/250 [00:20<00:11, 10.04it/s]"
     ]
    },
    {
     "name": "stdout",
     "output_type": "stream",
     "text": [
      "--- Training --- [threshold, AUC] =  [np.float64(0.67), np.float64(0.998)]\n",
      "--- Iteration 140: Training loss --- [Data, Label, Total] = [53230.422927.3, 91.280091.3, 266243.394727.3]\n",
      "!!! pred_type filter\n"
     ]
    },
    {
     "name": "stderr",
     "output_type": "stream",
     "text": [
      " 58%|██████████████████████████████████████████████████████████████████▏                                                | 144/250 [00:21<00:13,  8.12it/s]"
     ]
    },
    {
     "name": "stdout",
     "output_type": "stream",
     "text": [
      "--- Validation --- [threshold, AUC, Accuracy, F score] =  [np.float64(0.67), np.float64(0.998), np.float64(0.984), np.float64(0.988)]\n"
     ]
    },
    {
     "name": "stderr",
     "output_type": "stream",
     "text": [
      " 60%|█████████████████████████████████████████████████████████████████████                                              | 150/250 [00:21<00:07, 12.85it/s]"
     ]
    },
    {
     "name": "stdout",
     "output_type": "stream",
     "text": [
      "--- Training --- [threshold, AUC] =  [np.float64(0.702), np.float64(0.998)]\n",
      "--- Iteration 150: Training loss --- [Data, Label, Total] = [53161.749485.3, 91.452653.3, 265900.200078.3]\n",
      "!!! pred_type filter\n"
     ]
    },
    {
     "name": "stderr",
     "output_type": "stream",
     "text": [
      " 62%|███████████████████████████████████████████████████████████████████████▊                                           | 156/250 [00:22<00:10,  8.99it/s]"
     ]
    },
    {
     "name": "stdout",
     "output_type": "stream",
     "text": [
      "--- Validation --- [threshold, AUC, Accuracy, F score] =  [np.float64(0.702), np.float64(0.998), np.float64(0.984), np.float64(0.988)]\n"
     ]
    },
    {
     "name": "stderr",
     "output_type": "stream",
     "text": [
      " 64%|█████████████████████████████████████████████████████████████████████████▏                                         | 159/250 [00:22<00:08, 11.35it/s]"
     ]
    },
    {
     "name": "stdout",
     "output_type": "stream",
     "text": [
      "--- Training --- [threshold, AUC] =  [np.float64(0.695), np.float64(0.998)]\n",
      "--- Iteration 160: Training loss --- [Data, Label, Total] = [53099.514432.3, 91.548440.3, 265589.120601.3]\n",
      "!!! pred_type filter\n"
     ]
    },
    {
     "name": "stderr",
     "output_type": "stream",
     "text": [
      " 66%|███████████████████████████████████████████████████████████████████████████▉                                       | 165/250 [00:23<00:09,  8.58it/s]"
     ]
    },
    {
     "name": "stdout",
     "output_type": "stream",
     "text": [
      "--- Validation --- [threshold, AUC, Accuracy, F score] =  [np.float64(0.695), np.float64(0.998), np.float64(0.984), np.float64(0.988)]\n"
     ]
    },
    {
     "name": "stderr",
     "output_type": "stream",
     "text": [
      " 67%|█████████████████████████████████████████████████████████████████████████████▎                                     | 168/250 [00:23<00:07, 10.85it/s]"
     ]
    },
    {
     "name": "stdout",
     "output_type": "stream",
     "text": [
      "--- Training --- [threshold, AUC] =  [np.float64(0.667), np.float64(0.998)]\n",
      "--- Iteration 170: Training loss --- [Data, Label, Total] = [53043.564772.3, 91.564943.3, 265309.388803.3]\n",
      "!!! pred_type filter\n"
     ]
    },
    {
     "name": "stderr",
     "output_type": "stream",
     "text": [
      " 70%|████████████████████████████████████████████████████████████████████████████████                                   | 174/250 [00:24<00:09,  7.84it/s]"
     ]
    },
    {
     "name": "stdout",
     "output_type": "stream",
     "text": [
      "--- Validation --- [threshold, AUC, Accuracy, F score] =  [np.float64(0.667), np.float64(0.998), np.float64(0.985), np.float64(0.989)]\n"
     ]
    },
    {
     "name": "stderr",
     "output_type": "stream",
     "text": [
      " 72%|██████████████████████████████████████████████████████████████████████████████████▎                                | 179/250 [00:24<00:06, 10.65it/s]"
     ]
    },
    {
     "name": "stdout",
     "output_type": "stream",
     "text": [
      "--- Training --- [threshold, AUC] =  [np.float64(0.688), np.float64(0.998)]\n",
      "--- Iteration 180: Training loss --- [Data, Label, Total] = [52993.796226.3, 91.506516.3, 265060.487648.3]\n",
      "!!! pred_type filter\n"
     ]
    },
    {
     "name": "stderr",
     "output_type": "stream",
     "text": [
      " 74%|████████████████████████████████████████████████████████████████████████████████████▋                              | 184/250 [00:26<00:10,  6.38it/s]"
     ]
    },
    {
     "name": "stdout",
     "output_type": "stream",
     "text": [
      "--- Validation --- [threshold, AUC, Accuracy, F score] =  [np.float64(0.688), np.float64(0.998), np.float64(0.984), np.float64(0.988)]\n"
     ]
    },
    {
     "name": "stderr",
     "output_type": "stream",
     "text": [
      " 76%|███████████████████████████████████████████████████████████████████████████████████████▍                           | 190/250 [00:26<00:05, 10.98it/s]"
     ]
    },
    {
     "name": "stdout",
     "output_type": "stream",
     "text": [
      "--- Training --- [threshold, AUC] =  [np.float64(0.651), np.float64(0.998)]\n",
      "--- Iteration 190: Training loss --- [Data, Label, Total] = [52949.691399.3, 91.609891.3, 264840.066886.3]\n",
      "!!! pred_type filter\n"
     ]
    },
    {
     "name": "stderr",
     "output_type": "stream",
     "text": [
      " 77%|████████████████████████████████████████████████████████████████████████████████████████▊                          | 193/250 [00:27<00:08,  6.43it/s]"
     ]
    },
    {
     "name": "stdout",
     "output_type": "stream",
     "text": [
      "--- Validation --- [threshold, AUC, Accuracy, F score] =  [np.float64(0.651), np.float64(0.998), np.float64(0.986), np.float64(0.989)]\n"
     ]
    },
    {
     "name": "stderr",
     "output_type": "stream",
     "text": [
      " 80%|████████████████████████████████████████████████████████████████████████████████████████████                       | 200/250 [00:27<00:04, 10.22it/s]"
     ]
    },
    {
     "name": "stdout",
     "output_type": "stream",
     "text": [
      "--- Training --- [threshold, AUC] =  [np.float64(0.656), np.float64(0.998)]\n",
      "--- Iteration 200: Training loss --- [Data, Label, Total] = [52910.737239.3, 91.675477.3, 264645.361670.3]\n",
      "!!! pred_type filter\n"
     ]
    },
    {
     "name": "stderr",
     "output_type": "stream",
     "text": [
      " 82%|██████████████████████████████████████████████████████████████████████████████████████████████▎                    | 205/250 [00:29<00:06,  6.45it/s]"
     ]
    },
    {
     "name": "stdout",
     "output_type": "stream",
     "text": [
      "--- Validation --- [threshold, AUC, Accuracy, F score] =  [np.float64(0.656), np.float64(0.998), np.float64(0.986), np.float64(0.989)]\n"
     ]
    },
    {
     "name": "stderr",
     "output_type": "stream",
     "text": [
      " 83%|███████████████████████████████████████████████████████████████████████████████████████████████▋                   | 208/250 [00:29<00:04,  8.42it/s]"
     ]
    },
    {
     "name": "stdout",
     "output_type": "stream",
     "text": [
      "--- Training --- [threshold, AUC] =  [np.float64(0.677), np.float64(0.998)]\n",
      "--- Iteration 210: Training loss --- [Data, Label, Total] = [52876.159223.3, 91.459570.3, 264472.255684.3]\n",
      "!!! pred_type filter\n"
     ]
    },
    {
     "name": "stderr",
     "output_type": "stream",
     "text": [
      " 86%|██████████████████████████████████████████████████████████████████████████████████████████████████▍                | 214/250 [00:30<00:04,  7.41it/s]"
     ]
    },
    {
     "name": "stdout",
     "output_type": "stream",
     "text": [
      "--- Validation --- [threshold, AUC, Accuracy, F score] =  [np.float64(0.677), np.float64(0.998), np.float64(0.985), np.float64(0.989)]\n"
     ]
    },
    {
     "name": "stderr",
     "output_type": "stream",
     "text": [
      " 88%|█████████████████████████████████████████████████████████████████████████████████████████████████████▏             | 220/250 [00:30<00:02, 11.94it/s]"
     ]
    },
    {
     "name": "stdout",
     "output_type": "stream",
     "text": [
      "--- Training --- [threshold, AUC] =  [np.float64(0.68), np.float64(0.998)]\n",
      "--- Iteration 220: Training loss --- [Data, Label, Total] = [52845.417620.3, 91.392024.3, 264318.480125.3]\n",
      "!!! pred_type filter\n"
     ]
    },
    {
     "name": "stderr",
     "output_type": "stream",
     "text": [
      " 90%|███████████████████████████████████████████████████████████████████████████████████████████████████████▉           | 226/250 [00:31<00:02,  8.76it/s]"
     ]
    },
    {
     "name": "stdout",
     "output_type": "stream",
     "text": [
      "--- Validation --- [threshold, AUC, Accuracy, F score] =  [np.float64(0.68), np.float64(0.998), np.float64(0.984), np.float64(0.988)]\n"
     ]
    },
    {
     "name": "stderr",
     "output_type": "stream",
     "text": [
      " 92%|█████████████████████████████████████████████████████████████████████████████████████████████████████████▎         | 229/250 [00:31<00:01, 11.10it/s]"
     ]
    },
    {
     "name": "stdout",
     "output_type": "stream",
     "text": [
      "--- Training --- [threshold, AUC] =  [np.float64(0.681), np.float64(0.998)]\n",
      "--- Iteration 230: Training loss --- [Data, Label, Total] = [52817.928498.3, 91.217381.3, 264180.859869.3]\n",
      "!!! pred_type filter\n"
     ]
    },
    {
     "name": "stderr",
     "output_type": "stream",
     "text": [
      " 94%|████████████████████████████████████████████████████████████████████████████████████████████████████████████▌      | 236/250 [00:32<00:01,  8.84it/s]"
     ]
    },
    {
     "name": "stdout",
     "output_type": "stream",
     "text": [
      "--- Validation --- [threshold, AUC, Accuracy, F score] =  [np.float64(0.681), np.float64(0.998), np.float64(0.984), np.float64(0.988)]\n"
     ]
    },
    {
     "name": "stderr",
     "output_type": "stream",
     "text": [
      " 96%|██████████████████████████████████████████████████████████████████████████████████████████████████████████████▍    | 240/250 [00:32<00:00, 11.67it/s]"
     ]
    },
    {
     "name": "stdout",
     "output_type": "stream",
     "text": [
      "--- Training --- [threshold, AUC] =  [np.float64(0.675), np.float64(0.998)]\n",
      "--- Iteration 240: Training loss --- [Data, Label, Total] = [52793.342555.3, 90.964540.3, 264057.677315.3]\n",
      "!!! pred_type filter\n"
     ]
    },
    {
     "name": "stderr",
     "output_type": "stream",
     "text": [
      " 98%|█████████████████████████████████████████████████████████████████████████████████████████████████████████████████▏ | 246/250 [00:33<00:00,  8.90it/s]"
     ]
    },
    {
     "name": "stdout",
     "output_type": "stream",
     "text": [
      "--- Validation --- [threshold, AUC, Accuracy, F score] =  [np.float64(0.675), np.float64(0.998), np.float64(0.985), np.float64(0.989)]\n"
     ]
    },
    {
     "name": "stderr",
     "output_type": "stream",
     "text": [
      "100%|███████████████████████████████████████████████████████████████████████████████████████████████████████████████████| 250/250 [00:33<00:00,  7.37it/s]\n"
     ]
    },
    {
     "name": "stdout",
     "output_type": "stream",
     "text": [
      "!!! pred_type filter\n",
      "num of subgraphs induced on k-paths: 500\n",
      "num of subgraphs induced on k-paths: 500\n",
      "X_list: (676, 1000)\n",
      "2\n",
      "(1, 500)\n",
      "(1, 500)\n",
      "label_vec: (1, 1000)\n",
      "num of subgraphs induced on k-paths: 500\n",
      "num of subgraphs induced on k-paths: 500\n",
      "X_list: (676, 1000)\n",
      "2\n",
      "(1, 500)\n",
      "(1, 500)\n",
      "label_vec: (1, 1000)\n",
      "27\n",
      "num of subgraphs induced on k-paths: 500\n",
      "num of subgraphs induced on k-paths: 500\n",
      "X_list: (729, 1000)\n",
      "2\n",
      "(1, 500)\n",
      "(1, 500)\n",
      "label_vec: (1, 1000)\n",
      "num of subgraphs induced on k-paths: 500\n",
      "num of subgraphs induced on k-paths: 1097\n",
      "X_list: (729, 1597)\n",
      "2\n",
      "(1, 500)\n",
      "(1, 1097)\n",
      "label_vec: (1, 1597)\n",
      "initial loading beta [[-0.72870171  0.59262197 -0.12048589  0.04932732 -0.27396707 -0.43909393\n",
      "  -0.59351434 -0.7094733  -0.43016217 -0.76726224 -0.8402494   0.67742062\n",
      "   0.82396155 -0.51602951  0.64604601 -0.12375465  0.14401228]]\n"
     ]
    },
    {
     "name": "stderr",
     "output_type": "stream",
     "text": [
      "  0%|                                                                                                                             | 0/250 [00:00<?, ?it/s]"
     ]
    },
    {
     "name": "stdout",
     "output_type": "stream",
     "text": [
      "--- Training --- [threshold, AUC] =  [np.float64(0.773), np.float64(0.997)]\n",
      "--- Iteration 0: Training loss --- [Data, Label, Total] = [97424.115498.3, 119.210412.3, 487239.787900.3]\n"
     ]
    },
    {
     "name": "stderr",
     "output_type": "stream",
     "text": [
      "  3%|███▋                                                                                                                 | 8/250 [00:00<00:10, 24.16it/s]"
     ]
    },
    {
     "name": "stdout",
     "output_type": "stream",
     "text": [
      "--- Training --- [threshold, AUC] =  [np.float64(0.702), np.float64(0.997)]\n",
      "--- Iteration 10: Training loss --- [Data, Label, Total] = [65405.071114.3, 102.633622.3, 327127.989190.3]\n",
      "!!! pred_type filter\n"
     ]
    },
    {
     "name": "stderr",
     "output_type": "stream",
     "text": [
      "  6%|██████▍                                                                                                             | 14/250 [00:01<00:31,  7.49it/s]"
     ]
    },
    {
     "name": "stdout",
     "output_type": "stream",
     "text": [
      "--- Validation --- [threshold, AUC, Accuracy, F score] =  [np.float64(0.702), np.float64(0.997), np.float64(0.977), np.float64(0.983)]\n"
     ]
    },
    {
     "name": "stderr",
     "output_type": "stream",
     "text": [
      "  8%|█████████▎                                                                                                          | 20/250 [00:01<00:18, 12.72it/s]"
     ]
    },
    {
     "name": "stdout",
     "output_type": "stream",
     "text": [
      "--- Training --- [threshold, AUC] =  [np.float64(0.783), np.float64(0.997)]\n",
      "--- Iteration 20: Training loss --- [Data, Label, Total] = [62446.274257.3, 94.185541.3, 312325.556828.3]\n",
      "!!! pred_type filter\n"
     ]
    },
    {
     "name": "stderr",
     "output_type": "stream",
     "text": [
      "  9%|██████████▋                                                                                                         | 23/250 [00:03<00:41,  5.51it/s]"
     ]
    },
    {
     "name": "stdout",
     "output_type": "stream",
     "text": [
      "--- Validation --- [threshold, AUC, Accuracy, F score] =  [np.float64(0.783), np.float64(0.997), np.float64(0.977), np.float64(0.983)]\n"
     ]
    },
    {
     "name": "stderr",
     "output_type": "stream",
     "text": [
      " 12%|█████████████▍                                                                                                      | 29/250 [00:03<00:24,  9.18it/s]"
     ]
    },
    {
     "name": "stdout",
     "output_type": "stream",
     "text": [
      "--- Training --- [threshold, AUC] =  [np.float64(0.739), np.float64(0.998)]\n",
      "--- Iteration 30: Training loss --- [Data, Label, Total] = [60780.637372.3, 92.113512.3, 303995.300372.3]\n",
      "!!! pred_type filter\n"
     ]
    },
    {
     "name": "stderr",
     "output_type": "stream",
     "text": [
      " 14%|████████████████▏                                                                                                   | 35/250 [00:04<00:28,  7.52it/s]"
     ]
    },
    {
     "name": "stdout",
     "output_type": "stream",
     "text": [
      "--- Validation --- [threshold, AUC, Accuracy, F score] =  [np.float64(0.739), np.float64(0.998), np.float64(0.98), np.float64(0.985)]\n"
     ]
    },
    {
     "name": "stderr",
     "output_type": "stream",
     "text": [
      " 15%|█████████████████▋                                                                                                  | 38/250 [00:04<00:21,  9.65it/s]"
     ]
    },
    {
     "name": "stdout",
     "output_type": "stream",
     "text": [
      "--- Training --- [threshold, AUC] =  [np.float64(0.774), np.float64(0.998)]\n",
      "--- Iteration 40: Training loss --- [Data, Label, Total] = [59851.043075.3, 91.358976.3, 299346.574349.3]\n",
      "!!! pred_type filter\n"
     ]
    },
    {
     "name": "stderr",
     "output_type": "stream",
     "text": [
      " 18%|████████████████████▍                                                                                               | 44/250 [00:05<00:26,  7.82it/s]"
     ]
    },
    {
     "name": "stdout",
     "output_type": "stream",
     "text": [
      "--- Validation --- [threshold, AUC, Accuracy, F score] =  [np.float64(0.774), np.float64(0.998), np.float64(0.979), np.float64(0.984)]\n"
     ]
    },
    {
     "name": "stderr",
     "output_type": "stream",
     "text": [
      " 20%|███████████████████████▏                                                                                            | 50/250 [00:05<00:16, 12.33it/s]"
     ]
    },
    {
     "name": "stdout",
     "output_type": "stream",
     "text": [
      "--- Training --- [threshold, AUC] =  [np.float64(0.764), np.float64(0.998)]\n",
      "--- Iteration 50: Training loss --- [Data, Label, Total] = [59254.933501.3, 90.823587.3, 296365.491091.3]\n",
      "!!! pred_type filter\n"
     ]
    },
    {
     "name": "stderr",
     "output_type": "stream",
     "text": [
      " 22%|█████████████████████████▉                                                                                          | 56/250 [00:06<00:23,  8.38it/s]"
     ]
    },
    {
     "name": "stdout",
     "output_type": "stream",
     "text": [
      "--- Validation --- [threshold, AUC, Accuracy, F score] =  [np.float64(0.764), np.float64(0.998), np.float64(0.979), np.float64(0.985)]\n"
     ]
    },
    {
     "name": "stderr",
     "output_type": "stream",
     "text": [
      " 24%|███████████████████████████▍                                                                                        | 59/250 [00:06<00:17, 10.63it/s]"
     ]
    },
    {
     "name": "stdout",
     "output_type": "stream",
     "text": [
      "--- Training --- [threshold, AUC] =  [np.float64(0.746), np.float64(0.998)]\n",
      "--- Iteration 60: Training loss --- [Data, Label, Total] = [58817.964963.3, 90.721732.3, 294180.546547.3]\n",
      "!!! pred_type filter\n"
     ]
    },
    {
     "name": "stderr",
     "output_type": "stream",
     "text": [
      " 26%|██████████████████████████████▏                                                                                     | 65/250 [00:08<00:24,  7.45it/s]"
     ]
    },
    {
     "name": "stdout",
     "output_type": "stream",
     "text": [
      "--- Validation --- [threshold, AUC, Accuracy, F score] =  [np.float64(0.746), np.float64(0.998), np.float64(0.98), np.float64(0.985)]\n"
     ]
    },
    {
     "name": "stderr",
     "output_type": "stream",
     "text": [
      " 27%|███████████████████████████████▌                                                                                    | 68/250 [00:08<00:19,  9.39it/s]"
     ]
    },
    {
     "name": "stdout",
     "output_type": "stream",
     "text": [
      "--- Training --- [threshold, AUC] =  [np.float64(0.759), np.float64(0.998)]\n",
      "--- Iteration 70: Training loss --- [Data, Label, Total] = [58483.124871.3, 90.767580.3, 292506.391936.3]\n",
      "!!! pred_type filter\n"
     ]
    },
    {
     "name": "stderr",
     "output_type": "stream",
     "text": [
      " 30%|██████████████████████████████████▎                                                                                 | 74/250 [00:09<00:24,  7.26it/s]"
     ]
    },
    {
     "name": "stdout",
     "output_type": "stream",
     "text": [
      "--- Validation --- [threshold, AUC, Accuracy, F score] =  [np.float64(0.759), np.float64(0.998), np.float64(0.98), np.float64(0.985)]\n"
     ]
    },
    {
     "name": "stderr",
     "output_type": "stream",
     "text": [
      " 32%|█████████████████████████████████████                                                                               | 80/250 [00:09<00:15, 11.19it/s]"
     ]
    },
    {
     "name": "stdout",
     "output_type": "stream",
     "text": [
      "--- Training --- [threshold, AUC] =  [np.float64(0.745), np.float64(0.998)]\n",
      "--- Iteration 80: Training loss --- [Data, Label, Total] = [58225.714703.3, 90.708454.3, 291219.281968.3]\n",
      "!!! pred_type filter\n"
     ]
    },
    {
     "name": "stderr",
     "output_type": "stream",
     "text": [
      " 33%|██████████████████████████████████████▌                                                                             | 83/250 [00:10<00:28,  5.79it/s]"
     ]
    },
    {
     "name": "stdout",
     "output_type": "stream",
     "text": [
      "--- Validation --- [threshold, AUC, Accuracy, F score] =  [np.float64(0.745), np.float64(0.998), np.float64(0.981), np.float64(0.986)]\n"
     ]
    },
    {
     "name": "stderr",
     "output_type": "stream",
     "text": [
      " 36%|█████████████████████████████████████████▎                                                                          | 89/250 [00:11<00:16,  9.55it/s]"
     ]
    },
    {
     "name": "stdout",
     "output_type": "stream",
     "text": [
      "--- Training --- [threshold, AUC] =  [np.float64(0.763), np.float64(0.998)]\n",
      "--- Iteration 90: Training loss --- [Data, Label, Total] = [58029.531190.3, 90.737223.3, 290238.393174.3]\n",
      "!!! pred_type filter\n"
     ]
    },
    {
     "name": "stderr",
     "output_type": "stream",
     "text": [
      " 38%|████████████████████████████████████████████                                                                        | 95/250 [00:12<00:20,  7.62it/s]"
     ]
    },
    {
     "name": "stdout",
     "output_type": "stream",
     "text": [
      "--- Validation --- [threshold, AUC, Accuracy, F score] =  [np.float64(0.763), np.float64(0.998), np.float64(0.981), np.float64(0.986)]\n"
     ]
    },
    {
     "name": "stderr",
     "output_type": "stream",
     "text": [
      " 39%|█████████████████████████████████████████████▍                                                                      | 98/250 [00:12<00:15,  9.69it/s]"
     ]
    },
    {
     "name": "stdout",
     "output_type": "stream",
     "text": [
      "--- Training --- [threshold, AUC] =  [np.float64(0.753), np.float64(0.998)]\n",
      "--- Iteration 100: Training loss --- [Data, Label, Total] = [57878.907083.3, 90.886015.3, 289485.421432.3]\n",
      "!!! pred_type filter\n"
     ]
    },
    {
     "name": "stderr",
     "output_type": "stream",
     "text": [
      " 42%|███████████████████████████████████████████████▊                                                                   | 104/250 [00:13<00:18,  7.97it/s]"
     ]
    },
    {
     "name": "stdout",
     "output_type": "stream",
     "text": [
      "--- Validation --- [threshold, AUC, Accuracy, F score] =  [np.float64(0.753), np.float64(0.998), np.float64(0.981), np.float64(0.986)]\n"
     ]
    },
    {
     "name": "stderr",
     "output_type": "stream",
     "text": [
      " 44%|██████████████████████████████████████████████████▌                                                                | 110/250 [00:13<00:11, 12.48it/s]"
     ]
    },
    {
     "name": "stdout",
     "output_type": "stream",
     "text": [
      "--- Training --- [threshold, AUC] =  [np.float64(0.742), np.float64(0.998)]\n",
      "--- Iteration 110: Training loss --- [Data, Label, Total] = [57763.050524.3, 91.103595.3, 288906.356215.3]\n",
      "!!! pred_type filter\n"
     ]
    },
    {
     "name": "stderr",
     "output_type": "stream",
     "text": [
      " 45%|███████████████████████████████████████████████████▉                                                               | 113/250 [00:14<00:20,  6.54it/s]"
     ]
    },
    {
     "name": "stdout",
     "output_type": "stream",
     "text": [
      "--- Validation --- [threshold, AUC, Accuracy, F score] =  [np.float64(0.742), np.float64(0.998), np.float64(0.981), np.float64(0.986)]\n"
     ]
    },
    {
     "name": "stderr",
     "output_type": "stream",
     "text": [
      " 48%|██████████████████████████████████████████████████████▋                                                            | 119/250 [00:14<00:12, 10.29it/s]"
     ]
    },
    {
     "name": "stdout",
     "output_type": "stream",
     "text": [
      "--- Training --- [threshold, AUC] =  [np.float64(0.735), np.float64(0.998)]\n",
      "--- Iteration 120: Training loss --- [Data, Label, Total] = [57672.215931.3, 91.058149.3, 288452.137806.3]\n",
      "!!! pred_type filter\n"
     ]
    },
    {
     "name": "stderr",
     "output_type": "stream",
     "text": [
      " 50%|█████████████████████████████████████████████████████████▌                                                         | 125/250 [00:15<00:15,  7.97it/s]"
     ]
    },
    {
     "name": "stdout",
     "output_type": "stream",
     "text": [
      "--- Validation --- [threshold, AUC, Accuracy, F score] =  [np.float64(0.735), np.float64(0.998), np.float64(0.981), np.float64(0.986)]\n"
     ]
    },
    {
     "name": "stderr",
     "output_type": "stream",
     "text": [
      " 51%|██████████████████████████████████████████████████████████▉                                                        | 128/250 [00:15<00:12,  9.96it/s]"
     ]
    },
    {
     "name": "stdout",
     "output_type": "stream",
     "text": [
      "--- Training --- [threshold, AUC] =  [np.float64(0.683), np.float64(0.998)]\n",
      "--- Iteration 130: Training loss --- [Data, Label, Total] = [57598.501696.3, 91.273929.3, 288083.782407.3]\n",
      "!!! pred_type filter\n"
     ]
    },
    {
     "name": "stderr",
     "output_type": "stream",
     "text": [
      " 54%|█████████████████████████████████████████████████████████████▋                                                     | 134/250 [00:17<00:15,  7.67it/s]"
     ]
    },
    {
     "name": "stdout",
     "output_type": "stream",
     "text": [
      "--- Validation --- [threshold, AUC, Accuracy, F score] =  [np.float64(0.683), np.float64(0.998), np.float64(0.982), np.float64(0.987)]\n"
     ]
    },
    {
     "name": "stderr",
     "output_type": "stream",
     "text": [
      " 56%|███████████████████████████████████████████████████████████████▉                                                   | 139/250 [00:17<00:10, 10.29it/s]"
     ]
    },
    {
     "name": "stdout",
     "output_type": "stream",
     "text": [
      "--- Training --- [threshold, AUC] =  [np.float64(0.682), np.float64(0.998)]\n",
      "--- Iteration 140: Training loss --- [Data, Label, Total] = [57536.457619.3, 91.290039.3, 287773.578135.3]\n",
      "!!! pred_type filter\n"
     ]
    },
    {
     "name": "stderr",
     "output_type": "stream",
     "text": [
      " 58%|██████████████████████████████████████████████████████████████████▏                                                | 144/250 [00:18<00:13,  7.62it/s]"
     ]
    },
    {
     "name": "stdout",
     "output_type": "stream",
     "text": [
      "--- Validation --- [threshold, AUC, Accuracy, F score] =  [np.float64(0.682), np.float64(0.998), np.float64(0.982), np.float64(0.987)]\n"
     ]
    },
    {
     "name": "stderr",
     "output_type": "stream",
     "text": [
      " 60%|█████████████████████████████████████████████████████████████████████                                              | 150/250 [00:18<00:08, 12.23it/s]"
     ]
    },
    {
     "name": "stdout",
     "output_type": "stream",
     "text": [
      "--- Training --- [threshold, AUC] =  [np.float64(0.68), np.float64(0.998)]\n",
      "--- Iteration 150: Training loss --- [Data, Label, Total] = [57483.672438.3, 91.385205.3, 287509.747393.3]\n",
      "!!! pred_type filter\n"
     ]
    },
    {
     "name": "stderr",
     "output_type": "stream",
     "text": [
      " 62%|███████████████████████████████████████████████████████████████████████▊                                           | 156/250 [00:19<00:11,  8.54it/s]"
     ]
    },
    {
     "name": "stdout",
     "output_type": "stream",
     "text": [
      "--- Validation --- [threshold, AUC, Accuracy, F score] =  [np.float64(0.68), np.float64(0.998), np.float64(0.982), np.float64(0.987)]\n"
     ]
    },
    {
     "name": "stderr",
     "output_type": "stream",
     "text": [
      " 64%|█████████████████████████████████████████████████████████████████████████▏                                         | 159/250 [00:19<00:08, 10.79it/s]"
     ]
    },
    {
     "name": "stdout",
     "output_type": "stream",
     "text": [
      "--- Training --- [threshold, AUC] =  [np.float64(0.789), np.float64(0.998)]\n",
      "--- Iteration 160: Training loss --- [Data, Label, Total] = [57439.006102.3, 91.489793.3, 287286.520303.3]\n",
      "!!! pred_type filter\n"
     ]
    },
    {
     "name": "stderr",
     "output_type": "stream",
     "text": [
      " 66%|███████████████████████████████████████████████████████████████████████████▉                                       | 165/250 [00:20<00:09,  8.58it/s]"
     ]
    },
    {
     "name": "stdout",
     "output_type": "stream",
     "text": [
      "--- Validation --- [threshold, AUC, Accuracy, F score] =  [np.float64(0.789), np.float64(0.998), np.float64(0.979), np.float64(0.985)]\n"
     ]
    },
    {
     "name": "stderr",
     "output_type": "stream",
     "text": [
      " 67%|█████████████████████████████████████████████████████████████████████████████▎                                     | 168/250 [00:20<00:07, 10.81it/s]"
     ]
    },
    {
     "name": "stdout",
     "output_type": "stream",
     "text": [
      "--- Training --- [threshold, AUC] =  [np.float64(0.668), np.float64(0.998)]\n",
      "--- Iteration 170: Training loss --- [Data, Label, Total] = [57401.383132.3, 91.428215.3, 287098.343875.3]\n",
      "!!! pred_type filter\n"
     ]
    },
    {
     "name": "stderr",
     "output_type": "stream",
     "text": [
      " 70%|████████████████████████████████████████████████████████████████████████████████                                   | 174/250 [00:21<00:09,  7.92it/s]"
     ]
    },
    {
     "name": "stdout",
     "output_type": "stream",
     "text": [
      "--- Validation --- [threshold, AUC, Accuracy, F score] =  [np.float64(0.668), np.float64(0.998), np.float64(0.984), np.float64(0.988)]\n"
     ]
    },
    {
     "name": "stderr",
     "output_type": "stream",
     "text": [
      " 72%|██████████████████████████████████████████████████████████████████████████████████▊                                | 180/250 [00:22<00:05, 12.20it/s]"
     ]
    },
    {
     "name": "stdout",
     "output_type": "stream",
     "text": [
      "--- Training --- [threshold, AUC] =  [np.float64(0.795), np.float64(0.998)]\n",
      "--- Iteration 180: Training loss --- [Data, Label, Total] = [57370.299388.3, 91.300349.3, 286942.797290.3]\n",
      "!!! pred_type filter\n"
     ]
    },
    {
     "name": "stderr",
     "output_type": "stream",
     "text": [
      " 74%|█████████████████████████████████████████████████████████████████████████████████████▌                             | 186/250 [00:23<00:07,  8.58it/s]"
     ]
    },
    {
     "name": "stdout",
     "output_type": "stream",
     "text": [
      "--- Validation --- [threshold, AUC, Accuracy, F score] =  [np.float64(0.795), np.float64(0.998), np.float64(0.979), np.float64(0.985)]\n"
     ]
    },
    {
     "name": "stderr",
     "output_type": "stream",
     "text": [
      " 76%|██████████████████████████████████████████████████████████████████████████████████████▉                            | 189/250 [00:23<00:05, 10.57it/s]"
     ]
    },
    {
     "name": "stdout",
     "output_type": "stream",
     "text": [
      "--- Training --- [threshold, AUC] =  [np.float64(0.671), np.float64(0.998)]\n",
      "--- Iteration 190: Training loss --- [Data, Label, Total] = [57344.970551.3, 91.477247.3, 286816.330003.3]\n",
      "!!! pred_type filter\n"
     ]
    },
    {
     "name": "stderr",
     "output_type": "stream",
     "text": [
      " 78%|█████████████████████████████████████████████████████████████████████████████████████████▋                         | 195/250 [00:24<00:07,  7.46it/s]"
     ]
    },
    {
     "name": "stdout",
     "output_type": "stream",
     "text": [
      "--- Validation --- [threshold, AUC, Accuracy, F score] =  [np.float64(0.671), np.float64(0.998), np.float64(0.983), np.float64(0.988)]\n"
     ]
    },
    {
     "name": "stderr",
     "output_type": "stream",
     "text": [
      " 79%|███████████████████████████████████████████████████████████████████████████████████████████                        | 198/250 [00:24<00:05,  9.54it/s]"
     ]
    },
    {
     "name": "stdout",
     "output_type": "stream",
     "text": [
      "--- Training --- [threshold, AUC] =  [np.float64(0.689), np.float64(0.998)]\n",
      "--- Iteration 200: Training loss --- [Data, Label, Total] = [57324.226209.3, 91.581729.3, 286712.712773.3]\n",
      "!!! pred_type filter\n"
     ]
    },
    {
     "name": "stderr",
     "output_type": "stream",
     "text": [
      " 82%|█████████████████████████████████████████████████████████████████████████████████████████████▊                     | 204/250 [00:25<00:05,  8.20it/s]"
     ]
    },
    {
     "name": "stdout",
     "output_type": "stream",
     "text": [
      "--- Validation --- [threshold, AUC, Accuracy, F score] =  [np.float64(0.689), np.float64(0.998), np.float64(0.983), np.float64(0.988)]\n"
     ]
    },
    {
     "name": "stderr",
     "output_type": "stream",
     "text": [
      " 84%|████████████████████████████████████████████████████████████████████████████████████████████████▌                  | 210/250 [00:25<00:03, 12.85it/s]"
     ]
    },
    {
     "name": "stdout",
     "output_type": "stream",
     "text": [
      "--- Training --- [threshold, AUC] =  [np.float64(0.69), np.float64(0.998)]\n",
      "--- Iteration 210: Training loss --- [Data, Label, Total] = [57307.032803.3, 91.764018.3, 286626.928032.3]\n",
      "!!! pred_type filter\n"
     ]
    },
    {
     "name": "stderr",
     "output_type": "stream",
     "text": [
      " 85%|█████████████████████████████████████████████████████████████████████████████████████████████████▉                 | 213/250 [00:26<00:05,  6.28it/s]"
     ]
    },
    {
     "name": "stdout",
     "output_type": "stream",
     "text": [
      "--- Validation --- [threshold, AUC, Accuracy, F score] =  [np.float64(0.69), np.float64(0.998), np.float64(0.982), np.float64(0.987)]\n"
     ]
    },
    {
     "name": "stderr",
     "output_type": "stream",
     "text": [
      " 88%|████████████████████████████████████████████████████████████████████████████████████████████████████▋              | 219/250 [00:27<00:03, 10.21it/s]"
     ]
    },
    {
     "name": "stdout",
     "output_type": "stream",
     "text": [
      "--- Training --- [threshold, AUC] =  [np.float64(0.691), np.float64(0.998)]\n",
      "--- Iteration 220: Training loss --- [Data, Label, Total] = [57292.363510.3, 91.639094.3, 286553.456645.3]\n",
      "!!! pred_type filter\n"
     ]
    },
    {
     "name": "stderr",
     "output_type": "stream",
     "text": [
      " 90%|███████████████████████████████████████████████████████████████████████████████████████████████████████▌           | 225/250 [00:28<00:02,  8.43it/s]"
     ]
    },
    {
     "name": "stdout",
     "output_type": "stream",
     "text": [
      "--- Validation --- [threshold, AUC, Accuracy, F score] =  [np.float64(0.691), np.float64(0.998), np.float64(0.982), np.float64(0.987)]\n"
     ]
    },
    {
     "name": "stderr",
     "output_type": "stream",
     "text": [
      " 91%|████████████████████████████████████████████████████████████████████████████████████████████████████████▉          | 228/250 [00:28<00:02, 10.66it/s]"
     ]
    },
    {
     "name": "stdout",
     "output_type": "stream",
     "text": [
      "--- Training --- [threshold, AUC] =  [np.float64(0.688), np.float64(0.998)]\n",
      "--- Iteration 230: Training loss --- [Data, Label, Total] = [57279.906453.3, 91.504167.3, 286491.036434.3]\n",
      "!!! pred_type filter\n"
     ]
    },
    {
     "name": "stderr",
     "output_type": "stream",
     "text": [
      " 94%|███████████████████████████████████████████████████████████████████████████████████████████████████████████▋       | 234/250 [00:29<00:01,  8.37it/s]"
     ]
    },
    {
     "name": "stdout",
     "output_type": "stream",
     "text": [
      "--- Validation --- [threshold, AUC, Accuracy, F score] =  [np.float64(0.688), np.float64(0.998), np.float64(0.982), np.float64(0.987)]\n"
     ]
    },
    {
     "name": "stderr",
     "output_type": "stream",
     "text": [
      " 96%|██████████████████████████████████████████████████████████████████████████████████████████████████████████████▍    | 240/250 [00:29<00:00, 12.67it/s]"
     ]
    },
    {
     "name": "stdout",
     "output_type": "stream",
     "text": [
      "--- Training --- [threshold, AUC] =  [np.float64(0.696), np.float64(0.998)]\n",
      "--- Iteration 240: Training loss --- [Data, Label, Total] = [57269.054021.3, 91.312705.3, 286436.582810.3]\n",
      "!!! pred_type filter\n"
     ]
    },
    {
     "name": "stderr",
     "output_type": "stream",
     "text": [
      " 98%|████████████████████████████████████████████████████████████████████████████████████████████████████████████████▋  | 245/250 [00:30<00:00,  6.38it/s]"
     ]
    },
    {
     "name": "stdout",
     "output_type": "stream",
     "text": [
      "--- Validation --- [threshold, AUC, Accuracy, F score] =  [np.float64(0.696), np.float64(0.998), np.float64(0.982), np.float64(0.987)]\n"
     ]
    },
    {
     "name": "stderr",
     "output_type": "stream",
     "text": [
      "100%|███████████████████████████████████████████████████████████████████████████████████████████████████████████████████| 250/250 [00:31<00:00,  8.01it/s]\n"
     ]
    },
    {
     "name": "stdout",
     "output_type": "stream",
     "text": [
      "!!! pred_type filter\n",
      "num of subgraphs induced on k-paths: 500\n",
      "num of subgraphs induced on k-paths: 500\n",
      "X_list: (729, 1000)\n",
      "2\n",
      "(1, 500)\n",
      "(1, 500)\n",
      "label_vec: (1, 1000)\n",
      "num of subgraphs induced on k-paths: 500\n",
      "num of subgraphs induced on k-paths: 500\n",
      "X_list: (729, 1000)\n",
      "2\n",
      "(1, 500)\n",
      "(1, 500)\n",
      "label_vec: (1, 1000)\n",
      "28\n",
      "num of subgraphs induced on k-paths: 500\n",
      "num of subgraphs induced on k-paths: 500\n",
      "X_list: (784, 1000)\n",
      "2\n",
      "(1, 500)\n",
      "(1, 500)\n",
      "label_vec: (1, 1000)\n",
      "num of subgraphs induced on k-paths: 500\n",
      "num of subgraphs induced on k-paths: 1130\n",
      "X_list: (784, 1630)\n",
      "2\n",
      "(1, 500)\n",
      "(1, 1130)\n",
      "label_vec: (1, 1630)\n",
      "initial loading beta [[ 0.56244199 -0.75309575  0.79253182 -0.13930903  0.48890575  0.72088621\n",
      "  -0.00173731 -0.98143191  0.01038898  0.28293378  0.30456116  0.36158021\n",
      "  -0.04904732  0.07382842 -0.28848592 -0.25481014 -0.46705642]]\n"
     ]
    },
    {
     "name": "stderr",
     "output_type": "stream",
     "text": [
      "  2%|██▎                                                                                                                  | 5/250 [00:00<00:11, 21.96it/s]"
     ]
    },
    {
     "name": "stdout",
     "output_type": "stream",
     "text": [
      "--- Training --- [threshold, AUC] =  [np.float64(0.679), np.float64(0.998)]\n",
      "--- Iteration 0: Training loss --- [Data, Label, Total] = [107897.467976.3, 97.400001.3, 539584.739880.3]\n"
     ]
    },
    {
     "name": "stderr",
     "output_type": "stream",
     "text": [
      "  3%|███▋                                                                                                                 | 8/250 [00:00<00:10, 22.88it/s]"
     ]
    },
    {
     "name": "stdout",
     "output_type": "stream",
     "text": [
      "--- Training --- [threshold, AUC] =  [np.float64(0.731), np.float64(0.998)]\n",
      "--- Iteration 10: Training loss --- [Data, Label, Total] = [71795.955896.3, 83.763431.3, 359063.542912.3]\n",
      "!!! pred_type filter\n"
     ]
    },
    {
     "name": "stderr",
     "output_type": "stream",
     "text": [
      "  6%|██████▍                                                                                                             | 14/250 [00:01<00:30,  7.65it/s]"
     ]
    },
    {
     "name": "stdout",
     "output_type": "stream",
     "text": [
      "--- Validation --- [threshold, AUC, Accuracy, F score] =  [np.float64(0.731), np.float64(0.998), np.float64(0.985), np.float64(0.989)]\n"
     ]
    },
    {
     "name": "stderr",
     "output_type": "stream",
     "text": [
      "  8%|█████████▎                                                                                                          | 20/250 [00:01<00:18, 12.56it/s]"
     ]
    },
    {
     "name": "stdout",
     "output_type": "stream",
     "text": [
      "--- Training --- [threshold, AUC] =  [np.float64(0.628), np.float64(0.998)]\n",
      "--- Iteration 20: Training loss --- [Data, Label, Total] = [68792.248218.3, 80.001954.3, 344041.243043.3]\n",
      "!!! pred_type filter\n"
     ]
    },
    {
     "name": "stderr",
     "output_type": "stream",
     "text": [
      "  8%|█████████▎                                                                                                          | 20/250 [00:02<00:32,  7.01it/s]"
     ]
    },
    {
     "name": "stdout",
     "output_type": "stream",
     "text": [
      "--- Validation --- [threshold, AUC, Accuracy, F score] =  [np.float64(0.628), np.float64(0.998), np.float64(0.99), np.float64(0.993)]\n",
      "!!! --- Validation (Stopped) --- [threshold, ACC] =  [np.float64(0.628), np.float64(0.99)]\n",
      "!!! pred_type filter\n"
     ]
    },
    {
     "name": "stderr",
     "output_type": "stream",
     "text": [
      "\n"
     ]
    },
    {
     "name": "stdout",
     "output_type": "stream",
     "text": [
      "num of subgraphs induced on k-paths: 500\n",
      "num of subgraphs induced on k-paths: 500\n",
      "X_list: (784, 1000)\n",
      "2\n",
      "(1, 500)\n",
      "(1, 500)\n",
      "label_vec: (1, 1000)\n",
      "num of subgraphs induced on k-paths: 500\n",
      "num of subgraphs induced on k-paths: 500\n",
      "X_list: (784, 1000)\n",
      "2\n",
      "(1, 500)\n",
      "(1, 500)\n",
      "label_vec: (1, 1000)\n",
      "29\n",
      "num of subgraphs induced on k-paths: 500\n",
      "num of subgraphs induced on k-paths: 500\n",
      "X_list: (841, 1000)\n",
      "2\n",
      "(1, 500)\n",
      "(1, 500)\n",
      "label_vec: (1, 1000)\n",
      "num of subgraphs induced on k-paths: 500\n",
      "num of subgraphs induced on k-paths: 1170\n",
      "X_list: (841, 1670)\n",
      "2\n",
      "(1, 500)\n",
      "(1, 1170)\n",
      "label_vec: (1, 1670)\n",
      "initial loading beta [[-0.33512328  0.99397466 -0.9451887  -0.94964399  0.63231599  0.91616056\n",
      "  -0.77819867  0.30301189  0.42362112  0.74703463  0.50632248 -0.7005495\n",
      "   0.72352892 -0.33554152  0.77000858  0.77970703 -0.76348045]]\n"
     ]
    },
    {
     "name": "stderr",
     "output_type": "stream",
     "text": [
      "  2%|█▊                                                                                                                   | 4/250 [00:00<00:13, 17.77it/s]"
     ]
    },
    {
     "name": "stdout",
     "output_type": "stream",
     "text": [
      "--- Training --- [threshold, AUC] =  [np.float64(0.622), np.float64(0.999)]\n",
      "--- Iteration 0: Training loss --- [Data, Label, Total] = [115400.589308.3, 88.070099.3, 577091.016638.3]\n"
     ]
    },
    {
     "name": "stderr",
     "output_type": "stream",
     "text": [
      "  4%|████▏                                                                                                                | 9/250 [00:00<00:12, 19.67it/s]"
     ]
    },
    {
     "name": "stdout",
     "output_type": "stream",
     "text": [
      "--- Training --- [threshold, AUC] =  [np.float64(0.793), np.float64(0.999)]\n",
      "--- Iteration 10: Training loss --- [Data, Label, Total] = [77729.836776.3, 75.199810.3, 388724.383692.3]\n",
      "!!! pred_type filter\n"
     ]
    },
    {
     "name": "stderr",
     "output_type": "stream",
     "text": [
      "  4%|█████                                                                                                               | 11/250 [00:01<01:02,  3.80it/s]"
     ]
    },
    {
     "name": "stdout",
     "output_type": "stream",
     "text": [
      "--- Validation --- [threshold, AUC, Accuracy, F score] =  [np.float64(0.793), np.float64(0.999), np.float64(0.982), np.float64(0.987)]\n"
     ]
    },
    {
     "name": "stderr",
     "output_type": "stream",
     "text": [
      "  8%|████████▊                                                                                                           | 19/250 [00:02<00:26,  8.61it/s]"
     ]
    },
    {
     "name": "stdout",
     "output_type": "stream",
     "text": [
      "--- Training --- [threshold, AUC] =  [np.float64(0.645), np.float64(0.999)]\n",
      "--- Iteration 20: Training loss --- [Data, Label, Total] = [74686.415533.3, 72.883928.3, 373504.961592.3]\n",
      "!!! pred_type filter\n"
     ]
    },
    {
     "name": "stderr",
     "output_type": "stream",
     "text": [
      " 10%|███████████▏                                                                                                        | 24/250 [00:03<00:37,  6.05it/s]"
     ]
    },
    {
     "name": "stdout",
     "output_type": "stream",
     "text": [
      "--- Validation --- [threshold, AUC, Accuracy, F score] =  [np.float64(0.645), np.float64(0.999), np.float64(0.988), np.float64(0.991)]\n"
     ]
    },
    {
     "name": "stderr",
     "output_type": "stream",
     "text": [
      " 12%|█████████████▉                                                                                                      | 30/250 [00:04<00:21, 10.35it/s]"
     ]
    },
    {
     "name": "stdout",
     "output_type": "stream",
     "text": [
      "--- Training --- [threshold, AUC] =  [np.float64(0.717), np.float64(0.999)]\n",
      "--- Iteration 30: Training loss --- [Data, Label, Total] = [72921.897158.3, 72.988004.3, 364682.473793.3]\n",
      "!!! pred_type filter\n"
     ]
    },
    {
     "name": "stderr",
     "output_type": "stream",
     "text": [
      " 14%|████████████████▏                                                                                                   | 35/250 [00:05<00:31,  6.84it/s]"
     ]
    },
    {
     "name": "stdout",
     "output_type": "stream",
     "text": [
      "--- Validation --- [threshold, AUC, Accuracy, F score] =  [np.float64(0.717), np.float64(0.999), np.float64(0.986), np.float64(0.99)]\n"
     ]
    },
    {
     "name": "stderr",
     "output_type": "stream",
     "text": [
      " 15%|█████████████████▋                                                                                                  | 38/250 [00:05<00:23,  8.94it/s]"
     ]
    },
    {
     "name": "stdout",
     "output_type": "stream",
     "text": [
      "--- Training --- [threshold, AUC] =  [np.float64(0.58), np.float64(0.999)]\n",
      "--- Iteration 40: Training loss --- [Data, Label, Total] = [71945.123810.3, 73.370013.3, 359798.989061.3]\n",
      "!!! pred_type filter\n"
     ]
    },
    {
     "name": "stderr",
     "output_type": "stream",
     "text": [
      " 18%|████████████████████▍                                                                                               | 44/250 [00:06<00:29,  6.89it/s]"
     ]
    },
    {
     "name": "stdout",
     "output_type": "stream",
     "text": [
      "--- Validation --- [threshold, AUC, Accuracy, F score] =  [np.float64(0.58), np.float64(0.999), np.float64(0.989), np.float64(0.992)]\n"
     ]
    },
    {
     "name": "stderr",
     "output_type": "stream",
     "text": [
      " 20%|██████████████████████▋                                                                                             | 49/250 [00:06<00:20,  9.84it/s]"
     ]
    },
    {
     "name": "stdout",
     "output_type": "stream",
     "text": [
      "--- Training --- [threshold, AUC] =  [np.float64(0.582), np.float64(0.999)]\n",
      "--- Iteration 50: Training loss --- [Data, Label, Total] = [71386.562748.3, 73.896129.3, 357006.709868.3]\n",
      "!!! pred_type filter\n"
     ]
    },
    {
     "name": "stderr",
     "output_type": "stream",
     "text": [
      " 22%|█████████████████████████                                                                                           | 54/250 [00:08<00:30,  6.47it/s]"
     ]
    },
    {
     "name": "stdout",
     "output_type": "stream",
     "text": [
      "--- Validation --- [threshold, AUC, Accuracy, F score] =  [np.float64(0.582), np.float64(0.999), np.float64(0.989), np.float64(0.992)]\n"
     ]
    },
    {
     "name": "stderr",
     "output_type": "stream",
     "text": [
      " 24%|███████████████████████████▊                                                                                        | 60/250 [00:08<00:17, 10.62it/s]"
     ]
    },
    {
     "name": "stdout",
     "output_type": "stream",
     "text": [
      "--- Training --- [threshold, AUC] =  [np.float64(0.58), np.float64(0.999)]\n",
      "--- Iteration 60: Training loss --- [Data, Label, Total] = [71018.296952.3, 74.691498.3, 355166.176256.3]\n",
      "!!! pred_type filter\n"
     ]
    },
    {
     "name": "stderr",
     "output_type": "stream",
     "text": [
      " 26%|██████████████████████████████▏                                                                                     | 65/250 [00:09<00:25,  7.17it/s]"
     ]
    },
    {
     "name": "stdout",
     "output_type": "stream",
     "text": [
      "--- Validation --- [threshold, AUC, Accuracy, F score] =  [np.float64(0.58), np.float64(0.999), np.float64(0.989), np.float64(0.992)]\n"
     ]
    },
    {
     "name": "stderr",
     "output_type": "stream",
     "text": [
      " 27%|███████████████████████████████▌                                                                                    | 68/250 [00:09<00:19,  9.23it/s]"
     ]
    },
    {
     "name": "stdout",
     "output_type": "stream",
     "text": [
      "--- Training --- [threshold, AUC] =  [np.float64(0.569), np.float64(0.999)]\n",
      "--- Iteration 70: Training loss --- [Data, Label, Total] = [70740.195364.3, 75.098145.3, 353776.074967.3]\n",
      "!!! pred_type filter\n"
     ]
    },
    {
     "name": "stderr",
     "output_type": "stream",
     "text": [
      " 30%|██████████████████████████████████▎                                                                                 | 74/250 [00:10<00:25,  6.95it/s]"
     ]
    },
    {
     "name": "stdout",
     "output_type": "stream",
     "text": [
      "--- Validation --- [threshold, AUC, Accuracy, F score] =  [np.float64(0.569), np.float64(0.999), np.float64(0.989), np.float64(0.992)]\n"
     ]
    },
    {
     "name": "stderr",
     "output_type": "stream",
     "text": [
      " 32%|█████████████████████████████████████                                                                               | 80/250 [00:11<00:15, 10.78it/s]"
     ]
    },
    {
     "name": "stdout",
     "output_type": "stream",
     "text": [
      "--- Training --- [threshold, AUC] =  [np.float64(0.664), np.float64(0.999)]\n",
      "--- Iteration 80: Training loss --- [Data, Label, Total] = [70516.125955.3, 75.730754.3, 352656.360531.3]\n",
      "!!! pred_type filter\n"
     ]
    },
    {
     "name": "stderr",
     "output_type": "stream",
     "text": [
      " 34%|███████████████████████████████████████▍                                                                            | 85/250 [00:12<00:23,  6.94it/s]"
     ]
    },
    {
     "name": "stdout",
     "output_type": "stream",
     "text": [
      "--- Validation --- [threshold, AUC, Accuracy, F score] =  [np.float64(0.664), np.float64(0.999), np.float64(0.987), np.float64(0.991)]\n"
     ]
    },
    {
     "name": "stderr",
     "output_type": "stream",
     "text": [
      " 35%|████████████████████████████████████████▊                                                                           | 88/250 [00:12<00:18,  8.77it/s]"
     ]
    },
    {
     "name": "stdout",
     "output_type": "stream",
     "text": [
      "--- Training --- [threshold, AUC] =  [np.float64(0.661), np.float64(0.999)]\n",
      "--- Iteration 90: Training loss --- [Data, Label, Total] = [70334.945723.3, 76.114987.3, 351750.843601.3]\n",
      "!!! pred_type filter\n"
     ]
    },
    {
     "name": "stderr",
     "output_type": "stream",
     "text": [
      " 38%|███████████████████████████████████████████▌                                                                        | 94/250 [00:13<00:22,  6.89it/s]"
     ]
    },
    {
     "name": "stdout",
     "output_type": "stream",
     "text": [
      "--- Validation --- [threshold, AUC, Accuracy, F score] =  [np.float64(0.661), np.float64(0.999), np.float64(0.987), np.float64(0.991)]\n"
     ]
    },
    {
     "name": "stderr",
     "output_type": "stream",
     "text": [
      " 40%|██████████████████████████████████████████████                                                                     | 100/250 [00:13<00:13, 10.78it/s]"
     ]
    },
    {
     "name": "stdout",
     "output_type": "stream",
     "text": [
      "--- Training --- [threshold, AUC] =  [np.float64(0.665), np.float64(0.999)]\n",
      "--- Iteration 100: Training loss --- [Data, Label, Total] = [70189.224954.3, 76.606503.3, 351022.731275.3]\n",
      "!!! pred_type filter\n"
     ]
    },
    {
     "name": "stderr",
     "output_type": "stream",
     "text": [
      " 42%|████████████████████████████████████████████████▎                                                                  | 105/250 [00:14<00:20,  7.12it/s]"
     ]
    },
    {
     "name": "stdout",
     "output_type": "stream",
     "text": [
      "--- Validation --- [threshold, AUC, Accuracy, F score] =  [np.float64(0.665), np.float64(0.999), np.float64(0.987), np.float64(0.991)]\n"
     ]
    },
    {
     "name": "stderr",
     "output_type": "stream",
     "text": [
      " 43%|█████████████████████████████████████████████████▋                                                                 | 108/250 [00:15<00:15,  8.99it/s]"
     ]
    },
    {
     "name": "stdout",
     "output_type": "stream",
     "text": [
      "--- Training --- [threshold, AUC] =  [np.float64(0.663), np.float64(0.999)]\n",
      "--- Iteration 110: Training loss --- [Data, Label, Total] = [70070.919050.3, 77.110689.3, 350431.705939.3]\n",
      "!!! pred_type filter\n"
     ]
    },
    {
     "name": "stderr",
     "output_type": "stream",
     "text": [
      " 46%|████████████████████████████████████████████████████▍                                                              | 114/250 [00:16<00:18,  7.20it/s]"
     ]
    },
    {
     "name": "stdout",
     "output_type": "stream",
     "text": [
      "--- Validation --- [threshold, AUC, Accuracy, F score] =  [np.float64(0.663), np.float64(0.999), np.float64(0.987), np.float64(0.991)]\n"
     ]
    },
    {
     "name": "stderr",
     "output_type": "stream",
     "text": [
      " 48%|███████████████████████████████████████████████████████▏                                                           | 120/250 [00:16<00:11, 11.03it/s]"
     ]
    },
    {
     "name": "stdout",
     "output_type": "stream",
     "text": [
      "--- Training --- [threshold, AUC] =  [np.float64(0.693), np.float64(0.999)]\n",
      "--- Iteration 120: Training loss --- [Data, Label, Total] = [69973.408606.3, 77.275970.3, 349944.318999.3]\n",
      "!!! pred_type filter\n"
     ]
    },
    {
     "name": "stderr",
     "output_type": "stream",
     "text": [
      " 50%|█████████████████████████████████████████████████████████▌                                                         | 125/250 [00:17<00:18,  6.92it/s]"
     ]
    },
    {
     "name": "stdout",
     "output_type": "stream",
     "text": [
      "--- Validation --- [threshold, AUC, Accuracy, F score] =  [np.float64(0.693), np.float64(0.999), np.float64(0.987), np.float64(0.991)]\n"
     ]
    },
    {
     "name": "stderr",
     "output_type": "stream",
     "text": [
      " 52%|███████████████████████████████████████████████████████████▎                                                       | 129/250 [00:17<00:12,  9.40it/s]"
     ]
    },
    {
     "name": "stdout",
     "output_type": "stream",
     "text": [
      "--- Training --- [threshold, AUC] =  [np.float64(0.705), np.float64(0.999)]\n",
      "--- Iteration 130: Training loss --- [Data, Label, Total] = [69890.333620.3, 77.440687.3, 349529.108787.3]\n",
      "!!! pred_type filter\n"
     ]
    },
    {
     "name": "stderr",
     "output_type": "stream",
     "text": [
      " 53%|█████████████████████████████████████████████████████████████▏                                                     | 133/250 [00:19<00:22,  5.17it/s]"
     ]
    },
    {
     "name": "stdout",
     "output_type": "stream",
     "text": [
      "--- Validation --- [threshold, AUC, Accuracy, F score] =  [np.float64(0.705), np.float64(0.999), np.float64(0.986), np.float64(0.99)]\n"
     ]
    },
    {
     "name": "stderr",
     "output_type": "stream",
     "text": [
      " 56%|███████████████████████████████████████████████████████████████▉                                                   | 139/250 [00:19<00:11,  9.44it/s]"
     ]
    },
    {
     "name": "stdout",
     "output_type": "stream",
     "text": [
      "--- Training --- [threshold, AUC] =  [np.float64(0.704), np.float64(0.999)]\n",
      "--- Iteration 140: Training loss --- [Data, Label, Total] = [69815.966217.3, 77.635018.3, 349157.466104.3]\n",
      "!!! pred_type filter\n"
     ]
    },
    {
     "name": "stderr",
     "output_type": "stream",
     "text": [
      " 58%|██████████████████████████████████████████████████████████████████▏                                                | 144/250 [00:20<00:17,  5.99it/s]"
     ]
    },
    {
     "name": "stdout",
     "output_type": "stream",
     "text": [
      "--- Validation --- [threshold, AUC, Accuracy, F score] =  [np.float64(0.704), np.float64(0.999), np.float64(0.986), np.float64(0.99)]\n"
     ]
    },
    {
     "name": "stderr",
     "output_type": "stream",
     "text": [
      " 60%|█████████████████████████████████████████████████████████████████████                                              | 150/250 [00:21<00:09, 10.32it/s]"
     ]
    },
    {
     "name": "stdout",
     "output_type": "stream",
     "text": [
      "--- Training --- [threshold, AUC] =  [np.float64(0.703), np.float64(0.999)]\n",
      "--- Iteration 150: Training loss --- [Data, Label, Total] = [69746.890215.3, 77.847260.3, 348812.298336.3]\n",
      "!!! pred_type filter\n"
     ]
    },
    {
     "name": "stderr",
     "output_type": "stream",
     "text": [
      " 62%|███████████████████████████████████████████████████████████████████████▎                                           | 155/250 [00:22<00:13,  7.04it/s]"
     ]
    },
    {
     "name": "stdout",
     "output_type": "stream",
     "text": [
      "--- Validation --- [threshold, AUC, Accuracy, F score] =  [np.float64(0.703), np.float64(0.999), np.float64(0.986), np.float64(0.99)]\n"
     ]
    },
    {
     "name": "stderr",
     "output_type": "stream",
     "text": [
      " 63%|████████████████████████████████████████████████████████████████████████▋                                          | 158/250 [00:22<00:10,  9.05it/s]"
     ]
    },
    {
     "name": "stdout",
     "output_type": "stream",
     "text": [
      "--- Training --- [threshold, AUC] =  [np.float64(0.705), np.float64(0.999)]\n",
      "--- Iteration 160: Training loss --- [Data, Label, Total] = [69681.672218.3, 77.915285.3, 348486.276374.3]\n",
      "!!! pred_type filter\n"
     ]
    },
    {
     "name": "stderr",
     "output_type": "stream",
     "text": [
      " 66%|███████████████████████████████████████████████████████████████████████████▍                                       | 164/250 [00:23<00:12,  6.94it/s]"
     ]
    },
    {
     "name": "stdout",
     "output_type": "stream",
     "text": [
      "--- Validation --- [threshold, AUC, Accuracy, F score] =  [np.float64(0.705), np.float64(0.999), np.float64(0.986), np.float64(0.99)]\n"
     ]
    },
    {
     "name": "stderr",
     "output_type": "stream",
     "text": [
      " 68%|██████████████████████████████████████████████████████████████████████████████▏                                    | 170/250 [00:23<00:07, 10.84it/s]"
     ]
    },
    {
     "name": "stdout",
     "output_type": "stream",
     "text": [
      "--- Training --- [threshold, AUC] =  [np.float64(0.706), np.float64(0.999)]\n",
      "--- Iteration 170: Training loss --- [Data, Label, Total] = [69619.810695.3, 77.735189.3, 348176.788665.3]\n",
      "!!! pred_type filter\n"
     ]
    },
    {
     "name": "stderr",
     "output_type": "stream",
     "text": [
      " 69%|███████████████████████████████████████████████████████████████████████████████                                    | 172/250 [00:25<00:14,  5.32it/s]"
     ]
    },
    {
     "name": "stdout",
     "output_type": "stream",
     "text": [
      "--- Validation --- [threshold, AUC, Accuracy, F score] =  [np.float64(0.706), np.float64(0.999), np.float64(0.986), np.float64(0.99)]\n"
     ]
    },
    {
     "name": "stderr",
     "output_type": "stream",
     "text": [
      " 72%|██████████████████████████████████████████████████████████████████████████████████▊                                | 180/250 [00:25<00:08,  8.17it/s]"
     ]
    },
    {
     "name": "stdout",
     "output_type": "stream",
     "text": [
      "--- Training --- [threshold, AUC] =  [np.float64(0.704), np.float64(0.999)]\n",
      "--- Iteration 180: Training loss --- [Data, Label, Total] = [69562.547801.3, 78.203067.3, 347890.942071.3]\n",
      "!!! pred_type filter\n"
     ]
    },
    {
     "name": "stderr",
     "output_type": "stream",
     "text": [
      " 74%|████████████████████████████████████████████████████████████████████████████████████▋                              | 184/250 [00:27<00:17,  3.80it/s]"
     ]
    },
    {
     "name": "stdout",
     "output_type": "stream",
     "text": [
      "--- Validation --- [threshold, AUC, Accuracy, F score] =  [np.float64(0.704), np.float64(0.999), np.float64(0.986), np.float64(0.99)]\n"
     ]
    },
    {
     "name": "stderr",
     "output_type": "stream",
     "text": [
      " 76%|███████████████████████████████████████████████████████████████████████████████████████▍                           | 190/250 [00:28<00:08,  7.29it/s]"
     ]
    },
    {
     "name": "stdout",
     "output_type": "stream",
     "text": [
      "--- Training --- [threshold, AUC] =  [np.float64(0.701), np.float64(0.999)]\n",
      "--- Iteration 190: Training loss --- [Data, Label, Total] = [69511.734411.3, 77.717389.3, 347636.389445.3]\n",
      "!!! pred_type filter\n"
     ]
    },
    {
     "name": "stderr",
     "output_type": "stream",
     "text": [
      " 78%|█████████████████████████████████████████████████████████████████████████████████████████▋                         | 195/250 [00:29<00:10,  5.39it/s]"
     ]
    },
    {
     "name": "stdout",
     "output_type": "stream",
     "text": [
      "--- Validation --- [threshold, AUC, Accuracy, F score] =  [np.float64(0.701), np.float64(0.999), np.float64(0.986), np.float64(0.99)]\n"
     ]
    },
    {
     "name": "stderr",
     "output_type": "stream",
     "text": [
      " 79%|███████████████████████████████████████████████████████████████████████████████████████████                        | 198/250 [00:29<00:07,  7.35it/s]"
     ]
    },
    {
     "name": "stdout",
     "output_type": "stream",
     "text": [
      "--- Training --- [threshold, AUC] =  [np.float64(0.692), np.float64(0.999)]\n",
      "--- Iteration 200: Training loss --- [Data, Label, Total] = [69468.579175.3, 77.454975.3, 347420.350850.3]\n",
      "!!! pred_type filter\n"
     ]
    },
    {
     "name": "stderr",
     "output_type": "stream",
     "text": [
      " 82%|█████████████████████████████████████████████████████████████████████████████████████████████▊                     | 204/250 [00:30<00:06,  6.64it/s]"
     ]
    },
    {
     "name": "stdout",
     "output_type": "stream",
     "text": [
      "--- Validation --- [threshold, AUC, Accuracy, F score] =  [np.float64(0.692), np.float64(0.999), np.float64(0.987), np.float64(0.991)]\n"
     ]
    },
    {
     "name": "stderr",
     "output_type": "stream",
     "text": [
      " 84%|████████████████████████████████████████████████████████████████████████████████████████████████▌                  | 210/250 [00:31<00:03, 10.40it/s]"
     ]
    },
    {
     "name": "stdout",
     "output_type": "stream",
     "text": [
      "--- Training --- [threshold, AUC] =  [np.float64(0.691), np.float64(0.999)]\n",
      "--- Iteration 210: Training loss --- [Data, Label, Total] = [69429.955525.3, 77.423228.3, 347227.200852.3]\n",
      "!!! pred_type filter\n"
     ]
    },
    {
     "name": "stderr",
     "output_type": "stream",
     "text": [
      " 86%|██████████████████████████████████████████████████████████████████████████████████████████████████▍                | 214/250 [00:32<00:06,  5.23it/s]"
     ]
    },
    {
     "name": "stdout",
     "output_type": "stream",
     "text": [
      "--- Validation --- [threshold, AUC, Accuracy, F score] =  [np.float64(0.691), np.float64(0.999), np.float64(0.987), np.float64(0.991)]\n"
     ]
    },
    {
     "name": "stderr",
     "output_type": "stream",
     "text": [
      " 88%|█████████████████████████████████████████████████████████████████████████████████████████████████████▏             | 220/250 [00:33<00:03,  8.23it/s]"
     ]
    },
    {
     "name": "stdout",
     "output_type": "stream",
     "text": [
      "--- Training --- [threshold, AUC] =  [np.float64(0.691), np.float64(0.999)]\n",
      "--- Iteration 220: Training loss --- [Data, Label, Total] = [69394.621776.3, 77.204878.3, 347050.313757.3]\n",
      "!!! pred_type filter\n"
     ]
    },
    {
     "name": "stderr",
     "output_type": "stream",
     "text": [
      " 90%|███████████████████████████████████████████████████████████████████████████████████████████████████████            | 224/250 [00:34<00:05,  4.42it/s]"
     ]
    },
    {
     "name": "stdout",
     "output_type": "stream",
     "text": [
      "--- Validation --- [threshold, AUC, Accuracy, F score] =  [np.float64(0.691), np.float64(0.999), np.float64(0.987), np.float64(0.991)]\n"
     ]
    },
    {
     "name": "stderr",
     "output_type": "stream",
     "text": [
      " 92%|█████████████████████████████████████████████████████████████████████████████████████████████████████████▊         | 230/250 [00:35<00:02,  8.44it/s]"
     ]
    },
    {
     "name": "stdout",
     "output_type": "stream",
     "text": [
      "--- Training --- [threshold, AUC] =  [np.float64(0.69), np.float64(0.999)]\n",
      "--- Iteration 230: Training loss --- [Data, Label, Total] = [69361.890643.3, 77.066024.3, 346886.519236.3]\n",
      "!!! pred_type filter\n"
     ]
    },
    {
     "name": "stderr",
     "output_type": "stream",
     "text": [
      " 94%|███████████████████████████████████████████████████████████████████████████████████████████████████████████▋       | 234/250 [00:36<00:03,  5.09it/s]"
     ]
    },
    {
     "name": "stdout",
     "output_type": "stream",
     "text": [
      "--- Validation --- [threshold, AUC, Accuracy, F score] =  [np.float64(0.69), np.float64(0.999), np.float64(0.987), np.float64(0.991)]\n"
     ]
    },
    {
     "name": "stderr",
     "output_type": "stream",
     "text": [
      " 96%|██████████████████████████████████████████████████████████████████████████████████████████████████████████████▍    | 240/250 [00:36<00:01,  7.29it/s]"
     ]
    },
    {
     "name": "stdout",
     "output_type": "stream",
     "text": [
      "--- Training --- [threshold, AUC] =  [np.float64(0.689), np.float64(0.999)]\n",
      "--- Iteration 240: Training loss --- [Data, Label, Total] = [69331.222835.3, 76.785923.3, 346732.900101.3]\n",
      "!!! pred_type filter\n"
     ]
    },
    {
     "name": "stderr",
     "output_type": "stream",
     "text": [
      " 97%|███████████████████████████████████████████████████████████████████████████████████████████████████████████████▎   | 242/250 [00:38<00:02,  3.15it/s]"
     ]
    },
    {
     "name": "stdout",
     "output_type": "stream",
     "text": [
      "--- Validation --- [threshold, AUC, Accuracy, F score] =  [np.float64(0.689), np.float64(0.999), np.float64(0.987), np.float64(0.991)]\n"
     ]
    },
    {
     "name": "stderr",
     "output_type": "stream",
     "text": [
      "100%|███████████████████████████████████████████████████████████████████████████████████████████████████████████████████| 250/250 [00:39<00:00,  6.39it/s]\n"
     ]
    },
    {
     "name": "stdout",
     "output_type": "stream",
     "text": [
      "!!! pred_type filter\n",
      "num of subgraphs induced on k-paths: 500\n",
      "num of subgraphs induced on k-paths: 500\n",
      "X_list: (841, 1000)\n",
      "2\n",
      "(1, 500)\n",
      "(1, 500)\n",
      "label_vec: (1, 1000)\n",
      "num of subgraphs induced on k-paths: 500\n",
      "num of subgraphs induced on k-paths: 500\n",
      "X_list: (841, 1000)\n",
      "2\n",
      "(1, 500)\n",
      "(1, 500)\n",
      "label_vec: (1, 1000)\n"
     ]
    }
   ],
   "source": [
    "for i in range(25,30):\n",
    "    print(i)\n",
    "    accu.append(roc.run(i))"
   ]
  },
  {
   "cell_type": "code",
   "execution_count": 12,
   "id": "50dd881d-dadb-4ead-9959-209cf36bbc28",
   "metadata": {},
   "outputs": [],
   "source": [
    "accu1 = [(i[0]+i[1])/2 for i in accu]\n",
    "accu2 = [(i[1]) for i in accu]\n",
    "thresholds = [i[2] for i in accu]"
   ]
  },
  {
   "cell_type": "code",
   "execution_count": 8,
   "id": "f136b27d-c88b-4a74-a2f4-811c3c37be51",
   "metadata": {},
   "outputs": [
    {
     "name": "stdout",
     "output_type": "stream",
     "text": [
      "[(0.66, np.float64(0.5896782597761276)), (0.6527777777777778, np.float64(0.5854106298331747)), (0.7755102040816326, np.float64(0.5985817197038559)), (0.8125, np.float64(0.6272408655316082)), (0.7530864197530864, np.float64(0.6550270065415502)), (0.83, np.float64(0.6844158713244738)), (0.8677685950413223, np.float64(0.6516220803863212)), (0.8715277777777778, np.float64(0.6342119476636721)), (0.8905325443786982, np.float64(0.6693580810125822)), (0.9056122448979592, np.float64(0.725431063258982)), (0.9155555555555556, np.float64(0.6795224224060014)), (0.92578125, np.float64(0.6581307191723071)), (0.9273356401384083, np.float64(0.7244647952238488)), (0.9552469135802469, np.float64(0.7767315959163062)), (0.9653739612188366, np.float64(0.8083448228448927)), (0.96, np.float64(0.7260192912753458)), (0.9671201814058957, np.float64(0.7090506918139318)), (0.9741735537190083, np.float64(0.7510073251958777)), (0.9744801512287334, np.float64(0.7376471920033186)), (0.9800347222222222, np.float64(0.7441021587189839)), (0.9784, np.float64(0.7123889530692293)), (0.9829881656804734, np.float64(0.6756761555459365)), (0.9766803840877915, np.float64(0.7728596340915078)), (0.9846938775510204, np.float64(0.6280560019727474)), (0.9892984542211652, np.float64(0.6866018879897574))]\n"
     ]
    }
   ],
   "source": [
    "print(accu)"
   ]
  },
  {
   "cell_type": "code",
   "execution_count": 9,
   "id": "f83312ae-17cf-4fb6-a752-f0cd203faa3e",
   "metadata": {},
   "outputs": [],
   "source": [
    "accu1 = [i[0] for i in accu]\n",
    "thresholds = [i[1] for i in accu]"
   ]
  },
  {
   "cell_type": "code",
   "execution_count": 12,
   "id": "b87f9ca9-b889-4716-a5d0-a2fb0b82c9b9",
   "metadata": {},
   "outputs": [
    {
     "data": {
      "image/png": "[encoded data removed]",
      "text/plain": [
       "<Figure size 640x480 with 1 Axes>"
      ]
     },
     "metadata": {},
     "output_type": "display_data"
    }
   ],
   "source": [
    "x_values = np.arange(5,30)\n",
    "plt.plot(x_values, accu1, label='Accuracy 1')\n",
    "# plt.plot(x_values, accu2, label='Accuracy 2')\n",
    "plt.plot(x_values, thresholds, label='Thresholds')\n",
    "\n",
    "plt.legend()\n",
    "plt.show()"
   ]
  },
  {
   "cell_type": "code",
   "execution_count": null,
   "id": "7e9d855a-a5e8-4fbe-b874-63c0cec3d47b",
   "metadata": {},
   "outputs": [],
   "source": []
  }
 ],
 "metadata": {
  "kernelspec": {
   "display_name": "Python 3 (ipykernel)",
   "language": "python",
   "name": "python3"
  },
  "language_info": {
   "codemirror_mode": {
    "name": "ipython",
    "version": 3
   },
   "file_extension": ".py",
   "mimetype": "text/x-python",
   "name": "python",
   "nbconvert_exporter": "python",
   "pygments_lexer": "ipython3",
   "version": "3.12.4"
  }
 },
 "nbformat": 4,
 "nbformat_minor": 5
}
